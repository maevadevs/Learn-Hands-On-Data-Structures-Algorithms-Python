{
 "cells": [
  {
   "attachments": {},
   "cell_type": "markdown",
   "metadata": {},
   "source": [
    "# Tuples Example\n"
   ]
  },
  {
   "cell_type": "code",
   "execution_count": 1,
   "metadata": {},
   "outputs": [
    {
     "name": "stdout",
     "output_type": "stream",
     "text": [
      "Type of tuple t is  <class 'tuple'>\n"
     ]
    }
   ],
   "source": [
    "# Create an empty tuple\n",
    "t: tuple = tuple()\n",
    "print(\"Type of tuple t is \", type(t))\n"
   ]
  },
  {
   "cell_type": "code",
   "execution_count": 2,
   "metadata": {},
   "outputs": [
    {
     "name": "stdout",
     "output_type": "stream",
     "text": [
      "Tuple t is ('a',)\n",
      "Type of t is  <class 'tuple'>\n"
     ]
    }
   ],
   "source": [
    "# Create a tuple with 1 element\n",
    "t = (\"a\",)\n",
    "print(\"Tuple t is\", t)\n",
    "print(\"Type of t is \", type(t))\n"
   ]
  },
  {
   "cell_type": "code",
   "execution_count": 3,
   "metadata": {},
   "outputs": [
    {
     "name": "stdout",
     "output_type": "stream",
     "text": [
      "Another tuple tpl: ('a', 'b', 'c')\n",
      "Another way to create a tuple ('s', 'e', 'q', 'u', 'e', 'n', 'c', 'e')\n"
     ]
    }
   ],
   "source": [
    "tpl: tuple[str, ...] = (\"a\", \"b\", \"c\")\n",
    "print(\"Another tuple tpl:\", tpl)\n",
    "print(\"Another way to create a tuple\", tuple(\"sequence\"))\n"
   ]
  },
  {
   "cell_type": "code",
   "execution_count": 4,
   "metadata": {},
   "outputs": [
    {
     "name": "stdout",
     "output_type": "stream",
     "text": [
      "Value of element x in tuple is a\n",
      "Value of element y in tuple is b\n",
      "Value of element z in tuple is c\n"
     ]
    }
   ],
   "source": [
    "x: str\n",
    "y: str\n",
    "z: str\n",
    "\n",
    "# Multiple assignment\n",
    "x, y, z = tpl\n",
    "print(\"Value of element x in tuple is\", x)\n",
    "print(\"Value of element y in tuple is\", y)\n",
    "print(\"Value of element z in tuple is\", z)\n"
   ]
  },
  {
   "cell_type": "code",
   "execution_count": 5,
   "metadata": {},
   "outputs": [
    {
     "name": "stdout",
     "output_type": "stream",
     "text": [
      "True\n",
      "False\n"
     ]
    }
   ],
   "source": [
    "# Membership can be tested\n",
    "print(\"a\" in tpl)\n",
    "print(\"z\" in tpl)\n"
   ]
  },
  {
   "cell_type": "code",
   "execution_count": 6,
   "metadata": {},
   "outputs": [
    {
     "name": "stdout",
     "output_type": "stream",
     "text": [
      "Tuple value at index 1 is 2\n",
      "Tuple[1:3] is  (2, 3)\n"
     ]
    }
   ],
   "source": [
    "# Braces are optional\n",
    "tupl: tuple[int, ...] = 1, 2, 3, 4, 5\n",
    "print(\"Tuple value at index 1 is\", tupl[1])\n",
    "print(\"Tuple[1:3] is \", tupl[1:3])\n"
   ]
  },
  {
   "cell_type": "code",
   "execution_count": 7,
   "metadata": {},
   "outputs": [
    {
     "name": "stdout",
     "output_type": "stream",
     "text": [
      "Tuple concatenation (1, 2, 3, 4, 5, 11, 12, 13)\n",
      "Tuple repetition is (1, 2, 3, 4, 5, 1, 2, 3, 4, 5)\n",
      "membership test True\n"
     ]
    }
   ],
   "source": [
    "# Tuple concatenation & repetition\n",
    "tupl2: tuple[int, ...] = (11, 12, 13)\n",
    "tupl3: tuple[int, ...] = tupl + tupl2\n",
    "\n",
    "print(\"Tuple concatenation\", tupl3)\n",
    "print(\"Tuple repetition is\", tupl * 2)\n",
    "print(\"membership test\", 5 in tupl)\n"
   ]
  },
  {
   "cell_type": "code",
   "execution_count": 8,
   "metadata": {},
   "outputs": [
    {
     "name": "stdout",
     "output_type": "stream",
     "text": [
      "Tuple negative indexing 5\n"
     ]
    }
   ],
   "source": [
    "# Tuple Negative Indexing\n",
    "print(\"Tuple negative indexing\", tupl[-1])\n"
   ]
  },
  {
   "cell_type": "code",
   "execution_count": 9,
   "metadata": {},
   "outputs": [
    {
     "name": "stdout",
     "output_type": "stream",
     "text": [
      "Length of tuple is  5\n",
      "Maximum value in tuple is 5\n",
      "Minimum value in tuple is 1\n"
     ]
    }
   ],
   "source": [
    "# Tuple Functions\n",
    "print(\"Length of tuple is \", len(tupl))\n",
    "print(\"Maximum value in tuple is\", max(tupl))\n",
    "print(\"Minimum value in tuple is\", min(tupl))\n"
   ]
  },
  {
   "cell_type": "code",
   "execution_count": 10,
   "metadata": {},
   "outputs": [
    {
     "name": "stdout",
     "output_type": "stream",
     "text": [
      "False\n",
      "False\n"
     ]
    }
   ],
   "source": [
    "# Comparison\n",
    "print(tupl == tupl2)\n",
    "print(tupl > tupl2)\n"
   ]
  }
 ],
 "metadata": {
  "hide_input": false,
  "kernelspec": {
   "display_name": "Python 3 (ipykernel)",
   "language": "python",
   "name": "python3"
  },
  "language_info": {
   "codemirror_mode": {
    "name": "ipython",
    "version": 3
   },
   "file_extension": ".py",
   "mimetype": "text/x-python",
   "name": "python",
   "nbconvert_exporter": "python",
   "pygments_lexer": "ipython3",
   "version": "3.11.3"
  },
  "toc": {
   "base_numbering": 1,
   "nav_menu": {},
   "number_sections": false,
   "sideBar": false,
   "skip_h1_title": false,
   "title_cell": "Table of Contents",
   "title_sidebar": "Contents",
   "toc_cell": false,
   "toc_position": {
    "height": "calc(100% - 180px)",
    "left": "10px",
    "top": "150px",
    "width": "256px"
   },
   "toc_section_display": false,
   "toc_window_display": false
  },
  "varInspector": {
   "cols": {
    "lenName": 16,
    "lenType": 16,
    "lenVar": 40
   },
   "kernels_config": {
    "python": {
     "delete_cmd_postfix": "",
     "delete_cmd_prefix": "del ",
     "library": "var_list.py",
     "varRefreshCmd": "print(var_dic_list())"
    },
    "r": {
     "delete_cmd_postfix": ") ",
     "delete_cmd_prefix": "rm(",
     "library": "var_list.r",
     "varRefreshCmd": "cat(var_dic_list()) "
    }
   },
   "types_to_exclude": [
    "module",
    "function",
    "builtin_function_or_method",
    "instance",
    "_Feature"
   ],
   "window_display": false
  }
 },
 "nbformat": 4,
 "nbformat_minor": 4
}
