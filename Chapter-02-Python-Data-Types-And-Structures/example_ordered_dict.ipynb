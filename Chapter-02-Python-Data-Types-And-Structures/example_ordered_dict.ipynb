{
 "cells": [
  {
   "attachments": {},
   "cell_type": "markdown",
   "metadata": {},
   "source": [
    "# Ordered List Example\n"
   ]
  },
  {
   "cell_type": "code",
   "execution_count": 1,
   "metadata": {},
   "outputs": [
    {
     "name": "stdout",
     "output_type": "stream",
     "text": [
      "Print if two list are equal or not -- False\n"
     ]
    }
   ],
   "source": [
    "from collections import OrderedDict\n",
    "\n",
    "od1: OrderedDict[str, int] = OrderedDict()\n",
    "od1[\"one\"] = 1\n",
    "od1[\"two\"] = 2\n",
    "\n",
    "od2: OrderedDict[str, int] = OrderedDict()\n",
    "od2[\"two\"] = 2\n",
    "od2[\"one\"] = 1\n",
    "\n",
    "print(\"Print if two list are equal or not --\", od1 == od2)\n"
   ]
  },
  {
   "cell_type": "code",
   "execution_count": 2,
   "metadata": {},
   "outputs": [
    {
     "name": "stdout",
     "output_type": "stream",
     "text": [
      "print updated ordered list OrderedDict([('one', 1), ('two', 2), ('three', 3), ('four', 4), ('five', 5)])\n"
     ]
    }
   ],
   "source": [
    "kvs: list[tuple[str, int]] = [(\"three\", 3), (\"four\", 4), (\"five\", 5)]\n",
    "od1.update(kvs)\n",
    "print(\"print updated ordered list\", od1)\n"
   ]
  },
  {
   "cell_type": "code",
   "execution_count": 3,
   "metadata": {},
   "outputs": [
    {
     "name": "stdout",
     "output_type": "stream",
     "text": [
      "one 1\n",
      "two 2\n",
      "three 3\n",
      "four 4\n",
      "five 5\n"
     ]
    }
   ],
   "source": [
    "# print all the items of ordered list 1:\n",
    "for k, v in od1.items():\n",
    "    print(k, v)\n"
   ]
  },
  {
   "cell_type": "code",
   "execution_count": 4,
   "metadata": {},
   "outputs": [
    {
     "name": "stdout",
     "output_type": "stream",
     "text": [
      "print ordered list OrderedDict([('five', 5), ('four', 4), ('one', 1), ('three', 3), ('two', 2)])\n",
      "print ordered list values - odict_values([5, 4, 1, 3, 2])\n"
     ]
    }
   ],
   "source": [
    "od3: OrderedDict[str, int] = OrderedDict(\n",
    "    sorted(od1.items(), key=lambda t: (4 * t[1]) - t[1] ** 2)\n",
    ")\n",
    "\n",
    "print(\"print ordered list\", od3)\n",
    "print(\"print ordered list values -\", od3.values())\n"
   ]
  }
 ],
 "metadata": {
  "hide_input": false,
  "kernelspec": {
   "display_name": "Python 3 (ipykernel)",
   "language": "python",
   "name": "python3"
  },
  "language_info": {
   "codemirror_mode": {
    "name": "ipython",
    "version": 3
   },
   "file_extension": ".py",
   "mimetype": "text/x-python",
   "name": "python",
   "nbconvert_exporter": "python",
   "pygments_lexer": "ipython3",
   "version": "3.11.3"
  },
  "toc": {
   "base_numbering": 1,
   "nav_menu": {},
   "number_sections": false,
   "sideBar": false,
   "skip_h1_title": false,
   "title_cell": "Table of Contents",
   "title_sidebar": "Contents",
   "toc_cell": false,
   "toc_position": {},
   "toc_section_display": false,
   "toc_window_display": false
  },
  "varInspector": {
   "cols": {
    "lenName": 16,
    "lenType": 16,
    "lenVar": 40
   },
   "kernels_config": {
    "python": {
     "delete_cmd_postfix": "",
     "delete_cmd_prefix": "del ",
     "library": "var_list.py",
     "varRefreshCmd": "print(var_dic_list())"
    },
    "r": {
     "delete_cmd_postfix": ") ",
     "delete_cmd_prefix": "rm(",
     "library": "var_list.r",
     "varRefreshCmd": "cat(var_dic_list()) "
    }
   },
   "types_to_exclude": [
    "module",
    "function",
    "builtin_function_or_method",
    "instance",
    "_Feature"
   ],
   "window_display": false
  }
 },
 "nbformat": 4,
 "nbformat_minor": 4
}
