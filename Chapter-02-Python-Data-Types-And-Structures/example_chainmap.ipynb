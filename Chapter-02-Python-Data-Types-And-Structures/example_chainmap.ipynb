{
 "cells": [
  {
   "attachments": {},
   "cell_type": "markdown",
   "metadata": {},
   "source": [
    "# Chainmap Example\n"
   ]
  },
  {
   "cell_type": "code",
   "execution_count": 1,
   "metadata": {},
   "outputs": [],
   "source": [
    "# Importing the modules\n",
    "from collections import ChainMap\n",
    "\n",
    "# 2 Dictionaries\n",
    "dict1: dict[str, int] = {\"a\": 1, \"b\": 2, \"c\": 3}\n",
    "dict2: dict[str, int] = {\"d\": 4, \"e\": 5}\n",
    "\n",
    "# linking 2 dictionaries\n",
    "chainmap: ChainMap[str, int] = ChainMap(dict1, dict2)\n"
   ]
  },
  {
   "cell_type": "code",
   "execution_count": 2,
   "metadata": {},
   "outputs": [
    {
     "name": "stdout",
     "output_type": "stream",
     "text": [
      "Print two lined dictionaries: ChainMap({'a': 1, 'b': 2, 'c': 3}, {'d': 4, 'e': 5})\n"
     ]
    }
   ],
   "source": [
    "print(\"Print two lined dictionaries:\", chainmap)\n"
   ]
  },
  {
   "cell_type": "code",
   "execution_count": 3,
   "metadata": {},
   "outputs": [
    {
     "name": "stdout",
     "output_type": "stream",
     "text": [
      "Print maps for chainmap: [{'a': 1, 'b': 2, 'c': 3}, {'d': 4, 'e': 5}]\n"
     ]
    }
   ],
   "source": [
    "print(\"Print maps for chainmap:\", chainmap.maps)\n"
   ]
  },
  {
   "cell_type": "code",
   "execution_count": 4,
   "metadata": {},
   "outputs": [
    {
     "name": "stdout",
     "output_type": "stream",
     "text": [
      "Print values for chainmap: <bound method Mapping.values of ChainMap({'a': 1, 'b': 2, 'c': 3}, {'d': 4, 'e': 5})>\n"
     ]
    }
   ],
   "source": [
    "print(\"Print values for chainmap:\", chainmap.values)\n"
   ]
  },
  {
   "cell_type": "code",
   "execution_count": 5,
   "metadata": {},
   "outputs": [
    {
     "name": "stdout",
     "output_type": "stream",
     "text": [
      "Print value for key 'b': 2\n"
     ]
    }
   ],
   "source": [
    "print(\n",
    "    \"Print value for key 'b':\", chainmap[\"b\"]\n",
    ")  # Accessing values from the first dictionary\n"
   ]
  },
  {
   "cell_type": "code",
   "execution_count": 6,
   "metadata": {},
   "outputs": [
    {
     "name": "stdout",
     "output_type": "stream",
     "text": [
      "Print value for key 'e': 5\n"
     ]
    }
   ],
   "source": [
    "print(\n",
    "    \"Print value for key 'e':\", chainmap[\"e\"]\n",
    ")  # Accessing values from the second dictionary\n"
   ]
  },
  {
   "cell_type": "code",
   "execution_count": 7,
   "metadata": {},
   "outputs": [],
   "source": [
    "# Create a chainMap with defaults configuration\n",
    "cm: ChainMap[str, str | bool] = ChainMap(\n",
    "    {\"theme\": \"Default\", \"language\": \"eng\", \"showIndex\": True, \"showFooter\": True}\n",
    ")\n"
   ]
  },
  {
   "cell_type": "code",
   "execution_count": 8,
   "metadata": {},
   "outputs": [
    {
     "name": "stdout",
     "output_type": "stream",
     "text": [
      "Print maps for chainmap: [{'theme': 'Default', 'language': 'eng', 'showIndex': True, 'showFooter': True}]\n"
     ]
    }
   ],
   "source": [
    "print(\"Print maps for chainmap:\", cm.maps)\n"
   ]
  },
  {
   "cell_type": "code",
   "execution_count": 9,
   "metadata": {},
   "outputs": [
    {
     "name": "stdout",
     "output_type": "stream",
     "text": [
      "Print values for chainmap: ValuesView(ChainMap({'theme': 'Default', 'language': 'eng', 'showIndex': True, 'showFooter': True}))\n"
     ]
    }
   ],
   "source": [
    "print(\"Print values for chainmap:\", cm.values())\n"
   ]
  },
  {
   "cell_type": "code",
   "execution_count": 10,
   "metadata": {},
   "outputs": [],
   "source": [
    "# Create a new chainMap with a child that overrides the parent.\n",
    "cm2: ChainMap[str, str | bool] = cm.new_child({\"theme\": \"bluesky\", \"color\": \"blue\"})\n"
   ]
  },
  {
   "cell_type": "code",
   "execution_count": 11,
   "metadata": {},
   "outputs": [
    {
     "name": "stdout",
     "output_type": "stream",
     "text": [
      "Print value for a value theme is: bluesky\n"
     ]
    }
   ],
   "source": [
    "print(\"Print value for a value theme is:\", cm2[\"theme\"])  # Returns the overridden theme\n"
   ]
  },
  {
   "cell_type": "code",
   "execution_count": 12,
   "metadata": {},
   "outputs": [
    {
     "name": "stdout",
     "output_type": "stream",
     "text": [
      "Print the entry for 'theme' key: bluesky\n"
     ]
    }
   ],
   "source": [
    "print(\n",
    "    \"Print the entry for 'theme' key:\", cm2.pop(\"theme\")\n",
    ")  # Removes the child theme value\n"
   ]
  },
  {
   "cell_type": "code",
   "execution_count": 13,
   "metadata": {},
   "outputs": [
    {
     "name": "stdout",
     "output_type": "stream",
     "text": [
      "Print updated chainmap: Default\n"
     ]
    }
   ],
   "source": [
    "print(\"Print updated chainmap:\", cm2[\"theme\"])\n"
   ]
  },
  {
   "cell_type": "code",
   "execution_count": 14,
   "metadata": {},
   "outputs": [
    {
     "name": "stdout",
     "output_type": "stream",
     "text": [
      "Print newly added property: blue\n"
     ]
    }
   ],
   "source": [
    "print(\"Print newly added property:\", cm2[\"color\"])\n"
   ]
  },
  {
   "cell_type": "code",
   "execution_count": 15,
   "metadata": {},
   "outputs": [
    {
     "name": "stdout",
     "output_type": "stream",
     "text": [
      "Print maps for another chainmap: [{'color': 'blue'}, {'theme': 'Default', 'language': 'eng', 'showIndex': True, 'showFooter': True}]\n"
     ]
    }
   ],
   "source": [
    "print(\"Print maps for another chainmap:\", cm2.maps)\n"
   ]
  },
  {
   "cell_type": "code",
   "execution_count": 16,
   "metadata": {},
   "outputs": [
    {
     "name": "stdout",
     "output_type": "stream",
     "text": [
      "Print parent of chainmap2: ChainMap({'theme': 'Default', 'language': 'eng', 'showIndex': True, 'showFooter': True})\n"
     ]
    }
   ],
   "source": [
    "print(\"Print parent of chainmap2:\", cm2.parents)\n"
   ]
  }
 ],
 "metadata": {
  "hide_input": false,
  "kernelspec": {
   "display_name": "Python 3 (ipykernel)",
   "language": "python",
   "name": "python3"
  },
  "language_info": {
   "codemirror_mode": {
    "name": "ipython",
    "version": 3
   },
   "file_extension": ".py",
   "mimetype": "text/x-python",
   "name": "python",
   "nbconvert_exporter": "python",
   "pygments_lexer": "ipython3",
   "version": "3.11.3"
  },
  "toc": {
   "base_numbering": 1,
   "nav_menu": {},
   "number_sections": false,
   "sideBar": false,
   "skip_h1_title": false,
   "title_cell": "Table of Contents",
   "title_sidebar": "Contents",
   "toc_cell": false,
   "toc_position": {
    "height": "calc(100% - 180px)",
    "left": "10px",
    "top": "150px",
    "width": "256px"
   },
   "toc_section_display": false,
   "toc_window_display": false
  },
  "varInspector": {
   "cols": {
    "lenName": 16,
    "lenType": 16,
    "lenVar": 40
   },
   "kernels_config": {
    "python": {
     "delete_cmd_postfix": "",
     "delete_cmd_prefix": "del ",
     "library": "var_list.py",
     "varRefreshCmd": "print(var_dic_list())"
    },
    "r": {
     "delete_cmd_postfix": ") ",
     "delete_cmd_prefix": "rm(",
     "library": "var_list.r",
     "varRefreshCmd": "cat(var_dic_list()) "
    }
   },
   "types_to_exclude": [
    "module",
    "function",
    "builtin_function_or_method",
    "instance",
    "_Feature"
   ],
   "window_display": false
  }
 },
 "nbformat": 4,
 "nbformat_minor": 4
}
