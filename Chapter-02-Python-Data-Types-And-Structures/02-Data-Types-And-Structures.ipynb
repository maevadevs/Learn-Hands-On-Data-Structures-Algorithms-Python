{
 "cells": [
  {
   "attachments": {},
   "cell_type": "markdown",
   "metadata": {},
   "source": [
    "# Python Data Types and Data Structures\n"
   ]
  },
  {
   "attachments": {},
   "cell_type": "markdown",
   "metadata": {},
   "source": [
    "---\n"
   ]
  },
  {
   "attachments": {},
   "cell_type": "markdown",
   "metadata": {},
   "source": [
    "**Table of contents**<a id='toc0_'></a>\n",
    "\n",
    "-   [Chapter Goals](#toc1_)\n",
    "-   [Built-In Data Types](#toc2_)\n",
    "    -   [List of Built-In Data Types](#toc2_1_)\n",
    "-   [Complex Numbers](#toc3_)\n",
    "-   [Boolean](#toc4_)\n",
    "-   [Representation Error](#toc5_)\n",
    "-   [Membership, Identity, Logical Operations](#toc6_)\n",
    "-   [Sequences](#toc7_)\n",
    "    -   [Methods of Sequences](#toc7_1_)\n",
    "    -   [Operations of Sequences](#toc7_2_)\n",
    "-   [Tuples](#toc8_)\n",
    "-   [Dictionaries](#toc9_)\n",
    "    -   [Dictionary Methods](#toc9_1_)\n",
    "    -   [`in` With Dictionaries vs `in` With Lists](#toc9_2_)\n",
    "    -   [Sorting Dictionaries](#toc9_3_)\n",
    "    -   [Dictionaries for Text Analysis](#toc9_4_)\n",
    "-   [Sets](#toc10_)\n",
    "    -   [Set Methods and Operations](#toc10_1_)\n",
    "    -   [Additional Methods for Mutable Sets](#toc10_2_)\n",
    "-   [`frozenset`: Immutable Set](#toc11_)\n",
    "-   [Modules for Data Structure and Algorithm](#toc12_)\n",
    "-   [`collections` Module](#toc13_)\n",
    "    -   [List of Collection Types](#toc13_1_)\n",
    "    -   [`deque`](#toc13_2_)\n",
    "    -   [`ChainMap`](#toc13_3_)\n",
    "    -   [`Counter`](#toc13_4_)\n",
    "    -   [`OrderedDict`](#toc13_5_)\n",
    "    -   [`defaultdict`](#toc13_6_)\n",
    "    -   [`namedTuple`](#toc13_7_)\n",
    "-   [`array` Module](#toc14_)\n",
    "    -   [Array Attributes and Methods](#toc14_1_)\n",
    "\n",
    "<!-- vscode-jupyter-toc-config\n",
    "\tnumbering=false\n",
    "\tanchor=true\n",
    "\tflat=false\n",
    "\tminLevel=2\n",
    "\tmaxLevel=6\n",
    "\t/vscode-jupyter-toc-config -->\n",
    "<!-- THIS CELL WILL BE REPLACED ON TOC UPDATE. DO NOT WRITE YOUR TEXT IN THIS CELL -->\n"
   ]
  },
  {
   "attachments": {},
   "cell_type": "markdown",
   "metadata": {},
   "source": [
    "---\n"
   ]
  },
  {
   "attachments": {},
   "cell_type": "markdown",
   "metadata": {},
   "source": [
    "## <a id='toc1_'></a>Chapter Goals [&#8593;](#toc0_)\n"
   ]
  },
  {
   "attachments": {},
   "cell_type": "markdown",
   "metadata": {},
   "source": [
    "-   Understand various important built-in data types in Python\n",
    "-   Explore various collections of high-performance alternatives to built-in data types\n"
   ]
  },
  {
   "attachments": {},
   "cell_type": "markdown",
   "metadata": {},
   "source": [
    "## <a id='toc2_'></a>Built-In Data Types [&#8593;](#toc0_)\n"
   ]
  },
  {
   "attachments": {},
   "cell_type": "markdown",
   "metadata": {},
   "source": [
    "-   3 categories:\n",
    "    -   Numeric\n",
    "    -   Sequence\n",
    "    -   Mapping\n",
    "-   `None` - Representing `null`\n",
    "-   **Every value in Python has a data type**\n",
    "    -   However, we are not required to explicitly declare the variable types\n",
    "    -   Objects can also be considered as _types_\n",
    "-   Python keeps track of object types internally\n",
    "    -   No type declaration is required\n"
   ]
  },
  {
   "attachments": {},
   "cell_type": "markdown",
   "metadata": {},
   "source": [
    "### <a id='toc2_1_'></a>List of Built-In Data Types [&#8593;](#toc0_)\n"
   ]
  },
  {
   "attachments": {},
   "cell_type": "markdown",
   "metadata": {},
   "source": [
    "| Data Type   | Category | Description                                                                                                                                                                                                                                     |\n",
    "| :---------- | :------- | :---------------------------------------------------------------------------------------------------------------------------------------------------------------------------------------------------------------------------------------------- |\n",
    "| `None`      | None     | - Represent `null` values<br>- Immutable<br>- To represent the absence of value<br>- The return value of functions when there is nothing to return (e.g. `print()`)                                                                             |\n",
    "| `int`       | Numeric  | - Integer<br>- Whole number of unlimited range                                                                                                                                                                                                  |\n",
    "| `float`     | Numeric  | - Floating-point<br>- Division operator (`/`) always returns a float<br>- To return an integer, use the floor division (`//`)                                                                                                                   |\n",
    "| `complex`   | Numeric  | - Complex number<br>- Generally used for scientific computations<br>- Represented by 2 float numbers<br>- `j` is used to signify the imaginary part of the complex number<br>- Parts are accessible with `cpx.real` and `cpx.imag`              |\n",
    "| `bool`      | Numeric  | - Boolean `True` or `False`<br>- Values are mapped to `1` and `0` respectively<br>- Can be combined with logical operators. By order of priority: `not`, `and`, `or`<br>- Operations are only evaluated as needed: Can be skipped if not needed |\n",
    "| `str`       | Sequence | - Sequence of string literal                                                                                                                                                                                                                    |\n",
    "| `list`      | Sequence | - List of objects                                                                                                                                                                                                                               |\n",
    "| `tuple`     | Sequence | - An non-mutable group of items                                                                                                                                                                                                                 |\n",
    "| `range`     | Sequence | - A range of integers                                                                                                                                                                                                                           |\n",
    "| `dict`      | Mapping  | - Key/Value pair mapping                                                                                                                                                                                                                        |\n",
    "| `set`       | Mapping  | - Mutable, unordered collection of unique objects                                                                                                                                                                                               |\n",
    "| `frozenset` | Mapping  | - Immutable set                                                                                                                                                                                                                                 |\n"
   ]
  },
  {
   "attachments": {},
   "cell_type": "markdown",
   "metadata": {},
   "source": [
    "## <a id='toc3_'></a>Complex Numbers [&#8593;](#toc0_)\n"
   ]
  },
  {
   "cell_type": "code",
   "execution_count": 1,
   "metadata": {},
   "outputs": [
    {
     "name": "stdout",
     "output_type": "stream",
     "text": [
      "(3+5j) is of type <class 'complex'>\n",
      "c.real: 3.0\n",
      "c.imag: 5.0\n",
      "c * 2: (6+10j)\n",
      "c + 3: (6+5j)\n",
      "c - 1: (2+5j)\n"
     ]
    }
   ],
   "source": [
    "cpx: complex = 3 + 5j\n",
    "\n",
    "print(f\"{cpx} is of type {type(cpx)}\")\n",
    "print(f\"c.real: {cpx.real}\")\n",
    "print(f\"c.imag: {cpx.imag}\")\n",
    "print(f\"c * 2: {cpx * 2}\")  # multiplication\n",
    "print(f\"c + 3: {cpx + 3}\")  # addition\n",
    "print(f\"c - 1: {cpx - 1}\")  # subtraction\n"
   ]
  },
  {
   "attachments": {},
   "cell_type": "markdown",
   "metadata": {},
   "source": [
    "## <a id='toc4_'></a>Boolean [&#8593;](#toc0_)\n"
   ]
  },
  {
   "attachments": {},
   "cell_type": "markdown",
   "metadata": {},
   "source": [
    "-   Only evaluate an operator as needed\n",
    "-   Operators by order of priority\n",
    "    -   `not`\n",
    "    -   `and`\n",
    "    -   `or`\n"
   ]
  },
  {
   "attachments": {},
   "cell_type": "markdown",
   "metadata": {},
   "source": [
    "## <a id='toc5_'></a>Representation Error [&#8593;](#toc0_)\n"
   ]
  },
  {
   "attachments": {},
   "cell_type": "markdown",
   "metadata": {},
   "source": [
    "-   The Double-Precision of floating-points can lead to unexpected results\n",
    "-   **Most decimal fractions are not exactly representable as a binary fraction**\n"
   ]
  },
  {
   "cell_type": "code",
   "execution_count": 2,
   "metadata": {},
   "outputs": [
    {
     "name": "stdout",
     "output_type": "stream",
     "text": [
      "0.09999999999999998\n",
      "False\n"
     ]
    }
   ],
   "source": [
    "print(1 - 0.9)\n",
    "print(1 - 0.9 == 0.1)\n"
   ]
  },
  {
   "attachments": {},
   "cell_type": "markdown",
   "metadata": {},
   "source": [
    "-   For algorithms or applications where this may be an issue, Python provides the `decimal` module\n",
    "    -   Exact representation of decimal numbers\n",
    "    -   Facilitates greater control of properties\n",
    "-   `decimal` defines two objects\n",
    "    -   A Decimal type - Represents decimal numbers\n",
    "    -   A Context type - Represents various computational parameters such as precision, rounding, and error handling\n",
    "-   The `decimal` object can be treated pretty much as you would treat `int` or `float`\n"
   ]
  },
  {
   "cell_type": "code",
   "execution_count": 3,
   "metadata": {},
   "outputs": [
    {
     "name": "stdout",
     "output_type": "stream",
     "text": [
      "8.603600000000001010036498883\n",
      "8.60360\n"
     ]
    }
   ],
   "source": [
    "# Importing the decimal module\n",
    "from decimal import Decimal, getcontext\n",
    "\n",
    "# Instantiating new Decimal objects\n",
    "x_dec: Decimal = Decimal(3.14)\n",
    "y_dec: Decimal = Decimal(2.74)\n",
    "print(x_dec * y_dec)\n",
    "\n",
    "# Using decimal context to change the precision\n",
    "getcontext().prec = 6\n",
    "print(x_dec * y_dec)\n"
   ]
  },
  {
   "attachments": {},
   "cell_type": "markdown",
   "metadata": {},
   "source": [
    "-   Python also has a `fractions` module that implements a rational number type\n",
    "-   It allows to get the fraction representation of any number\n"
   ]
  },
  {
   "cell_type": "code",
   "execution_count": 4,
   "metadata": {},
   "outputs": [
    {
     "name": "stdout",
     "output_type": "stream",
     "text": [
      "3/4\n",
      "1/2\n",
      "1/4\n",
      "6283/2000\n",
      "8160205020718967/18014398509481984\n",
      "3184525835422751/2251799813685248\n"
     ]
    }
   ],
   "source": [
    "# Importing the fraction module\n",
    "from fractions import Fraction\n",
    "\n",
    "print(Fraction(3, 4))\n",
    "print(Fraction(0.5))\n",
    "print(Fraction(\"0.25\"))\n",
    "print(Fraction(\"3.1415\"))\n",
    "print(Fraction(0.4529823749832))\n",
    "print(Fraction(1.414213562))  # SQRT(2)\n"
   ]
  },
  {
   "attachments": {},
   "cell_type": "markdown",
   "metadata": {},
   "source": [
    "-   For advanced Math, we can also use `NumPy`\n",
    "    -   Types for mathematical objects\n",
    "    -   Arrays\n",
    "    -   Vectors\n",
    "    -   Matrices\n",
    "    -   Linear algebra\n",
    "    -   Calculation of Fourier transforms\n",
    "    -   Eigenvectors\n",
    "    -   Logical operations...\n"
   ]
  },
  {
   "attachments": {},
   "cell_type": "markdown",
   "metadata": {},
   "source": [
    "## <a id='toc6_'></a>Membership, Identity, Logical Operations [&#8593;](#toc0_)\n"
   ]
  },
  {
   "attachments": {},
   "cell_type": "markdown",
   "metadata": {},
   "source": [
    "-   **Membership operators**\n",
    "    -   `in`\n",
    "    -   `not in`\n",
    "    -   `x in y` is `True` if an `x` variable is found in `y`\n",
    "-   **Identity operators**\n",
    "    -   `is`\n",
    "    -   `is not`\n",
    "    -   `x is y` is `True` if `x` and `y` are exactly the same objects in memory (point to the same reference)\n"
   ]
  },
  {
   "cell_type": "code",
   "execution_count": 5,
   "metadata": {},
   "outputs": [
    {
     "name": "stdout",
     "output_type": "stream",
     "text": [
      "x == y: True\n",
      "x is y: False\n",
      "x is y after assignement: True\n"
     ]
    }
   ],
   "source": [
    "x_lst: list[int] = [1, 2, 3]\n",
    "y_lst: list[int] = [1, 2, 3]\n",
    "\n",
    "print(f\"x == y: {x_lst == y_lst}\")  # test equivalence\n",
    "print(f\"x is y: {x_lst is y_lst}\")  # test object identity\n",
    "\n",
    "x_lst = y_lst  # assignment\n",
    "print(f\"x is y after assignement: {x_lst is y_lst}\")\n"
   ]
  },
  {
   "attachments": {},
   "cell_type": "markdown",
   "metadata": {},
   "source": [
    "## <a id='toc7_'></a>Sequences [&#8593;](#toc0_)\n"
   ]
  },
  {
   "attachments": {},
   "cell_type": "markdown",
   "metadata": {},
   "source": [
    "-   Ordered group of objects indexed by non-negative integers: `0, 1, 2, 3, ...`\n",
    "    -   However, negative integer will work by looping back around\n",
    "-   Immutable\n",
    "    -   Strings\n",
    "    -   Tuple\n",
    "    -   Range\n",
    "-   Mutable\n",
    "    -   List\n",
    "-   For all sequences, the indexing and slicing operators apply as described\n"
   ]
  },
  {
   "attachments": {},
   "cell_type": "markdown",
   "metadata": {},
   "source": [
    "### <a id='toc7_1_'></a>Methods of Sequences [&#8593;](#toc0_)\n"
   ]
  },
  {
   "attachments": {},
   "cell_type": "markdown",
   "metadata": {},
   "source": [
    "All sequences support the following methods\n",
    "\n",
    "| Method                              | Definition                                                                                |\n",
    "| :---------------------------------- | :---------------------------------------------------------------------------------------- |\n",
    "| `len(seq)`                          | Returns the count of elements in `seq`                                                    |\n",
    "| `min(seq, [default=obj, key=func])` | Returns the minimum value in `seq` (alphabetically for strings)                           |\n",
    "| `max(seq, [default=obj, key=func])` | Returns the maximum value in `seq` (alphabetically for strings)                           |\n",
    "| `sum(seq, [start=0])`               | Returns the sum of the elements (returns `TypeError` if `seq` is not numeric)             |\n",
    "| `all(seq)`                          | Returns `True` if all elements in `seq` are `True` (that is, not `0`, `False`, or `Null`) |\n",
    "| `any(seq)`                          | Checks whether any item in `seq` is `True`                                                |\n"
   ]
  },
  {
   "attachments": {},
   "cell_type": "markdown",
   "metadata": {},
   "source": [
    "### <a id='toc7_2_'></a>Operations of Sequences [&#8593;](#toc0_)\n"
   ]
  },
  {
   "attachments": {},
   "cell_type": "markdown",
   "metadata": {},
   "source": [
    "All sequences support the following operations\n",
    "\n",
    "| Operation           | Definition                                                          |\n",
    "| :------------------ | :------------------------------------------------------------------ |\n",
    "| `s + r`             | Concatenates two sequences of the same type                         |\n",
    "| `s * n`             | Makes `n` copies of `s`, where `n` is an integer                    |\n",
    "| `v1, v2..., vn = s` | Unpacks `n` variables from `s` to `v1`, `v2`, and so on             |\n",
    "| `s[i]`              | Indexing returns the `i`th element of `s`                           |\n",
    "| `s[i:j:stride]`     | Slicing returns elements between `i` and `j` with optional `stride` |\n",
    "| `x in s`            | Returns `True` if the `x` element is in `s`                         |\n",
    "| `x not in s`        | Returns `True` if the `x` element is not in `s`                     |\n"
   ]
  },
  {
   "cell_type": "code",
   "execution_count": 6,
   "metadata": {},
   "outputs": [
    {
     "name": "stdout",
     "output_type": "stream",
     "text": [
      "[1, 2, 3, 4, 10]\n"
     ]
    }
   ],
   "source": [
    "empty_list: list = list()  # An empty list\n",
    "list_1: list[int] = [1, 2, 3, 4]\n",
    "list_1.append(10)  # append value 1 at the end of the list\n",
    "print(list_1)\n"
   ]
  },
  {
   "cell_type": "code",
   "execution_count": 7,
   "metadata": {},
   "outputs": [
    {
     "name": "stdout",
     "output_type": "stream",
     "text": [
      "[1, 2, 3, 4, 10, 1, 2, 3, 4, 10]\n"
     ]
    }
   ],
   "source": [
    "list_2: list[int] = (\n",
    "    list_1 * 2\n",
    ")  # Repeat the elements from list_1 (duplicate each elements)\n",
    "print(list_2)\n"
   ]
  },
  {
   "cell_type": "code",
   "execution_count": 8,
   "metadata": {},
   "outputs": [
    {
     "name": "stdout",
     "output_type": "stream",
     "text": [
      "1\n",
      "10\n"
     ]
    }
   ],
   "source": [
    "print(min(list_1))\n",
    "print(max(list_1))\n"
   ]
  },
  {
   "cell_type": "code",
   "execution_count": 9,
   "metadata": {},
   "outputs": [
    {
     "name": "stdout",
     "output_type": "stream",
     "text": [
      "[2, 1, 2, 3, 4, 10]\n",
      "[10, 4, 3, 2, 1, 2]\n"
     ]
    }
   ],
   "source": [
    "list_1.insert(0, 2)  # Insert a value 2 at index 0\n",
    "print(list_1)\n",
    "list_1.reverse()\n",
    "print(list_1)\n"
   ]
  },
  {
   "cell_type": "code",
   "execution_count": 10,
   "metadata": {},
   "outputs": [
    {
     "name": "stdout",
     "output_type": "stream",
     "text": [
      "[10, 4, 3, 2, 1, 2, 11, 12]\n"
     ]
    }
   ],
   "source": [
    "list_2 = [11, 12]\n",
    "list_1.extend(list_2)  # Extend one list with the elements from another list\n",
    "print(list_1)\n"
   ]
  },
  {
   "cell_type": "code",
   "execution_count": 11,
   "metadata": {},
   "outputs": [
    {
     "name": "stdout",
     "output_type": "stream",
     "text": [
      "45\n",
      "8\n"
     ]
    }
   ],
   "source": [
    "print(sum(list_1))\n",
    "print(len(list_1))\n"
   ]
  },
  {
   "cell_type": "code",
   "execution_count": 12,
   "metadata": {},
   "outputs": [
    {
     "name": "stdout",
     "output_type": "stream",
     "text": [
      "[1, 2, 2, 3, 4, 10, 11, 12]\n"
     ]
    }
   ],
   "source": [
    "list_1.sort()\n",
    "print(list_1)\n"
   ]
  },
  {
   "cell_type": "code",
   "execution_count": 13,
   "metadata": {},
   "outputs": [
    {
     "name": "stdout",
     "output_type": "stream",
     "text": [
      "[1, 2, 2, 3, 4, 10, 11]\n"
     ]
    }
   ],
   "source": [
    "list_1.remove(12)  # Remove value 12 from the list\n",
    "print(list_1)\n"
   ]
  },
  {
   "attachments": {},
   "cell_type": "markdown",
   "metadata": {},
   "source": [
    "## <a id='toc8_'></a>Tuples [&#8593;](#toc0_)\n"
   ]
  },
  {
   "attachments": {},
   "cell_type": "markdown",
   "metadata": {},
   "source": [
    "-   Immutable sequences of arbitrary objects\n",
    "-   Useful when we want to set up multiple variables in one line\n",
    "-   Allows a function to return multiple values of different objects\n",
    "-   Ordered sequence of items similar to the `list` data type, but immutable\n",
    "-   **Tuples are hashable: They can be used as keys to dictionaries**\n",
    "-   Can be created from other sequences using `tuple()`\n",
    "-   **It is important to remember to use a trailing comma when creating a tuple with one element**\n",
    "    -   **Without the trailing comma, this will be interpreted as a single value in ()**\n"
   ]
  },
  {
   "cell_type": "code",
   "execution_count": 14,
   "metadata": {},
   "outputs": [
    {
     "name": "stdout",
     "output_type": "stream",
     "text": [
      "<class 'tuple'>\n"
     ]
    }
   ],
   "source": [
    "tup: tuple = tuple()  # Create an empty tuple\n",
    "print(type(tup))\n"
   ]
  },
  {
   "cell_type": "code",
   "execution_count": 15,
   "metadata": {},
   "outputs": [
    {
     "name": "stdout",
     "output_type": "stream",
     "text": [
      "('a',)\n",
      "type of tups is <class 'tuple'>\n"
     ]
    }
   ],
   "source": [
    "tups: tuple[str] = (\"a\",)  # Create a tuple with 1 element\n",
    "print(tups)\n",
    "print(f\"type of tups is {type(tups)}\")\n"
   ]
  },
  {
   "cell_type": "code",
   "execution_count": 16,
   "metadata": {},
   "outputs": [
    {
     "name": "stdout",
     "output_type": "stream",
     "text": [
      "('s', 'e', 'q', 'u', 'e', 'n', 'c', 'e')\n"
     ]
    }
   ],
   "source": [
    "print(tuple(\"sequence\"))  # Creating a tuple out of a string\n"
   ]
  },
  {
   "cell_type": "code",
   "execution_count": 17,
   "metadata": {},
   "outputs": [
    {
     "name": "stdout",
     "output_type": "stream",
     "text": [
      "a\n",
      "b\n",
      "c\n"
     ]
    }
   ],
   "source": [
    "tpl: tuple[str, ...] = (\"a\", \"b\", \"c\")\n",
    "tx: str\n",
    "ty: str\n",
    "tz: str\n",
    "tx, ty, tz = tpl  # Tuple unpacking: multiple assignment\n",
    "print(tx)\n",
    "print(ty)\n",
    "print(tz)\n"
   ]
  },
  {
   "cell_type": "code",
   "execution_count": 18,
   "metadata": {},
   "outputs": [
    {
     "name": "stdout",
     "output_type": "stream",
     "text": [
      "True\n",
      "False\n"
     ]
    }
   ],
   "source": [
    "print(\"a\" in tpl)  # Membership can be tested\n",
    "print(\"z\" in tpl)\n"
   ]
  },
  {
   "cell_type": "code",
   "execution_count": 19,
   "metadata": {},
   "outputs": [
    {
     "name": "stdout",
     "output_type": "stream",
     "text": [
      "Tuple value at index 1 is 2\n",
      "Tuple[1:3] is (2, 3)\n"
     ]
    }
   ],
   "source": [
    "tup_int: tuple[int, ...] = 1, 2, 3, 4, 5  # Braces are optional\n",
    "print(f\"Tuple value at index 1 is {tup_int[1]}\")\n",
    "print(f\"Tuple[1:3] is {tup_int[1:3]}\")  # Up to but not including index 3\n"
   ]
  },
  {
   "cell_type": "code",
   "execution_count": 20,
   "metadata": {},
   "outputs": [
    {
     "name": "stdout",
     "output_type": "stream",
     "text": [
      "(1, 2, 3, 4, 5, 11, 12, 13)\n"
     ]
    }
   ],
   "source": [
    "tup_int_2: tuple[int, ...] = (11, 12, 13)\n",
    "tup_int_3: tuple[int, ...] = tup_int + tup_int_2  # Tuple concatenation\n",
    "print(tup_int_3)\n"
   ]
  },
  {
   "cell_type": "code",
   "execution_count": 21,
   "metadata": {},
   "outputs": [
    {
     "name": "stdout",
     "output_type": "stream",
     "text": [
      "(1, 2, 3, 4, 5, 11, 12, 13, 1, 2, 3, 4, 5, 11, 12, 13)\n"
     ]
    }
   ],
   "source": [
    "print(tup_int_3 * 2)  # Repetition for tuples\n"
   ]
  },
  {
   "cell_type": "code",
   "execution_count": 22,
   "metadata": {},
   "outputs": [
    {
     "name": "stdout",
     "output_type": "stream",
     "text": [
      "True\n"
     ]
    }
   ],
   "source": [
    "print(5 in tup_int_3)  # Membership test\n"
   ]
  },
  {
   "cell_type": "code",
   "execution_count": 23,
   "metadata": {},
   "outputs": [
    {
     "name": "stdout",
     "output_type": "stream",
     "text": [
      "13\n"
     ]
    }
   ],
   "source": [
    "print(tup_int_3[-1])  # Negative indexing\n"
   ]
  },
  {
   "cell_type": "code",
   "execution_count": 24,
   "metadata": {},
   "outputs": [
    {
     "name": "stdout",
     "output_type": "stream",
     "text": [
      "8\n"
     ]
    }
   ],
   "source": [
    "print(len(tup_int_3))  # Length function for tuple\n"
   ]
  },
  {
   "cell_type": "code",
   "execution_count": 25,
   "metadata": {},
   "outputs": [
    {
     "name": "stdout",
     "output_type": "stream",
     "text": [
      "13\n",
      "1\n"
     ]
    }
   ],
   "source": [
    "print(max(tup_int_3))  # Max value in tuple\n",
    "print(min(tup_int_3))  # Min value in tuple\n"
   ]
  },
  {
   "attachments": {},
   "cell_type": "markdown",
   "metadata": {},
   "source": [
    "-   Tuples are immutable: Trying to modify an element of a tuple will give you `TypeError`\n"
   ]
  },
  {
   "cell_type": "code",
   "execution_count": 26,
   "metadata": {},
   "outputs": [
    {
     "name": "stdout",
     "output_type": "stream",
     "text": [
      "Error: TypeError(\"'tuple' object does not support item assignment\")\n"
     ]
    }
   ],
   "source": [
    "try:\n",
    "    tup_int_3[1] = 5  # Throw Error: modification in tuple is not allowed\n",
    "except Exception as e:\n",
    "    print(\"Error:\", repr(e))\n"
   ]
  },
  {
   "attachments": {},
   "cell_type": "markdown",
   "metadata": {},
   "source": [
    "-   We can compare tuples in the same way that we compare other sequences, using the `==`, `>` and `<` operators\n"
   ]
  },
  {
   "cell_type": "code",
   "execution_count": 27,
   "metadata": {},
   "outputs": [
    {
     "name": "stdout",
     "output_type": "stream",
     "text": [
      "False\n",
      "True\n"
     ]
    }
   ],
   "source": [
    "print(tup_int == tup_int_2)\n",
    "print(tup_int_2 > tup_int_3)\n"
   ]
  },
  {
   "attachments": {},
   "cell_type": "markdown",
   "metadata": {},
   "source": [
    "-   We can use multiple tuple unpacking to swap values\n"
   ]
  },
  {
   "cell_type": "code",
   "execution_count": 28,
   "metadata": {},
   "outputs": [
    {
     "name": "stdout",
     "output_type": "stream",
     "text": [
      "three one two\n"
     ]
    }
   ],
   "source": [
    "my_list: list[str] = [\"one\", \"two\", \"three\"]\n",
    "str_x: str\n",
    "str_y: str\n",
    "str_z: str\n",
    "str_x, str_y, str_z = my_list  # => ('one', 'two', 'three')\n",
    "str_x, str_y, str_z = str_z, str_x, str_y  # => ('three', 'one', 'two')\n",
    "print(str_x, str_y, str_z)\n"
   ]
  },
  {
   "attachments": {},
   "cell_type": "markdown",
   "metadata": {},
   "source": [
    "## <a id='toc9_'></a>Dictionaries [&#8593;](#toc0_)\n"
   ]
  },
  {
   "attachments": {},
   "cell_type": "markdown",
   "metadata": {},
   "source": [
    "-   One of the most popular and useful data type\n",
    "-   Store data in a mapping of key-value pair\n",
    "    -   Keys are unique\n",
    "    -   Values can change\n",
    "-   Collection of objects indexed by numbers, strings, or immutable objects (e.g. tuple)\n",
    "-   The only built-in mapping type\n",
    "-   We can use `dict()` to create a dictionary from other types\n"
   ]
  },
  {
   "cell_type": "code",
   "execution_count": 29,
   "metadata": {},
   "outputs": [
    {
     "name": "stdout",
     "output_type": "stream",
     "text": [
      "Dictionary a: {'Monday': 1, 'Tuesday': 2, 'Wednesday': 3, 'Thursday': 4, 'Friday': 5, 'Saturday': 6, 'Sunday': 7}\n",
      "Dictionary b: {1: 'Monday', 2: 'Tuesday', 3: 'Wednesday', 4: 'Thursday', 5: 'Friday', 6: 'Saturday', 7: 'Sunday'}\n"
     ]
    }
   ],
   "source": [
    "# Creating a dictionary using literal\n",
    "days_a: dict[str, int] = {\n",
    "    \"Monday\": 1,\n",
    "    \"Tuesday\": 2,\n",
    "    \"Wednesday\": 3,\n",
    "    \"Thursday\": 4,\n",
    "    \"Friday\": 5,\n",
    "    \"Saturday\": 6,\n",
    "    \"Sunday\": 7,\n",
    "}\n",
    "\n",
    "# Creating a dictionary using dict() constructor\n",
    "days_b: dict[int, str] = dict(\n",
    "    {\n",
    "        1: \"Monday\",\n",
    "        2: \"Tuesday\",\n",
    "        3: \"Wednesday\",\n",
    "        4: \"Thursday\",\n",
    "        5: \"Friday\",\n",
    "        6: \"Saturday\",\n",
    "        7: \"Sunday\",\n",
    "    }\n",
    ")\n",
    "\n",
    "print(f\"Dictionary a: {days_a}\")\n",
    "print(f\"Dictionary b: {days_b}\")\n"
   ]
  },
  {
   "cell_type": "code",
   "execution_count": 30,
   "metadata": {},
   "outputs": [
    {
     "name": "stdout",
     "output_type": "stream",
     "text": [
      "dict_c: {'Monday': 1, 'Tuesday': 2, 'Wednesday': 3}\n"
     ]
    }
   ],
   "source": [
    "# Using dict() with zip()\n",
    "dict_c: dict[str, int] = dict(zip([\"Monday\", \"Tuesday\", \"Wednesday\"], [1, 2, 3]))\n",
    "print(f\"dict_c: {dict_c}\")\n"
   ]
  },
  {
   "cell_type": "code",
   "execution_count": 31,
   "metadata": {},
   "outputs": [
    {
     "name": "stdout",
     "output_type": "stream",
     "text": [
      "dict_d: {'Monday': 1, 'Tuesday': 2, 'Wednesday': 3}\n"
     ]
    }
   ],
   "source": [
    "# Using dict() with tuples\n",
    "# This is essentially the same as using zip() above\n",
    "dict_d: dict[str, int] = dict(((\"Monday\", 1), (\"Tuesday\", 2), (\"Wednesday\", 3)))\n",
    "print(f\"dict_d: {dict_d}\")\n"
   ]
  },
  {
   "cell_type": "code",
   "execution_count": 32,
   "metadata": {},
   "outputs": [
    {
     "name": "stdout",
     "output_type": "stream",
     "text": [
      "{'Monday': 1, 'Tuesday': 2, 'Wednesday': 3, 'Thursday': 4, 'Friday': 5, 'Saturday': 6}\n"
     ]
    }
   ],
   "source": [
    "dict_d[\"Thursday\"] = 4  # Add an item\n",
    "dict_d.update({\"Friday\": 5, \"Saturday\": 6})  # Add multiple items\n",
    "print(dict_d)\n"
   ]
  },
  {
   "attachments": {},
   "cell_type": "markdown",
   "metadata": {},
   "source": [
    "-   We can add values or test membership\n",
    "-   **Membership test is on keys only**\n"
   ]
  },
  {
   "cell_type": "code",
   "execution_count": 33,
   "metadata": {},
   "outputs": [
    {
     "name": "stdout",
     "output_type": "stream",
     "text": [
      "True\n",
      "False\n"
     ]
    }
   ],
   "source": [
    "print(\"Wednesday\" in dict_d)  # Membership test (only in keys)\n",
    "print(5 in dict_d)  # Membership do not check in values\n"
   ]
  },
  {
   "attachments": {},
   "cell_type": "markdown",
   "metadata": {},
   "source": [
    "-   **Note: The `in` operator is more efficient in dictionaries than in lists.**\n",
    "    -   The `in` operator is linear with lists: Longer lists take longer time\n",
    "    -   With dictionary, `in` uses a hash function. Very efficient\n",
    "-   Keys in dictionaries are in no particular order\n"
   ]
  },
  {
   "cell_type": "code",
   "execution_count": 34,
   "metadata": {},
   "outputs": [
    {
     "name": "stdout",
     "output_type": "stream",
     "text": [
      "{0: 'h', 1: 'e', 2: 'l', 3: 'l', 4: 'o'}\n"
     ]
    }
   ],
   "source": [
    "# Go through a string and assign each letter to each index\n",
    "st: str = \"hello\"\n",
    "len_st: int = len(st)\n",
    "st_dict: dict[int, str] = dict(zip(range(len_st), st))\n",
    "print(st_dict)\n"
   ]
  },
  {
   "cell_type": "code",
   "execution_count": 35,
   "metadata": {},
   "outputs": [
    {
     "name": "stdout",
     "output_type": "stream",
     "text": [
      "{'h': 0, 'e': 1, 'l': 3, 'o': 4}\n"
     ]
    }
   ],
   "source": [
    "# Do the same but with reversed, each index to each letter\n",
    "dict_st: dict[str, int] = dict(zip(st, range(len_st)))\n",
    "print(dict_st)\n"
   ]
  },
  {
   "cell_type": "code",
   "execution_count": 36,
   "metadata": {},
   "outputs": [
    {
     "name": "stdout",
     "output_type": "stream",
     "text": [
      "4\n"
     ]
    }
   ],
   "source": [
    "print(len(dict_st))\n"
   ]
  },
  {
   "cell_type": "code",
   "execution_count": 37,
   "metadata": {},
   "outputs": [
    {
     "name": "stdout",
     "output_type": "stream",
     "text": [
      "1\n"
     ]
    }
   ],
   "source": [
    "print(dict_st[\"e\"])\n"
   ]
  },
  {
   "cell_type": "code",
   "execution_count": 38,
   "metadata": {},
   "outputs": [
    {
     "data": {
      "text/plain": [
       "3"
      ]
     },
     "execution_count": 38,
     "metadata": {},
     "output_type": "execute_result"
    }
   ],
   "source": [
    "dict_st.pop(\"l\")\n"
   ]
  },
  {
   "cell_type": "code",
   "execution_count": 39,
   "metadata": {},
   "outputs": [
    {
     "name": "stdout",
     "output_type": "stream",
     "text": [
      "{'h': 0, 'e': 1, 'o': 4}\n"
     ]
    }
   ],
   "source": [
    "print(dict_st)\n"
   ]
  },
  {
   "cell_type": "code",
   "execution_count": 40,
   "metadata": {},
   "outputs": [
    {
     "name": "stdout",
     "output_type": "stream",
     "text": [
      "{'h': 0, 'e': 1, 'o': 4}\n"
     ]
    }
   ],
   "source": [
    "dict_st_copy = dict_st.copy()  # Make a copy (by value) of the dictionary\n",
    "print(dict_st_copy)\n"
   ]
  },
  {
   "cell_type": "code",
   "execution_count": 41,
   "metadata": {},
   "outputs": [
    {
     "name": "stdout",
     "output_type": "stream",
     "text": [
      "dict_keys(['h', 'e', 'o'])\n"
     ]
    }
   ],
   "source": [
    "print(dict_st.keys())\n"
   ]
  },
  {
   "cell_type": "code",
   "execution_count": 42,
   "metadata": {},
   "outputs": [
    {
     "name": "stdout",
     "output_type": "stream",
     "text": [
      "dict_values([0, 1, 4])\n"
     ]
    }
   ],
   "source": [
    "print(dict_st.values())\n"
   ]
  },
  {
   "cell_type": "code",
   "execution_count": 43,
   "metadata": {},
   "outputs": [
    {
     "name": "stdout",
     "output_type": "stream",
     "text": [
      "dict_items([('h', 0), ('e', 1), ('o', 4)])\n"
     ]
    }
   ],
   "source": [
    "print(dict_st.items())\n"
   ]
  },
  {
   "cell_type": "code",
   "execution_count": 44,
   "metadata": {},
   "outputs": [
    {
     "name": "stdout",
     "output_type": "stream",
     "text": [
      "{'h': 0, 'e': 1, 'o': 4, 'a': 1}\n"
     ]
    }
   ],
   "source": [
    "dict_st.update({\"a\": 1})  # Add an item in the dictionary\n",
    "print(dict_st)\n"
   ]
  },
  {
   "cell_type": "code",
   "execution_count": 45,
   "metadata": {},
   "outputs": [
    {
     "name": "stdout",
     "output_type": "stream",
     "text": [
      "{'h': 0, 'e': 1, 'o': 4, 'a': 22}\n"
     ]
    }
   ],
   "source": [
    "dict_st.update(a=22)  # Update the value of key 'a'. Same as a['a'] = 22\n",
    "print(dict_st)\n"
   ]
  },
  {
   "attachments": {},
   "cell_type": "markdown",
   "metadata": {},
   "source": [
    "### <a id='toc9_1_'></a>Dictionary Methods [&#8593;](#toc0_)\n"
   ]
  },
  {
   "attachments": {},
   "cell_type": "markdown",
   "metadata": {},
   "source": [
    "| Method                   | Definition                                                                            |\n",
    "| :----------------------- | :------------------------------------------------------------------------------------ |\n",
    "| `len(d)`                 | Returns total number of items in the dictionary `d`                                   |\n",
    "| `d.clear()`              | Removes all of the items from the dictionary `d`                                      |\n",
    "| `d.copy()`               | Returns a shallow copy of the dictionary `d`                                          |\n",
    "| `d.fromkeys(s[, value])` | Returns a new dictionary with keys from the `s` sequence and values set to `value`    |\n",
    "| `d.get(k[, v])`          | Returns `d[k]` if it is found; otherwise, it returns `v` (`None` if `v` is not given) |\n",
    "| `d.items()`              | Returns all of the key:value pairs of the dictionary `d`                              |\n",
    "| `d.keys()`               | Returns all of the keys defined in the dictionary `d`                                 |\n",
    "| `d.pop(k[, default])`    | Returns `d[k]` and removes it from `d`                                                |\n",
    "| `d.popitem()`            | Removes a random key:value pair from the dictionary `d` and returns it as a tuple     |\n",
    "| `d.setdefault(k[, v])`   | Returns `d[k]`. If it is not found, it returns `v` and sets `d[k]` to `v`             |\n",
    "| `d.update(b)`            | Adds all of the objects from the `b` dictionary to the `d` dictionary                 |\n",
    "| `d.values()`             | Returns all of the values in the dictionary `d`                                       |\n"
   ]
  },
  {
   "attachments": {},
   "cell_type": "markdown",
   "metadata": {},
   "source": [
    "### <a id='toc9_2_'></a>`in` With Dictionaries vs `in` With Lists [&#8593;](#toc0_)\n"
   ]
  },
  {
   "attachments": {},
   "cell_type": "markdown",
   "metadata": {},
   "source": [
    "-   Slightly different than with lists\n",
    "-   Time Complexity:\n",
    "    -   When we use the `in` operator on a list, the relationship between the time it takes to find an element and the size of the list is considered linear\n",
    "    -   When the `in` operator is applied to dictionaries, it uses a hashing algorithm, and this has the effect of an increase in each lookup time that is almost independent of the size of the dictionary\n",
    "        -   This makes dictionaries extremely useful as a way to work with large amounts of indexed data\n"
   ]
  },
  {
   "attachments": {},
   "cell_type": "markdown",
   "metadata": {},
   "source": [
    "### <a id='toc9_3_'></a>Sorting Dictionaries [&#8593;](#toc0_)\n"
   ]
  },
  {
   "attachments": {},
   "cell_type": "markdown",
   "metadata": {},
   "source": [
    "-   We can do a simple sort on either the keys or the values using `sorted(seq [, key, reverse])`\n",
    "    -   This is a _Pure Function_ version for sorting\n",
    "    -   `key`: A way of passing a function to the sort algorithm to determine the sort order\n",
    "    -   `reverse`: Boolean, reverses the order of the sorted list\n"
   ]
  },
  {
   "cell_type": "code",
   "execution_count": 46,
   "metadata": {},
   "outputs": [
    {
     "name": "stdout",
     "output_type": "stream",
     "text": [
      "['five', 'four', 'one', 'six', 'three', 'two']\n",
      "[1, 2, 3, 4, 5, 6]\n"
     ]
    }
   ],
   "source": [
    "some_dict: dict[str, int] = {\n",
    "    \"one\": 1,\n",
    "    \"two\": 2,\n",
    "    \"three\": 3,\n",
    "    \"four\": 4,\n",
    "    \"five\": 5,\n",
    "    \"six\": 6,\n",
    "}\n",
    "print(sorted(list(some_dict)))  # Sort the Keys\n",
    "print(sorted(list(some_dict.values())))  # Sort the Values\n"
   ]
  },
  {
   "attachments": {},
   "cell_type": "markdown",
   "metadata": {},
   "source": [
    "-   Note that the original dictionary is unaffected from calling `sorted()`\n"
   ]
  },
  {
   "cell_type": "code",
   "execution_count": 47,
   "metadata": {},
   "outputs": [
    {
     "name": "stdout",
     "output_type": "stream",
     "text": [
      "{'one': 1, 'two': 2, 'three': 3, 'four': 4, 'five': 5, 'six': 6}\n"
     ]
    }
   ],
   "source": [
    "print(some_dict)\n"
   ]
  },
  {
   "attachments": {},
   "cell_type": "markdown",
   "metadata": {},
   "source": [
    "### <a id='toc9_4_'></a>Dictionaries for Text Analysis [&#8593;](#toc0_)\n"
   ]
  },
  {
   "attachments": {},
   "cell_type": "markdown",
   "metadata": {},
   "source": [
    "-   This is a common use of dictionary\n",
    "-   A dictionary where each word in the text is used as a key and the number of occurrences as its value\n"
   ]
  },
  {
   "cell_type": "code",
   "execution_count": 48,
   "metadata": {},
   "outputs": [],
   "source": [
    "# Import modules\n",
    "from io import TextIOWrapper\n",
    "\n",
    "\n",
    "# Define the function\n",
    "def word_count(filename: str) -> dict[str, int]:\n",
    "    \"\"\"Return a dictionary with an element for each unique word in the text file.\n",
    "\n",
    "    Args:\n",
    "        - `filename` (`str`): A path to a file that has the words we want to count.\n",
    "\n",
    "    Returns:\n",
    "        - `dict[str, int]`: A dictionary of each unique words and their occurence count in the file\n",
    "    \"\"\"\n",
    "\n",
    "    try:\n",
    "        fhandl: TextIOWrapper = open(filename)\n",
    "    except:\n",
    "        print(\"Error: File cannot be opened.\")\n",
    "        exit()\n",
    "\n",
    "    counts: dict[str, int] = dict()\n",
    "\n",
    "    for line in fhandl:\n",
    "        words: list[str] = line.split()\n",
    "        for word in words:\n",
    "            if word not in counts:\n",
    "                counts[word] = 1\n",
    "            else:\n",
    "                counts[word] += 1\n",
    "\n",
    "    return counts\n"
   ]
  },
  {
   "cell_type": "code",
   "execution_count": 49,
   "metadata": {},
   "outputs": [
    {
     "name": "stdout",
     "output_type": "stream",
     "text": [
      "{'once': 18, 'eyes': 18, 'There': 19, 'this,': 17, 'before': 19, 'take': 18, 'tried': 18, 'even': 17, 'things': 19, 'sort': 17, 'her,': 18, '`And': 17, 'sat': 17, '`But': 19, \"it,'\": 18, 'cried': 18, '`Oh,': 19, 'and,': 19, \"`I'm\": 19, 'voice': 17, 'being': 19, 'till': 19, 'Mouse': 17, '`but': 19, 'Queen,': 17}\n"
     ]
    }
   ],
   "source": [
    "count: dict[str, int] = word_count(\"./alice.txt\")\n",
    "filtered_count: dict[str, int] = {\n",
    "    key: value for key, value in count.items() if value < 20 and value > 16\n",
    "}\n",
    "print(filtered_count)\n"
   ]
  },
  {
   "attachments": {},
   "cell_type": "markdown",
   "metadata": {},
   "source": [
    "## <a id='toc10_'></a>Sets [&#8593;](#toc0_)\n"
   ]
  },
  {
   "attachments": {},
   "cell_type": "markdown",
   "metadata": {},
   "source": [
    "-   Unordered collections of unique items\n",
    "-   **Sets are mutable but the items themselves must be immutable**\n",
    "-   Sets cannot contain duplicate items\n",
    "-   Typically used to perform mathematical operations such as intersection, union, difference, and complement\n",
    "-   No index or slicing operations\n",
    "-   2 types of sets:\n",
    "    -   `set`: Mutable\n",
    "    -   `frozenset`: Immutable\n",
    "-   To create an empty set, we use `set()` or `frozenset()`\n"
   ]
  },
  {
   "attachments": {},
   "cell_type": "markdown",
   "metadata": {},
   "source": [
    "### <a id='toc10_1_'></a>Set Methods and Operations [&#8593;](#toc0_)\n"
   ]
  },
  {
   "attachments": {},
   "cell_type": "markdown",
   "metadata": {},
   "source": [
    "-   `t` be any Python object that supports iteration\n",
    "-   All methods are available to both `set` and `frozenset` objects\n",
    "-   The operator versions of these methods require their arguments to be sets, whereas the methods themselves can accept any iterable type\n"
   ]
  },
  {
   "attachments": {},
   "cell_type": "markdown",
   "metadata": {},
   "source": [
    "| Method                      | Definition                                                                        |\n",
    "| :-------------------------- | :-------------------------------------------------------------------------------- |\n",
    "| `len(a)`                    | Provides the total number of elements in the `a` set                              |\n",
    "| `a.copy()`                  | Provides another copy of the `a` set                                              |\n",
    "| `a.difference(t)`           | Provides a set of elements that are in the `a` set but not in `t`                 |\n",
    "| `a.intersection(t)`         | Provides a set of elements that are in both sets, `a` and `t`                     |\n",
    "| `a.isdisjoint(t)`           | Returns `True` if no element is common in both the sets, `a` and `t`              |\n",
    "| `a.issubset(t)`             | Returns `True` if all of the elements of the `a` set are also in the `t` set      |\n",
    "| `a.issuperset(t)`           | Returns `True` if all of the elements of the `t` set are also in the `a` set      |\n",
    "| `a.symmetric_difference(t)` | Returns a set of elements that are in either the `a` or `t` sets, but not in both |\n",
    "| `a.union()`                 | Returns a set of elements that are in either the `a` or `t` sets                  |\n"
   ]
  },
  {
   "attachments": {},
   "cell_type": "markdown",
   "metadata": {},
   "source": [
    "### <a id='toc10_2_'></a>Additional Methods for Mutable Sets [&#8593;](#toc0_)\n"
   ]
  },
  {
   "attachments": {},
   "cell_type": "markdown",
   "metadata": {},
   "source": [
    "| Method                            | Definition                                                                                                    |\n",
    "| :-------------------------------- | :------------------------------------------------------------------------------------------------------------ |\n",
    "| `s.add(item)`                     | Adds an item to `s`. Nothing happens if the item is already in `s`                                            |\n",
    "| `s.clear()`                       | Removes all elements from the set `s`                                                                         |\n",
    "| `s.difference_update(t)`          | Removes those elements from the set `s` that are also in the other set `t`                                    |\n",
    "| `s.discard(item)`                 | Removes the `item` from the set `s`                                                                           |\n",
    "| `s.intersection_update(t)`        | Remove the items from the set `s` which are not in the intersection of the sets `s` and `t`                   |\n",
    "| `s.pop()`                         | Returns an arbitrary item from the set `s` and it removes it from the `s` set                                 |\n",
    "| `s.delete(item)`                  | Deletes the `item` from the `s` set                                                                           |\n",
    "| `s.symetric_difference_update(t)` | Deletes all of the elements from the `s` set that are not in the symmetric difference of the sets `s` and `t` |\n",
    "| `s.update(t)`                     | Appends all of the items in an iterable object `t` to the `s` set                                             |\n"
   ]
  },
  {
   "cell_type": "code",
   "execution_count": 50,
   "metadata": {},
   "outputs": [
    {
     "name": "stdout",
     "output_type": "stream",
     "text": [
      "{1, 2, 3, 4}\n"
     ]
    }
   ],
   "source": [
    "s1: set[int] = set()\n",
    "\n",
    "s1.add(1)\n",
    "s1.add(2)\n",
    "s1.add(3)\n",
    "s1.add(4)\n",
    "\n",
    "print(s1)\n"
   ]
  },
  {
   "cell_type": "code",
   "execution_count": 51,
   "metadata": {},
   "outputs": [
    {
     "name": "stdout",
     "output_type": "stream",
     "text": [
      "{1, 2, 3}\n"
     ]
    }
   ],
   "source": [
    "s1.remove(4)\n",
    "print(s1)\n"
   ]
  },
  {
   "cell_type": "code",
   "execution_count": 52,
   "metadata": {},
   "outputs": [
    {
     "name": "stdout",
     "output_type": "stream",
     "text": [
      "{1, 2}\n"
     ]
    }
   ],
   "source": [
    "s1.discard(3)\n",
    "print(s1)\n"
   ]
  },
  {
   "cell_type": "code",
   "execution_count": 53,
   "metadata": {},
   "outputs": [
    {
     "name": "stdout",
     "output_type": "stream",
     "text": [
      "set()\n"
     ]
    }
   ],
   "source": [
    "s1.clear()\n",
    "print(s1)\n"
   ]
  },
  {
   "cell_type": "code",
   "execution_count": 54,
   "metadata": {},
   "outputs": [],
   "source": [
    "from typing import Any\n",
    "\n",
    "s2: set[Any] = {\"ab\", 3, 4, (5, 6)}\n",
    "s3: set[Any] = {\"ab\", 7, (7, 6)}\n"
   ]
  },
  {
   "cell_type": "code",
   "execution_count": 55,
   "metadata": {},
   "outputs": [
    {
     "name": "stdout",
     "output_type": "stream",
     "text": [
      "{3, 4, (5, 6)}\n"
     ]
    }
   ],
   "source": [
    "print(s2 - s3)  # Same as: s2.difference(s3)\n"
   ]
  },
  {
   "cell_type": "code",
   "execution_count": 56,
   "metadata": {},
   "outputs": [
    {
     "name": "stdout",
     "output_type": "stream",
     "text": [
      "{'ab'}\n"
     ]
    }
   ],
   "source": [
    "print(s2.intersection(s3))\n"
   ]
  },
  {
   "cell_type": "code",
   "execution_count": 57,
   "metadata": {},
   "outputs": [
    {
     "name": "stdout",
     "output_type": "stream",
     "text": [
      "{'ab', 3, 4, (5, 6), (7, 6), 7}\n"
     ]
    }
   ],
   "source": [
    "print(s2.union(s3))\n"
   ]
  },
  {
   "attachments": {},
   "cell_type": "markdown",
   "metadata": {},
   "source": [
    "-   `set` does not care that its members are not all of the same type, as long as they are all immutable\n",
    "-   If using mutable object => Unhashable type error\n",
    "    -   **Hashable types all have a hash value that does not change throughout the lifetime of the instance**\n",
    "    -   **All built-in immutable types are hashable. All built-in mutable types are not hashable**\n",
    "-   We can also test membership on sets: `x in s`\n",
    "-   We can also loop through elements of a set: `for i in s`\n"
   ]
  },
  {
   "attachments": {},
   "cell_type": "markdown",
   "metadata": {},
   "source": [
    "## <a id='toc11_'></a>`frozenset`: Immutable Set [&#8593;](#toc0_)\n"
   ]
  },
  {
   "attachments": {},
   "cell_type": "markdown",
   "metadata": {},
   "source": [
    "-   Works the same as set\n",
    "-   But no methods or operations that change values such as the `add()` or `clear()`\n",
    "-   `frozenset` are hashable so they can be added as member of a set\n"
   ]
  },
  {
   "cell_type": "code",
   "execution_count": 58,
   "metadata": {},
   "outputs": [],
   "source": [
    "from typing import Any\n",
    "\n",
    "set1: set[Any] = {1, True, 3}\n",
    "set2: set[Any] = {2, \"Hello\", \"World\"}\n"
   ]
  },
  {
   "cell_type": "code",
   "execution_count": 59,
   "metadata": {},
   "outputs": [
    {
     "name": "stdout",
     "output_type": "stream",
     "text": [
      "Error: TypeError(\"unhashable type: 'set'\")\n"
     ]
    }
   ],
   "source": [
    "try:\n",
    "    set1.add(set2)  # => Error: s2 is not hashable\n",
    "except Exception as e:\n",
    "    print(f\"Error: {repr(e)}\")\n"
   ]
  },
  {
   "cell_type": "code",
   "execution_count": 60,
   "metadata": {},
   "outputs": [
    {
     "name": "stdout",
     "output_type": "stream",
     "text": [
      "{1, frozenset({'World', 2, 'Hello'}), 3}\n"
     ]
    }
   ],
   "source": [
    "set1.add(frozenset(set2))\n",
    "print(set1)\n"
   ]
  },
  {
   "attachments": {},
   "cell_type": "markdown",
   "metadata": {},
   "source": [
    "-   Because `frozenset` is immutable, we can also use it as key for dictionary entries\n"
   ]
  },
  {
   "cell_type": "code",
   "execution_count": 61,
   "metadata": {},
   "outputs": [
    {
     "name": "stdout",
     "output_type": "stream",
     "text": [
      "{frozenset({1, frozenset({'World', 2, 'Hello'}), 3}): 'fzset1', frozenset({'World', 2, 'Hello'}): 'fzset2'}\n"
     ]
    }
   ],
   "source": [
    "fzset1: frozenset = frozenset(set1)\n",
    "fzset2: frozenset = frozenset(set2)\n",
    "\n",
    "my_dict: dict[frozenset, str] = {fzset1: \"fzset1\", fzset2: \"fzset2\"}\n",
    "\n",
    "print(my_dict)\n"
   ]
  },
  {
   "attachments": {},
   "cell_type": "markdown",
   "metadata": {},
   "source": [
    "## <a id='toc12_'></a>Modules for Data Structure and Algorithm [&#8593;](#toc0_)\n"
   ]
  },
  {
   "attachments": {},
   "cell_type": "markdown",
   "metadata": {},
   "source": [
    "-   Several Python modules that we can use to extend the built-in types and functions\n",
    "-   These Python modules may offer efficiency and programming advantages that allow us to simplify our code\n",
    "-   **Abstract Data Types (ADT)**\n",
    "    -   Can be considered mathematical specifications for the set of operations that can be performed on data\n",
    "    -   Defined by behavior, not implementation\n"
   ]
  },
  {
   "attachments": {},
   "cell_type": "markdown",
   "metadata": {},
   "source": [
    "## <a id='toc13_'></a>`collections` Module [&#8593;](#toc0_)\n"
   ]
  },
  {
   "attachments": {},
   "cell_type": "markdown",
   "metadata": {},
   "source": [
    "-   More specialized, high-performance alternatives for the built-in data types\n",
    "-   Utility function to create named tuples\n"
   ]
  },
  {
   "attachments": {},
   "cell_type": "markdown",
   "metadata": {},
   "source": [
    "### <a id='toc13_1_'></a>List of Collection Types [&#8593;](#toc0_)\n"
   ]
  },
  {
   "attachments": {},
   "cell_type": "markdown",
   "metadata": {},
   "source": [
    "| Collection                       | Definition                                                                                                                                                                                                                                          |\n",
    "| :------------------------------- | :-------------------------------------------------------------------------------------------------------------------------------------------------------------------------------------------------------------------------------------------------- |\n",
    "| `deque`                          | Lists with fast appends and pops at both end                                                                                                                                                                                                        |\n",
    "| `ChainMap`                       | Dictionary-like class to create a single view of multiple mappings                                                                                                                                                                                  |\n",
    "| `Counter`                        | Dictionary subclass for counting hashable objects                                                                                                                                                                                                   |\n",
    "| `OrderedDict`                    | Dictionary subclass that remembers the entry order                                                                                                                                                                                                  |\n",
    "| `defaultDict`                    | Dictionary subclass that calls a function to supply missing values                                                                                                                                                                                  |\n",
    "| `namedtuple`                     | Tuple subclass with named fields                                                                                                                                                                                                                    |\n",
    "| `UserDict, UserList, UserString` | These three data types are simply wrappers for their underlying base classes. Their use has largely been supplanted by the ability to subclass their respective base classes directly. Can be used to access the underlying object as an attribute. |\n"
   ]
  },
  {
   "attachments": {},
   "cell_type": "markdown",
   "metadata": {},
   "source": [
    "### <a id='toc13_2_'></a>`deque` [&#8593;](#toc0_)\n"
   ]
  },
  {
   "attachments": {},
   "cell_type": "markdown",
   "metadata": {},
   "source": [
    "-   Short for _Double-Ended QUEue_\n",
    "-   List-like objects that support thread-safe, memory-efficient appends\n",
    "-   Mutable, support some of the operations of lists\n",
    "-   Can be assigned by index, but cannot be sliced\n",
    "-   Advantages over list:\n",
    "    -   Inserting items at the beginning of a deque is much faster than at the end\n",
    "    -   However, inserting items at the end of a deque is slightly slower than the equivalent operation on a list\n",
    "    -   Thread-safe\n",
    "    -   Can be serialized using `pickle` module\n",
    "    -   Items in deques are usually populated and consumed sequentially from either end\n"
   ]
  },
  {
   "cell_type": "code",
   "execution_count": 62,
   "metadata": {},
   "outputs": [
    {
     "name": "stdout",
     "output_type": "stream",
     "text": [
      "deque(['a', 'b', 'c'])\n",
      "deque(['a', 'b', 'c', 'd'])\n",
      "deque(['0', 'a', 'b', 'c', 'd'])\n",
      "deque(['0', 'a', 'b', 'c', 'd', 'e', 'f', 'g'])\n",
      "deque(['z', 'y', 'x', '0', 'a', 'b', 'c', 'd', 'e', 'f', 'g'])\n"
     ]
    }
   ],
   "source": [
    "# Import\n",
    "from collections import deque\n",
    "\n",
    "# Create a deque instance from the 'abc' string\n",
    "dq: deque[str] = deque(\"abc\")\n",
    "print(dq)\n",
    "\n",
    "# Append an element at the end\n",
    "dq.append(\"d\")\n",
    "print(dq)\n",
    "\n",
    "# Append an element at the beginning\n",
    "dq.appendleft(\"0\")\n",
    "print(dq)\n",
    "\n",
    "# Extend elements at the end from an existing iterable\n",
    "dq.extend([\"e\", \"f\", \"g\"])\n",
    "print(dq)\n",
    "\n",
    "# Extend elements at the beginning from an existing iterable\n",
    "dq.extendleft(\"xyz\")\n",
    "print(dq)\n"
   ]
  },
  {
   "attachments": {},
   "cell_type": "markdown",
   "metadata": {},
   "source": [
    "-   To consume elements from deque, use `pop()` and `popleft()`\n"
   ]
  },
  {
   "cell_type": "code",
   "execution_count": 63,
   "metadata": {},
   "outputs": [
    {
     "name": "stdout",
     "output_type": "stream",
     "text": [
      "g\n",
      "deque(['z', 'y', 'x', '0', 'a', 'b', 'c', 'd', 'e', 'f'])\n",
      "z\n",
      "deque(['y', 'x', '0', 'a', 'b', 'c', 'd', 'e', 'f'])\n"
     ]
    }
   ],
   "source": [
    "# Remove and return last element\n",
    "el: str = dq.pop()\n",
    "print(el)\n",
    "print(dq)\n",
    "\n",
    "# Remove and return first element\n",
    "el = dq.popleft()\n",
    "print(el)\n",
    "print(dq)\n"
   ]
  },
  {
   "attachments": {},
   "cell_type": "markdown",
   "metadata": {},
   "source": [
    "-   We can also _swipe_ or _rotate_ the elements toward the left or the right\n",
    "    -   Use positive integer for steps to swipe to the right\n",
    "    -   Use negative integer for steps to swipe to the left\n"
   ]
  },
  {
   "cell_type": "code",
   "execution_count": 64,
   "metadata": {},
   "outputs": [
    {
     "name": "stdout",
     "output_type": "stream",
     "text": [
      "deque(['y', 'x', '0', 'a', 'b', 'c', 'd', 'e', 'f'])\n",
      "deque(['e', 'f', 'y', 'x', '0', 'a', 'b', 'c', 'd'])\n",
      "deque(['y', 'x', '0', 'a', 'b', 'c', 'd', 'e', 'f'])\n"
     ]
    }
   ],
   "source": [
    "print(dq)\n",
    "\n",
    "# Rotate by 2 steps to the right\n",
    "dq.rotate(2)\n",
    "print(dq)\n",
    "\n",
    "# Rotate by 2 steps to the left\n",
    "dq.rotate(-2)\n",
    "print(dq)\n"
   ]
  },
  {
   "attachments": {},
   "cell_type": "markdown",
   "metadata": {},
   "source": [
    "-   We can use `rotate()` and `pop()` in combo to remove a specific element\n",
    "-   We can also remove a slice of a deque as a list using `itertools.islice()`\n",
    "-   `itertools.islice()` will return by value and will not affect the original deque\n",
    "-   `itertools.islice()` works in the same way that slice works on a list\n",
    "-   Except rather than taking a list for an argument, it takes an iterable and returns selected values, by start and stop indices, as a list\n"
   ]
  },
  {
   "cell_type": "code",
   "execution_count": 65,
   "metadata": {},
   "outputs": [
    {
     "name": "stdout",
     "output_type": "stream",
     "text": [
      "['0', 'a']\n",
      "deque(['y', 'x', '0', 'a', 'b', 'c', 'd', 'e', 'f'])\n"
     ]
    }
   ],
   "source": [
    "# Import\n",
    "from itertools import islice\n",
    "\n",
    "# Return by value: Does not affect the original deque\n",
    "sliced: list[str] = list(islice(dq, 2, 4))  # Return the slice between index 2 and 4\n",
    "\n",
    "print(sliced)\n",
    "print(dq)\n"
   ]
  },
  {
   "attachments": {},
   "cell_type": "markdown",
   "metadata": {},
   "source": [
    "-   We could reach the same conclusion by casting the deque into a list\n"
   ]
  },
  {
   "cell_type": "code",
   "execution_count": 66,
   "metadata": {},
   "outputs": [
    {
     "name": "stdout",
     "output_type": "stream",
     "text": [
      "['0', 'a']\n",
      "deque(['y', 'x', '0', 'a', 'b', 'c', 'd', 'e', 'f'])\n"
     ]
    }
   ],
   "source": [
    "ls: list[str] = list(dq)  # By value. dq is still intact\n",
    "sliced_ls: list[str] = ls[2:4]\n",
    "\n",
    "print(sliced_ls)\n",
    "print(dq)\n"
   ]
  },
  {
   "attachments": {},
   "cell_type": "markdown",
   "metadata": {},
   "source": [
    "-   `deque()` support a `maxlen` optional parameter that restricts the size of the deque\n",
    "-   Ideally suited for a data structure known as a **_Circular Buffer_**\n",
    "    -   Fixed-size structure that is effectively connected end to end and they are typically used for buffering data streams\n",
    "    -   Once `maxlen` is reached, the oldest element is kicked out on the next append\n"
   ]
  },
  {
   "cell_type": "code",
   "execution_count": 67,
   "metadata": {},
   "outputs": [
    {
     "name": "stdout",
     "output_type": "stream",
     "text": [
      "deque([0], maxlen=4)\n",
      "deque([0, 1], maxlen=4)\n",
      "deque([0, 1, 2], maxlen=4)\n",
      "deque([0, 1, 2, 3], maxlen=4)\n",
      "deque([1, 2, 3, 4], maxlen=4)\n",
      "deque([2, 3, 4, 5], maxlen=4)\n",
      "deque([3, 4, 5, 6], maxlen=4)\n",
      "deque([4, 5, 6, 7], maxlen=4)\n",
      "deque([5, 6, 7, 8], maxlen=4)\n",
      "deque([6, 7, 8, 9], maxlen=4)\n"
     ]
    }
   ],
   "source": [
    "dq2: deque[int] = deque([], maxlen=4)\n",
    "\n",
    "# Populating into the right, consuming from the left\n",
    "for i in range(10):\n",
    "    dq2.append(i)\n",
    "    print(dq2)\n"
   ]
  },
  {
   "cell_type": "code",
   "execution_count": 68,
   "metadata": {},
   "outputs": [
    {
     "name": "stdout",
     "output_type": "stream",
     "text": [
      "deque([0], maxlen=4)\n",
      "deque([1, 0], maxlen=4)\n",
      "deque([2, 1, 0], maxlen=4)\n",
      "deque([3, 2, 1, 0], maxlen=4)\n",
      "deque([4, 3, 2, 1], maxlen=4)\n",
      "deque([5, 4, 3, 2], maxlen=4)\n",
      "deque([6, 5, 4, 3], maxlen=4)\n",
      "deque([7, 6, 5, 4], maxlen=4)\n",
      "deque([8, 7, 6, 5], maxlen=4)\n",
      "deque([9, 8, 7, 6], maxlen=4)\n"
     ]
    }
   ],
   "source": [
    "dq3: deque[int] = deque([], maxlen=4)\n",
    "\n",
    "# Populating int the left, consuming from the right\n",
    "for i in range(10):\n",
    "    dq3.appendleft(i)\n",
    "    print(dq3)\n"
   ]
  },
  {
   "attachments": {},
   "cell_type": "markdown",
   "metadata": {},
   "source": [
    "### <a id='toc13_3_'></a>`ChainMap` [&#8593;](#toc0_)\n"
   ]
  },
  {
   "attachments": {},
   "cell_type": "markdown",
   "metadata": {},
   "source": [
    "-   Added to Python since version 3.2\n",
    "-   Provides a way to link a number of dictionaries, or other mappings, so that they can be treated as one object\n",
    "    -   `maps` attribute\n",
    "    -   `new_child()` method\n",
    "    -   `parents` property\n",
    "-   The underlying mappings for `ChainMap` objects are stored in a list and are accessible using the `maps[i]` attribute to retrieve the `i`th dictionary\n",
    "-   **ChainMap objects are ordered lists of dictionaries**\n",
    "-   Useful in applications where we are using a number of dictionaries containing related data\n",
    "-   The consuming application expects data in terms of a priority, where the same key in two dictionaries is given priority if it occurs at the beginning of the underlying list\n",
    "-   Typically used to simulate nested contexts such as when we have multiple overriding configuration settings\n"
   ]
  },
  {
   "cell_type": "code",
   "execution_count": 69,
   "metadata": {},
   "outputs": [
    {
     "name": "stdout",
     "output_type": "stream",
     "text": [
      "ChainMap({'user_id': '1', 'f_name': 'John', 'l_name': 'Smith'}, {'car_id': '4', 'car_brand': 'Toyota', 'car_model': 'Prius'})\n",
      "[{'user_id': '1', 'f_name': 'John', 'l_name': 'Smith'}, {'car_id': '4', 'car_brand': 'Toyota', 'car_model': 'Prius'}]\n",
      "<bound method Mapping.values of ChainMap({'user_id': '1', 'f_name': 'John', 'l_name': 'Smith'}, {'car_id': '4', 'car_brand': 'Toyota', 'car_model': 'Prius'})>\n",
      "Toyota\n",
      "John\n"
     ]
    }
   ],
   "source": [
    "from collections import ChainMap\n",
    "\n",
    "dict1: dict[str, str] = {\"user_id\": \"1\", \"f_name\": \"John\", \"l_name\": \"Smith\"}\n",
    "dict2: dict[str, str] = {\"car_id\": \"4\", \"car_brand\": \"Toyota\", \"car_model\": \"Prius\"}\n",
    "cnmp: ChainMap[str, str] = ChainMap(dict1, dict2)  # linking two dictionaries\n",
    "\n",
    "print(cnmp)\n",
    "print(cnmp.maps)\n",
    "print(cnmp.values)\n",
    "print(cnmp[\"car_brand\"])  # accessing values\n",
    "print(cnmp[\"f_name\"])  # accessing values\n"
   ]
  },
  {
   "attachments": {},
   "cell_type": "markdown",
   "metadata": {},
   "source": [
    "-   **Advantages of chainmap over dictionary**\n",
    "    -   We can retain previously-set values\n",
    "    -   Adding a child context overrides values for the same key, but it does not remove it from the data structure\n",
    "    -   Useful for keeping change records\n",
    "    -   We can retrieve and change any value in any of the dictionaries by providing the `map()` method with an appropriate index\n",
    "    -   The index is a dictionary in within the ChainMap instance\n",
    "    -   We can retrieve the parent setting, that is, the default settings, by using the `parents()` method\n"
   ]
  },
  {
   "cell_type": "code",
   "execution_count": 70,
   "metadata": {},
   "outputs": [
    {
     "name": "stdout",
     "output_type": "stream",
     "text": [
      "[{'theme': 'Default', 'language': 'eng', 'showIndex': True, 'showFooter': True}]\n",
      "ValuesView(ChainMap({'theme': 'Default', 'language': 'eng', 'showIndex': True, 'showFooter': True}))\n",
      "ChainMap({'theme': 'bluesky'}, {'theme': 'Default', 'language': 'eng', 'showIndex': True, 'showFooter': True})\n",
      "bluesky\n",
      "bluesky\n",
      "Default\n",
      "ChainMap({}, {'theme': 'Default', 'language': 'eng', 'showIndex': True, 'showFooter': True})\n",
      "ChainMap({'theme': 'Default', 'language': 'eng', 'showIndex': True, 'showFooter': True})\n"
     ]
    }
   ],
   "source": [
    "from typing import Any\n",
    "\n",
    "defaults: dict[str, Any] = {\n",
    "    \"theme\": \"Default\",\n",
    "    \"language\": \"eng\",\n",
    "    \"showIndex\": True,\n",
    "    \"showFooter\": True,\n",
    "}\n",
    "\n",
    "cm: ChainMap[str, Any] = ChainMap(\n",
    "    defaults\n",
    ")  # creates a chainMap with defaults configuration\n",
    "print(cm.maps)\n",
    "print(cm.values())\n",
    "\n",
    "cm2: ChainMap[str, Any] = cm.new_child(\n",
    "    {\"theme\": \"bluesky\"}\n",
    ")  # create a new chainMap with a child that overrides the parent.\n",
    "print(cm2)\n",
    "print(cm2[\"theme\"])  # returns the overridden theme'bluesky'\n",
    "print(cm2.pop(\"theme\"))  # removes the child theme value\n",
    "print(cm2[\"theme\"])  # returns the default again\n",
    "print(cm2)\n",
    "print(cm2.parents)\n"
   ]
  },
  {
   "attachments": {},
   "cell_type": "markdown",
   "metadata": {},
   "source": [
    "### <a id='toc13_4_'></a>`Counter` [&#8593;](#toc0_)\n"
   ]
  },
  {
   "attachments": {},
   "cell_type": "markdown",
   "metadata": {},
   "source": [
    "-   A subclass of a dictionary\n",
    "-   Each dictionary key is a hashable object\n",
    "-   The associated value is an integer count of that object\n",
    "-   Initialization:\n",
    "    -   We can pass it any sequence object\n",
    "    -   We can pass it a dictionary of `key:value` pairs\n",
    "    -   We can pass it a tuple of the format `(object=value,...)`\n",
    "    -   Or we can create an empty counter object and populate it by passing its `update()` method an iterable or a dictionary\n",
    "-   The `update()` method adds the counts rather than replacing them with new values\n"
   ]
  },
  {
   "cell_type": "code",
   "execution_count": 71,
   "metadata": {},
   "outputs": [
    {
     "name": "stdout",
     "output_type": "stream",
     "text": [
      "Counter({'e': 3, 'n': 2, 'a': 1, 'y': 1, 's': 1, 'q': 1, 'u': 1, 'c': 1})\n",
      "Counter({'e': 3, 'a': 1, 'c': 1})\n",
      "Counter({'e': 3, 'a': 1, 'c': 1})\n",
      "\n",
      "Counter()\n",
      "Counter({'a': 5, 'b': 2, 'r': 2, 'c': 1, 'd': 1})\n",
      "Counter({'a': 8, 'b': 2, 'r': 2, 'c': 1, 'd': 1})\n",
      "a: 8\n",
      "b: 2\n",
      "r: 2\n",
      "c: 1\n",
      "d: 1\n"
     ]
    }
   ],
   "source": [
    "from collections import Counter\n",
    "from typing import Any\n",
    "\n",
    "ctr1: Counter[str] = Counter(\"anysequence\")\n",
    "ctr2: Counter[str] = Counter({\"a\": 1, \"c\": 1, \"e\": 3})\n",
    "ctr3: Counter[str] = Counter(a=1, c=1, e=3)\n",
    "\n",
    "print(ctr1)\n",
    "print(ctr2)\n",
    "print(ctr3)\n",
    "print()\n",
    "\n",
    "ct: Counter[str] = Counter()  # creates an empty counter object\n",
    "print(ct)\n",
    "\n",
    "ct.update(\"abracadabra\")  # populates the object\n",
    "print(ct)\n",
    "\n",
    "ct.update({\"a\": 3})  # update the count of 'a'. This will add to existing count\n",
    "print(ct)\n",
    "\n",
    "for k in ct:\n",
    "    print(f\"{k:s}: {ct[k]:d}\")\n"
   ]
  },
  {
   "attachments": {},
   "cell_type": "markdown",
   "metadata": {},
   "source": [
    "-   **Counter vs Dictionary**\n",
    "    -   Counter objects return a zero count for missing items rather than raising a key error\n",
    "-   We can create an iterator out of a Counter object by using its `elements()` method\n",
    "    -   Returns an iterator where counts below one are not included and the order is not guaranteed\n"
   ]
  },
  {
   "cell_type": "code",
   "execution_count": 72,
   "metadata": {},
   "outputs": [
    {
     "name": "stdout",
     "output_type": "stream",
     "text": [
      "Counter({'a': 8, 'b': 2, 'r': 2, 'c': 1, 'd': 1})\n",
      "0\n",
      "Counter({'a': 5, 'r': 2, 'e': 2, 'c': 1, 'd': 1, 'b': 0})\n",
      "['a', 'a', 'a', 'a', 'a', 'c', 'd', 'e', 'e', 'r', 'r']\n",
      "{'d', 'a', 'r', 'e', 'c'}\n"
     ]
    }
   ],
   "source": [
    "print(ct)\n",
    "print(ct[\"x\"])  # Missing item\n",
    "\n",
    "ct.update({\"a\": -3, \"b\": -2, \"e\": 2})\n",
    "print(ct)\n",
    "\n",
    "print(sorted(ct.elements()))\n",
    "print(set(ct.elements()))\n"
   ]
  },
  {
   "attachments": {},
   "cell_type": "markdown",
   "metadata": {},
   "source": [
    "-   Other Counter methods:\n",
    "    -   `most_common([int])`\n",
    "        -   Takes a positive integer argument that determines the number of most common elements to return\n",
    "        -   Elements are returned as a list of `(key,value)` tuples\n",
    "    -   `subtract()`\n",
    "        -   Works exactly like `update()` except, instead of adding values, it subtracts them\n"
   ]
  },
  {
   "cell_type": "code",
   "execution_count": 73,
   "metadata": {},
   "outputs": [
    {
     "name": "stdout",
     "output_type": "stream",
     "text": [
      "[('a', 5), ('r', 2), ('e', 2), ('c', 1), ('d', 1), ('b', 0)]\n",
      "[('a', 5), ('r', 2)]\n",
      "[('a', 5)]\n",
      "Counter({'a': 5, 'r': 2, 'c': 1, 'd': 1, 'b': 0, 'e': 0})\n"
     ]
    }
   ],
   "source": [
    "print(ct.most_common())\n",
    "print(ct.most_common(2))\n",
    "print(ct.most_common(1))  # The top most common\n",
    "\n",
    "ct.subtract({\"e\": 2})\n",
    "print(ct)\n"
   ]
  },
  {
   "attachments": {},
   "cell_type": "markdown",
   "metadata": {},
   "source": [
    "### <a id='toc13_5_'></a>`OrderedDict` [&#8593;](#toc0_)\n"
   ]
  },
  {
   "attachments": {},
   "cell_type": "markdown",
   "metadata": {},
   "source": [
    "-   Dictionaries that remember insertion order\n",
    "-   When iterated over, returns values in the order they were added\n",
    "-   Order is also considered as an equality test between two `OrderedDict` objects with the same keys and values\n",
    "    -   A different insertion order will return `False`\n"
   ]
  },
  {
   "cell_type": "code",
   "execution_count": 74,
   "metadata": {},
   "outputs": [
    {
     "name": "stdout",
     "output_type": "stream",
     "text": [
      "od1: OrderedDict([('one', 1), ('two', 2)])\n",
      "od2: OrderedDict([('two', 2), ('one', 1)])\n",
      "od1 == od2 ? False\n",
      "od3: OrderedDict([('one', 1), ('two', 2)])\n",
      "od1 == od3 ? True\n"
     ]
    }
   ],
   "source": [
    "from collections import OrderedDict\n",
    "\n",
    "od1: OrderedDict[str, int] = OrderedDict()\n",
    "od1[\"one\"] = 1\n",
    "od1[\"two\"] = 2\n",
    "\n",
    "print(f\"od1: {od1}\")\n",
    "\n",
    "od2: OrderedDict[str, int] = OrderedDict()\n",
    "od2[\"two\"] = 2\n",
    "od2[\"one\"] = 1\n",
    "print(f\"od2: {od2}\")\n",
    "\n",
    "# Now comparing\n",
    "print(f\"od1 == od2 ? {od1 == od2}\")\n",
    "\n",
    "od3: OrderedDict[str, int] = OrderedDict()\n",
    "od3[\"one\"] = 1\n",
    "od3[\"two\"] = 2\n",
    "print(f\"od3: {od3}\")\n",
    "\n",
    "# Now comparing\n",
    "print(f\"od1 == od3 ? {od1 == od3}\")\n"
   ]
  },
  {
   "attachments": {},
   "cell_type": "markdown",
   "metadata": {},
   "source": [
    "-   When we add values to an `OrderedDict` from an existing list, the order will be kept\n"
   ]
  },
  {
   "cell_type": "code",
   "execution_count": 75,
   "metadata": {},
   "outputs": [
    {
     "name": "stdout",
     "output_type": "stream",
     "text": [
      "od1: OrderedDict([('one', 1), ('two', 2), ('three', 300), ('four', 400), ('five', 500)])\n",
      "one : 1\n",
      "two : 2\n",
      "three : 300\n",
      "four : 400\n",
      "five : 500\n"
     ]
    }
   ],
   "source": [
    "# A random list of tuples\n",
    "kvs: list[tuple[str, int]] = [(\"three\", 300), (\"four\", 400), (\"five\", 500)]\n",
    "\n",
    "od1.update(kvs)\n",
    "print(f\"od1: {od1}\")\n",
    "\n",
    "for k, v in od1.items():\n",
    "    print(k, \":\", v)\n"
   ]
  },
  {
   "attachments": {},
   "cell_type": "markdown",
   "metadata": {},
   "source": [
    "-   `OrderedDict` is often used in conjunction with the `sorted()` method to create a sorted dictionary\n"
   ]
  },
  {
   "cell_type": "code",
   "execution_count": 76,
   "metadata": {},
   "outputs": [
    {
     "name": "stdout",
     "output_type": "stream",
     "text": [
      "odd3: OrderedDict([('five', 500), ('four', 400), ('three', 300), ('one', 1), ('two', 2)])\n",
      "odd3.values(): odict_values([500, 400, 300, 1, 2])\n"
     ]
    }
   ],
   "source": [
    "odd3: OrderedDict[str, int] = OrderedDict(\n",
    "    sorted(od1.items(), key=lambda t: (4 * t[1]) - t[1] ** 2)\n",
    ")\n",
    "print(f\"odd3: {odd3}\")\n",
    "print(f\"odd3.values(): {odd3.values()}\")\n"
   ]
  },
  {
   "attachments": {},
   "cell_type": "markdown",
   "metadata": {},
   "source": [
    "### <a id='toc13_6_'></a>`defaultdict` [&#8593;](#toc0_)\n"
   ]
  },
  {
   "attachments": {},
   "cell_type": "markdown",
   "metadata": {},
   "source": [
    "-   Subclass of `dict`: Share methods and properties\n",
    "-   Convenient way to initialize dictionaries with default values\n",
    "    -   For `dict`, Python will throw `KeyError` when attempting to access a key that is not already in the dictionary\n",
    "    -   For `defaultdict`, Overrides one method, `missing(key)`, and creates a new instance variable, `default_factory`\n",
    "-   Rather than throw an error, it will run the function supplied as the `default_factory` argument, which will generate a value\n",
    "-   A simple use of `defaultdict` is to set `default_factory` to `int` and use it to quickly tally the counts of items in the dictionary\n"
   ]
  },
  {
   "cell_type": "code",
   "execution_count": 77,
   "metadata": {},
   "outputs": [
    {
     "name": "stdout",
     "output_type": "stream",
     "text": [
      "defaultdict(<class 'int'>, {'red': 4, 'blue': 2, 'green': 3, 'yellow': 1})\n"
     ]
    }
   ],
   "source": [
    "from collections import defaultdict\n",
    "\n",
    "dd: defaultdict[str, int] = defaultdict(\n",
    "    int\n",
    ")  # The int() function that simply returns zero by default\n",
    "words: list[str] = str.split(\"red blue green red yellow blue red green green red\")\n",
    "\n",
    "for word in words:\n",
    "    dd[word] += 1  # If we do this in regular dictionary, we will get an error\n",
    "\n",
    "print(dd)\n"
   ]
  },
  {
   "cell_type": "code",
   "execution_count": 78,
   "metadata": {},
   "outputs": [
    {
     "name": "stdout",
     "output_type": "stream",
     "text": [
      "0\n"
     ]
    }
   ],
   "source": [
    "print(dd[\"123\"])  # Accessing a key that does not exist. The default value is given\n"
   ]
  },
  {
   "cell_type": "code",
   "execution_count": 79,
   "metadata": {},
   "outputs": [
    {
     "name": "stdout",
     "output_type": "stream",
     "text": [
      "This is the default value when key does not exist\n"
     ]
    }
   ],
   "source": [
    "dd2: defaultdict[int, str] = defaultdict(\n",
    "    lambda: \"This is the default value when key does not exist\"\n",
    ")\n",
    "\n",
    "print(dd2[123])  # Accessing a key that does not exist\n"
   ]
  },
  {
   "attachments": {},
   "cell_type": "markdown",
   "metadata": {},
   "source": [
    "### <a id='toc13_7_'></a>`namedTuple` [&#8593;](#toc0_)\n"
   ]
  },
  {
   "attachments": {},
   "cell_type": "markdown",
   "metadata": {},
   "source": [
    "-   A tuple-like object that has fields accessible with named indexes as well as the integer indexes of normal tuples\n",
    "-   Makes code self-documenting and more readable\n",
    "-   Inherits methods from tuple and it is backward-compatible with tuple\n",
    "-   Field names are passed to the `namedtuple()` as comma and/or whitespace-separated values\n",
    "    -   Can also be sequence of strings\n",
    "    -   Single strings\n",
    "    -   Can be any legal Python identifier that does not begin with a digit or an underscore\n"
   ]
  },
  {
   "cell_type": "code",
   "execution_count": 80,
   "metadata": {},
   "outputs": [
    {
     "name": "stdout",
     "output_type": "stream",
     "text": [
      "spc1: Space(x=2.0, y=4.0, z=10)\n",
      "80.0\n"
     ]
    }
   ],
   "source": [
    "from typing import NamedTuple\n",
    "\n",
    "\n",
    "# Create a class that inherits from NamedTuple\n",
    "class Space(NamedTuple):\n",
    "    x: float\n",
    "    y: float\n",
    "    z: float\n",
    "\n",
    "\n",
    "# from collections import namedtuple\n",
    "# Space = namedtuple(\"Space\", \"x y z\")\n",
    "\n",
    "spc1: Space = Space(x=2.0, y=4.0, z=10)  # we can also use space(2.0, 4.0, 10)\n",
    "\n",
    "print(f\"spc1: {spc1}\")\n",
    "print(spc1.x * spc1.y * spc1.z)  # calculate the volume\n"
   ]
  },
  {
   "attachments": {},
   "cell_type": "markdown",
   "metadata": {},
   "source": [
    "-   Additional methods of `namedTuple` (Underscore to avoid potential conflicts):\n",
    "    -   `_make()`: takes an iterable as an argument and turns it into a named tuple object\n",
    "    -   `asdict()`: returns an `OrderedDict` with the field names mapped to tuple index keys and the values mapped to the tuple values\n",
    "    -   `_replace()`: returns a new instance of the tuple, replacing the specified values\n",
    "    -   `_fields`: returns the tuple of string listing the fields names\n",
    "    -   `_fields_defaults`: provides dictionary mapping field names to the default values\n"
   ]
  },
  {
   "cell_type": "code",
   "execution_count": 81,
   "metadata": {},
   "outputs": [
    {
     "name": "stdout",
     "output_type": "stream",
     "text": [
      "[4, 5, 6]\n",
      "Space(x=4, y=5, z=6)\n",
      "5\n",
      "5\n"
     ]
    }
   ],
   "source": [
    "spc2_values: list[int] = [4, 5, 6]\n",
    "print(spc2_values)\n",
    "\n",
    "spc2: Space = Space._make(spc2_values)\n",
    "print(spc2)\n",
    "\n",
    "print(spc2.y)  # Accessing with key\n",
    "print(spc2[1])  # Accessing with index\n"
   ]
  },
  {
   "cell_type": "code",
   "execution_count": 82,
   "metadata": {},
   "outputs": [
    {
     "name": "stdout",
     "output_type": "stream",
     "text": [
      "{'x': 2.0, 'y': 4.0, 'z': 10}\n",
      "Space(x=7, y=4.0, z=9)\n",
      "('x', 'y', 'z')\n",
      "{}\n"
     ]
    }
   ],
   "source": [
    "print(spc1._asdict())\n",
    "\n",
    "spc1 = spc1._replace(x=7, z=9)\n",
    "print(spc1)\n",
    "\n",
    "print(spc1._fields)\n",
    "print(spc1._field_defaults)\n"
   ]
  },
  {
   "attachments": {},
   "cell_type": "markdown",
   "metadata": {},
   "source": [
    "## <a id='toc14_'></a>`array` Module [&#8593;](#toc0_)\n"
   ]
  },
  {
   "attachments": {},
   "cell_type": "markdown",
   "metadata": {},
   "source": [
    "-   Similar to `list`. Also mutable.\n",
    "-   **But must only contain a single data type**\n",
    "-   Similar to C-arrays, support C-types in the lower-end\n",
    "-   The type of an array is determined at creation time by the following code\n",
    "\n",
    "| Python Array Type | Python-Type Equivalent | C-Type Equivalent  | Minimum length |\n",
    "| :---------------- | :--------------------- | :----------------- | :------------- |\n",
    "| `b`               | `int`                  | `signedchar`       | 1 byte         |\n",
    "| `B`               | `int`                  | `unsignedchar`     | 1 byte         |\n",
    "| `u`               | Unicode character      | `Py_UNICODE`       | 2 bytes        |\n",
    "| `h`               | `int`                  | `signedshort`      | 2 bytes        |\n",
    "| `H`               | `int`                  | `unsignedshort`    | 2 bytes        |\n",
    "| `i`               | `int`                  | `signedint`        | 2 bytes        |\n",
    "| `I`               | `int`                  | `unsignedint`      | 2 bytes        |\n",
    "| `l`               | `int`                  | `signedlong`       | 4 bytes        |\n",
    "| `L`               | `int`                  | `unsignedlong`     | 8 bytes        |\n",
    "| `q`               | `int`                  | `signedlonglong`   | 8 bytes        |\n",
    "| `Q`               | `int`                  | `unsignedlonglong` | 8 bytes        |\n",
    "| `f`               | `float`                | `float`            | 4 bytes        |\n",
    "| `d`               | `float`                | `double`           | 8 bytes        |\n"
   ]
  },
  {
   "attachments": {},
   "cell_type": "markdown",
   "metadata": {},
   "source": [
    "### <a id='toc14_1_'></a>Array Attributes and Methods [&#8593;](#toc0_)\n"
   ]
  },
  {
   "attachments": {},
   "cell_type": "markdown",
   "metadata": {},
   "source": [
    "| Attribute & Method | Definition                                                                                              |\n",
    "| :----------------- | :------------------------------------------------------------------------------------------------------ |\n",
    "| `a.itemsize`       | Size of one array item in bytes                                                                         |\n",
    "| `a.append(x)`      | Appends an `x` element at the end of the `a` array                                                      |\n",
    "| `a.buffer_info()`  | Returns a tuple containing the current memory location and length of the buffer used to store the array |\n",
    "| `a.byteswap()`     | Swaps the byte order of each item in the `a` array                                                      |\n",
    "| `a.count(x)`       | Returns the occurrences of `x` in the `a` array                                                         |\n",
    "| `a.extend(b)`      | Appends all the elements from iterable `b` at the end of the `a` array                                  |\n",
    "| `a.frombytes(s)`   | Appends elements from a string `s`, where the string is an array of machine values                      |\n",
    "| `a.fromfile(f,n)`  | Reads `n` machine values from the file and appends them at the end of the array                         |\n",
    "| `a.fromlist(l)`    | Appends all of the elements from the `l` list to the array                                              |\n",
    "| `a.fromunicode(s)` | Extends an array of the `u` type with the Unicode string `s`                                            |\n",
    "| `a.index(x)`       | Returns the first (smallest) index of the `x` element                                                   |\n",
    "| `a.insert(i,x)`    | Inserts an item of which the value is `x`, in the array at `i` index position                           |\n",
    "| `a.pop([i])`       | Returns the item at index `i` and removes it from the array                                             |\n",
    "| `a.remove(x)`      | Removes the first occurrence of the `x` item from the array                                             |\n",
    "| `a.reverse()`      | Reverses the order of items in the `a` array                                                            |\n",
    "| `a.tofile(f)`      | Writes all the elements to the `f` file object                                                          |\n",
    "| `a.tolist()`       | Converts the array into a list                                                                          |\n",
    "| `a.tounicode()`    | Converts an array of the `u` type into a Unicode string                                                 |\n"
   ]
  },
  {
   "attachments": {},
   "cell_type": "markdown",
   "metadata": {},
   "source": [
    "-   Support all of the normal sequence operations such as indexing, slicing, concatenation, and multiplication\n",
    "-   Much more efficient way of storing data that is of the same type (vs list, which is heterogenous)\n",
    "-   Memory efficient: Storing one million integers in an integer array requires around 50% less of the memory of an equivalent list\n"
   ]
  },
  {
   "cell_type": "code",
   "execution_count": 83,
   "metadata": {},
   "outputs": [
    {
     "name": "stdout",
     "output_type": "stream",
     "text": [
      "array_size: 4091948\n",
      "list_size: 8000056\n",
      "proportion: 0.511489919570563\n"
     ]
    }
   ],
   "source": [
    "# Import Modules\n",
    "from array import array\n",
    "from sys import getsizeof\n",
    "from typing import MutableSequence\n",
    "\n",
    "# Instantiate an Array and a List\n",
    "ba: MutableSequence[int] = array(\"i\", range(10**6))  # 1 million integers\n",
    "bl: list[int] = list(range(10**6))  # 1 million integers\n",
    "\n",
    "# Compare the size of Array and List\n",
    "size_ba: int = getsizeof(ba)\n",
    "size_bl: int = getsizeof(bl)\n",
    "\n",
    "print(f\"array_size: {size_ba}\")\n",
    "print(f\"list_size: {size_bl}\")\n",
    "print(f\"proportion: {size_ba / size_bl}\")\n"
   ]
  },
  {
   "attachments": {},
   "cell_type": "markdown",
   "metadata": {},
   "source": [
    "-   Because we are interested in saving space, that is, we are dealing with large datasets and limited memory size, we usually perform in-place operations on arrays, and only create copies when we need to\n",
    "-   `enumerate()` is used to perform an operation on each element\n",
    "-   When performing operations on arrays that create lists, such as list comprehensions, the memory efficiency gains of using an array will be negated\n",
    "-   When we need to create a new data object, a solution is to use a generator expression to perform the operation\n",
    "-   Arrays created with this module are unsuitable for work that requires a matrix of vector operations\n",
    "    -   Important for numerical work is the `NumPy` extension instead\n"
   ]
  }
 ],
 "metadata": {
  "hide_input": false,
  "kernelspec": {
   "display_name": "Python 3 (ipykernel)",
   "language": "python",
   "name": "python3"
  },
  "language_info": {
   "codemirror_mode": {
    "name": "ipython",
    "version": 3
   },
   "file_extension": ".py",
   "mimetype": "text/x-python",
   "name": "python",
   "nbconvert_exporter": "python",
   "pygments_lexer": "ipython3",
   "version": "3.11.3"
  },
  "toc": {
   "base_numbering": 1,
   "nav_menu": {},
   "number_sections": true,
   "sideBar": true,
   "skip_h1_title": true,
   "title_cell": "Table of Contents",
   "title_sidebar": "Contents",
   "toc_cell": true,
   "toc_position": {
    "height": "calc(100% - 180px)",
    "left": "10px",
    "top": "150px",
    "width": "237.323px"
   },
   "toc_section_display": true,
   "toc_window_display": true
  },
  "varInspector": {
   "cols": {
    "lenName": 16,
    "lenType": 16,
    "lenVar": 40
   },
   "kernels_config": {
    "python": {
     "delete_cmd_postfix": "",
     "delete_cmd_prefix": "del ",
     "library": "var_list.py",
     "varRefreshCmd": "print(var_dic_list())"
    },
    "r": {
     "delete_cmd_postfix": ") ",
     "delete_cmd_prefix": "rm(",
     "library": "var_list.r",
     "varRefreshCmd": "cat(var_dic_list()) "
    }
   },
   "types_to_exclude": [
    "module",
    "function",
    "builtin_function_or_method",
    "instance",
    "_Feature"
   ],
   "window_display": false
  }
 },
 "nbformat": 4,
 "nbformat_minor": 4
}
