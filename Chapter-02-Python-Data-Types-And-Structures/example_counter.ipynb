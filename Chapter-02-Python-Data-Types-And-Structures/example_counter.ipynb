{
 "cells": [
  {
   "attachments": {},
   "cell_type": "markdown",
   "metadata": {},
   "source": [
    "# Counter Example\n"
   ]
  },
  {
   "cell_type": "code",
   "execution_count": 1,
   "metadata": {},
   "outputs": [],
   "source": [
    "# Import the module\n",
    "from collections import Counter\n",
    "\n",
    "# Instantiate\n",
    "c1: Counter[str] = Counter(\"anysequence\")\n",
    "c2: Counter[str] = Counter({\"a\": 1, \"c\": 1, \"e\": 3})\n",
    "c3: Counter[str] = Counter(a=1, c=1, e=3)\n"
   ]
  },
  {
   "cell_type": "code",
   "execution_count": 2,
   "metadata": {},
   "outputs": [
    {
     "name": "stdout",
     "output_type": "stream",
     "text": [
      "Print counter 1 is: Counter({'e': 3, 'n': 2, 'a': 1, 'y': 1, 's': 1, 'q': 1, 'u': 1, 'c': 1})\n",
      "Print counter 2 is: Counter({'e': 3, 'a': 1, 'c': 1})\n",
      "Print counter 3 is: Counter({'e': 3, 'a': 1, 'c': 1})\n"
     ]
    }
   ],
   "source": [
    "print(\"Print counter 1 is:\", c1)\n",
    "print(\"Print counter 2 is:\", c2)\n",
    "print(\"Print counter 3 is:\", c3)\n"
   ]
  },
  {
   "cell_type": "code",
   "execution_count": 3,
   "metadata": {},
   "outputs": [
    {
     "name": "stdout",
     "output_type": "stream",
     "text": [
      "print an empty counter---- Counter()\n"
     ]
    }
   ],
   "source": [
    "ct: Counter[str] = Counter()  # creates an empty counter object\n",
    "print(\"print an empty counter----\", ct)\n"
   ]
  },
  {
   "cell_type": "code",
   "execution_count": 4,
   "metadata": {},
   "outputs": [
    {
     "name": "stdout",
     "output_type": "stream",
     "text": [
      "print updated counter --- Counter({'a': 2, 'b': 1, 'c': 1})\n"
     ]
    }
   ],
   "source": [
    "ct.update(\"abca\")  # populates the object\n",
    "print(\"print updated counter ---\", ct)\n"
   ]
  },
  {
   "cell_type": "code",
   "execution_count": 5,
   "metadata": {},
   "outputs": [
    {
     "name": "stdout",
     "output_type": "stream",
     "text": [
      "print updated counter Counter({'a': 5, 'b': 1, 'c': 1})\n"
     ]
    }
   ],
   "source": [
    "ct.update({\"a\": 3})  # update the count of 'a'\n",
    "print(\"print updated counter\", ct)\n"
   ]
  },
  {
   "cell_type": "code",
   "execution_count": 6,
   "metadata": {},
   "outputs": [
    {
     "name": "stdout",
     "output_type": "stream",
     "text": [
      "a: 5\n",
      "b: 1\n",
      "c: 1\n"
     ]
    }
   ],
   "source": [
    "# access all the items in the counter\n",
    "for item in ct:\n",
    "    print(f\"{item:s}: {ct[item]:d}\")\n"
   ]
  },
  {
   "cell_type": "code",
   "execution_count": 7,
   "metadata": {},
   "outputs": [
    {
     "name": "stdout",
     "output_type": "stream",
     "text": [
      "Print element which is not present 0\n"
     ]
    }
   ],
   "source": [
    "print(\"Print element which is not present\", ct[\"x\"])\n"
   ]
  },
  {
   "cell_type": "code",
   "execution_count": 8,
   "metadata": {},
   "outputs": [
    {
     "name": "stdout",
     "output_type": "stream",
     "text": [
      "updated counter Counter({'a': 2, 'e': 2, 'c': 1, 'b': -1})\n"
     ]
    }
   ],
   "source": [
    "ct.update({\"a\": -3, \"b\": -2, \"e\": 2})\n",
    "print(\"updated counter\", ct)\n"
   ]
  },
  {
   "cell_type": "code",
   "execution_count": 9,
   "metadata": {},
   "outputs": [
    {
     "name": "stdout",
     "output_type": "stream",
     "text": [
      "print sorted elements ['a', 'a', 'c', 'e', 'e']\n"
     ]
    }
   ],
   "source": [
    "print(\"print sorted elements\", sorted(ct.elements()))\n"
   ]
  },
  {
   "cell_type": "code",
   "execution_count": 10,
   "metadata": {},
   "outputs": [
    {
     "name": "stdout",
     "output_type": "stream",
     "text": [
      "print most common elements [('a', 2), ('e', 2), ('c', 1), ('b', -1)]\n"
     ]
    }
   ],
   "source": [
    "print(\"print most common elements\", ct.most_common())\n"
   ]
  },
  {
   "cell_type": "code",
   "execution_count": 11,
   "metadata": {},
   "outputs": [
    {
     "name": "stdout",
     "output_type": "stream",
     "text": [
      "print updated counter Counter({'a': 2, 'c': 1, 'e': 0, 'b': -1})\n"
     ]
    }
   ],
   "source": [
    "ct.subtract({\"e\": 2})\n",
    "print(\"print updated counter\", ct)\n"
   ]
  }
 ],
 "metadata": {
  "hide_input": false,
  "kernelspec": {
   "display_name": "Python 3 (ipykernel)",
   "language": "python",
   "name": "python3"
  },
  "language_info": {
   "codemirror_mode": {
    "name": "ipython",
    "version": 3
   },
   "file_extension": ".py",
   "mimetype": "text/x-python",
   "name": "python",
   "nbconvert_exporter": "python",
   "pygments_lexer": "ipython3",
   "version": "3.11.3"
  },
  "toc": {
   "base_numbering": 1,
   "nav_menu": {},
   "number_sections": false,
   "sideBar": false,
   "skip_h1_title": false,
   "title_cell": "Table of Contents",
   "title_sidebar": "Contents",
   "toc_cell": false,
   "toc_position": {},
   "toc_section_display": false,
   "toc_window_display": false
  },
  "varInspector": {
   "cols": {
    "lenName": 16,
    "lenType": 16,
    "lenVar": 40
   },
   "kernels_config": {
    "python": {
     "delete_cmd_postfix": "",
     "delete_cmd_prefix": "del ",
     "library": "var_list.py",
     "varRefreshCmd": "print(var_dic_list())"
    },
    "r": {
     "delete_cmd_postfix": ") ",
     "delete_cmd_prefix": "rm(",
     "library": "var_list.r",
     "varRefreshCmd": "cat(var_dic_list()) "
    }
   },
   "types_to_exclude": [
    "module",
    "function",
    "builtin_function_or_method",
    "instance",
    "_Feature"
   ],
   "window_display": false
  }
 },
 "nbformat": 4,
 "nbformat_minor": 4
}
