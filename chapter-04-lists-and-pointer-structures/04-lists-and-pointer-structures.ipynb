{
 "cells": [
  {
   "cell_type": "markdown",
   "metadata": {
    "toc": true
   },
   "source": [
    "<h1>Table of Contents<span class=\"tocSkip\"></span></h1>\n",
    "<div class=\"toc\"><ul class=\"toc-item\"><li><span><a href=\"#Chapter-Goals\" data-toc-modified-id=\"Chapter-Goals-1\"><span class=\"toc-item-num\">1&nbsp;&nbsp;</span>Chapter Goals</a></span></li><li><span><a href=\"#Pointers-In-Python\" data-toc-modified-id=\"Pointers-In-Python-2\"><span class=\"toc-item-num\">2&nbsp;&nbsp;</span>Pointers In Python</a></span></li><li><span><a href=\"#Arrays\" data-toc-modified-id=\"Arrays-3\"><span class=\"toc-item-num\">3&nbsp;&nbsp;</span>Arrays</a></span></li><li><span><a href=\"#Pointer-Structures\" data-toc-modified-id=\"Pointer-Structures-4\"><span class=\"toc-item-num\">4&nbsp;&nbsp;</span>Pointer Structures</a></span><ul class=\"toc-item\"><li><span><a href=\"#Benefits-of-Pointer-Structures\" data-toc-modified-id=\"Benefits-of-Pointer-Structures-4.1\"><span class=\"toc-item-num\">4.1&nbsp;&nbsp;</span>Benefits of Pointer Structures</a></span></li><li><span><a href=\"#Costs-of-Pointer-Structures\" data-toc-modified-id=\"Costs-of-Pointer-Structures-4.2\"><span class=\"toc-item-num\">4.2&nbsp;&nbsp;</span>Costs of Pointer Structures</a></span></li><li><span><a href=\"#Nodes\" data-toc-modified-id=\"Nodes-4.3\"><span class=\"toc-item-num\">4.3&nbsp;&nbsp;</span>Nodes</a></span><ul class=\"toc-item\"><li><span><a href=\"#Finding-Endpoints\" data-toc-modified-id=\"Finding-Endpoints-4.3.1\"><span class=\"toc-item-num\">4.3.1&nbsp;&nbsp;</span>Finding Endpoints</a></span></li></ul></li><li><span><a href=\"#Node-Class\" data-toc-modified-id=\"Node-Class-4.4\"><span class=\"toc-item-num\">4.4&nbsp;&nbsp;</span>Node Class</a></span><ul class=\"toc-item\"><li><span><a href=\"#Other-Node-Types\" data-toc-modified-id=\"Other-Node-Types-4.4.1\"><span class=\"toc-item-num\">4.4.1&nbsp;&nbsp;</span>Other Node Types</a></span></li></ul></li></ul></li><li><span><a href=\"#Introducing-Lists\" data-toc-modified-id=\"Introducing-Lists-5\"><span class=\"toc-item-num\">5&nbsp;&nbsp;</span>Introducing Lists</a></span><ul class=\"toc-item\"><li><span><a href=\"#Singly-Linked-List\" data-toc-modified-id=\"Singly-Linked-List-5.1\"><span class=\"toc-item-num\">5.1&nbsp;&nbsp;</span>Singly Linked List</a></span><ul class=\"toc-item\"><li><span><a href=\"#Problems-With-This-Simple-Implementation\" data-toc-modified-id=\"Problems-With-This-Simple-Implementation-5.1.1\"><span class=\"toc-item-num\">5.1.1&nbsp;&nbsp;</span>Problems With This Simple Implementation</a></span></li><li><span><a href=\"#Singly-Linked-List-Class\" data-toc-modified-id=\"Singly-Linked-List-Class-5.1.2\"><span class=\"toc-item-num\">5.1.2&nbsp;&nbsp;</span>Singly Linked List Class</a></span></li><li><span><a href=\"#The-append-Operation\" data-toc-modified-id=\"The-append-Operation-5.1.3\"><span class=\"toc-item-num\">5.1.3&nbsp;&nbsp;</span>The <code>append</code> Operation</a></span></li><li><span><a href=\"#A-Faster-Append-Operation\" data-toc-modified-id=\"A-Faster-Append-Operation-5.1.4\"><span class=\"toc-item-num\">5.1.4&nbsp;&nbsp;</span>A Faster Append Operation</a></span></li><li><span><a href=\"#Getting-The-Length-of-the-List\" data-toc-modified-id=\"Getting-The-Length-of-the-List-5.1.5\"><span class=\"toc-item-num\">5.1.5&nbsp;&nbsp;</span>Getting The Length of the List</a></span></li><li><span><a href=\"#Improving-List-Traversal\" data-toc-modified-id=\"Improving-List-Traversal-5.1.6\"><span class=\"toc-item-num\">5.1.6&nbsp;&nbsp;</span>Improving List Traversal</a></span></li><li><span><a href=\"#Deleting-Nodes\" data-toc-modified-id=\"Deleting-Nodes-5.1.7\"><span class=\"toc-item-num\">5.1.7&nbsp;&nbsp;</span>Deleting Nodes</a></span></li><li><span><a href=\"#List-Search\" data-toc-modified-id=\"List-Search-5.1.8\"><span class=\"toc-item-num\">5.1.8&nbsp;&nbsp;</span>List Search</a></span></li><li><span><a href=\"#Clearing-a-List\" data-toc-modified-id=\"Clearing-a-List-5.1.9\"><span class=\"toc-item-num\">5.1.9&nbsp;&nbsp;</span>Clearing a List</a></span></li></ul></li><li><span><a href=\"#Doubly-Linked-List\" data-toc-modified-id=\"Doubly-Linked-List-5.2\"><span class=\"toc-item-num\">5.2&nbsp;&nbsp;</span>Doubly Linked List</a></span><ul class=\"toc-item\"><li><span><a href=\"#Doubly-Linked-List-Node\" data-toc-modified-id=\"Doubly-Linked-List-Node-5.2.1\"><span class=\"toc-item-num\">5.2.1&nbsp;&nbsp;</span>Doubly Linked List Node</a></span></li><li><span><a href=\"#Doubly-Linked-List-Class\" data-toc-modified-id=\"Doubly-Linked-List-Class-5.2.2\"><span class=\"toc-item-num\">5.2.2&nbsp;&nbsp;</span>Doubly Linked List Class</a></span></li><li><span><a href=\"#The-append-Operation\" data-toc-modified-id=\"The-append-Operation-5.2.3\"><span class=\"toc-item-num\">5.2.3&nbsp;&nbsp;</span>The <code>append</code> Operation</a></span></li><li><span><a href=\"#List-Traversal\" data-toc-modified-id=\"List-Traversal-5.2.4\"><span class=\"toc-item-num\">5.2.4&nbsp;&nbsp;</span>List Traversal</a></span></li><li><span><a href=\"#Deleting-Nodes\" data-toc-modified-id=\"Deleting-Nodes-5.2.5\"><span class=\"toc-item-num\">5.2.5&nbsp;&nbsp;</span>Deleting Nodes</a></span></li><li><span><a href=\"#List-Search\" data-toc-modified-id=\"List-Search-5.2.6\"><span class=\"toc-item-num\">5.2.6&nbsp;&nbsp;</span>List Search</a></span></li></ul></li><li><span><a href=\"#Circular-List\" data-toc-modified-id=\"Circular-List-5.3\"><span class=\"toc-item-num\">5.3&nbsp;&nbsp;</span>Circular List</a></span><ul class=\"toc-item\"><li><span><a href=\"#Implementation\" data-toc-modified-id=\"Implementation-5.3.1\"><span class=\"toc-item-num\">5.3.1&nbsp;&nbsp;</span>Implementation</a></span></li><li><span><a href=\"#The-append-Operation\" data-toc-modified-id=\"The-append-Operation-5.3.2\"><span class=\"toc-item-num\">5.3.2&nbsp;&nbsp;</span>The <code>append</code> Operation</a></span></li><li><span><a href=\"#Deleting-Nodes\" data-toc-modified-id=\"Deleting-Nodes-5.3.3\"><span class=\"toc-item-num\">5.3.3&nbsp;&nbsp;</span>Deleting Nodes</a></span></li><li><span><a href=\"#List-Traversal\" data-toc-modified-id=\"List-Traversal-5.3.4\"><span class=\"toc-item-num\">5.3.4&nbsp;&nbsp;</span>List Traversal</a></span></li><li><span><a href=\"#Final-Class\" data-toc-modified-id=\"Final-Class-5.3.5\"><span class=\"toc-item-num\">5.3.5&nbsp;&nbsp;</span>Final Class</a></span></li></ul></li></ul></li></ul></div>"
   ]
  },
  {
   "cell_type": "markdown",
   "metadata": {},
   "source": [
    "# Lists and Pointer Structures"
   ]
  },
  {
   "cell_type": "markdown",
   "metadata": {},
   "source": [
    "- Normally, most of the time, we would use Python's original `list`\n",
    "- We will study how it works and its internals\n",
    "- Python's list implementation can be used on other different cases\n",
    "- The concept of a *node*"
   ]
  },
  {
   "cell_type": "markdown",
   "metadata": {},
   "source": [
    "## Chapter Goals"
   ]
  },
  {
   "cell_type": "markdown",
   "metadata": {},
   "source": [
    "- Pointers in Python\n",
    "- Concept of implementation of nodes\n",
    "- Implement singly, doubly, and circularly linked lists"
   ]
  },
  {
   "cell_type": "markdown",
   "metadata": {},
   "source": [
    "## Pointers In Python"
   ]
  },
  {
   "cell_type": "markdown",
   "metadata": {},
   "source": [
    "- Data and files remain in one single place in memory\n",
    "- What we create are variables that point to those location in memory\n",
    "- Variables are small and can be easily passed around between functions\n",
    "- Pointers allow to point to a potentially large segment of memory with just a simple memory address\n",
    "- Pointers are supported in hardware too (*Indirect Addressing*)\n",
    "- In Python, we don't manipulate pointers directly\n",
    "  - But pointers are still used in Python"
   ]
  },
  {
   "cell_type": "code",
   "execution_count": 1,
   "metadata": {},
   "outputs": [],
   "source": [
    "s = set() # s is a reference/pointer to a set"
   ]
  },
  {
   "cell_type": "markdown",
   "metadata": {},
   "source": [
    "- Here, `s` is technically not a variable of type `set`\n",
    "- Instead, `s` is a reference/safe pointer to a `set`\n",
    "  - There is an actual set value somewhere in memory\n",
    "  - `s` stores this location in memory and points to that value\n",
    "- Python hides this complexity from us"
   ]
  },
  {
   "cell_type": "markdown",
   "metadata": {},
   "source": [
    "## Arrays"
   ]
  },
  {
   "cell_type": "markdown",
   "metadata": {},
   "source": [
    "- Sequential list of data\n",
    "- Each element is stored right after the previous one in memory\n",
    "- If an array is really big, it can be impossible to store it in memory\n",
    "- But arrays are very fast: There is no need to jump around between memory locations\n",
    "- Very important point to make when choosing between list and array\n",
    "- Arrays in Python are implemented using the `array` module\n",
    "- Array vs List: Array can only contain one type of data elements\n",
    "- Check `02-data-types-and-structures` for a review on arrays\n",
    "- Building an array: `array(type[, initializer])`"
   ]
  },
  {
   "cell_type": "code",
   "execution_count": 2,
   "metadata": {},
   "outputs": [
    {
     "name": "stdout",
     "output_type": "stream",
     "text": [
      "array('i', [0, 1, 2, 3, 4, 5, 6, 7, 8, 9])\n",
      "array_size: 128\n"
     ]
    }
   ],
   "source": [
    "from array import array\n",
    "from sys import getsizeof\n",
    "\n",
    "ba = array('i', range(10)) # Array of signed integers\n",
    "size_ba = getsizeof(ba)\n",
    "print(ba)\n",
    "print(\"array_size:\", size_ba)"
   ]
  },
  {
   "cell_type": "code",
   "execution_count": 3,
   "metadata": {},
   "outputs": [
    {
     "name": "stdout",
     "output_type": "stream",
     "text": [
      "ba: array('i', [0, 1, 2, 3, 4, 5, 6, 7, 8, 9])\n",
      "ca: array('i', [10, 1, 2, 3, 4, 5, 6, 7, 8, 9])\n",
      "ba: array('i', [10, 1, 2, 3, 4, 5, 6, 7, 8, 9])\n"
     ]
    }
   ],
   "source": [
    "from array import array\n",
    "\n",
    "ba = array('i', range(10)) # Array of signed integers\n",
    "print('ba:', ba)\n",
    "ca = ba # Passing by reference: All values in Python are references\n",
    "ca[0] = 10 # Change in one affects the other also\n",
    "print('ca:', ca)\n",
    "print('ba:', ba)"
   ]
  },
  {
   "cell_type": "markdown",
   "metadata": {},
   "source": [
    "## Pointer Structures"
   ]
  },
  {
   "cell_type": "markdown",
   "metadata": {},
   "source": [
    "- This is the abstract structure of Python's `list`\n",
    "- Opposite of arrays: List of items that can be spread out in memory\n",
    "- Each items contain oe or more links to other items in the structure\n",
    "- The type of links is dependent on the type of structures\n",
    "  - Linked lists: Links to the previous or next items in the structure\n",
    "  - Tree: Parent-child links and sibling links"
   ]
  },
  {
   "cell_type": "markdown",
   "metadata": {},
   "source": [
    "![python-list-under-the-hood.png](../files/chap_04/python-list-under-the-hood.png)"
   ]
  },
  {
   "cell_type": "markdown",
   "metadata": {},
   "source": [
    "### Benefits of Pointer Structures"
   ]
  },
  {
   "cell_type": "markdown",
   "metadata": {},
   "source": [
    "- No sequential storage space in memory required\n",
    "- Can start small and grow arbitrarily as required with more nodes (dynamic)"
   ]
  },
  {
   "cell_type": "markdown",
   "metadata": {},
   "source": [
    "### Costs of Pointer Structures"
   ]
  },
  {
   "cell_type": "markdown",
   "metadata": {},
   "source": [
    "- Need additional space to store the address\n",
    "- Example for storing a list of integers:\n",
    "  - Storing the data (integers)\n",
    "  - Storing the additional pointer to the next node (because they are not in sequence in memory)"
   ]
  },
  {
   "cell_type": "code",
   "execution_count": 4,
   "metadata": {},
   "outputs": [
    {
     "name": "stdout",
     "output_type": "stream",
     "text": [
      "[0, 1, 2, 3, 4, 5, 6, 7, 8, 9]\n"
     ]
    }
   ],
   "source": [
    "ls = [n for n in range(10)] # Each number is stored sparsed in memory\n",
    "print(ls)"
   ]
  },
  {
   "cell_type": "markdown",
   "metadata": {},
   "source": [
    "### Nodes"
   ]
  },
  {
   "cell_type": "markdown",
   "metadata": {},
   "source": [
    "- A container of data, together with one or more *links* to other nodes\n",
    "- A *link* is a pointer\n",
    "- At the heart of pointer structures (lists) is the concept of nodes"
   ]
  },
  {
   "cell_type": "code",
   "execution_count": 5,
   "metadata": {},
   "outputs": [],
   "source": [
    "# 3 variables with unique names, types, and values\n",
    "a = 'egg'\n",
    "b = 'ham'\n",
    "c = 'spam'\n",
    "ls = [a, b, c] # A pointer structure that uses node"
   ]
  },
  {
   "cell_type": "markdown",
   "metadata": {},
   "source": [
    "- Right now, we cannot show the relationships between those variables\n",
    "- Using nodes, we can show those relationships\n",
    "- A simple type of node: One that only has a link to the next node\n",
    "- The string is *not* stored in the node, but there is a pointer to the actual string\n",
    "- The requirement for this simple node is 2 memory addresses:\n",
    "  - The string is stored in memory: `data` is a pointer to that memory address\n",
    "  - The next node is also stored in memory: `next` is a pointer to that memory address\n",
    "\n",
    "```\n",
    "    ---------                                    ---------\n",
    "    | 'egg' | actual string                      | 'ham' | actual string\n",
    "    ---------                                    ---------\n",
    "        ^                                            ^\n",
    "        | Pointer                                    | Pointer\n",
    "        |                                            |\n",
    "--------|--------                            --------|--------\n",
    "|  -----|----   | Node (Container)           |  -----|----   | Node (Container)\n",
    "|  | data:a |   |                            |  | data:b |   |\n",
    "|  ----------   |                            |  ----------   |\n",
    "|  ----------   |       link:pointer         |  ----------   |\n",
    "|  |  next  |------------------------------->|  |  next  |   |\n",
    "|  ----------   |                            |  ----------   |\n",
    "-----------------                            -----------------\n",
    "```"
   ]
  },
  {
   "cell_type": "markdown",
   "metadata": {},
   "source": [
    "#### Finding Endpoints"
   ]
  },
  {
   "cell_type": "markdown",
   "metadata": {},
   "source": [
    "- There are 3 nodes in that structure:\n",
    "  - *Node 1*: Points to `'egg'`, also point to Node 2\n",
    "  - *Node 2*: Points to `'ham'`, also point to Node 3\n",
    "  - *Node 3*: Points to `'spam'`, ... where does it point next?\n",
    "- Since *Node 3* is the last element of the list, we need to make sure that this is obvious\n",
    "  - ***Node 3* points to `None` for its `next`, thus making it the endpoint**"
   ]
  },
  {
   "cell_type": "markdown",
   "metadata": {},
   "source": [
    "### Node Class"
   ]
  },
  {
   "cell_type": "code",
   "execution_count": 6,
   "metadata": {},
   "outputs": [],
   "source": [
    "# A simple Node implementation\n",
    "class Node:\n",
    "    def __init__(self, data=None):\n",
    "        self.data = data\n",
    "        self.next = None\n",
    "    \n",
    "    def __str__(self):\n",
    "        return str(self.data)"
   ]
  },
  {
   "cell_type": "markdown",
   "metadata": {},
   "source": [
    "- Unless we change the value of `node.next`, it will be an endpoint\n",
    "- Auto-terminate the list properly\n",
    "- Keep in mind the distinction between `node` and `data`"
   ]
  },
  {
   "cell_type": "markdown",
   "metadata": {},
   "source": [
    "#### Other Node Types "
   ]
  },
  {
   "cell_type": "markdown",
   "metadata": {},
   "source": [
    "- Sometimes, we want to:\n",
    "  - Be able to go from Node A to Node B (`next`)\n",
    "  - Be able to got from Node B to Node A (`previous`)\n",
    "- The `next` pointer of B is `None`\n",
    "- The `previous` pointer of A is `None`"
   ]
  },
  {
   "cell_type": "markdown",
   "metadata": {},
   "source": [
    "## Introducing Lists"
   ]
  },
  {
   "cell_type": "markdown",
   "metadata": {},
   "source": [
    "- Important and popular data structure\n",
    "- There are 3 kind of lists:\n",
    "  - **Singly linked list**\n",
    "  - **Doubly linked list**\n",
    "  - **Circular linked list**\n",
    "- Lists also has some operations associated with them\n",
    "  - `append`\n",
    "  - `delete`\n",
    "  - `traversing`\n",
    "  - `searching`"
   ]
  },
  {
   "cell_type": "markdown",
   "metadata": {},
   "source": [
    "### Singly Linked List"
   ]
  },
  {
   "cell_type": "markdown",
   "metadata": {},
   "source": [
    "- Only one pointer between 2 successive nodes\n",
    "- Can only be traversed in one direction: From first to last\n",
    "- Cannot go backward\n",
    "- We can use the `Node` class we created earlier for a singly linked list"
   ]
  },
  {
   "cell_type": "markdown",
   "metadata": {},
   "source": [
    "```\n",
    "-----------------                            -----------------\n",
    "|  ----------   | Node (Container)           |  ----------   | Node (Container)\n",
    "|  | data:a |   |                            |  | data:b |   |\n",
    "|  ----------   |                            |  ----------   |\n",
    "|  ----------   |       link:pointer         |  ----------   |\n",
    "|  |  next  |------------------------------->|  |  next  |   |\n",
    "|  ----------   |                            |  ----------   |\n",
    "-----------------                            -----------------\n",
    "```"
   ]
  },
  {
   "cell_type": "code",
   "execution_count": 7,
   "metadata": {},
   "outputs": [],
   "source": [
    "# Creating 3 nodes\n",
    "n1 = Node('eggs')\n",
    "n2 = Node('ham')\n",
    "n3 = Node('spam')"
   ]
  },
  {
   "cell_type": "code",
   "execution_count": 8,
   "metadata": {},
   "outputs": [],
   "source": [
    "# Setting up the `next` for each node\n",
    "n1.next = n2\n",
    "n2.next = n3\n",
    "n3.next = None  # ALready the default so can be omitted"
   ]
  },
  {
   "cell_type": "code",
   "execution_count": 9,
   "metadata": {},
   "outputs": [
    {
     "name": "stdout",
     "output_type": "stream",
     "text": [
      "eggs\n",
      "ham\n",
      "spam\n"
     ]
    }
   ],
   "source": [
    "# Traversing the list\n",
    "current = n1  \n",
    "while current:\n",
    "    print(current.data)\n",
    "    current = current.next"
   ]
  },
  {
   "cell_type": "markdown",
   "metadata": {},
   "source": [
    "#### Problems With This Simple Implementation"
   ]
  },
  {
   "cell_type": "markdown",
   "metadata": {},
   "source": [
    "- Requires too much manual work by the programmer\n",
    "- Too error prone\n",
    "- Too much of the inner workings exposed"
   ]
  },
  {
   "cell_type": "markdown",
   "metadata": {},
   "source": [
    "#### Singly Linked List Class"
   ]
  },
  {
   "cell_type": "markdown",
   "metadata": {},
   "source": [
    "- A list is a separate concept from a node\n",
    "- `head`: a reference to the very first node in the list"
   ]
  },
  {
   "cell_type": "markdown",
   "metadata": {},
   "source": [
    "#### The `append` Operation"
   ]
  },
  {
   "cell_type": "markdown",
   "metadata": {},
   "source": [
    "- `append`: The insert operation\n",
    "  - We have the chance to encapsulate the operation to hide the inner workings\n",
    "  - Encapsulate the data in a `Node` to get the `next` attribute\n",
    "  - If there are no data, `head` becomes the current data\n",
    "  - Else, if there are data already, we find the insertion point by traversing the list to the last node, updating the next pointer of the last node to the new node"
   ]
  },
  {
   "cell_type": "code",
   "execution_count": 10,
   "metadata": {},
   "outputs": [],
   "source": [
    "class SinglyLinkedList:\n",
    "    def __init__(self):\n",
    "        self.head = None  # Reference to the very first node in the list\n",
    "    \n",
    "    def append(self, data):\n",
    "        # Encapsulate the data in a Node \n",
    "        node = Node(data)\n",
    "        \n",
    "        if self.head == None:\n",
    "            self.head = node \n",
    "        else:\n",
    "            # Finding the current starting from the tail\n",
    "            current = self.head\n",
    "            while current.next:\n",
    "                current = current.next\n",
    "            # Set the new node as the next for the current\n",
    "            current.next = node"
   ]
  },
  {
   "cell_type": "code",
   "execution_count": 11,
   "metadata": {},
   "outputs": [],
   "source": [
    "words = SinglyLinkedList()\n",
    "\n",
    "# Append Operations\n",
    "words.append('egg')\n",
    "words.append('ham')\n",
    "words.append('spam')"
   ]
  },
  {
   "cell_type": "markdown",
   "metadata": {},
   "source": [
    "#### A Faster Append Operation"
   ]
  },
  {
   "cell_type": "markdown",
   "metadata": {},
   "source": [
    "- Current Problem: Has to traverse the entire list in order to append an element\n",
    "- This is a big problem when the list is very long\n",
    "  - We would need to traverse the whole list for every single append operation\n",
    "  - Current `append` implementation: `O(n)`\n",
    "- To fix this:\n",
    "  - Store a reference to the first node of the list: `head`\n",
    "  - Store a reference to the last node of the list: `tail`\n",
    "- With this, `append` is now `O(1)`"
   ]
  },
  {
   "cell_type": "code",
   "execution_count": 12,
   "metadata": {},
   "outputs": [],
   "source": [
    "class SinglyLinkedList:\n",
    "    def __init__(self):\n",
    "        self.head = None  # Ref to the very first node in the list\n",
    "        self.tail = None  # Ref to the very last node in the list\n",
    "    \n",
    "    def append(self, data):\n",
    "        # Encapsulate the data in a Node \n",
    "        node = Node(data)\n",
    "        \n",
    "        if self.tail:\n",
    "            # There are already data in the list\n",
    "            self.tail.next = node # For the current node\n",
    "            self.tail = node # Now, self.tail.next is None again\n",
    "        else:\n",
    "            # There are no data in the list\n",
    "            self.head = node\n",
    "            self.tail = node"
   ]
  },
  {
   "cell_type": "markdown",
   "metadata": {},
   "source": [
    "#### Getting The Length of the List"
   ]
  },
  {
   "cell_type": "markdown",
   "metadata": {},
   "source": [
    "- The length of the list is the number of nodes\n",
    "- We could implememt this by traversing the entire list and increase the count as we go"
   ]
  },
  {
   "cell_type": "code",
   "execution_count": 13,
   "metadata": {},
   "outputs": [],
   "source": [
    "def __len__(self):\n",
    "    count = 0\n",
    "    current = self.head\n",
    "    while current:\n",
    "        count += 1\n",
    "        current = current.next\n",
    "    return count"
   ]
  },
  {
   "cell_type": "markdown",
   "metadata": {},
   "source": [
    "- Again, the problem is that this would be `O(n)` and problematic when the list is big\n",
    "- List traversal is potentially an expensive operation that we should avoid wherever we can\n",
    "- Instead, we should opt for another caching of current size and updating it as we go\n",
    "- By doing this, we have `len(ls)` go from `O(n)` to `O(1)`"
   ]
  },
  {
   "cell_type": "code",
   "execution_count": 14,
   "metadata": {},
   "outputs": [],
   "source": [
    "class SinglyLinkedList:\n",
    "    def __init__(self):\n",
    "        self.head = None  # Ref to the very first node in the list\n",
    "        self.tail = None  # Ref to the very last node in the list\n",
    "        self.length = 0  # Ref to the current length of the list\n",
    "    \n",
    "    def __len__(self):\n",
    "        return self.length\n",
    "    \n",
    "    def append(self, data):\n",
    "        # Encapsulate the data in a Node \n",
    "        node = Node(data)\n",
    "        \n",
    "        if self.tail:\n",
    "            # There are already data in the list\n",
    "            self.tail.next = node # For the current node\n",
    "            self.tail = node # Now, self.tail.next is None again\n",
    "            self.length += 1 # Increase the length\n",
    "        else:\n",
    "            # There are no data in the list\n",
    "            self.head = node\n",
    "            self.tail = node\n",
    "            self.length += 1 # Increase the length"
   ]
  },
  {
   "cell_type": "markdown",
   "metadata": {},
   "source": [
    "#### Improving List Traversal"
   ]
  },
  {
   "cell_type": "markdown",
   "metadata": {},
   "source": [
    "- Client node should not interact with the node object\n",
    "- We need to use `node.data` to get current node and `node.next` to get the next node"
   ]
  },
  {
   "cell_type": "code",
   "execution_count": 15,
   "metadata": {},
   "outputs": [],
   "source": [
    "class SinglyLinkedList:\n",
    "    def __init__(self):\n",
    "        self.head = None  # Ref to the very first node in the list\n",
    "        self.tail = None  # Ref to the very last node in the list\n",
    "        self.length = 0  # Ref to the current length of the list\n",
    "    \n",
    "    def __len__(self):\n",
    "        return self.length\n",
    "    \n",
    "    def __iter__(self):\n",
    "        current = self.head\n",
    "        while current:\n",
    "            value = current.data\n",
    "            current = current.next\n",
    "            yield value # Make ls.iterate() into a generator\n",
    "    \n",
    "    def append(self, data):\n",
    "        # Encapsulate the data in a Node \n",
    "        node = Node(data)\n",
    "        \n",
    "        if self.tail:\n",
    "            # There are already data in the list\n",
    "            self.tail.next = node # For the current node\n",
    "            self.tail = node # Now, self.tail.next is None again\n",
    "            self.length += 1 # Increase the length\n",
    "        else:\n",
    "            # There are no data in the list\n",
    "            self.head = node\n",
    "            self.tail = node\n",
    "            self.length += 1 # Increase the length"
   ]
  },
  {
   "cell_type": "code",
   "execution_count": 16,
   "metadata": {},
   "outputs": [
    {
     "name": "stdout",
     "output_type": "stream",
     "text": [
      "egg\n",
      "ham\n",
      "spam\n"
     ]
    }
   ],
   "source": [
    "words = SinglyLinkedList()\n",
    "\n",
    "# Append Operations\n",
    "words.append('egg')\n",
    "words.append('ham')\n",
    "words.append('spam')\n",
    "\n",
    "# Traversing\n",
    "for w in words:\n",
    "    print(w)"
   ]
  },
  {
   "cell_type": "markdown",
   "metadata": {},
   "source": [
    "#### Deleting Nodes"
   ]
  },
  {
   "cell_type": "markdown",
   "metadata": {},
   "source": [
    "- First, we have to define how would a node be selected\n",
    "  - By index?\n",
    "  - By data?\n",
    "- Here, we will use by the data that the node contains\n",
    "- When we delete a node, the `length` must be updated\n",
    "- When we delete a node that is between two nodes, the `next` of the preceding node must be updated\n",
    "  - Make the preceding node point to the successor of its `next` node that is to be deleted"
   ]
  },
  {
   "cell_type": "code",
   "execution_count": 17,
   "metadata": {},
   "outputs": [],
   "source": [
    "class SinglyLinkedList:\n",
    "    def __init__(self):\n",
    "        self.head = None  # Ref to the very first node in the list\n",
    "        self.tail = None  # Ref to the very last node in the list\n",
    "        self.length = 0  # Ref to the current length of the list\n",
    "    \n",
    "    def __len__(self):\n",
    "        return self.length\n",
    "    \n",
    "    def __iter__(self):\n",
    "        current = self.head\n",
    "        while current:\n",
    "            value = current.data\n",
    "            current = current.next\n",
    "            yield value # Make into a generator\n",
    "    \n",
    "    def __str__(self):\n",
    "        return \"SinglyLinkedList(\" + str(self.length) + \")\"\n",
    "    \n",
    "    def append(self, data):\n",
    "        # Encapsulate the data in a Node \n",
    "        node = Node(data)\n",
    "        \n",
    "        if self.tail:\n",
    "            # There are already data in the list\n",
    "            self.tail.next = node # For the current node\n",
    "            self.tail = node # Now, self.tail.next is None again\n",
    "            self.length += 1 # Increase the length\n",
    "        else:\n",
    "            # There are no data in the list\n",
    "            self.head = node\n",
    "            self.tail = node\n",
    "            self.length += 1 # Increase the length\n",
    "    \n",
    "    def delete(self, data): \n",
    "        current = self.head \n",
    "        prev = self.head \n",
    "\n",
    "        while current:\n",
    "            if current.data == data:\n",
    "                if current == self.head: # The element to delete is the first element\n",
    "                    self.head = current.next # Make the 2nd element to be the 1st element\n",
    "                else:\n",
    "                    prev.next = current.next # Make the next element to be the next of the preceding element\n",
    "                self.length -= 1 # Decrease the length\n",
    "                print('\"{}\" has been deleted'.format(data))\n",
    "                return\n",
    "            prev = current\n",
    "            current = current.next\n",
    "            \n",
    "        # If here, then data was not found\n",
    "        print('\"{}\" was not found'.format(data))\n",
    "        return"
   ]
  },
  {
   "cell_type": "markdown",
   "metadata": {},
   "source": [
    "- Again, because this `delete` method has to go through the whole list in order to delete one element, it has a complexity of `O(n)`"
   ]
  },
  {
   "cell_type": "code",
   "execution_count": 18,
   "metadata": {},
   "outputs": [
    {
     "name": "stdout",
     "output_type": "stream",
     "text": [
      "\"john\" was not found\n",
      "\"ham\" has been deleted\n",
      "SinglyLinkedList(2)\n"
     ]
    }
   ],
   "source": [
    "words = SinglyLinkedList()\n",
    "\n",
    "# Append Operations\n",
    "words.append('egg')\n",
    "words.append('ham')\n",
    "words.append('spam')\n",
    "\n",
    "# Deleting\n",
    "words.delete('john')\n",
    "words.delete('ham')\n",
    "print(words)"
   ]
  },
  {
   "cell_type": "markdown",
   "metadata": {},
   "source": [
    "#### List Search"
   ]
  },
  {
   "cell_type": "markdown",
   "metadata": {},
   "source": [
    "- To check if a list contains an item or not\n",
    "- Easy to implement thanks to the existing `__iter__` method"
   ]
  },
  {
   "cell_type": "code",
   "execution_count": 19,
   "metadata": {},
   "outputs": [],
   "source": [
    "class SinglyLinkedList:\n",
    "    def __init__(self):\n",
    "        self.head = None  # Ref to the very first node in the list\n",
    "        self.tail = None  # Ref to the very last node in the list\n",
    "        self.length = 0  # Ref to the current length of the list\n",
    "    \n",
    "    def __len__(self):\n",
    "        return self.length\n",
    "    \n",
    "    def __iter__(self):\n",
    "        current = self.head\n",
    "        while current:\n",
    "            value = current.data\n",
    "            current = current.next\n",
    "            yield value # Make into a generator\n",
    "    \n",
    "    def __str__(self):\n",
    "        return \"SinglyLinkedList(\" + str(self.length) + \")\"\n",
    "    \n",
    "    def append(self, data):\n",
    "        # Encapsulate the data in a Node \n",
    "        node = Node(data)\n",
    "        \n",
    "        if self.tail:\n",
    "            # There are already data in the list\n",
    "            self.tail.next = node # For the current node\n",
    "            self.tail = node # Now, self.tail.next is None again\n",
    "            self.length += 1 # Increase the length\n",
    "        else:\n",
    "            # There are no data in the list\n",
    "            self.head = node\n",
    "            self.tail = node\n",
    "            self.length += 1 # Increase the length\n",
    "    \n",
    "    def delete(self, data): \n",
    "        current = self.head \n",
    "        prev = self.head \n",
    "\n",
    "        while current:\n",
    "            if current.data == data:\n",
    "                if current == self.head: # The element to delete is the first element\n",
    "                    self.head = current.next # Make the 2nd element to be the 1st element\n",
    "                else:\n",
    "                    prev.next = current.next # Make the next element to be the next of the preceding element\n",
    "                self.length -= 1 # Decrease the length\n",
    "                print('\"{}\" has been deleted'.format(data))\n",
    "                return\n",
    "            prev = current\n",
    "            current = current.next\n",
    "            \n",
    "        # If here, then data was not found\n",
    "        print('\"{}\" was not found'.format(data))\n",
    "        return\n",
    "    \n",
    "    def contains(self, data):\n",
    "        for node in self.__iter__():\n",
    "            if data == node:\n",
    "                return True \n",
    "        return False"
   ]
  },
  {
   "cell_type": "code",
   "execution_count": 20,
   "metadata": {},
   "outputs": [
    {
     "name": "stdout",
     "output_type": "stream",
     "text": [
      "john in words? False\n",
      "ham in words? True\n"
     ]
    }
   ],
   "source": [
    "words = SinglyLinkedList()\n",
    "\n",
    "# Append Operations\n",
    "words.append('egg')\n",
    "words.append('ham')\n",
    "words.append('spam')\n",
    "\n",
    "# Searching\n",
    "print('john in words?', words.contains('john'))\n",
    "print('ham in words?', words.contains('ham'))"
   ]
  },
  {
   "cell_type": "markdown",
   "metadata": {},
   "source": [
    "#### Clearing a List"
   ]
  },
  {
   "cell_type": "markdown",
   "metadata": {},
   "source": [
    "- This allows to clear a list quickly\n",
    "- We can clear a list by simply setting all pointers to `None`"
   ]
  },
  {
   "cell_type": "code",
   "execution_count": 21,
   "metadata": {},
   "outputs": [],
   "source": [
    "class SinglyLinkedList:\n",
    "    def __init__(self):\n",
    "        self.head = None  # Ref to the very first node in the list\n",
    "        self.tail = None  # Ref to the very last node in the list\n",
    "        self.length = 0  # Ref to the current length of the list\n",
    "    \n",
    "    def __len__(self):\n",
    "        return self.length\n",
    "    \n",
    "    def __iter__(self):\n",
    "        current = self.head\n",
    "        while current:\n",
    "            value = current.data\n",
    "            current = current.next\n",
    "            yield value # Make into a generator\n",
    "    \n",
    "    def __str__(self):\n",
    "        return \"SinglyLinkedList(\" + str(self.length) + \")\"\n",
    "    \n",
    "    def append(self, data):\n",
    "        # Encapsulate the data in a Node \n",
    "        node = Node(data)\n",
    "        \n",
    "        if self.tail:\n",
    "            # There are already data in the list\n",
    "            self.tail.next = node # For the current node\n",
    "            self.tail = node # Now, self.tail.next is None again\n",
    "            self.length += 1 # Increase the length\n",
    "        else:\n",
    "            # There are no data in the list\n",
    "            self.head = node\n",
    "            self.tail = node\n",
    "            self.length += 1 # Increase the length\n",
    "    \n",
    "    def delete(self, data): \n",
    "        current = self.head \n",
    "        prev = self.head \n",
    "\n",
    "        while current:\n",
    "            if current.data == data:\n",
    "                if current == self.head: # The element to delete is the first element\n",
    "                    self.head = current.next # Make the 2nd element to be the 1st element\n",
    "                else:\n",
    "                    prev.next = current.next # Make the next element to be the next of the preceding element\n",
    "                self.length -= 1 # Decrease the length\n",
    "                print('\"{}\" has been deleted'.format(data))\n",
    "                return\n",
    "            prev = current\n",
    "            current = current.next\n",
    "            \n",
    "        # If here, then data was not found\n",
    "        print('\"{}\" was not found'.format(data))\n",
    "        return\n",
    "    \n",
    "    def contains(self, data):\n",
    "        for node in self.__iter__():\n",
    "            if data == node:\n",
    "                return True \n",
    "        return False\n",
    "    \n",
    "    def clear(self):\n",
    "        self.head = None\n",
    "        self.tail = None\n",
    "        self.length = 0"
   ]
  },
  {
   "cell_type": "code",
   "execution_count": 22,
   "metadata": {},
   "outputs": [
    {
     "name": "stdout",
     "output_type": "stream",
     "text": [
      "list before clearing: SinglyLinkedList(3)\n",
      "list after clearing: SinglyLinkedList(0)\n"
     ]
    }
   ],
   "source": [
    "words = SinglyLinkedList()\n",
    "\n",
    "# Append Operations\n",
    "words.append('egg')\n",
    "words.append('ham')\n",
    "words.append('spam')\n",
    "\n",
    "# Clearing\n",
    "print('list before clearing:', words)\n",
    "words.clear()\n",
    "print('list after clearing:', words)"
   ]
  },
  {
   "cell_type": "markdown",
   "metadata": {},
   "source": [
    "### Doubly Linked List"
   ]
  },
  {
   "cell_type": "markdown",
   "metadata": {},
   "source": [
    "- Same fundamentals of nodes\n",
    "- However, instead of one pointer, we have 2 pointers\n",
    "  - A pointer to the next node\n",
    "  - A pointer to the previous node\n",
    "- The pointers are set to `None` when there is none attached\n",
    "- A node in a singly-linked list can only determine the next node\n",
    "- A node in a doubly-linked list can reference and go back to the previous node\n",
    "- Direction flow in a doubly-linked list is two-way"
   ]
  },
  {
   "cell_type": "markdown",
   "metadata": {},
   "source": [
    "```\n",
    "-----------------                            -----------------\n",
    "|  ----------   | Node (Container)           |  ----------   | Node (Container)\n",
    "|  | data:a |   |                            |  | data:b |   |\n",
    "|  ----------   |                            |  ----------   |\n",
    "|  ----------   |       link:pointer         |  ----------   |\n",
    "|  |  next  |------------------------------->|  |  next  |   |\n",
    "|  ----------   |                            |  ----------   |\n",
    "|  ----------   |       link:pointer         |  ----------   |\n",
    "|  |  prev  |   |<------------------------------|  prev  |   |\n",
    "|  ----------   |                            |  ----------   |\n",
    "-----------------                            -----------------\n",
    "```"
   ]
  },
  {
   "cell_type": "markdown",
   "metadata": {},
   "source": [
    "- Doubly-linked lists can be traversed in any direction\n",
    "- A node in a doubly linked list can be easily referred to its previous node whenever required without having a variable to keep track of that node\n",
    "  - In a singly-linked list, we would have to restart from the beginning to make changes to previous nodes"
   ]
  },
  {
   "cell_type": "markdown",
   "metadata": {},
   "source": [
    "#### Doubly Linked List Node"
   ]
  },
  {
   "cell_type": "markdown",
   "metadata": {},
   "source": [
    "- Initialization method\n",
    "- `prev` pointer\n",
    "- `next` pointer\n",
    "- `data` instance variable\n",
    "- When a node is created, all variables default to `None`"
   ]
  },
  {
   "cell_type": "code",
   "execution_count": 23,
   "metadata": {},
   "outputs": [],
   "source": [
    "# A simple Node implementation for Doubly-Linked List\n",
    "class Node:\n",
    "    def __init__ (self, data=None, nxt=None, prev=None):\n",
    "        self.data = data\n",
    "        self.next = nxt \n",
    "        self.prev = prev\n",
    "    \n",
    "    def __str__(self):\n",
    "        return str(self.data)"
   ]
  },
  {
   "cell_type": "markdown",
   "metadata": {},
   "source": [
    "#### Doubly Linked List Class"
   ]
  },
  {
   "cell_type": "code",
   "execution_count": 24,
   "metadata": {},
   "outputs": [],
   "source": [
    "class DoublyLinkedList:\n",
    "    def __init__(self): \n",
    "        self.head = None  # Ref to the very first node in the list\n",
    "        self.tail = None  # Ref to the very last node in the list\n",
    "        self.length = 0  # Ref to the current length of the list"
   ]
  },
  {
   "cell_type": "markdown",
   "metadata": {},
   "source": [
    "#### The `append` Operation"
   ]
  },
  {
   "cell_type": "markdown",
   "metadata": {},
   "source": [
    "- Append an element to the list\n",
    "- Need to check if the `head` is `None` before adding a new element\n",
    "  - If `head == None` then the list is empty\n",
    "  - Else, the list already has some elements\n",
    "- When a new element is added to an empty list, the element becomes both the `head` and the `tail`\n",
    "- The `append()` method has a time complexity of `O(1)`"
   ]
  },
  {
   "cell_type": "code",
   "execution_count": 25,
   "metadata": {},
   "outputs": [],
   "source": [
    "class DoublyLinkedList:\n",
    "    def __init__(self): \n",
    "        self.head = None  # Ref to the very first node in the list\n",
    "        self.tail = None  # Ref to the very last node in the list\n",
    "        self.length = 0  # Ref to the current length of the list\n",
    "        \n",
    "    def __len__(self):\n",
    "        return self.length\n",
    "    \n",
    "    def __str__(self):\n",
    "        return \"DoublyLinkedList(\" + str(self.length) + \")\"\n",
    "    \n",
    "    def append(self, data):\n",
    "        new_node = Node(data)\n",
    "        \n",
    "        if self.head == None:\n",
    "            # The list is initially empty\n",
    "            self.head = new_node\n",
    "            self.tail = new_node\n",
    "            self.length += 1\n",
    "        else:\n",
    "            # List is not empty: Transfer the last tail node's data\n",
    "            new_node.prev = self.tail\n",
    "            self.tail.next = new_node\n",
    "            # Make the new_node to be the tail\n",
    "            self.tail = new_node\n",
    "            self.length += 1"
   ]
  },
  {
   "cell_type": "code",
   "execution_count": 26,
   "metadata": {},
   "outputs": [
    {
     "name": "stdout",
     "output_type": "stream",
     "text": [
      "DoublyLinkedList(3)\n"
     ]
    }
   ],
   "source": [
    "words = DoublyLinkedList()\n",
    "\n",
    "# Append Operations\n",
    "words.append('egg')\n",
    "words.append('ham')\n",
    "words.append('spam')\n",
    "\n",
    "# Check\n",
    "print(words)"
   ]
  },
  {
   "cell_type": "markdown",
   "metadata": {},
   "source": [
    "#### List Traversal"
   ]
  },
  {
   "cell_type": "markdown",
   "metadata": {},
   "source": [
    "- Same as with Singly-Linked Lists"
   ]
  },
  {
   "cell_type": "code",
   "execution_count": 27,
   "metadata": {},
   "outputs": [],
   "source": [
    "class DoublyLinkedList:\n",
    "    def __init__(self): \n",
    "        self.head = None  # Ref to the very first node in the list\n",
    "        self.tail = None  # Ref to the very last node in the list\n",
    "        self.length = 0  # Ref to the current length of the list\n",
    "        \n",
    "    def __len__(self):\n",
    "        return self.length\n",
    "    \n",
    "    def __str__(self):\n",
    "        return \"DoublyLinkedList(\" + str(self.length) + \")\"\n",
    "    \n",
    "    def __iter__(self):\n",
    "        current = self.head\n",
    "        while current:\n",
    "            value = current.data\n",
    "            current = current.next\n",
    "            yield value # Make into a generator\n",
    "    \n",
    "    def append(self, data):\n",
    "        new_node = Node(data)\n",
    "        \n",
    "        if self.head == None:\n",
    "            # The list is initially empty\n",
    "            self.head = new_node\n",
    "            self.tail = new_node\n",
    "            self.length += 1\n",
    "        else:\n",
    "            # List is not empty: Transfer the last tail node's data\n",
    "            new_node.prev = self.tail\n",
    "            self.tail.next = new_node\n",
    "            # Make the new_node to be the tail\n",
    "            self.tail = new_node\n",
    "            self.length += 1"
   ]
  },
  {
   "cell_type": "code",
   "execution_count": 28,
   "metadata": {},
   "outputs": [
    {
     "name": "stdout",
     "output_type": "stream",
     "text": [
      "egg\n",
      "ham\n",
      "spam\n"
     ]
    }
   ],
   "source": [
    "words = DoublyLinkedList()\n",
    "\n",
    "# Append Operations\n",
    "words.append('egg')\n",
    "words.append('ham')\n",
    "words.append('spam')\n",
    "\n",
    "# Traversing\n",
    "for w in words:\n",
    "    print(w)"
   ]
  },
  {
   "cell_type": "markdown",
   "metadata": {},
   "source": [
    "#### Deleting Nodes"
   ]
  },
  {
   "cell_type": "markdown",
   "metadata": {},
   "source": [
    "- Easier in Doubly-linked lists than in Singly-linked lists\n",
    "- We do not need to keep track of previously encountered node because each node already keep the `prev`\n",
    "- We have 4 possible scenarios:\n",
    "  - The item to be deleted is not in the list\n",
    "  - The item to be deleted is at the head of the list\n",
    "  - The item to be deleted is at the tail of the list\n",
    "  - The item to be deleted is somewhere in the middle of the list\n",
    "- Again, we will be deleting by the data\n",
    "- The `delete()` method has a time complexity of `O(n)`"
   ]
  },
  {
   "cell_type": "code",
   "execution_count": 29,
   "metadata": {},
   "outputs": [],
   "source": [
    "class DoublyLinkedList:\n",
    "    def __init__(self): \n",
    "        self.head = None  # Ref to the very first node in the list\n",
    "        self.tail = None  # Ref to the very last node in the list\n",
    "        self.length = 0  # Ref to the current length of the list\n",
    "        \n",
    "    def __len__(self):\n",
    "        return self.length\n",
    "    \n",
    "    def __str__(self):\n",
    "        return \"DoublyLinkedList(\" + str(self.length) + \")\"\n",
    "    \n",
    "    def __iter__(self):\n",
    "        current = self.head\n",
    "        while current:\n",
    "            value = current.data\n",
    "            current = current.next\n",
    "            yield value # Make into a generator\n",
    "    \n",
    "    def append(self, data):\n",
    "        new_node = Node(data)\n",
    "        \n",
    "        if self.head == None:\n",
    "            # The list is initially empty\n",
    "            self.head = new_node\n",
    "            self.tail = new_node\n",
    "            self.length += 1\n",
    "        else:\n",
    "            # List is not empty: Transfer the last tail node's data\n",
    "            new_node.prev = self.tail\n",
    "            self.tail.next = new_node\n",
    "            # Make the new_node to be the tail\n",
    "            self.tail = new_node\n",
    "            self.length += 1\n",
    "            \n",
    "    def delete(self, data):\n",
    "        current = self.head \n",
    "        node_deleted = False \n",
    "\n",
    "        if current is None:\n",
    "            # Item to be deleted is not found in the list\n",
    "            node_deleted = False\n",
    "        elif current.data == data:\n",
    "            # Item to be deleted is found at head of list\n",
    "            self.head = current.next  \n",
    "            self.head.prev = None \n",
    "            node_deleted = True \n",
    "        elif self.tail.data == data:\n",
    "            # Item to be deleted is found at the tail of list\n",
    "            self.tail = self.tail.prev  \n",
    "            self.tail.next = None \n",
    "            node_deleted = True\n",
    "        else: \n",
    "            # Search item to be deleted, and delete that node\n",
    "            while current:\n",
    "                if current.data == data: \n",
    "                    current.prev.next = current.next # Set the previous node's next to the next node\n",
    "                    current.next.prev = current.prev # Set the next node's previous to the previous node\n",
    "                    node_deleted = True # Node has been deleted\n",
    "                    break # Break out of the loop as early as possible\n",
    "                current = current.next \n",
    "\n",
    "        # Finally, update the length\n",
    "        if node_deleted: \n",
    "            self.length -= 1\n",
    "            print('\"{}\" has been deleted'.format(data))\n",
    "            return\n",
    "\n",
    "        # If here, then node_delete == False\n",
    "        print('\"{}\" was not found'.format(data))\n",
    "        return"
   ]
  },
  {
   "cell_type": "code",
   "execution_count": 30,
   "metadata": {},
   "outputs": [
    {
     "name": "stdout",
     "output_type": "stream",
     "text": [
      "\"john\" was not found\n",
      "\"ham\" has been deleted\n",
      "DoublyLinkedList(2)\n"
     ]
    }
   ],
   "source": [
    "words = DoublyLinkedList()\n",
    "\n",
    "# Append Operations\n",
    "words.append('egg')\n",
    "words.append('ham')\n",
    "words.append('spam')\n",
    "\n",
    "# Deleting\n",
    "words.delete('john')\n",
    "words.delete('ham')\n",
    "print(words)"
   ]
  },
  {
   "cell_type": "markdown",
   "metadata": {},
   "source": [
    "#### List Search"
   ]
  },
  {
   "cell_type": "markdown",
   "metadata": {},
   "source": [
    "- Similar to the method in a Singly-Linked List"
   ]
  },
  {
   "cell_type": "code",
   "execution_count": 31,
   "metadata": {},
   "outputs": [],
   "source": [
    "class DoublyLinkedList:\n",
    "    def __init__(self): \n",
    "        self.head = None  # Ref to the very first node in the list\n",
    "        self.tail = None  # Ref to the very last node in the list\n",
    "        self.length = 0  # Ref to the current length of the list\n",
    "        \n",
    "    def __len__(self):\n",
    "        return self.length\n",
    "    \n",
    "    def __str__(self):\n",
    "        return \"DoublyLinkedList(\" + str(self.length) + \")\"\n",
    "    \n",
    "    def __iter__(self):\n",
    "        current = self.head\n",
    "        while current:\n",
    "            value = current.data\n",
    "            current = current.next\n",
    "            yield value # Make into a generator\n",
    "    \n",
    "    def append(self, data):\n",
    "        new_node = Node(data)\n",
    "        \n",
    "        if self.head == None:\n",
    "            # The list is initially empty\n",
    "            self.head = new_node\n",
    "            self.tail = new_node\n",
    "            self.length += 1\n",
    "        else:\n",
    "            # List is not empty: Transfer the last tail node's data\n",
    "            new_node.prev = self.tail\n",
    "            self.tail.next = new_node\n",
    "            # Make the new_node to be the tail\n",
    "            self.tail = new_node\n",
    "            self.length += 1\n",
    "            \n",
    "    def delete(self, data):\n",
    "        current = self.head \n",
    "        node_deleted = False \n",
    "\n",
    "        if current is None:\n",
    "            # Item to be deleted is not found in the list\n",
    "            node_deleted = False\n",
    "        elif current.data == data:\n",
    "            # Item to be deleted is found at head of list\n",
    "            self.head = current.next  \n",
    "            self.head.prev = None \n",
    "            node_deleted = True \n",
    "        elif self.tail.data == data:\n",
    "            # Item to be deleted is found at the tail of list\n",
    "            self.tail = self.tail.prev  \n",
    "            self.tail.next = None \n",
    "            node_deleted = True\n",
    "        else: \n",
    "            # Search item to be deleted, and delete that node\n",
    "            while current:\n",
    "                if current.data == data: \n",
    "                    current.prev.next = current.next # Set the previous node's next to the next node\n",
    "                    current.next.prev = current.prev # Set the next node's previous to the previous node\n",
    "                    node_deleted = True # Node has been deleted\n",
    "                    break # Break out of the loop as early as possible\n",
    "                current = current.next \n",
    "\n",
    "        # Finally, update the length\n",
    "        if node_deleted: \n",
    "            self.length -= 1\n",
    "            print('\"{}\" has been deleted'.format(data))\n",
    "            return\n",
    "\n",
    "        # If here, then node_delete == False\n",
    "        print('\"{}\" was not found'.format(data))\n",
    "        return\n",
    "    \n",
    "    def contains(self, data):\n",
    "        for node in self.__iter__():\n",
    "            if data == node:\n",
    "                return True \n",
    "        return False"
   ]
  },
  {
   "cell_type": "code",
   "execution_count": 32,
   "metadata": {},
   "outputs": [
    {
     "name": "stdout",
     "output_type": "stream",
     "text": [
      "john in words? False\n",
      "ham in words? True\n"
     ]
    }
   ],
   "source": [
    "words = DoublyLinkedList()\n",
    "\n",
    "# Append Operations\n",
    "words.append('egg')\n",
    "words.append('ham')\n",
    "words.append('spam')\n",
    "\n",
    "# Searching\n",
    "print('john in words?', words.contains('john'))\n",
    "print('ham in words?', words.contains('ham'))"
   ]
  },
  {
   "cell_type": "markdown",
   "metadata": {},
   "source": [
    "### Circular List"
   ]
  },
  {
   "cell_type": "markdown",
   "metadata": {},
   "source": [
    "- The endpoints are connected to each other\n",
    "- The tail node's `next` points to the head node\n",
    "- There is no end node, so no node will point to `None`\n",
    "- Can be based on Singly or Doubly Linked List\n",
    "  - If doubly-linked-list-based, the tail will point to the head and the head to the tail"
   ]
  },
  {
   "cell_type": "markdown",
   "metadata": {},
   "source": [
    "**Using Singly-Linked List as Base**\n",
    "```\n",
    "-----------------               -----------------               -----------------\n",
    "|  ----------   | Node          |  ----------   | Node          |  ----------   | Node\n",
    "|  | data:a |   |               |  | data:b |   |               |  | data:c |   |\n",
    "|  ----------   |               |  ----------   |               |  ----------   |\n",
    "|  ----------   | link:pointer  |  ----------   | link:pointer  |  ----------   |\n",
    "|  |  next  |------------------>|  |  next  |------------------>|  |  next  |--------|\n",
    "|  ----------   |               |  ----------   |               |  ----------   |    |\n",
    "-----------------               -----------------               -----------------    |\n",
    "       ^                                                                             |\n",
    "       |                             link:pointer                                    |\n",
    "       |-----------------------------------------------------------------------------|\n",
    "```"
   ]
  },
  {
   "cell_type": "markdown",
   "metadata": {},
   "source": [
    "**Using Doubly-Linked List as Base**\n",
    "```\n",
    " |--------------------------------------------------------------------------|\n",
    " |                            link:pointer                                  |\n",
    " |                                                                          V\n",
    " |  -----------------               -----------------               -----------------\n",
    " |  |  ----------   | Node          |  ----------   | Node          |  ----------   | Node\n",
    " |  |  | data:a |   |               |  | data:b |   |               |  | data:c |   |\n",
    " |  |  ----------   |               |  ----------   |               |  ----------   |\n",
    " |  |  ----------   |  link:pointer |  ----------   |  link:pointer |  ----------   |\n",
    " |  |  |  next  |------------------>|  |  next  |------------------>|  |  next  |------------|\n",
    " |  |  ----------   |               |  ----------   |               |  ----------   |        |\n",
    " |  |  ----------   |  link:pointer |  ----------   |  link:pointer |  ----------   |        |\n",
    " |-----|  prev  |   |<-----------------|  prev  |   |<-----------------|  prev  |   |        |\n",
    "    |  ----------   |               |  ----------   |               |  ----------   |        |\n",
    "    -----------------               -----------------               -----------------        |\n",
    "           ^                                                                                 |\n",
    "           |                                 link:pointer                                    |\n",
    "           |---------------------------------------------------------------------------------|\n",
    "```"
   ]
  },
  {
   "cell_type": "markdown",
   "metadata": {},
   "source": [
    "#### Implementation"
   ]
  },
  {
   "cell_type": "markdown",
   "metadata": {},
   "source": [
    "- Here, we will implement using the Singly-Linked List\n",
    "- It will be very similar to the Singly-Linked List so will just focus on the differences"
   ]
  },
  {
   "cell_type": "markdown",
   "metadata": {},
   "source": [
    "#### The `append` Operation"
   ]
  },
  {
   "cell_type": "markdown",
   "metadata": {},
   "source": [
    "- We just have to set the tail node's `next` to point to the head node"
   ]
  },
  {
   "cell_type": "code",
   "execution_count": 33,
   "metadata": {},
   "outputs": [],
   "source": [
    "def append(self, data):\n",
    "    # Encapsulate the data in a Node \n",
    "    node = Node(data)\n",
    "\n",
    "    if self.tail:\n",
    "        # There are already data in the list\n",
    "        self.tail.next = node # For the current node\n",
    "        self.tail = node\n",
    "    else:\n",
    "        # There are no data in the list\n",
    "        self.head = node\n",
    "        self.tail = node\n",
    "    \n",
    "    self.tail.next = self.head # Make it circular\n",
    "    self.length += 1 # Increase the length"
   ]
  },
  {
   "cell_type": "markdown",
   "metadata": {},
   "source": [
    "#### Deleting Nodes"
   ]
  },
  {
   "cell_type": "markdown",
   "metadata": {},
   "source": [
    "- Same as in the Singly-Linked, but just make sure the `tail`'s `next` points to the `head`\n",
    "- However, it is possible that we could end in an infinite loop with this code if `current` never become `None`\n",
    "- If we delete a non-existing element, it will become an infinite loop\n",
    "- So we use a different way to control the while loop: Using `prev`\n",
    "  - `prev` follows `current` but lags behind `current` by one node\n",
    "  - When `prev` gets back to `self.head`, we have done the full circle and we can break the loop\n",
    "  - Except at the very first iteration: `prev == current` we need to make sure it runs"
   ]
  },
  {
   "cell_type": "code",
   "execution_count": 34,
   "metadata": {},
   "outputs": [],
   "source": [
    "def delete(self, data): \n",
    "    current = self.head \n",
    "    prev = self.head \n",
    "\n",
    "    # Single-Linked List: `while current:` could reach `None` but not here\n",
    "    while prev == current or prev != self.head:\n",
    "        if current.data == data:\n",
    "            if current == self.head: # The element to delete is the first element\n",
    "                self.head = current.next # Make the 2nd element to be the 1st element\n",
    "                self.tail.next = self.head # Make circular\n",
    "            else:\n",
    "                prev.next = current.next # Make the next element to be the next of the preceding element\n",
    "            self.length -= 1 # Decrease the length\n",
    "            print('\"{}\" has been deleted'.format(data))\n",
    "            return\n",
    "        prev = current\n",
    "        current = current.next\n",
    "\n",
    "    # If here, then data was not found\n",
    "    print('\"{}\" was not found'.format(data))\n",
    "    return"
   ]
  },
  {
   "cell_type": "markdown",
   "metadata": {},
   "source": [
    "#### List Traversal"
   ]
  },
  {
   "cell_type": "markdown",
   "metadata": {},
   "source": [
    "- We don't need to look for a starting point\n",
    "- Start anywhere, but make sure to break when reaching the start point again\n",
    "- We can use the same `iter` method, but just need an exit condition to add to avoid infinite loop\n",
    "- We can exit when we have reached the length of the list\n",
    "- Remember that the `length` keeps track of the count of elements in the list"
   ]
  },
  {
   "cell_type": "code",
   "execution_count": 35,
   "metadata": {},
   "outputs": [],
   "source": [
    "def __iter__(self):\n",
    "    current = self.head\n",
    "    i = 0\n",
    "    while i < self.length:\n",
    "        value = current.data\n",
    "        current = current.next\n",
    "        i += 1\n",
    "        yield value # Make ls.iterate() into a generator"
   ]
  },
  {
   "cell_type": "markdown",
   "metadata": {},
   "source": [
    "#### Final Class"
   ]
  },
  {
   "cell_type": "code",
   "execution_count": 36,
   "metadata": {},
   "outputs": [],
   "source": [
    "# A simple Node implementation\n",
    "class Node:\n",
    "    def __init__(self, data=None):\n",
    "        self.data = data\n",
    "        self.next = None\n",
    "    \n",
    "    def __str__(self):\n",
    "        return str(self.data)"
   ]
  },
  {
   "cell_type": "code",
   "execution_count": 37,
   "metadata": {},
   "outputs": [],
   "source": [
    "class CircularLinkedList:\n",
    "    def __init__(self):\n",
    "        self.tail = None  # Ref to the very first node in the list\n",
    "        self.head = None  # Ref to the very last node in the list\n",
    "        self.length = 0  # Ref to the current length of the list\n",
    "    \n",
    "    def __str__(self):\n",
    "        return \"CircularLinkedList(\" + str(self.length) + \")\"\n",
    "    \n",
    "    def __len__(self):\n",
    "        return self.length\n",
    "    \n",
    "    def __iter__(self):\n",
    "        current = self.head\n",
    "        i = 0\n",
    "        while i < self.length:\n",
    "            value = current.data\n",
    "            current = current.next\n",
    "            i += 1\n",
    "            yield value # Make ls.iterate() into a generator\n",
    "    \n",
    "    def append(self, data):\n",
    "        # Encapsulate the data in a Node \n",
    "        node = Node(data)\n",
    "        print(node)\n",
    "        \n",
    "        if self.tail:\n",
    "            # There are already data in the list\n",
    "            self.tail.next = node # For the current node\n",
    "            self.tail = node\n",
    "        else:\n",
    "            # There are no data in the list\n",
    "            self.head = node\n",
    "            self.tail = node\n",
    "\n",
    "        self.tail.next = self.head # Make it circular\n",
    "        self.length += 1 # Increase the length\n",
    "    \n",
    "    def contains(self, data):\n",
    "        for node in self.__iter__():\n",
    "            if data == node:\n",
    "                return True \n",
    "        return False\n",
    "    \n",
    "    def delete(self, data): \n",
    "        current = self.head \n",
    "        prev = self.head\n",
    "        i = 0\n",
    "        \n",
    "        # Single-Linked List: `while current:` could reach `None` but not here\n",
    "        while i < self.length:\n",
    "            if current.data == data:\n",
    "                if current == self.head: # The element to delete is the first element\n",
    "                    self.head = current.next # Make the 2nd element to be the 1st element\n",
    "                    self.tail.next = self.head # Make circular\n",
    "                else:\n",
    "                    prev.next = current.next # Make the next element to be the next of the preceding element\n",
    "                self.length -= 1 # Decrease the length\n",
    "                print('\"{}\" has been deleted'.format(data))\n",
    "                return\n",
    "            else:\n",
    "                prev = current\n",
    "                current = current.next\n",
    "                i += 1\n",
    "\n",
    "        # If here, then data was not found\n",
    "        print('\"{}\" was not found'.format(data))\n",
    "        return\n",
    "    \n",
    "    def clear(self):\n",
    "        self.tail = None\n",
    "        self.head = None\n",
    "        self.length = 0"
   ]
  },
  {
   "cell_type": "markdown",
   "metadata": {},
   "source": [
    "- Testing as a rotating slide on a website"
   ]
  },
  {
   "cell_type": "code",
   "execution_count": 38,
   "metadata": {},
   "outputs": [
    {
     "name": "stdout",
     "output_type": "stream",
     "text": [
      "CircularLinkedList(0)\n"
     ]
    }
   ],
   "source": [
    "rotating_slides = CircularLinkedList()\n",
    "print(rotating_slides)"
   ]
  },
  {
   "cell_type": "code",
   "execution_count": 39,
   "metadata": {},
   "outputs": [
    {
     "name": "stdout",
     "output_type": "stream",
     "text": [
      "Count of slides: 0\n"
     ]
    }
   ],
   "source": [
    "print(\"Count of slides:\", len(rotating_slides))"
   ]
  },
  {
   "cell_type": "code",
   "execution_count": 40,
   "metadata": {},
   "outputs": [
    {
     "name": "stdout",
     "output_type": "stream",
     "text": [
      "Slide 1\n",
      "Slide 2\n",
      "Slide 3\n",
      "Slide 4\n",
      "Slide 5\n"
     ]
    }
   ],
   "source": [
    "rotating_slides.append(\"Slide 1\")\n",
    "rotating_slides.append(\"Slide 2\")\n",
    "rotating_slides.append(\"Slide 3\")\n",
    "rotating_slides.append(\"Slide 4\")\n",
    "rotating_slides.append(\"Slide 5\")"
   ]
  },
  {
   "cell_type": "code",
   "execution_count": 41,
   "metadata": {},
   "outputs": [
    {
     "name": "stdout",
     "output_type": "stream",
     "text": [
      "Slide 1\n",
      "Slide 2\n",
      "Slide 3\n",
      "Slide 4\n",
      "Slide 5\n"
     ]
    }
   ],
   "source": [
    "for slide in rotating_slides:\n",
    "    print(slide)"
   ]
  },
  {
   "cell_type": "code",
   "execution_count": 42,
   "metadata": {},
   "outputs": [
    {
     "name": "stdout",
     "output_type": "stream",
     "text": [
      "False\n",
      "True\n"
     ]
    }
   ],
   "source": [
    "print(rotating_slides.contains('Slide 100'))\n",
    "print(rotating_slides.contains('Slide 3'))"
   ]
  },
  {
   "cell_type": "code",
   "execution_count": 43,
   "metadata": {},
   "outputs": [
    {
     "name": "stdout",
     "output_type": "stream",
     "text": [
      "\"Slide 3\" has been deleted\n",
      "CircularLinkedList(4)\n"
     ]
    }
   ],
   "source": [
    "rotating_slides.delete('Slide 3')\n",
    "print(rotating_slides)"
   ]
  },
  {
   "cell_type": "code",
   "execution_count": 44,
   "metadata": {},
   "outputs": [
    {
     "name": "stdout",
     "output_type": "stream",
     "text": [
      "\"Slide 3\" was not found\n",
      "CircularLinkedList(4)\n"
     ]
    }
   ],
   "source": [
    "rotating_slides.delete('Slide 3')\n",
    "print(rotating_slides)"
   ]
  },
  {
   "cell_type": "code",
   "execution_count": 45,
   "metadata": {},
   "outputs": [
    {
     "name": "stdout",
     "output_type": "stream",
     "text": [
      "CircularLinkedList(0)\n"
     ]
    }
   ],
   "source": [
    "rotating_slides.clear()\n",
    "print(rotating_slides)"
   ]
  }
 ],
 "metadata": {
  "kernelspec": {
   "display_name": "Python 3",
   "language": "python",
   "name": "python3"
  },
  "language_info": {
   "codemirror_mode": {
    "name": "ipython",
    "version": 3
   },
   "file_extension": ".py",
   "mimetype": "text/x-python",
   "name": "python",
   "nbconvert_exporter": "python",
   "pygments_lexer": "ipython3",
   "version": "3.7.6"
  },
  "toc": {
   "base_numbering": 1,
   "nav_menu": {},
   "number_sections": true,
   "sideBar": true,
   "skip_h1_title": true,
   "title_cell": "Table of Contents",
   "title_sidebar": "Contents",
   "toc_cell": true,
   "toc_position": {
    "height": "398px",
    "left": "474px",
    "top": "110px",
    "width": "256px"
   },
   "toc_section_display": true,
   "toc_window_display": true
  }
 },
 "nbformat": 4,
 "nbformat_minor": 4
}
