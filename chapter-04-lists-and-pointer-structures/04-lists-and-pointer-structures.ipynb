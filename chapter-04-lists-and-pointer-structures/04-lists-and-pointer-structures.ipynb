{
 "cells": [
  {
   "cell_type": "markdown",
   "metadata": {
    "toc": true
   },
   "source": [
    "<h1>Table of Contents<span class=\"tocSkip\"></span></h1>\n",
    "<div class=\"toc\"><ul class=\"toc-item\"><li><span><a href=\"#Chapter-Goals\" data-toc-modified-id=\"Chapter-Goals-1\"><span class=\"toc-item-num\">1&nbsp;&nbsp;</span>Chapter Goals</a></span></li><li><span><a href=\"#Pointers-In-Python\" data-toc-modified-id=\"Pointers-In-Python-2\"><span class=\"toc-item-num\">2&nbsp;&nbsp;</span>Pointers In Python</a></span></li><li><span><a href=\"#Arrays\" data-toc-modified-id=\"Arrays-3\"><span class=\"toc-item-num\">3&nbsp;&nbsp;</span>Arrays</a></span></li><li><span><a href=\"#Pointer-Structures\" data-toc-modified-id=\"Pointer-Structures-4\"><span class=\"toc-item-num\">4&nbsp;&nbsp;</span>Pointer Structures</a></span><ul class=\"toc-item\"><li><span><a href=\"#Benefits-of-Pointer-Structures\" data-toc-modified-id=\"Benefits-of-Pointer-Structures-4.1\"><span class=\"toc-item-num\">4.1&nbsp;&nbsp;</span>Benefits of Pointer Structures</a></span></li><li><span><a href=\"#Costs-of-Pointer-Structures\" data-toc-modified-id=\"Costs-of-Pointer-Structures-4.2\"><span class=\"toc-item-num\">4.2&nbsp;&nbsp;</span>Costs of Pointer Structures</a></span></li><li><span><a href=\"#Nodes\" data-toc-modified-id=\"Nodes-4.3\"><span class=\"toc-item-num\">4.3&nbsp;&nbsp;</span>Nodes</a></span><ul class=\"toc-item\"><li><span><a href=\"#Finding-Endpoints\" data-toc-modified-id=\"Finding-Endpoints-4.3.1\"><span class=\"toc-item-num\">4.3.1&nbsp;&nbsp;</span>Finding Endpoints</a></span></li></ul></li><li><span><a href=\"#Node-Class\" data-toc-modified-id=\"Node-Class-4.4\"><span class=\"toc-item-num\">4.4&nbsp;&nbsp;</span>Node Class</a></span><ul class=\"toc-item\"><li><span><a href=\"#Other-Node-Types\" data-toc-modified-id=\"Other-Node-Types-4.4.1\"><span class=\"toc-item-num\">4.4.1&nbsp;&nbsp;</span>Other Node Types</a></span></li></ul></li></ul></li><li><span><a href=\"#Introducing-Lists\" data-toc-modified-id=\"Introducing-Lists-5\"><span class=\"toc-item-num\">5&nbsp;&nbsp;</span>Introducing Lists</a></span><ul class=\"toc-item\"><li><span><a href=\"#Singly-Linked-List\" data-toc-modified-id=\"Singly-Linked-List-5.1\"><span class=\"toc-item-num\">5.1&nbsp;&nbsp;</span>Singly Linked List</a></span><ul class=\"toc-item\"><li><span><a href=\"#Problems-With-This-Simple-Implementation\" data-toc-modified-id=\"Problems-With-This-Simple-Implementation-5.1.1\"><span class=\"toc-item-num\">5.1.1&nbsp;&nbsp;</span>Problems With This Simple Implementation</a></span></li><li><span><a href=\"#Singly-Linked-List-Class\" data-toc-modified-id=\"Singly-Linked-List-Class-5.1.2\"><span class=\"toc-item-num\">5.1.2&nbsp;&nbsp;</span>Singly Linked List Class</a></span></li><li><span><a href=\"#The-append-Operation\" data-toc-modified-id=\"The-append-Operation-5.1.3\"><span class=\"toc-item-num\">5.1.3&nbsp;&nbsp;</span>The <code>append</code> Operation</a></span></li><li><span><a href=\"#A-Faster-Append-Operation\" data-toc-modified-id=\"A-Faster-Append-Operation-5.1.4\"><span class=\"toc-item-num\">5.1.4&nbsp;&nbsp;</span>A Faster Append Operation</a></span></li><li><span><a href=\"#Getting-The-Length-of-the-List\" data-toc-modified-id=\"Getting-The-Length-of-the-List-5.1.5\"><span class=\"toc-item-num\">5.1.5&nbsp;&nbsp;</span>Getting The Length of the List</a></span></li><li><span><a href=\"#Improving-List-Traversal\" data-toc-modified-id=\"Improving-List-Traversal-5.1.6\"><span class=\"toc-item-num\">5.1.6&nbsp;&nbsp;</span>Improving List Traversal</a></span></li><li><span><a href=\"#Deleting-Nodes\" data-toc-modified-id=\"Deleting-Nodes-5.1.7\"><span class=\"toc-item-num\">5.1.7&nbsp;&nbsp;</span>Deleting Nodes</a></span></li><li><span><a href=\"#List-Search\" data-toc-modified-id=\"List-Search-5.1.8\"><span class=\"toc-item-num\">5.1.8&nbsp;&nbsp;</span>List Search</a></span></li><li><span><a href=\"#Clearing-a-List\" data-toc-modified-id=\"Clearing-a-List-5.1.9\"><span class=\"toc-item-num\">5.1.9&nbsp;&nbsp;</span>Clearing a List</a></span></li></ul></li><li><span><a href=\"#Doubly-Linked-List\" data-toc-modified-id=\"Doubly-Linked-List-5.2\"><span class=\"toc-item-num\">5.2&nbsp;&nbsp;</span>Doubly Linked List</a></span><ul class=\"toc-item\"><li><span><a href=\"#Doubly-Linked-List-Node\" data-toc-modified-id=\"Doubly-Linked-List-Node-5.2.1\"><span class=\"toc-item-num\">5.2.1&nbsp;&nbsp;</span>Doubly Linked List Node</a></span></li><li><span><a href=\"#Doubly-Linked-List-Class\" data-toc-modified-id=\"Doubly-Linked-List-Class-5.2.2\"><span class=\"toc-item-num\">5.2.2&nbsp;&nbsp;</span>Doubly Linked List Class</a></span></li><li><span><a href=\"#The-append-Operation\" data-toc-modified-id=\"The-append-Operation-5.2.3\"><span class=\"toc-item-num\">5.2.3&nbsp;&nbsp;</span>The <code>append</code> Operation</a></span></li><li><span><a href=\"#List-Traversal\" data-toc-modified-id=\"List-Traversal-5.2.4\"><span class=\"toc-item-num\">5.2.4&nbsp;&nbsp;</span>List Traversal</a></span></li><li><span><a href=\"#Deleting-Nodes\" data-toc-modified-id=\"Deleting-Nodes-5.2.5\"><span class=\"toc-item-num\">5.2.5&nbsp;&nbsp;</span>Deleting Nodes</a></span></li><li><span><a href=\"#List-Search\" data-toc-modified-id=\"List-Search-5.2.6\"><span class=\"toc-item-num\">5.2.6&nbsp;&nbsp;</span>List Search</a></span></li><li><span><a href=\"#Clearing-a-List\" data-toc-modified-id=\"Clearing-a-List-5.2.7\"><span class=\"toc-item-num\">5.2.7&nbsp;&nbsp;</span>Clearing a List</a></span></li></ul></li><li><span><a href=\"#Circular-List\" data-toc-modified-id=\"Circular-List-5.3\"><span class=\"toc-item-num\">5.3&nbsp;&nbsp;</span>Circular List</a></span><ul class=\"toc-item\"><li><span><a href=\"#Implementation\" data-toc-modified-id=\"Implementation-5.3.1\"><span class=\"toc-item-num\">5.3.1&nbsp;&nbsp;</span>Implementation</a></span></li><li><span><a href=\"#The-append-Operation\" data-toc-modified-id=\"The-append-Operation-5.3.2\"><span class=\"toc-item-num\">5.3.2&nbsp;&nbsp;</span>The <code>append</code> Operation</a></span></li><li><span><a href=\"#Deleting-Nodes\" data-toc-modified-id=\"Deleting-Nodes-5.3.3\"><span class=\"toc-item-num\">5.3.3&nbsp;&nbsp;</span>Deleting Nodes</a></span></li><li><span><a href=\"#List-Traversal\" data-toc-modified-id=\"List-Traversal-5.3.4\"><span class=\"toc-item-num\">5.3.4&nbsp;&nbsp;</span>List Traversal</a></span></li><li><span><a href=\"#Final-Class\" data-toc-modified-id=\"Final-Class-5.3.5\"><span class=\"toc-item-num\">5.3.5&nbsp;&nbsp;</span>Final Class</a></span></li></ul></li></ul></li></ul></div>"
   ]
  },
  {
   "cell_type": "markdown",
   "metadata": {},
   "source": [
    "# Lists and Pointer Structures"
   ]
  },
  {
   "cell_type": "markdown",
   "metadata": {},
   "source": [
    "- Most of the time, we would use Python's original `list` structure\n",
    "- We will study how it works and its internals\n",
    "- Python's list implementation can be used on several use-cases\n",
    "- The concept of a *Node*"
   ]
  },
  {
   "cell_type": "markdown",
   "metadata": {},
   "source": [
    "## Chapter Goals"
   ]
  },
  {
   "cell_type": "markdown",
   "metadata": {},
   "source": [
    "- Understand *Pointers* in Python\n",
    "- Understand the concept of implementation of *Nodes*\n",
    "- Implement Singly, Doubly, and Circularly Linked Lists"
   ]
  },
  {
   "cell_type": "markdown",
   "metadata": {},
   "source": [
    "## Pointers In Python"
   ]
  },
  {
   "cell_type": "markdown",
   "metadata": {},
   "source": [
    "- The concept of pointers works in the same way as when you try to point to your house\n",
    "  - To sell a house, an agent does not bring the house everywhere\n",
    "  - Instead, he/she will have a small paper that \"represents\" the house\n",
    "  - This small paper *points* to the house to be sold\n",
    "- Data and files remain in one single place in memory\n",
    "  - What we create are variables that point to those location in memory\n",
    "  - Variables are small and can be easily passed around between functions\n",
    "  - Pointers allow to point to a potentially large segment of memory with just a simple memory address\n",
    "- Pointers are supported in hardware too (known as *Indirect Addressing*)\n",
    "- In Python, we don't manipulate pointers directly like in C/C++\n",
    "  - But pointers are still used in Python"
   ]
  },
  {
   "cell_type": "code",
   "execution_count": null,
   "metadata": {},
   "outputs": [],
   "source": [
    "mySet = set() # mySet is a reference/pointer to a set value stored in memory"
   ]
  },
  {
   "cell_type": "markdown",
   "metadata": {},
   "source": [
    "- Here, `mySet` is technically not a variable of type `set`\n",
    "- **Instead, `mySet` is a reference/safe pointer to a `set` value**\n",
    "  - There is an actual set value somewhere in memory\n",
    "  - `mySet` stores this location in memory and points to that value in memory\n",
    "- Python hides this complexity from us\n",
    "- So we can assume that `mySet` is a set and everythings still work"
   ]
  },
  {
   "cell_type": "markdown",
   "metadata": {},
   "source": [
    "## Arrays"
   ]
  },
  {
   "cell_type": "markdown",
   "metadata": {},
   "source": [
    "- Sequential list of data\n",
    "- Each element is stored right after the previous one in memory\n",
    "- If an array is really big, it can be impossible to store it in memory\n",
    "- But arrays are very fast: There is no need to jump around between memory locations\n",
    "  - Very important point to make when choosing between list and array\n",
    "- Arrays in Python are implemented using the `array` module\n",
    "- **Array vs List: Array can only contain one type of data elements**\n",
    "- Check `02-data-types-and-structures` for a review on arrays\n",
    "- Building an array: `array(type[, initializer])`"
   ]
  },
  {
   "cell_type": "code",
   "execution_count": null,
   "metadata": {},
   "outputs": [],
   "source": [
    "from array import array\n",
    "from sys import getsizeof\n",
    "\n",
    "basic_array_int = array('i', range(10)) # Array of signed integers\n",
    "size_basic_array_int = getsizeof(basic_array_int)\n",
    "\n",
    "print(basic_array_int)\n",
    "print(\"array size:\", size_basic_array_int)"
   ]
  },
  {
   "cell_type": "code",
   "execution_count": null,
   "metadata": {},
   "outputs": [],
   "source": [
    "# Compared to a list\n",
    "basic_list = [x for x in range(10)]\n",
    "size_basic_list = getsizeof(basic_list)\n",
    "\n",
    "print(basic_list)\n",
    "print(\"list size:\", size_basic_list)"
   ]
  },
  {
   "cell_type": "code",
   "execution_count": null,
   "metadata": {},
   "outputs": [],
   "source": [
    "from array import array\n",
    "\n",
    "basic_array_int = array('i', range(10)) # Array of signed integers\n",
    "print('basic_array_int:', basic_array_int)\n",
    "\n",
    "ca = basic_array_int # Passing by reference: All values in Python are references\n",
    "ca[0] = 10 # Change in one affects the other also\n",
    "\n",
    "print('ca:', ca)\n",
    "print('basic_array_int:', basic_array_int)"
   ]
  },
  {
   "cell_type": "markdown",
   "metadata": {},
   "source": [
    "## Pointer Structures"
   ]
  },
  {
   "cell_type": "markdown",
   "metadata": {},
   "source": [
    "- This is the abstract structure of Python's `list`\n",
    "- Opposite of arrays: **List of items that can be spread out in memory**\n",
    "- Each item contain one or more links to other items in the structure\n",
    "- The type of links is dependent on the type of structures\n",
    "  - Linked lists: Links to the previous or next items in the structure\n",
    "  - Tree: Parent-child links and sibling links"
   ]
  },
  {
   "cell_type": "markdown",
   "metadata": {},
   "source": [
    "![python-list-under-the-hood.png](../files/chap_04/python-list-under-the-hood.png)"
   ]
  },
  {
   "cell_type": "markdown",
   "metadata": {},
   "source": [
    "### Benefits of Pointer Structures"
   ]
  },
  {
   "cell_type": "markdown",
   "metadata": {},
   "source": [
    "- No sequential storage space in memory required (vs Array)\n",
    "- Can start small and grow arbitrarily as required with more nodes (dynamic)"
   ]
  },
  {
   "cell_type": "markdown",
   "metadata": {},
   "source": [
    "### Costs of Pointer Structures"
   ]
  },
  {
   "cell_type": "markdown",
   "metadata": {},
   "source": [
    "- Need additional space to store the address\n",
    "- Example for storing a list of integers:\n",
    "  - Storing the data values (integers)\n",
    "  - Storing the additional pointer to the next node (because they are not in sequence in memory)\n",
    "- Values are stored sparsed in memory\n",
    "  - This is a cost in performance when compared with Arrays"
   ]
  },
  {
   "cell_type": "code",
   "execution_count": null,
   "metadata": {},
   "outputs": [],
   "source": [
    "ls_int = [n for n in range(10)] # Each number is stored sparsed in memory\n",
    "\n",
    "print(ls_int)"
   ]
  },
  {
   "cell_type": "markdown",
   "metadata": {},
   "source": [
    "### Nodes"
   ]
  },
  {
   "cell_type": "markdown",
   "metadata": {},
   "source": [
    "- **This is the Foundation of data structures with pointers**\n",
    "- A container of data, together with one or more *links* to other nodes\n",
    "- **A *link* is a pointer**\n",
    "- At the heart of pointer structures (lists) is the concept of nodes"
   ]
  },
  {
   "cell_type": "code",
   "execution_count": null,
   "metadata": {},
   "outputs": [],
   "source": [
    "# 3 variables with unique names, types, and values\n",
    "a = 'egg'\n",
    "b = 'ham'\n",
    "c = 'spam'\n",
    "ls = [a, b, c] # A pointer structure that uses node"
   ]
  },
  {
   "cell_type": "markdown",
   "metadata": {},
   "source": [
    "- Right now, we cannot show the relationships between those variables\n",
    "- Using nodes, we can show those relationships\n",
    "- A simple type of node: One that only has a link to the next node\n",
    "- **The string is *not* stored in the node, but there is a pointer to the actual string value stored in memory**\n",
    "- The requirement for this simple node is 2 memory addresses:\n",
    "  - The actual string value is stored in memory: `data` is a pointer to that memory address\n",
    "  - The next node is also stored in memory: `next` is a pointer to that memory address\n",
    "\n",
    "![basic-node.png](../files/chap_04/basic-node.png)\n",
    "\n",
    "```\n",
    "    ---------                                             ---------\n",
    "    | 'egg' | actual string in memory                     | 'ham' | actual string in memory\n",
    "    ---------                                             ---------\n",
    "        ^                                                     ^\n",
    "        | Pointer                                             | Pointer\n",
    "        |                                                     |\n",
    "--------|--------                                     --------|--------\n",
    "|  -----|----   | Node (Container) in mem             |  -----|----   | Node (Container) in mem\n",
    "|  | data:a |   |                                     |  | data:b |   |\n",
    "|  ----------   |                                     |  ----------   |\n",
    "|  ----------   |            link:pointer             |  ----------   |\n",
    "|  |  next  |---------------------------------------->|  |  next  |   |\n",
    "|  ----------   |                                     |  ----------   |\n",
    "-----------------                                     -----------------\n",
    "```"
   ]
  },
  {
   "cell_type": "markdown",
   "metadata": {},
   "source": [
    "#### Finding Endpoints"
   ]
  },
  {
   "cell_type": "markdown",
   "metadata": {},
   "source": [
    "- There are 3 nodes in that structure:\n",
    "  - *Node 1*: Points to `'egg'`, also point to *Node 2*\n",
    "  - *Node 2*: Points to `'ham'`, also point to *Node 3*\n",
    "  - *Node 3*: Points to `'spam'`, ... where does it point next?\n",
    "- Since *Node 3* is the last element of the list, we need to make sure that this is obvious\n",
    "  - ***Node 3* points to `None` for its `next`, thus making it the endpoint**\n",
    "  - **Any node that points to `None` is an endpoint**\n",
    "\n",
    "![basic-node-structure.png](../files/chap_04/basic-node-structure.png)"
   ]
  },
  {
   "cell_type": "markdown",
   "metadata": {},
   "source": [
    "### Node Class"
   ]
  },
  {
   "cell_type": "code",
   "execution_count": null,
   "metadata": {},
   "outputs": [],
   "source": [
    "class Node:\n",
    "    \"\"\"A simple One-Direction Node implementation\"\"\"\n",
    "    \n",
    "    def __init__(self, data=None):\n",
    "        \"\"\"Initialize a Node object\"\"\"\n",
    "        self.data = data\n",
    "        self.next = None\n",
    "        \n",
    "        \n",
    "    def __str__(self):\n",
    "        \"\"\"Return the string representation of the contained data\"\"\"\n",
    "        return str(self.data)"
   ]
  },
  {
   "cell_type": "markdown",
   "metadata": {},
   "source": [
    "- By default, unless we change the value of `node.next`, it will be an endpoint as it points to `None`\n",
    "- This auto-terminates the list properly\n",
    "- Keep in mind the distinction between `node` and `data`\n",
    "- We can add other attributes/methods to the `Node` class as you see fit"
   ]
  },
  {
   "cell_type": "markdown",
   "metadata": {},
   "source": [
    "#### Other Node Types "
   ]
  },
  {
   "cell_type": "markdown",
   "metadata": {},
   "source": [
    "- Sometimes, we want to:\n",
    "  - Be able to go from Node A to Node B (`self.next`)\n",
    "  - Be able to go from Node B to Node A (`self.previous`)\n",
    "- The `next` pointer of B is `None`\n",
    "- The `previous` pointer of A is `None`\n",
    "\n",
    "![two-way-node.png](../files/chap_04/two-way-node.png)"
   ]
  },
  {
   "cell_type": "code",
   "execution_count": null,
   "metadata": {},
   "outputs": [],
   "source": [
    "class Node:\n",
    "    \"\"\"A simple Two-Direction Node implementation\"\"\"\n",
    "    \n",
    "    def __init__(self, data=None):\n",
    "        \"\"\"Initialize a Node object\"\"\"\n",
    "        self.data = data\n",
    "        self.next = None\n",
    "        self.previous = None\n",
    "        \n",
    "        \n",
    "    def __str__(self):\n",
    "        \"\"\"Return the string representation of the contained data\"\"\"\n",
    "        return str(self.data)"
   ]
  },
  {
   "cell_type": "markdown",
   "metadata": {},
   "source": [
    "## Introducing Lists"
   ]
  },
  {
   "cell_type": "markdown",
   "metadata": {},
   "source": [
    "- List is an important and popular data structure\n",
    "- There are 3 kinds of lists:\n",
    "  - **Singly linked list**\n",
    "  - **Doubly linked list**\n",
    "  - **Circular linked list**\n",
    "- Lists also has some operations associated with them:\n",
    "  - `append`\n",
    "  - `delete`\n",
    "  - `traversing`\n",
    "  - `searching`"
   ]
  },
  {
   "cell_type": "markdown",
   "metadata": {},
   "source": [
    "### Singly Linked List"
   ]
  },
  {
   "cell_type": "markdown",
   "metadata": {},
   "source": [
    "- Has only one pointer between 2 successive nodes: `next`\n",
    "  - Can only be traversed in one direction: From first to last\n",
    "  - Cannot go backward\n",
    "- We can use the `Node` class we created earlier for a singly linked list"
   ]
  },
  {
   "cell_type": "markdown",
   "metadata": {},
   "source": [
    "```\n",
    "-----------------                            -----------------\n",
    "|  ----------   | Node (Container)           |  ----------   | Node (Container)\n",
    "|  | data:a |   |                            |  | data:b |   |\n",
    "|  ----------   |                            |  ----------   |\n",
    "|  ----------   |       link:pointer         |  ----------   |\n",
    "|  |  next  |------------------------------->|  |  next  |   |\n",
    "|  ----------   |                            |  ----------   |\n",
    "-----------------                            -----------------\n",
    "```"
   ]
  },
  {
   "cell_type": "code",
   "execution_count": null,
   "metadata": {},
   "outputs": [],
   "source": [
    "# Creating 3 nodes\n",
    "n1 = Node('eggs')\n",
    "n2 = Node('ham')\n",
    "n3 = Node('spam')"
   ]
  },
  {
   "cell_type": "code",
   "execution_count": null,
   "metadata": {},
   "outputs": [],
   "source": [
    "# Setting up the `next` for each node\n",
    "n1.next = n2\n",
    "n2.next = n3\n",
    "n3.next = None  # ALready the default so can be omitted"
   ]
  },
  {
   "cell_type": "code",
   "execution_count": null,
   "metadata": {},
   "outputs": [],
   "source": [
    "# Traversing the Linked list\n",
    "current = n1\n",
    "\n",
    "while current:\n",
    "    print(\"-\", current.data)\n",
    "    current = current.next"
   ]
  },
  {
   "cell_type": "markdown",
   "metadata": {},
   "source": [
    "#### Problems With This Simple Implementation"
   ]
  },
  {
   "cell_type": "markdown",
   "metadata": {},
   "source": [
    "- Requires too much manual work by the programmer\n",
    "- Too error prone\n",
    "- Too much of the inner workings exposed"
   ]
  },
  {
   "cell_type": "markdown",
   "metadata": {},
   "source": [
    "#### Singly Linked List Class"
   ]
  },
  {
   "cell_type": "markdown",
   "metadata": {},
   "source": [
    "- A list is a separate concept from a node\n",
    "- **Here, `head` is a reference to the very first node (oldest) in the list**\n",
    "  - **There is no strict rule as to which way is `head` and which way is `tail`**"
   ]
  },
  {
   "cell_type": "markdown",
   "metadata": {},
   "source": [
    "#### The `append` Operation"
   ]
  },
  {
   "cell_type": "markdown",
   "metadata": {},
   "source": [
    "- `append`: The insert operation\n",
    "  - We have the chance to encapsulate the operation to hide the inner workings\n",
    "  - Encapsulate the data in a `Node` to get the `next` attribute\n",
    "  - If there are no data, `head` becomes the current data\n",
    "  - Else, if there are data already, we find the insertion point by traversing the list to the last node, updating the next pointer of the last node to the new node"
   ]
  },
  {
   "cell_type": "code",
   "execution_count": null,
   "metadata": {},
   "outputs": [],
   "source": [
    "class SinglyLinkedList:\n",
    "    \"\"\"A simple implementation of a SinglyLinkedList\"\"\"\n",
    "    \n",
    "    def __init__(self):\n",
    "        \"\"\"Initialize a new SinglyLinkedList structure\"\"\"\n",
    "        self.head = None  # Reference to the very first node (oldest) in the list\n",
    "    \n",
    "    \n",
    "    def append(self, data):\n",
    "        \"\"\"Append a new node to the list\"\"\"\n",
    "        node = Node(data) # Encapsulate the data in a Node \n",
    "        \n",
    "        # Make the head if the list is empty\n",
    "        if self.head == None:\n",
    "            self.head = node \n",
    "            \n",
    "        # Else, move starting from the head to the current node to append to the list\n",
    "        else:\n",
    "            # Finding the current node starting from the head\n",
    "            current = self.head\n",
    "            \n",
    "            while current.next:\n",
    "                current = current.next\n",
    "                \n",
    "            # Finally, set the new node as the next for the current\n",
    "            current.next = node"
   ]
  },
  {
   "cell_type": "code",
   "execution_count": null,
   "metadata": {},
   "outputs": [],
   "source": [
    "words = SinglyLinkedList()\n",
    "\n",
    "# Append Operations\n",
    "words.append('egg')\n",
    "words.append('ham')\n",
    "words.append('spam')"
   ]
  },
  {
   "cell_type": "markdown",
   "metadata": {},
   "source": [
    "#### A Faster Append Operation"
   ]
  },
  {
   "cell_type": "markdown",
   "metadata": {},
   "source": [
    "- Current Problem: We have to traverse the entire list in order to append a new element\n",
    "- This is a big problem when the list is very long\n",
    "  - **We would need to traverse the whole list for every single append operation**\n",
    "  - Each append will be slightly slower than the previous one\n",
    "  - **Current `append` implementation performance: $O(n)$**\n",
    "- To fix this:\n",
    "  - Store a reference to the first node of the list: `tail`\n",
    "  - Store a reference to the last node of the list: `head`\n",
    "  - **Here, `tail` is a reference to the very first node (oldest) in the list and `head` is the last node (newest)**\n",
    "  - **There is no strict rule as to which way is `head` and which way is `tail`**\n",
    "- **With this, `append` has a performance of $O(1)$**"
   ]
  },
  {
   "cell_type": "code",
   "execution_count": null,
   "metadata": {},
   "outputs": [],
   "source": [
    "class SinglyLinkedList:\n",
    "    \"\"\"A better implementation of a SinglyLinkedList\"\"\"\n",
    "    \n",
    "    def __init__(self):\n",
    "        \"\"\"Initialize a new SinglyLinkedList structure\"\"\"\n",
    "        self.tail = None  # Ref to the very first node (oldest) in the list\n",
    "        self.head = None  # Ref to the very last node (newest) in the list\n",
    "    \n",
    "    \n",
    "    def append(self, data):\n",
    "        \"\"\"Append a new node to the list\"\"\"\n",
    "        node = Node(data) # Encapsulate the data into a Node class: Default next is None\n",
    "        \n",
    "        # Check if there are already data in the list\n",
    "        if self.tail:\n",
    "            # For the current head node, set its 'next' to point to the new node\n",
    "            self.head.next = node\n",
    "            # Then, set the new node as the new current head node\n",
    "            self.head = node # Now, self.head.next is None again\n",
    "        else:\n",
    "            # There are no data in the list\n",
    "            self.tail = node\n",
    "            self.head = node"
   ]
  },
  {
   "cell_type": "markdown",
   "metadata": {},
   "source": [
    "#### Getting The Length of the List"
   ]
  },
  {
   "cell_type": "markdown",
   "metadata": {},
   "source": [
    "- The length of the list is the count of existing nodes\n",
    "- We could implement this by traversing the entire list and increase the count as we go"
   ]
  },
  {
   "cell_type": "code",
   "execution_count": null,
   "metadata": {},
   "outputs": [],
   "source": [
    "def __len__(self):\n",
    "    \"\"\"Return the count of existing nodes\"\"\"\n",
    "    count = 0\n",
    "    current = self.tail\n",
    "    \n",
    "    while current:\n",
    "        count += 1\n",
    "        current = current.next\n",
    "        \n",
    "    return count"
   ]
  },
  {
   "cell_type": "markdown",
   "metadata": {},
   "source": [
    "- Again, the problem is that this would be $O(n)$ and problematic when the list is big\n",
    "- **List traversal is always potentially an expensive operation that we should avoid wherever we can**\n",
    "  - **Instead, we should opt for another caching of current size and updating it as we go**\n",
    "  - **By doing this, we have `len(ls)` go from $O(n)$ to $O(1)$**"
   ]
  },
  {
   "cell_type": "code",
   "execution_count": null,
   "metadata": {},
   "outputs": [],
   "source": [
    "class SinglyLinkedList:\n",
    "    \"\"\"A better implementation of a SinglyLinkedList\"\"\"\n",
    "    \n",
    "    def __init__(self):\n",
    "        \"\"\"Initialize a new SinglyLinkedList structure\"\"\"\n",
    "        self.tail = None # Ref to the very first node (oldest) in the list\n",
    "        self.head = None # Ref to the very last node (newest) in the list\n",
    "        self.length = 0  # Ref to the current length of the list\n",
    "    \n",
    "    \n",
    "    def __len__(self):\n",
    "        \"\"\"Return the count of existing nodes\"\"\"\n",
    "        return self.length\n",
    "    \n",
    "    \n",
    "    def append(self, data):\n",
    "        \"\"\"Append a new node to the list\"\"\"\n",
    "        node = Node(data) # Encapsulate the data into a Node class: Default next is None\n",
    "        \n",
    "        # Check if there are already data in the list\n",
    "        if self.tail:\n",
    "            # There are already data in the list\n",
    "            self.head.next = node # For the current node\n",
    "            self.head = node # Now, self.head.next is None again\n",
    "            self.length += 1 # Increase the length\n",
    "        else:\n",
    "            # There are no data in the list\n",
    "            self.tail = node\n",
    "            self.head = node\n",
    "            self.length += 1 # Increase the length"
   ]
  },
  {
   "cell_type": "markdown",
   "metadata": {},
   "source": [
    "#### Improving List Traversal"
   ]
  },
  {
   "cell_type": "markdown",
   "metadata": {},
   "source": [
    "- Client node should not be allowed to interact with the node object\n",
    "- We need to use `node.data` to get current node and `node.next` to get the pointer to the next node"
   ]
  },
  {
   "cell_type": "code",
   "execution_count": null,
   "metadata": {},
   "outputs": [],
   "source": [
    "class SinglyLinkedList:\n",
    "    \"\"\"A better implementation of a SinglyLinkedList\"\"\"\n",
    "    \n",
    "    def __init__(self):\n",
    "        \"\"\"Initialize a new SinglyLinkedList structure\"\"\"\n",
    "        self.tail = None # Ref to the very first node (oldest) in the list\n",
    "        self.head = None # Ref to the very last node (newest) in the list\n",
    "        self.length = 0  # Ref to the current length of the list\n",
    "    \n",
    "    \n",
    "    def __len__(self):\n",
    "        \"\"\"Return the count of existing nodes\"\"\"\n",
    "        return self.length\n",
    "    \n",
    "    \n",
    "    def __iter__(self):\n",
    "        \"\"\"Allows calls like: for x in singlyLinkedlist\"\"\"\n",
    "        current = self.tail\n",
    "        \n",
    "        while current:\n",
    "            value = current.data\n",
    "            current = current.next\n",
    "            yield value # Make ls.iterate() into a generator\n",
    "    \n",
    "    \n",
    "    def append(self, data):\n",
    "        \"\"\"Append a new node to the list\"\"\"\n",
    "        node = Node(data) # Encapsulate the data into a Node class: Default next is None\n",
    "        \n",
    "        # Check if there are already data in the list\n",
    "        if self.tail:\n",
    "            # There are already data in the list\n",
    "            self.head.next = node # For the current node\n",
    "            self.head = node # Now, self.head.next is None again\n",
    "            self.length += 1 # Increase the length\n",
    "        else:\n",
    "            # There are no data in the list\n",
    "            self.tail = node\n",
    "            self.head = node\n",
    "            self.length += 1 # Increase the length"
   ]
  },
  {
   "cell_type": "code",
   "execution_count": null,
   "metadata": {},
   "outputs": [],
   "source": [
    "words = SinglyLinkedList()\n",
    "\n",
    "# Append Operations\n",
    "words.append('egg')\n",
    "words.append('ham')\n",
    "words.append('spam')\n",
    "\n",
    "# Traversing\n",
    "for w in words:\n",
    "    print(w)"
   ]
  },
  {
   "cell_type": "markdown",
   "metadata": {},
   "source": [
    "#### Deleting Nodes"
   ]
  },
  {
   "cell_type": "markdown",
   "metadata": {},
   "source": [
    "- First, we have to define how would a node be selected for deletion\n",
    "  - By index?\n",
    "  - By data?\n",
    "- Here, we will use by the data that the node contains\n",
    "- When we delete a node, the `length` must also be updated\n",
    "- When we delete a node that is between two nodes, the `next` of the preceding node must be updated\n",
    "  - Make the preceding node point to the successor of its `next` node that is to be deleted"
   ]
  },
  {
   "cell_type": "markdown",
   "metadata": {},
   "source": [
    "![linked-list-deleting-a-node.png](../files/chap_04/linked-list-deleting-a-node.png)"
   ]
  },
  {
   "cell_type": "code",
   "execution_count": null,
   "metadata": {},
   "outputs": [],
   "source": [
    "class SinglyLinkedList:\n",
    "    \"\"\"A better implementation of a SinglyLinkedList\"\"\"\n",
    "    \n",
    "    def __init__(self):\n",
    "        \"\"\"Initialize a new SinglyLinkedList structure\"\"\"\n",
    "        self.tail = None # Ref to the very first node (oldest) in the list\n",
    "        self.head = None # Ref to the very last node (newest) in the list\n",
    "        self.length = 0  # Ref to the current length of the list\n",
    "    \n",
    "    \n",
    "    def __iter__(self):\n",
    "        \"\"\"Allows calls like: for x in singlyLinkedlist\"\"\"\n",
    "        current = self.tail\n",
    "        \n",
    "        while current:\n",
    "            value = current.data\n",
    "            current = current.next\n",
    "            yield value # Make ls.iterate() into a generator\n",
    "            \n",
    "    \n",
    "    def __len__(self):\n",
    "        \"\"\"Return the count of existing nodes\"\"\"\n",
    "        return self.length\n",
    "    \n",
    "    \n",
    "    def __str__(self):\n",
    "        \"\"\"Return a string representation of the list\"\"\"\n",
    "        return \"SinglyLinkedList(\" + str([item for item in self]) + \")\" # calls self.__iter__()\n",
    "    \n",
    "    \n",
    "    def append(self, data):\n",
    "        \"\"\"Append a new node to the list\"\"\"\n",
    "        node = Node(data) # Encapsulate the data into a Node class: Default next is None\n",
    "        \n",
    "        # Check if there are already data in the list\n",
    "        if self.tail:\n",
    "            # There are already data in the list\n",
    "            self.head.next = node # For the current node\n",
    "            self.head = node # Now, self.head.next is None again\n",
    "            self.length += 1 # Increase the length\n",
    "        else:\n",
    "            # There are no data in the list\n",
    "            self.tail = node\n",
    "            self.head = node\n",
    "            self.length += 1 # Increase the length\n",
    "\n",
    "    \n",
    "    def delete(self, data): \n",
    "        \"\"\"Delete a node from the list\"\"\"\n",
    "        # Starting search from the tail (The beginning of the list)\n",
    "        current = self.tail \n",
    "        prev = self.tail \n",
    "\n",
    "        while current:\n",
    "            if current.data == data: # We found the data to delete\n",
    "                \n",
    "                if current == self.tail: # If the element to delete is the first element\n",
    "                    # Make the 2nd element to be the 1st element\n",
    "                    self.tail = current.next\n",
    "                \n",
    "                else: # The element to delete is somewhere in between other nodes\n",
    "                    # Make the next element to be the 'next' of the preceding element\n",
    "                    prev.next = current.next\n",
    "                \n",
    "                 # Decrease the length of the list\n",
    "                self.length -= 1\n",
    "                print('\"{}\" has been deleted'.format(data))\n",
    "                \n",
    "                # Exit loop and return\n",
    "                return\n",
    "            \n",
    "            prev = current\n",
    "            current = current.next\n",
    "            \n",
    "        # If here, then data was not found\n",
    "        print('\"{}\" was not found'.format(data))\n",
    "        return"
   ]
  },
  {
   "cell_type": "markdown",
   "metadata": {},
   "source": [
    "- **Again, because this `delete` method can potentially go through the whole list in order to delete one element, it has a complexity of $O(n)$**\n",
    "  - This could be improved with a better search algorithm instead of linear search"
   ]
  },
  {
   "cell_type": "code",
   "execution_count": null,
   "metadata": {},
   "outputs": [],
   "source": [
    "words = SinglyLinkedList()\n",
    "\n",
    "# Append Operations\n",
    "words.append('egg')\n",
    "words.append('ham')\n",
    "words.append('spam')\n",
    "print(words)\n",
    "\n",
    "# Deleting\n",
    "words.delete('john') # => Not found\n",
    "words.delete('ham') # => Deleted\n",
    "print(words)"
   ]
  },
  {
   "cell_type": "markdown",
   "metadata": {},
   "source": [
    "#### List Search"
   ]
  },
  {
   "cell_type": "markdown",
   "metadata": {},
   "source": [
    "- To check if a list contains an item or not\n",
    "- Easy to implement thanks to the existing `__iter__` method\n",
    "- **Again, this method has $O(n)$ as we are doing a linear search**\n",
    "  - We can improve on this later with some better search algorithms instead of linear search"
   ]
  },
  {
   "cell_type": "code",
   "execution_count": null,
   "metadata": {},
   "outputs": [],
   "source": [
    "class SinglyLinkedList:\n",
    "    \"\"\"A better implementation of a SinglyLinkedList\"\"\"\n",
    "    \n",
    "    def __init__(self):\n",
    "        \"\"\"Initialize a new SinglyLinkedList structure\"\"\"\n",
    "        self.tail = None # Ref to the very first node (oldest) in the list\n",
    "        self.head = None # Ref to the very last node (newest) in the list\n",
    "        self.length = 0  # Ref to the current length of the list\n",
    "    \n",
    "    \n",
    "    def __iter__(self):\n",
    "        \"\"\"Allows calls like: for x in singlyLinkedlist\"\"\"\n",
    "        current = self.tail\n",
    "        \n",
    "        while current:\n",
    "            value = current.data\n",
    "            current = current.next\n",
    "            yield value # Make ls.iterate() into a generator\n",
    "            \n",
    "    \n",
    "    def __len__(self):\n",
    "        \"\"\"Return the count of existing nodes\"\"\"\n",
    "        return self.length\n",
    "    \n",
    "    \n",
    "    def __str__(self):\n",
    "        \"\"\"Return a string representation of the list\"\"\"\n",
    "        return \"SinglyLinkedList(\" + str([item for item in self]) + \")\" # calls self.__iter__()\n",
    "    \n",
    "    \n",
    "    def append(self, data):\n",
    "        \"\"\"Append a new node to the list\"\"\"\n",
    "        node = Node(data) # Encapsulate the data into a Node class: Default next is None\n",
    "        \n",
    "        # Check if there are already data in the list\n",
    "        if self.tail:\n",
    "            # There are already data in the list\n",
    "            self.head.next = node # For the current node\n",
    "            self.head = node # Now, self.head.next is None again\n",
    "            self.length += 1 # Increase the length\n",
    "        else:\n",
    "            # There are no data in the list\n",
    "            self.tail = node\n",
    "            self.head = node\n",
    "            self.length += 1 # Increase the length\n",
    "\n",
    "    \n",
    "    def delete(self, data): \n",
    "        \"\"\"Delete a node from the list\"\"\"\n",
    "        # Starting search from the tail\n",
    "        current = self.tail \n",
    "        prev = self.tail \n",
    "\n",
    "        while current:\n",
    "            if current.data == data: # We found the data to delete\n",
    "                \n",
    "                if current == self.tail: # If the element to delete is the first element\n",
    "                    # Make the 2nd element to be the 1st element\n",
    "                    self.tail = current.next\n",
    "                \n",
    "                else: # The element to delete is somewhere in between othe nodes\n",
    "                    # Make the next element to be the 'next' of the preceding element\n",
    "                    prev.next = current.next\n",
    "                \n",
    "                 # Decrease the length of the list\n",
    "                self.length -= 1\n",
    "                print('\"{}\" has been deleted'.format(data))\n",
    "                \n",
    "                # Exit loop and return\n",
    "                return\n",
    "            \n",
    "            prev = current\n",
    "            current = current.next\n",
    "            \n",
    "        # If here, then data was not found\n",
    "        print('\"{}\" was not found'.format(data))\n",
    "        return\n",
    "\n",
    "\n",
    "    def contains(self, data):\n",
    "        \"\"\"Search if an item is contained in the list\"\"\"\n",
    "        for item in self.__iter__():\n",
    "            if data == item:\n",
    "                return True \n",
    "        \n",
    "        # If here, then it is not in the list\n",
    "        return False"
   ]
  },
  {
   "cell_type": "code",
   "execution_count": null,
   "metadata": {},
   "outputs": [],
   "source": [
    "words = SinglyLinkedList()\n",
    "\n",
    "# Append Operations\n",
    "words.append('egg')\n",
    "words.append('ham')\n",
    "words.append('spam')\n",
    "\n",
    "print(\"words:\", words)\n",
    "\n",
    "# Searching\n",
    "print('john in words?', words.contains('john'))\n",
    "print('ham in words?', words.contains('ham'))"
   ]
  },
  {
   "cell_type": "markdown",
   "metadata": {},
   "source": [
    "#### Clearing a List"
   ]
  },
  {
   "cell_type": "markdown",
   "metadata": {},
   "source": [
    "- This allows to clear a list quickly\n",
    "- We can clear a list by simply setting all pointers to `None` and the lenght to `0`"
   ]
  },
  {
   "cell_type": "code",
   "execution_count": null,
   "metadata": {},
   "outputs": [],
   "source": [
    "class SinglyLinkedList:\n",
    "    \"\"\"A better implementation of a SinglyLinkedList\"\"\"\n",
    "    \n",
    "    def __init__(self):\n",
    "        \"\"\"Initialize a new SinglyLinkedList structure\"\"\"\n",
    "        self.tail = None # Ref to the very first node (oldest) in the list\n",
    "        self.head = None # Ref to the very last node (newest) in the list\n",
    "        self.length = 0  # Ref to the current length of the list\n",
    "    \n",
    "    \n",
    "    def __iter__(self):\n",
    "        \"\"\"Allows calls like: for x in singlyLinkedlist\"\"\"\n",
    "        current = self.tail\n",
    "        \n",
    "        while current:\n",
    "            value = current.data\n",
    "            current = current.next\n",
    "            yield value # Make ls.iterate() into a generator\n",
    "            \n",
    "    \n",
    "    def __len__(self):\n",
    "        \"\"\"Return the count of existing nodes\"\"\"\n",
    "        return self.length\n",
    "    \n",
    "    \n",
    "    def __str__(self):\n",
    "        \"\"\"Return a string representation of the list\"\"\"\n",
    "        return \"SinglyLinkedList(\" + str([item for item in self]) + \")\" # calls self.__iter__()\n",
    "    \n",
    "    \n",
    "    def append(self, data):\n",
    "        \"\"\"Append a new node to the list\"\"\"\n",
    "        node = Node(data) # Encapsulate the data into a Node class: Default next is None\n",
    "        \n",
    "        # Check if there are already data in the list\n",
    "        if self.tail:\n",
    "            # There are already data in the list\n",
    "            self.head.next = node # For the current node\n",
    "            self.head = node # Now, self.head.next is None again\n",
    "            self.length += 1 # Increase the length\n",
    "        else:\n",
    "            # There are no data in the list\n",
    "            self.tail = node\n",
    "            self.head = node\n",
    "            self.length += 1 # Increase the length\n",
    "\n",
    "    \n",
    "    def delete(self, data): \n",
    "        \"\"\"Delete a node from the list\"\"\"\n",
    "        # Starting search from the tail\n",
    "        current = self.tail \n",
    "        prev = self.tail \n",
    "\n",
    "        while current:\n",
    "            if current.data == data: # We found the data to delete\n",
    "                \n",
    "                if current == self.tail: # If the element to delete is the first element\n",
    "                    # Make the 2nd element to be the 1st element\n",
    "                    self.tail = current.next\n",
    "                \n",
    "                else: # The element to delete is somewhere in between othe nodes\n",
    "                    # Make the next element to be the 'next' of the preceding element\n",
    "                    prev.next = current.next\n",
    "                \n",
    "                 # Decrease the length of the list\n",
    "                self.length -= 1\n",
    "                print('\"{}\" has been deleted'.format(data))\n",
    "                \n",
    "                # Exit loop and return\n",
    "                return\n",
    "            \n",
    "            prev = current\n",
    "            current = current.next\n",
    "            \n",
    "        # If here, then data was not found\n",
    "        print('\"{}\" was not found'.format(data))\n",
    "        return\n",
    "\n",
    "\n",
    "    def contains(self, data):\n",
    "        \"\"\"Search if an item is contained in the list\"\"\"\n",
    "        for item in self.__iter__():\n",
    "            if data == item:\n",
    "                return True \n",
    "        \n",
    "        # If here, then it is not in the list\n",
    "        return False\n",
    "\n",
    "    \n",
    "    def clear(self):\n",
    "        \"\"\"Reset/Clear the contents of a list\"\"\"\n",
    "        self.head = None\n",
    "        self.tail = None\n",
    "        self.length = 0"
   ]
  },
  {
   "cell_type": "code",
   "execution_count": null,
   "metadata": {},
   "outputs": [],
   "source": [
    "words = SinglyLinkedList()\n",
    "\n",
    "# Append Operations\n",
    "words.append('egg')\n",
    "words.append('ham')\n",
    "words.append('spam')\n",
    "print(\"words:\", words)\n",
    "\n",
    "# Clearing\n",
    "words.clear()\n",
    "print('list after clearing:', words)"
   ]
  },
  {
   "cell_type": "markdown",
   "metadata": {},
   "source": [
    "### Doubly Linked List"
   ]
  },
  {
   "cell_type": "markdown",
   "metadata": {},
   "source": [
    "- Uses the same fundamentals of node concepts\n",
    "- **However, instead of just one pointer, we have 2 pointers**\n",
    "  - A pointer to the next node\n",
    "  - A pointer to the previous node\n",
    "- The pointers are set to `None` when there is no node attached\n",
    "- A node in a singly-linked list can only determine the next node\n",
    "- A node in a doubly-linked list can reference and go back to the previous node\n",
    "- The flow direction in a doubly-linked list is two-way"
   ]
  },
  {
   "cell_type": "markdown",
   "metadata": {},
   "source": [
    "![doubly-linked-list-concept.png](../files/chap_04/doubly-linked-list-concept.png)"
   ]
  },
  {
   "cell_type": "markdown",
   "metadata": {},
   "source": [
    "```\n",
    "-----------------                            -----------------\n",
    "|  ----------   | Node (Container)           |  ----------   | Node (Container)\n",
    "|  | data:a |   |                            |  | data:b |   |\n",
    "|  ----------   |                            |  ----------   |\n",
    "|  ----------   |       link:pointer         |  ----------   |\n",
    "|  |  next  |------------------------------->|  |  next  |   |\n",
    "|  ----------   |                            |  ----------   |\n",
    "|  ----------   |       link:pointer         |  ----------   |\n",
    "|  |  prev  |   |<------------------------------|  prev  |   |\n",
    "|  ----------   |                            |  ----------   |\n",
    "-----------------                            -----------------\n",
    "```"
   ]
  },
  {
   "cell_type": "markdown",
   "metadata": {},
   "source": [
    "- Doubly-linked lists can be traversed in any direction\n",
    "- A node in a doubly linked list can be easily referred to its previous node whenever required without having a variable to keep track of that node\n",
    "  - In a singly-linked list, we would have to restart from the beginning to make changes to previous nodes"
   ]
  },
  {
   "cell_type": "markdown",
   "metadata": {},
   "source": [
    "#### Doubly Linked List Node"
   ]
  },
  {
   "cell_type": "markdown",
   "metadata": {},
   "source": [
    "- Initialization method\n",
    "- `prev` pointer\n",
    "- `next` pointer\n",
    "- `data` instance variable\n",
    "- When a node is created, all variables default to `None`\n",
    "\n",
    "![doubly-linked-node.png](../files/chap_04/doubly-linked-node.png)"
   ]
  },
  {
   "cell_type": "code",
   "execution_count": null,
   "metadata": {},
   "outputs": [],
   "source": [
    "class Node:\n",
    "    \"\"\"A simple Two-Direction Node implementation\"\"\"\n",
    "    \n",
    "    def __init__(self, data=None):\n",
    "        \"\"\"Initialize a Node object\"\"\"\n",
    "        self.data = data\n",
    "        self.next = None\n",
    "        self.previous = None\n",
    "        \n",
    "        \n",
    "    def __str__(self):\n",
    "        \"\"\"Return the string representation of the contained data\"\"\"\n",
    "        return str(self.data)"
   ]
  },
  {
   "cell_type": "markdown",
   "metadata": {},
   "source": [
    "#### Doubly Linked List Class"
   ]
  },
  {
   "cell_type": "code",
   "execution_count": null,
   "metadata": {},
   "outputs": [],
   "source": [
    "class DoublyLinkedList:\n",
    "    \"\"\"A simple implementation of a DoublyLinkedList\"\"\"\n",
    "    \n",
    "    def __init__(self): \n",
    "        \"\"\"Initialize a new SinglyLinkedList structure\"\"\"\n",
    "        self.tail = None # Ref to the very first node in the list\n",
    "        self.head = None # Ref to the very last node in the list\n",
    "        self.length = 0  # Ref to the current length of the list"
   ]
  },
  {
   "cell_type": "markdown",
   "metadata": {},
   "source": [
    "#### The `append` Operation"
   ]
  },
  {
   "cell_type": "markdown",
   "metadata": {},
   "source": [
    "- Append an element to the list\n",
    "- Need to check if the `tail` is `None` before adding a new element\n",
    "  - If `tail == None` then the list is empty\n",
    "  - Else, the list already has some elements\n",
    "- When a new element is added to an empty list, the element becomes both the `head` and the `tail`\n",
    "- The `append()` method has a time complexity of $O(1)$`"
   ]
  },
  {
   "cell_type": "code",
   "execution_count": null,
   "metadata": {},
   "outputs": [],
   "source": [
    "class DoublyLinkedList:\n",
    "    \"\"\"An implementation of a SinglyLinkedList\"\"\"\n",
    "    \n",
    "    def __init__(self): \n",
    "        \"\"\"Initialize a new SinglyLinkedList structure\"\"\"\n",
    "        self.tail = None # Ref to the very first node in the list\n",
    "        self.head = None # Ref to the very last node in the list\n",
    "        self.length = 0  # Ref to the current length of the list\n",
    "        \n",
    "    \n",
    "    def __iter__(self):\n",
    "        \"\"\"Allows calls like: for x in singlyLinkedlist\"\"\"\n",
    "        current = self.tail\n",
    "        \n",
    "        while current:\n",
    "            value = current.data\n",
    "            current = current.next\n",
    "            yield value # Make ls.iterate() into a generator\n",
    "            \n",
    "        \n",
    "    def __len__(self):\n",
    "        \"\"\"Return the count of existing nodes\"\"\"\n",
    "        return self.length\n",
    "    \n",
    "    \n",
    "    def __str__(self):\n",
    "        \"\"\"Return a string representation of the list\"\"\"\n",
    "        return \"DoubyLinkedList(\" + str([item for item in self]) + \")\" # calls self.__iter__()\n",
    "    \n",
    "    \n",
    "    def append(self, data):\n",
    "        \"\"\"Append a new node to the list\"\"\"\n",
    "        new_node = Node(data) # Encapsulate the data into a Node class: Default next is None\n",
    "        \n",
    "        # Check if there are already data in the list\n",
    "        if self.tail:\n",
    "            # List is not empty: Transfer the last head node's data\n",
    "            new_node.prev = self.head\n",
    "            self.head.next = new_node\n",
    "            # Make the new_node to be the head of the list\n",
    "            self.head = new_node\n",
    "            self.length += 1\n",
    "        else:\n",
    "            # The list is initially empty\n",
    "            self.head = new_node\n",
    "            self.tail = new_node\n",
    "            self.length += 1"
   ]
  },
  {
   "cell_type": "code",
   "execution_count": null,
   "metadata": {},
   "outputs": [],
   "source": [
    "words = DoublyLinkedList()\n",
    "\n",
    "# Append Operations\n",
    "words.append('egg')\n",
    "words.append('ham')\n",
    "words.append('spam')\n",
    "\n",
    "# Check\n",
    "print(words)"
   ]
  },
  {
   "cell_type": "markdown",
   "metadata": {},
   "source": [
    "#### List Traversal"
   ]
  },
  {
   "cell_type": "markdown",
   "metadata": {},
   "source": [
    "- Same as with Singly-Linked Lists"
   ]
  },
  {
   "cell_type": "code",
   "execution_count": null,
   "metadata": {},
   "outputs": [],
   "source": [
    "class DoublyLinkedList:\n",
    "    \"\"\"An implementation of a SinglyLinkedList\"\"\"\n",
    "    \n",
    "    def __init__(self): \n",
    "        \"\"\"Initialize a new SinglyLinkedList structure\"\"\"\n",
    "        self.tail = None # Ref to the very first node in the list\n",
    "        self.head = None # Ref to the very last node in the list\n",
    "        self.length = 0  # Ref to the current length of the list\n",
    "        \n",
    "    \n",
    "    def __iter__(self):\n",
    "        \"\"\"Allows calls like: for x in singlyLinkedlist\"\"\"\n",
    "        current = self.tail\n",
    "        \n",
    "        while current:\n",
    "            value = current.data\n",
    "            current = current.next\n",
    "            yield value # Make ls.iterate() into a generator\n",
    "            \n",
    "        \n",
    "    def __len__(self):\n",
    "        \"\"\"Return the count of existing nodes\"\"\"\n",
    "        return self.length\n",
    "    \n",
    "    \n",
    "    def __str__(self):\n",
    "        \"\"\"Return a string representation of the list\"\"\"\n",
    "        return \"DoubyLinkedList(\" + str([item for item in self]) + \")\" # calls self.__iter__()\n",
    "    \n",
    "    \n",
    "    def append(self, data):\n",
    "        \"\"\"Append a new node to the list\"\"\"\n",
    "        new_node = Node(data) # Encapsulate the data into a Node class: Default next is None\n",
    "        \n",
    "        # Check if there are already data in the list\n",
    "        if self.tail:\n",
    "            # List is not empty: Transfer the last head node's data\n",
    "            new_node.prev = self.head\n",
    "            self.head.next = new_node\n",
    "            # Make the new_node to be the head of the list\n",
    "            self.head = new_node\n",
    "            self.length += 1\n",
    "        else:\n",
    "            # The list is initially empty\n",
    "            self.head = new_node\n",
    "            self.tail = new_node\n",
    "            self.length += 1"
   ]
  },
  {
   "cell_type": "code",
   "execution_count": null,
   "metadata": {},
   "outputs": [],
   "source": [
    "words = DoublyLinkedList()\n",
    "\n",
    "# Append Operations\n",
    "words.append('egg')\n",
    "words.append('ham')\n",
    "words.append('spam')\n",
    "\n",
    "# Traversing\n",
    "for w in words:\n",
    "    print(w)"
   ]
  },
  {
   "cell_type": "markdown",
   "metadata": {},
   "source": [
    "#### Deleting Nodes"
   ]
  },
  {
   "cell_type": "markdown",
   "metadata": {},
   "source": [
    "- Easier in Doubly-linked lists than in Singly-linked lists\n",
    "- We do not need to keep track of previously encountered node because each node already keep the `prev`\n",
    "- We have 4 possible scenarios:\n",
    "  - The item to be deleted is not in the list\n",
    "  - The item to be deleted is at the tail of the list\n",
    "  - The item to be deleted is at the head of the list\n",
    "  - The item to be deleted is somewhere in the middle of the list\n",
    "- Again, we will be deleting by the data\n",
    "- The `delete()` method has a time complexity of $O(n)$ since, again, we are doing linear search to find the item to delete"
   ]
  },
  {
   "cell_type": "code",
   "execution_count": null,
   "metadata": {},
   "outputs": [],
   "source": [
    "class DoublyLinkedList:\n",
    "    \"\"\"An implementation of a SinglyLinkedList\"\"\"\n",
    "    \n",
    "    def __init__(self): \n",
    "        \"\"\"Initialize a new SinglyLinkedList structure\"\"\"\n",
    "        self.tail = None # Ref to the very first node in the list\n",
    "        self.head = None # Ref to the very last node in the list\n",
    "        self.length = 0  # Ref to the current length of the list\n",
    "        \n",
    "    \n",
    "    def __iter__(self):\n",
    "        \"\"\"Allows calls like: for x in singlyLinkedlist\"\"\"\n",
    "        current = self.tail\n",
    "        \n",
    "        while current:\n",
    "            value = current.data\n",
    "            current = current.next\n",
    "            yield value # Make ls.iterate() into a generator\n",
    "            \n",
    "        \n",
    "    def __len__(self):\n",
    "        \"\"\"Return the count of existing nodes\"\"\"\n",
    "        return self.length\n",
    "    \n",
    "    \n",
    "    def __str__(self):\n",
    "        \"\"\"Return a string representation of the list\"\"\"\n",
    "        return \"DoubyLinkedList(\" + str([item for item in self]) + \")\" # calls self.__iter__()\n",
    "    \n",
    "    \n",
    "    def append(self, data):\n",
    "        \"\"\"Append a new node to the list\"\"\"\n",
    "        new_node = Node(data) # Encapsulate the data into a Node class: Default next is None\n",
    "        \n",
    "        # Check if there are already data in the list\n",
    "        if self.tail:\n",
    "            # List is not empty: Transfer the last head node's data\n",
    "            new_node.prev = self.head\n",
    "            self.head.next = new_node\n",
    "            # Make the new_node to be the head of the list\n",
    "            self.head = new_node\n",
    "            self.length += 1\n",
    "        else:\n",
    "            # The list is initially empty\n",
    "            self.head = new_node\n",
    "            self.tail = new_node\n",
    "            self.length += 1\n",
    "            \n",
    "            \n",
    "    def delete(self, data):\n",
    "        \"\"\"Delete a node from the list\"\"\"\n",
    "        current = self.tail # Starting search from the tail (The beginning of the list)\n",
    "        node_deleted = False \n",
    "\n",
    "        if current is None: # Empty list: Item to be deleted is not found in the list\n",
    "            node_deleted = False\n",
    "            \n",
    "        elif current.data == data: # Item to be deleted is found at beginning (tail) of list\n",
    "            self.tail = current.next  \n",
    "            self.tail.prev = None \n",
    "            node_deleted = True \n",
    "            \n",
    "        elif self.head.data == data: # Item to be deleted is found at the end (head) of list\n",
    "            self.head = self.head.prev  \n",
    "            self.head.next = None \n",
    "            node_deleted = True\n",
    "            \n",
    "        else: # Search item to be deleted and delete that node\n",
    "            while current:\n",
    "                if current.data == data: \n",
    "                    current.prev.next = current.next # Set the previous node's next to the next node\n",
    "                    current.next.prev = current.prev # Set the next node's previous to the previous node\n",
    "                    node_deleted = True # Node has been deleted\n",
    "                    break # Break out of the loop as early as possible\n",
    "                current = current.next # Keep looping until hitting next == None (head)\n",
    "\n",
    "        # Finally, update the length\n",
    "        if node_deleted: \n",
    "            self.length -= 1\n",
    "            print('\"{}\" has been deleted'.format(data))\n",
    "            return\n",
    "\n",
    "        # If still here, then node_delete == False\n",
    "        print('\"{}\" was not found'.format(data))\n",
    "        return"
   ]
  },
  {
   "cell_type": "code",
   "execution_count": null,
   "metadata": {},
   "outputs": [],
   "source": [
    "words = DoublyLinkedList()\n",
    "\n",
    "# Append Operations\n",
    "words.append('egg')\n",
    "words.append('ham')\n",
    "words.append('spam')\n",
    "\n",
    "# Deleting\n",
    "words.delete('john')\n",
    "words.delete('ham')\n",
    "print(words)"
   ]
  },
  {
   "cell_type": "markdown",
   "metadata": {},
   "source": [
    "#### List Search"
   ]
  },
  {
   "cell_type": "markdown",
   "metadata": {},
   "source": [
    "- Similar to the method in a Singly-Linked List"
   ]
  },
  {
   "cell_type": "code",
   "execution_count": null,
   "metadata": {},
   "outputs": [],
   "source": [
    "class DoublyLinkedList:\n",
    "    \"\"\"An implementation of a SinglyLinkedList\"\"\"\n",
    "    \n",
    "    def __init__(self): \n",
    "        \"\"\"Initialize a new SinglyLinkedList structure\"\"\"\n",
    "        self.tail = None # Ref to the very first node in the list\n",
    "        self.head = None # Ref to the very last node in the list\n",
    "        self.length = 0  # Ref to the current length of the list\n",
    "        \n",
    "    \n",
    "    def __iter__(self):\n",
    "        \"\"\"Allows calls like: for x in singlyLinkedlist\"\"\"\n",
    "        current = self.tail\n",
    "        \n",
    "        while current:\n",
    "            value = current.data\n",
    "            current = current.next\n",
    "            yield value # Make ls.iterate() into a generator\n",
    "            \n",
    "        \n",
    "    def __len__(self):\n",
    "        \"\"\"Return the count of existing nodes\"\"\"\n",
    "        return self.length\n",
    "    \n",
    "    \n",
    "    def __str__(self):\n",
    "        \"\"\"Return a string representation of the list\"\"\"\n",
    "        return \"DoubyLinkedList(\" + str([item for item in self]) + \")\" # calls self.__iter__()\n",
    "    \n",
    "    \n",
    "    def append(self, data):\n",
    "        \"\"\"Append a new node to the list\"\"\"\n",
    "        new_node = Node(data) # Encapsulate the data into a Node class: Default next is None\n",
    "        \n",
    "        # Check if there are already data in the list\n",
    "        if self.tail:\n",
    "            # List is not empty: Transfer the last head node's data\n",
    "            new_node.prev = self.head\n",
    "            self.head.next = new_node\n",
    "            # Make the new_node to be the head of the list\n",
    "            self.head = new_node\n",
    "            self.length += 1\n",
    "        else:\n",
    "            # The list is initially empty\n",
    "            self.head = new_node\n",
    "            self.tail = new_node\n",
    "            self.length += 1\n",
    "            \n",
    "            \n",
    "    def delete(self, data):\n",
    "        \"\"\"Delete a node from the list\"\"\"\n",
    "        current = self.tail # Starting search from the tail (The beginning of the list)\n",
    "        node_deleted = False \n",
    "\n",
    "        if current is None: # Empty list: Item to be deleted is not found in the list\n",
    "            node_deleted = False\n",
    "            \n",
    "        elif current.data == data: # Item to be deleted is found at beginning (tail) of list\n",
    "            self.tail = current.next  \n",
    "            self.tail.prev = None \n",
    "            node_deleted = True \n",
    "            \n",
    "        elif self.head.data == data: # Item to be deleted is found at the end (head) of list\n",
    "            self.head = self.head.prev  \n",
    "            self.head.next = None \n",
    "            node_deleted = True\n",
    "            \n",
    "        else: # Search item to be deleted and delete that node\n",
    "            while current:\n",
    "                if current.data == data: \n",
    "                    current.prev.next = current.next # Set the previous node's next to the next node\n",
    "                    current.next.prev = current.prev # Set the next node's previous to the previous node\n",
    "                    node_deleted = True # Node has been deleted\n",
    "                    break # Break out of the loop as early as possible\n",
    "                current = current.next # Keep looping until hitting next == None (head)\n",
    "\n",
    "        # Finally, update the length\n",
    "        if node_deleted: \n",
    "            self.length -= 1\n",
    "            print('\"{}\" has been deleted'.format(data))\n",
    "            return\n",
    "\n",
    "        # If still here, then node_delete == False\n",
    "        print('\"{}\" was not found'.format(data))\n",
    "        return\n",
    "    \n",
    "    \n",
    "    def contains(self, data):\n",
    "        \"\"\"Search if an item is contained in the list\"\"\"\n",
    "        for node in self.__iter__():\n",
    "            if data == node:\n",
    "                return True \n",
    "            \n",
    "        # If here, then it is not in the list\n",
    "        return False"
   ]
  },
  {
   "cell_type": "code",
   "execution_count": null,
   "metadata": {},
   "outputs": [],
   "source": [
    "words = DoublyLinkedList()\n",
    "\n",
    "# Append Operations\n",
    "words.append('egg')\n",
    "words.append('ham')\n",
    "words.append('spam')\n",
    "\n",
    "# Searching\n",
    "print('john in words?', words.contains('john'))\n",
    "print('ham in words?', words.contains('ham'))"
   ]
  },
  {
   "cell_type": "markdown",
   "metadata": {},
   "source": [
    "#### Clearing a List"
   ]
  },
  {
   "cell_type": "markdown",
   "metadata": {},
   "source": [
    "- Also similar to the one in `SinglyLinkedList`"
   ]
  },
  {
   "cell_type": "code",
   "execution_count": null,
   "metadata": {},
   "outputs": [],
   "source": [
    "class DoublyLinkedList:\n",
    "    \"\"\"An implementation of a SinglyLinkedList\"\"\"\n",
    "    \n",
    "    def __init__(self): \n",
    "        \"\"\"Initialize a new SinglyLinkedList structure\"\"\"\n",
    "        self.tail = None # Ref to the very first node in the list\n",
    "        self.head = None # Ref to the very last node in the list\n",
    "        self.length = 0  # Ref to the current length of the list\n",
    "        \n",
    "    \n",
    "    def __iter__(self):\n",
    "        \"\"\"Allows calls like: for x in singlyLinkedlist\"\"\"\n",
    "        current = self.tail\n",
    "        \n",
    "        while current:\n",
    "            value = current.data\n",
    "            current = current.next\n",
    "            yield value # Make ls.iterate() into a generator\n",
    "            \n",
    "        \n",
    "    def __len__(self):\n",
    "        \"\"\"Return the count of existing nodes\"\"\"\n",
    "        return self.length\n",
    "    \n",
    "    \n",
    "    def __str__(self):\n",
    "        \"\"\"Return a string representation of the list\"\"\"\n",
    "        return \"DoubyLinkedList(\" + str([item for item in self]) + \")\" # calls self.__iter__()\n",
    "    \n",
    "    \n",
    "    def append(self, data):\n",
    "        \"\"\"Append a new node to the list\"\"\"\n",
    "        new_node = Node(data) # Encapsulate the data into a Node class: Default next is None\n",
    "        \n",
    "        # Check if there are already data in the list\n",
    "        if self.tail:\n",
    "            # List is not empty: Transfer the last head node's data\n",
    "            new_node.prev = self.head\n",
    "            self.head.next = new_node\n",
    "            # Make the new_node to be the head of the list\n",
    "            self.head = new_node\n",
    "            self.length += 1\n",
    "        else:\n",
    "            # The list is initially empty\n",
    "            self.head = new_node\n",
    "            self.tail = new_node\n",
    "            self.length += 1\n",
    "            \n",
    "            \n",
    "    def delete(self, data):\n",
    "        \"\"\"Delete a node from the list\"\"\"\n",
    "        current = self.tail # Starting search from the tail (The beginning of the list)\n",
    "        node_deleted = False \n",
    "\n",
    "        if current is None: # Empty list: Item to be deleted is not found in the list\n",
    "            node_deleted = False\n",
    "            \n",
    "        elif current.data == data: # Item to be deleted is found at beginning (tail) of list\n",
    "            self.tail = current.next  \n",
    "            self.tail.prev = None \n",
    "            node_deleted = True \n",
    "            \n",
    "        elif self.head.data == data: # Item to be deleted is found at the end (head) of list\n",
    "            self.head = self.head.prev  \n",
    "            self.head.next = None \n",
    "            node_deleted = True\n",
    "            \n",
    "        else: # Search item to be deleted and delete that node\n",
    "            while current:\n",
    "                if current.data == data: \n",
    "                    current.prev.next = current.next # Set the previous node's next to the next node\n",
    "                    current.next.prev = current.prev # Set the next node's previous to the previous node\n",
    "                    node_deleted = True # Node has been deleted\n",
    "                    break # Break out of the loop as early as possible\n",
    "                current = current.next # Keep looping until hitting next == None (head)\n",
    "\n",
    "        # Finally, update the length\n",
    "        if node_deleted: \n",
    "            self.length -= 1\n",
    "            print('\"{}\" has been deleted'.format(data))\n",
    "            return\n",
    "\n",
    "        # If still here, then node_delete == False\n",
    "        print('\"{}\" was not found'.format(data))\n",
    "        return\n",
    "    \n",
    "    \n",
    "    def contains(self, data):\n",
    "        \"\"\"Search if an item is contained in the list\"\"\"\n",
    "        for node in self.__iter__():\n",
    "            if data == node:\n",
    "                return True \n",
    "            \n",
    "        # If here, then it is not in the list\n",
    "        return False\n",
    "    \n",
    "    \n",
    "    def clear(self):\n",
    "        \"\"\"Reset/Clear the contents of a list\"\"\"\n",
    "        self.head = None\n",
    "        self.tail = None\n",
    "        self.length = 0"
   ]
  },
  {
   "cell_type": "markdown",
   "metadata": {},
   "source": [
    "### Circular List"
   ]
  },
  {
   "cell_type": "markdown",
   "metadata": {},
   "source": [
    "- The endpoints are connected to each other\n",
    "- The tail node's `next` points to the head node\n",
    "- There is no end node, so no node will point to `None`\n",
    "- Can be based on Singly or Doubly Linked List\n",
    "  - If doubly-linked-list-based, the tail will point to the head and the head to the tail"
   ]
  },
  {
   "cell_type": "markdown",
   "metadata": {},
   "source": [
    "**Using Singly-Linked List as Base**\n",
    "```\n",
    "-----------------               -----------------               -----------------\n",
    "|  ----------   | Node          |  ----------   | Node          |  ----------   | Node\n",
    "|  | data:a |   |               |  | data:b |   |               |  | data:c |   |\n",
    "|  ----------   |               |  ----------   |               |  ----------   |\n",
    "|  ----------   | link:pointer  |  ----------   | link:pointer  |  ----------   |\n",
    "|  |  next  |------------------>|  |  next  |------------------>|  |  next  |--------|\n",
    "|  ----------   |               |  ----------   |               |  ----------   |    |\n",
    "-----------------               -----------------               -----------------    |\n",
    "       ^                                                                             |\n",
    "       |                             link:pointer                                    |\n",
    "       |-----------------------------------------------------------------------------|\n",
    "```"
   ]
  },
  {
   "cell_type": "markdown",
   "metadata": {},
   "source": [
    "**Using Doubly-Linked List as Base**\n",
    "```\n",
    " |--------------------------------------------------------------------------|\n",
    " |                            link:pointer                                  |\n",
    " |                                                                          V\n",
    " |  -----------------               -----------------               -----------------\n",
    " |  |  ----------   | Node          |  ----------   | Node          |  ----------   | Node\n",
    " |  |  | data:a |   |               |  | data:b |   |               |  | data:c |   |\n",
    " |  |  ----------   |               |  ----------   |               |  ----------   |\n",
    " |  |  ----------   |  link:pointer |  ----------   |  link:pointer |  ----------   |\n",
    " |  |  |  next  |------------------>|  |  next  |------------------>|  |  next  |------------|\n",
    " |  |  ----------   |               |  ----------   |               |  ----------   |        |\n",
    " |  |  ----------   |  link:pointer |  ----------   |  link:pointer |  ----------   |        |\n",
    " |-----|  prev  |   |<-----------------|  prev  |   |<-----------------|  prev  |   |        |\n",
    "    |  ----------   |               |  ----------   |               |  ----------   |        |\n",
    "    -----------------               -----------------               -----------------        |\n",
    "           ^                                                                                 |\n",
    "           |                                 link:pointer                                    |\n",
    "           |---------------------------------------------------------------------------------|\n",
    "```"
   ]
  },
  {
   "cell_type": "markdown",
   "metadata": {},
   "source": [
    "#### Implementation"
   ]
  },
  {
   "cell_type": "markdown",
   "metadata": {},
   "source": [
    "- Here, we will implement using the Singly-Linked List\n",
    "- It will be very similar to the Singly-Linked List so will just focus on the differences"
   ]
  },
  {
   "cell_type": "markdown",
   "metadata": {},
   "source": [
    "#### The `append` Operation"
   ]
  },
  {
   "cell_type": "markdown",
   "metadata": {},
   "source": [
    "- We just have to set the tail node's `next` to point to the head node"
   ]
  },
  {
   "cell_type": "code",
   "execution_count": null,
   "metadata": {},
   "outputs": [],
   "source": [
    "def append(self, data):\n",
    "    \"\"\"Append a new node to the list\"\"\"\n",
    "    node = Node(data) # Encapsulate the data in a Node \n",
    "\n",
    "    if self.tail:\n",
    "        # There are already data in the list\n",
    "        self.tail.next = node # For the current node\n",
    "        self.tail = node\n",
    "    else:\n",
    "        # There are no data in the list\n",
    "        self.head = node\n",
    "        self.tail = node\n",
    "    \n",
    "    self.tail.next = self.head # Make it circular\n",
    "    self.length += 1 # Increase the length"
   ]
  },
  {
   "cell_type": "markdown",
   "metadata": {},
   "source": [
    "#### Deleting Nodes"
   ]
  },
  {
   "cell_type": "markdown",
   "metadata": {},
   "source": [
    "- Same as in the Singly-Linked, but just make sure the `tail`'s `next` points to the `head`\n",
    "- However, it is possible that we could end in an infinite loop with this code if `current` never become `None`\n",
    "- If we delete a non-existing element, it will become an infinite loop\n",
    "- So we use a different way to control the while loop: Using `prev`\n",
    "  - `prev` follows `current` but lags behind `current` by one node\n",
    "  - When `prev` gets back to `self.head`, we have done the full circle and we can break the loop\n",
    "  - Except at the very first iteration: `prev == current` we need to make sure it runs"
   ]
  },
  {
   "cell_type": "code",
   "execution_count": null,
   "metadata": {},
   "outputs": [],
   "source": [
    "def delete(self, data): \n",
    "    current = self.head \n",
    "    prev = self.head \n",
    "\n",
    "    # Single-Linked List: `while current:` could reach `None` but not here\n",
    "    while prev == current or prev != self.head:\n",
    "        if current.data == data:\n",
    "            if current == self.head: # The element to delete is the first element\n",
    "                self.head = current.next # Make the 2nd element to be the 1st element\n",
    "                self.tail.next = self.head # Make circular\n",
    "            else:\n",
    "                prev.next = current.next # Make the next element to be the next of the preceding element\n",
    "            self.length -= 1 # Decrease the length\n",
    "            print('\"{}\" has been deleted'.format(data))\n",
    "            return\n",
    "        prev = current\n",
    "        current = current.next\n",
    "\n",
    "    # If here, then data was not found\n",
    "    print('\"{}\" was not found'.format(data))\n",
    "    return"
   ]
  },
  {
   "cell_type": "markdown",
   "metadata": {},
   "source": [
    "#### List Traversal"
   ]
  },
  {
   "cell_type": "markdown",
   "metadata": {},
   "source": [
    "- We don't need to look for a starting point\n",
    "- Start anywhere, but make sure to break when reaching the start point again\n",
    "- We can use the same `iter` method, but just need an exit condition to add to avoid infinite loop\n",
    "- We can exit when we have reached the length of the list\n",
    "- Remember that the `length` keeps track of the count of elements in the list"
   ]
  },
  {
   "cell_type": "code",
   "execution_count": null,
   "metadata": {},
   "outputs": [],
   "source": [
    "def __iter__(self):\n",
    "    current = self.head\n",
    "    i = 0\n",
    "    while i < self.length:\n",
    "        value = current.data\n",
    "        current = current.next\n",
    "        i += 1\n",
    "        yield value # Make ls.iterate() into a generator"
   ]
  },
  {
   "cell_type": "markdown",
   "metadata": {},
   "source": [
    "#### Final Class"
   ]
  },
  {
   "cell_type": "code",
   "execution_count": null,
   "metadata": {},
   "outputs": [],
   "source": [
    "# A simple Node implementation\n",
    "class Node:\n",
    "    def __init__(self, data=None):\n",
    "        self.data = data\n",
    "        self.next = None\n",
    "    \n",
    "    def __str__(self):\n",
    "        return str(self.data)"
   ]
  },
  {
   "cell_type": "code",
   "execution_count": null,
   "metadata": {},
   "outputs": [],
   "source": [
    "class CircularLinkedList:\n",
    "    def __init__(self):\n",
    "        self.tail = None  # Ref to the very first node in the list\n",
    "        self.head = None  # Ref to the very last node in the list\n",
    "        self.length = 0  # Ref to the current length of the list\n",
    "    \n",
    "    def __str__(self):\n",
    "        return \"CircularLinkedList(\" + str(self.length) + \")\"\n",
    "    \n",
    "    def __len__(self):\n",
    "        return self.length\n",
    "    \n",
    "    def __iter__(self):\n",
    "        current = self.head\n",
    "        i = 0\n",
    "        while i < self.length:\n",
    "            value = current.data\n",
    "            current = current.next\n",
    "            i += 1\n",
    "            yield value # Make ls.iterate() into a generator\n",
    "    \n",
    "    def append(self, data):\n",
    "        # Encapsulate the data in a Node \n",
    "        node = Node(data)\n",
    "        print(node)\n",
    "        \n",
    "        if self.tail:\n",
    "            # There are already data in the list\n",
    "            self.tail.next = node # For the current node\n",
    "            self.tail = node\n",
    "        else:\n",
    "            # There are no data in the list\n",
    "            self.head = node\n",
    "            self.tail = node\n",
    "\n",
    "        self.tail.next = self.head # Make it circular\n",
    "        self.length += 1 # Increase the length\n",
    "    \n",
    "    def contains(self, data):\n",
    "        for node in self.__iter__():\n",
    "            if data == node:\n",
    "                return True \n",
    "        return False\n",
    "    \n",
    "    def delete(self, data): \n",
    "        current = self.head \n",
    "        prev = self.head\n",
    "        i = 0\n",
    "        \n",
    "        # Single-Linked List: `while current:` could reach `None` but not here\n",
    "        while i < self.length:\n",
    "            if current.data == data:\n",
    "                if current == self.head: # The element to delete is the first element\n",
    "                    self.head = current.next # Make the 2nd element to be the 1st element\n",
    "                    self.tail.next = self.head # Make circular\n",
    "                else:\n",
    "                    prev.next = current.next # Make the next element to be the next of the preceding element\n",
    "                self.length -= 1 # Decrease the length\n",
    "                print('\"{}\" has been deleted'.format(data))\n",
    "                return\n",
    "            else:\n",
    "                prev = current\n",
    "                current = current.next\n",
    "                i += 1\n",
    "\n",
    "        # If here, then data was not found\n",
    "        print('\"{}\" was not found'.format(data))\n",
    "        return\n",
    "    \n",
    "    def clear(self):\n",
    "        self.tail = None\n",
    "        self.head = None\n",
    "        self.length = 0"
   ]
  },
  {
   "cell_type": "markdown",
   "metadata": {},
   "source": [
    "- Testing as a rotating slide on a website"
   ]
  },
  {
   "cell_type": "code",
   "execution_count": null,
   "metadata": {},
   "outputs": [],
   "source": [
    "rotating_slides = CircularLinkedList()\n",
    "print(rotating_slides)"
   ]
  },
  {
   "cell_type": "code",
   "execution_count": null,
   "metadata": {},
   "outputs": [],
   "source": [
    "print(\"Count of slides:\", len(rotating_slides))"
   ]
  },
  {
   "cell_type": "code",
   "execution_count": null,
   "metadata": {},
   "outputs": [],
   "source": [
    "rotating_slides.append(\"Slide 1\")\n",
    "rotating_slides.append(\"Slide 2\")\n",
    "rotating_slides.append(\"Slide 3\")\n",
    "rotating_slides.append(\"Slide 4\")\n",
    "rotating_slides.append(\"Slide 5\")"
   ]
  },
  {
   "cell_type": "code",
   "execution_count": null,
   "metadata": {},
   "outputs": [],
   "source": [
    "for slide in rotating_slides:\n",
    "    print(slide)"
   ]
  },
  {
   "cell_type": "code",
   "execution_count": null,
   "metadata": {},
   "outputs": [],
   "source": [
    "print(rotating_slides.contains('Slide 100'))\n",
    "print(rotating_slides.contains('Slide 3'))"
   ]
  },
  {
   "cell_type": "code",
   "execution_count": null,
   "metadata": {},
   "outputs": [],
   "source": [
    "rotating_slides.delete('Slide 3')\n",
    "print(rotating_slides)"
   ]
  },
  {
   "cell_type": "code",
   "execution_count": null,
   "metadata": {},
   "outputs": [],
   "source": [
    "rotating_slides.delete('Slide 3')\n",
    "print(rotating_slides)"
   ]
  },
  {
   "cell_type": "code",
   "execution_count": null,
   "metadata": {},
   "outputs": [],
   "source": [
    "rotating_slides.clear()\n",
    "print(rotating_slides)"
   ]
  }
 ],
 "metadata": {
  "kernelspec": {
   "display_name": "Python 3",
   "language": "python",
   "name": "python3"
  },
  "language_info": {
   "codemirror_mode": {
    "name": "ipython",
    "version": 3
   },
   "file_extension": ".py",
   "mimetype": "text/x-python",
   "name": "python",
   "nbconvert_exporter": "python",
   "pygments_lexer": "ipython3",
   "version": "3.8.3"
  },
  "toc": {
   "base_numbering": 1,
   "nav_menu": {},
   "number_sections": true,
   "sideBar": true,
   "skip_h1_title": true,
   "title_cell": "Table of Contents",
   "title_sidebar": "Contents",
   "toc_cell": true,
   "toc_position": {
    "height": "398px",
    "left": "474px",
    "top": "110px",
    "width": "256px"
   },
   "toc_section_display": true,
   "toc_window_display": true
  }
 },
 "nbformat": 4,
 "nbformat_minor": 4
}
