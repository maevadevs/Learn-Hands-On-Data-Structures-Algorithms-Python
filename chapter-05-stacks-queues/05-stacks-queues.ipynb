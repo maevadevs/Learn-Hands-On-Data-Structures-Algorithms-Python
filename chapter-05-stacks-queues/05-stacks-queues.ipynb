{
 "cells": [
  {
   "cell_type": "markdown",
   "metadata": {
    "toc": true
   },
   "source": [
    "<h1>Table of Contents<span class=\"tocSkip\"></span></h1>\n",
    "<div class=\"toc\"><ul class=\"toc-item\"><li><span><a href=\"#Chapter-Goals\" data-toc-modified-id=\"Chapter-Goals-1\"><span class=\"toc-item-num\">1&nbsp;&nbsp;</span>Chapter Goals</a></span></li><li><span><a href=\"#Stacks\" data-toc-modified-id=\"Stacks-2\"><span class=\"toc-item-num\">2&nbsp;&nbsp;</span>Stacks</a></span><ul class=\"toc-item\"><li><span><a href=\"#Operations-on-Stacks\" data-toc-modified-id=\"Operations-on-Stacks-2.1\"><span class=\"toc-item-num\">2.1&nbsp;&nbsp;</span>Operations on Stacks</a></span></li><li><span><a href=\"#Usage-of-Stacks-Example\" data-toc-modified-id=\"Usage-of-Stacks-Example-2.2\"><span class=\"toc-item-num\">2.2&nbsp;&nbsp;</span>Usage of Stacks Example</a></span><ul class=\"toc-item\"><li><span><a href=\"#Interpretation\" data-toc-modified-id=\"Interpretation-2.2.1\"><span class=\"toc-item-num\">2.2.1&nbsp;&nbsp;</span>Interpretation</a></span></li></ul></li><li><span><a href=\"#Stack-Implementation\" data-toc-modified-id=\"Stack-Implementation-2.3\"><span class=\"toc-item-num\">2.3&nbsp;&nbsp;</span>Stack Implementation</a></span></li></ul></li></ul></div>"
   ]
  },
  {
   "cell_type": "markdown",
   "metadata": {},
   "source": [
    "# Stacks and Queues"
   ]
  },
  {
   "cell_type": "markdown",
   "metadata": {},
   "source": [
    "- Stacks and Queues are special list implementations\n",
    "- Still linear structures\n",
    "- Implementations using different methods such as list and node"
   ]
  },
  {
   "cell_type": "markdown",
   "metadata": {},
   "source": [
    "## Chapter Goals"
   ]
  },
  {
   "cell_type": "markdown",
   "metadata": {},
   "source": [
    "- Implement Stacks and Queues using various methods\n",
    "- Some real-life examples of application of stacks and queues"
   ]
  },
  {
   "cell_type": "markdown",
   "metadata": {},
   "source": [
    "## Stacks"
   ]
  },
  {
   "cell_type": "markdown",
   "metadata": {},
   "source": [
    "- Data structure that stores data similar to a stack of plates\n",
    "- To get the next plate, you get it from the top (the last one)\n",
    "- To add a new plate, you put it on the top (the new one)\n",
    "- Stack is a *Last-In, First-Out (LIFO)* structure\n",
    "- Stack is used for function calls: *Callstack*\n",
    "  - Recursion is only possible thanks the the Callstack"
   ]
  },
  {
   "cell_type": "markdown",
   "metadata": {},
   "source": [
    "### Operations on Stacks"
   ]
  },
  {
   "cell_type": "markdown",
   "metadata": {},
   "source": [
    "- `push` - Add a new element unto the stack\n",
    "- `pop` - Remove an element from the stack\n",
    "- `peek` - See the element on top of the stack without popping it"
   ]
  },
  {
   "cell_type": "markdown",
   "metadata": {},
   "source": [
    "### Usage of Stacks Example"
   ]
  },
  {
   "cell_type": "markdown",
   "metadata": {},
   "source": [
    "- Callstack: Stacks are used for function calls\n",
    "- Stack is also used to pass argument values between functions"
   ]
  },
  {
   "cell_type": "code",
   "execution_count": 3,
   "metadata": {},
   "outputs": [
    {
     "name": "stdout",
     "output_type": "stream",
     "text": [
      "this is func b\n",
      "done\n"
     ]
    }
   ],
   "source": [
    "def b():\n",
    "    print('this is func b') \n",
    "    return 100\n",
    "\n",
    "def a(): \n",
    "    b()\n",
    "    return True\n",
    "\n",
    "a() # Callstack starts here after executing main()\n",
    "print(\"done\")"
   ]
  },
  {
   "cell_type": "markdown",
   "metadata": {},
   "source": [
    "#### Interpretation"
   ]
  },
  {
   "cell_type": "markdown",
   "metadata": {},
   "source": [
    "```python\n",
    "Callstack starts:                             # Clst = []\n",
    "    Execute main()                            # Clst = [main()]\n",
    "        Execute a()                           # Clst = [main(),a()]\n",
    "        Jump to a definition:\n",
    "            Execute b()                       # Clst = [main(),a(),b()]\n",
    "            Jump to b definition:\n",
    "                Executes print()              # Clst = [main(),a(),b(),print()]\n",
    "                Jump to print definition:\n",
    "                    print() returns           # Clst = [main(),a(),b(),None]\n",
    "                print() completes and popped  # Clst = [main(),a(),b()]\n",
    "                b() returns                   # Clst = [main(),a(),100]\n",
    "            b() completes and popped          # Clst = [main(),a()]\n",
    "            a() returns                       # Clst = [main(),True]\n",
    "        a() completes and popped              # Clst = [main()]\n",
    "        Executes print()                      # Clst = [main(),print()]\n",
    "        Jump to print definition:\n",
    "            print() returns                   # Clst = [main(),None]\n",
    "        print() completes and popped          # Clst = [main()]\n",
    "        main() returns                        # Clst = [None]\n",
    "    main() completes and popped off           # Clst = []\n",
    "Callstack ends\n",
    "```"
   ]
  },
  {
   "cell_type": "markdown",
   "metadata": {},
   "source": [
    "### Stack Implementation"
   ]
  },
  {
   "cell_type": "code",
   "execution_count": null,
   "metadata": {},
   "outputs": [],
   "source": []
  }
 ],
 "metadata": {
  "kernelspec": {
   "display_name": "Python 3",
   "language": "python",
   "name": "python3"
  },
  "language_info": {
   "codemirror_mode": {
    "name": "ipython",
    "version": 3
   },
   "file_extension": ".py",
   "mimetype": "text/x-python",
   "name": "python",
   "nbconvert_exporter": "python",
   "pygments_lexer": "ipython3",
   "version": "3.7.6"
  },
  "toc": {
   "base_numbering": 1,
   "nav_menu": {},
   "number_sections": true,
   "sideBar": true,
   "skip_h1_title": true,
   "title_cell": "Table of Contents",
   "title_sidebar": "Contents",
   "toc_cell": true,
   "toc_position": {},
   "toc_section_display": true,
   "toc_window_display": true
  }
 },
 "nbformat": 4,
 "nbformat_minor": 4
}
