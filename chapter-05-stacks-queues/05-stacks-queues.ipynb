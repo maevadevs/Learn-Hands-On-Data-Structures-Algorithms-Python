{
 "cells": [
  {
   "cell_type": "markdown",
   "metadata": {
    "toc": true
   },
   "source": [
    "<h1>Table of Contents<span class=\"tocSkip\"></span></h1>\n",
    "<div class=\"toc\"><ul class=\"toc-item\"><li><span><a href=\"#Chapter-Goals\" data-toc-modified-id=\"Chapter-Goals-1\"><span class=\"toc-item-num\">1&nbsp;&nbsp;</span>Chapter Goals</a></span></li><li><span><a href=\"#Stacks\" data-toc-modified-id=\"Stacks-2\"><span class=\"toc-item-num\">2&nbsp;&nbsp;</span>Stacks</a></span><ul class=\"toc-item\"><li><span><a href=\"#Operations-on-Stacks\" data-toc-modified-id=\"Operations-on-Stacks-2.1\"><span class=\"toc-item-num\">2.1&nbsp;&nbsp;</span>Operations on Stacks</a></span></li><li><span><a href=\"#Usage-of-Stacks-Example\" data-toc-modified-id=\"Usage-of-Stacks-Example-2.2\"><span class=\"toc-item-num\">2.2&nbsp;&nbsp;</span>Usage of Stacks Example</a></span><ul class=\"toc-item\"><li><span><a href=\"#Interpretation\" data-toc-modified-id=\"Interpretation-2.2.1\"><span class=\"toc-item-num\">2.2.1&nbsp;&nbsp;</span>Interpretation</a></span></li></ul></li><li><span><a href=\"#Stack-Implementation\" data-toc-modified-id=\"Stack-Implementation-2.3\"><span class=\"toc-item-num\">2.3&nbsp;&nbsp;</span>Stack Implementation</a></span><ul class=\"toc-item\"><li><span><a href=\"#push-Operation\" data-toc-modified-id=\"push-Operation-2.3.1\"><span class=\"toc-item-num\">2.3.1&nbsp;&nbsp;</span><code>push</code> Operation</a></span></li><li><span><a href=\"#pop-Operation\" data-toc-modified-id=\"pop-Operation-2.3.2\"><span class=\"toc-item-num\">2.3.2&nbsp;&nbsp;</span><code>pop</code> Operation</a></span></li><li><span><a href=\"#peek-Operation\" data-toc-modified-id=\"peek-Operation-2.3.3\"><span class=\"toc-item-num\">2.3.3&nbsp;&nbsp;</span><code>peek</code> Operation</a></span></li></ul></li><li><span><a href=\"#Stack-Usage-Example:-Bracket-Matching\" data-toc-modified-id=\"Stack-Usage-Example:-Bracket-Matching-2.4\"><span class=\"toc-item-num\">2.4&nbsp;&nbsp;</span>Stack Usage Example: Bracket-Matching</a></span></li><li><span><a href=\"#Other-Examples-of-Real-Usage-of-Stacks\" data-toc-modified-id=\"Other-Examples-of-Real-Usage-of-Stacks-2.5\"><span class=\"toc-item-num\">2.5&nbsp;&nbsp;</span>Other Examples of Real-Usage of Stacks</a></span></li></ul></li><li><span><a href=\"#Queues\" data-toc-modified-id=\"Queues-3\"><span class=\"toc-item-num\">3&nbsp;&nbsp;</span>Queues</a></span></li></ul></div>"
   ]
  },
  {
   "cell_type": "markdown",
   "metadata": {},
   "source": [
    "# Stacks and Queues"
   ]
  },
  {
   "cell_type": "markdown",
   "metadata": {},
   "source": [
    "- Stacks and Queues are special list implementations\n",
    "- Still linear structures\n",
    "- Implementations using different methods such as list and node"
   ]
  },
  {
   "cell_type": "markdown",
   "metadata": {},
   "source": [
    "## Chapter Goals"
   ]
  },
  {
   "cell_type": "markdown",
   "metadata": {},
   "source": [
    "- Implement Stacks and Queues using various methods\n",
    "- Some real-life examples of application of stacks and queues"
   ]
  },
  {
   "cell_type": "markdown",
   "metadata": {},
   "source": [
    "## Stacks"
   ]
  },
  {
   "cell_type": "markdown",
   "metadata": {},
   "source": [
    "- Data structure that stores data similar to a stack of plates\n",
    "- To get the next plate, you get it from the top (the last one)\n",
    "- To add a new plate, you put it on the top (the new one)\n",
    "- Stack is a *Last-In, First-Out (LIFO)* structure\n",
    "- Stack is used for function calls: *Callstack*\n",
    "  - Recursion is only possible thanks the Callstack\n",
    "  - Recursion is a special case of Callstack where we call the same function over and over"
   ]
  },
  {
   "cell_type": "markdown",
   "metadata": {},
   "source": [
    "### Operations on Stacks"
   ]
  },
  {
   "cell_type": "markdown",
   "metadata": {},
   "source": [
    "- `push` - Add a new element unto the stack\n",
    "- `pop` - Remove an element from the stack\n",
    "- `peek` - See the element on top of the stack without popping it"
   ]
  },
  {
   "cell_type": "markdown",
   "metadata": {},
   "source": [
    "### Usage of Stacks Example"
   ]
  },
  {
   "cell_type": "markdown",
   "metadata": {},
   "source": [
    "- Callstack: Stacks are used for function calls\n",
    "- Stack is also used to pass argument values between functions"
   ]
  },
  {
   "cell_type": "code",
   "execution_count": 1,
   "metadata": {},
   "outputs": [
    {
     "name": "stdout",
     "output_type": "stream",
     "text": [
      "this is func b\n",
      "done\n"
     ]
    }
   ],
   "source": [
    "def b():\n",
    "    print('this is func b') \n",
    "    return 100\n",
    "\n",
    "def a(): \n",
    "    b()\n",
    "    return True\n",
    "\n",
    "a() # Callstack starts here after executing main()\n",
    "print(\"done\")"
   ]
  },
  {
   "cell_type": "markdown",
   "metadata": {},
   "source": [
    "#### Interpretation"
   ]
  },
  {
   "cell_type": "markdown",
   "metadata": {},
   "source": [
    "```python\n",
    "Callstack starts:                             # Clst = []\n",
    "    Execute main()                            # Clst = [main()]\n",
    "        Execute a()                           # Clst = [main(),a()]\n",
    "        Jump to a definition:\n",
    "            Execute b()                       # Clst = [main(),a(),b()]\n",
    "            Jump to b definition:\n",
    "                Executes print()              # Clst = [main(),a(),b(),print()]\n",
    "                Jump to print definition:\n",
    "                    print() returns           # Clst = [main(),a(),b(),None]\n",
    "                print() completes and popped  # Clst = [main(),a(),b()]\n",
    "                b() returns                   # Clst = [main(),a(),100]\n",
    "            b() completes and popped          # Clst = [main(),a()]\n",
    "            a() returns                       # Clst = [main(),True]\n",
    "        a() completes and popped              # Clst = [main()]\n",
    "        Executes print()                      # Clst = [main(),print()]\n",
    "        Jump to print definition:\n",
    "            print() returns                   # Clst = [main(),None]\n",
    "        print() completes and popped          # Clst = [main()]\n",
    "        main() returns                        # Clst = [None]\n",
    "    main() completes and popped off           # Clst = []\n",
    "Callstack ends\n",
    "```"
   ]
  },
  {
   "cell_type": "markdown",
   "metadata": {},
   "source": [
    "### Stack Implementation"
   ]
  },
  {
   "cell_type": "markdown",
   "metadata": {},
   "source": [
    "- Stacks can be implemented using Node structure\n",
    "- Same principle of Node: Linked together through references/pointers"
   ]
  },
  {
   "cell_type": "code",
   "execution_count": 2,
   "metadata": {},
   "outputs": [],
   "source": [
    "class Node:\n",
    "    \n",
    "    def __init__(self, data=None):\n",
    "        self.data = data\n",
    "        self.next = None"
   ]
  },
  {
   "cell_type": "markdown",
   "metadata": {},
   "source": [
    "- We need 2 things to implement a stack using Node:\n",
    "  - The node which is at the top of the stack so we can apply `push` and `pop` through this node\n",
    "  - Keep track of the number of nodes on the stack"
   ]
  },
  {
   "cell_type": "code",
   "execution_count": 3,
   "metadata": {},
   "outputs": [],
   "source": [
    "class Stack:\n",
    "    \n",
    "    def __init__(self):\n",
    "        self.top = None\n",
    "        self.size = 0"
   ]
  },
  {
   "cell_type": "markdown",
   "metadata": {},
   "source": [
    "#### `push` Operation"
   ]
  },
  {
   "cell_type": "markdown",
   "metadata": {},
   "source": [
    "- Used to add element on top of the stack\n",
    "- First, check if the stack is empty or already have items on it:\n",
    "  - If the stack already has items:\n",
    "    - Set the new node's `next` to the current top node\n",
    "    - Set the stack's top to the new node\n",
    "    - Update the stack size\n",
    "  - If the stack is empty:\n",
    "    - Set the stack's top to the new node\n",
    "    - Update the stack size"
   ]
  },
  {
   "cell_type": "markdown",
   "metadata": {},
   "source": [
    "**Pseudo-code**\n",
    "```python\n",
    "if stack is not empty:\n",
    "    update: new_node.next -> current_top_node\n",
    "    update: self.top -> new_node\n",
    "    update: stack.size + 1\n",
    "else stack is empty:\n",
    "    update: new_node.next -> None # This is already the default so skip\n",
    "    update: self.top -> new_node\n",
    "    update: stack.size + 1\n",
    "```"
   ]
  },
  {
   "cell_type": "code",
   "execution_count": 4,
   "metadata": {},
   "outputs": [],
   "source": [
    "class Stack:\n",
    "    \n",
    "    def __init__(self):\n",
    "        self.top = None\n",
    "        self.size = 0\n",
    "    \n",
    "    \n",
    "    def push(self, data):\n",
    "        new_node = Node(data)\n",
    "        \n",
    "        if self.top:\n",
    "            # Set the next of the new_node as the current top node\n",
    "            new_node.next = self.top\n",
    "        \n",
    "        # Set new_node as top and increase stack size\n",
    "        self.top = new_node\n",
    "        self.size += 1"
   ]
  },
  {
   "cell_type": "markdown",
   "metadata": {},
   "source": [
    "#### `pop` Operation"
   ]
  },
  {
   "cell_type": "markdown",
   "metadata": {},
   "source": [
    "- Read the top most element of the stack and removes it from the stack\n",
    "- Returns the top most element from the stack, or returns `None` if the stack is empty\n",
    "\n",
    "- First, check if the stack is empty or already have some item on it\n",
    "  - If there are already items:\n",
    "    - Check if the top node has its next pointer pointing somewhere else\n",
    "      - If it does, it means there are more elements on the stack\n",
    "        - Update `self.top` to point to this next node: `self.top = self.top.next`\n",
    "      - If it does not, it means that there are no more element on the stack\n",
    "        - Update `self.top` to None\n",
    "      - Update the size of the stack\n",
    "      - Return the poped element\n",
    "  - If the stack is empty, return None"
   ]
  },
  {
   "cell_type": "markdown",
   "metadata": {},
   "source": [
    "**Pseudo-code**\n",
    "```python\n",
    "if stack is not empty:\n",
    "    top_element = self.top\n",
    "    \n",
    "    if self.top.next -> not None: # more elements on the stack\n",
    "        update: self.top -> self.top.next\n",
    "    else: # no more elements on the stack\n",
    "        update: self.top -> None\n",
    "    \n",
    "    update: self.size - 1\n",
    "    return: data in top_element\n",
    "    \n",
    "else stack is empty:\n",
    "    return: None\n",
    "```"
   ]
  },
  {
   "cell_type": "code",
   "execution_count": 5,
   "metadata": {},
   "outputs": [],
   "source": [
    "class Stack:\n",
    "    \n",
    "    def __init__(self):\n",
    "        self.top = None\n",
    "        self.size = 0\n",
    "    \n",
    "    \n",
    "    def push(self, data):\n",
    "        new_node = Node(data)\n",
    "        \n",
    "        if self.top:\n",
    "            # Set the next of the new_node as the current top node\n",
    "            new_node.next = self.top\n",
    "        \n",
    "        # Set new_node as top and increase stack size\n",
    "        self.top = new_node\n",
    "        self.size += 1\n",
    "    \n",
    "    \n",
    "    def pop(self):\n",
    "        if self.top:\n",
    "            # Save the data to return\n",
    "            data = self.top.data\n",
    "            \n",
    "            # Check if there are more element after this one\n",
    "            if self.top.next:\n",
    "                # Point self.top to the next element\n",
    "                self.top = self.top.next\n",
    "            else:\n",
    "                # There are no more element on the stack\n",
    "                self.top = None\n",
    "            \n",
    "            # Decrease the size\n",
    "            self.size -= 1\n",
    "            # Return the poped element\n",
    "            return data\n",
    "\n",
    "        # If here, then the stack is empty\n",
    "        return None"
   ]
  },
  {
   "cell_type": "markdown",
   "metadata": {},
   "source": [
    "#### `peek` Operation"
   ]
  },
  {
   "cell_type": "markdown",
   "metadata": {},
   "source": [
    "- Returns the value of the top element of the stack without popping the element off the stack\n",
    "- Very straightforward: If there is a top element, just return its data. Otherwise, `None`"
   ]
  },
  {
   "cell_type": "code",
   "execution_count": 6,
   "metadata": {},
   "outputs": [],
   "source": [
    "class Stack:\n",
    "    \n",
    "    def __init__(self):\n",
    "        self.top = None\n",
    "        self.size = 0\n",
    "    \n",
    "    \n",
    "    def push(self, data):\n",
    "        new_node = Node(data)\n",
    "        \n",
    "        if self.top:\n",
    "            # Set the next of the new_node as the current top node\n",
    "            new_node.next = self.top\n",
    "        \n",
    "        # Set new_node as top and increase stack size\n",
    "        self.top = new_node\n",
    "        self.size += 1\n",
    "    \n",
    "    \n",
    "    def pop(self):\n",
    "        if self.top:\n",
    "            # Save the data to return\n",
    "            data = self.top.data\n",
    "            \n",
    "            # Decrease the size\n",
    "            self.size -= 1\n",
    "            \n",
    "            # Check if there are more element after this one\n",
    "            if self.top.next:\n",
    "                # Point self.top to the next element\n",
    "                self.top = self.top.next\n",
    "            else:\n",
    "                # There are no more element on the stack\n",
    "                self.top = None\n",
    "            \n",
    "            # Return the poped element\n",
    "            return data\n",
    "\n",
    "        # If here, then the stack is empty\n",
    "        return None\n",
    "    \n",
    "    \n",
    "    def peek(self):\n",
    "        if self.top:\n",
    "            # Return its data\n",
    "            return self.top.data\n",
    "        \n",
    "        # If here, then the stack is empty\n",
    "        return None"
   ]
  },
  {
   "cell_type": "markdown",
   "metadata": {},
   "source": [
    "### Stack Usage Example: Bracket-Matching"
   ]
  },
  {
   "cell_type": "markdown",
   "metadata": {},
   "source": [
    "- Write a function that verify whether a statement containing brackets `{`, `[`, or `(` is balanced\n",
    "- Check if the number of opening and closing barckets match"
   ]
  },
  {
   "cell_type": "code",
   "execution_count": 7,
   "metadata": {},
   "outputs": [],
   "source": [
    "def is_matching_brackets(statement = ''): \n",
    "    \n",
    "    if len(statement) == 0:\n",
    "        return False\n",
    "    \n",
    "    # New stack for brackets\n",
    "    stack = Stack() \n",
    "    \n",
    "    for char in statement: \n",
    "        # For opening brackets, push to the stack\n",
    "        if char in ('{', '[', '('): \n",
    "            stack.push(char)\n",
    "        \n",
    "        # For closing brackets, pop from the stack and compare\n",
    "        if char in ('}', ']', ')'): \n",
    "            last = stack.pop() \n",
    "            \n",
    "            # Make sure to match\n",
    "            if last is '{' and char is '}': \n",
    "                continue\n",
    "            elif last is '[' and char is ']':\n",
    "                continue \n",
    "            elif last is '(' and char is ')':\n",
    "                continue \n",
    "            else: \n",
    "                # If no match, then break and return early\n",
    "                return False\n",
    "        \n",
    "    # If here and the stack is not empty, no match\n",
    "    if stack.size > 0: \n",
    "        return False \n",
    "\n",
    "    # If still here, then all brackets have their match\n",
    "    return True"
   ]
  },
  {
   "cell_type": "code",
   "execution_count": 8,
   "metadata": {},
   "outputs": [
    {
     "name": "stdout",
     "output_type": "stream",
     "text": [
      "{(foo)(bar)}[hello](((this)is)a)test: True\n",
      "{(foo)(bar)}[hello](((this)is)atest: False\n",
      "{(foo)(bar)}[hello](((this)is)a)test)): False\n"
     ]
    }
   ],
   "source": [
    "sl = ( \n",
    "    \"{(foo)(bar)}[hello](((this)is)a)test\",\n",
    "    \"{(foo)(bar)}[hello](((this)is)atest\", \n",
    "    \"{(foo)(bar)}[hello](((this)is)a)test))\" \n",
    ")\n",
    "\n",
    "for s in sl: \n",
    "    m = is_matching_brackets(s)\n",
    "    print(\"{}: {}\".format(s, m))"
   ]
  },
  {
   "cell_type": "markdown",
   "metadata": {},
   "source": [
    "### Other Examples of Real-Usage of Stacks"
   ]
  },
  {
   "cell_type": "markdown",
   "metadata": {},
   "source": [
    "- Backward and Forward buttons of Web Browsers\n",
    "- Undo and Redo buttons of Word Processors\n",
    "- Anything that implements a LIFO structure"
   ]
  },
  {
   "cell_type": "markdown",
   "metadata": {},
   "source": [
    "## Queues"
   ]
  },
  {
   "cell_type": "code",
   "execution_count": null,
   "metadata": {},
   "outputs": [],
   "source": []
  }
 ],
 "metadata": {
  "kernelspec": {
   "display_name": "Python 3",
   "language": "python",
   "name": "python3"
  },
  "language_info": {
   "codemirror_mode": {
    "name": "ipython",
    "version": 3
   },
   "file_extension": ".py",
   "mimetype": "text/x-python",
   "name": "python",
   "nbconvert_exporter": "python",
   "pygments_lexer": "ipython3",
   "version": "3.7.6"
  },
  "toc": {
   "base_numbering": 1,
   "nav_menu": {},
   "number_sections": true,
   "sideBar": true,
   "skip_h1_title": true,
   "title_cell": "Table of Contents",
   "title_sidebar": "Contents",
   "toc_cell": true,
   "toc_position": {},
   "toc_section_display": true,
   "toc_window_display": true
  }
 },
 "nbformat": 4,
 "nbformat_minor": 4
}
