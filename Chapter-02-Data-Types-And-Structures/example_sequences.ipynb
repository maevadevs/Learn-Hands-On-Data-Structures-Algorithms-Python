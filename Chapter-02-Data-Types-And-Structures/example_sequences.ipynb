{
 "cells": [
  {
   "cell_type": "markdown",
   "metadata": {},
   "source": [
    "# Sequences Example"
   ]
  },
  {
   "cell_type": "code",
   "execution_count": 1,
   "metadata": {},
   "outputs": [
    {
     "data": {
      "text/plain": [
       "[]"
      ]
     },
     "execution_count": 1,
     "metadata": {},
     "output_type": "execute_result"
    }
   ],
   "source": [
    "# An empty list\n",
    "list() "
   ]
  },
  {
   "cell_type": "code",
   "execution_count": 2,
   "metadata": {},
   "outputs": [
    {
     "name": "stdout",
     "output_type": "stream",
     "text": [
      "Print list1: [1, 2, 3, 4, 1]\n",
      "Print list2: [1, 2, 3, 4, 1, 1, 2, 3, 4, 1]\n"
     ]
    }
   ],
   "source": [
    "list1 = [1, 2, 3, 4]\n",
    "list1.append(1)\n",
    "print (\"Print list1:\", list1)\n",
    "list2 = list1 * 2\n",
    "print (\"Print list2:\", list2)"
   ]
  },
  {
   "cell_type": "code",
   "execution_count": 3,
   "metadata": {},
   "outputs": [
    {
     "name": "stdout",
     "output_type": "stream",
     "text": [
      "Minimum in list1 is  1\n",
      "Maximum in list1 is 4\n"
     ]
    }
   ],
   "source": [
    "# Functions\n",
    "print(\"Minimum in list1 is \", min(list1))\n",
    "print(\"Maximum in list1 is\", max(list1))"
   ]
  },
  {
   "cell_type": "code",
   "execution_count": 4,
   "metadata": {},
   "outputs": [
    {
     "name": "stdout",
     "output_type": "stream",
     "text": [
      "Updated list1 is  [2, 1, 2, 3, 4, 1]\n"
     ]
    }
   ],
   "source": [
    "# Insert an value 2 at index 0\n",
    "list1.insert(0, 2)\n",
    "print(\"Updated list1 is \", list1)"
   ]
  },
  {
   "cell_type": "code",
   "execution_count": 5,
   "metadata": {},
   "outputs": [
    {
     "name": "stdout",
     "output_type": "stream",
     "text": [
      "Revised list 1 is  [1, 4, 3, 2, 1, 2]\n"
     ]
    }
   ],
   "source": [
    "# Reversing\n",
    "list1.reverse()\n",
    "print(\"Revised list 1 is \", list1)"
   ]
  },
  {
   "cell_type": "code",
   "execution_count": 6,
   "metadata": {},
   "outputs": [
    {
     "name": "stdout",
     "output_type": "stream",
     "text": [
      "Updated list 1 is [1, 4, 3, 2, 1, 2, 11, 12]\n"
     ]
    }
   ],
   "source": [
    "# Extending\n",
    "list2 = [11, 12]\n",
    "list1.extend(list2)\n",
    "print(\"Updated list 1 is\", list1)"
   ]
  },
  {
   "cell_type": "code",
   "execution_count": 7,
   "metadata": {},
   "outputs": [
    {
     "name": "stdout",
     "output_type": "stream",
     "text": [
      "Sum of all the elements in list1 is 36\n",
      "length of list 1 is  8\n"
     ]
    }
   ],
   "source": [
    "# Functions\n",
    "print(\"Sum of all the elements in list1 is\", sum(list1))\n",
    "print(\"length of list 1 is \", len(list1))"
   ]
  },
  {
   "cell_type": "code",
   "execution_count": 8,
   "metadata": {},
   "outputs": [
    {
     "name": "stdout",
     "output_type": "stream",
     "text": [
      "Sorted list 1 is [1, 1, 2, 2, 3, 4, 11, 12]\n"
     ]
    }
   ],
   "source": [
    "# Sorting\n",
    "list1.sort()\n",
    "print(\"Sorted list 1 is\", list1)"
   ]
  },
  {
   "cell_type": "code",
   "execution_count": 9,
   "metadata": {},
   "outputs": [
    {
     "name": "stdout",
     "output_type": "stream",
     "text": [
      "list 1 after removal of element 12 is  [1, 1, 2, 2, 3, 4, 11]\n"
     ]
    }
   ],
   "source": [
    "# remove value 12 form the list\n",
    "list1.remove(12)\n",
    "print(\"list 1 after removal of element 12 is \", list1)"
   ]
  }
 ],
 "metadata": {
  "hide_input": false,
  "kernelspec": {
   "display_name": "Python 3 (ipykernel)",
   "language": "python",
   "name": "python3"
  },
  "language_info": {
   "codemirror_mode": {
    "name": "ipython",
    "version": 3
   },
   "file_extension": ".py",
   "mimetype": "text/x-python",
   "name": "python",
   "nbconvert_exporter": "python",
   "pygments_lexer": "ipython3",
   "version": "3.9.7"
  },
  "toc": {
   "base_numbering": 1,
   "nav_menu": {},
   "number_sections": false,
   "sideBar": false,
   "skip_h1_title": false,
   "title_cell": "Table of Contents",
   "title_sidebar": "Contents",
   "toc_cell": false,
   "toc_position": {},
   "toc_section_display": false,
   "toc_window_display": false
  },
  "varInspector": {
   "cols": {
    "lenName": 16,
    "lenType": 16,
    "lenVar": 40
   },
   "kernels_config": {
    "python": {
     "delete_cmd_postfix": "",
     "delete_cmd_prefix": "del ",
     "library": "var_list.py",
     "varRefreshCmd": "print(var_dic_list())"
    },
    "r": {
     "delete_cmd_postfix": ") ",
     "delete_cmd_prefix": "rm(",
     "library": "var_list.r",
     "varRefreshCmd": "cat(var_dic_list()) "
    }
   },
   "types_to_exclude": [
    "module",
    "function",
    "builtin_function_or_method",
    "instance",
    "_Feature"
   ],
   "window_display": false
  }
 },
 "nbformat": 4,
 "nbformat_minor": 4
}
