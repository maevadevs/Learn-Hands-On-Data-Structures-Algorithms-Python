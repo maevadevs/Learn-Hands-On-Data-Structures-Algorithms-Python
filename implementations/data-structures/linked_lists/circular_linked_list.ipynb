{
 "cells": [
  {
   "cell_type": "markdown",
   "metadata": {
    "toc": true
   },
   "source": [
    "<h1>Table of Contents<span class=\"tocSkip\"></span></h1>\n",
    "<div class=\"toc\"><ul class=\"toc-item\"><li><span><a href=\"#Methods\" data-toc-modified-id=\"Methods-1\"><span class=\"toc-item-num\">1&nbsp;&nbsp;</span>Methods</a></span></li><li><span><a href=\"#Implementation\" data-toc-modified-id=\"Implementation-2\"><span class=\"toc-item-num\">2&nbsp;&nbsp;</span>Implementation</a></span></li><li><span><a href=\"#Example-of-Usage\" data-toc-modified-id=\"Example-of-Usage-3\"><span class=\"toc-item-num\">3&nbsp;&nbsp;</span>Example of Usage</a></span><ul class=\"toc-item\"><li><span><a href=\"#Instantiation\" data-toc-modified-id=\"Instantiation-3.1\"><span class=\"toc-item-num\">3.1&nbsp;&nbsp;</span>Instantiation</a></span></li><li><span><a href=\"#String-Representation\" data-toc-modified-id=\"String-Representation-3.2\"><span class=\"toc-item-num\">3.2&nbsp;&nbsp;</span>String Representation</a></span></li><li><span><a href=\"#Length-of-the-List\" data-toc-modified-id=\"Length-of-the-List-3.3\"><span class=\"toc-item-num\">3.3&nbsp;&nbsp;</span>Length of the List</a></span></li><li><span><a href=\"#Appending-An-Element\" data-toc-modified-id=\"Appending-An-Element-3.4\"><span class=\"toc-item-num\">3.4&nbsp;&nbsp;</span>Appending An Element</a></span></li><li><span><a href=\"#Iteration-over-Elements\" data-toc-modified-id=\"Iteration-over-Elements-3.5\"><span class=\"toc-item-num\">3.5&nbsp;&nbsp;</span>Iteration over Elements</a></span></li><li><span><a href=\"#Membership-Checking\" data-toc-modified-id=\"Membership-Checking-3.6\"><span class=\"toc-item-num\">3.6&nbsp;&nbsp;</span>Membership Checking</a></span></li><li><span><a href=\"#Membership-Deletion\" data-toc-modified-id=\"Membership-Deletion-3.7\"><span class=\"toc-item-num\">3.7&nbsp;&nbsp;</span>Membership Deletion</a></span></li><li><span><a href=\"#Membership-Clearing\" data-toc-modified-id=\"Membership-Clearing-3.8\"><span class=\"toc-item-num\">3.8&nbsp;&nbsp;</span>Membership Clearing</a></span></li></ul></li></ul></div>"
   ]
  },
  {
   "cell_type": "markdown",
   "metadata": {},
   "source": [
    "# `CircularLinkedList`"
   ]
  },
  {
   "cell_type": "markdown",
   "metadata": {},
   "source": [
    "- In *Circular Linked Lists*, the endpoints are connected to each other\n",
    "- The tail node's `next` points to the head node\n",
    "- There is no end node, so no node will point to `None`\n",
    "- Can be based on Singly or Doubly Linked List\n",
    "  - If doubly-linked-list-based, the tail will point to the head and the head to the tail"
   ]
  },
  {
   "cell_type": "markdown",
   "metadata": {},
   "source": [
    "**About Linked Lists**:\n",
    "- A *Linked List* is a way to store a collection of elements\n",
    "- Each element in a *Linked List* is stored in the form of a *Node*\n",
    "- A *Node* is a collection of 2 sub-elements or parts:\n",
    "  - A *data* part that stores the element\n",
    "  - A *next* part that stores the link reference to the next node\n",
    "- A Linked List is formed when many nodes are linked together to form a chain\n",
    "- Each node points to the next node present in the order\n",
    "- The first node is always used as a reference to traverse the list and is called *HEAD*\n",
    "- The last node, the *TAIL*, terminates the list and points its `next` to `NONE` (Not the case for Circular Linked Lists)\n",
    "- Linked Lists are implemented using Pointer Structures"
   ]
  },
  {
   "cell_type": "markdown",
   "metadata": {},
   "source": [
    "## Methods"
   ]
  },
  {
   "cell_type": "markdown",
   "metadata": {},
   "source": [
    "- `CircularLinkedList()`: Constructor\n",
    "- `print(sll)`: Get the string representation of the list\n",
    "- `len(sll)`: Get the length of the list\n",
    "- `for el in sll`: Iterate through the elements of the list\n",
    "- `sll.append(el)`: Append an element to the list\n",
    "- `sll.contains(el)`: Check if the list contains an element\n",
    "- `sll.delete(el)`: Delete an element from the list\n",
    "- `sll.clear()`: Clear the list"
   ]
  },
  {
   "cell_type": "markdown",
   "metadata": {},
   "source": [
    "## Implementation"
   ]
  },
  {
   "cell_type": "markdown",
   "metadata": {},
   "source": [
    "We are using `Node` class for the implementation"
   ]
  },
  {
   "cell_type": "code",
   "execution_count": 1,
   "metadata": {},
   "outputs": [],
   "source": [
    "# A simple Node implementation\n",
    "class Node:\n",
    "    def __init__(self, data=None):\n",
    "        self.data = data\n",
    "        self.next = None\n",
    "    \n",
    "    def __str__(self):\n",
    "        return str(self.data)"
   ]
  },
  {
   "cell_type": "markdown",
   "metadata": {},
   "source": [
    "Now, we can implement a Singly Linked List"
   ]
  },
  {
   "cell_type": "code",
   "execution_count": 2,
   "metadata": {},
   "outputs": [],
   "source": [
    "class CircularLinkedList:\n",
    "    def __init__(self):\n",
    "        self.tail = None  # Ref to the very first node in the list\n",
    "        self.head = None  # Ref to the very last node in the list\n",
    "        self.length = 0  # Ref to the current length of the list\n",
    "    \n",
    "    def __str__(self):\n",
    "        return \"CircularLinkedList(\" + str(self.length) + \")\"\n",
    "    \n",
    "    def __len__(self):\n",
    "        return self.length\n",
    "    \n",
    "    def __iter__(self):\n",
    "        current = self.head\n",
    "        i = 0\n",
    "        while i < self.length:\n",
    "            value = current.data\n",
    "            current = current.next\n",
    "            i += 1\n",
    "            yield value # Make ls.iterate() into a generator\n",
    "    \n",
    "    def append(self, data):\n",
    "        # Encapsulate the data in a Node \n",
    "        node = Node(data)\n",
    "        print(node)\n",
    "        \n",
    "        if self.tail:\n",
    "            # There are already data in the list\n",
    "            self.tail.next = node # For the current node\n",
    "            self.tail = node\n",
    "        else:\n",
    "            # There are no data in the list\n",
    "            self.head = node\n",
    "            self.tail = node\n",
    "\n",
    "        self.tail.next = self.head # Make it circular\n",
    "        self.length += 1 # Increase the length\n",
    "    \n",
    "    def contains(self, data):\n",
    "        for node in self.__iter__():\n",
    "            if data == node:\n",
    "                return True \n",
    "        return False\n",
    "    \n",
    "    def delete(self, data): \n",
    "        current = self.head \n",
    "        prev = self.head\n",
    "        i = 0\n",
    "        \n",
    "        # Single-Linked List: `while current:` could reach `None` but not here\n",
    "        while i < self.length:\n",
    "            if current.data == data:\n",
    "                if current == self.head: # The element to delete is the first element\n",
    "                    self.head = current.next # Make the 2nd element to be the 1st element\n",
    "                    self.tail.next = self.head # Make circular\n",
    "                else:\n",
    "                    prev.next = current.next # Make the next element to be the next of the preceding element\n",
    "                self.length -= 1 # Decrease the length\n",
    "                print('\"{}\" has been deleted'.format(data))\n",
    "                return\n",
    "            else:\n",
    "                prev = current\n",
    "                current = current.next\n",
    "                i += 1\n",
    "\n",
    "        # If here, then data was not found\n",
    "        print('\"{}\" was not found'.format(data))\n",
    "        return\n",
    "    \n",
    "    def clear(self):\n",
    "        self.tail = None\n",
    "        self.head = None\n",
    "        self.length = 0"
   ]
  },
  {
   "cell_type": "markdown",
   "metadata": {},
   "source": [
    "## Example of Usage"
   ]
  },
  {
   "cell_type": "markdown",
   "metadata": {},
   "source": [
    "### Instantiation"
   ]
  },
  {
   "cell_type": "code",
   "execution_count": 3,
   "metadata": {},
   "outputs": [],
   "source": [
    "fruits = CircularLinkedList()"
   ]
  },
  {
   "cell_type": "markdown",
   "metadata": {},
   "source": [
    "### String Representation"
   ]
  },
  {
   "cell_type": "code",
   "execution_count": 4,
   "metadata": {},
   "outputs": [
    {
     "name": "stdout",
     "output_type": "stream",
     "text": [
      "CircularLinkedList(0)\n"
     ]
    }
   ],
   "source": [
    "print(fruits)"
   ]
  },
  {
   "cell_type": "markdown",
   "metadata": {},
   "source": [
    "### Length of the List"
   ]
  },
  {
   "cell_type": "code",
   "execution_count": 5,
   "metadata": {},
   "outputs": [
    {
     "name": "stdout",
     "output_type": "stream",
     "text": [
      "Length of 'fruits': 0\n"
     ]
    }
   ],
   "source": [
    "print(\"Length of 'fruits':\", len(fruits))"
   ]
  },
  {
   "cell_type": "markdown",
   "metadata": {},
   "source": [
    "### Appending An Element"
   ]
  },
  {
   "cell_type": "code",
   "execution_count": 6,
   "metadata": {},
   "outputs": [
    {
     "name": "stdout",
     "output_type": "stream",
     "text": [
      "Apple\n",
      "Banana\n",
      "Cranberries\n",
      "Date\n",
      "Elderberry\n"
     ]
    }
   ],
   "source": [
    "fruits.append('Apple')\n",
    "fruits.append('Banana')\n",
    "fruits.append('Cranberries')\n",
    "fruits.append('Date')\n",
    "fruits.append('Elderberry')"
   ]
  },
  {
   "cell_type": "markdown",
   "metadata": {},
   "source": [
    "### Iteration over Elements"
   ]
  },
  {
   "cell_type": "code",
   "execution_count": 7,
   "metadata": {},
   "outputs": [
    {
     "name": "stdout",
     "output_type": "stream",
     "text": [
      "Apple\n",
      "Banana\n",
      "Cranberries\n",
      "Date\n",
      "Elderberry\n"
     ]
    }
   ],
   "source": [
    "for f in fruits:\n",
    "    print(f)"
   ]
  },
  {
   "cell_type": "markdown",
   "metadata": {},
   "source": [
    "### Membership Checking"
   ]
  },
  {
   "cell_type": "code",
   "execution_count": 8,
   "metadata": {},
   "outputs": [
    {
     "name": "stdout",
     "output_type": "stream",
     "text": [
      "True\n",
      "False\n"
     ]
    }
   ],
   "source": [
    "print(fruits.contains('Date'))\n",
    "print(fruits.contains('Strawberry'))"
   ]
  },
  {
   "cell_type": "markdown",
   "metadata": {},
   "source": [
    "### Membership Deletion"
   ]
  },
  {
   "cell_type": "code",
   "execution_count": 9,
   "metadata": {},
   "outputs": [
    {
     "name": "stdout",
     "output_type": "stream",
     "text": [
      "\"Date\" has been deleted\n",
      "CircularLinkedList(4)\n"
     ]
    }
   ],
   "source": [
    "fruits.delete('Date')\n",
    "print(fruits)"
   ]
  },
  {
   "cell_type": "markdown",
   "metadata": {},
   "source": [
    "### Membership Clearing"
   ]
  },
  {
   "cell_type": "code",
   "execution_count": 10,
   "metadata": {
    "scrolled": true
   },
   "outputs": [
    {
     "name": "stdout",
     "output_type": "stream",
     "text": [
      "CircularLinkedList(0)\n"
     ]
    }
   ],
   "source": [
    "fruits.clear()\n",
    "print(fruits)"
   ]
  }
 ],
 "metadata": {
  "kernelspec": {
   "display_name": "Python 3",
   "language": "python",
   "name": "python3"
  },
  "language_info": {
   "codemirror_mode": {
    "name": "ipython",
    "version": 3
   },
   "file_extension": ".py",
   "mimetype": "text/x-python",
   "name": "python",
   "nbconvert_exporter": "python",
   "pygments_lexer": "ipython3",
   "version": "3.8.3"
  },
  "toc": {
   "base_numbering": 1,
   "nav_menu": {},
   "number_sections": true,
   "sideBar": true,
   "skip_h1_title": true,
   "title_cell": "Table of Contents",
   "title_sidebar": "Contents",
   "toc_cell": true,
   "toc_position": {},
   "toc_section_display": true,
   "toc_window_display": true
  }
 },
 "nbformat": 4,
 "nbformat_minor": 4
}
