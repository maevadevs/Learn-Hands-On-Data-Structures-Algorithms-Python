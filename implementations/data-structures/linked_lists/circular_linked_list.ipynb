{
 "cells": [
  {
   "cell_type": "markdown",
   "metadata": {},
   "source": [
    "# CircularLinkedList"
   ]
  },
  {
   "cell_type": "markdown",
   "metadata": {
    "toc": true
   },
   "source": [
    "<h1>Table of Contents<span class=\"tocSkip\"></span></h1>\n",
    "<div class=\"toc\"><ul class=\"toc-item\"><li><span><a href=\"#Methods\" data-toc-modified-id=\"Methods-1\"><span class=\"toc-item-num\">1&nbsp;&nbsp;</span>Methods</a></span></li><li><span><a href=\"#Implementation\" data-toc-modified-id=\"Implementation-2\"><span class=\"toc-item-num\">2&nbsp;&nbsp;</span>Implementation</a></span></li><li><span><a href=\"#Example-of-Usage\" data-toc-modified-id=\"Example-of-Usage-3\"><span class=\"toc-item-num\">3&nbsp;&nbsp;</span>Example of Usage</a></span><ul class=\"toc-item\"><li><span><a href=\"#Instantiation\" data-toc-modified-id=\"Instantiation-3.1\"><span class=\"toc-item-num\">3.1&nbsp;&nbsp;</span>Instantiation</a></span></li><li><span><a href=\"#String-Representation\" data-toc-modified-id=\"String-Representation-3.2\"><span class=\"toc-item-num\">3.2&nbsp;&nbsp;</span>String Representation</a></span></li><li><span><a href=\"#Length-of-the-List\" data-toc-modified-id=\"Length-of-the-List-3.3\"><span class=\"toc-item-num\">3.3&nbsp;&nbsp;</span>Length of the List</a></span></li><li><span><a href=\"#Appending-An-Element\" data-toc-modified-id=\"Appending-An-Element-3.4\"><span class=\"toc-item-num\">3.4&nbsp;&nbsp;</span>Appending An Element</a></span></li><li><span><a href=\"#Iteration-over-Elements\" data-toc-modified-id=\"Iteration-over-Elements-3.5\"><span class=\"toc-item-num\">3.5&nbsp;&nbsp;</span>Iteration over Elements</a></span></li><li><span><a href=\"#Membership-Checking\" data-toc-modified-id=\"Membership-Checking-3.6\"><span class=\"toc-item-num\">3.6&nbsp;&nbsp;</span>Membership Checking</a></span></li><li><span><a href=\"#Membership-Deletion\" data-toc-modified-id=\"Membership-Deletion-3.7\"><span class=\"toc-item-num\">3.7&nbsp;&nbsp;</span>Membership Deletion</a></span></li><li><span><a href=\"#Membership-Clearing\" data-toc-modified-id=\"Membership-Clearing-3.8\"><span class=\"toc-item-num\">3.8&nbsp;&nbsp;</span>Membership Clearing</a></span></li></ul></li></ul></div>"
   ]
  },
  {
   "cell_type": "markdown",
   "metadata": {},
   "source": [
    "- In *Circular Linked Lists*, the endpoints are connected to each other\n",
    "- The tail node's `next` points to the head node\n",
    "- There is no end node, so no node will point to `None`\n",
    "- Can be based on Singly or Doubly Linked List\n",
    "  - If doubly-linked-list-based, the tail will point to the head and the head to the tail"
   ]
  },
  {
   "cell_type": "markdown",
   "metadata": {},
   "source": [
    "**About Linked Lists**:\n",
    "- A *Linked List* is a way to store a collection of elements\n",
    "- Each element in a *Linked List* is stored in the form of a *Node*\n",
    "- A *Node* is a collection of 2 sub-elements or parts:\n",
    "  - A *data* part that stores the element\n",
    "  - A *next* part that stores the link reference to the next node\n",
    "- A Linked List is formed when many nodes are linked together to form a chain\n",
    "- Each node points to the next node present in the order\n",
    "- The first node is always used as a reference to traverse the list and is called *HEAD*\n",
    "- The last node, the *TAIL*, terminates the list and points its `next` to `NONE` (Not the case for Circular Linked Lists)\n",
    "- Linked Lists are implemented using Pointer Structures"
   ]
  },
  {
   "cell_type": "markdown",
   "metadata": {},
   "source": [
    "## Methods"
   ]
  },
  {
   "cell_type": "markdown",
   "metadata": {},
   "source": [
    "- `CircularLinkedList()`: Constructor\n",
    "- `print(sll)`: Get the string representation of the list\n",
    "- `len(sll)`: Get the length of the list\n",
    "- `for el in sll`: Iterate through the elements of the list\n",
    "- `sll.append(el)`: Append an element to the list\n",
    "- `sll.contains(el)`: Check if the list contains an element\n",
    "- `sll.delete(el)`: Delete an element from the list\n",
    "- `sll.clear()`: Clear the list"
   ]
  },
  {
   "cell_type": "markdown",
   "metadata": {},
   "source": [
    "## Implementation"
   ]
  },
  {
   "cell_type": "markdown",
   "metadata": {},
   "source": [
    "We are using `Node` class for the implementation"
   ]
  },
  {
   "cell_type": "code",
   "execution_count": 1,
   "metadata": {},
   "outputs": [],
   "source": [
    "class Node:\n",
    "    \"\"\"Implementation of a One-Direction Node\"\"\"\n",
    "    \n",
    "    def __init__(self, data=None):\n",
    "        \"\"\"Initialize a Node object\"\"\"\n",
    "        self.data = data\n",
    "        self.next = None\n",
    "        \n",
    "    def __str__(self):\n",
    "        \"\"\"Return the string representation of a Node\"\"\"\n",
    "        return f\"Node({str(self.data)})\"\n",
    "    \n",
    "    def __repr__(self):\n",
    "        \"\"\"Return the string representation of a Node\"\"\"\n",
    "        return f\"Node({str(self.data)})\""
   ]
  },
  {
   "cell_type": "markdown",
   "metadata": {},
   "source": [
    "Now, we can implement a Singly Circular Linked List"
   ]
  },
  {
   "cell_type": "code",
   "execution_count": 2,
   "metadata": {},
   "outputs": [],
   "source": [
    "class CircularLinkedList:\n",
    "    \"\"\"An implementation of a CircularLinkedList\"\"\"\n",
    "\n",
    "    def __init__(self):\n",
    "        self.tail = None  # Ref to the very first node in the list\n",
    "        self.head = None  # Ref to the very last node in the list\n",
    "        self.length = 0  # Ref to the current length of the list\n",
    "    \n",
    "    def __str__(self):\n",
    "        \"\"\"Return a string representation of the list\"\"\"\n",
    "        return f\"CircularLinkedList({'->'.join([item for item in self])})\" # Will call self.__iter__()\n",
    "    \n",
    "    def __repr__(self):\n",
    "        \"\"\"Return a string representation of the list\"\"\"\n",
    "        return f\"CircularLinkedList({'->'.join([item for item in self])})\" # Will call self.__iter__()\n",
    "    \n",
    "    def __len__(self):\n",
    "        return self.length\n",
    "    \n",
    "    def __iter__(self):\n",
    "        current = self.head\n",
    "        i = 0\n",
    "        while i < self.length:\n",
    "            value = current.data\n",
    "            current = current.next\n",
    "            i += 1\n",
    "            yield value # Make ls.iterate() into a generator\n",
    "    \n",
    "    def append(self, data):\n",
    "        \"\"\"Append a new node to the list\"\"\"\n",
    "        # Encapsulate the data into a Node class: Default next is None\n",
    "        new_node = Node(data)\n",
    "        # Check if there are already data in the list\n",
    "        if self.tail:\n",
    "            # Take the current tail node and set its 'next' to point to the new node\n",
    "            self.tail.next = new_node # For the current node\n",
    "            # Then, set the new node as the new current head node\n",
    "            self.tail = new_node\n",
    "        else:\n",
    "            # There are no data in the list\n",
    "            self.head = new_node\n",
    "            self.tail = new_node\n",
    "        # Then, make it circular\n",
    "        self.tail.next = self.head\n",
    "        # Increase the length\n",
    "        self.length += 1\n",
    "    \n",
    "    def delete(self, data): \n",
    "        current = self.head \n",
    "        prev = self.head \n",
    "        # Single-Linked List: `while current:` could reach `None` but not here\n",
    "        while prev == current or prev != self.tail:\n",
    "            if current.data == data:\n",
    "                if current == self.head: \n",
    "                    # The element to delete is the first element\n",
    "                    # Make the 2nd element to be the 1st element\n",
    "                    self.head = current.next\n",
    "                    # Make circular\n",
    "                    self.tail.next = self.head\n",
    "                else:\n",
    "                    # The element to delete is not the first element\n",
    "                    # Make the next element to be the next of the preceding element\n",
    "                    prev.next = current.next\n",
    "                # Decrease the length\n",
    "                self.length -= 1\n",
    "                print(f'\"{data}\" has been deleted from the list')\n",
    "                return\n",
    "            # If here, not found yet: Continue looping\n",
    "            prev = current\n",
    "            current = current.next\n",
    "        # If here, then data was not found\n",
    "        print(f'\"{data}\" was not found in the list')\n",
    "        return\n",
    "    \n",
    "    def contains(self, data):\n",
    "        for node in self.__iter__():\n",
    "            if data == node:\n",
    "                return True \n",
    "        return False\n",
    "    \n",
    "    def clear(self):\n",
    "        self.tail = None\n",
    "        self.head = None\n",
    "        self.length = 0"
   ]
  },
  {
   "cell_type": "markdown",
   "metadata": {},
   "source": [
    "## Example of Usage"
   ]
  },
  {
   "cell_type": "markdown",
   "metadata": {},
   "source": [
    "### Instantiation"
   ]
  },
  {
   "cell_type": "code",
   "execution_count": 3,
   "metadata": {},
   "outputs": [],
   "source": [
    "rotating_slides = CircularLinkedList()"
   ]
  },
  {
   "cell_type": "markdown",
   "metadata": {},
   "source": [
    "### String Representation"
   ]
  },
  {
   "cell_type": "code",
   "execution_count": 4,
   "metadata": {},
   "outputs": [
    {
     "name": "stdout",
     "output_type": "stream",
     "text": [
      "CircularLinkedList()\n"
     ]
    }
   ],
   "source": [
    "print(rotating_slides)"
   ]
  },
  {
   "cell_type": "markdown",
   "metadata": {},
   "source": [
    "### Length of the List"
   ]
  },
  {
   "cell_type": "code",
   "execution_count": 5,
   "metadata": {},
   "outputs": [
    {
     "name": "stdout",
     "output_type": "stream",
     "text": [
      "Count of slides: 0\n"
     ]
    }
   ],
   "source": [
    "print(\"Count of slides:\", len(rotating_slides))"
   ]
  },
  {
   "cell_type": "markdown",
   "metadata": {},
   "source": [
    "### Appending An Element"
   ]
  },
  {
   "cell_type": "code",
   "execution_count": 6,
   "metadata": {},
   "outputs": [],
   "source": [
    "rotating_slides.append(\"Slide 1\")\n",
    "rotating_slides.append(\"Slide 2\")\n",
    "rotating_slides.append(\"Slide 3\")\n",
    "rotating_slides.append(\"Slide 4\")\n",
    "rotating_slides.append(\"Slide 5\")"
   ]
  },
  {
   "cell_type": "markdown",
   "metadata": {},
   "source": [
    "### Iteration over Elements"
   ]
  },
  {
   "cell_type": "code",
   "execution_count": 7,
   "metadata": {},
   "outputs": [
    {
     "name": "stdout",
     "output_type": "stream",
     "text": [
      "Slide 1\n",
      "Slide 2\n",
      "Slide 3\n",
      "Slide 4\n",
      "Slide 5\n"
     ]
    }
   ],
   "source": [
    "for slide in rotating_slides:\n",
    "    print(slide)"
   ]
  },
  {
   "cell_type": "markdown",
   "metadata": {},
   "source": [
    "### Membership Checking"
   ]
  },
  {
   "cell_type": "code",
   "execution_count": 8,
   "metadata": {},
   "outputs": [
    {
     "name": "stdout",
     "output_type": "stream",
     "text": [
      "False\n",
      "True\n"
     ]
    }
   ],
   "source": [
    "print(rotating_slides.contains('Slide 100'))\n",
    "print(rotating_slides.contains('Slide 3'))"
   ]
  },
  {
   "cell_type": "markdown",
   "metadata": {},
   "source": [
    "### Membership Deletion"
   ]
  },
  {
   "cell_type": "code",
   "execution_count": 9,
   "metadata": {},
   "outputs": [
    {
     "name": "stdout",
     "output_type": "stream",
     "text": [
      "\"Slide 3\" has been deleted from the list\n",
      "CircularLinkedList(Slide 1->Slide 2->Slide 4->Slide 5)\n",
      "\"Slide 3\" was not found in the list\n",
      "CircularLinkedList(Slide 1->Slide 2->Slide 4->Slide 5)\n"
     ]
    }
   ],
   "source": [
    "rotating_slides.delete('Slide 3')\n",
    "print(rotating_slides)\n",
    "rotating_slides.delete('Slide 3')\n",
    "print(rotating_slides)"
   ]
  },
  {
   "cell_type": "markdown",
   "metadata": {},
   "source": [
    "### Membership Clearing"
   ]
  },
  {
   "cell_type": "code",
   "execution_count": 10,
   "metadata": {
    "scrolled": true
   },
   "outputs": [
    {
     "name": "stdout",
     "output_type": "stream",
     "text": [
      "CircularLinkedList()\n"
     ]
    }
   ],
   "source": [
    "rotating_slides.clear()\n",
    "print(rotating_slides)"
   ]
  }
 ],
 "metadata": {
  "hide_input": false,
  "kernelspec": {
   "display_name": "Python 3 (ipykernel)",
   "language": "python",
   "name": "python3"
  },
  "language_info": {
   "codemirror_mode": {
    "name": "ipython",
    "version": 3
   },
   "file_extension": ".py",
   "mimetype": "text/x-python",
   "name": "python",
   "nbconvert_exporter": "python",
   "pygments_lexer": "ipython3",
   "version": "3.9.12"
  },
  "toc": {
   "base_numbering": 1,
   "nav_menu": {},
   "number_sections": true,
   "sideBar": true,
   "skip_h1_title": true,
   "title_cell": "Table of Contents",
   "title_sidebar": "Contents",
   "toc_cell": true,
   "toc_position": {},
   "toc_section_display": true,
   "toc_window_display": true
  },
  "varInspector": {
   "cols": {
    "lenName": 16,
    "lenType": 16,
    "lenVar": 40
   },
   "kernels_config": {
    "python": {
     "delete_cmd_postfix": "",
     "delete_cmd_prefix": "del ",
     "library": "var_list.py",
     "varRefreshCmd": "print(var_dic_list())"
    },
    "r": {
     "delete_cmd_postfix": ") ",
     "delete_cmd_prefix": "rm(",
     "library": "var_list.r",
     "varRefreshCmd": "cat(var_dic_list()) "
    }
   },
   "types_to_exclude": [
    "module",
    "function",
    "builtin_function_or_method",
    "instance",
    "_Feature"
   ],
   "window_display": false
  }
 },
 "nbformat": 4,
 "nbformat_minor": 4
}
