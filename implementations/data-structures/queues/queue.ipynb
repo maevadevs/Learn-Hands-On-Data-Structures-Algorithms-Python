{
 "cells": [
  {
   "cell_type": "markdown",
   "id": "b6406992",
   "metadata": {},
   "source": [
    "# Queue"
   ]
  },
  {
   "cell_type": "markdown",
   "id": "1c7afcf0",
   "metadata": {
    "toc": true
   },
   "source": [
    "<h1>Table of Contents<span class=\"tocSkip\"></span></h1>\n",
    "<div class=\"toc\"><ul class=\"toc-item\"><li><span><a href=\"#Methods\" data-toc-modified-id=\"Methods-1\"><span class=\"toc-item-num\">1&nbsp;&nbsp;</span>Methods</a></span></li><li><span><a href=\"#Implementations\" data-toc-modified-id=\"Implementations-2\"><span class=\"toc-item-num\">2&nbsp;&nbsp;</span>Implementations</a></span><ul class=\"toc-item\"><li><span><a href=\"#Implementation-1:-List-Based-Queue\" data-toc-modified-id=\"Implementation-1:-List-Based-Queue-2.1\"><span class=\"toc-item-num\">2.1&nbsp;&nbsp;</span>Implementation 1: List-Based Queue</a></span></li><li><span><a href=\"#Implementation-2:-2-Simple-Stacks-based-Queue\" data-toc-modified-id=\"Implementation-2:-2-Simple-Stacks-based-Queue-2.2\"><span class=\"toc-item-num\">2.2&nbsp;&nbsp;</span>Implementation 2: 2 Simple Stacks-based Queue</a></span></li><li><span><a href=\"#Implementation-3:-Node-Based-Queue\" data-toc-modified-id=\"Implementation-3:-Node-Based-Queue-2.3\"><span class=\"toc-item-num\">2.3&nbsp;&nbsp;</span>Implementation 3: Node-Based Queue</a></span></li></ul></li><li><span><a href=\"#Example-of-Usage\" data-toc-modified-id=\"Example-of-Usage-3\"><span class=\"toc-item-num\">3&nbsp;&nbsp;</span>Example of Usage</a></span></li></ul></div>"
   ]
  },
  {
   "cell_type": "markdown",
   "id": "e053b77f",
   "metadata": {},
   "source": [
    "- Another special type of list\n",
    "- Very fundamental: Many data structures are built on top of them\n",
    "- Queue is a **First-In, First-Out (FIFO)** Structure\n",
    "- Example of a queue is people standing in line for a service\n",
    "- There are different implementations of a queue but they revolve around the same concept of FIFO\n",
    "- 2 principal operations:\n",
    "  - *enqueue* - Operation to add an element to the queue\n",
    "  - *dequeue* - Operation to remove an element from the queue"
   ]
  },
  {
   "cell_type": "markdown",
   "id": "8b2e5ba6",
   "metadata": {},
   "source": [
    "## Methods"
   ]
  },
  {
   "cell_type": "markdown",
   "id": "195d319a",
   "metadata": {},
   "source": [
    "Operations|Result\n",
    ":-|:-\n",
    "`Queue()`|`Queue size == 0`, `Contents == []`\n",
    "`Enqueue(x)`|`Queue Size == 1`, `Contents == [x]`\n",
    "`Enqueue(y)`|`Queue Size = 2`, `Contents == [x, y]`\n",
    "`Enqueue(z)`|`Queue Size = 3`, `Contents == [x, y, z]`\n",
    "`Size()`|`3`\n",
    "`Dequeue()`|`z`, `Queue Size == 2`\n",
    "`Dequeue()`|`y`, `Queue Size == 1`\n",
    "`Dequeue()`|`x`, `Queue Size == 0`"
   ]
  },
  {
   "cell_type": "markdown",
   "id": "647edab1",
   "metadata": {},
   "source": [
    "## Implementations"
   ]
  },
  {
   "cell_type": "markdown",
   "id": "95c90aad",
   "metadata": {},
   "source": [
    "- Queues can be implemented using\n",
    "  - List\n",
    "  - Stack\n",
    "  - Node"
   ]
  },
  {
   "cell_type": "markdown",
   "id": "66f683d9",
   "metadata": {},
   "source": [
    "### Implementation 1: List-Based Queue"
   ]
  },
  {
   "cell_type": "code",
   "execution_count": 1,
   "id": "aa7b6a2a",
   "metadata": {},
   "outputs": [],
   "source": [
    "class ListQueue:\n",
    "    \"\"\"Implementation of a Queue using List\"\"\"\n",
    "    def __init__(self):\n",
    "        \"\"\"Initialize a ListQueue object\"\"\"\n",
    "        # The queue is empty when created\n",
    "        self.items = [] \n",
    "        self.size = 0\n",
    "    \n",
    "    def enqueue(self, data):\n",
    "        \"\"\"Add an element to the queue\"\"\"\n",
    "        # Always insert items at index 0: O(n) because of shifting\n",
    "        self.items.insert(0, data)\n",
    "        # Increment the size of the queue by 1\n",
    "        self.size += 1\n",
    "    \n",
    "    def dequeue(self):\n",
    "        \"\"\"Remove an element from the queue\"\"\"\n",
    "        # Return None if the list is empty\n",
    "        data = None\n",
    "        # Only do operations if the list is not empty\n",
    "        if self.size > 0: \n",
    "            # Delete the topmost item from the queue\n",
    "            data = self.items.pop()\n",
    "            # Decrement the size of the queue by 1\n",
    "            self.size -= 1\n",
    "        # Return the topmost item from the queue, or None\n",
    "        return data"
   ]
  },
  {
   "cell_type": "markdown",
   "id": "06548485",
   "metadata": {},
   "source": [
    "This implementation is inefficient because:\n",
    "\n",
    "- The `enqueue()`method has to first shift all the elements by one space for each operation\n",
    "- This has a time complexity of `O(n)`\n",
    "- This makes the `enqueue` operation slow for large lists"
   ]
  },
  {
   "cell_type": "markdown",
   "id": "bef76a64",
   "metadata": {},
   "source": [
    "### Implementation 2: 2 Simple Stacks-based Queue"
   ]
  },
  {
   "cell_type": "code",
   "execution_count": 2,
   "id": "ba6b1a69",
   "metadata": {},
   "outputs": [],
   "source": [
    "class StackQueue: \n",
    "    \"\"\"Implementation of a Queue using Stack\"\"\"\n",
    "    def __init__(self): \n",
    "        \"\"\"Initialize a ListQueue object\"\"\"\n",
    "        # Initialize the stacks and the size\n",
    "        self.inbound_stack = []\n",
    "        self.outbound_stack = []\n",
    "        self.size = 0\n",
    "    \n",
    "    def enqueue(self, data):\n",
    "        \"\"\"Add an element to the queue\"\"\"\n",
    "        # Add to the inbound stack\n",
    "        self.inbound_stack.append(data)\n",
    "        # Increase the size\n",
    "        self.size += 1\n",
    "        \n",
    "    def dequeue(self):\n",
    "        \"\"\"Remove an element from the queue\"\"\"\n",
    "        # If the size is 0, then the Queue is empty\n",
    "        if self.size == 0:\n",
    "            return None\n",
    "        # If the outbound_stack is empty, replenish once from the inbound stack in reverse order\n",
    "        if len(self.outbound_stack) == 0: \n",
    "            while self.inbound_stack: \n",
    "                self.outbound_stack.append(self.inbound_stack.pop())\n",
    "        # If the outbound_stack is not empty, get the last item (now in reverse order)\n",
    "        data = self.outbound_stack.pop()\n",
    "        # Decrease the size\n",
    "        self.size -= 1\n",
    "        # Return the data\n",
    "        return data"
   ]
  },
  {
   "cell_type": "markdown",
   "id": "88807fdd",
   "metadata": {},
   "source": [
    "This implementation is better but can still be inefficient\n",
    "\n",
    "- The step of moving from one stack to another can be `O(n)`\n",
    "\n",
    "**Implementing a queue with two stacks is very important and questions about this are often posed during interviews.**\n",
    "\n",
    "- Think of this technique as a man doing backflips:\n",
    "  - Odd number of stack axes (1) will make the order of entry into LIFO: Backflip starting from feet, ending on hands\n",
    "  - Even number of stack axes (2) will flip the order of entry into FIFO: Backflip starting from feet, to hand, to feet again"
   ]
  },
  {
   "cell_type": "markdown",
   "id": "271e8273",
   "metadata": {},
   "source": [
    "### Implementation 3: Node-Based Queue"
   ]
  },
  {
   "cell_type": "markdown",
   "id": "c96a7f47",
   "metadata": {},
   "source": [
    "A queue can be implemented using a doubly-linked list"
   ]
  },
  {
   "cell_type": "code",
   "execution_count": 3,
   "id": "8f8efe59",
   "metadata": {},
   "outputs": [],
   "source": [
    "class NodeTwo:\n",
    "    \"\"\"Implementation of a Two-Direction Node\"\"\"\n",
    "    def __init__(self, data=None, nxt=None, previous=None):\n",
    "        \"\"\"Initialize a Node object\"\"\"\n",
    "        self.data = data\n",
    "        self.next = nxt\n",
    "        self.previous = previous\n",
    "        \n",
    "    def __str__(self):\n",
    "        \"\"\"Return the string representation of a Node\"\"\"\n",
    "        return f\"Node({str(self.data)})\"\n",
    "    \n",
    "    def __repr__(self):\n",
    "        \"\"\"Return the string representation of a Node\"\"\"\n",
    "        return f\"Node({str(self.data)})\""
   ]
  },
  {
   "cell_type": "code",
   "execution_count": 4,
   "id": "134e8754",
   "metadata": {},
   "outputs": [],
   "source": [
    "class LinkedListQueue: \n",
    "    \"\"\"Implementation of a Queue using Doubly-Linked List\"\"\"\n",
    "    def __init__(self): \n",
    "        \"\"\"Initialize a LinkedListQueue object\"\"\"\n",
    "        self.head = None \n",
    "        self.tail = None \n",
    "        self.size = 0\n",
    "\n",
    "    def enqueue(self, data): \n",
    "        \"\"\"Add an element to the queue\"\"\"\n",
    "        # Encapsulate the data into a Node class: Default next is None\n",
    "        new_node = NodeTwo(data, None, None) \n",
    "        # Check if there are already data in the list\n",
    "        if self.head: \n",
    "            # The list is not empty\n",
    "            new_node.prev = self.tail \n",
    "            self.tail.next = new_node \n",
    "            self.tail = new_node \n",
    "        else: \n",
    "            # The list is initially empty\n",
    "            self.head = new_node \n",
    "            self.tail = new_node\n",
    "        # Increase the size of the Queue\n",
    "        self.size += 1\n",
    "\n",
    "    def dequeue(self):\n",
    "        \"\"\"Remove an element from the queue\"\"\"\n",
    "        # Get the first Node\n",
    "        current = self.head \n",
    "        # Check if this is the last Node of the list\n",
    "        if self.size == 1: \n",
    "            self.head = None \n",
    "            self.tail = None \n",
    "        # If not last element, handle the switch of position\n",
    "        else: \n",
    "            self.head = self.head.next \n",
    "            self.head.prev = None \n",
    "        # Decrease the size of the Queue\n",
    "        self.size -= 1\n",
    "        # Return the Node\n",
    "        return current"
   ]
  },
  {
   "cell_type": "markdown",
   "id": "22e1fca3",
   "metadata": {},
   "source": [
    "- Insertion and deletion operations on this data structure has a time complexity of `O(1)`"
   ]
  },
  {
   "cell_type": "markdown",
   "id": "217a981f",
   "metadata": {},
   "source": [
    "## Example of Usage"
   ]
  },
  {
   "cell_type": "markdown",
   "id": "4230ae41",
   "metadata": {},
   "source": [
    "- This is a Media Player Playlist queue\n",
    "- Our media player queue will only allow for the addition of tracks and a way to play all the tracks in the queue\n",
    "- In a full-blown music player, threads would be used to improve how the queue is interacted with\n",
    "- The music player continues to be used to select the next song to be played, paused, or even stopped"
   ]
  },
  {
   "cell_type": "code",
   "execution_count": 5,
   "id": "4eddd6c4",
   "metadata": {},
   "outputs": [],
   "source": [
    "import time \n",
    "from random import randint \n",
    "\n",
    "class MPTrack:\n",
    "    \"\"\"Implementation of a Media Player Track\"\"\"\n",
    "    def __init__(self, title=None): \n",
    "        self.title = title \n",
    "        self.length = randint(1, 5) # length in seconds (for testing)\n",
    "        \n",
    "        \n",
    "class MPPlaylist(LinkedListQueue): # Inherit from Queue class\n",
    "    \"\"\"Implementation of a Media Player Playlist of Tracks queue\"\"\"\n",
    "    def __init__(self): \n",
    "        # Call the init method of LinkedListQueue as subclass MediaPlayerQueue\n",
    "        # super(subClass, instance).method(args)\n",
    "        super(MPPlaylist, self).__init__()\n",
    "        \n",
    "    def add_track(self, track): \n",
    "        \"\"\"Add a track to the MediaPlayerQueue\"\"\"\n",
    "        self.enqueue(track)\n",
    "    \n",
    "    def play(self): \n",
    "        \"\"\"Play a track from the MediaPlayerQueue\"\"\"\n",
    "        while self.size > 0: \n",
    "            current_track_node = self.dequeue()\n",
    "            print(f\"Now playing \\\"{current_track_node.data.title}\\\"\") \n",
    "            # Halt the execution of the loop while song plays\n",
    "            time.sleep(current_track_node.data.length)"
   ]
  },
  {
   "cell_type": "code",
   "execution_count": 6,
   "id": "fc11a7bc",
   "metadata": {},
   "outputs": [
    {
     "name": "stdout",
     "output_type": "stream",
     "text": [
      "1\n",
      "1\n",
      "white whistle\n",
      "butter butter\n"
     ]
    }
   ],
   "source": [
    "track1 = MPTrack(\"white whistle\") \n",
    "track2 = MPTrack(\"butter butter\") \n",
    "print(track1.length) \n",
    "print(track2.length)\n",
    "print(track1.title)\n",
    "print(track2.title)"
   ]
  },
  {
   "cell_type": "code",
   "execution_count": 7,
   "id": "7a852586",
   "metadata": {},
   "outputs": [
    {
     "name": "stdout",
     "output_type": "stream",
     "text": [
      "Now playing \"white whistle\"\n",
      "Now playing \"butter butter\"\n",
      "Now playing \"Oh black star\"\n",
      "Now playing \"Watch that chicken\"\n",
      "Now playing \"Don't go\"\n"
     ]
    }
   ],
   "source": [
    "track1 = MPTrack(\"white whistle\") \n",
    "track2 = MPTrack(\"butter butter\") \n",
    "track3 = MPTrack(\"Oh black star\") \n",
    "track4 = MPTrack(\"Watch that chicken\") \n",
    "track5 = MPTrack(\"Don't go\")\n",
    "\n",
    "media_player = MPPlaylist()\n",
    "\n",
    "media_player.add_track(track1)\n",
    "media_player.add_track(track2)\n",
    "media_player.add_track(track3)\n",
    "media_player.add_track(track4)\n",
    "media_player.add_track(track5)\n",
    "\n",
    "media_player.play()"
   ]
  }
 ],
 "metadata": {
  "hide_input": false,
  "kernelspec": {
   "display_name": "Python 3 (ipykernel)",
   "language": "python",
   "name": "python3"
  },
  "language_info": {
   "codemirror_mode": {
    "name": "ipython",
    "version": 3
   },
   "file_extension": ".py",
   "mimetype": "text/x-python",
   "name": "python",
   "nbconvert_exporter": "python",
   "pygments_lexer": "ipython3",
   "version": "3.9.12"
  },
  "toc": {
   "base_numbering": 1,
   "nav_menu": {},
   "number_sections": true,
   "sideBar": true,
   "skip_h1_title": true,
   "title_cell": "Table of Contents",
   "title_sidebar": "Contents",
   "toc_cell": true,
   "toc_position": {},
   "toc_section_display": true,
   "toc_window_display": true
  },
  "varInspector": {
   "cols": {
    "lenName": 16,
    "lenType": 16,
    "lenVar": 40
   },
   "kernels_config": {
    "python": {
     "delete_cmd_postfix": "",
     "delete_cmd_prefix": "del ",
     "library": "var_list.py",
     "varRefreshCmd": "print(var_dic_list())"
    },
    "r": {
     "delete_cmd_postfix": ") ",
     "delete_cmd_prefix": "rm(",
     "library": "var_list.r",
     "varRefreshCmd": "cat(var_dic_list()) "
    }
   },
   "types_to_exclude": [
    "module",
    "function",
    "builtin_function_or_method",
    "instance",
    "_Feature"
   ],
   "window_display": false
  }
 },
 "nbformat": 4,
 "nbformat_minor": 5
}
