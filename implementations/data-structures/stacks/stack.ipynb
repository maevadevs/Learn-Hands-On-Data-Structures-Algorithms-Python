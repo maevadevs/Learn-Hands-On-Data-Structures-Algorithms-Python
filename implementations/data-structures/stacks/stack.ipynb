{
 "cells": [
  {
   "cell_type": "markdown",
   "id": "707e2700",
   "metadata": {},
   "source": [
    "# Stack"
   ]
  },
  {
   "cell_type": "markdown",
   "id": "81fc49fc",
   "metadata": {
    "toc": true
   },
   "source": [
    "<h1>Table of Contents<span class=\"tocSkip\"></span></h1>\n",
    "<div class=\"toc\"><ul class=\"toc-item\"><li><span><a href=\"#Methods\" data-toc-modified-id=\"Methods-1\"><span class=\"toc-item-num\">1&nbsp;&nbsp;</span>Methods</a></span></li><li><span><a href=\"#Implementation\" data-toc-modified-id=\"Implementation-2\"><span class=\"toc-item-num\">2&nbsp;&nbsp;</span>Implementation</a></span></li><li><span><a href=\"#Example-of-Usage\" data-toc-modified-id=\"Example-of-Usage-3\"><span class=\"toc-item-num\">3&nbsp;&nbsp;</span>Example of Usage</a></span></li></ul></div>"
   ]
  },
  {
   "cell_type": "markdown",
   "id": "2e15107a",
   "metadata": {},
   "source": [
    "- Data structure that stores data similar to a stack of plates\n",
    "- To get the next plate, you get it from the top (the last one that was put on the stack)\n",
    "- To add a new plate, you put it on the top (the new one)\n",
    "- Stack is a **Last-In, First-Out (LIFO)** structure\n",
    "- Stack is used for function calls: *Callstack*\n",
    "  - Recursion is only possible thanks to the Callstack\n",
    "  - Recursion is a special case of Callstack where we call the same function over and over"
   ]
  },
  {
   "cell_type": "markdown",
   "id": "4b449e64",
   "metadata": {},
   "source": [
    "## Methods"
   ]
  },
  {
   "cell_type": "markdown",
   "id": "ead9a78c",
   "metadata": {},
   "source": [
    "- `CircularLinkedList()`: Constructor\n",
    "- `push(el)` - Add a new element unto the stack\n",
    "- `pop()` - Remove an element from the stack\n",
    "- `peek()` - See the element on top of the stack without popping it"
   ]
  },
  {
   "cell_type": "markdown",
   "id": "7dca7c4b",
   "metadata": {},
   "source": [
    "## Implementation"
   ]
  },
  {
   "cell_type": "markdown",
   "id": "e1d50b4f",
   "metadata": {},
   "source": [
    "We are using `Node` class for the implementation"
   ]
  },
  {
   "cell_type": "code",
   "execution_count": 1,
   "id": "9e719919",
   "metadata": {},
   "outputs": [],
   "source": [
    "class Node:\n",
    "    \"\"\"Implementation of a One-Direction Node\"\"\"\n",
    "    \n",
    "    def __init__(self, data=None):\n",
    "        \"\"\"Initialize a Node object\"\"\"\n",
    "        self.data = data\n",
    "        self.next = None\n",
    "        \n",
    "    def __str__(self):\n",
    "        \"\"\"Return the string representation of a Node\"\"\"\n",
    "        return f\"Node({str(self.data)})\"\n",
    "    \n",
    "    def __repr__(self):\n",
    "        \"\"\"Return the string representation of a Node\"\"\"\n",
    "        return f\"Node({str(self.data)})\""
   ]
  },
  {
   "cell_type": "markdown",
   "id": "5905c160",
   "metadata": {},
   "source": [
    "Now, we can implement a Stack"
   ]
  },
  {
   "cell_type": "code",
   "execution_count": 2,
   "id": "cd95bdb4",
   "metadata": {},
   "outputs": [],
   "source": [
    "class Stack:\n",
    "    \"\"\"Implementation of a Stack\"\"\"\n",
    "    \n",
    "    def __init__(self):\n",
    "        \"\"\"Initialize a Stack object\"\"\"\n",
    "        self.top = None\n",
    "        self.size = 0\n",
    "    \n",
    "    def push(self, data):\n",
    "        \"\"\"Add a new Node on top of the Stack\"\"\"\n",
    "        new_node = Node(data)\n",
    "        # Check if the stack is not empty\n",
    "        if self.top:\n",
    "            # Set the \"next\" of the new_node as the current top node\n",
    "            new_node.next = self.top\n",
    "        # Set new_node as top and increase stack size\n",
    "        self.top = new_node\n",
    "        self.size += 1\n",
    "    \n",
    "    def pop(self):\n",
    "        \"\"\"Remove and return the Node on top of the Stack\"\"\"\n",
    "        # Check if the stack is not empty\n",
    "        if self.top:\n",
    "            # Save the data to return\n",
    "            data_to_return = self.top.data\n",
    "            # Check if there are more element after this one\n",
    "            if self.top.next:\n",
    "                # Point self.top to the next element\n",
    "                self.top = self.top.next\n",
    "            else:\n",
    "                # There are no more element on the stack\n",
    "                self.top = None\n",
    "            # Decrease the size\n",
    "            self.size -= 1\n",
    "            # Return the poped element\n",
    "            return data_to_return\n",
    "        # If here, then the stack is empty\n",
    "        return None\n",
    "    \n",
    "    def peek(self):\n",
    "        \"\"\"Check the Node on top of the Stack\"\"\"\n",
    "        # Check if the stack is not empty\n",
    "        if self.top:\n",
    "            # Return its data\n",
    "            return self.top.data\n",
    "        # If here, then the stack is empty\n",
    "        return None"
   ]
  },
  {
   "cell_type": "markdown",
   "id": "1d438289",
   "metadata": {},
   "source": [
    "## Example of Usage"
   ]
  },
  {
   "cell_type": "code",
   "execution_count": 3,
   "id": "c132c5d5",
   "metadata": {},
   "outputs": [],
   "source": [
    "def is_balanced_brackets(statement=''): \n",
    "    \"\"\"Check brackets in a string and validate if they all have their matches\"\"\"\n",
    "    # Apply string cleaning on statement\n",
    "    statement = statement.strip()\n",
    "    # Shortcut for empty statement\n",
    "    if len(statement.strip()) == 0:\n",
    "        return False\n",
    "    # New stack for brackets\n",
    "    stack = Stack() \n",
    "    # Start looping through statement\n",
    "    for char in statement: \n",
    "        # For opening brackets, push to the stack\n",
    "        if char in ('{', '[', '('): \n",
    "            stack.push(char)\n",
    "        # For closing brackets, pop from the stack and compare\n",
    "        if char in ('}', ']', ')'): \n",
    "            last = stack.pop() \n",
    "            # Make sure to match\n",
    "            if last == '{' and char == '}': \n",
    "                continue\n",
    "            elif last == '[' and char == ']':\n",
    "                continue \n",
    "            elif last == '(' and char == ')':\n",
    "                continue \n",
    "            else:\n",
    "                # If no match, then break and return early\n",
    "                return False\n",
    "    # If here and the stack is not empty, no match\n",
    "    if stack.size > 0: \n",
    "        return False \n",
    "    # If still here, then all brackets have their match\n",
    "    return True"
   ]
  },
  {
   "cell_type": "code",
   "execution_count": 4,
   "id": "78d74780",
   "metadata": {},
   "outputs": [
    {
     "name": "stdout",
     "output_type": "stream",
     "text": [
      "{(foo)(bar)}[hello](((this)is)a)test: True\n",
      "{(foo)(bar)}[hello](((this)is)atest: False\n",
      "{(foo)(bar)}[hello](((this)is)a)test)): False\n"
     ]
    }
   ],
   "source": [
    "strings = ( \n",
    "    \"{(foo)(bar)}[hello](((this)is)a)test\",\n",
    "    \"{(foo)(bar)}[hello](((this)is)atest\", \n",
    "    \"{(foo)(bar)}[hello](((this)is)a)test))\" \n",
    ")\n",
    "for st in strings: \n",
    "    print(f\"{st}: {is_balanced_brackets(st)}\")"
   ]
  }
 ],
 "metadata": {
  "hide_input": false,
  "kernelspec": {
   "display_name": "Python 3 (ipykernel)",
   "language": "python",
   "name": "python3"
  },
  "language_info": {
   "codemirror_mode": {
    "name": "ipython",
    "version": 3
   },
   "file_extension": ".py",
   "mimetype": "text/x-python",
   "name": "python",
   "nbconvert_exporter": "python",
   "pygments_lexer": "ipython3",
   "version": "3.9.12"
  },
  "toc": {
   "base_numbering": 1,
   "nav_menu": {},
   "number_sections": true,
   "sideBar": true,
   "skip_h1_title": true,
   "title_cell": "Table of Contents",
   "title_sidebar": "Contents",
   "toc_cell": true,
   "toc_position": {},
   "toc_section_display": true,
   "toc_window_display": true
  },
  "varInspector": {
   "cols": {
    "lenName": 16,
    "lenType": 16,
    "lenVar": 40
   },
   "kernels_config": {
    "python": {
     "delete_cmd_postfix": "",
     "delete_cmd_prefix": "del ",
     "library": "var_list.py",
     "varRefreshCmd": "print(var_dic_list())"
    },
    "r": {
     "delete_cmd_postfix": ") ",
     "delete_cmd_prefix": "rm(",
     "library": "var_list.r",
     "varRefreshCmd": "cat(var_dic_list()) "
    }
   },
   "types_to_exclude": [
    "module",
    "function",
    "builtin_function_or_method",
    "instance",
    "_Feature"
   ],
   "window_display": false
  }
 },
 "nbformat": 4,
 "nbformat_minor": 5
}
