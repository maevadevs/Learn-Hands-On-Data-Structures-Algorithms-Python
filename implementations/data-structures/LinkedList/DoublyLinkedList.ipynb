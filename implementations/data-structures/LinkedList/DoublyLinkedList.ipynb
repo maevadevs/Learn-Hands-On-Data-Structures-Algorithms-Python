{
 "cells": [
  {
   "cell_type": "markdown",
   "metadata": {
    "toc": true
   },
   "source": [
    "<h1>Table of Contents<span class=\"tocSkip\"></span></h1>\n",
    "<div class=\"toc\"><ul class=\"toc-item\"><li><span><a href=\"#Methods\" data-toc-modified-id=\"Methods-1\"><span class=\"toc-item-num\">1&nbsp;&nbsp;</span>Methods</a></span></li><li><span><a href=\"#Implementation\" data-toc-modified-id=\"Implementation-2\"><span class=\"toc-item-num\">2&nbsp;&nbsp;</span>Implementation</a></span></li><li><span><a href=\"#Example-of-Usage\" data-toc-modified-id=\"Example-of-Usage-3\"><span class=\"toc-item-num\">3&nbsp;&nbsp;</span>Example of Usage</a></span><ul class=\"toc-item\"><li><span><a href=\"#Instantiation\" data-toc-modified-id=\"Instantiation-3.1\"><span class=\"toc-item-num\">3.1&nbsp;&nbsp;</span>Instantiation</a></span></li><li><span><a href=\"#String-Representation\" data-toc-modified-id=\"String-Representation-3.2\"><span class=\"toc-item-num\">3.2&nbsp;&nbsp;</span>String Representation</a></span></li><li><span><a href=\"#Length-of-the-List\" data-toc-modified-id=\"Length-of-the-List-3.3\"><span class=\"toc-item-num\">3.3&nbsp;&nbsp;</span>Length of the List</a></span></li><li><span><a href=\"#Appending-An-Element\" data-toc-modified-id=\"Appending-An-Element-3.4\"><span class=\"toc-item-num\">3.4&nbsp;&nbsp;</span>Appending An Element</a></span></li><li><span><a href=\"#Iteration-over-Elements\" data-toc-modified-id=\"Iteration-over-Elements-3.5\"><span class=\"toc-item-num\">3.5&nbsp;&nbsp;</span>Iteration over Elements</a></span></li><li><span><a href=\"#Membership-Checking\" data-toc-modified-id=\"Membership-Checking-3.6\"><span class=\"toc-item-num\">3.6&nbsp;&nbsp;</span>Membership Checking</a></span></li><li><span><a href=\"#Membership-Deletion\" data-toc-modified-id=\"Membership-Deletion-3.7\"><span class=\"toc-item-num\">3.7&nbsp;&nbsp;</span>Membership Deletion</a></span></li><li><span><a href=\"#Membership-Clearing\" data-toc-modified-id=\"Membership-Clearing-3.8\"><span class=\"toc-item-num\">3.8&nbsp;&nbsp;</span>Membership Clearing</a></span></li></ul></li></ul></div>"
   ]
  },
  {
   "cell_type": "markdown",
   "metadata": {},
   "source": [
    "# `DoublyLinkedList`"
   ]
  },
  {
   "cell_type": "markdown",
   "metadata": {},
   "source": [
    "- A *Doubly Linked List* has only two pointers for each nodes:\n",
    "  - `prev` points to the previous node\n",
    "  - `next` points to the next node\n",
    "- A *Doubly Linked List* can be traversed in any direction: first-to-last or last-to-first"
   ]
  },
  {
   "cell_type": "markdown",
   "metadata": {},
   "source": [
    "**About Linked Lists**:\n",
    "- A *Linked List* is a way to store a collection of elements\n",
    "- Each element in a *Linked List* is stored in the form of a *Node*\n",
    "- A *Node* is a collection of 2 sub-elements or parts:\n",
    "  - A *data* part that stores the element\n",
    "  - A *next* part that stores the link reference to the next node\n",
    "- A Linked List is formed when many nodes are linked together to form a chain\n",
    "- Each node points to the next node present in the order\n",
    "- The first node is always used as a reference to traverse the list and is called *HEAD*\n",
    "- The last node, the *TAIL*, terminates the list and points its `next` to `NONE`\n",
    "- Linked Lists are implemented using Pointer Structures"
   ]
  },
  {
   "cell_type": "markdown",
   "metadata": {},
   "source": [
    "## Methods"
   ]
  },
  {
   "cell_type": "markdown",
   "metadata": {},
   "source": [
    "- `DoublyLinkedList()`: Constructor\n",
    "- `print(sll)`: Get the string representation of the list\n",
    "- `len(sll)`: Get the length of the list\n",
    "- `for el in sll`: Iterate through the elements of the list\n",
    "- `sll.append(el)`: Append an element to the list\n",
    "- `sll.contains(el)`: Check if the list contains an element\n",
    "- `sll.delete(el)`: Delete an element from the list\n",
    "- `sll.clear()`: Clear the list"
   ]
  },
  {
   "cell_type": "markdown",
   "metadata": {},
   "source": [
    "## Implementation"
   ]
  },
  {
   "cell_type": "markdown",
   "metadata": {},
   "source": [
    "We are using `Node` class for the implementation"
   ]
  },
  {
   "cell_type": "code",
   "execution_count": 1,
   "metadata": {},
   "outputs": [],
   "source": [
    "# A simple Node implementation for Doubly-Linked List\n",
    "class Node:\n",
    "    def __init__ (self, data=None, nxt=None, prev=None):\n",
    "        self.data = data\n",
    "        self.next = nxt \n",
    "        self.prev = prev\n",
    "    \n",
    "    def __str__(self):\n",
    "        return str(self.data)"
   ]
  },
  {
   "cell_type": "markdown",
   "metadata": {},
   "source": [
    "Now, we can implement a Doubly Linked List"
   ]
  },
  {
   "cell_type": "code",
   "execution_count": 2,
   "metadata": {},
   "outputs": [],
   "source": [
    "class DoublyLinkedList:\n",
    "    def __init__(self): \n",
    "        self.head = None  # Ref to the very first node in the list\n",
    "        self.tail = None  # Ref to the very last node in the list\n",
    "        self.length = 0  # Ref to the current length of the list\n",
    "        \n",
    "    def __str__(self):\n",
    "        return \"DoublyLinkedList(\" + str(self.length) + \")\"\n",
    "    \n",
    "    def __len__(self):\n",
    "        return self.length\n",
    "    \n",
    "    def __iter__(self):\n",
    "        current = self.head\n",
    "        while current:\n",
    "            value = current.data\n",
    "            current = current.next\n",
    "            yield value # Make into a generator\n",
    "    \n",
    "    def append(self, data):\n",
    "        new_node = Node(data)\n",
    "        \n",
    "        if self.head == None:\n",
    "            # The list is initially empty\n",
    "            self.head = new_node\n",
    "            self.tail = new_node\n",
    "            self.length += 1\n",
    "        else:\n",
    "            # List is not empty: Transfer the last tail node's data\n",
    "            new_node.prev = self.tail\n",
    "            self.tail.next = new_node\n",
    "            # Make the new_node to be the tail\n",
    "            self.tail = new_node\n",
    "            self.length += 1\n",
    "     \n",
    "    def contains(self, data):\n",
    "        for node in self.__iter__():\n",
    "            if data == node:\n",
    "                return True \n",
    "        return False\n",
    "    \n",
    "    def delete(self, data):\n",
    "        current = self.head \n",
    "        node_deleted = False \n",
    "\n",
    "        if current is None:\n",
    "            # Item to be deleted is not found in the list\n",
    "            node_deleted = False\n",
    "        elif current.data == data:\n",
    "            # Item to be deleted is found at head of list\n",
    "            self.head = current.next  \n",
    "            self.head.prev = None \n",
    "            node_deleted = True \n",
    "        elif self.tail.data == data:\n",
    "            # Item to be deleted is found at the tail of list\n",
    "            self.tail = self.tail.prev  \n",
    "            self.tail.next = None \n",
    "            node_deleted = True\n",
    "        else: \n",
    "            # Search item to be deleted, and delete that node\n",
    "            while current:\n",
    "                if current.data == data: \n",
    "                    current.prev.next = current.next # Set the previous node's next to the next node\n",
    "                    current.next.prev = current.prev # Set the next node's previous to the previous node\n",
    "                    node_deleted = True # Node has been deleted\n",
    "                    break # Break out of the loop as early as possible\n",
    "                current = current.next \n",
    "\n",
    "        # Finally, update the length\n",
    "        if node_deleted: \n",
    "            self.length -= 1\n",
    "            print('\"{}\" has been deleted'.format(data))\n",
    "            return\n",
    "\n",
    "        # If here, then node_delete == False\n",
    "        print('\"{}\" was not found'.format(data))\n",
    "        return\n",
    "\n",
    "    def clear(self):\n",
    "        self.tail = None\n",
    "        self.head = None\n",
    "        self.length = 0"
   ]
  },
  {
   "cell_type": "markdown",
   "metadata": {},
   "source": [
    "## Example of Usage"
   ]
  },
  {
   "cell_type": "markdown",
   "metadata": {},
   "source": [
    "### Instantiation"
   ]
  },
  {
   "cell_type": "code",
   "execution_count": 3,
   "metadata": {},
   "outputs": [],
   "source": [
    "fruits = DoublyLinkedList()"
   ]
  },
  {
   "cell_type": "markdown",
   "metadata": {},
   "source": [
    "### String Representation"
   ]
  },
  {
   "cell_type": "code",
   "execution_count": 4,
   "metadata": {},
   "outputs": [
    {
     "name": "stdout",
     "output_type": "stream",
     "text": [
      "DoublyLinkedList(0)\n"
     ]
    }
   ],
   "source": [
    "print(fruits)"
   ]
  },
  {
   "cell_type": "markdown",
   "metadata": {},
   "source": [
    "### Length of the List"
   ]
  },
  {
   "cell_type": "code",
   "execution_count": 5,
   "metadata": {},
   "outputs": [
    {
     "name": "stdout",
     "output_type": "stream",
     "text": [
      "Length of 'fruits': 0\n"
     ]
    }
   ],
   "source": [
    "print(\"Length of 'fruits':\", len(fruits))"
   ]
  },
  {
   "cell_type": "markdown",
   "metadata": {},
   "source": [
    "### Appending An Element"
   ]
  },
  {
   "cell_type": "code",
   "execution_count": 6,
   "metadata": {},
   "outputs": [],
   "source": [
    "fruits.append('Apple')\n",
    "fruits.append('Banana')\n",
    "fruits.append('Cranberries')\n",
    "fruits.append('Date')\n",
    "fruits.append('Elderberry')"
   ]
  },
  {
   "cell_type": "markdown",
   "metadata": {},
   "source": [
    "### Iteration over Elements"
   ]
  },
  {
   "cell_type": "code",
   "execution_count": 7,
   "metadata": {},
   "outputs": [
    {
     "name": "stdout",
     "output_type": "stream",
     "text": [
      "Apple\n",
      "Banana\n",
      "Cranberries\n",
      "Date\n",
      "Elderberry\n"
     ]
    }
   ],
   "source": [
    "for f in fruits:\n",
    "    print(f)"
   ]
  },
  {
   "cell_type": "markdown",
   "metadata": {},
   "source": [
    "### Membership Checking"
   ]
  },
  {
   "cell_type": "code",
   "execution_count": 8,
   "metadata": {},
   "outputs": [
    {
     "name": "stdout",
     "output_type": "stream",
     "text": [
      "True\n",
      "False\n"
     ]
    }
   ],
   "source": [
    "print(fruits.contains('Date'))\n",
    "print(fruits.contains('Strawberry'))"
   ]
  },
  {
   "cell_type": "markdown",
   "metadata": {},
   "source": [
    "### Membership Deletion"
   ]
  },
  {
   "cell_type": "code",
   "execution_count": 9,
   "metadata": {},
   "outputs": [
    {
     "name": "stdout",
     "output_type": "stream",
     "text": [
      "\"Date\" has been deleted\n",
      "DoublyLinkedList(4)\n"
     ]
    }
   ],
   "source": [
    "fruits.delete('Date')\n",
    "print(fruits)"
   ]
  },
  {
   "cell_type": "markdown",
   "metadata": {},
   "source": [
    "### Membership Clearing"
   ]
  },
  {
   "cell_type": "code",
   "execution_count": 10,
   "metadata": {
    "scrolled": true
   },
   "outputs": [
    {
     "name": "stdout",
     "output_type": "stream",
     "text": [
      "DoublyLinkedList(0)\n"
     ]
    }
   ],
   "source": [
    "fruits.clear()\n",
    "print(fruits)"
   ]
  }
 ],
 "metadata": {
  "kernelspec": {
   "display_name": "Python 3",
   "language": "python",
   "name": "python3"
  },
  "language_info": {
   "codemirror_mode": {
    "name": "ipython",
    "version": 3
   },
   "file_extension": ".py",
   "mimetype": "text/x-python",
   "name": "python",
   "nbconvert_exporter": "python",
   "pygments_lexer": "ipython3",
   "version": "3.7.6"
  },
  "toc": {
   "base_numbering": 1,
   "nav_menu": {},
   "number_sections": true,
   "sideBar": true,
   "skip_h1_title": true,
   "title_cell": "Table of Contents",
   "title_sidebar": "Contents",
   "toc_cell": true,
   "toc_position": {},
   "toc_section_display": true,
   "toc_window_display": true
  }
 },
 "nbformat": 4,
 "nbformat_minor": 4
}
