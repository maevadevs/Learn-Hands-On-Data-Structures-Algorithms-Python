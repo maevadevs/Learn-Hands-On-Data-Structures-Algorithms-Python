{
 "cells": [
  {
   "cell_type": "markdown",
   "metadata": {
    "toc": true
   },
   "source": [
    "<h1>Table of Contents<span class=\"tocSkip\"></span></h1>\n",
    "<div class=\"toc\"><ul class=\"toc-item\"><li><span><a href=\"#Implementations\" data-toc-modified-id=\"Implementations-1\"><span class=\"toc-item-num\">1&nbsp;&nbsp;</span>Implementations</a></span><ul class=\"toc-item\"><li><span><a href=\"#A-One-Direction-Node\" data-toc-modified-id=\"A-One-Direction-Node-1.1\"><span class=\"toc-item-num\">1.1&nbsp;&nbsp;</span>A One-Direction Node</a></span></li><li><span><a href=\"#A-Two-Directions-Node\" data-toc-modified-id=\"A-Two-Directions-Node-1.2\"><span class=\"toc-item-num\">1.2&nbsp;&nbsp;</span>A Two-Directions Node</a></span></li></ul></li></ul></div>"
   ]
  },
  {
   "cell_type": "markdown",
   "metadata": {},
   "source": [
    "# `Node`"
   ]
  },
  {
   "cell_type": "markdown",
   "metadata": {},
   "source": [
    "- Foundation of data structures with pointers\n",
    "- A container of data, together with one or more *links* to other nodes\n",
    "- A *link* is a pointer\n",
    "- At the heart of pointer structures (lists) is the concept of nodes"
   ]
  },
  {
   "cell_type": "code",
   "execution_count": 1,
   "metadata": {},
   "outputs": [],
   "source": [
    "# 3 variables with unique names, types, and values\n",
    "a = 'egg'\n",
    "b = 'ham'\n",
    "c = 'spam'\n",
    "ls = [a, b, c] # A pointer structure that uses node"
   ]
  },
  {
   "cell_type": "markdown",
   "metadata": {},
   "source": [
    "- Right now, we cannot show the relationships between those variables\n",
    "- Using nodes, we can show those relationships\n",
    "- A simple type of node: One that only has a link to the next node\n",
    "- **The string is *not* stored in the node, but there is a pointer to the actual string**\n",
    "- The requirement for this simple node is 2 memory addresses:\n",
    "  - The actual string value is stored in memory: `data` is a pointer to that memory address\n",
    "  - The next node is also stored in memory: `next` is a pointer to that memory address"
   ]
  },
  {
   "cell_type": "markdown",
   "metadata": {},
   "source": [
    "```\n",
    "    ---------                                             ---------\n",
    "    | 'egg' | actual string in memory                     | 'ham' | actual string in memory\n",
    "    ---------                                             ---------\n",
    "        ^                                                     ^\n",
    "        | Pointer                                             | Pointer\n",
    "        |                                                     |\n",
    "--------|--------                                     --------|--------\n",
    "|  -----|----   | Node (Container) in mem             |  -----|----   | Node (Container) in mem\n",
    "|  | data:a |   |                                     |  | data:b |   |\n",
    "|  ----------   |                                     |  ----------   |\n",
    "|  ----------   |            link:pointer             |  ----------   |\n",
    "|  |  next  |---------------------------------------->|  |  next  |   |\n",
    "|  ----------   |                                     |  ----------   |\n",
    "-----------------                                     -----------------\n",
    "```"
   ]
  },
  {
   "cell_type": "markdown",
   "metadata": {},
   "source": [
    "## Implementations"
   ]
  },
  {
   "cell_type": "markdown",
   "metadata": {},
   "source": [
    "### A One-Direction Node"
   ]
  },
  {
   "cell_type": "code",
   "execution_count": 2,
   "metadata": {},
   "outputs": [],
   "source": [
    "class NodeOne:\n",
    "    \"\"\"A simple One-Direction Node implementation\"\"\"\n",
    "    \n",
    "    def __init__(self, data=None):\n",
    "        \"\"\"Initialize a Node object\"\"\"\n",
    "        self.data = data\n",
    "        self.next = None\n",
    "        \n",
    "        \n",
    "    def __str__(self):\n",
    "        \"\"\"Return the string representation of the contained data\"\"\"\n",
    "        return str(self.data)"
   ]
  },
  {
   "cell_type": "markdown",
   "metadata": {},
   "source": [
    "### A Two-Directions Node"
   ]
  },
  {
   "cell_type": "code",
   "execution_count": 3,
   "metadata": {},
   "outputs": [],
   "source": [
    "class NodeTwo:\n",
    "    \"\"\"A simple Two-Direction Node implementation\"\"\"\n",
    "    \n",
    "    def __init__(self, data=None):\n",
    "        \"\"\"Initialize a Node object\"\"\"\n",
    "        self.data = data\n",
    "        self.next = None\n",
    "        self.previous = None\n",
    "        \n",
    "        \n",
    "    def __str__(self):\n",
    "        \"\"\"Return the string representation of the contained data\"\"\"\n",
    "        return str(self.data)"
   ]
  }
 ],
 "metadata": {
  "kernelspec": {
   "display_name": "Python 3",
   "language": "python",
   "name": "python3"
  },
  "language_info": {
   "codemirror_mode": {
    "name": "ipython",
    "version": 3
   },
   "file_extension": ".py",
   "mimetype": "text/x-python",
   "name": "python",
   "nbconvert_exporter": "python",
   "pygments_lexer": "ipython3",
   "version": "3.8.3"
  },
  "toc": {
   "base_numbering": 1,
   "nav_menu": {},
   "number_sections": true,
   "sideBar": true,
   "skip_h1_title": true,
   "title_cell": "Table of Contents",
   "title_sidebar": "Contents",
   "toc_cell": true,
   "toc_position": {},
   "toc_section_display": true,
   "toc_window_display": true
  }
 },
 "nbformat": 4,
 "nbformat_minor": 4
}
