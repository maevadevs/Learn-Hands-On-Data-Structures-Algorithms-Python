{
 "cells": [
  {
   "cell_type": "markdown",
   "metadata": {},
   "source": [
    "# Node"
   ]
  },
  {
   "cell_type": "markdown",
   "metadata": {
    "toc": true
   },
   "source": [
    "<h1>Table of Contents<span class=\"tocSkip\"></span></h1>\n",
    "<div class=\"toc\"><ul class=\"toc-item\"><li><span><a href=\"#Implementations\" data-toc-modified-id=\"Implementations-1\"><span class=\"toc-item-num\">1&nbsp;&nbsp;</span>Implementations</a></span><ul class=\"toc-item\"><li><span><a href=\"#A-One-Direction-Node\" data-toc-modified-id=\"A-One-Direction-Node-1.1\"><span class=\"toc-item-num\">1.1&nbsp;&nbsp;</span>A One-Direction Node</a></span></li><li><span><a href=\"#A-Two-Directions-Node\" data-toc-modified-id=\"A-Two-Directions-Node-1.2\"><span class=\"toc-item-num\">1.2&nbsp;&nbsp;</span>A Two-Directions Node</a></span></li></ul></li></ul></div>"
   ]
  },
  {
   "cell_type": "markdown",
   "metadata": {},
   "source": [
    "- **This is the Heart of data structures with pointers (e.g. List)**\n",
    "- A container of data, together with one or more *links* to other nodes\n",
    "- Allows to link data to each other\n",
    "- **A *link* is a pointer**"
   ]
  },
  {
   "cell_type": "code",
   "execution_count": 1,
   "metadata": {},
   "outputs": [
    {
     "name": "stdout",
     "output_type": "stream",
     "text": [
      "['egg', 'ham', 'spam']\n"
     ]
    }
   ],
   "source": [
    "# 3 variables with unique names, types, and values\n",
    "var_a = 'egg'\n",
    "var_b = 'ham'\n",
    "var_c = 'spam'\n",
    "ls = [var_a, var_b, var_c] # A pointer structure that uses node\n",
    "print(ls)"
   ]
  },
  {
   "cell_type": "markdown",
   "metadata": {},
   "source": [
    "- Right now, we cannot show the relationships between those variables\n",
    "- Using nodes, we can show those relationships\n",
    "- A simple type of node is one that only has a link to the next node\n",
    "- **The string is actually *not* stored in the node, but there is a pointer to the actual string value stored in memory**\n",
    "- The requirement for this simple node is 2 memory addresses:\n",
    "  - The actual string value is stored in memory: `data` is a pointer to that memory address\n",
    "  - The next node is also stored in memory: `next` is a pointer to that memory address"
   ]
  },
  {
   "cell_type": "markdown",
   "metadata": {},
   "source": [
    "```\n",
    "         _________                                  _________\n",
    "         | \"egg\" |  Actual string in memory         | \"ham\" |  Actual string in memory\n",
    "         ‾‾‾‾‾‾‾‾‾                                  ‾‾‾‾‾‾‾‾‾\n",
    "             ^                                          ^\n",
    "             | Pointer                                  | Pointer\n",
    "             |                                          |\n",
    "     ________|_______                           ________|_______\n",
    "     |  _____|____  |                           |  _____|____  |\n",
    "     |  | data:a |  |                           |  | data:b |  |\n",
    "     |  ‾‾‾‾‾‾‾‾‾‾  |                           |  ‾‾‾‾‾‾‾‾‾‾  |\n",
    "     |  __________  |      Link/Pointer         |  __________  |\n",
    "     |  |  next  |--|-------------------------->|  |  next  |  |\n",
    "     |  ‾‾‾‾‾‾‾‾‾‾  |                           |  ‾‾‾‾‾‾‾‾‾‾  |\n",
    "     ‾‾‾‾‾‾‾‾‾‾‾‾‾‾‾‾                           ‾‾‾‾‾‾‾‾‾‾‾‾‾‾‾‾\n",
    "Node (Container) in memory                 Node (Container) in memory\n",
    "```"
   ]
  },
  {
   "cell_type": "markdown",
   "metadata": {},
   "source": [
    "## Implementations"
   ]
  },
  {
   "cell_type": "markdown",
   "metadata": {},
   "source": [
    "### A One-Direction Node"
   ]
  },
  {
   "cell_type": "code",
   "execution_count": 2,
   "metadata": {},
   "outputs": [],
   "source": [
    "class Node:\n",
    "    \"\"\"Implementation of a One-Direction Node\"\"\"\n",
    "    \n",
    "    def __init__(self, data=None):\n",
    "        \"\"\"Initialize a Node object\"\"\"\n",
    "        self.data = data\n",
    "        self.next = None\n",
    "        \n",
    "    def __str__(self):\n",
    "        \"\"\"Return the string representation of a Node\"\"\"\n",
    "        return f\"Node({str(self.data)})\"\n",
    "    \n",
    "    def __repr__(self):\n",
    "        \"\"\"Return the string representation of a Node\"\"\"\n",
    "        return f\"Node({str(self.data)})\""
   ]
  },
  {
   "cell_type": "markdown",
   "metadata": {},
   "source": [
    "### A Two-Directions Node"
   ]
  },
  {
   "cell_type": "code",
   "execution_count": 3,
   "metadata": {},
   "outputs": [],
   "source": [
    "class NodeTwo:\n",
    "    \"\"\"Implementation of a Two-Direction Node\"\"\"\n",
    "    \n",
    "    def __init__(self, data=None):\n",
    "        \"\"\"Initialize a Node object\"\"\"\n",
    "        self.data = data\n",
    "        self.next = None\n",
    "        self.previous = None\n",
    "        \n",
    "    def __str__(self):\n",
    "        \"\"\"Return the string representation of a Node\"\"\"\n",
    "        return f\"Node({str(self.data)})\"\n",
    "    \n",
    "    def __repr__(self):\n",
    "        \"\"\"Return the string representation of a Node\"\"\"\n",
    "        return f\"Node({str(self.data)})\""
   ]
  }
 ],
 "metadata": {
  "hide_input": false,
  "kernelspec": {
   "display_name": "Python 3 (ipykernel)",
   "language": "python",
   "name": "python3"
  },
  "language_info": {
   "codemirror_mode": {
    "name": "ipython",
    "version": 3
   },
   "file_extension": ".py",
   "mimetype": "text/x-python",
   "name": "python",
   "nbconvert_exporter": "python",
   "pygments_lexer": "ipython3",
   "version": "3.9.12"
  },
  "toc": {
   "base_numbering": 1,
   "nav_menu": {},
   "number_sections": true,
   "sideBar": true,
   "skip_h1_title": true,
   "title_cell": "Table of Contents",
   "title_sidebar": "Contents",
   "toc_cell": true,
   "toc_position": {},
   "toc_section_display": true,
   "toc_window_display": true
  },
  "varInspector": {
   "cols": {
    "lenName": 16,
    "lenType": 16,
    "lenVar": 40
   },
   "kernels_config": {
    "python": {
     "delete_cmd_postfix": "",
     "delete_cmd_prefix": "del ",
     "library": "var_list.py",
     "varRefreshCmd": "print(var_dic_list())"
    },
    "r": {
     "delete_cmd_postfix": ") ",
     "delete_cmd_prefix": "rm(",
     "library": "var_list.r",
     "varRefreshCmd": "cat(var_dic_list()) "
    }
   },
   "types_to_exclude": [
    "module",
    "function",
    "builtin_function_or_method",
    "instance",
    "_Feature"
   ],
   "window_display": false
  }
 },
 "nbformat": 4,
 "nbformat_minor": 4
}
