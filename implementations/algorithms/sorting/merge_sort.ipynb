{
 "cells": [
  {
   "cell_type": "markdown",
   "metadata": {},
   "source": [
    "# `mergesort`"
   ]
  },
  {
   "cell_type": "markdown",
   "metadata": {},
   "source": [
    "- **Category: *Divide And Conquer Sorting, Recurrence***\n",
    "- Sort a list by dividing and breaking the list down to single elements and recursively putting them back together"
   ]
  },
  {
   "cell_type": "markdown",
   "metadata": {},
   "source": [
    "## Best Case Scenario"
   ]
  },
  {
   "cell_type": "markdown",
   "metadata": {},
   "source": [
    "\\begin{equation*}\n",
    "O(n log(n))\n",
    "\\end{equation*}"
   ]
  },
  {
   "cell_type": "markdown",
   "metadata": {},
   "source": [
    "## Worst-Case Scenario"
   ]
  },
  {
   "cell_type": "markdown",
   "metadata": {},
   "source": [
    "\\begin{equation*}\n",
    "O(n log(n))\n",
    "\\end{equation*}"
   ]
  },
  {
   "cell_type": "markdown",
   "metadata": {},
   "source": [
    "## Process / Pseudo-Code"
   ]
  },
  {
   "cell_type": "markdown",
   "metadata": {},
   "source": [
    "```\n",
    "merge_sort(list):\n",
    "    If lenght of list == 1, list is already sorted:\n",
    "        return list\n",
    "    \n",
    "    If length of list > 1, split the list:\n",
    "        middle = length(list) // 2\n",
    "        left = half-left of list from m\n",
    "        right = half-right of list from m\n",
    "    \n",
    "    Call mergeSort for first half:   \n",
    "        mergeSort(left)\n",
    "\n",
    "    Call mergeSort for second half:\n",
    "        mergeSort(right)\n",
    "\n",
    "    Merge the two halves sorted:\n",
    "        merge(left, right, list)\n",
    "\n",
    "\n",
    "merge(left, right, list):\n",
    "    i = j = k = 0\n",
    "    \n",
    "    while there are elements in left and elements in right:\n",
    "        compare left[i] from left to right[j] from right:\n",
    "            if left[i] < right[j]:\n",
    "                1. Put list[k] = left[i]\n",
    "                2. Increase i and k and compare again\n",
    "            if left[i] > right[j]:\n",
    "                1. Put list[k] = right[j]\n",
    "                2. Increase j and k and compare again\n",
    "\n",
    "    while there are remnants in left:\n",
    "        1. Put list[k] = left[i]\n",
    "        2. Increase i and k\n",
    "    \n",
    "    while there are remnants in right:\n",
    "        1. Put list[k] = right[j]\n",
    "        2. Increase j and k\n",
    "```"
   ]
  },
  {
   "cell_type": "markdown",
   "metadata": {},
   "source": [
    "## Impementation"
   ]
  },
  {
   "cell_type": "code",
   "execution_count": 1,
   "metadata": {},
   "outputs": [],
   "source": [
    "def mergesort(lst):\n",
    "    \"\"\"Implementation of the mergesort algorithm. \n",
    "    Sort a list by dividing and breaking the original list down to single elements and recursively putting them back together.\n",
    "    The `merge_and_sort()` function takes care of merging back the sorted sublists together.\"\"\"\n",
    "    \n",
    "    #print('splitting', lst)\n",
    "    \n",
    "    n = len(lst)\n",
    "    \n",
    "    # Base case for recurrence: 1 element in the array, return\n",
    "    if n == 1:\n",
    "        return lst\n",
    "    \n",
    "    # Else, Split the arr into 2\n",
    "    mid_i = n // 2\n",
    "    left = lst[:mid_i]\n",
    "    right = lst[mid_i:]\n",
    "    \n",
    "    # Recurrence until reaching base case\n",
    "    left = mergesort(left)\n",
    "    right = mergesort(right)\n",
    "    \n",
    "    # If reached here, then the sublists have been broken down. \n",
    "    # Merge back while sorting and return the sorted list.\n",
    "    sorted_lst = merge_and_sort(left, right, lst)\n",
    "    return sorted_lst\n",
    "\n",
    "\n",
    "def merge_and_sort(left, right, lst):\n",
    "    \"\"\"Merge two lists together while comparing and placing the elements from the two lists in the right order.\"\"\"\n",
    "\n",
    "    # Index references for left, right, and lst\n",
    "    i = 0\n",
    "    j = 0\n",
    "    k = 0\n",
    "\n",
    "    # Length of the sublists\n",
    "    len_left = len(left)\n",
    "    len_right = len(right)\n",
    "\n",
    "    # Compare and merge\n",
    "    while i < len_left and j < len_right:\n",
    "        if left[i] < right[j]:\n",
    "            lst[k] = left[i]\n",
    "            i += 1\n",
    "            k += 1\n",
    "        else:\n",
    "            lst[k] = right[j]\n",
    "            j += 1\n",
    "            k += 1\n",
    "\n",
    "    # Append remnants from left if any\n",
    "    while i < len_left:\n",
    "        lst[k] = left[i]\n",
    "        i += 1\n",
    "        k += 1\n",
    "\n",
    "    # Append remnants from right if any\n",
    "    while j < len_right:\n",
    "        lst[k] = right[j]\n",
    "        j += 1\n",
    "        k += 1\n",
    "\n",
    "    #print('...merging', left, 'and', right,'=>', lst) \n",
    "    return lst"
   ]
  },
  {
   "cell_type": "markdown",
   "metadata": {},
   "source": [
    "## Testing"
   ]
  },
  {
   "cell_type": "code",
   "execution_count": 2,
   "metadata": {},
   "outputs": [
    {
     "data": {
      "text/plain": [
       "[-6, -1, 0, 4, 7, 10]"
      ]
     },
     "execution_count": 2,
     "metadata": {},
     "output_type": "execute_result"
    }
   ],
   "source": [
    "ls = [4, -1, 0, -6, 7, 10]\n",
    "mergesort(ls)"
   ]
  },
  {
   "cell_type": "code",
   "execution_count": 3,
   "metadata": {},
   "outputs": [
    {
     "data": {
      "text/plain": [
       "['e', 'f', 'g', 's', 'u']"
      ]
     },
     "execution_count": 3,
     "metadata": {},
     "output_type": "execute_result"
    }
   ],
   "source": [
    "ls = ['g', 'u', 's', 'e', 'f']\n",
    "mergesort(ls)"
   ]
  },
  {
   "cell_type": "code",
   "execution_count": 4,
   "metadata": {},
   "outputs": [],
   "source": [
    "old_test_books = [\n",
    "    'genesis', 'exodus', 'leviticus', 'numbers', 'deuteronomy', 'joshua', 'judges', 'ruth', \n",
    "    'samuel-1', 'samuel-2', 'kings-1', 'kings-2', 'chronicles-1', 'chronicles-2', 'ezra', \n",
    "    'nehemiah', 'esther', 'job', 'psalms', 'proverbs', 'ecclesiastes', 'song of Solomon',\n",
    "    'isaiah', 'jeremiah', 'lamentations', 'ezekiel', 'daniel', 'hosea', 'joel', 'amos', 'obadiah',\n",
    "    'jonah', 'micah', 'nahum', 'habakkuk', 'zephaniah', 'haggai', 'zechariah', 'malachi'\n",
    "]\n",
    "\n",
    "new_test_books = [\n",
    "    'matthew', 'mark', 'luke', 'john', 'acts of the apostles', 'romans', \n",
    "    'corinthians-1', 'corinthians-2', 'galatians', 'ephesians', 'philippians', 'colossians', \n",
    "    'thessalonians-1', 'thessalonians-2', 'timothy-1', 'timothy-2', 'titus', 'philemon', \n",
    "    'hebrews', 'james', 'peter-1', 'peter-2', 'john-1', 'john-2', 'john-3', 'jude', 'revelation'\n",
    "]"
   ]
  },
  {
   "cell_type": "code",
   "execution_count": 5,
   "metadata": {},
   "outputs": [
    {
     "name": "stdout",
     "output_type": "stream",
     "text": [
      "amos\n",
      "chronicles-1\n",
      "chronicles-2\n",
      "daniel\n",
      "deuteronomy\n",
      "ecclesiastes\n",
      "esther\n",
      "exodus\n",
      "ezekiel\n",
      "ezra\n",
      "genesis\n",
      "habakkuk\n",
      "haggai\n",
      "hosea\n",
      "isaiah\n",
      "jeremiah\n",
      "job\n",
      "joel\n",
      "jonah\n",
      "joshua\n",
      "judges\n",
      "kings-1\n",
      "kings-2\n",
      "lamentations\n",
      "leviticus\n",
      "malachi\n",
      "micah\n",
      "nahum\n",
      "nehemiah\n",
      "numbers\n",
      "obadiah\n",
      "proverbs\n",
      "psalms\n",
      "ruth\n",
      "samuel-1\n",
      "samuel-2\n",
      "song of Solomon\n",
      "zechariah\n",
      "zephaniah\n"
     ]
    }
   ],
   "source": [
    "old_test_books_sorted = mergesort(old_test_books)\n",
    "\n",
    "for book in old_test_books_sorted:\n",
    "    print(book)"
   ]
  },
  {
   "cell_type": "code",
   "execution_count": 6,
   "metadata": {},
   "outputs": [
    {
     "name": "stdout",
     "output_type": "stream",
     "text": [
      "acts of the apostles\n",
      "colossians\n",
      "corinthians-1\n",
      "corinthians-2\n",
      "ephesians\n",
      "galatians\n",
      "hebrews\n",
      "james\n",
      "john\n",
      "john-1\n",
      "john-2\n",
      "john-3\n",
      "jude\n",
      "luke\n",
      "mark\n",
      "matthew\n",
      "peter-1\n",
      "peter-2\n",
      "philemon\n",
      "philippians\n",
      "revelation\n",
      "romans\n",
      "thessalonians-1\n",
      "thessalonians-2\n",
      "timothy-1\n",
      "timothy-2\n",
      "titus\n"
     ]
    }
   ],
   "source": [
    "new_test_books_sorted = mergesort(new_test_books)\n",
    "\n",
    "for book in new_test_books_sorted:\n",
    "    print(book)"
   ]
  }
 ],
 "metadata": {
  "hide_input": false,
  "kernelspec": {
   "display_name": "Python 3 (ipykernel)",
   "language": "python",
   "name": "python3"
  },
  "language_info": {
   "codemirror_mode": {
    "name": "ipython",
    "version": 3
   },
   "file_extension": ".py",
   "mimetype": "text/x-python",
   "name": "python",
   "nbconvert_exporter": "python",
   "pygments_lexer": "ipython3",
   "version": "3.9.7"
  },
  "toc": {
   "base_numbering": 1,
   "nav_menu": {},
   "number_sections": false,
   "sideBar": false,
   "skip_h1_title": false,
   "title_cell": "Table of Contents",
   "title_sidebar": "Contents",
   "toc_cell": false,
   "toc_position": {},
   "toc_section_display": false,
   "toc_window_display": false
  },
  "varInspector": {
   "cols": {
    "lenName": 16,
    "lenType": 16,
    "lenVar": 40
   },
   "kernels_config": {
    "python": {
     "delete_cmd_postfix": "",
     "delete_cmd_prefix": "del ",
     "library": "var_list.py",
     "varRefreshCmd": "print(var_dic_list())"
    },
    "r": {
     "delete_cmd_postfix": ") ",
     "delete_cmd_prefix": "rm(",
     "library": "var_list.r",
     "varRefreshCmd": "cat(var_dic_list()) "
    }
   },
   "types_to_exclude": [
    "module",
    "function",
    "builtin_function_or_method",
    "instance",
    "_Feature"
   ],
   "window_display": false
  }
 },
 "nbformat": 4,
 "nbformat_minor": 4
}
