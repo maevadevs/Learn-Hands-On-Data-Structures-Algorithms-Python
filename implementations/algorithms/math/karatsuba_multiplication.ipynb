{
 "cells": [
  {
   "cell_type": "markdown",
   "metadata": {},
   "source": [
    "# Karatsuba Multiplication"
   ]
  },
  {
   "cell_type": "markdown",
   "metadata": {},
   "source": [
    "- The Karatsuba algorithm is a fast multiplication algorithm that uses a divide-and-conquer approach to multiply two numbers\n",
    "- Calculate faster the result of the multiplication of two large numbers `x` and `y`"
   ]
  },
  {
   "cell_type": "markdown",
   "metadata": {},
   "source": [
    "## Categories"
   ]
  },
  {
   "cell_type": "markdown",
   "metadata": {},
   "source": [
    "- **Divide-and-Conquer**\n",
    "- **Recursion***"
   ]
  },
  {
   "cell_type": "markdown",
   "metadata": {},
   "source": [
    "## Best Case Scenario\n",
    "\\begin{equation*}\n",
    "O(1)\n",
    "\\end{equation*}"
   ]
  },
  {
   "cell_type": "markdown",
   "metadata": {},
   "source": [
    "## Worst Case Scenario\n",
    "\\begin{equation*}\n",
    "O(n^{log_2{3}})\n",
    "\\end{equation*}"
   ]
  },
  {
   "cell_type": "markdown",
   "metadata": {},
   "source": [
    "## Process & Pseudo-Code"
   ]
  },
  {
   "cell_type": "markdown",
   "metadata": {},
   "source": [
    "**For `x` and `y` as the 1st half and the 2nd half, and `n` the number of digits, and `m` a positive number less than `n`:**"
   ]
  },
  {
   "cell_type": "markdown",
   "metadata": {},
   "source": [
    "\\begin{equation*}\n",
    "x = 10^{m}a+b \\\\\n",
    "y = 10^{m}c+d \\\\\n",
    "x \\times y = (10^{m}a+b)\\bullet(10^{m}c+d) \\\\\n",
    "x \\times y = 10^{2m}ac + 10^m(ad + bc) + bd \\\\\n",
    "x \\times y = 10^{2m}z_2 + 10^mz_1 + z_0\n",
    "\\end{equation*}"
   ]
  },
  {
   "cell_type": "markdown",
   "metadata": {},
   "source": [
    "- It is possible to recursively apply the multiplication operation as `ac`, `ad`, `bc`, and `bd` involve multiplication themselves\n",
    "- This algorithm so far consists of four recursive multiplication steps and it is not immediately clear if it will be faster than the classic long multiplication approach\n",
    "- We really only need to know `z2`, `z1`, and `z0` to solve the equation\n",
    "- We can make the following observation:"
   ]
  },
  {
   "cell_type": "markdown",
   "metadata": {},
   "source": [
    "\\begin{equation*}\n",
    "(a+b)(c+d)=ac+bd+ad+bc\n",
    "\\end{equation*}"
   ]
  },
  {
   "cell_type": "markdown",
   "metadata": {},
   "source": [
    "- If we subtract `ac` and `bd`, we get `ad + bc`"
   ]
  },
  {
   "cell_type": "markdown",
   "metadata": {},
   "source": [
    "\\begin{equation*}\n",
    "ac+bd+ad+bc-ac-bd=bc+ad=ad+bc=z_1\n",
    "\\end{equation*}"
   ]
  },
  {
   "cell_type": "markdown",
   "metadata": {},
   "source": [
    "- So we can actualy find `z1` without needing to find `ad` and `bc` separately\n",
    "- Instead, the overall recipe is:\n",
    "  - Find `z2`: Recursively calculate `ac`\n",
    "  - Find `z0`: Recursively calculate `bd`\n",
    "  - Find `z1`: Recursively calculate `(a + b)(c + d)` and subtract `ac` and `bd`"
   ]
  },
  {
   "cell_type": "markdown",
   "metadata": {},
   "source": [
    "## Implementation"
   ]
  },
  {
   "cell_type": "code",
   "execution_count": 1,
   "metadata": {},
   "outputs": [],
   "source": [
    "# Module Imports\n",
    "from math import log10, ceil\n",
    "\n",
    "# Implementation\n",
    "def karatsuba(x, y):\n",
    "    # The base case for recursion\n",
    "    if x < 10 or y < 10:\n",
    "        return x * y\n",
    "    \n",
    "    # Sets n, the number of digits in the highest input number\n",
    "    n = max(int(log10(x) + 1), int(log10(y) + 1))\n",
    "    \n",
    "    # Roundsup n / 2\n",
    "    n_2 = int(ceil(n / 2.0))\n",
    "    \n",
    "    # Adds 1 if n is uneven\n",
    "    n = n if n % 2 == 0 else n + 1\n",
    "    \n",
    "    # Splits the input numbers\n",
    "    a, b = divmod(x, 10**n_2)\n",
    "    c, d = divmod(y,10**n_2)\n",
    "\n",
    "    # Applies the three recursive steps \n",
    "    ac = karatsuba(a, c)\n",
    "    bd = karatsuba(b, d)\n",
    "    ad_bc = karatsuba((a + b), (c + d)) - ac - bd\n",
    "\n",
    "    # Performs the multiplication\n",
    "    return (((10**n) * ac) + bd + ((10**n_2) * (ad_bc)))"
   ]
  },
  {
   "cell_type": "markdown",
   "metadata": {},
   "source": [
    "## Testing"
   ]
  },
  {
   "cell_type": "code",
   "execution_count": 2,
   "metadata": {},
   "outputs": [
    {
     "data": {
      "text/plain": [
       "4264704"
      ]
     },
     "execution_count": 2,
     "metadata": {},
     "output_type": "execute_result"
    }
   ],
   "source": [
    "karatsuba(1234, 3456)"
   ]
  },
  {
   "cell_type": "code",
   "execution_count": 3,
   "metadata": {},
   "outputs": [
    {
     "data": {
      "text/plain": [
       "1.4e+17"
      ]
     },
     "execution_count": 3,
     "metadata": {},
     "output_type": "execute_result"
    }
   ],
   "source": [
    "karatsuba(7e6, 2e10)"
   ]
  },
  {
   "cell_type": "code",
   "execution_count": 4,
   "metadata": {},
   "outputs": [
    {
     "name": "stdout",
     "output_type": "stream",
     "text": [
      "1524157875323883675296448734281359552315471727323030025943726596557677488187881\n",
      "--- 0.002000570297241211 seconds ---\n"
     ]
    }
   ],
   "source": [
    "# Measuring Performance\n",
    "from time import time\n",
    "\n",
    "start_time = time()\n",
    "res = karatsuba(1234567890123456789112345678901234567891, 1234567890123456789112345678901234567891)\n",
    "print(res)\n",
    "end_time = time()\n",
    "\n",
    "print(\"--- {} seconds ---\".format(end_time - start_time))"
   ]
  },
  {
   "cell_type": "code",
   "execution_count": 5,
   "metadata": {},
   "outputs": [
    {
     "name": "stdout",
     "output_type": "stream",
     "text": [
      "1524157875323883675296448734281359552315471727323030025943726596557677488187881\n",
      "--- 0.0 seconds ---\n"
     ]
    }
   ],
   "source": [
    "# Comparing Performance with normal multiplication\n",
    "from time import time\n",
    "\n",
    "start_time = time()\n",
    "res = 1234567890123456789112345678901234567891 * 1234567890123456789112345678901234567891\n",
    "print(res)\n",
    "end_time = time()\n",
    "\n",
    "print(\"--- {} seconds ---\".format(end_time - start_time))"
   ]
  }
 ],
 "metadata": {
  "hide_input": false,
  "kernelspec": {
   "display_name": "Python 3 (ipykernel)",
   "language": "python",
   "name": "python3"
  },
  "language_info": {
   "codemirror_mode": {
    "name": "ipython",
    "version": 3
   },
   "file_extension": ".py",
   "mimetype": "text/x-python",
   "name": "python",
   "nbconvert_exporter": "python",
   "pygments_lexer": "ipython3",
   "version": "3.9.7"
  },
  "toc": {
   "base_numbering": 1,
   "nav_menu": {},
   "number_sections": false,
   "sideBar": false,
   "skip_h1_title": false,
   "title_cell": "Table of Contents",
   "title_sidebar": "Contents",
   "toc_cell": false,
   "toc_position": {},
   "toc_section_display": false,
   "toc_window_display": false
  },
  "varInspector": {
   "cols": {
    "lenName": 16,
    "lenType": 16,
    "lenVar": 40
   },
   "kernels_config": {
    "python": {
     "delete_cmd_postfix": "",
     "delete_cmd_prefix": "del ",
     "library": "var_list.py",
     "varRefreshCmd": "print(var_dic_list())"
    },
    "r": {
     "delete_cmd_postfix": ") ",
     "delete_cmd_prefix": "rm(",
     "library": "var_list.r",
     "varRefreshCmd": "cat(var_dic_list()) "
    }
   },
   "types_to_exclude": [
    "module",
    "function",
    "builtin_function_or_method",
    "instance",
    "_Feature"
   ],
   "window_display": false
  }
 },
 "nbformat": 4,
 "nbformat_minor": 4
}
