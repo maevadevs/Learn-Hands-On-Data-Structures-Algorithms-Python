{
 "cells": [
  {
   "cell_type": "markdown",
   "metadata": {},
   "source": [
    "# `linearsearch`"
   ]
  },
  {
   "cell_type": "markdown",
   "metadata": {},
   "source": [
    "- Category: *Sequential Search, Iteration*\n",
    "- Search an element from a list, one at a time through iteration\n",
    "- Best-Case: `O(1)`\n",
    "- Worst-Case: `O(n)`"
   ]
  },
  {
   "cell_type": "code",
   "execution_count": 1,
   "metadata": {},
   "outputs": [],
   "source": [
    "def linearsearch(ls, search_el):\n",
    "    for i, el in enumerate(ls):    # Loop through every single element\n",
    "        if el == search_el:        # The key comparison operation\n",
    "            return i, el           # Return if found\n",
    "    return None, None              # If nothing found, return None"
   ]
  },
  {
   "cell_type": "markdown",
   "metadata": {},
   "source": [
    "## Testing"
   ]
  },
  {
   "cell_type": "code",
   "execution_count": 2,
   "metadata": {},
   "outputs": [
    {
     "name": "stdout",
     "output_type": "stream",
     "text": [
      "Index: 3\n",
      "Value: 8\n"
     ]
    }
   ],
   "source": [
    "ls = [4, 6, 2, 8, 4, 9, -1, 89, 54,-7]\n",
    "\n",
    "el = 8\n",
    "pos, val = linearsearch(ls, el)\n",
    "\n",
    "print(\"Index:\", pos)\n",
    "print(\"Value:\", val)"
   ]
  },
  {
   "cell_type": "code",
   "execution_count": 3,
   "metadata": {},
   "outputs": [
    {
     "name": "stdout",
     "output_type": "stream",
     "text": [
      "Index: None\n",
      "Value: None\n"
     ]
    }
   ],
   "source": [
    "el = -100\n",
    "pos, val = linearsearch(ls, el)\n",
    "\n",
    "print(\"Index:\", pos)\n",
    "print(\"Value:\", val)"
   ]
  }
 ],
 "metadata": {
  "kernelspec": {
   "display_name": "Python 3",
   "language": "python",
   "name": "python3"
  },
  "language_info": {
   "codemirror_mode": {
    "name": "ipython",
    "version": 3
   },
   "file_extension": ".py",
   "mimetype": "text/x-python",
   "name": "python",
   "nbconvert_exporter": "python",
   "pygments_lexer": "ipython3",
   "version": "3.7.6"
  },
  "toc": {
   "base_numbering": 1,
   "nav_menu": {},
   "number_sections": false,
   "sideBar": false,
   "skip_h1_title": false,
   "title_cell": "Table of Contents",
   "title_sidebar": "Contents",
   "toc_cell": false,
   "toc_position": {
    "height": "calc(100% - 180px)",
    "left": "10px",
    "top": "150px",
    "width": "256px"
   },
   "toc_section_display": false,
   "toc_window_display": false
  }
 },
 "nbformat": 4,
 "nbformat_minor": 4
}
