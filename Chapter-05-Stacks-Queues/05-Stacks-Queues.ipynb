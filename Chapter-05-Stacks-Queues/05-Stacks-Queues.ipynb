{
 "cells": [
  {
   "cell_type": "markdown",
   "metadata": {},
   "source": [
    "# Stacks and Queues"
   ]
  },
  {
   "cell_type": "markdown",
   "metadata": {
    "toc": true
   },
   "source": [
    "<h1>Table of Contents<span class=\"tocSkip\"></span></h1>\n",
    "<div class=\"toc\"><ul class=\"toc-item\"><li><span><a href=\"#Chapter-Goals\" data-toc-modified-id=\"Chapter-Goals-1\"><span class=\"toc-item-num\">1&nbsp;&nbsp;</span>Chapter Goals</a></span></li><li><span><a href=\"#Stacks\" data-toc-modified-id=\"Stacks-2\"><span class=\"toc-item-num\">2&nbsp;&nbsp;</span>Stacks</a></span><ul class=\"toc-item\"><li><span><a href=\"#Operations-on-Stacks\" data-toc-modified-id=\"Operations-on-Stacks-2.1\"><span class=\"toc-item-num\">2.1&nbsp;&nbsp;</span>Operations on Stacks</a></span></li><li><span><a href=\"#Usage-of-Stacks-Example\" data-toc-modified-id=\"Usage-of-Stacks-Example-2.2\"><span class=\"toc-item-num\">2.2&nbsp;&nbsp;</span>Usage of Stacks Example</a></span><ul class=\"toc-item\"><li><span><a href=\"#Interpretation\" data-toc-modified-id=\"Interpretation-2.2.1\"><span class=\"toc-item-num\">2.2.1&nbsp;&nbsp;</span>Interpretation</a></span></li></ul></li><li><span><a href=\"#Stack-Implementation\" data-toc-modified-id=\"Stack-Implementation-2.3\"><span class=\"toc-item-num\">2.3&nbsp;&nbsp;</span>Stack Implementation</a></span><ul class=\"toc-item\"><li><span><a href=\"#push-Operation\" data-toc-modified-id=\"push-Operation-2.3.1\"><span class=\"toc-item-num\">2.3.1&nbsp;&nbsp;</span><code>push</code> Operation</a></span></li><li><span><a href=\"#pop-Operation\" data-toc-modified-id=\"pop-Operation-2.3.2\"><span class=\"toc-item-num\">2.3.2&nbsp;&nbsp;</span><code>pop</code> Operation</a></span></li><li><span><a href=\"#peek-Operation\" data-toc-modified-id=\"peek-Operation-2.3.3\"><span class=\"toc-item-num\">2.3.3&nbsp;&nbsp;</span><code>peek</code> Operation</a></span></li></ul></li><li><span><a href=\"#Stack-Usage-Example:-Bracket-Matching\" data-toc-modified-id=\"Stack-Usage-Example:-Bracket-Matching-2.4\"><span class=\"toc-item-num\">2.4&nbsp;&nbsp;</span>Stack Usage Example: Bracket-Matching</a></span></li><li><span><a href=\"#Other-Examples-of-Real-Usage-of-Stacks\" data-toc-modified-id=\"Other-Examples-of-Real-Usage-of-Stacks-2.5\"><span class=\"toc-item-num\">2.5&nbsp;&nbsp;</span>Other Examples of Real-Usage of Stacks</a></span></li></ul></li><li><span><a href=\"#Queues\" data-toc-modified-id=\"Queues-3\"><span class=\"toc-item-num\">3&nbsp;&nbsp;</span>Queues</a></span><ul class=\"toc-item\"><li><span><a href=\"#Implementation-1:-Using-List-Based-Queue\" data-toc-modified-id=\"Implementation-1:-Using-List-Based-Queue-3.1\"><span class=\"toc-item-num\">3.1&nbsp;&nbsp;</span>Implementation 1: Using List-Based Queue</a></span><ul class=\"toc-item\"><li><span><a href=\"#The-enqueue-Operation\" data-toc-modified-id=\"The-enqueue-Operation-3.1.1\"><span class=\"toc-item-num\">3.1.1&nbsp;&nbsp;</span>The <code>enqueue</code> Operation</a></span></li><li><span><a href=\"#The-dequeue-Operation\" data-toc-modified-id=\"The-dequeue-Operation-3.1.2\"><span class=\"toc-item-num\">3.1.2&nbsp;&nbsp;</span>The <code>dequeue</code> Operation</a></span></li><li><span><a href=\"#Why-this-impementation-is-inefficient\" data-toc-modified-id=\"Why-this-impementation-is-inefficient-3.1.3\"><span class=\"toc-item-num\">3.1.3&nbsp;&nbsp;</span>Why this impementation is inefficient</a></span></li></ul></li><li><span><a href=\"#Implementation-2:-Using-2-Simple-Stacks-based-Queue\" data-toc-modified-id=\"Implementation-2:-Using-2-Simple-Stacks-based-Queue-3.2\"><span class=\"toc-item-num\">3.2&nbsp;&nbsp;</span>Implementation 2: Using 2 Simple Stacks-based Queue</a></span><ul class=\"toc-item\"><li><span><a href=\"#The-enqueue-Operation\" data-toc-modified-id=\"The-enqueue-Operation-3.2.1\"><span class=\"toc-item-num\">3.2.1&nbsp;&nbsp;</span>The <code>enqueue</code> Operation</a></span></li><li><span><a href=\"#The-dequeue-Operation\" data-toc-modified-id=\"The-dequeue-Operation-3.2.2\"><span class=\"toc-item-num\">3.2.2&nbsp;&nbsp;</span>The <code>dequeue</code> Operation</a></span></li></ul></li><li><span><a href=\"#Implementation-3:-Node-Based-Queue\" data-toc-modified-id=\"Implementation-3:-Node-Based-Queue-3.3\"><span class=\"toc-item-num\">3.3&nbsp;&nbsp;</span>Implementation 3: Node-Based Queue</a></span><ul class=\"toc-item\"><li><span><a href=\"#The-enqueue-Operation\" data-toc-modified-id=\"The-enqueue-Operation-3.3.1\"><span class=\"toc-item-num\">3.3.1&nbsp;&nbsp;</span>The <code>enqueue</code> Operation</a></span></li><li><span><a href=\"#The-dequeue-Operation\" data-toc-modified-id=\"The-dequeue-Operation-3.3.2\"><span class=\"toc-item-num\">3.3.2&nbsp;&nbsp;</span>The <code>dequeue</code> Operation</a></span></li></ul></li><li><span><a href=\"#Application-of-Queues\" data-toc-modified-id=\"Application-of-Queues-3.4\"><span class=\"toc-item-num\">3.4&nbsp;&nbsp;</span>Application of Queues</a></span><ul class=\"toc-item\"><li><span><a href=\"#Example:-Media-Player-Playlist-Queue\" data-toc-modified-id=\"Example:-Media-Player-Playlist-Queue-3.4.1\"><span class=\"toc-item-num\">3.4.1&nbsp;&nbsp;</span>Example: Media Player Playlist Queue</a></span></li></ul></li></ul></li></ul></div>"
   ]
  },
  {
   "cell_type": "markdown",
   "metadata": {},
   "source": [
    "- Stacks and Queues are special list implementations\n",
    "- Still linear structures\n",
    "- Implementations using different methods such as `list` and `node`"
   ]
  },
  {
   "cell_type": "markdown",
   "metadata": {},
   "source": [
    "## Chapter Goals"
   ]
  },
  {
   "cell_type": "markdown",
   "metadata": {},
   "source": [
    "- Undertand the concepts of Stacks and Queues\n",
    "- Implement Stacks and Queues using various methods\n",
    "- Some real-life examples of application of stacks and queues"
   ]
  },
  {
   "cell_type": "markdown",
   "metadata": {},
   "source": [
    "## Stacks"
   ]
  },
  {
   "cell_type": "markdown",
   "metadata": {},
   "source": [
    "- Data structure that stores data similar to a stack of plates\n",
    "- To get the next plate, you get it from the top (the last one that was put on the stack)\n",
    "- To add a new plate, you put it on the top (the new one)\n",
    "- Stack is a **Last-In, First-Out (LIFO)** structure\n",
    "- Stack is used for function calls: **Callstack**\n",
    "  - Recursion is only possible thanks to the Callstack\n",
    "  - Recursion is a special case of Callstack where we call the same function over and over"
   ]
  },
  {
   "cell_type": "markdown",
   "metadata": {},
   "source": [
    "### Operations on Stacks"
   ]
  },
  {
   "cell_type": "markdown",
   "metadata": {},
   "source": [
    "- `push` - Add a new element unto the stack\n",
    "- `pop` - Remove an element from the stack\n",
    "- `peek` - See the element on top of the stack without popping it"
   ]
  },
  {
   "cell_type": "markdown",
   "metadata": {},
   "source": [
    "### Usage of Stacks Example"
   ]
  },
  {
   "cell_type": "markdown",
   "metadata": {},
   "source": [
    "- Callstack\n",
    "  - Stacks are used for function calls\n",
    "  - To keep track of return values for each function calls\n",
    "- Stack is also used to pass argument values between functions"
   ]
  },
  {
   "cell_type": "code",
   "execution_count": 1,
   "metadata": {},
   "outputs": [
    {
     "name": "stdout",
     "output_type": "stream",
     "text": [
      "This is from the first() function\n",
      "This is from the second() function\n",
      "--done--\n"
     ]
    }
   ],
   "source": [
    "def second():\n",
    "    print('This is from the second() function') \n",
    "    return 100\n",
    "\n",
    "def first(): \n",
    "    print(\"This is from the first() function\")\n",
    "    second()\n",
    "    return True\n",
    "\n",
    "first() # Callstack starts here after executing main()\n",
    "print(\"--done--\")"
   ]
  },
  {
   "cell_type": "markdown",
   "metadata": {},
   "source": [
    "#### Interpretation"
   ]
  },
  {
   "cell_type": "markdown",
   "metadata": {},
   "source": [
    "```python\n",
    "Callstack starts:                             # Clst = []\n",
    "    Execute main()                            # Clst = [main()]\n",
    "        Execute first()                       # Clst = [main(),first()]\n",
    "        Jump to first definition:\n",
    "            Execute second()                  # Clst = [main(),first(),second()]\n",
    "            Jump to second definition:\n",
    "                Executes print()              # Clst = [main(),first(),second(),print()]\n",
    "                Jump to print definition:\n",
    "                    print() returns           # Clst = [main(),first(),second(),None]\n",
    "                print() completes and popped  # Clst = [main(),first(),second()]\n",
    "                second() returns              # Clst = [main(),first(),100]\n",
    "            second() completes and popped     # Clst = [main(),first()]\n",
    "            first() returns                   # Clst = [main(),True]\n",
    "        first() completes and popped          # Clst = [main()]\n",
    "        Executes print()                      # Clst = [main(),print()]\n",
    "        Jump to print definition:\n",
    "            print() returns                   # Clst = [main(),None]\n",
    "        print() completes and popped          # Clst = [main()]\n",
    "        main() returns                        # Clst = [None]\n",
    "    main() completes and popped off           # Clst = []\n",
    "Callstack ends                                # Clst = []\n",
    "```"
   ]
  },
  {
   "cell_type": "markdown",
   "metadata": {},
   "source": [
    "### Stack Implementation"
   ]
  },
  {
   "cell_type": "markdown",
   "metadata": {},
   "source": [
    "- Stacks can be implemented using Node structure\n",
    "- Same principle of Node: Linked together through references/pointers"
   ]
  },
  {
   "cell_type": "code",
   "execution_count": 2,
   "metadata": {},
   "outputs": [],
   "source": [
    "class Node:\n",
    "    \"\"\"Implementation of a One-Direction Node\"\"\"\n",
    "    \n",
    "    def __init__(self, data=None):\n",
    "        \"\"\"Initialize a Node object\"\"\"\n",
    "        self.data = data\n",
    "        self.next = None\n",
    "        \n",
    "    def __str__(self):\n",
    "        \"\"\"Return the string representation of a Node\"\"\"\n",
    "        return f\"Node({str(self.data)})\"\n",
    "    \n",
    "    def __repr__(self):\n",
    "        \"\"\"Return the string representation of a Node\"\"\"\n",
    "        return f\"Node({str(self.data)})\""
   ]
  },
  {
   "cell_type": "markdown",
   "metadata": {},
   "source": [
    "- We need 2 things to implement a stack using Node:\n",
    "  - The node which is at the top of the stack so we can apply `push` and `pop` through this node\n",
    "  - Keep track of the number of Nodes on the stack"
   ]
  },
  {
   "cell_type": "code",
   "execution_count": 3,
   "metadata": {},
   "outputs": [],
   "source": [
    "class Stack:\n",
    "    \"\"\"Implementation of a Stack\"\"\"\n",
    "    \n",
    "    def __init__(self):\n",
    "        \"\"\"Initialize a Stack object\"\"\"\n",
    "        self.top = None\n",
    "        self.size = 0"
   ]
  },
  {
   "cell_type": "markdown",
   "metadata": {},
   "source": [
    "#### `push` Operation"
   ]
  },
  {
   "cell_type": "markdown",
   "metadata": {},
   "source": [
    "- Used to add element on top of the stack\n",
    "- First, check if the stack is empty or already have items on it:\n",
    "  - If the stack already has items:\n",
    "    - Set the new node's `next` to the current top Node\n",
    "    - Set the stack's top to the new node\n",
    "    - Update the stack size\n",
    "  - If the stack is empty:\n",
    "    - Set the stack's top to the new node\n",
    "    - Update the stack size"
   ]
  },
  {
   "cell_type": "markdown",
   "metadata": {},
   "source": [
    "**Pseudo-code**\n",
    "```python\n",
    "if stack is not empty:\n",
    "    update: new_node.next -> current_top_node\n",
    "    update: self.top -> new_node\n",
    "    update: stack.size + 1\n",
    "else stack is empty:\n",
    "    update: new_node.next -> None # This is already the default so skip\n",
    "    update: self.top -> new_node\n",
    "    update: stack.size + 1\n",
    "```"
   ]
  },
  {
   "cell_type": "markdown",
   "metadata": {},
   "source": [
    "<img src='../files/chap_05/appending-to-stack.png' width=40%>"
   ]
  },
  {
   "cell_type": "code",
   "execution_count": 4,
   "metadata": {},
   "outputs": [],
   "source": [
    "class Stack:\n",
    "    \"\"\"Implementation of a Stack\"\"\"\n",
    "    \n",
    "    def __init__(self):\n",
    "        \"\"\"Initialize a Stack object\"\"\"\n",
    "        self.top = None\n",
    "        self.size = 0\n",
    "    \n",
    "    def push(self, data):\n",
    "        \"\"\"Add a new Node on top of the stack\"\"\"\n",
    "        new_node = Node(data)\n",
    "        # Check if the stack is not empty\n",
    "        if self.top:\n",
    "            # Set the \"next\" of the new_node as the current top node\n",
    "            new_node.next = self.top\n",
    "        # Set new_node as top and increase stack size\n",
    "        self.top = new_node\n",
    "        self.size += 1"
   ]
  },
  {
   "cell_type": "markdown",
   "metadata": {},
   "source": [
    "#### `pop` Operation"
   ]
  },
  {
   "cell_type": "markdown",
   "metadata": {},
   "source": [
    "- Read the top most element of the stack and removes it from the stack\n",
    "- Returns the top most element from the stack, or returns `None` if the stack is empty\n",
    "\n",
    "- First, check if the stack is empty or already have some item on it\n",
    "  - If there are already items:\n",
    "    - Check if the top node has its next pointer pointing somewhere else\n",
    "      - If it does, it means there are more elements on the stack\n",
    "        - Update `self.top` to point to this next node: `self.top = self.top.next`\n",
    "      - If it does not, it means that there are no more element on the stack\n",
    "        - Update `self.top` to None\n",
    "      - Update the size of the stack\n",
    "      - Return the poped element\n",
    "  - If the stack is empty, return None"
   ]
  },
  {
   "cell_type": "markdown",
   "metadata": {},
   "source": [
    "**Pseudo-code**\n",
    "```python\n",
    "if stack is not empty:\n",
    "    top_element = self.top\n",
    "    \n",
    "    if self.top.next -> not None: # more elements on the stack\n",
    "        update: self.top -> self.top.next\n",
    "    else: # no more elements on the stack\n",
    "        update: self.top -> None\n",
    "    \n",
    "    update: self.size - 1\n",
    "    return: data in top_element\n",
    "    \n",
    "else stack is empty:\n",
    "    return: None\n",
    "```"
   ]
  },
  {
   "cell_type": "markdown",
   "metadata": {},
   "source": [
    "<img src='../files/chap_05/popping-from-stack.png' width=40%>\n",
    "<img src='../files/chap_05/popping-from-stack-2.png' width=40%>"
   ]
  },
  {
   "cell_type": "code",
   "execution_count": 5,
   "metadata": {},
   "outputs": [],
   "source": [
    "class Stack:\n",
    "    \"\"\"Implementation of a Stack\"\"\"\n",
    "    \n",
    "    def __init__(self):\n",
    "        \"\"\"Initialize a Stack object\"\"\"\n",
    "        self.top = None\n",
    "        self.size = 0\n",
    "    \n",
    "    def push(self, data):\n",
    "        \"\"\"Add a new Node on top of the Stack\"\"\"\n",
    "        new_node = Node(data)\n",
    "        # Check if the stack is not empty\n",
    "        if self.top:\n",
    "            # Set the \"next\" of the new_node as the current top node\n",
    "            new_node.next = self.top\n",
    "        # Set new_node as top and increase stack size\n",
    "        self.top = new_node\n",
    "        self.size += 1\n",
    "    \n",
    "    def pop(self):\n",
    "        \"\"\"Remove and return the Node on top of the Stack\"\"\"\n",
    "        # Check if the stack is not empty\n",
    "        if self.top:\n",
    "            # Save the data to return\n",
    "            data_to_return = self.top.data\n",
    "            # Check if there are more element after this one\n",
    "            if self.top.next:\n",
    "                # Point self.top to the next element\n",
    "                self.top = self.top.next\n",
    "            else:\n",
    "                # There are no more element on the stack\n",
    "                self.top = None\n",
    "            # Decrease the size\n",
    "            self.size -= 1\n",
    "            # Return the poped element\n",
    "            return data\n",
    "        # If here, then the stack is empty\n",
    "        return None"
   ]
  },
  {
   "cell_type": "markdown",
   "metadata": {},
   "source": [
    "#### `peek` Operation"
   ]
  },
  {
   "cell_type": "markdown",
   "metadata": {},
   "source": [
    "- Returns the value of the top element of the stack without popping the element off the stack\n",
    "- Very similar to `pop` but does not remove the Node\n",
    "- Very straightforward: If there is a top element, just return its data. Otherwise, `None`"
   ]
  },
  {
   "cell_type": "code",
   "execution_count": 6,
   "metadata": {},
   "outputs": [],
   "source": [
    "class Stack:\n",
    "    \"\"\"Implementation of a Stack\"\"\"\n",
    "    \n",
    "    def __init__(self):\n",
    "        \"\"\"Initialize a Stack object\"\"\"\n",
    "        self.top = None\n",
    "        self.size = 0\n",
    "    \n",
    "    def push(self, data):\n",
    "        \"\"\"Add a new Node on top of the Stack\"\"\"\n",
    "        new_node = Node(data)\n",
    "        # Check if the stack is not empty\n",
    "        if self.top:\n",
    "            # Set the \"next\" of the new_node as the current top node\n",
    "            new_node.next = self.top\n",
    "        # Set new_node as top and increase stack size\n",
    "        self.top = new_node\n",
    "        self.size += 1\n",
    "    \n",
    "    def pop(self):\n",
    "        \"\"\"Remove and return the Node on top of the Stack\"\"\"\n",
    "        # Check if the stack is not empty\n",
    "        if self.top:\n",
    "            # Save the data to return\n",
    "            data_to_return = self.top.data\n",
    "            # Check if there are more element after this one\n",
    "            if self.top.next:\n",
    "                # Point self.top to the next element\n",
    "                self.top = self.top.next\n",
    "            else:\n",
    "                # There are no more element on the stack\n",
    "                self.top = None\n",
    "            # Decrease the size\n",
    "            self.size -= 1\n",
    "            # Return the poped element\n",
    "            return data_to_return\n",
    "        # If here, then the stack is empty\n",
    "        return None\n",
    "    \n",
    "    def peek(self):\n",
    "        \"\"\"Check the Node on top of the Stack\"\"\"\n",
    "        # Check if the stack is not empty\n",
    "        if self.top:\n",
    "            # Return its data\n",
    "            return self.top.data\n",
    "        # If here, then the stack is empty\n",
    "        return None"
   ]
  },
  {
   "cell_type": "markdown",
   "metadata": {},
   "source": [
    "### Stack Usage Example: Bracket-Matching"
   ]
  },
  {
   "cell_type": "markdown",
   "metadata": {},
   "source": [
    "- Write a function that verify whether a statement containing brackets `{`, `[`, or `(` is balanced\n",
    "- Check if the number of opening and closing brackets match"
   ]
  },
  {
   "cell_type": "code",
   "execution_count": 7,
   "metadata": {},
   "outputs": [],
   "source": [
    "def is_balanced_brackets(statement=''): \n",
    "    \"\"\"Check brackets in a string and validate if they all have their matches\"\"\"\n",
    "    # Apply string cleaning on statement\n",
    "    statement = statement.strip()\n",
    "    # Shortcut for empty statement\n",
    "    if len(statement) == 0:\n",
    "        return False\n",
    "    # New stack for brackets\n",
    "    stack = Stack() \n",
    "    # Start looping through statement\n",
    "    for char in statement: \n",
    "        # For opening brackets, push to the stack\n",
    "        if char in ('{', '[', '('): \n",
    "            stack.push(char)\n",
    "        # For closing brackets, pop from the stack and compare\n",
    "        if char in ('}', ']', ')'): \n",
    "            last = stack.pop() \n",
    "            # Make sure to match\n",
    "            if last == '{' and char == '}': \n",
    "                continue\n",
    "            elif last == '[' and char == ']':\n",
    "                continue \n",
    "            elif last == '(' and char == ')':\n",
    "                continue \n",
    "            else:\n",
    "                # If no match, then break and return early\n",
    "                return False\n",
    "    # If here and the stack is not empty, no match\n",
    "    if stack.size > 0: \n",
    "        return False \n",
    "    # If still here, then all brackets have their match\n",
    "    return True"
   ]
  },
  {
   "cell_type": "code",
   "execution_count": 8,
   "metadata": {},
   "outputs": [
    {
     "name": "stdout",
     "output_type": "stream",
     "text": [
      "{(foo)(bar)}[hello](((this)is)a)test: True\n",
      "{(foo)(bar)}[hello](((this)is)atest: False\n",
      "{(foo)(bar)}[hello](((this)is)a)test)): False\n"
     ]
    }
   ],
   "source": [
    "strings = ( \n",
    "    \"{(foo)(bar)}[hello](((this)is)a)test\",\n",
    "    \"{(foo)(bar)}[hello](((this)is)atest\", \n",
    "    \"{(foo)(bar)}[hello](((this)is)a)test))\" \n",
    ")\n",
    "for st in strings: \n",
    "    print(f\"{st}: {is_balanced_brackets(st)}\")"
   ]
  },
  {
   "cell_type": "markdown",
   "metadata": {},
   "source": [
    "### Other Examples of Real-Usage of Stacks"
   ]
  },
  {
   "cell_type": "markdown",
   "metadata": {},
   "source": [
    "- Backward and Forward buttons of Web Browsers\n",
    "- Undo and Redo buttons of Word Processors\n",
    "- Anything that implements a LIFO structure"
   ]
  },
  {
   "cell_type": "markdown",
   "metadata": {},
   "source": [
    "## Queues"
   ]
  },
  {
   "cell_type": "markdown",
   "metadata": {},
   "source": [
    "- Another special type of list\n",
    "- Very fundamental: Many data structures are built on top of them\n",
    "- Queue is a **First-In, First-Out (FIFO)** Structure\n",
    "- Example of a queue is people standing in line for a service\n",
    "- There are different implementations of a queue but they revolve around the same concept of FIFO\n",
    "- 2 principal operations:\n",
    "  - *enqueue* - Operation to add an element to the queue\n",
    "  - *dequeue* - Operation to remove an element from the queue"
   ]
  },
  {
   "cell_type": "markdown",
   "metadata": {},
   "source": [
    "Operation|Result\n",
    ":-|:-\n",
    "`Queue()`|`Queue size == 0`, `Contents == []`\n",
    "`Enqueue(x)`|`Queue Size == 1`, `Contents == [x]`\n",
    "`Enqueue(y)`|`Queue Size = 2`, `Contents == [x, y]`\n",
    "`Enqueue(z)`|`Queue Size = 3`, `Contents == [x, y, z]`\n",
    "`Size()`|`3`\n",
    "`Dequeue()`|`x`, `Queue Size == 2`\n",
    "`Dequeue()`|`y`, `Queue Size == 1`\n",
    "`Dequeue()`|`z`, `Queue Size == 0`"
   ]
  },
  {
   "cell_type": "markdown",
   "metadata": {},
   "source": [
    "- Queues can be implemented using\n",
    "  - List\n",
    "  - Stack\n",
    "  - Node"
   ]
  },
  {
   "cell_type": "markdown",
   "metadata": {},
   "source": [
    "### Implementation 1: Using List-Based Queue"
   ]
  },
  {
   "cell_type": "markdown",
   "metadata": {},
   "source": [
    "This is to help us quickly learn about Queues"
   ]
  },
  {
   "cell_type": "code",
   "execution_count": 9,
   "metadata": {},
   "outputs": [],
   "source": [
    "class ListQueue:\n",
    "    \"\"\"Implementation of a Stack using List\"\"\"\n",
    "    def __init__(self):\n",
    "        # The queue is empty when created\n",
    "        self.items = [] \n",
    "        self.size = 0"
   ]
  },
  {
   "cell_type": "markdown",
   "metadata": {},
   "source": [
    "#### The `enqueue` Operation"
   ]
  },
  {
   "cell_type": "markdown",
   "metadata": {},
   "source": [
    "- Using `list.insert()`\n",
    "- This will allow to shift the elements each time we add a new element\n",
    "- The new item must always be inserted at index `0`\n",
    "  - Queue Direction: `new_item -> Queue[entry[0], exit[n]] -> pop(n)`\n",
    "- **The array index `0` is the only place where new data elements are inserted into the queue**"
   ]
  },
  {
   "cell_type": "code",
   "execution_count": 10,
   "metadata": {},
   "outputs": [],
   "source": [
    "class ListQueue:\n",
    "    \"\"\"Implementation of a Stack using List\"\"\"\n",
    "    def __init__(self):\n",
    "        # The queue is empty when created\n",
    "        self.items = [] \n",
    "        self.size = 0\n",
    "    \n",
    "    def enqueue(self, data):\n",
    "        # Always insert items at index 0\n",
    "        self.items.insert(0, data)\n",
    "        # Increment the size of the queue by 1\n",
    "        self.size += 1"
   ]
  },
  {
   "cell_type": "markdown",
   "metadata": {},
   "source": [
    "#### The `dequeue` Operation"
   ]
  },
  {
   "cell_type": "markdown",
   "metadata": {},
   "source": [
    "- Based on `list.pop()`"
   ]
  },
  {
   "cell_type": "code",
   "execution_count": 11,
   "metadata": {},
   "outputs": [],
   "source": [
    "class ListQueue:\n",
    "    \"\"\"Implementation of a Queue using List\"\"\"\n",
    "    def __init__(self):\n",
    "        # The queue is empty when created\n",
    "        self.items = [] \n",
    "        self.size = 0\n",
    "    \n",
    "    def enqueue(self, data):\n",
    "        # Always insert items at index 0: O(n) because of shifting\n",
    "        self.items.insert(0, data)\n",
    "        # Increment the size of the queue by 1\n",
    "        self.size += 1\n",
    "    \n",
    "    def dequeue(self):\n",
    "        # Return None if the list is empty\n",
    "        data = None\n",
    "        # Only do operations if the list is not empty\n",
    "        if self.size > 0: \n",
    "            # Delete the topmost item from the queue\n",
    "            data = self.items.pop()\n",
    "            # Decrement the size of the queue by 1\n",
    "            self.size -= 1\n",
    "        # Return the topmost item from the queue, or None\n",
    "        return data"
   ]
  },
  {
   "cell_type": "markdown",
   "metadata": {},
   "source": [
    "#### Why this impementation is inefficient"
   ]
  },
  {
   "cell_type": "markdown",
   "metadata": {},
   "source": [
    "- The `enqueue()`method has to first shift all the elements by one space for each operation\n",
    "- This has a time complexity of `O(n)`\n",
    "- This makes the `enqueue` operation slow for large lists"
   ]
  },
  {
   "cell_type": "markdown",
   "metadata": {},
   "source": [
    "### Implementation 2: Using 2 Simple Stacks-based Queue"
   ]
  },
  {
   "cell_type": "markdown",
   "metadata": {},
   "source": [
    "- Using 2 stacks\n",
    "- `inbound_stack` is only used for adding incoming elements to the queue and nothing else\n",
    "- `outbound_stack` is only used for returning elements from the queue and nothing else\n",
    "- *Note*: We call it *stack-based* but it is still implemented using lists"
   ]
  },
  {
   "cell_type": "code",
   "execution_count": 12,
   "metadata": {},
   "outputs": [],
   "source": [
    "class StackQueue: \n",
    "    \"\"\"Implementation of a Queue using Stack\"\"\"\n",
    "    def __init__(self): \n",
    "        self.inbound_stack = []\n",
    "        self.outbound_stack = []\n",
    "        self.size = 0"
   ]
  },
  {
   "cell_type": "markdown",
   "metadata": {},
   "source": [
    "#### The `enqueue` Operation"
   ]
  },
  {
   "cell_type": "code",
   "execution_count": 13,
   "metadata": {},
   "outputs": [],
   "source": [
    "class StackQueue: \n",
    "    \"\"\"Implementation of a Queue using Stack\"\"\"\n",
    "    def __init__(self): \n",
    "        # Initialize the stacks and the size\n",
    "        self.inbound_stack = []\n",
    "        self.outbound_stack = []\n",
    "        self.size = 0\n",
    "    \n",
    "    def enqueue(self, data):\n",
    "        # Add to the inbound stack\n",
    "        self.inbound_stack.append(data)\n",
    "        # Increase the size\n",
    "        self.size += 1"
   ]
  },
  {
   "cell_type": "markdown",
   "metadata": {},
   "source": [
    "#### The `dequeue` Operation"
   ]
  },
  {
   "cell_type": "markdown",
   "metadata": {},
   "source": [
    "- New elements added to the queue are added to the `inbound_stack`\n",
    "- Instead of removing directly from this list, we now shift the attention to the `outbound_stack`\n",
    "  - Before removing elements, we move all the elements from the `inbound_stack` to the `outbound_stack`\n",
    "  - This has the effect of reversing the order of the elements from one stack to the next\n",
    "  - Remember that a stack only has one point of entry and one point of exit (in this case, the end of the list)\n",
    "- We only delete elements from the Queue through this stack"
   ]
  },
  {
   "cell_type": "markdown",
   "metadata": {},
   "source": [
    "**Pseudo-code**\n",
    "\n",
    "```python\n",
    "if outbound_stack is empty:\n",
    "    while len(inbound_stack) > 0:\n",
    "        inbound_stack.pop() -> outbound_stack\n",
    "else:\n",
    "    outbound_stack.pop()\n",
    "```"
   ]
  },
  {
   "cell_type": "code",
   "execution_count": 14,
   "metadata": {},
   "outputs": [],
   "source": [
    "class StackQueue: \n",
    "    \"\"\"Implementation of a Queue using Stack\"\"\"\n",
    "    def __init__(self): \n",
    "        # Initialize the stacks and the size\n",
    "        self.inbound_stack = []\n",
    "        self.outbound_stack = []\n",
    "        self.size = 0\n",
    "    \n",
    "    def enqueue(self, data):\n",
    "        # Add to the inbound stack\n",
    "        self.inbound_stack.append(data)\n",
    "        # Increase the size\n",
    "        self.size += 1\n",
    "        \n",
    "    def dequeue(self):\n",
    "        # If the size is 0, then the Queue is empty\n",
    "        if self.size == 0:\n",
    "            return None\n",
    "        # If the outbound_stack is empty, replenish once from the inbound stack in reverse order\n",
    "        if len(self.outbound_stack) == 0: \n",
    "            while self.inbound_stack: \n",
    "                self.outbound_stack.append(self.inbound_stack.pop())\n",
    "        # If the outbound_stack is not empty, get the last item (now in reversed order)\n",
    "        data = self.outbound_stack.pop()\n",
    "        # Decrease the size\n",
    "        self.size -= 1\n",
    "        # Return the data\n",
    "        return data"
   ]
  },
  {
   "cell_type": "code",
   "execution_count": 15,
   "metadata": {},
   "outputs": [
    {
     "name": "stdout",
     "output_type": "stream",
     "text": [
      "[5, 6, 7]\n"
     ]
    }
   ],
   "source": [
    "q = StackQueue()\n",
    "q.enqueue(5) \n",
    "q.enqueue(6) \n",
    "q.enqueue(7)\n",
    "print(q.inbound_stack)"
   ]
  },
  {
   "cell_type": "code",
   "execution_count": 16,
   "metadata": {},
   "outputs": [
    {
     "name": "stdout",
     "output_type": "stream",
     "text": [
      "5\n",
      "[]\n",
      "[7, 6]\n"
     ]
    }
   ],
   "source": [
    "print(q.dequeue()) \n",
    "print(q.inbound_stack) \n",
    "print(q.outbound_stack)"
   ]
  },
  {
   "cell_type": "code",
   "execution_count": 17,
   "metadata": {},
   "outputs": [
    {
     "name": "stdout",
     "output_type": "stream",
     "text": [
      "6\n",
      "[7]\n",
      "7\n",
      "[]\n",
      "None\n"
     ]
    }
   ],
   "source": [
    "print(q.dequeue()) \n",
    "print(q.outbound_stack)\n",
    "print(q.dequeue()) \n",
    "print(q.outbound_stack)\n",
    "print(q.dequeue()) "
   ]
  },
  {
   "cell_type": "markdown",
   "metadata": {},
   "source": [
    "This implementation is better but can still be inefficient\n",
    "\n",
    "- The step of moving from one stack to another can be `O(n)`\n",
    "\n",
    "**Implementing a queue with two stacks is very important and questions about this are often posed during interviews.**\n",
    "\n",
    "- Think of this technique as a man doing backflips:\n",
    "  - Odd number of stack axes (1) will make the order of entry into LIFO: Backflip starting from feet, ending on hands\n",
    "  - Even number of stack axes (2) will flip the order of entry into FIFO: Backflip starting from feet, to hand, to feet again"
   ]
  },
  {
   "cell_type": "markdown",
   "metadata": {},
   "source": [
    "### Implementation 3: Node-Based Queue"
   ]
  },
  {
   "cell_type": "markdown",
   "metadata": {},
   "source": [
    "- A queue can be implemented using a doubly-linked list\n",
    "- Insertion and deletion operations on this data structure has a time complexity of `O(1)`\n",
    "- A doubly-linked list can be considered a queue if it FIFO data access"
   ]
  },
  {
   "cell_type": "code",
   "execution_count": 18,
   "metadata": {},
   "outputs": [],
   "source": [
    "class NodeTwo:\n",
    "    \"\"\"Implementation of a Two-Direction Node\"\"\"\n",
    "    def __init__(self, data=None, nxt=None, previous=None):\n",
    "        \"\"\"Initialize a Node object\"\"\"\n",
    "        self.data = data\n",
    "        self.next = nxt\n",
    "        self.previous = previous\n",
    "        \n",
    "    def __str__(self):\n",
    "        \"\"\"Return the string representation of a Node\"\"\"\n",
    "        return f\"Node({str(self.data)})\"\n",
    "    \n",
    "    def __repr__(self):\n",
    "        \"\"\"Return the string representation of a Node\"\"\"\n",
    "        return f\"Node({str(self.data)})\""
   ]
  },
  {
   "cell_type": "code",
   "execution_count": 19,
   "metadata": {},
   "outputs": [],
   "source": [
    "class LinkedListQueue: \n",
    "    \"\"\"Implementation of a Queue using Doubly-Linked List\"\"\"\n",
    "    def __init__(self): \n",
    "        \"\"\"Initialize a LinkedListQueue object\"\"\"\n",
    "        self.head = None \n",
    "        self.tail = None \n",
    "        self.size = 0"
   ]
  },
  {
   "cell_type": "markdown",
   "metadata": {},
   "source": [
    "#### The `enqueue` Operation"
   ]
  },
  {
   "cell_type": "markdown",
   "metadata": {},
   "source": [
    "- The elements/data are added through a `Node`\n",
    "- Very similar to the `append` method of the doubly-linked list"
   ]
  },
  {
   "cell_type": "code",
   "execution_count": 20,
   "metadata": {},
   "outputs": [],
   "source": [
    "class LinkedListQueue: \n",
    "    \"\"\"Implementation of a Queue using Doubly-Linked List\"\"\"\n",
    "    def __init__(self): \n",
    "        \"\"\"Initialize a LinkedListQueue object\"\"\"\n",
    "        self.head = None \n",
    "        self.tail = None \n",
    "        self.size = 0\n",
    "\n",
    "    def enqueue(self, data): \n",
    "        \"\"\"Add an element to the queue\"\"\"\n",
    "        # Encapsulate the data into a Node class: Default next is None\n",
    "        new_node = NodeTwo(data, None, None) \n",
    "        # Check if there are already data in the list\n",
    "        if self.head: \n",
    "            # The list is not empty\n",
    "            new_node.prev = self.tail \n",
    "            self.tail.next = new_node \n",
    "            self.tail = new_node \n",
    "        else: \n",
    "            # The list is initially empty\n",
    "            self.head = new_node \n",
    "            self.tail = new_node\n",
    "        # Increase the size of the Queue\n",
    "        self.count += 1"
   ]
  },
  {
   "cell_type": "markdown",
   "metadata": {},
   "source": [
    "#### The `dequeue` Operation"
   ]
  },
  {
   "cell_type": "markdown",
   "metadata": {},
   "source": [
    "- Remove the node at the front of the queue\n",
    "- Since Doubly-Linked list can be accessed from either end, this is an easy step"
   ]
  },
  {
   "cell_type": "code",
   "execution_count": 21,
   "metadata": {},
   "outputs": [],
   "source": [
    "class LinkedListQueue: \n",
    "    \"\"\"Implementation of a Queue using Doubly-Linked List\"\"\"\n",
    "    def __init__(self): \n",
    "        \"\"\"Initialize a LinkedListQueue object\"\"\"\n",
    "        self.head = None \n",
    "        self.tail = None \n",
    "        self.size = 0\n",
    "\n",
    "    def enqueue(self, data): \n",
    "        \"\"\"Add an element to the queue\"\"\"\n",
    "        # Encapsulate the data into a Node class: Default next is None\n",
    "        new_node = NodeTwo(data=data, nxt=None, previous=None) \n",
    "        # Check if there are already data in the list\n",
    "        if self.head: \n",
    "            # The list is not empty\n",
    "            new_node.prev = self.tail \n",
    "            self.tail.next = new_node \n",
    "            self.tail = new_node \n",
    "        else: \n",
    "            # The list is initially empty\n",
    "            self.head = new_node \n",
    "            self.tail = new_node\n",
    "        # Increase the size of the Queue\n",
    "        self.size += 1\n",
    "\n",
    "    def dequeue(self):\n",
    "        \"\"\"Remove an element from the queue\"\"\"\n",
    "        # Get the first Node\n",
    "        current = self.head \n",
    "        # Check if this is the last Node of the list\n",
    "        if self.size == 1: \n",
    "            self.head = None \n",
    "            self.tail = None \n",
    "        # If not last element, handle the switch of position\n",
    "        else: \n",
    "            self.head = self.head.next \n",
    "            self.head.prev = None \n",
    "        # Decrease the size of the Queue\n",
    "        self.size -= 1\n",
    "        # Return the Node\n",
    "        return current"
   ]
  },
  {
   "cell_type": "markdown",
   "metadata": {},
   "source": [
    "### Application of Queues"
   ]
  },
  {
   "cell_type": "markdown",
   "metadata": {},
   "source": [
    "- Printer Job Pooling\n",
    "- CPU Task Execution\n",
    "- Media Player Playlist Queues"
   ]
  },
  {
   "cell_type": "markdown",
   "metadata": {},
   "source": [
    "#### Example: Media Player Playlist Queue"
   ]
  },
  {
   "cell_type": "markdown",
   "metadata": {},
   "source": [
    "- Our media player queue will only allow for the addition of tracks and a way to play all the tracks in the queue\n",
    "- In a full-blown music player, threads would be used to improve how the queue is interacted with\n",
    "- The music player continues to be used to select the next song to be played, paused, or even stopped"
   ]
  },
  {
   "cell_type": "code",
   "execution_count": 22,
   "metadata": {},
   "outputs": [],
   "source": [
    "from random import randint \n",
    "\n",
    "class MPTrack:\n",
    "    \"\"\"Implementation of a Media Player Track\"\"\"\n",
    "    def __init__(self, title=None): \n",
    "        self.title = title \n",
    "        self.length = randint(1, 5) # length in seconds (for testing)"
   ]
  },
  {
   "cell_type": "code",
   "execution_count": 23,
   "metadata": {},
   "outputs": [
    {
     "name": "stdout",
     "output_type": "stream",
     "text": [
      "4\n",
      "2\n",
      "white whistle\n",
      "butter butter\n"
     ]
    }
   ],
   "source": [
    "track1 = MPTrack(\"white whistle\") \n",
    "track2 = MPTrack(\"butter butter\") \n",
    "print(track1.length) \n",
    "print(track2.length)\n",
    "print(track1.title)\n",
    "print(track2.title)"
   ]
  },
  {
   "cell_type": "code",
   "execution_count": 24,
   "metadata": {},
   "outputs": [],
   "source": [
    "import time \n",
    "\n",
    "class MPPlaylist(LinkedListQueue): # Inherit from Queue class\n",
    "    \"\"\"Implementation of a Media Player Playlist of Tracks queue\"\"\"\n",
    "    def __init__(self): \n",
    "        # Call the init method of LinkedListQueue as subclass MediaPlayerQueue\n",
    "        # super(subClass, instance).method(args)\n",
    "        super(MPPlaylist, self).__init__()\n",
    "        \n",
    "    def add_track(self, track): \n",
    "        \"\"\"Add a track to the MediaPlayerQueue\"\"\"\n",
    "        self.enqueue(track)\n",
    "    \n",
    "    def play(self): \n",
    "        \"\"\"Play a track from the MediaPlayerQueue\"\"\"\n",
    "        while self.size > 0: \n",
    "            current_track_node = self.dequeue()\n",
    "            print(f\"Now playing \\\"{current_track_node.data.title}\\\"\") \n",
    "            # Halt the execution of the loop while song plays\n",
    "            time.sleep(current_track_node.data.length)"
   ]
  },
  {
   "cell_type": "code",
   "execution_count": 25,
   "metadata": {},
   "outputs": [
    {
     "name": "stdout",
     "output_type": "stream",
     "text": [
      "Now playing \"white whistle\"\n",
      "Now playing \"butter butter\"\n",
      "Now playing \"Oh black star\"\n",
      "Now playing \"Watch that chicken\"\n",
      "Now playing \"Don't go\"\n"
     ]
    }
   ],
   "source": [
    "track1 = MPTrack(\"white whistle\") \n",
    "track2 = MPTrack(\"butter butter\") \n",
    "track3 = MPTrack(\"Oh black star\") \n",
    "track4 = MPTrack(\"Watch that chicken\") \n",
    "track5 = MPTrack(\"Don't go\")\n",
    "\n",
    "media_player = MPPlaylist()\n",
    "\n",
    "media_player.add_track(track1)\n",
    "media_player.add_track(track2)\n",
    "media_player.add_track(track3)\n",
    "media_player.add_track(track4)\n",
    "media_player.add_track(track5)\n",
    "\n",
    "media_player.play()"
   ]
  }
 ],
 "metadata": {
  "hide_input": false,
  "kernelspec": {
   "display_name": "Python 3 (ipykernel)",
   "language": "python",
   "name": "python3"
  },
  "language_info": {
   "codemirror_mode": {
    "name": "ipython",
    "version": 3
   },
   "file_extension": ".py",
   "mimetype": "text/x-python",
   "name": "python",
   "nbconvert_exporter": "python",
   "pygments_lexer": "ipython3",
   "version": "3.10.4"
  },
  "toc": {
   "base_numbering": 1,
   "nav_menu": {},
   "number_sections": true,
   "sideBar": true,
   "skip_h1_title": true,
   "title_cell": "Table of Contents",
   "title_sidebar": "Contents",
   "toc_cell": true,
   "toc_position": {},
   "toc_section_display": true,
   "toc_window_display": true
  },
  "varInspector": {
   "cols": {
    "lenName": 16,
    "lenType": 16,
    "lenVar": 40
   },
   "kernels_config": {
    "python": {
     "delete_cmd_postfix": "",
     "delete_cmd_prefix": "del ",
     "library": "var_list.py",
     "varRefreshCmd": "print(var_dic_list())"
    },
    "r": {
     "delete_cmd_postfix": ") ",
     "delete_cmd_prefix": "rm(",
     "library": "var_list.r",
     "varRefreshCmd": "cat(var_dic_list()) "
    }
   },
   "types_to_exclude": [
    "module",
    "function",
    "builtin_function_or_method",
    "instance",
    "_Feature"
   ],
   "window_display": false
  }
 },
 "nbformat": 4,
 "nbformat_minor": 4
}
