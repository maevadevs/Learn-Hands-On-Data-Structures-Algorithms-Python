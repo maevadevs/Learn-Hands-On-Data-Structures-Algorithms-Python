{
 "cells": [
  {
   "cell_type": "markdown",
   "metadata": {
    "toc": true
   },
   "source": [
    "<h1>Table of Contents<span class=\"tocSkip\"></span></h1>\n",
    "<div class=\"toc\"><ul class=\"toc-item\"></ul></div>"
   ]
  },
  {
   "cell_type": "code",
   "execution_count": 5,
   "metadata": {},
   "outputs": [],
   "source": [
    "from math import log10 \n",
    "import math"
   ]
  },
  {
   "cell_type": "code",
   "execution_count": 6,
   "metadata": {},
   "outputs": [],
   "source": [
    "def karatsuba(x, y):\n",
    "    # The base case for recursion\n",
    "    if x < 10 or y < 10:\n",
    "        return x * y\n",
    "    \n",
    "    # Sets n, the number of digits in the highest input number\n",
    "    n = max(int(log10(x) + 1), int(log10(y) + 1))\n",
    "    \n",
    "    # Roundsup n / 2\n",
    "    n_2 = int(math.ceil(n / 2.0))\n",
    "    \n",
    "    # Adds 1 if n is uneven\n",
    "    n = n if n % 2 == 0 else n + 1\n",
    "    \n",
    "    # Splits the input numbers\n",
    "    a, b = divmod(x, 10**n_2)\n",
    "    c, d = divmod(y,10**n_2)\n",
    "\n",
    "    # Applies the three recursive steps \n",
    "    ac = karatsuba(a, c)\n",
    "    bd = karatsuba(b, d)\n",
    "    ad_bc = karatsuba((a + b), (c + d)) - ac - bd\n",
    "\n",
    "    # Performs the multiplication\n",
    "    return (((10**n) * ac) + bd + ((10**n_2) * (ad_bc)))"
   ]
  },
  {
   "cell_type": "code",
   "execution_count": 7,
   "metadata": {},
   "outputs": [
    {
     "name": "stdout",
     "output_type": "stream",
     "text": [
      "1524157875323883675296448734281359552315471727323030025943726596557677488187881\n",
      "--- 0.0019822120666503906 seconds ---\n"
     ]
    }
   ],
   "source": [
    "# Measuring Performance\n",
    "from time import time\n",
    "\n",
    "start_time = time()\n",
    "res = karatsuba(1234567890123456789112345678901234567891, 1234567890123456789112345678901234567891)\n",
    "print(res)\n",
    "end_time = time()\n",
    "\n",
    "print(\"--- {} seconds ---\".format(end_time - start_time))"
   ]
  },
  {
   "cell_type": "code",
   "execution_count": 8,
   "metadata": {},
   "outputs": [
    {
     "name": "stdout",
     "output_type": "stream",
     "text": [
      "1524157875323883675296448734281359552315471727323030025943726596557677488187881\n",
      "--- 0.0 seconds ---\n"
     ]
    }
   ],
   "source": [
    "# Comparing Performance with normal multiplication\n",
    "from time import time\n",
    "\n",
    "start_time = time()\n",
    "res = 1234567890123456789112345678901234567891 * 1234567890123456789112345678901234567891\n",
    "print(res)\n",
    "end_time = time()\n",
    "\n",
    "print(\"--- {} seconds ---\".format(end_time - start_time))"
   ]
  }
 ],
 "metadata": {
  "kernelspec": {
   "display_name": "Python 3",
   "language": "python",
   "name": "python3"
  },
  "language_info": {
   "codemirror_mode": {
    "name": "ipython",
    "version": 3
   },
   "file_extension": ".py",
   "mimetype": "text/x-python",
   "name": "python",
   "nbconvert_exporter": "python",
   "pygments_lexer": "ipython3",
   "version": "3.7.6"
  },
  "toc": {
   "base_numbering": 1,
   "nav_menu": {},
   "number_sections": true,
   "sideBar": true,
   "skip_h1_title": true,
   "title_cell": "Table of Contents",
   "title_sidebar": "Contents",
   "toc_cell": true,
   "toc_position": {},
   "toc_section_display": true,
   "toc_window_display": true
  }
 },
 "nbformat": 4,
 "nbformat_minor": 4
}
