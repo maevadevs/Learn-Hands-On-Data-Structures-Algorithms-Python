{
 "cells": [
  {
   "cell_type": "markdown",
   "metadata": {
    "toc": true
   },
   "source": [
    "<h1>Table of Contents<span class=\"tocSkip\"></span></h1>\n",
    "<div class=\"toc\"><ul class=\"toc-item\"><li><span><a href=\"#Chapter-Goals\" data-toc-modified-id=\"Chapter-Goals-1\"><span class=\"toc-item-num\">1&nbsp;&nbsp;</span>Chapter Goals</a></span></li><li><span><a href=\"#Checking-Python-Version\" data-toc-modified-id=\"Checking-Python-Version-2\"><span class=\"toc-item-num\">2&nbsp;&nbsp;</span>Checking Python Version</a></span></li><li><span><a href=\"#Installation-on-Linux\" data-toc-modified-id=\"Installation-on-Linux-3\"><span class=\"toc-item-num\">3&nbsp;&nbsp;</span>Installation on Linux</a></span></li><li><span><a href=\"#Understanding-Data-Structure-and-Algorithm\" data-toc-modified-id=\"Understanding-Data-Structure-and-Algorithm-4\"><span class=\"toc-item-num\">4&nbsp;&nbsp;</span>Understanding Data Structure and Algorithm</a></span><ul class=\"toc-item\"><li><span><a href=\"#What-Do-We-Need\" data-toc-modified-id=\"What-Do-We-Need-4.1\"><span class=\"toc-item-num\">4.1&nbsp;&nbsp;</span>What Do We Need</a></span></li><li><span><a href=\"#Python-for-Data\" data-toc-modified-id=\"Python-for-Data-4.2\"><span class=\"toc-item-num\">4.2&nbsp;&nbsp;</span>Python for Data</a></span></li><li><span><a href=\"#Python-Environment\" data-toc-modified-id=\"Python-Environment-4.3\"><span class=\"toc-item-num\">4.3&nbsp;&nbsp;</span>Python Environment</a></span></li><li><span><a href=\"#Variables-and-Expressions\" data-toc-modified-id=\"Variables-and-Expressions-4.4\"><span class=\"toc-item-num\">4.4&nbsp;&nbsp;</span>Variables and Expressions</a></span></li><li><span><a href=\"#Variable-Scope\" data-toc-modified-id=\"Variable-Scope-4.5\"><span class=\"toc-item-num\">4.5&nbsp;&nbsp;</span>Variable Scope</a></span></li></ul></li><li><span><a href=\"#Flow-Control-and-Iterations\" data-toc-modified-id=\"Flow-Control-and-Iterations-5\"><span class=\"toc-item-num\">5&nbsp;&nbsp;</span>Flow Control and Iterations</a></span></li><li><span><a href=\"#Data-Types-and-Objects\" data-toc-modified-id=\"Data-Types-and-Objects-6\"><span class=\"toc-item-num\">6&nbsp;&nbsp;</span>Data Types and Objects</a></span><ul class=\"toc-item\"><li><span><a href=\"#Strings\" data-toc-modified-id=\"Strings-6.1\"><span class=\"toc-item-num\">6.1&nbsp;&nbsp;</span>Strings</a></span><ul class=\"toc-item\"><li><span><a href=\"#String-Methods\" data-toc-modified-id=\"String-Methods-6.1.1\"><span class=\"toc-item-num\">6.1.1&nbsp;&nbsp;</span>String Methods</a></span></li></ul></li><li><span><a href=\"#Lists\" data-toc-modified-id=\"Lists-6.2\"><span class=\"toc-item-num\">6.2&nbsp;&nbsp;</span>Lists</a></span><ul class=\"toc-item\"><li><span><a href=\"#List-Methods\" data-toc-modified-id=\"List-Methods-6.2.1\"><span class=\"toc-item-num\">6.2.1&nbsp;&nbsp;</span>List Methods</a></span></li><li><span><a href=\"#List-Comprehension\" data-toc-modified-id=\"List-Comprehension-6.2.2\"><span class=\"toc-item-num\">6.2.2&nbsp;&nbsp;</span>List Comprehension</a></span></li></ul></li><li><span><a href=\"#Functions\" data-toc-modified-id=\"Functions-6.3\"><span class=\"toc-item-num\">6.3&nbsp;&nbsp;</span>Functions</a></span><ul class=\"toc-item\"><li><span><a href=\"#High-Order-Functions\" data-toc-modified-id=\"High-Order-Functions-6.3.1\"><span class=\"toc-item-num\">6.3.1&nbsp;&nbsp;</span>High Order Functions</a></span></li><li><span><a href=\"#Recursive-Functions\" data-toc-modified-id=\"Recursive-Functions-6.3.2\"><span class=\"toc-item-num\">6.3.2&nbsp;&nbsp;</span>Recursive Functions</a></span></li></ul></li></ul></li><li><span><a href=\"#Generators-and-Coroutines\" data-toc-modified-id=\"Generators-and-Coroutines-7\"><span class=\"toc-item-num\">7&nbsp;&nbsp;</span>Generators and Coroutines</a></span><ul class=\"toc-item\"><li><span><a href=\"#Generator-Expression\" data-toc-modified-id=\"Generator-Expression-7.1\"><span class=\"toc-item-num\">7.1&nbsp;&nbsp;</span>Generator Expression</a></span></li></ul></li><li><span><a href=\"#Classes-and-Objects\" data-toc-modified-id=\"Classes-and-Objects-8\"><span class=\"toc-item-num\">8&nbsp;&nbsp;</span>Classes and Objects</a></span><ul class=\"toc-item\"><li><span><a href=\"#Creating-New-Instances-of-a-Class\" data-toc-modified-id=\"Creating-New-Instances-of-a-Class-8.1\"><span class=\"toc-item-num\">8.1&nbsp;&nbsp;</span>Creating New Instances of a Class</a></span></li><li><span><a href=\"#Special-Methods\" data-toc-modified-id=\"Special-Methods-8.2\"><span class=\"toc-item-num\">8.2&nbsp;&nbsp;</span>Special Methods</a></span></li></ul></li><li><span><a href=\"#Inheritance\" data-toc-modified-id=\"Inheritance-9\"><span class=\"toc-item-num\">9&nbsp;&nbsp;</span>Inheritance</a></span><ul class=\"toc-item\"><li><span><a href=\"#Static-Method-vs-Class-Method-vs-Instance-Method\" data-toc-modified-id=\"Static-Method-vs-Class-Method-vs-Instance-Method-9.1\"><span class=\"toc-item-num\">9.1&nbsp;&nbsp;</span>Static Method vs Class Method vs Instance Method</a></span></li></ul></li><li><span><a href=\"#Data-Encapsulation-and-Properties\" data-toc-modified-id=\"Data-Encapsulation-and-Properties-10\"><span class=\"toc-item-num\">10&nbsp;&nbsp;</span>Data Encapsulation and Properties</a></span></li></ul></div>"
   ]
  },
  {
   "cell_type": "markdown",
   "metadata": {},
   "source": [
    "---"
   ]
  },
  {
   "cell_type": "markdown",
   "metadata": {},
   "source": [
    "# Python Objects, Types, and Expressions"
   ]
  },
  {
   "cell_type": "markdown",
   "metadata": {},
   "source": [
    "- Core elements of a software project\n",
    "  - **Algorithm**: Using data efficiently\n",
    "  - **Data Structure**: Storing and organizing data efficiently\n",
    "- Python\n",
    "  - Efficient high-level data structures\n",
    "  - Language of choice for data-related tasks\n",
    "  - Easy-to-learn advanced language\n",
    "  - Fully-featured OO programming language\n",
    "  - Intuitive structures and semantics\n",
    "  - Straightforward way to perform a wide variety of data tasks\n",
    "  - Many useful built-in algorithms and Data Structures"
   ]
  },
  {
   "cell_type": "markdown",
   "metadata": {},
   "source": [
    "## Chapter Goals"
   ]
  },
  {
   "cell_type": "markdown",
   "metadata": {},
   "source": [
    "- Obtain a general working knowledge of data structures and algorithms\n",
    "- Understand core data types and their functions\n",
    "- Explore the object-oriented aspects of the Python programming language"
   ]
  },
  {
   "cell_type": "markdown",
   "metadata": {},
   "source": [
    "---"
   ]
  },
  {
   "cell_type": "markdown",
   "metadata": {},
   "source": [
    "## Checking Python Version"
   ]
  },
  {
   "cell_type": "code",
   "execution_count": 1,
   "metadata": {},
   "outputs": [
    {
     "name": "stdout",
     "output_type": "stream",
     "text": [
      "sys.version: 3.8.2 (tags/v3.8.2:7b3ab59, Feb 25 2020, 22:45:29) [MSC v.1916 32 bit (Intel)]\n"
     ]
    }
   ],
   "source": [
    "import sys\n",
    "print(\"sys.version:\", sys.version)"
   ]
  },
  {
   "cell_type": "markdown",
   "metadata": {},
   "source": [
    "---"
   ]
  },
  {
   "cell_type": "markdown",
   "metadata": {},
   "source": [
    "## Installation on Linux"
   ]
  },
  {
   "cell_type": "markdown",
   "metadata": {},
   "source": [
    "```sh\n",
    "sudo apt-get update\n",
    "sudo apt-get install -y python3-pip\n",
    "pip3 install <package_name>\n",
    "```"
   ]
  },
  {
   "cell_type": "markdown",
   "metadata": {},
   "source": [
    "---"
   ]
  },
  {
   "cell_type": "markdown",
   "metadata": {},
   "source": [
    "## Understanding Data Structure and Algorithm"
   ]
  },
  {
   "cell_type": "markdown",
   "metadata": {},
   "source": [
    "- The main building blocks from which complex software is built\n",
    "- Questions that we need to understand:\n",
    "  - How Algorithms manipulate information contained within data structures\n",
    "  - How data is arranged in memory\n",
    "  - What the performance characteristics of particular data structures are"
   ]
  },
  {
   "cell_type": "markdown",
   "metadata": {},
   "source": [
    "### What Do We Need"
   ]
  },
  {
   "cell_type": "markdown",
   "metadata": {},
   "source": [
    "- Fundamentals of the Python programming language from the perspective of data structures and algorithms\n",
    "- Mathematical tools\n",
    "- Evaluation: When we are working on large datasets or real-time applications, it is essential that our algorithms and structures are as efficient as they can be\n",
    "- Strong experimental design strategy\n",
    "  - Conceptually translate a real-world problem into the algorithms and data structures of a programming language\n",
    "  - Understand the important elements of a problem and a methodology for mapping these elements to programming structures\n",
    "- Conditions determine the most appropriate solution\n",
    "- The order in which we search through items and the shape of the data structures can make a big difference to the time it takes to do a search"
   ]
  },
  {
   "cell_type": "markdown",
   "metadata": {},
   "source": [
    "### Python for Data"
   ]
  },
  {
   "cell_type": "markdown",
   "metadata": {},
   "source": [
    "- Python has 4 main built-in data structures:\n",
    "  - List\n",
    "  - Dictionary\n",
    "  - Set\n",
    "  - Tuple\n",
    "- Internal libraries of classes: `collections`, `math`...\n",
    "- External libraries of classes: `SciPy`, `NumPy`\n",
    "  - There is often a performance penalty in using external libraries compared to building customized objects from the ground up.\n",
    "  - By coding them ourselves, we can be more specific on the target goals"
   ]
  },
  {
   "cell_type": "markdown",
   "metadata": {},
   "source": [
    "### Python Environment"
   ]
  },
  {
   "cell_type": "markdown",
   "metadata": {},
   "source": [
    "- Python interactive Console: *Read, Evaluate, Print*\n",
    "- Compiled Languages: *Write, Compile, Test, Recompile*\n",
    "- Python Distributions:\n",
    "  - CPython\n",
    "  - Anaconda\n",
    "  - Canopy\n",
    "  - IPython/Jupyter console\n",
    "- Most distributions come with their own developer environments\n",
    "  - Libraries for scientific, machine learning, data applications\n",
    "  - Most distributions come with an editor"
   ]
  },
  {
   "cell_type": "markdown",
   "metadata": {},
   "source": [
    "### Variables and Expressions"
   ]
  },
  {
   "cell_type": "markdown",
   "metadata": {},
   "source": [
    "- Variables are not objects nor containers for objects\n",
    "- They only act as a pointer or a reference to the object"
   ]
  },
  {
   "cell_type": "code",
   "execution_count": 2,
   "metadata": {},
   "outputs": [
    {
     "name": "stdout",
     "output_type": "stream",
     "text": [
      "b: [1, 2, 3, 4]\n"
     ]
    }
   ],
   "source": [
    "a = [1, 2, 3]\n",
    "b = a\n",
    "b.append(4)\n",
    "print(\"b:\", b)"
   ]
  },
  {
   "cell_type": "markdown",
   "metadata": {},
   "source": [
    "- Variables in Python are dynamically-typed\n",
    "- Each value has a type, like a string or integer. However, the variable name (container) that points to this value does not have a specific type\n",
    "- Variables point to an object that can change their type depending on the kind of values assigned to them"
   ]
  },
  {
   "cell_type": "code",
   "execution_count": 3,
   "metadata": {},
   "outputs": [
    {
     "name": "stdout",
     "output_type": "stream",
     "text": [
      "type(a): <class 'int'>\n",
      "type(a): <class 'float'>\n"
     ]
    }
   ],
   "source": [
    "a = 1\n",
    "print(\"type(a):\", type(a))\n",
    "a = a + 0.1\n",
    "print(\"type(a):\", type(a))"
   ]
  },
  {
   "cell_type": "markdown",
   "metadata": {},
   "source": [
    "### Variable Scope"
   ]
  },
  {
   "cell_type": "markdown",
   "metadata": {},
   "source": [
    "- Python uses a function-scope: Whenever a function executes, a local environment (namespace) is created\n",
    "- Whenever a function is called:\n",
    "  - Looks into the `local` namespace that is the function itself\n",
    "  - If no match: Looks in the `global` namespace\n",
    "  - If no match: Looks in the `built-in` namespace\n",
    "  - If no match: Raise a `NameError` exception\n",
    "- Using the keyword `global` inside the function, we are referring to a global variable"
   ]
  },
  {
   "cell_type": "code",
   "execution_count": 4,
   "metadata": {},
   "outputs": [
    {
     "name": "stdout",
     "output_type": "stream",
     "text": [
      "a: 15\n",
      "b: 25\n",
      "a: 11\n",
      "b: 25\n"
     ]
    }
   ],
   "source": [
    "# Globals\n",
    "a = 15; b = 25\n",
    "\n",
    "def my_first_function():\n",
    "  a = 11 # Local a is 11\n",
    "  b = 21\n",
    "\n",
    "def my_second_function():\n",
    "  global a # Referring to global a\n",
    "  a = 11 # Now global a is 11\n",
    "  b = 21\n",
    "\n",
    "my_first_function()\n",
    "print(\"a:\", a)\n",
    "print(\"b:\", b)\n",
    "my_second_function()\n",
    "print(\"a:\", a)\n",
    "print(\"b:\", b)"
   ]
  },
  {
   "cell_type": "markdown",
   "metadata": {},
   "source": [
    "- Assignment to a variable in a scope makes that variable a local variable to that scope"
   ]
  },
  {
   "cell_type": "code",
   "execution_count": 5,
   "metadata": {},
   "outputs": [],
   "source": [
    "a = 10\n",
    "\n",
    "def my_function():\n",
    "  print(a)\n",
    "  a = a + 1\n",
    "\n",
    "#my_function()\n",
    "# => UnboundLocalError: local variable 'a' referenced before assignment"
   ]
  },
  {
   "cell_type": "markdown",
   "metadata": {},
   "source": [
    "- Accessing the variable as global would work in this case"
   ]
  },
  {
   "cell_type": "code",
   "execution_count": 6,
   "metadata": {},
   "outputs": [
    {
     "name": "stdout",
     "output_type": "stream",
     "text": [
      "10\n"
     ]
    }
   ],
   "source": [
    "a = 10\n",
    "\n",
    "def my_function():\n",
    "  global a\n",
    "  print(a)\n",
    "  a = a + 1\n",
    "\n",
    "my_function()"
   ]
  },
  {
   "cell_type": "markdown",
   "metadata": {},
   "source": [
    "- But if a local variable does not exist, the global variable is looked at next"
   ]
  },
  {
   "cell_type": "code",
   "execution_count": 7,
   "metadata": {},
   "outputs": [
    {
     "name": "stdout",
     "output_type": "stream",
     "text": [
      "10\n"
     ]
    }
   ],
   "source": [
    "a = 10\n",
    "\n",
    "def my_function():\n",
    "  print(a)\n",
    "\n",
    "my_function ()"
   ]
  },
  {
   "cell_type": "markdown",
   "metadata": {},
   "source": [
    "- In Python, the variables that are referenced inside a function are global implicitly\n",
    "- If the a variable is **assigned** a value anywhere inside the function's body, it is assumed to be a local variable unless explicitly declared as `global`"
   ]
  },
  {
   "cell_type": "markdown",
   "metadata": {},
   "source": [
    "---"
   ]
  },
  {
   "cell_type": "markdown",
   "metadata": {},
   "source": [
    "## Flow Control and Iterations"
   ]
  },
  {
   "cell_type": "markdown",
   "metadata": {},
   "source": [
    "- The interpreter executes each statement in order until there are no more statements\n",
    "- All statements have equal status: There are no priorities between statements, main or `import`\n",
    "- Every statement can be placed anywhere in the program\n",
    "- There are 2 ways to control the flow of execution (forking):\n",
    "  - Conditionals: `if`, `elif`, `else`\n",
    "  - Loops: `for`, `while`"
   ]
  },
  {
   "cell_type": "markdown",
   "metadata": {},
   "source": [
    "---"
   ]
  },
  {
   "cell_type": "markdown",
   "metadata": {},
   "source": [
    "## Data Types and Objects"
   ]
  },
  {
   "cell_type": "markdown",
   "metadata": {},
   "source": [
    "- Built-in data types\n",
    "  - Numeric Types: `int`, `float`, `complex`, `bool`\n",
    "  - Sequence Types: `str`, `list`, `tuple`, `range`\n",
    "  - Mapping Type: `dict`\n",
    "  - Set Types: `set`, `frozenset`\n",
    "- User-Defined Objects\n",
    "  - Function\n",
    "  - Class\n",
    "- All data types in Python are object\n",
    "  - Each object has `type`, `value`, and `identity`\n",
    "  - `identity` is a pointer to the object's location in memory\n",
    "  - Once an instance of an object is created, its identity and type cannot be changed"
   ]
  },
  {
   "cell_type": "code",
   "execution_count": 8,
   "metadata": {},
   "outputs": [],
   "source": [
    "greeting = \"Hello World!\""
   ]
  },
  {
   "cell_type": "markdown",
   "metadata": {},
   "source": [
    "- Type: `<class 'str'>`\n",
    "- Value: `\"Hello World!\"`\n",
    "- Identity: Location in Memory (In theory): `10374080`\n",
    "- `type()`: Get the type of an object\n",
    "- `id()`: Get the id of an object: Location in memory in theory, but do not rely on this in your codes\n",
    "- Comparing objects:\n",
    "  - `if a == b`: a and b have the same value\n",
    "  - `if a is b`: a and b are the same object\n",
    "  - `if type(a) is type(b)`: a and b are of the same type\n",
    "- Mutable:\n",
    "  - Mutable objects can have their values changed\n",
    "  - They have methods that change an object's value\n",
    "- Immutable:\n",
    "  - Immutable objects cannot have their values changed\n",
    "  - When we run their methods, they simply return a value rather than change the value of an underlying object"
   ]
  },
  {
   "cell_type": "markdown",
   "metadata": {},
   "source": [
    "### Strings"
   ]
  },
  {
   "cell_type": "markdown",
   "metadata": {},
   "source": [
    "- Immutable sequence object\n",
    "- Support indexing and slicing\n",
    "- We can use any expression, variable, or operator as an index as long as the value is an integer\n",
    "- We use methods to perform operations\n",
    "- Python never interprets the contents of a string as a number: If we need to perform mathematical operations on a string, we need to first convert them to a numeric type\n",
    "- We can also traverse a string with a loop using `enumerate()`"
   ]
  },
  {
   "cell_type": "markdown",
   "metadata": {},
   "source": [
    "#### String Methods"
   ]
  },
  {
   "cell_type": "markdown",
   "metadata": {},
   "source": [
    "- `str.capitalize()`: Capitalize the first letter\n",
    "- `str.count(substring, [start, end])`: Count occurence of substring\n",
    "- `str.expandtabs([tabsize])`: Replace tabs with spaces\n",
    "- `str.endswith(substring, [start, end]`: True if ending with substring. False otherwise\n",
    "- `str.find(substring, [start, end])`: Return the first occurence of substring\n",
    "- `str.isalnum()`: True if all characters are alphanumeric. False otherwise\n",
    "- `str.isalpha()`: True if all characters are alphabetic. False otherwise\n",
    "- `str.isdigit()`: True if all characters are digit. False otherwise\n",
    "- `str.split([sep],[maxsplit])`: Splits a string at whitespace or an optional separator. Returns a list\n",
    "- `str.join(t)`: Joins the strings in sequence t\n",
    "- `str.lower()`: Convert string to all lowercase\n",
    "- `str.replace(old, new, [maxreplace])`: Replaces old substring with a new substring\n",
    "- `str.startswith(substring, [start, end])`: True if the string starts with a specified substring\n",
    "- `str.swapcase()`: Returns a copy of the string with swapped case in the string\n",
    "- `str.strip([chars])`: Removes whitespace or optional characters\n",
    "- `str.lstrip([characters])`: Returns a copy of the string with leading characters removed"
   ]
  },
  {
   "cell_type": "markdown",
   "metadata": {},
   "source": [
    "### Lists"
   ]
  },
  {
   "cell_type": "markdown",
   "metadata": {},
   "source": [
    "- Most used built-in data structure\n",
    "- Can contain different data type\n",
    "- Python does not create multiple copies of a variable (Reference). It only creates new copy when required. This makes Python more memory efficient\n",
    "- Lists are mutable"
   ]
  },
  {
   "cell_type": "code",
   "execution_count": 9,
   "metadata": {},
   "outputs": [
    {
     "name": "stdout",
     "output_type": "stream",
     "text": [
      "list_one: [4, 2, 3]\n"
     ]
    }
   ],
   "source": [
    "x = 1\n",
    "y = 2\n",
    "z = 3\n",
    "\n",
    "list_one = [x, y, z]\n",
    "list_two = list_one\n",
    "list_two[0] = 4\n",
    "print(\"list_one:\", list_one)"
   ]
  },
  {
   "cell_type": "markdown",
   "metadata": {},
   "source": [
    "#### List Methods"
   ]
  },
  {
   "cell_type": "markdown",
   "metadata": {},
   "source": [
    "- `list(s)`: Creates a list from a sequence `s`\n",
    "- `lst.append(x)`: Append an element at the end of the list\n",
    "- `lst.exented(ls2)`: Extend `lst` with the elements of `ls2`\n",
    "- `lst.count(x)`: Count occurences of an element\n",
    "- `lst.index(x, [start], [stop])`: Returns the smallest index `i`, where `s[i]==x`\n",
    "- `lst.insert(i, x)`: Insert x at index i\n",
    "- `lst.pop(i)`: Removes and returns the element at index `i`\n",
    "- `lst.remove(x)`: Remove element `x` from the list\n",
    "- `lst.sort([key], [reverse])`: Sort the order of the list\n",
    "- `lst.reverse()`: Reverse the order of the list"
   ]
  },
  {
   "cell_type": "markdown",
   "metadata": {},
   "source": [
    "#### List Comprehension"
   ]
  },
  {
   "cell_type": "markdown",
   "metadata": {},
   "source": [
    "- A very intuitive way to create lists\n",
    "- Can be used to replicate the function of loops in a compact way\n",
    "- List forms the foundation of many complex data structures\n",
    "- Versatility, ease of creation, and use enable them to build more specialized and complex data structures"
   ]
  },
  {
   "cell_type": "code",
   "execution_count": 10,
   "metadata": {},
   "outputs": [
    {
     "name": "stdout",
     "output_type": "stream",
     "text": [
      "numbers: [0, 1, 4, 9, 16]\n",
      "mList: [4, 5, 6, 8, 10, 12, 12, 15, 18]\n"
     ]
    }
   ],
   "source": [
    "numbers = [num**2 for num in range(5)]\n",
    "print(\"numbers:\", numbers)\n",
    "\n",
    "nList = [\n",
    "  [1, 2, 3],\n",
    "  [4, 5, 6]\n",
    "]\n",
    "mList = [i * j for i in nList[0] for j in nList[1]]\n",
    "print(\"mList:\", mList)"
   ]
  },
  {
   "cell_type": "markdown",
   "metadata": {},
   "source": [
    "- List comprehension can be used as replacement for `for` loops too sometimes"
   ]
  },
  {
   "cell_type": "code",
   "execution_count": 11,
   "metadata": {},
   "outputs": [
    {
     "name": "stdout",
     "output_type": "stream",
     "text": [
      "lst: [0, 8, 16, 24, 32, 40, 48, 56, 64, 72, 80, 88, 96, 104, 112, 120]\n"
     ]
    }
   ],
   "source": [
    "def f1(x):\n",
    "  return x*2\n",
    "\n",
    "def f2(x):\n",
    "  return x*4\n",
    "\n",
    "# Using for-loops\n",
    "lst = []\n",
    "\n",
    "for i in range(16):\n",
    "  lst.append(f1(f2(i)))\n",
    "\n",
    "print(\"lst:\", lst)"
   ]
  },
  {
   "cell_type": "code",
   "execution_count": 12,
   "metadata": {},
   "outputs": [
    {
     "name": "stdout",
     "output_type": "stream",
     "text": [
      "lst: [0, 8, 16, 24, 32, 40, 48, 56, 64, 72, 80, 88, 96, 104, 112, 120]\n"
     ]
    }
   ],
   "source": [
    "# Using list comprehension\n",
    "lst = [f1(x) for x in range(64) if x in [f2(y) for y in range(16)]]\n",
    "print(\"lst:\", lst)"
   ]
  },
  {
   "cell_type": "markdown",
   "metadata": {},
   "source": [
    "- List comprehension can also be used to replicate the action of nested loops in a more compact form"
   ]
  },
  {
   "cell_type": "code",
   "execution_count": 13,
   "metadata": {},
   "outputs": [
    {
     "name": "stdout",
     "output_type": "stream",
     "text": [
      "lst2: [400, 500, 600, 800, 1000, 1200, 1200, 1500, 1800]\n"
     ]
    }
   ],
   "source": [
    "lst = [\n",
    "  [10, 20, 30],\n",
    "  [40, 50, 60]\n",
    "]\n",
    "\n",
    "# Multiply each numbers from each list\n",
    "lst2 = [i * j for i in lst[0] for j in lst[1]]\n",
    "print(\"lst2:\", lst2)"
   ]
  },
  {
   "cell_type": "markdown",
   "metadata": {},
   "source": [
    "- We can also use list comprehension on objects"
   ]
  },
  {
   "cell_type": "code",
   "execution_count": 14,
   "metadata": {},
   "outputs": [
    {
     "name": "stdout",
     "output_type": "stream",
     "text": [
      "words_lengths: [('split', 5), ('this', 4), ('sentence', 8), ('please', 6)]\n"
     ]
    }
   ],
   "source": [
    "words = \"split this sentence please\".split()\n",
    "words_lengths = [(word, len(word)) for word in words]\n",
    "print(\"words_lengths:\", words_lengths)"
   ]
  },
  {
   "cell_type": "markdown",
   "metadata": {},
   "source": [
    "### Functions"
   ]
  },
  {
   "cell_type": "markdown",
   "metadata": {},
   "source": [
    "- Functions are first-class objects\n",
    "- Can be manipulated as regular objects\n",
    "- First-class object:\n",
    "  - Created at runtime\n",
    "  - Assigned as a variable or in a data structure\n",
    "  - Passed as argument to a function\n",
    "  - Returned as result of a function\n",
    "- All Python objects are essentially first-class"
   ]
  },
  {
   "cell_type": "code",
   "execution_count": 15,
   "metadata": {},
   "outputs": [],
   "source": [
    "def greeting(language):\n",
    "  if language == 'en':\n",
    "    return 'hello world'\n",
    "  if language == 'fr':\n",
    "    return 'Bonjour le monde'\n",
    "  else:\n",
    "    return 'language not supported'"
   ]
  },
  {
   "cell_type": "markdown",
   "metadata": {},
   "source": [
    "- We can include function calls in lists"
   ]
  },
  {
   "cell_type": "code",
   "execution_count": 16,
   "metadata": {},
   "outputs": [
    {
     "name": "stdout",
     "output_type": "stream",
     "text": [
      "ls: ['Bonjour le monde', 'hello world']\n"
     ]
    }
   ],
   "source": [
    "ls = [greeting('fr'), greeting('en')]\n",
    "print(\"ls:\", ls)"
   ]
  },
  {
   "cell_type": "markdown",
   "metadata": {},
   "source": [
    "- We can use function as argument to functions\n",
    "- This is useful for pre-processing functions (decorators/High Order Function)"
   ]
  },
  {
   "cell_type": "code",
   "execution_count": 17,
   "metadata": {},
   "outputs": [
    {
     "data": {
      "text/plain": [
       "'hello world'"
      ]
     },
     "execution_count": 17,
     "metadata": {},
     "output_type": "execute_result"
    }
   ],
   "source": [
    "def greet(fn):\n",
    "  lang = 'en'\n",
    "  return fn(lang)\n",
    "\n",
    "greet(greeting)"
   ]
  },
  {
   "cell_type": "markdown",
   "metadata": {},
   "source": [
    "#### High Order Functions"
   ]
  },
  {
   "cell_type": "markdown",
   "metadata": {},
   "source": [
    "- A function that take a function as argument\n",
    "- A function that returns a function\n",
    "- 2 built-in HOF in Python 3:\n",
    "  - `map()`\n",
    "  - `filter()`"
   ]
  },
  {
   "cell_type": "code",
   "execution_count": 18,
   "metadata": {},
   "outputs": [
    {
     "name": "stdout",
     "output_type": "stream",
     "text": [
      "1\n",
      "4\n",
      "9\n",
      "16\n"
     ]
    }
   ],
   "source": [
    "lst = [1, 2, 3, 4]\n",
    "for item in map(lambda x : x**2, lst):\n",
    "  print(item)"
   ]
  },
  {
   "cell_type": "code",
   "execution_count": 19,
   "metadata": {},
   "outputs": [
    {
     "name": "stdout",
     "output_type": "stream",
     "text": [
      "2\n",
      "4\n"
     ]
    }
   ],
   "source": [
    "lst = [1, 2, 3, 4]\n",
    "for item in filter(lambda x : x % 2 == 0, lst):\n",
    "  print(item)"
   ]
  },
  {
   "cell_type": "markdown",
   "metadata": {},
   "source": [
    "- Both `map` and `filter` perform the same function similar to what can be achieved by list comprehensions\n",
    "  - No great deal of difference in the performance characteristics\n",
    "  - Slight performance advantage when using the in-built functions `map` and `filter` without the lambda operator\n",
    "  - Most style guides recommend the use of list comprehensions over built-in functions"
   ]
  },
  {
   "cell_type": "code",
   "execution_count": 20,
   "metadata": {},
   "outputs": [
    {
     "name": "stdout",
     "output_type": "stream",
     "text": [
      "words sorted: ['a', 'is', 'this', 'sentence']\n"
     ]
    }
   ],
   "source": [
    "# Example of using HOF: Using sorted() built-in function\n",
    "words = \"this is a sentence\".split()\n",
    "print(\"words sorted:\", sorted(words, key=len))"
   ]
  },
  {
   "cell_type": "code",
   "execution_count": 21,
   "metadata": {},
   "outputs": [
    {
     "name": "stdout",
     "output_type": "stream",
     "text": [
      "words sorted: ['a', 'is', 'sentence', 'this']\n"
     ]
    }
   ],
   "source": [
    "# Example of using HOF: Using list.sort()\n",
    "words = \"this is a sentence\".split()\n",
    "words.sort(key=str.lower)\n",
    "print(\"words sorted:\", words)"
   ]
  },
  {
   "cell_type": "markdown",
   "metadata": {},
   "source": [
    "- `lst.sort()`\n",
    "  - Sorts the existing instance of a list without copying it\n",
    "  - Changes the target object and returns `None`: *It is a Python convention that methods that change the existing object returns `None`*\n",
    "- `sorted(lst)`:\n",
    "  - Returns a new sorted list\n",
    "- We could also sort complex structures using lambda"
   ]
  },
  {
   "cell_type": "code",
   "execution_count": 22,
   "metadata": {},
   "outputs": [
    {
     "name": "stdout",
     "output_type": "stream",
     "text": [
      "lst: [['flour', 1.9, 5], ['rice', 2.5, 8], ['corn', 4.7, 6]]\n"
     ]
    }
   ],
   "source": [
    "lst = [\n",
    "  [\"rice\", 2.5, 8],\n",
    "  [\"flour\", 1.9, 5],\n",
    "  [\"corn\", 4.7, 6]\n",
    "]\n",
    "lst.sort(key=lambda el: el[1])\n",
    "print(\"lst:\", lst)"
   ]
  },
  {
   "cell_type": "markdown",
   "metadata": {},
   "source": [
    "#### Recursive Functions"
   ]
  },
  {
   "cell_type": "markdown",
   "metadata": {},
   "source": [
    "- Recursion: When a function takes one or more calls to itself during execution\n",
    "- Loops execute statements repeatedly through a Boolean condition or through a series of elements\n",
    "- Recursion repeatedly calls a function\n",
    "- Although both involve repetition, iteration loops through a sequence of operations, whereas recursion repeatedly calls a function\n",
    "- To stop a recursive function turning into an infinite loop, we need at least one argument that tests for a terminating case (base case) to end the recursion\n",
    "- Technically, recursion is a special case of iteration known as tail iteration, and it is usually always possible to convert an iterative function to a recursive function and vice versa"
   ]
  },
  {
   "cell_type": "code",
   "execution_count": 23,
   "metadata": {},
   "outputs": [],
   "source": [
    "def iterate(low, high):\n",
    "  while low <= high:\n",
    "    print(low)\n",
    "    low += 1\n",
    "\n",
    "def recurse(low, high):\n",
    "  if (low <= high):\n",
    "    print(low)\n",
    "    recurse(low+1, high)"
   ]
  },
  {
   "cell_type": "markdown",
   "metadata": {},
   "source": [
    "- In general, iteration is more efficient\n",
    "- However, recursion is usually easier to write\n",
    "- Recursive functions are also useful for manipulating recursive data structures such as linked lists and trees"
   ]
  },
  {
   "cell_type": "markdown",
   "metadata": {},
   "source": [
    "---"
   ]
  },
  {
   "cell_type": "markdown",
   "metadata": {},
   "source": [
    "## Generators and Coroutines"
   ]
  },
  {
   "cell_type": "markdown",
   "metadata": {},
   "source": [
    "- Generator: Function that does not just return one result but rather an entire sequence of results, by using the `yield` statement\n",
    "- Generators are an easy way to create iterators\n",
    "- Iterators are especially useful as a replacement for unworkably long lists\n",
    "- A generator yields items on at a time rather than builds lists at once\n",
    "- A generator is just a function\n",
    "- Generators never return a value other than `None`"
   ]
  },
  {
   "cell_type": "code",
   "execution_count": 24,
   "metadata": {},
   "outputs": [
    {
     "data": {
      "text/plain": [
       "250000000000"
      ]
     },
     "execution_count": 24,
     "metadata": {},
     "output_type": "execute_result"
    }
   ],
   "source": [
    "# Generator function: creates an iterator of odd numbers between n and m\n",
    "def oddGen(n, m):\n",
    "  while n < m:\n",
    "    yield n\n",
    "    n += 2\n",
    "\n",
    "sum(oddGen(1, 1000000))"
   ]
  },
  {
   "cell_type": "markdown",
   "metadata": {},
   "source": [
    "- Advantage of generator vs list: The values are generated on demand, rather than saved as a list in memory\n",
    "- A calculation can begin before all the elements have been generated and elements are generated only when they are needed\n",
    "- Typically, generators are used in `for-loops`: `range()` is a good example of a generator"
   ]
  },
  {
   "cell_type": "code",
   "execution_count": 25,
   "metadata": {},
   "outputs": [
    {
     "name": "stdout",
     "output_type": "stream",
     "text": [
      "0 1 2 3 4 5 6 7 "
     ]
    }
   ],
   "source": [
    "for n in range(8):\n",
    "  print(n, end=\" \")"
   ]
  },
  {
   "cell_type": "markdown",
   "metadata": {},
   "source": [
    "### Generator Expression"
   ]
  },
  {
   "cell_type": "markdown",
   "metadata": {},
   "source": [
    "- Similar to list comprehension but for generators\n",
    "- Simply replace the brackets with parenthesis\n",
    "- Does not create a list but a generator object\n",
    "- This object does not create the data, but rather creates that data on demand\n",
    "- The generator objects do not support sequence methods such as `append()` and `insert()`"
   ]
  },
  {
   "cell_type": "code",
   "execution_count": 26,
   "metadata": {},
   "outputs": [
    {
     "name": "stdout",
     "output_type": "stream",
     "text": [
      "0 1 2 3 4 5 6 7 8 9 "
     ]
    }
   ],
   "source": [
    "gen = (x for x in range(10))\n",
    "\n",
    "for n in gen:\n",
    "  print(n, end=\" \")"
   ]
  },
  {
   "cell_type": "markdown",
   "metadata": {},
   "source": [
    "- Generator object can be changed into a list using `list()`. This can only be done once though: the generator which will not return any further items"
   ]
  },
  {
   "cell_type": "code",
   "execution_count": 27,
   "metadata": {},
   "outputs": [
    {
     "name": "stdout",
     "output_type": "stream",
     "text": [
      "lst: [0, 1, 2, 3, 4, 5, 6, 7, 8, 9]\n"
     ]
    }
   ],
   "source": [
    "gen = (x for x in range(10))\n",
    "lst = list(gen)\n",
    "print(\"lst:\", lst)"
   ]
  },
  {
   "cell_type": "markdown",
   "metadata": {},
   "source": [
    "---"
   ]
  },
  {
   "cell_type": "markdown",
   "metadata": {},
   "source": [
    "## Classes and Objects"
   ]
  },
  {
   "cell_type": "markdown",
   "metadata": {},
   "source": [
    "- A class defines a set of attributes that are shared across instances of that class\n",
    "  - Functions\n",
    "  - Variables\n",
    "  - Properties\n",
    "- By organizing our programs around objects and data rather than actions and logic, we have a robust and flexible way to build complex applications\n",
    "- **Instance Methods**: The functions defined inside a class"
   ]
  },
  {
   "cell_type": "code",
   "execution_count": 28,
   "metadata": {},
   "outputs": [],
   "source": [
    "class Employee(object):\n",
    "  # Class Variables: Share value across all instances\n",
    "  numEmployee = 0\n",
    "  \n",
    "  # Implement __init__\n",
    "  def __init__(self, name, rate):\n",
    "    self.owed = 0\n",
    "    self.name = name\n",
    "    self.rate = rate\n",
    "    Employee.numEmployee += 1\n",
    "  \n",
    "  # Implement __del__\n",
    "  def __del__(self):\n",
    "    Employee.numEmployee -= 1\n",
    "  \n",
    "  def hours(self, numHours):\n",
    "    self.owed += numHours * self.rate\n",
    "    return \"{0:.2f} hours worked\".format(numHours)\n",
    "\n",
    "  def pay(self):\n",
    "    self.owed = 0\n",
    "    return \"payed {0}\".format(self.name)"
   ]
  },
  {
   "cell_type": "markdown",
   "metadata": {},
   "source": [
    "### Creating New Instances of a Class"
   ]
  },
  {
   "cell_type": "code",
   "execution_count": 29,
   "metadata": {},
   "outputs": [
    {
     "name": "stdout",
     "output_type": "stream",
     "text": [
      "2\n"
     ]
    },
    {
     "data": {
      "text/plain": [
       "'20.00 hours worked'"
      ]
     },
     "execution_count": 29,
     "metadata": {},
     "output_type": "execute_result"
    }
   ],
   "source": [
    "emp1 = Employee('John', 18.50)\n",
    "emp2 = Employee('Jill', 19.45)\n",
    "\n",
    "print(Employee.numEmployee) # => 2\n",
    "\n",
    "emp2.hours(20) # => \"20 hours worked\""
   ]
  },
  {
   "cell_type": "code",
   "execution_count": 30,
   "metadata": {},
   "outputs": [
    {
     "data": {
      "text/plain": [
       "'payed John'"
      ]
     },
     "execution_count": 30,
     "metadata": {},
     "output_type": "execute_result"
    }
   ],
   "source": [
    "emp1.pay() #=> \"payed John\""
   ]
  },
  {
   "cell_type": "markdown",
   "metadata": {},
   "source": [
    "### Special Methods"
   ]
  },
  {
   "cell_type": "markdown",
   "metadata": {},
   "source": [
    "- Built-in methods that begins and end with double-underscores\n",
    "- Generally called by the Python interpreter rather than the programmer\n",
    "- Use the `dir(obj)` function to get a list of attributes of a particular object"
   ]
  },
  {
   "cell_type": "code",
   "execution_count": 31,
   "metadata": {},
   "outputs": [
    {
     "name": "stdout",
     "output_type": "stream",
     "text": [
      "['__class__', '__del__', '__delattr__', '__dict__', '__dir__', '__doc__', '__eq__', '__format__', '__ge__', '__getattribute__', '__gt__', '__hash__', '__init__', '__init_subclass__', '__le__', '__lt__', '__module__', '__ne__', '__new__', '__reduce__', '__reduce_ex__', '__repr__', '__setattr__', '__sizeof__', '__str__', '__subclasshook__', '__weakref__', 'hours', 'name', 'numEmployee', 'owed', 'pay', 'rate']\n"
     ]
    }
   ],
   "source": [
    "print(dir(emp1))"
   ]
  },
  {
   "cell_type": "markdown",
   "metadata": {},
   "source": [
    "- `__init__`: The only special method we actually call in our programs, as common practice, to invoke the initializer of the superclass in our own class definitions"
   ]
  },
  {
   "cell_type": "code",
   "execution_count": 32,
   "metadata": {},
   "outputs": [],
   "source": [
    "class my_class():\n",
    "  def __init__(self, greet):\n",
    "    self.greet = greet\n",
    "\n",
    "  def __repr__(self):\n",
    "    return 'a custom object \"{0}\"'.format(self.greet)"
   ]
  },
  {
   "cell_type": "markdown",
   "metadata": {},
   "source": [
    "---"
   ]
  },
  {
   "cell_type": "markdown",
   "metadata": {},
   "source": [
    "## Inheritance"
   ]
  },
  {
   "cell_type": "markdown",
   "metadata": {},
   "source": [
    "- Inheritance in Python is done by passing the inherited class as an argument in the class definition. It is often used to modify the behavior of existing methods\n",
    "- The derived class is similar to the base class except for what is changed\n",
    "- For a subclass to define new class variables, it needs to define an `__init__` method"
   ]
  },
  {
   "cell_type": "code",
   "execution_count": 33,
   "metadata": {},
   "outputs": [],
   "source": [
    "class specialEmployee(Employee):\n",
    "  def __init__(self, name, rate, bonus):\n",
    "    # Calls the base classes\n",
    "    Employee.__init__(self, name, rate)\n",
    "    self.bonus = bonus\n",
    "\n",
    "  def hours(self, numHours):\n",
    "    self.owed += numHours * self.rate * 2\n",
    "    return \"{0:.2f} hours worked\".format(numHours)"
   ]
  },
  {
   "cell_type": "markdown",
   "metadata": {},
   "source": [
    "- `issubclass(subclass, class)` to check whether a class is a subclass of another class\n",
    "- `isinstance(instance, class)` to check if an object belongs to a class or not"
   ]
  },
  {
   "cell_type": "markdown",
   "metadata": {},
   "source": [
    "### Static Method vs Class Method vs Instance Method"
   ]
  },
  {
   "cell_type": "markdown",
   "metadata": {},
   "source": [
    "- A *static method* is mainly bound to the class, and not bound with the instance of the class\n",
    "  - Defined within the class and does not require an instance of a class to execute\n",
    "  - Does not perform operations in the instances\n",
    "  - Defined using the `@staticmethod` decorator\n",
    "  - Most common usage is as a convenience to group utility functions together\n",
    "- A *class method* operates on the class itself and does not work with the instances\n",
    "  - Distinguished from instance methods in the class\n",
    "  - Works in the same way that class variables are associated with the classes rather than instances of that class\n",
    "  - Defined using the `@classmethod` decorator\n",
    "  - The class itself is passed as the first argument, and this is named `cls` by convention"
   ]
  },
  {
   "cell_type": "code",
   "execution_count": 34,
   "metadata": {},
   "outputs": [
    {
     "name": "stdout",
     "output_type": "stream",
     "text": [
      "The value of 3 to the power 3 is: 27\n",
      "The sum is: 25\n",
      "64\n"
     ]
    }
   ],
   "source": [
    "class ExponentialA(object):\n",
    "  base = 3\n",
    "  \n",
    "  @classmethod\n",
    "  def exp(cls, x):\n",
    "    return(cls.base**x)\n",
    "\n",
    "  @staticmethod\n",
    "  def addition(x, y):\n",
    "    return (x + y)\n",
    "\n",
    "\n",
    "class ExponentialB(ExponentialA):\n",
    "  base = 4\n",
    "\n",
    "\n",
    "expa = ExponentialA()\n",
    "expb = expa.exp(3) # Using class method\n",
    "\n",
    "print(\"The value of 3 to the power 3 is:\", expb)\n",
    "\n",
    "# Using Static Method\n",
    "print('The sum is:', ExponentialA.addition(15, 10))\n",
    "print(ExponentialB.exp(3))"
   ]
  },
  {
   "cell_type": "markdown",
   "metadata": {},
   "source": [
    "- The difference between a static method and a class method is that a static method doesn't know anything about the class, it only deals with the parameters, whereas the class method works only with the class, and its parameter is always the class itself\n",
    "- Class methods are a way to break away from inheritance and modify the class"
   ]
  },
  {
   "cell_type": "markdown",
   "metadata": {},
   "source": [
    "---"
   ]
  },
  {
   "cell_type": "markdown",
   "metadata": {},
   "source": [
    "## Data Encapsulation and Properties"
   ]
  },
  {
   "cell_type": "markdown",
   "metadata": {},
   "source": [
    "- All attributes and methods are accessible without restriction by default\n",
    "- Everything defined in a base class is accessible from a derived class\n",
    "- This can lead to namespace conflicts between objects defined in derived classes with the base class\n",
    "- To prevent this, the methods we define private attributes with have a double underscore, such as `__privateMethod()`\n",
    "- These method names are automatically changed to `__Classname_privateMethod()` to prevent name conflicts with methods defined in base classes\n",
    "- *Note: This is only to avoid name conflict but does not hide the variable from being seen*\n",
    "- It is recommended to use private attributes when using a class property to define mutable attributes"
   ]
  },
  {
   "cell_type": "code",
   "execution_count": 36,
   "metadata": {},
   "outputs": [],
   "source": [
    "class ExponentialB(ExponentialA):\n",
    "  base = 4\n",
    "\n",
    "  def exp(self):\n",
    "    return (x**cls.base)"
   ]
  },
  {
   "cell_type": "code",
   "execution_count": null,
   "metadata": {},
   "outputs": [],
   "source": []
  }
 ],
 "metadata": {
  "kernelspec": {
   "display_name": "Python 3",
   "language": "python",
   "name": "python3"
  },
  "language_info": {
   "codemirror_mode": {
    "name": "ipython",
    "version": 3
   },
   "file_extension": ".py",
   "mimetype": "text/x-python",
   "name": "python",
   "nbconvert_exporter": "python",
   "pygments_lexer": "ipython3",
   "version": "3.8.2"
  },
  "toc": {
   "base_numbering": 1,
   "nav_menu": {},
   "number_sections": true,
   "sideBar": true,
   "skip_h1_title": true,
   "title_cell": "Table of Contents",
   "title_sidebar": "Contents",
   "toc_cell": true,
   "toc_position": {},
   "toc_section_display": true,
   "toc_window_display": true
  }
 },
 "nbformat": 4,
 "nbformat_minor": 4
}
