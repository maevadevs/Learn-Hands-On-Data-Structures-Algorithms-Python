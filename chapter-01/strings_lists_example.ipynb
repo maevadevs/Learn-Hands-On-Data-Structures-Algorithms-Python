{
 "cells": [
  {
   "cell_type": "markdown",
   "metadata": {},
   "source": [
    "# Strings and Lists Example"
   ]
  },
  {
   "cell_type": "code",
   "execution_count": 6,
   "metadata": {},
   "outputs": [
    {
     "name": "stdout",
     "output_type": "stream",
     "text": [
      "2nd character is e\n",
      "character from 0th to 8th index are  hello wo\n"
     ]
    }
   ],
   "source": [
    "greet = 'hello world'\n",
    "\n",
    "print(\"2nd character is\", greet[1])\n",
    "print(\"character from 0th to 8th index are \", greet[0:8])"
   ]
  },
  {
   "cell_type": "code",
   "execution_count": 7,
   "metadata": {},
   "outputs": [
    {
     "name": "stdout",
     "output_type": "stream",
     "text": [
      "example to understand traversing a string through loop\n",
      "(0, 'h')\n",
      "(1, 'e')\n",
      "(2, 'l')\n",
      "(3, 'l')\n",
      "(4, 'o')\n"
     ]
    }
   ],
   "source": [
    "# example to understand traversing a string through loop\n",
    "print(\"example to understand traversing a string through loop\")\n",
    "\n",
    "for i in enumerate(greet[0:5]): \n",
    "    print(i)"
   ]
  },
  {
   "cell_type": "code",
   "execution_count": 8,
   "metadata": {},
   "outputs": [
    {
     "name": "stdout",
     "output_type": "stream",
     "text": [
      "list 1 items are [1, 4, 3]\n"
     ]
    }
   ],
   "source": [
    "# examples for list\n",
    "x = 1; y = 2; z = 3\n",
    "\n",
    "list1 = [x, y, z]\n",
    "list2 = list1\n",
    "list2[1] = 4\n",
    "\n",
    "print(\"list 1 items are\", list1)"
   ]
  },
  {
   "cell_type": "code",
   "execution_count": 9,
   "metadata": {},
   "outputs": [
    {
     "name": "stdout",
     "output_type": "stream",
     "text": [
      "Product: rice price: 2.40 Quality: 8\n",
      "Product: flour price: 1.90 Quality: 5\n",
      "Product: corn price: 4.70 Quality: 6\n"
     ]
    }
   ],
   "source": [
    "items = [\n",
    "    [\"rice\", 2.4, 8], \n",
    "    [\"flour\", 1.9, 5], \n",
    "    [\"corn\", 4.7, 6]\n",
    "]\n",
    "\n",
    "for item in items:\n",
    "    print(\"Product: %s price: %.2f Quality: %i\" % (item[0], item[1], item[2]))"
   ]
  },
  {
   "cell_type": "code",
   "execution_count": 10,
   "metadata": {},
   "outputs": [
    {
     "name": "stdout",
     "output_type": "stream",
     "text": [
      "[0, 8, 16, 24, 32, 40, 48, 56, 64, 72, 80, 88, 96, 104, 112, 120]\n",
      "[0, 8, 16, 24, 32, 40, 48, 56, 64, 72, 80, 88, 96, 104, 112, 120]\n"
     ]
    }
   ],
   "source": [
    "# list comprehensions\n",
    "def f1(x): \n",
    "    return x*2\n",
    "\n",
    "def f2(x): \n",
    "    return x*4\n",
    "\n",
    "lst = []\n",
    "for i in range(16):\n",
    "    lst.append(f1(f2(i)))\n",
    "\n",
    "print(lst)\n",
    "print([f1(x) for x in range(64) if x in [f2(j) for j in range(16)]])"
   ]
  }
 ],
 "metadata": {
  "kernelspec": {
   "display_name": "Python 3",
   "language": "python",
   "name": "python3"
  },
  "language_info": {
   "codemirror_mode": {
    "name": "ipython",
    "version": 3
   },
   "file_extension": ".py",
   "mimetype": "text/x-python",
   "name": "python",
   "nbconvert_exporter": "python",
   "pygments_lexer": "ipython3",
   "version": "3.8.2"
  },
  "toc": {
   "base_numbering": 1,
   "nav_menu": {},
   "number_sections": false,
   "sideBar": false,
   "skip_h1_title": false,
   "title_cell": "Table of Contents",
   "title_sidebar": "Contents",
   "toc_cell": false,
   "toc_position": {},
   "toc_section_display": false,
   "toc_window_display": false
  }
 },
 "nbformat": 4,
 "nbformat_minor": 4
}
