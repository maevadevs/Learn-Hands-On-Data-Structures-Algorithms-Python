{
 "cells": [
  {
   "cell_type": "markdown",
   "metadata": {},
   "source": [
    "# Numeric Type"
   ]
  },
  {
   "cell_type": "code",
   "execution_count": 1,
   "metadata": {},
   "outputs": [
    {
     "name": "stdout",
     "output_type": "stream",
     "text": [
      "4 is of type <class 'int'>\n"
     ]
    }
   ],
   "source": [
    "# Operator (=) assigns the value to variable\n",
    "a = 4; b = 5\n",
    "print(a, \"is of type\", type(a))"
   ]
  },
  {
   "cell_type": "code",
   "execution_count": 2,
   "metadata": {},
   "outputs": [
    {
     "name": "stdout",
     "output_type": "stream",
     "text": [
      "9\n",
      "9\n",
      "-16\n",
      "7\n",
      "-0.5\n",
      "1.8\n"
     ]
    }
   ],
   "source": [
    "# Operations\n",
    "print(a + b)\n",
    "print(4 + 5)\n",
    "print(a - a * b)\n",
    "print(25 - 3 * 6)\n",
    "print((20 - 3 * 7) / 2)\n",
    "print(9 / 5)"
   ]
  },
  {
   "cell_type": "code",
   "execution_count": 3,
   "metadata": {},
   "outputs": [
    {
     "name": "stdout",
     "output_type": "stream",
     "text": [
      "1.25 is of type <class 'float'>\n",
      "1.25\n"
     ]
    }
   ],
   "source": [
    "# division returns a floating point number\n",
    "c = b / a\n",
    "print(c, \"is of type\", type(c))\n",
    "print(c) # No need to explicitly declare the datatype"
   ]
  },
  {
   "cell_type": "code",
   "execution_count": 4,
   "metadata": {},
   "outputs": [
    {
     "name": "stdout",
     "output_type": "stream",
     "text": [
      "1\n",
      "1 is of type <class 'int'>\n"
     ]
    }
   ],
   "source": [
    "a = 4; b = 5   \n",
    "d = b // a # Floor Division returns an integer\n",
    "print(d)\n",
    "print(d, \"is of type\", type(d))"
   ]
  },
  {
   "cell_type": "code",
   "execution_count": 5,
   "metadata": {},
   "outputs": [
    {
     "name": "stdout",
     "output_type": "stream",
     "text": [
      "-1.4\n",
      "1.4\n",
      "-2\n"
     ]
    }
   ],
   "source": [
    "print(-7 / 5) # Float\n",
    "print(7 / 5) # Float\n",
    "print(-7 // 5) # Integer"
   ]
  },
  {
   "cell_type": "code",
   "execution_count": 6,
   "metadata": {},
   "outputs": [
    {
     "name": "stdout",
     "output_type": "stream",
     "text": [
      "power is 78125\n",
      "1.4\n"
     ]
    }
   ],
   "source": [
    "a = 7; b = 5   \n",
    "e = b**a # The operator (**) calculates power \n",
    "print(\"power is\", e)\n",
    "print(a / b)"
   ]
  },
  {
   "cell_type": "code",
   "execution_count": 7,
   "metadata": {},
   "outputs": [
    {
     "name": "stdout",
     "output_type": "stream",
     "text": [
      "(3+5j) is of type <class 'complex'>\n",
      "real part is 3.0\n",
      "imaginary part is 5.0\n",
      "(6+10j)\n",
      "(6+5j)\n",
      "(2+5j)\n"
     ]
    }
   ],
   "source": [
    "# Complex Number\n",
    "f = 3+5j\n",
    "print(f, \"is of type\", type(f))\n",
    "print(\"real part is\", f.real)\n",
    "print(\"imaginary part is\", f.imag)\n",
    "print(f * 2) # multiplication\n",
    "print(f + 3) # addition\n",
    "print(f - 1) # subtraction"
   ]
  },
  {
   "cell_type": "code",
   "execution_count": 8,
   "metadata": {},
   "outputs": [
    {
     "name": "stdout",
     "output_type": "stream",
     "text": [
      "True\n",
      "True\n",
      "False\n"
     ]
    }
   ],
   "source": [
    "print(bool(2))\n",
    "print(bool(-2))\n",
    "print(bool(0))"
   ]
  },
  {
   "cell_type": "code",
   "execution_count": 9,
   "metadata": {},
   "outputs": [
    {
     "name": "stdout",
     "output_type": "stream",
     "text": [
      "True\n"
     ]
    }
   ],
   "source": [
    "See_boolean = (4 * 3 > 10) and (6 + 5 >= 11)\n",
    "print(See_boolean)"
   ]
  },
  {
   "cell_type": "code",
   "execution_count": 10,
   "metadata": {},
   "outputs": [
    {
     "name": "stdout",
     "output_type": "stream",
     "text": [
      "Boolean expression returned True\n"
     ]
    }
   ],
   "source": [
    "if (See_boolean):\n",
    "  print(\"Boolean expression returned True\")\n",
    "else:\n",
    "  print(\"boolean expression returned False\")"
   ]
  }
 ],
 "metadata": {
  "hide_input": false,
  "kernelspec": {
   "display_name": "Python 3 (ipykernel)",
   "language": "python",
   "name": "python3"
  },
  "language_info": {
   "codemirror_mode": {
    "name": "ipython",
    "version": 3
   },
   "file_extension": ".py",
   "mimetype": "text/x-python",
   "name": "python",
   "nbconvert_exporter": "python",
   "pygments_lexer": "ipython3",
   "version": "3.8.12"
  },
  "toc": {
   "base_numbering": 1,
   "nav_menu": {},
   "number_sections": false,
   "sideBar": false,
   "skip_h1_title": false,
   "title_cell": "Table of Contents",
   "title_sidebar": "Contents",
   "toc_cell": false,
   "toc_position": {},
   "toc_section_display": false,
   "toc_window_display": false
  },
  "varInspector": {
   "cols": {
    "lenName": 16,
    "lenType": 16,
    "lenVar": 40
   },
   "kernels_config": {
    "python": {
     "delete_cmd_postfix": "",
     "delete_cmd_prefix": "del ",
     "library": "var_list.py",
     "varRefreshCmd": "print(var_dic_list())"
    },
    "r": {
     "delete_cmd_postfix": ") ",
     "delete_cmd_prefix": "rm(",
     "library": "var_list.r",
     "varRefreshCmd": "cat(var_dic_list()) "
    }
   },
   "types_to_exclude": [
    "module",
    "function",
    "builtin_function_or_method",
    "instance",
    "_Feature"
   ],
   "window_display": false
  }
 },
 "nbformat": 4,
 "nbformat_minor": 4
}
