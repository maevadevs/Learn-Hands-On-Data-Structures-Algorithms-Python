{
 "cells": [
  {
   "cell_type": "markdown",
   "metadata": {},
   "source": [
    "# Chainmap Example"
   ]
  },
  {
   "cell_type": "code",
   "execution_count": 1,
   "metadata": {},
   "outputs": [],
   "source": [
    "# Importing the modules\n",
    "from collections import ChainMap"
   ]
  },
  {
   "cell_type": "code",
   "execution_count": 2,
   "metadata": {},
   "outputs": [],
   "source": [
    "# 2 Dictionaries\n",
    "dict1 = {'a':1, 'b':2, 'c':3}\n",
    "dict2 = {'d':4, 'e':5}\n",
    "\n",
    "# linking 2 dictionaries\n",
    "chainmap = ChainMap(dict1, dict2)"
   ]
  },
  {
   "cell_type": "code",
   "execution_count": 3,
   "metadata": {},
   "outputs": [
    {
     "name": "stdout",
     "output_type": "stream",
     "text": [
      "Print two lined dictionaries: ChainMap({'a': 1, 'b': 2, 'c': 3}, {'d': 4, 'e': 5})\n",
      "Print maps for chainmap: [{'a': 1, 'b': 2, 'c': 3}, {'d': 4, 'e': 5}]\n",
      "Print values for chainmap: <bound method Mapping.values of ChainMap({'a': 1, 'b': 2, 'c': 3}, {'d': 4, 'e': 5})>\n",
      "Print value for key 'b': 2\n",
      "Print value for key 'e': 5\n"
     ]
    }
   ],
   "source": [
    "print(\"Print two lined dictionaries:\", chainmap)\n",
    "print(\"Print maps for chainmap:\", chainmap.maps)\n",
    "print(\"Print values for chainmap:\", chainmap.values)\n",
    "print(\"Print value for key 'b':\", chainmap['b']) # Accessing values from the first dictionary \n",
    "print(\"Print value for key 'e':\", chainmap['e']) # Accessing values from the second dictionary"
   ]
  },
  {
   "cell_type": "code",
   "execution_count": 4,
   "metadata": {},
   "outputs": [],
   "source": [
    "# Create a chainMap with defaults configuration\n",
    "cm = ChainMap({\n",
    "    'theme': 'Default',\n",
    "    'language': 'eng',\n",
    "    'showIndex': True, \n",
    "    'showFooter': True\n",
    "})"
   ]
  },
  {
   "cell_type": "code",
   "execution_count": 5,
   "metadata": {},
   "outputs": [
    {
     "name": "stdout",
     "output_type": "stream",
     "text": [
      "Print maps for chainmap: [{'theme': 'Default', 'language': 'eng', 'showIndex': True, 'showFooter': True}]\n",
      "Print values for chainmap: ValuesView(ChainMap({'theme': 'Default', 'language': 'eng', 'showIndex': True, 'showFooter': True}))\n"
     ]
    }
   ],
   "source": [
    "print(\"Print maps for chainmap:\", cm.maps)\n",
    "print(\"Print values for chainmap:\", cm.values())"
   ]
  },
  {
   "cell_type": "code",
   "execution_count": 6,
   "metadata": {},
   "outputs": [],
   "source": [
    "# Create a new chainMap with a child that overrides the parent.\n",
    "cm2 = cm.new_child({'theme':'bluesky', 'color': 'blue'})"
   ]
  },
  {
   "cell_type": "code",
   "execution_count": 7,
   "metadata": {},
   "outputs": [
    {
     "name": "stdout",
     "output_type": "stream",
     "text": [
      "Print value for a value theme is: bluesky\n",
      "Print the entry for 'theme' key: bluesky\n",
      "Print updated chainmap: Default\n",
      "Print newly added property: blue\n",
      "Print maps for another chainmap: [{'color': 'blue'}, {'theme': 'Default', 'language': 'eng', 'showIndex': True, 'showFooter': True}]\n",
      "Print parent of chainmap2: ChainMap({'theme': 'Default', 'language': 'eng', 'showIndex': True, 'showFooter': True})\n"
     ]
    }
   ],
   "source": [
    "print(\"Print value for a value theme is:\", cm2['theme']) # Returns the overridden theme\n",
    "print(\"Print the entry for 'theme' key:\", cm2.pop('theme')) # Removes the child theme value\n",
    "print(\"Print updated chainmap:\", cm2['theme'])\n",
    "print(\"Print newly added property:\", cm2['color'])\n",
    "print(\"Print maps for another chainmap:\", cm2.maps)\n",
    "print(\"Print parent of chainmap2:\", cm2.parents)"
   ]
  }
 ],
 "metadata": {
  "hide_input": false,
  "kernelspec": {
   "display_name": "Python 3 (ipykernel)",
   "language": "python",
   "name": "python3"
  },
  "language_info": {
   "codemirror_mode": {
    "name": "ipython",
    "version": 3
   },
   "file_extension": ".py",
   "mimetype": "text/x-python",
   "name": "python",
   "nbconvert_exporter": "python",
   "pygments_lexer": "ipython3",
   "version": "3.9.7"
  },
  "toc": {
   "base_numbering": 1,
   "nav_menu": {},
   "number_sections": false,
   "sideBar": false,
   "skip_h1_title": false,
   "title_cell": "Table of Contents",
   "title_sidebar": "Contents",
   "toc_cell": false,
   "toc_position": {
    "height": "calc(100% - 180px)",
    "left": "10px",
    "top": "150px",
    "width": "256px"
   },
   "toc_section_display": false,
   "toc_window_display": false
  },
  "varInspector": {
   "cols": {
    "lenName": 16,
    "lenType": 16,
    "lenVar": 40
   },
   "kernels_config": {
    "python": {
     "delete_cmd_postfix": "",
     "delete_cmd_prefix": "del ",
     "library": "var_list.py",
     "varRefreshCmd": "print(var_dic_list())"
    },
    "r": {
     "delete_cmd_postfix": ") ",
     "delete_cmd_prefix": "rm(",
     "library": "var_list.r",
     "varRefreshCmd": "cat(var_dic_list()) "
    }
   },
   "types_to_exclude": [
    "module",
    "function",
    "builtin_function_or_method",
    "instance",
    "_Feature"
   ],
   "window_display": false
  }
 },
 "nbformat": 4,
 "nbformat_minor": 4
}
