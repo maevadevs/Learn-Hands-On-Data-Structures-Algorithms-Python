{
 "cells": [
  {
   "cell_type": "markdown",
   "metadata": {},
   "source": [
    "# Dictionary Example"
   ]
  },
  {
   "cell_type": "code",
   "execution_count": 1,
   "metadata": {},
   "outputs": [
    {
     "name": "stdout",
     "output_type": "stream",
     "text": [
      "print dicitionay b -- {'one': 1, 'two': 2, 'three': 3}\n"
     ]
    }
   ],
   "source": [
    "# Create a dictionary\n",
    "a = {\n",
    "  'one': 1,\n",
    "  'two': 2,\n",
    "  'three': 3\n",
    "}\n",
    "b = dict({\n",
    "  'one': 1 ,\n",
    "  'two': 2,\n",
    "  'three': 3\n",
    "})\n",
    "print(\"print dicitionay b --\", b)"
   ]
  },
  {
   "cell_type": "code",
   "execution_count": 2,
   "metadata": {},
   "outputs": [
    {
     "name": "stdout",
     "output_type": "stream",
     "text": [
      "print dictionary c is -- {'one': 1, 'two': 2, 'three': 3}\n"
     ]
    }
   ],
   "source": [
    "# Using zip() to create a dictionary from two lists\n",
    "c = dict(zip(['one', 'two', 'three'], [1, 2, 3]))\n",
    "print(\"print dictionary c is --\", c)"
   ]
  },
  {
   "cell_type": "code",
   "execution_count": 3,
   "metadata": {},
   "outputs": [
    {
     "name": "stdout",
     "output_type": "stream",
     "text": [
      "print dictionary creates using another way {'one': 1, 'two': 2, 'three': 3}\n",
      "print dictionary  {'one': 1, 'two': 2, 'three': 3}\n"
     ]
    }
   ],
   "source": [
    "# Creating a dictionary from tuples\n",
    "d = dict([('one', 1), ('two', 2), ('three', 3)])\n",
    "print(\"print dictionary creates using another way\", d)\n",
    "print(\"print dictionary \", a)"
   ]
  },
  {
   "cell_type": "code",
   "execution_count": 4,
   "metadata": {},
   "outputs": [
    {
     "name": "stdout",
     "output_type": "stream",
     "text": [
      "print updated dictionary {'one': 1, 'two': 2, 'three': 3, 'four': 4}\n"
     ]
    }
   ],
   "source": [
    "# Add an new item to a dictionary\n",
    "a['four'] = 4\n",
    "print(\"print updated dictionary\", a)"
   ]
  },
  {
   "cell_type": "code",
   "execution_count": 5,
   "metadata": {},
   "outputs": [
    {
     "name": "stdout",
     "output_type": "stream",
     "text": [
      "print updated dictionary {'one': 1, 'two': 2, 'three': 3, 'four': 4, 'five': 5, 'six': 6}\n"
     ]
    }
   ],
   "source": [
    "# Add multiple items\n",
    "a.update({'five': 5, 'six': 6})\n",
    "print(\"print updated dictionary\", a) "
   ]
  },
  {
   "cell_type": "code",
   "execution_count": 6,
   "metadata": {},
   "outputs": [
    {
     "name": "stdout",
     "output_type": "stream",
     "text": [
      "test membership: True\n",
      "test membership: False\n",
      "test membership: False\n"
     ]
    }
   ],
   "source": [
    "# Dictionary Membership\n",
    "print(\"test membership:\", 'five' in a) # membership test (only in keys)\n",
    "print(\"test membership:\", 5 in a) # membership do not check in values\n",
    "print(\"test membership:\",  'seven' in a)"
   ]
  },
  {
   "cell_type": "code",
   "execution_count": 7,
   "metadata": {},
   "outputs": [
    {
     "name": "stdout",
     "output_type": "stream",
     "text": [
      "Dictionary <zip object at 0x0000026401BB4180>\n",
      "Dictionary is {'p': 0, 'a': 1, 'c': 2, 'k': 3, 't': 4}\n"
     ]
    }
   ],
   "source": [
    "print(\"Dictionary\", zip('packt', range(5)))\n",
    "print(\"Dictionary is\", dict(zip('packt', range(5))))"
   ]
  },
  {
   "cell_type": "code",
   "execution_count": 8,
   "metadata": {},
   "outputs": [
    {
     "name": "stdout",
     "output_type": "stream",
     "text": [
      "length of dictionary a is 5\n",
      "Check the value of a key c is 2\n"
     ]
    }
   ],
   "source": [
    "a = dict(zip('packt', range(5)))\n",
    "print(\"length of dictionary a is\", len(a)) # length of dictionary a\n",
    "print(\"Check the value of a key c is\", a['c']) # to check the value of a key"
   ]
  },
  {
   "cell_type": "code",
   "execution_count": 9,
   "metadata": {},
   "outputs": [
    {
     "name": "stdout",
     "output_type": "stream",
     "text": [
      "1\n",
      "print updated dictionary {'p': 0, 'c': 2, 'k': 3, 't': 4}\n"
     ]
    }
   ],
   "source": [
    "print(a.pop('a')  )\n",
    "print(\"print updated dictionary\", a)"
   ]
  },
  {
   "cell_type": "code",
   "execution_count": 10,
   "metadata": {},
   "outputs": [
    {
     "name": "stdout",
     "output_type": "stream",
     "text": [
      "print copy of a dictionary: {'p': 0, 'c': 2, 'k': 3, 't': 4}\n"
     ]
    }
   ],
   "source": [
    "b = a.copy()\n",
    "print(\"print copy of a dictionary:\", b)"
   ]
  },
  {
   "cell_type": "code",
   "execution_count": 11,
   "metadata": {},
   "outputs": [
    {
     "name": "stdout",
     "output_type": "stream",
     "text": [
      "Print keys of dictionary  dict_keys(['p', 'c', 'k', 't'])\n",
      "print values of a dictionary dict_values([0, 2, 3, 4])\n",
      "print items of dictionary dict_items([('p', 0), ('c', 2), ('k', 3), ('t', 4)])\n"
     ]
    }
   ],
   "source": [
    "print(\"Print keys of dictionary \", a.keys())\n",
    "print(\"print values of a dictionary\", a.values())\n",
    "print(\"print items of dictionary\", a.items())"
   ]
  },
  {
   "cell_type": "code",
   "execution_count": 12,
   "metadata": {},
   "outputs": [
    {
     "name": "stdout",
     "output_type": "stream",
     "text": [
      "updated dictionary {'p': 0, 'c': 2, 'k': 3, 't': 4, 'a': 1}\n"
     ]
    }
   ],
   "source": [
    "a.update({'a':1})   # add an item in the dictionary\n",
    "print(\"updated dictionary\", a)"
   ]
  },
  {
   "cell_type": "code",
   "execution_count": 13,
   "metadata": {},
   "outputs": [
    {
     "name": "stdout",
     "output_type": "stream",
     "text": [
      "updated dictionary after changing the value of a--  {'p': 0, 'c': 2, 'k': 3, 't': 4, 'a': 22}\n"
     ]
    }
   ],
   "source": [
    "a.update(a=22)  # update the value of key 'a'\n",
    "print(\"updated dictionary after changing the value of a-- \", a)"
   ]
  }
 ],
 "metadata": {
  "hide_input": false,
  "kernelspec": {
   "display_name": "Python 3 (ipykernel)",
   "language": "python",
   "name": "python3"
  },
  "language_info": {
   "codemirror_mode": {
    "name": "ipython",
    "version": 3
   },
   "file_extension": ".py",
   "mimetype": "text/x-python",
   "name": "python",
   "nbconvert_exporter": "python",
   "pygments_lexer": "ipython3",
   "version": "3.8.12"
  },
  "toc": {
   "base_numbering": 1,
   "nav_menu": {},
   "number_sections": false,
   "sideBar": false,
   "skip_h1_title": false,
   "title_cell": "Table of Contents",
   "title_sidebar": "Contents",
   "toc_cell": false,
   "toc_position": {},
   "toc_section_display": false,
   "toc_window_display": false
  },
  "varInspector": {
   "cols": {
    "lenName": 16,
    "lenType": 16,
    "lenVar": 40
   },
   "kernels_config": {
    "python": {
     "delete_cmd_postfix": "",
     "delete_cmd_prefix": "del ",
     "library": "var_list.py",
     "varRefreshCmd": "print(var_dic_list())"
    },
    "r": {
     "delete_cmd_postfix": ") ",
     "delete_cmd_prefix": "rm(",
     "library": "var_list.r",
     "varRefreshCmd": "cat(var_dic_list()) "
    }
   },
   "types_to_exclude": [
    "module",
    "function",
    "builtin_function_or_method",
    "instance",
    "_Feature"
   ],
   "window_display": false
  }
 },
 "nbformat": 4,
 "nbformat_minor": 4
}
