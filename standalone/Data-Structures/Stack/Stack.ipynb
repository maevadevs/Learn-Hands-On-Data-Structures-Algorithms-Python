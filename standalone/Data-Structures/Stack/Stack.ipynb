{
 "cells": [
  {
   "attachments": {},
   "cell_type": "markdown",
   "id": "a8f53cd1",
   "metadata": {},
   "source": [
    "# Stack\n"
   ]
  },
  {
   "attachments": {},
   "cell_type": "markdown",
   "id": "e3620564",
   "metadata": {},
   "source": [
    "---\n"
   ]
  },
  {
   "attachments": {},
   "cell_type": "markdown",
   "id": "daa140d9",
   "metadata": {},
   "source": [
    "**Table of contents**<a id='toc0_'></a>\n",
    "\n",
    "-   [Methods](#toc1_)\n",
    "-   [Implementation](#toc2_)\n",
    "-   [Example of Usage](#toc3_)\n",
    "\n",
    "<!-- vscode-jupyter-toc-config\n",
    "\tnumbering=false\n",
    "\tanchor=true\n",
    "\tflat=false\n",
    "\tminLevel=2\n",
    "\tmaxLevel=6\n",
    "\t/vscode-jupyter-toc-config -->\n",
    "<!-- THIS CELL WILL BE REPLACED ON TOC UPDATE. DO NOT WRITE YOUR TEXT IN THIS CELL -->\n"
   ]
  },
  {
   "attachments": {},
   "cell_type": "markdown",
   "id": "69688284",
   "metadata": {},
   "source": [
    "---\n"
   ]
  },
  {
   "attachments": {},
   "cell_type": "markdown",
   "id": "de30ea30",
   "metadata": {},
   "source": [
    "-   Data structure that stores data similar to a stack of plates\n",
    "-   To get the next plate, you get it from the top (the last one that was put on the stack)\n",
    "-   To add a new plate, you put it on the top (the new one)\n",
    "-   Stack is a **Last-In, First-Out (LIFO)** structure\n",
    "-   Stack is used for function calls: _Callstack_\n",
    "    -   Recursion is only possible thanks to the Callstack\n",
    "    -   Recursion is a special case of Callstack where we call the same function over and over\n"
   ]
  },
  {
   "attachments": {},
   "cell_type": "markdown",
   "metadata": {},
   "source": [
    "## <a id='toc1_'></a>Methods [&#8593;](#toc0_)\n"
   ]
  },
  {
   "attachments": {},
   "cell_type": "markdown",
   "id": "7182ca44",
   "metadata": {},
   "source": [
    "-   `Stack()`: Constructor\n",
    "-   `push(el)` - Add a new element unto the stack\n",
    "-   `pop()` - Remove an element from the stack\n",
    "-   `peek()` - See the element on top of the stack without popping it\n"
   ]
  },
  {
   "attachments": {},
   "cell_type": "markdown",
   "metadata": {},
   "source": [
    "## <a id='toc2_'></a>Implementation [&#8593;](#toc0_)\n"
   ]
  },
  {
   "attachments": {},
   "cell_type": "markdown",
   "id": "e1d50b4f",
   "metadata": {},
   "source": [
    "We are using `Node` class for the implementation\n"
   ]
  },
  {
   "cell_type": "code",
   "execution_count": 1,
   "id": "9e719919",
   "metadata": {},
   "outputs": [],
   "source": [
    "from typing import Any, Optional\n",
    "\n",
    "\n",
    "class Node:\n",
    "    \"\"\"Implementation of a One-Direction Node\"\"\"\n",
    "\n",
    "    def __init__(self, data: Optional[Any] = None) -> None:\n",
    "        \"\"\"Initialize a Node object\"\"\"\n",
    "        self.data: Optional[Any] = data\n",
    "        self.next: Optional[\"Node\"] = None\n",
    "\n",
    "    def __str__(self) -> str:\n",
    "        \"\"\"Return the string representation of a Node\"\"\"\n",
    "        return f\"Node({str(self.data)})\"\n",
    "\n",
    "    def __repr__(self) -> str:\n",
    "        \"\"\"Return the string representation of a Node\"\"\"\n",
    "        return f\"Node({str(self.data)})\"\n"
   ]
  },
  {
   "attachments": {},
   "cell_type": "markdown",
   "id": "5905c160",
   "metadata": {},
   "source": [
    "Now, we can implement a Stack\n"
   ]
  },
  {
   "cell_type": "code",
   "execution_count": 2,
   "id": "1407bc8c",
   "metadata": {},
   "outputs": [],
   "source": [
    "from typing import Any, Optional\n",
    "\n",
    "\n",
    "class Stack:\n",
    "    \"\"\"Implementation of a Stack\"\"\"\n",
    "\n",
    "    def __init__(self) -> None:\n",
    "        \"\"\"Initialize a Stack object\"\"\"\n",
    "        self.top: Optional[Node] = None\n",
    "        self.size: int = 0\n",
    "\n",
    "    def push(self, data: Any) -> None:\n",
    "        \"\"\"Add a new Node on top of the stack\"\"\"\n",
    "        new_node: Node = Node(data)\n",
    "        # Check if the stack is not empty\n",
    "        if self.top:\n",
    "            if new_node:\n",
    "                # Set the \"next\" of the new_node as the current top node\n",
    "                new_node.next = self.top\n",
    "        # Set new_node as top and increase stack size\n",
    "        self.top = new_node\n",
    "        self.size += 1\n",
    "\n",
    "    def pop(self) -> Optional[Any]:\n",
    "        \"\"\"Remove and return the Node on top of the Stack\"\"\"\n",
    "        # Check if the stack is not empty\n",
    "        if self.top:\n",
    "            # Save the data to return\n",
    "            data_to_return: Any = self.top.data\n",
    "            # Check if there are more element after this one\n",
    "            if self.top.next:\n",
    "                # Point self.top to the next element\n",
    "                self.top = self.top.next\n",
    "            else:\n",
    "                # There are no more element on the stack\n",
    "                self.top = None\n",
    "            # Decrease the size\n",
    "            self.size -= 1\n",
    "            # Return the poped element\n",
    "            return data_to_return\n",
    "        # If here, then the stack is empty\n",
    "        return None\n",
    "\n",
    "    def peek(self) -> Optional[Any]:\n",
    "        \"\"\"Check the Node on top of the Stack\"\"\"\n",
    "        # Check if the stack is not empty\n",
    "        if self.top:\n",
    "            # Return its data\n",
    "            return self.top.data\n",
    "        # If here, then the stack is empty\n",
    "        return None\n"
   ]
  },
  {
   "attachments": {},
   "cell_type": "markdown",
   "metadata": {},
   "source": [
    "## <a id='toc3_'></a>Example of Usage [&#8593;](#toc0_)\n"
   ]
  },
  {
   "cell_type": "code",
   "execution_count": 3,
   "id": "c132c5d5",
   "metadata": {},
   "outputs": [],
   "source": [
    "def is_balanced_brackets(statement: str = \"\") -> bool:\n",
    "    \"\"\"Check brackets in a string and validate if they all have their matches\"\"\"\n",
    "    # Apply string cleaning on statement\n",
    "    statement = statement.strip()\n",
    "    # Shortcut for empty statement\n",
    "    if len(statement) == 0:\n",
    "        return True\n",
    "    # New stack for brackets\n",
    "    stack: Stack = Stack()\n",
    "    # Start looping through statement\n",
    "    for char in statement:\n",
    "        # For opening brackets, push to the stack\n",
    "        if char in (\"{\", \"[\", \"(\"):\n",
    "            stack.push(char)\n",
    "        # For closing brackets, pop from the stack and compare\n",
    "        if char in (\"}\", \"]\", \")\"):\n",
    "            last = stack.pop()\n",
    "            # Make sure to match\n",
    "            if last == \"{\" and char == \"}\":\n",
    "                continue\n",
    "            elif last == \"[\" and char == \"]\":\n",
    "                continue\n",
    "            elif last == \"(\" and char == \")\":\n",
    "                continue\n",
    "            else:\n",
    "                # If no match, then break and return early\n",
    "                return False\n",
    "    # If here and the stack is not empty, no match\n",
    "    if stack.size > 0:\n",
    "        return False\n",
    "    # If still here, then all brackets have their match\n",
    "    return True\n"
   ]
  },
  {
   "cell_type": "code",
   "execution_count": 4,
   "id": "78d74780",
   "metadata": {},
   "outputs": [
    {
     "name": "stdout",
     "output_type": "stream",
     "text": [
      "{(foo)(bar)}[hello](((this)is)a)test: True\n",
      "{(foo)(bar)}[hello](((this)is)atest: False\n",
      "{(foo)(bar)}[hello](((this)is)a)test)): False\n"
     ]
    }
   ],
   "source": [
    "strings: tuple[str, ...] = (\n",
    "    \"{(foo)(bar)}[hello](((this)is)a)test\",\n",
    "    \"{(foo)(bar)}[hello](((this)is)atest\",\n",
    "    \"{(foo)(bar)}[hello](((this)is)a)test))\",\n",
    ")\n",
    "for st in strings:\n",
    "    print(f\"{st}: {is_balanced_brackets(st)}\")\n"
   ]
  }
 ],
 "metadata": {
  "hide_input": false,
  "kernelspec": {
   "display_name": "Python 3 (ipykernel)",
   "language": "python",
   "name": "python3"
  },
  "language_info": {
   "codemirror_mode": {
    "name": "ipython",
    "version": 3
   },
   "file_extension": ".py",
   "mimetype": "text/x-python",
   "name": "python",
   "nbconvert_exporter": "python",
   "pygments_lexer": "ipython3",
   "version": "3.11.3"
  },
  "toc": {
   "base_numbering": 1,
   "nav_menu": {},
   "number_sections": true,
   "sideBar": true,
   "skip_h1_title": true,
   "title_cell": "Table of Contents",
   "title_sidebar": "Contents",
   "toc_cell": true,
   "toc_position": {},
   "toc_section_display": true,
   "toc_window_display": true
  },
  "varInspector": {
   "cols": {
    "lenName": 16,
    "lenType": 16,
    "lenVar": 40
   },
   "kernels_config": {
    "python": {
     "delete_cmd_postfix": "",
     "delete_cmd_prefix": "del ",
     "library": "var_list.py",
     "varRefreshCmd": "print(var_dic_list())"
    },
    "r": {
     "delete_cmd_postfix": ") ",
     "delete_cmd_prefix": "rm(",
     "library": "var_list.r",
     "varRefreshCmd": "cat(var_dic_list()) "
    }
   },
   "types_to_exclude": [
    "module",
    "function",
    "builtin_function_or_method",
    "instance",
    "_Feature"
   ],
   "window_display": false
  }
 },
 "nbformat": 4,
 "nbformat_minor": 5
}
