{
 "cells": [
  {
   "attachments": {},
   "cell_type": "markdown",
   "metadata": {},
   "source": [
    "# Node\n"
   ]
  },
  {
   "attachments": {},
   "cell_type": "markdown",
   "metadata": {},
   "source": [
    "---\n"
   ]
  },
  {
   "attachments": {},
   "cell_type": "markdown",
   "metadata": {},
   "source": [
    "**Table of contents**<a id='toc0_'></a>\n",
    "\n",
    "-   [Implementations](#toc1_)\n",
    "    -   [A One-Direction Node](#toc1_1_)\n",
    "    -   [A Two-Directions Node](#toc1_2_)\n",
    "\n",
    "<!-- vscode-jupyter-toc-config\n",
    "\tnumbering=false\n",
    "\tanchor=true\n",
    "\tflat=false\n",
    "\tminLevel=2\n",
    "\tmaxLevel=6\n",
    "\t/vscode-jupyter-toc-config -->\n",
    "<!-- THIS CELL WILL BE REPLACED ON TOC UPDATE. DO NOT WRITE YOUR TEXT IN THIS CELL -->\n"
   ]
  },
  {
   "attachments": {},
   "cell_type": "markdown",
   "metadata": {},
   "source": [
    "---\n"
   ]
  },
  {
   "attachments": {},
   "cell_type": "markdown",
   "metadata": {},
   "source": [
    "-   **This is the Heart of Pointer data structures (e.g. List)**\n",
    "-   A container of data, together with one or more _links_ to other nodes\n",
    "-   Allows to link data to each other\n",
    "-   **A _link_ is a pointer**\n"
   ]
  },
  {
   "cell_type": "code",
   "execution_count": 1,
   "metadata": {},
   "outputs": [
    {
     "name": "stdout",
     "output_type": "stream",
     "text": [
      "['egg', 'ham', 'spam']\n"
     ]
    }
   ],
   "source": [
    "# 3 variables with unique names, types, and values\n",
    "var_a: str = \"egg\"\n",
    "var_b: str = \"ham\"\n",
    "var_c: str = \"spam\"\n",
    "ls: list[str] = [var_a, var_b, var_c]  # A pointer structure that uses node\n",
    "print(ls)\n"
   ]
  },
  {
   "attachments": {},
   "cell_type": "markdown",
   "metadata": {},
   "source": [
    "-   Right now, we cannot show the relationships between those variables\n",
    "-   Using nodes, we can show those relationships\n",
    "-   A simple type of node is one that only has a link to the next node\n",
    "-   **The string is actually _not_ stored in the node**\n",
    "    -   **There is a pointer to the actual string value stored in memory**\n",
    "-   The requirement for this simple node is 2 memory addresses:\n",
    "    -   The actual string value is stored in memory: `data` is a pointer to that memory address\n",
    "    -   The next node is also stored in memory: `next` is a pointer to that memory address\n"
   ]
  },
  {
   "attachments": {},
   "cell_type": "markdown",
   "metadata": {},
   "source": [
    "```\n",
    "  Actual string in memory                    Actual string in memory\n",
    "         _________                                  _________\n",
    "         | \"egg\" |                                  | \"ham\" |\n",
    "         ‾‾‾‾‾‾‾‾‾                                  ‾‾‾‾‾‾‾‾‾\n",
    "             ^                                          ^\n",
    "             | Pointer                                  | Pointer\n",
    "             |                                          |\n",
    "     ________|_______                           ________|_______\n",
    "     |  _____|____  |                           |  _____|____  |\n",
    "     |  | data:a |  |                           |  | data:b |  |\n",
    "     |  ‾‾‾‾‾‾‾‾‾‾  |                           |  ‾‾‾‾‾‾‾‾‾‾  |\n",
    "     |  __________  |      Link/Pointer         |  __________  |\n",
    "     |  |  next  |--|-------------------------->|  |  next  |  |\n",
    "     |  ‾‾‾‾‾‾‾‾‾‾  |                           |  ‾‾‾‾‾‾‾‾‾‾  |\n",
    "     ‾‾‾‾‾‾‾‾‾‾‾‾‾‾‾‾                           ‾‾‾‾‾‾‾‾‾‾‾‾‾‾‾‾\n",
    "Node (Container) in memory                 Node (Container) in memory\n",
    "```\n"
   ]
  },
  {
   "attachments": {},
   "cell_type": "markdown",
   "metadata": {},
   "source": [
    "## <a id='toc1_'></a>Implementations [&#8593;](#toc0_)\n"
   ]
  },
  {
   "attachments": {},
   "cell_type": "markdown",
   "metadata": {},
   "source": [
    "### <a id='toc1_1_'></a>A One-Direction Node [&#8593;](#toc0_)\n"
   ]
  },
  {
   "cell_type": "code",
   "execution_count": 2,
   "metadata": {},
   "outputs": [],
   "source": [
    "from typing import Any, Optional\n",
    "\n",
    "\n",
    "class Node:\n",
    "    \"\"\"Implementation of a One-Direction Node\"\"\"\n",
    "\n",
    "    def __init__(self, data: Optional[Any] = None) -> None:\n",
    "        \"\"\"Initialize a Node object\"\"\"\n",
    "        self.data: Optional[Any] = data\n",
    "        self.next: Optional[\"Node\"] = None\n",
    "\n",
    "    def __str__(self) -> str:\n",
    "        \"\"\"Return the string representation of a Node\"\"\"\n",
    "        return f\"Node({str(self.data)})\"\n",
    "\n",
    "    def __repr__(self) -> str:\n",
    "        \"\"\"Return the string representation of a Node\"\"\"\n",
    "        return f\"Node({str(self.data)})\"\n"
   ]
  },
  {
   "attachments": {},
   "cell_type": "markdown",
   "metadata": {},
   "source": [
    "### <a id='toc1_2_'></a>A Two-Directions Node [&#8593;](#toc0_)\n"
   ]
  },
  {
   "cell_type": "code",
   "execution_count": 3,
   "metadata": {},
   "outputs": [],
   "source": [
    "from typing import Any, Optional\n",
    "\n",
    "\n",
    "class NodeTwo(Node):\n",
    "    \"\"\"Implementation of a Two-Direction Node\"\"\"\n",
    "\n",
    "    def __init__(self, data: Optional[Any] = None) -> None:\n",
    "        \"\"\"Initialize a Node object\"\"\"\n",
    "        super().__init__(data)\n",
    "        self.previous: Optional[\"Node\"] = None\n",
    "\n",
    "    def __str__(self) -> str:\n",
    "        \"\"\"Return the string representation of a Node\"\"\"\n",
    "        return f\"NodeTwo({str(self.data)})\"\n",
    "\n",
    "    def __repr__(self) -> str:\n",
    "        \"\"\"Return the string representation of a Node\"\"\"\n",
    "        return f\"Node({str(self.data)})\"\n"
   ]
  }
 ],
 "metadata": {
  "hide_input": false,
  "kernelspec": {
   "display_name": "Python 3 (ipykernel)",
   "language": "python",
   "name": "python3"
  },
  "language_info": {
   "codemirror_mode": {
    "name": "ipython",
    "version": 3
   },
   "file_extension": ".py",
   "mimetype": "text/x-python",
   "name": "python",
   "nbconvert_exporter": "python",
   "pygments_lexer": "ipython3",
   "version": "3.11.3"
  },
  "toc": {
   "base_numbering": 1,
   "nav_menu": {},
   "number_sections": true,
   "sideBar": true,
   "skip_h1_title": true,
   "title_cell": "Table of Contents",
   "title_sidebar": "Contents",
   "toc_cell": true,
   "toc_position": {},
   "toc_section_display": true,
   "toc_window_display": true
  },
  "varInspector": {
   "cols": {
    "lenName": 16,
    "lenType": 16,
    "lenVar": 40
   },
   "kernels_config": {
    "python": {
     "delete_cmd_postfix": "",
     "delete_cmd_prefix": "del ",
     "library": "var_list.py",
     "varRefreshCmd": "print(var_dic_list())"
    },
    "r": {
     "delete_cmd_postfix": ") ",
     "delete_cmd_prefix": "rm(",
     "library": "var_list.r",
     "varRefreshCmd": "cat(var_dic_list()) "
    }
   },
   "types_to_exclude": [
    "module",
    "function",
    "builtin_function_or_method",
    "instance",
    "_Feature"
   ],
   "window_display": false
  }
 },
 "nbformat": 4,
 "nbformat_minor": 4
}
