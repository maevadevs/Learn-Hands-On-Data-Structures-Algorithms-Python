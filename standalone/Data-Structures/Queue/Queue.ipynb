{
 "cells": [
  {
   "attachments": {},
   "cell_type": "markdown",
   "id": "81f1fa36",
   "metadata": {},
   "source": [
    "# Queue\n"
   ]
  },
  {
   "attachments": {},
   "cell_type": "markdown",
   "id": "e9605d5c",
   "metadata": {},
   "source": [
    "---\n"
   ]
  },
  {
   "attachments": {},
   "cell_type": "markdown",
   "id": "c6d7573f",
   "metadata": {},
   "source": [
    "**Table of contents**<a id='toc0_'></a>\n",
    "\n",
    "-   [Methods](#toc1_)\n",
    "-   [Implementations](#toc2_)\n",
    "    -   [Implementation 1: List-Based Queue](#toc2_1_)\n",
    "    -   [Implementation 2: 2 Simple Stacks-based Queue](#toc2_2_)\n",
    "    -   [Implementation 3: Node-Based Queue](#toc2_3_)\n",
    "-   [Example of Usage](#toc3_)\n",
    "\n",
    "<!-- vscode-jupyter-toc-config\n",
    "\tnumbering=false\n",
    "\tanchor=true\n",
    "\tflat=false\n",
    "\tminLevel=2\n",
    "\tmaxLevel=6\n",
    "\t/vscode-jupyter-toc-config -->\n",
    "<!-- THIS CELL WILL BE REPLACED ON TOC UPDATE. DO NOT WRITE YOUR TEXT IN THIS CELL -->\n"
   ]
  },
  {
   "attachments": {},
   "cell_type": "markdown",
   "id": "56cdd291",
   "metadata": {},
   "source": [
    "---\n"
   ]
  },
  {
   "attachments": {},
   "cell_type": "markdown",
   "id": "ee08cd77",
   "metadata": {},
   "source": [
    "-   Another special type of list\n",
    "-   Very fundamental: Many data structures are built on top of them\n",
    "-   Queue is a **First-In, First-Out (FIFO)** Structure\n",
    "-   Example of a queue is people standing in line for a service\n",
    "-   There are different implementations of a queue but they revolve around the same concept of FIFO\n",
    "-   2 principal operations:\n",
    "    -   _enqueue_ - Operation to add an element to the queue\n",
    "    -   _dequeue_ - Operation to remove an element from the queue\n"
   ]
  },
  {
   "attachments": {},
   "cell_type": "markdown",
   "metadata": {},
   "source": [
    "## <a id='toc1_'></a>Methods [&#8593;](#toc0_)\n"
   ]
  },
  {
   "attachments": {},
   "cell_type": "markdown",
   "id": "a7a63f88",
   "metadata": {},
   "source": [
    "| Operations   | Result                                    |\n",
    "| :----------- | :---------------------------------------- |\n",
    "| `Queue()`    | `Queue size == 0`, `Contents == []`       |\n",
    "| `Enqueue(x)` | `Queue Size == 1`, `Contents == [x]`      |\n",
    "| `Enqueue(y)` | `Queue Size = 2`, `Contents == [x, y]`    |\n",
    "| `Enqueue(z)` | `Queue Size = 3`, `Contents == [x, y, z]` |\n",
    "| `Size()`     | `3`                                       |\n",
    "| `Dequeue()`  | `z`, `Queue Size == 2`                    |\n",
    "| `Dequeue()`  | `y`, `Queue Size == 1`                    |\n",
    "| `Dequeue()`  | `x`, `Queue Size == 0`                    |\n"
   ]
  },
  {
   "attachments": {},
   "cell_type": "markdown",
   "metadata": {},
   "source": [
    "## <a id='toc2_'></a>Implementations [&#8593;](#toc0_)\n"
   ]
  },
  {
   "attachments": {},
   "cell_type": "markdown",
   "id": "c4a384f8",
   "metadata": {},
   "source": [
    "-   Queues can be implemented using\n",
    "    -   List\n",
    "    -   Stack\n",
    "    -   Node\n"
   ]
  },
  {
   "attachments": {},
   "cell_type": "markdown",
   "metadata": {},
   "source": [
    "### <a id='toc2_1_'></a>Implementation 1: List-Based Queue [&#8593;](#toc0_)\n"
   ]
  },
  {
   "cell_type": "code",
   "execution_count": 1,
   "id": "aa7b6a2a",
   "metadata": {},
   "outputs": [],
   "source": [
    "from typing import Any, Optional\n",
    "\n",
    "\n",
    "class ListQueue:\n",
    "    \"\"\"Implementation of a Stack using List\"\"\"\n",
    "\n",
    "    def __init__(self) -> None:\n",
    "        \"\"\"Create a new Queue object\"\"\"\n",
    "        # The queue is empty when created\n",
    "        self.items: list[Any] = []\n",
    "        self.size: int = 0\n",
    "\n",
    "    def enqueue(self, data: Any) -> None:\n",
    "        \"\"\"Add a new element to the queue\"\"\"\n",
    "        # Always insert items at index 0\n",
    "        self.items.insert(0, data)\n",
    "        # Increment the size of the queue by 1\n",
    "        self.size += 1\n",
    "\n",
    "    def dequeue(self) -> Optional[Any]:\n",
    "        \"\"\"Remove an element from the queue\"\"\"\n",
    "        # Return None if the list is empty\n",
    "        data: Optional[Any] = None\n",
    "        # Only do operations if the list is not empty\n",
    "        if self.size > 0:\n",
    "            # Delete the topmost item from the queue\n",
    "            data = self.items.pop()\n",
    "            # Decrement the size of the queue by 1\n",
    "            self.size -= 1\n",
    "        # Return the topmost item from the queue, or None\n",
    "        return data\n"
   ]
  },
  {
   "attachments": {},
   "cell_type": "markdown",
   "id": "9c90f7b9",
   "metadata": {},
   "source": [
    "This implementation is inefficient because:\n",
    "\n",
    "-   The `enqueue()`method has to first shift all the elements by one space for each operation\n",
    "-   This has a time complexity of `O(n)`\n",
    "-   This makes the `enqueue` operation slow for large lists\n"
   ]
  },
  {
   "attachments": {},
   "cell_type": "markdown",
   "metadata": {},
   "source": [
    "### <a id='toc2_2_'></a>Implementation 2: 2 Simple Stacks-based Queue [&#8593;](#toc0_)\n"
   ]
  },
  {
   "cell_type": "code",
   "execution_count": 2,
   "id": "ba6b1a69",
   "metadata": {},
   "outputs": [],
   "source": [
    "from typing import Any, Optional\n",
    "\n",
    "\n",
    "class StackQueue:\n",
    "    \"\"\"Implementation of a Queue using Stack\"\"\"\n",
    "\n",
    "    def __init__(self) -> None:\n",
    "        \"\"\"Create a new Queue object\"\"\"\n",
    "        self.inbound_stack: list[Any] = []\n",
    "        self.outbound_stack: list[Any] = []\n",
    "        self.size: int = 0\n",
    "\n",
    "    def enqueue(self, data: Any) -> None:\n",
    "        \"\"\"Add a new element to the queue\"\"\"\n",
    "        # Add to the inbound stack\n",
    "        self.inbound_stack.append(data)\n",
    "        # Increase the size\n",
    "        self.size += 1\n",
    "\n",
    "    def dequeue(self) -> Optional[Any]:\n",
    "        \"\"\"Remove an element from the queue\"\"\"\n",
    "        # If the size is 0, then the Queue is empty\n",
    "        if self.size == 0:\n",
    "            return None\n",
    "        # If the outbound_stack is empty, replenish once from the inbound stack in reverse order\n",
    "        if len(self.outbound_stack) == 0:\n",
    "            while self.inbound_stack:\n",
    "                self.outbound_stack.append(self.inbound_stack.pop())\n",
    "        # If the outbound_stack is not empty, get the last item (now in reversed order)\n",
    "        data: Optional[Any] = self.outbound_stack.pop()\n",
    "        # Decrease the size\n",
    "        self.size -= 1\n",
    "        # Return the data\n",
    "        return data\n"
   ]
  },
  {
   "attachments": {},
   "cell_type": "markdown",
   "id": "e670270a",
   "metadata": {},
   "source": [
    "This implementation is better but can still be inefficient\n",
    "\n",
    "-   The step of moving from one stack to another can be `O(n)`\n",
    "\n",
    "**Implementing a queue with two stacks is very important and questions about this are often posed during interviews.**\n",
    "\n",
    "-   Think of this technique as a man doing backflips:\n",
    "    -   Odd number of stack axes (1) will make the order of entry into LIFO: Backflip starting from feet, ending on hands\n",
    "    -   Even number of stack axes (2) will flip the order of entry into FIFO: Backflip starting from feet, to hand, to feet again\n"
   ]
  },
  {
   "attachments": {},
   "cell_type": "markdown",
   "metadata": {},
   "source": [
    "### <a id='toc2_3_'></a>Implementation 3: Node-Based Queue [&#8593;](#toc0_)\n"
   ]
  },
  {
   "attachments": {},
   "cell_type": "markdown",
   "id": "c96a7f47",
   "metadata": {},
   "source": [
    "A queue can be implemented using a doubly-linked list\n"
   ]
  },
  {
   "cell_type": "code",
   "execution_count": 3,
   "id": "8f8efe59",
   "metadata": {},
   "outputs": [],
   "source": [
    "from typing import Any, Optional\n",
    "\n",
    "\n",
    "class NodeTwo:\n",
    "    \"\"\"Implementation of a Two-Direction Node\"\"\"\n",
    "\n",
    "    def __init__(\n",
    "        self,\n",
    "        data: Optional[Any] = None,\n",
    "        nxt: Optional[\"NodeTwo\"] = None,\n",
    "        previous: Optional[\"NodeTwo\"] = None,\n",
    "    ) -> None:\n",
    "        \"\"\"Initialize a Node object\"\"\"\n",
    "        self.data: Optional[Any] = data\n",
    "        self.nxt: Optional[\"NodeTwo\"] = nxt\n",
    "        self.previous: Optional[\"NodeTwo\"] = previous\n",
    "\n",
    "    def __str__(self) -> str:\n",
    "        \"\"\"Return the string representation of a Node\"\"\"\n",
    "        return f\"Node({str(self.data)})\"\n",
    "\n",
    "    def __repr__(self) -> str:\n",
    "        \"\"\"Return the string representation of a Node\"\"\"\n",
    "        return f\"Node({str(self.data)})\"\n"
   ]
  },
  {
   "cell_type": "code",
   "execution_count": 4,
   "id": "134e8754",
   "metadata": {},
   "outputs": [],
   "source": [
    "from typing import Any, Optional\n",
    "\n",
    "\n",
    "class LinkedListQueue:\n",
    "    \"\"\"Implementation of a Queue using Doubly-Linked List\"\"\"\n",
    "\n",
    "    def __init__(self) -> None:\n",
    "        \"\"\"Initialize a LinkedListQueue object\"\"\"\n",
    "        self.head: Optional[\"NodeTwo\"] = None\n",
    "        self.tail: Optional[\"NodeTwo\"] = None\n",
    "        self.size: int = 0\n",
    "\n",
    "    def enqueue(self, data: Any) -> None:\n",
    "        \"\"\"Add an element to the queue\"\"\"\n",
    "        # Encapsulate the data into a Node class\n",
    "        # Default nxt is None - Default previous is None\n",
    "        new_node: Optional[NodeTwo] = NodeTwo(data)\n",
    "        # Check if there are already data in the list\n",
    "        if self.head and self.tail:\n",
    "            # The list is not empty\n",
    "            if new_node:\n",
    "                new_node.previous = self.tail\n",
    "                self.tail.nxt = new_node\n",
    "                self.tail = new_node\n",
    "        else:\n",
    "            # The list is initially empty\n",
    "            self.head = new_node\n",
    "            self.tail = new_node\n",
    "        # Increase the size of the Queue\n",
    "        self.size += 1\n",
    "\n",
    "    def dequeue(self) -> Optional[NodeTwo]:\n",
    "        \"\"\"Remove an element from the queue\"\"\"\n",
    "        # Get the first Node\n",
    "        current: Optional[NodeTwo] = self.head\n",
    "        # Check if this is the last Node of the list\n",
    "        if self.size == 1:\n",
    "            self.head = None\n",
    "            self.tail = None\n",
    "        # If not last element, handle the switch of position\n",
    "        else:\n",
    "            if self.head:\n",
    "                self.head = self.head.nxt\n",
    "            if self.head:\n",
    "                self.head.previous = None\n",
    "        # Decrease the size of the Queue\n",
    "        self.size -= 1\n",
    "        # Return the Node\n",
    "        return current\n"
   ]
  },
  {
   "attachments": {},
   "cell_type": "markdown",
   "id": "346638a4",
   "metadata": {},
   "source": [
    "-   Insertion and deletion operations on this data structure has a time complexity of `O(1)`\n"
   ]
  },
  {
   "attachments": {},
   "cell_type": "markdown",
   "metadata": {},
   "source": [
    "## <a id='toc3_'></a>Example of Usage [&#8593;](#toc0_)\n"
   ]
  },
  {
   "attachments": {},
   "cell_type": "markdown",
   "id": "4230ae41",
   "metadata": {},
   "source": [
    "-   This is a Media Player Playlist queue\n",
    "-   Our media player queue will only allow for the addition of tracks and a way to play all the tracks in the queue\n",
    "-   In a full-blown music player, threads would be used to improve how the queue is interacted with\n",
    "-   The music player continues to be used to select the next song to be played, paused, or even stopped\n"
   ]
  },
  {
   "cell_type": "code",
   "execution_count": 5,
   "id": "4eddd6c4",
   "metadata": {},
   "outputs": [],
   "source": [
    "import time\n",
    "from random import randint\n",
    "from typing import Optional\n",
    "\n",
    "\n",
    "class MPTrack:\n",
    "    \"\"\"Implementation of a Media Player Track\"\"\"\n",
    "\n",
    "    def __init__(self, title: Optional[str] = None) -> None:\n",
    "        self.title: Optional[str] = title\n",
    "        self.length: int = randint(1, 5)  # length in seconds (for testing)\n",
    "\n",
    "\n",
    "class MPPlaylist(LinkedListQueue):  # Inherit from Queue class\n",
    "    \"\"\"Implementation of a Media Player Playlist of Tracks queue\"\"\"\n",
    "\n",
    "    def __init__(self) -> None:\n",
    "        # Call the init method of LinkedListQueue as subclass MediaPlayerQueue\n",
    "        # super(subClass, instance).method(args)\n",
    "        super(MPPlaylist, self).__init__()\n",
    "\n",
    "    def add_track(self, track: MPTrack) -> None:\n",
    "        \"\"\"Add a track to the MediaPlayerQueue\"\"\"\n",
    "        self.enqueue(track)\n",
    "\n",
    "    def play(self) -> None:\n",
    "        \"\"\"Play a track from the MediaPlayerQueue\"\"\"\n",
    "        while self.size > 0:\n",
    "            current_track_node: Optional[NodeTwo] = self.dequeue()\n",
    "            if current_track_node and current_track_node.data:\n",
    "                print(f'Now playing \"{current_track_node.data.title}\"')\n",
    "                # Halt the execution of the loop while song plays\n",
    "                time.sleep(current_track_node.data.length)\n"
   ]
  },
  {
   "cell_type": "code",
   "execution_count": 6,
   "id": "fc11a7bc",
   "metadata": {},
   "outputs": [
    {
     "name": "stdout",
     "output_type": "stream",
     "text": [
      "Current Playlist:\n",
      "1. white whistle: 3s\n",
      "2. butter butter: 3s\n",
      "3. Oh black star: 3s\n",
      "4. Watch that chicken: 2s\n",
      "5. Don't go: 5s\n"
     ]
    }
   ],
   "source": [
    "track1: MPTrack = MPTrack(\"white whistle\")\n",
    "track2: MPTrack = MPTrack(\"butter butter\")\n",
    "track3: MPTrack = MPTrack(\"Oh black star\")\n",
    "track4: MPTrack = MPTrack(\"Watch that chicken\")\n",
    "track5: MPTrack = MPTrack(\"Don't go\")\n",
    "\n",
    "tracks: list[MPTrack] = []\n",
    "\n",
    "tracks.append(track1)\n",
    "tracks.append(track2)\n",
    "tracks.append(track3)\n",
    "tracks.append(track4)\n",
    "tracks.append(track5)\n",
    "\n",
    "print(\"Current Playlist:\")\n",
    "for i, track in enumerate(tracks):\n",
    "    print(f\"{i+1}. {track.title}: {track.length}s\")\n"
   ]
  },
  {
   "cell_type": "code",
   "execution_count": 7,
   "id": "7a852586",
   "metadata": {},
   "outputs": [
    {
     "name": "stdout",
     "output_type": "stream",
     "text": [
      "Now playing \"white whistle\"\n",
      "Now playing \"butter butter\"\n",
      "Now playing \"Oh black star\"\n",
      "Now playing \"Watch that chicken\"\n",
      "Now playing \"Don't go\"\n"
     ]
    }
   ],
   "source": [
    "media_player: MPPlaylist = MPPlaylist()\n",
    "\n",
    "media_player.add_track(track1)\n",
    "media_player.add_track(track2)\n",
    "media_player.add_track(track3)\n",
    "media_player.add_track(track4)\n",
    "media_player.add_track(track5)\n",
    "\n",
    "media_player.play()\n"
   ]
  }
 ],
 "metadata": {
  "hide_input": false,
  "kernelspec": {
   "display_name": "Python 3 (ipykernel)",
   "language": "python",
   "name": "python3"
  },
  "language_info": {
   "codemirror_mode": {
    "name": "ipython",
    "version": 3
   },
   "file_extension": ".py",
   "mimetype": "text/x-python",
   "name": "python",
   "nbconvert_exporter": "python",
   "pygments_lexer": "ipython3",
   "version": "3.11.3"
  },
  "toc": {
   "base_numbering": 1,
   "nav_menu": {},
   "number_sections": true,
   "sideBar": true,
   "skip_h1_title": true,
   "title_cell": "Table of Contents",
   "title_sidebar": "Contents",
   "toc_cell": true,
   "toc_position": {},
   "toc_section_display": true,
   "toc_window_display": true
  },
  "varInspector": {
   "cols": {
    "lenName": 16,
    "lenType": 16,
    "lenVar": 40
   },
   "kernels_config": {
    "python": {
     "delete_cmd_postfix": "",
     "delete_cmd_prefix": "del ",
     "library": "var_list.py",
     "varRefreshCmd": "print(var_dic_list())"
    },
    "r": {
     "delete_cmd_postfix": ") ",
     "delete_cmd_prefix": "rm(",
     "library": "var_list.r",
     "varRefreshCmd": "cat(var_dic_list()) "
    }
   },
   "types_to_exclude": [
    "module",
    "function",
    "builtin_function_or_method",
    "instance",
    "_Feature"
   ],
   "window_display": false
  }
 },
 "nbformat": 4,
 "nbformat_minor": 5
}
