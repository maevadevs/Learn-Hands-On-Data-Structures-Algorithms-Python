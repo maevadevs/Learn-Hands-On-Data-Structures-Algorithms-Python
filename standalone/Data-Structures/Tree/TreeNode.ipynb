{
 "cells": [
  {
   "attachments": {},
   "cell_type": "markdown",
   "metadata": {},
   "source": [
    "# Tree Node\n"
   ]
  },
  {
   "attachments": {},
   "cell_type": "markdown",
   "metadata": {},
   "source": [
    "---\n"
   ]
  },
  {
   "attachments": {},
   "cell_type": "markdown",
   "metadata": {},
   "source": [
    "---\n"
   ]
  },
  {
   "attachments": {},
   "cell_type": "markdown",
   "metadata": {},
   "source": [
    "-   A TreeNode is a node for a tree or heap\n",
    "-   Trees and Heaps are non-linear data structures\n",
    "-   Nodes are arranged in a parent-child relationship\n"
   ]
  },
  {
   "cell_type": "code",
   "execution_count": 1,
   "metadata": {},
   "outputs": [],
   "source": [
    "from typing import Any, Optional\n",
    "\n",
    "\n",
    "class TreeNode:\n",
    "    \"\"\"Implementation of a Tree Node\"\"\"\n",
    "\n",
    "    def __init__(self, data: Optional[Any] = None) -> None:\n",
    "        \"\"\"Initialize a TreeNode object\"\"\"\n",
    "        self.data: Optional[Any] = data\n",
    "        self.left_child: Optional[\"TreeNode\"] = None\n",
    "        self.right_child: Optional[\"TreeNode\"] = None\n",
    "\n",
    "    def __str__(self) -> str:\n",
    "        \"\"\"Return the string representation of a TreeNode\"\"\"\n",
    "        return f\"TreeNode({str(self.data)})\"\n",
    "\n",
    "    def __repr__(self) -> str:\n",
    "        \"\"\"Return the string representation of a TreeNode\"\"\"\n",
    "        return f\"TreeNode({str(self.data)})\"\n"
   ]
  }
 ],
 "metadata": {
  "kernelspec": {
   "display_name": "learn_algorithm",
   "language": "python",
   "name": "python3"
  },
  "language_info": {
   "codemirror_mode": {
    "name": "ipython",
    "version": 3
   },
   "file_extension": ".py",
   "mimetype": "text/x-python",
   "name": "python",
   "nbconvert_exporter": "python",
   "pygments_lexer": "ipython3",
   "version": "3.11.3"
  },
  "orig_nbformat": 4
 },
 "nbformat": 4,
 "nbformat_minor": 2
}
