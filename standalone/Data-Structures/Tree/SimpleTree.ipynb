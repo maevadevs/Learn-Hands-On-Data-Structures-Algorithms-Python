{
 "cells": [
  {
   "attachments": {},
   "cell_type": "markdown",
   "metadata": {},
   "source": [
    "# SimpleTree\n"
   ]
  },
  {
   "attachments": {},
   "cell_type": "markdown",
   "metadata": {},
   "source": [
    "-   A simple tree to show different properties of a tree\n",
    "-   _TreeNode_ - A node for a tree or heap\n"
   ]
  },
  {
   "cell_type": "code",
   "execution_count": 1,
   "metadata": {},
   "outputs": [],
   "source": [
    "from TreeNode import TreeNode\n",
    "from collections import deque\n",
    "from typing import Optional\n"
   ]
  },
  {
   "attachments": {},
   "cell_type": "markdown",
   "metadata": {},
   "source": [
    "-   _Tree_\n",
    "    -   Nodes are arranged in a Parent-Child / hierarchical relationship\n",
    "    -   There should not be any cycle among the nodes\n",
    "    -   _Empty Tree_ - A tree with no nodes\n",
    "-   _Binary Tree_\n",
    "    -   The nodes can have 0, 1, or 2 child nodes\n",
    "    -   Maximum of 2 children per node\n",
    "-   _Full Binary Tree_\n",
    "    -   All the nodes of the tree have either 0 or 2 children\n",
    "    -   There is no node that has 1 child\n",
    "-   _Complete Binary Tree_\n",
    "    -   All the positions are completely filled\n",
    "    -   Except (possibly) the lower level\n",
    "    -   The bottom level is filled from left to right\n",
    "    -   All the leaf elements must lean towards the left\n"
   ]
  },
  {
   "cell_type": "code",
   "execution_count": 2,
   "metadata": {},
   "outputs": [],
   "source": [
    "class SimpleTree:\n",
    "    \"\"\"Implementation of a Tree structure\"\"\"\n",
    "\n",
    "    def __init__(\n",
    "        self, nodes: Optional[list[TreeNode]], root_node: Optional[TreeNode]\n",
    "    ) -> None:\n",
    "        self._nodes: Optional[list[TreeNode]] = nodes\n",
    "        self._root_node: Optional[TreeNode] = root_node\n",
    "\n",
    "    def __str__(self) -> str:\n",
    "        \"\"\"Return the string representation of a Tree\"\"\"\n",
    "        return f\"Tree({str(self._nodes)})\"\n",
    "\n",
    "    def __repr__(self) -> str:\n",
    "        \"\"\"Return the string representation of a Tree\"\"\"\n",
    "        return f\"Tree({str(self._nodes)})\"\n",
    "\n",
    "    def traverse_dfs_inorder(self, from_node: Optional[TreeNode] = None) -> None:\n",
    "        \"\"\"Allows to traverse a tree using Depth-First-Search In-Order approach\"\"\"\n",
    "        # Start from the specified node\n",
    "        current: Optional[TreeNode] = from_node\n",
    "        # Base Condition for Recursion: Node is empty -> Return Nothing\n",
    "        if current is None:\n",
    "            return current\n",
    "        # Recursion toward the left subtree\n",
    "        self.traverse_dfs_inorder(current.left_child)\n",
    "        # Print the current data\n",
    "        print(current.data, end=\" \")\n",
    "        # Recursion toward the right subtree\n",
    "        self.traverse_dfs_inorder(current.right_child)\n",
    "\n",
    "    def traverse_dfs_preorder(self, from_node: Optional[TreeNode] = None) -> None:\n",
    "        \"\"\"Allows to traverse a tree using Depth-First-Search Pre-Order approach\"\"\"\n",
    "        # Start from the specified node\n",
    "        current: Optional[TreeNode] = from_node\n",
    "        # Base Condition for Recursion: Node is empty -> Return Nothing\n",
    "        if current is None:\n",
    "            return current\n",
    "        # Print the current data\n",
    "        print(current.data, end=\" \")\n",
    "        # Recursion toward the left subtree\n",
    "        self.traverse_dfs_preorder(current.left_child)\n",
    "        # Recursion toward the right subtree\n",
    "        self.traverse_dfs_preorder(current.right_child)\n",
    "\n",
    "    def traverse_dfs_postorder(self, from_node: Optional[TreeNode] = None) -> None:\n",
    "        \"\"\"Allows to traverse a tree using Depth-First-Search Post-Order approach\"\"\"\n",
    "        # Start from the specified node\n",
    "        current: Optional[TreeNode] = from_node\n",
    "        # Base Condition for Recursion: Node is empty -> Return Nothing\n",
    "        if current is None:\n",
    "            return\n",
    "        # Recursion toward the left subtree\n",
    "        self.traverse_dfs_postorder(current.left_child)\n",
    "        # Recursion toward the right subtree\n",
    "        self.traverse_dfs_postorder(current.right_child)\n",
    "        # Print the current data\n",
    "        print(current.data, end=\" \")\n",
    "\n",
    "    def traverse_breadth_first(\n",
    "        self, from_node: Optional[TreeNode] = None\n",
    "    ) -> list[Optional[TreeNode]]:\n",
    "        \"\"\"This function allows to traverse a tree using Breadth-First approach\"\"\"\n",
    "        final_list_of_visited_nodes: list[Optional[TreeNode]] = []\n",
    "        # Initialize the queue with the root node\n",
    "        traversal_queue: deque[Optional[TreeNode]] = deque([from_node])\n",
    "        while len(traversal_queue) > 0:\n",
    "            # Take one node from the queue and put in the final list\n",
    "            node: Optional[TreeNode] = traversal_queue.popleft()\n",
    "            final_list_of_visited_nodes.append(node)\n",
    "            # Check its left child and append to the queue\n",
    "            if node and node.left_child:\n",
    "                traversal_queue.append(node.left_child)\n",
    "            # Check its right child and append to the queue\n",
    "            if node and node.right_child:\n",
    "                traversal_queue.append(node.right_child)\n",
    "        # Return the final list\n",
    "        return final_list_of_visited_nodes\n"
   ]
  }
 ],
 "metadata": {
  "kernelspec": {
   "display_name": "learn_algorithm",
   "language": "python",
   "name": "python3"
  },
  "language_info": {
   "codemirror_mode": {
    "name": "ipython",
    "version": 3
   },
   "file_extension": ".py",
   "mimetype": "text/x-python",
   "name": "python",
   "nbconvert_exporter": "python",
   "pygments_lexer": "ipython3",
   "version": "3.11.3"
  },
  "orig_nbformat": 4
 },
 "nbformat": 4,
 "nbformat_minor": 2
}
