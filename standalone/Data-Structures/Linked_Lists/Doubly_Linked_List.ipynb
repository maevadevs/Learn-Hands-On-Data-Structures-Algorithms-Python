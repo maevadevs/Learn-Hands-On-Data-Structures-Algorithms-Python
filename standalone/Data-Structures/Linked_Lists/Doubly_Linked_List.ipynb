{
 "cells": [
  {
   "cell_type": "markdown",
   "metadata": {},
   "source": [
    "# DoublyLinkedList"
   ]
  },
  {
   "cell_type": "markdown",
   "metadata": {
    "toc": true
   },
   "source": [
    "<h1>Table of Contents<span class=\"tocSkip\"></span></h1>\n",
    "<div class=\"toc\"><ul class=\"toc-item\"><li><span><a href=\"#Methods\" data-toc-modified-id=\"Methods-1\"><span class=\"toc-item-num\">1&nbsp;&nbsp;</span>Methods</a></span></li><li><span><a href=\"#Implementation\" data-toc-modified-id=\"Implementation-2\"><span class=\"toc-item-num\">2&nbsp;&nbsp;</span>Implementation</a></span></li><li><span><a href=\"#Example-of-Usage\" data-toc-modified-id=\"Example-of-Usage-3\"><span class=\"toc-item-num\">3&nbsp;&nbsp;</span>Example of Usage</a></span><ul class=\"toc-item\"><li><span><a href=\"#Instantiation\" data-toc-modified-id=\"Instantiation-3.1\"><span class=\"toc-item-num\">3.1&nbsp;&nbsp;</span>Instantiation</a></span></li><li><span><a href=\"#String-Representation\" data-toc-modified-id=\"String-Representation-3.2\"><span class=\"toc-item-num\">3.2&nbsp;&nbsp;</span>String Representation</a></span></li><li><span><a href=\"#Length-of-the-List\" data-toc-modified-id=\"Length-of-the-List-3.3\"><span class=\"toc-item-num\">3.3&nbsp;&nbsp;</span>Length of the List</a></span></li><li><span><a href=\"#Appending-An-Element\" data-toc-modified-id=\"Appending-An-Element-3.4\"><span class=\"toc-item-num\">3.4&nbsp;&nbsp;</span>Appending An Element</a></span></li><li><span><a href=\"#Iteration-over-Elements\" data-toc-modified-id=\"Iteration-over-Elements-3.5\"><span class=\"toc-item-num\">3.5&nbsp;&nbsp;</span>Iteration over Elements</a></span></li><li><span><a href=\"#Membership-Checking\" data-toc-modified-id=\"Membership-Checking-3.6\"><span class=\"toc-item-num\">3.6&nbsp;&nbsp;</span>Membership Checking</a></span></li><li><span><a href=\"#Membership-Deletion\" data-toc-modified-id=\"Membership-Deletion-3.7\"><span class=\"toc-item-num\">3.7&nbsp;&nbsp;</span>Membership Deletion</a></span></li><li><span><a href=\"#Membership-Clearing\" data-toc-modified-id=\"Membership-Clearing-3.8\"><span class=\"toc-item-num\">3.8&nbsp;&nbsp;</span>Membership Clearing</a></span></li></ul></li></ul></div>"
   ]
  },
  {
   "cell_type": "markdown",
   "metadata": {},
   "source": [
    "- A *Doubly Linked List* has only two pointers for each nodes:\n",
    "  - `previous` points to the previous node\n",
    "  - `next` points to the next node\n",
    "- A *Doubly Linked List* can be traversed in any direction: first-to-last or last-to-first"
   ]
  },
  {
   "cell_type": "markdown",
   "metadata": {},
   "source": [
    "**About Linked Lists**:\n",
    "- A *Linked List* is a way to store a collection of elements\n",
    "- Each element in a *Linked List* is stored in the form of a *Node*\n",
    "- A *Node* is a collection of 2 sub-elements or parts:\n",
    "  - A *data* part that stores the element\n",
    "  - A *next* part that stores the link reference to the next node\n",
    "- A Linked List is formed when many nodes are linked together to form a chain\n",
    "- Each node points to the next node present in the order\n",
    "- The first node is always used as a reference to traverse the list and is called *HEAD*\n",
    "- The last node, the *TAIL*, terminates the list and points its `next` to `NONE`\n",
    "- Linked Lists are implemented using Pointer Structures"
   ]
  },
  {
   "cell_type": "markdown",
   "metadata": {},
   "source": [
    "## Methods"
   ]
  },
  {
   "cell_type": "markdown",
   "metadata": {},
   "source": [
    "- `DoublyLinkedList()`: Constructor\n",
    "- `print(sll)`: Get the string representation of the list\n",
    "- `len(sll)`: Get the length of the list\n",
    "- `for el in sll`: Iterate through the elements of the list\n",
    "- `sll.append(el)`: Append an element to the list\n",
    "- `sll.contains(el)`: Check if the list contains an element\n",
    "- `sll.delete(el)`: Delete an element from the list\n",
    "- `sll.clear()`: Clear the list"
   ]
  },
  {
   "cell_type": "markdown",
   "metadata": {},
   "source": [
    "## Implementation"
   ]
  },
  {
   "cell_type": "markdown",
   "metadata": {},
   "source": [
    "We are using `NodeTwo` class for the implementation"
   ]
  },
  {
   "cell_type": "code",
   "execution_count": 1,
   "metadata": {},
   "outputs": [],
   "source": [
    "class NodeTwo:\n",
    "    \"\"\"Implementation of a Two-Direction Node\"\"\"\n",
    "    \n",
    "    def __init__(self, data=None):\n",
    "        \"\"\"Initialize a Node object\"\"\"\n",
    "        self.data = data\n",
    "        self.next = None\n",
    "        self.previous = None\n",
    "        \n",
    "    def __str__(self):\n",
    "        \"\"\"Return the string representation of a Node\"\"\"\n",
    "        return f\"Node({str(self.data)})\"\n",
    "    \n",
    "    def __repr__(self):\n",
    "        \"\"\"Return the string representation of a Node\"\"\"\n",
    "        return f\"Node({str(self.data)})\""
   ]
  },
  {
   "cell_type": "markdown",
   "metadata": {},
   "source": [
    "Now, we can implement a Doubly Linked List"
   ]
  },
  {
   "cell_type": "code",
   "execution_count": 2,
   "metadata": {},
   "outputs": [],
   "source": [
    "class DoublyLinkedList:\n",
    "    \"\"\"An implementation of a DoublyLinkedList\"\"\"\n",
    "    \n",
    "    def __init__(self): \n",
    "        \"\"\"Initialize a new DoublyLinkedList structure\"\"\"\n",
    "        self.tail = None # Ref to the very first node in the list\n",
    "        self.head = None # Ref to the very last node in the list\n",
    "        self.length = 0  # Ref to the current length of the list\n",
    "            \n",
    "    def __len__(self):\n",
    "        \"\"\"Return the count of existing nodes\"\"\"\n",
    "        return self.length\n",
    "    \n",
    "    def __str__(self):\n",
    "        \"\"\"Return a string representation of the list\"\"\"\n",
    "        return f\"DoubyLinkedList({'<->'.join([item for item in self])})\" # Will call self.__iter__()\n",
    "    \n",
    "    def __repr__(self):\n",
    "        \"\"\"Return a string representation of the list\"\"\"\n",
    "        return f\"DoubyLinkedList({'<->'.join([item for item in self])})\" # Will call self.__iter__()\n",
    "    \n",
    "    def __iter__(self):\n",
    "        \"\"\"Allows calls like: for x in DoublyLinkedList\"\"\"\n",
    "        current = self.tail\n",
    "        while current:\n",
    "            value = current.data\n",
    "            current = current.next\n",
    "            yield value # Make ls.iterate() into a generator\n",
    "    \n",
    "    def append(self, data):\n",
    "        \"\"\"Append a new node to the list\"\"\"\n",
    "        # Encapsulate the data into a Node class: Default next is None\n",
    "        new_node = NodeTwo(data)\n",
    "        # Check if there are already data in the list\n",
    "        if self.tail:\n",
    "            # List is not empty: Transfer the last head node's data\n",
    "            new_node.previous = self.head\n",
    "            self.head.next = new_node\n",
    "            # Make the new_node to be the head of the list\n",
    "            self.head = new_node\n",
    "            # Increase the length of the list\n",
    "            self.length += 1\n",
    "        else:\n",
    "            # The list is initially empty\n",
    "            self.head = new_node\n",
    "            self.tail = new_node\n",
    "            # Increase the length of the list\n",
    "            self.length += 1\n",
    "            \n",
    "    def delete(self, data):\n",
    "        \"\"\"Delete a node from the list\"\"\"\n",
    "        # Starting search from the tail (The beginning of the list)\n",
    "        current = self.tail\n",
    "        node_deleted = False\n",
    "        \n",
    "        if current is None:\n",
    "            # Empty list: Item to be deleted is not found in the list\n",
    "            node_deleted = False\n",
    "        elif current.data == data:\n",
    "            # Item to be deleted is found at beginning (tail) of list\n",
    "            self.tail = current.next  \n",
    "            self.tail.previous = None \n",
    "            node_deleted = True \n",
    "        elif self.head.data == data: \n",
    "            # Item to be deleted is found at the end (head) of list\n",
    "            self.head = self.head.previous \n",
    "            self.head.next = None \n",
    "            node_deleted = True\n",
    "        else: \n",
    "            # Search item to be deleted and delete that node\n",
    "            # This is currently a linear search\n",
    "            while current:\n",
    "                if current.data == data: \n",
    "                    # Set the previous node's next to the next node\n",
    "                    current.previous.next = current.next\n",
    "                    # Set the next node's previous to the previous node\n",
    "                    current.next.previous = current.previous\n",
    "                    # Node has been deleted\n",
    "                    node_deleted = True\n",
    "                    # Break out of the loop as early as possible\n",
    "                    break\n",
    "                # If here, the node to delete was not found yet\n",
    "                # Keep looping until hitting next == None (head)\n",
    "                current = current.next\n",
    "        # If a node was delete, update the length\n",
    "        if node_deleted: \n",
    "            self.length -= 1\n",
    "            print(f'\"{data}\" has been deleted from the list')\n",
    "            return\n",
    "        # If still here, node_delete == False\n",
    "        print(f'\"{data}\" was not found in the list')\n",
    "        return\n",
    "    \n",
    "    def contains(self, data):\n",
    "        \"\"\"Search if an item is contained in the list\"\"\"\n",
    "        for item in self.__iter__(): # This is currently a linear search\n",
    "            if data == item:\n",
    "                return True \n",
    "        # If here, then it is not in the list\n",
    "        return False\n",
    "    \n",
    "    def clear(self):\n",
    "        \"\"\"Reset/Clear the contents of a list\"\"\"\n",
    "        self.head = None\n",
    "        self.tail = None\n",
    "        self.length = 0"
   ]
  },
  {
   "cell_type": "markdown",
   "metadata": {},
   "source": [
    "## Example of Usage"
   ]
  },
  {
   "cell_type": "markdown",
   "metadata": {},
   "source": [
    "### Instantiation"
   ]
  },
  {
   "cell_type": "code",
   "execution_count": 3,
   "metadata": {},
   "outputs": [],
   "source": [
    "fruits = DoublyLinkedList()"
   ]
  },
  {
   "cell_type": "markdown",
   "metadata": {},
   "source": [
    "### String Representation"
   ]
  },
  {
   "cell_type": "code",
   "execution_count": 4,
   "metadata": {},
   "outputs": [
    {
     "name": "stdout",
     "output_type": "stream",
     "text": [
      "DoubyLinkedList()\n"
     ]
    }
   ],
   "source": [
    "print(fruits)"
   ]
  },
  {
   "cell_type": "markdown",
   "metadata": {},
   "source": [
    "### Length of the List"
   ]
  },
  {
   "cell_type": "code",
   "execution_count": 5,
   "metadata": {},
   "outputs": [
    {
     "name": "stdout",
     "output_type": "stream",
     "text": [
      "Length of 'fruits': 0\n"
     ]
    }
   ],
   "source": [
    "print(\"Length of 'fruits':\", len(fruits))"
   ]
  },
  {
   "cell_type": "markdown",
   "metadata": {},
   "source": [
    "### Appending An Element"
   ]
  },
  {
   "cell_type": "code",
   "execution_count": 6,
   "metadata": {},
   "outputs": [],
   "source": [
    "fruits.append('Apple')\n",
    "fruits.append('Banana')\n",
    "fruits.append('Cranberries')\n",
    "fruits.append('Date')\n",
    "fruits.append('Elderberry')"
   ]
  },
  {
   "cell_type": "code",
   "execution_count": 7,
   "metadata": {},
   "outputs": [
    {
     "name": "stdout",
     "output_type": "stream",
     "text": [
      "DoubyLinkedList(Apple<->Banana<->Cranberries<->Date<->Elderberry)\n"
     ]
    }
   ],
   "source": [
    "print(fruits)"
   ]
  },
  {
   "cell_type": "markdown",
   "metadata": {},
   "source": [
    "### Iteration over Elements"
   ]
  },
  {
   "cell_type": "code",
   "execution_count": 8,
   "metadata": {},
   "outputs": [
    {
     "name": "stdout",
     "output_type": "stream",
     "text": [
      "Apple\n",
      "Banana\n",
      "Cranberries\n",
      "Date\n",
      "Elderberry\n"
     ]
    }
   ],
   "source": [
    "for f in fruits:\n",
    "    print(f)"
   ]
  },
  {
   "cell_type": "markdown",
   "metadata": {},
   "source": [
    "### Membership Checking"
   ]
  },
  {
   "cell_type": "code",
   "execution_count": 9,
   "metadata": {},
   "outputs": [
    {
     "name": "stdout",
     "output_type": "stream",
     "text": [
      "True\n",
      "False\n"
     ]
    }
   ],
   "source": [
    "print(fruits.contains('Date'))\n",
    "print(fruits.contains('Strawberry'))"
   ]
  },
  {
   "cell_type": "markdown",
   "metadata": {},
   "source": [
    "### Membership Deletion"
   ]
  },
  {
   "cell_type": "code",
   "execution_count": 10,
   "metadata": {},
   "outputs": [
    {
     "name": "stdout",
     "output_type": "stream",
     "text": [
      "\"Date\" has been deleted from the list\n",
      "DoubyLinkedList(Apple<->Banana<->Cranberries<->Elderberry)\n"
     ]
    }
   ],
   "source": [
    "fruits.delete('Date')\n",
    "print(fruits)"
   ]
  },
  {
   "cell_type": "markdown",
   "metadata": {},
   "source": [
    "### Membership Clearing"
   ]
  },
  {
   "cell_type": "code",
   "execution_count": 11,
   "metadata": {
    "scrolled": true
   },
   "outputs": [
    {
     "name": "stdout",
     "output_type": "stream",
     "text": [
      "DoubyLinkedList()\n"
     ]
    }
   ],
   "source": [
    "fruits.clear()\n",
    "print(fruits)"
   ]
  }
 ],
 "metadata": {
  "hide_input": false,
  "kernelspec": {
   "display_name": "Python 3 (ipykernel)",
   "language": "python",
   "name": "python3"
  },
  "language_info": {
   "codemirror_mode": {
    "name": "ipython",
    "version": 3
   },
   "file_extension": ".py",
   "mimetype": "text/x-python",
   "name": "python",
   "nbconvert_exporter": "python",
   "pygments_lexer": "ipython3",
   "version": "3.9.12"
  },
  "toc": {
   "base_numbering": 1,
   "nav_menu": {},
   "number_sections": true,
   "sideBar": true,
   "skip_h1_title": true,
   "title_cell": "Table of Contents",
   "title_sidebar": "Contents",
   "toc_cell": true,
   "toc_position": {},
   "toc_section_display": true,
   "toc_window_display": true
  },
  "varInspector": {
   "cols": {
    "lenName": 16,
    "lenType": 16,
    "lenVar": 40
   },
   "kernels_config": {
    "python": {
     "delete_cmd_postfix": "",
     "delete_cmd_prefix": "del ",
     "library": "var_list.py",
     "varRefreshCmd": "print(var_dic_list())"
    },
    "r": {
     "delete_cmd_postfix": ") ",
     "delete_cmd_prefix": "rm(",
     "library": "var_list.r",
     "varRefreshCmd": "cat(var_dic_list()) "
    }
   },
   "types_to_exclude": [
    "module",
    "function",
    "builtin_function_or_method",
    "instance",
    "_Feature"
   ],
   "window_display": false
  }
 },
 "nbformat": 4,
 "nbformat_minor": 4
}
