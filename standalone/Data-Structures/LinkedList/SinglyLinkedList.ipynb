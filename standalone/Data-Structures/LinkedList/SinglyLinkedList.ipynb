{
 "cells": [
  {
   "attachments": {},
   "cell_type": "markdown",
   "metadata": {},
   "source": [
    "# SinglyLinkedList\n"
   ]
  },
  {
   "attachments": {},
   "cell_type": "markdown",
   "metadata": {},
   "source": [
    "---\n"
   ]
  },
  {
   "attachments": {},
   "cell_type": "markdown",
   "metadata": {},
   "source": [
    "**Table of contents**<a id='toc0_'></a>\n",
    "\n",
    "-   [Methods](#toc1_)\n",
    "-   [Implementation](#toc2_)\n",
    "-   [Example of Usage](#toc3_)\n",
    "    -   [Instantiation](#toc3_1_)\n",
    "    -   [String Representation](#toc3_2_)\n",
    "    -   [Length of the List](#toc3_3_)\n",
    "    -   [Appending An Element](#toc3_4_)\n",
    "    -   [Iteration over Elements](#toc3_5_)\n",
    "    -   [Membership Checking](#toc3_6_)\n",
    "    -   [Membership Deletion](#toc3_7_)\n",
    "    -   [Membership Clearing](#toc3_8_)\n",
    "\n",
    "<!-- vscode-jupyter-toc-config\n",
    "\tnumbering=false\n",
    "\tanchor=true\n",
    "\tflat=false\n",
    "\tminLevel=2\n",
    "\tmaxLevel=6\n",
    "\t/vscode-jupyter-toc-config -->\n",
    "<!-- THIS CELL WILL BE REPLACED ON TOC UPDATE. DO NOT WRITE YOUR TEXT IN THIS CELL -->\n"
   ]
  },
  {
   "attachments": {},
   "cell_type": "markdown",
   "metadata": {},
   "source": [
    "---\n"
   ]
  },
  {
   "attachments": {},
   "cell_type": "markdown",
   "metadata": {},
   "source": [
    "-   A _Singly Linked List_ has only one pointer between 2 successive nodes\n",
    "-   A _Singly Linked List_ can only be traversed in one direction: From first to last\n"
   ]
  },
  {
   "attachments": {},
   "cell_type": "markdown",
   "metadata": {},
   "source": [
    "**About Linked Lists**:\n",
    "\n",
    "-   A _Linked List_ is a way to store a collection of elements\n",
    "-   Each element in a _Linked List_ is stored in the form of a _Node_\n",
    "-   A _Node_ is a collection of 2 sub-elements or parts:\n",
    "    -   A _data_ part that stores the element\n",
    "    -   A _next_ part that stores the link reference to the next node\n",
    "-   A Linked List is formed when many nodes are linked together to form a chain\n",
    "-   Each node points to the next node present in the order\n",
    "-   The first node is always used as a reference to traverse the list and is called _HEAD_\n",
    "-   The last node, the _TAIL_, terminates the list and points its `next` to `NONE`\n",
    "-   Linked Lists are implemented using Pointer Structures\n"
   ]
  },
  {
   "attachments": {},
   "cell_type": "markdown",
   "metadata": {},
   "source": [
    "## <a id='toc1_'></a>Methods [&#8593;](#toc0_)\n"
   ]
  },
  {
   "attachments": {},
   "cell_type": "markdown",
   "metadata": {},
   "source": [
    "| Method               | Description                               |\n",
    "| :------------------- | :---------------------------------------- |\n",
    "| `SinglyLinkedList()` | Constructor                               |\n",
    "| `print(sll)`         | Get the string representation of the list |\n",
    "| `len(sll)`           | Get the length of the list                |\n",
    "| `for el in sll`      | Iterate through the elements of the list  |\n",
    "| `sll.append(el)`     | Append an element to the list             |\n",
    "| `sll.contains(el)`   | Check if the list contains an element     |\n",
    "| `sll.delete(el)`     | Delete an element from the list           |\n",
    "| `sll.clear()`        | Clear the list                            |\n"
   ]
  },
  {
   "attachments": {},
   "cell_type": "markdown",
   "metadata": {},
   "source": [
    "## <a id='toc2_'></a>Implementation [&#8593;](#toc0_)\n"
   ]
  },
  {
   "attachments": {},
   "cell_type": "markdown",
   "metadata": {},
   "source": [
    "We are using `Node` class for the implementation\n"
   ]
  },
  {
   "cell_type": "code",
   "execution_count": 1,
   "metadata": {},
   "outputs": [],
   "source": [
    "from typing import Any, Optional\n",
    "\n",
    "\n",
    "class Node:\n",
    "    \"\"\"Implementation of a One-Direction Node\"\"\"\n",
    "\n",
    "    def __init__(self, data: Optional[Any] = None) -> None:\n",
    "        \"\"\"Initialize a Node object\"\"\"\n",
    "        self.data: Optional[Any] = data\n",
    "        self.next: Optional[\"Node\"] = None\n",
    "\n",
    "    def __str__(self) -> str:\n",
    "        \"\"\"Return the string representation of a Node\"\"\"\n",
    "        return f\"Node({str(self.data)})\"\n",
    "\n",
    "    def __repr__(self) -> str:\n",
    "        \"\"\"Return the string representation of a Node\"\"\"\n",
    "        return f\"Node({str(self.data)})\"\n"
   ]
  },
  {
   "attachments": {},
   "cell_type": "markdown",
   "metadata": {},
   "source": [
    "Now, we can implement a Singly Linked List\n"
   ]
  },
  {
   "cell_type": "code",
   "execution_count": 2,
   "metadata": {},
   "outputs": [],
   "source": [
    "from typing import Any, Generator, Optional\n",
    "\n",
    "\n",
    "class SinglyLinkedList:\n",
    "    \"\"\"A better implementation of a SinglyLinkedList\"\"\"\n",
    "\n",
    "    def __init__(self) -> None:\n",
    "        \"\"\"Initialize a new SinglyLinkedList structure\"\"\"\n",
    "        # Ref to the very first node (oldest) in the list\n",
    "        self.tail: Optional[Node] = None\n",
    "        # Ref to the very last node (newest) in the list\n",
    "        self.head: Optional[Node] = None\n",
    "        # Ref to the current length of the list\n",
    "        self.length: int = 0\n",
    "\n",
    "    def __len__(self) -> int:\n",
    "        \"\"\"Return the count of existing nodes\"\"\"\n",
    "        return self.length\n",
    "\n",
    "    def __iter__(self) -> Generator[Any | None, Any, None]:\n",
    "        \"\"\"Allows calls like: for x in singlyLinkedlist\"\"\"\n",
    "        # Starting from the oldest Node\n",
    "        current: Optional[Node] = self.tail\n",
    "        value: Optional[Any]\n",
    "        while current:\n",
    "            value = current.data\n",
    "            current = current.next\n",
    "            yield value  # Make ls.iterate() into a generator\n",
    "\n",
    "    def __str__(self) -> str:\n",
    "        \"\"\"Return a string representation of the list\"\"\"\n",
    "        return f\"SinglyLinkedList({'->'.join([str(item) for item in self])})\"  # Will call self.__iter__()\n",
    "\n",
    "    def __repr__(self) -> str:\n",
    "        \"\"\"Return a string representation of the list\"\"\"\n",
    "        return f\"SinglyLinkedList({'->'.join([str(item) for item in self])})\"  # Will call self.__iter__()\n",
    "\n",
    "    def append(self, data: Optional[Any]) -> None:\n",
    "        \"\"\"Append a new node to the list\"\"\"\n",
    "        # Encapsulate the data into a Node class: Default next is None\n",
    "        new_node: Node = Node(data)\n",
    "        # Check if there are already data in the list\n",
    "        if self.tail and self.head:\n",
    "            # Take the current head node and set its 'next' to point to the new node\n",
    "            self.head.next = new_node\n",
    "            # Then, set the new node as the new current head node\n",
    "            # This makes self.head.next as None again\n",
    "            self.head = new_node\n",
    "            # Increase the length of the list\n",
    "            self.length += 1\n",
    "        else:\n",
    "            # There are no data in the list: Set first node as both tail and head\n",
    "            self.tail = new_node\n",
    "            self.head = new_node\n",
    "            # Increase the length of the list\n",
    "            self.length += 1\n",
    "\n",
    "    def delete(self, data: Any) -> None:\n",
    "        \"\"\"Delete a node from the list\"\"\"\n",
    "        # Starting search from the tail (The beginning of the list)\n",
    "        current: Optional[Node] = self.tail\n",
    "        prev: Optional[Node] = self.tail\n",
    "        # This is currently a linear search\n",
    "        while current:\n",
    "            if current.data == data:\n",
    "                # We found the data to delete\n",
    "                if current == self.tail:\n",
    "                    # The element to delete is the first element in the list\n",
    "                    # Make the 2nd element to be the 1st element\n",
    "                    self.tail = current.next\n",
    "                else:\n",
    "                    # The element to delete is somewhere in between other nodes\n",
    "                    # Make the next element to be the 'next' of the preceding element\n",
    "                    if prev is not None:\n",
    "                        prev.next = current.next\n",
    "                # Decrease the length of the list\n",
    "                self.length -= 1\n",
    "                print(f'\"{data}\" has been deleted from the list')\n",
    "                # Exit loop and return\n",
    "                return None\n",
    "            # Else: # Update the pointers to continue the loop\n",
    "            prev = current\n",
    "            current = current.next\n",
    "        # If here, then data was not found\n",
    "        print(f'\"{data}\" was not found in the list')\n",
    "        return None\n",
    "\n",
    "    def contains(self, data: Any) -> bool:\n",
    "        \"\"\"Search if an item is contained in the list\"\"\"\n",
    "        for item in self.__iter__():  # This is currently a linear search\n",
    "            if data == item:\n",
    "                return True\n",
    "        # If here, then it is not in the list\n",
    "        return False\n",
    "\n",
    "    def clear(self) -> None:\n",
    "        \"\"\"Reset/Clear the contents of a list\"\"\"\n",
    "        self.head = None\n",
    "        self.tail = None\n",
    "        self.length = 0\n"
   ]
  },
  {
   "attachments": {},
   "cell_type": "markdown",
   "metadata": {},
   "source": [
    "## <a id='toc3_'></a>Example of Usage [&#8593;](#toc0_)\n"
   ]
  },
  {
   "attachments": {},
   "cell_type": "markdown",
   "metadata": {},
   "source": [
    "### <a id='toc3_1_'></a>Instantiation [&#8593;](#toc0_)\n"
   ]
  },
  {
   "cell_type": "code",
   "execution_count": 3,
   "metadata": {},
   "outputs": [],
   "source": [
    "fruits: SinglyLinkedList = SinglyLinkedList()\n"
   ]
  },
  {
   "attachments": {},
   "cell_type": "markdown",
   "metadata": {},
   "source": [
    "### <a id='toc3_2_'></a>String Representation [&#8593;](#toc0_)\n"
   ]
  },
  {
   "cell_type": "code",
   "execution_count": 4,
   "metadata": {},
   "outputs": [
    {
     "name": "stdout",
     "output_type": "stream",
     "text": [
      "SinglyLinkedList()\n"
     ]
    }
   ],
   "source": [
    "print(fruits)\n"
   ]
  },
  {
   "attachments": {},
   "cell_type": "markdown",
   "metadata": {},
   "source": [
    "### <a id='toc3_3_'></a>Length of the List [&#8593;](#toc0_)\n"
   ]
  },
  {
   "cell_type": "code",
   "execution_count": 5,
   "metadata": {},
   "outputs": [
    {
     "name": "stdout",
     "output_type": "stream",
     "text": [
      "Length of 'fruits': 0\n"
     ]
    }
   ],
   "source": [
    "print(\"Length of 'fruits':\", len(fruits))\n"
   ]
  },
  {
   "attachments": {},
   "cell_type": "markdown",
   "metadata": {},
   "source": [
    "### <a id='toc3_4_'></a>Appending An Element [&#8593;](#toc0_)\n"
   ]
  },
  {
   "cell_type": "code",
   "execution_count": 6,
   "metadata": {},
   "outputs": [
    {
     "name": "stdout",
     "output_type": "stream",
     "text": [
      "SinglyLinkedList(Apple->Banana->Cranberries->Date->Elderberry)\n"
     ]
    }
   ],
   "source": [
    "fruits.append(\"Apple\")\n",
    "fruits.append(\"Banana\")\n",
    "fruits.append(\"Cranberries\")\n",
    "fruits.append(\"Date\")\n",
    "fruits.append(\"Elderberry\")\n",
    "print(fruits)\n"
   ]
  },
  {
   "attachments": {},
   "cell_type": "markdown",
   "metadata": {},
   "source": [
    "### <a id='toc3_5_'></a>Iteration over Elements [&#8593;](#toc0_)\n"
   ]
  },
  {
   "cell_type": "code",
   "execution_count": 7,
   "metadata": {},
   "outputs": [
    {
     "name": "stdout",
     "output_type": "stream",
     "text": [
      "Apple\n",
      "Banana\n",
      "Cranberries\n",
      "Date\n",
      "Elderberry\n"
     ]
    }
   ],
   "source": [
    "for f in fruits:\n",
    "    print(f)\n"
   ]
  },
  {
   "attachments": {},
   "cell_type": "markdown",
   "metadata": {},
   "source": [
    "### <a id='toc3_6_'></a>Membership Checking [&#8593;](#toc0_)\n"
   ]
  },
  {
   "cell_type": "code",
   "execution_count": 8,
   "metadata": {},
   "outputs": [
    {
     "name": "stdout",
     "output_type": "stream",
     "text": [
      "True\n",
      "False\n"
     ]
    }
   ],
   "source": [
    "print(fruits.contains(\"Date\"))\n",
    "print(fruits.contains(\"Strawberry\"))\n"
   ]
  },
  {
   "attachments": {},
   "cell_type": "markdown",
   "metadata": {},
   "source": [
    "### <a id='toc3_7_'></a>Membership Deletion [&#8593;](#toc0_)\n"
   ]
  },
  {
   "cell_type": "code",
   "execution_count": 9,
   "metadata": {},
   "outputs": [
    {
     "name": "stdout",
     "output_type": "stream",
     "text": [
      "\"Date\" has been deleted from the list\n",
      "SinglyLinkedList(Apple->Banana->Cranberries->Elderberry)\n"
     ]
    }
   ],
   "source": [
    "fruits.delete(\"Date\")\n",
    "print(fruits)\n"
   ]
  },
  {
   "attachments": {},
   "cell_type": "markdown",
   "metadata": {},
   "source": [
    "### <a id='toc3_8_'></a>Membership Clearing [&#8593;](#toc0_)\n"
   ]
  },
  {
   "cell_type": "code",
   "execution_count": 10,
   "metadata": {
    "scrolled": true
   },
   "outputs": [
    {
     "name": "stdout",
     "output_type": "stream",
     "text": [
      "SinglyLinkedList()\n"
     ]
    }
   ],
   "source": [
    "fruits.clear()\n",
    "print(fruits)\n"
   ]
  }
 ],
 "metadata": {
  "hide_input": false,
  "kernelspec": {
   "display_name": "Python 3 (ipykernel)",
   "language": "python",
   "name": "python3"
  },
  "language_info": {
   "codemirror_mode": {
    "name": "ipython",
    "version": 3
   },
   "file_extension": ".py",
   "mimetype": "text/x-python",
   "name": "python",
   "nbconvert_exporter": "python",
   "pygments_lexer": "ipython3",
   "version": "3.11.3"
  },
  "toc": {
   "base_numbering": 1,
   "nav_menu": {},
   "number_sections": true,
   "sideBar": true,
   "skip_h1_title": true,
   "title_cell": "Table of Contents",
   "title_sidebar": "Contents",
   "toc_cell": true,
   "toc_position": {},
   "toc_section_display": true,
   "toc_window_display": true
  },
  "varInspector": {
   "cols": {
    "lenName": 16,
    "lenType": 16,
    "lenVar": 40
   },
   "kernels_config": {
    "python": {
     "delete_cmd_postfix": "",
     "delete_cmd_prefix": "del ",
     "library": "var_list.py",
     "varRefreshCmd": "print(var_dic_list())"
    },
    "r": {
     "delete_cmd_postfix": ") ",
     "delete_cmd_prefix": "rm(",
     "library": "var_list.r",
     "varRefreshCmd": "cat(var_dic_list()) "
    }
   },
   "types_to_exclude": [
    "module",
    "function",
    "builtin_function_or_method",
    "instance",
    "_Feature"
   ],
   "window_display": false
  }
 },
 "nbformat": 4,
 "nbformat_minor": 4
}
