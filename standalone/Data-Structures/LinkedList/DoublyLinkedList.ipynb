{
 "cells": [
  {
   "attachments": {},
   "cell_type": "markdown",
   "metadata": {},
   "source": [
    "# DoublyLinkedList\n"
   ]
  },
  {
   "attachments": {},
   "cell_type": "markdown",
   "metadata": {},
   "source": [
    "---\n"
   ]
  },
  {
   "attachments": {},
   "cell_type": "markdown",
   "metadata": {},
   "source": [
    "**Table of contents**<a id='toc0_'></a>\n",
    "\n",
    "-   [Methods](#toc1_)\n",
    "-   [Implementation](#toc2_)\n",
    "-   [Example of Usage](#toc3_)\n",
    "    -   [Instantiation](#toc3_1_)\n",
    "    -   [String Representation](#toc3_2_)\n",
    "    -   [Length of the List](#toc3_3_)\n",
    "    -   [Appending An Element](#toc3_4_)\n",
    "    -   [Iteration over Elements](#toc3_5_)\n",
    "    -   [Membership Checking](#toc3_6_)\n",
    "    -   [Membership Deletion](#toc3_7_)\n",
    "    -   [Membership Clearing](#toc3_8_)\n",
    "\n",
    "<!-- vscode-jupyter-toc-config\n",
    "\tnumbering=false\n",
    "\tanchor=true\n",
    "\tflat=false\n",
    "\tminLevel=2\n",
    "\tmaxLevel=6\n",
    "\t/vscode-jupyter-toc-config -->\n",
    "<!-- THIS CELL WILL BE REPLACED ON TOC UPDATE. DO NOT WRITE YOUR TEXT IN THIS CELL -->\n"
   ]
  },
  {
   "attachments": {},
   "cell_type": "markdown",
   "metadata": {},
   "source": [
    "---\n"
   ]
  },
  {
   "attachments": {},
   "cell_type": "markdown",
   "metadata": {},
   "source": [
    "-   A _Doubly Linked List_ has only two pointers for each nodes:\n",
    "    -   `previous` points to the previous node\n",
    "    -   `next` points to the next node\n",
    "-   A _Doubly Linked List_ can be traversed in any direction: first-to-last or last-to-first\n"
   ]
  },
  {
   "attachments": {},
   "cell_type": "markdown",
   "metadata": {},
   "source": [
    "**About Linked Lists**:\n",
    "\n",
    "-   A _Linked List_ is a way to store a collection of elements\n",
    "-   Each element in a _Linked List_ is stored in the form of a _Node_\n",
    "-   A _Node_ is a collection of 2 sub-elements or parts:\n",
    "    -   A _data_ part that stores the element\n",
    "    -   A _next_ part that stores the link reference to the next node\n",
    "-   A Linked List is formed when many nodes are linked together to form a chain\n",
    "-   Each node points to the next node present in the order\n",
    "-   The first node is always used as a reference to traverse the list and is called _HEAD_\n",
    "-   The last node, the _TAIL_, terminates the list and points its `next` to `NONE`\n",
    "-   Linked Lists are implemented using Pointer Structures\n"
   ]
  },
  {
   "attachments": {},
   "cell_type": "markdown",
   "metadata": {},
   "source": [
    "## <a id='toc1_'></a>Methods [&#8593;](#toc0_)\n"
   ]
  },
  {
   "attachments": {},
   "cell_type": "markdown",
   "metadata": {},
   "source": [
    "-   `DoublyLinkedList()`: Constructor\n",
    "-   `print(sll)`: Get the string representation of the list\n",
    "-   `len(sll)`: Get the length of the list\n",
    "-   `for el in sll`: Iterate through the elements of the list\n",
    "-   `sll.append(el)`: Append an element to the list\n",
    "-   `sll.contains(el)`: Check if the list contains an element\n",
    "-   `sll.delete(el)`: Delete an element from the list\n",
    "-   `sll.clear()`: Clear the list\n"
   ]
  },
  {
   "attachments": {},
   "cell_type": "markdown",
   "metadata": {},
   "source": [
    "## <a id='toc2_'></a>Implementation [&#8593;](#toc0_)\n"
   ]
  },
  {
   "attachments": {},
   "cell_type": "markdown",
   "metadata": {},
   "source": [
    "We are using `NodeTwo` class for the implementation\n"
   ]
  },
  {
   "cell_type": "code",
   "execution_count": 1,
   "metadata": {},
   "outputs": [],
   "source": [
    "from typing import Any, Optional\n",
    "from OneDirectionNode import Node\n",
    "\n",
    "\n",
    "class NodeTwo(Node):\n",
    "    \"\"\"Implementation of a Two-Direction Node\"\"\"\n",
    "\n",
    "    def __init__(self, data: Optional[Any] = None) -> None:\n",
    "        \"\"\"Initialize a Node object\"\"\"\n",
    "        super().__init__(data)\n",
    "        self.next: Optional[\"NodeTwo\"] = None\n",
    "        self.previous: Optional[\"NodeTwo\"] = None\n",
    "\n",
    "    def __str__(self) -> str:\n",
    "        \"\"\"Return the string representation of a Node\"\"\"\n",
    "        return f\"NodeTwo({str(self.data)})\"\n",
    "\n",
    "    def __repr__(self) -> str:\n",
    "        \"\"\"Return the string representation of a Node\"\"\"\n",
    "        return f\"NodeTwo({str(self.data)})\"\n"
   ]
  },
  {
   "attachments": {},
   "cell_type": "markdown",
   "metadata": {},
   "source": [
    "Now, we can implement a Doubly Linked List\n"
   ]
  },
  {
   "cell_type": "code",
   "execution_count": 2,
   "metadata": {},
   "outputs": [],
   "source": [
    "from typing import Any, Generator, Optional\n",
    "\n",
    "\n",
    "class DoublyLinkedList:\n",
    "    \"\"\"An implementation of a DoublyLinkedList\"\"\"\n",
    "\n",
    "    def __init__(self) -> None:\n",
    "        \"\"\"Initialize a new DoublyLinkedList structure\"\"\"\n",
    "        # Ref to the very first node in the list\n",
    "        self.tail: Optional[NodeTwo] = None\n",
    "        # Ref to the very last node in the list\n",
    "        self.head: Optional[NodeTwo] = None\n",
    "        # Ref to the current length of the list\n",
    "        self.length: int = 0\n",
    "\n",
    "    def __len__(self) -> int:\n",
    "        \"\"\"Return the count of existing nodes\"\"\"\n",
    "        return self.length\n",
    "\n",
    "    def __str__(self) -> str:\n",
    "        \"\"\"Return a string representation of the list\"\"\"\n",
    "        return f\"DoubyLinkedList({'<->'.join([str(item) for item in self])})\"  # Will call self.__iter__()\n",
    "\n",
    "    def __repr__(self) -> str:\n",
    "        \"\"\"Return a string representation of the list\"\"\"\n",
    "        return f\"DoubyLinkedList({'<->'.join([str(item) for item in self])})\"  # Will call self.__iter__()\n",
    "\n",
    "    def __iter__(self) -> Generator[Any | None, Any, None]:\n",
    "        \"\"\"Allows calls like: for x in DoublyLinkedList\"\"\"\n",
    "        current: Optional[NodeTwo] = self.tail\n",
    "        value: Optional[Any]\n",
    "        while current:\n",
    "            value = current.data\n",
    "            current = current.next\n",
    "            yield value  # Make ls.iterate() into a generator\n",
    "\n",
    "    def append(self, data: Optional[Any]) -> None:\n",
    "        \"\"\"Append a new node to the list\"\"\"\n",
    "        # Encapsulate the data into a Node class: Default next is None\n",
    "        new_node: NodeTwo = NodeTwo(data)\n",
    "        # Check if there are already data in the list\n",
    "        if self.tail and self.head:\n",
    "            # List is not empty: Transfer the last head node's data\n",
    "            new_node.previous = self.head\n",
    "            self.head.next = new_node\n",
    "            # Make the new_node to be the head of the list\n",
    "            self.head = new_node\n",
    "            # Increase the length of the list\n",
    "            self.length += 1\n",
    "        else:\n",
    "            # The list is initially empty\n",
    "            self.head = new_node\n",
    "            self.tail = new_node\n",
    "            # Increase the length of the list\n",
    "            self.length += 1\n",
    "\n",
    "    def delete(self, data: Any) -> None:\n",
    "        \"\"\"Delete a node from the list\"\"\"\n",
    "        # Starting search from the tail (The beginning of the list)\n",
    "        current: Optional[NodeTwo] = self.tail\n",
    "        node_deleted: bool = False\n",
    "\n",
    "        if current is None:\n",
    "            # Empty list: Item to be deleted is not found in the list\n",
    "            node_deleted = False\n",
    "        elif current and current.next and current.data == data:\n",
    "            # Item to be deleted is found at beginning (tail) of list\n",
    "            self.tail = current.next\n",
    "            self.tail.previous = None\n",
    "            node_deleted = True\n",
    "        elif self.head and self.head.previous and self.head.data == data:\n",
    "            # Item to be deleted is found at the end (head) of list\n",
    "            self.head = self.head.previous\n",
    "            self.head.next = None\n",
    "            node_deleted = True\n",
    "        else:\n",
    "            # Search item to be deleted and delete that node\n",
    "            # This is currently a linear search\n",
    "            while current:\n",
    "                if current.previous and current.next and current.data == data:\n",
    "                    # Set the previous node's next to the next node\n",
    "                    current.previous.next = current.next\n",
    "                    # Set the next node's previous to the previous node\n",
    "                    current.next.previous = current.previous\n",
    "                    # Node has been deleted\n",
    "                    node_deleted = True\n",
    "                    # Break out of the loop as early as possible\n",
    "                    break\n",
    "                # If here, the node to delete was not found yet\n",
    "                # Keep looping until hitting next == None (head)\n",
    "                current = current.next\n",
    "        # If a node was delete, update the length\n",
    "        if node_deleted:\n",
    "            self.length -= 1\n",
    "            print(f'\"{data}\" has been deleted from the list')\n",
    "            return\n",
    "        # If still here, node_delete == False\n",
    "        print(f'\"{data}\" was not found in the list')\n",
    "        return\n",
    "\n",
    "    def contains(self, data: Any) -> bool:\n",
    "        \"\"\"Search if an item is contained in the list\"\"\"\n",
    "        for item in self.__iter__():  # This is currently a linear search\n",
    "            if data == item:\n",
    "                return True\n",
    "        # If here, then it is not in the list\n",
    "        return False\n",
    "\n",
    "    def clear(self) -> None:\n",
    "        \"\"\"Reset/Clear the contents of a list\"\"\"\n",
    "        self.head = None\n",
    "        self.tail = None\n",
    "        self.length = 0\n"
   ]
  },
  {
   "attachments": {},
   "cell_type": "markdown",
   "metadata": {},
   "source": [
    "## <a id='toc3_'></a>Example of Usage [&#8593;](#toc0_)\n"
   ]
  },
  {
   "attachments": {},
   "cell_type": "markdown",
   "metadata": {},
   "source": [
    "### <a id='toc3_1_'></a>Instantiation [&#8593;](#toc0_)\n"
   ]
  },
  {
   "cell_type": "code",
   "execution_count": 3,
   "metadata": {},
   "outputs": [],
   "source": [
    "fruits: DoublyLinkedList = DoublyLinkedList()\n"
   ]
  },
  {
   "attachments": {},
   "cell_type": "markdown",
   "metadata": {},
   "source": [
    "### <a id='toc3_2_'></a>String Representation [&#8593;](#toc0_)\n"
   ]
  },
  {
   "cell_type": "code",
   "execution_count": 4,
   "metadata": {},
   "outputs": [
    {
     "name": "stdout",
     "output_type": "stream",
     "text": [
      "DoubyLinkedList()\n"
     ]
    }
   ],
   "source": [
    "print(fruits)\n"
   ]
  },
  {
   "attachments": {},
   "cell_type": "markdown",
   "metadata": {},
   "source": [
    "### <a id='toc3_3_'></a>Length of the List [&#8593;](#toc0_)\n"
   ]
  },
  {
   "cell_type": "code",
   "execution_count": 5,
   "metadata": {},
   "outputs": [
    {
     "name": "stdout",
     "output_type": "stream",
     "text": [
      "Length of 'fruits': 0\n"
     ]
    }
   ],
   "source": [
    "print(\"Length of 'fruits':\", len(fruits))\n"
   ]
  },
  {
   "attachments": {},
   "cell_type": "markdown",
   "metadata": {},
   "source": [
    "### <a id='toc3_4_'></a>Appending An Element [&#8593;](#toc0_)\n"
   ]
  },
  {
   "cell_type": "code",
   "execution_count": 6,
   "metadata": {},
   "outputs": [],
   "source": [
    "fruits.append(\"Apple\")\n",
    "fruits.append(\"Banana\")\n",
    "fruits.append(\"Cranberries\")\n",
    "fruits.append(\"Date\")\n",
    "fruits.append(\"Elderberry\")\n"
   ]
  },
  {
   "cell_type": "code",
   "execution_count": 7,
   "metadata": {},
   "outputs": [
    {
     "name": "stdout",
     "output_type": "stream",
     "text": [
      "DoubyLinkedList(Apple<->Banana<->Cranberries<->Date<->Elderberry)\n"
     ]
    }
   ],
   "source": [
    "print(fruits)\n"
   ]
  },
  {
   "attachments": {},
   "cell_type": "markdown",
   "metadata": {},
   "source": [
    "### <a id='toc3_5_'></a>Iteration over Elements [&#8593;](#toc0_)\n"
   ]
  },
  {
   "cell_type": "code",
   "execution_count": 8,
   "metadata": {},
   "outputs": [
    {
     "name": "stdout",
     "output_type": "stream",
     "text": [
      "Apple\n",
      "Banana\n",
      "Cranberries\n",
      "Date\n",
      "Elderberry\n"
     ]
    }
   ],
   "source": [
    "for f in fruits:\n",
    "    print(f)\n"
   ]
  },
  {
   "attachments": {},
   "cell_type": "markdown",
   "metadata": {},
   "source": [
    "### <a id='toc3_6_'></a>Membership Checking [&#8593;](#toc0_)\n"
   ]
  },
  {
   "cell_type": "code",
   "execution_count": 9,
   "metadata": {},
   "outputs": [
    {
     "name": "stdout",
     "output_type": "stream",
     "text": [
      "True\n",
      "False\n"
     ]
    }
   ],
   "source": [
    "print(fruits.contains(\"Date\"))\n",
    "print(fruits.contains(\"Strawberry\"))\n"
   ]
  },
  {
   "attachments": {},
   "cell_type": "markdown",
   "metadata": {},
   "source": [
    "### <a id='toc3_7_'></a>Membership Deletion [&#8593;](#toc0_)\n"
   ]
  },
  {
   "cell_type": "code",
   "execution_count": 10,
   "metadata": {},
   "outputs": [
    {
     "name": "stdout",
     "output_type": "stream",
     "text": [
      "\"Date\" has been deleted from the list\n",
      "DoubyLinkedList(Apple<->Banana<->Cranberries<->Elderberry)\n"
     ]
    }
   ],
   "source": [
    "fruits.delete(\"Date\")\n",
    "print(fruits)\n"
   ]
  },
  {
   "attachments": {},
   "cell_type": "markdown",
   "metadata": {},
   "source": [
    "### <a id='toc3_8_'></a>Membership Clearing [&#8593;](#toc0_)\n"
   ]
  },
  {
   "cell_type": "code",
   "execution_count": 11,
   "metadata": {
    "scrolled": true
   },
   "outputs": [
    {
     "name": "stdout",
     "output_type": "stream",
     "text": [
      "DoubyLinkedList()\n"
     ]
    }
   ],
   "source": [
    "fruits.clear()\n",
    "print(fruits)\n"
   ]
  }
 ],
 "metadata": {
  "hide_input": false,
  "kernelspec": {
   "display_name": "Python 3 (ipykernel)",
   "language": "python",
   "name": "python3"
  },
  "language_info": {
   "codemirror_mode": {
    "name": "ipython",
    "version": 3
   },
   "file_extension": ".py",
   "mimetype": "text/x-python",
   "name": "python",
   "nbconvert_exporter": "python",
   "pygments_lexer": "ipython3",
   "version": "3.11.3"
  },
  "toc": {
   "base_numbering": 1,
   "nav_menu": {},
   "number_sections": true,
   "sideBar": true,
   "skip_h1_title": true,
   "title_cell": "Table of Contents",
   "title_sidebar": "Contents",
   "toc_cell": true,
   "toc_position": {},
   "toc_section_display": true,
   "toc_window_display": true
  },
  "varInspector": {
   "cols": {
    "lenName": 16,
    "lenType": 16,
    "lenVar": 40
   },
   "kernels_config": {
    "python": {
     "delete_cmd_postfix": "",
     "delete_cmd_prefix": "del ",
     "library": "var_list.py",
     "varRefreshCmd": "print(var_dic_list())"
    },
    "r": {
     "delete_cmd_postfix": ") ",
     "delete_cmd_prefix": "rm(",
     "library": "var_list.r",
     "varRefreshCmd": "cat(var_dic_list()) "
    }
   },
   "types_to_exclude": [
    "module",
    "function",
    "builtin_function_or_method",
    "instance",
    "_Feature"
   ],
   "window_display": false
  }
 },
 "nbformat": 4,
 "nbformat_minor": 4
}
