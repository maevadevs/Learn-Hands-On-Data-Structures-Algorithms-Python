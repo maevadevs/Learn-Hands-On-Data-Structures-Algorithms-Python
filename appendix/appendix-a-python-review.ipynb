{
 "cells": [
  {
   "cell_type": "markdown",
   "metadata": {
    "toc": true
   },
   "source": [
    "<h1>Table of Contents<span class=\"tocSkip\"></span></h1>\n",
    "<div class=\"toc\"><ul class=\"toc-item\"><li><span><a href=\"#Python-Interpreter\" data-toc-modified-id=\"Python-Interpreter-1\"><span class=\"toc-item-num\">1&nbsp;&nbsp;</span>Python Interpreter</a></span></li><li><span><a href=\"#Basics\" data-toc-modified-id=\"Basics-2\"><span class=\"toc-item-num\">2&nbsp;&nbsp;</span>Basics</a></span><ul class=\"toc-item\"><li><span><a href=\"#Reserved-Words\" data-toc-modified-id=\"Reserved-Words-2.1\"><span class=\"toc-item-num\">2.1&nbsp;&nbsp;</span>Reserved Words</a></span></li><li><span><a href=\"#Primitive-Types\" data-toc-modified-id=\"Primitive-Types-2.2\"><span class=\"toc-item-num\">2.2&nbsp;&nbsp;</span>Primitive Types</a></span></li><li><span><a href=\"#Statements\" data-toc-modified-id=\"Statements-2.3\"><span class=\"toc-item-num\">2.3&nbsp;&nbsp;</span>Statements</a></span></li><li><span><a href=\"#Variables\" data-toc-modified-id=\"Variables-2.4\"><span class=\"toc-item-num\">2.4&nbsp;&nbsp;</span>Variables</a></span><ul class=\"toc-item\"><li><span><a href=\"#Assignment\" data-toc-modified-id=\"Assignment-2.4.1\"><span class=\"toc-item-num\">2.4.1&nbsp;&nbsp;</span>Assignment</a></span></li><li><span><a href=\"#Aliasing\" data-toc-modified-id=\"Aliasing-2.4.2\"><span class=\"toc-item-num\">2.4.2&nbsp;&nbsp;</span>Aliasing</a></span></li><li><span><a href=\"#Null-Reference\" data-toc-modified-id=\"Null-Reference-2.4.3\"><span class=\"toc-item-num\">2.4.3&nbsp;&nbsp;</span>Null Reference</a></span></li><li><span><a href=\"#Constants\" data-toc-modified-id=\"Constants-2.4.4\"><span class=\"toc-item-num\">2.4.4&nbsp;&nbsp;</span>Constants</a></span></li></ul></li><li><span><a href=\"#Arithmetic-Operations-and-Compound-Operators\" data-toc-modified-id=\"Arithmetic-Operations-and-Compound-Operators-2.5\"><span class=\"toc-item-num\">2.5&nbsp;&nbsp;</span>Arithmetic Operations and Compound Operators</a></span></li><li><span><a href=\"#Logical-Operations\" data-toc-modified-id=\"Logical-Operations-2.6\"><span class=\"toc-item-num\">2.6&nbsp;&nbsp;</span>Logical Operations</a></span><ul class=\"toc-item\"><li><span><a href=\"#Relational-Operators\" data-toc-modified-id=\"Relational-Operators-2.6.1\"><span class=\"toc-item-num\">2.6.1&nbsp;&nbsp;</span>Relational Operators</a></span></li><li><span><a href=\"#Boolean-Operators\" data-toc-modified-id=\"Boolean-Operators-2.6.2\"><span class=\"toc-item-num\">2.6.2&nbsp;&nbsp;</span>Boolean Operators</a></span></li><li><span><a href=\"#Object-References\" data-toc-modified-id=\"Object-References-2.6.3\"><span class=\"toc-item-num\">2.6.3&nbsp;&nbsp;</span>Object References</a></span></li></ul></li><li><span><a href=\"#Order-of-Precendence\" data-toc-modified-id=\"Order-of-Precendence-2.7\"><span class=\"toc-item-num\">2.7&nbsp;&nbsp;</span>Order of Precendence</a></span></li><li><span><a href=\"#Functions-and-Methods\" data-toc-modified-id=\"Functions-and-Methods-2.8\"><span class=\"toc-item-num\">2.8&nbsp;&nbsp;</span>Functions and Methods</a></span></li><li><span><a href=\"#Standard-Library\" data-toc-modified-id=\"Standard-Library-2.9\"><span class=\"toc-item-num\">2.9&nbsp;&nbsp;</span>Standard Library</a></span><ul class=\"toc-item\"><li><span><a href=\"#Import-Statements\" data-toc-modified-id=\"Import-Statements-2.9.1\"><span class=\"toc-item-num\">2.9.1&nbsp;&nbsp;</span>Import Statements</a></span></li></ul></li></ul></li><li><span><a href=\"#User-Interactions\" data-toc-modified-id=\"User-Interactions-3\"><span class=\"toc-item-num\">3&nbsp;&nbsp;</span>User Interactions</a></span><ul class=\"toc-item\"><li><span><a href=\"#Standard-Input\" data-toc-modified-id=\"Standard-Input-3.1\"><span class=\"toc-item-num\">3.1&nbsp;&nbsp;</span>Standard Input</a></span></li><li><span><a href=\"#Standard-Output\" data-toc-modified-id=\"Standard-Output-3.2\"><span class=\"toc-item-num\">3.2&nbsp;&nbsp;</span>Standard Output</a></span><ul class=\"toc-item\"><li><span><a href=\"#Escape-Sequences\" data-toc-modified-id=\"Escape-Sequences-3.2.1\"><span class=\"toc-item-num\">3.2.1&nbsp;&nbsp;</span>Escape Sequences</a></span></li><li><span><a href=\"#Formatted-Output\" data-toc-modified-id=\"Formatted-Output-3.2.2\"><span class=\"toc-item-num\">3.2.2&nbsp;&nbsp;</span>Formatted Output</a></span></li></ul></li></ul></li><li><span><a href=\"#Control-Structures\" data-toc-modified-id=\"Control-Structures-4\"><span class=\"toc-item-num\">4&nbsp;&nbsp;</span>Control Structures</a></span><ul class=\"toc-item\"><li><span><a href=\"#Selection-Constructs-(Conditioning)\" data-toc-modified-id=\"Selection-Constructs-(Conditioning)-4.1\"><span class=\"toc-item-num\">4.1&nbsp;&nbsp;</span>Selection Constructs (Conditioning)</a></span></li><li><span><a href=\"#Repetition-Constructs\" data-toc-modified-id=\"Repetition-Constructs-4.2\"><span class=\"toc-item-num\">4.2&nbsp;&nbsp;</span>Repetition Constructs</a></span><ul class=\"toc-item\"><li><span><a href=\"#While-Loop\" data-toc-modified-id=\"While-Loop-4.2.1\"><span class=\"toc-item-num\">4.2.1&nbsp;&nbsp;</span>While Loop</a></span></li><li><span><a href=\"#For-Loop\" data-toc-modified-id=\"For-Loop-4.2.2\"><span class=\"toc-item-num\">4.2.2&nbsp;&nbsp;</span>For Loop</a></span></li><li><span><a href=\"#Issue-With-IEEE-764\" data-toc-modified-id=\"Issue-With-IEEE-764-4.2.3\"><span class=\"toc-item-num\">4.2.3&nbsp;&nbsp;</span>Issue With IEEE 764</a></span></li><li><span><a href=\"#range()\" data-toc-modified-id=\"range()-4.2.4\"><span class=\"toc-item-num\">4.2.4&nbsp;&nbsp;</span><code>range()</code></a></span></li></ul></li></ul></li><li><span><a href=\"#Collections\" data-toc-modified-id=\"Collections-5\"><span class=\"toc-item-num\">5&nbsp;&nbsp;</span>Collections</a></span><ul class=\"toc-item\"><li><span><a href=\"#Strings\" data-toc-modified-id=\"Strings-5.1\"><span class=\"toc-item-num\">5.1&nbsp;&nbsp;</span>Strings</a></span><ul class=\"toc-item\"><li><span><a href=\"#String-Concatenation\" data-toc-modified-id=\"String-Concatenation-5.1.1\"><span class=\"toc-item-num\">5.1.1&nbsp;&nbsp;</span>String Concatenation</a></span></li><li><span><a href=\"#String-Length\" data-toc-modified-id=\"String-Length-5.1.2\"><span class=\"toc-item-num\">5.1.2&nbsp;&nbsp;</span>String Length</a></span></li><li><span><a href=\"#String-Indexing-and-Slicing\" data-toc-modified-id=\"String-Indexing-and-Slicing-5.1.3\"><span class=\"toc-item-num\">5.1.3&nbsp;&nbsp;</span>String Indexing and Slicing</a></span></li><li><span><a href=\"#String-Repeat\" data-toc-modified-id=\"String-Repeat-5.1.4\"><span class=\"toc-item-num\">5.1.4&nbsp;&nbsp;</span>String Repeat</a></span></li><li><span><a href=\"#String-Element-Check\" data-toc-modified-id=\"String-Element-Check-5.1.5\"><span class=\"toc-item-num\">5.1.5&nbsp;&nbsp;</span>String Element Check</a></span></li></ul></li><li><span><a href=\"#Lists\" data-toc-modified-id=\"Lists-5.2\"><span class=\"toc-item-num\">5.2&nbsp;&nbsp;</span>Lists</a></span><ul class=\"toc-item\"><li><span><a href=\"#List-Elements-Access\" data-toc-modified-id=\"List-Elements-Access-5.2.1\"><span class=\"toc-item-num\">5.2.1&nbsp;&nbsp;</span>List Elements Access</a></span></li><li><span><a href=\"#List-Modification\" data-toc-modified-id=\"List-Modification-5.2.2\"><span class=\"toc-item-num\">5.2.2&nbsp;&nbsp;</span>List Modification</a></span><ul class=\"toc-item\"><li><span><a href=\"#list.append(el)\" data-toc-modified-id=\"list.append(el)-5.2.2.1\"><span class=\"toc-item-num\">5.2.2.1&nbsp;&nbsp;</span><code>list.append(el)</code></a></span></li><li><span><a href=\"#list.extend(anotherList)\" data-toc-modified-id=\"list.extend(anotherList)-5.2.2.2\"><span class=\"toc-item-num\">5.2.2.2&nbsp;&nbsp;</span><code>list.extend(anotherList)</code></a></span></li><li><span><a href=\"#list.insert(el)\" data-toc-modified-id=\"list.insert(el)-5.2.2.3\"><span class=\"toc-item-num\">5.2.2.3&nbsp;&nbsp;</span><code>list.insert(el)</code></a></span></li><li><span><a href=\"#list.remove(el)\" data-toc-modified-id=\"list.remove(el)-5.2.2.4\"><span class=\"toc-item-num\">5.2.2.4&nbsp;&nbsp;</span><code>list.remove(el)</code></a></span></li></ul></li><li><span><a href=\"#list.pop()\" data-toc-modified-id=\"list.pop()-5.2.3\"><span class=\"toc-item-num\">5.2.3&nbsp;&nbsp;</span><code>list.pop()</code></a></span></li><li><span><a href=\"#list.index(el)\" data-toc-modified-id=\"list.index(el)-5.2.4\"><span class=\"toc-item-num\">5.2.4&nbsp;&nbsp;</span><code>list.index(el)</code></a></span></li><li><span><a href=\"#List-Element-Check\" data-toc-modified-id=\"List-Element-Check-5.2.5\"><span class=\"toc-item-num\">5.2.5&nbsp;&nbsp;</span>List Element Check</a></span></li></ul></li><li><span><a href=\"#Tuples\" data-toc-modified-id=\"Tuples-5.3\"><span class=\"toc-item-num\">5.3&nbsp;&nbsp;</span>Tuples</a></span><ul class=\"toc-item\"><li><span><a href=\"#Tuples-Element-Check\" data-toc-modified-id=\"Tuples-Element-Check-5.3.1\"><span class=\"toc-item-num\">5.3.1&nbsp;&nbsp;</span>Tuples Element Check</a></span></li></ul></li><li><span><a href=\"#Dictionary\" data-toc-modified-id=\"Dictionary-5.4\"><span class=\"toc-item-num\">5.4&nbsp;&nbsp;</span>Dictionary</a></span><ul class=\"toc-item\"><li><span><a href=\"#Dictionary-Element-Access\" data-toc-modified-id=\"Dictionary-Element-Access-5.4.1\"><span class=\"toc-item-num\">5.4.1&nbsp;&nbsp;</span>Dictionary Element Access</a></span></li><li><span><a href=\"#Dictionary-Modification\" data-toc-modified-id=\"Dictionary-Modification-5.4.2\"><span class=\"toc-item-num\">5.4.2&nbsp;&nbsp;</span>Dictionary Modification</a></span></li><li><span><a href=\"#Dictionary-Element-Check\" data-toc-modified-id=\"Dictionary-Element-Check-5.4.3\"><span class=\"toc-item-num\">5.4.3&nbsp;&nbsp;</span>Dictionary Element Check</a></span></li></ul></li></ul></li><li><span><a href=\"#Text-Files\" data-toc-modified-id=\"Text-Files-6\"><span class=\"toc-item-num\">6&nbsp;&nbsp;</span>Text Files</a></span><ul class=\"toc-item\"><li><span><a href=\"#File-Access\" data-toc-modified-id=\"File-Access-6.1\"><span class=\"toc-item-num\">6.1&nbsp;&nbsp;</span>File Access</a></span></li><li><span><a href=\"#Reading-From-A-File\" data-toc-modified-id=\"Reading-From-A-File-6.2\"><span class=\"toc-item-num\">6.2&nbsp;&nbsp;</span>Reading From A File</a></span></li><li><span><a href=\"#Writing-To-A-File\" data-toc-modified-id=\"Writing-To-A-File-6.3\"><span class=\"toc-item-num\">6.3&nbsp;&nbsp;</span>Writing To A File</a></span></li></ul></li><li><span><a href=\"#User-Defined-Functions\" data-toc-modified-id=\"User-Defined-Functions-7\"><span class=\"toc-item-num\">7&nbsp;&nbsp;</span>User-Defined Functions</a></span><ul class=\"toc-item\"><li><span><a href=\"#Function-Definition\" data-toc-modified-id=\"Function-Definition-7.1\"><span class=\"toc-item-num\">7.1&nbsp;&nbsp;</span>Function Definition</a></span><ul class=\"toc-item\"><li><span><a href=\"#Function-Arguments\" data-toc-modified-id=\"Function-Arguments-7.1.1\"><span class=\"toc-item-num\">7.1.1&nbsp;&nbsp;</span>Function Arguments</a></span></li><li><span><a href=\"#Returning-Values\" data-toc-modified-id=\"Returning-Values-7.1.2\"><span class=\"toc-item-num\">7.1.2&nbsp;&nbsp;</span>Returning Values</a></span></li><li><span><a href=\"#Default-and-Keyword-Arguments\" data-toc-modified-id=\"Default-and-Keyword-Arguments-7.1.3\"><span class=\"toc-item-num\">7.1.3&nbsp;&nbsp;</span>Default and Keyword Arguments</a></span></li></ul></li><li><span><a href=\"#Variable-Scope\" data-toc-modified-id=\"Variable-Scope-7.2\"><span class=\"toc-item-num\">7.2&nbsp;&nbsp;</span>Variable Scope</a></span></li><li><span><a href=\"#Main-Routine\" data-toc-modified-id=\"Main-Routine-7.3\"><span class=\"toc-item-num\">7.3&nbsp;&nbsp;</span>Main Routine</a></span></li></ul></li></ul></div>"
   ]
  },
  {
   "cell_type": "markdown",
   "metadata": {},
   "source": [
    "\n",
    "# Python Review"
   ]
  },
  {
   "cell_type": "markdown",
   "metadata": {},
   "source": [
    "- Interpreted\n",
    "- Can be either procedural or Object-Oriented\n",
    "- Many built-in features"
   ]
  },
  {
   "cell_type": "markdown",
   "metadata": {},
   "source": [
    "---"
   ]
  },
  {
   "cell_type": "markdown",
   "metadata": {},
   "source": [
    "## Python Interpreter\n",
    "- Program that reads and executes programs written in Python\n",
    "- Interactive mode or script mode\n",
    "- CLI Command: `Python`"
   ]
  },
  {
   "cell_type": "code",
   "execution_count": 1,
   "metadata": {},
   "outputs": [
    {
     "name": "stdout",
     "output_type": "stream",
     "text": [
      "Hello World\n"
     ]
    }
   ],
   "source": [
    "#Executing in Interactive: Can only run one line at a time\n",
    "print(\"Hello World\")"
   ]
  },
  {
   "cell_type": "code",
   "execution_count": 2,
   "metadata": {},
   "outputs": [
    {
     "name": "stdout",
     "output_type": "stream",
     "text": [
      "The sum of the first 100 integers is 5050\n"
     ]
    }
   ],
   "source": [
    "#Executing in Script: Can run multipple lines at once\n",
    "total = 0\n",
    "i = 1\n",
    "while i <= 100 :\n",
    "    total += i\n",
    "    i += 1\n",
    "print( \"The sum of the first 100 integers is\", total )"
   ]
  },
  {
   "cell_type": "markdown",
   "metadata": {},
   "source": [
    "---"
   ]
  },
  {
   "cell_type": "markdown",
   "metadata": {},
   "source": [
    "## Basics\n",
    "\n",
    "### Reserved Words"
   ]
  },
  {
   "cell_type": "code",
   "execution_count": 3,
   "metadata": {},
   "outputs": [
    {
     "name": "stdout",
     "output_type": "stream",
     "text": [
      "False None True and as assert async await break class continue def del elif else except finally for from global if import in is lambda nonlocal not or pass raise return try while with yield "
     ]
    }
   ],
   "source": [
    "from keyword import kwlist\n",
    "for kw in sorted(kwlist):\n",
    "    print(kw, end=\" \")"
   ]
  },
  {
   "cell_type": "markdown",
   "metadata": {},
   "source": [
    "### Primitive Types"
   ]
  },
  {
   "cell_type": "code",
   "execution_count": 4,
   "metadata": {},
   "outputs": [],
   "source": [
    "#Integers\n",
    "a = -9     #Base 10, Negatives Integer\n",
    "b = 50     #Base 10, Positives Integer\n",
    "c = 0x4F   #Hexadecimals\n",
    "d = 0o77   #Octal"
   ]
  },
  {
   "cell_type": "code",
   "execution_count": 5,
   "metadata": {},
   "outputs": [],
   "source": [
    "#Float\n",
    "e = -25.45       #Base 10, Negative Float\n",
    "f = 17.4         #Base 10, Positive Float\n",
    "h = 17.045E-03   #Base 10, Scentific Notation"
   ]
  },
  {
   "cell_type": "code",
   "execution_count": 6,
   "metadata": {},
   "outputs": [],
   "source": [
    "#Boolean\n",
    "i = True\n",
    "j = False"
   ]
  },
  {
   "cell_type": "code",
   "execution_count": 7,
   "metadata": {},
   "outputs": [],
   "source": [
    "#String\n",
    "k = 'Hello World'\n",
    "l = \"Hello World\"\n",
    "m = 'C'\n",
    "n = \"c\""
   ]
  },
  {
   "cell_type": "code",
   "execution_count": 8,
   "metadata": {},
   "outputs": [],
   "source": [
    "#Lists\n",
    "o = ['a', 'b', 'c', 1, 2, 3.4, True, False, {}, []]"
   ]
  },
  {
   "cell_type": "code",
   "execution_count": 9,
   "metadata": {},
   "outputs": [],
   "source": [
    "#Tuple\n",
    "p = (1, 2, 3)"
   ]
  },
  {
   "cell_type": "code",
   "execution_count": 10,
   "metadata": {},
   "outputs": [],
   "source": [
    "#Dictionary\n",
    "q = { \"fname\": \"John\", \"lname\": \"Doe\" }\n",
    "r = { 1: \"Mary\", 2: \"John\", 3: \"Sally\" }"
   ]
  },
  {
   "cell_type": "code",
   "execution_count": 11,
   "metadata": {},
   "outputs": [],
   "source": [
    "#Docstring\n",
    "s = \"\"\"This is a string which\n",
    "can continue onto a new line. When printed, it will appear\n",
    "exactly as written between the triple quotes.\"\"\""
   ]
  },
  {
   "cell_type": "markdown",
   "metadata": {},
   "source": [
    "### Statements"
   ]
  },
  {
   "cell_type": "code",
   "execution_count": 12,
   "metadata": {},
   "outputs": [],
   "source": [
    "#On a single line\n",
    "result = 3 + 4"
   ]
  },
  {
   "cell_type": "code",
   "execution_count": 13,
   "metadata": {},
   "outputs": [],
   "source": [
    "#Backlash can be used to continue on the next line\n",
    "result = 3\\\n",
    "+ 4"
   ]
  },
  {
   "cell_type": "code",
   "execution_count": 14,
   "metadata": {},
   "outputs": [
    {
     "data": {
      "text/plain": [
       "15"
      ]
     },
     "execution_count": 14,
     "metadata": {},
     "output_type": "execute_result"
    }
   ],
   "source": [
    "def add(a, b, c):\n",
    "    return a + b + c\n",
    "\n",
    "#Function calls can skip using backlash\n",
    "add(5,\n",
    "    4,\n",
    "    6)"
   ]
  },
  {
   "cell_type": "code",
   "execution_count": 15,
   "metadata": {},
   "outputs": [
    {
     "data": {
      "text/plain": [
       "5050"
      ]
     },
     "execution_count": 15,
     "metadata": {},
     "output_type": "execute_result"
    }
   ],
   "source": [
    "#Compound Statement Block\n",
    "total = 0\n",
    "i = 0\n",
    "while i <= 100:\n",
    "    total += i\n",
    "    i += 1\n",
    "total"
   ]
  },
  {
   "cell_type": "markdown",
   "metadata": {},
   "source": [
    "### Variables"
   ]
  },
  {
   "cell_type": "markdown",
   "metadata": {},
   "source": [
    "- In Python, all data is stored in objects\n",
    "- Objects can store single value or multiple values\n",
    "- A variable is a named storage location\n",
    "- Variables store reference to the object containing the data, not the data value itself\n",
    "- A reference is the memory address of the location where the object is stored\n",
    "- A variable itself does not have a type and thus can store a reference to any type of object\n",
    "- It is the object, that has a data type\n",
    "- A variable cannot be used before it has been created by an assignment of a reference to some object\n",
    "  - Attempting to do so will generate an error\n",
    "- If all references to an object are removed, it is automatically destroyed as part of Python's garbage collection"
   ]
  },
  {
   "cell_type": "markdown",
   "metadata": {},
   "source": [
    "#### Assignment"
   ]
  },
  {
   "cell_type": "code",
   "execution_count": 16,
   "metadata": {},
   "outputs": [],
   "source": [
    "#Creates three variables and assigns references to each of the given literal values\n",
    "name = \"John Smith\"\n",
    "idNum = 42\n",
    "avg = 3.45"
   ]
  },
  {
   "cell_type": "markdown",
   "metadata": {},
   "source": [
    "#### Aliasing"
   ]
  },
  {
   "cell_type": "code",
   "execution_count": 17,
   "metadata": {},
   "outputs": [],
   "source": [
    "#These variables point to the same data in memory as the previous variables\n",
    "another_name = name\n",
    "another_id = idNum\n",
    "another_avg = avg"
   ]
  },
  {
   "cell_type": "markdown",
   "metadata": {},
   "source": [
    "#### Null Reference\n",
    "\n",
    "- The special object `None` is used to set a null reference"
   ]
  },
  {
   "cell_type": "code",
   "execution_count": 18,
   "metadata": {},
   "outputs": [],
   "source": [
    "#When a variable points to None, it has a Null Reference\n",
    "grade = None"
   ]
  },
  {
   "cell_type": "markdown",
   "metadata": {},
   "source": [
    "#### Constants\n",
    "\n",
    "- Python does not support constant variables\n",
    "- It is common practice to specify constant variables with all capital letters\n",
    "- There is no way to enforce the concept of a constant variable and keep its value from being changed."
   ]
  },
  {
   "cell_type": "code",
   "execution_count": 19,
   "metadata": {},
   "outputs": [],
   "source": [
    "TAX_RATE = 0.06\n",
    "MAX_SIZE = 100"
   ]
  },
  {
   "cell_type": "markdown",
   "metadata": {},
   "source": [
    "### Arithmetic Operations and Compound Operators"
   ]
  },
  {
   "cell_type": "code",
   "execution_count": 20,
   "metadata": {},
   "outputs": [],
   "source": [
    "x = 2"
   ]
  },
  {
   "cell_type": "code",
   "execution_count": 21,
   "metadata": {},
   "outputs": [],
   "source": [
    "#Addition\n",
    "1 + 1\n",
    "x += 2"
   ]
  },
  {
   "cell_type": "code",
   "execution_count": 22,
   "metadata": {},
   "outputs": [],
   "source": [
    "#Subtraction\n",
    "2 - 1\n",
    "x -= 1"
   ]
  },
  {
   "cell_type": "code",
   "execution_count": 23,
   "metadata": {},
   "outputs": [],
   "source": [
    "#Multiplication\n",
    "123 * 455\n",
    "x *= 3"
   ]
  },
  {
   "cell_type": "code",
   "execution_count": 24,
   "metadata": {},
   "outputs": [],
   "source": [
    "#Division\n",
    "123 / 456\n",
    "x /= 2"
   ]
  },
  {
   "cell_type": "code",
   "execution_count": 25,
   "metadata": {},
   "outputs": [],
   "source": [
    "#Modulo\n",
    "4 % 2\n",
    "x %= 2"
   ]
  },
  {
   "cell_type": "code",
   "execution_count": 26,
   "metadata": {},
   "outputs": [],
   "source": [
    "#Power\n",
    "2**3\n",
    "x **= 3"
   ]
  },
  {
   "cell_type": "markdown",
   "metadata": {},
   "source": [
    "*Special care must be taken when using the power operator with negative literal values.*"
   ]
  },
  {
   "cell_type": "markdown",
   "metadata": {},
   "source": [
    "### Logical Operations\n",
    "- The logical operators are evaluated from left to right based on their order of precedence"
   ]
  },
  {
   "cell_type": "markdown",
   "metadata": {},
   "source": [
    "#### Relational Operators"
   ]
  },
  {
   "cell_type": "code",
   "execution_count": 27,
   "metadata": {},
   "outputs": [],
   "source": [
    "avg = 70"
   ]
  },
  {
   "cell_type": "code",
   "execution_count": 28,
   "metadata": {},
   "outputs": [
    {
     "data": {
      "text/plain": [
       "True"
      ]
     },
     "execution_count": 28,
     "metadata": {},
     "output_type": "execute_result"
    }
   ],
   "source": [
    "avg > 69"
   ]
  },
  {
   "cell_type": "code",
   "execution_count": 29,
   "metadata": {},
   "outputs": [
    {
     "data": {
      "text/plain": [
       "False"
      ]
     },
     "execution_count": 29,
     "metadata": {},
     "output_type": "execute_result"
    }
   ],
   "source": [
    "avg < 60"
   ]
  },
  {
   "cell_type": "code",
   "execution_count": 30,
   "metadata": {},
   "outputs": [
    {
     "data": {
      "text/plain": [
       "True"
      ]
     },
     "execution_count": 30,
     "metadata": {},
     "output_type": "execute_result"
    }
   ],
   "source": [
    "avg >= 70"
   ]
  },
  {
   "cell_type": "code",
   "execution_count": 31,
   "metadata": {},
   "outputs": [
    {
     "data": {
      "text/plain": [
       "True"
      ]
     },
     "execution_count": 31,
     "metadata": {},
     "output_type": "execute_result"
    }
   ],
   "source": [
    "avg <= 70 "
   ]
  },
  {
   "cell_type": "code",
   "execution_count": 32,
   "metadata": {},
   "outputs": [
    {
     "data": {
      "text/plain": [
       "False"
      ]
     },
     "execution_count": 32,
     "metadata": {},
     "output_type": "execute_result"
    }
   ],
   "source": [
    "#Strings are compared lexicographically, character by character from left to right\n",
    "'Hello' == 'hello'"
   ]
  },
  {
   "cell_type": "code",
   "execution_count": 33,
   "metadata": {},
   "outputs": [
    {
     "data": {
      "text/plain": [
       "True"
      ]
     },
     "execution_count": 33,
     "metadata": {},
     "output_type": "execute_result"
    }
   ],
   "source": [
    "name != avg"
   ]
  },
  {
   "cell_type": "markdown",
   "metadata": {},
   "source": [
    "#### Boolean Operators"
   ]
  },
  {
   "cell_type": "code",
   "execution_count": 34,
   "metadata": {},
   "outputs": [
    {
     "data": {
      "text/plain": [
       "True"
      ]
     },
     "execution_count": 34,
     "metadata": {},
     "output_type": "execute_result"
    }
   ],
   "source": [
    "#and\n",
    "avg >= 60 and avg <= 70"
   ]
  },
  {
   "cell_type": "code",
   "execution_count": 35,
   "metadata": {},
   "outputs": [
    {
     "data": {
      "text/plain": [
       "True"
      ]
     },
     "execution_count": 35,
     "metadata": {},
     "output_type": "execute_result"
    }
   ],
   "source": [
    "#or\n",
    "avg >= 60 or avg <= 10"
   ]
  },
  {
   "cell_type": "code",
   "execution_count": 36,
   "metadata": {},
   "outputs": [
    {
     "data": {
      "text/plain": [
       "False"
      ]
     },
     "execution_count": 36,
     "metadata": {},
     "output_type": "execute_result"
    }
   ],
   "source": [
    "#not\n",
    "not (avg >= 60 and avg <= 70)"
   ]
  },
  {
   "cell_type": "markdown",
   "metadata": {},
   "source": [
    "#### Object References"
   ]
  },
  {
   "cell_type": "code",
   "execution_count": 37,
   "metadata": {},
   "outputs": [
    {
     "data": {
      "text/plain": [
       "False"
      ]
     },
     "execution_count": 37,
     "metadata": {},
     "output_type": "execute_result"
    }
   ],
   "source": [
    "#Comparing References\n",
    "name1 = \"Smith\"\n",
    "name2 = \"Jones\"\n",
    "name1 is name2"
   ]
  },
  {
   "cell_type": "code",
   "execution_count": 38,
   "metadata": {},
   "outputs": [
    {
     "data": {
      "text/plain": [
       "True"
      ]
     },
     "execution_count": 38,
     "metadata": {},
     "output_type": "execute_result"
    }
   ],
   "source": [
    "name1 is not name2 #Same as: not (name1 is name2)"
   ]
  },
  {
   "cell_type": "code",
   "execution_count": 39,
   "metadata": {},
   "outputs": [
    {
     "data": {
      "text/plain": [
       "True"
      ]
     },
     "execution_count": 39,
     "metadata": {},
     "output_type": "execute_result"
    }
   ],
   "source": [
    "name2 = name1 #Making the same reference: Aliases\n",
    "name1 is name2"
   ]
  },
  {
   "cell_type": "code",
   "execution_count": 40,
   "metadata": {},
   "outputs": [
    {
     "data": {
      "text/plain": [
       "False"
      ]
     },
     "execution_count": 40,
     "metadata": {},
     "output_type": "execute_result"
    }
   ],
   "source": [
    "name1 is not name2 #Same as: not (name1 is name2)"
   ]
  },
  {
   "cell_type": "code",
   "execution_count": 41,
   "metadata": {},
   "outputs": [
    {
     "data": {
      "text/plain": [
       "False"
      ]
     },
     "execution_count": 41,
     "metadata": {},
     "output_type": "execute_result"
    }
   ],
   "source": [
    "#Testing for None value\n",
    "name1 is None"
   ]
  },
  {
   "cell_type": "code",
   "execution_count": 42,
   "metadata": {},
   "outputs": [
    {
     "data": {
      "text/plain": [
       "False"
      ]
     },
     "execution_count": 42,
     "metadata": {},
     "output_type": "execute_result"
    }
   ],
   "source": [
    "#Testing for None value\n",
    "name1 = None\n",
    "name1 is not None"
   ]
  },
  {
   "cell_type": "markdown",
   "metadata": {},
   "source": [
    "### Order of Precendence"
   ]
  },
  {
   "cell_type": "markdown",
   "metadata": {},
   "source": [
    "```\n",
    "()                     Parentheses (grouping)\n",
    "f(args...)             Function call\n",
    "x[index:index]         Slicing\n",
    "x[index]               Subscription\n",
    "x.attribute            Attribute reference\n",
    "**                     Exponentiation\n",
    "~x                     Bitwise not\n",
    "+x, -x                 Positive, negative\n",
    "*, /, %                Multiplication, division, remainder\n",
    "+, -                   Addition, subtraction\n",
    "<<, >>                 Bitwise shifts\n",
    "&                      Bitwise AND\n",
    "^                      Bitwise XOR\n",
    "|                      Bitwise OR\n",
    "in, not in, is, \n",
    "is not, <, <=,  \n",
    ">,  >=,\n",
    "<>, !=, ==             Comparisons, membership, identity\n",
    "not x                  Boolean NOT\n",
    "and                    Boolean AND\n",
    "or                     Boolean OR\n",
    "lambda                 Lambda expression\n",
    "```"
   ]
  },
  {
   "cell_type": "markdown",
   "metadata": {},
   "source": [
    "### Functions and Methods"
   ]
  },
  {
   "cell_type": "code",
   "execution_count": 43,
   "metadata": {},
   "outputs": [
    {
     "data": {
      "text/plain": [
       "12"
      ]
     },
     "execution_count": 43,
     "metadata": {},
     "output_type": "execute_result"
    }
   ],
   "source": [
    "#Function call\n",
    "x = -12\n",
    "y = abs(x)\n",
    "y"
   ]
  },
  {
   "cell_type": "code",
   "execution_count": 44,
   "metadata": {},
   "outputs": [],
   "source": [
    "#All values in Python are stored in objects that are created or instantiated from classes\n",
    "#str() constructor can also be used to create string representations of other data types\n",
    "x = 45\n",
    "int_str = str( x ) # '45'\n",
    "float_str = str( 56.89 ) # '56.89'\n",
    "bool_str = str( False ) # 'False'"
   ]
  },
  {
   "cell_type": "code",
   "execution_count": 45,
   "metadata": {},
   "outputs": [],
   "source": [
    "#Applying methods on objects\n",
    "name = \"Jane Green\"\n",
    "name_lower = name.lower()"
   ]
  },
  {
   "cell_type": "markdown",
   "metadata": {},
   "source": [
    "### Standard Library\n",
    "- Built-in Types\n",
    "- Built-in Functions\n",
    "- Class Definitions\n",
    "- Modules"
   ]
  },
  {
   "cell_type": "markdown",
   "metadata": {},
   "source": [
    "#### Import Statements"
   ]
  },
  {
   "cell_type": "code",
   "execution_count": 46,
   "metadata": {},
   "outputs": [
    {
     "data": {
      "text/plain": [
       "2.23606797749979"
      ]
     },
     "execution_count": 46,
     "metadata": {},
     "output_type": "execute_result"
    }
   ],
   "source": [
    "#General Import\n",
    "from math import *\n",
    "\n",
    "sqrt(5)"
   ]
  },
  {
   "cell_type": "code",
   "execution_count": 47,
   "metadata": {},
   "outputs": [
    {
     "data": {
      "text/plain": [
       "2.23606797749979"
      ]
     },
     "execution_count": 47,
     "metadata": {},
     "output_type": "execute_result"
    }
   ],
   "source": [
    "#Specific Import\n",
    "from math import sqrt\n",
    "\n",
    "sqrt(5)"
   ]
  },
  {
   "cell_type": "code",
   "execution_count": 48,
   "metadata": {},
   "outputs": [
    {
     "data": {
      "text/plain": [
       "2.23606797749979"
      ]
     },
     "execution_count": 48,
     "metadata": {},
     "output_type": "execute_result"
    }
   ],
   "source": [
    "#Namespace Import\n",
    "import math\n",
    "\n",
    "math.sqrt(5)"
   ]
  },
  {
   "cell_type": "markdown",
   "metadata": {},
   "source": [
    "---"
   ]
  },
  {
   "cell_type": "markdown",
   "metadata": {},
   "source": [
    "## User Interactions"
   ]
  },
  {
   "cell_type": "markdown",
   "metadata": {},
   "source": [
    "### Standard Input"
   ]
  },
  {
   "cell_type": "code",
   "execution_count": 49,
   "metadata": {},
   "outputs": [
    {
     "name": "stdout",
     "output_type": "stream",
     "text": [
      "What is your name? John\n"
     ]
    }
   ],
   "source": [
    "name = input(\"What is your name? \")"
   ]
  },
  {
   "cell_type": "code",
   "execution_count": 50,
   "metadata": {},
   "outputs": [
    {
     "name": "stdout",
     "output_type": "stream",
     "text": [
      "What is your gpa? 3.7\n"
     ]
    }
   ],
   "source": [
    "userInput = input(\"What is your gpa? \")\n",
    "gpa = float( userInput )"
   ]
  },
  {
   "cell_type": "markdown",
   "metadata": {},
   "source": [
    "### Standard Output"
   ]
  },
  {
   "cell_type": "code",
   "execution_count": 51,
   "metadata": {},
   "outputs": [
    {
     "name": "stdout",
     "output_type": "stream",
     "text": [
      "Hello World!!\n"
     ]
    }
   ],
   "source": [
    "print(\"Hello World!!\")"
   ]
  },
  {
   "cell_type": "code",
   "execution_count": 52,
   "metadata": {},
   "outputs": [
    {
     "name": "stdout",
     "output_type": "stream",
     "text": [
      "Your average is\n",
      "13.666666666666666\n"
     ]
    }
   ],
   "source": [
    "#print() only outputs strings\n",
    "avg = (10 + 15 + 16) / 3.0\n",
    "print(\"Your average is\")\n",
    "print(avg)"
   ]
  },
  {
   "cell_type": "code",
   "execution_count": 53,
   "metadata": {},
   "outputs": [
    {
     "name": "stdout",
     "output_type": "stream",
     "text": [
      "Your average is 13.666666666666666\n"
     ]
    }
   ],
   "source": [
    "print(\"Your average is\", avg) #Multiple arguments"
   ]
  },
  {
   "cell_type": "code",
   "execution_count": 54,
   "metadata": {},
   "outputs": [
    {
     "name": "stdout",
     "output_type": "stream",
     "text": [
      "Your average is 13.666666666666666\n"
     ]
    }
   ],
   "source": [
    "print(\"Your average is\", end = ' ') #Changing ending: Default = Line feed\n",
    "print(avg)"
   ]
  },
  {
   "cell_type": "markdown",
   "metadata": {},
   "source": [
    "#### Escape Sequences"
   ]
  },
  {
   "cell_type": "markdown",
   "metadata": {},
   "source": [
    "- `\\\\` Backslash (`\\`) \n",
    "- `\\n` Newline\n",
    "- `\\\"` Double quote (`\"`)\n",
    "- `\\'` Single quote (`'`)\n",
    "- `\\t` Horizontal tab"
   ]
  },
  {
   "cell_type": "markdown",
   "metadata": {},
   "source": [
    "#### Formatted Output"
   ]
  },
  {
   "cell_type": "code",
   "execution_count": 55,
   "metadata": {},
   "outputs": [
    {
     "name": "stdout",
     "output_type": "stream",
     "text": [
      "Your average is 13.67\n"
     ]
    }
   ],
   "source": [
    "print(\"Your average is %5.2f\" % avg) # Modulo Operator Overloading"
   ]
  },
  {
   "cell_type": "code",
   "execution_count": 56,
   "metadata": {},
   "outputs": [
    {
     "name": "stdout",
     "output_type": "stream",
     "text": [
      "His name is John and his age is 43\n"
     ]
    }
   ],
   "source": [
    "name = 'John'\n",
    "age = 43\n",
    "print('His name is %s and his age is %s' %(name, age))"
   ]
  },
  {
   "cell_type": "markdown",
   "metadata": {},
   "source": [
    "General Format: `%[flags][width][.precision]code`"
   ]
  },
  {
   "cell_type": "markdown",
   "metadata": {},
   "source": [
    "- `flags` indicates zero fills or optional justification and is one of the following:\n",
    "  - `0` -- Fill preceding blank spaces within the field with zeroes.\n",
    "  - `+` -- Right-justify the value within the field.\n",
    "  - `-` -- Left-justify the value within the field.\n",
    "- `width` is an integer value indicating the number of spaces in the field used when formatting the replacement value\n",
    "- `precision` is the number of digits to be printed after the decimal place when printing a floating-point value\n",
    "- `code` indicates the type of data that is to replace the field specifier. It can be one of the following:\n",
    "  - `%s` String\n",
    "  - `%d` Decimal or integer \n",
    "  - `%i` Same as `%d`\n",
    "  - `%f` Floating-point\n",
    "  - `%c` Character\n",
    "  - `%u` Unsigned integer\n",
    "  - `%o` Octal integer\n",
    "  - `%x` Hexadecimal integer\n",
    "  - `%X` Same as `%x` but uppercase\n",
    "  - `%e` Scientific notation\n",
    "  - `%E` Uppercase version of `%e`\n",
    "  - `%g` Same as `%e`\n",
    "  - `%G` Uppercase version of `%g`\n",
    "  - `%%` Prints a literal `%`"
   ]
  },
  {
   "cell_type": "markdown",
   "metadata": {},
   "source": [
    "---"
   ]
  },
  {
   "cell_type": "markdown",
   "metadata": {},
   "source": [
    "## Control Structures"
   ]
  },
  {
   "cell_type": "markdown",
   "metadata": {},
   "source": [
    "### Selection Constructs (Conditioning)"
   ]
  },
  {
   "cell_type": "code",
   "execution_count": 57,
   "metadata": {},
   "outputs": [
    {
     "name": "stdout",
     "output_type": "stream",
     "text": [
      "1 is less than 5\n"
     ]
    }
   ],
   "source": [
    "#Simple if-statement\n",
    "x = 1\n",
    "if x < 5:\n",
    "    print('{} is less than 5'.format(x))"
   ]
  },
  {
   "cell_type": "code",
   "execution_count": 58,
   "metadata": {},
   "outputs": [
    {
     "name": "stdout",
     "output_type": "stream",
     "text": [
      "1 is positive\n"
     ]
    }
   ],
   "source": [
    "#If-Else\n",
    "if x < 0 :\n",
    "    print(\"{} is negative\".foramt(x))\n",
    "else:\n",
    "    print(\"{} is positive\".format(x))"
   ]
  },
  {
   "cell_type": "code",
   "execution_count": 59,
   "metadata": {},
   "outputs": [
    {
     "name": "stdout",
     "output_type": "stream",
     "text": [
      "smallest is 0\n"
     ]
    }
   ],
   "source": [
    "#Nested-If\n",
    "num1 = 3\n",
    "num2 = 4\n",
    "num3 = 0\n",
    "if num1 < num2 :\n",
    "    if num1 < num3 :\n",
    "        smallest = num1\n",
    "    else:\n",
    "        smallest = num3\n",
    "else:\n",
    "    if num2 < num3 :\n",
    "        smallest = num2\n",
    "    else:\n",
    "        smallest = num3\n",
    "print('smallest is {}'.format(smallest))"
   ]
  },
  {
   "cell_type": "code",
   "execution_count": 60,
   "metadata": {},
   "outputs": [
    {
     "name": "stdout",
     "output_type": "stream",
     "text": [
      "B\n"
     ]
    }
   ],
   "source": [
    "#Multiway branching\n",
    "avgGrade = 87\n",
    "if avgGrade >= 90.0 :\n",
    "    letterGrade = \"A\"\n",
    "elif avgGrade >= 80.0 :\n",
    "    letterGrade = \"B\"\n",
    "elif avgGrade >= 70.0 :\n",
    "    letterGrade = \"C\"\n",
    "elif avgGrade >= 60.0 :\n",
    "    letterGrade = \"D\"\n",
    "else:\n",
    "    letterGrade = \"F\"\n",
    "print(letterGrade)"
   ]
  },
  {
   "cell_type": "markdown",
   "metadata": {},
   "source": [
    "### Repetition Constructs"
   ]
  },
  {
   "cell_type": "markdown",
   "metadata": {},
   "source": [
    "#### While Loop\n",
    "- Event-Controlled Loop\n",
    "- Executed until an event or a sentinel value happens"
   ]
  },
  {
   "cell_type": "code",
   "execution_count": 61,
   "metadata": {},
   "outputs": [
    {
     "name": "stdout",
     "output_type": "stream",
     "text": [
      "The sum = 5050\n"
     ]
    }
   ],
   "source": [
    "num_sum = 0\n",
    "\n",
    "#initialization\n",
    "i = 1\n",
    "\n",
    "#condition\n",
    "while i <= 100 :\n",
    "    num_sum += i\n",
    "    i += 1 #modification\n",
    "\n",
    "print( \"The sum =\", num_sum )"
   ]
  },
  {
   "cell_type": "code",
   "execution_count": 62,
   "metadata": {},
   "outputs": [
    {
     "name": "stdout",
     "output_type": "stream",
     "text": [
      "Enter the first grade: 90\n",
      "Enter the next grade (or < 0 to finalize): 80\n",
      "Enter the next grade (or < 0 to finalize): 79\n",
      "Enter the next grade (or < 0 to finalize): 81\n",
      "Enter the next grade (or < 0 to finalize): 95\n",
      "Enter the next grade (or < 0 to finalize): -1\n",
      "The average grade is 85.00\n"
     ]
    }
   ],
   "source": [
    "total = 0\n",
    "count = 0\n",
    "value = int( input(\"Enter the first grade: \") )\n",
    "while value >= 0 :\n",
    "    total += value\n",
    "    count += 1\n",
    "    value = int( input(\"Enter the next grade (or < 0 to finalize): \") )\n",
    "avg = total / count\n",
    "print(\"The average grade is %4.2f\" % avg)"
   ]
  },
  {
   "cell_type": "markdown",
   "metadata": {},
   "source": [
    "- `break` allows to break out of a loop\n",
    "- `continue` allows to skip an iteration and go to the next iteration"
   ]
  },
  {
   "cell_type": "markdown",
   "metadata": {},
   "source": [
    "#### For Loop\n",
    "- Count-controlled Loop\n",
    "- Executed until a pre-known count is reached"
   ]
  },
  {
   "cell_type": "code",
   "execution_count": 63,
   "metadata": {},
   "outputs": [
    {
     "name": "stdout",
     "output_type": "stream",
     "text": [
      "The string contained 2 uppercase characters.\n"
     ]
    }
   ],
   "source": [
    "#It is better to read `for` as a `foreach`\n",
    "count = 0\n",
    "theString = 'Hello World!'\n",
    "for letter in theString :\n",
    "    if letter >= \"A\" and letter <= \"Z\" :\n",
    "        count += 1\n",
    "print( \"The string contained %d uppercase characters.\" % count )"
   ]
  },
  {
   "cell_type": "markdown",
   "metadata": {},
   "source": [
    "#### Issue With IEEE 764\n"
   ]
  },
  {
   "cell_type": "code",
   "execution_count": 64,
   "metadata": {},
   "outputs": [
    {
     "name": "stdout",
     "output_type": "stream",
     "text": [
      "Not correct\n",
      "Not correct\n",
      "Not correct\n",
      "Not correct\n",
      "Not correct\n",
      "Not correct\n",
      "Not correct\n",
      "Not correct\n",
      "Not correct\n",
      "Not correct\n"
     ]
    }
   ],
   "source": [
    "total = 0.0\n",
    "i = 0\n",
    "while i < 10 :\n",
    "    total += 0.1\n",
    "    i += 1\n",
    "    if total == 1.0 : #Float comparison is not appropriate\n",
    "        print(\"Correct\")\n",
    "    else :\n",
    "        print(\"Not correct\")"
   ]
  },
  {
   "cell_type": "markdown",
   "metadata": {},
   "source": [
    "#### `range()`\n",
    "- Useful to define a range of numbers to work with `for`"
   ]
  },
  {
   "cell_type": "code",
   "execution_count": 65,
   "metadata": {},
   "outputs": [
    {
     "name": "stdout",
     "output_type": "stream",
     "text": [
      "0 5 10 15 20 25 30 "
     ]
    }
   ],
   "source": [
    "# Third argument indicates the increment amount; default is 1.\n",
    "for i in range(0, 31, 5): # 0, 5, 10, 15, 20, 25, 30\n",
    "    print(i, end=\" \")"
   ]
  },
  {
   "cell_type": "code",
   "execution_count": 66,
   "metadata": {},
   "outputs": [
    {
     "name": "stdout",
     "output_type": "stream",
     "text": [
      "30 25 20 15 10 5 "
     ]
    }
   ],
   "source": [
    "# We can decrement through the range of values.\n",
    "for i in range(30, 0, -5 ) : # 30, 25, 20, 15, 10, 5\n",
    "    print(i, end=\" \")"
   ]
  },
  {
   "cell_type": "code",
   "execution_count": 67,
   "metadata": {},
   "outputs": [
    {
     "name": "stdout",
     "output_type": "stream",
     "text": [
      "0 1 2 3 4 "
     ]
    }
   ],
   "source": [
    "# A single argument will iterate through the range, starting at 0.\n",
    "for i in range(5) : # 0, 1, 2, 3, 4\n",
    "    print(i, end=\" \")"
   ]
  },
  {
   "cell_type": "markdown",
   "metadata": {},
   "source": [
    "---"
   ]
  },
  {
   "cell_type": "markdown",
   "metadata": {},
   "source": [
    "## Collections"
   ]
  },
  {
   "cell_type": "markdown",
   "metadata": {},
   "source": [
    "### Strings"
   ]
  },
  {
   "cell_type": "markdown",
   "metadata": {},
   "source": [
    "- Immutable objects of the built-in `str` class"
   ]
  },
  {
   "cell_type": "markdown",
   "metadata": {},
   "source": [
    "#### String Concatenation"
   ]
  },
  {
   "cell_type": "code",
   "execution_count": 68,
   "metadata": {},
   "outputs": [
    {
     "data": {
      "text/plain": [
       "'This is a string'"
      ]
     },
     "execution_count": 68,
     "metadata": {},
     "output_type": "execute_result"
    }
   ],
   "source": [
    "strvar = 'This is '\n",
    "strvar + 'a string'"
   ]
  },
  {
   "cell_type": "code",
   "execution_count": 69,
   "metadata": {},
   "outputs": [
    {
     "data": {
      "text/plain": [
       "'I am 43 years old'"
      ]
     },
     "execution_count": 69,
     "metadata": {},
     "output_type": "execute_result"
    }
   ],
   "source": [
    "#Other data types must be converted to string before concatenation\n",
    "my_age = 20\n",
    "my_intro = 'I am ' + str(age) + ' years old'\n",
    "my_intro"
   ]
  },
  {
   "cell_type": "markdown",
   "metadata": {},
   "source": [
    "#### String Length"
   ]
  },
  {
   "cell_type": "code",
   "execution_count": 70,
   "metadata": {},
   "outputs": [
    {
     "data": {
      "text/plain": [
       "17"
      ]
     },
     "execution_count": 70,
     "metadata": {},
     "output_type": "execute_result"
    }
   ],
   "source": [
    "len(my_intro)"
   ]
  },
  {
   "cell_type": "markdown",
   "metadata": {},
   "source": [
    "#### String Indexing and Slicing\n",
    "- The index used must be within the valid range or an error will be thrown\n",
    "\n",
    "![string-indexing](../files/appendix_a/string-indexing.png)"
   ]
  },
  {
   "cell_type": "code",
   "execution_count": null,
   "metadata": {},
   "outputs": [],
   "source": []
  },
  {
   "cell_type": "code",
   "execution_count": 71,
   "metadata": {},
   "outputs": [
    {
     "data": {
      "text/plain": [
       "'I'"
      ]
     },
     "execution_count": 71,
     "metadata": {},
     "output_type": "execute_result"
    }
   ],
   "source": [
    "my_intro[0]"
   ]
  },
  {
   "cell_type": "code",
   "execution_count": 72,
   "metadata": {},
   "outputs": [
    {
     "data": {
      "text/plain": [
       "'I am'"
      ]
     },
     "execution_count": 72,
     "metadata": {},
     "output_type": "execute_result"
    }
   ],
   "source": [
    "my_intro[0:4]"
   ]
  },
  {
   "cell_type": "code",
   "execution_count": 73,
   "metadata": {},
   "outputs": [
    {
     "data": {
      "text/plain": [
       "'dlo sraey 34 ma I'"
      ]
     },
     "execution_count": 73,
     "metadata": {},
     "output_type": "execute_result"
    }
   ],
   "source": [
    "my_intro[::-1]"
   ]
  },
  {
   "cell_type": "markdown",
   "metadata": {},
   "source": [
    "#### String Repeat"
   ]
  },
  {
   "cell_type": "code",
   "execution_count": 74,
   "metadata": {},
   "outputs": [
    {
     "name": "stdout",
     "output_type": "stream",
     "text": [
      "This Is A Title\n",
      "---------------\n",
      "And This Is Another Longer Title\n",
      "--------------------------------\n"
     ]
    }
   ],
   "source": [
    "title = 'this is a title'\n",
    "title2 = 'and this is another longer title'\n",
    "\n",
    "print(title.title())\n",
    "print('-' * len(title)) #Auto-repeat based on the length of the string\n",
    "\n",
    "print(title2.title())\n",
    "print('-' * len(title2)) #Auto-repeat based on the length of the string"
   ]
  },
  {
   "cell_type": "markdown",
   "metadata": {},
   "source": [
    "#### String Element Check\n",
    "- `in` and `not in` can be used to check if an element is in the string or not"
   ]
  },
  {
   "cell_type": "code",
   "execution_count": 75,
   "metadata": {},
   "outputs": [
    {
     "name": "stdout",
     "output_type": "stream",
     "text": [
      "is 'A' in vowels? True\n"
     ]
    }
   ],
   "source": [
    "vowels = \"AEIOUY\"\n",
    "print(\"is 'A' in vowels?\", 'A' in vowels)"
   ]
  },
  {
   "cell_type": "code",
   "execution_count": 76,
   "metadata": {},
   "outputs": [
    {
     "name": "stdout",
     "output_type": "stream",
     "text": [
      "is 'X' in vowels? False\n"
     ]
    }
   ],
   "source": [
    "print(\"is 'X' in vowels?\", 'X' in vowels)"
   ]
  },
  {
   "cell_type": "code",
   "execution_count": 77,
   "metadata": {},
   "outputs": [
    {
     "name": "stdout",
     "output_type": "stream",
     "text": [
      "is 'X' not in vowels? True\n"
     ]
    }
   ],
   "source": [
    "print(\"is 'X' not in vowels?\", 'X' not in vowels)"
   ]
  },
  {
   "cell_type": "markdown",
   "metadata": {},
   "source": [
    "### Lists\n",
    "- Ordered sequence of object references\n",
    "- Items accessed by subscript\n",
    "- Comma-separated values\n",
    "- By reference to another location in the memory"
   ]
  },
  {
   "cell_type": "code",
   "execution_count": 78,
   "metadata": {},
   "outputs": [],
   "source": [
    "gradeList = [ 85, 90, 87, 65, 91 ]\n",
    "listA = []\n",
    "listB = list()"
   ]
  },
  {
   "cell_type": "markdown",
   "metadata": {},
   "source": [
    "#### List Elements Access"
   ]
  },
  {
   "cell_type": "code",
   "execution_count": 79,
   "metadata": {},
   "outputs": [
    {
     "data": {
      "text/plain": [
       "85"
      ]
     },
     "execution_count": 79,
     "metadata": {},
     "output_type": "execute_result"
    }
   ],
   "source": [
    "gradeList[0]"
   ]
  },
  {
   "cell_type": "code",
   "execution_count": 80,
   "metadata": {},
   "outputs": [
    {
     "data": {
      "text/plain": [
       "91"
      ]
     },
     "execution_count": 80,
     "metadata": {},
     "output_type": "execute_result"
    }
   ],
   "source": [
    "gradeList[-1]"
   ]
  },
  {
   "cell_type": "code",
   "execution_count": 81,
   "metadata": {},
   "outputs": [
    {
     "name": "stdout",
     "output_type": "stream",
     "text": [
      "85 90 87 65 91 "
     ]
    }
   ],
   "source": [
    "for grade in gradeList:\n",
    "    print(grade, end=\" \")"
   ]
  },
  {
   "cell_type": "markdown",
   "metadata": {},
   "source": [
    "#### List Modification\n",
    "\n",
    "##### `list.append(el)`"
   ]
  },
  {
   "cell_type": "code",
   "execution_count": 82,
   "metadata": {},
   "outputs": [
    {
     "name": "stdout",
     "output_type": "stream",
     "text": [
      "[14, 15, 19, 0, 16, 7, 19, 0, 9, 9, 2, 3, 6, 0, 13, 10, 1, 4, 5, 4]\n"
     ]
    }
   ],
   "source": [
    "from random import random\n",
    "\n",
    "valueList = []\n",
    "for i in range(20):\n",
    "    rand = int(random() * 20) #Random integers between 0-20\n",
    "    valueList.append(rand) #Appending to a list\n",
    "\n",
    "print(valueList)"
   ]
  },
  {
   "cell_type": "markdown",
   "metadata": {},
   "source": [
    "##### `list.extend(anotherList)`"
   ]
  },
  {
   "cell_type": "code",
   "execution_count": 83,
   "metadata": {},
   "outputs": [
    {
     "name": "stdout",
     "output_type": "stream",
     "text": [
      "[14, 15, 19, 0, 16, 7, 19, 0, 9, 9, 2, 3, 6, 0, 13, 10, 1, 4, 5, 4, 'a', 'b', 'c', 'd', 'e', 'f']\n"
     ]
    }
   ],
   "source": [
    "additionalValues = ['a', 'b', 'c', 'd', 'e', 'f']\n",
    "valueList.extend(additionalValues) #Add elements from one list to another\n",
    "print(valueList)"
   ]
  },
  {
   "cell_type": "code",
   "execution_count": 84,
   "metadata": {},
   "outputs": [
    {
     "name": "stdout",
     "output_type": "stream",
     "text": [
      "['a', 'b', 'c', 'd', 'e', 'f']\n"
     ]
    }
   ],
   "source": [
    "#The original list additionalValues is not modified\n",
    "print(additionalValues)"
   ]
  },
  {
   "cell_type": "markdown",
   "metadata": {},
   "source": [
    "##### `list.insert(el)`"
   ]
  },
  {
   "cell_type": "code",
   "execution_count": 85,
   "metadata": {},
   "outputs": [
    {
     "name": "stdout",
     "output_type": "stream",
     "text": [
      "[0, 855, 100, 20, 35, 4]\n"
     ]
    }
   ],
   "source": [
    "values = [0, 100, 20, 35, 4]\n",
    "values.insert(1, 855) #Insert 855 at index 1\n",
    "print(values)"
   ]
  },
  {
   "cell_type": "markdown",
   "metadata": {},
   "source": [
    "##### `list.remove(el)`\n",
    "- Remove an item by value"
   ]
  },
  {
   "cell_type": "code",
   "execution_count": 86,
   "metadata": {},
   "outputs": [
    {
     "name": "stdout",
     "output_type": "stream",
     "text": [
      "[0, 855, 100, 20, 4]\n",
      "5\n"
     ]
    }
   ],
   "source": [
    "values.remove(35)\n",
    "print(values) # => [0, 855, 100, 20, 4]\n",
    "print(len(values)) # => 5"
   ]
  },
  {
   "cell_type": "markdown",
   "metadata": {},
   "source": [
    "#### `list.pop()`\n",
    "- Remove an item by index and get its value\n",
    "- If index omitted, remove the last item"
   ]
  },
  {
   "cell_type": "code",
   "execution_count": 87,
   "metadata": {},
   "outputs": [
    {
     "name": "stdout",
     "output_type": "stream",
     "text": [
      "[0, 100, 20, 4]\n",
      "4\n"
     ]
    }
   ],
   "source": [
    "values.pop(1) # => 855\n",
    "print(values) # => [0, 100, 20, 4]\n",
    "print(len(values)) # => 4"
   ]
  },
  {
   "cell_type": "markdown",
   "metadata": {},
   "source": [
    "#### `list.index(el)`\n",
    "- Search for an element within the list\n",
    "- Returns the index if found (first one if duplicates)\n",
    "- Otherwise, throw an error"
   ]
  },
  {
   "cell_type": "code",
   "execution_count": 88,
   "metadata": {},
   "outputs": [
    {
     "name": "stdout",
     "output_type": "stream",
     "text": [
      "What number to search?11\n",
      "11 is in the list\n"
     ]
    }
   ],
   "source": [
    "values = [10, 11, 12, 13]\n",
    "num_to_search = input(\"What number to search?\")\n",
    "\n",
    "try:\n",
    "    type(num_to_search)\n",
    "    if values.index(int(num_to_search)) >= 0: #Find if the number is in the list\n",
    "        print(\"{} is in the list\".format(num_to_search))\n",
    "except:\n",
    "    print(\"{} is not in the list\".format(num_to_search))"
   ]
  },
  {
   "cell_type": "markdown",
   "metadata": {},
   "source": [
    "#### List Element Check\n",
    "- `in` and `not in` can be used to check if an element is in the list or not"
   ]
  },
  {
   "cell_type": "code",
   "execution_count": 89,
   "metadata": {},
   "outputs": [
    {
     "name": "stdout",
     "output_type": "stream",
     "text": [
      "Is 10 in values? True\n"
     ]
    }
   ],
   "source": [
    "values = [10, 20, 30, 40]\n",
    "print(\"Is 10 in values?\", 10 in values)"
   ]
  },
  {
   "cell_type": "code",
   "execution_count": 90,
   "metadata": {},
   "outputs": [
    {
     "name": "stdout",
     "output_type": "stream",
     "text": [
      "Is 'abc' not in values? True\n"
     ]
    }
   ],
   "source": [
    "values = [10, 20, 30, 40]\n",
    "print(\"Is 'abc' not in values?\", 'abc' not in values)"
   ]
  },
  {
   "cell_type": "markdown",
   "metadata": {},
   "source": [
    "### Tuples\n",
    "- Immutable sequence\n",
    "- Similar to list"
   ]
  },
  {
   "cell_type": "code",
   "execution_count": 91,
   "metadata": {},
   "outputs": [],
   "source": [
    "t = (0, 2, 4) # 3 element tuple\n",
    "a = (2,) # 1 element tuple: Comma is required, else it will be just an int\n",
    "b = ('abc', 1, 4.5, 5) # 4 element mixed tuple\n",
    "name_and_age = (\"John\", 65)"
   ]
  },
  {
   "cell_type": "code",
   "execution_count": 92,
   "metadata": {},
   "outputs": [
    {
     "name": "stdout",
     "output_type": "stream",
     "text": [
      "My name is John and my age is 65\n"
     ]
    }
   ],
   "source": [
    "print(\"My name is {} and my age is {}\".format(*name_and_age)) #Use * to unpack in function"
   ]
  },
  {
   "cell_type": "markdown",
   "metadata": {},
   "source": [
    "#### Tuples Element Check\n",
    "- `in` and `not in` can be used to check if an element is in the tuple or not"
   ]
  },
  {
   "cell_type": "code",
   "execution_count": 93,
   "metadata": {},
   "outputs": [
    {
     "name": "stdout",
     "output_type": "stream",
     "text": [
      "Is 'abc' in tuple b? True\n"
     ]
    }
   ],
   "source": [
    "print(\"Is 'abc' in tuple b?\", 'abc' in b)"
   ]
  },
  {
   "cell_type": "code",
   "execution_count": 94,
   "metadata": {},
   "outputs": [
    {
     "name": "stdout",
     "output_type": "stream",
     "text": [
      "Is '4.5' not in tuple b? False\n"
     ]
    }
   ],
   "source": [
    "print(\"Is '4.5' not in tuple b?\", 4.5 not in b)"
   ]
  },
  {
   "cell_type": "markdown",
   "metadata": {},
   "source": [
    "### Dictionary\n",
    "- key-value pair\n",
    "- Also known as a hash-map"
   ]
  },
  {
   "cell_type": "code",
   "execution_count": 95,
   "metadata": {},
   "outputs": [],
   "source": [
    "states = {\n",
    "    'MS' : 'Mississippi',\n",
    "    'VA' : 'Virginia',\n",
    "    'AL' : 'Alabama',\n",
    "    'DC' : 'Washington'\n",
    "}\n",
    "classLevel = { \n",
    "    0 : 'Freshman', \n",
    "    1 : 'Sophomore',\n",
    "    2 : 'Junior',\n",
    "    3: 'Senior'\n",
    "}\n",
    "emptyA = {}\n",
    "emptyB = dict()"
   ]
  },
  {
   "cell_type": "markdown",
   "metadata": {},
   "source": [
    "#### Dictionary Element Access\n",
    "- Access by key directly: The key must exist, else an error is thrown\n",
    "- Access using `dict.get()`: Returns `None` if the key does not exist"
   ]
  },
  {
   "cell_type": "code",
   "execution_count": 96,
   "metadata": {},
   "outputs": [
    {
     "name": "stdout",
     "output_type": "stream",
     "text": [
      "The state name is Mississippi\n"
     ]
    }
   ],
   "source": [
    "print('The state name is', states['MS']) #Subscript by the key"
   ]
  },
  {
   "cell_type": "code",
   "execution_count": 97,
   "metadata": {},
   "outputs": [
    {
     "name": "stdout",
     "output_type": "stream",
     "text": [
      "The state name is Mississippi\n"
     ]
    }
   ],
   "source": [
    "print('The state name is', states.get('MS')) #dict.get() can also be used"
   ]
  },
  {
   "cell_type": "code",
   "execution_count": 98,
   "metadata": {},
   "outputs": [
    {
     "name": "stdout",
     "output_type": "stream",
     "text": [
      "The state name is None\n"
     ]
    }
   ],
   "source": [
    "print('The state name is', states.get('MD')) #dict.get() does not throw an error but returns `None`"
   ]
  },
  {
   "cell_type": "markdown",
   "metadata": {},
   "source": [
    "- Traversing is done using the `for` statement\n",
    "- Traversal is made over the keys"
   ]
  },
  {
   "cell_type": "code",
   "execution_count": 99,
   "metadata": {},
   "outputs": [
    {
     "name": "stdout",
     "output_type": "stream",
     "text": [
      "0 = Freshman\n",
      "1 = Sophomore\n",
      "2 = Junior\n",
      "3 = Senior\n"
     ]
    }
   ],
   "source": [
    "for key in classLevel:\n",
    "    print(key, '=', classLevel[key])"
   ]
  },
  {
   "cell_type": "markdown",
   "metadata": {},
   "source": [
    "- Use `dict.keys()` to get a list of all the keys\n",
    "- Use `dict.value()` to get a list of all the values"
   ]
  },
  {
   "cell_type": "code",
   "execution_count": 100,
   "metadata": {},
   "outputs": [
    {
     "name": "stdout",
     "output_type": "stream",
     "text": [
      "States Keys: dict_keys(['MS', 'VA', 'AL', 'DC'])\n"
     ]
    }
   ],
   "source": [
    "keyList = states.keys()\n",
    "print(\"States Keys:\", keyList)"
   ]
  },
  {
   "cell_type": "code",
   "execution_count": 101,
   "metadata": {},
   "outputs": [
    {
     "name": "stdout",
     "output_type": "stream",
     "text": [
      "States Values: dict_values(['Mississippi', 'Virginia', 'Alabama', 'Washington'])\n"
     ]
    }
   ],
   "source": [
    "valueList = states.values()\n",
    "print(\"States Values:\", valueList)"
   ]
  },
  {
   "cell_type": "markdown",
   "metadata": {},
   "source": [
    "#### Dictionary Modification\n",
    "- If the key/value pair already exist, the current value would be modified\n",
    "- If the key/value pair does not exist, it would be created\n",
    "- To remove an exiting entry, use `dict.pop(key)` or `del dict[key]`"
   ]
  },
  {
   "cell_type": "code",
   "execution_count": 102,
   "metadata": {},
   "outputs": [
    {
     "name": "stdout",
     "output_type": "stream",
     "text": [
      "MS - Mississippi\n",
      "VA - Virginia\n",
      "AL - Alabama\n",
      "DC - District of Columbia\n"
     ]
    }
   ],
   "source": [
    "#Modifying existing entries\n",
    "states['DC'] = 'District of Columbia'\n",
    "for k in states:\n",
    "    print(k, '-', states[k])"
   ]
  },
  {
   "cell_type": "code",
   "execution_count": 103,
   "metadata": {},
   "outputs": [
    {
     "name": "stdout",
     "output_type": "stream",
     "text": [
      "{'MS': 'Mississippi', 'VA': 'Virginia', 'AL': 'Alabama', 'DC': 'District of Columbia', 'OR': 'Oregon', 'VT': 'Vermont'}\n"
     ]
    }
   ],
   "source": [
    "#Adding new entries\n",
    "states['OR'] = 'Oregon'\n",
    "states['VT'] = 'Vermont'\n",
    "print(states)"
   ]
  },
  {
   "cell_type": "code",
   "execution_count": 104,
   "metadata": {},
   "outputs": [
    {
     "name": "stdout",
     "output_type": "stream",
     "text": [
      "{'MS': 'Mississippi', 'VA': 'Virginia', 'AL': 'Alabama', 'DC': 'District of Columbia'}\n"
     ]
    }
   ],
   "source": [
    "#Removing an entry\n",
    "states.pop('OR')\n",
    "del states['VT']\n",
    "print(states)"
   ]
  },
  {
   "cell_type": "markdown",
   "metadata": {},
   "source": [
    "#### Dictionary Element Check\n",
    "- `in` and `not in` can be used to check if a key is in the dictionary or not"
   ]
  },
  {
   "cell_type": "code",
   "execution_count": 105,
   "metadata": {},
   "outputs": [
    {
     "name": "stdout",
     "output_type": "stream",
     "text": [
      "Is OR in states? False\n"
     ]
    }
   ],
   "source": [
    "print(\"Is OR in states?\", 'OR' in states)"
   ]
  },
  {
   "cell_type": "code",
   "execution_count": 106,
   "metadata": {},
   "outputs": [
    {
     "name": "stdout",
     "output_type": "stream",
     "text": [
      "Is VT not in states? True\n"
     ]
    }
   ],
   "source": [
    "print(\"Is VT not in states?\", 'VT' not in states)"
   ]
  },
  {
   "cell_type": "code",
   "execution_count": 107,
   "metadata": {},
   "outputs": [
    {
     "name": "stdout",
     "output_type": "stream",
     "text": [
      "Is MS in states? True\n"
     ]
    }
   ],
   "source": [
    "print(\"Is MS in states?\", 'MS' in states)"
   ]
  },
  {
   "cell_type": "markdown",
   "metadata": {},
   "source": [
    "---"
   ]
  },
  {
   "cell_type": "markdown",
   "metadata": {},
   "source": [
    "## Text Files\n",
    "- 2 types of files that can be used with Python:\n",
    "  - Text Files\n",
    "    - Typically includes the ASCII values in the range [32...126], 13 (newline) and 9 (tabs)\n",
    "  - Binary Files\n",
    "    - Sequence of binary numbers representing data values as they would be stored in memory\n",
    "    - Cannot be read and displayed by text editors since they contain byte values outside the printable range"
   ]
  },
  {
   "cell_type": "markdown",
   "metadata": {},
   "source": [
    "### File Access"
   ]
  },
  {
   "cell_type": "markdown",
   "metadata": {},
   "source": [
    "- No additional modules are required in order to access a file from within your program\n",
    "- Open and create an object to represent the file\n",
    "- If the file can be opened, the function creates a file object and returns a reference to that newly created object"
   ]
  },
  {
   "cell_type": "markdown",
   "metadata": {},
   "source": [
    "### Reading From A File\n",
    "- Use `open()` with `r` option\n",
    "- When done working with a file, always close it"
   ]
  },
  {
   "cell_type": "code",
   "execution_count": 108,
   "metadata": {},
   "outputs": [
    {
     "name": "stdout",
     "output_type": "stream",
     "text": [
      "This is a very basic records text file.\n",
      "\n",
      "This is the second line in this text file.\n",
      "\n",
      "And this is the third and final line in this text file.\n"
     ]
    }
   ],
   "source": [
    "#Open a file for reading\n",
    "infile = open(\"../files/appendix_a/records.txt\", \"r\")\n",
    "\n",
    "#To access the contents, we can use loop\n",
    "for line in infile:\n",
    "    print(line)\n",
    "\n",
    "#When done working with a file, always close it\n",
    "infile.close()"
   ]
  },
  {
   "cell_type": "markdown",
   "metadata": {},
   "source": [
    "- We can also use the `readline()` method to read one line at a time\n",
    "- The end of a line is indicated by a newline character `\\n`\n",
    "- If the file is empty or the end of file has been reached, `readline()` returns an empty string\n",
    "- When using a loop to read an entire file, we can use this as condition: `while line != \"\"`\n",
    "- `readline()` will not remove `\\n` from the extracted line. Use `rstrip()` for this"
   ]
  },
  {
   "cell_type": "code",
   "execution_count": 109,
   "metadata": {},
   "outputs": [
    {
     "name": "stdout",
     "output_type": "stream",
     "text": [
      "This is a very basic records text file.\n",
      "This is the second line in this text file.\n",
      "And this is the third and final line in this text file.\n",
      "\n"
     ]
    }
   ],
   "source": [
    "#Open a file for reading\n",
    "infile = open(\"../files/appendix_a/records.txt\", \"r\")\n",
    "\n",
    "#To access the contents, we can use loop\n",
    "line1 = infile.readline()\n",
    "print(line1.rstrip()) #Remove \\n at the end\n",
    "line2 = infile.readline()\n",
    "print(line2.rstrip()) #Remove \\n at the end\n",
    "line3 = infile.readline()\n",
    "print(line3.rstrip()) #Remove \\n at the end\n",
    "line4 = infile.readline() #EOF: Empty string\n",
    "print(line4) #EOF: Empty string\n",
    "\n",
    "#When done working with a file, always close it\n",
    "infile.close()"
   ]
  },
  {
   "cell_type": "markdown",
   "metadata": {},
   "source": [
    "- Using `realdine()`, we can also extract just a specific number of characters from the line\n",
    "- The reading can be continuous to where the current cursor is located"
   ]
  },
  {
   "cell_type": "code",
   "execution_count": 110,
   "metadata": {},
   "outputs": [
    {
     "name": "stdout",
     "output_type": "stream",
     "text": [
      "This is a very \n",
      "basic records t\n",
      "ext file.\n",
      "\n"
     ]
    }
   ],
   "source": [
    "#Open a file for reading\n",
    "infile = open(\"../files/appendix_a/records.txt\", \"r\")\n",
    "\n",
    "#To access the contents, we can use loop\n",
    "line = infile.readline(15) #Just extract 15 characters from each line\n",
    "print(line)\n",
    "line = infile.readline(15) #Just extract 15 characters from each line\n",
    "print(line)\n",
    "line = infile.readline(15) #Just extract 15 characters from each line\n",
    "print(line)\n",
    "\n",
    "#When done working with a file, always close it\n",
    "infile.close()"
   ]
  },
  {
   "cell_type": "markdown",
   "metadata": {},
   "source": [
    "- Using `readlines()`, we can extract all the lines at once\n",
    "- It will store the contents in a list of lines"
   ]
  },
  {
   "cell_type": "code",
   "execution_count": 111,
   "metadata": {},
   "outputs": [
    {
     "name": "stdout",
     "output_type": "stream",
     "text": [
      "Line 1: This is a very basic records text file.\n",
      "Line 2: This is the second line in this text file.\n",
      "Line 3: And this is the third and final line in this text file.\n"
     ]
    }
   ],
   "source": [
    "#Open a file for reading\n",
    "infile = open(\"../files/appendix_a/records.txt\", \"r\")\n",
    "\n",
    "#To access the contents, we can use loop\n",
    "lines = infile.readlines()\n",
    "for i, line in enumerate(lines):\n",
    "    print(\"Line\", str(i+1)+\":\", line.rstrip())\n",
    "\n",
    "#When done working with a file, always close it\n",
    "infile.close()"
   ]
  },
  {
   "cell_type": "markdown",
   "metadata": {},
   "source": [
    "- We can also just use an iterator over each line of the file"
   ]
  },
  {
   "cell_type": "code",
   "execution_count": 112,
   "metadata": {},
   "outputs": [
    {
     "name": "stdout",
     "output_type": "stream",
     "text": [
      "Line 1: This is a very basic records text file.\n",
      "Line 2: This is the second line in this text file.\n",
      "Line 3: And this is the third and final line in this text file.\n"
     ]
    }
   ],
   "source": [
    "#Open a file for reading\n",
    "infile = open(\"../files/appendix_a/records.txt\", \"r\")\n",
    "\n",
    "#To access the contents, we can use loop\n",
    "for i, line in enumerate(infile):\n",
    "    print(\"Line\", str(i+1)+\":\", line.rstrip())\n",
    "\n",
    "#When done working with a file, always close it\n",
    "infile.close()"
   ]
  },
  {
   "cell_type": "markdown",
   "metadata": {},
   "source": [
    "**Note:**\n",
    "- **Remember that reading from a file only returns strings. Handle type conversions approproately.**\n",
    "- **Also, remember that the newline character `\\n` must be stripped before conversion.**"
   ]
  },
  {
   "cell_type": "markdown",
   "metadata": {},
   "source": [
    "### Writing To A File\n",
    "- Use the `write()` method after opening the file with `open()` with `w` option\n",
    "- To output other value type, make sure to convert them to string\n",
    "- `write()` does not add a linefeed or newline character after the string is written to the file\n",
    "- To add a newline, add `\\n` to the end of the string"
   ]
  },
  {
   "cell_type": "code",
   "execution_count": 113,
   "metadata": {},
   "outputs": [],
   "source": [
    "#Open a file for writing\n",
    "outfile = open(\"../files/appendix_a/student-report.txt\", \"w\")\n",
    "\n",
    "#Start writing to file\n",
    "outfile.write(\"Student Report\\n\")\n",
    "outfile.write(\"-\" * 40 + \"\\n\")\n",
    "\n",
    "#When done working with a file, always close it\n",
    "infile.close()"
   ]
  },
  {
   "cell_type": "markdown",
   "metadata": {},
   "source": [
    "---"
   ]
  },
  {
   "cell_type": "markdown",
   "metadata": {},
   "source": [
    "## User-Defined Functions"
   ]
  },
  {
   "cell_type": "markdown",
   "metadata": {},
   "source": [
    "### Function Definition"
   ]
  },
  {
   "cell_type": "code",
   "execution_count": 114,
   "metadata": {},
   "outputs": [],
   "source": [
    "def sum_range(start, end):\n",
    "    total = 0\n",
    "    i = start\n",
    "    while i <= end:\n",
    "        total += i\n",
    "        i += 1\n",
    "    return total"
   ]
  },
  {
   "cell_type": "code",
   "execution_count": 115,
   "metadata": {},
   "outputs": [
    {
     "name": "stdout",
     "output_type": "stream",
     "text": [
      "The sum of the first 100 integers is 5050\n"
     ]
    }
   ],
   "source": [
    "start = 1\n",
    "end = 100\n",
    "the_sum = sum_range(start, end)\n",
    "print(\"The sum of the first {} integers is {}\".format(end, the_sum))"
   ]
  },
  {
   "cell_type": "markdown",
   "metadata": {},
   "source": [
    "#### Function Arguments"
   ]
  },
  {
   "cell_type": "markdown",
   "metadata": {},
   "source": [
    "- In Python, arguments are passed by value\n",
    "- Every value is an object: It is the object reference that is copied to a function parameter and not the object itself "
   ]
  },
  {
   "cell_type": "code",
   "execution_count": 116,
   "metadata": {},
   "outputs": [
    {
     "name": "stdout",
     "output_type": "stream",
     "text": [
      "315\n"
     ]
    }
   ],
   "source": [
    "start = 5\n",
    "end = 25\n",
    "theSum = sum_range( start, end )\n",
    "print(theSum)"
   ]
  },
  {
   "cell_type": "markdown",
   "metadata": {},
   "source": [
    "![sumRange](../files/appendix_a/sumRange.png)"
   ]
  },
  {
   "cell_type": "markdown",
   "metadata": {},
   "source": [
    "- The function `sum_range()` can also take float values\n",
    "- So long as all operations within the function can be applied to the given values, the program will execute correctly\n",
    "- If an operation cannot be applied to a given argument type, an exception will be raised"
   ]
  },
  {
   "cell_type": "markdown",
   "metadata": {},
   "source": [
    "#### Returning Values"
   ]
  },
  {
   "cell_type": "markdown",
   "metadata": {},
   "source": [
    "- Can be used to terminate a function execution\n",
    "- Can be used to return a value (object reference) from the function execution\n",
    "- Multiple values can be returned as tuple"
   ]
  },
  {
   "cell_type": "code",
   "execution_count": 117,
   "metadata": {},
   "outputs": [],
   "source": [
    "#Functions can also return multiple values separated by commas\n",
    "def four_operations(num1, num2):\n",
    "    if num2 != 0:\n",
    "        num_sum = num1 + num2\n",
    "        num_sub = num1 - num2\n",
    "        num_prod = num1 * num2\n",
    "        num_div = num1 / num2\n",
    "    return num_sum, num_sub, num_prod, num_div #This is returned as a tuple"
   ]
  },
  {
   "cell_type": "code",
   "execution_count": 118,
   "metadata": {},
   "outputs": [
    {
     "data": {
      "text/plain": [
       "(50, -10, 600, 0.6666666666666666)"
      ]
     },
     "execution_count": 118,
     "metadata": {},
     "output_type": "execute_result"
    }
   ],
   "source": [
    "four_operations(20, 30)"
   ]
  },
  {
   "cell_type": "markdown",
   "metadata": {},
   "source": [
    "- Values that are returned as tuple can be unpacked\n",
    "- A function that returns multiple values can only be called as part of a multi-variable assignment statement (tuple unpacking)\n",
    "- Order of the returned values within the tuple is respected"
   ]
  },
  {
   "cell_type": "code",
   "execution_count": 119,
   "metadata": {},
   "outputs": [
    {
     "name": "stdout",
     "output_type": "stream",
     "text": [
      "Addition: 50\n",
      "Subtraction: -10\n",
      "Multiplication: 600\n",
      "Division: 0.6666666666666666\n"
     ]
    }
   ],
   "source": [
    "(add, sub, mult, div) = four_operations(20, 30) #Parenthesis not required for the tuple here\n",
    "print(\"Addition:\", add)\n",
    "print(\"Subtraction:\", sub)\n",
    "print(\"Multiplication:\", mult)\n",
    "print(\"Division:\", div)"
   ]
  },
  {
   "cell_type": "markdown",
   "metadata": {},
   "source": [
    "#### Default and Keyword Arguments\n",
    "- Functions can have default values for their arguments (`args`)"
   ]
  },
  {
   "cell_type": "code",
   "execution_count": 120,
   "metadata": {},
   "outputs": [],
   "source": [
    "def sumRange(first, last, step = 1):\n",
    "    total = 0\n",
    "    i = first\n",
    "    while i <= last :\n",
    "        total += i\n",
    "        i = i + step\n",
    "    return total"
   ]
  },
  {
   "cell_type": "code",
   "execution_count": 121,
   "metadata": {},
   "outputs": [
    {
     "data": {
      "text/plain": [
       "5050"
      ]
     },
     "execution_count": 121,
     "metadata": {},
     "output_type": "execute_result"
    }
   ],
   "source": [
    "sumRange(1, 100)"
   ]
  },
  {
   "cell_type": "code",
   "execution_count": 122,
   "metadata": {},
   "outputs": [
    {
     "data": {
      "text/plain": [
       "2500"
      ]
     },
     "execution_count": 122,
     "metadata": {},
     "output_type": "execute_result"
    }
   ],
   "source": [
    "sumRange(1, 100, 2)"
   ]
  },
  {
   "cell_type": "code",
   "execution_count": 123,
   "metadata": {},
   "outputs": [
    {
     "data": {
      "text/plain": [
       "970"
      ]
     },
     "execution_count": 123,
     "metadata": {},
     "output_type": "execute_result"
    }
   ],
   "source": [
    "sumRange(1, 100, 5)"
   ]
  },
  {
   "cell_type": "markdown",
   "metadata": {},
   "source": [
    "- Keyword argument (`kwargs`) allows to label each arguments passed to the function\n",
    "- This allows for the arguments to be passed in different order"
   ]
  },
  {
   "cell_type": "code",
   "execution_count": 124,
   "metadata": {},
   "outputs": [
    {
     "name": "stdout",
     "output_type": "stream",
     "text": [
      "1717\n"
     ]
    }
   ],
   "source": [
    "theSum = sumRange(last = 100, step = 3, first = 1)\n",
    "print(theSum)"
   ]
  },
  {
   "cell_type": "markdown",
   "metadata": {},
   "source": [
    "### Variable Scope\n",
    "- Variables only exist within the scope they are created\n",
    "- Python has 4 scopes:\n",
    "  - **Local Scope:** Variables created within a function or method\n",
    "    - Exist for the lifetime of the function/method execution\n",
    "    - Each execution of a function creates a new local scope, which is then destroyed when the function terminates\n",
    "  - **Instance Scope:** Variables defined as data attributes of a class\n",
    "    - Exist for the lifetime of the object instance\n",
    "  - **Global Scope:** Variables created at the top level of a source file or module\n",
    "    - Exist for the lifetime of the program\n",
    "  - **Built-in Scope:** Variables and literals from the Python language\n",
    "    - Exist for the lifetime of the program"
   ]
  },
  {
   "cell_type": "markdown",
   "metadata": {},
   "source": [
    "### Main Routine\n",
    "- The primary entry point of all programs\n",
    "- Statements within a function are not executed until the function is called but they are interpreted and converted to byte code as they are read"
   ]
  },
  {
   "cell_type": "code",
   "execution_count": 125,
   "metadata": {},
   "outputs": [
    {
     "name": "stdout",
     "output_type": "stream",
     "text": [
      "Enter a value:55\n",
      "The double of your value is: 110\n"
     ]
    }
   ],
   "source": [
    "def run():\n",
    "    value = int(input(\"Enter a value:\"))\n",
    "    print(\"The double of your value is:\", doubleIt(value))\n",
    "    \n",
    "def doubleIt(num):\n",
    "    return num * 2\n",
    "\n",
    "run()"
   ]
  },
  {
   "cell_type": "markdown",
   "metadata": {},
   "source": [
    "- But this is not the case when calling a function from a statement at file level\n",
    "- If a function is called at file level before the function has been defined, the interpreter does not know about the function and has no way of executing it"
   ]
  },
  {
   "cell_type": "code",
   "execution_count": 126,
   "metadata": {},
   "outputs": [],
   "source": [
    "# callIt(5) #This throws an error: name 'callIt' is not defined\n",
    "\n",
    "def callIt(num):\n",
    "    return pow( num, 2 )"
   ]
  },
  {
   "cell_type": "markdown",
   "metadata": {},
   "source": [
    "- **The order in which functions are listed/defined within a file is not important, but the order of executable statements at file level is.**\n",
    "- It is good programming practice to place all executable statements within functions and specify one function as the driver\n",
    "- The driver is commonly named `main()`\n",
    "  - It can be defined first with the remaining definitions following it"
   ]
  },
  {
   "cell_type": "code",
   "execution_count": 127,
   "metadata": {},
   "outputs": [
    {
     "name": "stdout",
     "output_type": "stream",
     "text": [
      "Dice roll simulation.\n",
      "How many sides should the die have? 6\n",
      "You rolled a 7\n"
     ]
    }
   ],
   "source": [
    "# diceroll.py - simulate the rolling of two dice\n",
    "from random import *\n",
    "\n",
    "# Minimum number of sides on a die.\n",
    "MIN_SIDES = 4\n",
    "\n",
    "# Our very own main routine for a top-down design.\n",
    "def main():\n",
    "    print(\"Dice roll simulation.\")\n",
    "    numSides = int(input(\"How many sides should the die have? \"))\n",
    "    if numSides < MIN_SIDES :\n",
    "        numSides = MIN_SIDES\n",
    "    value = rollDice(numSides)\n",
    "    print(\"You rolled a\", value)\n",
    "\n",
    "# Simulate the rollowing of two nSided dice.\n",
    "def rollDice(nSides):\n",
    "    die1 = randint(1, nSides + 1)\n",
    "    die2 = randint(1, nSides + 1)\n",
    "    return die1 + die2\n",
    "\n",
    "# Call the main routine which we defined first.\n",
    "main()"
   ]
  },
  {
   "cell_type": "code",
   "execution_count": null,
   "metadata": {},
   "outputs": [],
   "source": []
  }
 ],
 "metadata": {
  "kernelspec": {
   "display_name": "Python 3",
   "language": "python",
   "name": "python3"
  },
  "language_info": {
   "codemirror_mode": {
    "name": "ipython",
    "version": 3
   },
   "file_extension": ".py",
   "mimetype": "text/x-python",
   "name": "python",
   "nbconvert_exporter": "python",
   "pygments_lexer": "ipython3",
   "version": "3.8.2"
  },
  "toc": {
   "base_numbering": 1,
   "nav_menu": {},
   "number_sections": true,
   "sideBar": true,
   "skip_h1_title": true,
   "title_cell": "Table of Contents",
   "title_sidebar": "Contents",
   "toc_cell": true,
   "toc_position": {},
   "toc_section_display": true,
   "toc_window_display": true
  }
 },
 "nbformat": 4,
 "nbformat_minor": 4
}
