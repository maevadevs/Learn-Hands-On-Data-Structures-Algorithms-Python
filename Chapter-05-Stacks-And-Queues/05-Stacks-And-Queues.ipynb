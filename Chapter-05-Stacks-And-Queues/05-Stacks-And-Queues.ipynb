{
 "cells": [
  {
   "attachments": {},
   "cell_type": "markdown",
   "metadata": {},
   "source": [
    "# Stacks and Queues\n"
   ]
  },
  {
   "attachments": {},
   "cell_type": "markdown",
   "metadata": {},
   "source": [
    "---\n"
   ]
  },
  {
   "attachments": {},
   "cell_type": "markdown",
   "metadata": {},
   "source": [
    "**Table of contents**<a id='toc0_'></a>\n",
    "\n",
    "-   [Chapter Goals](#toc1_)\n",
    "-   [Stacks](#toc2_)\n",
    "    -   [Operations on Stacks](#toc2_1_)\n",
    "    -   [Usage of Stacks Example](#toc2_2_)\n",
    "        -   [Interpretation](#toc2_2_1_)\n",
    "    -   [Stack Implementation](#toc2_3_)\n",
    "        -   [`push` Operation](#toc2_3_1_)\n",
    "        -   [`pop` Operation](#toc2_3_2_)\n",
    "        -   [`peek` Operation](#toc2_3_3_)\n",
    "    -   [Stack Usage Example: Bracket-Matching](#toc2_4_)\n",
    "    -   [Other Examples of Real-Usage of Stacks](#toc2_5_)\n",
    "-   [Queues](#toc3_)\n",
    "    -   [Implementation 1: Using List-Based Queue](#toc3_1_)\n",
    "        -   [The `enqueue` Operation](#toc3_1_1_)\n",
    "        -   [The `dequeue` Operation](#toc3_1_2_)\n",
    "        -   [Why this impementation is inefficient](#toc3_1_3_)\n",
    "    -   [Implementation 2: Using 2 Simple Stacks-based Queue](#toc3_2_)\n",
    "        -   [The `enqueue` Operation](#toc3_2_1_)\n",
    "        -   [The `dequeue` Operation](#toc3_2_2_)\n",
    "    -   [Implementation 3: Node-Based Queue](#toc3_3_)\n",
    "        -   [The `enqueue` Operation](#toc3_3_1_)\n",
    "        -   [The `dequeue` Operation](#toc3_3_2_)\n",
    "    -   [Application of Queues](#toc3_4_)\n",
    "        -   [Example: Media Player Playlist Queue](#toc3_4_1_)\n",
    "\n",
    "<!-- vscode-jupyter-toc-config\n",
    "\tnumbering=false\n",
    "\tanchor=true\n",
    "\tflat=false\n",
    "\tminLevel=2\n",
    "\tmaxLevel=6\n",
    "\t/vscode-jupyter-toc-config -->\n",
    "<!-- THIS CELL WILL BE REPLACED ON TOC UPDATE. DO NOT WRITE YOUR TEXT IN THIS CELL -->\n"
   ]
  },
  {
   "attachments": {},
   "cell_type": "markdown",
   "metadata": {},
   "source": [
    "---\n"
   ]
  },
  {
   "attachments": {},
   "cell_type": "markdown",
   "metadata": {},
   "source": [
    "-   Stacks and Queues are special linked-list implementations\n",
    "-   Still linear structures\n",
    "-   Implementations using different methods such as `list` and `node`\n"
   ]
  },
  {
   "attachments": {},
   "cell_type": "markdown",
   "metadata": {},
   "source": [
    "## <a id='toc1_'></a>Chapter Goals [&#8593;](#toc0_)\n"
   ]
  },
  {
   "attachments": {},
   "cell_type": "markdown",
   "metadata": {},
   "source": [
    "-   Undertand the concepts of Stacks and Queues\n",
    "-   Implement Stacks and Queues using various methods\n",
    "-   Some real-life examples of application of stacks and queues\n"
   ]
  },
  {
   "attachments": {},
   "cell_type": "markdown",
   "metadata": {},
   "source": [
    "## <a id='toc2_'></a>Stacks [&#8593;](#toc0_)\n"
   ]
  },
  {
   "attachments": {},
   "cell_type": "markdown",
   "metadata": {},
   "source": [
    "-   Data structure that stores data similar to a stack of plates\n",
    "    -   To get the next plate, you get it from the top (the last one that was put on the stack)\n",
    "    -   To add a new plate, you put it on the top (the new one)\n",
    "-   Stack is a **Last-In, First-Out (LIFO)** structure\n",
    "-   Stack is used for function calls: **Callstack**\n",
    "    -   Recursion is only possible thanks to the Callstack\n",
    "    -   Recursion is a special case of Callstack where we call the same function over and over\n"
   ]
  },
  {
   "attachments": {},
   "cell_type": "markdown",
   "metadata": {},
   "source": [
    "### <a id='toc2_1_'></a>Operations on Stacks [&#8593;](#toc0_)\n"
   ]
  },
  {
   "attachments": {},
   "cell_type": "markdown",
   "metadata": {},
   "source": [
    "-   `push` - Add a new element unto the stack\n",
    "-   `pop` - Remove an element from the stack\n",
    "-   `peek` - See the element on top of the stack without popping it\n"
   ]
  },
  {
   "attachments": {},
   "cell_type": "markdown",
   "metadata": {},
   "source": [
    "### <a id='toc2_2_'></a>Usage of Stacks Example [&#8593;](#toc0_)\n"
   ]
  },
  {
   "attachments": {},
   "cell_type": "markdown",
   "metadata": {},
   "source": [
    "-   Callstack\n",
    "    -   Stacks are used for function calls\n",
    "    -   To keep track of return values for each function calls\n",
    "-   Stack is also used to pass argument values between functions\n"
   ]
  },
  {
   "cell_type": "code",
   "execution_count": 1,
   "metadata": {},
   "outputs": [
    {
     "name": "stdout",
     "output_type": "stream",
     "text": [
      "This is from the first() function\n",
      "This is from the second() function\n",
      "--done--\n"
     ]
    }
   ],
   "source": [
    "from typing import Any\n",
    "\n",
    "\n",
    "def second() -> int:\n",
    "    print(\"This is from the second() function\")\n",
    "    return 100\n",
    "\n",
    "\n",
    "def first() -> bool:\n",
    "    print(\"This is from the first() function\")\n",
    "    second()\n",
    "    return True\n",
    "\n",
    "\n",
    "_: Any = first()  # Callstack starts here after executing main()\n",
    "print(\"--done--\")\n"
   ]
  },
  {
   "attachments": {},
   "cell_type": "markdown",
   "metadata": {},
   "source": [
    "#### <a id='toc2_2_1_'></a>Interpretation [&#8593;](#toc0_)\n"
   ]
  },
  {
   "attachments": {},
   "cell_type": "markdown",
   "metadata": {},
   "source": [
    "```python\n",
    "Callstack starts:                             # Clst = []\n",
    "    Execute main()                            # Clst = [main()]\n",
    "        Execute first()                       # Clst = [main(),first()]\n",
    "        Jump to first definition:\n",
    "            Execute second()                  # Clst = [main(),first(),second()]\n",
    "            Jump to second definition:\n",
    "                Executes print()              # Clst = [main(),first(),second(),print()]\n",
    "                Jump to print definition:\n",
    "                    print() returns           # Clst = [main(),first(),second(),None]\n",
    "                print() completes and popped  # Clst = [main(),first(),second()]\n",
    "                second() returns              # Clst = [main(),first(),100]\n",
    "            second() completes and popped     # Clst = [main(),first()]\n",
    "            first() returns                   # Clst = [main(),True]\n",
    "        first() completes and popped          # Clst = [main()]\n",
    "        Executes print()                      # Clst = [main(),print()]\n",
    "        Jump to print definition:\n",
    "            print() returns                   # Clst = [main(),None]\n",
    "        print() completes and popped          # Clst = [main()]\n",
    "        main() returns                        # Clst = [None]\n",
    "    main() completes and popped off           # Clst = []\n",
    "Callstack ends                                # Clst = []\n",
    "```\n"
   ]
  },
  {
   "attachments": {},
   "cell_type": "markdown",
   "metadata": {},
   "source": [
    "### <a id='toc2_3_'></a>Stack Implementation [&#8593;](#toc0_)\n"
   ]
  },
  {
   "attachments": {},
   "cell_type": "markdown",
   "metadata": {},
   "source": [
    "-   Stacks can be implemented using Node structure\n",
    "-   Same principle of Node: Linked together through references/pointers\n"
   ]
  },
  {
   "cell_type": "code",
   "execution_count": 2,
   "metadata": {},
   "outputs": [],
   "source": [
    "from typing import Any, Optional\n",
    "\n",
    "\n",
    "class Node:\n",
    "    \"\"\"Implementation of a One-Direction Node\"\"\"\n",
    "\n",
    "    def __init__(self, data: Optional[Any] = None) -> None:\n",
    "        \"\"\"Initialize a Node object\"\"\"\n",
    "        self.data: Optional[Any] = data\n",
    "        self.next: Optional[\"Node\"] = None\n",
    "\n",
    "    def __str__(self) -> str:\n",
    "        \"\"\"Return the string representation of a Node\"\"\"\n",
    "        return f\"Node({str(self.data)})\"\n",
    "\n",
    "    def __repr__(self) -> str:\n",
    "        \"\"\"Return the string representation of a Node\"\"\"\n",
    "        return f\"Node({str(self.data)})\"\n"
   ]
  },
  {
   "attachments": {},
   "cell_type": "markdown",
   "metadata": {},
   "source": [
    "-   We need 2 things to implement a stack using Node:\n",
    "    -   The node which is at the top of the stack so we can apply `push` and `pop` through this node\n",
    "    -   Keep track of the number of Nodes on the stack\n"
   ]
  },
  {
   "cell_type": "code",
   "execution_count": 3,
   "metadata": {},
   "outputs": [],
   "source": [
    "from typing import Optional\n",
    "\n",
    "\n",
    "class Stack01:\n",
    "    \"\"\"Implementation of a Stack\"\"\"\n",
    "\n",
    "    def __init__(self) -> None:\n",
    "        \"\"\"Initialize a Stack object\"\"\"\n",
    "        self.top: Optional[Node] = None\n",
    "        self.size: int = 0\n"
   ]
  },
  {
   "attachments": {},
   "cell_type": "markdown",
   "metadata": {},
   "source": [
    "#### <a id='toc2_3_1_'></a>`push` Operation [&#8593;](#toc0_)\n"
   ]
  },
  {
   "attachments": {},
   "cell_type": "markdown",
   "metadata": {},
   "source": [
    "-   Used to add element on top of the stack\n",
    "-   First, check if the stack is empty or already have items on it:\n",
    "    -   If the stack already has items:\n",
    "        -   Set the new node's `next` to the current top Node\n",
    "        -   Set the stack's top to the new node\n",
    "        -   Update the stack size\n",
    "    -   If the stack is empty:\n",
    "        -   Set the stack's top to the new node\n",
    "        -   Update the stack size\n"
   ]
  },
  {
   "attachments": {},
   "cell_type": "markdown",
   "metadata": {},
   "source": [
    "**Pseudo-code**\n",
    "\n",
    "```python\n",
    "if stack is not empty:\n",
    "    update: new_node.next -> current_top_node\n",
    "    update: self.top -> new_node\n",
    "    update: stack.size + 1\n",
    "else stack is empty:\n",
    "    update: new_node.next -> None # This is already the default so skip\n",
    "    update: self.top -> new_node\n",
    "    update: stack.size + 1\n",
    "```\n"
   ]
  },
  {
   "attachments": {},
   "cell_type": "markdown",
   "metadata": {},
   "source": [
    "<img src='../files/chap_05/appending-to-stack.png' width=40%>\n"
   ]
  },
  {
   "cell_type": "code",
   "execution_count": 4,
   "metadata": {},
   "outputs": [],
   "source": [
    "from typing import Any, Optional\n",
    "\n",
    "\n",
    "class Stack02:\n",
    "    \"\"\"Implementation of a Stack\"\"\"\n",
    "\n",
    "    def __init__(self) -> None:\n",
    "        \"\"\"Initialize a Stack object\"\"\"\n",
    "        self.top: Optional[Node] = None\n",
    "        self.size: int = 0\n",
    "\n",
    "    def push(self, data: Any) -> None:\n",
    "        \"\"\"Add a new Node on top of the stack\"\"\"\n",
    "        new_node: Node = Node(data)\n",
    "        # Check if the stack is not empty\n",
    "        if self.top:\n",
    "            if new_node:\n",
    "                # Set the \"next\" of the new_node as the current top node\n",
    "                new_node.next = self.top\n",
    "        # Set new_node as top and increase stack size\n",
    "        self.top = new_node\n",
    "        self.size += 1\n"
   ]
  },
  {
   "attachments": {},
   "cell_type": "markdown",
   "metadata": {},
   "source": [
    "#### <a id='toc2_3_2_'></a>`pop` Operation [&#8593;](#toc0_)\n"
   ]
  },
  {
   "attachments": {},
   "cell_type": "markdown",
   "metadata": {},
   "source": [
    "-   Read the top most element of the stack and removes it from the stack\n",
    "-   Returns the top most element from the stack, or returns `None` if the stack is empty\n",
    "-   First, check if the stack is empty or already have some item on it\n",
    "    -   If there are already items:\n",
    "        -   Check if the top node has its next pointer pointing somewhere else\n",
    "            -   If it does, it means there are more elements on the stack\n",
    "                -   Update `self.top` to point to this next node: `self.top = self.top.next`\n",
    "            -   If it does not, it means that there are no more element on the stack\n",
    "                -   Update `self.top` to None\n",
    "            -   Update the size of the stack\n",
    "            -   Return the poped element\n",
    "    -   If the stack is empty, return None\n"
   ]
  },
  {
   "attachments": {},
   "cell_type": "markdown",
   "metadata": {},
   "source": [
    "**Pseudo-code**\n",
    "\n",
    "```python\n",
    "if stack is not empty:\n",
    "    top_element = self.top\n",
    "\n",
    "    if self.top.next -> not None: # more elements on the stack\n",
    "        update: self.top -> self.top.next\n",
    "    else: # no more elements on the stack\n",
    "        update: self.top -> None\n",
    "\n",
    "    update: self.size - 1\n",
    "    return: data in top_element\n",
    "\n",
    "else stack is empty:\n",
    "    return: None\n",
    "```\n"
   ]
  },
  {
   "attachments": {},
   "cell_type": "markdown",
   "metadata": {},
   "source": [
    "<img src='../files/chap_05/popping-from-stack.png' width=40%>\n",
    "<img src='../files/chap_05/popping-from-stack-2.png' width=40%>\n"
   ]
  },
  {
   "cell_type": "code",
   "execution_count": 5,
   "metadata": {},
   "outputs": [],
   "source": [
    "from typing import Any, Optional\n",
    "\n",
    "\n",
    "class Stack03:\n",
    "    \"\"\"Implementation of a Stack\"\"\"\n",
    "\n",
    "    def __init__(self) -> None:\n",
    "        \"\"\"Initialize a Stack object\"\"\"\n",
    "        self.top: Optional[Node] = None\n",
    "        self.size: int = 0\n",
    "\n",
    "    def push(self, data: Any) -> None:\n",
    "        \"\"\"Add a new Node on top of the stack\"\"\"\n",
    "        new_node: Node = Node(data)\n",
    "        # Check if the stack is not empty\n",
    "        if self.top:\n",
    "            if new_node:\n",
    "                # Set the \"next\" of the new_node as the current top node\n",
    "                new_node.next = self.top\n",
    "        # Set new_node as top and increase stack size\n",
    "        self.top = new_node\n",
    "        self.size += 1\n",
    "\n",
    "    def pop(self) -> Optional[Any]:\n",
    "        \"\"\"Remove and return the Node on top of the Stack\"\"\"\n",
    "        # Check if the stack is not empty\n",
    "        if self.top:\n",
    "            # Save the data to return\n",
    "            data_to_return: Any = self.top.data\n",
    "            # Check if there are more element after this one\n",
    "            if self.top.next:\n",
    "                # Point self.top to the next element\n",
    "                self.top = self.top.next\n",
    "            else:\n",
    "                # There are no more element on the stack\n",
    "                self.top = None\n",
    "            # Decrease the size\n",
    "            self.size -= 1\n",
    "            # Return the poped element\n",
    "            return data_to_return\n",
    "        # If here, then the stack is empty\n",
    "        return None\n"
   ]
  },
  {
   "attachments": {},
   "cell_type": "markdown",
   "metadata": {},
   "source": [
    "#### <a id='toc2_3_3_'></a>`peek` Operation [&#8593;](#toc0_)\n"
   ]
  },
  {
   "attachments": {},
   "cell_type": "markdown",
   "metadata": {},
   "source": [
    "-   Returns the value of the top element of the stack without popping the element off the stack\n",
    "-   Very similar to `pop` but does not remove the Node\n",
    "-   Very straightforward: If there is a top element, just return its data. Otherwise, `None`\n"
   ]
  },
  {
   "cell_type": "code",
   "execution_count": 6,
   "metadata": {},
   "outputs": [],
   "source": [
    "from typing import Any, Optional\n",
    "\n",
    "\n",
    "class Stack:\n",
    "    \"\"\"Implementation of a Stack\"\"\"\n",
    "\n",
    "    def __init__(self) -> None:\n",
    "        \"\"\"Initialize a Stack object\"\"\"\n",
    "        self.top: Optional[Node] = None\n",
    "        self.size: int = 0\n",
    "\n",
    "    def push(self, data: Any) -> None:\n",
    "        \"\"\"Add a new Node on top of the stack\"\"\"\n",
    "        new_node: Node = Node(data)\n",
    "        # Check if the stack is not empty\n",
    "        if self.top:\n",
    "            if new_node:\n",
    "                # Set the \"next\" of the new_node as the current top node\n",
    "                new_node.next = self.top\n",
    "        # Set new_node as top and increase stack size\n",
    "        self.top = new_node\n",
    "        self.size += 1\n",
    "\n",
    "    def pop(self) -> Optional[Any]:\n",
    "        \"\"\"Remove and return the Node on top of the Stack\"\"\"\n",
    "        # Check if the stack is not empty\n",
    "        if self.top:\n",
    "            # Save the data to return\n",
    "            data_to_return: Any = self.top.data\n",
    "            # Check if there are more element after this one\n",
    "            if self.top.next:\n",
    "                # Point self.top to the next element\n",
    "                self.top = self.top.next\n",
    "            else:\n",
    "                # There are no more element on the stack\n",
    "                self.top = None\n",
    "            # Decrease the size\n",
    "            self.size -= 1\n",
    "            # Return the poped element\n",
    "            return data_to_return\n",
    "        # If here, then the stack is empty\n",
    "        return None\n",
    "\n",
    "    def peek(self) -> Optional[Any]:\n",
    "        \"\"\"Check the Node on top of the Stack\"\"\"\n",
    "        # Check if the stack is not empty\n",
    "        if self.top:\n",
    "            # Return its data\n",
    "            return self.top.data\n",
    "        # If here, then the stack is empty\n",
    "        return None\n"
   ]
  },
  {
   "attachments": {},
   "cell_type": "markdown",
   "metadata": {},
   "source": [
    "### <a id='toc2_4_'></a>Stack Usage Example: Bracket-Matching [&#8593;](#toc0_)\n"
   ]
  },
  {
   "attachments": {},
   "cell_type": "markdown",
   "metadata": {},
   "source": [
    "-   Write a function that verify whether a statement containing brackets `{`, `[`, or `(` is balanced\n",
    "-   Check if the number of opening and closing brackets match\n"
   ]
  },
  {
   "cell_type": "code",
   "execution_count": 7,
   "metadata": {},
   "outputs": [],
   "source": [
    "def is_balanced_brackets(statement: str = \"\") -> bool:\n",
    "    \"\"\"Check brackets in a string and validate if they all have their matches\"\"\"\n",
    "    # Apply string cleaning on statement\n",
    "    statement = statement.strip()\n",
    "    # Shortcut for empty statement\n",
    "    if len(statement) == 0:\n",
    "        return True\n",
    "    # New stack for brackets\n",
    "    stack: Stack = Stack()\n",
    "    # Start looping through statement\n",
    "    for char in statement:\n",
    "        # For opening brackets, push to the stack\n",
    "        if char in (\"{\", \"[\", \"(\"):\n",
    "            stack.push(char)\n",
    "        # For closing brackets, pop from the stack and compare\n",
    "        if char in (\"}\", \"]\", \")\"):\n",
    "            last = stack.pop()\n",
    "            # Make sure to match\n",
    "            if last == \"{\" and char == \"}\":\n",
    "                continue\n",
    "            elif last == \"[\" and char == \"]\":\n",
    "                continue\n",
    "            elif last == \"(\" and char == \")\":\n",
    "                continue\n",
    "            else:\n",
    "                # If no match, then break and return early\n",
    "                return False\n",
    "    # If here and the stack is not empty, no match\n",
    "    if stack.size > 0:\n",
    "        return False\n",
    "    # If still here, then all brackets have their match\n",
    "    return True\n"
   ]
  },
  {
   "cell_type": "code",
   "execution_count": 8,
   "metadata": {},
   "outputs": [
    {
     "name": "stdout",
     "output_type": "stream",
     "text": [
      "{(foo)(bar)}[hello](((this)is)a)test: True\n",
      "{(foo)(bar)}[hello](((this)is)atest: False\n",
      "{(foo)(bar)}[hello](((this)is)a)test)): False\n"
     ]
    }
   ],
   "source": [
    "strings: tuple[str, ...] = (\n",
    "    \"{(foo)(bar)}[hello](((this)is)a)test\",\n",
    "    \"{(foo)(bar)}[hello](((this)is)atest\",\n",
    "    \"{(foo)(bar)}[hello](((this)is)a)test))\",\n",
    ")\n",
    "for st in strings:\n",
    "    print(f\"{st}: {is_balanced_brackets(st)}\")\n"
   ]
  },
  {
   "attachments": {},
   "cell_type": "markdown",
   "metadata": {},
   "source": [
    "### <a id='toc2_5_'></a>Other Examples of Real-Usage of Stacks [&#8593;](#toc0_)\n"
   ]
  },
  {
   "attachments": {},
   "cell_type": "markdown",
   "metadata": {},
   "source": [
    "-   Backward and Forward buttons of Web Browsers\n",
    "-   Undo and Redo buttons of Word Processors\n",
    "-   Anything that implements a LIFO structure\n"
   ]
  },
  {
   "attachments": {},
   "cell_type": "markdown",
   "metadata": {},
   "source": [
    "## <a id='toc3_'></a>Queues [&#8593;](#toc0_)\n"
   ]
  },
  {
   "attachments": {},
   "cell_type": "markdown",
   "metadata": {},
   "source": [
    "-   Another special type of list\n",
    "-   Very fundamental: Many data structures are built on top of them\n",
    "-   Queue is a **First-In, First-Out (FIFO)** Structure\n",
    "-   Example of a queue is people standing in line for a service\n",
    "-   There are different implementations of a queue but they revolve around the same concept of FIFO\n",
    "-   2 principal operations:\n",
    "    -   _enqueue_ - Operation to add an element to the queue\n",
    "    -   _dequeue_ - Operation to remove an element from the queue\n"
   ]
  },
  {
   "attachments": {},
   "cell_type": "markdown",
   "metadata": {},
   "source": [
    "| Operation    | Result                                    |\n",
    "| :----------- | :---------------------------------------- |\n",
    "| `Queue()`    | `Queue size == 0`, `Contents == []`       |\n",
    "| `Enqueue(x)` | `Queue Size == 1`, `Contents == [x]`      |\n",
    "| `Enqueue(y)` | `Queue Size = 2`, `Contents == [x, y]`    |\n",
    "| `Enqueue(z)` | `Queue Size = 3`, `Contents == [x, y, z]` |\n",
    "| `Size()`     | `3`                                       |\n",
    "| `Dequeue()`  | `x`, `Queue Size == 2`                    |\n",
    "| `Dequeue()`  | `y`, `Queue Size == 1`                    |\n",
    "| `Dequeue()`  | `z`, `Queue Size == 0`                    |\n"
   ]
  },
  {
   "attachments": {},
   "cell_type": "markdown",
   "metadata": {},
   "source": [
    "-   Queues can be implemented using\n",
    "    -   List\n",
    "    -   Stack\n",
    "    -   Node\n"
   ]
  },
  {
   "attachments": {},
   "cell_type": "markdown",
   "metadata": {},
   "source": [
    "### <a id='toc3_1_'></a>Implementation 1: Using List-Based Queue [&#8593;](#toc0_)\n"
   ]
  },
  {
   "attachments": {},
   "cell_type": "markdown",
   "metadata": {},
   "source": [
    "This is to help us quickly learn about Queues\n"
   ]
  },
  {
   "cell_type": "code",
   "execution_count": 9,
   "metadata": {},
   "outputs": [],
   "source": [
    "from typing import Any\n",
    "\n",
    "\n",
    "class ListQueue01:\n",
    "    \"\"\"Implementation of a Stack using List\"\"\"\n",
    "\n",
    "    def __init__(self) -> None:\n",
    "        \"\"\"Create a new Queue object\"\"\"\n",
    "        # The queue is empty when created\n",
    "        self.items: list[Any] = []\n",
    "        self.size: int = 0\n"
   ]
  },
  {
   "attachments": {},
   "cell_type": "markdown",
   "metadata": {},
   "source": [
    "#### <a id='toc3_1_1_'></a>The `enqueue` Operation [&#8593;](#toc0_)\n"
   ]
  },
  {
   "attachments": {},
   "cell_type": "markdown",
   "metadata": {},
   "source": [
    "-   Using `list.insert()`\n",
    "-   This will allow to shift the elements each time we add a new element\n",
    "-   The new item must always be inserted at index `0`\n",
    "    -   Queue Direction: `new_item -> Queue[entry[0], exit[n]] -> pop(n)`\n",
    "-   **The array index `0` is the only place where new data elements are inserted into the queue**\n"
   ]
  },
  {
   "cell_type": "code",
   "execution_count": 10,
   "metadata": {},
   "outputs": [],
   "source": [
    "from typing import Any\n",
    "\n",
    "\n",
    "class ListQueue02:\n",
    "    \"\"\"Implementation of a Stack using List\"\"\"\n",
    "\n",
    "    def __init__(self) -> None:\n",
    "        \"\"\"Create a new Queue object\"\"\"\n",
    "        # The queue is empty when created\n",
    "        self.items: list[Any] = []\n",
    "        self.size: int = 0\n",
    "\n",
    "    def enqueue(self, data: Any) -> None:\n",
    "        \"\"\"Add a new element to the queue\"\"\"\n",
    "        # Always insert items at index 0\n",
    "        self.items.insert(0, data)\n",
    "        # Increment the size of the queue by 1\n",
    "        self.size += 1\n"
   ]
  },
  {
   "attachments": {},
   "cell_type": "markdown",
   "metadata": {},
   "source": [
    "#### <a id='toc3_1_2_'></a>The `dequeue` Operation [&#8593;](#toc0_)\n"
   ]
  },
  {
   "attachments": {},
   "cell_type": "markdown",
   "metadata": {},
   "source": [
    "-   Based on `list.pop()`\n"
   ]
  },
  {
   "cell_type": "code",
   "execution_count": 11,
   "metadata": {},
   "outputs": [],
   "source": [
    "from typing import Any, Optional\n",
    "\n",
    "\n",
    "class ListQueue:\n",
    "    \"\"\"Implementation of a Stack using List\"\"\"\n",
    "\n",
    "    def __init__(self) -> None:\n",
    "        \"\"\"Create a new Queue object\"\"\"\n",
    "        # The queue is empty when created\n",
    "        self.items: list[Any] = []\n",
    "        self.size: int = 0\n",
    "\n",
    "    def enqueue(self, data: Any) -> None:\n",
    "        \"\"\"Add a new element to the queue\"\"\"\n",
    "        # Always insert items at index 0\n",
    "        self.items.insert(0, data)\n",
    "        # Increment the size of the queue by 1\n",
    "        self.size += 1\n",
    "\n",
    "    def dequeue(self) -> Optional[Any]:\n",
    "        \"\"\"Remove an element from the queue\"\"\"\n",
    "        # Return None if the list is empty\n",
    "        data: Optional[Any] = None\n",
    "        # Only do operations if the list is not empty\n",
    "        if self.size > 0:\n",
    "            # Delete the topmost item from the queue\n",
    "            data = self.items.pop()\n",
    "            # Decrement the size of the queue by 1\n",
    "            self.size -= 1\n",
    "        # Return the topmost item from the queue, or None\n",
    "        return data\n"
   ]
  },
  {
   "attachments": {},
   "cell_type": "markdown",
   "metadata": {},
   "source": [
    "#### <a id='toc3_1_3_'></a>Why this impementation is inefficient [&#8593;](#toc0_)\n"
   ]
  },
  {
   "attachments": {},
   "cell_type": "markdown",
   "metadata": {},
   "source": [
    "-   The `enqueue()`method has to first shift all the elements by one space for each operation\n",
    "-   This has a time complexity of `O(n)`\n",
    "-   This makes the `enqueue` operation slow for large lists\n"
   ]
  },
  {
   "attachments": {},
   "cell_type": "markdown",
   "metadata": {},
   "source": [
    "### <a id='toc3_2_'></a>Implementation 2: Using 2 Simple Stacks-based Queue [&#8593;](#toc0_)\n"
   ]
  },
  {
   "attachments": {},
   "cell_type": "markdown",
   "metadata": {},
   "source": [
    "-   Using 2 stacks\n",
    "-   `inbound_stack` is only used for adding incoming elements to the queue and nothing else\n",
    "-   `outbound_stack` is only used for returning elements from the queue and nothing else\n",
    "-   _Note_: We call it _stack-based_ but it is still implemented using lists\n"
   ]
  },
  {
   "cell_type": "code",
   "execution_count": 12,
   "metadata": {},
   "outputs": [],
   "source": [
    "from typing import Any\n",
    "\n",
    "\n",
    "class StackQueue01:\n",
    "    \"\"\"Implementation of a Queue using Stack\"\"\"\n",
    "\n",
    "    def __init__(self) -> None:\n",
    "        \"\"\"Create a new Queue object\"\"\"\n",
    "        self.inbound_stack: list[Any] = []\n",
    "        self.outbound_stack: list[Any] = []\n",
    "        self.size: int = 0\n"
   ]
  },
  {
   "attachments": {},
   "cell_type": "markdown",
   "metadata": {},
   "source": [
    "#### <a id='toc3_2_1_'></a>The `enqueue` Operation [&#8593;](#toc0_)\n"
   ]
  },
  {
   "cell_type": "code",
   "execution_count": 13,
   "metadata": {},
   "outputs": [],
   "source": [
    "from typing import Any\n",
    "\n",
    "\n",
    "class StackQueue02:\n",
    "    \"\"\"Implementation of a Queue using Stack\"\"\"\n",
    "\n",
    "    def __init__(self) -> None:\n",
    "        \"\"\"Create a new Queue object\"\"\"\n",
    "        self.inbound_stack: list[Any] = []\n",
    "        self.outbound_stack: list[Any] = []\n",
    "        self.size: int = 0\n",
    "\n",
    "    def enqueue(self, data: Any) -> None:\n",
    "        \"\"\"Add a new element to the queue\"\"\"\n",
    "        # Add to the inbound stack\n",
    "        self.inbound_stack.append(data)\n",
    "        # Increase the size\n",
    "        self.size += 1\n"
   ]
  },
  {
   "attachments": {},
   "cell_type": "markdown",
   "metadata": {},
   "source": [
    "#### <a id='toc3_2_2_'></a>The `dequeue` Operation [&#8593;](#toc0_)\n"
   ]
  },
  {
   "attachments": {},
   "cell_type": "markdown",
   "metadata": {},
   "source": [
    "-   New elements added to the queue are added to the `inbound_stack`\n",
    "-   Instead of removing directly from this list, we now shift the attention to the `outbound_stack`\n",
    "    -   Before removing elements, we move all the elements from the `inbound_stack` to the `outbound_stack`\n",
    "    -   This has the effect of reversing the order of the elements from one stack to the next\n",
    "    -   Remember that a stack only has one point of entry and one point of exit (in this case, the end of the list)\n",
    "-   We only delete elements from the Queue through this stack\n"
   ]
  },
  {
   "attachments": {},
   "cell_type": "markdown",
   "metadata": {},
   "source": [
    "**Pseudo-code**\n",
    "\n",
    "```python\n",
    "if outbound_stack is empty:\n",
    "    while len(inbound_stack) > 0:\n",
    "        inbound_stack.pop() -> outbound_stack\n",
    "else:\n",
    "    outbound_stack.pop()\n",
    "```\n"
   ]
  },
  {
   "cell_type": "code",
   "execution_count": 14,
   "metadata": {},
   "outputs": [],
   "source": [
    "from typing import Any, Optional\n",
    "\n",
    "\n",
    "class StackQueue:\n",
    "    \"\"\"Implementation of a Queue using Stack\"\"\"\n",
    "\n",
    "    def __init__(self) -> None:\n",
    "        \"\"\"Create a new Queue object\"\"\"\n",
    "        self.inbound_stack: list[Any] = []\n",
    "        self.outbound_stack: list[Any] = []\n",
    "        self.size: int = 0\n",
    "\n",
    "    def enqueue(self, data: Any) -> None:\n",
    "        \"\"\"Add a new element to the queue\"\"\"\n",
    "        # Add to the inbound stack\n",
    "        self.inbound_stack.append(data)\n",
    "        # Increase the size\n",
    "        self.size += 1\n",
    "\n",
    "    def dequeue(self) -> Optional[Any]:\n",
    "        \"\"\"Remove an element from the queue\"\"\"\n",
    "        # If the size is 0, then the Queue is empty\n",
    "        if self.size == 0:\n",
    "            return None\n",
    "        # If the outbound_stack is empty, replenish once from the inbound stack in reverse order\n",
    "        if len(self.outbound_stack) == 0:\n",
    "            while self.inbound_stack:\n",
    "                self.outbound_stack.append(self.inbound_stack.pop())\n",
    "        # If the outbound_stack is not empty, get the last item (now in reversed order)\n",
    "        data: Optional[Any] = self.outbound_stack.pop()\n",
    "        # Decrease the size\n",
    "        self.size -= 1\n",
    "        # Return the data\n",
    "        return data\n"
   ]
  },
  {
   "cell_type": "code",
   "execution_count": 15,
   "metadata": {},
   "outputs": [
    {
     "name": "stdout",
     "output_type": "stream",
     "text": [
      "[5, 6, 7]\n"
     ]
    }
   ],
   "source": [
    "q: StackQueue = StackQueue()\n",
    "q.enqueue(5)\n",
    "q.enqueue(6)\n",
    "q.enqueue(7)\n",
    "print(q.inbound_stack)\n"
   ]
  },
  {
   "cell_type": "code",
   "execution_count": 16,
   "metadata": {},
   "outputs": [
    {
     "name": "stdout",
     "output_type": "stream",
     "text": [
      "5\n",
      "[]\n",
      "[7, 6]\n"
     ]
    }
   ],
   "source": [
    "print(q.dequeue())\n",
    "print(q.inbound_stack)\n",
    "print(q.outbound_stack)\n"
   ]
  },
  {
   "cell_type": "code",
   "execution_count": 17,
   "metadata": {},
   "outputs": [
    {
     "name": "stdout",
     "output_type": "stream",
     "text": [
      "6\n",
      "[7]\n",
      "7\n",
      "[]\n",
      "None\n"
     ]
    }
   ],
   "source": [
    "print(q.dequeue())\n",
    "print(q.outbound_stack)\n",
    "print(q.dequeue())\n",
    "print(q.outbound_stack)\n",
    "print(q.dequeue())\n"
   ]
  },
  {
   "attachments": {},
   "cell_type": "markdown",
   "metadata": {},
   "source": [
    "This implementation is better but can still be inefficient\n",
    "\n",
    "-   The step of moving from one stack to another can be `O(n)`\n",
    "\n",
    "**Implementing a queue with two stacks is very important and questions about this are often posed during interviews.**\n",
    "\n",
    "-   Think of this technique as a man doing backflips:\n",
    "    -   Odd number of stack axes (1) will make the order of entry into LIFO: Backflip starting from feet, ending on hands\n",
    "    -   Even number of stack axes (2) will flip the order of entry into FIFO: Backflip starting from feet, to hand, to feet again\n"
   ]
  },
  {
   "attachments": {},
   "cell_type": "markdown",
   "metadata": {},
   "source": [
    "### <a id='toc3_3_'></a>Implementation 3: Node-Based Queue [&#8593;](#toc0_)\n"
   ]
  },
  {
   "attachments": {},
   "cell_type": "markdown",
   "metadata": {},
   "source": [
    "-   **A queue can be implemented using a doubly-linked list**\n",
    "-   Insertion and deletion operations on this data structure has a time complexity of `O(1)`\n",
    "-   A doubly-linked list can be considered a queue if it enables a FIFO data access\n"
   ]
  },
  {
   "cell_type": "code",
   "execution_count": 18,
   "metadata": {},
   "outputs": [],
   "source": [
    "from typing import Any, Optional\n",
    "\n",
    "\n",
    "class NodeTwo:\n",
    "    \"\"\"Implementation of a Two-Direction Node\"\"\"\n",
    "\n",
    "    def __init__(\n",
    "        self,\n",
    "        data: Optional[Any] = None,\n",
    "        nxt: Optional[\"NodeTwo\"] = None,\n",
    "        previous: Optional[\"NodeTwo\"] = None,\n",
    "    ) -> None:\n",
    "        \"\"\"Initialize a Node object\"\"\"\n",
    "        self.data: Optional[Any] = data\n",
    "        self.nxt: Optional[\"NodeTwo\"] = nxt\n",
    "        self.previous: Optional[\"NodeTwo\"] = previous\n",
    "\n",
    "    def __str__(self) -> str:\n",
    "        \"\"\"Return the string representation of a Node\"\"\"\n",
    "        return f\"Node({str(self.data)})\"\n",
    "\n",
    "    def __repr__(self) -> str:\n",
    "        \"\"\"Return the string representation of a Node\"\"\"\n",
    "        return f\"Node({str(self.data)})\"\n"
   ]
  },
  {
   "cell_type": "code",
   "execution_count": 19,
   "metadata": {},
   "outputs": [],
   "source": [
    "from typing import Optional\n",
    "\n",
    "\n",
    "class LinkedListQueue01:\n",
    "    \"\"\"Implementation of a Queue using Doubly-Linked List\"\"\"\n",
    "\n",
    "    def __init__(self) -> None:\n",
    "        \"\"\"Initialize a LinkedListQueue object\"\"\"\n",
    "        self.head: Optional[\"NodeTwo\"] = None\n",
    "        self.tail: Optional[\"NodeTwo\"] = None\n",
    "        self.size: int = 0\n"
   ]
  },
  {
   "attachments": {},
   "cell_type": "markdown",
   "metadata": {},
   "source": [
    "#### <a id='toc3_3_1_'></a>The `enqueue` Operation [&#8593;](#toc0_)\n"
   ]
  },
  {
   "attachments": {},
   "cell_type": "markdown",
   "metadata": {},
   "source": [
    "-   The elements/data are added through a `Node`\n",
    "-   Very similar to the `append` method of the doubly-linked list\n"
   ]
  },
  {
   "cell_type": "code",
   "execution_count": 20,
   "metadata": {},
   "outputs": [],
   "source": [
    "from typing import Any, Optional\n",
    "\n",
    "\n",
    "class LinkedListQueue02:\n",
    "    \"\"\"Implementation of a Queue using Doubly-Linked List\"\"\"\n",
    "\n",
    "    def __init__(self) -> None:\n",
    "        \"\"\"Initialize a LinkedListQueue object\"\"\"\n",
    "        self.head: Optional[\"NodeTwo\"] = None\n",
    "        self.tail: Optional[\"NodeTwo\"] = None\n",
    "        self.size: int = 0\n",
    "\n",
    "    def enqueue(self, data: Any) -> None:\n",
    "        \"\"\"Add an element to the queue\"\"\"\n",
    "        # Encapsulate the data into a Node class\n",
    "        # Default next is None - Default previous is None\n",
    "        new_node: Optional[NodeTwo] = NodeTwo(data)\n",
    "        # Check if there are already data in the list\n",
    "        if self.head and self.tail:\n",
    "            # The list is not empty\n",
    "            if new_node:\n",
    "                new_node.previous = self.tail\n",
    "                self.tail.nxt = new_node\n",
    "                self.tail = new_node\n",
    "        else:\n",
    "            # The list is initially empty\n",
    "            self.head = new_node\n",
    "            self.tail = new_node\n",
    "        # Increase the size of the Queue\n",
    "        self.size += 1\n"
   ]
  },
  {
   "attachments": {},
   "cell_type": "markdown",
   "metadata": {},
   "source": [
    "#### <a id='toc3_3_2_'></a>The `dequeue` Operation [&#8593;](#toc0_)\n"
   ]
  },
  {
   "attachments": {},
   "cell_type": "markdown",
   "metadata": {},
   "source": [
    "-   Remove the node at the front of the queue\n",
    "-   Since Doubly-Linked list can be accessed from either end, this is an easy step\n"
   ]
  },
  {
   "cell_type": "code",
   "execution_count": 21,
   "metadata": {},
   "outputs": [],
   "source": [
    "from typing import Any, Optional\n",
    "\n",
    "\n",
    "class LinkedListQueue:\n",
    "    \"\"\"Implementation of a Queue using Doubly-Linked List\"\"\"\n",
    "\n",
    "    def __init__(self) -> None:\n",
    "        \"\"\"Initialize a LinkedListQueue object\"\"\"\n",
    "        self.head: Optional[\"NodeTwo\"] = None\n",
    "        self.tail: Optional[\"NodeTwo\"] = None\n",
    "        self.size: int = 0\n",
    "\n",
    "    def enqueue(self, data: Any) -> None:\n",
    "        \"\"\"Add an element to the queue\"\"\"\n",
    "        # Encapsulate the data into a Node class\n",
    "        # Default nxt is None - Default previous is None\n",
    "        new_node: Optional[NodeTwo] = NodeTwo(data)\n",
    "        # Check if there are already data in the list\n",
    "        if self.head and self.tail:\n",
    "            # The list is not empty\n",
    "            if new_node:\n",
    "                new_node.previous = self.tail\n",
    "                self.tail.nxt = new_node\n",
    "                self.tail = new_node\n",
    "        else:\n",
    "            # The list is initially empty\n",
    "            self.head = new_node\n",
    "            self.tail = new_node\n",
    "        # Increase the size of the Queue\n",
    "        self.size += 1\n",
    "\n",
    "    def dequeue(self) -> Optional[NodeTwo]:\n",
    "        \"\"\"Remove an element from the queue\"\"\"\n",
    "        # Get the first Node\n",
    "        current: Optional[NodeTwo] = self.head\n",
    "        # Check if this is the last Node of the list\n",
    "        if self.size == 1:\n",
    "            self.head = None\n",
    "            self.tail = None\n",
    "        # If not last element, handle the switch of position\n",
    "        else:\n",
    "            if self.head:\n",
    "                self.head = self.head.nxt\n",
    "            if self.head:\n",
    "                self.head.previous = None\n",
    "        # Decrease the size of the Queue\n",
    "        self.size -= 1\n",
    "        # Return the Node\n",
    "        return current\n"
   ]
  },
  {
   "attachments": {},
   "cell_type": "markdown",
   "metadata": {},
   "source": [
    "### <a id='toc3_4_'></a>Application of Queues [&#8593;](#toc0_)\n"
   ]
  },
  {
   "attachments": {},
   "cell_type": "markdown",
   "metadata": {},
   "source": [
    "-   Printer Job Pooling\n",
    "-   CPU Task Execution\n",
    "-   Media Player Playlist Queues\n"
   ]
  },
  {
   "attachments": {},
   "cell_type": "markdown",
   "metadata": {},
   "source": [
    "#### <a id='toc3_4_1_'></a>Example: Media Player Playlist Queue [&#8593;](#toc0_)\n"
   ]
  },
  {
   "attachments": {},
   "cell_type": "markdown",
   "metadata": {},
   "source": [
    "-   Our media player queue will only allow for the addition of tracks and a way to play all the tracks in the queue\n",
    "-   In a full-blown music player, threads would be used to improve how the queue is interacted with\n",
    "-   The music player continues to be used to select the next song to be played, paused, or even stopped\n"
   ]
  },
  {
   "cell_type": "code",
   "execution_count": 22,
   "metadata": {},
   "outputs": [],
   "source": [
    "from random import randint\n",
    "from typing import Optional\n",
    "\n",
    "\n",
    "class MPTrack:\n",
    "    \"\"\"Implementation of a Media Player Track\"\"\"\n",
    "\n",
    "    def __init__(self, title: Optional[str] = None) -> None:\n",
    "        self.title: Optional[str] = title\n",
    "        self.length: int = randint(1, 5)  # length in seconds (for testing)\n"
   ]
  },
  {
   "cell_type": "code",
   "execution_count": 23,
   "metadata": {},
   "outputs": [
    {
     "name": "stdout",
     "output_type": "stream",
     "text": [
      "Current Playlist:\n",
      "1. white whistle: 1s\n",
      "2. butter butter: 3s\n"
     ]
    }
   ],
   "source": [
    "trackA: MPTrack = MPTrack(\"white whistle\")\n",
    "trackB: MPTrack = MPTrack(\"butter butter\")\n",
    "tracks: list[MPTrack] = []\n",
    "\n",
    "tracks.append(trackA)\n",
    "tracks.append(trackB)\n",
    "\n",
    "print(\"Current Playlist:\")\n",
    "for i, track in enumerate(tracks):\n",
    "    print(f\"{i+1}. {track.title}: {track.length}s\")\n"
   ]
  },
  {
   "cell_type": "code",
   "execution_count": 24,
   "metadata": {},
   "outputs": [],
   "source": [
    "import time\n",
    "from typing import Optional\n",
    "\n",
    "\n",
    "class MPPlaylist(LinkedListQueue):  # Inherit from Queue class\n",
    "    \"\"\"Implementation of a Media Player Playlist of Tracks queue\"\"\"\n",
    "\n",
    "    def __init__(self) -> None:\n",
    "        # Call the init method of LinkedListQueue as subclass MediaPlayerQueue\n",
    "        # super(subClass, instance).method(args)\n",
    "        super(MPPlaylist, self).__init__()\n",
    "\n",
    "    def add_track(self, track: MPTrack) -> None:\n",
    "        \"\"\"Add a track to the MediaPlayerQueue\"\"\"\n",
    "        self.enqueue(track)\n",
    "\n",
    "    def play(self) -> None:\n",
    "        \"\"\"Play a track from the MediaPlayerQueue\"\"\"\n",
    "        while self.size > 0:\n",
    "            current_track_node: Optional[NodeTwo] = self.dequeue()\n",
    "            if current_track_node and current_track_node.data:\n",
    "                print(f'Now playing \"{current_track_node.data.title}\"')\n",
    "                # Halt the execution of the loop while song plays\n",
    "                time.sleep(current_track_node.data.length)\n"
   ]
  },
  {
   "cell_type": "code",
   "execution_count": 25,
   "metadata": {},
   "outputs": [
    {
     "name": "stdout",
     "output_type": "stream",
     "text": [
      "Now playing \"white whistle\"\n",
      "Now playing \"butter butter\"\n",
      "Now playing \"Oh black star\"\n",
      "Now playing \"Watch that chicken\"\n",
      "Now playing \"Don't go\"\n"
     ]
    }
   ],
   "source": [
    "track1: MPTrack = MPTrack(\"white whistle\")\n",
    "track2: MPTrack = MPTrack(\"butter butter\")\n",
    "track3: MPTrack = MPTrack(\"Oh black star\")\n",
    "track4: MPTrack = MPTrack(\"Watch that chicken\")\n",
    "track5: MPTrack = MPTrack(\"Don't go\")\n",
    "\n",
    "media_player: MPPlaylist = MPPlaylist()\n",
    "\n",
    "media_player.add_track(track1)\n",
    "media_player.add_track(track2)\n",
    "media_player.add_track(track3)\n",
    "media_player.add_track(track4)\n",
    "media_player.add_track(track5)\n",
    "\n",
    "media_player.play()\n"
   ]
  }
 ],
 "metadata": {
  "hide_input": false,
  "kernelspec": {
   "display_name": "Python 3 (ipykernel)",
   "language": "python",
   "name": "python3"
  },
  "language_info": {
   "codemirror_mode": {
    "name": "ipython",
    "version": 3
   },
   "file_extension": ".py",
   "mimetype": "text/x-python",
   "name": "python",
   "nbconvert_exporter": "python",
   "pygments_lexer": "ipython3",
   "version": "3.11.3"
  },
  "toc": {
   "base_numbering": 1,
   "nav_menu": {},
   "number_sections": true,
   "sideBar": true,
   "skip_h1_title": true,
   "title_cell": "Table of Contents",
   "title_sidebar": "Contents",
   "toc_cell": true,
   "toc_position": {},
   "toc_section_display": true,
   "toc_window_display": true
  },
  "varInspector": {
   "cols": {
    "lenName": 16,
    "lenType": 16,
    "lenVar": 40
   },
   "kernels_config": {
    "python": {
     "delete_cmd_postfix": "",
     "delete_cmd_prefix": "del ",
     "library": "var_list.py",
     "varRefreshCmd": "print(var_dic_list())"
    },
    "r": {
     "delete_cmd_postfix": ") ",
     "delete_cmd_prefix": "rm(",
     "library": "var_list.r",
     "varRefreshCmd": "cat(var_dic_list()) "
    }
   },
   "types_to_exclude": [
    "module",
    "function",
    "builtin_function_or_method",
    "instance",
    "_Feature"
   ],
   "window_display": false
  }
 },
 "nbformat": 4,
 "nbformat_minor": 4
}
