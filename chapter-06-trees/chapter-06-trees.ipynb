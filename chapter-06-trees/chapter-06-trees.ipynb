{
 "cells": [
  {
   "cell_type": "markdown",
   "metadata": {
    "toc": true
   },
   "source": [
    "<h1>Table of Contents<span class=\"tocSkip\"></span></h1>\n",
    "<div class=\"toc\"><ul class=\"toc-item\"><li><span><a href=\"#Chapter-Goals\" data-toc-modified-id=\"Chapter-Goals-1\"><span class=\"toc-item-num\">1&nbsp;&nbsp;</span>Chapter Goals</a></span></li><li><span><a href=\"#Terminology\" data-toc-modified-id=\"Terminology-2\"><span class=\"toc-item-num\">2&nbsp;&nbsp;</span>Terminology</a></span></li><li><span><a href=\"#Tree-Nodes\" data-toc-modified-id=\"Tree-Nodes-3\"><span class=\"toc-item-num\">3&nbsp;&nbsp;</span>Tree Nodes</a></span></li></ul></div>"
   ]
  },
  {
   "cell_type": "markdown",
   "metadata": {},
   "source": [
    "- Hierarchical form of data structure\n",
    "- Parent-child relationships between the elements\n",
    "- *Root Node*: The top of the tree, the ancestor of all nodes\n",
    "- There are many applications for Tree Data Structures\n",
    "  - Parsing expressions\n",
    "  - Searches\n",
    "  - Storing data\n",
    "  - Manipulating data\n",
    "  - Sorting\n",
    "  - Priority queues\n",
    "  - Document format: HTML, XML"
   ]
  },
  {
   "cell_type": "markdown",
   "metadata": {},
   "source": [
    "## Chapter Goals"
   ]
  },
  {
   "cell_type": "markdown",
   "metadata": {},
   "source": [
    "- Terms and definitions\n",
    "- Binary Trees\n",
    "- Binary Search Trees\n",
    "- Tree Traversal\n",
    "- Ternary Search Tree"
   ]
  },
  {
   "cell_type": "markdown",
   "metadata": {},
   "source": [
    "## Terminology"
   ]
  },
  {
   "cell_type": "markdown",
   "metadata": {},
   "source": [
    "- **Node**: Any data structure that actually stores data\n",
    "- **Root Node**: One unique first node from which all other nodes in the tree are attached\n",
    "- **Sub-Tree**: A tree with its nodes being a descendant of some other tree\n",
    "- **Degree**: The total number of direct children of the given node\n",
    "- **Leaf Node**: A terminal node for a given tree, no children, with degree always 0\n",
    "- **Edge**: Connection among any given 2 nodes. Count = n - 1\n",
    "- **Parent**: A node in the tree which has a further sub-tree is the parent node of the sub-tree\n",
    "- **Child**: A node connected to its parent, and it is the node that is a descendant of that node\n",
    "- **Sibling**: All nodes with the same parent\n",
    "- **Level**: Each generation away from the root is one level. The root is at level 0\n",
    "- **Height of the tree**: The total number of nodes in the longest path of the tree\n",
    "- **Depth of a Node**: The number of edges from the root of the tree to that node"
   ]
  },
  {
   "cell_type": "markdown",
   "metadata": {},
   "source": [
    "## Tree Nodes"
   ]
  },
  {
   "cell_type": "code",
   "execution_count": null,
   "metadata": {},
   "outputs": [],
   "source": []
  }
 ],
 "metadata": {
  "kernelspec": {
   "display_name": "Python 3",
   "language": "python",
   "name": "python3"
  },
  "language_info": {
   "codemirror_mode": {
    "name": "ipython",
    "version": 3
   },
   "file_extension": ".py",
   "mimetype": "text/x-python",
   "name": "python",
   "nbconvert_exporter": "python",
   "pygments_lexer": "ipython3",
   "version": "3.7.6"
  },
  "toc": {
   "base_numbering": 1,
   "nav_menu": {},
   "number_sections": true,
   "sideBar": true,
   "skip_h1_title": true,
   "title_cell": "Table of Contents",
   "title_sidebar": "Contents",
   "toc_cell": true,
   "toc_position": {},
   "toc_section_display": true,
   "toc_window_display": true
  }
 },
 "nbformat": 4,
 "nbformat_minor": 4
}
