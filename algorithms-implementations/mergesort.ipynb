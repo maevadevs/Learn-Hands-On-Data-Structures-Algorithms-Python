{
 "cells": [
  {
   "cell_type": "markdown",
   "metadata": {},
   "source": [
    "# `mergesort`"
   ]
  },
  {
   "cell_type": "markdown",
   "metadata": {},
   "source": [
    "- Category: Divide And Conquer"
   ]
  },
  {
   "cell_type": "code",
   "execution_count": 1,
   "metadata": {},
   "outputs": [],
   "source": [
    "def mergesort(arr):\n",
    "    print('splitting', arr)\n",
    "    \n",
    "    n = len(arr)\n",
    "    \n",
    "    # Base case: 1 element in the array, return\n",
    "    if n == 1:\n",
    "        return arr\n",
    "    \n",
    "    # Else, Split the arr into 2\n",
    "    mid_i = n // 2\n",
    "    left = arr[:mid_i]\n",
    "    right = arr[mid_i:]\n",
    "    \n",
    "    # Recurrence until reaching base case\n",
    "    left = mergesort(left)\n",
    "    right = mergesort(right)\n",
    "    \n",
    "    return merge(left, right, arr)\n",
    "\n",
    "\n",
    "def merge(left, right, arr):\n",
    "    i = j = k = 0\n",
    "    \n",
    "    # Compare and merge\n",
    "    while i < len(left) and j < len(right):\n",
    "        if left[i] < right[j]:\n",
    "            arr[k] = left[i]\n",
    "            i += 1\n",
    "        else:\n",
    "            arr[k] = right[j]\n",
    "            j += 1\n",
    "        k += 1\n",
    "    \n",
    "    # Append remnants from left if any\n",
    "    while i < len(left):\n",
    "        arr[k] = left[i]\n",
    "        i += 1\n",
    "        k += 1\n",
    "    \n",
    "    # Append remnants from right if any\n",
    "    while j < len(right):\n",
    "        arr[k] = right[j]\n",
    "        j += 1\n",
    "        k += 1\n",
    "    \n",
    "    print('...merging', left, 'and', right,'=>', arr) \n",
    "    return arr"
   ]
  },
  {
   "cell_type": "code",
   "execution_count": 2,
   "metadata": {},
   "outputs": [
    {
     "name": "stdout",
     "output_type": "stream",
     "text": [
      "splitting [4, -1, 0, -6, 7, 10]\n",
      "splitting [4, -1, 0]\n",
      "splitting [4]\n",
      "splitting [-1, 0]\n",
      "splitting [-1]\n",
      "splitting [0]\n",
      "...merging [-1] and [0] => [-1, 0]\n",
      "...merging [4] and [-1, 0] => [-1, 0, 4]\n",
      "splitting [-6, 7, 10]\n",
      "splitting [-6]\n",
      "splitting [7, 10]\n",
      "splitting [7]\n",
      "splitting [10]\n",
      "...merging [7] and [10] => [7, 10]\n",
      "...merging [-6] and [7, 10] => [-6, 7, 10]\n",
      "...merging [-1, 0, 4] and [-6, 7, 10] => [-6, -1, 0, 4, 7, 10]\n"
     ]
    },
    {
     "data": {
      "text/plain": [
       "[-6, -1, 0, 4, 7, 10]"
      ]
     },
     "execution_count": 2,
     "metadata": {},
     "output_type": "execute_result"
    }
   ],
   "source": [
    "ls = [4, -1, 0, -6, 7, 10]\n",
    "mergesort(ls)"
   ]
  },
  {
   "cell_type": "code",
   "execution_count": 3,
   "metadata": {},
   "outputs": [
    {
     "name": "stdout",
     "output_type": "stream",
     "text": [
      "splitting ['g', 'u', 's', 'e', 'f']\n",
      "splitting ['g', 'u']\n",
      "splitting ['g']\n",
      "splitting ['u']\n",
      "...merging ['g'] and ['u'] => ['g', 'u']\n",
      "splitting ['s', 'e', 'f']\n",
      "splitting ['s']\n",
      "splitting ['e', 'f']\n",
      "splitting ['e']\n",
      "splitting ['f']\n",
      "...merging ['e'] and ['f'] => ['e', 'f']\n",
      "...merging ['s'] and ['e', 'f'] => ['e', 'f', 's']\n",
      "...merging ['g', 'u'] and ['e', 'f', 's'] => ['e', 'f', 'g', 's', 'u']\n"
     ]
    },
    {
     "data": {
      "text/plain": [
       "['e', 'f', 'g', 's', 'u']"
      ]
     },
     "execution_count": 3,
     "metadata": {},
     "output_type": "execute_result"
    }
   ],
   "source": [
    "ls = ['g', 'u', 's', 'e', 'f']\n",
    "mergesort(ls)"
   ]
  }
 ],
 "metadata": {
  "kernelspec": {
   "display_name": "Python 3",
   "language": "python",
   "name": "python3"
  },
  "language_info": {
   "codemirror_mode": {
    "name": "ipython",
    "version": 3
   },
   "file_extension": ".py",
   "mimetype": "text/x-python",
   "name": "python",
   "nbconvert_exporter": "python",
   "pygments_lexer": "ipython3",
   "version": "3.7.6"
  },
  "toc": {
   "base_numbering": 1,
   "nav_menu": {},
   "number_sections": false,
   "sideBar": false,
   "skip_h1_title": false,
   "title_cell": "Table of Contents",
   "title_sidebar": "Contents",
   "toc_cell": false,
   "toc_position": {},
   "toc_section_display": false,
   "toc_window_display": false
  }
 },
 "nbformat": 4,
 "nbformat_minor": 4
}
