{
 "cells": [
  {
   "cell_type": "markdown",
   "metadata": {
    "toc": true
   },
   "source": [
    "<h1>Table of Contents<span class=\"tocSkip\"></span></h1>\n",
    "<div class=\"toc\"><ul class=\"toc-item\"><li><span><a href=\"#Catching-Exceptions\" data-toc-modified-id=\"Catching-Exceptions-1\"><span class=\"toc-item-num\">1&nbsp;&nbsp;</span>Catching Exceptions</a></span></li><li><span><a href=\"#Raising-Exceptions\" data-toc-modified-id=\"Raising-Exceptions-2\"><span class=\"toc-item-num\">2&nbsp;&nbsp;</span>Raising Exceptions</a></span></li><li><span><a href=\"#Standard-Exceptions\" data-toc-modified-id=\"Standard-Exceptions-3\"><span class=\"toc-item-num\">3&nbsp;&nbsp;</span>Standard Exceptions</a></span></li><li><span><a href=\"#Assertions\" data-toc-modified-id=\"Assertions-4\"><span class=\"toc-item-num\">4&nbsp;&nbsp;</span>Assertions</a></span></li><li><span><a href=\"#When-to-use-Exceptions-vs-Assertions\" data-toc-modified-id=\"When-to-use-Exceptions-vs-Assertions-5\"><span class=\"toc-item-num\">5&nbsp;&nbsp;</span>When to use Exceptions vs Assertions</a></span></li></ul></div>"
   ]
  },
  {
   "cell_type": "markdown",
   "metadata": {},
   "source": [
    "# Exceptions\n",
    "- Python raises an exception when an error occurs\n",
    "- Exception: an event that can be triggered and optionally handled during program execution\n",
    "- The program can contain code to catch the exception and gracefully handle it\n",
    "- When an exception is not handled, the program will abort"
   ]
  },
  {
   "cell_type": "markdown",
   "metadata": {},
   "source": [
    "## Catching Exceptions"
   ]
  },
  {
   "cell_type": "code",
   "execution_count": 1,
   "metadata": {},
   "outputs": [],
   "source": [
    "# Without exeption handling\n",
    "\n",
    "def get_an_integer():\n",
    "    value = int(input(\"Enter an integer value: \"))\n",
    "    return \"You entered {}. Thank you!\".format(value)"
   ]
  },
  {
   "cell_type": "code",
   "execution_count": 2,
   "metadata": {},
   "outputs": [
    {
     "name": "stdout",
     "output_type": "stream",
     "text": [
      "Enter an integer value: 7\n"
     ]
    },
    {
     "data": {
      "text/plain": [
       "'You entered 7. Thank you!'"
      ]
     },
     "execution_count": 2,
     "metadata": {},
     "output_type": "execute_result"
    }
   ],
   "source": [
    "get_an_integer() # Will throw an error if the input is not an integer"
   ]
  },
  {
   "cell_type": "code",
   "execution_count": 3,
   "metadata": {},
   "outputs": [],
   "source": [
    "# With an exception handling\n",
    "\n",
    "def request_an_integer():\n",
    "    good_to_go = False\n",
    "    attempt_count = 0\n",
    "\n",
    "    while (not good_to_go):\n",
    "        try:\n",
    "            value = int(input(\"Enter an integer value:\"))\n",
    "            good_to_go = True\n",
    "            return \"You entered {}. Thank you!\".format(value)\n",
    "        except:\n",
    "            attempt_count += 1\n",
    "            if attempt_count == 5:\n",
    "                break\n",
    "            print(\"You entered a non-integer value. Try again!\")\n",
    "\n",
    "    return \"Sorry, too many attempts. Please try again later.\""
   ]
  },
  {
   "cell_type": "code",
   "execution_count": 4,
   "metadata": {},
   "outputs": [
    {
     "name": "stdout",
     "output_type": "stream",
     "text": [
      "Enter an integer value:7\n"
     ]
    },
    {
     "data": {
      "text/plain": [
       "'You entered 7. Thank you!'"
      ]
     },
     "execution_count": 4,
     "metadata": {},
     "output_type": "execute_result"
    }
   ],
   "source": [
    "request_an_integer()"
   ]
  },
  {
   "cell_type": "markdown",
   "metadata": {},
   "source": [
    "## Raising Exceptions\n",
    "- Python automatically raises exceptions when an error occurs during program execution\n",
    "- You can also raise an exception when you detect an error in your code\n",
    "- When raising an exception, a string is required to provide a descriptive error message for debugging"
   ]
  },
  {
   "cell_type": "code",
   "execution_count": 5,
   "metadata": {},
   "outputs": [],
   "source": [
    "def minimum(arg1, arg2):\n",
    "    if arg1 is None or arg2 is None :\n",
    "        raise TypeError(\"arguments to minimum() cannot be None\")\n",
    "    if arg1 < arg2 :\n",
    "        return arg1\n",
    "    else :\n",
    "        return arg2"
   ]
  },
  {
   "cell_type": "code",
   "execution_count": 6,
   "metadata": {},
   "outputs": [
    {
     "data": {
      "text/plain": [
       "3"
      ]
     },
     "execution_count": 6,
     "metadata": {},
     "output_type": "execute_result"
    }
   ],
   "source": [
    "minimum(4, 3)"
   ]
  },
  {
   "cell_type": "code",
   "execution_count": 7,
   "metadata": {},
   "outputs": [],
   "source": [
    "# minimum(4, None) #Will raise an error"
   ]
  },
  {
   "cell_type": "markdown",
   "metadata": {},
   "source": [
    "## Standard Exceptions\n",
    "- Built-in exceptions that can be raised by the language and its library modules\n",
    "- Exceptions are defined as classes from which an object is created\n",
    "- The name of the class is given as an argument to the raise statement"
   ]
  },
  {
   "cell_type": "markdown",
   "metadata": {},
   "source": [
    "- `IndexError`: A list or tuple index is out of range\n",
    "- `KeyError`: A dictionary key is not found in a dictionary\n",
    "- `NotImplementedError`: Especially in abstract classes to indicate the method is being used but has not yet been implemented\n",
    "- `RuntimeError`: Flag an error when no other exception type is appropriate\n",
    "- `TypeError`: An incorrect data type is supplied to an operator or method\n",
    "- `ValueError`: The correct data type is supplied but it is not an appropriate value"
   ]
  },
  {
   "cell_type": "markdown",
   "metadata": {},
   "source": [
    "## Assertions\n",
    "- `assert` statements, can be used to raise the special `AssertionError` exception\n",
    "- State what we assume to be true. If the assertion fails, the error is raised\n",
    "- This is mostly used for Unit Tests: Combines the testing of a condition with raising an exception\n",
    "- The difference between making an assertion and raising an exception is that the `assert` statements can be deactivated at run time"
   ]
  },
  {
   "cell_type": "code",
   "execution_count": 8,
   "metadata": {},
   "outputs": [],
   "source": [
    "def minimum(arg1, arg2):\n",
    "    assert arg1 is not None and arg2 is not None, \"arguments to min() cannot be None\"\n",
    "    if arg1 < arg2:\n",
    "        return arg1\n",
    "    else:\n",
    "        return arg2"
   ]
  },
  {
   "cell_type": "markdown",
   "metadata": {},
   "source": [
    "## When to use Exceptions vs Assertions\n",
    "- Exceptions should be raised in those instances where you expect errors may occur during execution that can be properly handled without aborting the program: The program does not have to crash\n",
    "  - Checking for valid user input\n",
    "  - Verifying a successful network connection to a server\n",
    "- Catch the exception, inform the user, and provide an alternate course of action\n",
    "\n",
    "- Assertions are best used for debugging a program and testing preconditions while exceptions are best used to catch recoverable errors\n",
    "- `assert` statements can be deactivated at run time in the final product to prevent them from being executed\n",
    "- Assertions are made to help debug and catch programming errors\n",
    "  - Once you have fully tested the program, we would not expect these errors to occur\n",
    "  - The end user of the program will have little use for the debug information\n",
    "- With ADT, we need to ensure the proper execution of the various operations by verifying any stated preconditions\n",
    "  - The appropriate mechanism is to state assertions for the preconditions\n",
    "  - Allow the user of the ADT to decide how they wish to handle the error\n",
    "  - In most cases, the appropriate step is to allow the program to abort"
   ]
  }
 ],
 "metadata": {
  "kernelspec": {
   "display_name": "Python 3",
   "language": "python",
   "name": "python3"
  },
  "language_info": {
   "codemirror_mode": {
    "name": "ipython",
    "version": 3
   },
   "file_extension": ".py",
   "mimetype": "text/x-python",
   "name": "python",
   "nbconvert_exporter": "python",
   "pygments_lexer": "ipython3",
   "version": "3.7.6"
  },
  "toc": {
   "base_numbering": 1,
   "nav_menu": {},
   "number_sections": true,
   "sideBar": true,
   "skip_h1_title": true,
   "title_cell": "Table of Contents",
   "title_sidebar": "Contents",
   "toc_cell": true,
   "toc_position": {},
   "toc_section_display": true,
   "toc_window_display": true
  }
 },
 "nbformat": 4,
 "nbformat_minor": 4
}
