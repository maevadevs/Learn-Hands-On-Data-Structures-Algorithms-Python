{
 "cells": [
  {
   "cell_type": "markdown",
   "metadata": {
    "toc": true
   },
   "source": [
    "<h1>Table of Contents<span class=\"tocSkip\"></span></h1>\n",
    "<div class=\"toc\"><ul class=\"toc-item\"><li><span><a href=\"#Structured-Programs\" data-toc-modified-id=\"Structured-Programs-1\"><span class=\"toc-item-num\">1&nbsp;&nbsp;</span>Structured Programs</a></span></li><li><span><a href=\"#Namespaces\" data-toc-modified-id=\"Namespaces-2\"><span class=\"toc-item-num\">2&nbsp;&nbsp;</span>Namespaces</a></span></li></ul></div>"
   ]
  },
  {
   "cell_type": "markdown",
   "metadata": {},
   "source": [
    "# User-Defined Modules"
   ]
  },
  {
   "cell_type": "markdown",
   "metadata": {},
   "source": [
    "## Structured Programs\n",
    "- To help structure and manage large programs, Python allows the user to create their own modules\n",
    "- Large programs are typically made of:\n",
    "  - Multiple modules `.py` files contain tools that are imported and used as needed\n",
    "  - One driver `main.py` that handles the main flow of execution\n",
    "- A module can be used to group class definitions and related functions\n",
    "- A module is a `.py` file\n",
    "- The driver is executed with the `python` cli to bootstrap the program: `python main.py`\n",
    "- Modules can be imported with `import` statements\n",
    "  - The interpreter will only import a module once, even if it is encountered multiple times\n",
    "  - Always import a module within a source file if any component of that module is needed\n",
    "  - Let the interpreter worry about omitting the module if it has already been included"
   ]
  },
  {
   "cell_type": "code",
   "execution_count": 1,
   "metadata": {},
   "outputs": [
    {
     "data": {
      "text/plain": [
       "1.7320508075688772"
      ]
     },
     "execution_count": 1,
     "metadata": {},
     "output_type": "execute_result"
    }
   ],
   "source": [
    "import math # math is a built-in module of python\n",
    "\n",
    "math.sqrt(3)"
   ]
  },
  {
   "cell_type": "code",
   "execution_count": 2,
   "metadata": {},
   "outputs": [
    {
     "name": "stdout",
     "output_type": "stream",
     "text": [
      "Square-root of 2 => 1.4142135623730951\n",
      "Mean of [7, 3, 9] => 6.333333333333333\n"
     ]
    }
   ],
   "source": [
    "from math import sqrt\n",
    "from statistics import mean\n",
    "\n",
    "print(\"Square-root of 2 =>\", sqrt(2))\n",
    "print(\"Mean of [7, 3, 9] =>\", mean([7, 3, 9]))"
   ]
  },
  {
   "cell_type": "markdown",
   "metadata": {},
   "source": [
    "## Namespaces\n",
    "- All identifiers in Python lives in a Namespace, the context of identifiers\n",
    "- When an identifier is referenced in a Python program, a search is performed in a particular namespace to determine if that identifier is valid\n",
    "- The concept allows to create duplicate names\n",
    "- Each module is a namespace (Each `.py` file has its own namespace)"
   ]
  },
  {
   "cell_type": "code",
   "execution_count": 3,
   "metadata": {},
   "outputs": [
    {
     "name": "stdout",
     "output_type": "stream",
     "text": [
      "Mean of [7, 3, 9] => 6.333333333333333\n"
     ]
    }
   ],
   "source": [
    "# General Imports\n",
    "#  The contents of the module are made available for use in the current module, \n",
    "#  but they are not made part of the current module's namespace\n",
    "#  We still need to reference the namespace when using the functions of that module\n",
    "\n",
    "import statistics\n",
    "\n",
    "print(\"Mean of [7, 3, 9] =>\", statistics.mean([7, 3, 9]))"
   ]
  },
  {
   "cell_type": "code",
   "execution_count": 4,
   "metadata": {},
   "outputs": [
    {
     "name": "stdout",
     "output_type": "stream",
     "text": [
      "Median of [7, 3, 9] => 7\n"
     ]
    }
   ],
   "source": [
    "# Specific Imports\n",
    "#  The contents of the module are made available to the current module just like with\n",
    "#  the plain version\n",
    "#  Using *, all the identifiers from the imported module are included in the namespace of the \n",
    "#  current module\n",
    "#  If not all is required, be more specific\n",
    "\n",
    "from statistics import *\n",
    "\n",
    "print(\"Median of [7, 3, 9] =>\", statistics.median([7, 3, 9]))"
   ]
  },
  {
   "cell_type": "code",
   "execution_count": 5,
   "metadata": {},
   "outputs": [
    {
     "name": "stdout",
     "output_type": "stream",
     "text": [
      "Mean of [7, 4, 8, 9, 4, 8, 4] => 7\n"
     ]
    }
   ],
   "source": [
    "# Specific Imports with Alias\n",
    "#  This is usefull when the original name is too long or we are using multiple \n",
    "#  libraries with the same name\n",
    "\n",
    "from statistics import mean as m\n",
    "\n",
    "print(\"Mean of [7, 4, 8, 9, 4, 8, 4] =>\", m([7, 4, 8, 9]))"
   ]
  }
 ],
 "metadata": {
  "kernelspec": {
   "display_name": "Python 3",
   "language": "python",
   "name": "python3"
  },
  "language_info": {
   "codemirror_mode": {
    "name": "ipython",
    "version": 3
   },
   "file_extension": ".py",
   "mimetype": "text/x-python",
   "name": "python",
   "nbconvert_exporter": "python",
   "pygments_lexer": "ipython3",
   "version": "3.7.6"
  },
  "toc": {
   "base_numbering": 1,
   "nav_menu": {},
   "number_sections": true,
   "sideBar": true,
   "skip_h1_title": true,
   "title_cell": "Table of Contents",
   "title_sidebar": "Contents",
   "toc_cell": true,
   "toc_position": {},
   "toc_section_display": true,
   "toc_window_display": true
  }
 },
 "nbformat": 4,
 "nbformat_minor": 4
}
