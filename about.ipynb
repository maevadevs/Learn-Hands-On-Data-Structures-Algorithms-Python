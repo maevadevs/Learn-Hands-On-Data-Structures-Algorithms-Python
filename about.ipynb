{
 "cells": [
  {
   "cell_type": "markdown",
   "metadata": {
    "toc": true
   },
   "source": [
    "<h1>Table of Contents<span class=\"tocSkip\"></span></h1>\n",
    "<div class=\"toc\"><ul class=\"toc-item\"><li><span><a href=\"#Python-Objects,-Types,-and-Expressions\" data-toc-modified-id=\"Python-Objects,-Types,-and-Expressions-1\"><span class=\"toc-item-num\">1&nbsp;&nbsp;</span>Python Objects, Types, and Expressions</a></span></li><li><span><a href=\"#Python-Data-Types-and-Structures\" data-toc-modified-id=\"Python-Data-Types-and-Structures-2\"><span class=\"toc-item-num\">2&nbsp;&nbsp;</span>Python Data Types and Structures</a></span></li><li><span><a href=\"#Principles-of-Algorithm-Design\" data-toc-modified-id=\"Principles-of-Algorithm-Design-3\"><span class=\"toc-item-num\">3&nbsp;&nbsp;</span>Principles of Algorithm Design</a></span></li><li><span><a href=\"#Lists-and-Pointer-Structures\" data-toc-modified-id=\"Lists-and-Pointer-Structures-4\"><span class=\"toc-item-num\">4&nbsp;&nbsp;</span>Lists and Pointer Structures</a></span></li><li><span><a href=\"#Stacks-and-Queues\" data-toc-modified-id=\"Stacks-and-Queues-5\"><span class=\"toc-item-num\">5&nbsp;&nbsp;</span>Stacks and Queues</a></span></li><li><span><a href=\"#Trees\" data-toc-modified-id=\"Trees-6\"><span class=\"toc-item-num\">6&nbsp;&nbsp;</span>Trees</a></span></li><li><span><a href=\"#Hashing-and-Symbol-Tables\" data-toc-modified-id=\"Hashing-and-Symbol-Tables-7\"><span class=\"toc-item-num\">7&nbsp;&nbsp;</span>Hashing and Symbol Tables</a></span></li><li><span><a href=\"#Graphs-and-Other-Algorithms\" data-toc-modified-id=\"Graphs-and-Other-Algorithms-8\"><span class=\"toc-item-num\">8&nbsp;&nbsp;</span>Graphs and Other Algorithms</a></span></li><li><span><a href=\"#Searching\" data-toc-modified-id=\"Searching-9\"><span class=\"toc-item-num\">9&nbsp;&nbsp;</span>Searching</a></span></li><li><span><a href=\"#Sorting\" data-toc-modified-id=\"Sorting-10\"><span class=\"toc-item-num\">10&nbsp;&nbsp;</span>Sorting</a></span></li><li><span><a href=\"#Selection-Algorithms\" data-toc-modified-id=\"Selection-Algorithms-11\"><span class=\"toc-item-num\">11&nbsp;&nbsp;</span>Selection Algorithms</a></span></li><li><span><a href=\"#String-Algorithms-and-Techniques\" data-toc-modified-id=\"String-Algorithms-and-Techniques-12\"><span class=\"toc-item-num\">12&nbsp;&nbsp;</span>String Algorithms and Techniques</a></span></li><li><span><a href=\"#Design-Techniques-and-Strategies\" data-toc-modified-id=\"Design-Techniques-and-Strategies-13\"><span class=\"toc-item-num\">13&nbsp;&nbsp;</span>Design Techniques and Strategies</a></span></li><li><span><a href=\"#Implementations,-Applications,-and-Tools\" data-toc-modified-id=\"Implementations,-Applications,-and-Tools-14\"><span class=\"toc-item-num\">14&nbsp;&nbsp;</span>Implementations, Applications, and Tools</a></span></li></ul></div>"
   ]
  },
  {
   "cell_type": "markdown",
   "metadata": {},
   "source": [
    "## Python Objects, Types, and Expressions"
   ]
  },
  {
   "cell_type": "markdown",
   "metadata": {},
   "source": [
    "- Basic types and objects of Python\n",
    "- Overview of the language features, execution environment, and programming styles\n",
    "- Common programming techniques and language functionality"
   ]
  },
  {
   "cell_type": "markdown",
   "metadata": {},
   "source": [
    "##  Python Data Types and Structures"
   ]
  },
  {
   "cell_type": "markdown",
   "metadata": {},
   "source": [
    "- Python's various built-in data types\n",
    "- Five numeric and five sequence data types\n",
    "- One mapping and two set data types\n",
    "- Operations and expressions applicable to each type\n",
    "- Examples of typical use cases"
   ]
  },
  {
   "cell_type": "markdown",
   "metadata": {},
   "source": [
    "## Principles of Algorithm Design"
   ]
  },
  {
   "cell_type": "markdown",
   "metadata": {},
   "source": [
    "- Various important data structure design paradigms\n",
    "  - Greedy algorithms\n",
    "  - Dynamic programming\n",
    "  - Divide and conquer\n",
    "  - Recursion\n",
    "  - Backtracking\n",
    "- Principles:\n",
    "  - Robustness\n",
    "  - Adaptability\n",
    "  - Reusability\n",
    "  - Separating the structure from a function\n",
    "- Iteration\n",
    "- Recursive data structures\n",
    "- Various Big O notations and complexity classes"
   ]
  },
  {
   "cell_type": "markdown",
   "metadata": {},
   "source": [
    "## Lists and Pointer Structures"
   ]
  },
  {
   "cell_type": "markdown",
   "metadata": {},
   "source": [
    "- Linked lists\n",
    "  - Operation and implementation\n",
    "  - Compare behavior to arrays\n",
    "  - Relative advantages and disadvantages of each"
   ]
  },
  {
   "cell_type": "markdown",
   "metadata": {},
   "source": [
    "## Stacks and Queues"
   ]
  },
  {
   "cell_type": "markdown",
   "metadata": {},
   "source": [
    "- Behavior of these linear data structures\n",
    "- Demonstrates a number of implementations\n",
    "- Typical real-life example applications"
   ]
  },
  {
   "cell_type": "markdown",
   "metadata": {},
   "source": [
    "## Trees"
   ]
  },
  {
   "cell_type": "markdown",
   "metadata": {},
   "source": [
    "- How to implement a binary tree\n",
    "- Traverse trees\n",
    "- Retrieve and insert values\n",
    "- Binary and ternary search trees\n",
    "- How to create structures such as heaps"
   ]
  },
  {
   "cell_type": "markdown",
   "metadata": {},
   "source": [
    "## Hashing and Symbol Tables"
   ]
  },
  {
   "cell_type": "markdown",
   "metadata": {},
   "source": [
    "- Symbol tables\n",
    "- Some typical implementations\n",
    "- Various applications\n",
    "- The process of hashing\n",
    "- Implementation of a hash table\n",
    "- Various design considerations"
   ]
  },
  {
   "cell_type": "markdown",
   "metadata": {},
   "source": [
    "## Graphs and Other Algorithms"
   ]
  },
  {
   "cell_type": "markdown",
   "metadata": {},
   "source": [
    "- More specialized structures, graphs and spatial structures\n",
    "- Data as a set of nodes and vertices\n",
    "- Create structures including directed and undirected graphs\n",
    "- Number of other structures and concepts:\n",
    "  - Priority queues\n",
    "  - Heaps\n",
    "  - Selection algorithms"
   ]
  },
  {
   "cell_type": "markdown",
   "metadata": {},
   "source": [
    "## Searching"
   ]
  },
  {
   "cell_type": "markdown",
   "metadata": {},
   "source": [
    "- The most common searching algorithms\n",
    "  - Binary search\n",
    "  - Interpolation searching algorithms\n",
    "- Examples of uses in relation to various data structures\n",
    "- Different approaches"
   ]
  },
  {
   "cell_type": "markdown",
   "metadata": {},
   "source": [
    "## Sorting"
   ]
  },
  {
   "cell_type": "markdown",
   "metadata": {},
   "source": [
    "- Most common approaches to sorting\n",
    "  - Bubble sort\n",
    "  - Insertion sort\n",
    "  - Selection sort\n",
    "  - Quick sort\n",
    "  - Heap sort\n",
    "- Detailed explanation of each\n",
    "- Python implementation"
   ]
  },
  {
   "cell_type": "markdown",
   "metadata": {},
   "source": [
    "## Selection Algorithms"
   ]
  },
  {
   "cell_type": "markdown",
   "metadata": {},
   "source": [
    "- Finding statistics\n",
    "  - Minimum\n",
    "  - Maximum\n",
    "  - Median\n",
    "- Various selection algorithms for locating a specific element in a list by sorting\n",
    "- Randomized and deterministic selection algorithms"
   ]
  },
  {
   "cell_type": "markdown",
   "metadata": {},
   "source": [
    "## String Algorithms and Techniques"
   ]
  },
  {
   "cell_type": "markdown",
   "metadata": {},
   "source": [
    "- Basic concepts and definitions related to strings\n",
    "- Various string and pattern matching algorithms\n",
    "  - Naïve approach\n",
    "  - Knuth-Morris-Pratt (KMP)\n",
    "  - Boyer-Moore pattern matching"
   ]
  },
  {
   "cell_type": "markdown",
   "metadata": {},
   "source": [
    "## Design Techniques and Strategies"
   ]
  },
  {
   "cell_type": "markdown",
   "metadata": {},
   "source": [
    "- Look for solutions for similar problems when we are trying to solve a new problem\n",
    "- Understanding how we can classify algorithms\n",
    "- Types of problem that they most naturally solve is a key aspect of algorithm design\n",
    "- Classify algorithms\n",
    "  - Implementation method\n",
    "  - Design method\n",
    "- mergesort\n",
    "- Dijkstra's shortest path algorithm\n",
    "- Coin-counting problem"
   ]
  },
  {
   "cell_type": "markdown",
   "metadata": {},
   "source": [
    "## Implementations, Applications, and Tools"
   ]
  },
  {
   "cell_type": "markdown",
   "metadata": {},
   "source": [
    "- Variety of real-world applications\n",
    "  - Data analysis\n",
    "  - Machine learning\n",
    "  - Prediction\n",
    "  - Visualization\n",
    "- Libraries and tools"
   ]
  }
 ],
 "metadata": {
  "kernelspec": {
   "display_name": "Python 3",
   "language": "python",
   "name": "python3"
  },
  "language_info": {
   "codemirror_mode": {
    "name": "ipython",
    "version": 3
   },
   "file_extension": ".py",
   "mimetype": "text/x-python",
   "name": "python",
   "nbconvert_exporter": "python",
   "pygments_lexer": "ipython3",
   "version": "3.8.2"
  },
  "toc": {
   "base_numbering": 1,
   "nav_menu": {},
   "number_sections": true,
   "sideBar": true,
   "skip_h1_title": true,
   "title_cell": "Table of Contents",
   "title_sidebar": "Contents",
   "toc_cell": true,
   "toc_position": {},
   "toc_section_display": true,
   "toc_window_display": true
  }
 },
 "nbformat": 4,
 "nbformat_minor": 4
}
