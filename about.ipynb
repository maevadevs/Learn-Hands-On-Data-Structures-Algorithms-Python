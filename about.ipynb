{
 "cells": [
  {
   "cell_type": "markdown",
   "metadata": {},
   "source": [
    "## Python Objects, Types, and Expressions"
   ]
  },
  {
   "cell_type": "markdown",
   "metadata": {},
   "source": [
    "- Basic types and objects of Python\n",
    "- Overview of the language features, execution environment, and programming styles\n",
    "- Common programming techniques and language functionality"
   ]
  },
  {
   "cell_type": "markdown",
   "metadata": {},
   "source": [
    "##  Python Data Types and Structures"
   ]
  },
  {
   "cell_type": "markdown",
   "metadata": {},
   "source": [
    "- Python's various built-in data types\n",
    "  - Five numeric and five sequence data types\n",
    "  - One mapping and two set data types\n",
    "- Operations and expressions applicable to each type\n",
    "- Examples of typical use cases"
   ]
  },
  {
   "cell_type": "markdown",
   "metadata": {},
   "source": [
    "## Principles of Algorithm Design"
   ]
  },
  {
   "cell_type": "markdown",
   "metadata": {},
   "source": [
    "- Various important data structure design paradigms\n",
    "  - Greedy algorithms\n",
    "  - Dynamic programming\n",
    "  - Divide and conquer\n",
    "  - Recursion\n",
    "  - Backtracking\n",
    "- Principles:\n",
    "  - Robustness\n",
    "  - Adaptability\n",
    "  - Reusability\n",
    "  - Separating the structure from a function\n",
    "- Iteration\n",
    "- Recursive data structures\n",
    "- Various Big O notations and complexity classes"
   ]
  },
  {
   "cell_type": "markdown",
   "metadata": {},
   "source": [
    "## Pointer Structures and Linked Lists"
   ]
  },
  {
   "cell_type": "markdown",
   "metadata": {},
   "source": [
    "- Pointer Structures and Node\n",
    "- Linked lists\n",
    "  - Operation and implementation\n",
    "  - Compare behavior to arrays\n",
    "  - Relative advantages and disadvantages of each\n",
    "  - Singly-Linked List\n",
    "  - Doubly-Linked List\n",
    "  - Circular List"
   ]
  },
  {
   "cell_type": "markdown",
   "metadata": {},
   "source": [
    "## Stacks and Queues"
   ]
  },
  {
   "cell_type": "markdown",
   "metadata": {},
   "source": [
    "- Behavior of these linear data structures\n",
    "- Demonstrates a number of implementations\n",
    "- Typical real-life example applications"
   ]
  },
  {
   "cell_type": "markdown",
   "metadata": {},
   "source": [
    "## Trees"
   ]
  },
  {
   "cell_type": "markdown",
   "metadata": {},
   "source": [
    "- How to implement a binary tree\n",
    "- Traverse trees\n",
    "- Retrieve and insert values\n",
    "- Binary and ternary search trees\n",
    "- How to create structures such as heaps"
   ]
  },
  {
   "cell_type": "markdown",
   "metadata": {},
   "source": [
    "## Hashing and Symbol Tables"
   ]
  },
  {
   "cell_type": "markdown",
   "metadata": {},
   "source": [
    "- Symbol tables\n",
    "- Some typical implementations\n",
    "- Various applications\n",
    "- The process of hashing\n",
    "- Implementation of a hash table\n",
    "- Various design considerations"
   ]
  },
  {
   "cell_type": "markdown",
   "metadata": {},
   "source": [
    "## Graphs and Other Algorithms"
   ]
  },
  {
   "cell_type": "markdown",
   "metadata": {},
   "source": [
    "- More specialized structures, graphs and spatial structures\n",
    "- Data as a set of nodes and vertices\n",
    "- Create structures including directed and undirected graphs\n",
    "- Number of other structures and concepts:\n",
    "  - Priority queues\n",
    "  - Heaps\n",
    "  - Selection algorithms"
   ]
  },
  {
   "cell_type": "markdown",
   "metadata": {},
   "source": [
    "## Searching"
   ]
  },
  {
   "cell_type": "markdown",
   "metadata": {},
   "source": [
    "- The most common searching algorithms\n",
    "  - Binary search\n",
    "  - Interpolation searching algorithms\n",
    "- Examples of uses in relation to various data structures\n",
    "- Different approaches"
   ]
  },
  {
   "cell_type": "markdown",
   "metadata": {},
   "source": [
    "## Sorting"
   ]
  },
  {
   "cell_type": "markdown",
   "metadata": {},
   "source": [
    "- Most common approaches to sorting\n",
    "  - Bubble sort\n",
    "  - Insertion sort\n",
    "  - Selection sort\n",
    "  - Quick sort\n",
    "  - Heap sort\n",
    "- Detailed explanation of each\n",
    "- Python implementation"
   ]
  },
  {
   "cell_type": "markdown",
   "metadata": {},
   "source": [
    "## Selection Algorithms"
   ]
  },
  {
   "cell_type": "markdown",
   "metadata": {},
   "source": [
    "- Finding statistics\n",
    "  - Minimum\n",
    "  - Maximum\n",
    "  - Median\n",
    "- Various selection algorithms for locating a specific element in a list by sorting\n",
    "- Randomized and deterministic selection algorithms"
   ]
  },
  {
   "cell_type": "markdown",
   "metadata": {},
   "source": [
    "## String Algorithms and Techniques"
   ]
  },
  {
   "cell_type": "markdown",
   "metadata": {},
   "source": [
    "- Basic concepts and definitions related to strings\n",
    "- Various string and pattern matching algorithms\n",
    "  - Naïve approach\n",
    "  - Knuth-Morris-Pratt (KMP)\n",
    "  - Boyer-Moore pattern matching"
   ]
  },
  {
   "cell_type": "markdown",
   "metadata": {},
   "source": [
    "## Design Techniques and Strategies"
   ]
  },
  {
   "cell_type": "markdown",
   "metadata": {},
   "source": [
    "- Look for solutions for similar problems when we are trying to solve a new problem\n",
    "- Understanding how we can classify algorithms\n",
    "- Types of problem that they most naturally solve is a key aspect of algorithm design\n",
    "- Classify algorithms\n",
    "  - Implementation method\n",
    "  - Design method\n",
    "- mergesort\n",
    "- Dijkstra's shortest path algorithm\n",
    "- Coin-counting problem"
   ]
  },
  {
   "cell_type": "markdown",
   "metadata": {},
   "source": [
    "## Implementations, Applications, and Tools"
   ]
  },
  {
   "cell_type": "markdown",
   "metadata": {},
   "source": [
    "- Variety of real-world applications\n",
    "  - Data analysis\n",
    "  - Machine learning\n",
    "  - Prediction\n",
    "  - Visualization\n",
    "- Libraries and tools"
   ]
  }
 ],
 "metadata": {
  "hide_input": false,
  "kernelspec": {
   "display_name": "Python 3 (ipykernel)",
   "language": "python",
   "name": "python3"
  },
  "language_info": {
   "codemirror_mode": {
    "name": "ipython",
    "version": 3
   },
   "file_extension": ".py",
   "mimetype": "text/x-python",
   "name": "python",
   "nbconvert_exporter": "python",
   "pygments_lexer": "ipython3",
   "version": "3.9.12"
  },
  "toc": {
   "base_numbering": 1,
   "nav_menu": {},
   "number_sections": true,
   "sideBar": true,
   "skip_h1_title": true,
   "title_cell": "Table of Contents",
   "title_sidebar": "Contents",
   "toc_cell": false,
   "toc_position": {},
   "toc_section_display": true,
   "toc_window_display": true
  },
  "varInspector": {
   "cols": {
    "lenName": 16,
    "lenType": 16,
    "lenVar": 40
   },
   "kernels_config": {
    "python": {
     "delete_cmd_postfix": "",
     "delete_cmd_prefix": "del ",
     "library": "var_list.py",
     "varRefreshCmd": "print(var_dic_list())"
    },
    "r": {
     "delete_cmd_postfix": ") ",
     "delete_cmd_prefix": "rm(",
     "library": "var_list.r",
     "varRefreshCmd": "cat(var_dic_list()) "
    }
   },
   "types_to_exclude": [
    "module",
    "function",
    "builtin_function_or_method",
    "instance",
    "_Feature"
   ],
   "window_display": false
  }
 },
 "nbformat": 4,
 "nbformat_minor": 4
}
