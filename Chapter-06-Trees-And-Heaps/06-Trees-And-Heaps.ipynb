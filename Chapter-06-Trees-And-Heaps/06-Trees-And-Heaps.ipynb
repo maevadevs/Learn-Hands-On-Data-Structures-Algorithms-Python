{
 "cells": [
  {
   "cell_type": "markdown",
   "metadata": {},
   "source": [
    "# Trees and Heaps"
   ]
  },
  {
   "cell_type": "markdown",
   "metadata": {
    "toc": true
   },
   "source": [
    "<h1>Table of Contents<span class=\"tocSkip\"></span></h1>\n",
    "<div class=\"toc\"><ul class=\"toc-item\"><li><span><a href=\"#Chapter-Goals\" data-toc-modified-id=\"Chapter-Goals-1\"><span class=\"toc-item-num\">1&nbsp;&nbsp;</span>Chapter Goals</a></span></li><li><span><a href=\"#Terminology\" data-toc-modified-id=\"Terminology-2\"><span class=\"toc-item-num\">2&nbsp;&nbsp;</span>Terminology</a></span></li><li><span><a href=\"#Tree-Nodes\" data-toc-modified-id=\"Tree-Nodes-3\"><span class=\"toc-item-num\">3&nbsp;&nbsp;</span>Tree Nodes</a></span></li><li><span><a href=\"#Trees-and-Binary-Trees\" data-toc-modified-id=\"Trees-and-Binary-Trees-4\"><span class=\"toc-item-num\">4&nbsp;&nbsp;</span>Trees and Binary Trees</a></span></li><li><span><a href=\"#Tree-Traversal\" data-toc-modified-id=\"Tree-Traversal-5\"><span class=\"toc-item-num\">5&nbsp;&nbsp;</span>Tree Traversal</a></span><ul class=\"toc-item\"><li><span><a href=\"#Depth-First-Traversal\" data-toc-modified-id=\"Depth-First-Traversal-5.1\"><span class=\"toc-item-num\">5.1&nbsp;&nbsp;</span>Depth-First Traversal</a></span></li><li><span><a href=\"#DFS-In-Order-Traversal-&amp;-Infix-Notation\" data-toc-modified-id=\"DFS-In-Order-Traversal-&amp;-Infix-Notation-5.2\"><span class=\"toc-item-num\">5.2&nbsp;&nbsp;</span>DFS In-Order Traversal &amp; Infix Notation</a></span><ul class=\"toc-item\"><li><span><a href=\"#Example-of-DFS-In-Order-Traversal\" data-toc-modified-id=\"Example-of-DFS-In-Order-Traversal-5.2.1\"><span class=\"toc-item-num\">5.2.1&nbsp;&nbsp;</span>Example of DFS In-Order Traversal</a></span></li><li><span><a href=\"#Infix-Notation\" data-toc-modified-id=\"Infix-Notation-5.2.2\"><span class=\"toc-item-num\">5.2.2&nbsp;&nbsp;</span>Infix Notation</a></span></li></ul></li><li><span><a href=\"#DFS-Pre-Order-Traversal-&amp;-Prefix-Notation\" data-toc-modified-id=\"DFS-Pre-Order-Traversal-&amp;-Prefix-Notation-5.3\"><span class=\"toc-item-num\">5.3&nbsp;&nbsp;</span>DFS Pre-Order Traversal &amp; Prefix Notation</a></span><ul class=\"toc-item\"><li><span><a href=\"#Example-of-DFS-Pre-Order-Traversal\" data-toc-modified-id=\"Example-of-DFS-Pre-Order-Traversal-5.3.1\"><span class=\"toc-item-num\">5.3.1&nbsp;&nbsp;</span>Example of DFS Pre-Order Traversal</a></span></li><li><span><a href=\"#Prefix-Notation\" data-toc-modified-id=\"Prefix-Notation-5.3.2\"><span class=\"toc-item-num\">5.3.2&nbsp;&nbsp;</span>Prefix Notation</a></span></li></ul></li><li><span><a href=\"#DFS-Post-Order-Traversal-&amp;-Postfix-Notation\" data-toc-modified-id=\"DFS-Post-Order-Traversal-&amp;-Postfix-Notation-5.4\"><span class=\"toc-item-num\">5.4&nbsp;&nbsp;</span>DFS Post-Order Traversal &amp; Postfix Notation</a></span><ul class=\"toc-item\"><li><span><a href=\"#Example-of-DFS-Post-Order-Traversal\" data-toc-modified-id=\"Example-of-DFS-Post-Order-Traversal-5.4.1\"><span class=\"toc-item-num\">5.4.1&nbsp;&nbsp;</span>Example of DFS Post-Order Traversal</a></span></li><li><span><a href=\"#Postfix-Notation\" data-toc-modified-id=\"Postfix-Notation-5.4.2\"><span class=\"toc-item-num\">5.4.2&nbsp;&nbsp;</span>Postfix Notation</a></span></li></ul></li><li><span><a href=\"#Breadth-First-Traversal\" data-toc-modified-id=\"Breadth-First-Traversal-5.5\"><span class=\"toc-item-num\">5.5&nbsp;&nbsp;</span>Breadth-First Traversal</a></span></li></ul></li><li><span><a href=\"#Binary-Tree\" data-toc-modified-id=\"Binary-Tree-6\"><span class=\"toc-item-num\">6&nbsp;&nbsp;</span>Binary Tree</a></span><ul class=\"toc-item\"><li><span><a href=\"#Binary-Search-Tree\" data-toc-modified-id=\"Binary-Search-Tree-6.1\"><span class=\"toc-item-num\">6.1&nbsp;&nbsp;</span>Binary Search Tree</a></span></li><li><span><a href=\"#Binary-Search-Tree-Implementation\" data-toc-modified-id=\"Binary-Search-Tree-Implementation-6.2\"><span class=\"toc-item-num\">6.2&nbsp;&nbsp;</span>Binary Search Tree Implementation</a></span><ul class=\"toc-item\"><li><span><a href=\"#Finding-Minimum-and-Maximum-Nodes\" data-toc-modified-id=\"Finding-Minimum-and-Maximum-Nodes-6.2.1\"><span class=\"toc-item-num\">6.2.1&nbsp;&nbsp;</span>Finding Minimum and Maximum Nodes</a></span></li><li><span><a href=\"#Inserting-Nodes\" data-toc-modified-id=\"Inserting-Nodes-6.2.2\"><span class=\"toc-item-num\">6.2.2&nbsp;&nbsp;</span>Inserting Nodes</a></span></li><li><span><a href=\"#Deleting-Nodes\" data-toc-modified-id=\"Deleting-Nodes-6.2.3\"><span class=\"toc-item-num\">6.2.3&nbsp;&nbsp;</span>Deleting Nodes</a></span></li><li><span><a href=\"#Searching-The-Tree\" data-toc-modified-id=\"Searching-The-Tree-6.2.4\"><span class=\"toc-item-num\">6.2.4&nbsp;&nbsp;</span>Searching The Tree</a></span></li><li><span><a href=\"#Testing-the-Tree\" data-toc-modified-id=\"Testing-the-Tree-6.2.5\"><span class=\"toc-item-num\">6.2.5&nbsp;&nbsp;</span>Testing the Tree</a></span></li></ul></li><li><span><a href=\"#Benefits-of-Binary-Search-Tree\" data-toc-modified-id=\"Benefits-of-Binary-Search-Tree-6.3\"><span class=\"toc-item-num\">6.3&nbsp;&nbsp;</span>Benefits of Binary Search Tree</a></span><ul class=\"toc-item\"><li><span><a href=\"#When-BST-Is-A-Good-Choice\" data-toc-modified-id=\"When-BST-Is-A-Good-Choice-6.3.1\"><span class=\"toc-item-num\">6.3.1&nbsp;&nbsp;</span>When BST Is A Good Choice</a></span></li></ul></li><li><span><a href=\"#Balancing-Tree\" data-toc-modified-id=\"Balancing-Tree-6.4\"><span class=\"toc-item-num\">6.4&nbsp;&nbsp;</span>Balancing Tree</a></span></li><li><span><a href=\"#Expression-Tree\" data-toc-modified-id=\"Expression-Tree-6.5\"><span class=\"toc-item-num\">6.5&nbsp;&nbsp;</span>Expression Tree</a></span><ul class=\"toc-item\"><li><span><a href=\"#Parsing-a-Reverse-Polish-Notation\" data-toc-modified-id=\"Parsing-a-Reverse-Polish-Notation-6.5.1\"><span class=\"toc-item-num\">6.5.1&nbsp;&nbsp;</span>Parsing a Reverse Polish Notation</a></span></li></ul></li></ul></li><li><span><a href=\"#Heaps\" data-toc-modified-id=\"Heaps-7\"><span class=\"toc-item-num\">7&nbsp;&nbsp;</span>Heaps</a></span><ul class=\"toc-item\"><li><span><a href=\"#Max-Heap\" data-toc-modified-id=\"Max-Heap-7.1\"><span class=\"toc-item-num\">7.1&nbsp;&nbsp;</span>Max Heap</a></span></li><li><span><a href=\"#Min-Heap\" data-toc-modified-id=\"Min-Heap-7.2\"><span class=\"toc-item-num\">7.2&nbsp;&nbsp;</span>Min Heap</a></span></li><li><span><a href=\"#Heaps-Usage\" data-toc-modified-id=\"Heaps-Usage-7.3\"><span class=\"toc-item-num\">7.3&nbsp;&nbsp;</span>Heaps Usage</a></span></li></ul></li><li><span><a href=\"#Ternary-Search-Tree\" data-toc-modified-id=\"Ternary-Search-Tree-8\"><span class=\"toc-item-num\">8&nbsp;&nbsp;</span>Ternary Search Tree</a></span><ul class=\"toc-item\"><li><span><a href=\"#Ternary-Search-Tree-Usage\" data-toc-modified-id=\"Ternary-Search-Tree-Usage-8.1\"><span class=\"toc-item-num\">8.1&nbsp;&nbsp;</span>Ternary Search Tree Usage</a></span></li></ul></li></ul></div>"
   ]
  },
  {
   "cell_type": "markdown",
   "metadata": {},
   "source": [
    "- Hierarchical form of data structure\n",
    "- Parent-child relationships between the elements instead of *Sequential*\n",
    "- *Root Node*: The top of the tree, the ancestor of all nodes\n",
    "- There are many applications for Tree Data Structures:\n",
    "  - Parsing expressions\n",
    "  - Searches\n",
    "  - Storing data\n",
    "  - Manipulating data\n",
    "  - Sorting\n",
    "  - Priority queues\n",
    "  - Document format: HTML, XML"
   ]
  },
  {
   "cell_type": "markdown",
   "metadata": {},
   "source": [
    "## Chapter Goals"
   ]
  },
  {
   "cell_type": "markdown",
   "metadata": {},
   "source": [
    "- Terms and definitions\n",
    "- Binary Trees\n",
    "- Binary Search Trees\n",
    "- Tree Traversal\n",
    "- Ternary Search Tree"
   ]
  },
  {
   "cell_type": "markdown",
   "metadata": {},
   "source": [
    "## Terminology"
   ]
  },
  {
   "cell_type": "markdown",
   "metadata": {},
   "source": [
    "Term|Definition\n",
    ":-|:-\n",
    "**Tree**|Data structure in which data is organized in hierarchical form\n",
    "**Node**|Any data structure that actually stores data\n",
    "**Root Node**|One unique first node from which all other nodes in the tree are attached\n",
    "**Subtree**|A tree with its nodes being a descendant of some other tree\n",
    "**Degree**|The total number of direct children of the given node\n",
    "**Leaf Node**|A terminal node for a given tree, no children, with degree always 0\n",
    "**Edge**|Connection among any given 2 nodes. Count = n - 1\n",
    "**Parent**|A node in the tree which has a further sub-tree is the parent node of the sub-tree\n",
    "**Child**|A node connected to its parent, and it is the node that is a descendant of that node\n",
    "**Siblings**|All nodes with the same parent\n",
    "**Level**|Each generation away from the root is one level. The root is at level 0\n",
    "**Height of the tree**|The total number of nodes in the longest path of the tree\n",
    "**Depth of a Node**|The number of edges from the root of the tree to that node\n",
    "\n",
    "<img src=\"../files/chap_06/tree-structure.png\" width=60%>"
   ]
  },
  {
   "cell_type": "markdown",
   "metadata": {},
   "source": [
    "## Tree Nodes"
   ]
  },
  {
   "cell_type": "markdown",
   "metadata": {},
   "source": [
    "- **Linear Data Structure** \n",
    "  - Data items are stored sequentially\n",
    "  - All data items can be traversed in one pass\n",
    "  - Example: *Linked-Lists*\n",
    "- **Non-Linear Data Structure** \n",
    "  - Data items are not stored sequentially\n",
    "  - One-pass traversing might not cover all data items\n",
    "  - Example: *Trees*"
   ]
  },
  {
   "cell_type": "code",
   "execution_count": 1,
   "metadata": {},
   "outputs": [],
   "source": [
    "class TreeNode:\n",
    "    \"\"\"Implementation of a Tree Node\"\"\"\n",
    "    \n",
    "    def __init__(self, data=None):\n",
    "        \"\"\"Initialize a TreeNode object\"\"\"\n",
    "        self.data = data\n",
    "        self.left_child = None\n",
    "        self.right_child = None\n",
    "        \n",
    "    def __str__(self):\n",
    "        \"\"\"Return the string representation of a Node\"\"\"\n",
    "        return f\"Node({str(self.data)})\"\n",
    "    \n",
    "    def __repr__(self):\n",
    "        \"\"\"Return the string representation of a Node\"\"\"\n",
    "        return f\"Node({str(self.data)})\""
   ]
  },
  {
   "cell_type": "markdown",
   "metadata": {},
   "source": [
    "## Trees and Binary Trees"
   ]
  },
  {
   "cell_type": "markdown",
   "metadata": {},
   "source": [
    "- *Tree*\n",
    "  - Nodes are arranged in Parent-Child relationship\n",
    "  - There should not be any cycle among the nodes\n",
    "  - *Empty Tree* - A tree with no nodes\n",
    "- *Binary Tree*\n",
    "  - The nodes can have 0, 1, or 2 child nodes\n",
    "  - Maximum of 2 children\n",
    "- *Full Binary Tree*\n",
    "  - All the nodes of the tree have either 0 or 2 children\n",
    "  - There is no node that has 1 child\n",
    "- *Complete Binary Tree*\n",
    "  - All the positions are completely filled\n",
    "  - Except (possibly) the lower level\n",
    "  - The bottom level is filled from left to right\n",
    "  - All the leaf elements must lean towards the left"
   ]
  },
  {
   "cell_type": "markdown",
   "metadata": {},
   "source": [
    "<img src='../files/chap_06/simple-binary-tree.png' width=40%>"
   ]
  },
  {
   "cell_type": "markdown",
   "metadata": {},
   "source": [
    "To create a simple binary tree:\n",
    "- Create the nodes\n",
    "- Connect the nodes to each other according to the property of a binary tree"
   ]
  },
  {
   "cell_type": "code",
   "execution_count": 2,
   "metadata": {},
   "outputs": [],
   "source": [
    "# First, create the nodes for the tree\n",
    "n1 = TreeNode(\"root node\")\n",
    "n2 = TreeNode(\"left child node\")\n",
    "n3 = TreeNode(\"right child node\")\n",
    "n4 = TreeNode(\"left grandchild node\")\n",
    "# Creating a simple binary tree structure\n",
    "n1.left_child = n2\n",
    "n1.right_child = n3\n",
    "n2.left_child = n4"
   ]
  },
  {
   "cell_type": "markdown",
   "metadata": {},
   "source": [
    "We can connect the nodes following the rule of binary tree:\n",
    "\n",
    "- Top to bottom\n",
    "- Left to right\n",
    "- Each node has at most 2 children"
   ]
  },
  {
   "cell_type": "markdown",
   "metadata": {},
   "source": [
    "<img src='../files/chap_06/binary-tree-connections.png' width=40%>"
   ]
  },
  {
   "cell_type": "markdown",
   "metadata": {},
   "source": [
    "## Tree Traversal"
   ]
  },
  {
   "cell_type": "markdown",
   "metadata": {},
   "source": [
    "- To understand tree traversal, we will traverse the left subtree, starting from the root-node"
   ]
  },
  {
   "cell_type": "code",
   "execution_count": 3,
   "metadata": {},
   "outputs": [
    {
     "name": "stdout",
     "output_type": "stream",
     "text": [
      "root node\n",
      "left child node\n",
      "left grandchild node\n"
     ]
    }
   ],
   "source": [
    "current = n1 \n",
    "while current: \n",
    "    print(current.data) \n",
    "    current = current.left_child"
   ]
  },
  {
   "cell_type": "markdown",
   "metadata": {},
   "source": [
    "- Tree Traversal can be done in 2 ways:\n",
    "  - **Depth-First-Search (DFS)** \n",
    "    - Prioritize top-to-bottom movements\n",
    "    - Move to the right when hitting wall\n",
    "  - **Breadth-First-Search (BFS)**\n",
    "    - Prioritize left-to-right movements\n",
    "    - Move to next level when hitting wall\n",
    "- We will start from the Root Node\n",
    "  - Then move to the next level, from left to right\n",
    "  - Then move to the next level and so on"
   ]
  },
  {
   "cell_type": "markdown",
   "metadata": {},
   "source": [
    "### Depth-First Traversal"
   ]
  },
  {
   "cell_type": "markdown",
   "metadata": {},
   "source": [
    "- Starting from the Root\n",
    "- Go deeper into the tree as much as possible on each child: Prioritize Depth\n",
    "- When hitting the bottom, continue on the next sibling\n",
    "- We use *Recursive Approach* for this traversal\n",
    "- There are 3 forms of *Depth-First Traversal*:\n",
    "  - **DFS In-Order**\n",
    "  - **DFS Pre-Order**\n",
    "  - **DFS Post-Order**"
   ]
  },
  {
   "cell_type": "markdown",
   "metadata": {},
   "source": [
    "### DFS In-Order Traversal & Infix Notation"
   ]
  },
  {
   "cell_type": "markdown",
   "metadata": {},
   "source": [
    "We visit the nodes in the tree in the order of:\n",
    "\n",
    "- Left-Subtree\n",
    "- Root\n",
    "- Right-Subtree\n",
    "\n",
    "Steps: \n",
    "\n",
    "1. Check if the current node is null or empty\n",
    "  - If not empty, continue traversing\n",
    "  - Else, early exit\n",
    "2. Traverse the left subtree: Call the `inorder` function recursively\n",
    "3. Visit back the root Node\n",
    "4. Traverse the right subtree: Call the `inorder` function recursively"
   ]
  },
  {
   "cell_type": "markdown",
   "metadata": {},
   "source": [
    "#### Example of DFS In-Order Traversal"
   ]
  },
  {
   "cell_type": "markdown",
   "metadata": {},
   "source": [
    "<img src='../files/chap_06/example-of-tree-to-traverse.png' width=40%>"
   ]
  },
  {
   "cell_type": "markdown",
   "metadata": {},
   "source": [
    "- We start at the root node `A`\n",
    "- We recursively visit the left sub-tree:\n",
    "  - `B` is the root node of the left sub-tree\n",
    "  - We recursively visit the left sub-tree:\n",
    "    - `D` is the root node of the left sub-tree\n",
    "    - We recursively visit the left sub-tree:\n",
    "      - `G` is the final left child of this sub-tree: **RETURN `G`**\n",
    "    - We visit back the root node `D`: **RETURN `D`**\n",
    "      - We recursively visit the right sub-tree\n",
    "      - `H` is the final right child of this sub-tree: **RETURN `H`**\n",
    "  - We visit back the root node `B`: **RETURN `B`**\n",
    "    - We recursively visit the right sub-tree\n",
    "    - `E` is the final right child of this sub-tree: **RETURN `E`**\n",
    "- We visit back the root node `A`: **RETURN `A`**\n",
    "- We recursively visit the right sub-tree:\n",
    "  - `C` is the root node of the right sub-tree\n",
    "   - We recursively visit the left sub-tree:\n",
    "     - `NULL` is the final left child of this sub-tree: **SKIP**\n",
    "   - We visit back the root node `C`: **RETURN `C`**\n",
    "     - We recursively visit the right sub-tree\n",
    "     - `F` is the final right child of this sub-tree: **RETURN `F`**\n",
    "     \n",
    "Final Order of Traversal: G-D-H-B-E-A-C-F"
   ]
  },
  {
   "cell_type": "code",
   "execution_count": 4,
   "metadata": {},
   "outputs": [],
   "source": [
    "class TreeNode:\n",
    "    \"\"\"Implementation of a Tree Node\"\"\"\n",
    "    \n",
    "    def __init__(self, data=None):\n",
    "        \"\"\"Initialize a TreeNode object\"\"\"\n",
    "        self.data = data\n",
    "        self.left_child = None\n",
    "        self.right_child = None\n",
    "        \n",
    "    def __str__(self):\n",
    "        \"\"\"Return the string representation of a Node\"\"\"\n",
    "        return f\"Node({str(self.data)})\"\n",
    "    \n",
    "    def __repr__(self):\n",
    "        \"\"\"Return the string representation of a Node\"\"\"\n",
    "        return f\"Node({str(self.data)})\"\n",
    "\n",
    "    def inorder(self, root_node):\n",
    "        \"\"\"This function allows to traverse a tree using DFS approach using in-order\"\"\"\n",
    "        # Start from the root node\n",
    "        current = root_node \n",
    "        # Base Condition for Recursion: Node is empty -> Return Nothing\n",
    "        if current is None: \n",
    "            return \n",
    "        # Recursion toward the left\n",
    "        self.inorder(current.left_child) \n",
    "        # Print the current data\n",
    "        print(current.data) \n",
    "        # Recursion toward the right\n",
    "        self.inorder(current.right_child)"
   ]
  },
  {
   "cell_type": "code",
   "execution_count": 5,
   "metadata": {},
   "outputs": [
    {
     "name": "stdout",
     "output_type": "stream",
     "text": [
      "left grandchild node\n",
      "left child node\n",
      "root node\n",
      "right child node\n"
     ]
    }
   ],
   "source": [
    "# Initializing TreeNodes\n",
    "n1 = TreeNode(\"root node\")\n",
    "n2 = TreeNode(\"left child node\")\n",
    "n3 = TreeNode(\"right child node\")\n",
    "n4 = TreeNode(\"left grandchild node\")\n",
    "# Populating a Binary Tree\n",
    "n1.left_child = n2\n",
    "n1.right_child = n3\n",
    "n2.left_child = n4\n",
    "# Testing DFS In-Order Traversing\n",
    "n1.inorder(n1)"
   ]
  },
  {
   "cell_type": "markdown",
   "metadata": {},
   "source": [
    "#### Infix Notation"
   ]
  },
  {
   "cell_type": "markdown",
   "metadata": {},
   "source": [
    "- Also known as *Reverse Polish* notation\n",
    "- Commonly used notation to express arithmetic expressions where the operators are placed in-between the operands\n",
    "- This is the common way we are used to represent arithmetic operations from school\n",
    "- When necessary, parenthesis can be used to represent more complex operations\n",
    "- **Expression Tree**\n",
    "  - A special kind of Binary Tree\n",
    "  - Can be used to represent arithmetic expressions\n",
    "  - The inorder traversal of an *Expression Tree* produce the *Infix Notation*\n",
    "- Example: Infix Notation of `5 + 3`"
   ]
  },
  {
   "cell_type": "markdown",
   "metadata": {},
   "source": [
    "<img src='../files/chap_06/expression-tree-example.png' width=40%>"
   ]
  },
  {
   "cell_type": "markdown",
   "metadata": {},
   "source": [
    "### DFS Pre-Order Traversal & Prefix Notation"
   ]
  },
  {
   "cell_type": "markdown",
   "metadata": {},
   "source": [
    "We visit the nodes in the tree in the order of:\n",
    "\n",
    "- Root\n",
    "- Left-Subtree\n",
    "- Right-Subtree\n",
    "\n",
    "Steps: \n",
    "\n",
    "1. Check if the current node is null or empty\n",
    "  - If not empty, continue traversing\n",
    "  - Else, early exit\n",
    "2. Traverse with the root Node\n",
    "3. Traverse the left subtree: Call the `preorder` function recursively\n",
    "4. Traverse the right subtree: Call the `preorder` function recursively"
   ]
  },
  {
   "cell_type": "markdown",
   "metadata": {},
   "source": [
    "#### Example of DFS Pre-Order Traversal"
   ]
  },
  {
   "cell_type": "markdown",
   "metadata": {},
   "source": [
    "<img src='../files/chap_06/example-of-tree-to-traverse.png' width=40%>"
   ]
  },
  {
   "cell_type": "markdown",
   "metadata": {},
   "source": [
    "- We start at the root node `A`: **RETURN `A`**\n",
    "- We recursively visit the left sub-tree:\n",
    "  - `B` is the root node of the left sub-tree: **RETURN `B`**\n",
    "  - We recursively visit the left sub-tree:\n",
    "    - `D` is the root node of the left sub-tree: **RETURN `D`**\n",
    "    - We recursively visit the left sub-tree:\n",
    "      - `G` is the final left child of this sub-tree: **RETURN `G`**\n",
    "    - We visit back the root node `D`\n",
    "      - We recursively visit the right sub-tree\n",
    "      - `H` is the final right child of this sub-tree: **RETURN `H`**\n",
    "  - We visit back the root node `B`\n",
    "    - We recursively visit the right sub-tree\n",
    "    - `E` is the right child of this sub-tree: **RETURN `E`**\n",
    "- We visit back the root node `A`\n",
    "- We recursively visit the right sub-tree:\n",
    "  - `C` is the root node of the left sub-tree: **RETURN `C`**\n",
    "   - We recursively visit the left sub-tree:\n",
    "     - `NULL` is the left child of this sub-tree: **SKIP**\n",
    "   - We visit back the root node `C`\n",
    "     - We recursively visit the right sub-tree\n",
    "     - `F` is the right child of this sub-tree: **RETURN `F`**\n",
    "     \n",
    "Final Order of Traversal: A-B-D-G-H-E-C-F"
   ]
  },
  {
   "cell_type": "code",
   "execution_count": 6,
   "metadata": {},
   "outputs": [],
   "source": [
    "class TreeNode:\n",
    "    \"\"\"Implementation of a Tree Node\"\"\"\n",
    "    \n",
    "    def __init__(self, data=None):\n",
    "        \"\"\"Initialize a TreeNode object\"\"\"\n",
    "        self.data = data\n",
    "        self.left_child = None\n",
    "        self.right_child = None\n",
    "        \n",
    "    def __str__(self):\n",
    "        \"\"\"Return the string representation of a Node\"\"\"\n",
    "        return f\"Node({str(self.data)})\"\n",
    "    \n",
    "    def __repr__(self):\n",
    "        \"\"\"Return the string representation of a Node\"\"\"\n",
    "        return f\"Node({str(self.data)})\"\n",
    "\n",
    "    def inorder(self, root_node):\n",
    "        \"\"\"This function allows to traverse a tree using DFS approach using in-order\"\"\"\n",
    "        # Start from the root node\n",
    "        current = root_node \n",
    "        # Base Condition for Recursion: Node is empty -> Return Nothing\n",
    "        if current is None: \n",
    "            return \n",
    "        # Recursion toward the left\n",
    "        self.inorder(current.left_child) \n",
    "        # Print the current data\n",
    "        print(current.data) \n",
    "        # Recursion toward the right\n",
    "        self.inorder(current.right_child)\n",
    "\n",
    "    def preorder(self, root_node): \n",
    "        \"\"\"This function allows to traverse a tree using DFS approach using pre-order\"\"\"\n",
    "        # Start from the root node\n",
    "        current = root_node\n",
    "        # Base Condition for Recursion: Node is empty -> Return Nothing\n",
    "        if current is None: \n",
    "            return \n",
    "        # Print the current data\n",
    "        print(current.data) \n",
    "        # Recursion toward the left\n",
    "        self.preorder(current.left_child) \n",
    "        # Recursion toward the right\n",
    "        self.preorder(current.right_child)"
   ]
  },
  {
   "cell_type": "code",
   "execution_count": 7,
   "metadata": {},
   "outputs": [
    {
     "name": "stdout",
     "output_type": "stream",
     "text": [
      "root node\n",
      "left child node\n",
      "left grandchild node\n",
      "right child node\n"
     ]
    }
   ],
   "source": [
    "# Initializing TreeNodes\n",
    "n1 = TreeNode(\"root node\")\n",
    "n2 = TreeNode(\"left child node\")\n",
    "n3 = TreeNode(\"right child node\")\n",
    "n4 = TreeNode(\"left grandchild node\")\n",
    "# Populating a Binary Tree\n",
    "n1.left_child = n2\n",
    "n1.right_child = n3\n",
    "n2.left_child = n4\n",
    "# Testing DFS Pre-Order Traversing\n",
    "n1.preorder(n1)"
   ]
  },
  {
   "cell_type": "markdown",
   "metadata": {},
   "source": [
    "#### Prefix Notation"
   ]
  },
  {
   "cell_type": "markdown",
   "metadata": {},
   "source": [
    "- Also known as *Polish* notation\n",
    "- The operator comes before the operands\n",
    "- There is no further confusion over the precedence of operators, so parentheses are never needed\n",
    "- Mostly used by LISP programmers\n",
    "- Example: Prefix Notation of `(8+3)-3` is `+ - 8 3 3`"
   ]
  },
  {
   "cell_type": "markdown",
   "metadata": {},
   "source": [
    "<img src='../files/chap_06/expression-tree-example-prefix.png' width=40%>"
   ]
  },
  {
   "cell_type": "markdown",
   "metadata": {},
   "source": [
    "### DFS Post-Order Traversal & Postfix Notation"
   ]
  },
  {
   "cell_type": "markdown",
   "metadata": {},
   "source": [
    "We visit the nodes in the tree in the order of:\n",
    "\n",
    "- Left-Subtree\n",
    "- Right-Subtree\n",
    "- Root\n",
    "\n",
    "Steps: \n",
    "\n",
    "1. Check if the current node is null or empty\n",
    "  - If not empty, continue traversing\n",
    "  - Else, early exit\n",
    "2. Traverse the left subtree: Call the `postorder` function recursively\n",
    "3. Traverse the right subtree: Call the `postorder` function recursively\n",
    "4. Traverse with the root Node"
   ]
  },
  {
   "cell_type": "markdown",
   "metadata": {},
   "source": [
    "#### Example of DFS Post-Order Traversal"
   ]
  },
  {
   "cell_type": "markdown",
   "metadata": {},
   "source": [
    "<img src='../files/chap_06/example-of-tree-to-traverse.png' width=40%>"
   ]
  },
  {
   "cell_type": "markdown",
   "metadata": {},
   "source": [
    "- We start at the root node `A`\n",
    "- We recursively visit the left sub-tree:\n",
    "  - `B` is the root node of the left sub-tree\n",
    "  - We recursively visit the left sub-tree:\n",
    "    - `D` is the root node of the left sub-tree\n",
    "    - We recursively visit the left sub-tree:\n",
    "      - `G` is the final left child of this sub-tree: **RETURN `G`**\n",
    "    - We recursively visit the right sub-tree\n",
    "      - `H` is the final right child of this sub-tree: **RETURN `H`**\n",
    "    - We visit the root node `D`: **RETURN `D`**\n",
    "  - We recursively visit the right sub-tree\n",
    "    - `E` is the right child of this sub-tree: **RETURN `E`**\n",
    "  - We visit back the root node `B`: **RETURN `B`**\n",
    "- We recursively visit the right sub-tree:\n",
    "  - `C` is the root node of the left sub-tree\n",
    "  - We recursively visit the left sub-tree:\n",
    "    - `NULL` is the left child of this sub-tree: **SKIP**\n",
    "  - We recursively visit the right sub-tree\n",
    "    - `F` is the right child of this sub-tree: **RETURN `F`**\n",
    "  - We visit back the root node `C`: **RETURN `C`**\n",
    "- We visit back the root node `A`: **RETURN `A`**\n",
    "\n",
    "Final Order of Traversal: G-H-D-E-B-F-C-A"
   ]
  },
  {
   "cell_type": "code",
   "execution_count": 8,
   "metadata": {},
   "outputs": [],
   "source": [
    "class TreeNode:\n",
    "    \"\"\"Implementation of a Tree Node\"\"\"\n",
    "    \n",
    "    def __init__(self, data=None):\n",
    "        \"\"\"Initialize a TreeNode object\"\"\"\n",
    "        self.data = data\n",
    "        self.left_child = None\n",
    "        self.right_child = None\n",
    "        \n",
    "    def __str__(self):\n",
    "        \"\"\"Return the string representation of a Node\"\"\"\n",
    "        return f\"Node({str(self.data)})\"\n",
    "    \n",
    "    def __repr__(self):\n",
    "        \"\"\"Return the string representation of a Node\"\"\"\n",
    "        return f\"Node({str(self.data)})\"\n",
    "\n",
    "    def inorder(self, root_node):\n",
    "        \"\"\"This function allows to traverse a tree using DFS approach using in-order\"\"\"\n",
    "        # Start from the root node\n",
    "        current = root_node \n",
    "        # Base Condition for Recursion: Node is empty -> Return Nothing\n",
    "        if current is None: \n",
    "            return \n",
    "        # Recursion toward the left\n",
    "        self.inorder(current.left_child) \n",
    "        # Print the current data\n",
    "        print(current.data) \n",
    "        # Recursion toward the right\n",
    "        self.inorder(current.right_child)\n",
    "\n",
    "    def preorder(self, root_node): \n",
    "        \"\"\"This function allows to traverse a tree using DFS approach using pre-order\"\"\"\n",
    "        # Start from the root node\n",
    "        current = root_node\n",
    "        # Base Condition for Recursion: Node is empty -> Return Nothing\n",
    "        if current is None: \n",
    "            return \n",
    "        # Print the current data\n",
    "        print(current.data) \n",
    "        # Recursion toward the left\n",
    "        self.preorder(current.left_child) \n",
    "        # Recursion toward the right\n",
    "        self.preorder(current.right_child)\n",
    "        \n",
    "    def postorder(self, root_node): \n",
    "        \"\"\"This function allows to traverse a tree using DFS approach using post-order\"\"\"\n",
    "        # Start from the root node\n",
    "        current = root_node \n",
    "        # Base Condition for Recursion: Node is empty -> Return Nothing\n",
    "        if current is None: \n",
    "            return \n",
    "        # Recursion toward the left\n",
    "        self.postorder(current.left_child) \n",
    "        # Recursion toward the right\n",
    "        self.postorder(current.right_child) \n",
    "        # Print the current data\n",
    "        print(current.data)"
   ]
  },
  {
   "cell_type": "code",
   "execution_count": 9,
   "metadata": {},
   "outputs": [
    {
     "name": "stdout",
     "output_type": "stream",
     "text": [
      "left grandchild node\n",
      "left child node\n",
      "right child node\n",
      "root node\n"
     ]
    }
   ],
   "source": [
    "# Initializing TreeNodes\n",
    "n1 = TreeNode(\"root node\")\n",
    "n2 = TreeNode(\"left child node\")\n",
    "n3 = TreeNode(\"right child node\")\n",
    "n4 = TreeNode(\"left grandchild node\")\n",
    "# Populating a Binary Tree\n",
    "n1.left_child = n2\n",
    "n1.right_child = n3\n",
    "n2.left_child = n4\n",
    "# Testing DFS Post-Order Traversing\n",
    "n1.postorder(n1)"
   ]
  },
  {
   "cell_type": "markdown",
   "metadata": {},
   "source": [
    "#### Postfix Notation"
   ]
  },
  {
   "cell_type": "markdown",
   "metadata": {},
   "source": [
    "- Also known as *Reverse Polish* notation\n",
    "- Places the operator after the operands\n",
    "- There is no further confusion over the precedence of operators, so parentheses are never needed\n",
    "- Example: Prefix Notation of `(8+3)-3` is `8 3 - 3 +`"
   ]
  },
  {
   "cell_type": "markdown",
   "metadata": {},
   "source": [
    "<img src='../files/chap_06/expression-tree-example-prefix.png' width=40%>"
   ]
  },
  {
   "cell_type": "markdown",
   "metadata": {},
   "source": [
    "### Breadth-First Traversal"
   ]
  },
  {
   "cell_type": "markdown",
   "metadata": {},
   "source": [
    "- Starts from the root of the tree\n",
    "- Visit every nodes on the next level of the tree (horizontal): Prioritize levels\n",
    "- Move to the next level of the tree and repeat\n",
    "- Broadens the tree by traversing all the nodes in a level before going deep into the tree"
   ]
  },
  {
   "cell_type": "markdown",
   "metadata": {},
   "source": [
    "<img src='../files/chap_06/breadth-first-traversal.png' width=50%>"
   ]
  },
  {
   "cell_type": "markdown",
   "metadata": {},
   "source": [
    "- We start at the root node level-0: **RETURN `4`**\n",
    "- We move to level 1:\n",
    "  - We visit node `2`: **RETURN `2`**\n",
    "  - We visit node `8`: **RETURN `8`**\n",
    "- We move to level 2:\n",
    "  - We visit node `1`: **RETURN `1`**\n",
    "  - We visit node `3`: **RETURN `3`**\n",
    "  - We visit node `5`: **RETURN `5`**\n",
    "  - We visit node `10`: **RETURN `10`**\n",
    "\n",
    "Final Order of Traversal: 4-2-8-1-3-5-10\n",
    "\n",
    "- This traversal is implemented using a *Queue* structure\n",
    "  - Push the root into the Queue\n",
    "  - Dequeue and visit\n",
    "  - Push the left node into the Queue\n",
    "  - Push the right node into the Queue\n",
    "  - Dequeue and visit\n",
    "  - Push the left node into the Queue\n",
    "  - Push the right node into the Queue\n",
    "  - Dequeue and visit\n",
    "  - ... Continue until the Queue is empty"
   ]
  },
  {
   "cell_type": "markdown",
   "metadata": {},
   "source": [
    "- In our example here, we will make use of the `deque` Python collection\n",
    "- However, we could also implement our own Queue class if we wanted to"
   ]
  },
  {
   "cell_type": "code",
   "execution_count": 10,
   "metadata": {},
   "outputs": [],
   "source": [
    "from collections import deque \n",
    "\n",
    "class TreeNode:\n",
    "    \"\"\"Implementation of a Tree Node\"\"\"\n",
    "    \n",
    "    def __init__(self, data=None):\n",
    "        \"\"\"Initialize a TreeNode object\"\"\"\n",
    "        self.data = data\n",
    "        self.left_child = None\n",
    "        self.right_child = None\n",
    "        \n",
    "    def __str__(self):\n",
    "        \"\"\"Return the string representation of a Node\"\"\"\n",
    "        return f\"Node({str(self.data)})\"\n",
    "    \n",
    "    def __repr__(self):\n",
    "        \"\"\"Return the string representation of a Node\"\"\"\n",
    "        return f\"Node({str(self.data)})\"\n",
    "\n",
    "    def inorder(self, root_node):\n",
    "        \"\"\"This function allows to traverse a tree using DFS approach using in-order\"\"\"\n",
    "        # Start from the root node\n",
    "        current = root_node \n",
    "        # Base Condition for Recursion: Node is empty -> Return Nothing\n",
    "        if current is None: \n",
    "            return \n",
    "        # Recursion toward the left\n",
    "        self.inorder(current.left_child) \n",
    "        # Print the current data\n",
    "        print(current.data) \n",
    "        # Recursion toward the right\n",
    "        self.inorder(current.right_child)\n",
    "\n",
    "    def preorder(self, root_node): \n",
    "        \"\"\"This function allows to traverse a tree using DFS approach using pre-order\"\"\"\n",
    "        # Start from the root node\n",
    "        current = root_node\n",
    "        # Base Condition for Recursion: Node is empty -> Return Nothing\n",
    "        if current is None: \n",
    "            return \n",
    "        # Print the current data\n",
    "        print(current.data) \n",
    "        # Recursion toward the left\n",
    "        self.preorder(current.left_child) \n",
    "        # Recursion toward the right\n",
    "        self.preorder(current.right_child)\n",
    "        \n",
    "    def postorder(self, root_node): \n",
    "        \"\"\"This function allows to traverse a tree using DFS approach using post-order\"\"\"\n",
    "        # Start from the root node\n",
    "        current = root_node \n",
    "        # Base Condition for Recursion: Node is empty -> Return Nothing\n",
    "        if current is None: \n",
    "            return \n",
    "        # Recursion toward the left\n",
    "        self.postorder(current.left_child) \n",
    "        # Recursion toward the right\n",
    "        self.postorder(current.right_child) \n",
    "        # Print the current data\n",
    "        print(current.data)\n",
    "\n",
    "    def breadth_first_traversal(self, root_node): \n",
    "        \"\"\"This function allows to traverse a tree using Breadth-First approach\"\"\"\n",
    "        final_list_of_visited_nodes = [] \n",
    "        # Initialize the queue with the root node\n",
    "        traversal_queue = deque([root_node])\n",
    "        while len(traversal_queue) > 0: \n",
    "            # Take one node from the queue and put in the final list\n",
    "            node = traversal_queue.popleft() \n",
    "            final_list_of_visited_nodes.append(node.data) \n",
    "            # Check its left child and append to the queue\n",
    "            if node.left_child: \n",
    "                traversal_queue.append(node.left_child) \n",
    "            # Check its right child and append to the queue\n",
    "            if node.right_child: \n",
    "                traversal_queue.append(node.right_child) \n",
    "        # Return the final list\n",
    "        return final_list_of_visited_nodes"
   ]
  },
  {
   "cell_type": "code",
   "execution_count": 11,
   "metadata": {},
   "outputs": [
    {
     "data": {
      "text/plain": [
       "['root node', 'left child node', 'right child node', 'left grandchild node']"
      ]
     },
     "execution_count": 11,
     "metadata": {},
     "output_type": "execute_result"
    }
   ],
   "source": [
    "# Initializing TreeNodes\n",
    "n1 = TreeNode(\"root node\")\n",
    "n2 = TreeNode(\"left child node\")\n",
    "n3 = TreeNode(\"right child node\")\n",
    "n4 = TreeNode(\"left grandchild node\")\n",
    "# Populating a Binary Tree\n",
    "n1.left_child = n2\n",
    "n1.right_child = n3\n",
    "n2.left_child = n4\n",
    "# Testing Breadth-First Traversing\n",
    "n1.breadth_first_traversal(n1)"
   ]
  },
  {
   "cell_type": "markdown",
   "metadata": {},
   "source": [
    "## Binary Tree"
   ]
  },
  {
   "cell_type": "markdown",
   "metadata": {},
   "source": [
    "- Each node has a maximum of 2 children\n",
    "- There is no other rule as to how the nodes are arranged\n",
    "- Organized in the form of left-subtree and right-subtree\n",
    "- The subtree roots are called *Left Successor* and *Right Successor*"
   ]
  },
  {
   "cell_type": "markdown",
   "metadata": {},
   "source": [
    "<img src='../files/chap_06/binary-tree-example.png' width=30%>"
   ]
  },
  {
   "cell_type": "markdown",
   "metadata": {},
   "source": [
    "### Binary Search Tree"
   ]
  },
  {
   "cell_type": "markdown",
   "metadata": {},
   "source": [
    "- Special kind of binary tree\n",
    "- One of the most important data structures\n",
    "- Commonly used in applications\n",
    "- Structurally a Binary Tree\n",
    "- Stores data in its nodes very efficiently\n",
    "- Provides a fast search operation\n",
    "- Convenient and easy insertion and deletion operations\n",
    "- *A Binary Tree is a Binary Search Tree if:* \n",
    "  - Value at any node of that tree > Value in all the nodes of its left subtree\n",
    "  - Value at any node of that tree <= Value in all the nodes of its right subtree\n",
    "  - *This property must apply to all the nodes in the tree*"
   ]
  },
  {
   "cell_type": "markdown",
   "metadata": {},
   "source": [
    "<img src='../files/chap_06/binary-search-tree-example.png' width=40%>"
   ]
  },
  {
   "cell_type": "markdown",
   "metadata": {},
   "source": [
    "- All of the nodes in the left subtree of 5 are <= 5\n",
    "  - All of the nodes in the left subtree of 3 are <= 3\n",
    "  - All of the nodes in the right subtree of 3 are > 3\n",
    "- All of nodes in the right subtree of 5 are > 5\n",
    "  - All of the nodes in the right subtree of 7 are > 7"
   ]
  },
  {
   "cell_type": "markdown",
   "metadata": {},
   "source": [
    "<img src='../files/chap_06/non-binary-search-tree-example.png' width=40%>"
   ]
  },
  {
   "cell_type": "markdown",
   "metadata": {},
   "source": [
    "The above tree is not a *Binary Search Tree* because:\n",
    "\n",
    "- 7 is a left-subtree of 5 but 7 > 5\n",
    "- 4 is a right-subtree of 7 but 4 < 7\n",
    "- 3 is a right-subtree of 5 but 3 < 5"
   ]
  },
  {
   "cell_type": "markdown",
   "metadata": {},
   "source": [
    "### Binary Search Tree Implementation"
   ]
  },
  {
   "cell_type": "markdown",
   "metadata": {},
   "source": [
    "- We need to keep track of the root node\n",
    "- Operations:\n",
    "  - Insert\n",
    "  - Delete\n",
    "  - Find Min\n",
    "  - Find Max\n",
    "  - Search..."
   ]
  },
  {
   "cell_type": "code",
   "execution_count": 12,
   "metadata": {},
   "outputs": [],
   "source": [
    "class BinarySearchTree:\n",
    "    \"\"\"Implementation of a BinarySearchTree\"\"\"\n",
    "    \n",
    "    def __init__(self):\n",
    "        \"\"\"Initialize a BinarySearchTree object\"\"\"\n",
    "        self.root_node = None # TreeNode"
   ]
  },
  {
   "cell_type": "markdown",
   "metadata": {},
   "source": [
    "#### Finding Minimum and Maximum Nodes"
   ]
  },
  {
   "cell_type": "markdown",
   "metadata": {},
   "source": [
    "- The structure makes it very easy to find the extremes\n",
    "  - Minimum: Traverse from root toward the left recursively until reaching an endpoint\n",
    "  - Maximum: Traverse from root toward the right recursively until reaching an endpoint\n",
    "- Applies to subtrees as well"
   ]
  },
  {
   "cell_type": "markdown",
   "metadata": {},
   "source": [
    "<img src='../files/chap_06/bst-maxima-minima.png' width=50%>"
   ]
  },
  {
   "cell_type": "code",
   "execution_count": 13,
   "metadata": {},
   "outputs": [],
   "source": [
    "class BinarySearchTree:\n",
    "    \"\"\"Implementation of a BinarySearchTree\"\"\"\n",
    "    \n",
    "    def __init__(self):\n",
    "        \"\"\"Initialize a BinarySearchTree object\"\"\"\n",
    "        self.root_node = None # TreeNode\n",
    "        \n",
    "    def minimum(self):\n",
    "        \"\"\"Find the minimum value in the tree. O(h) with h: Height of the tree\"\"\"\n",
    "        # Start from the root node\n",
    "        current = self.root_node\n",
    "        # Loop toward the left until reaching an endpoint\n",
    "        while current.left_child:\n",
    "            current = current.left_child\n",
    "        # When endpoint reached, return as minimum\n",
    "        return current # TreeNode\n",
    "    \n",
    "    def maximum(self):\n",
    "        \"\"\"Find the maximum value in the tree. O(h) with h: Height of the tree\"\"\"\n",
    "        # Start from the root node\n",
    "        current = self.root_node\n",
    "        # Loop toward the right until reaching an endpoint\n",
    "        while current.right_child:\n",
    "            current = current.right_child\n",
    "        # When endpoint reached, return as maximum\n",
    "        return current # TreeNode"
   ]
  },
  {
   "cell_type": "markdown",
   "metadata": {},
   "source": [
    "#### Inserting Nodes"
   ]
  },
  {
   "cell_type": "markdown",
   "metadata": {},
   "source": [
    "- We need to make sure to maintain the properties of a BST while doing this operation\n",
    "  - The left child nodes should contain the data less than their own value\n",
    "  - The right child nodes should contain the data greater than or equal their own value"
   ]
  },
  {
   "cell_type": "markdown",
   "metadata": {},
   "source": [
    "1. Create a `TreeNode X` with the data to insert\n",
    "1. Check if the Tree is empty\n",
    "  1. If empty, insert the TreeNode as root node\n",
    "  1. If not empty, recursively compare with existing nodes starting from the root node\n",
    "    1. If `X <= Current_Node`, move toward the left\n",
    "       1. If reaching endpoint, insert\n",
    "    1. If `X > Current_Node`, move toward the right\n",
    "       1. If reaching endpoint, insert"
   ]
  },
  {
   "cell_type": "code",
   "execution_count": 14,
   "metadata": {},
   "outputs": [],
   "source": [
    "class BinarySearchTree:\n",
    "    \"\"\"Implementation of a BinarySearchTree\"\"\"\n",
    "    \n",
    "    def __init__(self):\n",
    "        \"\"\"Initialize a BinarySearchTree object\"\"\"\n",
    "        self.root_node = None # TreeNode\n",
    "        \n",
    "    def minimum(self):\n",
    "        \"\"\"Find the minimum value in the tree. O(h) with h: Height of the tree\"\"\"\n",
    "        # Start from the root node\n",
    "        current = self.root_node\n",
    "        # Loop toward the left until reaching an endpoint\n",
    "        while current.left_child:\n",
    "            current = current.left_child\n",
    "        # When endpoint reached, return as minimum\n",
    "        return current # TreeNode\n",
    "    \n",
    "    def maximum(self):\n",
    "        \"\"\"Find the maximum value in the tree. O(h) with h: Height of the tree\"\"\"\n",
    "        # Start from the root node\n",
    "        current = self.root_node\n",
    "        # Loop toward the right until reaching an endpoint\n",
    "        while current.right_child:\n",
    "            current = current.right_child\n",
    "        # When endpoint reached, return as maximum\n",
    "        return current # TreeNode\n",
    "    \n",
    "    def insert(self, data):\n",
    "        \"\"\"Insert a new value in the tree. O(h) with h: Height of the tree\"\"\"\n",
    "        # Create a new TreeNode to hold the new value\n",
    "        new_node = TreeNode(data)\n",
    "        # Check the case when the tree is initially empty\n",
    "        if self.root_node is None: \n",
    "            self.root_node = new_node \n",
    "        # Else, start from the root_node\n",
    "        else: \n",
    "            current = self.root_node \n",
    "            parent = None\n",
    "        # Looping until hitting an endpoint\n",
    "        while True: \n",
    "            parent = current\n",
    "            # If value is less, move toward the left\n",
    "            if new_node.data < parent.data: \n",
    "                current = current.left_child\n",
    "                # If hitting an endpoint, insert\n",
    "                if current is None: \n",
    "                    parent.left_child = new_node \n",
    "                    return\n",
    "            # If value is greater or equal, move toward the right\n",
    "            else: \n",
    "                current = current.right_child\n",
    "                # If hitting an endpoint, insert\n",
    "                if current is None: \n",
    "                    parent.right_child = new_node \n",
    "                    return"
   ]
  },
  {
   "cell_type": "markdown",
   "metadata": {},
   "source": [
    "#### Deleting Nodes"
   ]
  },
  {
   "cell_type": "markdown",
   "metadata": {},
   "source": [
    "3 scenarios that we must cater during this process:"
   ]
  },
  {
   "cell_type": "markdown",
   "metadata": {},
   "source": [
    "**1. The node to remove has no children**\n",
    "- Remove directly\n",
    "  \n",
    "<img src='../files/chap_06/node-to-delete-no-children.png' width=40%>"
   ]
  },
  {
   "cell_type": "markdown",
   "metadata": {},
   "source": [
    "**2. The node to remove has 1 child**\n",
    "- Point the parent of that node to the child of that node\n",
    "- Ensure that the child-parent relationship still follow the properties of BST\n",
    "- Delete the node\n",
    "  \n",
    "<img src='../files/chap_06/node-to-delete-one-child.png' width=20%>  "
   ]
  },
  {
   "cell_type": "markdown",
   "metadata": {},
   "source": [
    "**3. The node to remove has 2 children**\n",
    "- Find the next biggest descendant of the node (in-order successor) and get to that node\n",
    "- Swap the value with it\n",
    "- Consider the now current node and follow the samer rules\n",
    "\n",
    "<img src='../files/chap_06/node-to-delete-has-two-children.png' width=50%>  "
   ]
  },
  {
   "cell_type": "markdown",
   "metadata": {},
   "source": [
    "We do not keep reference of the parent node so we will use a helper function"
   ]
  },
  {
   "cell_type": "code",
   "execution_count": 15,
   "metadata": {},
   "outputs": [],
   "source": [
    "class BinarySearchTree:\n",
    "    \"\"\"Implementation of a BinarySearchTree\"\"\"\n",
    "    \n",
    "    def __init__(self):\n",
    "        \"\"\"Initialize a BinarySearchTree object\"\"\"\n",
    "        self.root_node = None # TreeNode\n",
    "        \n",
    "    def minimum(self):\n",
    "        \"\"\"Find the minimum value in the tree. O(h) with h: Height of the tree\"\"\"\n",
    "        # Start from the root node\n",
    "        current = self.root_node\n",
    "        # Loop toward the left until reaching an endpoint\n",
    "        while current.left_child:\n",
    "            current = current.left_child\n",
    "        # When endpoint reached, return as minimum\n",
    "        return current # TreeNode\n",
    "    \n",
    "    def maximum(self):\n",
    "        \"\"\"Find the maximum value in the tree. O(h) with h: Height of the tree\"\"\"\n",
    "        # Start from the root node\n",
    "        current = self.root_node\n",
    "        # Loop toward the right until reaching an endpoint\n",
    "        while current.right_child:\n",
    "            current = current.right_child\n",
    "        # When endpoint reached, return as maximum\n",
    "        return current # TreeNode\n",
    "    \n",
    "    def insert(self, data):\n",
    "        \"\"\"Insert a new value in the tree. O(h) with h: Height of the tree\"\"\"\n",
    "        # Create a new TreeNode to hold the new value\n",
    "        new_node = TreeNode(data)\n",
    "        # Check the case when the tree is initially empty\n",
    "        if self.root_node is None: \n",
    "            self.root_node = new_node \n",
    "        # Else, start from the root_node\n",
    "        else: \n",
    "            current = self.root_node \n",
    "            parent = None\n",
    "        # Looping until hitting an endpoint\n",
    "        while True: \n",
    "            parent = current\n",
    "            # If value is less, move toward the left\n",
    "            if new_node.data < parent.data: \n",
    "                current = current.left_child\n",
    "                # If hitting an endpoint, insert\n",
    "                if current is None: \n",
    "                    parent.left_child = new_node \n",
    "                    return\n",
    "            # If value is greater or equal, move toward the right\n",
    "            else: \n",
    "                current = current.right_child\n",
    "                # If hitting an endpoint, insert\n",
    "                if current is None: \n",
    "                    parent.right_child = new_node \n",
    "                    return\n",
    "    \n",
    "    def get_node_with_parent(self, data):\n",
    "        \"\"\"Helper function to search the parent of a node\"\"\"\n",
    "        # Initialize\n",
    "        parent = None \n",
    "        current = self.root_node \n",
    "        # Check the case when the tree is initially empty\n",
    "        if current is None: \n",
    "            return (parent, None) \n",
    "        # Else, loop until hitting an endpoint\n",
    "        while True:\n",
    "            # If we find the node, return with its parent\n",
    "            if current.data == data: \n",
    "                return (parent, current)\n",
    "            # If data to find is less than current node, move left\n",
    "            elif current.data > data: \n",
    "                parent = current \n",
    "                current = current.left_child \n",
    "            # If data to find is greater than current node, move right\n",
    "            else: \n",
    "                parent = current \n",
    "                current = current.right_child \n",
    "        # Return the result\n",
    "        return (parent, current)\n",
    "\n",
    "    def remove(self, data): \n",
    "        \"\"\"Remove a value from the tree. O(h) with h: Height of the tree\"\"\"\n",
    "        # Get the parent and the node that has the data to remove\n",
    "        parent, node = self.get_node_with_parent(data) \n",
    "        # Check the case when the tree is initially empty\n",
    "        if parent is None and node is None: \n",
    "            return False \n",
    "        # Get children count \n",
    "        children_count = 0 \n",
    "        if node.left_child and node.right_child: \n",
    "            children_count = 2 \n",
    "        elif (node.left_child is None) and (node.right_child is None): \n",
    "            children_count = 0 \n",
    "        else: \n",
    "            children_count = 1\n",
    "        # Handle the various conditions of deletion: \n",
    "        # No child: Remove the node directly\n",
    "        if children_count == 0: \n",
    "            if parent: \n",
    "                if parent.right_child is node: \n",
    "                    parent.right_child = None \n",
    "                else:\n",
    "                    parent.left_child = None \n",
    "            else: \n",
    "                self.root_node = None\n",
    "        # 1 Child: \n",
    "            # Point the parent of that node to the child of that node (next node)\n",
    "            # Ensure that the child-parent relationship still follow the properties of BST\n",
    "            # Delete the node\n",
    "        elif children_count == 1: \n",
    "            next_node = None \n",
    "            if node.left_child: \n",
    "                next_node = node.left_child \n",
    "            else: \n",
    "                next_node = node.right_child \n",
    "            if parent: \n",
    "                if parent.left_child is node: \n",
    "                    parent.left_child = next_node \n",
    "                else: \n",
    "                    parent.right_child = next_node \n",
    "            else: \n",
    "                self.root_node = next_node\n",
    "        # 2 children\n",
    "            # Find the next biggest descendant of the node (in-order successor) and get to that node\n",
    "            # Swap the value with it\n",
    "            # Consider the now current node and follow the samer rules\n",
    "        else: \n",
    "            parent_of_leftmost_node = node \n",
    "            leftmost_node = node.right_child \n",
    "            while leftmost_node.left_child:\n",
    "                parent_of_leftmost_node = leftmost_node \n",
    "                leftmost_node = leftmost_node.left_child \n",
    "                node.data = leftmost_node.data\n",
    "            # The in-order successor can only have a right child as its only child.\n",
    "            if parent_of_leftmost_node.left_child == leftmost_node: \n",
    "                parent_of_leftmost_node.left_child = leftmost_node.right_child \n",
    "            else: \n",
    "                parent_of_leftmost_node.right_child = leftmost_node.right_child"
   ]
  },
  {
   "cell_type": "markdown",
   "metadata": {},
   "source": [
    "#### Searching The Tree"
   ]
  },
  {
   "cell_type": "markdown",
   "metadata": {},
   "source": [
    "- Searching for an element with a given key value is easy because of the property of the tree\n",
    "- We will consider the following example"
   ]
  },
  {
   "cell_type": "markdown",
   "metadata": {},
   "source": [
    "<img src='../files/chap_06/binary-tree-to-search.png' width=40%>  "
   ]
  },
  {
   "cell_type": "markdown",
   "metadata": {},
   "source": [
    "Example: To search for Node 5:\n",
    "- Start from Root Node: 4\n",
    "- 5 > 4 so move to the `right_child`: 8\n",
    "- 5 < 8 so move to the `left_child`: 5\n",
    "- 5 == 5: Return"
   ]
  },
  {
   "cell_type": "code",
   "execution_count": 16,
   "metadata": {},
   "outputs": [],
   "source": [
    "class BinarySearchTree:\n",
    "    \"\"\"Implementation of a BinarySearchTree\"\"\"\n",
    "    \n",
    "    def __init__(self):\n",
    "        \"\"\"Initialize a BinarySearchTree object\"\"\"\n",
    "        self.root_node = None # TreeNode\n",
    "        \n",
    "    def minimum(self):\n",
    "        \"\"\"Find the minimum value in the tree. O(h) with h: Height of the tree\"\"\"\n",
    "        # Start from the root node\n",
    "        current = self.root_node\n",
    "        # Loop toward the left until reaching an endpoint\n",
    "        while current.left_child:\n",
    "            current = current.left_child\n",
    "        # When endpoint reached, return as minimum\n",
    "        return current # TreeNode\n",
    "    \n",
    "    def maximum(self):\n",
    "        \"\"\"Find the maximum value in the tree. O(h) with h: Height of the tree\"\"\"\n",
    "        # Start from the root node\n",
    "        current = self.root_node\n",
    "        # Loop toward the right until reaching an endpoint\n",
    "        while current.right_child:\n",
    "            current = current.right_child\n",
    "        # When endpoint reached, return as maximum\n",
    "        return current # TreeNode\n",
    "    \n",
    "    def insert(self, data):\n",
    "        \"\"\"Insert a new value in the tree. O(h) with h: Height of the tree\"\"\"\n",
    "        # Create a new TreeNode to hold the new value\n",
    "        new_node = TreeNode(data)\n",
    "        # Check the case when the tree is initially empty\n",
    "        if self.root_node is None: \n",
    "            self.root_node = new_node \n",
    "        # Else, start from the root_node\n",
    "        else: \n",
    "            current = self.root_node \n",
    "            parent = None\n",
    "            # Looping until hitting an endpoint\n",
    "            while True: \n",
    "                parent = current\n",
    "                # If value is less, move toward the left\n",
    "                if new_node.data < parent.data: \n",
    "                    current = current.left_child\n",
    "                    # If hitting an endpoint, insert\n",
    "                    if current is None: \n",
    "                        parent.left_child = new_node \n",
    "                        return\n",
    "                # If value is greater or equal, move toward the right\n",
    "                else: \n",
    "                    current = current.right_child\n",
    "                    # If hitting an endpoint, insert\n",
    "                    if current is None: \n",
    "                        parent.right_child = new_node \n",
    "                        return\n",
    "    \n",
    "    def get_node_with_parent(self, data):\n",
    "        \"\"\"Helper function to search the parent of a node\"\"\"\n",
    "        # Initialize\n",
    "        parent = None \n",
    "        current = self.root_node \n",
    "        # Check the case when the tree is initially empty\n",
    "        if current is None: \n",
    "            return (parent, None) \n",
    "        # Else, loop until hitting an endpoint\n",
    "        while True:\n",
    "            # If we find the node, return with its parent\n",
    "            if current.data == data: \n",
    "                return (parent, current)\n",
    "            # If data to find is less than current node, move left\n",
    "            elif current.data > data: \n",
    "                parent = current \n",
    "                current = current.left_child \n",
    "            # If data to find is greater than current node, move right\n",
    "            else: \n",
    "                parent = current \n",
    "                current = current.right_child \n",
    "        # Return the result\n",
    "        return (parent, current)\n",
    "\n",
    "    def remove(self, data): \n",
    "        \"\"\"Remove a value from the tree. O(h) with h: Height of the tree\"\"\"\n",
    "        # Get the parent and the node that has the data to remove\n",
    "        parent, node = self.get_node_with_parent(data) \n",
    "        # Check the case when the tree is initially empty\n",
    "        if parent is None and node is None: \n",
    "            return False \n",
    "        # Get children count \n",
    "        children_count = 0 \n",
    "        if node.left_child and node.right_child: \n",
    "            children_count = 2 \n",
    "        elif (node.left_child is None) and (node.right_child is None): \n",
    "            children_count = 0 \n",
    "        else: \n",
    "            children_count = 1\n",
    "        # Handle the various conditions of deletion: \n",
    "        # No child: Remove the node directly\n",
    "        if children_count == 0: \n",
    "            if parent: \n",
    "                if parent.right_child is node: \n",
    "                    parent.right_child = None \n",
    "                    return True\n",
    "                else:\n",
    "                    parent.left_child = None \n",
    "                    return True\n",
    "            else: \n",
    "                self.root_node = None\n",
    "                return True\n",
    "        # 1 Child: \n",
    "            # Point the parent of that node to the child of that node (next node)\n",
    "            # Ensure that the child-parent relationship still follow the properties of BST\n",
    "            # Delete the node\n",
    "        elif children_count == 1: \n",
    "            next_node = None \n",
    "            if node.left_child: \n",
    "                next_node = node.left_child \n",
    "            else: \n",
    "                next_node = node.right_child \n",
    "            if parent: \n",
    "                if parent.left_child is node: \n",
    "                    parent.left_child = next_node \n",
    "                    return True\n",
    "                else: \n",
    "                    parent.right_child = next_node \n",
    "                    return True\n",
    "            else: \n",
    "                self.root_node = next_node\n",
    "                return True\n",
    "        # 2 children\n",
    "            # Find the next biggest descendant of the node (in-order successor) and get to that node\n",
    "            # Swap the value with it\n",
    "            # Consider the now current node and follow the samer rules\n",
    "        else: \n",
    "            parent_of_leftmost_node = node \n",
    "            leftmost_node = node.right_child \n",
    "            while leftmost_node.left_child:\n",
    "                parent_of_leftmost_node = leftmost_node \n",
    "                leftmost_node = leftmost_node.left_child \n",
    "                node.data = leftmost_node.data\n",
    "            # The in-order successor can only have a right child as its only child.\n",
    "            if parent_of_leftmost_node.left_child == leftmost_node: \n",
    "                parent_of_leftmost_node.left_child = leftmost_node.right_child \n",
    "                return True\n",
    "            else: \n",
    "                parent_of_leftmost_node.right_child = leftmost_node.right_child\n",
    "                return True\n",
    "\n",
    "    def search(self, data):\n",
    "        \"\"\"Search a value in the tree. O(h) with h: Height of the tree\"\"\"\n",
    "        # Start searching from the root node\n",
    "        current = self.root_node\n",
    "        while True:\n",
    "            if current is None: # The data was not found\n",
    "                return None\n",
    "            elif current.data is data:\n",
    "                return data\n",
    "            elif current.data > data: # The data to search is less than the current node -> Move left\n",
    "                current = current.left_child\n",
    "            else:  # The data to search is greater than the current node -> Move right\n",
    "                current = current.right_child"
   ]
  },
  {
   "cell_type": "markdown",
   "metadata": {},
   "source": [
    "#### Testing the Tree"
   ]
  },
  {
   "cell_type": "code",
   "execution_count": 17,
   "metadata": {},
   "outputs": [
    {
     "name": "stdout",
     "output_type": "stream",
     "text": [
      "Minimum in Tree: Node(1)\n",
      "Maximum in Tree: Node(9)\n",
      "1: 1\n",
      "2: 2\n",
      "3: None\n",
      "4: None\n",
      "5: 5\n",
      "6: None\n",
      "7: 7\n",
      "8: None\n",
      "9: 9\n"
     ]
    }
   ],
   "source": [
    "# Initialize an instance\n",
    "tree = BinarySearchTree() \n",
    "# Insert from element to the tree\n",
    "tree.insert(5) \n",
    "tree.insert(2) \n",
    "tree.insert(7) \n",
    "tree.insert(9) \n",
    "tree.insert(1) \n",
    "# Check the tree\n",
    "print(\"Minimum in Tree:\", tree.minimum())\n",
    "print(\"Maximum in Tree:\", tree.maximum())\n",
    "# Search in the tree\n",
    "for i in range(1, 10):\n",
    "    found = tree.search(i) \n",
    "    print(\"{}: {}\".format(i, found))"
   ]
  },
  {
   "cell_type": "markdown",
   "metadata": {},
   "source": [
    "### Benefits of Binary Search Tree"
   ]
  },
  {
   "cell_type": "markdown",
   "metadata": {},
   "source": [
    "||***Binary Search Trees***|***Arrays***|***Linked Lists***\n",
    ":-|:-|:-|:-\n",
    "***Data Structure***|Non-Linear|Linear|Linear\n",
    "***Ease of Use***|- Search/Insertion/Deletion are fast<br>- Average Complexity $O(log_n)$|- Easy to create and use<br>- Average Complexity $O(n)$|- Fast insertion/deletion with Doubly Linked Lists\n",
    "***Access***|- Access is fast<br>- Slow when the tree is unbalanced<br>- Worst-case complexity of $O(n)$|- Easy to access elements<br>- Complexity is $O(1)$|- Slow<br>- Only sequential access is possible<br>- Average and worst-case complexity $O(n)$\n",
    "***Search***|Worst-case complexity $O(n)$|Average and worst-case complexity $O(n)$|- Slow because sequential searching<br>- Average and worst-case complexity $O(n)$\n",
    "***Insertion***|Worst-case complexity $O(n)$|- Slow<br>- Average and worst-case complexity $O(n)$|Average and worst-case complexity $O(1)$\n",
    "***Deletion***|Worst-case complexity $O(n)$|- Slow<br>- Average and worst-case complexity $O(n)$|Average and worst-case complexity $O(1)$"
   ]
  },
  {
   "cell_type": "markdown",
   "metadata": {},
   "source": [
    "#### When BST Is A Good Choice"
   ]
  },
  {
   "cell_type": "markdown",
   "metadata": {},
   "source": [
    "- Consider these elements: 5 3 7 1 4 6 9\n",
    "- In a list, worst-case for searching is $O(7)$\n",
    "  - Would require 7 comparisons"
   ]
  },
  {
   "cell_type": "markdown",
   "metadata": {},
   "source": [
    "<img src='../files/chap_06/list-worst-case.png' width=40%>  "
   ]
  },
  {
   "cell_type": "markdown",
   "metadata": {},
   "source": [
    "- In a BST, worst-case for searching is $O(3)$\n",
    "  - Would require 3 comparisons"
   ]
  },
  {
   "cell_type": "markdown",
   "metadata": {},
   "source": [
    "<img src='../files/chap_06/bst-worst-case.png' width=40%>  "
   ]
  },
  {
   "cell_type": "markdown",
   "metadata": {},
   "source": [
    "However:\n",
    "- The efficiency depends on how the tree is built\n",
    "- If the tree is not constructed properly, it will be slow\n",
    "- **Choosing a self-balanced tree helps to improve search operations**\n",
    "- ***BST is a better choice in most cases as long as it is balanced***"
   ]
  },
  {
   "cell_type": "markdown",
   "metadata": {},
   "source": [
    "### Balancing Tree"
   ]
  },
  {
   "cell_type": "markdown",
   "metadata": {},
   "source": [
    "- If nodes are inserted into a tree in a sequential order, it becomes slow\n",
    "  - Behaves like a list\n",
    "  - Each node has exactly one child\n",
    "  - The height of the tree becomes large\n",
    "- To improve the performance of a tree, we want to reduce the height as much as possible\n",
    "  - **Balancing Tree** - Balance the tree by filling up each row of the tree\n",
    "- Some **Self-Balancing Trees** balance the tree during each operation that modifies the tree (insert, delete)\n",
    "  - *Red-Black Tree*\n",
    "  - *AA Tree*\n",
    "  - *Scapegoat Tree*\n",
    "  - ...\n",
    "- Some trees are balanced by external algorithms\n",
    "  - Don't need to keep track on balancing after each individual operation\n",
    "  - Can leave balancing to the point where we need it"
   ]
  },
  {
   "cell_type": "markdown",
   "metadata": {},
   "source": [
    "### Expression Tree"
   ]
  },
  {
   "cell_type": "markdown",
   "metadata": {},
   "source": [
    "- This is the representation of an arithmetic expression using a tree\n",
    "- Can be used to parse arithmetic and boolean expressions\n",
    "- **All the *Leaf Nodes* contain the operands**\n",
    "- **All the *Non-Leaf Nodes* contain the operators**\n",
    "- In case of *Unary Operator*, one of the subtree will be empty\n",
    "\n",
    "The below example is for the expression $(4+5)\\times(5-3)$"
   ]
  },
  {
   "cell_type": "markdown",
   "metadata": {},
   "source": [
    "<img src='../files/chap_06/expression-tree-example-2.png' width=40%>  "
   ]
  },
  {
   "cell_type": "markdown",
   "metadata": {},
   "source": [
    "- Can be expressed using 3 types of notations:\n",
    "  - **Infix**\n",
    "  - **Prefix**\n",
    "  - **Postfix**\n",
    "- Makes it easy to evaluate an arithmetic expression using a tree structure\n",
    "  - *Reverse Polish* notation provides faster calculations"
   ]
  },
  {
   "cell_type": "markdown",
   "metadata": {},
   "source": [
    "#### Parsing a Reverse Polish Notation"
   ]
  },
  {
   "cell_type": "markdown",
   "metadata": {},
   "source": [
    "- This is using a simple tree implementation\n",
    "- To keep it simple, we will only use a tree node implementation"
   ]
  },
  {
   "cell_type": "code",
   "execution_count": 18,
   "metadata": {},
   "outputs": [],
   "source": [
    "class TreeNode:\n",
    "    \"\"\"Implementation of a Tree Node\"\"\"\n",
    "    \n",
    "    def __init__(self, data=None):\n",
    "        \"\"\"Initialize a TreeNode object\"\"\"\n",
    "        self.data = data\n",
    "        self.left_child = None\n",
    "        self.right_child = None\n",
    "        \n",
    "    def __str__(self):\n",
    "        \"\"\"Return the string representation of a Node\"\"\"\n",
    "        return f\"TreeNode({str(self.data)})\"\n",
    "    \n",
    "    def __repr__(self):\n",
    "        \"\"\"Return the string representation of a Node\"\"\"\n",
    "        return f\"{self.data}\"\n",
    "    \n",
    "    def value(self):\n",
    "        \"\"\"Return the value stored in the node\"\"\"\n",
    "        return self.data"
   ]
  },
  {
   "cell_type": "markdown",
   "metadata": {},
   "source": [
    "- To build the tree, we will use a stack to enlist the elements\n",
    "- We will use a simple Python list as stack for now:\n",
    "  - Add: `List.append()`\n",
    "  - Remove: `List.pop()`"
   ]
  },
  {
   "cell_type": "code",
   "execution_count": 19,
   "metadata": {},
   "outputs": [],
   "source": [
    "# Using a Postfix notation\n",
    "expression = \"4 5 + 5 3 - *\".split()\n",
    "# Use a stack: LIFO\n",
    "stack = []"
   ]
  },
  {
   "cell_type": "markdown",
   "metadata": {},
   "source": [
    "- Each element of `expression` list will be either an operand or an operator\n",
    "  - If Operand: Embed in a `TreeNode` and push to the stack\n",
    "  - If Operator: Embed in a `TreeNode`, pop 2 operands from the stack and put into the node's left and right children, then push to the stack\n",
    "    - Ensure that the first pop goes to the right child\n",
    "    - This makes sure that subtraction and divisions work"
   ]
  },
  {
   "cell_type": "code",
   "execution_count": 20,
   "metadata": {},
   "outputs": [
    {
     "name": "stdout",
     "output_type": "stream",
     "text": [
      "[4]\n",
      "[4, 5]\n",
      "[+]\n",
      "[+, 5]\n",
      "[+, 5, 3]\n",
      "[+, -]\n",
      "[*]\n"
     ]
    }
   ],
   "source": [
    "for term in expression: \n",
    "    # For Operators: Pop 2 operands from the stack and add to the operator's children\n",
    "    if term in \"+-*/\": \n",
    "        node = TreeNode(term) \n",
    "        node.right_child = stack.pop() # First pop must go to the right child\n",
    "        node.left_child = stack.pop() \n",
    "    # For Operands: Embed in a node\n",
    "    else: \n",
    "        # For now, only consider integer operands\n",
    "        node = TreeNode(int(term)) \n",
    "    # Push the node to the stack\n",
    "    stack.append(node)\n",
    "    # Verify the current stack after each operation\n",
    "    print(stack)"
   ]
  },
  {
   "cell_type": "markdown",
   "metadata": {},
   "source": [
    "- At the end of this operation, we should have one single element in the stack\n",
    "  - This is the root of the tree\n",
    "  - That holds the full tree\n",
    "- For evaluating the operation, we use the following function to traverse the tree"
   ]
  },
  {
   "cell_type": "code",
   "execution_count": 21,
   "metadata": {},
   "outputs": [],
   "source": [
    "def calc(node): \n",
    "    if node.data == \"+\":\n",
    "        return calc(node.left_child) + calc(node.right_child) \n",
    "    elif node.data == \"-\": \n",
    "        return calc(node.left_child) - calc(node.right_child) \n",
    "    elif node.data == \"*\": \n",
    "        return calc(node.left_child) * calc(node.right_child) \n",
    "    elif node.data == \"/\": \n",
    "        return calc(node.left_child) / calc(node.right_child)\n",
    "    else:\n",
    "        return node.data"
   ]
  },
  {
   "cell_type": "markdown",
   "metadata": {},
   "source": [
    "And we can use the calculation"
   ]
  },
  {
   "cell_type": "code",
   "execution_count": 22,
   "metadata": {},
   "outputs": [
    {
     "name": "stdout",
     "output_type": "stream",
     "text": [
      "18\n"
     ]
    }
   ],
   "source": [
    "root = stack.pop() \n",
    "result = calc(root) \n",
    "print(result)"
   ]
  },
  {
   "cell_type": "code",
   "execution_count": 23,
   "metadata": {},
   "outputs": [
    {
     "name": "stdout",
     "output_type": "stream",
     "text": [
      "18\n"
     ]
    }
   ],
   "source": [
    "# Same result as the actual operation\n",
    "print((4+5)*(5-3))"
   ]
  },
  {
   "cell_type": "markdown",
   "metadata": {},
   "source": [
    "## Heaps"
   ]
  },
  {
   "cell_type": "markdown",
   "metadata": {},
   "source": [
    "- Specialization of a tree\n",
    "- The nodes are ordered in a specific way\n",
    "- Divided in **Max Heaps** and **Min Heaps**"
   ]
  },
  {
   "cell_type": "markdown",
   "metadata": {},
   "source": [
    "### Max Heap"
   ]
  },
  {
   "cell_type": "markdown",
   "metadata": {},
   "source": [
    "- Each parent node must always be greater or equal to its children\n",
    "- *The root node must be the greatest value in the tree*"
   ]
  },
  {
   "cell_type": "markdown",
   "metadata": {},
   "source": [
    "<img src='../files/chap_06/max-heap-example.png' width=40%>  "
   ]
  },
  {
   "cell_type": "markdown",
   "metadata": {},
   "source": [
    "### Min Heap"
   ]
  },
  {
   "cell_type": "markdown",
   "metadata": {},
   "source": [
    "- Each parent node must always be less or equal to its children\n",
    "- *The root node must be the smallest value in the tree*"
   ]
  },
  {
   "cell_type": "markdown",
   "metadata": {},
   "source": [
    "<img src='../files/chap_06/min-heap-example.png' width=40%>  "
   ]
  },
  {
   "cell_type": "markdown",
   "metadata": {},
   "source": [
    "### Heaps Usage"
   ]
  },
  {
   "cell_type": "markdown",
   "metadata": {},
   "source": [
    "- Implementation of *Priority Queues*\n",
    "- Implementation of an efficient sorting algorithm: *Heap Sort*"
   ]
  },
  {
   "cell_type": "markdown",
   "metadata": {},
   "source": [
    "## Ternary Search Tree"
   ]
  },
  {
   "cell_type": "markdown",
   "metadata": {},
   "source": [
    "- Each node of the tree can have up to 3 children\n",
    "- Considered a special case of the *Trie* data structure\n",
    "  - For *Trie*, each node contains 26 pointers to its children\n",
    "  - *Ternary Tree* only has 3 pointers to its children\n",
    "- Characteristics of a TST\n",
    "  - Each node stores a character\n",
    "  - **Equal** pointer that points to a node that stores a value **equal** to the current node\n",
    "  - **Left** pointer that points to a node that stores a value **smaller** than the current node\n",
    "  - **Right** pointer that points to a node that stores a value **greater** than the current node\n",
    "  - Each node has a **flag** variable that keeps track of whether that node is the end of a string or not"
   ]
  },
  {
   "cell_type": "markdown",
   "metadata": {},
   "source": [
    "Here, we insert the strings `PUT`, `CAT`, `SIT`, `SING`, and `PUSH` to an empty ternary tree"
   ]
  },
  {
   "cell_type": "markdown",
   "metadata": {},
   "source": [
    "<img src='../files/chap_06/tst-example.png' width=40%>  "
   ]
  },
  {
   "cell_type": "markdown",
   "metadata": {},
   "source": [
    "The following steps are followed:\n",
    "1. Tree is initially empty. We want to add the string `PUT`\n",
    "  - Create a *Root Node* with the first character: `P`\n",
    "  - Create a *Node* for the next character: `U`\n",
    "  - Create a *Node* for the next character: `T`\n",
    "2. Next, we want to add the string `CAT`\n",
    "  - Compare the first character `C` with the root node `P`\n",
    "    - Smaller than *Root Node*:\n",
    "      - Create a *Node* for the character: `C`\n",
    "      - Put on the left-hand side of the root node\n",
    "  - Create a *Node* for the next character: `A`\n",
    "  - Create a *Node* for the next character: `T`\n",
    "3. Next, we want to add the string `SIT`\n",
    "  - Compare the first character `S` with the root node `P`\n",
    "    - Greater than *Root Node*: \n",
    "      - Create a *Node* for the character: `S`\n",
    "      - Put on the right-hand side of the root node\n",
    "  - Create a *Node* for the next character: `I`\n",
    "  - Create a *Node* for the next character: `T`\n",
    "4. Next, we want to add the string `SING`\n",
    "  - Compare the first character `S` with the root node `P`\n",
    "    - Greater than *Root Node*: Move to the right\n",
    "    - Equal to the next character: `S` == `S`. Skip\n",
    "  - Compare the next character: `I` == `I`. Skip\n",
    "  - Compare the next character\n",
    "    - `N` < `T`: Move to the left\n",
    "      - Create a *Node* for the character: `N`\n",
    "      - Put on the left-hand side of the `T` node\n",
    "  - Create a *Node* for the next character: `G`\n",
    "5. Next, we want to add the string `PUSH`\n",
    "  - Compare the first character `P` with the root node `P`\n",
    "    - `P` == `P`: Move to the next character\n",
    "  - Compare the next characters: `U` == `U`\n",
    "    - `U` == `U`: Move to the next character\n",
    "  - Compare the next characters: `S` < `T`\n",
    "    - `S` < `T`: Move to the left\n",
    "      - Create a *Node* for the character: `S`\n",
    "      - Put on the left-hand side of the `T` node\n",
    "  - Create a *Node* for the next character: `H`"
   ]
  },
  {
   "cell_type": "markdown",
   "metadata": {},
   "source": [
    "### Ternary Search Tree Usage"
   ]
  },
  {
   "cell_type": "markdown",
   "metadata": {},
   "source": [
    "- Efficient for some string searching / Pattern Matching\n",
    "  - Search all strings that start with a prefix\n",
    "  - Search phone numbers that starts with specific numbers\n",
    "  - Spell-checking"
   ]
  }
 ],
 "metadata": {
  "hide_input": false,
  "kernelspec": {
   "display_name": "Python 3 (ipykernel)",
   "language": "python",
   "name": "python3"
  },
  "language_info": {
   "codemirror_mode": {
    "name": "ipython",
    "version": 3
   },
   "file_extension": ".py",
   "mimetype": "text/x-python",
   "name": "python",
   "nbconvert_exporter": "python",
   "pygments_lexer": "ipython3",
   "version": "3.10.4"
  },
  "toc": {
   "base_numbering": 1,
   "nav_menu": {},
   "number_sections": true,
   "sideBar": true,
   "skip_h1_title": true,
   "title_cell": "Table of Contents",
   "title_sidebar": "Contents",
   "toc_cell": true,
   "toc_position": {},
   "toc_section_display": true,
   "toc_window_display": true
  },
  "varInspector": {
   "cols": {
    "lenName": 16,
    "lenType": 16,
    "lenVar": 40
   },
   "kernels_config": {
    "python": {
     "delete_cmd_postfix": "",
     "delete_cmd_prefix": "del ",
     "library": "var_list.py",
     "varRefreshCmd": "print(var_dic_list())"
    },
    "r": {
     "delete_cmd_postfix": ") ",
     "delete_cmd_prefix": "rm(",
     "library": "var_list.r",
     "varRefreshCmd": "cat(var_dic_list()) "
    }
   },
   "types_to_exclude": [
    "module",
    "function",
    "builtin_function_or_method",
    "instance",
    "_Feature"
   ],
   "window_display": false
  }
 },
 "nbformat": 4,
 "nbformat_minor": 4
}
