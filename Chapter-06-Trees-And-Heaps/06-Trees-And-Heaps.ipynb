{
 "cells": [
  {
   "attachments": {},
   "cell_type": "markdown",
   "metadata": {},
   "source": [
    "# Trees and Heaps\n"
   ]
  },
  {
   "attachments": {},
   "cell_type": "markdown",
   "metadata": {},
   "source": [
    "---\n"
   ]
  },
  {
   "attachments": {},
   "cell_type": "markdown",
   "metadata": {},
   "source": [
    "**Table of contents**<a id='toc0_'></a>\n",
    "\n",
    "-   [Chapter Goals](#toc1_)\n",
    "-   [Terminology](#toc2_)\n",
    "-   [Tree Nodes](#toc3_)\n",
    "-   [Trees and Binary Trees](#toc4_)\n",
    "-   [Tree Traversal](#toc5_)\n",
    "    -   [Depth-First Traversal](#toc5_1_)\n",
    "    -   [DFS In-Order Traversal & Infix Notation](#toc5_2_)\n",
    "        -   [Example of DFS In-Order Traversal](#toc5_2_1_)\n",
    "        -   [Infix Notation](#toc5_2_2_)\n",
    "    -   [DFS Pre-Order Traversal & Prefix Notation](#toc5_3_)\n",
    "        -   [Example of DFS Pre-Order Traversal](#toc5_3_1_)\n",
    "        -   [Prefix Notation](#toc5_3_2_)\n",
    "    -   [DFS Post-Order Traversal & Postfix Notation](#toc5_4_)\n",
    "        -   [Example of DFS Post-Order Traversal](#toc5_4_1_)\n",
    "        -   [Postfix Notation](#toc5_4_2_)\n",
    "    -   [Breadth-First Traversal](#toc5_5_)\n",
    "-   [Binary Tree](#toc6_)\n",
    "    -   [Binary Search Tree](#toc6_1_)\n",
    "    -   [Binary Search Tree Implementation](#toc6_2_)\n",
    "        -   [Finding Minimum and Maximum Nodes](#toc6_2_1_)\n",
    "        -   [Inserting Nodes](#toc6_2_2_)\n",
    "        -   [Deleting Nodes](#toc6_2_3_)\n",
    "        -   [Searching The Tree](#toc6_2_4_)\n",
    "        -   [Testing the Tree](#toc6_2_5_)\n",
    "    -   [Benefits of Binary Search Tree](#toc6_3_)\n",
    "        -   [When BST Is A Good Choice](#toc6_3_1_)\n",
    "    -   [Balancing Tree](#toc6_4_)\n",
    "    -   [Expression Tree](#toc6_5_)\n",
    "        -   [Parsing a Reverse Polish Notation](#toc6_5_1_)\n",
    "-   [Heaps](#toc7_)\n",
    "    -   [Max Heap](#toc7_1_)\n",
    "    -   [Min Heap](#toc7_2_)\n",
    "    -   [Heaps Usage](#toc7_3_)\n",
    "-   [Ternary Search Tree](#toc8_)\n",
    "    -   [Ternary Search Tree Usage](#toc8_1_)\n",
    "\n",
    "<!-- vscode-jupyter-toc-config\n",
    "\tnumbering=false\n",
    "\tanchor=true\n",
    "\tflat=false\n",
    "\tminLevel=2\n",
    "\tmaxLevel=6\n",
    "\t/vscode-jupyter-toc-config -->\n",
    "<!-- THIS CELL WILL BE REPLACED ON TOC UPDATE. DO NOT WRITE YOUR TEXT IN THIS CELL -->\n"
   ]
  },
  {
   "attachments": {},
   "cell_type": "markdown",
   "metadata": {},
   "source": [
    "---\n"
   ]
  },
  {
   "attachments": {},
   "cell_type": "markdown",
   "metadata": {},
   "source": [
    "-   **Tree - Hierarchical form of data structure**\n",
    "    -   Parent-child relationships between the elements instead of _Sequential_\n",
    "    -   _Root Node_ - The top of the tree, the ancestor of all nodes\n",
    "-   There are many applications for _Tree Data Structures_:\n",
    "    -   Parsing Expression\n",
    "    -   Search\n",
    "    -   Sort\n",
    "    -   Data Storage: OS Folder Structure\n",
    "    -   Data Manipulation\n",
    "    -   Priority Queues\n",
    "    -   Document Format: HTML, XML\n"
   ]
  },
  {
   "attachments": {},
   "cell_type": "markdown",
   "metadata": {},
   "source": [
    "## <a id='toc1_'></a>Chapter Goals [&#8593;](#toc0_)\n"
   ]
  },
  {
   "attachments": {},
   "cell_type": "markdown",
   "metadata": {},
   "source": [
    "-   Terms and definitions\n",
    "-   Binary Trees\n",
    "-   Binary Search Trees\n",
    "-   Tree Traversal\n",
    "-   Ternary Search Tree\n"
   ]
  },
  {
   "attachments": {},
   "cell_type": "markdown",
   "metadata": {},
   "source": [
    "## <a id='toc2_'></a>Terminology [&#8593;](#toc0_)\n"
   ]
  },
  {
   "attachments": {},
   "cell_type": "markdown",
   "metadata": {},
   "source": [
    "| Term                   | Definition                                                                           |\n",
    "| :--------------------- | :----------------------------------------------------------------------------------- |\n",
    "| **Tree**               | Data structure in which data is organized in hierarchical form                       |\n",
    "| **Node**               | Any data structure that actually stores data in a tree                               |\n",
    "| **Root Node**          | One unique first node from which all other nodes in the tree are attached            |\n",
    "| **Subtree**            | A tree with its nodes being a descendant of some other tree                          |\n",
    "| **Degree**             | The total number of _direct_ children of the given node                              |\n",
    "| **Leaf Node**          | A terminal node for a given tree, no children, with degree always 0                  |\n",
    "| **Edge**               | Connection among any given 2 nodes. Count = n - 1 for n: Total number of nodes       |\n",
    "| **Parent**             | A node in the tree which has a further sub-tree is the parent node of the sub-tree   |\n",
    "| **Child**              | A node connected to its parent, and it is the node that is a descendant of that node |\n",
    "| **Siblings**           | All nodes with the same parent                                                       |\n",
    "| **Level**              | Each generation away from the root is one level. The root is at level 0              |\n",
    "| **Height of the tree** | The total number of nodes in the longest path of the tree                            |\n",
    "| **Depth of a Node**    | The number of edges from the root of the tree to that node                           |\n",
    "\n",
    "<img src=\"../files/chap_06/tree-structure.png\" width=60%>\n"
   ]
  },
  {
   "attachments": {},
   "cell_type": "markdown",
   "metadata": {},
   "source": [
    "## <a id='toc3_'></a>Tree Nodes [&#8593;](#toc0_)\n"
   ]
  },
  {
   "attachments": {},
   "cell_type": "markdown",
   "metadata": {},
   "source": [
    "-   **In Linear Data Structure**\n",
    "    -   Data items are stored sequentially\n",
    "    -   All data items can be traversed in one pass\n",
    "    -   Example: _Linked-Lists_\n",
    "-   **Non-Linear Data Structure**\n",
    "    -   Data items are not stored sequentially: Can be connected to more than one item\n",
    "    -   One-pass traversing might not cover all data items\n",
    "    -   Example: _Trees_\n"
   ]
  },
  {
   "cell_type": "code",
   "execution_count": 1,
   "metadata": {},
   "outputs": [],
   "source": [
    "from typing import Any, Optional\n",
    "\n",
    "\n",
    "class TreeNode:\n",
    "    \"\"\"Implementation of a Tree Node\"\"\"\n",
    "\n",
    "    def __init__(self, data: Optional[Any] = None) -> None:\n",
    "        \"\"\"Initialize a TreeNode object\"\"\"\n",
    "        self.data: Optional[Any] = data\n",
    "        self.left_child: Optional[\"TreeNode\"] = None\n",
    "        self.right_child: Optional[\"TreeNode\"] = None\n",
    "\n",
    "    def __str__(self) -> str:\n",
    "        \"\"\"Return the string representation of a TreeNode\"\"\"\n",
    "        return f\"TreeNode({str(self.data)})\"\n",
    "\n",
    "    def __repr__(self) -> str:\n",
    "        \"\"\"Return the string representation of a TreeNode\"\"\"\n",
    "        return f\"TreeNode({str(self.data)})\"\n"
   ]
  },
  {
   "attachments": {},
   "cell_type": "markdown",
   "metadata": {},
   "source": [
    "## <a id='toc4_'></a>Trees and Binary Trees [&#8593;](#toc0_)\n"
   ]
  },
  {
   "attachments": {},
   "cell_type": "markdown",
   "metadata": {},
   "source": [
    "-   _Tree_\n",
    "    -   Nodes are arranged in a Parent-Child / hierarchical relationship\n",
    "    -   There should not be any cycle among the nodes\n",
    "    -   _Empty Tree_ - A tree with no nodes\n",
    "-   _Binary Tree_\n",
    "    -   The nodes can have 0, 1, or 2 child nodes\n",
    "    -   Maximum of 2 children per node\n",
    "-   _Full Binary Tree_\n",
    "    -   All the nodes of the tree have either 0 or 2 children\n",
    "    -   There is no node that has 1 child\n",
    "-   _Complete Binary Tree_\n",
    "    -   All the positions are completely filled\n",
    "    -   Except (possibly) the lower level\n",
    "    -   The bottom level is filled from left to right\n",
    "    -   All the leaf elements must lean towards the left\n"
   ]
  },
  {
   "attachments": {},
   "cell_type": "markdown",
   "metadata": {},
   "source": [
    "<img src='../files/chap_06/simple-binary-tree.png' width=40%>\n"
   ]
  },
  {
   "attachments": {},
   "cell_type": "markdown",
   "metadata": {},
   "source": [
    "To create a simple binary tree:\n",
    "\n",
    "-   Create the nodes\n",
    "-   Connect the nodes to each other according to the property of a binary tree\n"
   ]
  },
  {
   "cell_type": "code",
   "execution_count": 2,
   "metadata": {},
   "outputs": [],
   "source": [
    "from typing import Optional\n",
    "\n",
    "\n",
    "class SimpleTree01:\n",
    "    \"\"\"Implementation of a Tree structure\"\"\"\n",
    "\n",
    "    def __init__(self, nodes: Optional[list[TreeNode]]) -> None:\n",
    "        self._nodes: Optional[list[TreeNode]] = nodes\n",
    "\n",
    "    def __str__(self) -> str:\n",
    "        \"\"\"Return the string representation of a Tree\"\"\"\n",
    "        return f\"Tree({str(self._nodes)})\"\n",
    "\n",
    "    def __repr__(self) -> str:\n",
    "        \"\"\"Return the string representation of a Tree\"\"\"\n",
    "        return f\"Tree({str(self._nodes)})\"\n"
   ]
  },
  {
   "cell_type": "code",
   "execution_count": 3,
   "metadata": {},
   "outputs": [],
   "source": [
    "# First, create the nodes for the tree\n",
    "n_root: TreeNode = TreeNode(\"root node\")\n",
    "n_lchild: TreeNode = TreeNode(\"left child node\")\n",
    "n_rchild: TreeNode = TreeNode(\"right child node\")\n",
    "n_lgchild: TreeNode = TreeNode(\"left grandchild node\")\n",
    "\n",
    "# Create the tree for which those nodes are part of\n",
    "tree1: SimpleTree01 = SimpleTree01([n_root, n_lchild, n_rchild, n_lgchild])\n",
    "\n",
    "# Creating a simple binary tree structure\n",
    "n_root.left_child = n_lchild\n",
    "n_root.right_child = n_rchild\n",
    "n_lchild.left_child = n_lgchild\n"
   ]
  },
  {
   "attachments": {},
   "cell_type": "markdown",
   "metadata": {},
   "source": [
    "We can connect the nodes following the rule of binary tree:\n",
    "\n",
    "-   Top to bottom\n",
    "-   Left to right\n",
    "-   Each node has at most 2 children\n"
   ]
  },
  {
   "attachments": {},
   "cell_type": "markdown",
   "metadata": {},
   "source": [
    "<img src='../files/chap_06/binary-tree-connections.png' width=40%>\n"
   ]
  },
  {
   "attachments": {},
   "cell_type": "markdown",
   "metadata": {},
   "source": [
    "## <a id='toc5_'></a>Tree Traversal [&#8593;](#toc0_)\n"
   ]
  },
  {
   "attachments": {},
   "cell_type": "markdown",
   "metadata": {},
   "source": [
    "-   To understand tree traversal, we will traverse the left subtree, starting from the root-node\n"
   ]
  },
  {
   "cell_type": "code",
   "execution_count": 4,
   "metadata": {},
   "outputs": [
    {
     "name": "stdout",
     "output_type": "stream",
     "text": [
      "root node\n",
      "left child node\n",
      "left grandchild node\n"
     ]
    }
   ],
   "source": [
    "# Traversing the left-side of the tree\n",
    "current: Optional[TreeNode] = n_root\n",
    "while current:\n",
    "    print(current.data)\n",
    "    current = current.left_child\n"
   ]
  },
  {
   "attachments": {},
   "cell_type": "markdown",
   "metadata": {},
   "source": [
    "-   Tree Traversal can be done in 2 ways:\n",
    "    -   **Depth-First-Search (DFS)**\n",
    "        -   Prioritize top-to-bottom movements\n",
    "        -   Move to the right when hitting wall\n",
    "    -   **Breadth-First-Search (BFS)**\n",
    "        -   Prioritize left-to-right movements\n",
    "        -   Move to next level when hitting wall\n",
    "-   We will start from the Root Node\n",
    "    -   Then move to the next level, from left to right\n",
    "    -   Then move to the next level and so on\n"
   ]
  },
  {
   "attachments": {},
   "cell_type": "markdown",
   "metadata": {},
   "source": [
    "### <a id='toc5_1_'></a>Depth-First Traversal [&#8593;](#toc0_)\n"
   ]
  },
  {
   "attachments": {},
   "cell_type": "markdown",
   "metadata": {},
   "source": [
    "-   Starting from the Root\n",
    "-   Go deeper into the tree as much as possible on each child: Prioritize Depth\n",
    "-   When hitting the bottom, continue on the next sibling\n",
    "-   We use _Recursive Approach_ for this traversal\n",
    "-   There are 3 forms of _Depth-First Traversal_:\n",
    "    -   **DFS In-Order**\n",
    "    -   **DFS Pre-Order**\n",
    "    -   **DFS Post-Order**\n"
   ]
  },
  {
   "attachments": {},
   "cell_type": "markdown",
   "metadata": {},
   "source": [
    "### <a id='toc5_2_'></a>DFS In-Order Traversal & Infix Notation [&#8593;](#toc0_)\n"
   ]
  },
  {
   "attachments": {},
   "cell_type": "markdown",
   "metadata": {},
   "source": [
    "We visit the nodes in the tree in the order of:\n",
    "\n",
    "-   Left-Subtree\n",
    "-   Root\n",
    "-   Right-Subtree\n",
    "\n",
    "Steps:\n",
    "\n",
    "1. Check if the current node is null or empty\n",
    "\n",
    "-   If not empty, continue traversing\n",
    "-   Else, early exit\n",
    "\n",
    "2. Traverse the left subtree: Call the `inorder` function recursively\n",
    "3. Visit back the root Node\n",
    "4. Traverse the right subtree: Call the `inorder` function recursively\n"
   ]
  },
  {
   "attachments": {},
   "cell_type": "markdown",
   "metadata": {},
   "source": [
    "#### <a id='toc5_2_1_'></a>Example of DFS In-Order Traversal [&#8593;](#toc0_)\n"
   ]
  },
  {
   "attachments": {},
   "cell_type": "markdown",
   "metadata": {},
   "source": [
    "<img src='../files/chap_06/example-of-tree-to-traverse.png' width=40%>\n"
   ]
  },
  {
   "attachments": {},
   "cell_type": "markdown",
   "metadata": {},
   "source": [
    "-   We start at the root node `A`\n",
    "-   We recursively visit the left sub-tree:\n",
    "    -   `B` is the root node of the left sub-tree\n",
    "    -   We recursively visit the left sub-tree:\n",
    "        -   `D` is the root node of the left sub-tree\n",
    "        -   We recursively visit the left sub-tree:\n",
    "            -   `G` is the final left child of this sub-tree: **RETURN `G`**\n",
    "        -   We visit back the root node `D`: **RETURN `D`**\n",
    "            -   We recursively visit the right sub-tree\n",
    "            -   `H` is the final right child of this sub-tree: **RETURN `H`**\n",
    "    -   We visit back the root node `B`: **RETURN `B`**\n",
    "        -   We recursively visit the right sub-tree\n",
    "        -   `E` is the final right child of this sub-tree: **RETURN `E`**\n",
    "-   We visit back the root node `A`: **RETURN `A`**\n",
    "-   We recursively visit the right sub-tree:\n",
    "    -   `C` is the root node of the right sub-tree\n",
    "    -   We recursively visit the left sub-tree:\n",
    "        -   `NULL` is the final left child of this sub-tree: **SKIP**\n",
    "    -   We visit back the root node `C`: **RETURN `C`**\n",
    "        -   We recursively visit the right sub-tree\n",
    "        -   `F` is the final right child of this sub-tree: **RETURN `F`**\n",
    "\n",
    "Final Order of Traversal: G-D-H-B-E-A-C-F\n"
   ]
  },
  {
   "cell_type": "code",
   "execution_count": 5,
   "metadata": {},
   "outputs": [],
   "source": [
    "from typing import Optional\n",
    "\n",
    "\n",
    "class SimpleTree02:\n",
    "    \"\"\"Implementation of a Tree structure\"\"\"\n",
    "\n",
    "    def __init__(\n",
    "        self, nodes: Optional[list[TreeNode]], root_node: Optional[TreeNode]\n",
    "    ) -> None:\n",
    "        self._nodes: Optional[list[TreeNode]] = nodes\n",
    "        self._root_node: Optional[TreeNode] = root_node\n",
    "\n",
    "    def __str__(self) -> str:\n",
    "        \"\"\"Return the string representation of a Tree\"\"\"\n",
    "        return f\"Tree({str(self._nodes)})\"\n",
    "\n",
    "    def __repr__(self) -> str:\n",
    "        \"\"\"Return the string representation of a Tree\"\"\"\n",
    "        return f\"Tree({str(self._nodes)})\"\n",
    "\n",
    "    def traverse_dfs_inorder(self, from_node: Optional[TreeNode] = None) -> None:\n",
    "        \"\"\"Allows to traverse a tree using Depth-First-Search In-Order approach\"\"\"\n",
    "        # Start from the specified node\n",
    "        current: Optional[TreeNode] = from_node\n",
    "        # Base Condition for Recursion: Node is empty -> Return Nothing\n",
    "        if current is None:\n",
    "            return current\n",
    "        # Recursion toward the left subtree\n",
    "        self.traverse_dfs_inorder(current.left_child)\n",
    "        # Print the current data\n",
    "        print(current.data, end=\" \")\n",
    "        # Recursion toward the right subtree\n",
    "        self.traverse_dfs_inorder(current.right_child)\n"
   ]
  },
  {
   "cell_type": "code",
   "execution_count": 6,
   "metadata": {},
   "outputs": [],
   "source": [
    "# Initializing TreeNodes\n",
    "nA: TreeNode = TreeNode(\"A\")\n",
    "nB: TreeNode = TreeNode(\"B\")\n",
    "nC: TreeNode = TreeNode(\"C\")\n",
    "nD: TreeNode = TreeNode(\"D\")\n",
    "nE: TreeNode = TreeNode(\"E\")\n",
    "nF: TreeNode = TreeNode(\"F\")\n",
    "nG: TreeNode = TreeNode(\"G\")\n",
    "nH: TreeNode = TreeNode(\"H\")\n",
    "\n",
    "# Populating a Binary Tree\n",
    "nA.left_child = nB\n",
    "nA.right_child = nC\n",
    "nB.left_child = nD\n",
    "nB.right_child = nE\n",
    "nC.right_child = nF\n",
    "nD.left_child = nG\n",
    "nD.right_child = nH\n"
   ]
  },
  {
   "cell_type": "code",
   "execution_count": 7,
   "metadata": {},
   "outputs": [
    {
     "name": "stdout",
     "output_type": "stream",
     "text": [
      "G D H B E A C F "
     ]
    }
   ],
   "source": [
    "# Create the tree for which those nodes are part of\n",
    "tree2: SimpleTree02 = SimpleTree02(nodes=[nA, nB, nC, nD, nE, nF, nG, nH], root_node=nA)\n",
    "\n",
    "# Testing DFS In-Order Traversing\n",
    "tree2.traverse_dfs_inorder(from_node=nA)\n"
   ]
  },
  {
   "attachments": {},
   "cell_type": "markdown",
   "metadata": {},
   "source": [
    "#### <a id='toc5_2_2_'></a>Infix Notation [&#8593;](#toc0_)\n"
   ]
  },
  {
   "attachments": {},
   "cell_type": "markdown",
   "metadata": {},
   "source": [
    "-   Also known as _Reverse Polish_ notation\n",
    "-   Commonly used notation to express arithmetic expressions where the operators are placed in-between the operands\n",
    "-   This is the common way we are used to represent arithmetic operations from school\n",
    "-   When necessary, parenthesis can be used to represent more complex operations\n",
    "-   **Expression Tree**\n",
    "    -   A special kind of Binary Tree\n",
    "    -   Can be used to represent arithmetic expressions\n",
    "    -   The inorder traversal of an _Expression Tree_ produce the _Infix Notation_\n",
    "-   Example: Infix Notation of `5 + 3`\n"
   ]
  },
  {
   "attachments": {},
   "cell_type": "markdown",
   "metadata": {},
   "source": [
    "<img src='../files/chap_06/expression-tree-example.png' width=40%>\n"
   ]
  },
  {
   "attachments": {},
   "cell_type": "markdown",
   "metadata": {},
   "source": [
    "### <a id='toc5_3_'></a>DFS Pre-Order Traversal & Prefix Notation [&#8593;](#toc0_)\n"
   ]
  },
  {
   "attachments": {},
   "cell_type": "markdown",
   "metadata": {},
   "source": [
    "We visit the nodes in the tree in the order of:\n",
    "\n",
    "-   Root\n",
    "-   Left-Subtree\n",
    "-   Right-Subtree\n",
    "\n",
    "Steps:\n",
    "\n",
    "1. Check if the current node is null or empty\n",
    "\n",
    "-   If not empty, continue traversing\n",
    "-   Else, early exit\n",
    "\n",
    "2. Traverse with the root Node\n",
    "3. Traverse the left subtree: Call the `preorder` function recursively\n",
    "4. Traverse the right subtree: Call the `preorder` function recursively\n"
   ]
  },
  {
   "attachments": {},
   "cell_type": "markdown",
   "metadata": {},
   "source": [
    "#### <a id='toc5_3_1_'></a>Example of DFS Pre-Order Traversal [&#8593;](#toc0_)\n"
   ]
  },
  {
   "attachments": {},
   "cell_type": "markdown",
   "metadata": {},
   "source": [
    "<img src='../files/chap_06/example-of-tree-to-traverse.png' width=40%>\n"
   ]
  },
  {
   "attachments": {},
   "cell_type": "markdown",
   "metadata": {},
   "source": [
    "-   We start at the root node `A`: **RETURN `A`**\n",
    "-   We recursively visit the left sub-tree:\n",
    "    -   `B` is the root node of the left sub-tree: **RETURN `B`**\n",
    "    -   We recursively visit the left sub-tree:\n",
    "        -   `D` is the root node of the left sub-tree: **RETURN `D`**\n",
    "        -   We recursively visit the left sub-tree:\n",
    "            -   `G` is the final left child of this sub-tree: **RETURN `G`**\n",
    "        -   We visit back the root node `D`\n",
    "            -   We recursively visit the right sub-tree\n",
    "            -   `H` is the final right child of this sub-tree: **RETURN `H`**\n",
    "    -   We visit back the root node `B`\n",
    "        -   We recursively visit the right sub-tree\n",
    "        -   `E` is the right child of this sub-tree: **RETURN `E`**\n",
    "-   We visit back the root node `A`\n",
    "-   We recursively visit the right sub-tree:\n",
    "    -   `C` is the root node of the left sub-tree: **RETURN `C`**\n",
    "    -   We recursively visit the left sub-tree:\n",
    "        -   `NULL` is the left child of this sub-tree: **SKIP**\n",
    "    -   We visit back the root node `C`\n",
    "        -   We recursively visit the right sub-tree\n",
    "        -   `F` is the right child of this sub-tree: **RETURN `F`**\n",
    "\n",
    "Final Order of Traversal: A-B-D-G-H-E-C-F\n"
   ]
  },
  {
   "cell_type": "code",
   "execution_count": 8,
   "metadata": {},
   "outputs": [],
   "source": [
    "from typing import Optional\n",
    "\n",
    "\n",
    "class SimpleTree03:\n",
    "    \"\"\"Implementation of a Tree structure\"\"\"\n",
    "\n",
    "    def __init__(\n",
    "        self, nodes: Optional[list[TreeNode]], root_node: Optional[TreeNode]\n",
    "    ) -> None:\n",
    "        self._nodes: Optional[list[TreeNode]] = nodes\n",
    "        self._root_node: Optional[TreeNode] = root_node\n",
    "\n",
    "    def __str__(self) -> str:\n",
    "        \"\"\"Return the string representation of a Tree\"\"\"\n",
    "        return f\"Tree({str(self._nodes)})\"\n",
    "\n",
    "    def __repr__(self) -> str:\n",
    "        \"\"\"Return the string representation of a Tree\"\"\"\n",
    "        return f\"Tree({str(self._nodes)})\"\n",
    "\n",
    "    def traverse_dfs_inorder(self, from_node: Optional[TreeNode] = None) -> None:\n",
    "        \"\"\"Allows to traverse a tree using Depth-First-Search In-Order approach\"\"\"\n",
    "        # Start from the specified node\n",
    "        current: Optional[TreeNode] = from_node\n",
    "        # Base Condition for Recursion: Node is empty -> Return Nothing\n",
    "        if current is None:\n",
    "            return current\n",
    "        # Recursion toward the left subtree\n",
    "        self.traverse_dfs_inorder(current.left_child)\n",
    "        # Print the current data\n",
    "        print(current.data, end=\" \")\n",
    "        # Recursion toward the right subtree\n",
    "        self.traverse_dfs_inorder(current.right_child)\n",
    "\n",
    "    def traverse_dfs_preorder(self, from_node: Optional[TreeNode] = None) -> None:\n",
    "        \"\"\"Allows to traverse a tree using Depth-First-Search Pre-Order approach\"\"\"\n",
    "        # Start from the specified node\n",
    "        current: Optional[TreeNode] = from_node\n",
    "        # Base Condition for Recursion: Node is empty -> Return Nothing\n",
    "        if current is None:\n",
    "            return current\n",
    "        # Print the current data\n",
    "        print(current.data, end=\" \")\n",
    "        # Recursion toward the left subtree\n",
    "        self.traverse_dfs_preorder(current.left_child)\n",
    "        # Recursion toward the right subtree\n",
    "        self.traverse_dfs_preorder(current.right_child)\n"
   ]
  },
  {
   "cell_type": "code",
   "execution_count": 9,
   "metadata": {},
   "outputs": [
    {
     "name": "stdout",
     "output_type": "stream",
     "text": [
      "A B D G H E C F "
     ]
    }
   ],
   "source": [
    "# Create the tree for which those nodes are part of\n",
    "tree3: SimpleTree03 = SimpleTree03(nodes=[nA, nB, nC, nD, nE, nF, nG, nH], root_node=nA)\n",
    "\n",
    "# Testing DFS Pre-Order Traversing\n",
    "tree3.traverse_dfs_preorder(from_node=nA)\n"
   ]
  },
  {
   "attachments": {},
   "cell_type": "markdown",
   "metadata": {},
   "source": [
    "#### <a id='toc5_3_2_'></a>Prefix Notation [&#8593;](#toc0_)\n"
   ]
  },
  {
   "attachments": {},
   "cell_type": "markdown",
   "metadata": {},
   "source": [
    "-   Also known as _Polish_ notation\n",
    "-   The operator comes before the operands\n",
    "-   There is no further confusion over the precedence of operators, so parentheses are never needed\n",
    "-   Mostly used by LISP programmers\n",
    "-   Example: Prefix Notation of `(8+3)-3` is `+ - 8 3 3`\n"
   ]
  },
  {
   "attachments": {},
   "cell_type": "markdown",
   "metadata": {},
   "source": [
    "<img src='../files/chap_06/expression-tree-example-prefix.png' width=40%>\n"
   ]
  },
  {
   "attachments": {},
   "cell_type": "markdown",
   "metadata": {},
   "source": [
    "### <a id='toc5_4_'></a>DFS Post-Order Traversal & Postfix Notation [&#8593;](#toc0_)\n"
   ]
  },
  {
   "attachments": {},
   "cell_type": "markdown",
   "metadata": {},
   "source": [
    "We visit the nodes in the tree in the order of:\n",
    "\n",
    "-   Left-Subtree\n",
    "-   Right-Subtree\n",
    "-   Root\n",
    "\n",
    "Steps:\n",
    "\n",
    "1. Check if the current node is null or empty\n",
    "\n",
    "-   If not empty, continue traversing\n",
    "-   Else, early exit\n",
    "\n",
    "2. Traverse the left subtree: Call the `postorder` function recursively\n",
    "3. Traverse the right subtree: Call the `postorder` function recursively\n",
    "4. Traverse with the root Node\n"
   ]
  },
  {
   "attachments": {},
   "cell_type": "markdown",
   "metadata": {},
   "source": [
    "#### <a id='toc5_4_1_'></a>Example of DFS Post-Order Traversal [&#8593;](#toc0_)\n"
   ]
  },
  {
   "attachments": {},
   "cell_type": "markdown",
   "metadata": {},
   "source": [
    "<img src='../files/chap_06/example-of-tree-to-traverse.png' width=40%>\n"
   ]
  },
  {
   "attachments": {},
   "cell_type": "markdown",
   "metadata": {},
   "source": [
    "-   We start at the root node `A`\n",
    "-   We recursively visit the left sub-tree:\n",
    "    -   `B` is the root node of the left sub-tree\n",
    "    -   We recursively visit the left sub-tree:\n",
    "        -   `D` is the root node of the left sub-tree\n",
    "        -   We recursively visit the left sub-tree:\n",
    "            -   `G` is the final left child of this sub-tree: **RETURN `G`**\n",
    "        -   We recursively visit the right sub-tree\n",
    "            -   `H` is the final right child of this sub-tree: **RETURN `H`**\n",
    "        -   We visit the root node `D`: **RETURN `D`**\n",
    "    -   We recursively visit the right sub-tree\n",
    "        -   `E` is the right child of this sub-tree: **RETURN `E`**\n",
    "    -   We visit back the root node `B`: **RETURN `B`**\n",
    "-   We recursively visit the right sub-tree:\n",
    "    -   `C` is the root node of the left sub-tree\n",
    "    -   We recursively visit the left sub-tree:\n",
    "        -   `NULL` is the left child of this sub-tree: **SKIP**\n",
    "    -   We recursively visit the right sub-tree\n",
    "        -   `F` is the right child of this sub-tree: **RETURN `F`**\n",
    "    -   We visit back the root node `C`: **RETURN `C`**\n",
    "-   We visit back the root node `A`: **RETURN `A`**\n",
    "\n",
    "Final Order of Traversal: G-H-D-E-B-F-C-A\n"
   ]
  },
  {
   "cell_type": "code",
   "execution_count": 10,
   "metadata": {},
   "outputs": [],
   "source": [
    "from typing import Optional\n",
    "\n",
    "\n",
    "class SimpleTree04:\n",
    "    \"\"\"Implementation of a Tree structure\"\"\"\n",
    "\n",
    "    def __init__(\n",
    "        self, nodes: Optional[list[TreeNode]], root_node: Optional[TreeNode]\n",
    "    ) -> None:\n",
    "        self._nodes: Optional[list[TreeNode]] = nodes\n",
    "        self._root_node: Optional[TreeNode] = root_node\n",
    "\n",
    "    def __str__(self) -> str:\n",
    "        \"\"\"Return the string representation of a Tree\"\"\"\n",
    "        return f\"Tree({str(self._nodes)})\"\n",
    "\n",
    "    def __repr__(self) -> str:\n",
    "        \"\"\"Return the string representation of a Tree\"\"\"\n",
    "        return f\"Tree({str(self._nodes)})\"\n",
    "\n",
    "    def traverse_dfs_inorder(self, from_node: Optional[TreeNode] = None) -> None:\n",
    "        \"\"\"Allows to traverse a tree using Depth-First-Search In-Order approach\"\"\"\n",
    "        # Start from the specified node\n",
    "        current: Optional[TreeNode] = from_node\n",
    "        # Base Condition for Recursion: Node is empty -> Return Nothing\n",
    "        if current is None:\n",
    "            return current\n",
    "        # Recursion toward the left subtree\n",
    "        self.traverse_dfs_inorder(current.left_child)\n",
    "        # Print the current data\n",
    "        print(current.data, end=\" \")\n",
    "        # Recursion toward the right subtree\n",
    "        self.traverse_dfs_inorder(current.right_child)\n",
    "\n",
    "    def traverse_dfs_preorder(self, from_node: Optional[TreeNode] = None) -> None:\n",
    "        \"\"\"Allows to traverse a tree using Depth-First-Search Pre-Order approach\"\"\"\n",
    "        # Start from the specified node\n",
    "        current: Optional[TreeNode] = from_node\n",
    "        # Base Condition for Recursion: Node is empty -> Return Nothing\n",
    "        if current is None:\n",
    "            return current\n",
    "        # Print the current data\n",
    "        print(current.data, end=\" \")\n",
    "        # Recursion toward the left subtree\n",
    "        self.traverse_dfs_preorder(current.left_child)\n",
    "        # Recursion toward the right subtree\n",
    "        self.traverse_dfs_preorder(current.right_child)\n",
    "\n",
    "    def traverse_dfs_postorder(self, from_node: Optional[TreeNode] = None) -> None:\n",
    "        \"\"\"Allows to traverse a tree using Depth-First-Search Post-Order approach\"\"\"\n",
    "        # Start from the specified node\n",
    "        current: Optional[TreeNode] = from_node\n",
    "        # Base Condition for Recursion: Node is empty -> Return Nothing\n",
    "        if current is None:\n",
    "            return\n",
    "        # Recursion toward the left subtree\n",
    "        self.traverse_dfs_postorder(current.left_child)\n",
    "        # Recursion toward the right subtree\n",
    "        self.traverse_dfs_postorder(current.right_child)\n",
    "        # Print the current data\n",
    "        print(current.data, end=\" \")\n"
   ]
  },
  {
   "cell_type": "code",
   "execution_count": 11,
   "metadata": {},
   "outputs": [
    {
     "name": "stdout",
     "output_type": "stream",
     "text": [
      "G H D E B F C A "
     ]
    }
   ],
   "source": [
    "# Create the tree for which those nodes are part of\n",
    "tree4: SimpleTree04 = SimpleTree04(nodes=[nA, nB, nC, nD, nE, nF, nG, nH], root_node=nA)\n",
    "\n",
    "# Testing DFS Pre-Order Traversing\n",
    "tree4.traverse_dfs_postorder(from_node=nA)\n"
   ]
  },
  {
   "attachments": {},
   "cell_type": "markdown",
   "metadata": {},
   "source": [
    "#### <a id='toc5_4_2_'></a>Postfix Notation [&#8593;](#toc0_)\n"
   ]
  },
  {
   "attachments": {},
   "cell_type": "markdown",
   "metadata": {},
   "source": [
    "-   Also known as _Reverse Polish_ notation\n",
    "-   Places the operator after the operands\n",
    "-   There is no further confusion over the precedence of operators, so parentheses are never needed\n",
    "-   Example: Prefix Notation of `(8+3)-3` is `8 3 - 3 +`\n"
   ]
  },
  {
   "attachments": {},
   "cell_type": "markdown",
   "metadata": {},
   "source": [
    "<img src='../files/chap_06/expression-tree-example-prefix.png' width=40%>\n"
   ]
  },
  {
   "attachments": {},
   "cell_type": "markdown",
   "metadata": {},
   "source": [
    "### <a id='toc5_5_'></a>Breadth-First Traversal [&#8593;](#toc0_)\n"
   ]
  },
  {
   "attachments": {},
   "cell_type": "markdown",
   "metadata": {},
   "source": [
    "-   Starts from the root of the tree\n",
    "-   Visit **every nodes on the next level** of the tree (horizontal): Prioritize levels\n",
    "-   Move to the next level of the tree and repeat\n",
    "-   Broadens the tree by traversing all the nodes in a level before going deep into the tree\n"
   ]
  },
  {
   "attachments": {},
   "cell_type": "markdown",
   "metadata": {},
   "source": [
    "<img src='../files/chap_06/breadth-first-traversal.png' width=50%>\n"
   ]
  },
  {
   "attachments": {},
   "cell_type": "markdown",
   "metadata": {},
   "source": [
    "-   We start at the root node level-0: **RETURN `4`**\n",
    "-   We move to level 1:\n",
    "    -   We visit node `2`: **RETURN `2`**\n",
    "    -   We visit node `8`: **RETURN `8`**\n",
    "-   We move to level 2:\n",
    "    -   We visit node `1`: **RETURN `1`**\n",
    "    -   We visit node `3`: **RETURN `3`**\n",
    "    -   We visit node `5`: **RETURN `5`**\n",
    "    -   We visit node `10`: **RETURN `10`**\n",
    "\n",
    "Final Order of Traversal: 4-2-8-1-3-5-10\n",
    "\n",
    "-   This traversal is implemented using a _Queue_ structure\n",
    "    -   Push the root into the Queue\n",
    "    -   Dequeue and visit\n",
    "    -   Push the left node into the Queue\n",
    "    -   Push the right node into the Queue\n",
    "    -   Dequeue and visit\n",
    "    -   Push the left node into the Queue\n",
    "    -   Push the right node into the Queue\n",
    "    -   Dequeue and visit\n",
    "    -   ... Continue until the Queue is empty\n"
   ]
  },
  {
   "attachments": {},
   "cell_type": "markdown",
   "metadata": {},
   "source": [
    "-   In our example here, we will make use of the `deque` Python collection\n",
    "-   However, we could also implement our own Queue class if we wanted to\n"
   ]
  },
  {
   "cell_type": "code",
   "execution_count": 12,
   "metadata": {},
   "outputs": [],
   "source": [
    "from collections import deque\n",
    "from typing import Optional\n",
    "\n",
    "\n",
    "class SimpleTree:\n",
    "    \"\"\"Implementation of a Tree structure\"\"\"\n",
    "\n",
    "    def __init__(\n",
    "        self, nodes: Optional[list[TreeNode]], root_node: Optional[TreeNode]\n",
    "    ) -> None:\n",
    "        self._nodes: Optional[list[TreeNode]] = nodes\n",
    "        self._root_node: Optional[TreeNode] = root_node\n",
    "\n",
    "    def __str__(self) -> str:\n",
    "        \"\"\"Return the string representation of a Tree\"\"\"\n",
    "        return f\"Tree({str(self._nodes)})\"\n",
    "\n",
    "    def __repr__(self) -> str:\n",
    "        \"\"\"Return the string representation of a Tree\"\"\"\n",
    "        return f\"Tree({str(self._nodes)})\"\n",
    "\n",
    "    def traverse_dfs_inorder(self, from_node: Optional[TreeNode] = None) -> None:\n",
    "        \"\"\"Allows to traverse a tree using Depth-First-Search In-Order approach\"\"\"\n",
    "        # Start from the specified node\n",
    "        current: Optional[TreeNode] = from_node\n",
    "        # Base Condition for Recursion: Node is empty -> Return Nothing\n",
    "        if current is None:\n",
    "            return current\n",
    "        # Recursion toward the left subtree\n",
    "        self.traverse_dfs_inorder(current.left_child)\n",
    "        # Print the current data\n",
    "        print(current.data, end=\" \")\n",
    "        # Recursion toward the right subtree\n",
    "        self.traverse_dfs_inorder(current.right_child)\n",
    "\n",
    "    def traverse_dfs_preorder(self, from_node: Optional[TreeNode] = None) -> None:\n",
    "        \"\"\"Allows to traverse a tree using Depth-First-Search Pre-Order approach\"\"\"\n",
    "        # Start from the specified node\n",
    "        current: Optional[TreeNode] = from_node\n",
    "        # Base Condition for Recursion: Node is empty -> Return Nothing\n",
    "        if current is None:\n",
    "            return current\n",
    "        # Print the current data\n",
    "        print(current.data, end=\" \")\n",
    "        # Recursion toward the left subtree\n",
    "        self.traverse_dfs_preorder(current.left_child)\n",
    "        # Recursion toward the right subtree\n",
    "        self.traverse_dfs_preorder(current.right_child)\n",
    "\n",
    "    def traverse_dfs_postorder(self, from_node: Optional[TreeNode] = None) -> None:\n",
    "        \"\"\"Allows to traverse a tree using Depth-First-Search Post-Order approach\"\"\"\n",
    "        # Start from the specified node\n",
    "        current: Optional[TreeNode] = from_node\n",
    "        # Base Condition for Recursion: Node is empty -> Return Nothing\n",
    "        if current is None:\n",
    "            return\n",
    "        # Recursion toward the left subtree\n",
    "        self.traverse_dfs_postorder(current.left_child)\n",
    "        # Recursion toward the right subtree\n",
    "        self.traverse_dfs_postorder(current.right_child)\n",
    "        # Print the current data\n",
    "        print(current.data, end=\" \")\n",
    "\n",
    "    def traverse_breadth_first(\n",
    "        self, from_node: Optional[TreeNode] = None\n",
    "    ) -> list[Optional[TreeNode]]:\n",
    "        \"\"\"This function allows to traverse a tree using Breadth-First approach\"\"\"\n",
    "        final_list_of_visited_nodes: list[Optional[TreeNode]] = []\n",
    "        # Initialize the queue with the root node\n",
    "        traversal_queue: deque[Optional[TreeNode]] = deque([from_node])\n",
    "        while len(traversal_queue) > 0:\n",
    "            # Take one node from the queue and put in the final list\n",
    "            node: Optional[TreeNode] = traversal_queue.popleft()\n",
    "            final_list_of_visited_nodes.append(node)\n",
    "            # Check its left child and append to the queue\n",
    "            if node and node.left_child:\n",
    "                traversal_queue.append(node.left_child)\n",
    "            # Check its right child and append to the queue\n",
    "            if node and node.right_child:\n",
    "                traversal_queue.append(node.right_child)\n",
    "        # Return the final list\n",
    "        return final_list_of_visited_nodes\n"
   ]
  },
  {
   "cell_type": "code",
   "execution_count": 13,
   "metadata": {},
   "outputs": [
    {
     "data": {
      "text/plain": [
       "[TreeNode(4),\n",
       " TreeNode(2),\n",
       " TreeNode(8),\n",
       " TreeNode(1),\n",
       " TreeNode(3),\n",
       " TreeNode(5),\n",
       " TreeNode(10)]"
      ]
     },
     "execution_count": 13,
     "metadata": {},
     "output_type": "execute_result"
    }
   ],
   "source": [
    "# Initializing TreeNodes\n",
    "# Initializing TreeNodes\n",
    "node1: TreeNode = TreeNode(\"1\")\n",
    "node2: TreeNode = TreeNode(\"2\")\n",
    "node3: TreeNode = TreeNode(\"3\")\n",
    "node4: TreeNode = TreeNode(\"4\")\n",
    "node5: TreeNode = TreeNode(\"5\")\n",
    "node8: TreeNode = TreeNode(\"8\")\n",
    "node10: TreeNode = TreeNode(\"10\")\n",
    "\n",
    "# Populating a Binary Tree\n",
    "node4.left_child = node2\n",
    "node4.right_child = node8\n",
    "node2.left_child = node1\n",
    "node2.right_child = node3\n",
    "node8.left_child = node5\n",
    "node8.right_child = node10\n",
    "\n",
    "# Create the tree for which those nodes are part of\n",
    "tree5: SimpleTree = SimpleTree(\n",
    "    nodes=[node1, node2, node3, node4, node5, node8, node10], root_node=node4\n",
    ")\n",
    "\n",
    "# Testing Breadth-First Traversing\n",
    "tree5.traverse_breadth_first(node4)\n"
   ]
  },
  {
   "attachments": {},
   "cell_type": "markdown",
   "metadata": {},
   "source": [
    "## <a id='toc6_'></a>Binary Tree [&#8593;](#toc0_)\n"
   ]
  },
  {
   "attachments": {},
   "cell_type": "markdown",
   "metadata": {},
   "source": [
    "-   Each node has a maximum of 2 children\n",
    "-   There is no other rule as to how the nodes are arranged\n",
    "-   Organized in the form of left-subtree and right-subtree\n",
    "-   The subtree roots are called _Left Successor_ and _Right Successor_\n"
   ]
  },
  {
   "attachments": {},
   "cell_type": "markdown",
   "metadata": {},
   "source": [
    "<img src='../files/chap_06/binary-tree-example.png' width=30%>\n"
   ]
  },
  {
   "attachments": {},
   "cell_type": "markdown",
   "metadata": {},
   "source": [
    "### <a id='toc6_1_'></a>Binary Search Tree [&#8593;](#toc0_)\n"
   ]
  },
  {
   "attachments": {},
   "cell_type": "markdown",
   "metadata": {},
   "source": [
    "-   Special kind of binary tree\n",
    "-   One of the most important data structures\n",
    "-   Commonly used in applications\n",
    "-   Structurally a Binary Tree\n",
    "-   Stores data in its nodes very efficiently\n",
    "-   Provides a fast search operation\n",
    "-   Convenient and easy insertion and deletion operations\n",
    "-   _A Binary Tree is a Binary Search Tree if:_\n",
    "    -   Value at any node of that tree > Value in all the nodes of its left subtree\n",
    "    -   Value at any node of that tree <= Value in all the nodes of its right subtree\n",
    "    -   _This property must apply to all the nodes in the tree_\n"
   ]
  },
  {
   "attachments": {},
   "cell_type": "markdown",
   "metadata": {},
   "source": [
    "<img src='../files/chap_06/binary-search-tree-example.png' width=40%>\n"
   ]
  },
  {
   "attachments": {},
   "cell_type": "markdown",
   "metadata": {},
   "source": [
    "-   All of the nodes in the left subtree of 5 are <= 5\n",
    "    -   All of the nodes in the left subtree of 3 are <= 3\n",
    "    -   All of the nodes in the right subtree of 3 are > 3\n",
    "-   All of nodes in the right subtree of 5 are > 5\n",
    "    -   All of the nodes in the right subtree of 7 are > 7\n"
   ]
  },
  {
   "attachments": {},
   "cell_type": "markdown",
   "metadata": {},
   "source": [
    "<img src='../files/chap_06/non-binary-search-tree-example.png' width=40%>\n"
   ]
  },
  {
   "attachments": {},
   "cell_type": "markdown",
   "metadata": {},
   "source": [
    "The above tree is not a _Binary Search Tree_ because:\n",
    "\n",
    "-   7 is a left-subtree of 5 but 7 > 5\n",
    "-   4 is a right-subtree of 7 but 4 < 7\n",
    "-   3 is a right-subtree of 5 but 3 < 5\n"
   ]
  },
  {
   "attachments": {},
   "cell_type": "markdown",
   "metadata": {},
   "source": [
    "### <a id='toc6_2_'></a>Binary Search Tree Implementation [&#8593;](#toc0_)\n"
   ]
  },
  {
   "attachments": {},
   "cell_type": "markdown",
   "metadata": {},
   "source": [
    "-   We need to keep track of the root node\n",
    "-   Operations:\n",
    "    -   Insert\n",
    "    -   Delete\n",
    "    -   Find Min\n",
    "    -   Find Max\n",
    "    -   Search...\n"
   ]
  },
  {
   "cell_type": "code",
   "execution_count": null,
   "metadata": {},
   "outputs": [],
   "source": [
    "class BinarySearchTree:\n",
    "    \"\"\"Implementation of a BinarySearchTree\"\"\"\n",
    "\n",
    "    def __init__(self):\n",
    "        \"\"\"Initialize a BinarySearchTree object\"\"\"\n",
    "        self.root_node = None  # TreeNode\n"
   ]
  },
  {
   "attachments": {},
   "cell_type": "markdown",
   "metadata": {},
   "source": [
    "#### <a id='toc6_2_1_'></a>Finding Minimum and Maximum Nodes [&#8593;](#toc0_)\n"
   ]
  },
  {
   "attachments": {},
   "cell_type": "markdown",
   "metadata": {},
   "source": [
    "-   The structure makes it very easy to find the extremes\n",
    "    -   Minimum: Traverse from root toward the left recursively until reaching an endpoint\n",
    "    -   Maximum: Traverse from root toward the right recursively until reaching an endpoint\n",
    "-   Applies to subtrees as well\n"
   ]
  },
  {
   "attachments": {},
   "cell_type": "markdown",
   "metadata": {},
   "source": [
    "<img src='../files/chap_06/bst-maxima-minima.png' width=50%>\n"
   ]
  },
  {
   "cell_type": "code",
   "execution_count": null,
   "metadata": {},
   "outputs": [],
   "source": [
    "class BinarySearchTree:\n",
    "    \"\"\"Implementation of a BinarySearchTree\"\"\"\n",
    "\n",
    "    def __init__(self):\n",
    "        \"\"\"Initialize a BinarySearchTree object\"\"\"\n",
    "        self.root_node = None  # TreeNode\n",
    "\n",
    "    def minimum(self):\n",
    "        \"\"\"Find the minimum value in the tree. O(h) with h: Height of the tree\"\"\"\n",
    "        # Start from the root node\n",
    "        current = self.root_node\n",
    "        # Loop toward the left until reaching an endpoint\n",
    "        while current.left_child:\n",
    "            current = current.left_child\n",
    "        # When endpoint reached, return as minimum\n",
    "        return current  # TreeNode\n",
    "\n",
    "    def maximum(self):\n",
    "        \"\"\"Find the maximum value in the tree. O(h) with h: Height of the tree\"\"\"\n",
    "        # Start from the root node\n",
    "        current = self.root_node\n",
    "        # Loop toward the right until reaching an endpoint\n",
    "        while current.right_child:\n",
    "            current = current.right_child\n",
    "        # When endpoint reached, return as maximum\n",
    "        return current  # TreeNode\n"
   ]
  },
  {
   "attachments": {},
   "cell_type": "markdown",
   "metadata": {},
   "source": [
    "#### <a id='toc6_2_2_'></a>Inserting Nodes [&#8593;](#toc0_)\n"
   ]
  },
  {
   "attachments": {},
   "cell_type": "markdown",
   "metadata": {},
   "source": [
    "-   We need to make sure to maintain the properties of a BST while doing this operation\n",
    "    -   The left child nodes should contain the data less than their own value\n",
    "    -   The right child nodes should contain the data greater than or equal their own value\n"
   ]
  },
  {
   "attachments": {},
   "cell_type": "markdown",
   "metadata": {},
   "source": [
    "1. Create a `TreeNode X` with the data to insert\n",
    "1. Check if the Tree is empty\n",
    "1. If empty, insert the TreeNode as root node\n",
    "1. If not empty, recursively compare with existing nodes starting from the root node\n",
    "1. If `X <= Current_Node`, move toward the left\n",
    "    1. If reaching endpoint, insert\n",
    "1. If `X > Current_Node`, move toward the right\n",
    "    1. If reaching endpoint, insert\n"
   ]
  },
  {
   "cell_type": "code",
   "execution_count": null,
   "metadata": {},
   "outputs": [],
   "source": [
    "class BinarySearchTree:\n",
    "    \"\"\"Implementation of a BinarySearchTree\"\"\"\n",
    "\n",
    "    def __init__(self):\n",
    "        \"\"\"Initialize a BinarySearchTree object\"\"\"\n",
    "        self.root_node = None  # TreeNode\n",
    "\n",
    "    def minimum(self):\n",
    "        \"\"\"Find the minimum value in the tree. O(h) with h: Height of the tree\"\"\"\n",
    "        # Start from the root node\n",
    "        current = self.root_node\n",
    "        # Loop toward the left until reaching an endpoint\n",
    "        while current.left_child:\n",
    "            current = current.left_child\n",
    "        # When endpoint reached, return as minimum\n",
    "        return current  # TreeNode\n",
    "\n",
    "    def maximum(self):\n",
    "        \"\"\"Find the maximum value in the tree. O(h) with h: Height of the tree\"\"\"\n",
    "        # Start from the root node\n",
    "        current = self.root_node\n",
    "        # Loop toward the right until reaching an endpoint\n",
    "        while current.right_child:\n",
    "            current = current.right_child\n",
    "        # When endpoint reached, return as maximum\n",
    "        return current  # TreeNode\n",
    "\n",
    "    def insert(self, data):\n",
    "        \"\"\"Insert a new value in the tree. O(h) with h: Height of the tree\"\"\"\n",
    "        # Create a new TreeNode to hold the new value\n",
    "        new_node = TreeNode(data)\n",
    "        # Check the case when the tree is initially empty\n",
    "        if self.root_node is None:\n",
    "            self.root_node = new_node\n",
    "        # Else, start from the root_node\n",
    "        else:\n",
    "            current = self.root_node\n",
    "            parent = None\n",
    "        # Looping until hitting an endpoint\n",
    "        while True:\n",
    "            parent = current\n",
    "            # If value is less, move toward the left\n",
    "            if new_node.data < parent.data:\n",
    "                current = current.left_child\n",
    "                # If hitting an endpoint, insert\n",
    "                if current is None:\n",
    "                    parent.left_child = new_node\n",
    "                    return\n",
    "            # If value is greater or equal, move toward the right\n",
    "            else:\n",
    "                current = current.right_child\n",
    "                # If hitting an endpoint, insert\n",
    "                if current is None:\n",
    "                    parent.right_child = new_node\n",
    "                    return\n"
   ]
  },
  {
   "attachments": {},
   "cell_type": "markdown",
   "metadata": {},
   "source": [
    "#### <a id='toc6_2_3_'></a>Deleting Nodes [&#8593;](#toc0_)\n"
   ]
  },
  {
   "attachments": {},
   "cell_type": "markdown",
   "metadata": {},
   "source": [
    "3 scenarios that we must cater during this process:\n"
   ]
  },
  {
   "attachments": {},
   "cell_type": "markdown",
   "metadata": {},
   "source": [
    "**1. The node to remove has no children**\n",
    "\n",
    "-   Remove directly\n",
    "\n",
    "<img src='../files/chap_06/node-to-delete-no-children.png' width=40%>\n"
   ]
  },
  {
   "attachments": {},
   "cell_type": "markdown",
   "metadata": {},
   "source": [
    "**2. The node to remove has 1 child**\n",
    "\n",
    "-   Point the parent of that node to the child of that node\n",
    "-   Ensure that the child-parent relationship still follow the properties of BST\n",
    "-   Delete the node\n",
    "\n",
    "<img src='../files/chap_06/node-to-delete-one-child.png' width=20%>\n"
   ]
  },
  {
   "attachments": {},
   "cell_type": "markdown",
   "metadata": {},
   "source": [
    "**3. The node to remove has 2 children**\n",
    "\n",
    "-   Find the next biggest descendant of the node (in-order successor) and get to that node\n",
    "-   Swap the value with it\n",
    "-   Consider the now current node and follow the samer rules\n",
    "\n",
    "<img src='../files/chap_06/node-to-delete-has-two-children.png' width=50%>\n"
   ]
  },
  {
   "attachments": {},
   "cell_type": "markdown",
   "metadata": {},
   "source": [
    "We do not keep reference of the parent node so we will use a helper function\n"
   ]
  },
  {
   "cell_type": "code",
   "execution_count": null,
   "metadata": {},
   "outputs": [],
   "source": [
    "class BinarySearchTree:\n",
    "    \"\"\"Implementation of a BinarySearchTree\"\"\"\n",
    "\n",
    "    def __init__(self):\n",
    "        \"\"\"Initialize a BinarySearchTree object\"\"\"\n",
    "        self.root_node = None  # TreeNode\n",
    "\n",
    "    def minimum(self):\n",
    "        \"\"\"Find the minimum value in the tree. O(h) with h: Height of the tree\"\"\"\n",
    "        # Start from the root node\n",
    "        current = self.root_node\n",
    "        # Loop toward the left until reaching an endpoint\n",
    "        while current.left_child:\n",
    "            current = current.left_child\n",
    "        # When endpoint reached, return as minimum\n",
    "        return current  # TreeNode\n",
    "\n",
    "    def maximum(self):\n",
    "        \"\"\"Find the maximum value in the tree. O(h) with h: Height of the tree\"\"\"\n",
    "        # Start from the root node\n",
    "        current = self.root_node\n",
    "        # Loop toward the right until reaching an endpoint\n",
    "        while current.right_child:\n",
    "            current = current.right_child\n",
    "        # When endpoint reached, return as maximum\n",
    "        return current  # TreeNode\n",
    "\n",
    "    def insert(self, data):\n",
    "        \"\"\"Insert a new value in the tree. O(h) with h: Height of the tree\"\"\"\n",
    "        # Create a new TreeNode to hold the new value\n",
    "        new_node = TreeNode(data)\n",
    "        # Check the case when the tree is initially empty\n",
    "        if self.root_node is None:\n",
    "            self.root_node = new_node\n",
    "        # Else, start from the root_node\n",
    "        else:\n",
    "            current = self.root_node\n",
    "            parent = None\n",
    "        # Looping until hitting an endpoint\n",
    "        while True:\n",
    "            parent = current\n",
    "            # If value is less, move toward the left\n",
    "            if new_node.data < parent.data:\n",
    "                current = current.left_child\n",
    "                # If hitting an endpoint, insert\n",
    "                if current is None:\n",
    "                    parent.left_child = new_node\n",
    "                    return\n",
    "            # If value is greater or equal, move toward the right\n",
    "            else:\n",
    "                current = current.right_child\n",
    "                # If hitting an endpoint, insert\n",
    "                if current is None:\n",
    "                    parent.right_child = new_node\n",
    "                    return\n",
    "\n",
    "    def get_node_with_parent(self, data):\n",
    "        \"\"\"Helper function to search the parent of a node\"\"\"\n",
    "        # Initialize\n",
    "        parent = None\n",
    "        current = self.root_node\n",
    "        # Check the case when the tree is initially empty\n",
    "        if current is None:\n",
    "            return (parent, None)\n",
    "        # Else, loop until hitting an endpoint\n",
    "        while True:\n",
    "            # If we find the node, return with its parent\n",
    "            if current.data == data:\n",
    "                return (parent, current)\n",
    "            # If data to find is less than current node, move left\n",
    "            elif current.data > data:\n",
    "                parent = current\n",
    "                current = current.left_child\n",
    "            # If data to find is greater than current node, move right\n",
    "            else:\n",
    "                parent = current\n",
    "                current = current.right_child\n",
    "        # Return the result\n",
    "        return (parent, current)\n",
    "\n",
    "    def remove(self, data):\n",
    "        \"\"\"Remove a value from the tree. O(h) with h: Height of the tree\"\"\"\n",
    "        # Get the parent and the node that has the data to remove\n",
    "        parent, node = self.get_node_with_parent(data)\n",
    "        # Check the case when the tree is initially empty\n",
    "        if parent is None and node is None:\n",
    "            return False\n",
    "        # Get children count\n",
    "        children_count = 0\n",
    "        if node.left_child and node.right_child:\n",
    "            children_count = 2\n",
    "        elif (node.left_child is None) and (node.right_child is None):\n",
    "            children_count = 0\n",
    "        else:\n",
    "            children_count = 1\n",
    "        # Handle the various conditions of deletion:\n",
    "        # No child: Remove the node directly\n",
    "        if children_count == 0:\n",
    "            if parent:\n",
    "                if parent.right_child is node:\n",
    "                    parent.right_child = None\n",
    "                else:\n",
    "                    parent.left_child = None\n",
    "            else:\n",
    "                self.root_node = None\n",
    "        # 1 Child:\n",
    "        # Point the parent of that node to the child of that node (next node)\n",
    "        # Ensure that the child-parent relationship still follow the properties of BST\n",
    "        # Delete the node\n",
    "        elif children_count == 1:\n",
    "            next_node = None\n",
    "            if node.left_child:\n",
    "                next_node = node.left_child\n",
    "            else:\n",
    "                next_node = node.right_child\n",
    "            if parent:\n",
    "                if parent.left_child is node:\n",
    "                    parent.left_child = next_node\n",
    "                else:\n",
    "                    parent.right_child = next_node\n",
    "            else:\n",
    "                self.root_node = next_node\n",
    "        # 2 children\n",
    "        # Find the next biggest descendant of the node (in-order successor) and get to that node\n",
    "        # Swap the value with it\n",
    "        # Consider the now current node and follow the samer rules\n",
    "        else:\n",
    "            parent_of_leftmost_node = node\n",
    "            leftmost_node = node.right_child\n",
    "            while leftmost_node.left_child:\n",
    "                parent_of_leftmost_node = leftmost_node\n",
    "                leftmost_node = leftmost_node.left_child\n",
    "                node.data = leftmost_node.data\n",
    "            # The in-order successor can only have a right child as its only child.\n",
    "            if parent_of_leftmost_node.left_child == leftmost_node:\n",
    "                parent_of_leftmost_node.left_child = leftmost_node.right_child\n",
    "            else:\n",
    "                parent_of_leftmost_node.right_child = leftmost_node.right_child\n"
   ]
  },
  {
   "attachments": {},
   "cell_type": "markdown",
   "metadata": {},
   "source": [
    "#### <a id='toc6_2_4_'></a>Searching The Tree [&#8593;](#toc0_)\n"
   ]
  },
  {
   "attachments": {},
   "cell_type": "markdown",
   "metadata": {},
   "source": [
    "-   Searching for an element with a given key value is easy because of the property of the tree\n",
    "-   We will consider the following example\n"
   ]
  },
  {
   "attachments": {},
   "cell_type": "markdown",
   "metadata": {},
   "source": [
    "<img src='../files/chap_06/binary-tree-to-search.png' width=40%>\n"
   ]
  },
  {
   "attachments": {},
   "cell_type": "markdown",
   "metadata": {},
   "source": [
    "Example: To search for Node 5:\n",
    "\n",
    "-   Start from Root Node: 4\n",
    "-   5 > 4 so move to the `right_child`: 8\n",
    "-   5 < 8 so move to the `left_child`: 5\n",
    "-   5 == 5: Return\n"
   ]
  },
  {
   "cell_type": "code",
   "execution_count": null,
   "metadata": {},
   "outputs": [],
   "source": [
    "class BinarySearchTree:\n",
    "    \"\"\"Implementation of a BinarySearchTree\"\"\"\n",
    "\n",
    "    def __init__(self):\n",
    "        \"\"\"Initialize a BinarySearchTree object\"\"\"\n",
    "        self.root_node = None  # TreeNode\n",
    "\n",
    "    def minimum(self):\n",
    "        \"\"\"Find the minimum value in the tree. O(h) with h: Height of the tree\"\"\"\n",
    "        # Start from the root node\n",
    "        current = self.root_node\n",
    "        # Loop toward the left until reaching an endpoint\n",
    "        while current.left_child:\n",
    "            current = current.left_child\n",
    "        # When endpoint reached, return as minimum\n",
    "        return current  # TreeNode\n",
    "\n",
    "    def maximum(self):\n",
    "        \"\"\"Find the maximum value in the tree. O(h) with h: Height of the tree\"\"\"\n",
    "        # Start from the root node\n",
    "        current = self.root_node\n",
    "        # Loop toward the right until reaching an endpoint\n",
    "        while current.right_child:\n",
    "            current = current.right_child\n",
    "        # When endpoint reached, return as maximum\n",
    "        return current  # TreeNode\n",
    "\n",
    "    def insert(self, data):\n",
    "        \"\"\"Insert a new value in the tree. O(h) with h: Height of the tree\"\"\"\n",
    "        # Create a new TreeNode to hold the new value\n",
    "        new_node = TreeNode(data)\n",
    "        # Check the case when the tree is initially empty\n",
    "        if self.root_node is None:\n",
    "            self.root_node = new_node\n",
    "        # Else, start from the root_node\n",
    "        else:\n",
    "            current = self.root_node\n",
    "            parent = None\n",
    "            # Looping until hitting an endpoint\n",
    "            while True:\n",
    "                parent = current\n",
    "                # If value is less, move toward the left\n",
    "                if new_node.data < parent.data:\n",
    "                    current = current.left_child\n",
    "                    # If hitting an endpoint, insert\n",
    "                    if current is None:\n",
    "                        parent.left_child = new_node\n",
    "                        return\n",
    "                # If value is greater or equal, move toward the right\n",
    "                else:\n",
    "                    current = current.right_child\n",
    "                    # If hitting an endpoint, insert\n",
    "                    if current is None:\n",
    "                        parent.right_child = new_node\n",
    "                        return\n",
    "\n",
    "    def get_node_with_parent(self, data):\n",
    "        \"\"\"Helper function to search the parent of a node\"\"\"\n",
    "        # Initialize\n",
    "        parent = None\n",
    "        current = self.root_node\n",
    "        # Check the case when the tree is initially empty\n",
    "        if current is None:\n",
    "            return (parent, None)\n",
    "        # Else, loop until hitting an endpoint\n",
    "        while True:\n",
    "            # If we find the node, return with its parent\n",
    "            if current.data == data:\n",
    "                return (parent, current)\n",
    "            # If data to find is less than current node, move left\n",
    "            elif current.data > data:\n",
    "                parent = current\n",
    "                current = current.left_child\n",
    "            # If data to find is greater than current node, move right\n",
    "            else:\n",
    "                parent = current\n",
    "                current = current.right_child\n",
    "        # Return the result\n",
    "        return (parent, current)\n",
    "\n",
    "    def remove(self, data):\n",
    "        \"\"\"Remove a value from the tree. O(h) with h: Height of the tree\"\"\"\n",
    "        # Get the parent and the node that has the data to remove\n",
    "        parent, node = self.get_node_with_parent(data)\n",
    "        # Check the case when the tree is initially empty\n",
    "        if parent is None and node is None:\n",
    "            return False\n",
    "        # Get children count\n",
    "        children_count = 0\n",
    "        if node.left_child and node.right_child:\n",
    "            children_count = 2\n",
    "        elif (node.left_child is None) and (node.right_child is None):\n",
    "            children_count = 0\n",
    "        else:\n",
    "            children_count = 1\n",
    "        # Handle the various conditions of deletion:\n",
    "        # No child: Remove the node directly\n",
    "        if children_count == 0:\n",
    "            if parent:\n",
    "                if parent.right_child is node:\n",
    "                    parent.right_child = None\n",
    "                    return True\n",
    "                else:\n",
    "                    parent.left_child = None\n",
    "                    return True\n",
    "            else:\n",
    "                self.root_node = None\n",
    "                return True\n",
    "        # 1 Child:\n",
    "        # Point the parent of that node to the child of that node (next node)\n",
    "        # Ensure that the child-parent relationship still follow the properties of BST\n",
    "        # Delete the node\n",
    "        elif children_count == 1:\n",
    "            next_node = None\n",
    "            if node.left_child:\n",
    "                next_node = node.left_child\n",
    "            else:\n",
    "                next_node = node.right_child\n",
    "            if parent:\n",
    "                if parent.left_child is node:\n",
    "                    parent.left_child = next_node\n",
    "                    return True\n",
    "                else:\n",
    "                    parent.right_child = next_node\n",
    "                    return True\n",
    "            else:\n",
    "                self.root_node = next_node\n",
    "                return True\n",
    "        # 2 children\n",
    "        # Find the next biggest descendant of the node (in-order successor) and get to that node\n",
    "        # Swap the value with it\n",
    "        # Consider the now current node and follow the samer rules\n",
    "        else:\n",
    "            parent_of_leftmost_node = node\n",
    "            leftmost_node = node.right_child\n",
    "            while leftmost_node.left_child:\n",
    "                parent_of_leftmost_node = leftmost_node\n",
    "                leftmost_node = leftmost_node.left_child\n",
    "                node.data = leftmost_node.data\n",
    "            # The in-order successor can only have a right child as its only child.\n",
    "            if parent_of_leftmost_node.left_child == leftmost_node:\n",
    "                parent_of_leftmost_node.left_child = leftmost_node.right_child\n",
    "                return True\n",
    "            else:\n",
    "                parent_of_leftmost_node.right_child = leftmost_node.right_child\n",
    "                return True\n",
    "\n",
    "    def search(self, data):\n",
    "        \"\"\"Search a value in the tree. O(h) with h: Height of the tree\"\"\"\n",
    "        # Start searching from the root node\n",
    "        current = self.root_node\n",
    "        while True:\n",
    "            if current is None:  # The data was not found\n",
    "                return None\n",
    "            elif current.data is data:\n",
    "                return data\n",
    "            elif (\n",
    "                current.data > data\n",
    "            ):  # The data to search is less than the current node -> Move left\n",
    "                current = current.left_child\n",
    "            else:  # The data to search is greater than the current node -> Move right\n",
    "                current = current.right_child\n"
   ]
  },
  {
   "attachments": {},
   "cell_type": "markdown",
   "metadata": {},
   "source": [
    "#### <a id='toc6_2_5_'></a>Testing the Tree [&#8593;](#toc0_)\n"
   ]
  },
  {
   "cell_type": "code",
   "execution_count": null,
   "metadata": {},
   "outputs": [],
   "source": [
    "# Initialize an instance\n",
    "tree = BinarySearchTree()\n",
    "# Insert from element to the tree\n",
    "tree.insert(5)\n",
    "tree.insert(2)\n",
    "tree.insert(7)\n",
    "tree.insert(9)\n",
    "tree.insert(1)\n",
    "# Check the tree\n",
    "print(\"Minimum in Tree:\", tree.minimum())\n",
    "print(\"Maximum in Tree:\", tree.maximum())\n",
    "# Search in the tree\n",
    "for i in range(1, 10):\n",
    "    found = tree.search(i)\n",
    "    print(\"{}: {}\".format(i, found))\n"
   ]
  },
  {
   "attachments": {},
   "cell_type": "markdown",
   "metadata": {},
   "source": [
    "### <a id='toc6_3_'></a>Benefits of Binary Search Tree [&#8593;](#toc0_)\n"
   ]
  },
  {
   "attachments": {},
   "cell_type": "markdown",
   "metadata": {},
   "source": [
    "|                      | **_Binary Search Trees_**                                                                   | **_Arrays_**                                            | **_Linked Lists_**                                                                           |\n",
    "| :------------------- | :------------------------------------------------------------------------------------------ | :------------------------------------------------------ | :------------------------------------------------------------------------------------------- |\n",
    "| **_Data Structure_** | Non-Linear                                                                                  | Linear                                                  | Linear                                                                                       |\n",
    "| **_Ease of Use_**    | - Search/Insertion/Deletion are fast<br>- Average Complexity $O(log_n)$                     | - Easy to create and use<br>- Average Complexity $O(n)$ | - Fast insertion/deletion with Doubly Linked Lists                                           |\n",
    "| **_Access_**         | - Access is fast<br>- Slow when the tree is unbalanced<br>- Worst-case complexity of $O(n)$ | - Easy to access elements<br>- Complexity is $O(1)$     | - Slow<br>- Only sequential access is possible<br>- Average and worst-case complexity $O(n)$ |\n",
    "| **_Search_**         | Worst-case complexity $O(n)$                                                                | Average and worst-case complexity $O(n)$                | - Slow because sequential searching<br>- Average and worst-case complexity $O(n)$            |\n",
    "| **_Insertion_**      | Worst-case complexity $O(n)$                                                                | - Slow<br>- Average and worst-case complexity $O(n)$    | Average and worst-case complexity $O(1)$                                                     |\n",
    "| **_Deletion_**       | Worst-case complexity $O(n)$                                                                | - Slow<br>- Average and worst-case complexity $O(n)$    | Average and worst-case complexity $O(1)$                                                     |\n"
   ]
  },
  {
   "attachments": {},
   "cell_type": "markdown",
   "metadata": {},
   "source": [
    "#### <a id='toc6_3_1_'></a>When BST Is A Good Choice [&#8593;](#toc0_)\n"
   ]
  },
  {
   "attachments": {},
   "cell_type": "markdown",
   "metadata": {},
   "source": [
    "-   Consider these elements: 5 3 7 1 4 6 9\n",
    "-   In a list, worst-case for searching is $O(7)$\n",
    "    -   Would require 7 comparisons\n"
   ]
  },
  {
   "attachments": {},
   "cell_type": "markdown",
   "metadata": {},
   "source": [
    "<img src='../files/chap_06/list-worst-case.png' width=40%>\n"
   ]
  },
  {
   "attachments": {},
   "cell_type": "markdown",
   "metadata": {},
   "source": [
    "-   In a BST, worst-case for searching is $O(3)$\n",
    "    -   Would require 3 comparisons\n"
   ]
  },
  {
   "attachments": {},
   "cell_type": "markdown",
   "metadata": {},
   "source": [
    "<img src='../files/chap_06/bst-worst-case.png' width=40%>\n"
   ]
  },
  {
   "attachments": {},
   "cell_type": "markdown",
   "metadata": {},
   "source": [
    "However:\n",
    "\n",
    "-   The efficiency depends on how the tree is built\n",
    "-   If the tree is not constructed properly, it will be slow\n",
    "-   **Choosing a self-balanced tree helps to improve search operations**\n",
    "-   **_BST is a better choice in most cases as long as it is balanced_**\n"
   ]
  },
  {
   "attachments": {},
   "cell_type": "markdown",
   "metadata": {},
   "source": [
    "### <a id='toc6_4_'></a>Balancing Tree [&#8593;](#toc0_)\n"
   ]
  },
  {
   "attachments": {},
   "cell_type": "markdown",
   "metadata": {},
   "source": [
    "-   If nodes are inserted into a tree in a sequential order, it becomes slow\n",
    "    -   Behaves like a list\n",
    "    -   Each node has exactly one child\n",
    "    -   The height of the tree becomes large\n",
    "-   To improve the performance of a tree, we want to reduce the height as much as possible\n",
    "    -   **Balancing Tree** - Balance the tree by filling up each row of the tree\n",
    "-   Some **Self-Balancing Trees** balance the tree during each operation that modifies the tree (insert, delete)\n",
    "    -   _Red-Black Tree_\n",
    "    -   _AA Tree_\n",
    "    -   _Scapegoat Tree_\n",
    "    -   ...\n",
    "-   Some trees are balanced by external algorithms\n",
    "    -   Don't need to keep track on balancing after each individual operation\n",
    "    -   Can leave balancing to the point where we need it\n"
   ]
  },
  {
   "attachments": {},
   "cell_type": "markdown",
   "metadata": {},
   "source": [
    "### <a id='toc6_5_'></a>Expression Tree [&#8593;](#toc0_)\n"
   ]
  },
  {
   "attachments": {},
   "cell_type": "markdown",
   "metadata": {},
   "source": [
    "-   This is the representation of an arithmetic expression using a tree\n",
    "-   Can be used to parse arithmetic and boolean expressions\n",
    "-   **All the _Leaf Nodes_ contain the operands**\n",
    "-   **All the _Non-Leaf Nodes_ contain the operators**\n",
    "-   In case of _Unary Operator_, one of the subtree will be empty\n",
    "\n",
    "The below example is for the expression $(4+5)\\times(5-3)$\n"
   ]
  },
  {
   "attachments": {},
   "cell_type": "markdown",
   "metadata": {},
   "source": [
    "<img src='../files/chap_06/expression-tree-example-2.png' width=40%>\n"
   ]
  },
  {
   "attachments": {},
   "cell_type": "markdown",
   "metadata": {},
   "source": [
    "-   Can be expressed using 3 types of notations:\n",
    "    -   **Infix**\n",
    "    -   **Prefix**\n",
    "    -   **Postfix**\n",
    "-   Makes it easy to evaluate an arithmetic expression using a tree structure\n",
    "    -   _Reverse Polish_ notation provides faster calculations\n"
   ]
  },
  {
   "attachments": {},
   "cell_type": "markdown",
   "metadata": {},
   "source": [
    "#### <a id='toc6_5_1_'></a>Parsing a Reverse Polish Notation [&#8593;](#toc0_)\n"
   ]
  },
  {
   "attachments": {},
   "cell_type": "markdown",
   "metadata": {},
   "source": [
    "-   This is using a simple tree implementation\n",
    "-   To keep it simple, we will only use a tree node implementation\n"
   ]
  },
  {
   "cell_type": "code",
   "execution_count": null,
   "metadata": {},
   "outputs": [],
   "source": [
    "class TreeNode:\n",
    "    \"\"\"Implementation of a Tree Node\"\"\"\n",
    "\n",
    "    def __init__(self, data=None):\n",
    "        \"\"\"Initialize a TreeNode object\"\"\"\n",
    "        self.data = data\n",
    "        self.left_child = None\n",
    "        self.right_child = None\n",
    "\n",
    "    def __str__(self):\n",
    "        \"\"\"Return the string representation of a Node\"\"\"\n",
    "        return f\"TreeNode({str(self.data)})\"\n",
    "\n",
    "    def __repr__(self):\n",
    "        \"\"\"Return the string representation of a Node\"\"\"\n",
    "        return f\"{self.data}\"\n",
    "\n",
    "    def value(self):\n",
    "        \"\"\"Return the value stored in the node\"\"\"\n",
    "        return self.data\n"
   ]
  },
  {
   "attachments": {},
   "cell_type": "markdown",
   "metadata": {},
   "source": [
    "-   To build the tree, we will use a stack to enlist the elements\n",
    "-   We will use a simple Python list as stack for now:\n",
    "    -   Add: `List.append()`\n",
    "    -   Remove: `List.pop()`\n"
   ]
  },
  {
   "cell_type": "code",
   "execution_count": null,
   "metadata": {},
   "outputs": [],
   "source": [
    "# Using a Postfix notation\n",
    "expression = \"4 5 + 5 3 - *\".split()\n",
    "# Use a stack: LIFO\n",
    "stack = []\n"
   ]
  },
  {
   "attachments": {},
   "cell_type": "markdown",
   "metadata": {},
   "source": [
    "-   Each element of `expression` list will be either an operand or an operator\n",
    "    -   If Operand: Embed in a `TreeNode` and push to the stack\n",
    "    -   If Operator: Embed in a `TreeNode`, pop 2 operands from the stack and put into the node's left and right children, then push to the stack\n",
    "        -   Ensure that the first pop goes to the right child\n",
    "        -   This makes sure that subtraction and divisions work\n"
   ]
  },
  {
   "cell_type": "code",
   "execution_count": null,
   "metadata": {},
   "outputs": [],
   "source": [
    "for term in expression:\n",
    "    # For Operators: Pop 2 operands from the stack and add to the operator's children\n",
    "    if term in \"+-*/\":\n",
    "        node = TreeNode(term)\n",
    "        node.right_child = stack.pop()  # First pop must go to the right child\n",
    "        node.left_child = stack.pop()\n",
    "    # For Operands: Embed in a node\n",
    "    else:\n",
    "        # For now, only consider integer operands\n",
    "        node = TreeNode(int(term))\n",
    "    # Push the node to the stack\n",
    "    stack.append(node)\n",
    "    # Verify the current stack after each operation\n",
    "    print(stack)\n"
   ]
  },
  {
   "attachments": {},
   "cell_type": "markdown",
   "metadata": {},
   "source": [
    "-   At the end of this operation, we should have one single element in the stack\n",
    "    -   This is the root of the tree\n",
    "    -   That holds the full tree\n",
    "-   For evaluating the operation, we use the following function to traverse the tree\n"
   ]
  },
  {
   "cell_type": "code",
   "execution_count": null,
   "metadata": {},
   "outputs": [],
   "source": [
    "def calc(node):\n",
    "    if node.data == \"+\":\n",
    "        return calc(node.left_child) + calc(node.right_child)\n",
    "    elif node.data == \"-\":\n",
    "        return calc(node.left_child) - calc(node.right_child)\n",
    "    elif node.data == \"*\":\n",
    "        return calc(node.left_child) * calc(node.right_child)\n",
    "    elif node.data == \"/\":\n",
    "        return calc(node.left_child) / calc(node.right_child)\n",
    "    else:\n",
    "        return node.data\n"
   ]
  },
  {
   "attachments": {},
   "cell_type": "markdown",
   "metadata": {},
   "source": [
    "And we can use the calculation\n"
   ]
  },
  {
   "cell_type": "code",
   "execution_count": null,
   "metadata": {},
   "outputs": [],
   "source": [
    "root = stack.pop()\n",
    "result = calc(root)\n",
    "print(result)\n"
   ]
  },
  {
   "cell_type": "code",
   "execution_count": null,
   "metadata": {},
   "outputs": [],
   "source": [
    "# Same result as the actual operation\n",
    "print((4 + 5) * (5 - 3))\n"
   ]
  },
  {
   "attachments": {},
   "cell_type": "markdown",
   "metadata": {},
   "source": [
    "## <a id='toc7_'></a>Heaps [&#8593;](#toc0_)\n"
   ]
  },
  {
   "attachments": {},
   "cell_type": "markdown",
   "metadata": {},
   "source": [
    "-   Specialization of a tree\n",
    "-   The nodes are ordered in a specific way\n",
    "-   Divided in **Max Heaps** and **Min Heaps**\n"
   ]
  },
  {
   "attachments": {},
   "cell_type": "markdown",
   "metadata": {},
   "source": [
    "### <a id='toc7_1_'></a>Max Heap [&#8593;](#toc0_)\n"
   ]
  },
  {
   "attachments": {},
   "cell_type": "markdown",
   "metadata": {},
   "source": [
    "-   Each parent node must always be greater or equal to its children\n",
    "-   _The root node must be the greatest value in the tree_\n"
   ]
  },
  {
   "attachments": {},
   "cell_type": "markdown",
   "metadata": {},
   "source": [
    "<img src='../files/chap_06/max-heap-example.png' width=40%>\n"
   ]
  },
  {
   "attachments": {},
   "cell_type": "markdown",
   "metadata": {},
   "source": [
    "### <a id='toc7_2_'></a>Min Heap [&#8593;](#toc0_)\n"
   ]
  },
  {
   "attachments": {},
   "cell_type": "markdown",
   "metadata": {},
   "source": [
    "-   Each parent node must always be less or equal to its children\n",
    "-   _The root node must be the smallest value in the tree_\n"
   ]
  },
  {
   "attachments": {},
   "cell_type": "markdown",
   "metadata": {},
   "source": [
    "<img src='../files/chap_06/min-heap-example.png' width=40%>\n"
   ]
  },
  {
   "attachments": {},
   "cell_type": "markdown",
   "metadata": {},
   "source": [
    "### <a id='toc7_3_'></a>Heaps Usage [&#8593;](#toc0_)\n"
   ]
  },
  {
   "attachments": {},
   "cell_type": "markdown",
   "metadata": {},
   "source": [
    "-   Implementation of _Priority Queues_\n",
    "-   Implementation of an efficient sorting algorithm: _Heap Sort_\n"
   ]
  },
  {
   "attachments": {},
   "cell_type": "markdown",
   "metadata": {},
   "source": [
    "## <a id='toc8_'></a>Ternary Search Tree [&#8593;](#toc0_)\n"
   ]
  },
  {
   "attachments": {},
   "cell_type": "markdown",
   "metadata": {},
   "source": [
    "-   Each node of the tree can have up to 3 children\n",
    "-   Considered a special case of the _Trie_ data structure\n",
    "    -   For _Trie_, each node contains 26 pointers to its children\n",
    "    -   _Ternary Tree_ only has 3 pointers to its children\n",
    "-   Characteristics of a TST\n",
    "    -   Each node stores a character\n",
    "    -   **Equal** pointer that points to a node that stores a value **equal** to the current node\n",
    "    -   **Left** pointer that points to a node that stores a value **smaller** than the current node\n",
    "    -   **Right** pointer that points to a node that stores a value **greater** than the current node\n",
    "    -   Each node has a **flag** variable that keeps track of whether that node is the end of a string or not\n"
   ]
  },
  {
   "attachments": {},
   "cell_type": "markdown",
   "metadata": {},
   "source": [
    "Here, we insert the strings `PUT`, `CAT`, `SIT`, `SING`, and `PUSH` to an empty ternary tree\n"
   ]
  },
  {
   "attachments": {},
   "cell_type": "markdown",
   "metadata": {},
   "source": [
    "<img src='../files/chap_06/tst-example.png' width=40%>\n"
   ]
  },
  {
   "attachments": {},
   "cell_type": "markdown",
   "metadata": {},
   "source": [
    "The following steps are followed:\n",
    "\n",
    "1. Tree is initially empty. We want to add the string `PUT`\n",
    "\n",
    "-   Create a _Root Node_ with the first character: `P`\n",
    "-   Create a _Node_ for the next character: `U`\n",
    "-   Create a _Node_ for the next character: `T`\n",
    "\n",
    "2. Next, we want to add the string `CAT`\n",
    "\n",
    "-   Compare the first character `C` with the root node `P`\n",
    "    -   Smaller than _Root Node_:\n",
    "        -   Create a _Node_ for the character: `C`\n",
    "        -   Put on the left-hand side of the root node\n",
    "-   Create a _Node_ for the next character: `A`\n",
    "-   Create a _Node_ for the next character: `T`\n",
    "\n",
    "3. Next, we want to add the string `SIT`\n",
    "\n",
    "-   Compare the first character `S` with the root node `P`\n",
    "    -   Greater than _Root Node_:\n",
    "        -   Create a _Node_ for the character: `S`\n",
    "        -   Put on the right-hand side of the root node\n",
    "-   Create a _Node_ for the next character: `I`\n",
    "-   Create a _Node_ for the next character: `T`\n",
    "\n",
    "4. Next, we want to add the string `SING`\n",
    "\n",
    "-   Compare the first character `S` with the root node `P`\n",
    "    -   Greater than _Root Node_: Move to the right\n",
    "    -   Equal to the next character: `S` == `S`. Skip\n",
    "-   Compare the next character: `I` == `I`. Skip\n",
    "-   Compare the next character\n",
    "    -   `N` < `T`: Move to the left\n",
    "        -   Create a _Node_ for the character: `N`\n",
    "        -   Put on the left-hand side of the `T` node\n",
    "-   Create a _Node_ for the next character: `G`\n",
    "\n",
    "5. Next, we want to add the string `PUSH`\n",
    "\n",
    "-   Compare the first character `P` with the root node `P`\n",
    "    -   `P` == `P`: Move to the next character\n",
    "-   Compare the next characters: `U` == `U`\n",
    "    -   `U` == `U`: Move to the next character\n",
    "-   Compare the next characters: `S` < `T`\n",
    "    -   `S` < `T`: Move to the left\n",
    "        -   Create a _Node_ for the character: `S`\n",
    "        -   Put on the left-hand side of the `T` node\n",
    "-   Create a _Node_ for the next character: `H`\n"
   ]
  },
  {
   "attachments": {},
   "cell_type": "markdown",
   "metadata": {},
   "source": [
    "### <a id='toc8_1_'></a>Ternary Search Tree Usage [&#8593;](#toc0_)\n"
   ]
  },
  {
   "attachments": {},
   "cell_type": "markdown",
   "metadata": {},
   "source": [
    "-   Efficient for some string searching / Pattern Matching\n",
    "    -   Search all strings that start with a prefix\n",
    "    -   Search phone numbers that starts with specific numbers\n",
    "    -   Spell-checking\n"
   ]
  }
 ],
 "metadata": {
  "hide_input": false,
  "kernelspec": {
   "display_name": "Python 3 (ipykernel)",
   "language": "python",
   "name": "python3"
  },
  "language_info": {
   "codemirror_mode": {
    "name": "ipython",
    "version": 3
   },
   "file_extension": ".py",
   "mimetype": "text/x-python",
   "name": "python",
   "nbconvert_exporter": "python",
   "pygments_lexer": "ipython3",
   "version": "3.11.3"
  },
  "toc": {
   "base_numbering": 1,
   "nav_menu": {},
   "number_sections": true,
   "sideBar": true,
   "skip_h1_title": true,
   "title_cell": "Table of Contents",
   "title_sidebar": "Contents",
   "toc_cell": true,
   "toc_position": {},
   "toc_section_display": true,
   "toc_window_display": true
  },
  "varInspector": {
   "cols": {
    "lenName": 16,
    "lenType": 16,
    "lenVar": 40
   },
   "kernels_config": {
    "python": {
     "delete_cmd_postfix": "",
     "delete_cmd_prefix": "del ",
     "library": "var_list.py",
     "varRefreshCmd": "print(var_dic_list())"
    },
    "r": {
     "delete_cmd_postfix": ") ",
     "delete_cmd_prefix": "rm(",
     "library": "var_list.r",
     "varRefreshCmd": "cat(var_dic_list()) "
    }
   },
   "types_to_exclude": [
    "module",
    "function",
    "builtin_function_or_method",
    "instance",
    "_Feature"
   ],
   "window_display": false
  }
 },
 "nbformat": 4,
 "nbformat_minor": 4
}
