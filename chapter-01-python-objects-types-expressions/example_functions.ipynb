{
 "cells": [
  {
   "cell_type": "markdown",
   "metadata": {},
   "source": [
    "# Functions Example"
   ]
  },
  {
   "cell_type": "code",
   "execution_count": 1,
   "metadata": {},
   "outputs": [],
   "source": [
    "# Example to understand functions\n",
    "def greeting(language):\n",
    "    if language == 'eng':\n",
    "        return 'hello world'\n",
    "    if language == 'fr':\n",
    "        return 'Bonjour le monde'\n",
    "    else:\n",
    "        return 'language not supported'"
   ]
  },
  {
   "cell_type": "code",
   "execution_count": 2,
   "metadata": {},
   "outputs": [
    {
     "name": "stdout",
     "output_type": "stream",
     "text": [
      "Bonjour le monde\n"
     ]
    }
   ],
   "source": [
    "lst = [greeting('eng'), greeting('fr'), greeting('ger')]\n",
    "print(lst[1])"
   ]
  },
  {
   "cell_type": "code",
   "execution_count": 3,
   "metadata": {},
   "outputs": [
    {
     "name": "stdout",
     "output_type": "stream",
     "text": [
      "2\n",
      "4\n",
      "6\n",
      "8\n",
      "- 1\n",
      "- 2\n",
      "- 3\n"
     ]
    }
   ],
   "source": [
    "# High-Order functions\n",
    "lst = [1, 2, 3, 4]\n",
    "\n",
    "for item in map(lambda n: n * 2, lst):\n",
    "    print(item)\n",
    "\n",
    "for item in filter(lambda n: n < 4, lst): \n",
    "    print(\"-\", item)"
   ]
  },
  {
   "cell_type": "code",
   "execution_count": 4,
   "metadata": {},
   "outputs": [
    {
     "name": "stdout",
     "output_type": "stream",
     "text": [
      "[['flour', 1.9, 5], ['rice', 2.4, 8], ['corn', 4.7, 6]]\n"
     ]
    }
   ],
   "source": [
    "items = [\n",
    "    [\"rice\", 2.4, 8], \n",
    "    [\"flour\", 1.9, 5], \n",
    "    [\"corn\", 4.7, 6]\n",
    "]\n",
    "\n",
    "items.sort(key = lambda item: item[1])\n",
    "print(items)"
   ]
  }
 ],
 "metadata": {
  "hide_input": false,
  "kernelspec": {
   "display_name": "Python 3 (ipykernel)",
   "language": "python",
   "name": "python3"
  },
  "language_info": {
   "codemirror_mode": {
    "name": "ipython",
    "version": 3
   },
   "file_extension": ".py",
   "mimetype": "text/x-python",
   "name": "python",
   "nbconvert_exporter": "python",
   "pygments_lexer": "ipython3",
   "version": "3.8.12"
  },
  "toc": {
   "base_numbering": 1,
   "nav_menu": {},
   "number_sections": false,
   "sideBar": false,
   "skip_h1_title": false,
   "title_cell": "Table of Contents",
   "title_sidebar": "Contents",
   "toc_cell": false,
   "toc_position": {},
   "toc_section_display": false,
   "toc_window_display": false
  },
  "varInspector": {
   "cols": {
    "lenName": 16,
    "lenType": 16,
    "lenVar": 40
   },
   "kernels_config": {
    "python": {
     "delete_cmd_postfix": "",
     "delete_cmd_prefix": "del ",
     "library": "var_list.py",
     "varRefreshCmd": "print(var_dic_list())"
    },
    "r": {
     "delete_cmd_postfix": ") ",
     "delete_cmd_prefix": "rm(",
     "library": "var_list.r",
     "varRefreshCmd": "cat(var_dic_list()) "
    }
   },
   "types_to_exclude": [
    "module",
    "function",
    "builtin_function_or_method",
    "instance",
    "_Feature"
   ],
   "window_display": false
  }
 },
 "nbformat": 4,
 "nbformat_minor": 4
}
