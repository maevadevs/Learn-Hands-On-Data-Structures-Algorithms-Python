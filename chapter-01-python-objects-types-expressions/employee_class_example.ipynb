{
 "cells": [
  {
   "cell_type": "markdown",
   "metadata": {},
   "source": [
    "# Employee Class Example"
   ]
  },
  {
   "cell_type": "code",
   "execution_count": 4,
   "metadata": {},
   "outputs": [],
   "source": [
    "class Employee(object):\n",
    "    numEmployee = 0\n",
    "    \n",
    "    def __init__(self, name, rate):\n",
    "        self.owed = 0\n",
    "        self.name = name\n",
    "        self.rate = rate\n",
    "        Employee.numEmployee += 1\n",
    "\n",
    "    def __del__(self):\n",
    "        Employee.numEmployee -= 1\n",
    "\n",
    "    def hours(self, numHours):\n",
    "        self.owed += numHours * self.rate\n",
    "        return \"%.2f hours worked\" % numHours\n",
    "    \n",
    "    def pay(self):\n",
    "        self.owed = 0\n",
    "        return \"payed %s \" % self.name "
   ]
  },
  {
   "cell_type": "code",
   "execution_count": 5,
   "metadata": {},
   "outputs": [],
   "source": [
    "emp1 = Employee(\"Jill\", 18.50)\n",
    "emp2 = Employee(\"jack\", 15.50)"
   ]
  },
  {
   "cell_type": "code",
   "execution_count": 6,
   "metadata": {},
   "outputs": [
    {
     "name": "stdout",
     "output_type": "stream",
     "text": [
      "0\n",
      "20.00 hours worked\n",
      "370.0\n",
      "payed Jill \n"
     ]
    }
   ],
   "source": [
    "print(Employee.numEmployee)\n",
    "print(emp1.hours(20))\n",
    "print(emp1.owed)\n",
    "print(emp1.pay())"
   ]
  }
 ],
 "metadata": {
  "kernelspec": {
   "display_name": "Python 3",
   "language": "python",
   "name": "python3"
  },
  "language_info": {
   "codemirror_mode": {
    "name": "ipython",
    "version": 3
   },
   "file_extension": ".py",
   "mimetype": "text/x-python",
   "name": "python",
   "nbconvert_exporter": "python",
   "pygments_lexer": "ipython3",
   "version": "3.8.2"
  },
  "toc": {
   "base_numbering": 1,
   "nav_menu": {},
   "number_sections": false,
   "sideBar": false,
   "skip_h1_title": false,
   "title_cell": "Table of Contents",
   "title_sidebar": "Contents",
   "toc_cell": false,
   "toc_position": {},
   "toc_section_display": false,
   "toc_window_display": false
  }
 },
 "nbformat": 4,
 "nbformat_minor": 4
}
