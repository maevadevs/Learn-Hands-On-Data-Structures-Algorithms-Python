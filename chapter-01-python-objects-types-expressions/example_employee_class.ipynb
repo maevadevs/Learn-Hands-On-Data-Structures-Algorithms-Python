{
 "cells": [
  {
   "cell_type": "markdown",
   "metadata": {},
   "source": [
    "# Employee Class Example"
   ]
  },
  {
   "cell_type": "code",
   "execution_count": 1,
   "metadata": {},
   "outputs": [],
   "source": [
    "class Employee(object):\n",
    "    # Properties\n",
    "    num_employee = 0\n",
    "    \n",
    "    # Methods\n",
    "    def __init__(self, name, rate):\n",
    "        self.owed = 0\n",
    "        self.name = name\n",
    "        self.rate = rate\n",
    "        Employee.num_employee += 1\n",
    "\n",
    "    def __del__(self):\n",
    "        Employee.num_employee -= 1\n",
    "\n",
    "    def hours(self, num_hours):\n",
    "        self.owed += num_hours * self.rate\n",
    "        return \"%.2f hours worked\" % num_hours\n",
    "\n",
    "    def pay(self):\n",
    "        self.owed = 0\n",
    "        return \"payed %s \" % self.name "
   ]
  },
  {
   "cell_type": "code",
   "execution_count": 2,
   "metadata": {},
   "outputs": [],
   "source": [
    "# Instantiation\n",
    "emp1 = Employee(\"Jill\", 18.50)\n",
    "emp2 = Employee(\"jack\", 15.50)"
   ]
  },
  {
   "cell_type": "code",
   "execution_count": 3,
   "metadata": {},
   "outputs": [
    {
     "name": "stdout",
     "output_type": "stream",
     "text": [
      "2\n",
      "20.00 hours worked\n",
      "370.0\n",
      "payed Jill \n",
      "2\n",
      "20.00 hours worked\n",
      "370.0\n",
      "payed Jill \n"
     ]
    }
   ],
   "source": [
    "print(Employee.num_employee)\n",
    "print(emp1.hours(20))\n",
    "print(emp1.owed)\n",
    "print(emp1.pay())"
   ]
  }
 ],
 "metadata": {
  "hide_input": false,
  "kernelspec": {
   "display_name": "Python 3 (ipykernel)",
   "language": "python",
   "name": "python3"
  },
  "language_info": {
   "codemirror_mode": {
    "name": "ipython",
    "version": 3
   },
   "file_extension": ".py",
   "mimetype": "text/x-python",
   "name": "python",
   "nbconvert_exporter": "python",
   "pygments_lexer": "ipython3",
   "version": "3.8.12"
  },
  "toc": {
   "base_numbering": 1,
   "nav_menu": {},
   "number_sections": false,
   "sideBar": false,
   "skip_h1_title": false,
   "title_cell": "Table of Contents",
   "title_sidebar": "Contents",
   "toc_cell": false,
   "toc_position": {},
   "toc_section_display": false,
   "toc_window_display": false
  },
  "varInspector": {
   "cols": {
    "lenName": 16,
    "lenType": 16,
    "lenVar": 40
   },
   "kernels_config": {
    "python": {
     "delete_cmd_postfix": "",
     "delete_cmd_prefix": "del ",
     "library": "var_list.py",
     "varRefreshCmd": "print(var_dic_list())"
    },
    "r": {
     "delete_cmd_postfix": ") ",
     "delete_cmd_prefix": "rm(",
     "library": "var_list.r",
     "varRefreshCmd": "cat(var_dic_list()) "
    }
   },
   "types_to_exclude": [
    "module",
    "function",
    "builtin_function_or_method",
    "instance",
    "_Feature"
   ],
   "window_display": false
  }
 },
 "nbformat": 4,
 "nbformat_minor": 4
}
