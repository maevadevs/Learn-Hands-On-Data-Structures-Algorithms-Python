{
 "cells": [
  {
   "attachments": {},
   "cell_type": "markdown",
   "metadata": {},
   "source": [
    "# Classes\n"
   ]
  },
  {
   "attachments": {},
   "cell_type": "markdown",
   "metadata": {},
   "source": [
    "---\n"
   ]
  },
  {
   "attachments": {},
   "cell_type": "markdown",
   "metadata": {},
   "source": [
    "**Table of contents**<a id='toc0_'></a>\n",
    "\n",
    "-   [Class Definition](#toc1_)\n",
    "    -   [Method](#toc1_1_)\n",
    "    -   [Constructor `__init__`](#toc1_2_)\n",
    "        -   [Data Attributes](#toc1_2_1_)\n",
    "        -   [Object Instantiation](#toc1_2_2_)\n",
    "        -   [`self` Reference](#toc1_2_3_)\n",
    "    -   [Operations](#toc1_3_)\n",
    "    -   [Using Modules](#toc1_4_)\n",
    "    -   [Hiding Attributes](#toc1_5_)\n",
    "-   [Overloading Operators and Methods](#toc2_)\n",
    "-   [Inheritance](#toc3_)\n",
    "    -   [Deriving Child Classes](#toc3_1_)\n",
    "    -   [Creating Class Instance](#toc3_2_)\n",
    "    -   [Invoking Methods](#toc3_3_)\n",
    "-   [Polymorphism](#toc4_)\n",
    "\n",
    "<!-- vscode-jupyter-toc-config\n",
    "\tnumbering=false\n",
    "\tanchor=true\n",
    "\tflat=false\n",
    "\tminLevel=2\n",
    "\tmaxLevel=6\n",
    "\t/vscode-jupyter-toc-config -->\n",
    "<!-- THIS CELL WILL BE REPLACED ON TOC UPDATE. DO NOT WRITE YOUR TEXT IN THIS CELL -->\n"
   ]
  },
  {
   "attachments": {},
   "cell_type": "markdown",
   "metadata": {},
   "source": [
    "---\n"
   ]
  },
  {
   "attachments": {},
   "cell_type": "markdown",
   "metadata": {},
   "source": [
    "-   **Object**: a software entity that stores data and methods to work on those data\n",
    "-   **Class**: blueprint that describes the data stored in an object and defines the operations that can be performed on the object\n",
    "-   Objects are created or instantiated from classes\n",
    "-   Each object is known as an instance of the class from which it was created\n"
   ]
  },
  {
   "attachments": {},
   "cell_type": "markdown",
   "metadata": {},
   "source": [
    "## [&#8593;](#toc0_) <a id='toc1_'></a>Class Definition\n"
   ]
  },
  {
   "attachments": {},
   "cell_type": "markdown",
   "metadata": {},
   "source": [
    "-   Class name should start with Uppercase and in `CamelCase` style\n",
    "-   Variable names should start with lowercase and in `snake_case`\n"
   ]
  },
  {
   "cell_type": "code",
   "execution_count": 1,
   "metadata": {},
   "outputs": [],
   "source": [
    "class Point1(object):\n",
    "    # The methods are defined here in the body one after the other\n",
    "    pass\n"
   ]
  },
  {
   "attachments": {},
   "cell_type": "markdown",
   "metadata": {},
   "source": [
    "### [&#8593;](#toc0_) <a id='toc1_1_'></a>Method\n"
   ]
  },
  {
   "attachments": {},
   "cell_type": "markdown",
   "metadata": {},
   "source": [
    "-   Method is a service or operation that can be performed on an object created from the given class\n",
    "-   Very similar to functions, but:\n",
    "    -   A method is defined as part of a class definition\n",
    "    -   Can only be used with an instance of the class in which it is defined\n",
    "    -   Each method header must include a parameter named `self`, which must be listed first\n",
    "-   All classes are automatically derived from the `object` base class even if it’s not explicitly stated in the header definition\n"
   ]
  },
  {
   "cell_type": "code",
   "execution_count": 2,
   "metadata": {},
   "outputs": [],
   "source": [
    "class Point2:\n",
    "    # The methods are defined here in the body one after the other\n",
    "\n",
    "    def summary(self) -> str:\n",
    "        \"\"\"A method that prints a summary about the point instance.\n",
    "\n",
    "        Returns:\n",
    "            - `str`: A summary about the point instance\n",
    "        \"\"\"\n",
    "        return \"A simple point\""
   ]
  },
  {
   "cell_type": "code",
   "execution_count": 3,
   "metadata": {},
   "outputs": [
    {
     "name": "stdout",
     "output_type": "stream",
     "text": [
      "A simple point\n"
     ]
    }
   ],
   "source": [
    "# An instance of the Point class\n",
    "pt2: Point2 = Point2()\n",
    "# Calling a method of the pt object\n",
    "print(pt2.summary())\n"
   ]
  },
  {
   "attachments": {},
   "cell_type": "markdown",
   "metadata": {},
   "source": [
    "### [&#8593;](#toc0_) <a id='toc1_2_'></a>Constructor `__init__`\n"
   ]
  },
  {
   "attachments": {},
   "cell_type": "markdown",
   "metadata": {},
   "source": [
    "-   A special method that defines how the instances of the class are created/initialized\n",
    "-   Defines and initializes the data to be contained in the object\n",
    "-   Automatically called when an instance of the class is created\n",
    "-   The constructor method is named `__init__` and is usually listed first in the class definition\n",
    "-   Default properties for the instances of the class are assigned here\n"
   ]
  },
  {
   "cell_type": "code",
   "execution_count": 4,
   "metadata": {},
   "outputs": [],
   "source": [
    "class Point3:\n",
    "    # The methods are defined here in the body one after the other\n",
    "\n",
    "    def __init__(self, x: float = 0, y: float = 0) -> None:\n",
    "        \"\"\"The constructor of instances for the Point class.\n",
    "\n",
    "        Args:\n",
    "            - `x` (`float`, optional): The value of the X-Coordinate. Defaults to 0.\n",
    "            - `y` (`float`, optional): The value of the Y-Coordinate. Defaults to 0.\n",
    "        \"\"\"\n",
    "        self.x_coord: float = x\n",
    "        self.y_coord: float = y\n",
    "\n",
    "    def summary(self) -> str:\n",
    "        \"\"\"A method that prints a summary about the point instance.\n",
    "\n",
    "        Returns:\n",
    "            - `str`: A summary about the point instance.\n",
    "        \"\"\"\n",
    "        return f\"Point({self.x_coord}, {self.y_coord})\""
   ]
  },
  {
   "cell_type": "code",
   "execution_count": 5,
   "metadata": {},
   "outputs": [
    {
     "name": "stdout",
     "output_type": "stream",
     "text": [
      "Point(3, -1)\n",
      "Point(0, 0)\n"
     ]
    }
   ],
   "source": [
    "# An instance of the Point class\n",
    "pt3: Point3 = Point3(3, -1)\n",
    "\n",
    "# Calling a method of the pt object\n",
    "print(pt3.summary())\n",
    "\n",
    "# Defaults can also be set on the constructor, like all other functions\n",
    "pt33: Point3 = Point3()\n",
    "\n",
    "# Calling a method of the pt object\n",
    "print(pt33.summary())"
   ]
  },
  {
   "attachments": {},
   "cell_type": "markdown",
   "metadata": {},
   "source": [
    "#### [&#8593;](#toc0_) <a id='toc1_2_1_'></a>Data Attributes\n"
   ]
  },
  {
   "attachments": {},
   "cell_type": "markdown",
   "metadata": {},
   "source": [
    "-   Data fields contained in an object\n",
    "-   Just variables like any other Python variables, but tightly attached to the object instance\n",
    "-   Accessed using the dot-notation or the key-notation\n",
    "-   **Within method definitions, any variables not prepended by the `self` reference are local to the method in which they are defined**\n",
    "-   Variables in Python are created when they are first assigned a value\n",
    "    -   The constructor is responsible for creating and initializing the data attributes\n"
   ]
  },
  {
   "attachments": {},
   "cell_type": "markdown",
   "metadata": {},
   "source": [
    "#### [&#8593;](#toc0_) <a id='toc1_2_2_'></a>Object Instantiation\n"
   ]
  },
  {
   "attachments": {},
   "cell_type": "markdown",
   "metadata": {},
   "source": [
    "-   Object instantiation is done by calling the class constructor\n",
    "-   We never call the `__init__` constructor directly\n",
    "    -   The Constructor automatically calls `__init__` when the constructor is used\n",
    "    -   The Constructor is just the name of the class\n"
   ]
  },
  {
   "cell_type": "code",
   "execution_count": 6,
   "metadata": {},
   "outputs": [],
   "source": [
    "# Instantiating 2 points\n",
    "point_A3: Point3 = Point3(5, 7)\n",
    "point_B3: Point3 = Point3(0, 0)\n"
   ]
  },
  {
   "attachments": {},
   "cell_type": "markdown",
   "metadata": {},
   "source": [
    "![point-object-instances](../files/appendix_d/point-object-instances.png)\n"
   ]
  },
  {
   "attachments": {},
   "cell_type": "markdown",
   "metadata": {},
   "source": [
    "#### [&#8593;](#toc0_) <a id='toc1_2_3_'></a>`self` Reference\n"
   ]
  },
  {
   "attachments": {},
   "cell_type": "markdown",
   "metadata": {},
   "source": [
    "-   `self` is always the first parameter to any constructor and methods\n",
    "-   `self` is a special parameter that must be included in each method definition and it must be listed first\n",
    "-   When a method is called, this parameter is automatically filled with a reference to the object instance on which the method was invoked\n"
   ]
  },
  {
   "attachments": {},
   "cell_type": "markdown",
   "metadata": {},
   "source": [
    "### [&#8593;](#toc0_) <a id='toc1_3_'></a>Operations\n"
   ]
  },
  {
   "attachments": {},
   "cell_type": "markdown",
   "metadata": {},
   "source": [
    "-   Most operations on classes are done through their methods\n"
   ]
  },
  {
   "cell_type": "code",
   "execution_count": 7,
   "metadata": {},
   "outputs": [],
   "source": [
    "class Point4:\n",
    "    # The methods are defined here in the body one after the other\n",
    "\n",
    "    def __init__(self, x: float = 0, y: float = 0) -> None:\n",
    "        \"\"\"The constructor of instances for the Point class.\n",
    "\n",
    "        Args:\n",
    "            - `x` (`float`, optional): The value of the X-Coordinate. Defaults to 0.\n",
    "            - `y` (`float`, optional): The value of the Y-Coordinate. Defaults to 0.\n",
    "        \"\"\"\n",
    "        self.x_coord: float = x\n",
    "        self.y_coord: float = y\n",
    "\n",
    "    def summary(self) -> str:\n",
    "        \"\"\"A method that prints a summary about the point instance.\n",
    "\n",
    "        Returns:\n",
    "            - `str`: A summary about the point instance.\n",
    "        \"\"\"\n",
    "        return f\"Point({self.x_coord}, {self.y_coord})\"\n",
    "\n",
    "    def get_x(self) -> float:\n",
    "        \"\"\"Return the value of the X-Coordinate.\n",
    "\n",
    "        Returns:\n",
    "            - `float`: The value of the X-Coordinate\n",
    "        \"\"\"\n",
    "        return self.x_coord\n",
    "\n",
    "    def get_y(self) -> float:\n",
    "        \"\"\"Return the value of the X-Coordinate.\n",
    "\n",
    "        Returns:\n",
    "            - `float`: The value of the Y-Coordinate\n",
    "        \"\"\"\n",
    "        return self.y_coord"
   ]
  },
  {
   "cell_type": "code",
   "execution_count": 8,
   "metadata": {},
   "outputs": [
    {
     "name": "stdout",
     "output_type": "stream",
     "text": [
      "Point A is at (5, 7)\n"
     ]
    }
   ],
   "source": [
    "# Instantiating\n",
    "point_A4: Point4 = Point4(5, 7)\n",
    "\n",
    "# Get the X and Y of A\n",
    "x_A4: float = point_A4.get_x()\n",
    "y_A4: float = point_A4.get_y()\n",
    "\n",
    "print(f\"Point A is at ({x_A4}, {y_A4})\")\n"
   ]
  },
  {
   "attachments": {},
   "cell_type": "markdown",
   "metadata": {},
   "source": [
    "![self-reference](../files/appendix_d/self-reference.png)\n"
   ]
  },
  {
   "attachments": {},
   "cell_type": "markdown",
   "metadata": {},
   "source": [
    "-   Any object that stores data is said to have a state\n",
    "    -   State is the current set of values that the object contains\n",
    "-   **Immutable Object** - State cannot be changed once it has been created (e.g. Strings)\n",
    "-   **Mutable Objects** - The data fields of the object can be changed after the object has been created (e.g. Lists)\n",
    "-   **To make an object immutable, do not provide methods that allows to change its properties**\n",
    "    -   Currently, the Point object is immutable\n"
   ]
  },
  {
   "cell_type": "code",
   "execution_count": 9,
   "metadata": {},
   "outputs": [],
   "source": [
    "\"\"\"Define the features of a 2D Point.\"\"\"\n",
    "\n",
    "# Import modules\n",
    "from math import sqrt\n",
    "\n",
    "\n",
    "# Define Class\n",
    "class Point5:\n",
    "    \"\"\"Represent a 2D Point object.\"\"\"\n",
    "\n",
    "    # The methods are defined here in the body one after the other\n",
    "    def __init__(self, x: float = 0, y: float = 0) -> None:\n",
    "        \"\"\"The instance constructor of the Point class.\n",
    "\n",
    "        Args:\n",
    "            - `x` (`float`, optional): The value of the X-Coordinate. Defaults to 0.\n",
    "            - `y` (`float`, optional): The value of the Y-Coordinate. Defaults to 0.\n",
    "        \"\"\"\n",
    "        self.x_coord: float = x\n",
    "        self.y_coord: float = y\n",
    "\n",
    "    def __str__(self) -> str:\n",
    "        \"\"\"Returns the string representation of the Point.\n",
    "\n",
    "        Returns:\n",
    "            - `str`: The string representation of the Point.\n",
    "        \"\"\"\n",
    "        return f\"Point({self.x_coord}, {self.y_coord})\"\n",
    "\n",
    "    def summary(self) -> str:\n",
    "        \"\"\"Prints a summary about the point instance.\n",
    "\n",
    "        Returns:\n",
    "            - `str`: The summary about the point.\n",
    "\n",
    "        It just calls and returns str(point).\n",
    "        \"\"\"\n",
    "        return str(self)\n",
    "\n",
    "    def get_x(self) -> float:\n",
    "        \"\"\"Return the value on the X-axis.\n",
    "\n",
    "        Returns:\n",
    "            - `float`: The X-coordinate of the point.\n",
    "        \"\"\"\n",
    "        return self.x_coord\n",
    "\n",
    "    def get_y(self) -> float:\n",
    "        \"\"\"Return the value on the Y-axis.\n",
    "\n",
    "        Returns:\n",
    "            - `float`: The Y-coordinate of the point.\n",
    "        \"\"\"\n",
    "        return self.y_coord\n",
    "\n",
    "    def shift(self, x_inc: float = 0, y_inc: float = 0) -> None:\n",
    "        \"\"\"Adjust or shift the value on the X-Coordinate or the Y-coordinate.\n",
    "\n",
    "        Args:\n",
    "            - `x_inc` (`float`, optional): Value to shift the X-coordinate by. Defaults to 0.\n",
    "            - `y_inc` (`float`, optional): Value to shift the Y-coordinate by. Defaults to 0.\n",
    "        \"\"\"\n",
    "        self.x_coord += x_inc\n",
    "        self.y_coord += y_inc\n",
    "\n",
    "    def distance(self, other_pt: \"Point5\") -> float:\n",
    "        \"\"\"Calculate the Eucludian distance (shortest distance) between 2 points.\n",
    "\n",
    "        Args:\n",
    "            - `other_pt` (`Point`): The other distant point.\n",
    "\n",
    "        Returns:\n",
    "            - `float`: The lenght of the distance between the points.\n",
    "        \"\"\"\n",
    "        x_diff: float = self.x_coord - other_pt.x_coord\n",
    "        y_diff: float = self.y_coord - other_pt.y_coord\n",
    "        return sqrt(x_diff**2 + y_diff**2)\n",
    "\n",
    "    def echo(self) -> str:\n",
    "        \"\"\"Return a string representation of the Point object\n",
    "\n",
    "        Returns:\n",
    "            - `str`: A string representation of the Point object\n",
    "        \"\"\"\n",
    "        return f\"A point object: ({self.x_coord}, {self.y_coord})\""
   ]
  },
  {
   "cell_type": "code",
   "execution_count": 10,
   "metadata": {},
   "outputs": [
    {
     "name": "stdout",
     "output_type": "stream",
     "text": [
      "Point(5, 7)\n"
     ]
    }
   ],
   "source": [
    "# Instantiating\n",
    "point_A5: Point5 = Point5(5, 7)\n",
    "point_B5: Point5 = Point5()\n",
    "\n",
    "print(point_A5.summary())\n"
   ]
  },
  {
   "cell_type": "code",
   "execution_count": 11,
   "metadata": {},
   "outputs": [
    {
     "name": "stdout",
     "output_type": "stream",
     "text": [
      "Point(9, 19)\n"
     ]
    }
   ],
   "source": [
    "# Modify the point\n",
    "point_A5.shift(4, 12)\n",
    "print(point_A5.summary())\n"
   ]
  },
  {
   "attachments": {},
   "cell_type": "markdown",
   "metadata": {},
   "source": [
    "![local-scopes](../files/appendix_d/local-scopes.png)\n"
   ]
  },
  {
   "cell_type": "code",
   "execution_count": 12,
   "metadata": {},
   "outputs": [
    {
     "data": {
      "text/plain": [
       "21.02379604162864"
      ]
     },
     "execution_count": 12,
     "metadata": {},
     "output_type": "execute_result"
    }
   ],
   "source": [
    "point_A5.distance(point_B5)\n"
   ]
  },
  {
   "attachments": {},
   "cell_type": "markdown",
   "metadata": {},
   "source": [
    "![point-distance](../files/appendix_d/point-distance.png)\n"
   ]
  },
  {
   "attachments": {},
   "cell_type": "markdown",
   "metadata": {},
   "source": [
    "### [&#8593;](#toc0_) <a id='toc1_4_'></a>Using Modules\n"
   ]
  },
  {
   "attachments": {},
   "cell_type": "markdown",
   "metadata": {},
   "source": [
    "-   A class definition is usually placed within its own module or combined with other classes in a single module\n",
    "-   A module is just a `.py` file\n",
    "-   A namespace is a folder that contains a file named `__init__.py` and multiple modules\n"
   ]
  },
  {
   "cell_type": "code",
   "execution_count": 13,
   "metadata": {},
   "outputs": [
    {
     "name": "stdout",
     "output_type": "stream",
     "text": [
      "1.4142135623730951\n"
     ]
    }
   ],
   "source": [
    "# Using the math module (math.py is a built-in module)\n",
    "from math import sqrt\n",
    "\n",
    "print(sqrt(2))\n"
   ]
  },
  {
   "cell_type": "code",
   "execution_count": 14,
   "metadata": {},
   "outputs": [
    {
     "name": "stdout",
     "output_type": "stream",
     "text": [
      "A point object: (0, 0)\n"
     ]
    }
   ],
   "source": [
    "# Assuming that we have exported the Point class into its own module (lib/point.py relative to this notebook)\n",
    "from lib.point import Point\n",
    "\n",
    "print(Point().echo())\n"
   ]
  },
  {
   "cell_type": "code",
   "execution_count": 15,
   "metadata": {},
   "outputs": [
    {
     "name": "stdout",
     "output_type": "stream",
     "text": [
      "Point(5, 7)\n",
      "Point(9, 19)\n",
      "Point(0, 0)\n",
      "Distance between Point(9, 19) and Point(0, 0): 21.02379604162864\n"
     ]
    }
   ],
   "source": [
    "# Create two point objects.\n",
    "pt_A: Point = Point(5, 7)\n",
    "pt_B: Point = Point(0, 0)\n",
    "\n",
    "# Get and print the coordinates of pointA.\n",
    "x: float = pt_A.get_x()\n",
    "y: float = pt_A.get_y()\n",
    "print(pt_A.summary())\n",
    "\n",
    "# Shift point_A and compute the distance between the two points.\n",
    "pt_A.shift(4, 12)\n",
    "print(pt_A.summary())\n",
    "print(pt_B.summary())\n",
    "\n",
    "d: float = pt_A.distance(pt_B)\n",
    "print(f\"Distance between {pt_A.summary()} and {pt_B.summary()}: {d}\")"
   ]
  },
  {
   "attachments": {},
   "cell_type": "markdown",
   "metadata": {},
   "source": [
    "### [&#8593;](#toc0_) <a id='toc1_5_'></a>Hiding Attributes\n"
   ]
  },
  {
   "attachments": {},
   "cell_type": "markdown",
   "metadata": {},
   "source": [
    "-   OO allows encapsulation of data and the operations that can be performed on that data\n",
    "-   Data attributes of an object and the methods that are defined for use with the object are combined in a single definition and implementation\n",
    "-   The class definition provides an interface to a user-defined type\n",
    "-   Data attributes are hidden while methods to manipulate the data are made public\n",
    "-   This prevents the accidental corruption of the data that can occur when directly accessed by code outside the class\n",
    "-   _Helper Methods_\n",
    "    -   Sometimes, we also want to protect these from outside access\n",
    "    -   Subdivision of a larger method into smaller parts or to reduce code repetition\n",
    "-   **Python does not provide a mechanism to hide or protect the data attributes from outside access**\n",
    "    -   Designers of classes is supposed to indicate what data attributes and methods are suppose to be protected\n",
    "    -   User is responsible not to violate this protection\n",
    "    -   Use identifier names that begin with underscore to flag those attributes and methods that should be protected\n"
   ]
  },
  {
   "attachments": {},
   "cell_type": "markdown",
   "metadata": {},
   "source": [
    "## [&#8593;](#toc0_) <a id='toc2_'></a>Overloading Operators and Methods\n"
   ]
  },
  {
   "attachments": {},
   "cell_type": "markdown",
   "metadata": {},
   "source": [
    "-   We can implement specific methods that are automatically called when operators are used\n",
    "\n",
    "|     Operator |                    Method |\n",
    "| -----------: | ------------------------: |\n",
    "|          `+` |        `__add__(self, x)` |\n",
    "|          `-` |        `__sub__(self, x)` |\n",
    "|          `*` |        `__mul__(self, x)` |\n",
    "|          `/` |    `__truediv__(self, x)` |\n",
    "|         `//` |   `__floordiv__(self, x)` |\n",
    "|          `%` |        `__mod__(self, x)` |\n",
    "|         `**` |        `__pow__(self, x)` |\n",
    "|         `+=` |         `__iadd(self, x)` |\n",
    "|         `-=` |         `__isub(self, x)` |\n",
    "|         `*=` |         `__imul(self, x)` |\n",
    "|         `/=` |     `__itruediv(self, x)` |\n",
    "|        `//=` |    `__ifloordiv(self, x)` |\n",
    "|         `%=` |         `__imod(self, x)` |\n",
    "|        `**=` |         `__ipow(self, x)` |\n",
    "|         `==` |         `__eq__(self, x)` |\n",
    "|         `!=` |         `__ne__(self, x)` |\n",
    "|          `<` |         `__lt__(self, x)` |\n",
    "|         `<=` |         `__le__(self, x)` |\n",
    "|          `>` |         `__gt__(self, x)` |\n",
    "|         `>=` |         `__ge__(self, x)` |\n",
    "|   `x in obj` |   `__contains__(self, x)` |\n",
    "|     `obj[i]` |    `__getitem__(self, i)` |\n",
    "| `obj[i] = v` | `__setitem__(self, i, v)` |\n",
    "\n",
    "-   Some functions and methods work in the same way\n",
    "\n",
    "| Operator |          Method |\n",
    "| -------: | --------------: |\n",
    "|  `str()` | `__str__(self)` |\n",
    "|  `len()` | `__len__(self)` |\n"
   ]
  },
  {
   "attachments": {},
   "cell_type": "markdown",
   "metadata": {},
   "source": [
    "## [&#8593;](#toc0_) <a id='toc3_'></a>Inheritance\n"
   ]
  },
  {
   "attachments": {},
   "cell_type": "markdown",
   "metadata": {},
   "source": [
    "-   Python supports class inheritance\n",
    "-   The new class automatically inherits all data attributes and methods of the existing class without having to explicitly redefine the code\n",
    "-   The newly _derived class_ becomes the _child_ of the original or _parent_ class\n"
   ]
  },
  {
   "attachments": {},
   "cell_type": "markdown",
   "metadata": {},
   "source": [
    "![hierarchical-class](../files/appendix_d/hierarchical-class.png)\n"
   ]
  },
  {
   "attachments": {},
   "cell_type": "markdown",
   "metadata": {},
   "source": [
    "-   The parent-child relationship produced from the derivation of a new class is known as an `is-a` relationship\n",
    "-   The derived class is a more specific version of the original\n",
    "    -   A `Book` `is a` more specific version of a `Publication`\n",
    "    -   A `Chapter` `is a` more specific version of a `Book`\n",
    "    -   A `Publication` `is a` more specific version of an `Object`\n",
    "-   **`object` is the root of all objects in Python**\n",
    "    -   All classes is derived from the `object` class\n",
    "-   Inheritance allows us to reuse existing code without having to duplicate similar code\n",
    "    -   We can add new functionality or modify the existing functionality of the parent class\n"
   ]
  },
  {
   "attachments": {},
   "cell_type": "markdown",
   "metadata": {},
   "source": [
    "### [&#8593;](#toc0_) <a id='toc3_1_'></a>Deriving Child Classes\n"
   ]
  },
  {
   "cell_type": "code",
   "execution_count": 16,
   "metadata": {},
   "outputs": [],
   "source": [
    "class Publication:\n",
    "    \"\"\"Define the features of a Publication.\"\"\"\n",
    "\n",
    "    # Publication(object) : Inherits from root object\n",
    "\n",
    "    def __init__(self, code: str, title: str, author: str) -> None:\n",
    "        \"\"\"The instance constructor of a Publication.\n",
    "\n",
    "        Args:\n",
    "            - `code` (`str`): The unique identification code of the publication.\n",
    "            - `title` (`str`): The title of the publication.\n",
    "            - `author` (`str`): The author of the publication.\n",
    "        \"\"\"\n",
    "        self._code: str = code\n",
    "        self._title: str = title\n",
    "        self._author: str = author\n",
    "\n",
    "    def get_code(self) -> str:\n",
    "        \"\"\"Gets the unique identification code for the publication.\n",
    "\n",
    "        Returns:\n",
    "            - `str`: The unique identification code of the publication.\n",
    "        \"\"\"\n",
    "        return self._code\n",
    "\n",
    "    def get_bib_entry(self) -> str:\n",
    "        \"\"\"Returns a string containing a formatted bibliography entry.\n",
    "\n",
    "        Returns:\n",
    "            - `str`: String containing a formatted bibliography entry.\n",
    "        \"\"\"\n",
    "        return f'[{self.get_code()}] \"{self._title}\" by {self._author}'"
   ]
  },
  {
   "cell_type": "code",
   "execution_count": 17,
   "metadata": {},
   "outputs": [],
   "source": [
    "class Book(Publication):\n",
    "    \"\"\"Define the features of a Book.\"\"\"\n",
    "\n",
    "    # Book(Publication) : Inherits from Publication\n",
    "\n",
    "    def __init__(\n",
    "        self, code: str, title: str, author: str, publisher: str, year: int\n",
    "    ) -> None:\n",
    "        \"\"\"The instance constructor of a Book.\n",
    "\n",
    "        Args:\n",
    "            - `code` (`str`): The unique identification code of the book.\n",
    "            - `title` (`str`): The title of the book.\n",
    "            - `author` (`str`): The author of the book.\n",
    "            - `publisher` (`str`): The publisher of the book.\n",
    "            - `year` (`int`): The publishing year of the book.\n",
    "        \"\"\"\n",
    "        # Calling Publication constructor\n",
    "        super().__init__(code, title, author)\n",
    "        # Additional properties\n",
    "        self._publisher: str = publisher\n",
    "        self._year: int = year\n",
    "\n",
    "    # Overriding the parent's method\n",
    "    def get_bib_entry(self) -> str:\n",
    "        \"\"\"Returns a string containing a formatted bibliography entry.\n",
    "\n",
    "        Returns:\n",
    "            - `str`: String containing a formatted bibliography entry.\n",
    "        \"\"\"\n",
    "        return f\"{super().get_bib_entry()}, {self._publisher}, {self._year}\""
   ]
  },
  {
   "attachments": {},
   "cell_type": "markdown",
   "metadata": {},
   "source": [
    "### [&#8593;](#toc0_) <a id='toc3_2_'></a>Creating Class Instance\n"
   ]
  },
  {
   "cell_type": "code",
   "execution_count": 18,
   "metadata": {},
   "outputs": [],
   "source": [
    "pub: Publication = Publication(\"Test80\", \"Just a test\", \"Rob Green\")\n",
    "book: Book = Book(\n",
    "    \"Smith90\", \"The Year that Was\", \"John Smith\", \"Bookends Publishing\", 1990\n",
    ")"
   ]
  },
  {
   "attachments": {},
   "cell_type": "markdown",
   "metadata": {},
   "source": [
    "![data-attributes](../files/appendix_d/data-attributes.png)\n"
   ]
  },
  {
   "attachments": {},
   "cell_type": "markdown",
   "metadata": {},
   "source": [
    "### [&#8593;](#toc0_) <a id='toc3_3_'></a>Invoking Methods\n"
   ]
  },
  {
   "attachments": {},
   "cell_type": "markdown",
   "metadata": {},
   "source": [
    "![available-methods](../files/appendix_d/available-methods.png)\n"
   ]
  },
  {
   "cell_type": "code",
   "execution_count": 19,
   "metadata": {},
   "outputs": [
    {
     "name": "stdout",
     "output_type": "stream",
     "text": [
      "[Smith90] \"The Year that Was\" by John Smith, Bookends Publishing, 1990\n"
     ]
    }
   ],
   "source": [
    "print(book.get_bib_entry())\n"
   ]
  },
  {
   "attachments": {},
   "cell_type": "markdown",
   "metadata": {},
   "source": [
    "-   **The methods of a child class can access the data attributes of the parent class**\n",
    "-   **It's up to the designer of the class to ensure they do not modify the attributes incorrectly**\n"
   ]
  },
  {
   "cell_type": "code",
   "execution_count": 20,
   "metadata": {},
   "outputs": [],
   "source": [
    "class Chapter(Book):\n",
    "    \"\"\"Define the features of a Book.\"\"\"\n",
    "\n",
    "    # Chapter(Book) : Inherits from Book\n",
    "\n",
    "    def __init__(\n",
    "        self,\n",
    "        code: str,\n",
    "        title: str,\n",
    "        author: str,\n",
    "        publisher: str,\n",
    "        year: int,\n",
    "        chapter: int,\n",
    "        pages: int,\n",
    "    ) -> None:\n",
    "        \"\"\"The instance constructor of a Chapter.\n",
    "\n",
    "        Args:\n",
    "            - `code` (`str`): The unique identification code of the book.\n",
    "            - `title` (`str`): The title of the book.\n",
    "            - `author` (`str`): The author of the book.\n",
    "            - `publisher` (`str`): The publisher of the book.\n",
    "            - `year` (`int`): The publishing year of the book.\n",
    "            - `chapter` (`int`): The chapter number.\n",
    "            - `pages` (`int`): The number of pages in the chapter.\n",
    "        \"\"\"\n",
    "        # Calling Book constructor\n",
    "        super().__init__(code, title, author, publisher, year)\n",
    "        # Additional properties\n",
    "        self._chapter: int = chapter\n",
    "        self._pages: int = pages\n",
    "\n",
    "    def get_bib_entry(self) -> str:\n",
    "        \"\"\"Returns a string containing a formatted bibliography entry.\n",
    "\n",
    "        Returns:\n",
    "            - `str`: String containing a formatted bibliography entry.\n",
    "        \"\"\"\n",
    "        return f\"{super().get_bib_entry()}, Chapter {self._chapter} pp. {self._pages}. {self._publisher}, {self._year}\""
   ]
  },
  {
   "attachments": {},
   "cell_type": "markdown",
   "metadata": {},
   "source": [
    "## [&#8593;](#toc0_) <a id='toc4_'></a>Polymorphism\n"
   ]
  },
  {
   "attachments": {},
   "cell_type": "markdown",
   "metadata": {},
   "source": [
    "-   The decision as to the specific method to be called is made at run time\n"
   ]
  },
  {
   "cell_type": "code",
   "execution_count": 21,
   "metadata": {},
   "outputs": [],
   "source": [
    "# New version with a __str__ method added\n",
    "class Publication2:\n",
    "    \"\"\"Define the features of a Publication.\"\"\"\n",
    "\n",
    "    def __init__(self, code: str, title: str, author: str) -> None:\n",
    "        \"\"\"The instance constructor of a Publication.\n",
    "\n",
    "        Args:\n",
    "            - `code` (`str`): The unique identification code of the publication.\n",
    "            - `title` (`str`): The title of the publication.\n",
    "            - `author` (`str`): The author of the publication.\n",
    "        \"\"\"\n",
    "        self._code: str = code\n",
    "        self._title: str = title\n",
    "        self._author: str = author\n",
    "\n",
    "    def get_code(self) -> str:\n",
    "        \"\"\"Gets the unique identification code for the publication.\n",
    "\n",
    "        Returns:\n",
    "            - `str`: The unique identification code of the publication.\n",
    "        \"\"\"\n",
    "        return self._code\n",
    "\n",
    "    def get_bib_entry(self) -> str:\n",
    "        \"\"\"Returns a string containing a formatted bibliography entry.\n",
    "\n",
    "        Returns:\n",
    "            - `str`: String containing a formatted bibliography entry.\n",
    "        \"\"\"\n",
    "        return f'[{self.get_code()}] \"{self._title}\" by {self._author}'\n",
    "\n",
    "    def __str__(self) -> str:\n",
    "        \"\"\"Return a string representation of a Publication.\n",
    "\n",
    "        Returns:\n",
    "            - `str`: String representation of a Publication.\n",
    "        \"\"\"\n",
    "        return self.get_bib_entry()"
   ]
  },
  {
   "cell_type": "code",
   "execution_count": 22,
   "metadata": {},
   "outputs": [],
   "source": [
    "class Book2(Publication2):\n",
    "    \"\"\"Define the features of a Book.\"\"\"\n",
    "\n",
    "    # Inherits from Publication\n",
    "\n",
    "    def __init__(\n",
    "        self, code: str, title: str, author: str, publisher: str, year: int\n",
    "    ) -> None:\n",
    "        \"\"\"The instance constructor of a Book.\n",
    "\n",
    "        Args:\n",
    "            - `code` (`str`): The unique identification code of the book.\n",
    "            - `title` (`str`): The title of the book.\n",
    "            - `author` (`str`): The author of the book.\n",
    "            - `publisher` (`str`): The publisher of the book.\n",
    "            - `year` (`int`): The publishing year of the book.\n",
    "        \"\"\"\n",
    "        # Calling Publication constructor\n",
    "        super().__init__(code, title, author)\n",
    "        # Additional properties\n",
    "        self._publisher: str = publisher\n",
    "        self._year: int = year\n",
    "\n",
    "    # Overriding the parent's method\n",
    "    def get_bib_entry(self) -> str:\n",
    "        \"\"\"Returns a string containing a formatted bibliography entry.\n",
    "\n",
    "        Returns:\n",
    "            - `str`: String containing a formatted bibliography entry.\n",
    "        \"\"\"\n",
    "        return f\"{super().get_bib_entry()}, {self._publisher}, {self._year}\""
   ]
  },
  {
   "cell_type": "code",
   "execution_count": 23,
   "metadata": {},
   "outputs": [],
   "source": [
    "pub2: Publication2 = Publication2(\"Test80\", \"Just a test\", \"Rob Green\")\n",
    "book2: Book2 = Book2(\n",
    "    \"Smith90\", \"The Year that Was\", \"John Smith\", \"Bookends Publishing\", 1990\n",
    ")"
   ]
  },
  {
   "cell_type": "code",
   "execution_count": 24,
   "metadata": {},
   "outputs": [
    {
     "name": "stdout",
     "output_type": "stream",
     "text": [
      "[Test80] \"Just a test\" by Rob Green\n",
      "[Smith90] \"The Year that Was\" by John Smith, Bookends Publishing, 1990\n"
     ]
    }
   ],
   "source": [
    "print(pub2)\n",
    "print(book2)\n"
   ]
  },
  {
   "attachments": {},
   "cell_type": "markdown",
   "metadata": {},
   "source": [
    "-   Since the `__str__` method is defined by the parent class, it will be inherited by the child class\n",
    "-   When the `__str__` method is executed via the `print()` function:\n",
    "    -   Python looks at the list of methods available to instances of the Book class\n",
    "    -   Finds the `get_bib_entry()` method defined for that class and executes it\n",
    "    -   `__str__` method correctly calls the `get_bib_entry()` method of the child class\n"
   ]
  }
 ],
 "metadata": {
  "hide_input": false,
  "kernelspec": {
   "display_name": "Python 3 (ipykernel)",
   "language": "python",
   "name": "python3"
  },
  "language_info": {
   "codemirror_mode": {
    "name": "ipython",
    "version": 3
   },
   "file_extension": ".py",
   "mimetype": "text/x-python",
   "name": "python",
   "nbconvert_exporter": "python",
   "pygments_lexer": "ipython3",
   "version": "3.11.3"
  },
  "toc": {
   "base_numbering": 1,
   "nav_menu": {},
   "number_sections": true,
   "sideBar": true,
   "skip_h1_title": true,
   "title_cell": "Table of Contents",
   "title_sidebar": "Contents",
   "toc_cell": true,
   "toc_position": {
    "height": "calc(100% - 180px)",
    "left": "10px",
    "top": "150px",
    "width": "309.2px"
   },
   "toc_section_display": true,
   "toc_window_display": true
  },
  "varInspector": {
   "cols": {
    "lenName": 16,
    "lenType": 16,
    "lenVar": 40
   },
   "kernels_config": {
    "python": {
     "delete_cmd_postfix": "",
     "delete_cmd_prefix": "del ",
     "library": "var_list.py",
     "varRefreshCmd": "print(var_dic_list())"
    },
    "r": {
     "delete_cmd_postfix": ") ",
     "delete_cmd_prefix": "rm(",
     "library": "var_list.r",
     "varRefreshCmd": "cat(var_dic_list()) "
    }
   },
   "types_to_exclude": [
    "module",
    "function",
    "builtin_function_or_method",
    "instance",
    "_Feature"
   ],
   "window_display": false
  }
 },
 "nbformat": 4,
 "nbformat_minor": 4
}
