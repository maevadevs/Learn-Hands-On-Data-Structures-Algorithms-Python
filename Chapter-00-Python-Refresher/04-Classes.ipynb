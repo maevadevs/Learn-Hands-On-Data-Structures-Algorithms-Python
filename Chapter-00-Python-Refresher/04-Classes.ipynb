{
 "cells": [
  {
   "cell_type": "markdown",
   "metadata": {},
   "source": [
    "# Classes"
   ]
  },
  {
   "cell_type": "markdown",
   "metadata": {
    "toc": true
   },
   "source": [
    "<h1>Table of Contents<span class=\"tocSkip\"></span></h1>\n",
    "<div class=\"toc\"><ul class=\"toc-item\"><li><span><a href=\"#Class-Definition\" data-toc-modified-id=\"Class-Definition-1\"><span class=\"toc-item-num\">1&nbsp;&nbsp;</span>Class Definition</a></span><ul class=\"toc-item\"><li><span><a href=\"#Method\" data-toc-modified-id=\"Method-1.1\"><span class=\"toc-item-num\">1.1&nbsp;&nbsp;</span>Method</a></span></li><li><span><a href=\"#Constructor-__init__\" data-toc-modified-id=\"Constructor-__init__-1.2\"><span class=\"toc-item-num\">1.2&nbsp;&nbsp;</span>Constructor <code>__init__</code></a></span><ul class=\"toc-item\"><li><span><a href=\"#Data-Attributes\" data-toc-modified-id=\"Data-Attributes-1.2.1\"><span class=\"toc-item-num\">1.2.1&nbsp;&nbsp;</span>Data Attributes</a></span></li><li><span><a href=\"#Object-Instantiation\" data-toc-modified-id=\"Object-Instantiation-1.2.2\"><span class=\"toc-item-num\">1.2.2&nbsp;&nbsp;</span>Object Instantiation</a></span></li><li><span><a href=\"#self-Reference\" data-toc-modified-id=\"self-Reference-1.2.3\"><span class=\"toc-item-num\">1.2.3&nbsp;&nbsp;</span><code>self</code> Reference</a></span></li></ul></li><li><span><a href=\"#Operations\" data-toc-modified-id=\"Operations-1.3\"><span class=\"toc-item-num\">1.3&nbsp;&nbsp;</span>Operations</a></span></li><li><span><a href=\"#Using-Modules\" data-toc-modified-id=\"Using-Modules-1.4\"><span class=\"toc-item-num\">1.4&nbsp;&nbsp;</span>Using Modules</a></span></li><li><span><a href=\"#Hiding-Attributes\" data-toc-modified-id=\"Hiding-Attributes-1.5\"><span class=\"toc-item-num\">1.5&nbsp;&nbsp;</span>Hiding Attributes</a></span></li></ul></li><li><span><a href=\"#Overloading-Operators-and-Methods\" data-toc-modified-id=\"Overloading-Operators-and-Methods-2\"><span class=\"toc-item-num\">2&nbsp;&nbsp;</span>Overloading Operators and Methods</a></span></li><li><span><a href=\"#Inheritance\" data-toc-modified-id=\"Inheritance-3\"><span class=\"toc-item-num\">3&nbsp;&nbsp;</span>Inheritance</a></span><ul class=\"toc-item\"><li><span><a href=\"#Deriving-Child-Classes\" data-toc-modified-id=\"Deriving-Child-Classes-3.1\"><span class=\"toc-item-num\">3.1&nbsp;&nbsp;</span>Deriving Child Classes</a></span></li><li><span><a href=\"#Creating-Class-Instance\" data-toc-modified-id=\"Creating-Class-Instance-3.2\"><span class=\"toc-item-num\">3.2&nbsp;&nbsp;</span>Creating Class Instance</a></span></li><li><span><a href=\"#Invoking-Methods\" data-toc-modified-id=\"Invoking-Methods-3.3\"><span class=\"toc-item-num\">3.3&nbsp;&nbsp;</span>Invoking Methods</a></span></li></ul></li><li><span><a href=\"#Polymorphism\" data-toc-modified-id=\"Polymorphism-4\"><span class=\"toc-item-num\">4&nbsp;&nbsp;</span>Polymorphism</a></span></li></ul></div>"
   ]
  },
  {
   "cell_type": "markdown",
   "metadata": {},
   "source": [
    "- **Object**: a software entity that stores data and methods to work on those data\n",
    "- **Class**: blueprint that describes the data stored in an object and defines the operations that can be performed on the object\n",
    "- Objects are created or instantiated from classes\n",
    "- Each object is known as an instance of the class from which it was created"
   ]
  },
  {
   "cell_type": "markdown",
   "metadata": {},
   "source": [
    "## Class Definition"
   ]
  },
  {
   "cell_type": "markdown",
   "metadata": {},
   "source": [
    "- Class name should start with Uppercase and in CamelCase style\n",
    "- Variable names should start with lowercase and in underscore_format"
   ]
  },
  {
   "cell_type": "code",
   "execution_count": 1,
   "metadata": {},
   "outputs": [],
   "source": [
    "class Point(object):\n",
    "    # The methods are defined here in the body one after the other\n",
    "    pass"
   ]
  },
  {
   "cell_type": "markdown",
   "metadata": {},
   "source": [
    "### Method"
   ]
  },
  {
   "cell_type": "markdown",
   "metadata": {},
   "source": [
    "- Method is a service or operation that can be performed on an object created from the given class\n",
    "- Very similar to functions, but:\n",
    "  - A method is defined as part of a class definition\n",
    "  - Can only be used with an instance of the class in which it is defined\n",
    "  - Each method header must include a parameter named `self`, which must be listed first\n",
    "- All classes are automatically derived from the `object` base class even if it’s not explicitly stated in the header definition"
   ]
  },
  {
   "cell_type": "code",
   "execution_count": 2,
   "metadata": {},
   "outputs": [],
   "source": [
    "class Point:\n",
    "    # The methods are defined here in the body one after the other\n",
    "    \n",
    "    def summary(self):\n",
    "        \"\"\"A method that prints a summary about the point instance.\"\"\"\n",
    "        return \"A simple point\""
   ]
  },
  {
   "cell_type": "code",
   "execution_count": 3,
   "metadata": {},
   "outputs": [
    {
     "name": "stdout",
     "output_type": "stream",
     "text": [
      "A simple point\n"
     ]
    }
   ],
   "source": [
    "# An instance of the Point class\n",
    "pt = Point()\n",
    "# Calling a method of the pt object\n",
    "print(pt.summary())"
   ]
  },
  {
   "cell_type": "markdown",
   "metadata": {},
   "source": [
    "### Constructor `__init__`"
   ]
  },
  {
   "cell_type": "markdown",
   "metadata": {},
   "source": [
    "- A special method that defines how the instances of the class are created/initialized\n",
    "- Defines and initializes the data to be contained in the object\n",
    "- Automatically called when an instance of the class is created\n",
    "- The constructor method is named `__init__` and is usually listed first in the class definition\n",
    "- Default properties for the instances of the class are assigned here"
   ]
  },
  {
   "cell_type": "code",
   "execution_count": 4,
   "metadata": {},
   "outputs": [],
   "source": [
    "class Point:\n",
    "    # The methods are defined here in the body one after the other\n",
    "    \n",
    "    def __init__(self, x = 0, y = 0):\n",
    "        \"\"\"The constructor of instances for the Point class.\"\"\"\n",
    "        self.x_coord = x\n",
    "        self.y_coord = y\n",
    "    \n",
    "    \n",
    "    def summary(self):\n",
    "        \"\"\"A method that prints a summary about the point instance.\"\"\"\n",
    "        return \"Point({x}, {y})\".format(x = self.x_coord, y = self.y_coord)"
   ]
  },
  {
   "cell_type": "code",
   "execution_count": 5,
   "metadata": {},
   "outputs": [
    {
     "name": "stdout",
     "output_type": "stream",
     "text": [
      "Point(3, -1)\n",
      "Point(0, 0)\n"
     ]
    }
   ],
   "source": [
    "# An instance of the Point class\n",
    "pt = Point(3, -1)\n",
    "# Calling a method of the pt object\n",
    "print(pt.summary())\n",
    "# Defaults can also be set on the constructor, like all other functions\n",
    "pt0 = Point()\n",
    "# Calling a method of the pt object\n",
    "print(pt0.summary()) "
   ]
  },
  {
   "cell_type": "markdown",
   "metadata": {},
   "source": [
    "#### Data Attributes"
   ]
  },
  {
   "cell_type": "markdown",
   "metadata": {},
   "source": [
    "- Data fields contained in an object\n",
    "- Just variables like any other Python variables, but tightly attached to the object instance\n",
    "- Accessed using the dot-notation or the key-notation\n",
    "- **Within method definitions, any variables not prepended by the `self` reference are local to the method in which they are defined**\n",
    "- Variables in Python are created when they are first assigned a value\n",
    "  - The constructor is responsible for creating and initializing the data attributes"
   ]
  },
  {
   "cell_type": "markdown",
   "metadata": {},
   "source": [
    "#### Object Instantiation"
   ]
  },
  {
   "cell_type": "markdown",
   "metadata": {},
   "source": [
    "- Object instantiation is done by calling the class constructor\n",
    "- We never call the `__init__` constructor directly\n",
    "  - The Constructor automatically calls `__init__` when the constructor is used\n",
    "  - The Constructor is just the name of the class"
   ]
  },
  {
   "cell_type": "code",
   "execution_count": 6,
   "metadata": {},
   "outputs": [],
   "source": [
    "# Instantiating 2 points\n",
    "point_A = Point(5, 7)\n",
    "point_B = Point(0, 0)"
   ]
  },
  {
   "cell_type": "markdown",
   "metadata": {},
   "source": [
    "![point-object-instances](../files/appendix_d/point-object-instances.png)"
   ]
  },
  {
   "cell_type": "markdown",
   "metadata": {},
   "source": [
    "#### `self` Reference"
   ]
  },
  {
   "cell_type": "markdown",
   "metadata": {},
   "source": [
    "- `self` is always the first parameter to any constructor and methods\n",
    "- `self` is a special parameter that must be included in each method definition and it must be listed first\n",
    "- When a method is called, this parameter is automatically filled with a reference to the object instance on which the method was invoked"
   ]
  },
  {
   "cell_type": "markdown",
   "metadata": {},
   "source": [
    "### Operations"
   ]
  },
  {
   "cell_type": "markdown",
   "metadata": {},
   "source": [
    "- Most operations on classes are done through their methods"
   ]
  },
  {
   "cell_type": "code",
   "execution_count": 7,
   "metadata": {},
   "outputs": [],
   "source": [
    "class Point:\n",
    "    # The methods are defined here in the body one after the other\n",
    "    \n",
    "    def __init__(self, x = 0, y = 0):\n",
    "        \"\"\"The constructor of instances for the Point class.\"\"\"\n",
    "        self.x_coord = x\n",
    "        self.y_coord = y\n",
    "    \n",
    "    \n",
    "    def summary(self):\n",
    "        \"\"\"A method that prints a summary about the point instance.\"\"\"\n",
    "        return \"Point({x}, {y})\".format(x = self.x_coord, y = self.y_coord)\n",
    "    \n",
    "    \n",
    "    def get_x(self):\n",
    "        \"\"\"Return the value on the X-axis.\"\"\"\n",
    "        return self.x_coord\n",
    "    \n",
    "    \n",
    "    def get_y(self):\n",
    "        \"\"\"Return the value on the Y-axis.\"\"\"\n",
    "        return self.y_coord"
   ]
  },
  {
   "cell_type": "code",
   "execution_count": 8,
   "metadata": {},
   "outputs": [
    {
     "name": "stdout",
     "output_type": "stream",
     "text": [
      "Point A is at (5, 7)\n"
     ]
    }
   ],
   "source": [
    "# Instantiating\n",
    "point_A = Point(5, 7)\n",
    "\n",
    "# Get the X and Y of A\n",
    "x = point_A.get_x()\n",
    "y = point_A.get_y()\n",
    "\n",
    "print(\"Point A is at ({0}, {1})\".format(x, y))"
   ]
  },
  {
   "cell_type": "markdown",
   "metadata": {},
   "source": [
    "![self-reference](../files/appendix_d/self-reference.png)"
   ]
  },
  {
   "cell_type": "markdown",
   "metadata": {},
   "source": [
    "- Any object that stores data is said to have a state\n",
    "  - State is the current set of values that the object contains\n",
    "- **Immutable Object** -- State cannot be changed once it has been created (e.g. Strings)\n",
    "- **Mutable Objects** -- The data fields of the object can be changed after the object has been created (e.g. Lists)\n",
    "- To make an object immutable, do not provide methods that allows to change its properties\n",
    "  - Currently, the Point object is immutable"
   ]
  },
  {
   "cell_type": "code",
   "execution_count": 9,
   "metadata": {},
   "outputs": [],
   "source": [
    "from math import sqrt\n",
    "\n",
    "class Point:\n",
    "    # The methods are defined here in the body one after the other\n",
    "    \n",
    "    def __init__(self, x = 0, y = 0):\n",
    "        \"\"\"The constructor of instances for the Point class.\"\"\"\n",
    "        self.x_coord = x\n",
    "        self.y_coord = y\n",
    "    \n",
    "    \n",
    "    def summary(self):\n",
    "        \"\"\"Prints a summary about the point instance.\"\"\"\n",
    "        return \"Point({x}, {y})\".format(x = self.x_coord, y = self.y_coord)\n",
    "    \n",
    "    \n",
    "    def get_x(self):\n",
    "        \"\"\"Return the value on the X-axis.\"\"\"\n",
    "        return self.x_coord\n",
    "\n",
    "    \n",
    "    def get_y(self):\n",
    "        \"\"\"Return the value on the Y-axis.\"\"\"\n",
    "        return self.y_coord\n",
    "    \n",
    "    \n",
    "    def shift(self, x_inc = 0, y_inc = 0):\n",
    "        \"\"\"Adjust or shift the value on the X-Coordinate or the Y-coordinate.\"\"\"\n",
    "        self.x_coord += x_inc\n",
    "        self.y_coord += y_inc\n",
    "\n",
    "        \n",
    "    def distance(self, other_pt):\n",
    "        \"\"\"Calculate the Eucludian distance (shortest distance) between 2 points.\"\"\"\n",
    "        x_diff = self.x_coord - other_pt.x_coord\n",
    "        y_diff = self.y_coord - other_pt.y_coord\n",
    "        return sqrt(x_diff ** 2 + y_diff ** 2)"
   ]
  },
  {
   "cell_type": "code",
   "execution_count": 10,
   "metadata": {},
   "outputs": [
    {
     "name": "stdout",
     "output_type": "stream",
     "text": [
      "Point(5, 7)\n"
     ]
    }
   ],
   "source": [
    "# Instantiating\n",
    "point_A = Point(5, 7)\n",
    "point_B = Point()\n",
    "\n",
    "print(point_A.summary())"
   ]
  },
  {
   "cell_type": "code",
   "execution_count": 11,
   "metadata": {},
   "outputs": [
    {
     "name": "stdout",
     "output_type": "stream",
     "text": [
      "Point(9, 19)\n"
     ]
    }
   ],
   "source": [
    "# Modify the point\n",
    "point_A.shift(4, 12)\n",
    "print(point_A.summary())"
   ]
  },
  {
   "cell_type": "markdown",
   "metadata": {},
   "source": [
    "![local-scopes](../files/appendix_d/local-scopes.png)"
   ]
  },
  {
   "cell_type": "code",
   "execution_count": 12,
   "metadata": {},
   "outputs": [
    {
     "data": {
      "text/plain": [
       "21.02379604162864"
      ]
     },
     "execution_count": 12,
     "metadata": {},
     "output_type": "execute_result"
    }
   ],
   "source": [
    "point_A.distance(point_B)"
   ]
  },
  {
   "cell_type": "markdown",
   "metadata": {},
   "source": [
    "![point-distance](../files/appendix_d/point-distance.png)"
   ]
  },
  {
   "cell_type": "markdown",
   "metadata": {},
   "source": [
    "### Using Modules"
   ]
  },
  {
   "cell_type": "markdown",
   "metadata": {},
   "source": [
    "- A class definition is usually placed within its own module or combined with other classes in a single module\n",
    "- A module is just a `.py` file\n",
    "- A namespace is a folder that contains a file named `__init__.py` and multiple modules"
   ]
  },
  {
   "cell_type": "code",
   "execution_count": 13,
   "metadata": {},
   "outputs": [
    {
     "name": "stdout",
     "output_type": "stream",
     "text": [
      "1.4142135623730951\n"
     ]
    }
   ],
   "source": [
    "# Using the math module (math.py is a built-in module)\n",
    "from math import sqrt\n",
    "\n",
    "print(sqrt(2))"
   ]
  },
  {
   "cell_type": "code",
   "execution_count": 14,
   "metadata": {},
   "outputs": [
    {
     "name": "stdout",
     "output_type": "stream",
     "text": [
      "A point object: (0, 0)\n"
     ]
    }
   ],
   "source": [
    "# Assuming that we have exported the Point class into its own module (lib/point.py relative to this notebook)\n",
    "from lib.point import Point\n",
    "\n",
    "print(Point().echo())"
   ]
  },
  {
   "cell_type": "code",
   "execution_count": 15,
   "metadata": {},
   "outputs": [
    {
     "name": "stdout",
     "output_type": "stream",
     "text": [
      "Point(5, 7)\n",
      "Point(9, 19)\n",
      "Point(0, 0)\n",
      "Distance between Point(9, 19) and Point(0, 0): 21.02379604162864\n"
     ]
    }
   ],
   "source": [
    "# Create two point objects.\n",
    "point_A = Point(5,7)\n",
    "point_B = Point(0,0)\n",
    "\n",
    "# Get and print the coordinates of pointA.\n",
    "x = point_A.get_x()\n",
    "y = point_A.get_y()\n",
    "print(point_A.summary())\n",
    "\n",
    "# Shift point_A and compute the distance between the two points.\n",
    "point_A.shift(4, 12)\n",
    "print(point_A.summary())\n",
    "print(point_B.summary())\n",
    "d = point_A.distance(point_B)\n",
    "print(\"Distance between {0} and {1}: {2}\".format(point_A.summary(), point_B.summary(), d))"
   ]
  },
  {
   "cell_type": "markdown",
   "metadata": {},
   "source": [
    "### Hiding Attributes"
   ]
  },
  {
   "cell_type": "markdown",
   "metadata": {},
   "source": [
    "- OO allows encapsulation of data and the operations that can be performed on that data\n",
    "- Data attributes of an object and the methods that are defined for use with the object are combined in a single definition and implementation\n",
    "- The class definition provides an interface to a user-defined type\n",
    "- Data attributes are hidden while methods to manipulate the data are made public\n",
    "- This prevents the accidental corruption of the data that can occur when directly accessed by code outside the class\n",
    "- *Helper Methods* \n",
    "  - Sometimes, we also want to protect these from outside access\n",
    "  - Subdivision of a larger method into smaller parts or to reduce code repetition\n",
    "- Python does not provide a mechanism to hide or protect the data attributes from outside access\n",
    "  - Designers of classes is supposed to indicate what data attributes and methods are suppose to be protected\n",
    "  - User is responsible not to violate this protection\n",
    "  - Use identifier names that begin with underscore to flag those attributes and methods that should be protected"
   ]
  },
  {
   "cell_type": "markdown",
   "metadata": {},
   "source": [
    "## Overloading Operators and Methods"
   ]
  },
  {
   "cell_type": "markdown",
   "metadata": {},
   "source": [
    "- We can implement specific methods that are automatically called when operators are used\n",
    "\n",
    "Operator|Method\n",
    "-:-|-:-\n",
    "`+`|`__add__(self, x)`\n",
    "`-`|`__sub__(self, x)`\n",
    "`*`|`__mul__(self, x)`\n",
    "`/`|`__truediv__(self, x)`\n",
    "`//`|`__floordiv__(self, x)`\n",
    "`%`|`__mod__(self, x)`\n",
    "`**`|`__pow__(self, x)`\n",
    "`+=`|`__iadd(self, x)`\n",
    "`-=`|`__isub(self, x)`\n",
    "`*=`|`__imul(self, x)`\n",
    "`/=`|`__itruediv(self, x)`\n",
    "`//=`|`__ifloordiv(self, x)`\n",
    "`%=`|`__imod(self, x)`\n",
    "`**=`|`__ipow(self, x)`\n",
    "`==`|`__eq__(self, x)`\n",
    "`!=`|`__ne__(self, x)`\n",
    "`<`|`__lt__(self, x)`\n",
    "`<=`|`__le__(self, x)`\n",
    "`>`|`__gt__(self, x)`\n",
    "`>=`|`__ge__(self, x)`\n",
    "`x in obj`|`__contains__(self, x)`\n",
    "`obj[i]`|`__getitem__(self, i)`\n",
    "`obj[i] = v`|`__setitem__(self, i, v)`\n",
    "\n",
    "- Some functions and methods work in the same way\n",
    "\n",
    "Operator|Method\n",
    "-:-|-:-\n",
    "`str()`|`__str__(self)`\n",
    "`len()`|`__len__(self)`"
   ]
  },
  {
   "cell_type": "markdown",
   "metadata": {},
   "source": [
    "## Inheritance"
   ]
  },
  {
   "cell_type": "markdown",
   "metadata": {},
   "source": [
    "- Python supports class inheritance\n",
    "- The new class automatically inherits all data attributes and methods of the existing class without having to explicitly redefine the code\n",
    "- The newly *derived class* becomes the *child* of the original or *parent* class"
   ]
  },
  {
   "cell_type": "markdown",
   "metadata": {},
   "source": [
    "![hierarchical-class](../files/appendix_d/hierarchical-class.png)"
   ]
  },
  {
   "cell_type": "markdown",
   "metadata": {},
   "source": [
    "- The parent-child relationship produced from the derivation of a new class is known as an `is-a` relationship\n",
    "- The derived class is a more specific version of the original\n",
    "  - A `Book` `is a` more specific version of a `Publication`\n",
    "  - A `Chapter` `is a` more specific version of a `Book`\n",
    "  - A `Publication` `is a` more specific version of an `Object`\n",
    "- **`object` is the root of all objects in Python**\n",
    "  - All classes is derived from the `object` class\n",
    "- Inheritance allows us to reuse existing code without having to duplicate similar code\n",
    "  - We can add new functionality or modify the existing functionality of the parent class"
   ]
  },
  {
   "cell_type": "markdown",
   "metadata": {},
   "source": [
    "### Deriving Child Classes"
   ]
  },
  {
   "cell_type": "code",
   "execution_count": 16,
   "metadata": {},
   "outputs": [],
   "source": [
    "class Publication: \n",
    "    # Publication(object) : Inherits from root object\n",
    "        \n",
    "    def __init__(self, code, title, author):\n",
    "        # Constructor\n",
    "        self._code = code\n",
    "        self._title = title\n",
    "        self._author = author\n",
    "    \n",
    "    \n",
    "    def get_code(self):\n",
    "        \"\"\"Gets the unique identification code for this entry.\"\"\"\n",
    "        return self._code\n",
    "    \n",
    "    \n",
    "    def get_bib_entry(self):\n",
    "        \"\"\"Returns a string containing a formatted bibliography entry.\"\"\"\n",
    "        return \"[{0}] \\\"{1}\\\" by {2}\".format(self.get_code(), self._title, self._author)"
   ]
  },
  {
   "cell_type": "code",
   "execution_count": 17,
   "metadata": {},
   "outputs": [],
   "source": [
    "class Book(Publication): \n",
    "    # Book(Publication) : Inherits from Publication\n",
    "    \n",
    "    def __init__(self, code, title, author, publisher, year):\n",
    "        # Calling Publication constructor\n",
    "        super().__init__(code, title, author)\n",
    "        # Additional properties\n",
    "        self._publisher = publisher\n",
    "        self._year = year\n",
    "    \n",
    "    \n",
    "    # Overriding the paent's method\n",
    "    def get_bib_entry(self):\n",
    "        \"\"\"Returns a string containing a formatted Book entry.\"\"\"\n",
    "        return \"{0}, {1}, {2}\".format(super().get_bib_entry(), self._publisher, self._year)"
   ]
  },
  {
   "cell_type": "markdown",
   "metadata": {},
   "source": [
    "### Creating Class Instance"
   ]
  },
  {
   "cell_type": "code",
   "execution_count": 18,
   "metadata": {},
   "outputs": [],
   "source": [
    "pub = Publication(\"Test80\", \"Just a test\", \"Rob Green\")\n",
    "book = Book(\"Smith90\", \"The Year that Was\", \"John Smith\", \"Bookends Publishing\", 1990)"
   ]
  },
  {
   "cell_type": "markdown",
   "metadata": {},
   "source": [
    "![data-attributes](../files/appendix_d/data-attributes.png)"
   ]
  },
  {
   "cell_type": "markdown",
   "metadata": {},
   "source": [
    "### Invoking Methods"
   ]
  },
  {
   "cell_type": "markdown",
   "metadata": {},
   "source": [
    "![available-methods](../files/appendix_d/available-methods.png)"
   ]
  },
  {
   "cell_type": "code",
   "execution_count": 19,
   "metadata": {},
   "outputs": [
    {
     "name": "stdout",
     "output_type": "stream",
     "text": [
      "[Smith90] \"The Year that Was\" by John Smith, Bookends Publishing, 1990\n"
     ]
    }
   ],
   "source": [
    "print(book.get_bib_entry())"
   ]
  },
  {
   "cell_type": "markdown",
   "metadata": {},
   "source": [
    "- **The methods of a child class can access the data attributes of the parent class**\n",
    "- **It's up to the designer of the class to ensure they do not modify the attributes incorrectly**"
   ]
  },
  {
   "cell_type": "code",
   "execution_count": 20,
   "metadata": {},
   "outputs": [],
   "source": [
    "class Chapter(Book): \n",
    "    # Chapter(Book) : Inherits from Book\n",
    "    \n",
    "    def __init__(self, code, title, author, publisher, year, chapter, pages):\n",
    "        super().__init__(code, title, author, publisher, year)\n",
    "        self._chapter = chapter\n",
    "        self._pages = pages\n",
    "        \n",
    "        \n",
    "    def get_bib_entry(self):\n",
    "        return \"{0}, Chapter {1} pp. {2}. {3}, {4}\".format(super().get_bib_entry(), self._chapter, pages, self._publisher, self._year)"
   ]
  },
  {
   "cell_type": "markdown",
   "metadata": {},
   "source": [
    "## Polymorphism"
   ]
  },
  {
   "cell_type": "markdown",
   "metadata": {},
   "source": [
    "- The decision as to the specific method to be called is made at run time"
   ]
  },
  {
   "cell_type": "code",
   "execution_count": 21,
   "metadata": {},
   "outputs": [],
   "source": [
    "# New version with a __str__ method added\n",
    "class Publication:\n",
    "\n",
    "    def __init__(self, code, title, author):\n",
    "        self._code = code\n",
    "        self._title = title\n",
    "        self._author = author\n",
    "\n",
    "\n",
    "    def get_code(self):\n",
    "        return self._code\n",
    "\n",
    "\n",
    "    def get_bib_entry(self):\n",
    "        return \"[{0}] \\\"{1}\\\" by {2}\".format(self.get_code(), self._title, self._author)\n",
    "\n",
    "\n",
    "    def __str__(self):\n",
    "        return self.get_bib_entry()"
   ]
  },
  {
   "cell_type": "code",
   "execution_count": 22,
   "metadata": {},
   "outputs": [],
   "source": [
    "class Book(Publication): \n",
    "    # Inherits from Publication\n",
    "\n",
    "    def __init__(self, code, title, author, publisher, year):\n",
    "        # Calling Publication constructor\n",
    "        super().__init__(code, title, author)\n",
    "        # Additional properties\n",
    "        self._publisher = publisher\n",
    "        self._year = year\n",
    "\n",
    "\n",
    "    # Overriding the parent's method\n",
    "    def get_bib_entry(self):\n",
    "        \"\"\"Returns a string containing a formatted Book entry.\"\"\"\n",
    "        return \"{0}, {1}, {2}\".format(super().get_bib_entry(), self._publisher, self._year)"
   ]
  },
  {
   "cell_type": "code",
   "execution_count": 23,
   "metadata": {},
   "outputs": [],
   "source": [
    "pub = Publication(\"Test80\", \"Just a test\", \"Rob Green\")\n",
    "book = Book(\"Smith90\", \"The Year that Was\", \"John Smith\", \"Bookends Publishing\", 1990)"
   ]
  },
  {
   "cell_type": "code",
   "execution_count": 24,
   "metadata": {},
   "outputs": [
    {
     "name": "stdout",
     "output_type": "stream",
     "text": [
      "[Test80] \"Just a test\" by Rob Green\n",
      "[Smith90] \"The Year that Was\" by John Smith, Bookends Publishing, 1990\n"
     ]
    }
   ],
   "source": [
    "print(pub)\n",
    "print(book)"
   ]
  },
  {
   "cell_type": "markdown",
   "metadata": {},
   "source": [
    "- Since the `__str__` method is defined by the parent class, it will be inherited by the child class\n",
    "- When the `__str__` method is executed via the `print()` function:\n",
    "  - Python looks at the list of methods available to instances of the Book class\n",
    "  - Finds the `get_bib_entry()` method defined for that class and executes it\n",
    "  - `__str__` method correctly calls the `get_bib_entry()` method of the child class"
   ]
  }
 ],
 "metadata": {
  "hide_input": false,
  "kernelspec": {
   "display_name": "Python 3 (ipykernel)",
   "language": "python",
   "name": "python3"
  },
  "language_info": {
   "codemirror_mode": {
    "name": "ipython",
    "version": 3
   },
   "file_extension": ".py",
   "mimetype": "text/x-python",
   "name": "python",
   "nbconvert_exporter": "python",
   "pygments_lexer": "ipython3",
   "version": "3.9.7"
  },
  "toc": {
   "base_numbering": 1,
   "nav_menu": {},
   "number_sections": true,
   "sideBar": true,
   "skip_h1_title": true,
   "title_cell": "Table of Contents",
   "title_sidebar": "Contents",
   "toc_cell": true,
   "toc_position": {
    "height": "calc(100% - 180px)",
    "left": "10px",
    "top": "150px",
    "width": "309.2px"
   },
   "toc_section_display": true,
   "toc_window_display": true
  },
  "varInspector": {
   "cols": {
    "lenName": 16,
    "lenType": 16,
    "lenVar": 40
   },
   "kernels_config": {
    "python": {
     "delete_cmd_postfix": "",
     "delete_cmd_prefix": "del ",
     "library": "var_list.py",
     "varRefreshCmd": "print(var_dic_list())"
    },
    "r": {
     "delete_cmd_postfix": ") ",
     "delete_cmd_prefix": "rm(",
     "library": "var_list.r",
     "varRefreshCmd": "cat(var_dic_list()) "
    }
   },
   "types_to_exclude": [
    "module",
    "function",
    "builtin_function_or_method",
    "instance",
    "_Feature"
   ],
   "window_display": false
  }
 },
 "nbformat": 4,
 "nbformat_minor": 4
}
