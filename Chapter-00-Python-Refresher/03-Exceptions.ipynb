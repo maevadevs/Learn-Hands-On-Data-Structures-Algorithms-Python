{
 "cells": [
  {
   "attachments": {},
   "cell_type": "markdown",
   "metadata": {},
   "source": [
    "# Exceptions\n"
   ]
  },
  {
   "attachments": {},
   "cell_type": "markdown",
   "metadata": {},
   "source": [
    "---\n"
   ]
  },
  {
   "attachments": {},
   "cell_type": "markdown",
   "metadata": {},
   "source": [
    "**Table of contents**<a id='toc0_'></a>\n",
    "\n",
    "-   [Catching Exceptions](#toc1_)\n",
    "-   [Raising Exceptions](#toc2_)\n",
    "-   [Standard Exceptions](#toc3_)\n",
    "-   [Assertions](#toc4_)\n",
    "    -   [When to use Exceptions vs Assertions](#toc4_1_)\n",
    "\n",
    "<!-- vscode-jupyter-toc-config\n",
    "\tnumbering=false\n",
    "\tanchor=true\n",
    "\tflat=false\n",
    "\tminLevel=2\n",
    "\tmaxLevel=6\n",
    "\t/vscode-jupyter-toc-config -->\n",
    "<!-- THIS CELL WILL BE REPLACED ON TOC UPDATE. DO NOT WRITE YOUR TEXT IN THIS CELL -->\n"
   ]
  },
  {
   "attachments": {},
   "cell_type": "markdown",
   "metadata": {},
   "source": [
    "---\n"
   ]
  },
  {
   "attachments": {},
   "cell_type": "markdown",
   "metadata": {},
   "source": [
    "-   Python raises an exception when an error occurs\n",
    "-   **Exception: an exiting event that can be triggered and optionally handled during program execution**\n",
    "-   The program can contain code to catch the exception and gracefully handle it\n",
    "-   When an exception is not handled, the program will abort\n"
   ]
  },
  {
   "attachments": {},
   "cell_type": "markdown",
   "metadata": {},
   "source": [
    "## <a id='toc1_'></a>Catching Exceptions [&#8593;](#toc0_)\n"
   ]
  },
  {
   "cell_type": "code",
   "execution_count": 1,
   "metadata": {},
   "outputs": [],
   "source": [
    "# Without exeption handling\n",
    "def get_an_integer() -> str:\n",
    "    \"\"\"Request an integer from the user.\n",
    "\n",
    "    Returns:\n",
    "        - `str`: Message with the integer\n",
    "    \"\"\"\n",
    "    value: int = int(input(\"Enter an integer value: \"))\n",
    "    return f\"You entered {value}. Thank you!\"\n"
   ]
  },
  {
   "cell_type": "code",
   "execution_count": 2,
   "metadata": {},
   "outputs": [
    {
     "data": {
      "text/plain": [
       "'You entered 43. Thank you!'"
      ]
     },
     "execution_count": 2,
     "metadata": {},
     "output_type": "execute_result"
    }
   ],
   "source": [
    "get_an_integer()  # Will throw an ValueError exception if the input is not an integer"
   ]
  },
  {
   "cell_type": "code",
   "execution_count": 3,
   "metadata": {},
   "outputs": [],
   "source": [
    "# With an exception handling\n",
    "def request_an_integer() -> str:\n",
    "    \"\"\"Request an integer from the user.\n",
    "\n",
    "    Returns:\n",
    "        - `str`: Message with the integer, or the error\n",
    "    \"\"\"\n",
    "    has_errors: bool = False\n",
    "    attempt_count: int = 0\n",
    "    value: int\n",
    "\n",
    "    while not has_errors:\n",
    "        try:\n",
    "            value = int(input(\"Enter an integer value: \"))\n",
    "            has_errors = True\n",
    "            return f\"You entered {value}. Thank you!\"\n",
    "        except:\n",
    "            attempt_count += 1\n",
    "            if attempt_count == 5:\n",
    "                break\n",
    "            print(\"You entered a non-integer value. Try again!\")\n",
    "\n",
    "    return \"Sorry, too many attempts. Please try again later.\""
   ]
  },
  {
   "cell_type": "code",
   "execution_count": 4,
   "metadata": {},
   "outputs": [
    {
     "data": {
      "text/plain": [
       "'You entered 54. Thank you!'"
      ]
     },
     "execution_count": 4,
     "metadata": {},
     "output_type": "execute_result"
    }
   ],
   "source": [
    "request_an_integer()\n"
   ]
  },
  {
   "attachments": {},
   "cell_type": "markdown",
   "metadata": {},
   "source": [
    "## <a id='toc2_'></a>Raising Exceptions [&#8593;](#toc0_)\n"
   ]
  },
  {
   "attachments": {},
   "cell_type": "markdown",
   "metadata": {},
   "source": [
    "-   Python automatically raises exceptions when an error occurs during program execution\n",
    "-   We can also explicitly raise an exception when we detect an error in the code\n",
    "-   When raising an exception, a string is required to provide a descriptive error message for debugging\n"
   ]
  },
  {
   "cell_type": "code",
   "execution_count": 5,
   "metadata": {},
   "outputs": [],
   "source": [
    "def minimum(arg1: int, arg2: int) -> int:\n",
    "    \"\"\"Return the minimum of 2 integers.\n",
    "\n",
    "    Args:\n",
    "        - `arg1` (`int`): The first integer\n",
    "        - `arg2` (`int`): The second integer\n",
    "\n",
    "    Raises:\n",
    "        - `TypeError`: When the arguments are `None`\n",
    "\n",
    "    Returns:\n",
    "        - `int`: The smaller integer if the 2\n",
    "    \"\"\"\n",
    "    if arg1 is None or arg2 is None:\n",
    "        raise TypeError(\"arguments to minimum() cannot be None\")\n",
    "    if arg1 < arg2:\n",
    "        return arg1\n",
    "    else:\n",
    "        return arg2"
   ]
  },
  {
   "cell_type": "code",
   "execution_count": 6,
   "metadata": {},
   "outputs": [
    {
     "data": {
      "text/plain": [
       "4"
      ]
     },
     "execution_count": 6,
     "metadata": {},
     "output_type": "execute_result"
    }
   ],
   "source": [
    "minimum(4, 6)\n"
   ]
  },
  {
   "cell_type": "code",
   "execution_count": 7,
   "metadata": {},
   "outputs": [
    {
     "name": "stdout",
     "output_type": "stream",
     "text": [
      "arguments to minimum() cannot be None\n"
     ]
    }
   ],
   "source": [
    "try:\n",
    "    minimum(4, None)  # Will raise an error\n",
    "except Exception as e:\n",
    "    print(e)"
   ]
  },
  {
   "attachments": {},
   "cell_type": "markdown",
   "metadata": {},
   "source": [
    "## <a id='toc3_'></a>Standard Exceptions [&#8593;](#toc0_)\n"
   ]
  },
  {
   "attachments": {},
   "cell_type": "markdown",
   "metadata": {},
   "source": [
    "-   Built-in exceptions that can be raised by the language and its library modules\n",
    "-   Exceptions are defined as classes from which an object is created\n",
    "-   **The name of the class is given as an argument to the raise statement**\n"
   ]
  },
  {
   "attachments": {},
   "cell_type": "markdown",
   "metadata": {},
   "source": [
    "-   `IndexError`: A list or tuple index is out of range\n",
    "-   `KeyError`: A dictionary key is not found in a dictionary\n",
    "-   `NotImplementedError`: Especially in abstract classes to indicate the method is being used but has not yet been implemented\n",
    "-   `RuntimeError`: Flag an error when no other exception type is appropriate\n",
    "-   `TypeError`: An incorrect data type is supplied to an operator or method\n",
    "-   `ValueError`: The correct data type is supplied but it is not an appropriate value\n"
   ]
  },
  {
   "attachments": {},
   "cell_type": "markdown",
   "metadata": {},
   "source": [
    "## <a id='toc4_'></a>Assertions [&#8593;](#toc0_)\n"
   ]
  },
  {
   "attachments": {},
   "cell_type": "markdown",
   "metadata": {},
   "source": [
    "-   `assert` statements can be used to raise the special `AssertionError` exception\n",
    "-   **State what we assume to be true. If the assertion fails, the error is raised**\n",
    "-   This is mostly useful for Unit Tests: Combines the testing of a condition with raising an exception\n",
    "-   The difference between making an assertion and raising an exception is that the `assert` statements can be deactivated at run time\n"
   ]
  },
  {
   "cell_type": "code",
   "execution_count": 8,
   "metadata": {},
   "outputs": [],
   "source": [
    "def minimum2(arg1: int, arg2: int) -> int:\n",
    "    \"\"\"Return the minimum of 2 integers.\n",
    "\n",
    "    Args:\n",
    "        - `arg1` (`int`): The first integer\n",
    "        - `arg2` (`int`): The second integer\n",
    "\n",
    "    Raises:\n",
    "        - `TypeError`: When the arguments are `None`\n",
    "\n",
    "    Returns:\n",
    "        - `int`: The smaller integer if the 2\n",
    "    \"\"\"\n",
    "    assert arg1 is not None and arg2 is not None, \"arguments to min() cannot be None\"\n",
    "    if arg1 < arg2:\n",
    "        return arg1 + 1\n",
    "    else:\n",
    "        return arg2 + 1\n"
   ]
  },
  {
   "cell_type": "code",
   "execution_count": 9,
   "metadata": {},
   "outputs": [],
   "source": [
    "assert minimum(6, 8) == 6, f\"minimum(6, 8): Expected result 6 but got {minimum(6, 8)}\"\n"
   ]
  },
  {
   "attachments": {},
   "cell_type": "markdown",
   "metadata": {},
   "source": [
    "### <a id='toc4_1_'></a>When to use Exceptions vs Assertions [&#8593;](#toc0_)\n"
   ]
  },
  {
   "attachments": {},
   "cell_type": "markdown",
   "metadata": {},
   "source": [
    "-   Exceptions should be raised in those instances where you expect errors may occur during execution that can be properly handled without aborting the program\n",
    "    -   The program does not have to crash\n",
    "    -   Checking for valid user input\n",
    "    -   Verifying a successful network connection to a server\n",
    "    -   Catch the exception, inform the user, and provide an alternate course of action\n",
    "-   Assertions are best used for debugging a program and testing preconditions while exceptions are best used to catch recoverable errors\n",
    "    -   `assert` statements can be deactivated at run time in the final product to prevent them from being executed\n",
    "    -   Assertions are made to help debug and catch programming errors\n",
    "    -   Once you have fully tested the program, we would not expect these errors to occur\n",
    "    -   The end user of the program will have little use for the debug information\n",
    "-   With _Abstract Data Types_ (ADT), we need to ensure the proper execution of the various operations by verifying any stated preconditions\n",
    "    -   The appropriate mechanism is to state assertions for the preconditions\n",
    "    -   Allow the user of the ADT to decide how they wish to handle the error\n",
    "    -   In most cases, the appropriate step is to allow the program to abort\n"
   ]
  }
 ],
 "metadata": {
  "hide_input": false,
  "kernelspec": {
   "display_name": "Python 3 (ipykernel)",
   "language": "python",
   "name": "python3"
  },
  "language_info": {
   "codemirror_mode": {
    "name": "ipython",
    "version": 3
   },
   "file_extension": ".py",
   "mimetype": "text/x-python",
   "name": "python",
   "nbconvert_exporter": "python",
   "pygments_lexer": "ipython3",
   "version": "3.11.3"
  },
  "toc": {
   "base_numbering": 1,
   "nav_menu": {},
   "number_sections": true,
   "sideBar": true,
   "skip_h1_title": true,
   "title_cell": "Table of Contents",
   "title_sidebar": "Contents",
   "toc_cell": true,
   "toc_position": {},
   "toc_section_display": true,
   "toc_window_display": true
  },
  "varInspector": {
   "cols": {
    "lenName": 16,
    "lenType": 16,
    "lenVar": 40
   },
   "kernels_config": {
    "python": {
     "delete_cmd_postfix": "",
     "delete_cmd_prefix": "del ",
     "library": "var_list.py",
     "varRefreshCmd": "print(var_dic_list())"
    },
    "r": {
     "delete_cmd_postfix": ") ",
     "delete_cmd_prefix": "rm(",
     "library": "var_list.r",
     "varRefreshCmd": "cat(var_dic_list()) "
    }
   },
   "types_to_exclude": [
    "module",
    "function",
    "builtin_function_or_method",
    "instance",
    "_Feature"
   ],
   "window_display": false
  }
 },
 "nbformat": 4,
 "nbformat_minor": 4
}
