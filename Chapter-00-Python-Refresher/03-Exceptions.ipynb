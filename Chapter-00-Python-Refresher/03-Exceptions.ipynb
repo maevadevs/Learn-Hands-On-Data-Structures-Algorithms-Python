{
 "cells": [
  {
   "cell_type": "markdown",
   "metadata": {},
   "source": [
    "# Exceptions"
   ]
  },
  {
   "cell_type": "markdown",
   "metadata": {
    "toc": true
   },
   "source": [
    "<h1>Table of Contents<span class=\"tocSkip\"></span></h1>\n",
    "<div class=\"toc\"><ul class=\"toc-item\"><li><span><a href=\"#Catching-Exceptions\" data-toc-modified-id=\"Catching-Exceptions-1\"><span class=\"toc-item-num\">1&nbsp;&nbsp;</span>Catching Exceptions</a></span></li><li><span><a href=\"#Raising-Exceptions\" data-toc-modified-id=\"Raising-Exceptions-2\"><span class=\"toc-item-num\">2&nbsp;&nbsp;</span>Raising Exceptions</a></span></li><li><span><a href=\"#Standard-Exceptions\" data-toc-modified-id=\"Standard-Exceptions-3\"><span class=\"toc-item-num\">3&nbsp;&nbsp;</span>Standard Exceptions</a></span></li><li><span><a href=\"#Assertions\" data-toc-modified-id=\"Assertions-4\"><span class=\"toc-item-num\">4&nbsp;&nbsp;</span>Assertions</a></span><ul class=\"toc-item\"><li><span><a href=\"#When-to-use-Exceptions-vs-Assertions\" data-toc-modified-id=\"When-to-use-Exceptions-vs-Assertions-4.1\"><span class=\"toc-item-num\">4.1&nbsp;&nbsp;</span>When to use Exceptions vs Assertions</a></span></li></ul></li></ul></div>"
   ]
  },
  {
   "cell_type": "markdown",
   "metadata": {},
   "source": [
    "- Python raises an exception when an error occurs\n",
    "- **Exception: an exiting event that can be triggered and optionally handled during program execution**\n",
    "- The program can contain code to catch the exception and gracefully handle it\n",
    "- When an exception is not handled, the program will abort"
   ]
  },
  {
   "cell_type": "markdown",
   "metadata": {},
   "source": [
    "## Catching Exceptions"
   ]
  },
  {
   "cell_type": "code",
   "execution_count": 1,
   "metadata": {},
   "outputs": [],
   "source": [
    "# Without exeption handling\n",
    "def get_an_integer():\n",
    "    value = int(input(\"Enter an integer value: \"))\n",
    "    return \"You entered {}. Thank you!\".format(value)"
   ]
  },
  {
   "cell_type": "code",
   "execution_count": 2,
   "metadata": {},
   "outputs": [
    {
     "name": "stdout",
     "output_type": "stream",
     "text": [
      "Enter an integer value: 77\n"
     ]
    },
    {
     "data": {
      "text/plain": [
       "'You entered 77. Thank you!'"
      ]
     },
     "execution_count": 2,
     "metadata": {},
     "output_type": "execute_result"
    }
   ],
   "source": [
    "get_an_integer() # Will throw an ValueError exception if the input is not an integer"
   ]
  },
  {
   "cell_type": "code",
   "execution_count": 3,
   "metadata": {},
   "outputs": [],
   "source": [
    "# With an exception handling\n",
    "def request_an_integer():\n",
    "    has_errors = False\n",
    "    attempt_count = 0\n",
    "\n",
    "    while (not has_errors):\n",
    "        try:\n",
    "            value = int(input(\"Enter an integer value: \"))\n",
    "            has_errors = True\n",
    "            return \"You entered {}. Thank you!\".format(value)\n",
    "        except:\n",
    "            attempt_count += 1\n",
    "            if attempt_count == 5:\n",
    "                break\n",
    "            print(\"You entered a non-integer value. Try again!\")\n",
    "\n",
    "    return \"Sorry, too many attempts. Please try again later.\""
   ]
  },
  {
   "cell_type": "code",
   "execution_count": 4,
   "metadata": {},
   "outputs": [
    {
     "name": "stdout",
     "output_type": "stream",
     "text": [
      "Enter an integer value: Hi\n",
      "You entered a non-integer value. Try again!\n",
      "Enter an integer value: Hello\n",
      "You entered a non-integer value. Try again!\n",
      "Enter an integer value: Test\n",
      "You entered a non-integer value. Try again!\n",
      "Enter an integer value: Hola\n",
      "You entered a non-integer value. Try again!\n",
      "Enter an integer value: hi again!\n"
     ]
    },
    {
     "data": {
      "text/plain": [
       "'Sorry, too many attempts. Please try again later.'"
      ]
     },
     "execution_count": 4,
     "metadata": {},
     "output_type": "execute_result"
    }
   ],
   "source": [
    "request_an_integer()"
   ]
  },
  {
   "cell_type": "markdown",
   "metadata": {},
   "source": [
    "## Raising Exceptions"
   ]
  },
  {
   "cell_type": "markdown",
   "metadata": {},
   "source": [
    "- Python automatically raises exceptions when an error occurs during program execution\n",
    "- We can also explicitly raise an exception when we detect an error in the code\n",
    "- When raising an exception, a string is required to provide a descriptive error message for debugging"
   ]
  },
  {
   "cell_type": "code",
   "execution_count": 5,
   "metadata": {},
   "outputs": [],
   "source": [
    "def minimum(arg1, arg2):\n",
    "    if arg1 is None or arg2 is None :\n",
    "        raise TypeError(\"arguments to minimum() cannot be None\")\n",
    "    if arg1 < arg2 :\n",
    "        return arg1\n",
    "    else :\n",
    "        return arg2"
   ]
  },
  {
   "cell_type": "code",
   "execution_count": 6,
   "metadata": {},
   "outputs": [
    {
     "data": {
      "text/plain": [
       "4"
      ]
     },
     "execution_count": 6,
     "metadata": {},
     "output_type": "execute_result"
    }
   ],
   "source": [
    "minimum(4, 6)"
   ]
  },
  {
   "cell_type": "code",
   "execution_count": 7,
   "metadata": {},
   "outputs": [],
   "source": [
    "#minimum(4, None) #Will raise an error"
   ]
  },
  {
   "cell_type": "markdown",
   "metadata": {},
   "source": [
    "## Standard Exceptions"
   ]
  },
  {
   "cell_type": "markdown",
   "metadata": {},
   "source": [
    "- Built-in exceptions that can be raised by the language and its library modules\n",
    "- Exceptions are defined as classes from which an object is created\n",
    "- **The name of the class is given as an argument to the raise statement**"
   ]
  },
  {
   "cell_type": "markdown",
   "metadata": {},
   "source": [
    "- `IndexError`: A list or tuple index is out of range\n",
    "- `KeyError`: A dictionary key is not found in a dictionary\n",
    "- `NotImplementedError`: Especially in abstract classes to indicate the method is being used but has not yet been implemented\n",
    "- `RuntimeError`: Flag an error when no other exception type is appropriate\n",
    "- `TypeError`: An incorrect data type is supplied to an operator or method\n",
    "- `ValueError`: The correct data type is supplied but it is not an appropriate value"
   ]
  },
  {
   "cell_type": "markdown",
   "metadata": {},
   "source": [
    "## Assertions"
   ]
  },
  {
   "cell_type": "markdown",
   "metadata": {},
   "source": [
    "- `assert` statements can be used to raise the special `AssertionError` exception\n",
    "- **State what we assume to be true. If the assertion fails, the error is raised**\n",
    "- This is mostly useful for Unit Tests: Combines the testing of a condition with raising an exception\n",
    "- The difference between making an assertion and raising an exception is that the `assert` statements can be deactivated at run time"
   ]
  },
  {
   "cell_type": "code",
   "execution_count": 8,
   "metadata": {},
   "outputs": [],
   "source": [
    "def minimum(arg1, arg2):\n",
    "    assert arg1 is not None and arg2 is not None, \"arguments to min() cannot be None\"\n",
    "    if arg1 < arg2:\n",
    "        return arg1 + 1\n",
    "    else:\n",
    "        return arg2 + 1"
   ]
  },
  {
   "cell_type": "code",
   "execution_count": 9,
   "metadata": {},
   "outputs": [
    {
     "ename": "AssertionError",
     "evalue": "minimum(6, 8): Expected result 6 but got 7",
     "output_type": "error",
     "traceback": [
      "\u001b[1;31m---------------------------------------------------------------------------\u001b[0m",
      "\u001b[1;31mAssertionError\u001b[0m                            Traceback (most recent call last)",
      "\u001b[1;32m~\\AppData\\Local\\Temp/ipykernel_55876/2012715559.py\u001b[0m in \u001b[0;36m<module>\u001b[1;34m\u001b[0m\n\u001b[1;32m----> 1\u001b[1;33m \u001b[1;32massert\u001b[0m \u001b[0mminimum\u001b[0m\u001b[1;33m(\u001b[0m\u001b[1;36m6\u001b[0m\u001b[1;33m,\u001b[0m \u001b[1;36m8\u001b[0m\u001b[1;33m)\u001b[0m \u001b[1;33m==\u001b[0m \u001b[1;36m6\u001b[0m\u001b[1;33m,\u001b[0m \u001b[1;34mf\"minimum(6, 8): Expected result 6 but got {minimum(6, 8)}\"\u001b[0m\u001b[1;33m\u001b[0m\u001b[1;33m\u001b[0m\u001b[0m\n\u001b[0m",
      "\u001b[1;31mAssertionError\u001b[0m: minimum(6, 8): Expected result 6 but got 7"
     ]
    }
   ],
   "source": [
    "assert minimum(6, 8) == 6, f\"minimum(6, 8): Expected result 6 but got {minimum(6, 8)}\""
   ]
  },
  {
   "cell_type": "markdown",
   "metadata": {},
   "source": [
    "### When to use Exceptions vs Assertions"
   ]
  },
  {
   "cell_type": "markdown",
   "metadata": {},
   "source": [
    "- Exceptions should be raised in those instances where you expect errors may occur during execution that can be properly handled without aborting the program\n",
    "  - The program does not have to crash\n",
    "  - Checking for valid user input\n",
    "  - Verifying a successful network connection to a server\n",
    "  - Catch the exception, inform the user, and provide an alternate course of action\n",
    "- Assertions are best used for debugging a program and testing preconditions while exceptions are best used to catch recoverable errors\n",
    "  - `assert` statements can be deactivated at run time in the final product to prevent them from being executed\n",
    "  - Assertions are made to help debug and catch programming errors\n",
    "  - Once you have fully tested the program, we would not expect these errors to occur\n",
    "  - The end user of the program will have little use for the debug information\n",
    "- With *Abstract Data Types* (ADT), we need to ensure the proper execution of the various operations by verifying any stated preconditions\n",
    "  - The appropriate mechanism is to state assertions for the preconditions\n",
    "  - Allow the user of the ADT to decide how they wish to handle the error\n",
    "  - In most cases, the appropriate step is to allow the program to abort"
   ]
  }
 ],
 "metadata": {
  "hide_input": false,
  "kernelspec": {
   "display_name": "Python 3 (ipykernel)",
   "language": "python",
   "name": "python3"
  },
  "language_info": {
   "codemirror_mode": {
    "name": "ipython",
    "version": 3
   },
   "file_extension": ".py",
   "mimetype": "text/x-python",
   "name": "python",
   "nbconvert_exporter": "python",
   "pygments_lexer": "ipython3",
   "version": "3.9.7"
  },
  "toc": {
   "base_numbering": 1,
   "nav_menu": {},
   "number_sections": true,
   "sideBar": true,
   "skip_h1_title": true,
   "title_cell": "Table of Contents",
   "title_sidebar": "Contents",
   "toc_cell": true,
   "toc_position": {},
   "toc_section_display": true,
   "toc_window_display": true
  },
  "varInspector": {
   "cols": {
    "lenName": 16,
    "lenType": 16,
    "lenVar": 40
   },
   "kernels_config": {
    "python": {
     "delete_cmd_postfix": "",
     "delete_cmd_prefix": "del ",
     "library": "var_list.py",
     "varRefreshCmd": "print(var_dic_list())"
    },
    "r": {
     "delete_cmd_postfix": ") ",
     "delete_cmd_prefix": "rm(",
     "library": "var_list.r",
     "varRefreshCmd": "cat(var_dic_list()) "
    }
   },
   "types_to_exclude": [
    "module",
    "function",
    "builtin_function_or_method",
    "instance",
    "_Feature"
   ],
   "window_display": false
  }
 },
 "nbformat": 4,
 "nbformat_minor": 4
}
