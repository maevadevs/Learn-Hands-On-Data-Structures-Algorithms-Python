{
 "cells": [
  {
   "cell_type": "markdown",
   "metadata": {},
   "source": [
    "# Python Refresher"
   ]
  },
  {
   "cell_type": "markdown",
   "metadata": {
    "toc": true
   },
   "source": [
    "<h1>Table of Contents<span class=\"tocSkip\"></span></h1>\n",
    "<div class=\"toc\"><ul class=\"toc-item\"><li><span><a href=\"#About-Python\" data-toc-modified-id=\"About-Python-1\"><span class=\"toc-item-num\">1&nbsp;&nbsp;</span>About Python</a></span></li><li><span><a href=\"#Python-Interpreter\" data-toc-modified-id=\"Python-Interpreter-2\"><span class=\"toc-item-num\">2&nbsp;&nbsp;</span>Python Interpreter</a></span></li><li><span><a href=\"#Basics\" data-toc-modified-id=\"Basics-3\"><span class=\"toc-item-num\">3&nbsp;&nbsp;</span>Basics</a></span><ul class=\"toc-item\"><li><span><a href=\"#Reserved-Words\" data-toc-modified-id=\"Reserved-Words-3.1\"><span class=\"toc-item-num\">3.1&nbsp;&nbsp;</span>Reserved Words</a></span></li><li><span><a href=\"#Statements\" data-toc-modified-id=\"Statements-3.2\"><span class=\"toc-item-num\">3.2&nbsp;&nbsp;</span>Statements</a></span></li><li><span><a href=\"#Variables\" data-toc-modified-id=\"Variables-3.3\"><span class=\"toc-item-num\">3.3&nbsp;&nbsp;</span>Variables</a></span><ul class=\"toc-item\"><li><span><a href=\"#Assignment\" data-toc-modified-id=\"Assignment-3.3.1\"><span class=\"toc-item-num\">3.3.1&nbsp;&nbsp;</span>Assignment</a></span></li><li><span><a href=\"#Aliasing\" data-toc-modified-id=\"Aliasing-3.3.2\"><span class=\"toc-item-num\">3.3.2&nbsp;&nbsp;</span>Aliasing</a></span></li><li><span><a href=\"#Null-Reference\" data-toc-modified-id=\"Null-Reference-3.3.3\"><span class=\"toc-item-num\">3.3.3&nbsp;&nbsp;</span>Null Reference</a></span></li><li><span><a href=\"#Constants\" data-toc-modified-id=\"Constants-3.3.4\"><span class=\"toc-item-num\">3.3.4&nbsp;&nbsp;</span>Constants</a></span></li></ul></li><li><span><a href=\"#Arithmetic-Operations-and-Compound-Operators\" data-toc-modified-id=\"Arithmetic-Operations-and-Compound-Operators-3.4\"><span class=\"toc-item-num\">3.4&nbsp;&nbsp;</span>Arithmetic Operations and Compound Operators</a></span></li><li><span><a href=\"#Logical-Operations\" data-toc-modified-id=\"Logical-Operations-3.5\"><span class=\"toc-item-num\">3.5&nbsp;&nbsp;</span>Logical Operations</a></span><ul class=\"toc-item\"><li><span><a href=\"#Relational-Operators\" data-toc-modified-id=\"Relational-Operators-3.5.1\"><span class=\"toc-item-num\">3.5.1&nbsp;&nbsp;</span>Relational Operators</a></span></li><li><span><a href=\"#Boolean-Operators\" data-toc-modified-id=\"Boolean-Operators-3.5.2\"><span class=\"toc-item-num\">3.5.2&nbsp;&nbsp;</span>Boolean Operators</a></span></li><li><span><a href=\"#Object-References\" data-toc-modified-id=\"Object-References-3.5.3\"><span class=\"toc-item-num\">3.5.3&nbsp;&nbsp;</span>Object References</a></span></li></ul></li><li><span><a href=\"#Order-of-Precendence\" data-toc-modified-id=\"Order-of-Precendence-3.6\"><span class=\"toc-item-num\">3.6&nbsp;&nbsp;</span>Order of Precendence</a></span></li><li><span><a href=\"#Functions-and-Methods\" data-toc-modified-id=\"Functions-and-Methods-3.7\"><span class=\"toc-item-num\">3.7&nbsp;&nbsp;</span>Functions and Methods</a></span></li><li><span><a href=\"#Standard-Library\" data-toc-modified-id=\"Standard-Library-3.8\"><span class=\"toc-item-num\">3.8&nbsp;&nbsp;</span>Standard Library</a></span><ul class=\"toc-item\"><li><span><a href=\"#Import-Statements\" data-toc-modified-id=\"Import-Statements-3.8.1\"><span class=\"toc-item-num\">3.8.1&nbsp;&nbsp;</span>Import Statements</a></span></li></ul></li></ul></li><li><span><a href=\"#User-Interactions\" data-toc-modified-id=\"User-Interactions-4\"><span class=\"toc-item-num\">4&nbsp;&nbsp;</span>User Interactions</a></span><ul class=\"toc-item\"><li><span><a href=\"#Standard-Input\" data-toc-modified-id=\"Standard-Input-4.1\"><span class=\"toc-item-num\">4.1&nbsp;&nbsp;</span>Standard Input</a></span></li><li><span><a href=\"#Standard-Output\" data-toc-modified-id=\"Standard-Output-4.2\"><span class=\"toc-item-num\">4.2&nbsp;&nbsp;</span>Standard Output</a></span><ul class=\"toc-item\"><li><span><a href=\"#Escape-Sequences\" data-toc-modified-id=\"Escape-Sequences-4.2.1\"><span class=\"toc-item-num\">4.2.1&nbsp;&nbsp;</span>Escape Sequences</a></span></li><li><span><a href=\"#Formatted-Output\" data-toc-modified-id=\"Formatted-Output-4.2.2\"><span class=\"toc-item-num\">4.2.2&nbsp;&nbsp;</span>Formatted Output</a></span></li></ul></li></ul></li><li><span><a href=\"#Control-Structures\" data-toc-modified-id=\"Control-Structures-5\"><span class=\"toc-item-num\">5&nbsp;&nbsp;</span>Control Structures</a></span><ul class=\"toc-item\"><li><span><a href=\"#Selection-Constructs-(Conditioning)\" data-toc-modified-id=\"Selection-Constructs-(Conditioning)-5.1\"><span class=\"toc-item-num\">5.1&nbsp;&nbsp;</span>Selection Constructs (Conditioning)</a></span></li><li><span><a href=\"#Structural-Pattern-Matching\" data-toc-modified-id=\"Structural-Pattern-Matching-5.2\"><span class=\"toc-item-num\">5.2&nbsp;&nbsp;</span>Structural Pattern Matching</a></span></li><li><span><a href=\"#Repetition-Constructs\" data-toc-modified-id=\"Repetition-Constructs-5.3\"><span class=\"toc-item-num\">5.3&nbsp;&nbsp;</span>Repetition Constructs</a></span><ul class=\"toc-item\"><li><span><a href=\"#While-Loop\" data-toc-modified-id=\"While-Loop-5.3.1\"><span class=\"toc-item-num\">5.3.1&nbsp;&nbsp;</span>While Loop</a></span></li><li><span><a href=\"#For-Loop\" data-toc-modified-id=\"For-Loop-5.3.2\"><span class=\"toc-item-num\">5.3.2&nbsp;&nbsp;</span>For Loop</a></span></li><li><span><a href=\"#Issue-With-IEEE-754\" data-toc-modified-id=\"Issue-With-IEEE-754-5.3.3\"><span class=\"toc-item-num\">5.3.3&nbsp;&nbsp;</span>Issue With IEEE 754</a></span></li><li><span><a href=\"#range()\" data-toc-modified-id=\"range()-5.3.4\"><span class=\"toc-item-num\">5.3.4&nbsp;&nbsp;</span><code>range()</code></a></span></li></ul></li></ul></li><li><span><a href=\"#Collections\" data-toc-modified-id=\"Collections-6\"><span class=\"toc-item-num\">6&nbsp;&nbsp;</span>Collections</a></span><ul class=\"toc-item\"><li><span><a href=\"#Strings\" data-toc-modified-id=\"Strings-6.1\"><span class=\"toc-item-num\">6.1&nbsp;&nbsp;</span>Strings</a></span><ul class=\"toc-item\"><li><span><a href=\"#String-Concatenation\" data-toc-modified-id=\"String-Concatenation-6.1.1\"><span class=\"toc-item-num\">6.1.1&nbsp;&nbsp;</span>String Concatenation</a></span></li><li><span><a href=\"#String-Length\" data-toc-modified-id=\"String-Length-6.1.2\"><span class=\"toc-item-num\">6.1.2&nbsp;&nbsp;</span>String Length</a></span></li><li><span><a href=\"#String-Indexing-and-Slicing\" data-toc-modified-id=\"String-Indexing-and-Slicing-6.1.3\"><span class=\"toc-item-num\">6.1.3&nbsp;&nbsp;</span>String Indexing and Slicing</a></span></li><li><span><a href=\"#String-Repeat\" data-toc-modified-id=\"String-Repeat-6.1.4\"><span class=\"toc-item-num\">6.1.4&nbsp;&nbsp;</span>String Repeat</a></span></li><li><span><a href=\"#String-Element-Check\" data-toc-modified-id=\"String-Element-Check-6.1.5\"><span class=\"toc-item-num\">6.1.5&nbsp;&nbsp;</span>String Element Check</a></span></li></ul></li><li><span><a href=\"#Lists\" data-toc-modified-id=\"Lists-6.2\"><span class=\"toc-item-num\">6.2&nbsp;&nbsp;</span>Lists</a></span><ul class=\"toc-item\"><li><span><a href=\"#List-Elements-Access\" data-toc-modified-id=\"List-Elements-Access-6.2.1\"><span class=\"toc-item-num\">6.2.1&nbsp;&nbsp;</span>List Elements Access</a></span></li><li><span><a href=\"#List-Modification\" data-toc-modified-id=\"List-Modification-6.2.2\"><span class=\"toc-item-num\">6.2.2&nbsp;&nbsp;</span>List Modification</a></span><ul class=\"toc-item\"><li><span><a href=\"#list.append(el)\" data-toc-modified-id=\"list.append(el)-6.2.2.1\"><span class=\"toc-item-num\">6.2.2.1&nbsp;&nbsp;</span><code>list.append(el)</code></a></span></li><li><span><a href=\"#list.extend(anotherList)\" data-toc-modified-id=\"list.extend(anotherList)-6.2.2.2\"><span class=\"toc-item-num\">6.2.2.2&nbsp;&nbsp;</span><code>list.extend(anotherList)</code></a></span></li><li><span><a href=\"#list.insert(el)\" data-toc-modified-id=\"list.insert(el)-6.2.2.3\"><span class=\"toc-item-num\">6.2.2.3&nbsp;&nbsp;</span><code>list.insert(el)</code></a></span></li><li><span><a href=\"#list.remove(el)\" data-toc-modified-id=\"list.remove(el)-6.2.2.4\"><span class=\"toc-item-num\">6.2.2.4&nbsp;&nbsp;</span><code>list.remove(el)</code></a></span></li></ul></li><li><span><a href=\"#list.pop()\" data-toc-modified-id=\"list.pop()-6.2.3\"><span class=\"toc-item-num\">6.2.3&nbsp;&nbsp;</span><code>list.pop()</code></a></span></li><li><span><a href=\"#list.index(el)\" data-toc-modified-id=\"list.index(el)-6.2.4\"><span class=\"toc-item-num\">6.2.4&nbsp;&nbsp;</span><code>list.index(el)</code></a></span></li><li><span><a href=\"#List-Element-Check\" data-toc-modified-id=\"List-Element-Check-6.2.5\"><span class=\"toc-item-num\">6.2.5&nbsp;&nbsp;</span>List Element Check</a></span></li></ul></li><li><span><a href=\"#Tuples\" data-toc-modified-id=\"Tuples-6.3\"><span class=\"toc-item-num\">6.3&nbsp;&nbsp;</span>Tuples</a></span><ul class=\"toc-item\"><li><span><a href=\"#Tuples-Element-Check\" data-toc-modified-id=\"Tuples-Element-Check-6.3.1\"><span class=\"toc-item-num\">6.3.1&nbsp;&nbsp;</span>Tuples Element Check</a></span></li></ul></li><li><span><a href=\"#Dictionary\" data-toc-modified-id=\"Dictionary-6.4\"><span class=\"toc-item-num\">6.4&nbsp;&nbsp;</span>Dictionary</a></span><ul class=\"toc-item\"><li><span><a href=\"#Dictionary-Element-Access\" data-toc-modified-id=\"Dictionary-Element-Access-6.4.1\"><span class=\"toc-item-num\">6.4.1&nbsp;&nbsp;</span>Dictionary Element Access</a></span></li><li><span><a href=\"#Dictionary-Modification\" data-toc-modified-id=\"Dictionary-Modification-6.4.2\"><span class=\"toc-item-num\">6.4.2&nbsp;&nbsp;</span>Dictionary Modification</a></span></li><li><span><a href=\"#Dictionary-Element-Check\" data-toc-modified-id=\"Dictionary-Element-Check-6.4.3\"><span class=\"toc-item-num\">6.4.3&nbsp;&nbsp;</span>Dictionary Element Check</a></span></li></ul></li></ul></li><li><span><a href=\"#Text-Files\" data-toc-modified-id=\"Text-Files-7\"><span class=\"toc-item-num\">7&nbsp;&nbsp;</span>Text Files</a></span><ul class=\"toc-item\"><li><span><a href=\"#File-Access\" data-toc-modified-id=\"File-Access-7.1\"><span class=\"toc-item-num\">7.1&nbsp;&nbsp;</span>File Access</a></span></li><li><span><a href=\"#Reading-From-A-File\" data-toc-modified-id=\"Reading-From-A-File-7.2\"><span class=\"toc-item-num\">7.2&nbsp;&nbsp;</span>Reading From A File</a></span></li><li><span><a href=\"#Writing-To-A-File\" data-toc-modified-id=\"Writing-To-A-File-7.3\"><span class=\"toc-item-num\">7.3&nbsp;&nbsp;</span>Writing To A File</a></span></li></ul></li><li><span><a href=\"#User-Defined-Functions\" data-toc-modified-id=\"User-Defined-Functions-8\"><span class=\"toc-item-num\">8&nbsp;&nbsp;</span>User-Defined Functions</a></span><ul class=\"toc-item\"><li><span><a href=\"#Function-Definition\" data-toc-modified-id=\"Function-Definition-8.1\"><span class=\"toc-item-num\">8.1&nbsp;&nbsp;</span>Function Definition</a></span><ul class=\"toc-item\"><li><span><a href=\"#Function-Arguments\" data-toc-modified-id=\"Function-Arguments-8.1.1\"><span class=\"toc-item-num\">8.1.1&nbsp;&nbsp;</span>Function Arguments</a></span></li><li><span><a href=\"#Returning-Values\" data-toc-modified-id=\"Returning-Values-8.1.2\"><span class=\"toc-item-num\">8.1.2&nbsp;&nbsp;</span>Returning Values</a></span></li><li><span><a href=\"#Default-and-Keyword-Arguments\" data-toc-modified-id=\"Default-and-Keyword-Arguments-8.1.3\"><span class=\"toc-item-num\">8.1.3&nbsp;&nbsp;</span>Default and Keyword Arguments</a></span></li></ul></li><li><span><a href=\"#Variable-Scope\" data-toc-modified-id=\"Variable-Scope-8.2\"><span class=\"toc-item-num\">8.2&nbsp;&nbsp;</span>Variable Scope</a></span></li><li><span><a href=\"#Main-Routine\" data-toc-modified-id=\"Main-Routine-8.3\"><span class=\"toc-item-num\">8.3&nbsp;&nbsp;</span>Main Routine</a></span></li></ul></li></ul></div>"
   ]
  },
  {
   "cell_type": "markdown",
   "metadata": {},
   "source": [
    "## About Python"
   ]
  },
  {
   "cell_type": "markdown",
   "metadata": {},
   "source": [
    "- High-Level, Dynamic, Interpreted\n",
    "- Can be either *Procedural* or *Object-Oriented*\n",
    "- Has many built-in features\n",
    "- Efficient high-level data structures\n",
    "- Effective Object-Oriented programming language\n",
    "- Easiest advanced programming language to learn\n",
    "- Intuitive structures and semantics\n",
    "- Has many useful data structures and algorithms built-in"
   ]
  },
  {
   "cell_type": "markdown",
   "metadata": {},
   "source": [
    "## Python Interpreter"
   ]
  },
  {
   "cell_type": "markdown",
   "metadata": {},
   "source": [
    "- A program that reads and executes programs written in Python\n",
    "- Interactive mode or script mode\n",
    "- CLI Command: `python`"
   ]
  },
  {
   "cell_type": "code",
   "execution_count": 1,
   "metadata": {},
   "outputs": [
    {
     "name": "stdout",
     "output_type": "stream",
     "text": [
      "Hello World!\n"
     ]
    }
   ],
   "source": [
    "# Executing in Interactive: Can only run one line at a time\n",
    "print(\"Hello World!\")"
   ]
  },
  {
   "cell_type": "code",
   "execution_count": 2,
   "metadata": {},
   "outputs": [
    {
     "name": "stdout",
     "output_type": "stream",
     "text": [
      "The sum of the first 100 integers is 5050\n"
     ]
    }
   ],
   "source": [
    "# Executing in Script: Can run multiple lines at once\n",
    "total = 0\n",
    "i = 1\n",
    "\n",
    "while i <= 100:\n",
    "    total += i\n",
    "    i += 1\n",
    "\n",
    "print(\"The sum of the first 100 integers is\", total)"
   ]
  },
  {
   "cell_type": "markdown",
   "metadata": {},
   "source": [
    "## Basics"
   ]
  },
  {
   "cell_type": "markdown",
   "metadata": {},
   "source": [
    "### Reserved Words"
   ]
  },
  {
   "cell_type": "code",
   "execution_count": 3,
   "metadata": {},
   "outputs": [
    {
     "name": "stdout",
     "output_type": "stream",
     "text": [
      "False / None / True / __peg_parser__ / and / as / assert / async / await / break / class / continue / def / del / elif / else / except / finally / for / from / global / if / import / in / is / lambda / nonlocal / not / or / pass / raise / return / try / while / with / yield\n"
     ]
    }
   ],
   "source": [
    "# Print the list of all Python reserved keywords\n",
    "from keyword import kwlist\n",
    "\n",
    "complete_list = [kw for kw in sorted(kwlist)]\n",
    "print(\" / \".join(complete_list))"
   ]
  },
  {
   "cell_type": "code",
   "execution_count": 4,
   "metadata": {},
   "outputs": [
    {
     "name": "stdout",
     "output_type": "stream",
     "text": [
      "Negative Integer: -9\n",
      "Positive Integer: 50\n",
      "Hexadecimal: 15\n",
      "Octal: 511\n",
      "Binary: 9\n"
     ]
    }
   ],
   "source": [
    "# Integers\n",
    "a = -9      # Base 10, Negatives Integer\n",
    "b = 50      # Base 10, Positives Integer\n",
    "c = 0xf     # Hexadecimals: Prefix 0x or 0X\n",
    "d = 0o777   # Octal: Prefix 0o or 0O\n",
    "_ = 0b1001  # Binary: Prefix 0b or 0B\n",
    "\n",
    "print(\"Negative Integer:\", a)\n",
    "print(\"Positive Integer:\", b)\n",
    "print(\"Hexadecimal:\", c)\n",
    "print(\"Octal:\", d)\n",
    "print(\"Binary:\", _)"
   ]
  },
  {
   "cell_type": "code",
   "execution_count": 5,
   "metadata": {},
   "outputs": [
    {
     "name": "stdout",
     "output_type": "stream",
     "text": [
      "Negative Float: -25.45\n",
      "Positive Float: 17.4\n",
      "Scientific Notation: 0.017045\n"
     ]
    }
   ],
   "source": [
    "# Floats\n",
    "e = -25.45       # Base 10, Negative Float\n",
    "f = 17.4         # Base 10, Positive Float\n",
    "g = 17.045E-03   # Base 10, Scientific Notation\n",
    "\n",
    "print(\"Negative Float:\", e)\n",
    "print(\"Positive Float:\", f)\n",
    "print(\"Scientific Notation:\", g)"
   ]
  },
  {
   "cell_type": "code",
   "execution_count": 6,
   "metadata": {},
   "outputs": [
    {
     "name": "stdout",
     "output_type": "stream",
     "text": [
      "True\n",
      "False\n",
      "None\n"
     ]
    }
   ],
   "source": [
    "# Boolean and Null\n",
    "h = True\n",
    "i = False\n",
    "ii = None\n",
    "\n",
    "print(h)\n",
    "print(i)\n",
    "print(ii)"
   ]
  },
  {
   "cell_type": "code",
   "execution_count": 7,
   "metadata": {},
   "outputs": [
    {
     "name": "stdout",
     "output_type": "stream",
     "text": [
      "Hello World\n",
      "Hello World\n",
      "C\n",
      "c\n"
     ]
    }
   ],
   "source": [
    "# String\n",
    "j = 'Hello World' # Single Quotes\n",
    "k = \"Hello World\" # Double Quotes\n",
    "l = 'C' # Single Character, Single Quotes\n",
    "m = \"c\" # Single Character, Double Quotes\n",
    "\n",
    "print(j)\n",
    "print(k)\n",
    "print(l)\n",
    "print(m)"
   ]
  },
  {
   "cell_type": "code",
   "execution_count": 8,
   "metadata": {},
   "outputs": [
    {
     "name": "stdout",
     "output_type": "stream",
     "text": [
      "['a', 'b', 'c', 1, 2, 3.4, 4.5, True, False, {}, [], 1, 0]\n"
     ]
    }
   ],
   "source": [
    "# Lists\n",
    "a_list = ['a', 'b', 'c', 1, 2, 3.4, 4.5, True, False, {}, [], 1, 0]  # True and False same as 1 and 0\n",
    "\n",
    "print(a_list)"
   ]
  },
  {
   "cell_type": "code",
   "execution_count": 9,
   "metadata": {},
   "outputs": [
    {
     "name": "stdout",
     "output_type": "stream",
     "text": [
      "(1, 2, 3)\n",
      "('a', 200, True)\n"
     ]
    }
   ],
   "source": [
    "# Tuples\n",
    "a_tuple = (1, 2, 3)         # With parenthesis\n",
    "b_tuple = \"a\", 200, True    # Without parenthesis\n",
    "\n",
    "print(a_tuple)\n",
    "print(b_tuple)"
   ]
  },
  {
   "cell_type": "code",
   "execution_count": 10,
   "metadata": {},
   "outputs": [
    {
     "name": "stdout",
     "output_type": "stream",
     "text": [
      "string_dict:\n",
      " {'fname': 'John', 'lname': 'Doe', 'address': '123 Main St, Washington, DC 20001', 'age': 30, 'isEmployed': True}\n",
      "num_dict:\n",
      " {1: 'Mary', 2: 'John', 3: 'Sally'}\n"
     ]
    }
   ],
   "source": [
    "# Dictionary\n",
    "# Strings as keys\n",
    "string_dict = { \n",
    "    \"fname\": \"John\", \n",
    "    \"lname\": \"Doe\",\n",
    "    \"address\": \"123 Main St, Washington, DC 20001\",\n",
    "    \"age\": 30,\n",
    "    \"isEmployed\": True\n",
    "}\n",
    "\n",
    "# Integers as keys\n",
    "num_dict = { \n",
    "    1: \"Mary\", \n",
    "    2: \"John\", \n",
    "    3: \"Sally\" \n",
    "}\n",
    "\n",
    "print(\"string_dict:\\n\", string_dict)\n",
    "print(\"num_dict:\\n\", num_dict)"
   ]
  },
  {
   "cell_type": "code",
   "execution_count": 11,
   "metadata": {},
   "outputs": [
    {
     "name": "stdout",
     "output_type": "stream",
     "text": [
      "This is a string which\n",
      "can continue onto a new line. When printed, it will appear\n",
      "exactly as written between the triple quotes. This is commonly used for\n",
      "commenting classes and functions, thus the name 'Docstring'\n"
     ]
    }
   ],
   "source": [
    "# Docstring/Pre-formatted string\n",
    "st = \"\"\"This is a string which\n",
    "can continue onto a new line. When printed, it will appear\n",
    "exactly as written between the triple quotes. This is commonly used for\n",
    "commenting classes and functions, thus the name 'Docstring'\"\"\"\n",
    "\n",
    "print(st)"
   ]
  },
  {
   "cell_type": "markdown",
   "metadata": {},
   "source": [
    "### Statements"
   ]
  },
  {
   "cell_type": "markdown",
   "metadata": {},
   "source": [
    "- Statements in Python are separated into lines"
   ]
  },
  {
   "cell_type": "code",
   "execution_count": 12,
   "metadata": {},
   "outputs": [
    {
     "name": "stdout",
     "output_type": "stream",
     "text": [
      "3 + 4 = 7\n"
     ]
    }
   ],
   "source": [
    "result = 3 + 4\n",
    "print(\"3 + 4 =\", result)"
   ]
  },
  {
   "cell_type": "markdown",
   "metadata": {},
   "source": [
    "- But we can also make them more compact on a single line\n",
    "- We can use `;` to separate multiple statements\n",
    "- However, this is not Pythonic and is not recommended"
   ]
  },
  {
   "cell_type": "code",
   "execution_count": 13,
   "metadata": {},
   "outputs": [
    {
     "name": "stdout",
     "output_type": "stream",
     "text": [
      "3 + 4 = 7\n"
     ]
    }
   ],
   "source": [
    "result = 3 + 4; print(\"3 + 4 =\", result);"
   ]
  },
  {
   "cell_type": "markdown",
   "metadata": {},
   "source": [
    "- Backslash can be used to continue a statement on the next line\n",
    "- However, this is not Pythonic and is not recommended"
   ]
  },
  {
   "cell_type": "code",
   "execution_count": 14,
   "metadata": {},
   "outputs": [
    {
     "name": "stdout",
     "output_type": "stream",
     "text": [
      "3 + 4 = 7\n"
     ]
    }
   ],
   "source": [
    "result = 3\\\n",
    "+ 4\n",
    "print(\"3 + 4 =\", result)"
   ]
  },
  {
   "cell_type": "code",
   "execution_count": 15,
   "metadata": {},
   "outputs": [
    {
     "name": "stdout",
     "output_type": "stream",
     "text": [
      "add(5, 4, 6) = 15\n"
     ]
    }
   ],
   "source": [
    "# Defining a function\n",
    "def add(a, b, c):\n",
    "    return a + b + c\n",
    "\n",
    "# Function calls can skip lines on arguments\n",
    "res = add(\n",
    "    5,\n",
    "    4,\n",
    "    6\n",
    ")\n",
    "\n",
    "print(\"add(5, 4, 6) =\", res)"
   ]
  },
  {
   "cell_type": "code",
   "execution_count": 16,
   "metadata": {},
   "outputs": [
    {
     "name": "stdout",
     "output_type": "stream",
     "text": [
      "5050\n"
     ]
    }
   ],
   "source": [
    "# Compound Statement Block\n",
    "total = 0\n",
    "i = 0\n",
    "\n",
    "while i <= 100:\n",
    "    total += i\n",
    "    i += 1\n",
    "\n",
    "print(total)"
   ]
  },
  {
   "cell_type": "markdown",
   "metadata": {},
   "source": [
    "### Variables"
   ]
  },
  {
   "cell_type": "markdown",
   "metadata": {},
   "source": [
    "- **In Python, everything is an as object**\n",
    "    - Objects can store single value or multiple values\n",
    "- A variable is a named storage location\n",
    "    - Variables store *reference* to the object containing the data, not the data value itself\n",
    "    - A reference is the memory address of the location where the object is stored\n",
    "- A variable itself does not have a type and thus can store a reference to any type of object\n",
    "    - It is the object that has a data type\n",
    "- A variable cannot be used before it has been created by an assignment of a reference to some object\n",
    "    - Attempting to do so will generate an error\n",
    "- If all references to an object are removed, it is automatically destroyed as part of Python's *Garbage Collection*\n",
    "- *In CPython, we can get the memory address of a variable with `id()`*"
   ]
  },
  {
   "cell_type": "code",
   "execution_count": 17,
   "metadata": {},
   "outputs": [
    {
     "name": "stdout",
     "output_type": "stream",
     "text": [
      "address int of total: 2927239206640\n",
      "address hex of total: 0x2a98d0d96f0\n",
      "address bin of total: 0b101010100110001101000011011001011011110000\n"
     ]
    }
   ],
   "source": [
    "# Get memory address of total in integer\n",
    "print(\"address int of total:\", id(total))\n",
    "# Get memory address of total in hexadecimal\n",
    "print(\"address hex of total:\", hex(id(total)))\n",
    "# Get memory address of total in binary\n",
    "print(\"address bin of total:\", bin(id(total)))"
   ]
  },
  {
   "cell_type": "markdown",
   "metadata": {},
   "source": [
    "#### Assignment"
   ]
  },
  {
   "cell_type": "code",
   "execution_count": 18,
   "metadata": {},
   "outputs": [],
   "source": [
    "# Create three variables and assign references to each of the given literal values\n",
    "name = \"John Smith\"\n",
    "id_num = 42\n",
    "avg = 3.45"
   ]
  },
  {
   "cell_type": "markdown",
   "metadata": {},
   "source": [
    "#### Aliasing"
   ]
  },
  {
   "cell_type": "code",
   "execution_count": 19,
   "metadata": {},
   "outputs": [],
   "source": [
    "# These variables point to the same data in memory as the previous variables\n",
    "another_name = name\n",
    "another_id = id_num\n",
    "another_avg = avg"
   ]
  },
  {
   "cell_type": "markdown",
   "metadata": {},
   "source": [
    "#### Null Reference"
   ]
  },
  {
   "cell_type": "markdown",
   "metadata": {},
   "source": [
    "- The special object `None` is used to set a null reference"
   ]
  },
  {
   "cell_type": "code",
   "execution_count": 20,
   "metadata": {},
   "outputs": [],
   "source": [
    "# When a variable points to None, it has a Null Reference\n",
    "grade = None"
   ]
  },
  {
   "cell_type": "markdown",
   "metadata": {},
   "source": [
    "#### Constants"
   ]
  },
  {
   "cell_type": "markdown",
   "metadata": {},
   "source": [
    "- **Python does not support real constants**\n",
    "- Instead, it is common practice to specify prseudo-constant variables with all capital letters\n",
    "  - But in reality, they are still variables and their values can be changed\n",
    "  - There is no way to enforce the concept of a constant and keep its value from being changed"
   ]
  },
  {
   "cell_type": "code",
   "execution_count": 21,
   "metadata": {},
   "outputs": [],
   "source": [
    "TAX_RATE = 0.06\n",
    "MAX_SIZE = 100"
   ]
  },
  {
   "cell_type": "markdown",
   "metadata": {},
   "source": [
    "### Arithmetic Operations and Compound Operators"
   ]
  },
  {
   "cell_type": "code",
   "execution_count": 22,
   "metadata": {},
   "outputs": [
    {
     "name": "stdout",
     "output_type": "stream",
     "text": [
      "2\n"
     ]
    }
   ],
   "source": [
    "x = 2\n",
    "print(x)"
   ]
  },
  {
   "cell_type": "code",
   "execution_count": 23,
   "metadata": {},
   "outputs": [
    {
     "name": "stdout",
     "output_type": "stream",
     "text": [
      "4\n"
     ]
    }
   ],
   "source": [
    "# Addition\n",
    "1 + 1\n",
    "x = 2\n",
    "x += 2\n",
    "print(x)"
   ]
  },
  {
   "cell_type": "code",
   "execution_count": 24,
   "metadata": {},
   "outputs": [
    {
     "name": "stdout",
     "output_type": "stream",
     "text": [
      "1\n"
     ]
    }
   ],
   "source": [
    "# Subtraction\n",
    "2 - 1\n",
    "x = 2\n",
    "x -= 1\n",
    "print(x)"
   ]
  },
  {
   "cell_type": "code",
   "execution_count": 25,
   "metadata": {},
   "outputs": [
    {
     "name": "stdout",
     "output_type": "stream",
     "text": [
      "6\n"
     ]
    }
   ],
   "source": [
    "# Multiplication\n",
    "123 * 455\n",
    "x = 2\n",
    "x *= 3\n",
    "print(x)"
   ]
  },
  {
   "cell_type": "code",
   "execution_count": 26,
   "metadata": {},
   "outputs": [
    {
     "name": "stdout",
     "output_type": "stream",
     "text": [
      "0.6666666666666666\n"
     ]
    }
   ],
   "source": [
    "# Division (Default division for Python3)\n",
    "123 / 456\n",
    "x = 2\n",
    "x /= 3\n",
    "print(x)"
   ]
  },
  {
   "cell_type": "code",
   "execution_count": 27,
   "metadata": {},
   "outputs": [
    {
     "name": "stdout",
     "output_type": "stream",
     "text": [
      "0\n"
     ]
    }
   ],
   "source": [
    "# Floor Division: Round the result to an integer\n",
    "123 // 456\n",
    "x = 2\n",
    "x //= 3\n",
    "print(x)"
   ]
  },
  {
   "cell_type": "code",
   "execution_count": 28,
   "metadata": {},
   "outputs": [
    {
     "name": "stdout",
     "output_type": "stream",
     "text": [
      "0\n"
     ]
    }
   ],
   "source": [
    "# Modulo\n",
    "4 % 2\n",
    "x = 2\n",
    "x %= 2\n",
    "print(x)"
   ]
  },
  {
   "cell_type": "code",
   "execution_count": 29,
   "metadata": {},
   "outputs": [
    {
     "name": "stdout",
     "output_type": "stream",
     "text": [
      "8\n"
     ]
    }
   ],
   "source": [
    "# Power\n",
    "2**3\n",
    "x = 2\n",
    "x **= 3\n",
    "print(x)"
   ]
  },
  {
   "cell_type": "markdown",
   "metadata": {},
   "source": [
    "*Special care must be taken when using the power operator with negative literal values.*"
   ]
  },
  {
   "cell_type": "markdown",
   "metadata": {},
   "source": [
    "### Logical Operations"
   ]
  },
  {
   "cell_type": "markdown",
   "metadata": {},
   "source": [
    "- The logical operators are evaluated from left to right based on their order of precedence"
   ]
  },
  {
   "cell_type": "markdown",
   "metadata": {},
   "source": [
    "#### Relational Operators"
   ]
  },
  {
   "cell_type": "code",
   "execution_count": 30,
   "metadata": {},
   "outputs": [],
   "source": [
    "avg = 70 # Assignment"
   ]
  },
  {
   "cell_type": "code",
   "execution_count": 31,
   "metadata": {},
   "outputs": [
    {
     "data": {
      "text/plain": [
       "True"
      ]
     },
     "execution_count": 31,
     "metadata": {},
     "output_type": "execute_result"
    }
   ],
   "source": [
    "avg == 70 # Equality"
   ]
  },
  {
   "cell_type": "code",
   "execution_count": 32,
   "metadata": {},
   "outputs": [
    {
     "data": {
      "text/plain": [
       "True"
      ]
     },
     "execution_count": 32,
     "metadata": {},
     "output_type": "execute_result"
    }
   ],
   "source": [
    "avg > 69 # Greater Than"
   ]
  },
  {
   "cell_type": "code",
   "execution_count": 33,
   "metadata": {},
   "outputs": [
    {
     "data": {
      "text/plain": [
       "False"
      ]
     },
     "execution_count": 33,
     "metadata": {},
     "output_type": "execute_result"
    }
   ],
   "source": [
    "avg < 60 # Less Than"
   ]
  },
  {
   "cell_type": "code",
   "execution_count": 34,
   "metadata": {},
   "outputs": [
    {
     "data": {
      "text/plain": [
       "True"
      ]
     },
     "execution_count": 34,
     "metadata": {},
     "output_type": "execute_result"
    }
   ],
   "source": [
    "avg >= 70 # Greater or Equal"
   ]
  },
  {
   "cell_type": "code",
   "execution_count": 35,
   "metadata": {},
   "outputs": [
    {
     "data": {
      "text/plain": [
       "True"
      ]
     },
     "execution_count": 35,
     "metadata": {},
     "output_type": "execute_result"
    }
   ],
   "source": [
    "avg <= 70 # Less or Equal"
   ]
  },
  {
   "cell_type": "code",
   "execution_count": 36,
   "metadata": {},
   "outputs": [
    {
     "data": {
      "text/plain": [
       "False"
      ]
     },
     "execution_count": 36,
     "metadata": {},
     "output_type": "execute_result"
    }
   ],
   "source": [
    "# Strings are compared lexicographically, character by character from left to right\n",
    "'Hello' == 'hello'"
   ]
  },
  {
   "cell_type": "code",
   "execution_count": 37,
   "metadata": {},
   "outputs": [
    {
     "data": {
      "text/plain": [
       "True"
      ]
     },
     "execution_count": 37,
     "metadata": {},
     "output_type": "execute_result"
    }
   ],
   "source": [
    "name != avg # Not equal"
   ]
  },
  {
   "cell_type": "markdown",
   "metadata": {},
   "source": [
    "#### Boolean Operators"
   ]
  },
  {
   "cell_type": "code",
   "execution_count": 38,
   "metadata": {},
   "outputs": [
    {
     "data": {
      "text/plain": [
       "True"
      ]
     },
     "execution_count": 38,
     "metadata": {},
     "output_type": "execute_result"
    }
   ],
   "source": [
    "# and\n",
    "avg >= 60 and avg <= 70"
   ]
  },
  {
   "cell_type": "code",
   "execution_count": 39,
   "metadata": {},
   "outputs": [
    {
     "data": {
      "text/plain": [
       "True"
      ]
     },
     "execution_count": 39,
     "metadata": {},
     "output_type": "execute_result"
    }
   ],
   "source": [
    "# or\n",
    "avg >= 60 or avg <= 10"
   ]
  },
  {
   "cell_type": "code",
   "execution_count": 40,
   "metadata": {},
   "outputs": [
    {
     "data": {
      "text/plain": [
       "False"
      ]
     },
     "execution_count": 40,
     "metadata": {},
     "output_type": "execute_result"
    }
   ],
   "source": [
    "# not\n",
    "not (avg >= 60 and avg <= 70)"
   ]
  },
  {
   "cell_type": "markdown",
   "metadata": {},
   "source": [
    "#### Object References"
   ]
  },
  {
   "cell_type": "code",
   "execution_count": 41,
   "metadata": {},
   "outputs": [
    {
     "data": {
      "text/plain": [
       "False"
      ]
     },
     "execution_count": 41,
     "metadata": {},
     "output_type": "execute_result"
    }
   ],
   "source": [
    "# Comparing References: Pointer in memory\n",
    "name_1 = \"Smith\"\n",
    "name_2 = \"Jones\"\n",
    "name_1 is name_2"
   ]
  },
  {
   "cell_type": "code",
   "execution_count": 42,
   "metadata": {},
   "outputs": [
    {
     "data": {
      "text/plain": [
       "True"
      ]
     },
     "execution_count": 42,
     "metadata": {},
     "output_type": "execute_result"
    }
   ],
   "source": [
    "name_1 is not name_2 # Same as: not (name_1 is name_2)"
   ]
  },
  {
   "cell_type": "code",
   "execution_count": 43,
   "metadata": {},
   "outputs": [
    {
     "data": {
      "text/plain": [
       "True"
      ]
     },
     "execution_count": 43,
     "metadata": {},
     "output_type": "execute_result"
    }
   ],
   "source": [
    "name_2 = name_1 # Making the same reference (point to the same memory location): Aliases\n",
    "name_1 is name_2"
   ]
  },
  {
   "cell_type": "code",
   "execution_count": 44,
   "metadata": {},
   "outputs": [
    {
     "data": {
      "text/plain": [
       "False"
      ]
     },
     "execution_count": 44,
     "metadata": {},
     "output_type": "execute_result"
    }
   ],
   "source": [
    "name_1 is not name_2 # Same as: not (name_1 is name_2)"
   ]
  },
  {
   "cell_type": "code",
   "execution_count": 45,
   "metadata": {},
   "outputs": [
    {
     "data": {
      "text/plain": [
       "False"
      ]
     },
     "execution_count": 45,
     "metadata": {},
     "output_type": "execute_result"
    }
   ],
   "source": [
    "# Testing for None value\n",
    "name_1 is None"
   ]
  },
  {
   "cell_type": "code",
   "execution_count": 46,
   "metadata": {},
   "outputs": [
    {
     "data": {
      "text/plain": [
       "False"
      ]
     },
     "execution_count": 46,
     "metadata": {},
     "output_type": "execute_result"
    }
   ],
   "source": [
    "# Testing for None value\n",
    "name_1 = None\n",
    "name_1 is not None"
   ]
  },
  {
   "cell_type": "markdown",
   "metadata": {},
   "source": [
    "### Order of Precendence"
   ]
  },
  {
   "cell_type": "markdown",
   "metadata": {},
   "source": [
    "From highest precedence to lowest:\n",
    "\n",
    "```\n",
    "()                            Parentheses (grouping)\n",
    "f(args...)                    Function call\n",
    "x[index:index]                Slicing\n",
    "x[index]                      Subscription\n",
    "x.attribute                   Attribute reference\n",
    "**                            Exponentiation\n",
    "~x                            Bitwise Not\n",
    "+x, -x                        Positive, Negative\n",
    "*, /, %                       Multiplication, division, remainder\n",
    "+, -                          Addition, subtraction\n",
    "<<, >>                        Bitwise shifts\n",
    "&                             Bitwise AND\n",
    "^                             Bitwise XOR\n",
    "|                             Bitwise OR\n",
    "in, not in, \n",
    "is, is not,                   Comparisons, membership, identity\n",
    "<, <=, >, >=, <>, !=, ==\n",
    "not x                         Boolean NOT\n",
    "and                           Boolean AND\n",
    "or                            Boolean OR\n",
    "lambda                        Lambda expression\n",
    "```"
   ]
  },
  {
   "cell_type": "markdown",
   "metadata": {},
   "source": [
    "### Functions and Methods"
   ]
  },
  {
   "cell_type": "code",
   "execution_count": 47,
   "metadata": {},
   "outputs": [
    {
     "name": "stdout",
     "output_type": "stream",
     "text": [
      "abs(-12): 12\n"
     ]
    }
   ],
   "source": [
    "# Function call\n",
    "x = -12\n",
    "y = abs(x) # Absolute Value\n",
    "print(\"abs(-12):\", y)"
   ]
  },
  {
   "cell_type": "code",
   "execution_count": 48,
   "metadata": {},
   "outputs": [
    {
     "name": "stdout",
     "output_type": "stream",
     "text": [
      "int_str: 45\n",
      "float_str: 56.89\n",
      "bool_str: False\n"
     ]
    }
   ],
   "source": [
    "# All values in Python are stored in objects that are created or instantiated from classes\n",
    "# str() constructor can also be used to create string representations of other data types\n",
    "int_str = str(45) # \"45\"\n",
    "float_str = str(56.89) # \"56.89\"\n",
    "bool_str = str(False) # \"False\"\n",
    "\n",
    "print(\"int_str:\", int_str)\n",
    "print(\"float_str:\", float_str)\n",
    "print(\"bool_str:\", bool_str)"
   ]
  },
  {
   "cell_type": "code",
   "execution_count": 49,
   "metadata": {},
   "outputs": [
    {
     "name": "stdout",
     "output_type": "stream",
     "text": [
      "name_lower: jane green\n",
      "name_upper: JANE GREEN\n"
     ]
    }
   ],
   "source": [
    "# Applying methods on objects\n",
    "name = \"Jane Green\"\n",
    "name_lower = name.lower()\n",
    "name_upper = name.upper()\n",
    "\n",
    "print(\"name_lower:\", name_lower)\n",
    "print(\"name_upper:\", name_upper)"
   ]
  },
  {
   "cell_type": "markdown",
   "metadata": {},
   "source": [
    "### Standard Library"
   ]
  },
  {
   "cell_type": "markdown",
   "metadata": {},
   "source": [
    "- Built-in Types\n",
    "- Built-in Functions\n",
    "- Class Definitions\n",
    "- Modules"
   ]
  },
  {
   "cell_type": "markdown",
   "metadata": {},
   "source": [
    "#### Import Statements"
   ]
  },
  {
   "cell_type": "code",
   "execution_count": 50,
   "metadata": {},
   "outputs": [
    {
     "name": "stdout",
     "output_type": "stream",
     "text": [
      "sqrt(5): 2.23606797749979\n"
     ]
    }
   ],
   "source": [
    "# General Import: Import all functions from a module\n",
    "from math import *\n",
    "\n",
    "print(\"sqrt(5):\", sqrt(5))"
   ]
  },
  {
   "cell_type": "code",
   "execution_count": 51,
   "metadata": {},
   "outputs": [
    {
     "name": "stdout",
     "output_type": "stream",
     "text": [
      "sqrt(5): 2.23606797749979\n"
     ]
    }
   ],
   "source": [
    "# Specific Import: Import only a specific function from a module\n",
    "from math import sqrt\n",
    "\n",
    "print(\"sqrt(5):\", sqrt(5))"
   ]
  },
  {
   "cell_type": "code",
   "execution_count": 52,
   "metadata": {},
   "outputs": [
    {
     "name": "stdout",
     "output_type": "stream",
     "text": [
      "sqrt(5): 2.23606797749979\n"
     ]
    }
   ],
   "source": [
    "# Namespace Import: Import the whole module as an alias\n",
    "import math as mt\n",
    "\n",
    "print(\"sqrt(5):\", mt.sqrt(5))"
   ]
  },
  {
   "cell_type": "markdown",
   "metadata": {},
   "source": [
    "## User Interactions"
   ]
  },
  {
   "cell_type": "markdown",
   "metadata": {},
   "source": [
    "### Standard Input"
   ]
  },
  {
   "cell_type": "code",
   "execution_count": 53,
   "metadata": {},
   "outputs": [
    {
     "name": "stdout",
     "output_type": "stream",
     "text": [
      "What is your name? John Smith\n",
      "Your name is John Smith\n"
     ]
    }
   ],
   "source": [
    "# Grab textual input from user\n",
    "user_name = input(\"What is your name? \")\n",
    "print(\"Your name is\", user_name)"
   ]
  },
  {
   "cell_type": "code",
   "execution_count": 54,
   "metadata": {},
   "outputs": [
    {
     "name": "stdout",
     "output_type": "stream",
     "text": [
      "What is your gpa? 3.8\n",
      "Your gpa is 3.8\n"
     ]
    }
   ],
   "source": [
    "# Grab textual input from user\n",
    "user_input = input(\"What is your gpa? \")\n",
    "gpa = float(user_input)\n",
    "print(\"Your gpa is\", gpa)"
   ]
  },
  {
   "cell_type": "markdown",
   "metadata": {},
   "source": [
    "### Standard Output"
   ]
  },
  {
   "cell_type": "code",
   "execution_count": 55,
   "metadata": {},
   "outputs": [
    {
     "name": "stdout",
     "output_type": "stream",
     "text": [
      "Hello World!!\n"
     ]
    }
   ],
   "source": [
    "# Print to Standard Output\n",
    "print(\"Hello World!!\")"
   ]
  },
  {
   "cell_type": "code",
   "execution_count": 56,
   "metadata": {},
   "outputs": [
    {
     "name": "stdout",
     "output_type": "stream",
     "text": [
      "Your average is\n",
      "13.666666666666666\n"
     ]
    }
   ],
   "source": [
    "# Print() only outputs strings\n",
    "avg = (10 + 15 + 16) / 3.0\n",
    "\n",
    "print(\"Your average is\")\n",
    "print(avg)"
   ]
  },
  {
   "cell_type": "code",
   "execution_count": 57,
   "metadata": {},
   "outputs": [
    {
     "name": "stdout",
     "output_type": "stream",
     "text": [
      "Your average is 13.666666666666666\n"
     ]
    }
   ],
   "source": [
    "# Multiple arguments\n",
    "print(\"Your average is\", avg)"
   ]
  },
  {
   "cell_type": "code",
   "execution_count": 58,
   "metadata": {},
   "outputs": [
    {
     "name": "stdout",
     "output_type": "stream",
     "text": [
      "Your average is 13.666666666666666\n"
     ]
    }
   ],
   "source": [
    "# Changing ending: Default = Line feed \\n\n",
    "print(\"Your average is\", end = ' ')\n",
    "print(avg)"
   ]
  },
  {
   "cell_type": "markdown",
   "metadata": {},
   "source": [
    "#### Escape Sequences"
   ]
  },
  {
   "cell_type": "markdown",
   "metadata": {},
   "source": [
    "- `\\\\` Backslash (`\\`) \n",
    "- `\\n` Newline / Newfeed\n",
    "- `\\\"` Double quote (`\"`)\n",
    "- `\\'` Single quote (`'`)\n",
    "- `\\t` Tab\n",
    "- `\\r` Carriage Return"
   ]
  },
  {
   "cell_type": "markdown",
   "metadata": {},
   "source": [
    "#### Formatted Output"
   ]
  },
  {
   "cell_type": "code",
   "execution_count": 59,
   "metadata": {},
   "outputs": [
    {
     "name": "stdout",
     "output_type": "stream",
     "text": [
      "Your average is 13.67\n"
     ]
    }
   ],
   "source": [
    "# Modulo Operator Overloading\n",
    "print(\"Your average is %5.2f\" % avg)"
   ]
  },
  {
   "cell_type": "code",
   "execution_count": 60,
   "metadata": {},
   "outputs": [
    {
     "name": "stdout",
     "output_type": "stream",
     "text": [
      "His name is John and his age is 43\n"
     ]
    }
   ],
   "source": [
    "name = \"John\"\n",
    "age = 43\n",
    "print(\"His name is %s and his age is %s\" % (name, age))"
   ]
  },
  {
   "cell_type": "code",
   "execution_count": 61,
   "metadata": {},
   "outputs": [
    {
     "name": "stdout",
     "output_type": "stream",
     "text": [
      "His name is John and his age is 43\n"
     ]
    }
   ],
   "source": [
    "# We can also make use of the str.format() method\n",
    "name = \"John\"\n",
    "age = 43\n",
    "print(\"His name is {name} and his age is {age}\".format(name=name, age=age))"
   ]
  },
  {
   "cell_type": "code",
   "execution_count": 62,
   "metadata": {},
   "outputs": [
    {
     "name": "stdout",
     "output_type": "stream",
     "text": [
      "His name is John and his age is 43\n"
     ]
    }
   ],
   "source": [
    "# We can also make use of string interpolation\n",
    "name = \"John\"\n",
    "age = 43\n",
    "print(f\"His name is {name} and his age is {age}\")"
   ]
  },
  {
   "cell_type": "code",
   "execution_count": 63,
   "metadata": {},
   "outputs": [
    {
     "name": "stdout",
     "output_type": "stream",
     "text": [
      "His name is John and his age is 43\n"
     ]
    }
   ],
   "source": [
    "# We can also make use of basic concatenation\n",
    "name = \"John\"\n",
    "age = 43\n",
    "print(\"His name is \" + str(name) + \" and his age is \" + str(age))"
   ]
  },
  {
   "cell_type": "markdown",
   "metadata": {},
   "source": [
    "General Format: `%[flags][width][.precision]code`"
   ]
  },
  {
   "cell_type": "markdown",
   "metadata": {},
   "source": [
    "- `flags` indicates zero fills or optional justification and is one of the following:\n",
    "  - `0` -- Fill preceding blank spaces within the field with zeroes.\n",
    "  - `+` -- Right-justify the value within the field.\n",
    "  - `-` -- Left-justify the value within the field.\n",
    "- `width` is an integer value indicating the number of spaces in the field used when formatting the replacement value\n",
    "- `precision` is the number of digits to be printed after the decimal place when printing a floating-point value\n",
    "- `code` indicates the type of data that is to replace the field specifier. It can be one of the following:\n",
    "  - `%s` String\n",
    "  - `%d` Decimal or integer \n",
    "  - `%i` Same as `%d`\n",
    "  - `%f` Floating-point\n",
    "  - `%c` Character\n",
    "  - `%u` Unsigned integer\n",
    "  - `%o` Octal integer\n",
    "  - `%x` Hexadecimal integer\n",
    "  - `%X` Same as `%x` but uppercase\n",
    "  - `%e` Scientific notation\n",
    "  - `%E` Uppercase version of `%e`\n",
    "  - `%g` Same as `%e`\n",
    "  - `%G` Uppercase version of `%g`\n",
    "  - `%%` Prints a literal `%`"
   ]
  },
  {
   "cell_type": "markdown",
   "metadata": {},
   "source": [
    "## Control Structures"
   ]
  },
  {
   "cell_type": "markdown",
   "metadata": {},
   "source": [
    "### Selection Constructs (Conditioning)"
   ]
  },
  {
   "cell_type": "code",
   "execution_count": 64,
   "metadata": {},
   "outputs": [
    {
     "name": "stdout",
     "output_type": "stream",
     "text": [
      "1.00 is less than 5\n"
     ]
    }
   ],
   "source": [
    "# Simple if-statement\n",
    "x = 1\n",
    "if x < 5:\n",
    "    print(f'{x:0.2f} is less than 5')"
   ]
  },
  {
   "cell_type": "code",
   "execution_count": 65,
   "metadata": {},
   "outputs": [
    {
     "name": "stdout",
     "output_type": "stream",
     "text": [
      "1.00 is positive\n"
     ]
    }
   ],
   "source": [
    "# If-Else\n",
    "x = 1\n",
    "if x < 0:\n",
    "    print(\"{:0.2f} is negative\".format(x))\n",
    "else:\n",
    "    print(\"{:0.2f} is positive\".format(x))"
   ]
  },
  {
   "cell_type": "code",
   "execution_count": 66,
   "metadata": {},
   "outputs": [
    {
     "name": "stdout",
     "output_type": "stream",
     "text": [
      "smallest is 0\n"
     ]
    }
   ],
   "source": [
    "# Nested-If\n",
    "num_1 = 3\n",
    "num_2 = 4\n",
    "num_3 = 0\n",
    "\n",
    "if num_1 < num_2:\n",
    "    if num_1 < num_3:\n",
    "        smallest = num_1\n",
    "    else:\n",
    "        smallest = num_3\n",
    "else:\n",
    "    if num_2 < num_3:\n",
    "        smallest = num_2\n",
    "    else:\n",
    "        smallest = num_3\n",
    "\n",
    "print('smallest is {}'.format(smallest))"
   ]
  },
  {
   "cell_type": "code",
   "execution_count": 67,
   "metadata": {},
   "outputs": [
    {
     "name": "stdout",
     "output_type": "stream",
     "text": [
      "B\n"
     ]
    }
   ],
   "source": [
    "# Multiway branching\n",
    "avg_grade = 87\n",
    "\n",
    "if avg_grade >= 90.0:\n",
    "    letter_grade = \"A\"\n",
    "elif avg_grade >= 80.0:\n",
    "    letter_grade = \"B\"\n",
    "elif avg_grade >= 70.0:\n",
    "    letter_grade = \"C\"\n",
    "elif avg_grade >= 60.0:\n",
    "    letter_grade = \"D\"\n",
    "else:\n",
    "    letter_grade = \"F\"\n",
    "    \n",
    "print(letter_grade)"
   ]
  },
  {
   "cell_type": "code",
   "execution_count": 68,
   "metadata": {},
   "outputs": [
    {
     "name": "stdout",
     "output_type": "stream",
     "text": [
      "-1 is negative\n"
     ]
    }
   ],
   "source": [
    "# Python Conditional Shortcut\n",
    "x = -1\n",
    "print(f\"{x} is negative\") if x < 0 else print(\"f{x} is positive\")"
   ]
  },
  {
   "cell_type": "markdown",
   "metadata": {},
   "source": [
    "### Structural Pattern Matching"
   ]
  },
  {
   "cell_type": "markdown",
   "metadata": {},
   "source": [
    "- `match case` statements is Python's version to mimic `switch-case` statement\n",
    "- Also adds additional powerful features alngside\n",
    "- **NOTE: This is only available starting with Python v3.10**"
   ]
  },
  {
   "cell_type": "markdown",
   "metadata": {},
   "source": [
    "```python\n",
    "def which_day(day):\n",
    "    match day:\n",
    "        case \"Monday\":\n",
    "            return \"Here we go again...\"\n",
    "        case \"Friday\":\n",
    "            return \"Happy Friday!\"\n",
    "        case \"Saturday\"|\"Sunday\": # Multiple literals can be combined with \"|\"\n",
    "            return \"It's the weekend!\"\n",
    "        case _: # Optional default. If not defined, return None when no case match\n",
    "            return \"Just another day\"\n",
    " \n",
    "# Testing\n",
    "which_day(\"Saturday\")\n",
    "```"
   ]
  },
  {
   "cell_type": "markdown",
   "metadata": {},
   "source": [
    "- We can also match complex patterns\n",
    "- `_` wildcard can also be used inside the complex patterns"
   ]
  },
  {
   "cell_type": "markdown",
   "metadata": {},
   "source": [
    "```python\n",
    "def which_person(person): # person = (name, gender, age)\n",
    "    match person:\n",
    "        case (name, \"male\", age):\n",
    "            print(f\"{name} is a {age} years old man\")\n",
    "        case (name, \"female\", age):\n",
    "            print(f\"{name} is a {age} year old woman\")\n",
    "        case (name, _, age):\n",
    "            print(f\"{name} is {age} years old\")\n",
    "            \n",
    "# Calling\n",
    "pers = (\"John\", \"male\", 25)\n",
    "which_person(pers) # => John is a 25 years old man\n",
    "\n",
    "pers = (\"Mary\", \"female\", 20)\n",
    "which_person(pers) # => Mary is a 20 year old woman\n",
    "\n",
    "pers = (\"Eric\", None, 30)\n",
    "which_person(pers) # => Eric is 30 years old\n",
    "```"
   ]
  },
  {
   "cell_type": "markdown",
   "metadata": {},
   "source": [
    "- We are not limited to simple data structures\n",
    "  - Here, we match against class attributes with patterns that resemble class constructor\n",
    "  - When using this approach, individual attributes get captured into variables"
   ]
  },
  {
   "cell_type": "markdown",
   "metadata": {},
   "source": [
    "```python\n",
    "from dataclasses import dataclass\n",
    "\n",
    "@dataclass\n",
    "class Person:\n",
    "    name: str\n",
    "    age: int\n",
    "    gender: str\n",
    "\n",
    "def which_person(person):\n",
    "    match person:\n",
    "        # This is not a constructor-call but a pattern matching the used constructor\n",
    "        # + Additional conditions to guard for extra filtering\n",
    "        case Person(name, age, gender) if age < 18: \n",
    "            print(f\"{name} is a child\")\n",
    "        # Wildcard (\"throw-away\" variable) can be used\n",
    "        case Person(name=name, age=_, gender=\"male\"):\n",
    "            print(f\"{name} is a man and is {age} years old\")\n",
    "        case Person(name=name, age=_, gender=\"female\"):\n",
    "            print(f\"{name} is a woman and is {age} years old\")\n",
    "        case Person(name, age, gender):\n",
    "            print(f\"{name} is a {gender} and is {age} years old\")\n",
    "```"
   ]
  },
  {
   "cell_type": "markdown",
   "metadata": {},
   "source": [
    "- We can also use *Nested Patterns*, which can use iterables"
   ]
  },
  {
   "cell_type": "markdown",
   "metadata": {},
   "source": [
    "```python\n",
    "from dataclasses import dataclass\n",
    "\n",
    "@dataclass\n",
    "class Person:\n",
    "    name: str\n",
    "    age: int\n",
    "    gender: str\n",
    "\n",
    "users = [\n",
    "    Person(\"John\", \"male\", 25),\n",
    "    Person(\"Mary\", \"female\", 20),\n",
    "    Person(\"Eric\", None, 30)\n",
    "]\n",
    "\n",
    "match users:\n",
    "    # We are matching a list of Persons\n",
    "    case [Person()]:\n",
    "        print(\"One user provided\")\n",
    "    # Capture subpattern into variables for futher processing: `as var`\n",
    "    case [Person(), Person() as second]:\n",
    "        print(f\"There is another user: {second}\")\n",
    "    # *var operator can be used to \"unpack\" variables in the pattern\n",
    "    case [*rest]:\n",
    "        count = len(rest) \n",
    "        print(f\"We have a lot of users... Precisely {count} users\")\n",
    "```"
   ]
  },
  {
   "cell_type": "markdown",
   "metadata": {},
   "source": [
    "### Repetition Constructs"
   ]
  },
  {
   "cell_type": "markdown",
   "metadata": {},
   "source": [
    "#### While Loop"
   ]
  },
  {
   "cell_type": "markdown",
   "metadata": {},
   "source": [
    "- Event-Controlled Loop\n",
    "- Executed until an event or a sentinel value happens"
   ]
  },
  {
   "cell_type": "code",
   "execution_count": 69,
   "metadata": {},
   "outputs": [
    {
     "name": "stdout",
     "output_type": "stream",
     "text": [
      "The sum = 5050\n"
     ]
    }
   ],
   "source": [
    "num_sum = 0\n",
    "\n",
    "# Initialization\n",
    "i = 1\n",
    "\n",
    "# Condition\n",
    "while i <= 100:\n",
    "    num_sum += i # Action\n",
    "    i += 1 # Modification\n",
    "\n",
    "print( \"The sum =\", num_sum )"
   ]
  },
  {
   "cell_type": "code",
   "execution_count": 70,
   "metadata": {},
   "outputs": [
    {
     "name": "stdout",
     "output_type": "stream",
     "text": [
      "Enter the first grade: 90\n",
      "Enter the next grade (or < 0 to finalize): 91\n",
      "Enter the next grade (or < 0 to finalize): 92\n",
      "Enter the next grade (or < 0 to finalize): 93\n",
      "Enter the next grade (or < 0 to finalize): -1\n",
      "The average grade is 91.50\n"
     ]
    }
   ],
   "source": [
    "total = 0\n",
    "count = 0\n",
    "value = int(input(\"Enter the first grade: \"))\n",
    "\n",
    "while value >= 0:\n",
    "    total += value\n",
    "    count += 1\n",
    "    value = int( input(\"Enter the next grade (or < 0 to finalize): \") )\n",
    "    \n",
    "avg = total / count\n",
    "print(\"The average grade is %4.2f\" % avg)"
   ]
  },
  {
   "cell_type": "markdown",
   "metadata": {},
   "source": [
    "- `break` allows to break out of a loop\n",
    "- `continue` allows to skip an iteration and go to the next iteration"
   ]
  },
  {
   "cell_type": "markdown",
   "metadata": {},
   "source": [
    "#### For Loop"
   ]
  },
  {
   "cell_type": "markdown",
   "metadata": {},
   "source": [
    "- Count-controlled Loop\n",
    "- Executed until a pre-known count is reached"
   ]
  },
  {
   "cell_type": "code",
   "execution_count": 71,
   "metadata": {},
   "outputs": [
    {
     "name": "stdout",
     "output_type": "stream",
     "text": [
      "The string contained 2 uppercase characters\n"
     ]
    }
   ],
   "source": [
    "# It is better to read `for` as `foreach`\n",
    "count = 0\n",
    "the_string = 'Hello World!'\n",
    "\n",
    "for letter in the_string:\n",
    "    if letter >= \"A\" and letter <= \"Z\":\n",
    "        count += 1\n",
    "\n",
    "print(\"The string contained {:d} uppercase characters\".format(count))"
   ]
  },
  {
   "cell_type": "markdown",
   "metadata": {},
   "source": [
    "#### Issue With IEEE 754"
   ]
  },
  {
   "cell_type": "code",
   "execution_count": 72,
   "metadata": {},
   "outputs": [
    {
     "name": "stdout",
     "output_type": "stream",
     "text": [
      "Temperature is normal\n",
      "Temperature is normal\n",
      "Temperature is normal\n",
      "Temperature is normal\n",
      "Temperature is normal\n",
      "Temperature is normal\n",
      "Temperature is normal\n",
      "Temperature is normal\n",
      "Temperature is normal\n",
      "Temperature is normal\n",
      "Temperature is normal\n",
      "Temperature is normal\n",
      "Temperature is normal\n",
      "Temperature is normal\n",
      "Temperature is normal\n",
      "Temperature is normal\n",
      "Temperature is normal\n",
      "Temperature is normal\n",
      "Temperature is normal\n",
      "Temperature is normal\n"
     ]
    }
   ],
   "source": [
    "# This snippet shows that Float-Comparison in Python is not appropriate\n",
    "temperature = 100.0\n",
    "i = 0\n",
    "\n",
    "while i < 20:\n",
    "    temperature += 0.1\n",
    "    i += 1\n",
    "    if temperature == 101.0 : # Should break after 10 iterations, but will never return True due to IEEE754 bug\n",
    "        print(\"Overheating! Abort mission!\")\n",
    "        break\n",
    "    else :\n",
    "        print(\"Temperature is normal\")"
   ]
  },
  {
   "cell_type": "markdown",
   "metadata": {},
   "source": [
    "#### `range()`\n",
    "- Useful to define a range of numbers to work with `for`"
   ]
  },
  {
   "cell_type": "code",
   "execution_count": 73,
   "metadata": {},
   "outputs": [
    {
     "name": "stdout",
     "output_type": "stream",
     "text": [
      "0 5 10 15 20 25 30 "
     ]
    }
   ],
   "source": [
    "# Third argument indicates the step amount; default is 1.\n",
    "for i in range(0, 31, 5):\n",
    "    print(i, end=\" \")"
   ]
  },
  {
   "cell_type": "code",
   "execution_count": 74,
   "metadata": {},
   "outputs": [
    {
     "name": "stdout",
     "output_type": "stream",
     "text": [
      "30 25 20 15 10 5 "
     ]
    }
   ],
   "source": [
    "# We can decrement through the range of values.\n",
    "for i in range(30, 0, -5):\n",
    "    print(i, end=\" \")"
   ]
  },
  {
   "cell_type": "code",
   "execution_count": 75,
   "metadata": {},
   "outputs": [
    {
     "name": "stdout",
     "output_type": "stream",
     "text": [
      "0 1 2 3 4 "
     ]
    }
   ],
   "source": [
    "# A single argument will iterate through the range, starting at 0.\n",
    "for i in range(5):\n",
    "    print(i, end=\" \")"
   ]
  },
  {
   "cell_type": "markdown",
   "metadata": {},
   "source": [
    "## Collections"
   ]
  },
  {
   "cell_type": "markdown",
   "metadata": {},
   "source": [
    "### Strings"
   ]
  },
  {
   "cell_type": "markdown",
   "metadata": {},
   "source": [
    "- Immutable objects of the built-in `str` class"
   ]
  },
  {
   "cell_type": "markdown",
   "metadata": {},
   "source": [
    "#### String Concatenation"
   ]
  },
  {
   "cell_type": "code",
   "execution_count": 76,
   "metadata": {},
   "outputs": [
    {
     "name": "stdout",
     "output_type": "stream",
     "text": [
      "This is a string\n"
     ]
    }
   ],
   "source": [
    "str_var = \"This is \"\n",
    "str_var = str_var + \"a string\"\n",
    "\n",
    "print(str_var)"
   ]
  },
  {
   "cell_type": "code",
   "execution_count": 77,
   "metadata": {},
   "outputs": [
    {
     "name": "stdout",
     "output_type": "stream",
     "text": [
      "I am 20 years old\n"
     ]
    }
   ],
   "source": [
    "# Other data types must be explicitly converted to string before concatenation\n",
    "my_age = 20\n",
    "my_intro = \"I am \" + str(my_age) + \" years old\"\n",
    "\n",
    "print(my_intro)"
   ]
  },
  {
   "cell_type": "markdown",
   "metadata": {},
   "source": [
    "#### String Length"
   ]
  },
  {
   "cell_type": "code",
   "execution_count": 78,
   "metadata": {},
   "outputs": [
    {
     "name": "stdout",
     "output_type": "stream",
     "text": [
      "17\n"
     ]
    }
   ],
   "source": [
    "# Use len() to get the length of a string\n",
    "print(len(my_intro))"
   ]
  },
  {
   "cell_type": "markdown",
   "metadata": {},
   "source": [
    "#### String Indexing and Slicing"
   ]
  },
  {
   "cell_type": "markdown",
   "metadata": {},
   "source": [
    "- The index used must be within the valid range or an error will be thrown\n",
    "\n",
    "![string-indexing](../files/appendix_a/string-indexing.png)"
   ]
  },
  {
   "cell_type": "code",
   "execution_count": 79,
   "metadata": {},
   "outputs": [
    {
     "data": {
      "text/plain": [
       "'I'"
      ]
     },
     "execution_count": 79,
     "metadata": {},
     "output_type": "execute_result"
    }
   ],
   "source": [
    "my_intro[0]"
   ]
  },
  {
   "cell_type": "code",
   "execution_count": 80,
   "metadata": {},
   "outputs": [
    {
     "data": {
      "text/plain": [
       "'I am'"
      ]
     },
     "execution_count": 80,
     "metadata": {},
     "output_type": "execute_result"
    }
   ],
   "source": [
    "my_intro[0:4]"
   ]
  },
  {
   "cell_type": "code",
   "execution_count": 81,
   "metadata": {},
   "outputs": [
    {
     "data": {
      "text/plain": [
       "'dlo sraey 02 ma I'"
      ]
     },
     "execution_count": 81,
     "metadata": {},
     "output_type": "execute_result"
    }
   ],
   "source": [
    "my_intro[::-1]"
   ]
  },
  {
   "cell_type": "markdown",
   "metadata": {},
   "source": [
    "#### String Repeat"
   ]
  },
  {
   "cell_type": "code",
   "execution_count": 82,
   "metadata": {},
   "outputs": [
    {
     "name": "stdout",
     "output_type": "stream",
     "text": [
      "This Is A Title\n",
      "---------------\n",
      "And This Is Another Longer Title\n",
      "--------------------------------\n"
     ]
    }
   ],
   "source": [
    "title = 'this is a title'\n",
    "title2 = 'and this is another longer title'\n",
    "\n",
    "print(title.title())\n",
    "print('-' * len(title)) # Auto-repeat based on the length of the string\n",
    "\n",
    "print(title2.title())\n",
    "print('-' * len(title2)) # Auto-repeat based on the length of the string"
   ]
  },
  {
   "cell_type": "markdown",
   "metadata": {},
   "source": [
    "#### String Element Check"
   ]
  },
  {
   "cell_type": "markdown",
   "metadata": {},
   "source": [
    "- `in` and `not in` can be used to check if an element is in the string or not"
   ]
  },
  {
   "cell_type": "code",
   "execution_count": 83,
   "metadata": {},
   "outputs": [
    {
     "name": "stdout",
     "output_type": "stream",
     "text": [
      "is 'A' in vowels? True\n"
     ]
    }
   ],
   "source": [
    "vowels = \"AEIOUY\"\n",
    "print(\"is 'A' in vowels?\", 'A' in vowels)"
   ]
  },
  {
   "cell_type": "code",
   "execution_count": 84,
   "metadata": {},
   "outputs": [
    {
     "name": "stdout",
     "output_type": "stream",
     "text": [
      "is 'X' in vowels? False\n"
     ]
    }
   ],
   "source": [
    "print(\"is 'X' in vowels?\", 'X' in vowels)"
   ]
  },
  {
   "cell_type": "code",
   "execution_count": 85,
   "metadata": {},
   "outputs": [
    {
     "name": "stdout",
     "output_type": "stream",
     "text": [
      "is 'X' not in vowels? True\n"
     ]
    }
   ],
   "source": [
    "print(\"is 'X' not in vowels?\", 'X' not in vowels)"
   ]
  },
  {
   "cell_type": "markdown",
   "metadata": {},
   "source": [
    "### Lists"
   ]
  },
  {
   "cell_type": "markdown",
   "metadata": {},
   "source": [
    "- Ordered sequence of object references\n",
    "- Items accessed by subscript\n",
    "- Comma-separated values\n",
    "- By reference to another location in the memory"
   ]
  },
  {
   "cell_type": "code",
   "execution_count": 86,
   "metadata": {},
   "outputs": [],
   "source": [
    "grade_list = [ 85, 90, 87, 65, 91 ]\n",
    "list_A = []\n",
    "list_B = list()"
   ]
  },
  {
   "cell_type": "markdown",
   "metadata": {},
   "source": [
    "#### List Elements Access"
   ]
  },
  {
   "cell_type": "code",
   "execution_count": 87,
   "metadata": {},
   "outputs": [
    {
     "name": "stdout",
     "output_type": "stream",
     "text": [
      "85\n"
     ]
    }
   ],
   "source": [
    "print(grade_list[0])"
   ]
  },
  {
   "cell_type": "code",
   "execution_count": 88,
   "metadata": {},
   "outputs": [
    {
     "name": "stdout",
     "output_type": "stream",
     "text": [
      "91\n"
     ]
    }
   ],
   "source": [
    "print(grade_list[-1])"
   ]
  },
  {
   "cell_type": "code",
   "execution_count": 89,
   "metadata": {
    "scrolled": true
   },
   "outputs": [
    {
     "name": "stdout",
     "output_type": "stream",
     "text": [
      "85 90 87 65 91 "
     ]
    }
   ],
   "source": [
    "for grade in grade_list:\n",
    "    print(grade, end=\" \")"
   ]
  },
  {
   "cell_type": "markdown",
   "metadata": {},
   "source": [
    "#### List Modification"
   ]
  },
  {
   "cell_type": "markdown",
   "metadata": {},
   "source": [
    "##### `list.append(el)`"
   ]
  },
  {
   "cell_type": "code",
   "execution_count": 90,
   "metadata": {},
   "outputs": [
    {
     "name": "stdout",
     "output_type": "stream",
     "text": [
      "[9, 5, 9, 2, 14, 15, 8, 11, 12, 14, 0, 10, 3, 6, 11, 3, 1, 4, 14, 17]\n"
     ]
    }
   ],
   "source": [
    "from random import random\n",
    "\n",
    "value_list = []\n",
    "for i in range(20):\n",
    "    # Random integers between 0-20\n",
    "    rand = int(random() * 20)\n",
    "    # Appending to a list\n",
    "    value_list.append(rand)\n",
    "\n",
    "print(value_list)"
   ]
  },
  {
   "cell_type": "markdown",
   "metadata": {},
   "source": [
    "##### `list.extend(anotherList)`"
   ]
  },
  {
   "cell_type": "code",
   "execution_count": 91,
   "metadata": {},
   "outputs": [
    {
     "name": "stdout",
     "output_type": "stream",
     "text": [
      "[9, 5, 9, 2, 14, 15, 8, 11, 12, 14, 0, 10, 3, 6, 11, 3, 1, 4, 14, 17, 'a', 'b', 'c', 'd', 'e', 'f']\n"
     ]
    }
   ],
   "source": [
    "additional_values = ['a', 'b', 'c', 'd', 'e', 'f']\n",
    "value_list.extend(additional_values) # Add elements from one list to another\n",
    "\n",
    "print(value_list)"
   ]
  },
  {
   "cell_type": "code",
   "execution_count": 92,
   "metadata": {},
   "outputs": [
    {
     "name": "stdout",
     "output_type": "stream",
     "text": [
      "['a', 'b', 'c', 'd', 'e', 'f']\n"
     ]
    }
   ],
   "source": [
    "# The original list additional_values is not modified\n",
    "print(additional_values)"
   ]
  },
  {
   "cell_type": "markdown",
   "metadata": {},
   "source": [
    "##### `list.insert(el)`"
   ]
  },
  {
   "cell_type": "code",
   "execution_count": 93,
   "metadata": {},
   "outputs": [
    {
     "name": "stdout",
     "output_type": "stream",
     "text": [
      "[0, 855, 100, 20, 35, 4]\n"
     ]
    }
   ],
   "source": [
    "values = [0, 100, 20, 35, 4]\n",
    "values.insert(1, 855) # Insert 855 at index 1\n",
    "\n",
    "print(values)"
   ]
  },
  {
   "cell_type": "markdown",
   "metadata": {},
   "source": [
    "##### `list.remove(el)`"
   ]
  },
  {
   "cell_type": "markdown",
   "metadata": {},
   "source": [
    "- Remove an item by value\n",
    "- If there are duplicate values, only removes the first instance"
   ]
  },
  {
   "cell_type": "code",
   "execution_count": 94,
   "metadata": {},
   "outputs": [
    {
     "name": "stdout",
     "output_type": "stream",
     "text": [
      "[0, 855, 100, 20, 4]\n",
      "5\n"
     ]
    }
   ],
   "source": [
    "values.remove(35)\n",
    "\n",
    "print(values) # => [0, 855, 100, 20, 4]\n",
    "print(len(values)) # => 5"
   ]
  },
  {
   "cell_type": "markdown",
   "metadata": {},
   "source": [
    "#### `list.pop()`"
   ]
  },
  {
   "cell_type": "markdown",
   "metadata": {},
   "source": [
    "- Remove an item by index and get its value\n",
    "- If index omitted, remove the last item"
   ]
  },
  {
   "cell_type": "code",
   "execution_count": 95,
   "metadata": {},
   "outputs": [
    {
     "name": "stdout",
     "output_type": "stream",
     "text": [
      "[0, 100, 20, 4]\n",
      "4\n"
     ]
    }
   ],
   "source": [
    "values.pop(1) # => 855\n",
    "\n",
    "print(values) # => [0, 100, 20, 4]\n",
    "print(len(values)) # => 4"
   ]
  },
  {
   "cell_type": "markdown",
   "metadata": {},
   "source": [
    "#### `list.index(el)`"
   ]
  },
  {
   "cell_type": "markdown",
   "metadata": {},
   "source": [
    "- Search for an element within the list\n",
    "- Returns the index if found (first one if duplicates)\n",
    "- Otherwise, throw an error"
   ]
  },
  {
   "cell_type": "code",
   "execution_count": 96,
   "metadata": {},
   "outputs": [
    {
     "name": "stdout",
     "output_type": "stream",
     "text": [
      "What number to search? 7\n",
      "7 is not in the list\n"
     ]
    }
   ],
   "source": [
    "values = [10, 11, 12, 13]\n",
    "num_to_search = input(\"What number to search? \")\n",
    "\n",
    "try:\n",
    "    type(num_to_search)\n",
    "    # Find if the number is in the list\n",
    "    index = values.index(int(num_to_search))\n",
    "    print(\"{0} is in the list at index {1}\".format(num_to_search, index))\n",
    "except:\n",
    "    print(\"{} is not in the list\".format(num_to_search))"
   ]
  },
  {
   "cell_type": "markdown",
   "metadata": {},
   "source": [
    "#### List Element Check"
   ]
  },
  {
   "cell_type": "markdown",
   "metadata": {},
   "source": [
    "- `in` and `not in` can be used to check if an element is in the list or not"
   ]
  },
  {
   "cell_type": "code",
   "execution_count": 97,
   "metadata": {},
   "outputs": [
    {
     "name": "stdout",
     "output_type": "stream",
     "text": [
      "Is 10 in values? True\n"
     ]
    }
   ],
   "source": [
    "values = [10, 20, 30, 40]\n",
    "print(\"Is 10 in values?\", 10 in values)"
   ]
  },
  {
   "cell_type": "code",
   "execution_count": 98,
   "metadata": {},
   "outputs": [
    {
     "name": "stdout",
     "output_type": "stream",
     "text": [
      "Is 'abc' not in values? True\n"
     ]
    }
   ],
   "source": [
    "values = [10, 20, 30, 40]\n",
    "print(\"Is 'abc' not in values?\", 'abc' not in values)"
   ]
  },
  {
   "cell_type": "markdown",
   "metadata": {},
   "source": [
    "### Tuples"
   ]
  },
  {
   "cell_type": "markdown",
   "metadata": {},
   "source": [
    "- Immutable sequence\n",
    "- Similar to list"
   ]
  },
  {
   "cell_type": "code",
   "execution_count": 99,
   "metadata": {},
   "outputs": [],
   "source": [
    "t = (0, 2, 4) # 3-element tuple\n",
    "a = (2,) # 1-element tuple: Comma is required, else it will be just an int\n",
    "b = ('abc', 1, 4.5, 5) # 4-element mixed tuple\n",
    "name_and_age = (\"John\", 65)"
   ]
  },
  {
   "cell_type": "code",
   "execution_count": 100,
   "metadata": {},
   "outputs": [
    {
     "name": "stdout",
     "output_type": "stream",
     "text": [
      "My name is John and my age is 65\n"
     ]
    }
   ],
   "source": [
    "print(\"My name is {} and my age is {}\".format(*name_and_age)) # Use * to unpack in function"
   ]
  },
  {
   "cell_type": "markdown",
   "metadata": {},
   "source": [
    "#### Tuples Element Check"
   ]
  },
  {
   "cell_type": "markdown",
   "metadata": {},
   "source": [
    "- `in` and `not in` can be used to check if an element is in the tuple or not"
   ]
  },
  {
   "cell_type": "code",
   "execution_count": 101,
   "metadata": {},
   "outputs": [
    {
     "name": "stdout",
     "output_type": "stream",
     "text": [
      "Is 'abc' in tuple b? True\n"
     ]
    }
   ],
   "source": [
    "print(\"Is 'abc' in tuple b?\", 'abc' in b)"
   ]
  },
  {
   "cell_type": "code",
   "execution_count": 102,
   "metadata": {},
   "outputs": [
    {
     "name": "stdout",
     "output_type": "stream",
     "text": [
      "Is '4.5' not in tuple b? False\n"
     ]
    }
   ],
   "source": [
    "print(\"Is '4.5' not in tuple b?\", 4.5 not in b)"
   ]
  },
  {
   "cell_type": "markdown",
   "metadata": {},
   "source": [
    "### Dictionary"
   ]
  },
  {
   "cell_type": "markdown",
   "metadata": {},
   "source": [
    "- key-value pair\n",
    "- Also known as a hash-map"
   ]
  },
  {
   "cell_type": "code",
   "execution_count": 103,
   "metadata": {},
   "outputs": [],
   "source": [
    "states = {\n",
    "    'MS' : 'Mississippi',\n",
    "    'VA' : 'Virginia',\n",
    "    'AL' : 'Alabama',\n",
    "    'DC' : 'Washington'\n",
    "}\n",
    "class_level = { \n",
    "    0 : 'Freshman', \n",
    "    1 : 'Sophomore',\n",
    "    2 : 'Junior',\n",
    "    3 : 'Senior'\n",
    "}\n",
    "empty_A = {}\n",
    "empty_B = dict()"
   ]
  },
  {
   "cell_type": "markdown",
   "metadata": {},
   "source": [
    "#### Dictionary Element Access"
   ]
  },
  {
   "cell_type": "markdown",
   "metadata": {},
   "source": [
    "- Access by key directly: The key must exist, else an error is thrown\n",
    "- Access using `dict.get()`: Returns `None` if the key does not exist"
   ]
  },
  {
   "cell_type": "code",
   "execution_count": 104,
   "metadata": {},
   "outputs": [
    {
     "name": "stdout",
     "output_type": "stream",
     "text": [
      "The state name is Mississippi\n"
     ]
    }
   ],
   "source": [
    "print('The state name is', states['MS']) # Subscript by the key"
   ]
  },
  {
   "cell_type": "code",
   "execution_count": 105,
   "metadata": {},
   "outputs": [
    {
     "name": "stdout",
     "output_type": "stream",
     "text": [
      "The state name is Mississippi\n"
     ]
    }
   ],
   "source": [
    "print('The state name is', states.get('MS')) # dict.get() can also be used"
   ]
  },
  {
   "cell_type": "code",
   "execution_count": 106,
   "metadata": {},
   "outputs": [
    {
     "name": "stdout",
     "output_type": "stream",
     "text": [
      "The state name is None\n"
     ]
    }
   ],
   "source": [
    "print('The state name is', states.get('MD')) # dict.get() does not throw an error but returns `None`"
   ]
  },
  {
   "cell_type": "code",
   "execution_count": 107,
   "metadata": {},
   "outputs": [
    {
     "name": "stdout",
     "output_type": "stream",
     "text": [
      "An error was thrown\n"
     ]
    }
   ],
   "source": [
    "# If we do not use dict.get(), an unknown key will throw an error\n",
    "try:\n",
    "    print('The state name is', states['MD']) # Subscript by the key\n",
    "except:\n",
    "    print('An error was thrown')"
   ]
  },
  {
   "cell_type": "markdown",
   "metadata": {},
   "source": [
    "- Traversing is done using the `for` statement\n",
    "- Traversal is made over the keys"
   ]
  },
  {
   "cell_type": "code",
   "execution_count": 108,
   "metadata": {},
   "outputs": [
    {
     "name": "stdout",
     "output_type": "stream",
     "text": [
      "0 = Freshman\n",
      "1 = Sophomore\n",
      "2 = Junior\n",
      "3 = Senior\n"
     ]
    }
   ],
   "source": [
    "for key in class_level:\n",
    "    print(key, '=', class_level[key])"
   ]
  },
  {
   "cell_type": "markdown",
   "metadata": {},
   "source": [
    "- Use `dict.keys()` to get a list of all the keys\n",
    "- Use `dict.value()` to get a list of all the values\n",
    "- Use `dict.items()` to get `(key,value)` pairs"
   ]
  },
  {
   "cell_type": "code",
   "execution_count": 109,
   "metadata": {},
   "outputs": [
    {
     "name": "stdout",
     "output_type": "stream",
     "text": [
      "States Keys: dict_keys(['MS', 'VA', 'AL', 'DC'])\n"
     ]
    }
   ],
   "source": [
    "key_list = states.keys()\n",
    "print(\"States Keys:\", key_list)"
   ]
  },
  {
   "cell_type": "code",
   "execution_count": 110,
   "metadata": {},
   "outputs": [
    {
     "name": "stdout",
     "output_type": "stream",
     "text": [
      "States Values: dict_values(['Mississippi', 'Virginia', 'Alabama', 'Washington'])\n"
     ]
    }
   ],
   "source": [
    "value_list = states.values()\n",
    "print(\"States Values:\", value_list)"
   ]
  },
  {
   "cell_type": "code",
   "execution_count": 111,
   "metadata": {},
   "outputs": [
    {
     "name": "stdout",
     "output_type": "stream",
     "text": [
      "States Keys,Values: dict_items([('MS', 'Mississippi'), ('VA', 'Virginia'), ('AL', 'Alabama'), ('DC', 'Washington')])\n"
     ]
    }
   ],
   "source": [
    "item_list = states.items()\n",
    "print(\"States Keys,Values:\", item_list)"
   ]
  },
  {
   "cell_type": "markdown",
   "metadata": {},
   "source": [
    "#### Dictionary Modification"
   ]
  },
  {
   "cell_type": "markdown",
   "metadata": {},
   "source": [
    "- If the key/value pair already exist, the current value would be modified\n",
    "- If the key/value pair does not exist, it would be created\n",
    "- To remove an existing entry, use `dict.pop(key)` or `del dict[key]`"
   ]
  },
  {
   "cell_type": "code",
   "execution_count": 112,
   "metadata": {},
   "outputs": [
    {
     "name": "stdout",
     "output_type": "stream",
     "text": [
      "MS - Mississippi\n",
      "VA - Virginia\n",
      "AL - Alabama\n",
      "DC - District of Columbia\n"
     ]
    }
   ],
   "source": [
    "# Modifying existing entries\n",
    "states['DC'] = 'District of Columbia'\n",
    "\n",
    "for k in states:\n",
    "    print(k, '-', states[k])"
   ]
  },
  {
   "cell_type": "code",
   "execution_count": 113,
   "metadata": {},
   "outputs": [
    {
     "name": "stdout",
     "output_type": "stream",
     "text": [
      "MS - Mississippi\n",
      "VA - Virginia\n",
      "AL - Alabama\n",
      "DC - District of Columbia\n",
      "OR - Oregon\n",
      "VT - Vermont\n"
     ]
    }
   ],
   "source": [
    "# Adding new entries\n",
    "states['OR'] = 'Oregon'\n",
    "states['VT'] = 'Vermont'\n",
    "\n",
    "for k in states:\n",
    "    print(k, '-', states[k])"
   ]
  },
  {
   "cell_type": "code",
   "execution_count": 114,
   "metadata": {},
   "outputs": [
    {
     "name": "stdout",
     "output_type": "stream",
     "text": [
      "MS - Mississippi\n",
      "VA - Virginia\n",
      "AL - Alabama\n",
      "DC - District of Columbia\n"
     ]
    }
   ],
   "source": [
    "# Removing an entry\n",
    "states.pop('OR')\n",
    "del states['VT']\n",
    "\n",
    "for k in states:\n",
    "    print(k, '-', states[k])"
   ]
  },
  {
   "cell_type": "markdown",
   "metadata": {},
   "source": [
    "#### Dictionary Element Check"
   ]
  },
  {
   "cell_type": "markdown",
   "metadata": {},
   "source": [
    "- `in` and `not in` can be used to check if a key is in the dictionary or not"
   ]
  },
  {
   "cell_type": "code",
   "execution_count": 115,
   "metadata": {},
   "outputs": [
    {
     "name": "stdout",
     "output_type": "stream",
     "text": [
      "Is OR in states? False\n"
     ]
    }
   ],
   "source": [
    "print(\"Is OR in states?\", 'OR' in states)"
   ]
  },
  {
   "cell_type": "code",
   "execution_count": 116,
   "metadata": {},
   "outputs": [
    {
     "name": "stdout",
     "output_type": "stream",
     "text": [
      "Is VT not in states? True\n"
     ]
    }
   ],
   "source": [
    "print(\"Is VT not in states?\", 'VT' not in states)"
   ]
  },
  {
   "cell_type": "code",
   "execution_count": 117,
   "metadata": {},
   "outputs": [
    {
     "name": "stdout",
     "output_type": "stream",
     "text": [
      "Is MS in states? True\n"
     ]
    }
   ],
   "source": [
    "print(\"Is MS in states?\", 'MS' in states)"
   ]
  },
  {
   "cell_type": "markdown",
   "metadata": {},
   "source": [
    "## Text Files"
   ]
  },
  {
   "cell_type": "markdown",
   "metadata": {},
   "source": [
    "- 2 types of files that can be used with Python:\n",
    "  - Text Files\n",
    "    - Typically includes the ASCII values in the range [32...126], 13 (newline) and 9 (tabs)\n",
    "  - Binary Files\n",
    "    - Sequence of binary numbers representing data values as they would be stored in memory\n",
    "    - Cannot be read and displayed by text editors since they contain byte values outside the printable range"
   ]
  },
  {
   "cell_type": "markdown",
   "metadata": {},
   "source": [
    "### File Access"
   ]
  },
  {
   "cell_type": "markdown",
   "metadata": {},
   "source": [
    "- No additional modules are required in order to access a file from within your program\n",
    "- Open and create an object to represent the file\n",
    "- If the file can be opened, the function creates a file object and returns a reference to that newly created object"
   ]
  },
  {
   "cell_type": "markdown",
   "metadata": {},
   "source": [
    "### Reading From A File"
   ]
  },
  {
   "cell_type": "markdown",
   "metadata": {},
   "source": [
    "- Use `open()` with `r` option\n",
    "- When done working with a file, always close it"
   ]
  },
  {
   "cell_type": "code",
   "execution_count": 118,
   "metadata": {},
   "outputs": [
    {
     "name": "stdout",
     "output_type": "stream",
     "text": [
      "This is a very basic records text file.\n",
      "This is the second line in this text file.\n",
      "And this is the third and final line in this text file."
     ]
    }
   ],
   "source": [
    "# Open a file for reading\n",
    "infile = open(\"../files/appendix_a/records.txt\", \"r\")\n",
    "\n",
    "# To access the contents, we can use loop\n",
    "for line in infile:\n",
    "    print(line, end=\"\")\n",
    "\n",
    "# When done working with a file, always close it\n",
    "infile.close()"
   ]
  },
  {
   "cell_type": "markdown",
   "metadata": {},
   "source": [
    "- We can also use the `readline()` method to read one line at a time\n",
    "- The end of a line is indicated by a newline character `\\n`\n",
    "- If the file is empty or the end of file has been reached, `readline()` returns an empty string\n",
    "- When using a loop to read an entire file, we can use this as condition: `while line != \"\"`\n",
    "- `readline()` will not remove `\\n` from the extracted line. Use `rstrip()` for this"
   ]
  },
  {
   "cell_type": "code",
   "execution_count": 119,
   "metadata": {},
   "outputs": [
    {
     "name": "stdout",
     "output_type": "stream",
     "text": [
      "This is a very basic records text file.\n",
      "This is the second line in this text file.\n",
      "And this is the third and final line in this text file.\n",
      "\n"
     ]
    }
   ],
   "source": [
    "# Open a file for reading\n",
    "infile = open(\"../files/appendix_a/records.txt\", \"r\")\n",
    "\n",
    "# To access the contents, we can use loop\n",
    "line1 = infile.readline()\n",
    "print(line1.rstrip()) # Remove \\n at the end\n",
    "line2 = infile.readline()\n",
    "print(line2.rstrip()) # Remove \\n at the end\n",
    "line3 = infile.readline()\n",
    "print(line3.rstrip()) # Remove \\n at the end\n",
    "line4 = infile.readline() # EOF: Empty string\n",
    "print(line4) # EOF: Empty string\n",
    "\n",
    "# When done working with a file, always close it\n",
    "infile.close()"
   ]
  },
  {
   "cell_type": "markdown",
   "metadata": {},
   "source": [
    "- Using `realdine()`, we can also extract just a specific number of characters from the line\n",
    "- The reading can be continuous to where the current cursor is located"
   ]
  },
  {
   "cell_type": "code",
   "execution_count": 120,
   "metadata": {},
   "outputs": [
    {
     "name": "stdout",
     "output_type": "stream",
     "text": [
      "This is a very \n",
      "basic records t\n",
      "ext file.\n",
      "\n"
     ]
    }
   ],
   "source": [
    "# Open a file for reading\n",
    "infile = open(\"../files/appendix_a/records.txt\", \"r\")\n",
    "\n",
    "# To access the contents, we can use loop\n",
    "line = infile.readline(15) # Just extract 15 characters from each line\n",
    "print(line)\n",
    "line = infile.readline(15) # Just extract 15 characters from each line\n",
    "print(line)\n",
    "line = infile.readline(15) # Just extract 15 characters from each line\n",
    "print(line)\n",
    "\n",
    "# When done working with a file, always close it\n",
    "infile.close()"
   ]
  },
  {
   "cell_type": "markdown",
   "metadata": {},
   "source": [
    "- Using `readlines()`, we can extract all the lines at once\n",
    "- It will store the contents in a list of lines"
   ]
  },
  {
   "cell_type": "code",
   "execution_count": 121,
   "metadata": {},
   "outputs": [
    {
     "name": "stdout",
     "output_type": "stream",
     "text": [
      "Line 1: This is a very basic records text file.\n",
      "Line 2: This is the second line in this text file.\n",
      "Line 3: And this is the third and final line in this text file.\n"
     ]
    }
   ],
   "source": [
    "# Open a file for reading\n",
    "infile = open(\"../files/appendix_a/records.txt\", \"r\")\n",
    "\n",
    "# To access the contents, we can use loop\n",
    "lines = infile.readlines()\n",
    "\n",
    "for i, line in enumerate(lines):\n",
    "    print(\"Line\", str(i+1)+\":\", line.strip())\n",
    "\n",
    "# When done working with a file, always close it\n",
    "infile.close()"
   ]
  },
  {
   "cell_type": "markdown",
   "metadata": {},
   "source": [
    "- We can also just use an iterator over each line of the file"
   ]
  },
  {
   "cell_type": "code",
   "execution_count": 122,
   "metadata": {},
   "outputs": [
    {
     "name": "stdout",
     "output_type": "stream",
     "text": [
      "Line 1: This is a very basic records text file.\n",
      "Line 2: This is the second line in this text file.\n",
      "Line 3: And this is the third and final line in this text file.\n"
     ]
    }
   ],
   "source": [
    "# Open a file for reading\n",
    "infile = open(\"../files/appendix_a/records.txt\", \"r\")\n",
    "\n",
    "# To access the contents, we can use loop\n",
    "for i, line in enumerate(infile):\n",
    "    print(\"Line\", str(i+1)+\":\", line.strip())\n",
    "\n",
    "# When done working with a file, always close it\n",
    "infile.close()"
   ]
  },
  {
   "cell_type": "markdown",
   "metadata": {},
   "source": [
    "**Note:**\n",
    "- **Remember that reading from a file only returns strings. Handle type conversions appropriately.**\n",
    "- **Also, remember that the newline character `\\n` must be stripped before conversion.**"
   ]
  },
  {
   "cell_type": "markdown",
   "metadata": {},
   "source": [
    "### Writing To A File"
   ]
  },
  {
   "cell_type": "markdown",
   "metadata": {},
   "source": [
    "- Use the `write()` method after opening the file with `open()` with `w` option\n",
    "- **To output other value type, make sure to convert them to string**\n",
    "- **`write()` does not add a linefeed or newline character after the string is written to the file**\n",
    "- To add a newline, add `\\n` to the end of the string"
   ]
  },
  {
   "cell_type": "code",
   "execution_count": 123,
   "metadata": {},
   "outputs": [],
   "source": [
    "# Open a file for writing\n",
    "outfile = open(\"../files/appendix_a/student-report.txt\", \"w\")\n",
    "\n",
    "# Start writing to file\n",
    "outfile.write(\"Student Report\\n\")\n",
    "outfile.write(\"-\" * 40 + \"\\n\")\n",
    "\n",
    "# When done working with a file, always close it\n",
    "infile.close()"
   ]
  },
  {
   "cell_type": "markdown",
   "metadata": {},
   "source": [
    "## User-Defined Functions"
   ]
  },
  {
   "cell_type": "markdown",
   "metadata": {},
   "source": [
    "### Function Definition"
   ]
  },
  {
   "cell_type": "code",
   "execution_count": 124,
   "metadata": {},
   "outputs": [],
   "source": [
    "def sum_range(start, end):\n",
    "    total = 0\n",
    "    i = start\n",
    "    \n",
    "    while i <= end:\n",
    "        total += i\n",
    "        i += 1\n",
    "        \n",
    "    return total"
   ]
  },
  {
   "cell_type": "code",
   "execution_count": 125,
   "metadata": {},
   "outputs": [
    {
     "name": "stdout",
     "output_type": "stream",
     "text": [
      "The sum of the first 100 integers is 5050\n"
     ]
    }
   ],
   "source": [
    "start = 1\n",
    "end = 100\n",
    "the_sum = sum_range(start, end)\n",
    "print(\"The sum of the first {} integers is {}\".format(end, the_sum))"
   ]
  },
  {
   "cell_type": "markdown",
   "metadata": {},
   "source": [
    "#### Function Arguments"
   ]
  },
  {
   "cell_type": "markdown",
   "metadata": {},
   "source": [
    "- **In Python, arguments are passed by value of objects**\n",
    "- Every value is an object: \n",
    "  - It is the object reference that is copied to a function parameter and not the object itself "
   ]
  },
  {
   "cell_type": "code",
   "execution_count": 126,
   "metadata": {},
   "outputs": [
    {
     "name": "stdout",
     "output_type": "stream",
     "text": [
      "315\n"
     ]
    }
   ],
   "source": [
    "start = 5\n",
    "end = 25\n",
    "the_sum = sum_range(start, end)\n",
    "print(the_sum)"
   ]
  },
  {
   "cell_type": "markdown",
   "metadata": {},
   "source": [
    "![sumRange](../files/appendix_a/sumRange.png)"
   ]
  },
  {
   "cell_type": "markdown",
   "metadata": {},
   "source": [
    "- The function `sum_range()` can also take float values\n",
    "- So long as all operations within the function can be applied to the given values, the program will execute correctly\n",
    "- If an operation cannot be applied to a given argument type, an exception will be raised"
   ]
  },
  {
   "cell_type": "markdown",
   "metadata": {},
   "source": [
    "#### Returning Values"
   ]
  },
  {
   "cell_type": "markdown",
   "metadata": {},
   "source": [
    "- Can be used to terminate a function execution\n",
    "- Can be used to return a value (object reference) from the function execution\n",
    "- Multiple values can be returned as tuple"
   ]
  },
  {
   "cell_type": "code",
   "execution_count": 127,
   "metadata": {},
   "outputs": [],
   "source": [
    "# Functions can also return multiple values separated by commas\n",
    "# This is returned as a tuple\n",
    "def four_operations(num1, num2):\n",
    "    \"\"\"Take 2 numbers and add, subtract, multiply, and divide them\"\"\"\n",
    "    \n",
    "    if num2 != 0:\n",
    "        num_sum = num1 + num2\n",
    "        num_sub = num1 - num2\n",
    "        num_prod = num1 * num2\n",
    "        num_div = num1 / num2\n",
    "        \n",
    "    return num_sum, num_sub, num_prod, num_div # This is returned as a tuple"
   ]
  },
  {
   "cell_type": "code",
   "execution_count": 128,
   "metadata": {},
   "outputs": [
    {
     "data": {
      "text/plain": [
       "(50, -10, 600, 0.6666666666666666)"
      ]
     },
     "execution_count": 128,
     "metadata": {},
     "output_type": "execute_result"
    }
   ],
   "source": [
    "four_operations(20, 30)"
   ]
  },
  {
   "cell_type": "markdown",
   "metadata": {},
   "source": [
    "- Values that are returned as tuple can be unpacked\n",
    "- A function that returns multiple values can only be called as part of a multi-variable assignment statement (tuple unpacking)\n",
    "- Order of the returned values within the tuple is respected"
   ]
  },
  {
   "cell_type": "code",
   "execution_count": 129,
   "metadata": {},
   "outputs": [
    {
     "name": "stdout",
     "output_type": "stream",
     "text": [
      "Addition: 50\n",
      "Subtraction: -10\n",
      "Multiplication: 600\n",
      "Division: 0.6666666666666666\n"
     ]
    }
   ],
   "source": [
    "(add, sub, mult, div) = four_operations(20, 30) # Parenthesis not required for the tuple here\n",
    "\n",
    "print(\"Addition:\", add)\n",
    "print(\"Subtraction:\", sub)\n",
    "print(\"Multiplication:\", mult)\n",
    "print(\"Division:\", div)"
   ]
  },
  {
   "cell_type": "markdown",
   "metadata": {},
   "source": [
    "#### Default and Keyword Arguments"
   ]
  },
  {
   "cell_type": "markdown",
   "metadata": {},
   "source": [
    "- Functions can have default values for their arguments (`args`)"
   ]
  },
  {
   "cell_type": "code",
   "execution_count": 130,
   "metadata": {},
   "outputs": [],
   "source": [
    "def sum_range(first, last, step = 1):\n",
    "    total = 0\n",
    "    i = first\n",
    "    \n",
    "    while i <= last :\n",
    "        total += i\n",
    "        i = i + step\n",
    "        \n",
    "    return total"
   ]
  },
  {
   "cell_type": "code",
   "execution_count": 131,
   "metadata": {},
   "outputs": [
    {
     "data": {
      "text/plain": [
       "5050"
      ]
     },
     "execution_count": 131,
     "metadata": {},
     "output_type": "execute_result"
    }
   ],
   "source": [
    "sum_range(1, 100)"
   ]
  },
  {
   "cell_type": "code",
   "execution_count": 132,
   "metadata": {},
   "outputs": [
    {
     "data": {
      "text/plain": [
       "2500"
      ]
     },
     "execution_count": 132,
     "metadata": {},
     "output_type": "execute_result"
    }
   ],
   "source": [
    "sum_range(1, 100, 2)"
   ]
  },
  {
   "cell_type": "code",
   "execution_count": 133,
   "metadata": {},
   "outputs": [
    {
     "data": {
      "text/plain": [
       "970"
      ]
     },
     "execution_count": 133,
     "metadata": {},
     "output_type": "execute_result"
    }
   ],
   "source": [
    "sum_range(1, 100, 5)"
   ]
  },
  {
   "cell_type": "markdown",
   "metadata": {},
   "source": [
    "- Keyword argument (`kwargs`) allows to label each arguments passed to the function\n",
    "- This allows for the arguments to be passed in different order"
   ]
  },
  {
   "cell_type": "code",
   "execution_count": 134,
   "metadata": {},
   "outputs": [
    {
     "name": "stdout",
     "output_type": "stream",
     "text": [
      "1717\n"
     ]
    }
   ],
   "source": [
    "the_sum = sum_range(last = 100, step = 3, first = 1)\n",
    "print(the_sum)"
   ]
  },
  {
   "cell_type": "markdown",
   "metadata": {},
   "source": [
    "### Variable Scope"
   ]
  },
  {
   "cell_type": "markdown",
   "metadata": {},
   "source": [
    "- Variables only exist within the scope they are created\n",
    "- Python has 4 scopes:\n",
    "  - **Local Scope:** Variables created within a function or method\n",
    "    - Exist for the lifetime of the function/method execution\n",
    "    - Each execution of a function creates a new local scope, which is then destroyed when the function terminates\n",
    "  - **Instance Scope:** Variables defined as data attributes of a class\n",
    "    - Exist for the lifetime of the object instance\n",
    "  - **Global Scope:** Variables created at the top level of a source file or module\n",
    "    - Exist for the lifetime of the program\n",
    "  - **Built-in Scope:** Variables and literals from the Python language\n",
    "    - Exist for the lifetime of the program"
   ]
  },
  {
   "cell_type": "markdown",
   "metadata": {},
   "source": [
    "### Main Routine"
   ]
  },
  {
   "cell_type": "markdown",
   "metadata": {},
   "source": [
    "- The primary entry point of all programs\n",
    "- Statements within a function are not executed until the function is called but they are interpreted and converted to byte code as they are read"
   ]
  },
  {
   "cell_type": "code",
   "execution_count": 135,
   "metadata": {},
   "outputs": [
    {
     "name": "stdout",
     "output_type": "stream",
     "text": [
      "Enter a value:7\n",
      "The double of your value is: 14\n"
     ]
    }
   ],
   "source": [
    "def main():\n",
    "    value = int(input(\"Enter a value:\"))\n",
    "    print(\"The double of your value is:\", doubleIt(value))\n",
    "    \n",
    "def doubleIt(num):\n",
    "    return num * 2\n",
    "\n",
    "if __name__ == \"__main__\":\n",
    "    main()"
   ]
  },
  {
   "cell_type": "markdown",
   "metadata": {},
   "source": [
    "- But this is not the case when calling a function from a statement at file level\n",
    "- If a function is called at file level before the function has been defined, the interpreter does not know about the function and has no way of executing it"
   ]
  },
  {
   "cell_type": "code",
   "execution_count": 136,
   "metadata": {},
   "outputs": [],
   "source": [
    "# callIt(5) # This throws an error: name 'callIt' is not defined\n",
    "\n",
    "def callIt(num):\n",
    "    return pow( num, 2 )"
   ]
  },
  {
   "cell_type": "markdown",
   "metadata": {},
   "source": [
    "- **The order in which functions are listed/defined within a file is not important, but the order of executable statements at file level is.**\n",
    "- It is good programming practice to place all executable statements within functions and specify one function as the driver\n",
    "- The driver is commonly named `main()`\n",
    "  - It can be defined first with the remaining definitions following it"
   ]
  },
  {
   "cell_type": "code",
   "execution_count": 137,
   "metadata": {},
   "outputs": [
    {
     "name": "stdout",
     "output_type": "stream",
     "text": [
      "Dice roll simulation.\n",
      "How many sides should the die have? 7\n",
      "How many dices to roll? 20\n",
      "You rolled [7, 2, 1, 4, 7, 7, 1, 4, 7, 2, 6, 2, 2, 6, 6, 2, 6, 5, 4, 6]\n"
     ]
    }
   ],
   "source": [
    "# diceroll.py - simulate the rolling of two dice\n",
    "from random import *\n",
    "\n",
    "# Minimum number of sides on a die\n",
    "MIN_SIDES = 4\n",
    "\n",
    "# Our very own main routine for a top-down design.\n",
    "def main():\n",
    "    print(\"Dice roll simulation.\")\n",
    "    num_sides = int(input(\"How many sides should the die have? \"))\n",
    "    if num_sides < MIN_SIDES :\n",
    "        num_sides = MIN_SIDES\n",
    "    num_dices = int(input(\"How many dices to roll? \"))\n",
    "    values = []\n",
    "    for n in range(num_dices):\n",
    "        values.append(roll_dice(num_sides))\n",
    "    print(\"You rolled\", values)\n",
    "\n",
    "# Simulate the rollowing of two nSided dice.\n",
    "def roll_dice(n_sides):\n",
    "    die = randint(1, n_sides)\n",
    "    return die\n",
    "\n",
    "# Call the main routine which we defined first.\n",
    "if __name__ == \"__main__\":\n",
    "    main()"
   ]
  }
 ],
 "metadata": {
  "hide_input": false,
  "kernelspec": {
   "display_name": "Python 3 (ipykernel)",
   "language": "python",
   "name": "python3"
  },
  "language_info": {
   "codemirror_mode": {
    "name": "ipython",
    "version": 3
   },
   "file_extension": ".py",
   "mimetype": "text/x-python",
   "name": "python",
   "nbconvert_exporter": "python",
   "pygments_lexer": "ipython3",
   "version": "3.9.7"
  },
  "toc": {
   "base_numbering": 1,
   "nav_menu": {},
   "number_sections": true,
   "sideBar": true,
   "skip_h1_title": true,
   "title_cell": "Table of Contents",
   "title_sidebar": "Contents",
   "toc_cell": true,
   "toc_position": {
    "height": "calc(100% - 180px)",
    "left": "10px",
    "top": "150px",
    "width": "307.2px"
   },
   "toc_section_display": true,
   "toc_window_display": true
  },
  "varInspector": {
   "cols": {
    "lenName": 16,
    "lenType": 16,
    "lenVar": 40
   },
   "kernels_config": {
    "python": {
     "delete_cmd_postfix": "",
     "delete_cmd_prefix": "del ",
     "library": "var_list.py",
     "varRefreshCmd": "print(var_dic_list())"
    },
    "r": {
     "delete_cmd_postfix": ") ",
     "delete_cmd_prefix": "rm(",
     "library": "var_list.r",
     "varRefreshCmd": "cat(var_dic_list()) "
    }
   },
   "types_to_exclude": [
    "module",
    "function",
    "builtin_function_or_method",
    "instance",
    "_Feature"
   ],
   "window_display": false
  }
 },
 "nbformat": 4,
 "nbformat_minor": 4
}
