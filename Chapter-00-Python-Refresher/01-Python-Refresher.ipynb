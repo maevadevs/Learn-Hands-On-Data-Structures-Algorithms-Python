{
 "cells": [
  {
   "attachments": {},
   "cell_type": "markdown",
   "metadata": {},
   "source": [
    "# Python Refresher\n"
   ]
  },
  {
   "attachments": {},
   "cell_type": "markdown",
   "metadata": {},
   "source": [
    "---\n"
   ]
  },
  {
   "attachments": {},
   "cell_type": "markdown",
   "metadata": {},
   "source": [
    "**Table of contents**<a id='toc0_'></a>\n",
    "\n",
    "-   [About Python](#toc1_)\n",
    "-   [Python Interpreter](#toc2_)\n",
    "-   [Basics](#toc3_)\n",
    "    -   [Reserved Words](#toc3_1_)\n",
    "    -   [Statements](#toc3_2_)\n",
    "    -   [Variables](#toc3_3_)\n",
    "        -   [Assignment](#toc3_3_1_)\n",
    "        -   [Aliasing](#toc3_3_2_)\n",
    "        -   [Null Reference](#toc3_3_3_)\n",
    "        -   [Constants](#toc3_3_4_)\n",
    "    -   [Arithmetic Operations and Compound Operators](#toc3_4_)\n",
    "    -   [Logical Operations](#toc3_5_)\n",
    "        -   [Relational Operators](#toc3_5_1_)\n",
    "        -   [Boolean Operators](#toc3_5_2_)\n",
    "        -   [Object References](#toc3_5_3_)\n",
    "    -   [Order of Precendence](#toc3_6_)\n",
    "    -   [Functions and Methods](#toc3_7_)\n",
    "    -   [Standard Library](#toc3_8_)\n",
    "        -   [Import Statements](#toc3_8_1_)\n",
    "-   [User Interactions](#toc4_)\n",
    "    -   [Standard Input](#toc4_1_)\n",
    "    -   [Standard Output](#toc4_2_)\n",
    "        -   [Escape Sequences](#toc4_2_1_)\n",
    "        -   [Formatted Output](#toc4_2_2_)\n",
    "-   [Control Structures](#toc5_)\n",
    "    -   [Selection Constructs (Conditioning)](#toc5_1_)\n",
    "    -   [Structural Pattern Matching](#toc5_2_)\n",
    "    -   [Repetition Constructs](#toc5_3_)\n",
    "        -   [While Loop](#toc5_3_1_)\n",
    "        -   [For Loop](#toc5_3_2_)\n",
    "        -   [Issue With IEEE 754](#toc5_3_3_)\n",
    "        -   [`range()`](#toc5_3_4_)\n",
    "-   [Collections](#toc6_)\n",
    "    -   [Strings](#toc6_1_)\n",
    "        -   [String Concatenation](#toc6_1_1_)\n",
    "        -   [String Length](#toc6_1_2_)\n",
    "        -   [String Indexing and Slicing](#toc6_1_3_)\n",
    "        -   [String Repeat](#toc6_1_4_)\n",
    "        -   [String Element Check](#toc6_1_5_)\n",
    "    -   [Lists](#toc6_2_)\n",
    "        -   [List Elements Access](#toc6_2_1_)\n",
    "        -   [List Modification](#toc6_2_2_)\n",
    "            -   [`list.append(el)`](#toc6_2_2_1_)\n",
    "            -   [`list.extend(anotherList)`](#toc6_2_2_2_)\n",
    "            -   [`list.insert(el)`](#toc6_2_2_3_)\n",
    "            -   [`list.remove(el)`](#toc6_2_2_4_)\n",
    "        -   [`list.pop()`](#toc6_2_3_)\n",
    "        -   [`list.index(el)`](#toc6_2_4_)\n",
    "        -   [List Element Check](#toc6_2_5_)\n",
    "    -   [Tuples](#toc6_3_)\n",
    "        -   [Tuples Element Check](#toc6_3_1_)\n",
    "    -   [Dictionary](#toc6_4_)\n",
    "        -   [Dictionary Element Access](#toc6_4_1_)\n",
    "        -   [Dictionary Modification](#toc6_4_2_)\n",
    "        -   [Dictionary Element Check](#toc6_4_3_)\n",
    "-   [Text Files](#toc7_)\n",
    "    -   [File Access](#toc7_1_)\n",
    "    -   [Reading From A File](#toc7_2_)\n",
    "    -   [Writing To A File](#toc7_3_)\n",
    "-   [User-Defined Functions](#toc8_)\n",
    "    -   [Function Definition](#toc8_1_)\n",
    "        -   [Function Arguments](#toc8_1_1_)\n",
    "        -   [Returning Values](#toc8_1_2_)\n",
    "        -   [Default and Keyword Arguments](#toc8_1_3_)\n",
    "    -   [Variable Scope](#toc8_2_)\n",
    "    -   [Main Routine](#toc8_3_)\n",
    "\n",
    "<!-- vscode-jupyter-toc-config\n",
    "\tnumbering=false\n",
    "\tanchor=true\n",
    "\tflat=false\n",
    "\tminLevel=2\n",
    "\tmaxLevel=6\n",
    "\t/vscode-jupyter-toc-config -->\n",
    "<!-- THIS CELL WILL BE REPLACED ON TOC UPDATE. DO NOT WRITE YOUR TEXT IN THIS CELL -->\n"
   ]
  },
  {
   "attachments": {},
   "cell_type": "markdown",
   "metadata": {},
   "source": [
    "---\n"
   ]
  },
  {
   "attachments": {},
   "cell_type": "markdown",
   "metadata": {},
   "source": [
    "## [&#8593;](#toc0_) <a id='toc1_'></a>About Python\n"
   ]
  },
  {
   "attachments": {},
   "cell_type": "markdown",
   "metadata": {},
   "source": [
    "-   High-Level, Dynamic, Interpreted\n",
    "-   Can be either _Procedural_ or _Object-Oriented_\n",
    "-   Has many built-in features\n",
    "-   Efficient high-level data structures\n",
    "-   Effective Object-Oriented programming language\n",
    "-   Easiest advanced programming language to learn\n",
    "-   Intuitive structures and semantics\n",
    "-   Has many useful data structures and algorithms built-in\n"
   ]
  },
  {
   "attachments": {},
   "cell_type": "markdown",
   "metadata": {},
   "source": [
    "## [&#8593;](#toc0_) <a id='toc2_'></a>Python Interpreter\n"
   ]
  },
  {
   "attachments": {},
   "cell_type": "markdown",
   "metadata": {},
   "source": [
    "-   A program that reads and executes programs written in Python\n",
    "-   Interactive mode or script mode\n",
    "-   CLI Command: `python`\n"
   ]
  },
  {
   "cell_type": "code",
   "execution_count": 1,
   "metadata": {},
   "outputs": [
    {
     "name": "stdout",
     "output_type": "stream",
     "text": [
      "Hello World!\n"
     ]
    }
   ],
   "source": [
    "# Executing in Interactive: Can only run one line at a time\n",
    "print(\"Hello World!\")"
   ]
  },
  {
   "cell_type": "code",
   "execution_count": 2,
   "metadata": {},
   "outputs": [
    {
     "name": "stdout",
     "output_type": "stream",
     "text": [
      "The sum of the first 100 integers is 5050\n"
     ]
    }
   ],
   "source": [
    "# Executing in Script: Can run multiple lines at once\n",
    "total: int = 0\n",
    "i: int = 1\n",
    "\n",
    "while i <= 100:\n",
    "    total += i\n",
    "    i += 1\n",
    "\n",
    "print(f\"The sum of the first 100 integers is {total}\")"
   ]
  },
  {
   "attachments": {},
   "cell_type": "markdown",
   "metadata": {},
   "source": [
    "## [&#8593;](#toc0_) <a id='toc3_'></a>Basics\n"
   ]
  },
  {
   "attachments": {},
   "cell_type": "markdown",
   "metadata": {},
   "source": [
    "### [&#8593;](#toc0_) <a id='toc3_1_'></a>Reserved Words\n"
   ]
  },
  {
   "cell_type": "code",
   "execution_count": 3,
   "metadata": {},
   "outputs": [
    {
     "name": "stdout",
     "output_type": "stream",
     "text": [
      "False - None - True - and - as - assert - async - await - break - class - continue - def - del - elif - else - except - finally - for - from - global - if - import - in - is - lambda - nonlocal - not - or - pass - raise - return - try - while - with - yield\n"
     ]
    }
   ],
   "source": [
    "# Print the list of all Python reserved keywords\n",
    "from keyword import kwlist\n",
    "\n",
    "kw_complete_list: list[str] = [kw for kw in sorted(kwlist)]\n",
    "print(\" - \".join(kw_complete_list))"
   ]
  },
  {
   "cell_type": "code",
   "execution_count": 4,
   "metadata": {},
   "outputs": [
    {
     "name": "stdout",
     "output_type": "stream",
     "text": [
      "Negative Integer: -9\n",
      "Positive Integer: 50\n",
      "Hexadecimal: 15\n",
      "Octal: 511\n",
      "Binary: 9\n"
     ]
    }
   ],
   "source": [
    "# Integers\n",
    "a: int = -9  # Base 10, Negatives Integer\n",
    "b: int = 50  # Base 10, Positives Integer\n",
    "c: int = 0xF  # Hexadecimals: Prefix 0x or 0X\n",
    "d: int = 0o777  # Octal: Prefix 0o or 0O\n",
    "_: int = 0b1001  # Binary: Prefix 0b or 0B\n",
    "\n",
    "print(f\"Negative Integer: {a}\")\n",
    "print(f\"Positive Integer: {b}\")\n",
    "print(f\"Hexadecimal: {c}\")\n",
    "print(f\"Octal: {d}\")\n",
    "print(f\"Binary: {_}\")"
   ]
  },
  {
   "cell_type": "code",
   "execution_count": 5,
   "metadata": {},
   "outputs": [
    {
     "name": "stdout",
     "output_type": "stream",
     "text": [
      "Negative Float: -25.45\n",
      "Positive Float: 17.4\n",
      "Scientific Notation: 0.017045\n"
     ]
    }
   ],
   "source": [
    "# Floats\n",
    "e: float = -25.45  # Base 10, Negative Float\n",
    "f: float = 17.4  # Base 10, Positive Float\n",
    "g: float = 17.045e-03  # Base 10, Scientific Notation\n",
    "\n",
    "print(f\"Negative Float: {e}\")\n",
    "print(f\"Positive Float: {f}\")\n",
    "print(f\"Scientific Notation: {g}\")"
   ]
  },
  {
   "cell_type": "code",
   "execution_count": 6,
   "metadata": {},
   "outputs": [
    {
     "name": "stdout",
     "output_type": "stream",
     "text": [
      "True\n",
      "False\n",
      "None\n"
     ]
    }
   ],
   "source": [
    "# Boolean and Null\n",
    "h: bool = True\n",
    "i2: bool = False\n",
    "ii: None = None\n",
    "\n",
    "print(h)\n",
    "print(i2)\n",
    "print(ii)"
   ]
  },
  {
   "cell_type": "code",
   "execution_count": 7,
   "metadata": {},
   "outputs": [
    {
     "name": "stdout",
     "output_type": "stream",
     "text": [
      "Hello World\n",
      "Hello World\n",
      "C\n",
      "c\n"
     ]
    }
   ],
   "source": [
    "# String\n",
    "j: str = \"Hello World\"  # Single Quotes\n",
    "k: str = \"Hello World\"  # Double Quotes\n",
    "l: str = \"C\"  # Single Character, Single Quotes\n",
    "m: str = \"c\"  # Single Character, Double Quotes\n",
    "\n",
    "print(j)\n",
    "print(k)\n",
    "print(l)\n",
    "print(m)\n"
   ]
  },
  {
   "cell_type": "code",
   "execution_count": 8,
   "metadata": {},
   "outputs": [
    {
     "name": "stdout",
     "output_type": "stream",
     "text": [
      "['a', 'b', 'c', 1, 2, 3.4, 4.5, True, False, {}, [], 1, 0]\n"
     ]
    }
   ],
   "source": [
    "from typing import Any\n",
    "\n",
    "# Lists\n",
    "# True and False same as 1 and 0\n",
    "a_list: list[Any] = [\"a\", \"b\", \"c\", 1, 2, 3.4, 4.5, True, False, {}, [], 1, 0]\n",
    "\n",
    "print(a_list)"
   ]
  },
  {
   "cell_type": "code",
   "execution_count": 9,
   "metadata": {},
   "outputs": [
    {
     "name": "stdout",
     "output_type": "stream",
     "text": [
      "(1, 2, 3)\n",
      "('a', 200, True)\n"
     ]
    }
   ],
   "source": [
    "# Tuples\n",
    "a_tuple: tuple[int, ...] = (1, 2, 3)  # With parenthesis\n",
    "b_tuple: tuple[str, int, bool] = \"a\", 200, True  # Without parenthesis\n",
    "\n",
    "print(a_tuple)\n",
    "print(b_tuple)"
   ]
  },
  {
   "cell_type": "code",
   "execution_count": 10,
   "metadata": {},
   "outputs": [
    {
     "name": "stdout",
     "output_type": "stream",
     "text": [
      "string_dict: {'fname': 'John', 'lname': 'Doe', 'address': '123 Main St, Washington, DC 20001', 'age': 30, 'isEmployed': True}\n",
      "num_dict: {1: 'Mary', 2: 'John', 3: 'Sally'}\n"
     ]
    }
   ],
   "source": [
    "from typing import Any\n",
    "\n",
    "# Dictionary\n",
    "# Strings as keys\n",
    "string_dict: dict[str, Any] = {\n",
    "    \"fname\": \"John\",\n",
    "    \"lname\": \"Doe\",\n",
    "    \"address\": \"123 Main St, Washington, DC 20001\",\n",
    "    \"age\": 30,\n",
    "    \"isEmployed\": True,\n",
    "}\n",
    "\n",
    "# Integers as keys\n",
    "num_dict: dict[int, str] = {1: \"Mary\", 2: \"John\", 3: \"Sally\"}\n",
    "\n",
    "print(f\"string_dict: {string_dict}\")\n",
    "print(f\"num_dict: {num_dict}\")"
   ]
  },
  {
   "cell_type": "code",
   "execution_count": 11,
   "metadata": {},
   "outputs": [
    {
     "name": "stdout",
     "output_type": "stream",
     "text": [
      "This is a string which\n",
      "can continue onto a new line. When printed, it will appear\n",
      "exactly as written between the triple quotes. This is commonly used for\n",
      "commenting classes and functions, thus the name 'Docstring'\n"
     ]
    }
   ],
   "source": [
    "# Docstring/Pre-formatted string\n",
    "st: str = \"\"\"This is a string which\n",
    "can continue onto a new line. When printed, it will appear\n",
    "exactly as written between the triple quotes. This is commonly used for\n",
    "commenting classes and functions, thus the name 'Docstring'\"\"\"\n",
    "\n",
    "print(st)"
   ]
  },
  {
   "attachments": {},
   "cell_type": "markdown",
   "metadata": {},
   "source": [
    "### [&#8593;](#toc0_) <a id='toc3_2_'></a>Statements\n"
   ]
  },
  {
   "attachments": {},
   "cell_type": "markdown",
   "metadata": {},
   "source": [
    "-   Statements in Python are separated into lines\n"
   ]
  },
  {
   "cell_type": "code",
   "execution_count": 12,
   "metadata": {},
   "outputs": [
    {
     "name": "stdout",
     "output_type": "stream",
     "text": [
      "3 + 4 = 7\n"
     ]
    }
   ],
   "source": [
    "result: int = 3 + 4\n",
    "print(f\"3 + 4 = {result}\")"
   ]
  },
  {
   "attachments": {},
   "cell_type": "markdown",
   "metadata": {},
   "source": [
    "-   But we can also make them more compact on a single line\n",
    "-   We can use `;` to separate multiple statements\n",
    "-   However, this is not Pythonic and is not recommended\n"
   ]
  },
  {
   "attachments": {},
   "cell_type": "markdown",
   "metadata": {},
   "source": [
    "-   Backslash can be used to continue a statement on the next line\n",
    "-   However, this is not Pythonic and is not recommended\n"
   ]
  },
  {
   "cell_type": "code",
   "execution_count": 13,
   "metadata": {},
   "outputs": [
    {
     "name": "stdout",
     "output_type": "stream",
     "text": [
      "3 + 4 = 7\n"
     ]
    }
   ],
   "source": [
    "result = 3 + 4\n",
    "print(f\"3 + 4 = {result}\")\n"
   ]
  },
  {
   "cell_type": "code",
   "execution_count": 14,
   "metadata": {},
   "outputs": [
    {
     "name": "stdout",
     "output_type": "stream",
     "text": [
      "add(5, 4, 6) = 15\n"
     ]
    }
   ],
   "source": [
    "# Defining a function\n",
    "def add(a: int, b: int, c: int) -> int:\n",
    "    return a + b + c\n",
    "\n",
    "\n",
    "# Function calls can skip lines on arguments\n",
    "res: int = add(5, 4, 6)\n",
    "\n",
    "print(f\"add(5, 4, 6) = {res}\")"
   ]
  },
  {
   "cell_type": "code",
   "execution_count": 15,
   "metadata": {},
   "outputs": [
    {
     "name": "stdout",
     "output_type": "stream",
     "text": [
      "5050\n"
     ]
    }
   ],
   "source": [
    "# Compound Statement Block\n",
    "total = 0\n",
    "i = 0\n",
    "\n",
    "while i <= 100:\n",
    "    total += i\n",
    "    i += 1\n",
    "\n",
    "print(total)"
   ]
  },
  {
   "attachments": {},
   "cell_type": "markdown",
   "metadata": {},
   "source": [
    "### [&#8593;](#toc0_) <a id='toc3_3_'></a>Variables\n"
   ]
  },
  {
   "attachments": {},
   "cell_type": "markdown",
   "metadata": {},
   "source": [
    "-   **In Python, everything is an as object**\n",
    "    -   Objects can store single value or multiple values\n",
    "-   A variable is a named storage location\n",
    "    -   Variables store _reference_ to the object containing the data, not the data value itself\n",
    "    -   A reference is the memory address of the location where the object is stored\n",
    "-   A variable itself does not have a type and thus can store a reference to any type of object\n",
    "    -   It is the object that has a data type\n",
    "-   A variable cannot be used before it has been created by an assignment of a reference to some object\n",
    "    -   Attempting to do so will generate an error\n",
    "-   If all references to an object are removed, it is automatically destroyed as part of Python's _Garbage Collection_\n",
    "-   _In CPython, we can get the memory address of a variable with `id()`_\n"
   ]
  },
  {
   "cell_type": "code",
   "execution_count": 16,
   "metadata": {},
   "outputs": [
    {
     "name": "stdout",
     "output_type": "stream",
     "text": [
      "address int of total: 1774953555824\n",
      "address hex of total: 0x19d4379e770\n",
      "address bin of total: 0b11001110101000011011110011110011101110000\n"
     ]
    }
   ],
   "source": [
    "# Get memory address of total in integer\n",
    "print(f\"address int of total: {id(total)}\")\n",
    "\n",
    "# Get memory address of total in hexadecimal\n",
    "print(f\"address hex of total: {hex(id(total))}\")\n",
    "\n",
    "# Get memory address of total in binary\n",
    "print(f\"address bin of total: {bin(id(total))}\")"
   ]
  },
  {
   "attachments": {},
   "cell_type": "markdown",
   "metadata": {},
   "source": [
    "#### [&#8593;](#toc0_) <a id='toc3_3_1_'></a>Assignment\n"
   ]
  },
  {
   "cell_type": "code",
   "execution_count": 17,
   "metadata": {},
   "outputs": [],
   "source": [
    "# Create three variables and assign references to each of the given literal values\n",
    "name: str = \"John Smith\"\n",
    "id_num: int = 42\n",
    "avg: float = 3.45"
   ]
  },
  {
   "attachments": {},
   "cell_type": "markdown",
   "metadata": {},
   "source": [
    "#### [&#8593;](#toc0_) <a id='toc3_3_2_'></a>Aliasing\n"
   ]
  },
  {
   "cell_type": "code",
   "execution_count": 18,
   "metadata": {},
   "outputs": [],
   "source": [
    "# These variables point to the same data in memory as the previous variables\n",
    "another_name: str = name\n",
    "another_id: int = id_num\n",
    "another_avg: float = avg"
   ]
  },
  {
   "attachments": {},
   "cell_type": "markdown",
   "metadata": {},
   "source": [
    "#### [&#8593;](#toc0_) <a id='toc3_3_3_'></a>Null Reference\n"
   ]
  },
  {
   "attachments": {},
   "cell_type": "markdown",
   "metadata": {},
   "source": [
    "-   The special object `None` is used to set a null reference\n"
   ]
  },
  {
   "cell_type": "code",
   "execution_count": 19,
   "metadata": {},
   "outputs": [],
   "source": [
    "from typing import Optional\n",
    "\n",
    "# When a variable points to None, it has a Null Reference\n",
    "grade: Optional[str] = None"
   ]
  },
  {
   "attachments": {},
   "cell_type": "markdown",
   "metadata": {},
   "source": [
    "#### [&#8593;](#toc0_) <a id='toc3_3_4_'></a>Constants\n"
   ]
  },
  {
   "attachments": {},
   "cell_type": "markdown",
   "metadata": {},
   "source": [
    "-   **Python does not support real constants**\n",
    "-   Instead, it is common practice to specify pseudo-constant variables with all capital letters\n",
    "    -   But in reality, they are still variables and their values can be changed\n",
    "    -   There is no way to enforce the concept of a constant and keep its value from being changed\n"
   ]
  },
  {
   "cell_type": "code",
   "execution_count": 20,
   "metadata": {},
   "outputs": [
    {
     "name": "stdout",
     "output_type": "stream",
     "text": [
      "TAX_RATE: 0.06\n",
      "MAX_SIZE: 100\n"
     ]
    }
   ],
   "source": [
    "from typing import Final\n",
    "\n",
    "TAX_RATE: Final[float] = 0.06\n",
    "MAX_SIZE: Final[float] = 100\n",
    "\n",
    "print(f\"TAX_RATE: {TAX_RATE}\")\n",
    "print(f\"MAX_SIZE: {MAX_SIZE}\")"
   ]
  },
  {
   "attachments": {},
   "cell_type": "markdown",
   "metadata": {},
   "source": [
    "### [&#8593;](#toc0_) <a id='toc3_4_'></a>Arithmetic Operations and Compound Operators\n"
   ]
  },
  {
   "cell_type": "code",
   "execution_count": 21,
   "metadata": {},
   "outputs": [
    {
     "name": "stdout",
     "output_type": "stream",
     "text": [
      "2\n"
     ]
    }
   ],
   "source": [
    "x: float = 2\n",
    "print(x)"
   ]
  },
  {
   "cell_type": "code",
   "execution_count": 22,
   "metadata": {},
   "outputs": [
    {
     "name": "stdout",
     "output_type": "stream",
     "text": [
      "4\n"
     ]
    }
   ],
   "source": [
    "# Addition\n",
    "1 + 1\n",
    "x = 2\n",
    "x += 2\n",
    "print(x)"
   ]
  },
  {
   "cell_type": "code",
   "execution_count": 23,
   "metadata": {},
   "outputs": [
    {
     "name": "stdout",
     "output_type": "stream",
     "text": [
      "1\n"
     ]
    }
   ],
   "source": [
    "# Subtraction\n",
    "2 - 1\n",
    "x = 2\n",
    "x -= 1\n",
    "print(x)"
   ]
  },
  {
   "cell_type": "code",
   "execution_count": 24,
   "metadata": {},
   "outputs": [
    {
     "name": "stdout",
     "output_type": "stream",
     "text": [
      "6\n"
     ]
    }
   ],
   "source": [
    "# Multiplication\n",
    "123 * 455\n",
    "x = 2\n",
    "x *= 3\n",
    "print(x)"
   ]
  },
  {
   "cell_type": "code",
   "execution_count": 25,
   "metadata": {},
   "outputs": [
    {
     "name": "stdout",
     "output_type": "stream",
     "text": [
      "0.6666666666666666\n"
     ]
    }
   ],
   "source": [
    "# Division (Default division for Python3)\n",
    "123 / 456\n",
    "x = 2\n",
    "x /= 3\n",
    "print(x)"
   ]
  },
  {
   "cell_type": "code",
   "execution_count": 26,
   "metadata": {},
   "outputs": [
    {
     "name": "stdout",
     "output_type": "stream",
     "text": [
      "0\n"
     ]
    }
   ],
   "source": [
    "# Floor Division: Round the result to an integer\n",
    "123 // 456\n",
    "x = 2\n",
    "x //= 3\n",
    "print(x)"
   ]
  },
  {
   "cell_type": "code",
   "execution_count": 27,
   "metadata": {},
   "outputs": [
    {
     "name": "stdout",
     "output_type": "stream",
     "text": [
      "0\n"
     ]
    }
   ],
   "source": [
    "# Modulo\n",
    "4 % 2\n",
    "x = 2\n",
    "x %= 2\n",
    "print(x)"
   ]
  },
  {
   "cell_type": "code",
   "execution_count": 28,
   "metadata": {},
   "outputs": [
    {
     "name": "stdout",
     "output_type": "stream",
     "text": [
      "8\n"
     ]
    }
   ],
   "source": [
    "# Power\n",
    "2**3\n",
    "x = 2\n",
    "x **= 3\n",
    "print(x)"
   ]
  },
  {
   "attachments": {},
   "cell_type": "markdown",
   "metadata": {},
   "source": [
    "_Special care must be taken when using the power operator with negative literal values._\n"
   ]
  },
  {
   "attachments": {},
   "cell_type": "markdown",
   "metadata": {},
   "source": [
    "### [&#8593;](#toc0_) <a id='toc3_5_'></a>Logical Operations\n"
   ]
  },
  {
   "attachments": {},
   "cell_type": "markdown",
   "metadata": {},
   "source": [
    "-   The logical operators are evaluated from left to right based on their order of precedence\n"
   ]
  },
  {
   "attachments": {},
   "cell_type": "markdown",
   "metadata": {},
   "source": [
    "#### [&#8593;](#toc0_) <a id='toc3_5_1_'></a>Relational Operators\n"
   ]
  },
  {
   "cell_type": "code",
   "execution_count": 29,
   "metadata": {},
   "outputs": [],
   "source": [
    "avg = 70  # Assignment"
   ]
  },
  {
   "cell_type": "code",
   "execution_count": 30,
   "metadata": {},
   "outputs": [
    {
     "data": {
      "text/plain": [
       "True"
      ]
     },
     "execution_count": 30,
     "metadata": {},
     "output_type": "execute_result"
    }
   ],
   "source": [
    "avg == 70  # Equality"
   ]
  },
  {
   "cell_type": "code",
   "execution_count": 31,
   "metadata": {},
   "outputs": [
    {
     "data": {
      "text/plain": [
       "True"
      ]
     },
     "execution_count": 31,
     "metadata": {},
     "output_type": "execute_result"
    }
   ],
   "source": [
    "avg > 69  # Greater Than"
   ]
  },
  {
   "cell_type": "code",
   "execution_count": 32,
   "metadata": {},
   "outputs": [
    {
     "data": {
      "text/plain": [
       "False"
      ]
     },
     "execution_count": 32,
     "metadata": {},
     "output_type": "execute_result"
    }
   ],
   "source": [
    "avg < 60  # Less Than"
   ]
  },
  {
   "cell_type": "code",
   "execution_count": 33,
   "metadata": {},
   "outputs": [
    {
     "data": {
      "text/plain": [
       "True"
      ]
     },
     "execution_count": 33,
     "metadata": {},
     "output_type": "execute_result"
    }
   ],
   "source": [
    "avg >= 70  # Greater or Equal"
   ]
  },
  {
   "cell_type": "code",
   "execution_count": 34,
   "metadata": {},
   "outputs": [
    {
     "data": {
      "text/plain": [
       "True"
      ]
     },
     "execution_count": 34,
     "metadata": {},
     "output_type": "execute_result"
    }
   ],
   "source": [
    "avg <= 70  # Less or Equal"
   ]
  },
  {
   "cell_type": "code",
   "execution_count": 35,
   "metadata": {},
   "outputs": [
    {
     "data": {
      "text/plain": [
       "False"
      ]
     },
     "execution_count": 35,
     "metadata": {},
     "output_type": "execute_result"
    }
   ],
   "source": [
    "# Strings are compared lexicographically, character by character from left to right\n",
    "\"Hello\" == \"hello\""
   ]
  },
  {
   "cell_type": "code",
   "execution_count": 36,
   "metadata": {},
   "outputs": [
    {
     "data": {
      "text/plain": [
       "True"
      ]
     },
     "execution_count": 36,
     "metadata": {},
     "output_type": "execute_result"
    }
   ],
   "source": [
    "name != avg  # Not equal"
   ]
  },
  {
   "attachments": {},
   "cell_type": "markdown",
   "metadata": {},
   "source": [
    "#### [&#8593;](#toc0_) <a id='toc3_5_2_'></a>Boolean Operators\n"
   ]
  },
  {
   "cell_type": "code",
   "execution_count": 37,
   "metadata": {},
   "outputs": [
    {
     "data": {
      "text/plain": [
       "True"
      ]
     },
     "execution_count": 37,
     "metadata": {},
     "output_type": "execute_result"
    }
   ],
   "source": [
    "# and\n",
    "avg >= 60 and avg <= 70"
   ]
  },
  {
   "cell_type": "code",
   "execution_count": 38,
   "metadata": {},
   "outputs": [
    {
     "data": {
      "text/plain": [
       "True"
      ]
     },
     "execution_count": 38,
     "metadata": {},
     "output_type": "execute_result"
    }
   ],
   "source": [
    "# or\n",
    "avg >= 60 or avg <= 10"
   ]
  },
  {
   "cell_type": "code",
   "execution_count": 39,
   "metadata": {},
   "outputs": [
    {
     "data": {
      "text/plain": [
       "False"
      ]
     },
     "execution_count": 39,
     "metadata": {},
     "output_type": "execute_result"
    }
   ],
   "source": [
    "# not\n",
    "not (avg >= 60 and avg <= 70)"
   ]
  },
  {
   "attachments": {},
   "cell_type": "markdown",
   "metadata": {},
   "source": [
    "#### [&#8593;](#toc0_) <a id='toc3_5_3_'></a>Object References\n"
   ]
  },
  {
   "cell_type": "code",
   "execution_count": 40,
   "metadata": {},
   "outputs": [
    {
     "data": {
      "text/plain": [
       "False"
      ]
     },
     "execution_count": 40,
     "metadata": {},
     "output_type": "execute_result"
    }
   ],
   "source": [
    "from typing import Optional\n",
    "\n",
    "# Comparing References: Pointer in memory\n",
    "name_1: Optional[str] = \"Smith\"\n",
    "name_2: Optional[str] = \"Jones\"\n",
    "name_1 is name_2"
   ]
  },
  {
   "cell_type": "code",
   "execution_count": 41,
   "metadata": {},
   "outputs": [
    {
     "data": {
      "text/plain": [
       "True"
      ]
     },
     "execution_count": 41,
     "metadata": {},
     "output_type": "execute_result"
    }
   ],
   "source": [
    "name_1 is not name_2  # Same as: not (name_1 is name_2)"
   ]
  },
  {
   "cell_type": "code",
   "execution_count": 42,
   "metadata": {},
   "outputs": [
    {
     "data": {
      "text/plain": [
       "True"
      ]
     },
     "execution_count": 42,
     "metadata": {},
     "output_type": "execute_result"
    }
   ],
   "source": [
    "# Making the same reference (point to the same memory location): Aliases\n",
    "name_2 = name_1\n",
    "name_1 is name_2"
   ]
  },
  {
   "cell_type": "code",
   "execution_count": 43,
   "metadata": {},
   "outputs": [
    {
     "data": {
      "text/plain": [
       "False"
      ]
     },
     "execution_count": 43,
     "metadata": {},
     "output_type": "execute_result"
    }
   ],
   "source": [
    "name_1 is not name_2  # Same as: not (name_1 is name_2)"
   ]
  },
  {
   "cell_type": "code",
   "execution_count": 44,
   "metadata": {},
   "outputs": [
    {
     "data": {
      "text/plain": [
       "False"
      ]
     },
     "execution_count": 44,
     "metadata": {},
     "output_type": "execute_result"
    }
   ],
   "source": [
    "# Testing for None value\n",
    "name_1 is None"
   ]
  },
  {
   "cell_type": "code",
   "execution_count": 45,
   "metadata": {},
   "outputs": [
    {
     "data": {
      "text/plain": [
       "False"
      ]
     },
     "execution_count": 45,
     "metadata": {},
     "output_type": "execute_result"
    }
   ],
   "source": [
    "# Testing for None value\n",
    "name_1 = None\n",
    "name_1 is not None"
   ]
  },
  {
   "attachments": {},
   "cell_type": "markdown",
   "metadata": {},
   "source": [
    "### [&#8593;](#toc0_) <a id='toc3_6_'></a>Order of Precendence\n"
   ]
  },
  {
   "attachments": {},
   "cell_type": "markdown",
   "metadata": {},
   "source": [
    "From highest precedence to lowest:\n",
    "\n",
    "```\n",
    "()                            Parentheses (grouping)\n",
    "f(args...)                    Function call\n",
    "x[index:index]                Slicing\n",
    "x[index]                      Subscription\n",
    "x.attribute                   Attribute reference\n",
    "**                            Exponentiation\n",
    "~x                            Bitwise Not\n",
    "+x, -x                        Positive, Negative\n",
    "*, /, %                       Multiplication, division, remainder\n",
    "+, -                          Addition, subtraction\n",
    "<<, >>                        Bitwise shifts\n",
    "&                             Bitwise AND\n",
    "^                             Bitwise XOR\n",
    "|                             Bitwise OR\n",
    "in, not in,\n",
    "is, is not,                   Comparisons, membership, identity\n",
    "<, <=, >, >=, <>, !=, ==\n",
    "not x                         Boolean NOT\n",
    "and                           Boolean AND\n",
    "or                            Boolean OR\n",
    "lambda                        Lambda expression\n",
    "```\n"
   ]
  },
  {
   "attachments": {},
   "cell_type": "markdown",
   "metadata": {},
   "source": [
    "### [&#8593;](#toc0_) <a id='toc3_7_'></a>Functions and Methods\n"
   ]
  },
  {
   "cell_type": "code",
   "execution_count": 46,
   "metadata": {},
   "outputs": [
    {
     "name": "stdout",
     "output_type": "stream",
     "text": [
      "abs(-12): 12\n"
     ]
    }
   ],
   "source": [
    "# Function call\n",
    "x = -12\n",
    "y: float = abs(x)  # Absolute Value\n",
    "print(f\"abs(-12): {y}\")"
   ]
  },
  {
   "cell_type": "code",
   "execution_count": 47,
   "metadata": {},
   "outputs": [
    {
     "name": "stdout",
     "output_type": "stream",
     "text": [
      "int_str: 45\n",
      "float_str: 56.89\n",
      "bool_str: False\n"
     ]
    }
   ],
   "source": [
    "# All values in Python are stored in objects that are created or instantiated from classes\n",
    "# str() constructor can also be used to create string representations of other data types\n",
    "int_str: str = str(45)  # \"45\"\n",
    "float_str: str = str(56.89)  # \"56.89\"\n",
    "bool_str: str = str(False)  # \"False\"\n",
    "\n",
    "print(f\"int_str: {int_str}\")\n",
    "print(f\"float_str: {float_str}\")\n",
    "print(f\"bool_str: {bool_str}\")"
   ]
  },
  {
   "cell_type": "code",
   "execution_count": 48,
   "metadata": {},
   "outputs": [
    {
     "name": "stdout",
     "output_type": "stream",
     "text": [
      "name_lower: jane green\n",
      "name_upper: JANE GREEN\n"
     ]
    }
   ],
   "source": [
    "# Applying methods on objects\n",
    "name = \"Jane Green\"\n",
    "name_lower: str = name.lower()\n",
    "name_upper: str = name.upper()\n",
    "\n",
    "print(f\"name_lower: {name_lower}\")\n",
    "print(f\"name_upper: {name_upper}\")"
   ]
  },
  {
   "attachments": {},
   "cell_type": "markdown",
   "metadata": {},
   "source": [
    "### [&#8593;](#toc0_) <a id='toc3_8_'></a>Standard Library\n"
   ]
  },
  {
   "attachments": {},
   "cell_type": "markdown",
   "metadata": {},
   "source": [
    "-   Built-in Types\n",
    "-   Built-in Functions\n",
    "-   Class Definitions\n",
    "-   Modules\n"
   ]
  },
  {
   "attachments": {},
   "cell_type": "markdown",
   "metadata": {},
   "source": [
    "#### [&#8593;](#toc0_) <a id='toc3_8_1_'></a>Import Statements\n"
   ]
  },
  {
   "cell_type": "code",
   "execution_count": 49,
   "metadata": {},
   "outputs": [
    {
     "name": "stdout",
     "output_type": "stream",
     "text": [
      "sqrt(5): 2.23606797749979\n"
     ]
    }
   ],
   "source": [
    "# General Import: Import all functions from a module\n",
    "from math import *\n",
    "\n",
    "print(f\"sqrt(5): {sqrt(5)}\")"
   ]
  },
  {
   "cell_type": "code",
   "execution_count": 50,
   "metadata": {},
   "outputs": [
    {
     "name": "stdout",
     "output_type": "stream",
     "text": [
      "sqrt(5): 2.23606797749979\n"
     ]
    }
   ],
   "source": [
    "# Specific Import: Import only a specific function from a module\n",
    "from math import sqrt\n",
    "\n",
    "print(f\"sqrt(5): {sqrt(5)}\")"
   ]
  },
  {
   "cell_type": "code",
   "execution_count": 51,
   "metadata": {},
   "outputs": [
    {
     "name": "stdout",
     "output_type": "stream",
     "text": [
      "sqrt(5): 2.23606797749979\n"
     ]
    }
   ],
   "source": [
    "# Namespace Import: Import the whole module as an alias\n",
    "import math as mt\n",
    "\n",
    "print(f\"sqrt(5): {mt.sqrt(5)}\")"
   ]
  },
  {
   "attachments": {},
   "cell_type": "markdown",
   "metadata": {},
   "source": [
    "## [&#8593;](#toc0_) <a id='toc4_'></a>User Interactions\n"
   ]
  },
  {
   "attachments": {},
   "cell_type": "markdown",
   "metadata": {},
   "source": [
    "### [&#8593;](#toc0_) <a id='toc4_1_'></a>Standard Input\n"
   ]
  },
  {
   "cell_type": "code",
   "execution_count": 52,
   "metadata": {},
   "outputs": [
    {
     "name": "stdout",
     "output_type": "stream",
     "text": [
      "Your name is John\n"
     ]
    }
   ],
   "source": [
    "# Grab textual input from user\n",
    "user_name: str = input(\"What is your name? \")\n",
    "print(f\"Your name is {user_name}\")"
   ]
  },
  {
   "cell_type": "code",
   "execution_count": 53,
   "metadata": {},
   "outputs": [
    {
     "name": "stdout",
     "output_type": "stream",
     "text": [
      "Your gpa is 4.0\n"
     ]
    }
   ],
   "source": [
    "# Grab textual input from user\n",
    "user_input: str = input(\"What is your gpa? \")\n",
    "\n",
    "try:\n",
    "    gpa: float = float(user_input)\n",
    "    print(f\"Your gpa is {gpa}\")\n",
    "except Exception as err:\n",
    "    print(f\"Error: {err}\")"
   ]
  },
  {
   "attachments": {},
   "cell_type": "markdown",
   "metadata": {},
   "source": [
    "### [&#8593;](#toc0_) <a id='toc4_2_'></a>Standard Output\n"
   ]
  },
  {
   "cell_type": "code",
   "execution_count": 54,
   "metadata": {},
   "outputs": [
    {
     "name": "stdout",
     "output_type": "stream",
     "text": [
      "Hello World!!\n"
     ]
    }
   ],
   "source": [
    "# Print to Standard Output\n",
    "print(\"Hello World!!\")"
   ]
  },
  {
   "cell_type": "code",
   "execution_count": 55,
   "metadata": {},
   "outputs": [
    {
     "name": "stdout",
     "output_type": "stream",
     "text": [
      "Your average is\n",
      "13.666666666666666\n"
     ]
    }
   ],
   "source": [
    "# Print() only outputs strings\n",
    "avg = (10 + 15 + 16) / 3.0\n",
    "\n",
    "print(\"Your average is\")\n",
    "print(avg)"
   ]
  },
  {
   "cell_type": "code",
   "execution_count": 56,
   "metadata": {},
   "outputs": [
    {
     "name": "stdout",
     "output_type": "stream",
     "text": [
      "Your average is 13.666666666666666\n"
     ]
    }
   ],
   "source": [
    "# Multiple arguments\n",
    "print(\"Your average is\", avg)"
   ]
  },
  {
   "cell_type": "code",
   "execution_count": 57,
   "metadata": {},
   "outputs": [
    {
     "name": "stdout",
     "output_type": "stream",
     "text": [
      "Your average is 13.666666666666666\n"
     ]
    }
   ],
   "source": [
    "# Changing ending: Default = Line feed \\n\n",
    "print(\"Your average is\", end=\" \")\n",
    "print(avg)"
   ]
  },
  {
   "attachments": {},
   "cell_type": "markdown",
   "metadata": {},
   "source": [
    "#### [&#8593;](#toc0_) <a id='toc4_2_1_'></a>Escape Sequences\n"
   ]
  },
  {
   "attachments": {},
   "cell_type": "markdown",
   "metadata": {},
   "source": [
    "-   `\\\\` Backslash (`\\`)\n",
    "-   `\\n` Newline / Newfeed\n",
    "-   `\\\"` Double quote (`\"`)\n",
    "-   `\\'` Single quote (`'`)\n",
    "-   `\\t` Tab\n",
    "-   `\\r` Carriage Return\n"
   ]
  },
  {
   "attachments": {},
   "cell_type": "markdown",
   "metadata": {},
   "source": [
    "#### [&#8593;](#toc0_) <a id='toc4_2_2_'></a>Formatted Output\n"
   ]
  },
  {
   "cell_type": "code",
   "execution_count": 58,
   "metadata": {},
   "outputs": [
    {
     "name": "stdout",
     "output_type": "stream",
     "text": [
      "Your average is 13.67\n"
     ]
    }
   ],
   "source": [
    "# Modulo Operator Overloading\n",
    "print(\"Your average is %5.2f\" % avg)"
   ]
  },
  {
   "cell_type": "code",
   "execution_count": 59,
   "metadata": {},
   "outputs": [
    {
     "name": "stdout",
     "output_type": "stream",
     "text": [
      "His name is John and his age is 43\n"
     ]
    }
   ],
   "source": [
    "name = \"John\"\n",
    "age = 43\n",
    "print(\"His name is %s and his age is %s\" % (name, age))"
   ]
  },
  {
   "cell_type": "code",
   "execution_count": 60,
   "metadata": {},
   "outputs": [
    {
     "name": "stdout",
     "output_type": "stream",
     "text": [
      "His name is John and his age is 43\n"
     ]
    }
   ],
   "source": [
    "# We can also make use of the str.format() method\n",
    "name = \"John\"\n",
    "age = 43\n",
    "print(\"His name is {name} and his age is {age}\".format(name=name, age=age))"
   ]
  },
  {
   "cell_type": "code",
   "execution_count": 61,
   "metadata": {},
   "outputs": [
    {
     "name": "stdout",
     "output_type": "stream",
     "text": [
      "His name is John and his age is 43\n"
     ]
    }
   ],
   "source": [
    "# We can also make use of string interpolation\n",
    "name = \"John\"\n",
    "age = 43\n",
    "print(f\"His name is {name} and his age is {age}\")"
   ]
  },
  {
   "cell_type": "code",
   "execution_count": 62,
   "metadata": {},
   "outputs": [
    {
     "name": "stdout",
     "output_type": "stream",
     "text": [
      "His name is John and his age is 43\n"
     ]
    }
   ],
   "source": [
    "# We can also make use of basic concatenation\n",
    "name = \"John\"\n",
    "age = 43\n",
    "print(\"His name is \" + str(name) + \" and his age is \" + str(age))"
   ]
  },
  {
   "attachments": {},
   "cell_type": "markdown",
   "metadata": {},
   "source": [
    "General Format: `%[flags][width][.precision]code`\n"
   ]
  },
  {
   "attachments": {},
   "cell_type": "markdown",
   "metadata": {},
   "source": [
    "-   `flags` indicates zero fills or optional justification and is one of the following:\n",
    "    -   `0` -- Fill preceding blank spaces within the field with zeroes.\n",
    "    -   `+` -- Right-justify the value within the field.\n",
    "    -   `-` -- Left-justify the value within the field.\n",
    "-   `width` is an integer value indicating the number of spaces in the field used when formatting the replacement value\n",
    "-   `precision` is the number of digits to be printed after the decimal place when printing a floating-point value\n",
    "-   `code` indicates the type of data that is to replace the field specifier. It can be one of the following:\n",
    "    -   `%s` String\n",
    "    -   `%d` Decimal or integer\n",
    "    -   `%i` Same as `%d`\n",
    "    -   `%f` Floating-point\n",
    "    -   `%c` Character\n",
    "    -   `%u` Unsigned integer\n",
    "    -   `%o` Octal integer\n",
    "    -   `%x` Hexadecimal integer\n",
    "    -   `%X` Same as `%x` but uppercase\n",
    "    -   `%e` Scientific notation\n",
    "    -   `%E` Uppercase version of `%e`\n",
    "    -   `%g` Same as `%e`\n",
    "    -   `%G` Uppercase version of `%g`\n",
    "    -   `%%` Prints a literal `%`\n"
   ]
  },
  {
   "attachments": {},
   "cell_type": "markdown",
   "metadata": {},
   "source": [
    "## [&#8593;](#toc0_) <a id='toc5_'></a>Control Structures\n"
   ]
  },
  {
   "attachments": {},
   "cell_type": "markdown",
   "metadata": {},
   "source": [
    "### [&#8593;](#toc0_) <a id='toc5_1_'></a>Selection Constructs (Conditioning)\n"
   ]
  },
  {
   "cell_type": "code",
   "execution_count": 63,
   "metadata": {},
   "outputs": [
    {
     "name": "stdout",
     "output_type": "stream",
     "text": [
      "1.00 is less than 5\n"
     ]
    }
   ],
   "source": [
    "# Simple if-statement\n",
    "x = 1\n",
    "if x < 5:\n",
    "    print(f\"{x:0.2f} is less than 5\")"
   ]
  },
  {
   "cell_type": "code",
   "execution_count": 64,
   "metadata": {},
   "outputs": [
    {
     "name": "stdout",
     "output_type": "stream",
     "text": [
      "1.00 is positive\n"
     ]
    }
   ],
   "source": [
    "# If-Else\n",
    "x = 1\n",
    "if x < 0:\n",
    "    print(\"{:0.2f} is negative\".format(x))\n",
    "else:\n",
    "    print(\"{:0.2f} is positive\".format(x))"
   ]
  },
  {
   "cell_type": "code",
   "execution_count": 65,
   "metadata": {},
   "outputs": [
    {
     "name": "stdout",
     "output_type": "stream",
     "text": [
      "smallest is 0\n"
     ]
    }
   ],
   "source": [
    "# Nested-If\n",
    "num_1: int = 3\n",
    "num_2: int = 4\n",
    "num_3: int = 0\n",
    "\n",
    "if num_1 < num_2:\n",
    "    if num_1 < num_3:\n",
    "        smallest = num_1\n",
    "    else:\n",
    "        smallest = num_3\n",
    "else:\n",
    "    if num_2 < num_3:\n",
    "        smallest = num_2\n",
    "    else:\n",
    "        smallest = num_3\n",
    "\n",
    "print(f\"smallest is {smallest}\")"
   ]
  },
  {
   "cell_type": "code",
   "execution_count": 66,
   "metadata": {},
   "outputs": [
    {
     "name": "stdout",
     "output_type": "stream",
     "text": [
      "B\n"
     ]
    }
   ],
   "source": [
    "# Multiway branching\n",
    "avg_grade: float = 87.0\n",
    "letter_grade: str\n",
    "\n",
    "if avg_grade >= 90.0:\n",
    "    letter_grade = \"A\"\n",
    "elif avg_grade >= 80.0:\n",
    "    letter_grade = \"B\"\n",
    "elif avg_grade >= 70.0:\n",
    "    letter_grade = \"C\"\n",
    "elif avg_grade >= 60.0:\n",
    "    letter_grade = \"D\"\n",
    "else:\n",
    "    letter_grade = \"F\"\n",
    "\n",
    "print(letter_grade)"
   ]
  },
  {
   "cell_type": "code",
   "execution_count": 67,
   "metadata": {},
   "outputs": [
    {
     "name": "stdout",
     "output_type": "stream",
     "text": [
      "-1 is negative\n"
     ]
    }
   ],
   "source": [
    "# Python Conditional Shortcut\n",
    "x = -1\n",
    "print(f\"{x} is negative\") if x < 0 else print(f\"{x} is positive\")"
   ]
  },
  {
   "attachments": {},
   "cell_type": "markdown",
   "metadata": {},
   "source": [
    "### [&#8593;](#toc0_) <a id='toc5_2_'></a>Structural Pattern Matching\n"
   ]
  },
  {
   "attachments": {},
   "cell_type": "markdown",
   "metadata": {},
   "source": [
    "-   `match case` statements is Python's version to mimic `switch-case` statement\n",
    "-   Also adds additional powerful features alongside\n",
    "-   **NOTE: This is only available starting with Python v3.10**\n"
   ]
  },
  {
   "cell_type": "code",
   "execution_count": 68,
   "metadata": {},
   "outputs": [
    {
     "data": {
      "text/plain": [
       "\"It's the weekend!\""
      ]
     },
     "execution_count": 68,
     "metadata": {},
     "output_type": "execute_result"
    }
   ],
   "source": [
    "def which_day(day: str) -> str:\n",
    "    match day:\n",
    "        case \"Monday\":\n",
    "            return \"Here we go again...\"\n",
    "        case \"Friday\":\n",
    "            return \"Happy Friday!\"\n",
    "        case \"Saturday\" | \"Sunday\":  # Multiple literals can be combined with \"|\"\n",
    "            return \"It's the weekend!\"\n",
    "        case _:  # Optional default. If not defined, return None when no case match\n",
    "            return \"Just another day\"\n",
    "\n",
    "\n",
    "# Testing\n",
    "which_day(\"Saturday\")"
   ]
  },
  {
   "attachments": {},
   "cell_type": "markdown",
   "metadata": {},
   "source": [
    "-   We can also match complex patterns\n",
    "-   `_` wildcard can also be used inside the complex patterns\n"
   ]
  },
  {
   "cell_type": "code",
   "execution_count": 69,
   "metadata": {},
   "outputs": [
    {
     "name": "stdout",
     "output_type": "stream",
     "text": [
      "John is a 25 years old man\n",
      "Mary is a 20 year old woman\n",
      "Eric is 30 years old\n"
     ]
    }
   ],
   "source": [
    "def which_person(person: tuple[str, str, int]) -> None:  # person = (name, gender, age)\n",
    "    match person:\n",
    "        case (name, \"male\", age):\n",
    "            print(f\"{name} is a {age} years old man\")\n",
    "        case (name, \"female\", age):\n",
    "            print(f\"{name} is a {age} year old woman\")\n",
    "        case (name, _, age):\n",
    "            print(f\"{name} is {age} years old\")\n",
    "\n",
    "\n",
    "# Calling\n",
    "pers_1: tuple[str, str, int] = (\"John\", \"male\", 25)\n",
    "which_person(pers_1)  # => John is a 25 years old man\n",
    "\n",
    "pers_2: tuple[str, str, int] = (\"Mary\", \"female\", 20)\n",
    "which_person(pers_2)  # => Mary is a 20 year old woman\n",
    "\n",
    "pers_3: tuple[str, str, int] = (\"Eric\", \"N/A\", 30)\n",
    "which_person(pers_3)  # => Eric is 30 years old"
   ]
  },
  {
   "attachments": {},
   "cell_type": "markdown",
   "metadata": {},
   "source": [
    "-   We are not limited to simple data structures\n",
    "    -   Here, we match against class attributes with patterns that resemble class constructor\n",
    "    -   When using this approach, individual attributes get captured into variables\n"
   ]
  },
  {
   "attachments": {},
   "cell_type": "markdown",
   "metadata": {},
   "source": [
    "```py\n",
    "# This pattern is not fully supported by mypy yet\n",
    "from dataclasses import dataclass\n",
    "\n",
    "@dataclass\n",
    "class Person:\n",
    "    name: str\n",
    "    age: int\n",
    "    gender: str\n",
    "\n",
    "def which_person2(person: Person):\n",
    "    match person:\n",
    "        # This is not a constructor-call but a pattern matching the used constructor\n",
    "        # + Additional conditions to guard for extra filtering\n",
    "        case Person(name, age, gender) if age < 18:\n",
    "            print(f\"{name} is a child\")\n",
    "        # Wildcard (\"throw-away\" variable) can be used\n",
    "        case Person(name=name, age=_, gender=\"male\"):\n",
    "            print(f\"{name} is a man and is {age} years old\")\n",
    "        case Person(name=name, age=_, gender=\"female\"):\n",
    "            print(f\"{name} is a woman and is {age} years old\")\n",
    "        case Person(name, age, gender):\n",
    "            print(f\"{name} is a {gender} and is {age} years old\")\n",
    "```\n"
   ]
  },
  {
   "attachments": {},
   "cell_type": "markdown",
   "metadata": {},
   "source": [
    "-   We can also use _Nested Patterns_, which can use iterables\n"
   ]
  },
  {
   "attachments": {},
   "cell_type": "markdown",
   "metadata": {},
   "source": [
    "```py\n",
    "# This pattern is not fully supported by mypy yet\n",
    "from dataclasses import dataclass\n",
    "\n",
    "@dataclass\n",
    "class Person:\n",
    "    name: str\n",
    "    age: int\n",
    "    gender: str\n",
    "\n",
    "users = [\n",
    "    Person(\"John\", \"male\", 25),\n",
    "    Person(\"Mary\", \"female\", 20),\n",
    "    Person(\"Eric\", None, 30)\n",
    "]\n",
    "\n",
    "match users:\n",
    "    # We are matching a list of Persons\n",
    "    case [Person()]:\n",
    "        print(\"One user provided\")\n",
    "    # Capture subpattern into variables for futher processing: `as var`\n",
    "    case [Person(), Person() as second]:\n",
    "        print(f\"There is another user: {second}\")\n",
    "    # *var operator can be used to \"unpack\" variables in the pattern\n",
    "    case [*rest]:\n",
    "        count = len(rest)\n",
    "        print(f\"We have a lot of users... Precisely {count} users\")\n",
    "```\n"
   ]
  },
  {
   "attachments": {},
   "cell_type": "markdown",
   "metadata": {},
   "source": [
    "### [&#8593;](#toc0_) <a id='toc5_3_'></a>Repetition Constructs\n"
   ]
  },
  {
   "attachments": {},
   "cell_type": "markdown",
   "metadata": {},
   "source": [
    "#### [&#8593;](#toc0_) <a id='toc5_3_1_'></a>While Loop\n"
   ]
  },
  {
   "attachments": {},
   "cell_type": "markdown",
   "metadata": {},
   "source": [
    "-   Event-Controlled Loop\n",
    "-   Executed until an event or a sentinel value happens\n"
   ]
  },
  {
   "cell_type": "code",
   "execution_count": 70,
   "metadata": {},
   "outputs": [
    {
     "name": "stdout",
     "output_type": "stream",
     "text": [
      "The sum = 5050\n"
     ]
    }
   ],
   "source": [
    "num_sum: int = 0\n",
    "\n",
    "# Initialization\n",
    "i = 1\n",
    "\n",
    "# Condition\n",
    "while i <= 100:\n",
    "    num_sum += i  # Action\n",
    "    i += 1  # Modification\n",
    "\n",
    "print(f\"The sum = {num_sum}\")"
   ]
  },
  {
   "cell_type": "code",
   "execution_count": 71,
   "metadata": {},
   "outputs": [
    {
     "name": "stdout",
     "output_type": "stream",
     "text": [
      "The average grade is 92.00\n"
     ]
    }
   ],
   "source": [
    "total = 0\n",
    "count: int = 0\n",
    "value: int = int(input(\"Enter the first grade: \"))\n",
    "\n",
    "while value >= 0:\n",
    "    total += value\n",
    "    count += 1\n",
    "    value = int(input(\"Enter the next grade (or < 0 to finalize): \"))\n",
    "\n",
    "avg = total / count\n",
    "print(\"The average grade is %4.2f\" % avg)"
   ]
  },
  {
   "attachments": {},
   "cell_type": "markdown",
   "metadata": {},
   "source": [
    "-   `break` allows to break out of a loop\n",
    "-   `continue` allows to skip an iteration and go to the next iteration\n"
   ]
  },
  {
   "attachments": {},
   "cell_type": "markdown",
   "metadata": {},
   "source": [
    "#### [&#8593;](#toc0_) <a id='toc5_3_2_'></a>For Loop\n"
   ]
  },
  {
   "attachments": {},
   "cell_type": "markdown",
   "metadata": {},
   "source": [
    "-   Count-controlled Loop\n",
    "-   Executed until a pre-known count is reached\n"
   ]
  },
  {
   "cell_type": "code",
   "execution_count": 72,
   "metadata": {},
   "outputs": [
    {
     "name": "stdout",
     "output_type": "stream",
     "text": [
      "The string contained 2 uppercase characters\n"
     ]
    }
   ],
   "source": [
    "# It is better to read `for` as `foreach`\n",
    "count = 0\n",
    "the_string: str = \"Hello World!\"\n",
    "\n",
    "for letter in the_string:\n",
    "    if letter >= \"A\" and letter <= \"Z\":\n",
    "        count += 1\n",
    "\n",
    "print(\"The string contained {:d} uppercase characters\".format(count))"
   ]
  },
  {
   "attachments": {},
   "cell_type": "markdown",
   "metadata": {},
   "source": [
    "#### [&#8593;](#toc0_) <a id='toc5_3_3_'></a>Issue With IEEE 754\n"
   ]
  },
  {
   "cell_type": "code",
   "execution_count": 73,
   "metadata": {},
   "outputs": [
    {
     "name": "stdout",
     "output_type": "stream",
     "text": [
      "Temperature is normal\n",
      "Temperature is normal\n",
      "Temperature is normal\n",
      "Temperature is normal\n",
      "Temperature is normal\n",
      "Temperature is normal\n",
      "Temperature is normal\n",
      "Temperature is normal\n",
      "Temperature is normal\n",
      "Temperature is normal\n",
      "Temperature is normal\n",
      "Temperature is normal\n",
      "Temperature is normal\n",
      "Temperature is normal\n",
      "Temperature is normal\n",
      "Temperature is normal\n",
      "Temperature is normal\n",
      "Temperature is normal\n",
      "Temperature is normal\n",
      "Temperature is normal\n"
     ]
    }
   ],
   "source": [
    "# This snippet shows that Float-Comparison in Python is not appropriate\n",
    "temperature: float = 100.0\n",
    "i = 0\n",
    "\n",
    "while i < 20:\n",
    "    temperature += 0.1\n",
    "    i += 1\n",
    "    if (\n",
    "        temperature == 101.0\n",
    "    ):  # Should break after 10 iterations, but will never return True due to IEEE754 bug\n",
    "        print(\"Overheating! Abort mission!\")\n",
    "        break\n",
    "    else:\n",
    "        print(\"Temperature is normal\")"
   ]
  },
  {
   "attachments": {},
   "cell_type": "markdown",
   "metadata": {},
   "source": [
    "#### [&#8593;](#toc0_) <a id='toc5_3_4_'></a>`range()`\n",
    "\n",
    "-   Useful to define a range of numbers to work with `for`\n"
   ]
  },
  {
   "cell_type": "code",
   "execution_count": 74,
   "metadata": {},
   "outputs": [
    {
     "name": "stdout",
     "output_type": "stream",
     "text": [
      "0 5 10 15 20 25 30 "
     ]
    }
   ],
   "source": [
    "# Third argument indicates the step amount; default is 1.\n",
    "for i in range(0, 31, 5):\n",
    "    print(i, end=\" \")"
   ]
  },
  {
   "cell_type": "code",
   "execution_count": 75,
   "metadata": {},
   "outputs": [
    {
     "name": "stdout",
     "output_type": "stream",
     "text": [
      "30 25 20 15 10 5 "
     ]
    }
   ],
   "source": [
    "# We can decrement through the range of values.\n",
    "for i in range(30, 0, -5):\n",
    "    print(i, end=\" \")"
   ]
  },
  {
   "cell_type": "code",
   "execution_count": 76,
   "metadata": {},
   "outputs": [
    {
     "name": "stdout",
     "output_type": "stream",
     "text": [
      "0 1 2 3 4 "
     ]
    }
   ],
   "source": [
    "# A single argument will iterate through the range, starting at 0.\n",
    "for i in range(5):\n",
    "    print(i, end=\" \")"
   ]
  },
  {
   "attachments": {},
   "cell_type": "markdown",
   "metadata": {},
   "source": [
    "## [&#8593;](#toc0_) <a id='toc6_'></a>Collections\n"
   ]
  },
  {
   "attachments": {},
   "cell_type": "markdown",
   "metadata": {},
   "source": [
    "### [&#8593;](#toc0_) <a id='toc6_1_'></a>Strings\n"
   ]
  },
  {
   "attachments": {},
   "cell_type": "markdown",
   "metadata": {},
   "source": [
    "-   Immutable objects of the built-in `str` class\n"
   ]
  },
  {
   "attachments": {},
   "cell_type": "markdown",
   "metadata": {},
   "source": [
    "#### [&#8593;](#toc0_) <a id='toc6_1_1_'></a>String Concatenation\n"
   ]
  },
  {
   "cell_type": "code",
   "execution_count": 77,
   "metadata": {},
   "outputs": [
    {
     "name": "stdout",
     "output_type": "stream",
     "text": [
      "This is a string\n"
     ]
    }
   ],
   "source": [
    "str_var: str = \"This is \"\n",
    "str_var = str_var + \"a string\"\n",
    "\n",
    "print(str_var)"
   ]
  },
  {
   "cell_type": "code",
   "execution_count": 78,
   "metadata": {},
   "outputs": [
    {
     "name": "stdout",
     "output_type": "stream",
     "text": [
      "I am 20 years old\n"
     ]
    }
   ],
   "source": [
    "# Other data types must be explicitly converted to string before concatenation\n",
    "my_age: int = 20\n",
    "my_intro: str = f\"I am {str(my_age)} years old\"\n",
    "\n",
    "print(my_intro)"
   ]
  },
  {
   "attachments": {},
   "cell_type": "markdown",
   "metadata": {},
   "source": [
    "#### [&#8593;](#toc0_) <a id='toc6_1_2_'></a>String Length\n"
   ]
  },
  {
   "cell_type": "code",
   "execution_count": 79,
   "metadata": {},
   "outputs": [
    {
     "name": "stdout",
     "output_type": "stream",
     "text": [
      "17\n"
     ]
    }
   ],
   "source": [
    "# Use len() to get the length of a string\n",
    "print(len(my_intro))"
   ]
  },
  {
   "attachments": {},
   "cell_type": "markdown",
   "metadata": {},
   "source": [
    "#### [&#8593;](#toc0_) <a id='toc6_1_3_'></a>String Indexing and Slicing\n"
   ]
  },
  {
   "attachments": {},
   "cell_type": "markdown",
   "metadata": {},
   "source": [
    "-   The index used must be within the valid range or an error will be thrown\n",
    "\n",
    "![string-indexing](../files/appendix_a/string-indexing.png)\n"
   ]
  },
  {
   "cell_type": "code",
   "execution_count": 80,
   "metadata": {},
   "outputs": [
    {
     "name": "stdout",
     "output_type": "stream",
     "text": [
      "I\n"
     ]
    }
   ],
   "source": [
    "print(my_intro[0])"
   ]
  },
  {
   "cell_type": "code",
   "execution_count": 81,
   "metadata": {},
   "outputs": [
    {
     "name": "stdout",
     "output_type": "stream",
     "text": [
      "I am\n"
     ]
    }
   ],
   "source": [
    "print(my_intro[0:4])"
   ]
  },
  {
   "cell_type": "code",
   "execution_count": 82,
   "metadata": {},
   "outputs": [
    {
     "name": "stdout",
     "output_type": "stream",
     "text": [
      "dlo sraey 02 ma I\n"
     ]
    }
   ],
   "source": [
    "print(my_intro[::-1])"
   ]
  },
  {
   "attachments": {},
   "cell_type": "markdown",
   "metadata": {},
   "source": [
    "#### [&#8593;](#toc0_) <a id='toc6_1_4_'></a>String Repeat\n"
   ]
  },
  {
   "cell_type": "code",
   "execution_count": 83,
   "metadata": {},
   "outputs": [
    {
     "name": "stdout",
     "output_type": "stream",
     "text": [
      "This Is A Title\n",
      "---------------\n",
      "And This Is Another Longer Title\n",
      "--------------------------------\n"
     ]
    }
   ],
   "source": [
    "title: str = \"this is a title\"\n",
    "title2: str = \"and this is another longer title\"\n",
    "\n",
    "print(title.title())\n",
    "print(\"-\" * len(title))  # Auto-repeat based on the length of the string\n",
    "\n",
    "print(title2.title())\n",
    "print(\"-\" * len(title2))  # Auto-repeat based on the length of the string"
   ]
  },
  {
   "attachments": {},
   "cell_type": "markdown",
   "metadata": {},
   "source": [
    "#### [&#8593;](#toc0_) <a id='toc6_1_5_'></a>String Element Check\n"
   ]
  },
  {
   "attachments": {},
   "cell_type": "markdown",
   "metadata": {},
   "source": [
    "-   `in` and `not in` can be used to check if an element is in the string or not\n"
   ]
  },
  {
   "cell_type": "code",
   "execution_count": 84,
   "metadata": {},
   "outputs": [
    {
     "name": "stdout",
     "output_type": "stream",
     "text": [
      "is 'A' in vowels? True\n"
     ]
    }
   ],
   "source": [
    "vowels: str = \"AEIOUY\"\n",
    "print(\"is 'A' in vowels?\", \"A\" in vowels)"
   ]
  },
  {
   "cell_type": "code",
   "execution_count": 85,
   "metadata": {},
   "outputs": [
    {
     "name": "stdout",
     "output_type": "stream",
     "text": [
      "is 'X' in vowels? False\n"
     ]
    }
   ],
   "source": [
    "print(\"is 'X' in vowels?\", \"X\" in vowels)"
   ]
  },
  {
   "cell_type": "code",
   "execution_count": 86,
   "metadata": {},
   "outputs": [
    {
     "name": "stdout",
     "output_type": "stream",
     "text": [
      "is 'X' not in vowels? True\n"
     ]
    }
   ],
   "source": [
    "print(\"is 'X' not in vowels?\", \"X\" not in vowels)"
   ]
  },
  {
   "attachments": {},
   "cell_type": "markdown",
   "metadata": {},
   "source": [
    "### [&#8593;](#toc0_) <a id='toc6_2_'></a>Lists\n"
   ]
  },
  {
   "attachments": {},
   "cell_type": "markdown",
   "metadata": {},
   "source": [
    "-   Ordered sequence of object references\n",
    "-   Items accessed by subscript\n",
    "-   Comma-separated values\n",
    "-   By reference to another location in the memory\n"
   ]
  },
  {
   "cell_type": "code",
   "execution_count": 87,
   "metadata": {},
   "outputs": [],
   "source": [
    "grade_list: list[int] = [85, 90, 87, 65, 91]\n",
    "list_A: list[int] = []\n",
    "list_B: list[int] = list()"
   ]
  },
  {
   "attachments": {},
   "cell_type": "markdown",
   "metadata": {},
   "source": [
    "#### [&#8593;](#toc0_) <a id='toc6_2_1_'></a>List Elements Access\n"
   ]
  },
  {
   "cell_type": "code",
   "execution_count": 88,
   "metadata": {},
   "outputs": [
    {
     "name": "stdout",
     "output_type": "stream",
     "text": [
      "85\n"
     ]
    }
   ],
   "source": [
    "print(grade_list[0])"
   ]
  },
  {
   "cell_type": "code",
   "execution_count": 89,
   "metadata": {},
   "outputs": [
    {
     "name": "stdout",
     "output_type": "stream",
     "text": [
      "91\n"
     ]
    }
   ],
   "source": [
    "print(grade_list[-1])"
   ]
  },
  {
   "cell_type": "code",
   "execution_count": 90,
   "metadata": {
    "scrolled": true
   },
   "outputs": [
    {
     "name": "stdout",
     "output_type": "stream",
     "text": [
      "85 90 87 65 91 "
     ]
    }
   ],
   "source": [
    "for g in grade_list:\n",
    "    print(g, end=\" \")\n"
   ]
  },
  {
   "attachments": {},
   "cell_type": "markdown",
   "metadata": {},
   "source": [
    "#### [&#8593;](#toc0_) <a id='toc6_2_2_'></a>List Modification\n"
   ]
  },
  {
   "attachments": {},
   "cell_type": "markdown",
   "metadata": {},
   "source": [
    "##### [&#8593;](#toc0_) <a id='toc6_2_2_1_'></a>`list.append(el)`\n"
   ]
  },
  {
   "cell_type": "code",
   "execution_count": 91,
   "metadata": {},
   "outputs": [
    {
     "name": "stdout",
     "output_type": "stream",
     "text": [
      "[5, 11, 12, 16, 5, 13, 16, 13, 13, 5, 18, 9, 16, 13, 13, 10, 17, 13, 15, 19]\n"
     ]
    }
   ],
   "source": [
    "from random import random\n",
    "\n",
    "value_list: list[int] = []\n",
    "rand: int\n",
    "\n",
    "for i in range(20):\n",
    "    # Random integers between 0-20\n",
    "    rand = int(random() * 20)\n",
    "    # Appending to a list\n",
    "    value_list.append(rand)\n",
    "\n",
    "print(value_list)"
   ]
  },
  {
   "attachments": {},
   "cell_type": "markdown",
   "metadata": {},
   "source": [
    "##### [&#8593;](#toc0_) <a id='toc6_2_2_2_'></a>`list.extend(anotherList)`\n"
   ]
  },
  {
   "cell_type": "code",
   "execution_count": 92,
   "metadata": {},
   "outputs": [
    {
     "name": "stdout",
     "output_type": "stream",
     "text": [
      "['5', '11', '12', '16', '5', '13', '16', '13', '13', '5', '18', '9', '16', '13', '13', '10', '17', '13', '15', '19', 'a', 'b', 'c', 'd', 'e', 'f']\n"
     ]
    }
   ],
   "source": [
    "additional_values: list[str] = [\"a\", \"b\", \"c\", \"d\", \"e\", \"f\"]\n",
    "\n",
    "# Convert into a list of str first\n",
    "value_list_str: list[str] = list(map(str, value_list))\n",
    "value_list_str.extend(additional_values)  # Add elements from one list to another\n",
    "\n",
    "print(value_list_str)"
   ]
  },
  {
   "cell_type": "code",
   "execution_count": 93,
   "metadata": {},
   "outputs": [
    {
     "name": "stdout",
     "output_type": "stream",
     "text": [
      "['a', 'b', 'c', 'd', 'e', 'f']\n"
     ]
    }
   ],
   "source": [
    "# The original list additional_values is not modified\n",
    "print(additional_values)"
   ]
  },
  {
   "attachments": {},
   "cell_type": "markdown",
   "metadata": {},
   "source": [
    "##### [&#8593;](#toc0_) <a id='toc6_2_2_3_'></a>`list.insert(el)`\n"
   ]
  },
  {
   "cell_type": "code",
   "execution_count": 94,
   "metadata": {},
   "outputs": [
    {
     "name": "stdout",
     "output_type": "stream",
     "text": [
      "[0, 855, 100, 20, 35, 4]\n"
     ]
    }
   ],
   "source": [
    "values: list[int] = [0, 100, 20, 35, 4]\n",
    "values.insert(1, 855)  # Insert 855 at index 1\n",
    "\n",
    "print(values)"
   ]
  },
  {
   "attachments": {},
   "cell_type": "markdown",
   "metadata": {},
   "source": [
    "##### [&#8593;](#toc0_) <a id='toc6_2_2_4_'></a>`list.remove(el)`\n"
   ]
  },
  {
   "attachments": {},
   "cell_type": "markdown",
   "metadata": {},
   "source": [
    "-   Remove an item by value\n",
    "-   If there are duplicate values, only removes the first instance\n"
   ]
  },
  {
   "cell_type": "code",
   "execution_count": 95,
   "metadata": {},
   "outputs": [
    {
     "name": "stdout",
     "output_type": "stream",
     "text": [
      "[0, 855, 100, 20, 4]\n",
      "5\n"
     ]
    }
   ],
   "source": [
    "values.remove(35)\n",
    "\n",
    "print(values)  # => [0, 855, 100, 20, 4]\n",
    "print(len(values))  # => 5"
   ]
  },
  {
   "attachments": {},
   "cell_type": "markdown",
   "metadata": {},
   "source": [
    "#### [&#8593;](#toc0_) <a id='toc6_2_3_'></a>`list.pop()`\n"
   ]
  },
  {
   "attachments": {},
   "cell_type": "markdown",
   "metadata": {},
   "source": [
    "-   Remove an item by index and get its value\n",
    "-   If index omitted, remove the last item\n"
   ]
  },
  {
   "cell_type": "code",
   "execution_count": 96,
   "metadata": {},
   "outputs": [
    {
     "name": "stdout",
     "output_type": "stream",
     "text": [
      "[0, 100, 20, 4]\n",
      "4\n"
     ]
    }
   ],
   "source": [
    "values.pop(1)  # => 855\n",
    "\n",
    "print(values)  # => [0, 100, 20, 4]\n",
    "print(len(values))  # => 4"
   ]
  },
  {
   "attachments": {},
   "cell_type": "markdown",
   "metadata": {},
   "source": [
    "#### [&#8593;](#toc0_) <a id='toc6_2_4_'></a>`list.index(el)`\n"
   ]
  },
  {
   "attachments": {},
   "cell_type": "markdown",
   "metadata": {},
   "source": [
    "-   Search for an element within the list\n",
    "-   Returns the index if found (first one if duplicates)\n",
    "-   Otherwise, throw an error\n"
   ]
  },
  {
   "cell_type": "code",
   "execution_count": 97,
   "metadata": {},
   "outputs": [
    {
     "name": "stdout",
     "output_type": "stream",
     "text": [
      "54 is not in the list\n"
     ]
    }
   ],
   "source": [
    "values = [10, 11, 12, 13]\n",
    "num_to_search: str = input(\"What number to search? \")\n",
    "index: int\n",
    "\n",
    "try:\n",
    "    # Find if the number is in the list\n",
    "    index = values.index(int(num_to_search))\n",
    "    print(f\"{num_to_search} is in the list at index {index}\")\n",
    "except:\n",
    "    print(f\"{num_to_search} is not in the list\")"
   ]
  },
  {
   "attachments": {},
   "cell_type": "markdown",
   "metadata": {},
   "source": [
    "#### [&#8593;](#toc0_) <a id='toc6_2_5_'></a>List Element Check\n"
   ]
  },
  {
   "attachments": {},
   "cell_type": "markdown",
   "metadata": {},
   "source": [
    "-   `in` and `not in` can be used to check if an element is in the list or not\n"
   ]
  },
  {
   "cell_type": "code",
   "execution_count": 98,
   "metadata": {},
   "outputs": [
    {
     "name": "stdout",
     "output_type": "stream",
     "text": [
      "Is 10 in values? True\n"
     ]
    }
   ],
   "source": [
    "values = [10, 20, 30, 40]\n",
    "print(\"Is 10 in values?\", 10 in values)"
   ]
  },
  {
   "cell_type": "code",
   "execution_count": 99,
   "metadata": {},
   "outputs": [
    {
     "name": "stdout",
     "output_type": "stream",
     "text": [
      "Is 'abc' not in values? True\n"
     ]
    }
   ],
   "source": [
    "values = [10, 20, 30, 40]\n",
    "print(\"Is 'abc' not in values?\", \"abc\" not in values)"
   ]
  },
  {
   "attachments": {},
   "cell_type": "markdown",
   "metadata": {},
   "source": [
    "### [&#8593;](#toc0_) <a id='toc6_3_'></a>Tuples\n"
   ]
  },
  {
   "attachments": {},
   "cell_type": "markdown",
   "metadata": {},
   "source": [
    "-   Immutable sequence\n",
    "-   Similar to list\n"
   ]
  },
  {
   "cell_type": "code",
   "execution_count": 100,
   "metadata": {},
   "outputs": [],
   "source": [
    "t: tuple[int, ...] = (0, 2, 4)  # 3-element tuple\n",
    "ta: tuple[int] = (2,)  # 1-element tuple: Comma is required, else it will be just an int\n",
    "tb: tuple[str, int, float, int] = (\"abc\", 1, 4.5, 5)  # 4-element mixed tuple\n",
    "name_and_age: tuple[str, int] = (\"John\", 65)\n"
   ]
  },
  {
   "cell_type": "code",
   "execution_count": 101,
   "metadata": {},
   "outputs": [
    {
     "name": "stdout",
     "output_type": "stream",
     "text": [
      "My name is John and my age is 65\n"
     ]
    }
   ],
   "source": [
    "print(\n",
    "    \"My name is {} and my age is {}\".format(*name_and_age)\n",
    ")  # Use * to unpack in function"
   ]
  },
  {
   "attachments": {},
   "cell_type": "markdown",
   "metadata": {},
   "source": [
    "#### [&#8593;](#toc0_) <a id='toc6_3_1_'></a>Tuples Element Check\n"
   ]
  },
  {
   "attachments": {},
   "cell_type": "markdown",
   "metadata": {},
   "source": [
    "-   `in` and `not in` can be used to check if an element is in the tuple or not\n"
   ]
  },
  {
   "cell_type": "code",
   "execution_count": 102,
   "metadata": {},
   "outputs": [
    {
     "name": "stdout",
     "output_type": "stream",
     "text": [
      "Is 'abc' in tuple tb? True\n"
     ]
    }
   ],
   "source": [
    "print(\"Is 'abc' in tuple tb?\", \"abc\" in tb)"
   ]
  },
  {
   "cell_type": "code",
   "execution_count": 103,
   "metadata": {},
   "outputs": [
    {
     "name": "stdout",
     "output_type": "stream",
     "text": [
      "Is '4.5' not in tuple tb? False\n"
     ]
    }
   ],
   "source": [
    "print(\"Is '4.5' not in tuple tb?\", 4.5 not in tb)"
   ]
  },
  {
   "attachments": {},
   "cell_type": "markdown",
   "metadata": {},
   "source": [
    "### [&#8593;](#toc0_) <a id='toc6_4_'></a>Dictionary\n"
   ]
  },
  {
   "attachments": {},
   "cell_type": "markdown",
   "metadata": {},
   "source": [
    "-   key-value pair\n",
    "-   Also known as a hash-map\n"
   ]
  },
  {
   "cell_type": "code",
   "execution_count": 104,
   "metadata": {},
   "outputs": [],
   "source": [
    "states: dict[str, str] = {\n",
    "    \"MS\": \"Mississippi\",\n",
    "    \"VA\": \"Virginia\",\n",
    "    \"AL\": \"Alabama\",\n",
    "    \"DC\": \"Washington\",\n",
    "}\n",
    "class_level: dict[int, str] = {0: \"Freshman\", 1: \"Sophomore\", 2: \"Junior\", 3: \"Senior\"}\n",
    "empty_A: dict[str, str] = {}\n",
    "empty_B: dict[int, str] = dict()"
   ]
  },
  {
   "attachments": {},
   "cell_type": "markdown",
   "metadata": {},
   "source": [
    "#### [&#8593;](#toc0_) <a id='toc6_4_1_'></a>Dictionary Element Access\n"
   ]
  },
  {
   "attachments": {},
   "cell_type": "markdown",
   "metadata": {},
   "source": [
    "-   Access by key directly: The key must exist, else an error is thrown\n",
    "-   Access using `dict.get()`: Returns `None` if the key does not exist\n"
   ]
  },
  {
   "cell_type": "code",
   "execution_count": 105,
   "metadata": {},
   "outputs": [
    {
     "name": "stdout",
     "output_type": "stream",
     "text": [
      "The state name is Mississippi\n"
     ]
    }
   ],
   "source": [
    "print(f\"The state name is {states['MS']}\")  # Subscript by the key"
   ]
  },
  {
   "cell_type": "code",
   "execution_count": 106,
   "metadata": {},
   "outputs": [
    {
     "name": "stdout",
     "output_type": "stream",
     "text": [
      "The state name is Mississippi\n"
     ]
    }
   ],
   "source": [
    "print(f\"The state name is {states.get('MS')}\")  # dict.get() can also be used"
   ]
  },
  {
   "cell_type": "code",
   "execution_count": 107,
   "metadata": {},
   "outputs": [
    {
     "name": "stdout",
     "output_type": "stream",
     "text": [
      "The state name is None\n"
     ]
    }
   ],
   "source": [
    "print(\n",
    "    f\"The state name is {states.get('MD')}\"\n",
    ")  # dict.get() does not throw an error but returns `None`"
   ]
  },
  {
   "cell_type": "code",
   "execution_count": 108,
   "metadata": {},
   "outputs": [
    {
     "name": "stdout",
     "output_type": "stream",
     "text": [
      "An error was thrown\n"
     ]
    }
   ],
   "source": [
    "# If we do not use dict.get(), an unknown key will throw an error\n",
    "try:\n",
    "    print(f\"The state name is {states['MD']}\")  # Subscript by the key\n",
    "except:\n",
    "    print(\"An error was thrown\")"
   ]
  },
  {
   "attachments": {},
   "cell_type": "markdown",
   "metadata": {},
   "source": [
    "-   Traversing is done using the `for` statement\n",
    "-   Traversal is made over the keys\n"
   ]
  },
  {
   "cell_type": "code",
   "execution_count": 109,
   "metadata": {},
   "outputs": [
    {
     "name": "stdout",
     "output_type": "stream",
     "text": [
      "0 = Freshman\n",
      "1 = Sophomore\n",
      "2 = Junior\n",
      "3 = Senior\n"
     ]
    }
   ],
   "source": [
    "for key in class_level:\n",
    "    print(key, \"=\", class_level[key])"
   ]
  },
  {
   "attachments": {},
   "cell_type": "markdown",
   "metadata": {},
   "source": [
    "-   Use `dict.keys()` to get a list of all the keys\n",
    "-   Use `dict.value()` to get a list of all the values\n",
    "-   Use `dict.items()` to get `(key,value)` pairs\n"
   ]
  },
  {
   "cell_type": "code",
   "execution_count": 110,
   "metadata": {},
   "outputs": [
    {
     "name": "stdout",
     "output_type": "stream",
     "text": [
      "States Keys: dict_keys(['MS', 'VA', 'AL', 'DC'])\n"
     ]
    }
   ],
   "source": [
    "from collections.abc import KeysView\n",
    "\n",
    "keys_list: KeysView = states.keys()\n",
    "print(\"States Keys:\", keys_list)"
   ]
  },
  {
   "cell_type": "code",
   "execution_count": 111,
   "metadata": {},
   "outputs": [
    {
     "name": "stdout",
     "output_type": "stream",
     "text": [
      "States Values: dict_values(['Mississippi', 'Virginia', 'Alabama', 'Washington'])\n"
     ]
    }
   ],
   "source": [
    "from collections.abc import ValuesView\n",
    "\n",
    "values_list: ValuesView = states.values()\n",
    "print(\"States Values:\", values_list)"
   ]
  },
  {
   "cell_type": "code",
   "execution_count": 112,
   "metadata": {},
   "outputs": [
    {
     "name": "stdout",
     "output_type": "stream",
     "text": [
      "States Keys,Values: dict_items([('MS', 'Mississippi'), ('VA', 'Virginia'), ('AL', 'Alabama'), ('DC', 'Washington')])\n"
     ]
    }
   ],
   "source": [
    "from collections.abc import ItemsView\n",
    "\n",
    "items_list: ItemsView = states.items()\n",
    "print(\"States Keys,Values:\", items_list)"
   ]
  },
  {
   "attachments": {},
   "cell_type": "markdown",
   "metadata": {},
   "source": [
    "#### [&#8593;](#toc0_) <a id='toc6_4_2_'></a>Dictionary Modification\n"
   ]
  },
  {
   "attachments": {},
   "cell_type": "markdown",
   "metadata": {},
   "source": [
    "-   If the key/value pair already exist, the current value would be modified\n",
    "-   If the key/value pair does not exist, it would be created\n",
    "-   To remove an existing entry, use `dict.pop(key)` or `del dict[key]`\n"
   ]
  },
  {
   "cell_type": "code",
   "execution_count": 113,
   "metadata": {},
   "outputs": [
    {
     "name": "stdout",
     "output_type": "stream",
     "text": [
      "MS - Mississippi\n",
      "VA - Virginia\n",
      "AL - Alabama\n",
      "DC - District of Columbia\n"
     ]
    }
   ],
   "source": [
    "# Modifying existing entries\n",
    "states[\"DC\"] = \"District of Columbia\"\n",
    "\n",
    "for k in states:\n",
    "    print(k, \"-\", states[k])"
   ]
  },
  {
   "cell_type": "code",
   "execution_count": 114,
   "metadata": {},
   "outputs": [
    {
     "name": "stdout",
     "output_type": "stream",
     "text": [
      "MS - Mississippi\n",
      "VA - Virginia\n",
      "AL - Alabama\n",
      "DC - District of Columbia\n",
      "OR - Oregon\n",
      "VT - Vermont\n"
     ]
    }
   ],
   "source": [
    "# Adding new entries\n",
    "states[\"OR\"] = \"Oregon\"\n",
    "states[\"VT\"] = \"Vermont\"\n",
    "\n",
    "for k in states:\n",
    "    print(k, \"-\", states[k])"
   ]
  },
  {
   "cell_type": "code",
   "execution_count": 115,
   "metadata": {},
   "outputs": [
    {
     "name": "stdout",
     "output_type": "stream",
     "text": [
      "MS - Mississippi\n",
      "VA - Virginia\n",
      "AL - Alabama\n",
      "DC - District of Columbia\n"
     ]
    }
   ],
   "source": [
    "# Removing an entry\n",
    "states.pop(\"OR\")\n",
    "del states[\"VT\"]\n",
    "\n",
    "for k in states:\n",
    "    print(k, \"-\", states[k])"
   ]
  },
  {
   "attachments": {},
   "cell_type": "markdown",
   "metadata": {},
   "source": [
    "#### [&#8593;](#toc0_) <a id='toc6_4_3_'></a>Dictionary Element Check\n"
   ]
  },
  {
   "attachments": {},
   "cell_type": "markdown",
   "metadata": {},
   "source": [
    "-   `in` and `not in` can be used to check if a key is in the dictionary or not\n"
   ]
  },
  {
   "cell_type": "code",
   "execution_count": 116,
   "metadata": {},
   "outputs": [
    {
     "name": "stdout",
     "output_type": "stream",
     "text": [
      "Is OR in states? False\n"
     ]
    }
   ],
   "source": [
    "print(\"Is OR in states?\", \"OR\" in states)"
   ]
  },
  {
   "cell_type": "code",
   "execution_count": 117,
   "metadata": {},
   "outputs": [
    {
     "name": "stdout",
     "output_type": "stream",
     "text": [
      "Is VT not in states? True\n"
     ]
    }
   ],
   "source": [
    "print(\"Is VT not in states?\", \"VT\" not in states)"
   ]
  },
  {
   "cell_type": "code",
   "execution_count": 118,
   "metadata": {},
   "outputs": [
    {
     "name": "stdout",
     "output_type": "stream",
     "text": [
      "Is MS in states? True\n"
     ]
    }
   ],
   "source": [
    "print(\"Is MS in states?\", \"MS\" in states)"
   ]
  },
  {
   "attachments": {},
   "cell_type": "markdown",
   "metadata": {},
   "source": [
    "## [&#8593;](#toc0_) <a id='toc7_'></a>Text Files\n"
   ]
  },
  {
   "attachments": {},
   "cell_type": "markdown",
   "metadata": {},
   "source": [
    "-   2 types of files that can be used with Python:\n",
    "    -   Text Files\n",
    "        -   Typically includes the ASCII values in the range [32...126], 13 (newline) and 9 (tabs)\n",
    "    -   Binary Files\n",
    "        -   Sequence of binary numbers representing data values as they would be stored in memory\n",
    "        -   Cannot be read and displayed by text editors since they contain byte values outside the printable range\n"
   ]
  },
  {
   "attachments": {},
   "cell_type": "markdown",
   "metadata": {},
   "source": [
    "### [&#8593;](#toc0_) <a id='toc7_1_'></a>File Access\n"
   ]
  },
  {
   "attachments": {},
   "cell_type": "markdown",
   "metadata": {},
   "source": [
    "-   No additional modules are required in order to access a file from within your program\n",
    "-   Open and create an object to represent the file\n",
    "-   If the file can be opened, the function creates a file object and returns a reference to that newly created object\n"
   ]
  },
  {
   "attachments": {},
   "cell_type": "markdown",
   "metadata": {},
   "source": [
    "### [&#8593;](#toc0_) <a id='toc7_2_'></a>Reading From A File\n"
   ]
  },
  {
   "attachments": {},
   "cell_type": "markdown",
   "metadata": {},
   "source": [
    "-   Use `open()` with `r` option\n",
    "-   When done working with a file, always close it\n"
   ]
  },
  {
   "cell_type": "code",
   "execution_count": 119,
   "metadata": {},
   "outputs": [
    {
     "name": "stdout",
     "output_type": "stream",
     "text": [
      "This is a very basic records text file.\n",
      "This is the second line in this text file.\n",
      "And this is the third and final line in this text file."
     ]
    }
   ],
   "source": [
    "from io import TextIOWrapper\n",
    "\n",
    "# Open a file for reading\n",
    "infile: TextIOWrapper = open(\"../files/appendix_a/records.txt\", \"r\")\n",
    "\n",
    "# To access the contents, we can use loop\n",
    "for line in infile:\n",
    "    print(line, end=\"\")\n",
    "\n",
    "# When done working with a file, always close it\n",
    "infile.close()"
   ]
  },
  {
   "attachments": {},
   "cell_type": "markdown",
   "metadata": {},
   "source": [
    "-   We can also use the `readline()` method to read one line at a time\n",
    "-   The end of a line is indicated by a newline character `\\n`\n",
    "-   If the file is empty or the end of file has been reached, `readline()` returns an empty string\n",
    "-   When using a loop to read an entire file, we can use this as condition: `while line != \"\"`\n",
    "-   `readline()` will not remove `\\n` from the extracted line. Use `rstrip()` for this\n"
   ]
  },
  {
   "cell_type": "code",
   "execution_count": 120,
   "metadata": {},
   "outputs": [
    {
     "name": "stdout",
     "output_type": "stream",
     "text": [
      "This is a very basic records text file.\n",
      "This is the second line in this text file.\n",
      "And this is the third and final line in this text file.\n",
      "\n"
     ]
    }
   ],
   "source": [
    "# Open a file for reading\n",
    "infile = open(\"../files/appendix_a/records.txt\", \"r\")\n",
    "\n",
    "# To access the contents, we can use loop\n",
    "line1: str = infile.readline()\n",
    "print(line1.rstrip())  # Remove \\n at the end\n",
    "line2: str = infile.readline()\n",
    "print(line2.rstrip())  # Remove \\n at the end\n",
    "line3: str = infile.readline()\n",
    "print(line3.rstrip())  # Remove \\n at the end\n",
    "line4: str = infile.readline()  # EOF: Empty string\n",
    "print(line4)  # EOF: Empty string\n",
    "\n",
    "# When done working with a file, always close it\n",
    "infile.close()"
   ]
  },
  {
   "attachments": {},
   "cell_type": "markdown",
   "metadata": {},
   "source": [
    "-   Using `realdine()`, we can also extract just a specific number of characters from the line\n",
    "-   The reading can be continuous to where the current cursor is located\n"
   ]
  },
  {
   "cell_type": "code",
   "execution_count": 121,
   "metadata": {},
   "outputs": [
    {
     "name": "stdout",
     "output_type": "stream",
     "text": [
      "This is a very \n",
      "basic records t\n",
      "ext file.\n",
      "\n"
     ]
    }
   ],
   "source": [
    "# Open a file for reading\n",
    "infile = open(\"../files/appendix_a/records.txt\", \"r\")\n",
    "\n",
    "# To access the contents, we can use loop\n",
    "line = infile.readline(15)  # Just extract 15 characters from each line\n",
    "print(line)\n",
    "line = infile.readline(15)  # Just extract 15 characters from each line\n",
    "print(line)\n",
    "line = infile.readline(15)  # Just extract 15 characters from each line\n",
    "print(line)\n",
    "\n",
    "# When done working with a file, always close it\n",
    "infile.close()"
   ]
  },
  {
   "attachments": {},
   "cell_type": "markdown",
   "metadata": {},
   "source": [
    "-   Using `readlines()`, we can extract all the lines at once\n",
    "-   It will store the contents in a list of lines\n"
   ]
  },
  {
   "cell_type": "code",
   "execution_count": 122,
   "metadata": {},
   "outputs": [
    {
     "name": "stdout",
     "output_type": "stream",
     "text": [
      "Line 1: This is a very basic records text file.\n",
      "Line 2: This is the second line in this text file.\n",
      "Line 3: And this is the third and final line in this text file.\n"
     ]
    }
   ],
   "source": [
    "# Open a file for reading\n",
    "infile = open(\"../files/appendix_a/records.txt\", \"r\")\n",
    "\n",
    "# To access the contents, we can use loop\n",
    "lines: list[str] = infile.readlines()\n",
    "\n",
    "for i, line in enumerate(lines):\n",
    "    print(\"Line\", str(i + 1) + \":\", line.strip())\n",
    "\n",
    "# When done working with a file, always close it\n",
    "infile.close()"
   ]
  },
  {
   "attachments": {},
   "cell_type": "markdown",
   "metadata": {},
   "source": [
    "-   We can also just use an iterator over each line of the file\n"
   ]
  },
  {
   "cell_type": "code",
   "execution_count": 123,
   "metadata": {},
   "outputs": [
    {
     "name": "stdout",
     "output_type": "stream",
     "text": [
      "Line 1: This is a very basic records text file.\n",
      "Line 2: This is the second line in this text file.\n",
      "Line 3: And this is the third and final line in this text file.\n"
     ]
    }
   ],
   "source": [
    "# Open a file for reading\n",
    "infile = open(\"../files/appendix_a/records.txt\", \"r\")\n",
    "\n",
    "# To access the contents, we can use loop\n",
    "for i, line in enumerate(infile):\n",
    "    print(\"Line\", str(i + 1) + \":\", line.strip())\n",
    "\n",
    "# When done working with a file, always close it\n",
    "infile.close()"
   ]
  },
  {
   "attachments": {},
   "cell_type": "markdown",
   "metadata": {},
   "source": [
    "**Note:**\n",
    "\n",
    "-   **Remember that reading from a file only returns strings. Handle type conversions appropriately.**\n",
    "-   **Also, remember that the newline character `\\n` must be stripped before conversion.**\n"
   ]
  },
  {
   "attachments": {},
   "cell_type": "markdown",
   "metadata": {},
   "source": [
    "### [&#8593;](#toc0_) <a id='toc7_3_'></a>Writing To A File\n"
   ]
  },
  {
   "attachments": {},
   "cell_type": "markdown",
   "metadata": {},
   "source": [
    "-   Use the `write()` method after opening the file with `open()` with `w` option\n",
    "-   **To output other value type, make sure to convert them to string**\n",
    "-   **`write()` does not add a linefeed or newline character after the string is written to the file**\n",
    "-   To add a newline, add `\\n` to the end of the string\n"
   ]
  },
  {
   "cell_type": "code",
   "execution_count": 124,
   "metadata": {},
   "outputs": [],
   "source": [
    "from io import TextIOWrapper\n",
    "\n",
    "# Open a file for writing\n",
    "outfile: TextIOWrapper = open(\"../files/appendix_a/student-report.txt\", \"w\")\n",
    "\n",
    "# Start writing to file\n",
    "outfile.write(\"Student Report\\n\")\n",
    "outfile.write(\"-\" * 40 + \"\\n\")\n",
    "\n",
    "# When done working with a file, always close it\n",
    "infile.close()"
   ]
  },
  {
   "attachments": {},
   "cell_type": "markdown",
   "metadata": {},
   "source": [
    "## [&#8593;](#toc0_) <a id='toc8_'></a>User-Defined Functions\n"
   ]
  },
  {
   "attachments": {},
   "cell_type": "markdown",
   "metadata": {},
   "source": [
    "### [&#8593;](#toc0_) <a id='toc8_1_'></a>Function Definition\n"
   ]
  },
  {
   "cell_type": "code",
   "execution_count": 125,
   "metadata": {},
   "outputs": [],
   "source": [
    "def sum_range(start: int, end: int) -> int:\n",
    "    total: int = 0\n",
    "    i: int = start\n",
    "\n",
    "    while i <= end:\n",
    "        total += i\n",
    "        i += 1\n",
    "\n",
    "    return total"
   ]
  },
  {
   "cell_type": "code",
   "execution_count": 126,
   "metadata": {},
   "outputs": [
    {
     "name": "stdout",
     "output_type": "stream",
     "text": [
      "The sum of the first 100 integers is 5050\n"
     ]
    }
   ],
   "source": [
    "start: int = 1\n",
    "end: int = 100\n",
    "the_sum: int = sum_range(start, end)\n",
    "print(f\"The sum of the first {end} integers is {the_sum}\")"
   ]
  },
  {
   "attachments": {},
   "cell_type": "markdown",
   "metadata": {},
   "source": [
    "#### [&#8593;](#toc0_) <a id='toc8_1_1_'></a>Function Arguments\n"
   ]
  },
  {
   "attachments": {},
   "cell_type": "markdown",
   "metadata": {},
   "source": [
    "-   **In Python, arguments are passed by value of objects**\n",
    "-   Every value is an object:\n",
    "    -   It is the object reference that is copied to a function parameter and not the object itself\n"
   ]
  },
  {
   "cell_type": "code",
   "execution_count": 127,
   "metadata": {},
   "outputs": [
    {
     "name": "stdout",
     "output_type": "stream",
     "text": [
      "315\n"
     ]
    }
   ],
   "source": [
    "start = 5\n",
    "end = 25\n",
    "the_sum = sum_range(start, end)\n",
    "print(the_sum)"
   ]
  },
  {
   "attachments": {},
   "cell_type": "markdown",
   "metadata": {},
   "source": [
    "![sumRange](.. / files / appendix_a / sumRange.png)\n"
   ]
  },
  {
   "attachments": {},
   "cell_type": "markdown",
   "metadata": {},
   "source": [
    "-   The function `sum_range()` can also take float values\n",
    "-   So long as all operations within the function can be applied to the given values, the program will execute correctly\n",
    "-   If an operation cannot be applied to a given argument type, an exception will be raised\n"
   ]
  },
  {
   "attachments": {},
   "cell_type": "markdown",
   "metadata": {},
   "source": [
    "#### [&#8593;](#toc0_) <a id='toc8_1_2_'></a>Returning Values\n"
   ]
  },
  {
   "attachments": {},
   "cell_type": "markdown",
   "metadata": {},
   "source": [
    "-   Can be used to terminate a function execution\n",
    "-   Can be used to return a value (object reference) from the function execution\n",
    "-   Multiple values can be returned as tuple\n"
   ]
  },
  {
   "cell_type": "code",
   "execution_count": 128,
   "metadata": {},
   "outputs": [],
   "source": [
    "# Functions can also return multiple values separated by commas\n",
    "# This is returned as a tuple\n",
    "def four_operations(num1: float, num2: float) -> tuple[float, float, float, float]:\n",
    "    \"\"\"Take 2 numbers and add, subtract, multiply, and divide them\"\"\"\n",
    "\n",
    "    if num2 != 0:\n",
    "        num_sum: float = num1 + num2\n",
    "        num_sub: float = num1 - num2\n",
    "        num_prod: float = num1 * num2\n",
    "        num_div: float = num1 / num2\n",
    "\n",
    "    return num_sum, num_sub, num_prod, num_div  # This is returned as a tuple"
   ]
  },
  {
   "cell_type": "code",
   "execution_count": 129,
   "metadata": {},
   "outputs": [
    {
     "data": {
      "text/plain": [
       "(50, -10, 600, 0.6666666666666666)"
      ]
     },
     "execution_count": 129,
     "metadata": {},
     "output_type": "execute_result"
    }
   ],
   "source": [
    "four_operations(20, 30)"
   ]
  },
  {
   "attachments": {},
   "cell_type": "markdown",
   "metadata": {},
   "source": [
    "-   Values that are returned as tuple can be unpacked\n",
    "-   A function that returns multiple values can only be called as part of a multi-variable assignment statement (tuple unpacking)\n",
    "-   Order of the returned values within the tuple is respected\n"
   ]
  },
  {
   "cell_type": "code",
   "execution_count": 130,
   "metadata": {},
   "outputs": [
    {
     "name": "stdout",
     "output_type": "stream",
     "text": [
      "Addition: 50\n",
      "Subtraction: -10\n",
      "Multiplication: 600\n",
      "Division: 0.6666666666666666\n"
     ]
    }
   ],
   "source": [
    "# Parenthesis not required for the tuple here\n",
    "added, subbed, multiplied, divided = four_operations(20, 30)\n",
    "\n",
    "print(f\"Addition: {added}\")\n",
    "print(f\"Subtraction: {subbed}\")\n",
    "print(f\"Multiplication: {multiplied}\")\n",
    "print(f\"Division: {divided}\")"
   ]
  },
  {
   "attachments": {},
   "cell_type": "markdown",
   "metadata": {},
   "source": [
    "#### [&#8593;](#toc0_) <a id='toc8_1_3_'></a>Default and Keyword Arguments\n"
   ]
  },
  {
   "attachments": {},
   "cell_type": "markdown",
   "metadata": {},
   "source": [
    "-   Functions can have default values for their arguments (`args`)\n"
   ]
  },
  {
   "cell_type": "code",
   "execution_count": 131,
   "metadata": {},
   "outputs": [],
   "source": [
    "def sum_range2(first: int, last: int, step: int = 1) -> int:\n",
    "    total: int = 0\n",
    "    i: int = first\n",
    "\n",
    "    while i <= last:\n",
    "        total += i\n",
    "        i = i + step\n",
    "\n",
    "    return total"
   ]
  },
  {
   "cell_type": "code",
   "execution_count": 132,
   "metadata": {},
   "outputs": [
    {
     "data": {
      "text/plain": [
       "5050"
      ]
     },
     "execution_count": 132,
     "metadata": {},
     "output_type": "execute_result"
    }
   ],
   "source": [
    "sum_range2(1, 100)"
   ]
  },
  {
   "cell_type": "code",
   "execution_count": 133,
   "metadata": {},
   "outputs": [
    {
     "data": {
      "text/plain": [
       "2500"
      ]
     },
     "execution_count": 133,
     "metadata": {},
     "output_type": "execute_result"
    }
   ],
   "source": [
    "sum_range2(1, 100, 2)"
   ]
  },
  {
   "cell_type": "code",
   "execution_count": 134,
   "metadata": {},
   "outputs": [
    {
     "data": {
      "text/plain": [
       "970"
      ]
     },
     "execution_count": 134,
     "metadata": {},
     "output_type": "execute_result"
    }
   ],
   "source": [
    "sum_range2(1, 100, 5)"
   ]
  },
  {
   "attachments": {},
   "cell_type": "markdown",
   "metadata": {},
   "source": [
    "-   Keyword argument (`kwargs`) allows to label each arguments passed to the function\n",
    "-   This allows for the arguments to be passed in different order\n"
   ]
  },
  {
   "cell_type": "code",
   "execution_count": 135,
   "metadata": {},
   "outputs": [
    {
     "name": "stdout",
     "output_type": "stream",
     "text": [
      "1717\n"
     ]
    }
   ],
   "source": [
    "the_sum2: int = sum_range2(last=100, step=3, first=1)\n",
    "print(the_sum2)"
   ]
  },
  {
   "attachments": {},
   "cell_type": "markdown",
   "metadata": {},
   "source": [
    "### [&#8593;](#toc0_) <a id='toc8_2_'></a>Variable Scope\n"
   ]
  },
  {
   "attachments": {},
   "cell_type": "markdown",
   "metadata": {},
   "source": [
    "-   Variables only exist within the scope they are created\n",
    "-   Python has 4 scopes:\n",
    "    -   **Local Scope:** Variables created within a function or method\n",
    "        -   Exist for the lifetime of the function/method execution\n",
    "        -   Each execution of a function creates a new local scope, which is then destroyed when the function terminates\n",
    "    -   **Instance Scope:** Variables defined as data attributes of a class\n",
    "        -   Exist for the lifetime of the object instance\n",
    "    -   **Global Scope:** Variables created at the top level of a source file or module\n",
    "        -   Exist for the lifetime of the program\n",
    "    -   **Built-in Scope:** Variables and literals from the Python language\n",
    "        -   Exist for the lifetime of the program\n"
   ]
  },
  {
   "attachments": {},
   "cell_type": "markdown",
   "metadata": {},
   "source": [
    "### [&#8593;](#toc0_) <a id='toc8_3_'></a>Main Routine\n"
   ]
  },
  {
   "attachments": {},
   "cell_type": "markdown",
   "metadata": {},
   "source": [
    "-   The primary entry point of all programs\n",
    "-   Statements within a function are not executed until the function is called but they are interpreted and converted to byte code as they are read\n"
   ]
  },
  {
   "cell_type": "code",
   "execution_count": 136,
   "metadata": {},
   "outputs": [
    {
     "name": "stdout",
     "output_type": "stream",
     "text": [
      "The double of your value is: 108\n"
     ]
    }
   ],
   "source": [
    "def main_func() -> None:\n",
    "    value: int = int(input(\"Enter a value:\"))\n",
    "    print(f\"The double of your value is: {doubleIt(value)}\")\n",
    "\n",
    "\n",
    "def doubleIt(num: int) -> int:\n",
    "    return num * 2\n",
    "\n",
    "\n",
    "if __name__ == \"__main__\":\n",
    "    main_func()"
   ]
  },
  {
   "attachments": {},
   "cell_type": "markdown",
   "metadata": {},
   "source": [
    "-   But this is not the case when calling a function from a statement at file level\n",
    "-   If a function is called at file level before the function has been defined, the interpreter does not know about the function and has no way of executing it\n"
   ]
  },
  {
   "cell_type": "code",
   "execution_count": 137,
   "metadata": {},
   "outputs": [],
   "source": [
    "# callIt(5) # This throws an error: name 'callIt' is not defined\n",
    "def callIt(num: int) -> float:\n",
    "    return pow(num, 2)"
   ]
  },
  {
   "attachments": {},
   "cell_type": "markdown",
   "metadata": {},
   "source": [
    "-   **The order in which functions are listed/defined within a file is not important, but the order of executable statements at file level is.**\n",
    "-   It is good programming practice to place all executable statements within functions and specify one function as the driver\n",
    "-   The driver is commonly named `main()`\n",
    "    -   It can be defined first with the remaining definitions following it\n"
   ]
  },
  {
   "cell_type": "code",
   "execution_count": 138,
   "metadata": {},
   "outputs": [
    {
     "name": "stdout",
     "output_type": "stream",
     "text": [
      "Dice roll simulation.\n",
      "You rolled [6, 1, 4, 5, 1, 2]\n"
     ]
    }
   ],
   "source": [
    "# diceroll.py - simulate the rolling of two dice\n",
    "from random import *\n",
    "from typing import Final\n",
    "\n",
    "# Minimum number of sides on a die\n",
    "MIN_SIDES: Final[int] = 4\n",
    "\n",
    "\n",
    "# Our very own main routine for a top-down design.\n",
    "def main() -> None:\n",
    "    print(\"Dice roll simulation.\")\n",
    "    num_sides: int = int(input(\"How many sides should the die have? \"))\n",
    "\n",
    "    if num_sides < MIN_SIDES:\n",
    "        num_sides = MIN_SIDES\n",
    "\n",
    "    num_dices: int = int(input(\"How many dices to roll? \"))\n",
    "    values: list[int] = []\n",
    "\n",
    "    for _ in range(num_dices):\n",
    "        values.append(roll_dice(num_sides))\n",
    "\n",
    "    print(\"You rolled\", values)\n",
    "\n",
    "\n",
    "# Simulate the rollowing of two nSided dice.\n",
    "def roll_dice(n_sides: int) -> int:\n",
    "    return randint(1, n_sides)\n",
    "\n",
    "\n",
    "# Call the main routine which we defined first.\n",
    "if __name__ == \"__main__\":\n",
    "    main()"
   ]
  }
 ],
 "metadata": {
  "hide_input": false,
  "kernelspec": {
   "display_name": "Python 3 (ipykernel)",
   "language": "python",
   "name": "python3"
  },
  "language_info": {
   "codemirror_mode": {
    "name": "ipython",
    "version": 3
   },
   "file_extension": ".py",
   "mimetype": "text/x-python",
   "name": "python",
   "nbconvert_exporter": "python",
   "pygments_lexer": "ipython3",
   "version": "3.11.3"
  },
  "toc": {
   "base_numbering": 1,
   "nav_menu": {},
   "number_sections": true,
   "sideBar": true,
   "skip_h1_title": true,
   "title_cell": "Table of Contents",
   "title_sidebar": "Contents",
   "toc_cell": true,
   "toc_position": {
    "height": "calc(100% - 180px)",
    "left": "10px",
    "top": "150px",
    "width": "307.2px"
   },
   "toc_section_display": true,
   "toc_window_display": true
  },
  "varInspector": {
   "cols": {
    "lenName": 16,
    "lenType": 16,
    "lenVar": 40
   },
   "kernels_config": {
    "python": {
     "delete_cmd_postfix": "",
     "delete_cmd_prefix": "del ",
     "library": "var_list.py",
     "varRefreshCmd": "print(var_dic_list())"
    },
    "r": {
     "delete_cmd_postfix": ") ",
     "delete_cmd_prefix": "rm(",
     "library": "var_list.r",
     "varRefreshCmd": "cat(var_dic_list()) "
    }
   },
   "types_to_exclude": [
    "module",
    "function",
    "builtin_function_or_method",
    "instance",
    "_Feature"
   ],
   "window_display": false
  }
 },
 "nbformat": 4,
 "nbformat_minor": 4
}
