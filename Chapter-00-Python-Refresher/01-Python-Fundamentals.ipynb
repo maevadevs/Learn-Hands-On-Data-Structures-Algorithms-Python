{
 "cells": [
  {
   "attachments": {},
   "cell_type": "markdown",
   "metadata": {},
   "source": [
    "# Python Refresher\n"
   ]
  },
  {
   "attachments": {},
   "cell_type": "markdown",
   "metadata": {},
   "source": [
    "---\n"
   ]
  },
  {
   "attachments": {},
   "cell_type": "markdown",
   "metadata": {},
   "source": [
    "**Table of contents**<a id='toc0_'></a>\n",
    "\n",
    "-   [About Python](#toc1_)\n",
    "-   [Python Interpreter](#toc2_)\n",
    "-   [Basics](#toc3_)\n",
    "    -   [Reserved Words](#toc3_1_)\n",
    "    -   [Integers](#toc3_2_)\n",
    "    -   [Floats](#toc3_3_)\n",
    "    -   [Boolean and `None`](#toc3_4_)\n",
    "    -   [String](#toc3_5_)\n",
    "    -   [List](#toc3_6_)\n",
    "    -   [Tuple](#toc3_7_)\n",
    "    -   [Dictionary](#toc3_8_)\n",
    "    -   [Docstring/Pre-formatted string](#toc3_9_)\n",
    "    -   [Statements](#toc3_10_)\n",
    "    -   [Function](#toc3_11_)\n",
    "    -   [Compound Statement Block](#toc3_12_)\n",
    "    -   [Variables](#toc3_13_)\n",
    "        -   [Assignment](#toc3_13_1_)\n",
    "        -   [Aliasing](#toc3_13_2_)\n",
    "        -   [Null Reference](#toc3_13_3_)\n",
    "        -   [Constants](#toc3_13_4_)\n",
    "    -   [Arithmetic Operations and Compound Operators](#toc3_14_)\n",
    "        -   [Addition](#toc3_14_1_)\n",
    "        -   [Subtraction](#toc3_14_2_)\n",
    "        -   [Multiplication](#toc3_14_3_)\n",
    "        -   [True Division](#toc3_14_4_)\n",
    "        -   [Floor Division](#toc3_14_5_)\n",
    "        -   [Modulo](#toc3_14_6_)\n",
    "        -   [Power](#toc3_14_7_)\n",
    "    -   [Logical Operations](#toc3_15_)\n",
    "        -   [Relational Operators](#toc3_15_1_)\n",
    "        -   [Boolean Operators](#toc3_15_2_)\n",
    "        -   [Object References](#toc3_15_3_)\n",
    "    -   [Order of Precendence](#toc3_16_)\n",
    "    -   [Functions and Methods](#toc3_17_)\n",
    "    -   [Standard Library](#toc3_18_)\n",
    "        -   [Import Statements](#toc3_18_1_)\n",
    "-   [User Interactions](#toc4_)\n",
    "    -   [Standard Input](#toc4_1_)\n",
    "    -   [Standard Output](#toc4_2_)\n",
    "        -   [Escape Sequences](#toc4_2_1_)\n",
    "        -   [Formatted Output](#toc4_2_2_)\n",
    "-   [Control Structures](#toc5_)\n",
    "    -   [Selection Constructs (Conditioning)](#toc5_1_)\n",
    "    -   [Structural Pattern Matching](#toc5_2_)\n",
    "    -   [Repetition Constructs](#toc5_3_)\n",
    "        -   [While Loop](#toc5_3_1_)\n",
    "        -   [For Loop](#toc5_3_2_)\n",
    "        -   [Issue With IEEE 754](#toc5_3_3_)\n",
    "        -   [`range()`](#toc5_3_4_)\n",
    "-   [Collections](#toc6_)\n",
    "    -   [Strings](#toc6_1_)\n",
    "        -   [String Concatenation](#toc6_1_1_)\n",
    "        -   [String Length](#toc6_1_2_)\n",
    "        -   [String Indexing and Slicing](#toc6_1_3_)\n",
    "        -   [String Repeat](#toc6_1_4_)\n",
    "        -   [String Element Check](#toc6_1_5_)\n",
    "    -   [Lists](#toc6_2_)\n",
    "        -   [List Elements Access](#toc6_2_1_)\n",
    "        -   [List Modification](#toc6_2_2_)\n",
    "            -   [`list.append(el)`](#toc6_2_2_1_)\n",
    "            -   [`list.extend(anotherList)`](#toc6_2_2_2_)\n",
    "            -   [`list.insert(el)`](#toc6_2_2_3_)\n",
    "            -   [`list.remove(el)`](#toc6_2_2_4_)\n",
    "        -   [`list.pop()`](#toc6_2_3_)\n",
    "        -   [`list.index(el)`](#toc6_2_4_)\n",
    "        -   [List Element Check](#toc6_2_5_)\n",
    "    -   [Tuples](#toc6_3_)\n",
    "        -   [Tuples Element Check](#toc6_3_1_)\n",
    "    -   [Dictionary](#toc6_4_)\n",
    "        -   [Dictionary Element Access](#toc6_4_1_)\n",
    "        -   [Dictionary Modification](#toc6_4_2_)\n",
    "        -   [Dictionary Element Check](#toc6_4_3_)\n",
    "-   [Text Files](#toc7_)\n",
    "    -   [File Access](#toc7_1_)\n",
    "    -   [Reading From A File](#toc7_2_)\n",
    "    -   [Writing To A File](#toc7_3_)\n",
    "-   [User-Defined Functions](#toc8_)\n",
    "    -   [Function Definition](#toc8_1_)\n",
    "        -   [Function Arguments](#toc8_1_1_)\n",
    "        -   [Returning Values](#toc8_1_2_)\n",
    "        -   [Default and Keyword Arguments](#toc8_1_3_)\n",
    "    -   [Variable Scope](#toc8_2_)\n",
    "    -   [Main Routine](#toc8_3_)\n",
    "\n",
    "<!-- vscode-jupyter-toc-config\n",
    "\tnumbering=false\n",
    "\tanchor=true\n",
    "\tflat=false\n",
    "\tminLevel=2\n",
    "\tmaxLevel=6\n",
    "\t/vscode-jupyter-toc-config -->\n",
    "<!-- THIS CELL WILL BE REPLACED ON TOC UPDATE. DO NOT WRITE YOUR TEXT IN THIS CELL -->\n"
   ]
  },
  {
   "attachments": {},
   "cell_type": "markdown",
   "metadata": {},
   "source": [
    "---\n"
   ]
  },
  {
   "attachments": {},
   "cell_type": "markdown",
   "metadata": {},
   "source": [
    "## <a id='toc1_'></a>About Python [&#8593;](#toc0_)\n"
   ]
  },
  {
   "attachments": {},
   "cell_type": "markdown",
   "metadata": {},
   "source": [
    "-   High-Level, Dynamic, Interpreted\n",
    "-   Can be either _Procedural_ or _Object-Oriented_\n",
    "-   Has many built-in features\n",
    "-   Efficient high-level data structures\n",
    "-   Effective Object-Oriented programming language\n",
    "-   Easiest advanced programming language to learn\n",
    "-   Intuitive structures and semantics\n",
    "-   Has many useful data structures and algorithms built-in\n"
   ]
  },
  {
   "attachments": {},
   "cell_type": "markdown",
   "metadata": {},
   "source": [
    "## <a id='toc2_'></a>Python Interpreter [&#8593;](#toc0_)\n"
   ]
  },
  {
   "attachments": {},
   "cell_type": "markdown",
   "metadata": {},
   "source": [
    "-   A program that reads and executes programs written in Python\n",
    "-   Can run in interactive mode or script mode\n",
    "-   CLI Command: `python`\n"
   ]
  },
  {
   "cell_type": "code",
   "execution_count": 1,
   "metadata": {},
   "outputs": [
    {
     "name": "stdout",
     "output_type": "stream",
     "text": [
      "Hello World!\n"
     ]
    }
   ],
   "source": [
    "# Executing in Interactive: Can only run one line at a time\n",
    "print(\"Hello World!\")"
   ]
  },
  {
   "cell_type": "code",
   "execution_count": 2,
   "metadata": {},
   "outputs": [
    {
     "name": "stdout",
     "output_type": "stream",
     "text": [
      "Sum of first 100 integers = 5050\n"
     ]
    }
   ],
   "source": [
    "# Executing in Script: Can run multiple lines at once\n",
    "total: int = 0\n",
    "\n",
    "for i in range(101):\n",
    "    total += i\n",
    "\n",
    "print(f\"Sum of first 100 integers = {total}\")"
   ]
  },
  {
   "attachments": {},
   "cell_type": "markdown",
   "metadata": {},
   "source": [
    "## <a id='toc3_'></a>Basics [&#8593;](#toc0_)\n"
   ]
  },
  {
   "attachments": {},
   "cell_type": "markdown",
   "metadata": {},
   "source": [
    "### <a id='toc3_1_'></a>Reserved Words [&#8593;](#toc0_)\n"
   ]
  },
  {
   "cell_type": "code",
   "execution_count": 3,
   "metadata": {},
   "outputs": [
    {
     "name": "stdout",
     "output_type": "stream",
     "text": [
      "There are 35 Keywords in Python 3.12.3:\n",
      "and | as | assert | async | await | break | class | continue | def | del | elif | else | except | False | finally | for | from | global | if | import | in | is | lambda | None | nonlocal | not | or | pass | raise | return | True | try | while | with | yield\n"
     ]
    }
   ],
   "source": [
    "# IMPORT MODULES\n",
    "# --------------\n",
    "from keyword import kwlist\n",
    "from platform import python_version\n",
    "from typing import Final, List, Tuple, TypeAlias\n",
    "\n",
    "# CUSTOM TYPES\n",
    "# ------------\n",
    "LowerCaseKwd: TypeAlias = Tuple[str, str]\n",
    "Kwd: TypeAlias = str\n",
    "\n",
    "# CONSTANTS\n",
    "# ---------\n",
    "LOWERED_KWS: Final[List[LowerCaseKwd]] = list(map(lambda kw: (kw, kw.lower()), kwlist))\n",
    "SORTED_KWS: Final[List[Kwd]] = [\n",
    "    kw for kw, _ in sorted(LOWERED_KWS, key=lambda tup: tup[1])\n",
    "]\n",
    "\n",
    "# Print the summary\n",
    "print(f\"There are {len(SORTED_KWS)} Keywords in Python {python_version()}:\")\n",
    "# Print the list of keywords\n",
    "print(\" | \".join(SORTED_KWS))"
   ]
  },
  {
   "attachments": {},
   "cell_type": "markdown",
   "metadata": {},
   "source": [
    "### <a id='toc3_2_'></a>Integers [&#8593;](#toc0_)\n"
   ]
  },
  {
   "cell_type": "code",
   "execution_count": 4,
   "metadata": {},
   "outputs": [
    {
     "name": "stdout",
     "output_type": "stream",
     "text": [
      "Negative Integer: -9\n",
      "Positive Integer: 50\n",
      "Hexadecimal: 255\n",
      "Octal: 511\n",
      "Binary: 9\n"
     ]
    }
   ],
   "source": [
    "a: int = -9  # Base 10, Negatives Integer\n",
    "b: int = 50  # Base 10, Positives Integer\n",
    "c: int = 0xFF  # Hexadecimals: Prefix 0x or 0X\n",
    "d: int = 0o777  # Octal: Prefix 0o or 0O\n",
    "_: int = 0b1001  # Binary: Prefix 0b or 0B\n",
    "\n",
    "print(f\"Negative Integer: {a}\")\n",
    "print(f\"Positive Integer: {b}\")\n",
    "print(f\"Hexadecimal: {c}\")\n",
    "print(f\"Octal: {d}\")\n",
    "print(f\"Binary: {_}\")"
   ]
  },
  {
   "attachments": {},
   "cell_type": "markdown",
   "metadata": {},
   "source": [
    "### <a id='toc3_3_'></a>Floats [&#8593;](#toc0_)\n"
   ]
  },
  {
   "cell_type": "code",
   "execution_count": 5,
   "metadata": {},
   "outputs": [
    {
     "name": "stdout",
     "output_type": "stream",
     "text": [
      "Negative Float: -25.45\n",
      "Positive Float: 17.43\n",
      "Scientific Notation: 0.017045\n"
     ]
    }
   ],
   "source": [
    "e: float = -25.45  # Base 10, Negative Float\n",
    "f: float = 17.43  # Base 10, Positive Float\n",
    "g: float = 17.045e-03  # Base 10, Scientific Notation\n",
    "\n",
    "print(f\"Negative Float: {e}\")\n",
    "print(f\"Positive Float: {f}\")\n",
    "print(f\"Scientific Notation: {g}\")"
   ]
  },
  {
   "attachments": {},
   "cell_type": "markdown",
   "metadata": {},
   "source": [
    "### <a id='toc3_4_'></a>Boolean and `None` [&#8593;](#toc0_)\n"
   ]
  },
  {
   "cell_type": "code",
   "execution_count": 6,
   "metadata": {},
   "outputs": [
    {
     "name": "stdout",
     "output_type": "stream",
     "text": [
      "h = True\n",
      "i2 = False\n",
      "i3 = None\n"
     ]
    }
   ],
   "source": [
    "h: bool = True\n",
    "i2: bool = False\n",
    "i3: None = None\n",
    "\n",
    "print(f\"{h = }\")\n",
    "print(f\"{i2 = }\")\n",
    "print(f\"{i3 = }\")"
   ]
  },
  {
   "attachments": {},
   "cell_type": "markdown",
   "metadata": {},
   "source": [
    "### <a id='toc3_5_'></a>String [&#8593;](#toc0_)\n"
   ]
  },
  {
   "attachments": {},
   "cell_type": "markdown",
   "metadata": {},
   "source": [
    "-   Can be Double quotes (preferred) or Single quotes\n",
    "-   Also used for single characters\n"
   ]
  },
  {
   "cell_type": "code",
   "execution_count": 7,
   "metadata": {},
   "outputs": [
    {
     "name": "stdout",
     "output_type": "stream",
     "text": [
      "j = 'Hello World'\n",
      "k = 'C'\n"
     ]
    }
   ],
   "source": [
    "j: str = \"Hello World\"  # Single Quotes or Double Quotes\n",
    "k: str = \"C\"  # Single Character\n",
    "\n",
    "print(f\"{j = }\")\n",
    "print(f\"{k = }\")"
   ]
  },
  {
   "attachments": {},
   "cell_type": "markdown",
   "metadata": {},
   "source": [
    "### <a id='toc3_6_'></a>List [&#8593;](#toc0_)\n"
   ]
  },
  {
   "cell_type": "code",
   "execution_count": 8,
   "metadata": {},
   "outputs": [
    {
     "name": "stdout",
     "output_type": "stream",
     "text": [
      "a_list = ['a', 'b', 'c', 1, 2, 3.4, 4.5, True, False, {}, [], 1, 0]\n"
     ]
    }
   ],
   "source": [
    "from typing import Any\n",
    "\n",
    "# True and False are the same as 1 and 0\n",
    "a_list: list[Any] = [\"a\", \"b\", \"c\", 1, 2, 3.4, 4.5, True, False, {}, [], 1, 0]\n",
    "\n",
    "print(f\"{a_list = }\")"
   ]
  },
  {
   "attachments": {},
   "cell_type": "markdown",
   "metadata": {},
   "source": [
    "### <a id='toc3_7_'></a>Tuple [&#8593;](#toc0_)\n"
   ]
  },
  {
   "cell_type": "code",
   "execution_count": 9,
   "metadata": {},
   "outputs": [
    {
     "name": "stdout",
     "output_type": "stream",
     "text": [
      "a_tuple = (1, 2, 3)\n",
      "b_tuple = ('a', 200, True)\n"
     ]
    }
   ],
   "source": [
    "a_tuple: tuple[int, ...] = (1, 2, 3)  # With parenthesis\n",
    "b_tuple: tuple[str, int, bool] = \"a\", 200, True  # Without parenthesis\n",
    "\n",
    "print(f\"{a_tuple = }\")\n",
    "print(f\"{b_tuple = }\")"
   ]
  },
  {
   "attachments": {},
   "cell_type": "markdown",
   "metadata": {},
   "source": [
    "### <a id='toc3_8_'></a>Dictionary [&#8593;](#toc0_)\n"
   ]
  },
  {
   "cell_type": "code",
   "execution_count": 10,
   "metadata": {},
   "outputs": [
    {
     "name": "stdout",
     "output_type": "stream",
     "text": [
      "string_dict = {'fname': 'John', 'lname': 'Doe', 'address': '123 Main St, Washington, DC 20001', 'age': 30, 'isEmployed': True}\n",
      "num_dict = {1: 'Mary', 2: 'John', 3: 'Sally'}\n"
     ]
    }
   ],
   "source": [
    "from typing import Any\n",
    "\n",
    "# Strings as keys\n",
    "string_dict: dict[str, Any] = {\n",
    "    \"fname\": \"John\",\n",
    "    \"lname\": \"Doe\",\n",
    "    \"address\": \"123 Main St, Washington, DC 20001\",\n",
    "    \"age\": 30,\n",
    "    \"isEmployed\": True,\n",
    "}\n",
    "\n",
    "# Integers as keys\n",
    "num_dict: dict[int, str] = {1: \"Mary\", 2: \"John\", 3: \"Sally\"}\n",
    "\n",
    "print(f\"{string_dict = }\")\n",
    "print(f\"{num_dict = }\")"
   ]
  },
  {
   "attachments": {},
   "cell_type": "markdown",
   "metadata": {},
   "source": [
    "### <a id='toc3_9_'></a>Docstring/Pre-formatted string [&#8593;](#toc0_)\n"
   ]
  },
  {
   "cell_type": "code",
   "execution_count": 11,
   "metadata": {},
   "outputs": [
    {
     "name": "stdout",
     "output_type": "stream",
     "text": [
      "This is a string which\n",
      "can continue onto a new line. When printed, it will appear\n",
      "exactly as written between the triple quotes. This is commonly used for\n",
      "commenting classes and functions, thus the name 'Docstring'\n"
     ]
    }
   ],
   "source": [
    "st: str = \"\"\"This is a string which\n",
    "can continue onto a new line. When printed, it will appear\n",
    "exactly as written between the triple quotes. This is commonly used for\n",
    "commenting classes and functions, thus the name 'Docstring'\"\"\"\n",
    "\n",
    "print(st)"
   ]
  },
  {
   "attachments": {},
   "cell_type": "markdown",
   "metadata": {},
   "source": [
    "### <a id='toc3_10_'></a>Statements [&#8593;](#toc0_)\n"
   ]
  },
  {
   "attachments": {},
   "cell_type": "markdown",
   "metadata": {},
   "source": [
    "-   Statements in Python are separated into lines\n"
   ]
  },
  {
   "cell_type": "code",
   "execution_count": 12,
   "metadata": {},
   "outputs": [
    {
     "name": "stdout",
     "output_type": "stream",
     "text": [
      "3 + 4 = 7\n"
     ]
    }
   ],
   "source": [
    "result: int = 3 + 4\n",
    "print(f\"3 + 4 = {result}\")"
   ]
  },
  {
   "attachments": {},
   "cell_type": "markdown",
   "metadata": {},
   "source": [
    "-   We can also make them more compact on a single line\n",
    "    -   We can use `;` to separate multiple statements\n",
    "    -   However, this is not Pythonic and is not recommended\n",
    "\n",
    "```py\n",
    "result: int = 3 + 4; print(f\"3 + 4 = {result}\");\n",
    "```\n"
   ]
  },
  {
   "attachments": {},
   "cell_type": "markdown",
   "metadata": {},
   "source": [
    "-   Backslashes can be used to continue a statement on the next line\n",
    "    -   However, this is not Pythonic and is not recommended\n",
    "\n",
    "```py\n",
    "result: int = \\\n",
    "    3 + 4\n",
    "print(f\"\\\n",
    "    3 + 4 = \\\n",
    "    {result}\\\n",
    "\")\n",
    "```\n"
   ]
  },
  {
   "attachments": {},
   "cell_type": "markdown",
   "metadata": {},
   "source": [
    "### <a id='toc3_11_'></a>Function [&#8593;](#toc0_)\n"
   ]
  },
  {
   "cell_type": "code",
   "execution_count": 13,
   "metadata": {},
   "outputs": [
    {
     "name": "stdout",
     "output_type": "stream",
     "text": [
      "add(5, 4, 6) = 15\n"
     ]
    }
   ],
   "source": [
    "def add(a: int, b: int, c: int) -> int:\n",
    "    return a + b + c\n",
    "\n",
    "\n",
    "res: int = add(5, 4, 6)\n",
    "print(f\"add(5, 4, 6) = {res}\")"
   ]
  },
  {
   "attachments": {},
   "cell_type": "markdown",
   "metadata": {},
   "source": [
    "### <a id='toc3_12_'></a>Compound Statement Block [&#8593;](#toc0_)\n"
   ]
  },
  {
   "cell_type": "code",
   "execution_count": 14,
   "metadata": {},
   "outputs": [
    {
     "name": "stdout",
     "output_type": "stream",
     "text": [
      "Sum of first 100 integers = 5050\n"
     ]
    }
   ],
   "source": [
    "total = 0\n",
    "\n",
    "for i in range(101):\n",
    "    total += i\n",
    "\n",
    "print(f\"Sum of first 100 integers = {total}\")"
   ]
  },
  {
   "attachments": {},
   "cell_type": "markdown",
   "metadata": {},
   "source": [
    "### <a id='toc3_13_'></a>Variables [&#8593;](#toc0_)\n"
   ]
  },
  {
   "attachments": {},
   "cell_type": "markdown",
   "metadata": {},
   "source": [
    "-   **In Python, everything is an as object**\n",
    "    -   Objects can store single value or multiple values\n",
    "-   A variable is a named storage location\n",
    "    -   Variables store _reference_ to the object containing the data, not the data value itself\n",
    "    -   A reference is the memory address of the location where the object is stored\n",
    "-   A variable itself does not have a type and thus can store a reference to any type of object\n",
    "    -   It is the object that has a data type\n",
    "-   A variable cannot be used before it has been created by an assignment of a reference to some object\n",
    "    -   Attempting to do so will generate an error\n",
    "-   If all references to an object are removed, it is automatically destroyed as part of Python's _Garbage Collection_\n",
    "-   _In CPython, we can get the memory address of a variable with `id()`_\n"
   ]
  },
  {
   "cell_type": "code",
   "execution_count": 15,
   "metadata": {},
   "outputs": [
    {
     "name": "stdout",
     "output_type": "stream",
     "text": [
      "address int of total: 129371554601200\n",
      "address hex of total: 0x75a9a98e58f0\n",
      "address bin of total: 0b11101011010100110101001100011100101100011110000\n"
     ]
    }
   ],
   "source": [
    "# Get memory address of total in integer\n",
    "print(f\"address int of total: {id(total)}\")\n",
    "\n",
    "# Get memory address of total in hexadecimal\n",
    "print(f\"address hex of total: {hex(id(total))}\")\n",
    "\n",
    "# Get memory address of total in binary\n",
    "print(f\"address bin of total: {bin(id(total))}\")"
   ]
  },
  {
   "attachments": {},
   "cell_type": "markdown",
   "metadata": {},
   "source": [
    "#### <a id='toc3_13_1_'></a>Assignment [&#8593;](#toc0_)\n"
   ]
  },
  {
   "attachments": {},
   "cell_type": "markdown",
   "metadata": {},
   "source": [
    "-   Create three variables\n",
    "-   Assign references to each with the given literal values\n"
   ]
  },
  {
   "cell_type": "code",
   "execution_count": 16,
   "metadata": {},
   "outputs": [
    {
     "name": "stdout",
     "output_type": "stream",
     "text": [
      "name = 'John Smith'\tid(name) = 129371554864368\n",
      "id_num = 42\t\tid(id_num) = 9762600\n",
      "avg = 3.457\t\tid(avg) = 129371554599728\n"
     ]
    }
   ],
   "source": [
    "name: str = \"John Smith\"\n",
    "id_num: int = 42\n",
    "avg: float = 3.457\n",
    "\n",
    "print(f\"{name = }\\t{id(name) = }\")\n",
    "print(f\"{id_num = }\\t\\t{id(id_num) = }\")\n",
    "print(f\"{avg = }\\t\\t{id(avg) = }\")"
   ]
  },
  {
   "attachments": {},
   "cell_type": "markdown",
   "metadata": {},
   "source": [
    "#### <a id='toc3_13_2_'></a>Aliasing [&#8593;](#toc0_)\n"
   ]
  },
  {
   "attachments": {},
   "cell_type": "markdown",
   "metadata": {},
   "source": [
    "-   These variables point to the same data in memory as the previous variables\n",
    "-   The pointer is passed by value\n"
   ]
  },
  {
   "cell_type": "code",
   "execution_count": 17,
   "metadata": {},
   "outputs": [
    {
     "name": "stdout",
     "output_type": "stream",
     "text": [
      "another_name = 'John Smith'\tid(another_name) = 129371554864368\n",
      "another_id = 42\t\t\tid(another_id) = 9762600\n",
      "another_avg = 3.457\t\tid(another_avg) = 129371554599728\n"
     ]
    }
   ],
   "source": [
    "another_name: str = name\n",
    "another_id: int = id_num\n",
    "another_avg: float = avg\n",
    "\n",
    "print(f\"{another_name = }\\t{id(another_name) = }\")\n",
    "print(f\"{another_id = }\\t\\t\\t{id(another_id) = }\")\n",
    "print(f\"{another_avg = }\\t\\t{id(another_avg) = }\")"
   ]
  },
  {
   "attachments": {},
   "cell_type": "markdown",
   "metadata": {},
   "source": [
    "#### <a id='toc3_13_3_'></a>Null Reference [&#8593;](#toc0_)\n"
   ]
  },
  {
   "attachments": {},
   "cell_type": "markdown",
   "metadata": {},
   "source": [
    "-   The special object `None` is used to set a null reference\n",
    "-   When a variable points to `None`, it has a Null Reference\n"
   ]
  },
  {
   "cell_type": "code",
   "execution_count": 18,
   "metadata": {},
   "outputs": [],
   "source": [
    "from typing import Optional\n",
    "\n",
    "grade: Optional[str] = None"
   ]
  },
  {
   "attachments": {},
   "cell_type": "markdown",
   "metadata": {},
   "source": [
    "#### <a id='toc3_13_4_'></a>Constants [&#8593;](#toc0_)\n"
   ]
  },
  {
   "attachments": {},
   "cell_type": "markdown",
   "metadata": {},
   "source": [
    "-   **Python does not support real constants**\n",
    "-   Instead, it is common practice to specify pseudo-constant variables with all capital letters\n",
    "    -   But in reality, they are still variables and their values can be changed\n",
    "    -   There is no way to enforce the concept of a constant and keep its value from being changed\n"
   ]
  },
  {
   "cell_type": "code",
   "execution_count": 19,
   "metadata": {},
   "outputs": [
    {
     "name": "stdout",
     "output_type": "stream",
     "text": [
      "TAX_RATE = 0.06\n",
      "MAX_AGE = 150\n"
     ]
    }
   ],
   "source": [
    "from typing import Final\n",
    "\n",
    "TAX_RATE: Final[float] = 0.06\n",
    "MAX_AGE: Final[float] = 150\n",
    "\n",
    "print(f\"{TAX_RATE = }\")\n",
    "print(f\"{MAX_AGE = }\")"
   ]
  },
  {
   "attachments": {},
   "cell_type": "markdown",
   "metadata": {},
   "source": [
    "### <a id='toc3_14_'></a>Arithmetic Operations and Compound Operators [&#8593;](#toc0_)\n"
   ]
  },
  {
   "cell_type": "code",
   "execution_count": 20,
   "metadata": {},
   "outputs": [
    {
     "name": "stdout",
     "output_type": "stream",
     "text": [
      "x = 2\n"
     ]
    }
   ],
   "source": [
    "x: float = 2\n",
    "print(f\"{x = }\")"
   ]
  },
  {
   "attachments": {},
   "cell_type": "markdown",
   "metadata": {},
   "source": [
    "#### <a id='toc3_14_1_'></a>Addition [&#8593;](#toc0_)\n"
   ]
  },
  {
   "cell_type": "code",
   "execution_count": 21,
   "metadata": {},
   "outputs": [
    {
     "name": "stdout",
     "output_type": "stream",
     "text": [
      "x = 2\n"
     ]
    }
   ],
   "source": [
    "1 + 1\n",
    "x = 1\n",
    "x += 1\n",
    "print(f\"{x = }\")"
   ]
  },
  {
   "attachments": {},
   "cell_type": "markdown",
   "metadata": {},
   "source": [
    "#### <a id='toc3_14_2_'></a>Subtraction [&#8593;](#toc0_)\n"
   ]
  },
  {
   "cell_type": "code",
   "execution_count": 22,
   "metadata": {},
   "outputs": [
    {
     "name": "stdout",
     "output_type": "stream",
     "text": [
      "x = 1\n"
     ]
    }
   ],
   "source": [
    "2 - 1\n",
    "x = 2\n",
    "x -= 1\n",
    "print(f\"{x = }\")"
   ]
  },
  {
   "attachments": {},
   "cell_type": "markdown",
   "metadata": {},
   "source": [
    "#### <a id='toc3_14_3_'></a>Multiplication [&#8593;](#toc0_)\n"
   ]
  },
  {
   "cell_type": "code",
   "execution_count": 23,
   "metadata": {},
   "outputs": [
    {
     "name": "stdout",
     "output_type": "stream",
     "text": [
      "x = 55965\n"
     ]
    }
   ],
   "source": [
    "123 * 455\n",
    "x = 123\n",
    "x *= 455\n",
    "print(f\"{x = }\")"
   ]
  },
  {
   "attachments": {},
   "cell_type": "markdown",
   "metadata": {},
   "source": [
    "#### <a id='toc3_14_4_'></a>True Division [&#8593;](#toc0_)\n"
   ]
  },
  {
   "cell_type": "code",
   "execution_count": 24,
   "metadata": {},
   "outputs": [
    {
     "name": "stdout",
     "output_type": "stream",
     "text": [
      "x = 0.26973684210526316\n"
     ]
    }
   ],
   "source": [
    "# Default division for Python3\n",
    "123 / 456\n",
    "x = 123\n",
    "x /= 456\n",
    "print(f\"{x = }\")"
   ]
  },
  {
   "attachments": {},
   "cell_type": "markdown",
   "metadata": {},
   "source": [
    "#### <a id='toc3_14_5_'></a>Floor Division [&#8593;](#toc0_)\n"
   ]
  },
  {
   "cell_type": "code",
   "execution_count": 25,
   "metadata": {},
   "outputs": [
    {
     "name": "stdout",
     "output_type": "stream",
     "text": [
      "x = 0\n"
     ]
    }
   ],
   "source": [
    "# Round the result to an integer\n",
    "123 // 456\n",
    "x = 123\n",
    "x //= 456\n",
    "print(f\"{x = }\")"
   ]
  },
  {
   "attachments": {},
   "cell_type": "markdown",
   "metadata": {},
   "source": [
    "#### <a id='toc3_14_6_'></a>Modulo [&#8593;](#toc0_)\n"
   ]
  },
  {
   "cell_type": "code",
   "execution_count": 26,
   "metadata": {},
   "outputs": [
    {
     "name": "stdout",
     "output_type": "stream",
     "text": [
      "x = 0\n"
     ]
    }
   ],
   "source": [
    "4 % 2\n",
    "x = 4\n",
    "x %= 2\n",
    "print(f\"{x = }\")"
   ]
  },
  {
   "attachments": {},
   "cell_type": "markdown",
   "metadata": {},
   "source": [
    "#### <a id='toc3_14_7_'></a>Power [&#8593;](#toc0_)\n"
   ]
  },
  {
   "cell_type": "code",
   "execution_count": 27,
   "metadata": {},
   "outputs": [
    {
     "name": "stdout",
     "output_type": "stream",
     "text": [
      "x = 8\n"
     ]
    }
   ],
   "source": [
    "2**3\n",
    "x = 2\n",
    "x **= 3\n",
    "print(f\"{x = }\")"
   ]
  },
  {
   "attachments": {},
   "cell_type": "markdown",
   "metadata": {},
   "source": [
    "_Special care must be taken when using the power operator with negative literal values._\n"
   ]
  },
  {
   "attachments": {},
   "cell_type": "markdown",
   "metadata": {},
   "source": [
    "### <a id='toc3_15_'></a>Logical Operations [&#8593;](#toc0_)\n"
   ]
  },
  {
   "attachments": {},
   "cell_type": "markdown",
   "metadata": {},
   "source": [
    "-   Evaluated from left to right based on their order of precedence\n"
   ]
  },
  {
   "attachments": {},
   "cell_type": "markdown",
   "metadata": {},
   "source": [
    "#### <a id='toc3_15_1_'></a>Relational Operators [&#8593;](#toc0_)\n"
   ]
  },
  {
   "cell_type": "code",
   "execution_count": 28,
   "metadata": {},
   "outputs": [],
   "source": [
    "# Assignment\n",
    "avg = 70"
   ]
  },
  {
   "cell_type": "code",
   "execution_count": 29,
   "metadata": {},
   "outputs": [
    {
     "name": "stdout",
     "output_type": "stream",
     "text": [
      "avg == 70 = True\n"
     ]
    }
   ],
   "source": [
    "# Equality\n",
    "print(f\"{avg == 70 = }\")"
   ]
  },
  {
   "cell_type": "code",
   "execution_count": 30,
   "metadata": {},
   "outputs": [
    {
     "name": "stdout",
     "output_type": "stream",
     "text": [
      "avg > 69 = True\n"
     ]
    }
   ],
   "source": [
    "# Greater Than\n",
    "print(f\"{avg > 69 = }\")"
   ]
  },
  {
   "cell_type": "code",
   "execution_count": 31,
   "metadata": {},
   "outputs": [
    {
     "name": "stdout",
     "output_type": "stream",
     "text": [
      "avg < 60 = False\n"
     ]
    }
   ],
   "source": [
    "# Less Than\n",
    "print(f\"{avg < 60 = }\")"
   ]
  },
  {
   "cell_type": "code",
   "execution_count": 32,
   "metadata": {},
   "outputs": [
    {
     "name": "stdout",
     "output_type": "stream",
     "text": [
      "avg >= 70 = True\n"
     ]
    }
   ],
   "source": [
    "# Greater or Equal\n",
    "print(f\"{avg >= 70 = }\")"
   ]
  },
  {
   "cell_type": "code",
   "execution_count": 33,
   "metadata": {},
   "outputs": [
    {
     "name": "stdout",
     "output_type": "stream",
     "text": [
      "avg <= 70 = True\n"
     ]
    }
   ],
   "source": [
    "# Less or Equal\n",
    "print(f\"{avg <= 70 = }\")"
   ]
  },
  {
   "attachments": {},
   "cell_type": "markdown",
   "metadata": {},
   "source": [
    "-   Strings are compared lexicographically, character by character, from left to right\n"
   ]
  },
  {
   "cell_type": "code",
   "execution_count": 34,
   "metadata": {},
   "outputs": [
    {
     "name": "stdout",
     "output_type": "stream",
     "text": [
      "False\n"
     ]
    }
   ],
   "source": [
    "GREET_1: str = \"Hello\"\n",
    "GREET_2: str = \"hello\"\n",
    "print(GREET_1 == GREET_2)"
   ]
  },
  {
   "cell_type": "code",
   "execution_count": 35,
   "metadata": {},
   "outputs": [
    {
     "name": "stdout",
     "output_type": "stream",
     "text": [
      "(name != 'John Smith') = False\n"
     ]
    }
   ],
   "source": [
    "# Not equal\n",
    "print(f\"{(name != 'John Smith') = }\")"
   ]
  },
  {
   "attachments": {},
   "cell_type": "markdown",
   "metadata": {},
   "source": [
    "#### <a id='toc3_15_2_'></a>Boolean Operators [&#8593;](#toc0_)\n"
   ]
  },
  {
   "cell_type": "code",
   "execution_count": 36,
   "metadata": {},
   "outputs": [
    {
     "name": "stdout",
     "output_type": "stream",
     "text": [
      "avg >= 60 and avg <= 70 = True\n"
     ]
    }
   ],
   "source": [
    "# and\n",
    "print(f\"{avg >= 60 and avg <= 70 = }\")"
   ]
  },
  {
   "cell_type": "code",
   "execution_count": 37,
   "metadata": {},
   "outputs": [
    {
     "name": "stdout",
     "output_type": "stream",
     "text": [
      "avg >= 60 or avg <= 10 = True\n"
     ]
    }
   ],
   "source": [
    "# or\n",
    "print(f\"{avg >= 60 or avg <= 10 = }\")"
   ]
  },
  {
   "cell_type": "code",
   "execution_count": 38,
   "metadata": {},
   "outputs": [
    {
     "name": "stdout",
     "output_type": "stream",
     "text": [
      "not (avg >= 60 and avg <= 70) = False\n"
     ]
    }
   ],
   "source": [
    "# not\n",
    "print(f\"{not (avg >= 60 and avg <= 70) = }\")"
   ]
  },
  {
   "attachments": {},
   "cell_type": "markdown",
   "metadata": {},
   "source": [
    "#### <a id='toc3_15_3_'></a>Object References [&#8593;](#toc0_)\n"
   ]
  },
  {
   "cell_type": "code",
   "execution_count": 39,
   "metadata": {},
   "outputs": [
    {
     "name": "stdout",
     "output_type": "stream",
     "text": [
      "name_1 is name_2 = False\n"
     ]
    }
   ],
   "source": [
    "from typing import Optional\n",
    "\n",
    "name_1: Optional[str] = \"Smith\"\n",
    "name_2: Optional[str] = \"Jones\"\n",
    "\n",
    "# Comparing References: Pointer in memory\n",
    "print(f\"{name_1 is name_2 = }\")"
   ]
  },
  {
   "cell_type": "code",
   "execution_count": 40,
   "metadata": {},
   "outputs": [
    {
     "name": "stdout",
     "output_type": "stream",
     "text": [
      "name_1 is not name_2 = True\n"
     ]
    }
   ],
   "source": [
    "# Same as: not (name_1 is name_2)\n",
    "print(f\"{name_1 is not name_2 = }\")"
   ]
  },
  {
   "cell_type": "code",
   "execution_count": 41,
   "metadata": {},
   "outputs": [
    {
     "name": "stdout",
     "output_type": "stream",
     "text": [
      "name_1 is name_2 = True\n"
     ]
    }
   ],
   "source": [
    "# Aliasing == Making the same reference point to the same memory location\n",
    "name_2 = name_1\n",
    "print(f\"{name_1 is name_2 = }\")"
   ]
  },
  {
   "cell_type": "code",
   "execution_count": 42,
   "metadata": {},
   "outputs": [
    {
     "name": "stdout",
     "output_type": "stream",
     "text": [
      "name_1 is not name_2 = False\n"
     ]
    }
   ],
   "source": [
    "# Same as: not (name_1 is name_2)\n",
    "print(f\"{name_1 is not name_2 = }\")"
   ]
  },
  {
   "cell_type": "code",
   "execution_count": 43,
   "metadata": {},
   "outputs": [
    {
     "name": "stdout",
     "output_type": "stream",
     "text": [
      "name_1 is None = False\n"
     ]
    }
   ],
   "source": [
    "# Testing for None value\n",
    "print(f\"{name_1 is None = }\")"
   ]
  },
  {
   "cell_type": "code",
   "execution_count": 44,
   "metadata": {},
   "outputs": [
    {
     "name": "stdout",
     "output_type": "stream",
     "text": [
      "name_1 is not None = False\n"
     ]
    }
   ],
   "source": [
    "# Testing for None value\n",
    "name_1 = None\n",
    "print(f\"{name_1 is not None = }\")"
   ]
  },
  {
   "attachments": {},
   "cell_type": "markdown",
   "metadata": {},
   "source": [
    "### <a id='toc3_16_'></a>Order of Precendence [&#8593;](#toc0_)\n"
   ]
  },
  {
   "attachments": {},
   "cell_type": "markdown",
   "metadata": {},
   "source": [
    "From highest precedence to lowest:\n",
    "\n",
    "```\n",
    "()                            Parentheses (grouping)\n",
    "f(args...)                    Function call\n",
    "x[index:index]                Slicing\n",
    "x[index]                      Subscription\n",
    "x.attribute                   Attribute reference\n",
    "**                            Exponentiation\n",
    "~x                            Bitwise Not\n",
    "+x, -x                        Positive, Negative\n",
    "*, /, %                       Multiplication, division, remainder\n",
    "+, -                          Addition, subtraction\n",
    "<<, >>                        Bitwise shifts\n",
    "&                             Bitwise AND\n",
    "^                             Bitwise XOR\n",
    "|                             Bitwise OR\n",
    "in, not in,\n",
    "is, is not,                   Comparisons, membership, identity\n",
    "<, <=, >, >=, <>, !=, ==\n",
    "not x                         Boolean NOT\n",
    "and                           Boolean AND\n",
    "or                            Boolean OR\n",
    "lambda                        Lambda expression\n",
    "```\n"
   ]
  },
  {
   "attachments": {},
   "cell_type": "markdown",
   "metadata": {},
   "source": [
    "### <a id='toc3_17_'></a>Functions and Methods [&#8593;](#toc0_)\n"
   ]
  },
  {
   "cell_type": "code",
   "execution_count": 45,
   "metadata": {},
   "outputs": [
    {
     "name": "stdout",
     "output_type": "stream",
     "text": [
      "abs(-12) = 12\n"
     ]
    }
   ],
   "source": [
    "# Function call\n",
    "x = -12\n",
    "y: float = abs(x)  # Absolute Value\n",
    "print(f\"abs(-12) = {y}\")"
   ]
  },
  {
   "attachments": {},
   "cell_type": "markdown",
   "metadata": {},
   "source": [
    "-   All values in Python are stored in objects that are created or instantiated from classes\n",
    "-   `str()` constructor can also be used to create string representations of other types\n"
   ]
  },
  {
   "cell_type": "code",
   "execution_count": 46,
   "metadata": {},
   "outputs": [
    {
     "name": "stdout",
     "output_type": "stream",
     "text": [
      "int_str = '45'\n",
      "float_str = '56.89'\n",
      "bool_str = 'False'\n"
     ]
    }
   ],
   "source": [
    "int_str: str = str(45)  # \"45\"\n",
    "float_str: str = str(56.89)  # \"56.89\"\n",
    "bool_str: str = str(False)  # \"False\"\n",
    "\n",
    "print(f\"{int_str = }\")\n",
    "print(f\"{float_str = }\")\n",
    "print(f\"{bool_str = }\")"
   ]
  },
  {
   "cell_type": "code",
   "execution_count": 47,
   "metadata": {},
   "outputs": [
    {
     "name": "stdout",
     "output_type": "stream",
     "text": [
      "name_lower = 'jane green'\n",
      "name_upper = 'JANE GREEN'\n"
     ]
    }
   ],
   "source": [
    "# Applying methods on objects\n",
    "name = \"Jane Green\"\n",
    "\n",
    "name_lower: str = name.lower()\n",
    "name_upper: str = name.upper()\n",
    "\n",
    "print(f\"{name_lower = }\")\n",
    "print(f\"{name_upper = }\")"
   ]
  },
  {
   "attachments": {},
   "cell_type": "markdown",
   "metadata": {},
   "source": [
    "### <a id='toc3_18_'></a>Standard Library [&#8593;](#toc0_)\n"
   ]
  },
  {
   "attachments": {},
   "cell_type": "markdown",
   "metadata": {},
   "source": [
    "-   Built-in Types\n",
    "-   Built-in Functions\n",
    "-   Class Definitions\n",
    "-   Modules\n"
   ]
  },
  {
   "attachments": {},
   "cell_type": "markdown",
   "metadata": {},
   "source": [
    "#### <a id='toc3_18_1_'></a>Import Statements [&#8593;](#toc0_)\n"
   ]
  },
  {
   "attachments": {},
   "cell_type": "markdown",
   "metadata": {},
   "source": [
    "-   General Import\n",
    "-   Import all functions from a module\n",
    "-   Not recommends as it is not explicitly clear\n"
   ]
  },
  {
   "cell_type": "code",
   "execution_count": 48,
   "metadata": {},
   "outputs": [
    {
     "name": "stdout",
     "output_type": "stream",
     "text": [
      "sqrt(5) = 2.23606797749979\n"
     ]
    }
   ],
   "source": [
    "from math import *\n",
    "\n",
    "print(f\"{sqrt(5) = }\")"
   ]
  },
  {
   "attachments": {},
   "cell_type": "markdown",
   "metadata": {},
   "source": [
    "-   Specific Import\n",
    "-   Import only some specific functions from a module\n"
   ]
  },
  {
   "cell_type": "code",
   "execution_count": 49,
   "metadata": {},
   "outputs": [
    {
     "name": "stdout",
     "output_type": "stream",
     "text": [
      "sqrt(5) = 2.23606797749979\n",
      "sin(5) = -0.9589242746631385\n",
      "cos(5) = 0.28366218546322625\n"
     ]
    }
   ],
   "source": [
    "from math import sqrt, sin, cos\n",
    "\n",
    "print(f\"{sqrt(5) = }\")\n",
    "print(f\"{sin(5) = }\")\n",
    "print(f\"{cos(5) = }\")"
   ]
  },
  {
   "attachments": {},
   "cell_type": "markdown",
   "metadata": {},
   "source": [
    "-   Namespace Import\n",
    "-   Import the whole module as an alias (alias is optional)\n"
   ]
  },
  {
   "cell_type": "code",
   "execution_count": 50,
   "metadata": {},
   "outputs": [
    {
     "name": "stdout",
     "output_type": "stream",
     "text": [
      "mt.sqrt(90) = 9.486832980505138\n",
      "mt.sin(90) = 0.8939966636005579\n",
      "mt.cos(90) = -0.4480736161291701\n"
     ]
    }
   ],
   "source": [
    "import math as mt\n",
    "\n",
    "print(f\"{mt.sqrt(90) = }\")\n",
    "print(f\"{mt.sin(90) = }\")\n",
    "print(f\"{mt.cos(90) = }\")"
   ]
  },
  {
   "attachments": {},
   "cell_type": "markdown",
   "metadata": {},
   "source": [
    "## <a id='toc4_'></a>User Interactions [&#8593;](#toc0_)\n"
   ]
  },
  {
   "attachments": {},
   "cell_type": "markdown",
   "metadata": {},
   "source": [
    "### <a id='toc4_1_'></a>Standard Input [&#8593;](#toc0_)\n"
   ]
  },
  {
   "attachments": {},
   "cell_type": "markdown",
   "metadata": {},
   "source": [
    "-   Grab textual input from user\n"
   ]
  },
  {
   "cell_type": "code",
   "execution_count": 51,
   "metadata": {},
   "outputs": [
    {
     "name": "stdout",
     "output_type": "stream",
     "text": [
      "Welcome, John!\n"
     ]
    }
   ],
   "source": [
    "user_name: str = input(\"What is your name? \")\n",
    "print(f\"Welcome, {user_name}!\")"
   ]
  },
  {
   "attachments": {},
   "cell_type": "markdown",
   "metadata": {},
   "source": [
    "-   We should use exception handling when converting type\n"
   ]
  },
  {
   "cell_type": "code",
   "execution_count": 52,
   "metadata": {},
   "outputs": [
    {
     "name": "stdout",
     "output_type": "stream",
     "text": [
      "Your gpa is 3.5\n"
     ]
    }
   ],
   "source": [
    "user_input: str = input(\"What is your gpa? \")\n",
    "\n",
    "try:\n",
    "    gpa: float = float(user_input.strip())\n",
    "    if gpa < 0 or gpa > 4.0:\n",
    "        raise ValueError(\"GPA outside of range\")\n",
    "    print(f\"Your gpa is {gpa}\")\n",
    "except Exception as err:\n",
    "    print(f\"Error: {err}\")"
   ]
  },
  {
   "attachments": {},
   "cell_type": "markdown",
   "metadata": {},
   "source": [
    "### <a id='toc4_2_'></a>Standard Output [&#8593;](#toc0_)\n"
   ]
  },
  {
   "cell_type": "code",
   "execution_count": 53,
   "metadata": {},
   "outputs": [
    {
     "name": "stdout",
     "output_type": "stream",
     "text": [
      "Hello World!!\n"
     ]
    }
   ],
   "source": [
    "print(\"Hello World!!\")"
   ]
  },
  {
   "cell_type": "code",
   "execution_count": 54,
   "metadata": {},
   "outputs": [
    {
     "name": "stdout",
     "output_type": "stream",
     "text": [
      "Your average is\n",
      "13.666666666666666\n"
     ]
    }
   ],
   "source": [
    "# Print() only outputs strings\n",
    "avg = (10 + 15 + 16) / 3.0\n",
    "\n",
    "print(\"Your average is\")\n",
    "print(avg)"
   ]
  },
  {
   "cell_type": "code",
   "execution_count": 55,
   "metadata": {},
   "outputs": [
    {
     "name": "stdout",
     "output_type": "stream",
     "text": [
      "Your average is 13.666666666666666\n"
     ]
    }
   ],
   "source": [
    "# Multiple arguments\n",
    "print(\"Your average is\", avg)"
   ]
  },
  {
   "cell_type": "code",
   "execution_count": 56,
   "metadata": {},
   "outputs": [
    {
     "name": "stdout",
     "output_type": "stream",
     "text": [
      "Your average is 13.666666666666666\n"
     ]
    }
   ],
   "source": [
    "# Changing ending: Default = Line feed \\n\n",
    "print(\"Your average is\", end=\" \")\n",
    "print(avg)"
   ]
  },
  {
   "attachments": {},
   "cell_type": "markdown",
   "metadata": {},
   "source": [
    "#### <a id='toc4_2_1_'></a>Escape Sequences [&#8593;](#toc0_)\n"
   ]
  },
  {
   "attachments": {},
   "cell_type": "markdown",
   "metadata": {},
   "source": [
    "-   `\\\\` Backslash (`\\`)\n",
    "-   `\\n` Newline / Newfeed\n",
    "-   `\\\"` Double quote (`\"`)\n",
    "-   `\\'` Single quote (`'`)\n",
    "-   `\\t` Tab\n",
    "-   `\\r` Carriage Return\n"
   ]
  },
  {
   "attachments": {},
   "cell_type": "markdown",
   "metadata": {},
   "source": [
    "#### <a id='toc4_2_2_'></a>Formatted Output [&#8593;](#toc0_)\n"
   ]
  },
  {
   "attachments": {},
   "cell_type": "markdown",
   "metadata": {},
   "source": [
    "-   We can use Modulo Operator Overloading\n"
   ]
  },
  {
   "cell_type": "code",
   "execution_count": 57,
   "metadata": {},
   "outputs": [
    {
     "name": "stdout",
     "output_type": "stream",
     "text": [
      "Your average is 13.67\n"
     ]
    }
   ],
   "source": [
    "print(\"Your average is %5.2f\" % avg)"
   ]
  },
  {
   "cell_type": "code",
   "execution_count": 58,
   "metadata": {},
   "outputs": [
    {
     "name": "stdout",
     "output_type": "stream",
     "text": [
      "His name is John and his age is 43\n"
     ]
    }
   ],
   "source": [
    "name = \"John\"\n",
    "age = 43\n",
    "print(\"His name is %s and his age is %s\" % (name, age))"
   ]
  },
  {
   "attachments": {},
   "cell_type": "markdown",
   "metadata": {},
   "source": [
    "-   We can also make use of the `str.format()` method\n"
   ]
  },
  {
   "cell_type": "code",
   "execution_count": 59,
   "metadata": {},
   "outputs": [
    {
     "name": "stdout",
     "output_type": "stream",
     "text": [
      "His name is John and his age is 43\n"
     ]
    }
   ],
   "source": [
    "name = \"John\"\n",
    "age = 43\n",
    "print(\"His name is {name} and his age is {age}\".format(name=name, age=age))"
   ]
  },
  {
   "attachments": {},
   "cell_type": "markdown",
   "metadata": {},
   "source": [
    "-   We can also make use of string interpolation with `f`-strings\n"
   ]
  },
  {
   "cell_type": "code",
   "execution_count": 60,
   "metadata": {},
   "outputs": [
    {
     "name": "stdout",
     "output_type": "stream",
     "text": [
      "His name is John and his age is 43\n"
     ]
    }
   ],
   "source": [
    "name = \"John\"\n",
    "age = 43\n",
    "print(f\"His name is {name} and his age is {age}\")"
   ]
  },
  {
   "attachments": {},
   "cell_type": "markdown",
   "metadata": {},
   "source": [
    "-   We can also make use of basic string concatenation\n"
   ]
  },
  {
   "cell_type": "code",
   "execution_count": 61,
   "metadata": {},
   "outputs": [
    {
     "name": "stdout",
     "output_type": "stream",
     "text": [
      "His name is John and his age is 43\n"
     ]
    }
   ],
   "source": [
    "name = \"John\"\n",
    "age = 43\n",
    "print(\"His name is \" + str(name) + \" and his age is \" + str(age))"
   ]
  },
  {
   "attachments": {},
   "cell_type": "markdown",
   "metadata": {},
   "source": [
    "General Format: `%[flags][width][.precision]code`\n"
   ]
  },
  {
   "attachments": {},
   "cell_type": "markdown",
   "metadata": {},
   "source": [
    "-   `flags` indicates zero fills or optional justification and is one of the following:\n",
    "    -   `0` -- Fill preceding blank spaces within the field with zeroes.\n",
    "    -   `+` -- Right-justify the value within the field.\n",
    "    -   `-` -- Left-justify the value within the field.\n",
    "-   `width` is an integer value indicating the number of spaces in the field used when formatting the replacement value\n",
    "-   `precision` is the number of digits to be printed after the decimal place when printing a floating-point value\n",
    "-   `code` indicates the type of data that is to replace the field specifier. It can be one of the following:\n",
    "    -   `%s` String\n",
    "    -   `%d` Decimal or integer\n",
    "    -   `%i` Same as `%d`\n",
    "    -   `%f` Floating-point\n",
    "    -   `%c` Character\n",
    "    -   `%u` Unsigned integer\n",
    "    -   `%o` Octal integer\n",
    "    -   `%x` Hexadecimal integer\n",
    "    -   `%X` Same as `%x` but uppercase\n",
    "    -   `%e` Scientific notation\n",
    "    -   `%E` Uppercase version of `%e`\n",
    "    -   `%g` Same as `%e`\n",
    "    -   `%G` Uppercase version of `%g`\n",
    "    -   `%%` Prints a literal `%`\n"
   ]
  },
  {
   "attachments": {},
   "cell_type": "markdown",
   "metadata": {},
   "source": [
    "## <a id='toc5_'></a>Control Structures [&#8593;](#toc0_)\n"
   ]
  },
  {
   "attachments": {},
   "cell_type": "markdown",
   "metadata": {},
   "source": [
    "### <a id='toc5_1_'></a>Selection Constructs (Conditioning) [&#8593;](#toc0_)\n"
   ]
  },
  {
   "cell_type": "code",
   "execution_count": 62,
   "metadata": {},
   "outputs": [
    {
     "name": "stdout",
     "output_type": "stream",
     "text": [
      "1.50 is less than 5\n"
     ]
    }
   ],
   "source": [
    "# Simple if-statement\n",
    "x = 1.5\n",
    "if x < 5:\n",
    "    print(f\"{x:0.2f} is less than 5\")"
   ]
  },
  {
   "cell_type": "code",
   "execution_count": 63,
   "metadata": {},
   "outputs": [
    {
     "name": "stdout",
     "output_type": "stream",
     "text": [
      "1.45 is positive\n"
     ]
    }
   ],
   "source": [
    "# If-Else\n",
    "x = 1.45\n",
    "if x < 0:\n",
    "    print(f\"{x:0.2f} is negative\")\n",
    "else:\n",
    "    print(f\"{x:0.2f} is positive\")"
   ]
  },
  {
   "cell_type": "code",
   "execution_count": 64,
   "metadata": {},
   "outputs": [
    {
     "name": "stdout",
     "output_type": "stream",
     "text": [
      "Among 3, 4, 0: Smallest is 0\n"
     ]
    }
   ],
   "source": [
    "# Nested-If\n",
    "num_1: int = 3\n",
    "num_2: int = 4\n",
    "num_3: int = 0\n",
    "\n",
    "if num_1 < num_2:\n",
    "    if num_1 < num_3:\n",
    "        smallest = num_1\n",
    "    else:\n",
    "        smallest = num_3\n",
    "else:\n",
    "    if num_2 < num_3:\n",
    "        smallest = num_2\n",
    "    else:\n",
    "        smallest = num_3\n",
    "\n",
    "print(f\"Among {num_1}, {num_2}, {num_3}: Smallest is {smallest}\")"
   ]
  },
  {
   "cell_type": "code",
   "execution_count": 65,
   "metadata": {},
   "outputs": [
    {
     "name": "stdout",
     "output_type": "stream",
     "text": [
      "avg_grade = 87.0 => letter_grade = 'B'\n"
     ]
    }
   ],
   "source": [
    "# Multiway branching with if-else\n",
    "avg_grade: float = 87.0\n",
    "letter_grade: str\n",
    "\n",
    "if avg_grade >= 90.0:\n",
    "    letter_grade = \"A\"\n",
    "elif avg_grade >= 80.0:\n",
    "    letter_grade = \"B\"\n",
    "elif avg_grade >= 70.0:\n",
    "    letter_grade = \"C\"\n",
    "elif avg_grade >= 60.0:\n",
    "    letter_grade = \"D\"\n",
    "else:\n",
    "    letter_grade = \"F\"\n",
    "\n",
    "print(f\"{avg_grade = } => {letter_grade = }\")"
   ]
  },
  {
   "cell_type": "code",
   "execution_count": 66,
   "metadata": {},
   "outputs": [
    {
     "name": "stdout",
     "output_type": "stream",
     "text": [
      "avg_grade = 87.0 => letter_grade = 'B'\n"
     ]
    }
   ],
   "source": [
    "# Multiway branching with match-case\n",
    "avg_grade = 87.0\n",
    "letter_grade = \"\"\n",
    "\n",
    "match avg_grade:\n",
    "    case _ if avg_grade >= 90.0:\n",
    "        letter_grade = \"A\"\n",
    "    case _ if avg_grade >= 80.0:\n",
    "        letter_grade = \"B\"\n",
    "    case _ if avg_grade >= 70.0:\n",
    "        letter_grade = \"C\"\n",
    "    case _ if avg_grade >= 60.0:\n",
    "        letter_grade = \"D\"\n",
    "    case _:\n",
    "        letter_grade = \"F\"\n",
    "\n",
    "print(f\"{avg_grade = } => {letter_grade = }\")"
   ]
  },
  {
   "cell_type": "code",
   "execution_count": 67,
   "metadata": {},
   "outputs": [
    {
     "name": "stdout",
     "output_type": "stream",
     "text": [
      "-1.5 is negative\n"
     ]
    }
   ],
   "source": [
    "# Python Conditional Shortcut\n",
    "x = -1.5\n",
    "print(f\"{x}\", end=\" \")\n",
    "print(\"is negative\") if x < 0 else print(\"is positive\")"
   ]
  },
  {
   "attachments": {},
   "cell_type": "markdown",
   "metadata": {},
   "source": [
    "### <a id='toc5_2_'></a>Structural Pattern Matching [&#8593;](#toc0_)\n"
   ]
  },
  {
   "attachments": {},
   "cell_type": "markdown",
   "metadata": {},
   "source": [
    "-   `match case` statements is Python's version to mimic `switch-case` statement\n",
    "-   Also adds additional powerful features alongside\n",
    "-   **NOTE: This is only available starting with Python v3.10**\n"
   ]
  },
  {
   "cell_type": "code",
   "execution_count": 68,
   "metadata": {},
   "outputs": [
    {
     "name": "stdout",
     "output_type": "stream",
     "text": [
      "which_day(\"Saturday\") = \"It's the weekend!\"\n"
     ]
    }
   ],
   "source": [
    "def which_day(day: str) -> str:\n",
    "    match day:\n",
    "        case \"Monday\":\n",
    "            return \"Here we go again...\"\n",
    "        case \"Friday\":\n",
    "            return \"Happy Friday!\"\n",
    "        case \"Saturday\" | \"Sunday\":  # Multiple literals can be combined with \"|\"\n",
    "            return \"It's the weekend!\"\n",
    "        case _:  # Optional default. If not defined, return None when no case match\n",
    "            return \"Just another day\"\n",
    "\n",
    "\n",
    "# Testing\n",
    "print(f'{which_day(\"Saturday\") = }')"
   ]
  },
  {
   "attachments": {},
   "cell_type": "markdown",
   "metadata": {},
   "source": [
    "-   We can also match complex patterns\n",
    "-   `_` wildcard can also be used inside the complex patterns\n"
   ]
  },
  {
   "cell_type": "code",
   "execution_count": 69,
   "metadata": {},
   "outputs": [
    {
     "name": "stdout",
     "output_type": "stream",
     "text": [
      "John is a 25 years old man\n",
      "Mary is a 20 year old woman\n",
      "Eric is 30 years old\n"
     ]
    }
   ],
   "source": [
    "def which_person(person: tuple[str, str, int]) -> None:  # person = (name, gender, age)\n",
    "    match person:\n",
    "        case (name, \"male\", age):\n",
    "            print(f\"{name} is a {age} years old man\")\n",
    "        case (name, \"female\", age):\n",
    "            print(f\"{name} is a {age} year old woman\")\n",
    "        case (name, _, age):\n",
    "            print(f\"{name} is {age} years old\")\n",
    "\n",
    "\n",
    "# Calling\n",
    "pers_1: tuple[str, str, int] = (\"John\", \"male\", 25)\n",
    "which_person(pers_1)  # => John is a 25 years old man\n",
    "\n",
    "pers_2: tuple[str, str, int] = (\"Mary\", \"female\", 20)\n",
    "which_person(pers_2)  # => Mary is a 20 year old woman\n",
    "\n",
    "pers_3: tuple[str, str, int] = (\"Eric\", \"N/A\", 30)\n",
    "which_person(pers_3)  # => Eric is 30 years old"
   ]
  },
  {
   "attachments": {},
   "cell_type": "markdown",
   "metadata": {},
   "source": [
    "-   We are not limited to simple data structures\n",
    "    -   Here, we match against class attributes with patterns that resemble class constructor\n",
    "    -   When using this approach, individual attributes get captured into variables\n"
   ]
  },
  {
   "cell_type": "code",
   "execution_count": 70,
   "metadata": {},
   "outputs": [
    {
     "name": "stdout",
     "output_type": "stream",
     "text": [
      "John is a child\n",
      "Mark is a 30 years old\n",
      "Mary is a 20 years old\n",
      "Alex is a male and is 35 years old\n"
     ]
    }
   ],
   "source": [
    "from dataclasses import dataclass\n",
    "from typing import Optional\n",
    "\n",
    "\n",
    "@dataclass\n",
    "class Person:\n",
    "    name: str\n",
    "    age: int\n",
    "    gender: Optional[str] = None\n",
    "\n",
    "\n",
    "def which_person2(person: Person) -> None:\n",
    "    match person:\n",
    "        # This is not a constructor-call but a pattern matching the used constructor\n",
    "        # + Additional conditions to guard for extra filtering\n",
    "        case Person(name, age, gender) if age < 18:\n",
    "            print(f\"{name} is a child\")\n",
    "        case Person(name, age, gender) if gender in (\"male\", \"female\"):\n",
    "            print(f\"{name} is a {gender} and is {age} years old\")\n",
    "        # Wildcard (\"throw-away\" variable) can be used\n",
    "        case Person(name=name, age=age, gender=_):\n",
    "            print(f\"{name} is a {age} years old\")\n",
    "\n",
    "\n",
    "which_person2(Person(name=\"John\", gender=\"male\", age=15))\n",
    "which_person2(Person(name=\"Mark\", age=30))\n",
    "which_person2(Person(name=\"Mary\", age=20))\n",
    "which_person2(Person(name=\"Alex\", age=35, gender=\"male\"))"
   ]
  },
  {
   "attachments": {},
   "cell_type": "markdown",
   "metadata": {},
   "source": [
    "-   We can also use _Nested Patterns_, which can use iterables\n"
   ]
  },
  {
   "cell_type": "code",
   "execution_count": 71,
   "metadata": {},
   "outputs": [
    {
     "name": "stdout",
     "output_type": "stream",
     "text": [
      "We have many of users... Precisely 3 users\n"
     ]
    }
   ],
   "source": [
    "# This pattern is not fully supported by mypy yet\n",
    "from dataclasses import dataclass\n",
    "from typing import Optional\n",
    "\n",
    "\n",
    "@dataclass\n",
    "class Person2:\n",
    "    name: str\n",
    "    age: int\n",
    "    gender: Optional[str] = None\n",
    "\n",
    "\n",
    "users = [\n",
    "    Person2(\"John\", 25, \"male\"),\n",
    "    Person2(\"Mary\", 20, \"female\"),\n",
    "    Person2(\"Eric\", 30),\n",
    "]\n",
    "\n",
    "match users:\n",
    "    # We are matching a list of Persons\n",
    "    case [Person2()]:\n",
    "        print(\"One user provided\")\n",
    "    # Capture sub-pattern into variables for futher processing: `as var`\n",
    "    case [Person2(), Person2() as second]:\n",
    "        print(f\"There is another user: {second}\")\n",
    "    # *var operator can be used to \"unpack\" variables in the pattern\n",
    "    case [*rest]:\n",
    "        user_count: int = len(rest)\n",
    "        print(f\"We have many of users... Precisely {user_count} users\")"
   ]
  },
  {
   "attachments": {},
   "cell_type": "markdown",
   "metadata": {},
   "source": [
    "### <a id='toc5_3_'></a>Repetition Constructs [&#8593;](#toc0_)\n"
   ]
  },
  {
   "attachments": {},
   "cell_type": "markdown",
   "metadata": {},
   "source": [
    "#### <a id='toc5_3_1_'></a>While Loop [&#8593;](#toc0_)\n"
   ]
  },
  {
   "attachments": {},
   "cell_type": "markdown",
   "metadata": {},
   "source": [
    "-   Event-Controlled Loop\n",
    "-   Executed until an event or a sentinel value happens\n"
   ]
  },
  {
   "cell_type": "code",
   "execution_count": 72,
   "metadata": {},
   "outputs": [
    {
     "name": "stdout",
     "output_type": "stream",
     "text": [
      "num_sum = 5050\n"
     ]
    }
   ],
   "source": [
    "num_sum: int = 0\n",
    "\n",
    "# Initialization\n",
    "xz: int = 1\n",
    "\n",
    "# Condition\n",
    "while xz <= 100:\n",
    "    num_sum += xz  # Action\n",
    "    xz += 1  # Modification\n",
    "\n",
    "print(f\"{num_sum = }\")"
   ]
  },
  {
   "cell_type": "code",
   "execution_count": 73,
   "metadata": {},
   "outputs": [
    {
     "name": "stdout",
     "output_type": "stream",
     "text": [
      "The average grade is 80.00\n"
     ]
    }
   ],
   "source": [
    "total = 0\n",
    "count: int = 0\n",
    "value: int = int(input(\"Enter the first grade (numeric): \"))\n",
    "\n",
    "while value >= 0:\n",
    "    total += value\n",
    "    count += 1\n",
    "    value = int(input(\"Enter the next grade (or -1 to finalize): \"))\n",
    "\n",
    "avg = total / count\n",
    "print(\"The average grade is %4.2f\" % avg)"
   ]
  },
  {
   "attachments": {},
   "cell_type": "markdown",
   "metadata": {},
   "source": [
    "-   `break` allows to break out of a loop\n",
    "-   `continue` allows to skip an iteration and go to the next iteration\n"
   ]
  },
  {
   "attachments": {},
   "cell_type": "markdown",
   "metadata": {},
   "source": [
    "#### <a id='toc5_3_2_'></a>For Loop [&#8593;](#toc0_)\n"
   ]
  },
  {
   "attachments": {},
   "cell_type": "markdown",
   "metadata": {},
   "source": [
    "-   Count-controlled Loop\n",
    "-   Executed until a pre-known count is reached\n"
   ]
  },
  {
   "cell_type": "code",
   "execution_count": 74,
   "metadata": {},
   "outputs": [
    {
     "name": "stdout",
     "output_type": "stream",
     "text": [
      "The string contained 2 uppercase characters\n"
     ]
    }
   ],
   "source": [
    "# It is better to read `for` as `foreach`\n",
    "count = 0\n",
    "the_string: str = \"Hello World!\"\n",
    "\n",
    "for letter in the_string:\n",
    "    if letter >= \"A\" and letter <= \"Z\":\n",
    "        count += 1\n",
    "\n",
    "print(\"The string contained {:d} uppercase characters\".format(count))"
   ]
  },
  {
   "attachments": {},
   "cell_type": "markdown",
   "metadata": {},
   "source": [
    "#### <a id='toc5_3_3_'></a>Issue With IEEE 754 [&#8593;](#toc0_)\n"
   ]
  },
  {
   "cell_type": "code",
   "execution_count": 75,
   "metadata": {},
   "outputs": [
    {
     "name": "stdout",
     "output_type": "stream",
     "text": [
      "Temperature is normal\n",
      "Temperature is normal\n",
      "Temperature is normal\n",
      "Temperature is normal\n",
      "Temperature is normal\n",
      "Temperature is normal\n",
      "Temperature is normal\n",
      "Temperature is normal\n",
      "Temperature is normal\n",
      "Temperature is normal\n"
     ]
    }
   ],
   "source": [
    "# This snippet shows that Float-Comparison in Python is not appropriate\n",
    "temp: float = 100.0\n",
    "\n",
    "ti: int = 0\n",
    "while ti < 10:\n",
    "    temp += 0.1\n",
    "    ti += 1\n",
    "    if temp == 100.5:\n",
    "        # Should break after 5 iterations, but will never return True due to IEEE754 bug\n",
    "        print(\"Overheating! Abort mission!\")\n",
    "        break\n",
    "    else:\n",
    "        print(\"Temperature is normal\")"
   ]
  },
  {
   "attachments": {},
   "cell_type": "markdown",
   "metadata": {},
   "source": [
    "#### <a id='toc5_3_4_'></a>`range()` [&#8593;](#toc0_)\n",
    "\n",
    "-   Useful to define a range of numbers to work with `for`\n"
   ]
  },
  {
   "cell_type": "code",
   "execution_count": 76,
   "metadata": {},
   "outputs": [
    {
     "name": "stdout",
     "output_type": "stream",
     "text": [
      "0 5 10 15 20 25 30 "
     ]
    }
   ],
   "source": [
    "# Third argument indicates the step amount; default is 1.\n",
    "for ni in range(0, 31, 5):\n",
    "    print(ni, end=\" \")"
   ]
  },
  {
   "cell_type": "code",
   "execution_count": 77,
   "metadata": {},
   "outputs": [
    {
     "name": "stdout",
     "output_type": "stream",
     "text": [
      "30 25 20 15 10 5 "
     ]
    }
   ],
   "source": [
    "# We can decrement through the range of values.\n",
    "for nj in range(30, 0, -5):\n",
    "    print(nj, end=\" \")"
   ]
  },
  {
   "cell_type": "code",
   "execution_count": 78,
   "metadata": {},
   "outputs": [
    {
     "name": "stdout",
     "output_type": "stream",
     "text": [
      "0 1 2 3 4 "
     ]
    }
   ],
   "source": [
    "# A single argument will iterate through the range, starting at 0.\n",
    "for nk in range(5):\n",
    "    print(nk, end=\" \")"
   ]
  },
  {
   "attachments": {},
   "cell_type": "markdown",
   "metadata": {},
   "source": [
    "## <a id='toc6_'></a>Collections [&#8593;](#toc0_)\n"
   ]
  },
  {
   "attachments": {},
   "cell_type": "markdown",
   "metadata": {},
   "source": [
    "### <a id='toc6_1_'></a>Strings [&#8593;](#toc0_)\n"
   ]
  },
  {
   "attachments": {},
   "cell_type": "markdown",
   "metadata": {},
   "source": [
    "-   Immutable objects of the built-in `str` class\n"
   ]
  },
  {
   "attachments": {},
   "cell_type": "markdown",
   "metadata": {},
   "source": [
    "#### <a id='toc6_1_1_'></a>String Concatenation [&#8593;](#toc0_)\n"
   ]
  },
  {
   "cell_type": "code",
   "execution_count": 79,
   "metadata": {},
   "outputs": [
    {
     "name": "stdout",
     "output_type": "stream",
     "text": [
      "str_var = 'This is a string'\n"
     ]
    }
   ],
   "source": [
    "str_var: str = \"This is \"\n",
    "str_var = str_var + \"a string\"\n",
    "\n",
    "print(f\"{str_var = }\")"
   ]
  },
  {
   "cell_type": "code",
   "execution_count": 80,
   "metadata": {},
   "outputs": [
    {
     "name": "stdout",
     "output_type": "stream",
     "text": [
      "my_intro = 'I am 20 years old'\n"
     ]
    }
   ],
   "source": [
    "# Other data types are automatically converted to string\n",
    "my_age: int = 20\n",
    "my_intro: str = f\"I am {my_age} years old\"\n",
    "\n",
    "print(f\"{my_intro = }\")"
   ]
  },
  {
   "attachments": {},
   "cell_type": "markdown",
   "metadata": {},
   "source": [
    "#### <a id='toc6_1_2_'></a>String Length [&#8593;](#toc0_)\n"
   ]
  },
  {
   "cell_type": "code",
   "execution_count": 81,
   "metadata": {},
   "outputs": [
    {
     "name": "stdout",
     "output_type": "stream",
     "text": [
      "len(my_intro) = 17\n"
     ]
    }
   ],
   "source": [
    "# Use len() to get the length of a string\n",
    "print(f\"{len(my_intro) = }\")"
   ]
  },
  {
   "attachments": {},
   "cell_type": "markdown",
   "metadata": {},
   "source": [
    "#### <a id='toc6_1_3_'></a>String Indexing and Slicing [&#8593;](#toc0_)\n"
   ]
  },
  {
   "attachments": {},
   "cell_type": "markdown",
   "metadata": {},
   "source": [
    "-   The index used must be within the valid range or an error will be thrown\n",
    "\n",
    "![string-indexing](../files/appendix_a/string-indexing.png)\n"
   ]
  },
  {
   "cell_type": "code",
   "execution_count": 82,
   "metadata": {},
   "outputs": [
    {
     "name": "stdout",
     "output_type": "stream",
     "text": [
      "my_intro[0] = 'I'\n"
     ]
    }
   ],
   "source": [
    "print(f\"{my_intro[0] = }\")"
   ]
  },
  {
   "cell_type": "code",
   "execution_count": 83,
   "metadata": {},
   "outputs": [
    {
     "name": "stdout",
     "output_type": "stream",
     "text": [
      "my_intro[0:4] = 'I am'\n"
     ]
    }
   ],
   "source": [
    "print(f\"{my_intro[0:4] = }\")"
   ]
  },
  {
   "cell_type": "code",
   "execution_count": 84,
   "metadata": {},
   "outputs": [
    {
     "name": "stdout",
     "output_type": "stream",
     "text": [
      "my_intro[::-1] = 'dlo sraey 02 ma I'\n"
     ]
    }
   ],
   "source": [
    "print(f\"{my_intro[::-1] = }\")"
   ]
  },
  {
   "attachments": {},
   "cell_type": "markdown",
   "metadata": {},
   "source": [
    "#### <a id='toc6_1_4_'></a>String Repeat [&#8593;](#toc0_)\n"
   ]
  },
  {
   "cell_type": "code",
   "execution_count": 85,
   "metadata": {},
   "outputs": [
    {
     "name": "stdout",
     "output_type": "stream",
     "text": [
      "title.title() = 'This Is A Title'\n",
      "---------------------------------\n",
      "title2.title() = 'And This Is Another Longer Title'\n",
      "---------------------------------------------------\n"
     ]
    }
   ],
   "source": [
    "title: str = \"this is a title\"\n",
    "title2: str = \"and this is another longer title\"\n",
    "\n",
    "print(f\"{title.title() = }\")\n",
    "print(\"-\" * len(f\"{title.title() = }\"))  # Auto-repeat based on the length of the string\n",
    "\n",
    "print(f\"{title2.title() = }\")\n",
    "print(\n",
    "    \"-\" * len(f\"{title2.title() = }\")\n",
    ")  # Auto-repeat based on the length of the string"
   ]
  },
  {
   "attachments": {},
   "cell_type": "markdown",
   "metadata": {},
   "source": [
    "#### <a id='toc6_1_5_'></a>String Element Check [&#8593;](#toc0_)\n"
   ]
  },
  {
   "attachments": {},
   "cell_type": "markdown",
   "metadata": {},
   "source": [
    "-   `in` and `not in` can be used to check if an element is in the string or not\n"
   ]
  },
  {
   "cell_type": "code",
   "execution_count": 86,
   "metadata": {},
   "outputs": [
    {
     "name": "stdout",
     "output_type": "stream",
     "text": [
      "\"A\" in vowels = True\n"
     ]
    }
   ],
   "source": [
    "vowels: set[str] = {\"A\", \"a\", \"E\", \"e\", \"I\", \"i\", \"O\", \"o\", \"U\", \"u\", \"Y\", \"y\"}\n",
    "print(f\"{\"A\" in vowels = }\")"
   ]
  },
  {
   "cell_type": "code",
   "execution_count": 87,
   "metadata": {},
   "outputs": [
    {
     "name": "stdout",
     "output_type": "stream",
     "text": [
      "\"X\" in vowels = False\n"
     ]
    }
   ],
   "source": [
    "print(f\"{\"X\" in vowels = }\")"
   ]
  },
  {
   "cell_type": "code",
   "execution_count": 88,
   "metadata": {},
   "outputs": [
    {
     "name": "stdout",
     "output_type": "stream",
     "text": [
      "\"X\" not in vowels = True\n"
     ]
    }
   ],
   "source": [
    "print(f\"{\"X\" not in vowels = }\")"
   ]
  },
  {
   "attachments": {},
   "cell_type": "markdown",
   "metadata": {},
   "source": [
    "### <a id='toc6_2_'></a>Lists [&#8593;](#toc0_)\n"
   ]
  },
  {
   "attachments": {},
   "cell_type": "markdown",
   "metadata": {},
   "source": [
    "-   Ordered-sequence of object references\n",
    "-   Items accessed by subscript\n",
    "-   Comma-separated values\n",
    "-   By reference to another location in the memory\n"
   ]
  },
  {
   "cell_type": "code",
   "execution_count": 89,
   "metadata": {},
   "outputs": [],
   "source": [
    "grade_list: list[int] = [85, 90, 87, 65, 91]\n",
    "list_A: list[int] = []\n",
    "list_B: list[int] = list()"
   ]
  },
  {
   "attachments": {},
   "cell_type": "markdown",
   "metadata": {},
   "source": [
    "#### <a id='toc6_2_1_'></a>List Elements Access [&#8593;](#toc0_)\n"
   ]
  },
  {
   "cell_type": "code",
   "execution_count": 90,
   "metadata": {},
   "outputs": [
    {
     "name": "stdout",
     "output_type": "stream",
     "text": [
      "grade_list[0] = 85\n"
     ]
    }
   ],
   "source": [
    "print(f\"{grade_list[0] = }\")"
   ]
  },
  {
   "cell_type": "code",
   "execution_count": 91,
   "metadata": {},
   "outputs": [
    {
     "name": "stdout",
     "output_type": "stream",
     "text": [
      "grade_list[-1] = 91\n"
     ]
    }
   ],
   "source": [
    "print(f\"{grade_list[-1] = }\")"
   ]
  },
  {
   "cell_type": "code",
   "execution_count": 92,
   "metadata": {
    "scrolled": true
   },
   "outputs": [
    {
     "name": "stdout",
     "output_type": "stream",
     "text": [
      "Grades: 85 90 87 65 91 "
     ]
    }
   ],
   "source": [
    "print(\"Grades:\", end=\" \")\n",
    "for g in grade_list:\n",
    "    print(g, end=\" \")"
   ]
  },
  {
   "attachments": {},
   "cell_type": "markdown",
   "metadata": {},
   "source": [
    "#### <a id='toc6_2_2_'></a>List Modification [&#8593;](#toc0_)\n"
   ]
  },
  {
   "attachments": {},
   "cell_type": "markdown",
   "metadata": {},
   "source": [
    "##### <a id='toc6_2_2_1_'></a>`list.append(el)` [&#8593;](#toc0_)\n"
   ]
  },
  {
   "cell_type": "code",
   "execution_count": 93,
   "metadata": {},
   "outputs": [
    {
     "name": "stdout",
     "output_type": "stream",
     "text": [
      "value_list = [4, 7, 8, 11, 7, 7, 10, 18, 8, 2, 14, 2, 10, 19, 14, 1, 15, 2, 2, 17]\n"
     ]
    }
   ],
   "source": [
    "from random import random\n",
    "\n",
    "value_list: list[int] = []\n",
    "rand: int\n",
    "\n",
    "for i in range(20):\n",
    "    # Random integers between 0-20\n",
    "    rand = int(random() * 20)\n",
    "    # Appending to a list\n",
    "    value_list.append(rand)\n",
    "\n",
    "print(f\"{value_list = }\")"
   ]
  },
  {
   "attachments": {},
   "cell_type": "markdown",
   "metadata": {},
   "source": [
    "##### <a id='toc6_2_2_2_'></a>`list.extend(another_list)` [&#8593;](#toc0_)\n"
   ]
  },
  {
   "cell_type": "code",
   "execution_count": 94,
   "metadata": {},
   "outputs": [
    {
     "name": "stdout",
     "output_type": "stream",
     "text": [
      "value_list_str = ['4', '7', '8', '11', '7', '7', '10', '18', '8', '2', '14', '2', '10', '19', '14', '1', '15', '2', '2', '17', 'a', 'b', 'c', 'd', 'e', 'f']\n"
     ]
    }
   ],
   "source": [
    "additional_values: list[str] = [\"a\", \"b\", \"c\", \"d\", \"e\", \"f\"]\n",
    "\n",
    "# Convert into a list of str first\n",
    "value_list_str: list[str] = list(map(str, value_list))\n",
    "value_list_str.extend(additional_values)  # Add elements from one list to another\n",
    "\n",
    "print(f\"{value_list_str = }\")"
   ]
  },
  {
   "cell_type": "code",
   "execution_count": 95,
   "metadata": {},
   "outputs": [
    {
     "name": "stdout",
     "output_type": "stream",
     "text": [
      "additional_values = ['a', 'b', 'c', 'd', 'e', 'f']\n"
     ]
    }
   ],
   "source": [
    "# The original list additional_values is not modified\n",
    "print(f\"{additional_values = }\")"
   ]
  },
  {
   "attachments": {},
   "cell_type": "markdown",
   "metadata": {},
   "source": [
    "##### <a id='toc6_2_2_3_'></a>`list.insert(el)` [&#8593;](#toc0_)\n"
   ]
  },
  {
   "cell_type": "code",
   "execution_count": 96,
   "metadata": {},
   "outputs": [
    {
     "name": "stdout",
     "output_type": "stream",
     "text": [
      "values = [0, 855, 100, 20, 35, 4]\n"
     ]
    }
   ],
   "source": [
    "values: list[int] = [0, 100, 20, 35, 4]\n",
    "values.insert(1, 855)  # Insert 855 at index 1\n",
    "\n",
    "print(f\"{values = }\")"
   ]
  },
  {
   "attachments": {},
   "cell_type": "markdown",
   "metadata": {},
   "source": [
    "##### <a id='toc6_2_2_4_'></a>`list.remove(el)` [&#8593;](#toc0_)\n"
   ]
  },
  {
   "attachments": {},
   "cell_type": "markdown",
   "metadata": {},
   "source": [
    "-   Remove an item by value\n",
    "-   If there are duplicate values, only removes the first instance\n"
   ]
  },
  {
   "cell_type": "code",
   "execution_count": 97,
   "metadata": {},
   "outputs": [
    {
     "name": "stdout",
     "output_type": "stream",
     "text": [
      "values = [0, 855, 100, 20, 4]\n",
      "len(values) = 5\n"
     ]
    }
   ],
   "source": [
    "values.remove(35)\n",
    "\n",
    "print(f\"{values = }\")  # => [0, 855, 100, 20, 4]\n",
    "print(f\"{len(values) = }\")  # => 5"
   ]
  },
  {
   "attachments": {},
   "cell_type": "markdown",
   "metadata": {},
   "source": [
    "#### <a id='toc6_2_3_'></a>`list.pop()` [&#8593;](#toc0_)\n"
   ]
  },
  {
   "attachments": {},
   "cell_type": "markdown",
   "metadata": {},
   "source": [
    "-   Remove an item by index and get its value\n",
    "-   If index omitted, remove the last item\n"
   ]
  },
  {
   "cell_type": "code",
   "execution_count": 98,
   "metadata": {},
   "outputs": [
    {
     "name": "stdout",
     "output_type": "stream",
     "text": [
      "values = [0, 100, 20, 4]\n",
      "len(values) = 4\n"
     ]
    }
   ],
   "source": [
    "values.pop(1)  # => 855\n",
    "\n",
    "print(f\"{values = }\")  # => [0, 100, 20, 4]\n",
    "print(f\"{len(values) = }\")  # => 4"
   ]
  },
  {
   "attachments": {},
   "cell_type": "markdown",
   "metadata": {},
   "source": [
    "#### <a id='toc6_2_4_'></a>`list.index(el)` [&#8593;](#toc0_)\n"
   ]
  },
  {
   "attachments": {},
   "cell_type": "markdown",
   "metadata": {},
   "source": [
    "-   Search for an element within the list\n",
    "-   Returns the index if found (first one if duplicates)\n",
    "-   Otherwise, throw an error\n"
   ]
  },
  {
   "cell_type": "code",
   "execution_count": 99,
   "metadata": {},
   "outputs": [
    {
     "name": "stdout",
     "output_type": "stream",
     "text": [
      "43 is not in the list\n"
     ]
    }
   ],
   "source": [
    "values = [10, 11, 12, 13]\n",
    "num_to_search: str = input(\"What number to search? \")\n",
    "index: int\n",
    "\n",
    "try:\n",
    "    # Find if the number is in the list\n",
    "    index = values.index(int(num_to_search))\n",
    "    print(f\"{num_to_search} is in the list at index {index}\")\n",
    "except Exception:\n",
    "    print(f\"{num_to_search} is not in the list\")"
   ]
  },
  {
   "attachments": {},
   "cell_type": "markdown",
   "metadata": {},
   "source": [
    "#### <a id='toc6_2_5_'></a>List Element Check [&#8593;](#toc0_)\n"
   ]
  },
  {
   "attachments": {},
   "cell_type": "markdown",
   "metadata": {},
   "source": [
    "-   `in` and `not in` can be used to check if an element is in the list or not\n"
   ]
  },
  {
   "cell_type": "code",
   "execution_count": 100,
   "metadata": {},
   "outputs": [
    {
     "name": "stdout",
     "output_type": "stream",
     "text": [
      "Is 10 in values? True\n"
     ]
    }
   ],
   "source": [
    "values = [10, 20, 30, 40]\n",
    "print(f\"Is 10 in values? {10 in values}\")"
   ]
  },
  {
   "cell_type": "code",
   "execution_count": 101,
   "metadata": {},
   "outputs": [
    {
     "name": "stdout",
     "output_type": "stream",
     "text": [
      "Is 100 not in values? True\n"
     ]
    }
   ],
   "source": [
    "values = [10, 20, 30, 40]\n",
    "print(f\"Is 100 not in values? {100 not in values}\")"
   ]
  },
  {
   "attachments": {},
   "cell_type": "markdown",
   "metadata": {},
   "source": [
    "### <a id='toc6_3_'></a>Tuples [&#8593;](#toc0_)\n"
   ]
  },
  {
   "attachments": {},
   "cell_type": "markdown",
   "metadata": {},
   "source": [
    "-   Immutable sequence\n",
    "-   Similar to list but fewer features\n"
   ]
  },
  {
   "cell_type": "code",
   "execution_count": 102,
   "metadata": {},
   "outputs": [
    {
     "name": "stdout",
     "output_type": "stream",
     "text": [
      "t = (0, 2, 4)\n",
      "ta = (2,)\n",
      "tb = ('abc', 1, 4.5, 5)\n",
      "name_and_age = ('John', 65)\n"
     ]
    }
   ],
   "source": [
    "t: tuple[int, ...] = (0, 2, 4)  # 3-element tuple\n",
    "ta: tuple[int] = (2,)  # 1-element tuple: Comma is required, else it will just be an int\n",
    "tb: tuple[str, int, float, int] = (\"abc\", 1, 4.5, 5)  # 4-element mixed tuple\n",
    "name_and_age: tuple[str, int] = (\"John\", 65)\n",
    "\n",
    "print(f\"{t = }\")\n",
    "print(f\"{ta = }\")\n",
    "print(f\"{tb = }\")\n",
    "print(f\"{name_and_age = }\")"
   ]
  },
  {
   "cell_type": "code",
   "execution_count": 103,
   "metadata": {},
   "outputs": [
    {
     "name": "stdout",
     "output_type": "stream",
     "text": [
      "My name is John and my age is 65\n"
     ]
    }
   ],
   "source": [
    "# Use * to unpack list/tuple in function\n",
    "print(\"My name is {} and my age is {}\".format(*name_and_age))"
   ]
  },
  {
   "attachments": {},
   "cell_type": "markdown",
   "metadata": {},
   "source": [
    "#### <a id='toc6_3_1_'></a>Tuples Element Check [&#8593;](#toc0_)\n"
   ]
  },
  {
   "attachments": {},
   "cell_type": "markdown",
   "metadata": {},
   "source": [
    "-   `in` and `not in` can be used to check if an element is in the tuple or not\n"
   ]
  },
  {
   "cell_type": "code",
   "execution_count": 104,
   "metadata": {},
   "outputs": [
    {
     "name": "stdout",
     "output_type": "stream",
     "text": [
      "Is 'abc' in tuple tb? True\n"
     ]
    }
   ],
   "source": [
    "print(f\"Is 'abc' in tuple tb? {\"abc\" in tb}\")"
   ]
  },
  {
   "cell_type": "code",
   "execution_count": 105,
   "metadata": {},
   "outputs": [
    {
     "name": "stdout",
     "output_type": "stream",
     "text": [
      "Is '4.5' not in tuple tb? False\n"
     ]
    }
   ],
   "source": [
    "print(f\"Is '4.5' not in tuple tb? {4.5 not in tb}\")"
   ]
  },
  {
   "attachments": {},
   "cell_type": "markdown",
   "metadata": {},
   "source": [
    "### <a id='toc6_4_'></a>Dictionary [&#8593;](#toc0_)\n"
   ]
  },
  {
   "attachments": {},
   "cell_type": "markdown",
   "metadata": {},
   "source": [
    "-   key-value pair\n",
    "-   Also known as a hash-map\n"
   ]
  },
  {
   "cell_type": "code",
   "execution_count": 106,
   "metadata": {},
   "outputs": [
    {
     "name": "stdout",
     "output_type": "stream",
     "text": [
      "states = {'MS': 'Mississippi', 'VA': 'Virginia', 'AL': 'Alabama', 'DC': 'Washington'}\n",
      "class_level = {0: 'Freshman', 1: 'Sophomore', 2: 'Junior', 3: 'Senior'}\n",
      "empty_A = {}\n",
      "empty_B = {}\n"
     ]
    }
   ],
   "source": [
    "states: dict[str, str] = {\n",
    "    \"MS\": \"Mississippi\",\n",
    "    \"VA\": \"Virginia\",\n",
    "    \"AL\": \"Alabama\",\n",
    "    \"DC\": \"Washington\",\n",
    "}\n",
    "class_level: dict[int, str] = {0: \"Freshman\", 1: \"Sophomore\", 2: \"Junior\", 3: \"Senior\"}\n",
    "empty_A: dict[str, str] = {}\n",
    "empty_B: dict[int, str] = dict()\n",
    "\n",
    "print(f\"{states = }\")\n",
    "print(f\"{class_level = }\")\n",
    "print(f\"{empty_A = }\")\n",
    "print(f\"{empty_B = }\")"
   ]
  },
  {
   "attachments": {},
   "cell_type": "markdown",
   "metadata": {},
   "source": [
    "#### <a id='toc6_4_1_'></a>Dictionary Element Access [&#8593;](#toc0_)\n"
   ]
  },
  {
   "attachments": {},
   "cell_type": "markdown",
   "metadata": {},
   "source": [
    "-   Access by key directly: The key must exist, else an error is thrown\n",
    "-   Access using `dict.get()`: Returns `None` if the key does not exist\n"
   ]
  },
  {
   "cell_type": "code",
   "execution_count": 107,
   "metadata": {},
   "outputs": [
    {
     "name": "stdout",
     "output_type": "stream",
     "text": [
      "The state name is Mississippi\n"
     ]
    }
   ],
   "source": [
    "# Subscript by the key\n",
    "print(f\"The state name is {states[\"MS\"]}\")"
   ]
  },
  {
   "cell_type": "code",
   "execution_count": 108,
   "metadata": {},
   "outputs": [
    {
     "name": "stdout",
     "output_type": "stream",
     "text": [
      "The state name is Mississippi\n"
     ]
    }
   ],
   "source": [
    "# dict.get() can also be used\n",
    "print(f\"The state name is {states.get(\"MS\")}\")"
   ]
  },
  {
   "cell_type": "code",
   "execution_count": 109,
   "metadata": {},
   "outputs": [
    {
     "name": "stdout",
     "output_type": "stream",
     "text": [
      "The state name is None\n"
     ]
    }
   ],
   "source": [
    "# dict.get() does not throw an error\n",
    "# Instead, returns `None` if the key does not exist\n",
    "print(f\"The state name is {states.get(\"MD\")}\")"
   ]
  },
  {
   "cell_type": "code",
   "execution_count": 110,
   "metadata": {},
   "outputs": [
    {
     "name": "stdout",
     "output_type": "stream",
     "text": [
      "Error: The key 'MD' does not exist\n"
     ]
    }
   ],
   "source": [
    "# If we do not use dict.get(), an unknown key will throw an error\n",
    "try:\n",
    "    # Subscript by the key\n",
    "    print(f\"The state name is {states['MD']}\")\n",
    "except KeyError as err:\n",
    "    print(f\"Error: The key {err} does not exist\")"
   ]
  },
  {
   "attachments": {},
   "cell_type": "markdown",
   "metadata": {},
   "source": [
    "-   Traversing is done using the `for` statement\n",
    "-   Traversal is made over the keys\n"
   ]
  },
  {
   "cell_type": "code",
   "execution_count": 111,
   "metadata": {},
   "outputs": [
    {
     "name": "stdout",
     "output_type": "stream",
     "text": [
      "0 = Freshman\n",
      "1 = Sophomore\n",
      "2 = Junior\n",
      "3 = Senior\n"
     ]
    }
   ],
   "source": [
    "for key in class_level:\n",
    "    print(key, \"=\", class_level[key])"
   ]
  },
  {
   "attachments": {},
   "cell_type": "markdown",
   "metadata": {},
   "source": [
    "-   Use `dict.keys()` to get a list of all the keys\n",
    "-   Use `dict.value()` to get a list of all the values\n",
    "-   Use `dict.items()` to get `(key,value)` pairs\n"
   ]
  },
  {
   "cell_type": "code",
   "execution_count": 112,
   "metadata": {},
   "outputs": [
    {
     "name": "stdout",
     "output_type": "stream",
     "text": [
      "States Keys: ['MS', 'VA', 'AL', 'DC']\n"
     ]
    }
   ],
   "source": [
    "from collections.abc import KeysView\n",
    "\n",
    "keys_list: KeysView[str] = states.keys()\n",
    "print(\"States Keys:\", list(keys_list))"
   ]
  },
  {
   "cell_type": "code",
   "execution_count": 113,
   "metadata": {},
   "outputs": [
    {
     "name": "stdout",
     "output_type": "stream",
     "text": [
      "States Values: ['Mississippi', 'Virginia', 'Alabama', 'Washington']\n"
     ]
    }
   ],
   "source": [
    "from collections.abc import ValuesView\n",
    "\n",
    "values_list: ValuesView[str] = states.values()\n",
    "print(\"States Values:\", list(values_list))"
   ]
  },
  {
   "cell_type": "code",
   "execution_count": 114,
   "metadata": {},
   "outputs": [
    {
     "name": "stdout",
     "output_type": "stream",
     "text": [
      "States Keys,Values: {'MS': 'Mississippi', 'VA': 'Virginia', 'AL': 'Alabama', 'DC': 'Washington'}\n"
     ]
    }
   ],
   "source": [
    "from collections.abc import ItemsView\n",
    "\n",
    "items_list: ItemsView[str, str] = states.items()\n",
    "print(\"States Keys,Values:\", dict(items_list))"
   ]
  },
  {
   "attachments": {},
   "cell_type": "markdown",
   "metadata": {},
   "source": [
    "#### <a id='toc6_4_2_'></a>Dictionary Modification [&#8593;](#toc0_)\n"
   ]
  },
  {
   "attachments": {},
   "cell_type": "markdown",
   "metadata": {},
   "source": [
    "-   If the key/value pair already exist, the current value would be modified\n",
    "-   If the key/value pair does not exist, it would be created\n",
    "-   To remove an existing entry, use `dict.pop(key)` or `del dict[key]`\n"
   ]
  },
  {
   "cell_type": "code",
   "execution_count": 115,
   "metadata": {},
   "outputs": [
    {
     "name": "stdout",
     "output_type": "stream",
     "text": [
      "MS = Mississippi\n",
      "VA = Virginia\n",
      "AL = Alabama\n",
      "DC = District of Columbia\n"
     ]
    }
   ],
   "source": [
    "# Modifying existing entries\n",
    "states[\"DC\"] = \"District of Columbia\"\n",
    "\n",
    "for k in states:\n",
    "    print(k, \"=\", states[k])"
   ]
  },
  {
   "cell_type": "code",
   "execution_count": 116,
   "metadata": {},
   "outputs": [
    {
     "name": "stdout",
     "output_type": "stream",
     "text": [
      "MS = Mississippi\n",
      "VA = Virginia\n",
      "AL = Alabama\n",
      "DC = District of Columbia\n",
      "OR = Oregon\n",
      "VT = Vermont\n"
     ]
    }
   ],
   "source": [
    "# Adding new entries\n",
    "states[\"OR\"] = \"Oregon\"\n",
    "states[\"VT\"] = \"Vermont\"\n",
    "\n",
    "for k in states:\n",
    "    print(k, \"=\", states[k])"
   ]
  },
  {
   "cell_type": "code",
   "execution_count": 117,
   "metadata": {},
   "outputs": [
    {
     "name": "stdout",
     "output_type": "stream",
     "text": [
      "MS = Mississippi\n",
      "VA = Virginia\n",
      "AL = Alabama\n",
      "DC = District of Columbia\n"
     ]
    }
   ],
   "source": [
    "# Removing an entry\n",
    "states.pop(\"OR\")\n",
    "del states[\"VT\"]\n",
    "\n",
    "for k in states:\n",
    "    print(k, \"=\", states[k])"
   ]
  },
  {
   "attachments": {},
   "cell_type": "markdown",
   "metadata": {},
   "source": [
    "#### <a id='toc6_4_3_'></a>Dictionary Element Check [&#8593;](#toc0_)\n"
   ]
  },
  {
   "attachments": {},
   "cell_type": "markdown",
   "metadata": {},
   "source": [
    "-   `in` and `not in` can be used to check if a key is in the dictionary or not\n"
   ]
  },
  {
   "cell_type": "code",
   "execution_count": 118,
   "metadata": {},
   "outputs": [
    {
     "name": "stdout",
     "output_type": "stream",
     "text": [
      "Is OR in states? False\n"
     ]
    }
   ],
   "source": [
    "print(f\"Is OR in states? {\"OR\" in states}\")"
   ]
  },
  {
   "cell_type": "code",
   "execution_count": 119,
   "metadata": {},
   "outputs": [
    {
     "name": "stdout",
     "output_type": "stream",
     "text": [
      "Is VT not in states? True\n"
     ]
    }
   ],
   "source": [
    "print(f\"Is VT not in states? {\"VT\" not in states}\")"
   ]
  },
  {
   "cell_type": "code",
   "execution_count": 120,
   "metadata": {},
   "outputs": [
    {
     "name": "stdout",
     "output_type": "stream",
     "text": [
      "Is MS in states? True\n"
     ]
    }
   ],
   "source": [
    "print(f\"Is MS in states? {\"MS\" in states}\")"
   ]
  },
  {
   "attachments": {},
   "cell_type": "markdown",
   "metadata": {},
   "source": [
    "## <a id='toc7_'></a>Text Files [&#8593;](#toc0_)\n"
   ]
  },
  {
   "attachments": {},
   "cell_type": "markdown",
   "metadata": {},
   "source": [
    "-   2 types of files that can be used with Python:\n",
    "    -   Text Files\n",
    "        -   Typically includes the ASCII values in the range [32...126], 13 (newline) and 9 (tabs)\n",
    "    -   Binary Files\n",
    "        -   Sequence of binary numbers\n",
    "        -   Representing data values as they would be stored in memory\n",
    "        -   Cannot be read and displayed by text editors\n",
    "        -   They contain byte values outside the printable range\n"
   ]
  },
  {
   "attachments": {},
   "cell_type": "markdown",
   "metadata": {},
   "source": [
    "### <a id='toc7_1_'></a>File Access [&#8593;](#toc0_)\n"
   ]
  },
  {
   "attachments": {},
   "cell_type": "markdown",
   "metadata": {},
   "source": [
    "-   No additional modules are required in order to access a file from within your program\n",
    "-   Open and create an object to represent the file\n",
    "-   If the file can be opened, the function creates a file object\n",
    "    -   Returns a reference to that newly created object\n"
   ]
  },
  {
   "attachments": {},
   "cell_type": "markdown",
   "metadata": {},
   "source": [
    "### <a id='toc7_2_'></a>Reading From A File [&#8593;](#toc0_)\n"
   ]
  },
  {
   "attachments": {},
   "cell_type": "markdown",
   "metadata": {},
   "source": [
    "-   Use `open()` with `r` option\n",
    "-   When done working with a file, always close it\n"
   ]
  },
  {
   "cell_type": "code",
   "execution_count": 121,
   "metadata": {},
   "outputs": [
    {
     "name": "stdout",
     "output_type": "stream",
     "text": [
      "This is a very basic records text file.\n",
      "This is the second line in this text file.\n",
      "And this is the third and final line in this text file."
     ]
    }
   ],
   "source": [
    "from io import TextIOWrapper\n",
    "\n",
    "# Open a file for reading\n",
    "infile: TextIOWrapper = open(\"../files/appendix_a/records.txt\", \"r\")\n",
    "\n",
    "# To access the contents, we can use loop\n",
    "for line in infile:\n",
    "    print(line, end=\"\")\n",
    "\n",
    "# When done working with a file, always close it\n",
    "infile.close()"
   ]
  },
  {
   "attachments": {},
   "cell_type": "markdown",
   "metadata": {},
   "source": [
    "-   We can also use the `readline()` method to read one line at a time\n",
    "-   The end of a line is indicated by a newline character `\\n`\n",
    "-   If the file is empty or the end of file has been reached, `readline()` returns an empty string\n",
    "-   When using a loop to read an entire file, we can use this as condition: `while line != \"\"`\n",
    "-   `readline()` will not remove `\\n` from the extracted line. Use `rstrip()` for this\n"
   ]
  },
  {
   "cell_type": "code",
   "execution_count": 122,
   "metadata": {},
   "outputs": [
    {
     "name": "stdout",
     "output_type": "stream",
     "text": [
      "This is a very basic records text file.\n",
      "This is the second line in this text file.\n",
      "And this is the third and final line in this text file.\n",
      "\n"
     ]
    }
   ],
   "source": [
    "# Open a file for reading\n",
    "infile = open(\"../files/appendix_a/records.txt\", \"r\")\n",
    "\n",
    "# To access the contents, we can use loop\n",
    "line1: str = infile.readline()\n",
    "print(line1.rstrip())  # Remove \\n at the end\n",
    "line2: str = infile.readline()\n",
    "print(line2.rstrip())  # Remove \\n at the end\n",
    "line3: str = infile.readline()\n",
    "print(line3.rstrip())  # Remove \\n at the end\n",
    "line4: str = infile.readline()  # EOF: Empty string\n",
    "print(line4)  # EOF: Empty string\n",
    "\n",
    "# When done working with a file, always close it\n",
    "infile.close()"
   ]
  },
  {
   "cell_type": "code",
   "execution_count": 123,
   "metadata": {},
   "outputs": [
    {
     "name": "stdout",
     "output_type": "stream",
     "text": [
      "This is a very basic records text file.\n",
      "This is the second line in this text file.\n",
      "And this is the third and final line in this text file.\n"
     ]
    }
   ],
   "source": [
    "# Open a file for reading\n",
    "infile = open(\"../files/appendix_a/records.txt\", \"r\")\n",
    "\n",
    "for line in infile:\n",
    "    print(line.rstrip())\n",
    "\n",
    "# When done working with a file, always close it\n",
    "infile.close()"
   ]
  },
  {
   "attachments": {},
   "cell_type": "markdown",
   "metadata": {},
   "source": [
    "-   Using `readline()`, we can also extract just a specific number of characters from the line\n",
    "-   The reading can be continuous to where the current cursor is located\n"
   ]
  },
  {
   "cell_type": "code",
   "execution_count": 124,
   "metadata": {},
   "outputs": [
    {
     "name": "stdout",
     "output_type": "stream",
     "text": [
      "This is a very \n",
      "basic records t\n",
      "ext file.\n",
      "\n",
      "This is the sec\n",
      "ond line in thi\n",
      "s text file.\n",
      "\n",
      "And this is the\n",
      " third and fina\n",
      "l line in this \n",
      "text file.\n"
     ]
    }
   ],
   "source": [
    "# Open a file for reading\n",
    "infile = open(\"../files/appendix_a/records.txt\", \"r\")\n",
    "\n",
    "# Just extract 15 characters at a time from each line\n",
    "line = infile.readline(15)\n",
    "while line != \"\":\n",
    "    print(line)\n",
    "    # Just extract 15 characters at a time from each line\n",
    "    line = infile.readline(15)\n",
    "\n",
    "# When done working with a file, always close it\n",
    "infile.close()"
   ]
  },
  {
   "attachments": {},
   "cell_type": "markdown",
   "metadata": {},
   "source": [
    "-   Using `readlines()`, we can extract all the lines at once\n",
    "-   It will store the contents in a list of lines\n"
   ]
  },
  {
   "cell_type": "code",
   "execution_count": 125,
   "metadata": {},
   "outputs": [
    {
     "name": "stdout",
     "output_type": "stream",
     "text": [
      "Line 1: This is a very basic records text file.\n",
      "Line 2: This is the second line in this text file.\n",
      "Line 3: And this is the third and final line in this text file.\n"
     ]
    }
   ],
   "source": [
    "# Open a file for reading\n",
    "infile = open(\"../files/appendix_a/records.txt\", \"r\")\n",
    "\n",
    "# To access the contents, we can use loop\n",
    "lines: list[str] = infile.readlines()\n",
    "\n",
    "for i, line in enumerate(lines):\n",
    "    print(f\"Line {str(i + 1)}: {line.strip()}\")\n",
    "\n",
    "# When done working with a file, always close it\n",
    "infile.close()"
   ]
  },
  {
   "attachments": {},
   "cell_type": "markdown",
   "metadata": {},
   "source": [
    "-   We can also just use an iterator over each line of the file\n"
   ]
  },
  {
   "cell_type": "code",
   "execution_count": 126,
   "metadata": {},
   "outputs": [
    {
     "name": "stdout",
     "output_type": "stream",
     "text": [
      "Line 1: This is a very basic records text file.\n",
      "Line 2: This is the second line in this text file.\n",
      "Line 3: And this is the third and final line in this text file.\n"
     ]
    }
   ],
   "source": [
    "# Open a file for reading\n",
    "infile = open(\"../files/appendix_a/records.txt\", \"r\")\n",
    "\n",
    "# To access the contents, we can use loop\n",
    "for i, line in enumerate(infile):\n",
    "    print(f\"Line {str(i + 1)}: {line.strip()}\")\n",
    "\n",
    "# When done working with a file, always close it\n",
    "infile.close()"
   ]
  },
  {
   "attachments": {},
   "cell_type": "markdown",
   "metadata": {},
   "source": [
    "**Note:**\n",
    "\n",
    "-   **Reading from a file only returns strings**\n",
    "    -   **Handle type conversions appropriately.**\n",
    "-   **Newline character `\\n` must be stripped before conversion.**\n"
   ]
  },
  {
   "attachments": {},
   "cell_type": "markdown",
   "metadata": {},
   "source": [
    "### <a id='toc7_3_'></a>Writing To A File [&#8593;](#toc0_)\n"
   ]
  },
  {
   "attachments": {},
   "cell_type": "markdown",
   "metadata": {},
   "source": [
    "-   Use the `write()` method after opening the file with `open()` with `w` option\n",
    "-   **To output other value type, make sure to convert them to string**\n",
    "-   **`write()` does not add a linefeed or newline character after the string is written to the file**\n",
    "-   To add a newline, add `\\n` to the end of the string\n"
   ]
  },
  {
   "cell_type": "code",
   "execution_count": 127,
   "metadata": {},
   "outputs": [],
   "source": [
    "from io import TextIOWrapper\n",
    "\n",
    "# Open a file for writing\n",
    "outfile: TextIOWrapper = open(\"../files/appendix_a/student-report.txt\", \"w\")\n",
    "\n",
    "# Start writing to file\n",
    "outfile.write(\"Student Report\\n\")\n",
    "outfile.write(\"-\" * 14 + \"\\n\")\n",
    "\n",
    "# When done working with a file, always close it\n",
    "infile.close()"
   ]
  },
  {
   "attachments": {},
   "cell_type": "markdown",
   "metadata": {},
   "source": [
    "## <a id='toc8_'></a>User-Defined Functions [&#8593;](#toc0_)\n"
   ]
  },
  {
   "attachments": {},
   "cell_type": "markdown",
   "metadata": {},
   "source": [
    "### <a id='toc8_1_'></a>Function Definition [&#8593;](#toc0_)\n"
   ]
  },
  {
   "cell_type": "code",
   "execution_count": 128,
   "metadata": {},
   "outputs": [],
   "source": [
    "def sum_range(start: int, end: int) -> int:\n",
    "    total: int = 0\n",
    "    i: int = start\n",
    "\n",
    "    while i <= end:\n",
    "        total += i\n",
    "        i += 1\n",
    "\n",
    "    return total"
   ]
  },
  {
   "cell_type": "code",
   "execution_count": 129,
   "metadata": {},
   "outputs": [
    {
     "name": "stdout",
     "output_type": "stream",
     "text": [
      "The sum of the first 100 integers is 5050\n"
     ]
    }
   ],
   "source": [
    "start: int = 1\n",
    "end: int = 100\n",
    "the_sum: int = sum_range(start, end)\n",
    "print(f\"The sum of the first {end} integers is {the_sum}\")"
   ]
  },
  {
   "attachments": {},
   "cell_type": "markdown",
   "metadata": {},
   "source": [
    "#### <a id='toc8_1_1_'></a>Function Arguments [&#8593;](#toc0_)\n"
   ]
  },
  {
   "attachments": {},
   "cell_type": "markdown",
   "metadata": {},
   "source": [
    "-   **In Python, arguments are passed by value of objects**\n",
    "-   Every value is an object:\n",
    "    -   It is the object reference (pointer) that is copied to a function parameter and not the object itself\n"
   ]
  },
  {
   "cell_type": "code",
   "execution_count": 130,
   "metadata": {},
   "outputs": [
    {
     "name": "stdout",
     "output_type": "stream",
     "text": [
      "the_sum = 315\n"
     ]
    }
   ],
   "source": [
    "start = 5\n",
    "end = 25\n",
    "the_sum = sum_range(start, end)\n",
    "print(f\"{the_sum = }\")"
   ]
  },
  {
   "attachments": {},
   "cell_type": "markdown",
   "metadata": {},
   "source": [
    "<img src=\"../files/appendix_a/sumRange.png\">\n"
   ]
  },
  {
   "attachments": {},
   "cell_type": "markdown",
   "metadata": {},
   "source": [
    "-   The function `sum_range()` can also take float values\n",
    "-   So long as all operations within the function can be applied to the given values, the program will execute correctly\n",
    "-   If an operation cannot be applied to a given argument type, an exception will be raised\n"
   ]
  },
  {
   "attachments": {},
   "cell_type": "markdown",
   "metadata": {},
   "source": [
    "#### <a id='toc8_1_2_'></a>Returning Values [&#8593;](#toc0_)\n"
   ]
  },
  {
   "attachments": {},
   "cell_type": "markdown",
   "metadata": {},
   "source": [
    "-   Can be used to terminate a function execution\n",
    "-   Can be used to return a value (object reference) from the function execution\n",
    "-   Multiple values can be returned as tuple\n"
   ]
  },
  {
   "cell_type": "code",
   "execution_count": 131,
   "metadata": {},
   "outputs": [],
   "source": [
    "# Functions can also return multiple values separated by commas\n",
    "# This is returned as a tuple\n",
    "def four_operations(num1: float, num2: float) -> tuple[float, float, float, float]:\n",
    "    \"\"\"Take 2 numbers and add, subtract, multiply, and divide them\"\"\"\n",
    "\n",
    "    num_sum: float = num1 + num2\n",
    "    num_sub: float = num1 - num2\n",
    "    num_prod: float = num1 * num2\n",
    "    num_div: float\n",
    "    if num2 == 0:\n",
    "        num_div = float(\"NaN\")\n",
    "    else:\n",
    "        num_div = num1 / num2\n",
    "\n",
    "    # This is returned as a tuple\n",
    "    return num_sum, num_sub, num_prod, num_div"
   ]
  },
  {
   "cell_type": "code",
   "execution_count": 132,
   "metadata": {},
   "outputs": [
    {
     "name": "stdout",
     "output_type": "stream",
     "text": [
      "four_operations(20, 30) = (50, -10, 600, 0.6666666666666666)\n",
      "four_operations(10, 0) = (10, 10, 0, nan)\n"
     ]
    }
   ],
   "source": [
    "print(f\"{four_operations(20, 30) = }\")\n",
    "print(f\"{four_operations(10, 0) = }\")"
   ]
  },
  {
   "attachments": {},
   "cell_type": "markdown",
   "metadata": {},
   "source": [
    "-   Values that are returned as tuple can be unpacked\n",
    "-   A function that returns multiple values can only be called as part of a multi-variable assignment statement (tuple unpacking)\n",
    "-   Order of the returned values within the tuple is respected\n"
   ]
  },
  {
   "cell_type": "code",
   "execution_count": 133,
   "metadata": {},
   "outputs": [
    {
     "name": "stdout",
     "output_type": "stream",
     "text": [
      "Addition: 50\n",
      "Subtraction: -10\n",
      "Multiplication: 600\n",
      "Division: 0.6666666666666666\n"
     ]
    }
   ],
   "source": [
    "# Parenthesis not required for the tuple here\n",
    "added, subbed, multiplied, divided = four_operations(20, 30)\n",
    "\n",
    "print(f\"Addition: {added}\")\n",
    "print(f\"Subtraction: {subbed}\")\n",
    "print(f\"Multiplication: {multiplied}\")\n",
    "print(f\"Division: {divided}\")"
   ]
  },
  {
   "attachments": {},
   "cell_type": "markdown",
   "metadata": {},
   "source": [
    "#### <a id='toc8_1_3_'></a>Default and Keyword Arguments [&#8593;](#toc0_)\n"
   ]
  },
  {
   "attachments": {},
   "cell_type": "markdown",
   "metadata": {},
   "source": [
    "-   Functions can have default values for their arguments (`args`)\n"
   ]
  },
  {
   "cell_type": "code",
   "execution_count": 134,
   "metadata": {},
   "outputs": [],
   "source": [
    "def sum_range2(first: int, last: int, step: int = 1) -> int:\n",
    "    total: int = 0\n",
    "    i: int = first\n",
    "\n",
    "    while i <= last:\n",
    "        total += i\n",
    "        i = i + step\n",
    "\n",
    "    return total"
   ]
  },
  {
   "cell_type": "code",
   "execution_count": 135,
   "metadata": {},
   "outputs": [
    {
     "name": "stdout",
     "output_type": "stream",
     "text": [
      "sum_range2(1, 100) = 5050\n"
     ]
    }
   ],
   "source": [
    "print(f\"{sum_range2(1, 100) = }\")"
   ]
  },
  {
   "cell_type": "code",
   "execution_count": 136,
   "metadata": {},
   "outputs": [
    {
     "name": "stdout",
     "output_type": "stream",
     "text": [
      "sum_range2(1, 100, 2) = 2500\n"
     ]
    }
   ],
   "source": [
    "print(f\"{sum_range2(1, 100, 2) = }\")"
   ]
  },
  {
   "cell_type": "code",
   "execution_count": 137,
   "metadata": {},
   "outputs": [
    {
     "name": "stdout",
     "output_type": "stream",
     "text": [
      "sum_range2(1, 100, 5) = 970\n"
     ]
    }
   ],
   "source": [
    "print(f\"{sum_range2(1, 100, 5) = }\")"
   ]
  },
  {
   "attachments": {},
   "cell_type": "markdown",
   "metadata": {},
   "source": [
    "-   Keyword argument (`kwargs`) allows to label each arguments passed to the function\n",
    "-   This allows for the arguments to be passed in different order\n"
   ]
  },
  {
   "cell_type": "code",
   "execution_count": 138,
   "metadata": {},
   "outputs": [
    {
     "name": "stdout",
     "output_type": "stream",
     "text": [
      "the_sum2 = 1717\n"
     ]
    }
   ],
   "source": [
    "the_sum2: int = sum_range2(last=100, step=3, first=1)\n",
    "print(f\"{the_sum2 = }\")"
   ]
  },
  {
   "attachments": {},
   "cell_type": "markdown",
   "metadata": {},
   "source": [
    "### <a id='toc8_2_'></a>Variable Scope [&#8593;](#toc0_)\n"
   ]
  },
  {
   "attachments": {},
   "cell_type": "markdown",
   "metadata": {},
   "source": [
    "-   Variables only exist within the scope they are created\n",
    "-   Python has 4 scopes:\n",
    "    -   **Local Scope**\n",
    "        -   Variables created within a function or method\n",
    "        -   Exist for the lifetime of the function/method execution\n",
    "        -   Each execution of a function creates a new local scope, which is then destroyed when the function terminates\n",
    "    -   **Instance Scope**\n",
    "        -   Variables defined as data attributes of a class\n",
    "        -   Exist for the lifetime of the object instance\n",
    "    -   **Global Scope**\n",
    "        -   Variables created at the top level of a source file or module\n",
    "        -   Exist for the lifetime of the program\n",
    "    -   **Built-in Scope**\n",
    "        -   Variables and literals from the Python language\n",
    "        -   Exist for the lifetime of the program\n"
   ]
  },
  {
   "attachments": {},
   "cell_type": "markdown",
   "metadata": {},
   "source": [
    "### <a id='toc8_3_'></a>Main Routine [&#8593;](#toc0_)\n"
   ]
  },
  {
   "attachments": {},
   "cell_type": "markdown",
   "metadata": {},
   "source": [
    "-   The primary entry point of all programs\n",
    "-   Statements within a function are not executed until the function is called\n",
    "-   But they are interpreted and converted to byte code as they are read\n"
   ]
  },
  {
   "cell_type": "code",
   "execution_count": 139,
   "metadata": {},
   "outputs": [
    {
     "name": "stdout",
     "output_type": "stream",
     "text": [
      "The double of your value is: 86\n"
     ]
    }
   ],
   "source": [
    "def main_func() -> None:\n",
    "    value: int = int(input(\"Enter a value:\"))\n",
    "    print(f\"The double of your value is: {doubleIt(value)}\")\n",
    "\n",
    "\n",
    "def doubleIt(num: int) -> int:\n",
    "    return num * 2\n",
    "\n",
    "\n",
    "if __name__ == \"__main__\":\n",
    "    main_func()"
   ]
  },
  {
   "attachments": {},
   "cell_type": "markdown",
   "metadata": {},
   "source": [
    "-   But this is not the case when calling a function from a statement at file level\n",
    "-   If a function is called at file level before the function has been defined, the interpreter does not know about the function and has no way of executing it\n"
   ]
  },
  {
   "cell_type": "code",
   "execution_count": 140,
   "metadata": {},
   "outputs": [],
   "source": [
    "# callIt(5) # This throws an error: name 'callIt' is not defined\n",
    "def callIt(num: int) -> float:\n",
    "    return pow(num, 2)"
   ]
  },
  {
   "attachments": {},
   "cell_type": "markdown",
   "metadata": {},
   "source": [
    "-   **The order in which functions are listed/defined within a file is not important**\n",
    "    -   **But the order of executable statements at file level is**\n",
    "-   It is good programming practice to place all executable statements within functions\n",
    "    -   And specify one function as the driver\n",
    "    -   The driver is commonly named `main()`\n",
    "    -   It can be defined first with the remaining definitions following it\n"
   ]
  },
  {
   "cell_type": "code",
   "execution_count": 141,
   "metadata": {},
   "outputs": [
    {
     "name": "stdout",
     "output_type": "stream",
     "text": [
      "Dice roll simulation.\n",
      "You rolled a 6-faced dice 6 times: [5, 6, 5, 2, 6, 6]\n"
     ]
    }
   ],
   "source": [
    "# diceroll.py - simulate the rolling of two dice\n",
    "from random import randint\n",
    "from typing import Final\n",
    "\n",
    "# Minimum number of sides on a die\n",
    "MIN_SIDES: Final[int] = 4\n",
    "\n",
    "\n",
    "# Our very own main routine for a top-down design.\n",
    "def main() -> None:\n",
    "    print(\"Dice roll simulation.\")\n",
    "    num_sides: int = int(input(\"How many sides should the die have? \"))\n",
    "\n",
    "    if num_sides < MIN_SIDES:\n",
    "        num_sides = MIN_SIDES\n",
    "\n",
    "    num_dices: int = int(input(\"How many times to roll the dice? \"))\n",
    "    values: list[int] = []\n",
    "\n",
    "    for _ in range(num_dices):\n",
    "        values.append(roll_dice(num_sides))\n",
    "\n",
    "    print(f\"You rolled a {num_sides}-faced dice {num_dices} times:\", values)\n",
    "\n",
    "\n",
    "# Simulate the rollowing of two nSided dice.\n",
    "def roll_dice(n_sides: int) -> int:\n",
    "    return randint(1, n_sides)\n",
    "\n",
    "\n",
    "# Call the main routine which we defined first.\n",
    "if __name__ == \"__main__\":\n",
    "    main()"
   ]
  }
 ],
 "metadata": {
  "hide_input": false,
  "kernelspec": {
   "display_name": "Python 3 (ipykernel)",
   "language": "python",
   "name": "python3"
  },
  "language_info": {
   "codemirror_mode": {
    "name": "ipython",
    "version": 3
   },
   "file_extension": ".py",
   "mimetype": "text/x-python",
   "name": "python",
   "nbconvert_exporter": "python",
   "pygments_lexer": "ipython3",
   "version": "3.12.3"
  },
  "toc": {
   "base_numbering": 1,
   "nav_menu": {},
   "number_sections": true,
   "sideBar": true,
   "skip_h1_title": true,
   "title_cell": "Table of Contents",
   "title_sidebar": "Contents",
   "toc_cell": true,
   "toc_position": {
    "height": "calc(100% - 180px)",
    "left": "10px",
    "top": "150px",
    "width": "307.2px"
   },
   "toc_section_display": true,
   "toc_window_display": true
  },
  "varInspector": {
   "cols": {
    "lenName": 16,
    "lenType": 16,
    "lenVar": 40
   },
   "kernels_config": {
    "python": {
     "delete_cmd_postfix": "",
     "delete_cmd_prefix": "del ",
     "library": "var_list.py",
     "varRefreshCmd": "print(var_dic_list())"
    },
    "r": {
     "delete_cmd_postfix": ") ",
     "delete_cmd_prefix": "rm(",
     "library": "var_list.r",
     "varRefreshCmd": "cat(var_dic_list()) "
    }
   },
   "types_to_exclude": [
    "module",
    "function",
    "builtin_function_or_method",
    "instance",
    "_Feature"
   ],
   "window_display": false
  }
 },
 "nbformat": 4,
 "nbformat_minor": 4
}
