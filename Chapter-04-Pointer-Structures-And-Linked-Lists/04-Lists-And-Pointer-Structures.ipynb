{
 "cells": [
  {
   "attachments": {},
   "cell_type": "markdown",
   "metadata": {},
   "source": [
    "# Lists and Pointer Structures\n"
   ]
  },
  {
   "attachments": {},
   "cell_type": "markdown",
   "metadata": {},
   "source": [
    "---\n"
   ]
  },
  {
   "attachments": {},
   "cell_type": "markdown",
   "metadata": {},
   "source": [
    "**Table of contents**<a id='toc0_'></a>\n",
    "\n",
    "-   [Chapter Goals](#toc1_)\n",
    "-   [Pointers In Python](#toc2_)\n",
    "-   [Arrays](#toc3_)\n",
    "-   [Pointer Structures](#toc4_)\n",
    "    -   [Benefits of Pointer Structures](#toc4_1_)\n",
    "    -   [Costs of Pointer Structures](#toc4_2_)\n",
    "    -   [Node](#toc4_3_)\n",
    "        -   [Finding Endpoints](#toc4_3_1_)\n",
    "    -   [Node Class](#toc4_4_)\n",
    "        -   [Other Node Types](#toc4_4_1_)\n",
    "-   [Introducing Linked Lists](#toc5_)\n",
    "    -   [Singly Linked List](#toc5_1_)\n",
    "        -   [Problems With This Simple Implementation](#toc5_1_1_)\n",
    "        -   [Singly Linked List Class](#toc5_1_2_)\n",
    "        -   [The `append` Operation](#toc5_1_3_)\n",
    "        -   [A Faster Append Operation](#toc5_1_4_)\n",
    "        -   [Getting The Length of the List](#toc5_1_5_)\n",
    "        -   [Improving List Traversal](#toc5_1_6_)\n",
    "        -   [Deleting Nodes](#toc5_1_7_)\n",
    "        -   [List Search](#toc5_1_8_)\n",
    "        -   [Clearing a List](#toc5_1_9_)\n",
    "    -   [Doubly Linked List](#toc5_2_)\n",
    "        -   [Doubly Linked List Node](#toc5_2_1_)\n",
    "        -   [Doubly Linked List Class](#toc5_2_2_)\n",
    "        -   [The `append` Operation](#toc5_2_3_)\n",
    "        -   [List Traversal](#toc5_2_4_)\n",
    "        -   [Deleting Nodes](#toc5_2_5_)\n",
    "        -   [List Search](#toc5_2_6_)\n",
    "        -   [Clearing a List](#toc5_2_7_)\n",
    "    -   [Circular List](#toc5_3_)\n",
    "        -   [Implementation](#toc5_3_1_)\n",
    "        -   [The `append` Operation](#toc5_3_2_)\n",
    "        -   [Deleting Nodes](#toc5_3_3_)\n",
    "        -   [List Traversal](#toc5_3_4_)\n",
    "        -   [Final Class](#toc5_3_5_)\n",
    "\n",
    "<!-- vscode-jupyter-toc-config\n",
    "\tnumbering=false\n",
    "\tanchor=true\n",
    "\tflat=false\n",
    "\tminLevel=2\n",
    "\tmaxLevel=6\n",
    "\t/vscode-jupyter-toc-config -->\n",
    "<!-- THIS CELL WILL BE REPLACED ON TOC UPDATE. DO NOT WRITE YOUR TEXT IN THIS CELL -->\n"
   ]
  },
  {
   "attachments": {},
   "cell_type": "markdown",
   "metadata": {},
   "source": [
    "---\n"
   ]
  },
  {
   "attachments": {},
   "cell_type": "markdown",
   "metadata": {},
   "source": [
    "-   Most of the time, we would use Python's original `list` structure\n",
    "-   We will study how it works and its internals\n",
    "-   Python's List implementation can be used for several use-cases\n",
    "-   The concept of a _Node_ is very important with List\n"
   ]
  },
  {
   "attachments": {},
   "cell_type": "markdown",
   "metadata": {},
   "source": [
    "## <a id='toc1_'></a>Chapter Goals [&#8593;](#toc0_)\n"
   ]
  },
  {
   "attachments": {},
   "cell_type": "markdown",
   "metadata": {},
   "source": [
    "-   Understand _Pointers_ in Python\n",
    "-   Understand the concept of implementation of _Nodes_\n",
    "-   Implement Singly, Doubly, and Circularly Linked Lists\n"
   ]
  },
  {
   "attachments": {},
   "cell_type": "markdown",
   "metadata": {},
   "source": [
    "## <a id='toc2_'></a>Pointers In Python [&#8593;](#toc0_)\n"
   ]
  },
  {
   "attachments": {},
   "cell_type": "markdown",
   "metadata": {},
   "source": [
    "-   The concept of pointers works in the same way as when you try to point to your house\n",
    "    -   To sell a house, an agent does not bring the house everywhere\n",
    "    -   Instead, he/she will have a small paper that _represents_ the house\n",
    "    -   This small paper (variable) _points_ to the house (value) to be sold\n",
    "-   Data and files remain in one single place in memory\n",
    "    -   What we create are _Variables_ (containers) that point to those location in memory\n",
    "    -   Variables are small and can be easily passed around between functions\n",
    "    -   Pointers (Object References) allow to point to a potentially large segment of memory with just a simple memory address\n",
    "-   Pointers are supported in hardware too - _Indirect Addressing_\n",
    "-   **In Python, we don't manipulate pointers directly like in C/C++**\n",
    "    -   **But pointers are still used in Python**\n"
   ]
  },
  {
   "cell_type": "code",
   "execution_count": 1,
   "metadata": {},
   "outputs": [],
   "source": [
    "# my_set is an object reference/safe-pointer to a set() value stored in memory\n",
    "my_set: set = set()\n"
   ]
  },
  {
   "attachments": {},
   "cell_type": "markdown",
   "metadata": {},
   "source": [
    "-   Here, `my_set` is technically not a variable of type `set`\n",
    "-   **Instead, `my_set` is an object reference/safe pointer to a type `set` value stored in memory**\n",
    "    -   There is an actual `set()` value somewhere in memory\n",
    "    -   `my_set` stores this memory address and points to that value in memory\n",
    "-   Python hides this complexity from us\n",
    "-   So we can assume that `my_set` is a set and everythings still work\n",
    "-   For more details, refer [here](https://robertheaton.com/2014/02/09/pythons-pass-by-object-reference-as-explained-by-philip-k-dick) on how Python passes around \"values\"\n",
    "    -   Python is a _Pass-By-Object-Reference_ language\n"
   ]
  },
  {
   "cell_type": "code",
   "execution_count": 2,
   "metadata": {},
   "outputs": [
    {
     "name": "stdout",
     "output_type": "stream",
     "text": [
      "['John', 'Jack']\n",
      "['John', 'Jack']\n",
      "True\n"
     ]
    }
   ],
   "source": [
    "# Let \"box_a\" be a box of pizza that contains a quantum particle value [\"John\"]\n",
    "box_a: list[str] = [\"John\"]\n",
    "\n",
    "# Passing By Object-Reference:\n",
    "#   We pass the object-reference of \"box_a\" to another box of pizza \"box_b\":\n",
    "#   Now, \"box_a\" and \"box_b\" contain 2 separate quantum particle objects that are\n",
    "#   linked to each other via Quantum Entanglement\n",
    "box_b: list[str] = box_a\n",
    "\n",
    "# Because of Quantum Entanglement, making changes on the one in \"box_b\" will also change\n",
    "# the one in \"box_a\" and vice-versa: They remain the same exact object even if they are\n",
    "# separate from each other, and any change in one is reflected to the other\n",
    "box_b.append(\"Jack\")\n",
    "print(box_b)\n",
    "print(box_a)\n",
    "print(box_a == box_b)\n"
   ]
  },
  {
   "cell_type": "code",
   "execution_count": 3,
   "metadata": {},
   "outputs": [
    {
     "name": "stdout",
     "output_type": "stream",
     "text": [
      "True\n",
      "False\n"
     ]
    }
   ],
   "source": [
    "# But that only works as long as the value (particle) is a mutable value\n",
    "# If the value is immutable (numbers, string, tuple), the particles will not be entangled\n",
    "box_x: str = \"Hello\"\n",
    "box_y: str = box_x\n",
    "\n",
    "# In this case, we have 2 separate objects that are not linked with Quantum Entanglement (immutable))\n",
    "# They are still initially the same\n",
    "print(box_x == box_y)\n",
    "\n",
    "# But once we change one, they are no longer the same\n",
    "# Changing any of them create a brand new object, thus they differ from each other\n",
    "box_y = \"World\"\n",
    "print(box_x == box_y)\n"
   ]
  },
  {
   "attachments": {},
   "cell_type": "markdown",
   "metadata": {},
   "source": [
    "## <a id='toc3_'></a>Arrays [&#8593;](#toc0_)\n"
   ]
  },
  {
   "attachments": {},
   "cell_type": "markdown",
   "metadata": {},
   "source": [
    "-   **Sequential list of data**\n",
    "    -   Each element is stored right after the previous one in memory\n",
    "    -   If an array is really big, it can be impossible to store it in memory\n",
    "-   **But arrays are very fast**\n",
    "    -   There is no need to jump around between memory locations\n",
    "    -   Very important point to make when choosing between list and array\n",
    "    -   Remember that arrays can only contain one type of data\n",
    "-   Arrays in Python are implemented using the `array` module\n",
    "-   **Array vs List**\n",
    "    -   **Array can only contain one type of data elements**\n",
    "    -   Check `02-data-types-and-structures` for a review on arrays\n",
    "    -   Building an array: `array(type[, initializer])`\n"
   ]
  },
  {
   "cell_type": "code",
   "execution_count": 4,
   "metadata": {},
   "outputs": [
    {
     "name": "stdout",
     "output_type": "stream",
     "text": [
      "array('i', [100, 101, 102, 103, 104, 105, 106, 107, 108, 109])\n",
      "array size: 144\n"
     ]
    }
   ],
   "source": [
    "# Import modules\n",
    "from array import array\n",
    "from sys import getsizeof\n",
    "from collections.abc import MutableSequence\n",
    "\n",
    "# Array of signed integers\n",
    "basic_array_int: MutableSequence[int] = array(\"i\", range(100, 110))\n",
    "size_basic_array_int: int = getsizeof(basic_array_int)\n",
    "\n",
    "print(basic_array_int)\n",
    "print(f\"array size: {size_basic_array_int}\")\n"
   ]
  },
  {
   "cell_type": "code",
   "execution_count": 5,
   "metadata": {},
   "outputs": [
    {
     "name": "stdout",
     "output_type": "stream",
     "text": [
      "[100, 101, 102, 103, 104, 105, 106, 107, 108, 109]\n",
      "list size: 184\n"
     ]
    }
   ],
   "source": [
    "# Compared to a list\n",
    "basic_list: list[int] = [x for x in range(100, 110)]\n",
    "size_basic_list: int = getsizeof(basic_list)\n",
    "\n",
    "print(basic_list)\n",
    "print(f\"list size: {size_basic_list}\")\n"
   ]
  },
  {
   "cell_type": "code",
   "execution_count": 6,
   "metadata": {},
   "outputs": [
    {
     "name": "stdout",
     "output_type": "stream",
     "text": [
      "basic_array_int: array('i', [100, 101, 102, 103, 104, 105, 106, 107, 108, 109])\n",
      "ca: array('i', [9999, 101, 102, 103, 104, 105, 106, 107, 108, 109])\n",
      "basic_array_int: array('i', [9999, 101, 102, 103, 104, 105, 106, 107, 108, 109])\n"
     ]
    }
   ],
   "source": [
    "# Import modules\n",
    "from array import array\n",
    "from collections.abc import MutableSequence\n",
    "\n",
    "# Array of signed integers\n",
    "basic_array_int = array(\"i\", range(100, 110))\n",
    "print(f\"basic_array_int: {basic_array_int}\")\n",
    "\n",
    "# Passing by object reference\n",
    "ca: MutableSequence = basic_array_int\n",
    "ca[0] = 9999  # Change in one affects the other also\n",
    "\n",
    "print(f\"ca: {ca}\")\n",
    "print(f\"basic_array_int: {basic_array_int}\")\n"
   ]
  },
  {
   "attachments": {},
   "cell_type": "markdown",
   "metadata": {},
   "source": [
    "## <a id='toc4_'></a>Pointer Structures [&#8593;](#toc0_)\n"
   ]
  },
  {
   "attachments": {},
   "cell_type": "markdown",
   "metadata": {},
   "source": [
    "-   This is the abstract structure of Python's `list`\n",
    "-   Opposite of arrays\n",
    "    -   **List of items that can be spread out in memory (sparsed)**\n",
    "-   Each item contain one or more links to other items in the structure\n",
    "-   The type of links is dependent on the type of structures\n",
    "    -   **Linked lists** - Links to the previous or next items in the structure\n",
    "    -   **Tree** - Parent-child links and sibling links\n",
    "\n",
    "<img src='../files/chap_04/python-list-under-the-hood.png' width=50%>\n"
   ]
  },
  {
   "attachments": {},
   "cell_type": "markdown",
   "metadata": {},
   "source": [
    "### <a id='toc4_1_'></a>Benefits of Pointer Structures [&#8593;](#toc0_)\n"
   ]
  },
  {
   "attachments": {},
   "cell_type": "markdown",
   "metadata": {},
   "source": [
    "-   No sequential storage space in memory required (vs Array)\n",
    "-   Can start small and grow arbitrarily as required with more nodes (dynamic)\n"
   ]
  },
  {
   "attachments": {},
   "cell_type": "markdown",
   "metadata": {},
   "source": [
    "### <a id='toc4_2_'></a>Costs of Pointer Structures [&#8593;](#toc0_)\n"
   ]
  },
  {
   "attachments": {},
   "cell_type": "markdown",
   "metadata": {},
   "source": [
    "-   Need additional space to store the involved addresses because they are not in sequence in memory\n",
    "-   Example for storing a list of integers:\n",
    "    -   Storing the data values (integers)\n",
    "    -   Storing the additional pointer to the next node (somewhere else in memory)\n",
    "-   Values are stored sparsed in memory\n",
    "    -   This is a cost in performance when compared with Arrays\n"
   ]
  },
  {
   "cell_type": "code",
   "execution_count": 7,
   "metadata": {},
   "outputs": [
    {
     "name": "stdout",
     "output_type": "stream",
     "text": [
      "[100, 101, 102, 103, 104, 105, 106, 107, 108, 109]\n"
     ]
    }
   ],
   "source": [
    "# Each number in this list is stored sparsed across the memory\n",
    "ls_int: list[int] = [n for n in range(100, 110)]\n",
    "print(ls_int)\n"
   ]
  },
  {
   "attachments": {},
   "cell_type": "markdown",
   "metadata": {},
   "source": [
    "### <a id='toc4_3_'></a>Node [&#8593;](#toc0_)\n"
   ]
  },
  {
   "attachments": {},
   "cell_type": "markdown",
   "metadata": {},
   "source": [
    "-   **This is the Heart of data structures with pointers (e.g. List)**\n",
    "-   A container of data, together with one or more _links_ to other nodes\n",
    "-   Allows to link data to each other\n",
    "-   **A _link_ is a pointer**\n"
   ]
  },
  {
   "cell_type": "code",
   "execution_count": 8,
   "metadata": {},
   "outputs": [
    {
     "name": "stdout",
     "output_type": "stream",
     "text": [
      "['egg', 'ham', 'spam']\n"
     ]
    }
   ],
   "source": [
    "# 3 variables with unique names, types, and values\n",
    "var_a: str = \"egg\"\n",
    "var_b: str = \"ham\"\n",
    "var_c: str = \"spam\"\n",
    "ls: list[str] = [var_a, var_b, var_c]  # A pointer structure that uses node\n",
    "print(ls)\n"
   ]
  },
  {
   "attachments": {},
   "cell_type": "markdown",
   "metadata": {},
   "source": [
    "-   Right now, we cannot show the relationships between those variables\n",
    "-   Using nodes, we can show those relationships\n",
    "-   A simple type of node is one that only has a link to the next node\n",
    "-   **The string is actually _not_ stored in the node**\n",
    "    -   **There is a pointer to the actual string value stored in memory**\n",
    "-   The requirement for this simple node is 2 memory addresses:\n",
    "    -   The actual string value is stored in memory: `data` is a pointer to that memory address\n",
    "    -   The next node is also stored in memory: `next` is a pointer to that memory address\n"
   ]
  },
  {
   "attachments": {},
   "cell_type": "markdown",
   "metadata": {},
   "source": [
    "<img src='../files/chap_04/basic-node.png' width=40%>\n"
   ]
  },
  {
   "attachments": {},
   "cell_type": "markdown",
   "metadata": {},
   "source": [
    "```\n",
    "  Actual string in memory                    Actual string in memory\n",
    "         _________                                  _________\n",
    "         | \"egg\" |                                  | \"ham\" |\n",
    "         ‾‾‾‾‾‾‾‾‾                                  ‾‾‾‾‾‾‾‾‾\n",
    "             ^                                          ^\n",
    "             | Pointer                                  | Pointer\n",
    "             |                                          |\n",
    "     ________|_______                           ________|_______\n",
    "     |  _____|____  |                           |  _____|____  |\n",
    "     |  | data:a |  |                           |  | data:b |  |\n",
    "     |  ‾‾‾‾‾‾‾‾‾‾  |                           |  ‾‾‾‾‾‾‾‾‾‾  |\n",
    "     |  __________  |      Link/Pointer         |  __________  |\n",
    "     |  |  next  |--|-------------------------->|  |  next  |  |\n",
    "     |  ‾‾‾‾‾‾‾‾‾‾  |                           |  ‾‾‾‾‾‾‾‾‾‾  |\n",
    "     ‾‾‾‾‾‾‾‾‾‾‾‾‾‾‾‾                           ‾‾‾‾‾‾‾‾‾‾‾‾‾‾‾‾\n",
    "Node (Container) in memory                 Node (Container) in memory\n",
    "```\n"
   ]
  },
  {
   "attachments": {},
   "cell_type": "markdown",
   "metadata": {},
   "source": [
    "#### <a id='toc4_3_1_'></a>Finding Endpoints [&#8593;](#toc0_)\n"
   ]
  },
  {
   "attachments": {},
   "cell_type": "markdown",
   "metadata": {},
   "source": [
    "-   We have 3 nodes:\n",
    "    -   _Node 1_: Points to `'egg'`, also point to _Node 2_\n",
    "    -   _Node 2_: Points to `'ham'`, also point to _Node 3_\n",
    "    -   _Node 3_: Points to `'spam'`, ... where does it point next?\n",
    "-   Since _Node 3_ is the last element of the list, we need to make sure that this is obvious\n",
    "    -   **_Node 3_ points to `None` for its `next`, thus making it the endpoint**\n",
    "    -   **Any node that points to `None` for its `next` is an endpoint**\n",
    "    -   For the example below, `Node_B` is the endpoint\n"
   ]
  },
  {
   "attachments": {},
   "cell_type": "markdown",
   "metadata": {},
   "source": [
    "<img src='../files/chap_04/basic-node-structure.png' width=40%>\n"
   ]
  },
  {
   "attachments": {},
   "cell_type": "markdown",
   "metadata": {},
   "source": [
    "### <a id='toc4_4_'></a>Node Class [&#8593;](#toc0_)\n"
   ]
  },
  {
   "cell_type": "code",
   "execution_count": 9,
   "metadata": {},
   "outputs": [],
   "source": [
    "from typing import Any, Optional\n",
    "\n",
    "\n",
    "class Node:\n",
    "    \"\"\"Implementation of a One-Direction Node\"\"\"\n",
    "\n",
    "    def __init__(self, data: Optional[Any] = None) -> None:\n",
    "        \"\"\"Initialize a Node object\"\"\"\n",
    "        self.data: Optional[Any] = data\n",
    "        self.next: Optional[\"Node\"] = None\n",
    "\n",
    "    def __str__(self) -> str:\n",
    "        \"\"\"Return the string representation of a Node\"\"\"\n",
    "        return f\"Node({str(self.data)})\"\n",
    "\n",
    "    def __repr__(self) -> str:\n",
    "        \"\"\"Return the string representation of a Node\"\"\"\n",
    "        return f\"Node({str(self.data)})\"\n"
   ]
  },
  {
   "attachments": {},
   "cell_type": "markdown",
   "metadata": {},
   "source": [
    "-   By default, unless we change the value of `node.next`, it will be an endpoint as it points to `None`\n",
    "    -   This auto-terminates the list properly\n",
    "-   **We can add additional properties/methods as needed**\n",
    "    -   Keep in mind the distinction between `node` and `data`\n",
    "    -   `data` can be anything\n"
   ]
  },
  {
   "attachments": {},
   "cell_type": "markdown",
   "metadata": {},
   "source": [
    "#### <a id='toc4_4_1_'></a>Other Node Types [&#8593;](#toc0_)\n"
   ]
  },
  {
   "attachments": {},
   "cell_type": "markdown",
   "metadata": {},
   "source": [
    "-   Sometimes, we want to:\n",
    "    -   Be able to go from Node A to Node B (`self.next`)\n",
    "    -   Be able to go from Node B to Node A (`self.previous`)\n",
    "-   We have endpoints on both end\n",
    "    -   The `next` pointer of B is `None`\n",
    "    -   The `previous` pointer of A is `None`\n"
   ]
  },
  {
   "attachments": {},
   "cell_type": "markdown",
   "metadata": {},
   "source": [
    "<img src='../files/chap_04/two-way-node.png' width=40%>\n"
   ]
  },
  {
   "attachments": {},
   "cell_type": "markdown",
   "metadata": {},
   "source": [
    "We can inherit from our previous Node class and use it as a base class\n"
   ]
  },
  {
   "cell_type": "code",
   "execution_count": 10,
   "metadata": {},
   "outputs": [],
   "source": [
    "from typing import Any, Optional\n",
    "\n",
    "\n",
    "class NodeTwo(Node):\n",
    "    \"\"\"Implementation of a Two-Direction Node\"\"\"\n",
    "\n",
    "    def __init__(self, data: Optional[Any] = None) -> None:\n",
    "        \"\"\"Initialize a Node object\"\"\"\n",
    "        super().__init__(data)\n",
    "        self.next: Optional[\"NodeTwo\"] = None\n",
    "        self.previous: Optional[\"NodeTwo\"] = None\n",
    "\n",
    "    def __str__(self) -> str:\n",
    "        \"\"\"Return the string representation of a Node\"\"\"\n",
    "        return f\"NodeTwo({str(self.data)})\"\n",
    "\n",
    "    def __repr__(self) -> str:\n",
    "        \"\"\"Return the string representation of a Node\"\"\"\n",
    "        return f\"NodeTwo({str(self.data)})\"\n"
   ]
  },
  {
   "attachments": {},
   "cell_type": "markdown",
   "metadata": {},
   "source": [
    "## <a id='toc5_'></a>Introducing Linked Lists [&#8593;](#toc0_)\n"
   ]
  },
  {
   "attachments": {},
   "cell_type": "markdown",
   "metadata": {},
   "source": [
    "-   Linked List is an important and popular data structure\n",
    "-   There are 3 kinds of Linked Lists:\n",
    "    -   **Singly linked list**\n",
    "    -   **Doubly linked list**\n",
    "    -   **Circular linked list**\n",
    "-   Linked Lists also has some operations associated with them:\n",
    "    -   `append`\n",
    "    -   `delete`\n",
    "    -   `traverse` (looping)\n",
    "    -   `search`\n"
   ]
  },
  {
   "attachments": {},
   "cell_type": "markdown",
   "metadata": {},
   "source": [
    "### <a id='toc5_1_'></a>Singly Linked List [&#8593;](#toc0_)\n"
   ]
  },
  {
   "attachments": {},
   "cell_type": "markdown",
   "metadata": {},
   "source": [
    "-   Has only one pointer between 2 successive nodes: `next`\n",
    "    -   Can only be traversed in one direction: From first to last\n",
    "    -   Cannot go backward\n",
    "-   We can use the `Node` class we created earlier for a Singly Linked List implementation\n"
   ]
  },
  {
   "attachments": {},
   "cell_type": "markdown",
   "metadata": {},
   "source": [
    "```\n",
    "     ________________                            ________________\n",
    "     |  __________  |                            |  __________  |\n",
    "     |  | data:a |  |                            |  | data:b |  |\n",
    "     |  ‾‾‾‾‾‾‾‾‾‾  |                            |  ‾‾‾‾‾‾‾‾‾‾  |\n",
    "     |  __________  |        Link/Pointer        |  __________  |\n",
    "     |  |  next  |--|--------------------------->|  |  next  |  |\n",
    "     |  ‾‾‾‾‾‾‾‾‾‾  |                            |  ‾‾‾‾‾‾‾‾‾‾  |\n",
    "     ‾‾‾‾‾‾‾‾‾‾‾‾‾‾‾‾                            ‾‾‾‾‾‾‾‾‾‾‾‾‾‾‾‾\n",
    "     Node (Container)                            Node (Container)\n",
    "```\n"
   ]
  },
  {
   "cell_type": "code",
   "execution_count": 11,
   "metadata": {},
   "outputs": [],
   "source": [
    "# Creating 3 nodes\n",
    "n1: Node = Node(\"eggs\")\n",
    "n2: Node = Node(\"ham\")\n",
    "n3: Node = Node(\"spam\")\n"
   ]
  },
  {
   "cell_type": "code",
   "execution_count": 12,
   "metadata": {},
   "outputs": [
    {
     "name": "stdout",
     "output_type": "stream",
     "text": [
      "Node(eggs)\n",
      "Node(ham)\n",
      "Node(spam)\n"
     ]
    }
   ],
   "source": [
    "# Setting up the `next` for each node to form the links\n",
    "# n1 -> n2 -> n3 -> None\n",
    "n1.next = n2\n",
    "n2.next = n3\n",
    "n3.next = None  # Already the default so can actually be omitted\n",
    "\n",
    "print(n1)\n",
    "print(n2)\n",
    "print(n3)\n"
   ]
  },
  {
   "cell_type": "code",
   "execution_count": 13,
   "metadata": {},
   "outputs": [
    {
     "name": "stdout",
     "output_type": "stream",
     "text": [
      "1. Node(eggs) = eggs -> Node(ham)\n",
      "2. Node(ham) = ham -> Node(spam)\n",
      "3. Node(spam) = spam -> None\n"
     ]
    }
   ],
   "source": [
    "# Traversing the Linked list\n",
    "curr_node: Optional[Node] = n1\n",
    "index: int = 1\n",
    "while curr_node:\n",
    "    print(f\"{index}. {curr_node} = {curr_node.data} -> {curr_node.next}\")\n",
    "    # Move to the next node\n",
    "    curr_node = curr_node.next\n",
    "    index += 1\n"
   ]
  },
  {
   "attachments": {},
   "cell_type": "markdown",
   "metadata": {},
   "source": [
    "#### <a id='toc5_1_1_'></a>Problems With This Simple Implementation [&#8593;](#toc0_)\n"
   ]
  },
  {
   "attachments": {},
   "cell_type": "markdown",
   "metadata": {},
   "source": [
    "-   Requires too much manual work by the programmer\n",
    "-   Too error prone\n",
    "-   Too much of the inner workings are exposed\n"
   ]
  },
  {
   "attachments": {},
   "cell_type": "markdown",
   "metadata": {},
   "source": [
    "#### <a id='toc5_1_2_'></a>Singly Linked List Class [&#8593;](#toc0_)\n"
   ]
  },
  {
   "attachments": {},
   "cell_type": "markdown",
   "metadata": {},
   "source": [
    "-   A _List_ structure is a separate yet related concept from a _Node_\n",
    "-   **Here, `head` is a reference to the very first node (oldest) in the list**\n",
    "    -   **There is no strict rule as to which way is `head` and which way is `tail`**\n"
   ]
  },
  {
   "cell_type": "code",
   "execution_count": 14,
   "metadata": {},
   "outputs": [],
   "source": [
    "from typing import Optional\n",
    "\n",
    "\n",
    "class SinglyLinkedList01:\n",
    "    \"\"\"A simple implementation of a SinglyLinkedList\"\"\"\n",
    "\n",
    "    def __init__(self) -> None:\n",
    "        \"\"\"Initialize a new SinglyLinkedList structure\"\"\"\n",
    "        # Reference to the very first node (oldest) in the list\n",
    "        self.head: Optional[Node] = None\n"
   ]
  },
  {
   "attachments": {},
   "cell_type": "markdown",
   "metadata": {},
   "source": [
    "#### <a id='toc5_1_3_'></a>The `append` Operation [&#8593;](#toc0_)\n"
   ]
  },
  {
   "attachments": {},
   "cell_type": "markdown",
   "metadata": {},
   "source": [
    "-   `append`: The insert operation\n",
    "    -   Allows to append an additional item (Node) to the list\n",
    "    -   We have the chance to encapsulate the operation to hide the inner workings\n",
    "        -   The user should really never need to interact directly with the underlying `Node` object\n",
    "    -   Encapsulate the data in a `Node` to get the `next` attribute\n",
    "    -   If there are no data, `head` becomes the current data\n",
    "    -   Else, if there are data already, we find the insertion point by traversing the list to the last node, updating the next pointer of the last node to the new node\n"
   ]
  },
  {
   "cell_type": "code",
   "execution_count": 15,
   "metadata": {},
   "outputs": [],
   "source": [
    "from typing import Any, Optional\n",
    "\n",
    "\n",
    "class SinglyLinkedList02:\n",
    "    \"\"\"A simple implementation of a SinglyLinkedList\"\"\"\n",
    "\n",
    "    def __init__(self) -> None:\n",
    "        \"\"\"Initialize a new SinglyLinkedList structure\"\"\"\n",
    "        # Reference to the very first node (oldest) in the list\n",
    "        self.head: Optional[Node] = None\n",
    "\n",
    "    def append(self, data: Optional[Any]) -> None:\n",
    "        \"\"\"Append a new node to the list\"\"\"\n",
    "        # Encapsulate the data in a Node\n",
    "        new_node: Node = Node(data)\n",
    "        # If the list is empty, make the new node the head\n",
    "        if self.head == None:\n",
    "            self.head = new_node\n",
    "        # Else, move starting from the head to the current node to append to the list\n",
    "        else:\n",
    "            # Finding the current node starting from the head (beginning)\n",
    "            curr_node = self.head\n",
    "            # Traverse until hitting the tail (end)\n",
    "            while curr_node and curr_node.next:\n",
    "                curr_node = curr_node.next\n",
    "            # Finally, set the new node as the next for the current\n",
    "            if curr_node:\n",
    "                curr_node.next = new_node\n"
   ]
  },
  {
   "cell_type": "code",
   "execution_count": 16,
   "metadata": {},
   "outputs": [
    {
     "name": "stdout",
     "output_type": "stream",
     "text": [
      "Node(egg)\n"
     ]
    }
   ],
   "source": [
    "words2: SinglyLinkedList02 = SinglyLinkedList02()\n",
    "# Append Operations\n",
    "words2.append(\"egg\")\n",
    "words2.append(\"ham\")\n",
    "words2.append(\"spam\")\n",
    "print(words2.head)\n"
   ]
  },
  {
   "attachments": {},
   "cell_type": "markdown",
   "metadata": {},
   "source": [
    "#### <a id='toc5_1_4_'></a>A Faster Append Operation [&#8593;](#toc0_)\n"
   ]
  },
  {
   "attachments": {},
   "cell_type": "markdown",
   "metadata": {},
   "source": [
    "-   Current Big Problem: **We have to traverse the entire list everytime to append a new element**\n",
    "-   This is a big problem when the list is very long\n",
    "    -   **We would need to traverse the whole list for every single append operation**\n",
    "    -   Each append will be slightly slower than the previous one\n",
    "    -   **Current `append` implementation performance: $O(n)$**\n",
    "-   To fix this:\n",
    "    -   Store a reference to the first node of the list for quick access: `tail`\n",
    "    -   Store a reference to the last node of the list for quick access: `head`\n",
    "    -   **Here, `tail` is a reference to the very first node (oldest) in the list and `head` is the last node (newest)**\n",
    "    -   **There is no strict rule as to which way is `head` and which way is `tail`**\n",
    "-   **With this, `append` has a performance of $O(1)$**\n"
   ]
  },
  {
   "cell_type": "code",
   "execution_count": 17,
   "metadata": {},
   "outputs": [],
   "source": [
    "from typing import Any, Optional\n",
    "\n",
    "\n",
    "class SinglyLinkedList03:\n",
    "    \"\"\"A better implementation of a SinglyLinkedList\"\"\"\n",
    "\n",
    "    def __init__(self) -> None:\n",
    "        \"\"\"Initialize a new SinglyLinkedList structure\"\"\"\n",
    "        # Ref to the very first node (oldest) in the list\n",
    "        self.tail: Optional[Node] = None\n",
    "        # Ref to the very last node (newest) in the list\n",
    "        self.head: Optional[Node] = None\n",
    "\n",
    "    def append(self, data: Optional[Any]) -> None:\n",
    "        \"\"\"Append a new node to the list\"\"\"\n",
    "        # Encapsulate the data into a Node class: Default next is None\n",
    "        new_node: Node = Node(data)\n",
    "        # Check if there are already data in the list\n",
    "        if self.tail and self.head:\n",
    "            # Take the current head node and set its 'next' to point to the new node\n",
    "            self.head.next = new_node\n",
    "            # Then, set the new node as the new current head node\n",
    "            # This makes self.head.next as None again\n",
    "            self.head = new_node\n",
    "        else:\n",
    "            # There are no data in the list: Set first node as both tail and head\n",
    "            self.tail = new_node\n",
    "            self.head = new_node\n"
   ]
  },
  {
   "attachments": {},
   "cell_type": "markdown",
   "metadata": {},
   "source": [
    "#### <a id='toc5_1_5_'></a>Getting The Length of the List [&#8593;](#toc0_)\n"
   ]
  },
  {
   "attachments": {},
   "cell_type": "markdown",
   "metadata": {},
   "source": [
    "-   The length of the list is the count of existing nodes\n",
    "-   We could implement this by traversing the entire list and increase the count as we go\n"
   ]
  },
  {
   "attachments": {},
   "cell_type": "markdown",
   "metadata": {},
   "source": [
    "```py\n",
    "def __len__(self) -> int:\n",
    "    \"\"\"Return the count of existing nodes\"\"\"\n",
    "    count: int = 0\n",
    "    current: Node = self.tail\n",
    "    while current:\n",
    "        count += 1\n",
    "        current = current.next\n",
    "    return count\n",
    "```\n"
   ]
  },
  {
   "attachments": {},
   "cell_type": "markdown",
   "metadata": {},
   "source": [
    "-   Again, the problem is that this would be $O(n)$ and problematic when the list is big\n",
    "-   **List traversal is always potentially an expensive operation that we should avoid wherever we can**\n",
    "    -   **Instead, we should opt for another caching of current size and updating it as we go**\n",
    "    -   **By doing this, we have `len(ls)` go from $O(n)$ to $O(1)$**\n"
   ]
  },
  {
   "cell_type": "code",
   "execution_count": 18,
   "metadata": {},
   "outputs": [],
   "source": [
    "from typing import Any, Optional\n",
    "\n",
    "\n",
    "class SinglyLinkedList04:\n",
    "    \"\"\"A better implementation of a SinglyLinkedList\"\"\"\n",
    "\n",
    "    def __init__(self) -> None:\n",
    "        \"\"\"Initialize a new SinglyLinkedList structure\"\"\"\n",
    "        # Ref to the very first node (oldest) in the list\n",
    "        self.tail: Optional[Node] = None\n",
    "        # Ref to the very last node (newest) in the list\n",
    "        self.head: Optional[Node] = None\n",
    "        # Ref to the current length of the list\n",
    "        self.length: int = 0\n",
    "\n",
    "    def __len__(self) -> int:\n",
    "        \"\"\"Return the count of existing nodes\"\"\"\n",
    "        return self.length\n",
    "\n",
    "    def append(self, data: Optional[Any]) -> None:\n",
    "        \"\"\"Append a new node to the list\"\"\"\n",
    "        # Encapsulate the data into a Node class: Default next is None\n",
    "        new_node: Node = Node(data)\n",
    "        # Check if there are already data in the list\n",
    "        if self.tail and self.head:\n",
    "            # Take the current head node and set its 'next' to point to the new node\n",
    "            self.head.next = new_node\n",
    "            # Then, set the new node as the new current head node\n",
    "            # This makes self.head.next as None again\n",
    "            self.head = new_node\n",
    "            # Increase the length of the list\n",
    "            self.length += 1\n",
    "        else:\n",
    "            # There are no data in the list: Set first node as both tail and head\n",
    "            self.tail = new_node\n",
    "            self.head = new_node\n",
    "            # Increase the length of the list\n",
    "            self.length += 1\n"
   ]
  },
  {
   "attachments": {},
   "cell_type": "markdown",
   "metadata": {},
   "source": [
    "#### <a id='toc5_1_6_'></a>Improving List Traversal [&#8593;](#toc0_)\n"
   ]
  },
  {
   "attachments": {},
   "cell_type": "markdown",
   "metadata": {},
   "source": [
    "-   Client node should not be allowed to interact directly with the node object\n",
    "-   We need to use `node.data` to get current node and `node.next` to get the pointer to the next node\n",
    "-   We need to encapsulate traversal within the data structure itself\n",
    "    -   We can access the data by creating a method that returns a generator\n"
   ]
  },
  {
   "cell_type": "code",
   "execution_count": 19,
   "metadata": {},
   "outputs": [],
   "source": [
    "from typing import Any, Generator, Optional\n",
    "\n",
    "\n",
    "class SinglyLinkedList05:\n",
    "    \"\"\"A better implementation of a SinglyLinkedList\"\"\"\n",
    "\n",
    "    def __init__(self) -> None:\n",
    "        \"\"\"Initialize a new SinglyLinkedList structure\"\"\"\n",
    "        # Ref to the very first node (oldest) in the list\n",
    "        self.tail: Optional[Node] = None\n",
    "        # Ref to the very last node (newest) in the list\n",
    "        self.head: Optional[Node] = None\n",
    "        # Ref to the current length of the list\n",
    "        self.length: int = 0\n",
    "\n",
    "    def __len__(self) -> int:\n",
    "        \"\"\"Return the count of existing nodes\"\"\"\n",
    "        return self.length\n",
    "\n",
    "    def __iter__(self) -> Generator[Any | None, Any, None]:\n",
    "        \"\"\"Allows calls like: for x in singlyLinkedlist\"\"\"\n",
    "        # Starting from the oldest Node\n",
    "        current: Optional[Node] = self.tail\n",
    "        value: Optional[Any]\n",
    "        while current:\n",
    "            value = current.data\n",
    "            current = current.next\n",
    "            yield value  # Make ls.iterate() into a generator\n",
    "\n",
    "    def append(self, data: Optional[Any]) -> None:\n",
    "        \"\"\"Append a new node to the list\"\"\"\n",
    "        # Encapsulate the data into a Node class: Default next is None\n",
    "        new_node: Node = Node(data)\n",
    "        # Check if there are already data in the list\n",
    "        if self.tail and self.head:\n",
    "            # Take the current head node and set its 'next' to point to the new node\n",
    "            self.head.next = new_node\n",
    "            # Then, set the new node as the new current head node\n",
    "            # This makes self.head.next as None again\n",
    "            self.head = new_node\n",
    "            # Increase the length of the list\n",
    "            self.length += 1\n",
    "        else:\n",
    "            # There are no data in the list: Set first node as both tail and head\n",
    "            self.tail = new_node\n",
    "            self.head = new_node\n",
    "            # Increase the length of the list\n",
    "            self.length += 1\n"
   ]
  },
  {
   "cell_type": "code",
   "execution_count": 20,
   "metadata": {},
   "outputs": [
    {
     "name": "stdout",
     "output_type": "stream",
     "text": [
      "egg\n",
      "ham\n",
      "spam\n"
     ]
    }
   ],
   "source": [
    "# Testing\n",
    "words5: SinglyLinkedList05 = SinglyLinkedList05()\n",
    "# Append Operations\n",
    "words5.append(\"egg\")\n",
    "words5.append(\"ham\")\n",
    "words5.append(\"spam\")\n",
    "# Traversing\n",
    "for w in words5:\n",
    "    print(w)\n"
   ]
  },
  {
   "attachments": {},
   "cell_type": "markdown",
   "metadata": {},
   "source": [
    "#### <a id='toc5_1_7_'></a>Deleting Nodes [&#8593;](#toc0_)\n"
   ]
  },
  {
   "attachments": {},
   "cell_type": "markdown",
   "metadata": {},
   "source": [
    "-   First, we have to define how would a node be selected for deletion\n",
    "    -   By index?\n",
    "    -   By data?\n",
    "-   Here, we will use deletion by the data that the Node contains\n",
    "-   **When we delete a node, the `length` must also be updated**\n",
    "-   **When we delete a node that is between two nodes, the `next` of the preceding node must be updated**\n",
    "    -   Make the preceding node point to the successor of its `next` node that is to be deleted\n"
   ]
  },
  {
   "attachments": {},
   "cell_type": "markdown",
   "metadata": {},
   "source": [
    "<img src=\"../files/chap_04/linked-list-deleting-a-node.png\" width=50%>\n"
   ]
  },
  {
   "cell_type": "code",
   "execution_count": 21,
   "metadata": {},
   "outputs": [],
   "source": [
    "from typing import Any, Generator, Optional\n",
    "\n",
    "\n",
    "class SinglyLinkedList06:\n",
    "    \"\"\"A better implementation of a SinglyLinkedList\"\"\"\n",
    "\n",
    "    def __init__(self) -> None:\n",
    "        \"\"\"Initialize a new SinglyLinkedList structure\"\"\"\n",
    "        # Ref to the very first node (oldest) in the list\n",
    "        self.tail: Optional[Node] = None\n",
    "        # Ref to the very last node (newest) in the list\n",
    "        self.head: Optional[Node] = None\n",
    "        # Ref to the current length of the list\n",
    "        self.length: int = 0\n",
    "\n",
    "    def __len__(self) -> int:\n",
    "        \"\"\"Return the count of existing nodes\"\"\"\n",
    "        return self.length\n",
    "\n",
    "    def __iter__(self) -> Generator[Any | None, Any, None]:\n",
    "        \"\"\"Allows calls like: for x in singlyLinkedlist\"\"\"\n",
    "        # Starting from the oldest Node\n",
    "        current: Optional[Node] = self.tail\n",
    "        value: Optional[Any]\n",
    "        while current:\n",
    "            value = current.data\n",
    "            current = current.next\n",
    "            yield value  # Make ls.iterate() into a generator\n",
    "\n",
    "    def __str__(self) -> str:\n",
    "        \"\"\"Return a string representation of the list\"\"\"\n",
    "        return f\"SinglyLinkedList({'->'.join([str(item) for item in self])})\"  # Will call self.__iter__()\n",
    "\n",
    "    def __repr__(self) -> str:\n",
    "        \"\"\"Return a string representation of the list\"\"\"\n",
    "        return f\"SinglyLinkedList({'->'.join([str(item) for item in self])})\"  # Will call self.__iter__()\n",
    "\n",
    "    def append(self, data: Optional[Any]) -> None:\n",
    "        \"\"\"Append a new node to the list\"\"\"\n",
    "        # Encapsulate the data into a Node class: Default next is None\n",
    "        new_node: Node = Node(data)\n",
    "        # Check if there are already data in the list\n",
    "        if self.tail and self.head:\n",
    "            # Take the current head node and set its 'next' to point to the new node\n",
    "            self.head.next = new_node\n",
    "            # Then, set the new node as the new current head node\n",
    "            # This makes self.head.next as None again\n",
    "            self.head = new_node\n",
    "            # Increase the length of the list\n",
    "            self.length += 1\n",
    "        else:\n",
    "            # There are no data in the list: Set first node as both tail and head\n",
    "            self.tail = new_node\n",
    "            self.head = new_node\n",
    "            # Increase the length of the list\n",
    "            self.length += 1\n",
    "\n",
    "    def delete(self, data: Any) -> None:\n",
    "        \"\"\"Delete a node from the list\"\"\"\n",
    "        # Starting search from the tail (The beginning of the list)\n",
    "        current: Optional[Node] = self.tail\n",
    "        prev: Optional[Node] = self.tail\n",
    "        # This is currently a linear search\n",
    "        while current:\n",
    "            if current.data == data:\n",
    "                # We found the data to delete\n",
    "                if current == self.tail:\n",
    "                    # The element to delete is the first element in the list\n",
    "                    # Make the 2nd element to be the 1st element\n",
    "                    self.tail = current.next\n",
    "                else:\n",
    "                    # The element to delete is somewhere in between other nodes\n",
    "                    # Make the next element to be the 'next' of the preceding element\n",
    "                    if prev is not None:\n",
    "                        prev.next = current.next\n",
    "                # Decrease the length of the list\n",
    "                self.length -= 1\n",
    "                print(f'\"{data}\" has been deleted from the list')\n",
    "                # Exit loop and return\n",
    "                return None\n",
    "            # Else: # Update the pointers to continue the loop\n",
    "            prev = current\n",
    "            current = current.next\n",
    "        # If here, then data was not found\n",
    "        print(f'\"{data}\" was not found in the list')\n",
    "        return None\n"
   ]
  },
  {
   "attachments": {},
   "cell_type": "markdown",
   "metadata": {},
   "source": [
    "-   **Again, because this `delete` method can potentially go through the whole list in order to delete one element, it has a complexity of $O(n)$**\n",
    "-   This could be improved with a better search algorithm instead of linear search\n"
   ]
  },
  {
   "cell_type": "code",
   "execution_count": 22,
   "metadata": {},
   "outputs": [
    {
     "name": "stdout",
     "output_type": "stream",
     "text": [
      "SinglyLinkedList(egg->ham->spam)\n"
     ]
    }
   ],
   "source": [
    "# Testing\n",
    "words6: SinglyLinkedList06 = SinglyLinkedList06()\n",
    "# Append Operations\n",
    "words6.append(\"egg\")\n",
    "words6.append(\"ham\")\n",
    "words6.append(\"spam\")\n",
    "print(words6)\n"
   ]
  },
  {
   "cell_type": "code",
   "execution_count": 23,
   "metadata": {},
   "outputs": [
    {
     "name": "stdout",
     "output_type": "stream",
     "text": [
      "\"john\" was not found in the list\n",
      "\"ham\" has been deleted from the list\n",
      "SinglyLinkedList(egg->spam)\n"
     ]
    }
   ],
   "source": [
    "# Deleting\n",
    "words6.delete(\"john\")  # => Not found\n",
    "words6.delete(\"ham\")  # => Deleted\n",
    "print(words6)\n"
   ]
  },
  {
   "attachments": {},
   "cell_type": "markdown",
   "metadata": {},
   "source": [
    "#### <a id='toc5_1_8_'></a>List Search [&#8593;](#toc0_)\n"
   ]
  },
  {
   "attachments": {},
   "cell_type": "markdown",
   "metadata": {},
   "source": [
    "-   To check if a list contains an item or not\n",
    "-   Easy to implement thanks to the existing `__iter__` method\n",
    "-   **Again, this method has $O(n)$ as we are doing a linear search**\n",
    "    -   We can improve on this later with some better search algorithms instead of linear search\n"
   ]
  },
  {
   "cell_type": "code",
   "execution_count": 24,
   "metadata": {},
   "outputs": [],
   "source": [
    "from typing import Any, Generator, Optional\n",
    "\n",
    "\n",
    "class SinglyLinkedList07:\n",
    "    \"\"\"A better implementation of a SinglyLinkedList\"\"\"\n",
    "\n",
    "    def __init__(self) -> None:\n",
    "        \"\"\"Initialize a new SinglyLinkedList structure\"\"\"\n",
    "        # Ref to the very first node (oldest) in the list\n",
    "        self.tail: Optional[Node] = None\n",
    "        # Ref to the very last node (newest) in the list\n",
    "        self.head: Optional[Node] = None\n",
    "        # Ref to the current length of the list\n",
    "        self.length: int = 0\n",
    "\n",
    "    def __len__(self) -> int:\n",
    "        \"\"\"Return the count of existing nodes\"\"\"\n",
    "        return self.length\n",
    "\n",
    "    def __iter__(self) -> Generator[Any | None, Any, None]:\n",
    "        \"\"\"Allows calls like: for x in singlyLinkedlist\"\"\"\n",
    "        # Starting from the oldest Node\n",
    "        current: Optional[Node] = self.tail\n",
    "        value: Optional[Any]\n",
    "        while current:\n",
    "            value = current.data\n",
    "            current = current.next\n",
    "            yield value  # Make ls.iterate() into a generator\n",
    "\n",
    "    def __str__(self) -> str:\n",
    "        \"\"\"Return a string representation of the list\"\"\"\n",
    "        return f\"SinglyLinkedList({'->'.join([str(item) for item in self])})\"  # Will call self.__iter__()\n",
    "\n",
    "    def __repr__(self) -> str:\n",
    "        \"\"\"Return a string representation of the list\"\"\"\n",
    "        return f\"SinglyLinkedList({'->'.join([str(item) for item in self])})\"  # Will call self.__iter__()\n",
    "\n",
    "    def append(self, data: Optional[Any]) -> None:\n",
    "        \"\"\"Append a new node to the list\"\"\"\n",
    "        # Encapsulate the data into a Node class: Default next is None\n",
    "        new_node: Node = Node(data)\n",
    "        # Check if there are already data in the list\n",
    "        if self.tail and self.head:\n",
    "            # Take the current head node and set its 'next' to point to the new node\n",
    "            self.head.next = new_node\n",
    "            # Then, set the new node as the new current head node\n",
    "            # This makes self.head.next as None again\n",
    "            self.head = new_node\n",
    "            # Increase the length of the list\n",
    "            self.length += 1\n",
    "        else:\n",
    "            # There are no data in the list: Set first node as both tail and head\n",
    "            self.tail = new_node\n",
    "            self.head = new_node\n",
    "            # Increase the length of the list\n",
    "            self.length += 1\n",
    "\n",
    "    def delete(self, data: Any) -> None:\n",
    "        \"\"\"Delete a node from the list\"\"\"\n",
    "        # Starting search from the tail (The beginning of the list)\n",
    "        current: Optional[Node] = self.tail\n",
    "        prev: Optional[Node] = self.tail\n",
    "        # This is currently a linear search\n",
    "        while current:\n",
    "            if current.data == data:\n",
    "                # We found the data to delete\n",
    "                if current == self.tail:\n",
    "                    # The element to delete is the first element in the list\n",
    "                    # Make the 2nd element to be the 1st element\n",
    "                    self.tail = current.next\n",
    "                else:\n",
    "                    # The element to delete is somewhere in between other nodes\n",
    "                    # Make the next element to be the 'next' of the preceding element\n",
    "                    if prev is not None:\n",
    "                        prev.next = current.next\n",
    "                # Decrease the length of the list\n",
    "                self.length -= 1\n",
    "                print(f'\"{data}\" has been deleted from the list')\n",
    "                # Exit loop and return\n",
    "                return None\n",
    "            # Else: # Update the pointers to continue the loop\n",
    "            prev = current\n",
    "            current = current.next\n",
    "        # If here, then data was not found\n",
    "        print(f'\"{data}\" was not found in the list')\n",
    "        return None\n",
    "\n",
    "    def contains(self, data: Any) -> bool:\n",
    "        \"\"\"Search if an item is contained in the list\"\"\"\n",
    "        for item in self.__iter__():  # This is currently a linear search\n",
    "            if data == item:\n",
    "                return True\n",
    "        # If here, then it is not in the list\n",
    "        return False\n"
   ]
  },
  {
   "cell_type": "code",
   "execution_count": 25,
   "metadata": {},
   "outputs": [
    {
     "name": "stdout",
     "output_type": "stream",
     "text": [
      "words: SinglyLinkedList(egg->ham->spam)\n",
      "john in words? False\n",
      "ham in words? True\n"
     ]
    }
   ],
   "source": [
    "words7: SinglyLinkedList07 = SinglyLinkedList07()\n",
    "# Append Operations\n",
    "words7.append(\"egg\")\n",
    "words7.append(\"ham\")\n",
    "words7.append(\"spam\")\n",
    "print(\"words:\", words7)\n",
    "# Searching\n",
    "print(\"john in words?\", words7.contains(\"john\"))\n",
    "print(\"ham in words?\", words7.contains(\"ham\"))\n"
   ]
  },
  {
   "attachments": {},
   "cell_type": "markdown",
   "metadata": {},
   "source": [
    "#### <a id='toc5_1_9_'></a>Clearing a List [&#8593;](#toc0_)\n"
   ]
  },
  {
   "attachments": {},
   "cell_type": "markdown",
   "metadata": {},
   "source": [
    "-   This allows to clear a list quickly\n",
    "-   We can clear a list by simply setting all pointers to `None` and the length to `0`\n",
    "-   Thanks to _Garbage Collector_ in Python, we do not have to worry about orphaned, non-referenced values left in memory\n",
    "    -   Those will be automatically cleared by the _Garbage Collector_\n"
   ]
  },
  {
   "cell_type": "code",
   "execution_count": 26,
   "metadata": {},
   "outputs": [],
   "source": [
    "from typing import Any, Generator, Optional\n",
    "\n",
    "\n",
    "class SinglyLinkedList08:\n",
    "    \"\"\"A better implementation of a SinglyLinkedList\"\"\"\n",
    "\n",
    "    def __init__(self) -> None:\n",
    "        \"\"\"Initialize a new SinglyLinkedList structure\"\"\"\n",
    "        # Ref to the very first node (oldest) in the list\n",
    "        self.tail: Optional[Node] = None\n",
    "        # Ref to the very last node (newest) in the list\n",
    "        self.head: Optional[Node] = None\n",
    "        # Ref to the current length of the list\n",
    "        self.length: int = 0\n",
    "\n",
    "    def __len__(self) -> int:\n",
    "        \"\"\"Return the count of existing nodes\"\"\"\n",
    "        return self.length\n",
    "\n",
    "    def __iter__(self) -> Generator[Any | None, Any, None]:\n",
    "        \"\"\"Allows calls like: for x in singlyLinkedlist\"\"\"\n",
    "        # Starting from the oldest Node\n",
    "        current: Optional[Node] = self.tail\n",
    "        value: Optional[Any]\n",
    "        while current:\n",
    "            value = current.data\n",
    "            current = current.next\n",
    "            yield value  # Make ls.iterate() into a generator\n",
    "\n",
    "    def __str__(self) -> str:\n",
    "        \"\"\"Return a string representation of the list\"\"\"\n",
    "        return f\"SinglyLinkedList({'->'.join([str(item) for item in self])})\"  # Will call self.__iter__()\n",
    "\n",
    "    def __repr__(self) -> str:\n",
    "        \"\"\"Return a string representation of the list\"\"\"\n",
    "        return f\"SinglyLinkedList({'->'.join([str(item) for item in self])})\"  # Will call self.__iter__()\n",
    "\n",
    "    def append(self, data: Optional[Any]) -> None:\n",
    "        \"\"\"Append a new node to the list\"\"\"\n",
    "        # Encapsulate the data into a Node class: Default next is None\n",
    "        new_node: Node = Node(data)\n",
    "        # Check if there are already data in the list\n",
    "        if self.tail and self.head:\n",
    "            # Take the current head node and set its 'next' to point to the new node\n",
    "            self.head.next = new_node\n",
    "            # Then, set the new node as the new current head node\n",
    "            # This makes self.head.next as None again\n",
    "            self.head = new_node\n",
    "            # Increase the length of the list\n",
    "            self.length += 1\n",
    "        else:\n",
    "            # There are no data in the list: Set first node as both tail and head\n",
    "            self.tail = new_node\n",
    "            self.head = new_node\n",
    "            # Increase the length of the list\n",
    "            self.length += 1\n",
    "\n",
    "    def delete(self, data: Any) -> None:\n",
    "        \"\"\"Delete a node from the list\"\"\"\n",
    "        # Starting search from the tail (The beginning of the list)\n",
    "        current: Optional[Node] = self.tail\n",
    "        prev: Optional[Node] = self.tail\n",
    "        # This is currently a linear search\n",
    "        while current:\n",
    "            if current.data == data:\n",
    "                # We found the data to delete\n",
    "                if current == self.tail:\n",
    "                    # The element to delete is the first element in the list\n",
    "                    # Make the 2nd element to be the 1st element\n",
    "                    self.tail = current.next\n",
    "                else:\n",
    "                    # The element to delete is somewhere in between other nodes\n",
    "                    # Make the next element to be the 'next' of the preceding element\n",
    "                    if prev is not None:\n",
    "                        prev.next = current.next\n",
    "                # Decrease the length of the list\n",
    "                self.length -= 1\n",
    "                print(f'\"{data}\" has been deleted from the list')\n",
    "                # Exit loop and return\n",
    "                return None\n",
    "            # Else: # Update the pointers to continue the loop\n",
    "            prev = current\n",
    "            current = current.next\n",
    "        # If here, then data was not found\n",
    "        print(f'\"{data}\" was not found in the list')\n",
    "        return None\n",
    "\n",
    "    def contains(self, data: Any) -> bool:\n",
    "        \"\"\"Search if an item is contained in the list\"\"\"\n",
    "        for item in self.__iter__():  # This is currently a linear search\n",
    "            if data == item:\n",
    "                return True\n",
    "        # If here, then it is not in the list\n",
    "        return False\n",
    "\n",
    "    def clear(self) -> None:\n",
    "        \"\"\"Reset/Clear the contents of a list\"\"\"\n",
    "        self.head = None\n",
    "        self.tail = None\n",
    "        self.length = 0\n"
   ]
  },
  {
   "cell_type": "code",
   "execution_count": 27,
   "metadata": {},
   "outputs": [
    {
     "name": "stdout",
     "output_type": "stream",
     "text": [
      "words: SinglyLinkedList(egg->ham->spam->tomato->fries)\n",
      "words after clearing: SinglyLinkedList()\n"
     ]
    }
   ],
   "source": [
    "words8: SinglyLinkedList08 = SinglyLinkedList08()\n",
    "# Append Operations\n",
    "words8.append(\"egg\")\n",
    "words8.append(\"ham\")\n",
    "words8.append(\"spam\")\n",
    "words8.append(\"tomato\")\n",
    "words8.append(\"fries\")\n",
    "print(\"words:\", words8)\n",
    "# Clearing\n",
    "words8.clear()\n",
    "print(\"words after clearing:\", words8)\n"
   ]
  },
  {
   "attachments": {},
   "cell_type": "markdown",
   "metadata": {},
   "source": [
    "### <a id='toc5_2_'></a>Doubly Linked List [&#8593;](#toc0_)\n"
   ]
  },
  {
   "attachments": {},
   "cell_type": "markdown",
   "metadata": {},
   "source": [
    "-   Uses the same fundamentals of node concepts\n",
    "-   **However, instead of just one pointer, we have 2 pointers**\n",
    "    -   One pointer to the **next** node\n",
    "    -   One pointer to the **previous** node\n",
    "-   The pointers are set to `None` when there is no node attached\n",
    "-   A node in a singly-linked list can only determine the next node: Moving Forward\n",
    "-   A node in a doubly-linked list can reference and go back to the previous node: Moving Forward and Backward\n",
    "    -   The flow direction in a doubly-linked list is two-way\n"
   ]
  },
  {
   "attachments": {},
   "cell_type": "markdown",
   "metadata": {},
   "source": [
    "<img src=\"../files/chap_04/doubly-linked-list-concept.png\" width=50%>\n"
   ]
  },
  {
   "attachments": {},
   "cell_type": "markdown",
   "metadata": {},
   "source": [
    "```\n",
    "     ________________                            ________________\n",
    "     |  __________  |                            |  __________  |\n",
    "     |  | data:a |  |                            |  | data:b |  |\n",
    "     |  ‾‾‾‾‾‾‾‾‾‾  |                            |  ‾‾‾‾‾‾‾‾‾‾  |\n",
    "     |  __________  |       link:pointer         |  __________  |\n",
    "     |  |  next  |--|--------------------------->|  |  next  |  |\n",
    "     |  ‾‾‾‾‾‾‾‾‾‾  |                            |  ‾‾‾‾‾‾‾‾‾‾  |\n",
    "     |  __________  |       link:pointer         |  __________  |\n",
    "     |  |  prev  |  |<---------------------------|--|  prev  |  |\n",
    "     |  ‾‾‾‾‾‾‾‾‾‾  |                            |  ‾‾‾‾‾‾‾‾‾‾  |\n",
    "     ‾‾‾‾‾‾‾‾‾‾‾‾‾‾‾‾                            ‾‾‾‾‾‾‾‾‾‾‾‾‾‾‾‾\n",
    "     Node (Container)                            Node (Container)\n",
    "```\n"
   ]
  },
  {
   "attachments": {},
   "cell_type": "markdown",
   "metadata": {},
   "source": [
    "-   Doubly-linked lists can be traversed in both directions\n",
    "-   A node in a doubly-linked list can be easily referred to its previous node whenever required without having a variable to keep track of that node\n",
    "    -   In a singly-linked list, we would have to restart from the beginning to make changes to previous nodes\n"
   ]
  },
  {
   "attachments": {},
   "cell_type": "markdown",
   "metadata": {},
   "source": [
    "#### <a id='toc5_2_1_'></a>Doubly Linked List Node [&#8593;](#toc0_)\n"
   ]
  },
  {
   "attachments": {},
   "cell_type": "markdown",
   "metadata": {},
   "source": [
    "-   Initialization method\n",
    "-   `prev` pointer\n",
    "-   `next` pointer\n",
    "-   `data` instance variable\n",
    "-   When a node is created, all variables default to `None`\n"
   ]
  },
  {
   "attachments": {},
   "cell_type": "markdown",
   "metadata": {},
   "source": [
    "<img src=\"../files/chap_04/doubly-linked-node.png\" width=50%>\n"
   ]
  },
  {
   "attachments": {},
   "cell_type": "markdown",
   "metadata": {},
   "source": [
    "-   We can inherit from our previous Node class and use it as a base class\n",
    "-   (This was already defined above)\n"
   ]
  },
  {
   "attachments": {},
   "cell_type": "markdown",
   "metadata": {},
   "source": [
    "```py\n",
    "from typing import Any, Optional\n",
    "\n",
    "class NodeTwo(Node):\n",
    "    \"\"\"Implementation of a Two-Direction Node\"\"\"\n",
    "\n",
    "    def __init__(self, data: Optional[Any] = None) -> None:\n",
    "        \"\"\"Initialize a Node object\"\"\"\n",
    "        super().__init__(data)\n",
    "        self.next: Optional[\"NodeTwo\"] = None\n",
    "        self.previous: Optional[\"NodeTwo\"] = None\n",
    "\n",
    "    def __str__(self) -> str:\n",
    "        \"\"\"Return the string representation of a Node\"\"\"\n",
    "        return f\"NodeTwo({str(self.data)})\"\n",
    "\n",
    "    def __repr__(self) -> str:\n",
    "        \"\"\"Return the string representation of a Node\"\"\"\n",
    "        return f\"NodeTwo({str(self.data)})\"\n",
    "```\n"
   ]
  },
  {
   "attachments": {},
   "cell_type": "markdown",
   "metadata": {},
   "source": [
    "#### <a id='toc5_2_2_'></a>Doubly Linked List Class [&#8593;](#toc0_)\n"
   ]
  },
  {
   "cell_type": "code",
   "execution_count": 28,
   "metadata": {},
   "outputs": [],
   "source": [
    "from typing import Optional\n",
    "\n",
    "\n",
    "class DoublyLinkedList01:\n",
    "    \"\"\"A simple implementation of a DoublyLinkedList\"\"\"\n",
    "\n",
    "    def __init__(self) -> None:\n",
    "        \"\"\"Initialize a new DoublyLinkedList structure\"\"\"\n",
    "        # Ref to the very first node in the list\n",
    "        self.tail: Optional[NodeTwo] = None\n",
    "        # Ref to the very last node in the list\n",
    "        self.head: Optional[NodeTwo] = None\n",
    "        # Ref to the current length of the list\n",
    "        self.length: int = 0\n"
   ]
  },
  {
   "attachments": {},
   "cell_type": "markdown",
   "metadata": {},
   "source": [
    "#### <a id='toc5_2_3_'></a>The `append` Operation [&#8593;](#toc0_)\n"
   ]
  },
  {
   "attachments": {},
   "cell_type": "markdown",
   "metadata": {},
   "source": [
    "-   Append an element to the list\n",
    "-   Need to check if the `tail` is `None` before adding a new element\n",
    "    -   If `tail == None` then the list is empty\n",
    "    -   Else, the list already has some elements\n",
    "-   When a new element is added to an empty list, the element becomes both the `head` and the `tail`\n",
    "-   The `append()` method has a time complexity of $O(1)$\n"
   ]
  },
  {
   "cell_type": "code",
   "execution_count": 29,
   "metadata": {},
   "outputs": [],
   "source": [
    "from typing import Optional\n",
    "\n",
    "\n",
    "class DoublyLinkedList02:\n",
    "    \"\"\"A simple implementation of a DoublyLinkedList\"\"\"\n",
    "\n",
    "    def __init__(self) -> None:\n",
    "        \"\"\"Initialize a new DoublyLinkedList structure\"\"\"\n",
    "        # Ref to the very first node in the list\n",
    "        self.tail: Optional[NodeTwo] = None\n",
    "        # Ref to the very last node in the list\n",
    "        self.head: Optional[NodeTwo] = None\n",
    "        # Ref to the current length of the list\n",
    "        self.length: int = 0\n",
    "\n",
    "    def __len__(self) -> int:\n",
    "        \"\"\"Return the count of existing nodes\"\"\"\n",
    "        return self.length\n",
    "\n",
    "    def __str__(self) -> str:\n",
    "        \"\"\"Return a string representation of the list\"\"\"\n",
    "        return f\"DoubyLinkedList()\"\n",
    "\n",
    "    def __repr__(self) -> str:\n",
    "        \"\"\"Return a string representation of the list\"\"\"\n",
    "        return f\"DoubyLinkedList()\"\n",
    "\n",
    "    def append(self, data: Optional[Any]) -> None:\n",
    "        \"\"\"Append a new node to the list\"\"\"\n",
    "        # Encapsulate the data into a Node class: Default next is None\n",
    "        new_node: NodeTwo = NodeTwo(data)\n",
    "        # Check if there are already data in the list\n",
    "        if self.tail and self.head:\n",
    "            # List is not empty: Transfer the last head node's data\n",
    "            new_node.previous = self.head\n",
    "            self.head.next = new_node\n",
    "            # Make the new_node to be the head of the list\n",
    "            self.head = new_node\n",
    "            # Increase the length of the list\n",
    "            self.length += 1\n",
    "        else:\n",
    "            # The list is initially empty\n",
    "            self.head = new_node\n",
    "            self.tail = new_node\n",
    "            # Increase the length of the list\n",
    "            self.length += 1\n"
   ]
  },
  {
   "cell_type": "code",
   "execution_count": 30,
   "metadata": {},
   "outputs": [
    {
     "name": "stdout",
     "output_type": "stream",
     "text": [
      "DoubyLinkedList()\n"
     ]
    }
   ],
   "source": [
    "words_dl2: DoublyLinkedList02 = DoublyLinkedList02()\n",
    "# Append Operations\n",
    "words_dl2.append(\"egg\")\n",
    "words_dl2.append(\"ham\")\n",
    "words_dl2.append(\"spam\")\n",
    "# Check\n",
    "print(words_dl2)\n"
   ]
  },
  {
   "attachments": {},
   "cell_type": "markdown",
   "metadata": {},
   "source": [
    "#### <a id='toc5_2_4_'></a>List Traversal [&#8593;](#toc0_)\n"
   ]
  },
  {
   "attachments": {},
   "cell_type": "markdown",
   "metadata": {},
   "source": [
    "-   Same as with Singly-Linked Lists\n"
   ]
  },
  {
   "cell_type": "code",
   "execution_count": 31,
   "metadata": {},
   "outputs": [],
   "source": [
    "from typing import Any, Generator, Optional\n",
    "\n",
    "\n",
    "class DoublyLinkedList03:\n",
    "    \"\"\"An implementation of a DoublyLinkedList\"\"\"\n",
    "\n",
    "    def __init__(self) -> None:\n",
    "        \"\"\"Initialize a new DoublyLinkedList structure\"\"\"\n",
    "        # Ref to the very first node in the list\n",
    "        self.tail: Optional[NodeTwo] = None\n",
    "        # Ref to the very last node in the list\n",
    "        self.head: Optional[NodeTwo] = None\n",
    "        # Ref to the current length of the list\n",
    "        self.length: int = 0\n",
    "\n",
    "    def __len__(self) -> int:\n",
    "        \"\"\"Return the count of existing nodes\"\"\"\n",
    "        return self.length\n",
    "\n",
    "    def __str__(self) -> str:\n",
    "        \"\"\"Return a string representation of the list\"\"\"\n",
    "        return f\"DoubyLinkedList({'<->'.join([str(item) for item in self])})\"  # Will call self.__iter__()\n",
    "\n",
    "    def __repr__(self) -> str:\n",
    "        \"\"\"Return a string representation of the list\"\"\"\n",
    "        return f\"DoubyLinkedList({'<->'.join([str(item) for item in self])})\"  # Will call self.__iter__()\n",
    "\n",
    "    def __iter__(self) -> Generator[Any | None, Any, None]:\n",
    "        \"\"\"Allows calls like: for x in DoublyLinkedList\"\"\"\n",
    "        current: Optional[Node] = self.tail\n",
    "        value: Optional[Any]\n",
    "        while current:\n",
    "            value = current.data\n",
    "            current = current.next\n",
    "            yield value  # Make ls.iterate() into a generator\n",
    "\n",
    "    def append(self, data: Optional[Any]) -> None:\n",
    "        \"\"\"Append a new node to the list\"\"\"\n",
    "        # Encapsulate the data into a Node class: Default next is None\n",
    "        new_node: NodeTwo = NodeTwo(data)\n",
    "        # Check if there are already data in the list\n",
    "        if self.tail and self.head:\n",
    "            # List is not empty: Transfer the last head node's data\n",
    "            new_node.previous = self.head\n",
    "            self.head.next = new_node\n",
    "            # Make the new_node to be the head of the list\n",
    "            self.head = new_node\n",
    "            # Increase the length of the list\n",
    "            self.length += 1\n",
    "        else:\n",
    "            # The list is initially empty\n",
    "            self.head = new_node\n",
    "            self.tail = new_node\n",
    "            # Increase the length of the list\n",
    "            self.length += 1\n"
   ]
  },
  {
   "cell_type": "code",
   "execution_count": 32,
   "metadata": {},
   "outputs": [
    {
     "name": "stdout",
     "output_type": "stream",
     "text": [
      "DoubyLinkedList(egg<->ham<->spam)\n",
      "egg\n",
      "ham\n",
      "spam\n"
     ]
    }
   ],
   "source": [
    "words_dl3: DoublyLinkedList03 = DoublyLinkedList03()\n",
    "# Append Operations\n",
    "words_dl3.append(\"egg\")\n",
    "words_dl3.append(\"ham\")\n",
    "words_dl3.append(\"spam\")\n",
    "# Traversing\n",
    "print(words_dl3)\n",
    "for w in words_dl3:\n",
    "    print(w)\n"
   ]
  },
  {
   "attachments": {},
   "cell_type": "markdown",
   "metadata": {},
   "source": [
    "#### <a id='toc5_2_5_'></a>Deleting Nodes [&#8593;](#toc0_)\n"
   ]
  },
  {
   "attachments": {},
   "cell_type": "markdown",
   "metadata": {},
   "source": [
    "-   Easier in Doubly-linked lists than in Singly-linked lists\n",
    "-   We do not need to keep track of previously encountered node because each node already keep the `prev`\n",
    "-   We have 4 possible scenarios:\n",
    "    -   The item to be deleted is not in the list\n",
    "    -   The item to be deleted is at the tail of the list\n",
    "    -   The item to be deleted is at the head of the list\n",
    "    -   The item to be deleted is somewhere in the middle of the list\n",
    "-   Again, we will be deleting by the data\n",
    "-   The `delete()` method has a time complexity of $O(n)$ since, again, we are doing linear search to find the item to delete\n"
   ]
  },
  {
   "attachments": {},
   "cell_type": "markdown",
   "metadata": {},
   "source": [
    "<img src=\"../files/chap_04/doubly-linked-list-deleting-a-node.png\" width=50%>\n"
   ]
  },
  {
   "cell_type": "code",
   "execution_count": 33,
   "metadata": {},
   "outputs": [],
   "source": [
    "from typing import Any, Generator, Optional\n",
    "\n",
    "\n",
    "class DoublyLinkedList04:\n",
    "    \"\"\"An implementation of a DoublyLinkedList\"\"\"\n",
    "\n",
    "    def __init__(self) -> None:\n",
    "        \"\"\"Initialize a new DoublyLinkedList structure\"\"\"\n",
    "        # Ref to the very first node in the list\n",
    "        self.tail: Optional[NodeTwo] = None\n",
    "        # Ref to the very last node in the list\n",
    "        self.head: Optional[NodeTwo] = None\n",
    "        # Ref to the current length of the list\n",
    "        self.length: int = 0\n",
    "\n",
    "    def __len__(self) -> int:\n",
    "        \"\"\"Return the count of existing nodes\"\"\"\n",
    "        return self.length\n",
    "\n",
    "    def __str__(self) -> str:\n",
    "        \"\"\"Return a string representation of the list\"\"\"\n",
    "        return f\"DoubyLinkedList({'<->'.join([str(item) for item in self])})\"  # Will call self.__iter__()\n",
    "\n",
    "    def __repr__(self) -> str:\n",
    "        \"\"\"Return a string representation of the list\"\"\"\n",
    "        return f\"DoubyLinkedList({'<->'.join([str(item) for item in self])})\"  # Will call self.__iter__()\n",
    "\n",
    "    def __iter__(self) -> Generator[Any | None, Any, None]:\n",
    "        \"\"\"Allows calls like: for x in DoublyLinkedList\"\"\"\n",
    "        current: Optional[NodeTwo] = self.tail\n",
    "        value: Optional[Any]\n",
    "        while current:\n",
    "            value = current.data\n",
    "            current = current.next\n",
    "            yield value  # Make ls.iterate() into a generator\n",
    "\n",
    "    def append(self, data: Optional[Any]) -> None:\n",
    "        \"\"\"Append a new node to the list\"\"\"\n",
    "        # Encapsulate the data into a Node class: Default next is None\n",
    "        new_node: NodeTwo = NodeTwo(data)\n",
    "        # Check if there are already data in the list\n",
    "        if self.tail and self.head:\n",
    "            # List is not empty: Transfer the last head node's data\n",
    "            new_node.previous = self.head\n",
    "            self.head.next = new_node\n",
    "            # Make the new_node to be the head of the list\n",
    "            self.head = new_node\n",
    "            # Increase the length of the list\n",
    "            self.length += 1\n",
    "        else:\n",
    "            # The list is initially empty\n",
    "            self.head = new_node\n",
    "            self.tail = new_node\n",
    "            # Increase the length of the list\n",
    "            self.length += 1\n",
    "\n",
    "    def delete(self, data: Any) -> None:\n",
    "        \"\"\"Delete a node from the list\"\"\"\n",
    "        # Starting search from the tail (The beginning of the list)\n",
    "        current: Optional[NodeTwo] = self.tail\n",
    "        node_deleted: bool = False\n",
    "\n",
    "        if current is None:\n",
    "            # Empty list: Item to be deleted is not found in the list\n",
    "            node_deleted = False\n",
    "        elif current and current.next and current.data == data:\n",
    "            # Item to be deleted is found at beginning (tail) of list\n",
    "            self.tail = current.next\n",
    "            self.tail.previous = None\n",
    "            node_deleted = True\n",
    "        elif self.head and self.head.previous and self.head.data == data:\n",
    "            # Item to be deleted is found at the end (head) of list\n",
    "            self.head = self.head.previous\n",
    "            self.head.next = None\n",
    "            node_deleted = True\n",
    "        else:\n",
    "            # Search item to be deleted and delete that node\n",
    "            # This is currently a linear search\n",
    "            while current:\n",
    "                if current.previous and current.next and current.data == data:\n",
    "                    # Set the previous node's next to the next node\n",
    "                    current.previous.next = current.next\n",
    "                    # Set the next node's previous to the previous node\n",
    "                    current.next.previous = current.previous\n",
    "                    # Node has been deleted\n",
    "                    node_deleted = True\n",
    "                    # Break out of the loop as early as possible\n",
    "                    break\n",
    "                # If here, the node to delete was not found yet\n",
    "                # Keep looping until hitting next == None (head)\n",
    "                current = current.next\n",
    "        # If a node was delete, update the length\n",
    "        if node_deleted:\n",
    "            self.length -= 1\n",
    "            print(f'\"{data}\" has been deleted from the list')\n",
    "            return\n",
    "        # If still here, node_delete == False\n",
    "        print(f'\"{data}\" was not found in the list')\n",
    "        return\n"
   ]
  },
  {
   "cell_type": "code",
   "execution_count": 34,
   "metadata": {},
   "outputs": [
    {
     "name": "stdout",
     "output_type": "stream",
     "text": [
      "DoubyLinkedList(egg<->ham<->spam)\n",
      "\"john\" was not found in the list\n",
      "\"ham\" has been deleted from the list\n",
      "DoubyLinkedList(egg<->spam)\n",
      "\"ham\" was not found in the list\n",
      "\"egg\" has been deleted from the list\n",
      "DoubyLinkedList(spam)\n"
     ]
    }
   ],
   "source": [
    "words_dl4: DoublyLinkedList04 = DoublyLinkedList04()\n",
    "# Append Operations\n",
    "words_dl4.append(\"egg\")\n",
    "words_dl4.append(\"ham\")\n",
    "words_dl4.append(\"spam\")\n",
    "print(words_dl4)\n",
    "# Deleting\n",
    "words_dl4.delete(\"john\")\n",
    "words_dl4.delete(\"ham\")\n",
    "print(words_dl4)\n",
    "words_dl4.delete(\"ham\")\n",
    "words_dl4.delete(\"egg\")\n",
    "print(words_dl4)\n"
   ]
  },
  {
   "attachments": {},
   "cell_type": "markdown",
   "metadata": {},
   "source": [
    "#### <a id='toc5_2_6_'></a>List Search [&#8593;](#toc0_)\n"
   ]
  },
  {
   "attachments": {},
   "cell_type": "markdown",
   "metadata": {},
   "source": [
    "-   Similar to the method in a Singly-Linked List\n"
   ]
  },
  {
   "cell_type": "code",
   "execution_count": 35,
   "metadata": {},
   "outputs": [],
   "source": [
    "from typing import Any, Generator, Optional\n",
    "\n",
    "\n",
    "class DoublyLinkedList05:\n",
    "    \"\"\"An implementation of a DoublyLinkedList\"\"\"\n",
    "\n",
    "    def __init__(self) -> None:\n",
    "        \"\"\"Initialize a new DoublyLinkedList structure\"\"\"\n",
    "        # Ref to the very first node in the list\n",
    "        self.tail: Optional[NodeTwo] = None\n",
    "        # Ref to the very last node in the list\n",
    "        self.head: Optional[NodeTwo] = None\n",
    "        # Ref to the current length of the list\n",
    "        self.length: int = 0\n",
    "\n",
    "    def __len__(self) -> int:\n",
    "        \"\"\"Return the count of existing nodes\"\"\"\n",
    "        return self.length\n",
    "\n",
    "    def __str__(self) -> str:\n",
    "        \"\"\"Return a string representation of the list\"\"\"\n",
    "        return f\"DoubyLinkedList({'<->'.join([str(item) for item in self])})\"  # Will call self.__iter__()\n",
    "\n",
    "    def __repr__(self) -> str:\n",
    "        \"\"\"Return a string representation of the list\"\"\"\n",
    "        return f\"DoubyLinkedList({'<->'.join([str(item) for item in self])})\"  # Will call self.__iter__()\n",
    "\n",
    "    def __iter__(self) -> Generator[Any | None, Any, None]:\n",
    "        \"\"\"Allows calls like: for x in DoublyLinkedList\"\"\"\n",
    "        current: Optional[NodeTwo] = self.tail\n",
    "        value: Optional[Any]\n",
    "        while current:\n",
    "            value = current.data\n",
    "            current = current.next\n",
    "            yield value  # Make ls.iterate() into a generator\n",
    "\n",
    "    def append(self, data: Optional[Any]) -> None:\n",
    "        \"\"\"Append a new node to the list\"\"\"\n",
    "        # Encapsulate the data into a Node class: Default next is None\n",
    "        new_node: NodeTwo = NodeTwo(data)\n",
    "        # Check if there are already data in the list\n",
    "        if self.tail and self.head:\n",
    "            # List is not empty: Transfer the last head node's data\n",
    "            new_node.previous = self.head\n",
    "            self.head.next = new_node\n",
    "            # Make the new_node to be the head of the list\n",
    "            self.head = new_node\n",
    "            # Increase the length of the list\n",
    "            self.length += 1\n",
    "        else:\n",
    "            # The list is initially empty\n",
    "            self.head = new_node\n",
    "            self.tail = new_node\n",
    "            # Increase the length of the list\n",
    "            self.length += 1\n",
    "\n",
    "    def delete(self, data: Any) -> None:\n",
    "        \"\"\"Delete a node from the list\"\"\"\n",
    "        # Starting search from the tail (The beginning of the list)\n",
    "        current: Optional[NodeTwo] = self.tail\n",
    "        node_deleted: bool = False\n",
    "\n",
    "        if current is None:\n",
    "            # Empty list: Item to be deleted is not found in the list\n",
    "            node_deleted = False\n",
    "        elif current and current.next and current.data == data:\n",
    "            # Item to be deleted is found at beginning (tail) of list\n",
    "            self.tail = current.next\n",
    "            self.tail.previous = None\n",
    "            node_deleted = True\n",
    "        elif self.head and self.head.previous and self.head.data == data:\n",
    "            # Item to be deleted is found at the end (head) of list\n",
    "            self.head = self.head.previous\n",
    "            self.head.next = None\n",
    "            node_deleted = True\n",
    "        else:\n",
    "            # Search item to be deleted and delete that node\n",
    "            # This is currently a linear search\n",
    "            while current:\n",
    "                if current.previous and current.next and current.data == data:\n",
    "                    # Set the previous node's next to the next node\n",
    "                    current.previous.next = current.next\n",
    "                    # Set the next node's previous to the previous node\n",
    "                    current.next.previous = current.previous\n",
    "                    # Node has been deleted\n",
    "                    node_deleted = True\n",
    "                    # Break out of the loop as early as possible\n",
    "                    break\n",
    "                # If here, the node to delete was not found yet\n",
    "                # Keep looping until hitting next == None (head)\n",
    "                current = current.next\n",
    "        # If a node was delete, update the length\n",
    "        if node_deleted:\n",
    "            self.length -= 1\n",
    "            print(f'\"{data}\" has been deleted from the list')\n",
    "            return\n",
    "        # If still here, node_delete == False\n",
    "        print(f'\"{data}\" was not found in the list')\n",
    "        return\n",
    "\n",
    "    def contains(self, data: Any) -> bool:\n",
    "        \"\"\"Search if an item is contained in the list\"\"\"\n",
    "        for item in self.__iter__():  # This is currently a linear search\n",
    "            if data == item:\n",
    "                return True\n",
    "        # If here, then it is not in the list\n",
    "        return False\n"
   ]
  },
  {
   "cell_type": "code",
   "execution_count": 36,
   "metadata": {},
   "outputs": [
    {
     "name": "stdout",
     "output_type": "stream",
     "text": [
      "john in words? False\n",
      "ham in words? True\n"
     ]
    }
   ],
   "source": [
    "words_dl5: DoublyLinkedList05 = DoublyLinkedList05()\n",
    "# Append Operations\n",
    "words_dl5.append(\"egg\")\n",
    "words_dl5.append(\"ham\")\n",
    "words_dl5.append(\"spam\")\n",
    "# Searching\n",
    "print(\"john in words?\", words_dl5.contains(\"john\"))\n",
    "print(\"ham in words?\", words_dl5.contains(\"ham\"))\n"
   ]
  },
  {
   "attachments": {},
   "cell_type": "markdown",
   "metadata": {},
   "source": [
    "#### <a id='toc5_2_7_'></a>Clearing a List [&#8593;](#toc0_)\n"
   ]
  },
  {
   "attachments": {},
   "cell_type": "markdown",
   "metadata": {},
   "source": [
    "-   Also similar to the one in `SinglyLinkedList`\n"
   ]
  },
  {
   "cell_type": "code",
   "execution_count": 37,
   "metadata": {},
   "outputs": [],
   "source": [
    "from typing import Any, Generator, Optional\n",
    "\n",
    "\n",
    "class DoublyLinkedList:\n",
    "    \"\"\"An implementation of a DoublyLinkedList\"\"\"\n",
    "\n",
    "    def __init__(self) -> None:\n",
    "        \"\"\"Initialize a new DoublyLinkedList structure\"\"\"\n",
    "        # Ref to the very first node in the list\n",
    "        self.tail: Optional[NodeTwo] = None\n",
    "        # Ref to the very last node in the list\n",
    "        self.head: Optional[NodeTwo] = None\n",
    "        # Ref to the current length of the list\n",
    "        self.length: int = 0\n",
    "\n",
    "    def __len__(self) -> int:\n",
    "        \"\"\"Return the count of existing nodes\"\"\"\n",
    "        return self.length\n",
    "\n",
    "    def __str__(self) -> str:\n",
    "        \"\"\"Return a string representation of the list\"\"\"\n",
    "        return f\"DoubyLinkedList({'<->'.join([str(item) for item in self])})\"  # Will call self.__iter__()\n",
    "\n",
    "    def __repr__(self) -> str:\n",
    "        \"\"\"Return a string representation of the list\"\"\"\n",
    "        return f\"DoubyLinkedList({'<->'.join([str(item) for item in self])})\"  # Will call self.__iter__()\n",
    "\n",
    "    def __iter__(self) -> Generator[Any | None, Any, None]:\n",
    "        \"\"\"Allows calls like: for x in DoublyLinkedList\"\"\"\n",
    "        current: Optional[NodeTwo] = self.tail\n",
    "        value: Optional[Any]\n",
    "        while current:\n",
    "            value = current.data\n",
    "            current = current.next\n",
    "            yield value  # Make ls.iterate() into a generator\n",
    "\n",
    "    def append(self, data: Optional[Any]) -> None:\n",
    "        \"\"\"Append a new node to the list\"\"\"\n",
    "        # Encapsulate the data into a Node class: Default next is None\n",
    "        new_node: NodeTwo = NodeTwo(data)\n",
    "        # Check if there are already data in the list\n",
    "        if self.tail and self.head:\n",
    "            # List is not empty: Transfer the last head node's data\n",
    "            new_node.previous = self.head\n",
    "            self.head.next = new_node\n",
    "            # Make the new_node to be the head of the list\n",
    "            self.head = new_node\n",
    "            # Increase the length of the list\n",
    "            self.length += 1\n",
    "        else:\n",
    "            # The list is initially empty\n",
    "            self.head = new_node\n",
    "            self.tail = new_node\n",
    "            # Increase the length of the list\n",
    "            self.length += 1\n",
    "\n",
    "    def delete(self, data: Any) -> None:\n",
    "        \"\"\"Delete a node from the list\"\"\"\n",
    "        # Starting search from the tail (The beginning of the list)\n",
    "        current: Optional[NodeTwo] = self.tail\n",
    "        node_deleted: bool = False\n",
    "\n",
    "        if current is None:\n",
    "            # Empty list: Item to be deleted is not found in the list\n",
    "            node_deleted = False\n",
    "        elif current and current.next and current.data == data:\n",
    "            # Item to be deleted is found at beginning (tail) of list\n",
    "            self.tail = current.next\n",
    "            self.tail.previous = None\n",
    "            node_deleted = True\n",
    "        elif self.head and self.head.previous and self.head.data == data:\n",
    "            # Item to be deleted is found at the end (head) of list\n",
    "            self.head = self.head.previous\n",
    "            self.head.next = None\n",
    "            node_deleted = True\n",
    "        else:\n",
    "            # Search item to be deleted and delete that node\n",
    "            # This is currently a linear search\n",
    "            while current:\n",
    "                if current.previous and current.next and current.data == data:\n",
    "                    # Set the previous node's next to the next node\n",
    "                    current.previous.next = current.next\n",
    "                    # Set the next node's previous to the previous node\n",
    "                    current.next.previous = current.previous\n",
    "                    # Node has been deleted\n",
    "                    node_deleted = True\n",
    "                    # Break out of the loop as early as possible\n",
    "                    break\n",
    "                # If here, the node to delete was not found yet\n",
    "                # Keep looping until hitting next == None (head)\n",
    "                current = current.next\n",
    "        # If a node was delete, update the length\n",
    "        if node_deleted:\n",
    "            self.length -= 1\n",
    "            print(f'\"{data}\" has been deleted from the list')\n",
    "            return\n",
    "        # If still here, node_delete == False\n",
    "        print(f'\"{data}\" was not found in the list')\n",
    "        return\n",
    "\n",
    "    def contains(self, data: Any) -> bool:\n",
    "        \"\"\"Search if an item is contained in the list\"\"\"\n",
    "        for item in self.__iter__():  # This is currently a linear search\n",
    "            if data == item:\n",
    "                return True\n",
    "        # If here, then it is not in the list\n",
    "        return False\n",
    "\n",
    "    def clear(self) -> None:\n",
    "        \"\"\"Reset/Clear the contents of a list\"\"\"\n",
    "        self.head = None\n",
    "        self.tail = None\n",
    "        self.length = 0\n"
   ]
  },
  {
   "attachments": {},
   "cell_type": "markdown",
   "metadata": {},
   "source": [
    "### <a id='toc5_3_'></a>Circular List [&#8593;](#toc0_)\n"
   ]
  },
  {
   "attachments": {},
   "cell_type": "markdown",
   "metadata": {},
   "source": [
    "-   The endpoints are connected to each other\n",
    "-   The tail node's `next` points to the head node\n",
    "-   There is no end node, so no node will point to `None`\n",
    "-   Can be based on Singly or Doubly Linked List\n",
    "    -   If doubly-linked-list-based, the tail will point to the head and the head to the tail\n"
   ]
  },
  {
   "attachments": {},
   "cell_type": "markdown",
   "metadata": {},
   "source": [
    "**Using Singly-Linked List as Base**\n",
    "\n",
    "```\n",
    "     Node                         Node                         Node\n",
    "--------------               --------------               --------------\n",
    "| ---------- |               | ---------- |               | ---------- |\n",
    "| | data:a | |               | | data:b | |               | | data:c | |\n",
    "| ---------- |               | ---------- |               | ---------- |\n",
    "| ---------- | link:pointer  | ---------- | link:pointer  | ---------- |\n",
    "| |  next  |------------------>|  next  |------------------>|  next  |----|\n",
    "| ---------- |               | ---------- |               | ---------- |  |\n",
    "--------------               --------------               --------------  |\n",
    "       ^                                                                  |\n",
    "       |                      link:pointer                                |\n",
    "       |------------------------------------------------------------------|\n",
    "```\n"
   ]
  },
  {
   "attachments": {},
   "cell_type": "markdown",
   "metadata": {},
   "source": [
    "**Using Doubly-Linked List as Base**\n",
    "\n",
    "```\n",
    "|-----------------------------------------------------------------|\n",
    "|                            link:pointer                         |\n",
    "|      Node                        Node                    Node   V\n",
    "| --------------              --------------              --------------\n",
    "| | ---------- |              | ---------- |              | ---------- |\n",
    "| | | data:a | |              | | data:b | |              | | data:c | |\n",
    "| | ---------- |              | ---------- |              | ---------- |\n",
    "| | ---------- | link:pointer | ---------- | link:pointer | ---------- |\n",
    "| | |  next  |--------------->| |  next  |--------------->| |  next  |---|\n",
    "| | ---------- |              | ---------- |              | ---------- | |\n",
    "| | ---------- | link:pointer | ---------- | link:pointer | ---------- | |\n",
    "|---|  prev  | |<---------------|  prev  | |<---------------|  prev  | | |\n",
    "  | ---------- |              | ---------- |              | ---------- | |\n",
    "  --------------              --------------              -------------- |\n",
    "        ^                                                                |\n",
    "        |                       link:pointer                             |\n",
    "        |----------------------------------------------------------------|\n",
    "```\n"
   ]
  },
  {
   "attachments": {},
   "cell_type": "markdown",
   "metadata": {},
   "source": [
    "#### <a id='toc5_3_1_'></a>Implementation [&#8593;](#toc0_)\n"
   ]
  },
  {
   "attachments": {},
   "cell_type": "markdown",
   "metadata": {},
   "source": [
    "-   Here, we will implement using the Singly-Linked List for simplicity\n",
    "    -   But it would be the same if using Doubly-Linked-List as well\n",
    "-   It will be very similar to the Singly-Linked List so will just focus on the differences\n"
   ]
  },
  {
   "attachments": {},
   "cell_type": "markdown",
   "metadata": {},
   "source": [
    "#### <a id='toc5_3_2_'></a>The `append` Operation [&#8593;](#toc0_)\n"
   ]
  },
  {
   "attachments": {},
   "cell_type": "markdown",
   "metadata": {},
   "source": [
    "-   We just have to set the tail node's `next` to point to the head node\n",
    "-   **Here, `tail` is the last node, `head` is the first node**\n"
   ]
  },
  {
   "cell_type": "code",
   "execution_count": null,
   "metadata": {},
   "outputs": [],
   "source": [
    "def append(self, data):\n",
    "    \"\"\"Append a new node to the list\"\"\"\n",
    "    # Encapsulate the data into a Node class: Default next is None\n",
    "    new_node = Node(data)\n",
    "    # Check if there are already data in the list\n",
    "    if self.tail:\n",
    "        # Take the current tail node and set its 'next' to point to the new node\n",
    "        self.tail.next = new_node  # For the current node\n",
    "        # Then, set the new node as the new current head node\n",
    "        self.tail = new_node\n",
    "    else:\n",
    "        # There are no data in the list\n",
    "        self.head = new_node\n",
    "        self.tail = new_node\n",
    "    # Then, make it circular\n",
    "    self.tail.next = self.head\n",
    "    # Increase the length\n",
    "    self.length += 1\n"
   ]
  },
  {
   "attachments": {},
   "cell_type": "markdown",
   "metadata": {},
   "source": [
    "#### <a id='toc5_3_3_'></a>Deleting Nodes [&#8593;](#toc0_)\n"
   ]
  },
  {
   "attachments": {},
   "cell_type": "markdown",
   "metadata": {},
   "source": [
    "-   Same as in the Singly-Linked, but just make sure the `tail.next` points to the `head`\n",
    "-   However, it is possible that we could end in an infinite loop with this code if `current` never become `None`\n",
    "    -   If we delete a non-existing element, it will become an infinite loop\n",
    "    -   So we use a different way to control the while loop: Using a `prev` pointer\n",
    "        -   `prev` follows `current` but lags behind `current` by one node\n",
    "        -   When `prev` gets back to `self.head`, we have done the full circle and we can break the loop\n",
    "        -   Except at the very first iteration: `prev == current` we need to make sure it runs\n"
   ]
  },
  {
   "cell_type": "code",
   "execution_count": null,
   "metadata": {},
   "outputs": [],
   "source": [
    "def delete(self, data):\n",
    "    current = self.head\n",
    "    prev = self.head\n",
    "    # Single-Linked List: `while current:` could reach `None` but not here\n",
    "    while prev == current or prev != self.head:\n",
    "        if current.data == data:\n",
    "            if current == self.head:\n",
    "                # The element to delete is the first element\n",
    "                # Make the 2nd element to be the 1st element\n",
    "                self.head = current.next\n",
    "                # Make circular\n",
    "                self.tail.next = self.head\n",
    "            else:\n",
    "                # The element to delete is not the first element\n",
    "                # Make the next element to be the next of the preceding element\n",
    "                prev.next = current.next\n",
    "            # Decrease the length\n",
    "            self.length -= 1\n",
    "            print(f'\"{data}\" has been deleted from the list')\n",
    "            return\n",
    "        # If here, not found yet: Continue looping\n",
    "        prev = current\n",
    "        current = current.next\n",
    "    # If here, then data was not found\n",
    "    print(f'\"{data}\" was not found in the list')\n",
    "    return\n"
   ]
  },
  {
   "attachments": {},
   "cell_type": "markdown",
   "metadata": {},
   "source": [
    "#### <a id='toc5_3_4_'></a>List Traversal [&#8593;](#toc0_)\n"
   ]
  },
  {
   "attachments": {},
   "cell_type": "markdown",
   "metadata": {},
   "source": [
    "-   We don't need to look for a starting point\n",
    "-   Start anywhere, but make sure to break when reaching the same start point again\n",
    "-   We can use the same `iter` method, but just need an exit condition to add to avoid infinite loop\n",
    "-   We can exit when we have reached the length of the list\n",
    "-   Remember that the `length` keeps track of the count of elements in the list\n"
   ]
  },
  {
   "cell_type": "code",
   "execution_count": null,
   "metadata": {},
   "outputs": [],
   "source": [
    "def __iter__(self):\n",
    "    current = self.head\n",
    "    i = 0\n",
    "    while i < self.length:\n",
    "        value = current.data\n",
    "        current = current.next\n",
    "        i += 1\n",
    "        yield value  # Make ls.iterate() into a generator\n"
   ]
  },
  {
   "attachments": {},
   "cell_type": "markdown",
   "metadata": {},
   "source": [
    "#### <a id='toc5_3_5_'></a>Final Class [&#8593;](#toc0_)\n"
   ]
  },
  {
   "attachments": {},
   "cell_type": "markdown",
   "metadata": {},
   "source": [
    "This is making use of the `Node` class earlier\n"
   ]
  },
  {
   "cell_type": "code",
   "execution_count": null,
   "metadata": {},
   "outputs": [],
   "source": [
    "class CircularLinkedList:\n",
    "    \"\"\"An implementation of a CircularLinkedList\"\"\"\n",
    "\n",
    "    def __init__(self):\n",
    "        self.tail = None  # Ref to the very first node in the list\n",
    "        self.head = None  # Ref to the very last node in the list\n",
    "        self.length = 0  # Ref to the current length of the list\n",
    "\n",
    "    def __str__(self):\n",
    "        \"\"\"Return a string representation of the list\"\"\"\n",
    "        return f\"CircularLinkedList({'->'.join([item for item in self])})\"  # Will call self.__iter__()\n",
    "\n",
    "    def __repr__(self):\n",
    "        \"\"\"Return a string representation of the list\"\"\"\n",
    "        return f\"CircularLinkedList({'->'.join([item for item in self])})\"  # Will call self.__iter__()\n",
    "\n",
    "    def __len__(self):\n",
    "        return self.length\n",
    "\n",
    "    def __iter__(self):\n",
    "        current = self.head\n",
    "        i = 0\n",
    "        while i < self.length:\n",
    "            value = current.data\n",
    "            current = current.next\n",
    "            i += 1\n",
    "            yield value  # Make ls.iterate() into a generator\n",
    "\n",
    "    def append(self, data):\n",
    "        \"\"\"Append a new node to the list\"\"\"\n",
    "        # Encapsulate the data into a Node class: Default next is None\n",
    "        new_node = Node(data)\n",
    "        # Check if there are already data in the list\n",
    "        if self.tail:\n",
    "            # Take the current tail node and set its 'next' to point to the new node\n",
    "            self.tail.next = new_node  # For the current node\n",
    "            # Then, set the new node as the new current head node\n",
    "            self.tail = new_node\n",
    "        else:\n",
    "            # There are no data in the list\n",
    "            self.head = new_node\n",
    "            self.tail = new_node\n",
    "        # Then, make it circular\n",
    "        self.tail.next = self.head\n",
    "        # Increase the length\n",
    "        self.length += 1\n",
    "\n",
    "    def delete(self, data):\n",
    "        current = self.head\n",
    "        prev = self.head\n",
    "        # Single-Linked List: `while current:` could reach `None` but not here\n",
    "        while prev == current or prev != self.tail:\n",
    "            if current.data == data:\n",
    "                if current == self.head:\n",
    "                    # The element to delete is the first element\n",
    "                    # Make the 2nd element to be the 1st element\n",
    "                    self.head = current.next\n",
    "                    # Make circular\n",
    "                    self.tail.next = self.head\n",
    "                else:\n",
    "                    # The element to delete is not the first element\n",
    "                    # Make the next element to be the next of the preceding element\n",
    "                    prev.next = current.next\n",
    "                # Decrease the length\n",
    "                self.length -= 1\n",
    "                print(f'\"{data}\" has been deleted from the list')\n",
    "                return\n",
    "            # If here, not found yet: Continue looping\n",
    "            prev = current\n",
    "            current = current.next\n",
    "        # If here, then data was not found\n",
    "        print(f'\"{data}\" was not found in the list')\n",
    "        return\n",
    "\n",
    "    def contains(self, data):\n",
    "        for node in self.__iter__():\n",
    "            if data == node:\n",
    "                return True\n",
    "        return False\n",
    "\n",
    "    def clear(self):\n",
    "        self.tail = None\n",
    "        self.head = None\n",
    "        self.length = 0\n"
   ]
  },
  {
   "attachments": {},
   "cell_type": "markdown",
   "metadata": {},
   "source": [
    "-   Testing as a rotating slide on a website\n"
   ]
  },
  {
   "cell_type": "code",
   "execution_count": null,
   "metadata": {},
   "outputs": [],
   "source": [
    "rotating_slides = CircularLinkedList()\n",
    "print(rotating_slides)\n"
   ]
  },
  {
   "cell_type": "code",
   "execution_count": null,
   "metadata": {},
   "outputs": [],
   "source": [
    "print(\"Count of slides:\", len(rotating_slides))\n"
   ]
  },
  {
   "cell_type": "code",
   "execution_count": null,
   "metadata": {},
   "outputs": [],
   "source": [
    "rotating_slides.append(\"Slide 1\")\n",
    "rotating_slides.append(\"Slide 2\")\n",
    "rotating_slides.append(\"Slide 3\")\n",
    "rotating_slides.append(\"Slide 4\")\n",
    "rotating_slides.append(\"Slide 5\")\n"
   ]
  },
  {
   "cell_type": "code",
   "execution_count": null,
   "metadata": {},
   "outputs": [],
   "source": [
    "for slide in rotating_slides:\n",
    "    print(slide)\n"
   ]
  },
  {
   "cell_type": "code",
   "execution_count": null,
   "metadata": {},
   "outputs": [],
   "source": [
    "print(rotating_slides.contains(\"Slide 100\"))\n",
    "print(rotating_slides.contains(\"Slide 3\"))\n"
   ]
  },
  {
   "cell_type": "code",
   "execution_count": null,
   "metadata": {},
   "outputs": [],
   "source": [
    "rotating_slides.delete(\"Slide 3\")\n",
    "print(rotating_slides)\n"
   ]
  },
  {
   "cell_type": "code",
   "execution_count": null,
   "metadata": {},
   "outputs": [],
   "source": [
    "rotating_slides.delete(\"Slide 3\")\n",
    "print(rotating_slides)\n"
   ]
  },
  {
   "cell_type": "code",
   "execution_count": null,
   "metadata": {},
   "outputs": [],
   "source": [
    "rotating_slides.clear()\n",
    "print(rotating_slides)\n"
   ]
  }
 ],
 "metadata": {
  "hide_input": false,
  "kernelspec": {
   "display_name": "Python 3 (ipykernel)",
   "language": "python",
   "name": "python3"
  },
  "language_info": {
   "codemirror_mode": {
    "name": "ipython",
    "version": 3
   },
   "file_extension": ".py",
   "mimetype": "text/x-python",
   "name": "python",
   "nbconvert_exporter": "python",
   "pygments_lexer": "ipython3",
   "version": "3.11.3"
  },
  "toc": {
   "base_numbering": 1,
   "nav_menu": {},
   "number_sections": true,
   "sideBar": true,
   "skip_h1_title": true,
   "title_cell": "Table of Contents",
   "title_sidebar": "Contents",
   "toc_cell": true,
   "toc_position": {
    "height": "398px",
    "left": "474px",
    "top": "110px",
    "width": "256px"
   },
   "toc_section_display": true,
   "toc_window_display": true
  },
  "varInspector": {
   "cols": {
    "lenName": 16,
    "lenType": 16,
    "lenVar": 40
   },
   "kernels_config": {
    "python": {
     "delete_cmd_postfix": "",
     "delete_cmd_prefix": "del ",
     "library": "var_list.py",
     "varRefreshCmd": "print(var_dic_list())"
    },
    "r": {
     "delete_cmd_postfix": ") ",
     "delete_cmd_prefix": "rm(",
     "library": "var_list.r",
     "varRefreshCmd": "cat(var_dic_list()) "
    }
   },
   "types_to_exclude": [
    "module",
    "function",
    "builtin_function_or_method",
    "instance",
    "_Feature"
   ],
   "window_display": false
  }
 },
 "nbformat": 4,
 "nbformat_minor": 4
}
