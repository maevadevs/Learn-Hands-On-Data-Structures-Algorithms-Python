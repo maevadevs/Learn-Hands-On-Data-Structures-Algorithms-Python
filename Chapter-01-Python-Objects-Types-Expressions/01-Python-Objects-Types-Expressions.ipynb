{
 "cells": [
  {
   "attachments": {},
   "cell_type": "markdown",
   "metadata": {},
   "source": [
    "# Python Objects, Types, and Expressions\n"
   ]
  },
  {
   "attachments": {},
   "cell_type": "markdown",
   "metadata": {},
   "source": [
    "---\n"
   ]
  },
  {
   "attachments": {},
   "cell_type": "markdown",
   "metadata": {},
   "source": [
    "**Table of contents**<a id='toc0_'></a>\n",
    "\n",
    "-   [Chapter Goals](#toc1_)\n",
    "-   [Checking Python Version](#toc2_)\n",
    "-   [Installing Python on Linux](#toc3_)\n",
    "-   [Installing Python on Windows](#toc4_)\n",
    "-   [Understanding Data Structure and Algorithm](#toc5_)\n",
    "    -   [What Tools Do We Need For This?](#toc5_1_)\n",
    "    -   [Python for Data](#toc5_2_)\n",
    "    -   [Python Environment](#toc5_3_)\n",
    "-   [Variables and Expressions](#toc6_)\n",
    "    -   [Variable Scope - LEGB](#toc6_1_)\n",
    "-   [Flow Control and Iterations](#toc7_)\n",
    "-   [Data Types and Objects](#toc8_)\n",
    "    -   [Strings](#toc8_1_)\n",
    "        -   [String Methods](#toc8_1_1_)\n",
    "    -   [Lists](#toc8_2_)\n",
    "        -   [List Methods](#toc8_2_1_)\n",
    "        -   [List Comprehension](#toc8_2_2_)\n",
    "    -   [Functions](#toc8_3_)\n",
    "        -   [High Order Functions](#toc8_3_1_)\n",
    "        -   [Recursive Functions](#toc8_3_2_)\n",
    "-   [Generators and Coroutines](#toc9_)\n",
    "    -   [Advantage of Generator vs List](#toc9_1_)\n",
    "    -   [Generator Expression](#toc9_2_)\n",
    "-   [Classes and Objects](#toc10_)\n",
    "    -   [Creating New Instances of a Class](#toc10_1_)\n",
    "    -   [Special Methods](#toc10_2_)\n",
    "-   [Inheritance](#toc11_)\n",
    "    -   [Static Method vs Class Method vs Instance Method](#toc11_1_)\n",
    "-   [Data Encapsulation and Properties](#toc12_)\n",
    "\n",
    "<!-- vscode-jupyter-toc-config\n",
    "\tnumbering=false\n",
    "\tanchor=true\n",
    "\tflat=false\n",
    "\tminLevel=2\n",
    "\tmaxLevel=6\n",
    "\t/vscode-jupyter-toc-config -->\n",
    "<!-- THIS CELL WILL BE REPLACED ON TOC UPDATE. DO NOT WRITE YOUR TEXT IN THIS CELL -->\n"
   ]
  },
  {
   "attachments": {},
   "cell_type": "markdown",
   "metadata": {},
   "source": [
    "---\n"
   ]
  },
  {
   "attachments": {},
   "cell_type": "markdown",
   "metadata": {},
   "source": [
    "-   Core elements and main building blocks of a software project\n",
    "    -   **Algorithm** - Using data efficiently\n",
    "    -   **Data Structure** - Storing and organizing data efficiently\n",
    "-   Python\n",
    "    -   Efficient high-level data structures\n",
    "    -   Fully-featured Object-Oriented programming language\n",
    "    -   Language of choice for data-related tasks\n",
    "    -   Easy-to-learn advanced programming language\n",
    "    -   Intuitive structures and semantics\n",
    "    -   Straightforward way to perform a wide variety of data tasks\n",
    "    -   Many useful built-in Algorithms and Data Structures\n",
    "    -   Easy to create custom objects\n"
   ]
  },
  {
   "attachments": {},
   "cell_type": "markdown",
   "metadata": {},
   "source": [
    "## <a id='toc1_'></a>Chapter Goals [&#8593;](#toc0_)\n"
   ]
  },
  {
   "attachments": {},
   "cell_type": "markdown",
   "metadata": {},
   "source": [
    "-   Obtain a general working knowledge of data structures and algorithms\n",
    "-   Understand core data types and their functions\n",
    "-   Explore the object-oriented aspects of the Python programming language\n"
   ]
  },
  {
   "attachments": {},
   "cell_type": "markdown",
   "metadata": {},
   "source": [
    "## <a id='toc2_'></a>Checking Python Version [&#8593;](#toc0_)\n"
   ]
  },
  {
   "cell_type": "code",
   "execution_count": 1,
   "metadata": {},
   "outputs": [
    {
     "name": "stdout",
     "output_type": "stream",
     "text": [
      "Python Version: 3.11.3 | packaged by Anaconda, Inc. | (main, Apr 19 2023, 23:46:34) [MSC v.1916 64 bit (AMD64)]\n"
     ]
    }
   ],
   "source": [
    "from sys import version\n",
    "\n",
    "print(f\"Python Version: {version}\")\n"
   ]
  },
  {
   "attachments": {},
   "cell_type": "markdown",
   "metadata": {},
   "source": [
    "-   We can also check it from a shell using this command\n",
    "\n",
    "```sh\n",
    "python --version\n",
    "```\n"
   ]
  },
  {
   "attachments": {},
   "cell_type": "markdown",
   "metadata": {},
   "source": [
    "## <a id='toc3_'></a>Installing Python on Linux [&#8593;](#toc0_)\n"
   ]
  },
  {
   "attachments": {},
   "cell_type": "markdown",
   "metadata": {},
   "source": [
    "```sh\n",
    "sudo apt-get update\n",
    "sudo apt-get install -y python3-pip\n",
    "pip3 install <package_name>\n",
    "```\n",
    "\n",
    "-   Or install using [Miniconda](https://docs.conda.io/en/latest/miniconda.html) as a Version Manager\n",
    "-   Or install using a [Docker Image](https://docs.docker.com/language/python/build-images/)\n"
   ]
  },
  {
   "attachments": {},
   "cell_type": "markdown",
   "metadata": {},
   "source": [
    "## <a id='toc4_'></a>Installing Python on Windows [&#8593;](#toc0_)\n"
   ]
  },
  {
   "attachments": {},
   "cell_type": "markdown",
   "metadata": {},
   "source": [
    "-   Download the installer from [python.org](https://www.python.org/downloads/)\n",
    "-   Or install using [Miniconda](https://docs.conda.io/en/latest/miniconda.html) as a Version Manager\n",
    "-   Or install using a [Docker Image](https://docs.docker.com/language/python/build-images/)\n"
   ]
  },
  {
   "attachments": {},
   "cell_type": "markdown",
   "metadata": {},
   "source": [
    "## <a id='toc5_'></a>Understanding Data Structure and Algorithm [&#8593;](#toc0_)\n"
   ]
  },
  {
   "attachments": {},
   "cell_type": "markdown",
   "metadata": {},
   "source": [
    "-   Algorithm and Data Structure\n",
    "    -   Most fundamental concepts in computing\n",
    "    -   Main building blocks from which complex software is built\n",
    "-   Questions that we need to understand\n",
    "    -   _How do algorithms manipulate information contained within data structures?_\n",
    "    -   _How is data arranged in memory?_\n",
    "    -   _What are the performance characteristics of particular data structures?_\n"
   ]
  },
  {
   "attachments": {},
   "cell_type": "markdown",
   "metadata": {},
   "source": [
    "### <a id='toc5_1_'></a>What Tools Do We Need For This? [&#8593;](#toc0_)\n"
   ]
  },
  {
   "attachments": {},
   "cell_type": "markdown",
   "metadata": {},
   "source": [
    "-   Fundamentals of the Python programming language\n",
    "-   Mathematical tools\n",
    "-   Evaluation\n",
    "    -   How increase in data size affects operation efficiency\n",
    "    -   Working on large datasets/real-time applications\n",
    "    -   Need to be as efficient as possible\n",
    "-   Strong experimental design strategy\n",
    "    -   Conceptually translate a real-world problem\n",
    "    -   Convert into the appropriate algorithms and data structures\n",
    "    -   Understand the important elements of a problem\n",
    "    -   Understand a methodology for mapping these elements to programming structures\n",
    "-   **Conditions determine the most appropriate solution**\n",
    "    -   Not all problems are handled the same way\n",
    "    -   The order in which we search through items\n",
    "    -   The shape of the data structures\n"
   ]
  },
  {
   "attachments": {},
   "cell_type": "markdown",
   "metadata": {},
   "source": [
    "### <a id='toc5_2_'></a>Python for Data [&#8593;](#toc0_)\n"
   ]
  },
  {
   "attachments": {},
   "cell_type": "markdown",
   "metadata": {},
   "source": [
    "-   Python has 4 main built-in data structures\n",
    "    -   List\n",
    "    -   Dictionary\n",
    "    -   Set\n",
    "    -   Tuple\n",
    "-   Additional internal libraries of classes: `collections`, `math`...\n",
    "    -   Allow to create more advanced structures\n",
    "    -   Allow to perform calculations on structures\n",
    "-   Additional external libraries of classes: `SciPy`, `NumPy`\n",
    "    -   Allow to perform a range of advanced tasks\n",
    "    -   Many useful out-of-box solutions\n",
    "    -   Often a performance penalty in using external libraries\n",
    "        -   Compared to building customized objects from the start\n",
    "        -   By coding them ourselves, we can be more specific on the target goals\n",
    "        -   However, this is not to exclude the role of external libraries\n"
   ]
  },
  {
   "attachments": {},
   "cell_type": "markdown",
   "metadata": {},
   "source": [
    "### <a id='toc5_3_'></a>Python Environment [&#8593;](#toc0_)\n"
   ]
  },
  {
   "attachments": {},
   "cell_type": "markdown",
   "metadata": {},
   "source": [
    "-   Popular for _Readability_ and _Versatility_\n",
    "-   Python interactive Console: _Read, Evaluate, Print, Loop_ (REPL)\n",
    "    -   Convenient for evaluations\n",
    "    -   Not the same as Compiled Languages: _Write, Compile, Test, Recompile_\n",
    "    -   Less development time\n",
    "    -   Increased productivity\n",
    "\n",
    "| Python Distribution | Details                                     |\n",
    "| :------------------ | :------------------------------------------ |\n",
    "| CPython             | Written in C, Default Python implementation |\n",
    "| Cython              | CPython Extensions                          |\n",
    "| Anaconda            | CPython + Module Version Manager            |\n",
    "| Jython              | Python for Java                             |\n",
    "| Brython             | Python for Web Browsers                     |\n",
    "| IronPython          | Python for .NET                             |\n",
    "| RPython             | Restricted Python for PyPy, Python with JIT |\n",
    "| MicroPython         | Python for Microcontrollers                 |\n",
    "\n",
    "-   Some distributions come with their own developer environments\n",
    "    -   Libraries for scientific, machine learning, data applications\n",
    "    -   Most distributions come with an editor\n"
   ]
  },
  {
   "attachments": {},
   "cell_type": "markdown",
   "metadata": {},
   "source": [
    "## <a id='toc6_'></a>Variables and Expressions [&#8593;](#toc0_)\n"
   ]
  },
  {
   "attachments": {},
   "cell_type": "markdown",
   "metadata": {},
   "source": [
    "-   Variables are not objects nor containers for objects\n",
    "    -   Labels attached to objects\n",
    "-   They only **act as a pointer or a reference to the object stored in memory**\n"
   ]
  },
  {
   "cell_type": "code",
   "execution_count": 2,
   "metadata": {},
   "outputs": [
    {
     "name": "stdout",
     "output_type": "stream",
     "text": [
      "b: [1, 2, 3, 4]\n",
      "a: [1, 2, 3, 4]\n"
     ]
    }
   ],
   "source": [
    "# \"a\" is a pointer to a value in memory\n",
    "a: list[int] = [1, 2, 3]\n",
    "# \"b\" is an alias of \"a\": Both pointers point to the same value in memory\n",
    "b: list[int] = a\n",
    "# Changing \"b\" also changes \"a\" because they point to the same value in memory\n",
    "b.append(4)\n",
    "\n",
    "print(f\"b: {b}\")\n",
    "print(f\"a: {a}\")\n"
   ]
  },
  {
   "attachments": {},
   "cell_type": "markdown",
   "metadata": {},
   "source": [
    "-   `a` and `b` are pointing to the same object in memory (aliases)\n",
    "    -   A change in `a` results in a change in `b`\n",
    "    -   A change in `b` results in a change in `a`\n",
    "-   **Variables in Python are dynamically-typed**\n",
    "    -   Each _value_ has a type, like a string or integer\n",
    "    -   However, the variable name (pointer) that points to this value does not have a specific type\n",
    "    -   **Variables point to an object that can change their type depending on the kind of values assigned to them**\n"
   ]
  },
  {
   "cell_type": "code",
   "execution_count": 3,
   "metadata": {},
   "outputs": [
    {
     "name": "stdout",
     "output_type": "stream",
     "text": [
      "type(a): <class 'int'>\n",
      "type(a): <class 'float'>\n"
     ]
    }
   ],
   "source": [
    "from typing import Any\n",
    "\n",
    "num: Any = 1\n",
    "print(f\"type(a): {type(num)}\")\n",
    "\n",
    "num += 0.1\n",
    "# The type of \"a\" changed based on the value it contains\n",
    "print(f\"type(a): {type(num)}\")\n"
   ]
  },
  {
   "attachments": {},
   "cell_type": "markdown",
   "metadata": {},
   "source": [
    "### <a id='toc6_1_'></a>Variable Scope - LEGB [&#8593;](#toc0_)\n"
   ]
  },
  {
   "attachments": {},
   "cell_type": "markdown",
   "metadata": {},
   "source": [
    "-   Python uses a function-scope\n",
    "    -   Whenever a function executes, a local environment (namespace) is created for that function\n",
    "    -   Contains all variables and parameters\n",
    "-   Whenever a function is called:\n",
    "    -   First: Looks in the `local` namespace that is the function itself\n",
    "    -   If no match: Looks in the `enclosing` function if any (closure)\n",
    "    -   If no match: Looks in the `global` namespace\n",
    "    -   If no match: Looks in the `built-in` namespace\n",
    "    -   If no match: Raise a `NameError` exception\n",
    "-   Using the keyword `global` inside the function, we explicitly refer to a `global` variable\n"
   ]
  },
  {
   "cell_type": "code",
   "execution_count": 4,
   "metadata": {},
   "outputs": [
    {
     "name": "stdout",
     "output_type": "stream",
     "text": [
      "Before calling any function:\n",
      "Global num_1: 15\n",
      "Global num_2: 25\n",
      "After calling my_first_function():\n",
      "Global num_1: 15\n",
      "Global num_2: 25\n",
      "After calling my_second_function():\n",
      "Global num_1: 11\n",
      "Global num_2: 25\n"
     ]
    }
   ],
   "source": [
    "# Globals\n",
    "num_1: int = 15\n",
    "num_2: int = 25\n",
    "\n",
    "\n",
    "def my_first_function() -> int:\n",
    "    # Local variables\n",
    "    num_1: int = 11\n",
    "    num_2: int = 21\n",
    "    return num_1 + num_2\n",
    "\n",
    "\n",
    "def my_second_function() -> int:\n",
    "    # Bring global a into the function's scope\n",
    "    global num_1\n",
    "    num_1 = 11  # Now global num_1 is 11\n",
    "    num_2: int = 21  # This is local variable\n",
    "    return num_1 + num_2\n",
    "\n",
    "\n",
    "print(\"Before calling any function:\")\n",
    "print(\"Global num_1:\", num_1)\n",
    "print(\"Global num_2:\", num_2)\n",
    "\n",
    "my_first_function()\n",
    "\n",
    "print(\"After calling my_first_function():\")\n",
    "print(\"Global num_1:\", num_1)\n",
    "print(\"Global num_2:\", num_2)\n",
    "\n",
    "my_second_function()\n",
    "\n",
    "print(\"After calling my_second_function():\")\n",
    "print(\"Global num_1:\", num_1)\n",
    "print(\"Global num_2:\", num_2)\n"
   ]
  },
  {
   "attachments": {},
   "cell_type": "markdown",
   "metadata": {},
   "source": [
    "-   **Assignment to a variable in a scope makes that variable a local variable to that scope**\n"
   ]
  },
  {
   "cell_type": "code",
   "execution_count": 5,
   "metadata": {},
   "outputs": [
    {
     "name": "stdout",
     "output_type": "stream",
     "text": [
      "1\n"
     ]
    }
   ],
   "source": [
    "# This is the global variable\n",
    "my_int: int = 10\n",
    "\n",
    "\n",
    "def my_function() -> None:\n",
    "    my_int: int = 1  # Without this line, \"my_int\" would point to global \"my_int\"\n",
    "    print(my_int)\n",
    "\n",
    "\n",
    "my_function()\n"
   ]
  },
  {
   "attachments": {},
   "cell_type": "markdown",
   "metadata": {},
   "source": [
    "-   Accessing the variable as `global` would work in this case\n",
    "    -   It is always better to be specific: _Explict is better than implicit_\n"
   ]
  },
  {
   "cell_type": "code",
   "execution_count": 6,
   "metadata": {},
   "outputs": [
    {
     "name": "stdout",
     "output_type": "stream",
     "text": [
      "10\n"
     ]
    }
   ],
   "source": [
    "# This is the global variable\n",
    "my_int = 10\n",
    "\n",
    "\n",
    "def my_function2() -> None:\n",
    "    global my_int\n",
    "    print(my_int)\n",
    "    my_int += 1\n",
    "\n",
    "\n",
    "# This no longer throw an exception\n",
    "my_function2()\n"
   ]
  },
  {
   "attachments": {},
   "cell_type": "markdown",
   "metadata": {},
   "source": [
    "-   But if a local variable does not exist, the global variable is looked at next\n",
    "-   This is because of the LEGB rule\n"
   ]
  },
  {
   "cell_type": "code",
   "execution_count": 7,
   "metadata": {},
   "outputs": [
    {
     "name": "stdout",
     "output_type": "stream",
     "text": [
      "20\n"
     ]
    }
   ],
   "source": [
    "# This is the global variable\n",
    "my_int = 20\n",
    "\n",
    "\n",
    "def my_function3() -> None:\n",
    "    print(my_int)\n",
    "\n",
    "\n",
    "my_function3()\n"
   ]
  },
  {
   "attachments": {},
   "cell_type": "markdown",
   "metadata": {},
   "source": [
    "**Summary:**\n",
    "\n",
    "-   In Python, the variables that are referenced inside a function are global implicitly\n",
    "-   If a variable is **assigned** a value anywhere inside the function's body, it is assumed to be a local variable unless explicitly declared as `global`\n"
   ]
  },
  {
   "attachments": {},
   "cell_type": "markdown",
   "metadata": {},
   "source": [
    "## <a id='toc7_'></a>Flow Control and Iterations [&#8593;](#toc0_)\n"
   ]
  },
  {
   "attachments": {},
   "cell_type": "markdown",
   "metadata": {},
   "source": [
    "-   The interpreter executes each statement in order until there are no more statements\n",
    "    -   **All statements have equal status**\n",
    "    -   **There are no priorities between statements, main or `import`**\n",
    "-   Every statement can be placed anywhere in the program\n",
    "-   There are 2 ways to control the flow of execution (forking):\n",
    "    -   Conditionals: `if`, `elif`, `else`, `match` (v3.10+)\n",
    "    -   Loops: `for`, `while`\n"
   ]
  },
  {
   "cell_type": "code",
   "execution_count": 8,
   "metadata": {},
   "outputs": [
    {
     "name": "stdout",
     "output_type": "stream",
     "text": [
      "Something else\n"
     ]
    }
   ],
   "source": [
    "# Conditional in Python\n",
    "condition: str = \"one\"\n",
    "\n",
    "if condition == 0:\n",
    "    print(\"False\")\n",
    "elif condition == 1:\n",
    "    print(\"True\")\n",
    "else:\n",
    "    print(\"Something else\")\n"
   ]
  },
  {
   "cell_type": "code",
   "execution_count": 9,
   "metadata": {},
   "outputs": [
    {
     "name": "stdout",
     "output_type": "stream",
     "text": [
      "0 1 2 3 4 5 6 7 8 9 "
     ]
    }
   ],
   "source": [
    "# For-Loop in Python\n",
    "for num in range(10):\n",
    "    print(num, end=\" \")\n"
   ]
  },
  {
   "cell_type": "code",
   "execution_count": 10,
   "metadata": {},
   "outputs": [
    {
     "name": "stdout",
     "output_type": "stream",
     "text": [
      "0 1 2 3 4 5 6 7 8 9 "
     ]
    }
   ],
   "source": [
    "# While loop in Python\n",
    "number: int = 0\n",
    "while number < 10:\n",
    "    print(number, end=\" \")\n",
    "    number += 1\n"
   ]
  },
  {
   "attachments": {},
   "cell_type": "markdown",
   "metadata": {},
   "source": [
    "-   Python does not have a `do-while` loop\n",
    "-   But we can simulate it with a `while True` with `break`\n"
   ]
  },
  {
   "cell_type": "code",
   "execution_count": 11,
   "metadata": {},
   "outputs": [
    {
     "name": "stdout",
     "output_type": "stream",
     "text": [
      "Not good. Try again!\n",
      "Correct! Please proceed!\n"
     ]
    }
   ],
   "source": [
    "secret_word: str = \"python\"\n",
    "counter: int = 0\n",
    "\n",
    "while True:\n",
    "    word: str = input(\"Enter the secret word: \").lower()\n",
    "    counter += 1\n",
    "\n",
    "    if word == secret_word:\n",
    "        print(\"Correct! Please proceed!\")\n",
    "        break\n",
    "\n",
    "    if word != secret_word and counter > 7:\n",
    "        print(\"Too many tries. Goodbye!\")\n",
    "        break\n",
    "\n",
    "    # If here, need to try again\n",
    "    print(\"Not good. Try again!\")\n"
   ]
  },
  {
   "attachments": {},
   "cell_type": "markdown",
   "metadata": {},
   "source": [
    "## <a id='toc8_'></a>Data Types and Objects [&#8593;](#toc0_)\n"
   ]
  },
  {
   "attachments": {},
   "cell_type": "markdown",
   "metadata": {},
   "source": [
    "-   Built-in data types (15)\n",
    "    -   **Numeric Types** (4):\n",
    "        -   `int`\n",
    "        -   `float`\n",
    "        -   `complex`\n",
    "        -   `bool`\n",
    "    -   **Sequence Types** (4):\n",
    "        -   `str`\n",
    "        -   `list`\n",
    "        -   `tuple`\n",
    "        -   `range`\n",
    "    -   **Mapping Type** (1):\n",
    "        -   `dict`\n",
    "    -   **Set Types** (2):\n",
    "        -   `set`\n",
    "        -   `frozenset`\n",
    "    -   **Binary** (3):\n",
    "        -   `bytes`\n",
    "        -   `bytearray`\n",
    "        -   `memoryview`\n",
    "    -   **NoneType** (1):\n",
    "        -   `None`\n",
    "-   User-Defined Objects\n",
    "    -   Function\n",
    "    -   Class\n",
    "-   **All data types in Python are Objects even the _Primitives_**\n",
    "    -   Each object has `type`, `value`, and `identity`\n",
    "    -   `identity` is a pointer to the object's location in memory\n",
    "        -   We can get it with the built-in function `id()`\n",
    "        -   But do not rely on it in your programs\n",
    "        -   In practice, the `identity` can be thought of as the variable name holding the data\n",
    "    -   **Once an instance of an object is created, its identity and type cannot be changed**\n"
   ]
  },
  {
   "cell_type": "code",
   "execution_count": 12,
   "metadata": {},
   "outputs": [
    {
     "name": "stdout",
     "output_type": "stream",
     "text": [
      "<class 'str'>\n",
      "Hello World!\n",
      "2302647343600\n"
     ]
    }
   ],
   "source": [
    "greeting: str = \"Hello World!\"\n",
    "print(type(greeting))\n",
    "print(greeting)\n",
    "print(id(greeting))\n"
   ]
  },
  {
   "attachments": {},
   "cell_type": "markdown",
   "metadata": {},
   "source": [
    "-   Type: `<class 'str'>`\n",
    "-   Value: `\"Hello World!\"`\n",
    "-   Identity: Location in Memory (In theory): `2184436875056`\n",
    "-   `type()`\n",
    "    -   Get the type of an object\n",
    "-   `id()`\n",
    "    -   Get the id of an object: Location in memory in theory\n",
    "    -   But do not rely on this in your codes\n",
    "    -   In practice, just use the variable name\n",
    "-   Comparing objects:\n",
    "    -   `if a == b`\n",
    "        -   `a` and `b` have the same value\n",
    "    -   `if a is b`\n",
    "        -   `a` and `b` are the same object\n",
    "        -   Same memory pointer\n",
    "        -   Same as `id(a) == id(b)`\n",
    "    -   `if type(a) is type(b)`\n",
    "        -   `a` and `b` are of the same type\n",
    "-   **Mutable**\n",
    "    -   Mutable objects can have their values changed\n",
    "    -   They have methods that change an object's value\n",
    "    -   E.g. List, Objects\n",
    "-   **Immutable**\n",
    "    -   Immutable objects cannot have their values changed\n",
    "    -   When we run their methods, they simply return a value rather than change the value of an underlying object\n",
    "    -   E.g. String, Numbers\n"
   ]
  },
  {
   "attachments": {},
   "cell_type": "markdown",
   "metadata": {},
   "source": [
    "### <a id='toc8_1_'></a>Strings [&#8593;](#toc0_)\n"
   ]
  },
  {
   "attachments": {},
   "cell_type": "markdown",
   "metadata": {},
   "source": [
    "-   Immutable sequence object\n",
    "-   Each character is an element of the sequence\n",
    "-   Supports indexing and slicing\n",
    "    -   We can use any expression, variable, or operator as an index as long as the value is an integer\n",
    "-   We use methods to perform operations\n",
    "-   **Python never implicitly interprets the contents of a string as a number**\n",
    "    -   **If we need to perform mathematical operations on a string, we need to first convert them to a numeric type explicitly**\n",
    "-   We can also traverse a string with a loop using `enumerate()`\n",
    "-   Since strings are immutable, the only way to change the value of a string is to generate a brand new string with the new value (and discarding the old string if we don't need it anymore)\n"
   ]
  },
  {
   "attachments": {},
   "cell_type": "markdown",
   "metadata": {},
   "source": [
    "#### <a id='toc8_1_1_'></a>String Methods [&#8593;](#toc0_)\n"
   ]
  },
  {
   "attachments": {},
   "cell_type": "markdown",
   "metadata": {},
   "source": [
    "-   This is a non-exhaustive list of string methods\n",
    "\n",
    "| Method                                      | Description                                                                               |\n",
    "| :------------------------------------------ | :---------------------------------------------------------------------------------------- |\n",
    "| `str.capitalize()`                          | Capitalize the first letter                                                               |\n",
    "| `str.lower()`                               | Convert string to all lowercase                                                           |\n",
    "| `str.upper()`                               | Convert string to all uppercase                                                           |\n",
    "| `str.swapcase()`                            | Returns a copy of the string with swapped case in the string                              |\n",
    "| `str.count(substring, [start, end])`        | Count occurence of substring in the string                                                |\n",
    "| `str.find(substring, [start, end])`         | Return the first occurence of substring in the string                                     |\n",
    "| `str.endswith(substring, [start, end])`     | `True` if ending with substring, `False` otherwise                                        |\n",
    "| `str.startswith(substring, [start, end])`   | `True` if the string starts with a specified substring, `False` otherwise                 |\n",
    "| `str.replace(substring, new, [maxreplace])` | Replaces substring with a new substring                                                   |\n",
    "| `str.expandtabs([tabsize])`                 | Replace tabs with spaces                                                                  |\n",
    "| `str.isalnum()`                             | `True` if all characters are alphanumeric, `False` otherwise                              |\n",
    "| `str.isalpha()`                             | `True` if all characters are alphabetic, `False` otherwise                                |\n",
    "| `str.isdigit()`                             | `True` if all characters are digit, `False` otherwise                                     |\n",
    "| `str.split([sep],[maxsplit])`               | Splits a string at whitespace or an optional separator and returns a list                 |\n",
    "| `str.join(seq)`                             | Joins the strings in sequence `seq`                                                       |\n",
    "| `str.strip([chars])`                        | Returns a copy of the string with surrounding characters removed (whitespace by default)  |\n",
    "| `str.lstrip([characters])`                  | Returns a copy of the string with characters (whitespace by default) removed on the left  |\n",
    "| `str.rstrip([characters])`                  | Returns a copy of the string with characters (whitespace by default) removed on the right |\n"
   ]
  },
  {
   "cell_type": "code",
   "execution_count": 13,
   "metadata": {},
   "outputs": [],
   "source": [
    "# Test string\n",
    "test_str = \"this is our test string test--\"\n"
   ]
  },
  {
   "cell_type": "code",
   "execution_count": 14,
   "metadata": {},
   "outputs": [
    {
     "name": "stdout",
     "output_type": "stream",
     "text": [
      "This is our test string test--\n"
     ]
    }
   ],
   "source": [
    "# Capitalize\n",
    "print(test_str.capitalize())\n"
   ]
  },
  {
   "cell_type": "code",
   "execution_count": 15,
   "metadata": {},
   "outputs": [
    {
     "name": "stdout",
     "output_type": "stream",
     "text": [
      "This Is Our Test String Test--\n"
     ]
    }
   ],
   "source": [
    "# Convert to Title case\n",
    "print(test_str.title())\n"
   ]
  },
  {
   "cell_type": "code",
   "execution_count": 16,
   "metadata": {},
   "outputs": [
    {
     "name": "stdout",
     "output_type": "stream",
     "text": [
      "This Is Our Test String Test\n"
     ]
    }
   ],
   "source": [
    "# Strip characters on the right, then make title\n",
    "print(test_str.rstrip(\"-\").title())\n"
   ]
  },
  {
   "cell_type": "code",
   "execution_count": 17,
   "metadata": {},
   "outputs": [
    {
     "name": "stdout",
     "output_type": "stream",
     "text": [
      "2\n"
     ]
    }
   ],
   "source": [
    "# Count substring occurence\n",
    "print(test_str.count(\"test\", 0, len(test_str)))\n"
   ]
  },
  {
   "attachments": {},
   "cell_type": "markdown",
   "metadata": {},
   "source": [
    "### <a id='toc8_2_'></a>Lists [&#8593;](#toc0_)\n"
   ]
  },
  {
   "attachments": {},
   "cell_type": "markdown",
   "metadata": {},
   "source": [
    "-   Most used built-in data structure\n",
    "-   Can contain different data type\n",
    "-   Python does not create multiple copies of a list variable (Reference)\n",
    "    -   It only creates new copy when required\n",
    "    -   This makes Python more memory efficient\n",
    "-   Lists are mutable\n"
   ]
  },
  {
   "cell_type": "code",
   "execution_count": 18,
   "metadata": {},
   "outputs": [
    {
     "name": "stdout",
     "output_type": "stream",
     "text": [
      "list_one: [4, 2, 3]\n"
     ]
    }
   ],
   "source": [
    "val_1: int = 1\n",
    "val_2: int = 2\n",
    "val_3: int = 3\n",
    "\n",
    "list_one: list[int] = [val_1, val_2, val_3]\n",
    "list_two: list[int] = list_one\n",
    "list_two[0] = 4\n",
    "\n",
    "print(f\"list_one: {list_one}\")\n"
   ]
  },
  {
   "attachments": {},
   "cell_type": "markdown",
   "metadata": {},
   "source": [
    "#### <a id='toc8_2_1_'></a>List Methods [&#8593;](#toc0_)\n"
   ]
  },
  {
   "attachments": {},
   "cell_type": "markdown",
   "metadata": {},
   "source": [
    "-   This is a non-exhaustive list of `list` methods\n",
    "\n",
    "| Method                          | Description                                       |\n",
    "| :------------------------------ | :------------------------------------------------ |\n",
    "| `list(s)`                       | Creates a list from a sequence `s`                |\n",
    "| `lst.append(x)`                 | Append an element at the end of the list          |\n",
    "| `lst.extend(lst2)`              | Extend `lst` with the elements of `lst2`          |\n",
    "| `lst.count(x)`                  | Count occurences of an element                    |\n",
    "| `lst.index(x, [start], [stop])` | Returns the smallest index `i`, where `s[i] == x` |\n",
    "| `lst.insert(i, x)`              | Insert `x` at index `i`                           |\n",
    "| `lst.pop(i)`                    | Removes and returns the element at index `i`      |\n",
    "| `lst.remove(x)`                 | Remove element `x` from the list                  |\n",
    "| `lst.sort([key], [reverse])`    | Sort the order of the list                        |\n",
    "| `lst.reverse()`                 | Reverse the order of the list                     |\n"
   ]
  },
  {
   "attachments": {},
   "cell_type": "markdown",
   "metadata": {},
   "source": [
    "#### <a id='toc8_2_2_'></a>List Comprehension [&#8593;](#toc0_)\n"
   ]
  },
  {
   "attachments": {},
   "cell_type": "markdown",
   "metadata": {},
   "source": [
    "-   A very intuitive way to create lists\n",
    "-   Can be used to replicate the function of loops in a compact way\n",
    "-   List forms the foundation of many complex data structures\n",
    "-   Versatility, ease of creation and use enable them to build more specialized and complex data structures\n"
   ]
  },
  {
   "cell_type": "code",
   "execution_count": 19,
   "metadata": {},
   "outputs": [
    {
     "name": "stdout",
     "output_type": "stream",
     "text": [
      "Squared numbers: [0, 1, 4, 9, 16]\n",
      "n_list: [[1, 2, 3], [4, 5, 6]]\n",
      "Cartesian Product of n_list: [(1, 4), (1, 5), (1, 6), (2, 4), (2, 5), (2, 6), (3, 4), (3, 5), (3, 6)]\n"
     ]
    }
   ],
   "source": [
    "squared_numbers: list[int] = [num**2 for num in range(5)]\n",
    "print(f\"Squared numbers: {squared_numbers}\")\n",
    "\n",
    "n_list: list[list[int]] = [[1, 2, 3], [4, 5, 6]]\n",
    "\n",
    "cartesian_product: list[tuple[int, int]] = [\n",
    "    (i, j) for i in n_list[0] for j in n_list[1]\n",
    "]\n",
    "print(f\"n_list: {n_list}\")\n",
    "print(f\"Cartesian Product of n_list: {cartesian_product}\")\n"
   ]
  },
  {
   "attachments": {},
   "cell_type": "markdown",
   "metadata": {},
   "source": [
    "-   List comprehension can be used as replacement for `for` loops too sometimes\n"
   ]
  },
  {
   "cell_type": "code",
   "execution_count": 20,
   "metadata": {},
   "outputs": [
    {
     "name": "stdout",
     "output_type": "stream",
     "text": [
      "lst: [0, 8, 16, 24, 32, 40, 48, 56, 64, 72, 80, 88, 96, 104, 112, 120]\n"
     ]
    }
   ],
   "source": [
    "def f1(x: int) -> int:\n",
    "    return x * 2\n",
    "\n",
    "\n",
    "def f2(x: int) -> int:\n",
    "    return x * 4\n",
    "\n",
    "\n",
    "# Using for-loops\n",
    "lst: list[int] = []\n",
    "\n",
    "for i in range(16):\n",
    "    lst.append(f1(f2(i)))\n",
    "\n",
    "print(f\"lst: {lst}\")\n"
   ]
  },
  {
   "cell_type": "code",
   "execution_count": 21,
   "metadata": {},
   "outputs": [
    {
     "name": "stdout",
     "output_type": "stream",
     "text": [
      "lst: [0, 8, 16, 24, 32, 40, 48, 56, 64, 72, 80, 88, 96, 104, 112, 120]\n"
     ]
    }
   ],
   "source": [
    "# Using list comprehension\n",
    "lst = [f1(x) for x in range(64) if x in [f2(y) for y in range(16)]]\n",
    "print(f\"lst: {lst}\")\n"
   ]
  },
  {
   "attachments": {},
   "cell_type": "markdown",
   "metadata": {},
   "source": [
    "-   List comprehension can also be used to replicate the action of nested loops in a more compact form\n"
   ]
  },
  {
   "cell_type": "code",
   "execution_count": 22,
   "metadata": {},
   "outputs": [
    {
     "name": "stdout",
     "output_type": "stream",
     "text": [
      "Cartesian Product: [400, 500, 600, 800, 1000, 1200, 1200, 1500, 1800]\n"
     ]
    }
   ],
   "source": [
    "matrix: list[list[int]] = [[10, 20, 30], [40, 50, 60]]\n",
    "\n",
    "# Multiply each numbers from each list: Cartesian Product\n",
    "cart_prod: list[int] = [i * j for i in matrix[0] for j in matrix[1]]\n",
    "print(f\"Cartesian Product: {cart_prod}\")\n"
   ]
  },
  {
   "attachments": {},
   "cell_type": "markdown",
   "metadata": {},
   "source": [
    "-   We can also use list comprehension on objects\n"
   ]
  },
  {
   "cell_type": "code",
   "execution_count": 23,
   "metadata": {},
   "outputs": [
    {
     "name": "stdout",
     "output_type": "stream",
     "text": [
      "words_lengths: [('get', 3), ('each', 4), ('word', 4), ('lengths', 7), ('from', 4), ('this', 4), ('sentence', 8), ('please', 6)]\n"
     ]
    }
   ],
   "source": [
    "words: list[str] = \"get each word lengths from this sentence please\".split()\n",
    "words_lengths: list[tuple[str, int]] = [(word, len(word)) for word in words]\n",
    "print(f\"words_lengths: {words_lengths}\")\n"
   ]
  },
  {
   "attachments": {},
   "cell_type": "markdown",
   "metadata": {},
   "source": [
    "### <a id='toc8_3_'></a>Functions [&#8593;](#toc0_)\n"
   ]
  },
  {
   "attachments": {},
   "cell_type": "markdown",
   "metadata": {},
   "source": [
    "-   Functions are first-class objects\n",
    "-   Can be manipulated as regular objects\n",
    "-   **First-class object**:\n",
    "    -   Created at runtime\n",
    "    -   Assigned as a variable or in a data structure\n",
    "    -   Passed as argument to a function\n",
    "    -   Returned as result of a function\n",
    "-   All Python objects are essentially first-class\n",
    "-   Functions are essentially _Callable Objects_\n"
   ]
  },
  {
   "cell_type": "code",
   "execution_count": 24,
   "metadata": {},
   "outputs": [],
   "source": [
    "# A Simple greet function\n",
    "def greet(language: str) -> str:\n",
    "    if language == \"en\":\n",
    "        return \"Hello!\"\n",
    "    if language == \"fr\":\n",
    "        return \"Bonjour!\"\n",
    "    if language == \"sp\":\n",
    "        return \"Hola!\"\n",
    "    else:\n",
    "        return \"\"\n"
   ]
  },
  {
   "attachments": {},
   "cell_type": "markdown",
   "metadata": {},
   "source": [
    "-   We can include function calls in lists\n"
   ]
  },
  {
   "cell_type": "code",
   "execution_count": 25,
   "metadata": {},
   "outputs": [
    {
     "name": "stdout",
     "output_type": "stream",
     "text": [
      "greetings: ['Bonjour!', 'Hello!', '']\n"
     ]
    }
   ],
   "source": [
    "greetings: list[str] = [greet(\"fr\"), greet(\"en\"), greet(\"jp\")]\n",
    "print(f\"greetings: {greetings}\")\n"
   ]
  },
  {
   "attachments": {},
   "cell_type": "markdown",
   "metadata": {},
   "source": [
    "-   We can use function as argument to other functions\n",
    "-   This is useful for pre-processing functions (decorators/High Order Function)\n"
   ]
  },
  {
   "cell_type": "code",
   "execution_count": 26,
   "metadata": {},
   "outputs": [
    {
     "name": "stdout",
     "output_type": "stream",
     "text": [
      "Hola!\n"
     ]
    }
   ],
   "source": [
    "from typing import Callable\n",
    "\n",
    "\n",
    "# A function that takes another function as argument\n",
    "def get_default_greeting(func: Callable[[str], str]) -> str:\n",
    "    default_lang = \"sp\"\n",
    "    return func(default_lang)\n",
    "\n",
    "\n",
    "print(get_default_greeting(greet))\n"
   ]
  },
  {
   "attachments": {},
   "cell_type": "markdown",
   "metadata": {},
   "source": [
    "#### <a id='toc8_3_1_'></a>High Order Functions [&#8593;](#toc0_)\n"
   ]
  },
  {
   "attachments": {},
   "cell_type": "markdown",
   "metadata": {},
   "source": [
    "-   A hallmark of the functional programming paradigm\n",
    "    -   A function that takes another function as argument\n",
    "    -   A function that returns a function\n",
    "-   2 built-in HOF in Python 3:\n",
    "    -   `map()`\n",
    "    -   `filter()`\n",
    "    -   They return iterators\n",
    "-   `reduce()` is also a HOF but must be imported from `functools`\n"
   ]
  },
  {
   "cell_type": "code",
   "execution_count": 27,
   "metadata": {},
   "outputs": [
    {
     "name": "stdout",
     "output_type": "stream",
     "text": [
      "1 4 9 16 "
     ]
    }
   ],
   "source": [
    "lst = [1, 2, 3, 4]\n",
    "\n",
    "for item in map(lambda x: x**2, lst):\n",
    "    print(item, end=\" \")\n"
   ]
  },
  {
   "cell_type": "code",
   "execution_count": 28,
   "metadata": {},
   "outputs": [
    {
     "name": "stdout",
     "output_type": "stream",
     "text": [
      "2 4 "
     ]
    }
   ],
   "source": [
    "lst = [1, 2, 3, 4]\n",
    "\n",
    "for item in filter(lambda x: x % 2 == 0, lst):\n",
    "    print(item, end=\" \")\n"
   ]
  },
  {
   "cell_type": "code",
   "execution_count": 29,
   "metadata": {},
   "outputs": [
    {
     "name": "stdout",
     "output_type": "stream",
     "text": [
      "73\n"
     ]
    }
   ],
   "source": [
    "from functools import reduce\n",
    "\n",
    "lst = [56, 20, 73, 41]\n",
    "\n",
    "# Similar to max(lst)\n",
    "print(reduce(lambda a, b: a if a > b else b, lst))\n"
   ]
  },
  {
   "attachments": {},
   "cell_type": "markdown",
   "metadata": {},
   "source": [
    "-   Both `map` and `filter` perform the similar function to what can be achieved by list comprehensions\n",
    "    -   No great deal of difference in the performance characteristics\n",
    "    -   Slight performance advantage when using the built-in functions `map` and `filter` without the lambda operator\n",
    "    -   Most style guides recommend the use of list comprehensions over built-in functions\n"
   ]
  },
  {
   "cell_type": "code",
   "execution_count": 30,
   "metadata": {},
   "outputs": [
    {
     "name": "stdout",
     "output_type": "stream",
     "text": [
      "Words sorted by length: ['a', 'is', 'this', 'sentence']\n"
     ]
    }
   ],
   "source": [
    "# Example of using HOF: Using sorted() built-in function\n",
    "words = \"this is a sentence\".split()\n",
    "print(f\"Words sorted by length: {sorted(words, key=len)}\")\n"
   ]
  },
  {
   "attachments": {},
   "cell_type": "markdown",
   "metadata": {},
   "source": [
    "**NOTE: `sorted(list)` does not modify the original list**\n"
   ]
  },
  {
   "cell_type": "code",
   "execution_count": 31,
   "metadata": {},
   "outputs": [
    {
     "name": "stdout",
     "output_type": "stream",
     "text": [
      "['this', 'is', 'a', 'sentence']\n"
     ]
    }
   ],
   "source": [
    "print(words)\n"
   ]
  },
  {
   "cell_type": "code",
   "execution_count": 32,
   "metadata": {},
   "outputs": [
    {
     "name": "stdout",
     "output_type": "stream",
     "text": [
      "words sorted alphabetically: ['a', 'is', 'sentence', 'this']\n"
     ]
    }
   ],
   "source": [
    "# Example of using HOF: Using list.sort()\n",
    "words = \"this is a sentence\".split()\n",
    "words.sort(key=str.lower)\n",
    "print(f\"words sorted alphabetically: {words}\")\n"
   ]
  },
  {
   "attachments": {},
   "cell_type": "markdown",
   "metadata": {},
   "source": [
    "**NOTE: `list.sort()` modifies the original list**\n"
   ]
  },
  {
   "attachments": {},
   "cell_type": "markdown",
   "metadata": {},
   "source": [
    "-   `lst.sort()`\n",
    "    -   Sorts the existing instance of a list without copying it\n",
    "    -   Sorting by reference\n",
    "    -   Changes the target object and returns `None`\n",
    "    -   _It is a Python convention that methods that change the existing object returns `None`_\n",
    "        -   Makes clear that no new object was created\n",
    "        -   Makes clear that the object itself was changed\n",
    "-   `sorted(lst)`:\n",
    "    -   Returns a new sorted list\n",
    "    -   Sorting by value\n",
    "    -   Acts more like a _Pure Function_ version of `lst.sort()`\n",
    "-   We could also sort complex structures using lambda\n"
   ]
  },
  {
   "cell_type": "code",
   "execution_count": 33,
   "metadata": {},
   "outputs": [
    {
     "name": "stdout",
     "output_type": "stream",
     "text": [
      "my_lst: [('flour', 1.9, 5), ('rice', 2.5, 8), ('corn', 4.7, 6)]\n"
     ]
    }
   ],
   "source": [
    "my_lst: list[tuple[str, float, int]] = [\n",
    "    (\"rice\", 2.5, 8),\n",
    "    (\"flour\", 1.9, 5),\n",
    "    (\"corn\", 4.7, 6),\n",
    "]\n",
    "my_lst.sort(key=lambda el: el[1])\n",
    "print(f\"my_lst: {my_lst}\")\n"
   ]
  },
  {
   "attachments": {},
   "cell_type": "markdown",
   "metadata": {},
   "source": [
    "#### <a id='toc8_3_2_'></a>Recursive Functions [&#8593;](#toc0_)\n"
   ]
  },
  {
   "attachments": {},
   "cell_type": "markdown",
   "metadata": {},
   "source": [
    "-   **Recursion: When a function takes one or more calls to itself during execution**\n",
    "    -   Loops execute statements repeatedly through a Boolean condition or through a series of elements\n",
    "    -   Recursion repeatedly calls a function through a Base case\n",
    "    -   Recursion describes an infinite object within a finite statement\n",
    "-   Both involve repetition\n",
    "    -   Iteration loops through a sequence of operations\n",
    "    -   Recursion repeatedly calls a function\n",
    "-   Recursive function can turn into an infinite recursion\n",
    "    -   Need at least one argument that tests for a terminating case (base case)\n",
    "    -   Reaching the base case ends the recursion\n",
    "-   Technically, **recursion is a special case of iteration known as tail iteration**\n",
    "    -   Usually always possible to convert an iterative function to a recursive function\n"
   ]
  },
  {
   "cell_type": "code",
   "execution_count": 34,
   "metadata": {},
   "outputs": [
    {
     "name": "stdout",
     "output_type": "stream",
     "text": [
      "1 2 3 4 5 6 7 8 9 10 11 12 13 14 15 16 17 18 19 20 \n",
      "\n",
      "1 2 3 4 5 6 7 8 9 10 11 12 13 14 15 16 17 18 19 20 "
     ]
    }
   ],
   "source": [
    "def iterate(low: int, high: int) -> None:\n",
    "    while low <= high:\n",
    "        print(low, end=\" \")\n",
    "        low += 1\n",
    "\n",
    "\n",
    "def recurse(low: int, high: int) -> None:\n",
    "    if low <= high:\n",
    "        print(low, end=\" \")\n",
    "        recurse(low + 1, high)\n",
    "\n",
    "\n",
    "iterate(1, 20)\n",
    "print(\"\\n\")\n",
    "recurse(1, 20)\n"
   ]
  },
  {
   "attachments": {},
   "cell_type": "markdown",
   "metadata": {},
   "source": [
    "-   In general, iteration is more efficient\n",
    "-   However, recursion is usually easier to write\n",
    "-   **Recursive functions are useful for manipulating recursive data structures**\n",
    "    -   Linked Lists\n",
    "    -   Trees\n"
   ]
  },
  {
   "attachments": {},
   "cell_type": "markdown",
   "metadata": {},
   "source": [
    "## <a id='toc9_'></a>Generators and Coroutines [&#8593;](#toc0_)\n"
   ]
  },
  {
   "attachments": {},
   "cell_type": "markdown",
   "metadata": {},
   "source": [
    "-   Generator\n",
    "    -   A function that does not just return one result but rather an entire sequence of results\n",
    "    -   Returns one at at time by using the `yield` statement\n",
    "-   _Generators Functions are an easy way to create Iterators Objects_\n",
    "    -   Generators are especially useful as a replacement for unworkably long lists\n",
    "    -   A generator yields items one at a time rather than builds lists at once\n",
    "-   _A generator is just a function_\n",
    "-   **Generators never _return_ a value other than `None`**\n"
   ]
  },
  {
   "cell_type": "code",
   "execution_count": 35,
   "metadata": {},
   "outputs": [
    {
     "name": "stdout",
     "output_type": "stream",
     "text": [
      "Time to sum an iterator: 0.5286440849304199\n",
      "Time to sum an iterator: 0.7933244705200195\n"
     ]
    }
   ],
   "source": [
    "from time import time\n",
    "from typing import Generator\n",
    "\n",
    "\n",
    "# Generator function: creates an iterator of odd numbers between n and m\n",
    "def odd_generator(n: int, m: int) -> Generator[int, None, None]:\n",
    "    while n < m:\n",
    "        yield n\n",
    "        n += 2\n",
    "\n",
    "\n",
    "# Equivalent list function\n",
    "def odd_lst(n: int, m: int) -> list[int]:\n",
    "    lst: list[int] = []\n",
    "    while n < m:\n",
    "        lst.append(n)\n",
    "        n += 2\n",
    "    return lst\n",
    "\n",
    "\n",
    "# The time it takes to perform sum on iterator\n",
    "t1: float = time()\n",
    "sum(odd_generator(1, 10000000))  # 10 Million\n",
    "print(f\"Time to sum an iterator: {time() - t1}\")\n",
    "\n",
    "# The time it takes to build and sum a list\n",
    "t1 = time()\n",
    "sum(odd_lst(1, 10000000))  # 10 Million\n",
    "print(f\"Time to sum an iterator: {time() - t1}\")\n"
   ]
  },
  {
   "attachments": {},
   "cell_type": "markdown",
   "metadata": {},
   "source": [
    "### <a id='toc9_1_'></a>Advantage of Generator vs List [&#8593;](#toc0_)\n"
   ]
  },
  {
   "attachments": {},
   "cell_type": "markdown",
   "metadata": {},
   "source": [
    "-   The values are generated on demand rather than saved as a list in memory\n",
    "    -   The generator object repeatedly calling the `__next__()` special method\n",
    "-   Calculation can begin before all the elements have been generated\n",
    "-   Elements are generated only when they are needed\n",
    "-   Typically, generators are used in `for-loops`\n",
    "    -   `range()` is a good example of a generator\n"
   ]
  },
  {
   "cell_type": "code",
   "execution_count": 36,
   "metadata": {},
   "outputs": [
    {
     "name": "stdout",
     "output_type": "stream",
     "text": [
      "Possible states combinations per byte length:\n",
      "---------------------------------------------\n",
      "0 Bytes (0 bits): [0 - 0]\n",
      "1 Bytes (8 bits): [0 - 255]\n",
      "2 Bytes (16 bits): [0 - 65535]\n",
      "3 Bytes (24 bits): [0 - 16777215]\n",
      "4 Bytes (32 bits): [0 - 4294967295]\n",
      "5 Bytes (40 bits): [0 - 1099511627775]\n",
      "6 Bytes (48 bits): [0 - 281474976710655]\n",
      "7 Bytes (56 bits): [0 - 72057594037927935]\n",
      "8 Bytes (64 bits): [0 - 18446744073709551615]\n",
      "9 Bytes (72 bits): [0 - 4722366482869645213695]\n",
      "10 Bytes (80 bits): [0 - 1208925819614629174706175]\n",
      "11 Bytes (88 bits): [0 - 309485009821345068724781055]\n",
      "12 Bytes (96 bits): [0 - 79228162514264337593543950335]\n",
      "13 Bytes (104 bits): [0 - 20282409603651670423947251286015]\n",
      "14 Bytes (112 bits): [0 - 5192296858534827628530496329220095]\n",
      "15 Bytes (120 bits): [0 - 1329227995784915872903807060280344575]\n",
      "16 Bytes (128 bits): [0 - 340282366920938463463374607431768211455]\n",
      "17 Bytes (136 bits): [0 - 87112285931760246646623899502532662132735]\n",
      "18 Bytes (144 bits): [0 - 22300745198530623141535718272648361505980415]\n",
      "19 Bytes (152 bits): [0 - 5708990770823839524233143877797980545530986495]\n",
      "20 Bytes (160 bits): [0 - 1461501637330902918203684832716283019655932542975]\n"
     ]
    }
   ],
   "source": [
    "# Possible states combinations per byte length\n",
    "header: str = \"Possible states combinations per byte length:\"\n",
    "print(header)\n",
    "print(\"-\" * len(header))\n",
    "\n",
    "for n in range(21):\n",
    "    print(f\"{n} Bytes ({8*n} bits): [0 - {2**(8*n)-1}]\")\n"
   ]
  },
  {
   "attachments": {},
   "cell_type": "markdown",
   "metadata": {},
   "source": [
    "**NOTE: Python has no size limit on Integers**\n"
   ]
  },
  {
   "attachments": {},
   "cell_type": "markdown",
   "metadata": {},
   "source": [
    "### <a id='toc9_2_'></a>Generator Expression [&#8593;](#toc0_)\n"
   ]
  },
  {
   "attachments": {},
   "cell_type": "markdown",
   "metadata": {},
   "source": [
    "-   Similar to list comprehension but for generators\n",
    "-   Simply replace the brackets with parenthesis\n",
    "-   Does not create a list but a generator object\n",
    "-   This object does not create the data, but rather creates that data on demand\n",
    "-   The generator objects do not support sequence methods such as `append()` and `insert()`\n"
   ]
  },
  {
   "cell_type": "code",
   "execution_count": 37,
   "metadata": {},
   "outputs": [
    {
     "name": "stdout",
     "output_type": "stream",
     "text": [
      "0 256 512 768 1024 1280 1536 1792 2048 2304 "
     ]
    }
   ],
   "source": [
    "from typing import Generator\n",
    "\n",
    "gen: Generator[int, None, None] = (2**8 * x for x in range(10))\n",
    "\n",
    "for n in gen:\n",
    "    print(n, end=\" \")\n"
   ]
  },
  {
   "attachments": {},
   "cell_type": "markdown",
   "metadata": {},
   "source": [
    "-   Generator object can be changed into a list using `list()`\n",
    "    -   **This can only be done once though**\n",
    "    -   The generator then will not return any further items\n"
   ]
  },
  {
   "cell_type": "code",
   "execution_count": 38,
   "metadata": {},
   "outputs": [
    {
     "name": "stdout",
     "output_type": "stream",
     "text": [
      "lst: [0, 1, 2, 3, 4, 5, 6, 7, 8, 9]\n"
     ]
    }
   ],
   "source": [
    "gen = (x for x in range(10))\n",
    "lst = list(gen)\n",
    "print(f\"lst: {lst}\")\n"
   ]
  },
  {
   "attachments": {},
   "cell_type": "markdown",
   "metadata": {},
   "source": [
    "## <a id='toc10_'></a>Classes and Objects [&#8593;](#toc0_)\n"
   ]
  },
  {
   "attachments": {},
   "cell_type": "markdown",
   "metadata": {},
   "source": [
    "-   A class defines a set of attributes that are shared across instances of that class\n",
    "    -   Functions\n",
    "    -   Variables\n",
    "    -   Properties\n",
    "-   Organizing our programs around objects and data rather than actions and logic\n",
    "-   Create a robust and flexible way to build complex applications\n",
    "-   Encapsulate logic and functionalities inside objects\n",
    "-   Allow objects to change in specific ways\n",
    "-   This makes our code:\n",
    "    -   Less error-prone\n",
    "    -   Easier to extend and maintain\n",
    "    -   Able to model real-world objects\n",
    "-   **Instance Methods**: The functions defined inside a class\n"
   ]
  },
  {
   "cell_type": "code",
   "execution_count": 39,
   "metadata": {},
   "outputs": [],
   "source": [
    "# All class inherit from object\n",
    "class Employee:\n",
    "    # Class Variables: Shared value across all instances\n",
    "    num_employees: int = 0\n",
    "\n",
    "    # Implement __init__()\n",
    "    def __init__(self, name: str, rate: float) -> None:\n",
    "        self.owed: float = 0\n",
    "        self.name: str = name\n",
    "        self.rate: float = rate\n",
    "        Employee.num_employees += 1\n",
    "\n",
    "    # Implement __del__()\n",
    "    def __del__(self) -> None:\n",
    "        Employee.num_employees -= 1\n",
    "\n",
    "    # Method for calculating hours worked\n",
    "    def hours(self, num_hours: float) -> str:\n",
    "        self.owed += num_hours * self.rate\n",
    "        return f\"{num_hours:.2f} hours worked\"\n",
    "\n",
    "    # Method for calculating payment\n",
    "    def pay(self) -> str:\n",
    "        self.owed = 0\n",
    "        return f\"payed {self.name}\"\n"
   ]
  },
  {
   "attachments": {},
   "cell_type": "markdown",
   "metadata": {},
   "source": [
    "### <a id='toc10_1_'></a>Creating New Instances of a Class [&#8593;](#toc0_)\n"
   ]
  },
  {
   "cell_type": "code",
   "execution_count": 40,
   "metadata": {},
   "outputs": [
    {
     "name": "stdout",
     "output_type": "stream",
     "text": [
      "2\n",
      "20.00 hours worked\n"
     ]
    }
   ],
   "source": [
    "emp1: Employee = Employee(\"John\", 18.50)\n",
    "emp2: Employee = Employee(\"Jill\", 19.45)\n",
    "\n",
    "print(Employee.num_employees)  # => 2\n",
    "print(emp2.hours(20))  # => \"20 hours worked\"\n"
   ]
  },
  {
   "cell_type": "code",
   "execution_count": 41,
   "metadata": {},
   "outputs": [
    {
     "name": "stdout",
     "output_type": "stream",
     "text": [
      "payed John\n"
     ]
    }
   ],
   "source": [
    "print(emp1.pay())  # => \"payed John\"\n"
   ]
  },
  {
   "attachments": {},
   "cell_type": "markdown",
   "metadata": {},
   "source": [
    "### <a id='toc10_2_'></a>Special Methods [&#8593;](#toc0_)\n"
   ]
  },
  {
   "attachments": {},
   "cell_type": "markdown",
   "metadata": {},
   "source": [
    "-   Built-in methods that begins and end with double-underscores\n",
    "-   Generally called by the Python interpreter rather than the programmer\n",
    "-   Use the `dir(obj)` function to get a list of attributes of a particular object\n",
    "    -   The Special Methods starts and end with `__`\n"
   ]
  },
  {
   "cell_type": "code",
   "execution_count": 42,
   "metadata": {},
   "outputs": [
    {
     "name": "stdout",
     "output_type": "stream",
     "text": [
      "__annotations__\n",
      "__class__\n",
      "__del__\n",
      "__delattr__\n",
      "__dict__\n",
      "__dir__\n",
      "__doc__\n",
      "__eq__\n",
      "__format__\n",
      "__ge__\n",
      "__getattribute__\n",
      "__getstate__\n",
      "__gt__\n",
      "__hash__\n",
      "__init__\n",
      "__init_subclass__\n",
      "__le__\n",
      "__lt__\n",
      "__module__\n",
      "__ne__\n",
      "__new__\n",
      "__reduce__\n",
      "__reduce_ex__\n",
      "__repr__\n",
      "__setattr__\n",
      "__sizeof__\n",
      "__str__\n",
      "__subclasshook__\n",
      "__weakref__\n"
     ]
    }
   ],
   "source": [
    "# Show all special methods in emp1\n",
    "for d in dir(emp1):\n",
    "    if \"__\" in d:\n",
    "        print(d)\n"
   ]
  },
  {
   "attachments": {},
   "cell_type": "markdown",
   "metadata": {},
   "source": [
    "-   `__init__`\n",
    "    -   The only special method we actually call in our programs here\n",
    "    -   Invoke the initializer of the superclass in our own class definitions\n",
    "-   Use special methods to define what happen when the interpreter call some specific methods\n",
    "    -   `__repr__` - Called when a string representation of the object is needed (Example, called by `print()`\n"
   ]
  },
  {
   "cell_type": "code",
   "execution_count": 43,
   "metadata": {},
   "outputs": [],
   "source": [
    "class MyClass:\n",
    "    def __init__(self, greet: str) -> None:\n",
    "        self.greet = greet\n",
    "\n",
    "    def __repr__(self) -> str:\n",
    "        return f'A custom object \"{self.greet}\"'\n"
   ]
  },
  {
   "cell_type": "code",
   "execution_count": 44,
   "metadata": {},
   "outputs": [
    {
     "name": "stdout",
     "output_type": "stream",
     "text": [
      "A custom object \"Hello\"\n"
     ]
    }
   ],
   "source": [
    "m: MyClass = MyClass(\"Hello\")\n",
    "print(m)\n"
   ]
  },
  {
   "attachments": {},
   "cell_type": "markdown",
   "metadata": {},
   "source": [
    "## <a id='toc11_'></a>Inheritance [&#8593;](#toc0_)\n"
   ]
  },
  {
   "attachments": {},
   "cell_type": "markdown",
   "metadata": {},
   "source": [
    "-   Allows to inherit functionalities from one class to another class\n",
    "-   Inheritance allows to derive a child class from an existing parent class\n",
    "-   **Inheritance in Python is done by passing the inherited class as an argument in the class definition**\n",
    "    -   It is often used to modify the behavior of existing methods\n",
    "    -   The derived class is similar to the base class except for what is changed\n",
    "-   For a subclass to define new class variables, it needs to define an `__init__` method\n"
   ]
  },
  {
   "cell_type": "code",
   "execution_count": 45,
   "metadata": {},
   "outputs": [],
   "source": [
    "class SpecialEmployee(Employee):  # Inheriting from Employee\n",
    "    def __init__(self, name: str, rate: float, bonus: float) -> None:\n",
    "        # Calls the base classes\n",
    "        Employee.__init__(self, name, rate)\n",
    "        # Add additional properties or overrrides\n",
    "        self.bonus = bonus\n",
    "\n",
    "    def hours(self, num_hours: float) -> str:\n",
    "        self.owed += num_hours * self.rate * 2\n",
    "        return f\"{num_hours:.2f} hours worked\"\n"
   ]
  },
  {
   "attachments": {},
   "cell_type": "markdown",
   "metadata": {},
   "source": [
    "-   `issubclass(subclass, class)` to check whether a class is a subclass of another class\n",
    "-   `isinstance(instance, class)` to check if an object belongs to a class or not\n"
   ]
  },
  {
   "cell_type": "code",
   "execution_count": 46,
   "metadata": {},
   "outputs": [
    {
     "name": "stdout",
     "output_type": "stream",
     "text": [
      "True\n",
      "True\n"
     ]
    }
   ],
   "source": [
    "print(issubclass(SpecialEmployee, Employee))\n",
    "print(isinstance(emp1, Employee))\n"
   ]
  },
  {
   "cell_type": "code",
   "execution_count": 47,
   "metadata": {},
   "outputs": [
    {
     "name": "stdout",
     "output_type": "stream",
     "text": [
      "True\n"
     ]
    }
   ],
   "source": [
    "senior_developer: SpecialEmployee = SpecialEmployee(\"John Smith\", 100, 10000)\n",
    "print(isinstance(senior_developer, SpecialEmployee))\n"
   ]
  },
  {
   "attachments": {},
   "cell_type": "markdown",
   "metadata": {},
   "source": [
    "### <a id='toc11_1_'></a>Static Method vs Class Method vs Instance Method [&#8593;](#toc0_)\n"
   ]
  },
  {
   "attachments": {},
   "cell_type": "markdown",
   "metadata": {},
   "source": [
    "-   **A _static method_ is mainly bound to the class, and not bound with the instance of the class**\n",
    "    -   When called, it does not take `self` as the first argument\n",
    "    -   Defined within the class and does not require an instance of a class to execute\n",
    "    -   Does not perform operations on the instances\n",
    "    -   Defined using the `@staticmethod` decorator\n",
    "    -   Most common usage is as a convenience to group utility functions together\n",
    "    -   Cannot access the attributes of an instance\n",
    "-   **A _class method_ operates on the class itself and does not work with the instances**\n",
    "    -   Distinguished from instance methods in the class\n",
    "    -   Works in the same way that class variables are associated with the classes rather than instances of that class\n",
    "    -   Defined using the `@classmethod` decorator\n",
    "    -   The class itself is passed as the first argument, and this is named `cls` by convention\n"
   ]
  },
  {
   "cell_type": "code",
   "execution_count": 48,
   "metadata": {},
   "outputs": [
    {
     "name": "stdout",
     "output_type": "stream",
     "text": [
      "The value of 3 to the power 3 is: 27\n",
      "The sum of 15 and 10 is: 25\n",
      "64\n"
     ]
    }
   ],
   "source": [
    "class ExponentialA(object):\n",
    "    base: int = 3\n",
    "\n",
    "    @classmethod\n",
    "    def exp(cls, x: int) -> int:\n",
    "        return cls.base**x\n",
    "\n",
    "    @staticmethod\n",
    "    def add(x: int, y: int) -> int:\n",
    "        return x + y\n",
    "\n",
    "\n",
    "class ExponentialB(ExponentialA):\n",
    "    base: int = 4\n",
    "\n",
    "\n",
    "exp_a: ExponentialA = ExponentialA()\n",
    "exp_b: int = exp_a.exp(3)  # Using class method\n",
    "\n",
    "print(f\"The value of 3 to the power 3 is: {exp_b}\")\n",
    "\n",
    "# Using Static Method\n",
    "print(f\"The sum of 15 and 10 is: {ExponentialA.add(15, 10)}\")\n",
    "print(ExponentialB.exp(3))\n"
   ]
  },
  {
   "attachments": {},
   "cell_type": "markdown",
   "metadata": {},
   "source": [
    "-   The difference between a static method and a class method is that:\n",
    "    -   A **static method doesn't know anything about the class**: It only deals with the parameters\n",
    "    -   A **class method works only with the class**: Its parameter is always the class itself\n",
    "-   Class methods are a way to break away from inheritance and modify the class\n",
    "    -   Because instances always inherit from parents\n",
    "    -   But we can modify the class itself to break inherited behaviors\n"
   ]
  },
  {
   "attachments": {},
   "cell_type": "markdown",
   "metadata": {},
   "source": [
    "## <a id='toc12_'></a>Data Encapsulation and Properties [&#8593;](#toc0_)\n"
   ]
  },
  {
   "attachments": {},
   "cell_type": "markdown",
   "metadata": {},
   "source": [
    "-   All attributes and methods are accessible without restriction by default\n",
    "    -   Everything defined in a base class is accessible from a derived class\n",
    "-   This can lead to namespace conflicts between objects defined in derived classes with the base class\n",
    "    -   To prevent this, the methods we define private attributes with have a double underscore, such as `__privateMethod()`\n",
    "    -   These method names are automatically changed to `__Classname_privateMethod()` to prevent name conflicts with methods defined in base classes\n",
    "-   **Note:**\n",
    "    -   **This is only to avoid name conflict but does not hide the variable from being seen**\n",
    "    -   **Python has a loose definition of encapsulation**\n",
    "    -   It is recommended to use private attributes when using a class property to define mutable attributes\n",
    "    -   `__` creates _Private_\n",
    "    -   `_` creates _Protected_\n"
   ]
  }
 ],
 "metadata": {
  "hide_input": false,
  "kernelspec": {
   "display_name": "Python 3 (ipykernel)",
   "language": "python",
   "name": "python3"
  },
  "language_info": {
   "codemirror_mode": {
    "name": "ipython",
    "version": 3
   },
   "file_extension": ".py",
   "mimetype": "text/x-python",
   "name": "python",
   "nbconvert_exporter": "python",
   "pygments_lexer": "ipython3",
   "version": "3.11.3"
  },
  "toc": {
   "base_numbering": 1,
   "nav_menu": {},
   "number_sections": true,
   "sideBar": true,
   "skip_h1_title": true,
   "title_cell": "Table of Contents",
   "title_sidebar": "Contents",
   "toc_cell": true,
   "toc_position": {},
   "toc_section_display": true,
   "toc_window_display": true
  },
  "varInspector": {
   "cols": {
    "lenName": 16,
    "lenType": 16,
    "lenVar": 40
   },
   "kernels_config": {
    "python": {
     "delete_cmd_postfix": "",
     "delete_cmd_prefix": "del ",
     "library": "var_list.py",
     "varRefreshCmd": "print(var_dic_list())"
    },
    "r": {
     "delete_cmd_postfix": ") ",
     "delete_cmd_prefix": "rm(",
     "library": "var_list.r",
     "varRefreshCmd": "cat(var_dic_list()) "
    }
   },
   "types_to_exclude": [
    "module",
    "function",
    "builtin_function_or_method",
    "instance",
    "_Feature"
   ],
   "window_display": false
  }
 },
 "nbformat": 4,
 "nbformat_minor": 4
}
