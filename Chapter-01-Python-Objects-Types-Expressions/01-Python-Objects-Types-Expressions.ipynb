{
 "cells": [
  {
   "cell_type": "markdown",
   "metadata": {},
   "source": [
    "# Python Objects, Types, and Expressions"
   ]
  },
  {
   "cell_type": "markdown",
   "metadata": {},
   "source": [
    "- Core elements and main building blocks of a software project:\n",
    "  - **Algorithm**: Using data efficiently\n",
    "  - **Data Structure**: Storing and organizing data efficiently\n",
    "- Python\n",
    "  - Efficient high-level data structures\n",
    "  - Language of choice for data-related tasks\n",
    "  - Easy-to-learn advanced language\n",
    "  - Fully-featured Object-Oriented programming language\n",
    "  - Intuitive structures and semantics\n",
    "  - Straightforward way to perform a wide variety of data tasks\n",
    "  - Many useful built-in Algorithms and Data Structures\n",
    "  - Easy to create custom objects"
   ]
  },
  {
   "cell_type": "markdown",
   "metadata": {
    "toc": true
   },
   "source": [
    "<h1>Table of Contents<span class=\"tocSkip\"></span></h1>\n",
    "<div class=\"toc\"><ul class=\"toc-item\"><li><span><a href=\"#Chapter-Goals\" data-toc-modified-id=\"Chapter-Goals-1\"><span class=\"toc-item-num\">1&nbsp;&nbsp;</span>Chapter Goals</a></span></li><li><span><a href=\"#Checking-Python-Version\" data-toc-modified-id=\"Checking-Python-Version-2\"><span class=\"toc-item-num\">2&nbsp;&nbsp;</span>Checking Python Version</a></span></li><li><span><a href=\"#Installing-Python-on-Linux\" data-toc-modified-id=\"Installing-Python-on-Linux-3\"><span class=\"toc-item-num\">3&nbsp;&nbsp;</span>Installing Python on Linux</a></span></li><li><span><a href=\"#Installing-Python-on-Windows\" data-toc-modified-id=\"Installing-Python-on-Windows-4\"><span class=\"toc-item-num\">4&nbsp;&nbsp;</span>Installing Python on Windows</a></span></li><li><span><a href=\"#Understanding-Data-Structure-and-Algorithm\" data-toc-modified-id=\"Understanding-Data-Structure-and-Algorithm-5\"><span class=\"toc-item-num\">5&nbsp;&nbsp;</span>Understanding Data Structure and Algorithm</a></span><ul class=\"toc-item\"><li><span><a href=\"#What-Tools-Do-We-Need-For-This?\" data-toc-modified-id=\"What-Tools-Do-We-Need-For-This?-5.1\"><span class=\"toc-item-num\">5.1&nbsp;&nbsp;</span>What Tools Do We Need For This?</a></span></li><li><span><a href=\"#Python-for-Data\" data-toc-modified-id=\"Python-for-Data-5.2\"><span class=\"toc-item-num\">5.2&nbsp;&nbsp;</span>Python for Data</a></span></li><li><span><a href=\"#Python-Environment\" data-toc-modified-id=\"Python-Environment-5.3\"><span class=\"toc-item-num\">5.3&nbsp;&nbsp;</span>Python Environment</a></span></li></ul></li><li><span><a href=\"#Variables-and-Expressions\" data-toc-modified-id=\"Variables-and-Expressions-6\"><span class=\"toc-item-num\">6&nbsp;&nbsp;</span>Variables and Expressions</a></span><ul class=\"toc-item\"><li><span><a href=\"#Variable-Scope---LEGB\" data-toc-modified-id=\"Variable-Scope---LEGB-6.1\"><span class=\"toc-item-num\">6.1&nbsp;&nbsp;</span>Variable Scope - LEGB</a></span></li></ul></li><li><span><a href=\"#Flow-Control-and-Iterations\" data-toc-modified-id=\"Flow-Control-and-Iterations-7\"><span class=\"toc-item-num\">7&nbsp;&nbsp;</span>Flow Control and Iterations</a></span></li><li><span><a href=\"#Data-Types-and-Objects\" data-toc-modified-id=\"Data-Types-and-Objects-8\"><span class=\"toc-item-num\">8&nbsp;&nbsp;</span>Data Types and Objects</a></span><ul class=\"toc-item\"><li><span><a href=\"#Strings\" data-toc-modified-id=\"Strings-8.1\"><span class=\"toc-item-num\">8.1&nbsp;&nbsp;</span>Strings</a></span><ul class=\"toc-item\"><li><span><a href=\"#String-Methods\" data-toc-modified-id=\"String-Methods-8.1.1\"><span class=\"toc-item-num\">8.1.1&nbsp;&nbsp;</span>String Methods</a></span></li></ul></li><li><span><a href=\"#Lists\" data-toc-modified-id=\"Lists-8.2\"><span class=\"toc-item-num\">8.2&nbsp;&nbsp;</span>Lists</a></span><ul class=\"toc-item\"><li><span><a href=\"#List-Methods\" data-toc-modified-id=\"List-Methods-8.2.1\"><span class=\"toc-item-num\">8.2.1&nbsp;&nbsp;</span>List Methods</a></span></li><li><span><a href=\"#List-Comprehension\" data-toc-modified-id=\"List-Comprehension-8.2.2\"><span class=\"toc-item-num\">8.2.2&nbsp;&nbsp;</span>List Comprehension</a></span></li></ul></li><li><span><a href=\"#Functions\" data-toc-modified-id=\"Functions-8.3\"><span class=\"toc-item-num\">8.3&nbsp;&nbsp;</span>Functions</a></span><ul class=\"toc-item\"><li><span><a href=\"#High-Order-Functions\" data-toc-modified-id=\"High-Order-Functions-8.3.1\"><span class=\"toc-item-num\">8.3.1&nbsp;&nbsp;</span>High Order Functions</a></span></li><li><span><a href=\"#Recursive-Functions\" data-toc-modified-id=\"Recursive-Functions-8.3.2\"><span class=\"toc-item-num\">8.3.2&nbsp;&nbsp;</span>Recursive Functions</a></span></li></ul></li></ul></li><li><span><a href=\"#Generators-and-Coroutines\" data-toc-modified-id=\"Generators-and-Coroutines-9\"><span class=\"toc-item-num\">9&nbsp;&nbsp;</span>Generators and Coroutines</a></span><ul class=\"toc-item\"><li><span><a href=\"#Generator-Expression\" data-toc-modified-id=\"Generator-Expression-9.1\"><span class=\"toc-item-num\">9.1&nbsp;&nbsp;</span>Generator Expression</a></span></li></ul></li><li><span><a href=\"#Classes-and-Objects\" data-toc-modified-id=\"Classes-and-Objects-10\"><span class=\"toc-item-num\">10&nbsp;&nbsp;</span>Classes and Objects</a></span><ul class=\"toc-item\"><li><span><a href=\"#Creating-New-Instances-of-a-Class\" data-toc-modified-id=\"Creating-New-Instances-of-a-Class-10.1\"><span class=\"toc-item-num\">10.1&nbsp;&nbsp;</span>Creating New Instances of a Class</a></span></li><li><span><a href=\"#Special-Methods\" data-toc-modified-id=\"Special-Methods-10.2\"><span class=\"toc-item-num\">10.2&nbsp;&nbsp;</span>Special Methods</a></span></li></ul></li><li><span><a href=\"#Inheritance\" data-toc-modified-id=\"Inheritance-11\"><span class=\"toc-item-num\">11&nbsp;&nbsp;</span>Inheritance</a></span><ul class=\"toc-item\"><li><span><a href=\"#Static-Method-vs-Class-Method-vs-Instance-Method\" data-toc-modified-id=\"Static-Method-vs-Class-Method-vs-Instance-Method-11.1\"><span class=\"toc-item-num\">11.1&nbsp;&nbsp;</span>Static Method vs Class Method vs Instance Method</a></span></li></ul></li><li><span><a href=\"#Data-Encapsulation-and-Properties\" data-toc-modified-id=\"Data-Encapsulation-and-Properties-12\"><span class=\"toc-item-num\">12&nbsp;&nbsp;</span>Data Encapsulation and Properties</a></span></li></ul></div>"
   ]
  },
  {
   "cell_type": "markdown",
   "metadata": {},
   "source": [
    "## Chapter Goals"
   ]
  },
  {
   "cell_type": "markdown",
   "metadata": {},
   "source": [
    "- Obtain a general working knowledge of data structures and algorithms\n",
    "- Understand core data types and their functions\n",
    "- Explore the object-oriented aspects of the Python programming language"
   ]
  },
  {
   "cell_type": "markdown",
   "metadata": {},
   "source": [
    "## Checking Python Version"
   ]
  },
  {
   "cell_type": "code",
   "execution_count": 1,
   "metadata": {},
   "outputs": [
    {
     "name": "stdout",
     "output_type": "stream",
     "text": [
      "Python Version: 3.9.7 (default, Sep 16 2021, 16:59:28) [MSC v.1916 64 bit (AMD64)]\n"
     ]
    }
   ],
   "source": [
    "# Check Python version\n",
    "from sys import version\n",
    "print(\"Python Version:\", version)"
   ]
  },
  {
   "cell_type": "markdown",
   "metadata": {},
   "source": [
    "We can also check it from a shell using this command\n",
    "\n",
    "```sh\n",
    "python --version\n",
    "```"
   ]
  },
  {
   "cell_type": "markdown",
   "metadata": {},
   "source": [
    "## Installing Python on Linux"
   ]
  },
  {
   "cell_type": "markdown",
   "metadata": {},
   "source": [
    "```sh\n",
    "sudo apt-get update\n",
    "sudo apt-get install -y python3-pip\n",
    "pip3 install <package_name>\n",
    "```\n",
    "\n",
    "- Or install using [Miniconda](https://docs.conda.io/en/latest/miniconda.html) as a Version Manager\n",
    "- Or install using a [Docker Image](https://docs.docker.com/language/python/build-images/)"
   ]
  },
  {
   "cell_type": "markdown",
   "metadata": {},
   "source": [
    "## Installing Python on Windows"
   ]
  },
  {
   "cell_type": "markdown",
   "metadata": {},
   "source": [
    "- Download the installer from [python.org](https://www.python.org/downloads/)\n",
    "- Or install using [Miniconda](https://docs.conda.io/en/latest/miniconda.html) as a Version Manager\n",
    "- Or install using a [Docker Image](https://docs.docker.com/language/python/build-images/)"
   ]
  },
  {
   "cell_type": "markdown",
   "metadata": {},
   "source": [
    "## Understanding Data Structure and Algorithm"
   ]
  },
  {
   "cell_type": "markdown",
   "metadata": {},
   "source": [
    "- Algorithm and Data Structure - Main building blocks from which complex software is built\n",
    "- Questions that we need to understand:\n",
    "  - *How do algorithms manipulate information contained within data structures?*\n",
    "  - *How is data arranged in memory?*\n",
    "  - *What are the performance characteristics of particular data structures?*"
   ]
  },
  {
   "cell_type": "markdown",
   "metadata": {},
   "source": [
    "### What Tools Do We Need For This?"
   ]
  },
  {
   "cell_type": "markdown",
   "metadata": {},
   "source": [
    "- Fundamentals of the Python programming language from the perspective of data structures and algorithms\n",
    "- Mathematical tools\n",
    "- Evaluation: When working on large datasets or real-time applications, it is essential for algorithms and structures to be as efficient as possible\n",
    "- Strong experimental design strategy\n",
    "  - Conceptually translate a real-world problem into the algorithms and data structures of a programming language\n",
    "  - Understand the important elements of a problem\n",
    "  - Understand a methodology for mapping these elements to programming structures\n",
    "- Conditions determine the most appropriate solution\n",
    "  - Not all problems are handled the same way\n",
    "- The order in which we search through items and the shape of the data structures can make a big difference to the time it takes to do a search"
   ]
  },
  {
   "cell_type": "markdown",
   "metadata": {},
   "source": [
    "### Python for Data"
   ]
  },
  {
   "cell_type": "markdown",
   "metadata": {},
   "source": [
    "- Python has 4 main built-in data structures:\n",
    "  - List\n",
    "  - Dictionary\n",
    "  - Set\n",
    "  - Tuple\n",
    "- Additional internal libraries of classes: `collections`, `math`...\n",
    "- External libraries of classes: `SciPy`, `NumPy`\n",
    "  - There is often a performance penalty in using external libraries compared to building customized objects from the start\n",
    "  - By coding them ourselves, we can be more specific on the target goals\n",
    "  - However, this is not to exclude the role of external libraries"
   ]
  },
  {
   "cell_type": "markdown",
   "metadata": {},
   "source": [
    "### Python Environment"
   ]
  },
  {
   "cell_type": "markdown",
   "metadata": {},
   "source": [
    "- Python interactive Console: *Read, Evaluate, Print, Loop* (REPL)\n",
    "- Compiled Languages: *Write, Compile, Test, Recompile*\n",
    "- Python Distributions:\n",
    "  - CPython (C)\n",
    "  - Cython (CPython Extensions)\n",
    "  - Anaconda (CPython + Module Version Manager)\n",
    "  - Jython (Python for Java)\n",
    "  - Brython (Python for Web Browsers)\n",
    "  - IronPython (Python for C#.NET)\n",
    "  - RPython (PyPy, Python with JIT)\n",
    "  - MicroPython (Python for Microcontrollers)\n",
    "- Some distributions come with their own developer environments\n",
    "  - Libraries for scientific, machine learning, data applications\n",
    "  - Most distributions come with an editor"
   ]
  },
  {
   "cell_type": "markdown",
   "metadata": {},
   "source": [
    "## Variables and Expressions"
   ]
  },
  {
   "cell_type": "markdown",
   "metadata": {},
   "source": [
    "- Variables are not objects nor containers for objects\n",
    "- They only **act as a pointer or a reference to the object stored in memory**"
   ]
  },
  {
   "cell_type": "code",
   "execution_count": 2,
   "metadata": {},
   "outputs": [
    {
     "name": "stdout",
     "output_type": "stream",
     "text": [
      "b: [1, 2, 3, 4]\n"
     ]
    }
   ],
   "source": [
    "a = [1, 2, 3] # \"a\" is a pointer to a value in memory\n",
    "b = a # \"b\" is a pointer to \"a\": Both pointers point to the same value in memory\n",
    "b.append(4)\n",
    "print(\"b:\", b)"
   ]
  },
  {
   "cell_type": "code",
   "execution_count": 3,
   "metadata": {},
   "outputs": [
    {
     "name": "stdout",
     "output_type": "stream",
     "text": [
      "a: [1, 2, 3, 4]\n"
     ]
    }
   ],
   "source": [
    "print(\"a:\", a) # Changing \"b\" also changes \"a\" because they point to the same value in memory"
   ]
  },
  {
   "cell_type": "markdown",
   "metadata": {},
   "source": [
    "- `a` and `b` are pointing to the same object in memory\n",
    "  - A change in `a` results in a change in `b`\n",
    "  - A change in `b` results in a change in `a`\n",
    "- Variables in Python are dynamically-typed\n",
    "  - Each *value* has a type, like a string or integer\n",
    "  - However, the variable name (pointer) that points to this value does not have a specific type\n",
    "  - **Variables point to an object that can change their type depending on the kind of values assigned to them**"
   ]
  },
  {
   "cell_type": "code",
   "execution_count": 4,
   "metadata": {},
   "outputs": [
    {
     "name": "stdout",
     "output_type": "stream",
     "text": [
      "type(a): <class 'int'>\n",
      "type(a): <class 'float'>\n"
     ]
    }
   ],
   "source": [
    "a = 1\n",
    "print(\"type(a):\", type(a))\n",
    "\n",
    "a += 0.1\n",
    "print(\"type(a):\", type(a)) # The type of \"a\" changed based on the value it contains"
   ]
  },
  {
   "cell_type": "markdown",
   "metadata": {},
   "source": [
    "### Variable Scope - LEGB"
   ]
  },
  {
   "cell_type": "markdown",
   "metadata": {},
   "source": [
    "- Python uses a function-scope\n",
    "  - Whenever a function executes, a local environment (namespace) is created for that function\n",
    "- Whenever a function is called:\n",
    "  - First: Looks in the `local` namespace that is the function itself\n",
    "  - If no match: Looks in the `enclosing` function if any (closure)\n",
    "  - If no match: Looks in the `global` namespace\n",
    "  - If no match: Looks in the `built-in` namespace\n",
    "  - If no match: Raise a `NameError` exception\n",
    "- Using the keyword `global` inside the function, we are explicitly referring to a `global` variable"
   ]
  },
  {
   "cell_type": "code",
   "execution_count": 5,
   "metadata": {},
   "outputs": [
    {
     "name": "stdout",
     "output_type": "stream",
     "text": [
      "Before calling any function:\n",
      "Global a: 15\n",
      "Global b: 25\n",
      "After calling my_first_function():\n",
      "Global a: 15\n",
      "Global b: 25\n",
      "After calling my_second_function():\n",
      "Global a: 11\n",
      "Global b: 25\n"
     ]
    }
   ],
   "source": [
    "# Globals\n",
    "a = 15\n",
    "b = 25\n",
    "\n",
    "def my_first_function():\n",
    "    # Local variables\n",
    "    a = 11\n",
    "    b = 21\n",
    "\n",
    "def my_second_function():\n",
    "    global a # Bring global a into the function's scope\n",
    "    a = 11 # Now global a is 11\n",
    "    b = 21\n",
    "\n",
    "print(\"Before calling any function:\")\n",
    "print(\"Global a:\", a)\n",
    "print(\"Global b:\", b)\n",
    "\n",
    "my_first_function()\n",
    "\n",
    "print(\"After calling my_first_function():\")\n",
    "print(\"Global a:\", a)\n",
    "print(\"Global b:\", b)\n",
    "\n",
    "my_second_function()\n",
    "\n",
    "print(\"After calling my_second_function():\")\n",
    "print(\"Global a:\", a)\n",
    "print(\"Global b:\", b)"
   ]
  },
  {
   "cell_type": "markdown",
   "metadata": {},
   "source": [
    "- **Assignment to a variable in a scope makes that variable a local variable to that scope**"
   ]
  },
  {
   "cell_type": "code",
   "execution_count": 6,
   "metadata": {},
   "outputs": [],
   "source": [
    "a = 10\n",
    "\n",
    "def my_function():\n",
    "    print(a)\n",
    "    a += 1 # Without this line, \"a\" would point to global \"a\"\n",
    "\n",
    "#my_function()\n",
    "# => UnboundLocalError: local variable 'a' referenced before assignment"
   ]
  },
  {
   "cell_type": "markdown",
   "metadata": {},
   "source": [
    "- Accessing the variable as `global` would work in this case\n",
    "  - It is always better to be specific: *Explict is better than implicit*"
   ]
  },
  {
   "cell_type": "code",
   "execution_count": 7,
   "metadata": {},
   "outputs": [
    {
     "name": "stdout",
     "output_type": "stream",
     "text": [
      "10\n"
     ]
    }
   ],
   "source": [
    "a = 10\n",
    "\n",
    "def my_function():\n",
    "    global a\n",
    "    print(a)\n",
    "    a += 1\n",
    "\n",
    "my_function()"
   ]
  },
  {
   "cell_type": "markdown",
   "metadata": {},
   "source": [
    "- But if a local variable does not exist, the global variable is looked at next"
   ]
  },
  {
   "cell_type": "code",
   "execution_count": 8,
   "metadata": {},
   "outputs": [
    {
     "name": "stdout",
     "output_type": "stream",
     "text": [
      "10\n"
     ]
    }
   ],
   "source": [
    "a = 10\n",
    "\n",
    "def my_function():\n",
    "    print(a)\n",
    "\n",
    "my_function()"
   ]
  },
  {
   "cell_type": "markdown",
   "metadata": {},
   "source": [
    "**Summary:**\n",
    "- In Python, the variables that are referenced inside a function are global implicitly\n",
    "- If the a variable is **assigned** a value anywhere inside the function's body, it is assumed to be a local variable unless explicitly declared as `global`"
   ]
  },
  {
   "cell_type": "markdown",
   "metadata": {},
   "source": [
    "## Flow Control and Iterations"
   ]
  },
  {
   "cell_type": "markdown",
   "metadata": {},
   "source": [
    "- The interpreter executes each statement in order until there are no more statements\n",
    "- **All statements have equal status**\n",
    "  - **There are no priorities between statements, main or `import`**\n",
    "- Every statement can be placed anywhere in the program\n",
    "- There are 2 ways to control the flow of execution (forking):\n",
    "  - Conditionals: `if`, `elif`, `else`, `match` (v3.10+)\n",
    "  - Loops: `for`, `while`"
   ]
  },
  {
   "cell_type": "code",
   "execution_count": 9,
   "metadata": {},
   "outputs": [
    {
     "name": "stdout",
     "output_type": "stream",
     "text": [
      "Something else\n"
     ]
    }
   ],
   "source": [
    "# Conditional in Python\n",
    "x = \"one\"\n",
    "\n",
    "if x == 0:\n",
    "    print(\"False\")\n",
    "elif x == 1:\n",
    "    print(\"True\")\n",
    "else:\n",
    "    print(\"Something else\")"
   ]
  },
  {
   "cell_type": "code",
   "execution_count": 10,
   "metadata": {},
   "outputs": [
    {
     "name": "stdout",
     "output_type": "stream",
     "text": [
      "0 1 2 3 4 5 6 7 8 9 "
     ]
    }
   ],
   "source": [
    "# For-Loop in Python\n",
    "for num in range(10):\n",
    "    print(num, end=\" \")"
   ]
  },
  {
   "cell_type": "code",
   "execution_count": 11,
   "metadata": {},
   "outputs": [
    {
     "name": "stdout",
     "output_type": "stream",
     "text": [
      "0 1 2 3 4 5 6 7 8 9 "
     ]
    }
   ],
   "source": [
    "# While loop in Python\n",
    "num = 0\n",
    "while num < 10:\n",
    "    print(num, end=\" \")\n",
    "    num += 1"
   ]
  },
  {
   "cell_type": "markdown",
   "metadata": {},
   "source": [
    "- Python does not have a `do-while` loop\n",
    "- But we can simulate it with a `while True`"
   ]
  },
  {
   "cell_type": "code",
   "execution_count": 12,
   "metadata": {},
   "outputs": [
    {
     "name": "stdout",
     "output_type": "stream",
     "text": [
      "Enter the secret word: test\n",
      "Not good. Try again!\n",
      "Enter the secret word: testlong\n",
      "Not good. Try again!\n",
      "Enter the secret word: python\n",
      "Correct! Please proceed!\n"
     ]
    }
   ],
   "source": [
    "secret_word = \"python\"\n",
    "counter = 0\n",
    "\n",
    "while True:\n",
    "    word = input(\"Enter the secret word: \").lower()\n",
    "    counter += 1\n",
    "    \n",
    "    if word == secret_word:\n",
    "        print(\"Correct! Please proceed!\")\n",
    "        break\n",
    "        \n",
    "    if word != secret_word and counter > 7: \n",
    "        print(\"Too many tries. Goodbye!\")\n",
    "        break\n",
    "        \n",
    "    # If here, need to try again\n",
    "    print(\"Not good. Try again!\")"
   ]
  },
  {
   "cell_type": "markdown",
   "metadata": {},
   "source": [
    "## Data Types and Objects"
   ]
  },
  {
   "cell_type": "markdown",
   "metadata": {},
   "source": [
    "- Built-in data types (15)\n",
    "  - **Numeric Types** (4): \n",
    "    - `int`\n",
    "    - `float` \n",
    "    - `complex`\n",
    "    - `bool`\n",
    "  - **Sequence Types** (4): \n",
    "    - `str`\n",
    "    - `list`\n",
    "    - `tuple`\n",
    "    - `range`\n",
    "  - **Mapping Type** (1): \n",
    "    - `dict`\n",
    "  - **Set Types** (2): \n",
    "    - `set`\n",
    "    - `frozenset`\n",
    "  - **Binary** (3):\n",
    "    - `bytes`\n",
    "    - `bytearray`\n",
    "    - `memoryview`\n",
    "  - **NoneType** (1):\n",
    "    - `None`\n",
    "- User-Defined Objects\n",
    "  - Function\n",
    "  - Class\n",
    "- **All data types in Python are Objects even the *Primitives***\n",
    "  - Each object has `type`, `value`, and `identity`\n",
    "  - `identity` is a pointer to the object's location in memory\n",
    "    - But do not rely on it in your programs\n",
    "    - In practice, the `identity` can be thought of as the variable name holding the data\n",
    "  - Once an instance of an object is created, its identity and type cannot be changed"
   ]
  },
  {
   "cell_type": "code",
   "execution_count": 13,
   "metadata": {},
   "outputs": [],
   "source": [
    "greeting = \"Hello World!\""
   ]
  },
  {
   "cell_type": "code",
   "execution_count": 14,
   "metadata": {},
   "outputs": [
    {
     "name": "stdout",
     "output_type": "stream",
     "text": [
      "<class 'str'>\n",
      "Hello World!\n",
      "1984438885104\n"
     ]
    }
   ],
   "source": [
    "print(type(greeting))\n",
    "print(greeting)\n",
    "print(id(greeting))"
   ]
  },
  {
   "cell_type": "markdown",
   "metadata": {},
   "source": [
    "- Type: `<class 'str'>`\n",
    "- Value: `\"Hello World!\"`\n",
    "- Identity: Location in Memory (In theory): `2184436875056`\n",
    "- `type()`: Get the type of an object\n",
    "- `id()`: Get the id of an object: Location in memory in theory, but do not rely on this in your codes. In practice, just use the variable name.\n",
    "- Comparing objects:\n",
    "  - `if a == b`: a and b have the same value\n",
    "  - `if a is b`: a and b are the same object (Same memory pointer). Same as `id(a) == id(b)`\n",
    "  - `if type(a) is type(b)`: a and b are of the same type\n",
    "- Mutable:\n",
    "  - Mutable objects can have their values changed\n",
    "  - They have methods that change an object's value\n",
    "  - E.g. List, Objects\n",
    "- Immutable:\n",
    "  - Immutable objects cannot have their values changed\n",
    "  - When we run their methods, they simply return a value rather than change the value of an underlying object\n",
    "  - E.g. String, Numbers"
   ]
  },
  {
   "cell_type": "markdown",
   "metadata": {},
   "source": [
    "### Strings"
   ]
  },
  {
   "cell_type": "markdown",
   "metadata": {},
   "source": [
    "- Immutable sequence object\n",
    "  - Each character is an element of the sequence\n",
    "- Supports indexing and slicing\n",
    "  - We can use any expression, variable, or operator as an index as long as the value is an integer\n",
    "- We use methods to perform operations\n",
    "- **Python never implicitly interprets the contents of a string as a number**\n",
    "  - **If we need to perform mathematical operations on a string, we need to first convert them to a numeric type explicitly**\n",
    "- We can also traverse a string with a loop using `enumerate()`\n",
    "- Since strings are immutable, the only way to change the value of a string is to generate a brand new string with the new value (and discarding the old string if we don't need it anymore)"
   ]
  },
  {
   "cell_type": "markdown",
   "metadata": {},
   "source": [
    "#### String Methods"
   ]
  },
  {
   "cell_type": "markdown",
   "metadata": {},
   "source": [
    "- This is a non-exhaustive list of string methods\n",
    "\n",
    "Method | Description\n",
    ":--|:--\n",
    "`str.capitalize()`|Capitalize the first letter\n",
    "`str.lower()`|Convert string to all lowercase\n",
    "`str.upper()`|Convert string to all uppercase\n",
    "`str.swapcase()`|Returns a copy of the string with swapped case in the string\n",
    "`str.count(substring, [start, end])`|Count occurence of substring in the string\n",
    "`str.find(substring, [start, end])`|Return the first occurence of substring in the string\n",
    "`str.endswith(substring, [start, end])`|`True` if ending with substring, `False` otherwise\n",
    "`str.startswith(substring, [start, end])`|`True` if the string starts with a specified substring, `False` otherwise\n",
    "`str.replace(substring, new, [maxreplace])`|Replaces substring with a new substring\n",
    "`str.expandtabs([tabsize])`|Replace tabs with spaces\n",
    "`str.isalnum()`|`True` if all characters are alphanumeric, `False` otherwise\n",
    "`str.isalpha()`|`True` if all characters are alphabetic, `False` otherwise\n",
    "`str.isdigit()`|`True` if all characters are digit, `False` otherwise\n",
    "`str.split([sep],[maxsplit])`|Splits a string at whitespace or an optional separator and returns a list\n",
    "`str.join(seq)`|Joins the strings in sequence `seq`\n",
    "`str.strip([chars])`|Returns a copy of the string with surrounding characters removed (whitespace by default)\n",
    "`str.lstrip([characters])`|Returns a copy of the string with characters (whitespace by default) removed on the left\n",
    "`str.rstrip([characters])`|Returns a copy of the string with characters (whitespace by default) removed on the right"
   ]
  },
  {
   "cell_type": "code",
   "execution_count": 15,
   "metadata": {},
   "outputs": [],
   "source": [
    "# Test string\n",
    "test_str = \"this is our test string test--\""
   ]
  },
  {
   "cell_type": "code",
   "execution_count": 16,
   "metadata": {},
   "outputs": [
    {
     "name": "stdout",
     "output_type": "stream",
     "text": [
      "This is our test string test--\n"
     ]
    }
   ],
   "source": [
    "# Capitalize\n",
    "print(test_str.capitalize())"
   ]
  },
  {
   "cell_type": "code",
   "execution_count": 17,
   "metadata": {},
   "outputs": [
    {
     "name": "stdout",
     "output_type": "stream",
     "text": [
      "2\n"
     ]
    }
   ],
   "source": [
    "# Count substring occurence\n",
    "print(test_str.count(\"test\", 0, len(test_str)))"
   ]
  },
  {
   "cell_type": "code",
   "execution_count": 18,
   "metadata": {},
   "outputs": [
    {
     "name": "stdout",
     "output_type": "stream",
     "text": [
      "This Is Our Test String Test--\n"
     ]
    }
   ],
   "source": [
    "# Convert to Title case\n",
    "print(test_str.title())"
   ]
  },
  {
   "cell_type": "code",
   "execution_count": 19,
   "metadata": {},
   "outputs": [
    {
     "name": "stdout",
     "output_type": "stream",
     "text": [
      "This Is Our Test String Test\n"
     ]
    }
   ],
   "source": [
    "# Strip characters on the right, then make title\n",
    "print(test_str.rstrip(\"-\").title())"
   ]
  },
  {
   "cell_type": "markdown",
   "metadata": {},
   "source": [
    "### Lists"
   ]
  },
  {
   "cell_type": "markdown",
   "metadata": {},
   "source": [
    "- Most used built-in data structure\n",
    "- Can contain different data type\n",
    "- Python does not create multiple copies of a list variable (Reference)\n",
    "  - It only creates new copy when required\n",
    "  - This makes Python more memory efficient\n",
    "- Lists are mutable"
   ]
  },
  {
   "cell_type": "code",
   "execution_count": 20,
   "metadata": {},
   "outputs": [
    {
     "name": "stdout",
     "output_type": "stream",
     "text": [
      "list_one: [4, 2, 3]\n"
     ]
    }
   ],
   "source": [
    "x = 1\n",
    "y = 2\n",
    "z = 3\n",
    "\n",
    "list_one = [x, y, z]\n",
    "list_two = list_one\n",
    "list_two[0] = 4\n",
    "\n",
    "print(\"list_one:\", list_one)"
   ]
  },
  {
   "cell_type": "markdown",
   "metadata": {},
   "source": [
    "#### List Methods"
   ]
  },
  {
   "cell_type": "markdown",
   "metadata": {},
   "source": [
    "- This is a non-exhaustive list of list methods\n",
    "\n",
    "Method|Description\n",
    ":--|:--\n",
    "`list(s)`|Creates a list from a sequence `s`\n",
    "`lst.append(x)`|Append an element at the end of the list\n",
    "`lst.extend(ls2)`|Extend `lst` with the elements of `ls2`\n",
    "`lst.count(x)`|Count occurences of an element\n",
    "`lst.index(x, [start], [stop])`|Returns the smallest index `i`, where `s[i] == x`\n",
    "`lst.insert(i, x)`|Insert `x` at index `i`\n",
    "`lst.pop(i)`|Removes and returns the element at index `i`\n",
    "`lst.remove(x)`|Remove element `x` from the list\n",
    "`lst.sort([key], [reverse])`|Sort the order of the list\n",
    "`lst.reverse()`|Reverse the order of the list"
   ]
  },
  {
   "cell_type": "markdown",
   "metadata": {},
   "source": [
    "#### List Comprehension"
   ]
  },
  {
   "cell_type": "markdown",
   "metadata": {},
   "source": [
    "- A very intuitive way to create lists\n",
    "- Can be used to replicate the function of loops in a compact way\n",
    "- List forms the foundation of many complex data structures\n",
    "- Versatility, ease of creation and use enable them to build more specialized and complex data structures"
   ]
  },
  {
   "cell_type": "code",
   "execution_count": 21,
   "metadata": {},
   "outputs": [
    {
     "name": "stdout",
     "output_type": "stream",
     "text": [
      "Squared numbers: [0, 1, 4, 9, 16]\n",
      "n_list: [[1, 2, 3], [4, 5, 6]]\n",
      "Cartesian Product of n_list: [(1, 4), (1, 5), (1, 6), (2, 4), (2, 5), (2, 6), (3, 4), (3, 5), (3, 6)]\n"
     ]
    }
   ],
   "source": [
    "squared_numbers = [num**2 for num in range(5)]\n",
    "print(\"Squared numbers:\", squared_numbers)\n",
    "\n",
    "n_list = [\n",
    "  [1, 2, 3],\n",
    "  [4, 5, 6]\n",
    "]\n",
    "\n",
    "cartesian_product = [(i,j) for i in n_list[0] for j in n_list[1]]\n",
    "print(\"n_list:\", n_list)\n",
    "print(\"Cartesian Product of n_list:\", cartesian_product)"
   ]
  },
  {
   "cell_type": "markdown",
   "metadata": {},
   "source": [
    "- List comprehension can be used as replacement for `for` loops too sometimes"
   ]
  },
  {
   "cell_type": "code",
   "execution_count": 22,
   "metadata": {},
   "outputs": [
    {
     "name": "stdout",
     "output_type": "stream",
     "text": [
      "lst: [0, 8, 16, 24, 32, 40, 48, 56, 64, 72, 80, 88, 96, 104, 112, 120]\n"
     ]
    }
   ],
   "source": [
    "def f1(x):\n",
    "    return x * 2\n",
    "\n",
    "def f2(x):\n",
    "    return x * 4\n",
    "\n",
    "# Using for-loops\n",
    "lst = []\n",
    "\n",
    "for i in range(16):\n",
    "    lst.append(f1(f2(i)))\n",
    "\n",
    "print(\"lst:\", lst)"
   ]
  },
  {
   "cell_type": "code",
   "execution_count": 23,
   "metadata": {},
   "outputs": [
    {
     "name": "stdout",
     "output_type": "stream",
     "text": [
      "lst: [0, 8, 16, 24, 32, 40, 48, 56, 64, 72, 80, 88, 96, 104, 112, 120]\n"
     ]
    }
   ],
   "source": [
    "# Using list comprehension\n",
    "lst = [f1(x) for x in range(64) if x in [f2(y) for y in range(16)]]\n",
    "print(\"lst:\", lst)"
   ]
  },
  {
   "cell_type": "markdown",
   "metadata": {},
   "source": [
    "- List comprehension can also be used to replicate the action of nested loops in a more compact form"
   ]
  },
  {
   "cell_type": "code",
   "execution_count": 24,
   "metadata": {},
   "outputs": [
    {
     "name": "stdout",
     "output_type": "stream",
     "text": [
      "lst_2: [400, 500, 600, 800, 1000, 1200, 1200, 1500, 1800]\n"
     ]
    }
   ],
   "source": [
    "lst = [\n",
    "  [10, 20, 30],\n",
    "  [40, 50, 60]\n",
    "]\n",
    "\n",
    "# Multiply each numbers from each list: Cartesian Product\n",
    "lst_2 = [i*j for i in lst[0] for j in lst[1]]\n",
    "print(\"lst_2:\", lst_2)"
   ]
  },
  {
   "cell_type": "markdown",
   "metadata": {},
   "source": [
    "- We can also use list comprehension on objects"
   ]
  },
  {
   "cell_type": "code",
   "execution_count": 25,
   "metadata": {},
   "outputs": [
    {
     "name": "stdout",
     "output_type": "stream",
     "text": [
      "words_lengths: [('get', 3), ('each', 4), ('word', 4), ('lengths', 7), ('from', 4), ('this', 4), ('sentence', 8), ('please', 6)]\n"
     ]
    }
   ],
   "source": [
    "words = \"get each word lengths from this sentence please\".split()\n",
    "words_lengths = [(word, len(word)) for word in words]\n",
    "print(\"words_lengths:\", words_lengths)"
   ]
  },
  {
   "cell_type": "markdown",
   "metadata": {},
   "source": [
    "### Functions"
   ]
  },
  {
   "cell_type": "markdown",
   "metadata": {},
   "source": [
    "- Functions are first-class objects\n",
    "- Can be manipulated as regular objects\n",
    "- **First-class object**:\n",
    "  - Created at runtime\n",
    "  - Assigned as a variable or in a data structure\n",
    "  - Passed as argument to a function\n",
    "  - Returned as result of a function\n",
    "- All Python objects are essentially first-class\n",
    "- Functions are esentially *Callable Objects*"
   ]
  },
  {
   "cell_type": "code",
   "execution_count": 26,
   "metadata": {},
   "outputs": [],
   "source": [
    "# A Simple greet function\n",
    "def greet(language):\n",
    "    if language == 'en':\n",
    "        return 'Hello!'\n",
    "    if language == 'fr':\n",
    "        return 'Bonjour!'\n",
    "    if language == 'sp':\n",
    "        return 'Hola!'\n",
    "    else:\n",
    "        return ''"
   ]
  },
  {
   "cell_type": "markdown",
   "metadata": {},
   "source": [
    "- We can include function calls in lists"
   ]
  },
  {
   "cell_type": "code",
   "execution_count": 27,
   "metadata": {},
   "outputs": [
    {
     "name": "stdout",
     "output_type": "stream",
     "text": [
      "greetings: ['Bonjour!', 'Hello!', '']\n"
     ]
    }
   ],
   "source": [
    "greetings = [greet('fr'), greet('en'), greet('jp')]\n",
    "print(\"greetings:\", greetings)"
   ]
  },
  {
   "cell_type": "markdown",
   "metadata": {},
   "source": [
    "- We can use function as argument to other functions\n",
    "- This is useful for pre-processing functions (decorators/High Order Function)"
   ]
  },
  {
   "cell_type": "code",
   "execution_count": 28,
   "metadata": {},
   "outputs": [
    {
     "data": {
      "text/plain": [
       "'Hola!'"
      ]
     },
     "execution_count": 28,
     "metadata": {},
     "output_type": "execute_result"
    }
   ],
   "source": [
    "# A function that takes another function as argument\n",
    "def get_default_greeting(func):\n",
    "    default_lang = 'sp'\n",
    "    return func(default_lang)\n",
    "\n",
    "get_default_greeting(greet)"
   ]
  },
  {
   "cell_type": "markdown",
   "metadata": {},
   "source": [
    "#### High Order Functions"
   ]
  },
  {
   "cell_type": "markdown",
   "metadata": {},
   "source": [
    "- A hallmark of the functional programming paradigm\n",
    "  - A function that takes another function as argument\n",
    "  - A function that returns a function\n",
    "- 2 built-in HOF in Python 3:\n",
    "  - `map()`\n",
    "  - `filter()`\n",
    "  - They return iterators\n",
    "- `reduce()` is also a HOF but must be imported from `functools`"
   ]
  },
  {
   "cell_type": "code",
   "execution_count": 29,
   "metadata": {},
   "outputs": [
    {
     "name": "stdout",
     "output_type": "stream",
     "text": [
      "1 4 9 16 "
     ]
    }
   ],
   "source": [
    "lst = [1, 2, 3, 4]\n",
    "\n",
    "for item in map(lambda x: x**2, lst):\n",
    "    print(item, end=\" \")"
   ]
  },
  {
   "cell_type": "code",
   "execution_count": 30,
   "metadata": {},
   "outputs": [
    {
     "name": "stdout",
     "output_type": "stream",
     "text": [
      "2 4 "
     ]
    }
   ],
   "source": [
    "lst = [1, 2, 3, 4]\n",
    "\n",
    "for item in filter(lambda x: x % 2 == 0, lst):\n",
    "    print(item, end=\" \")"
   ]
  },
  {
   "cell_type": "code",
   "execution_count": 31,
   "metadata": {},
   "outputs": [
    {
     "name": "stdout",
     "output_type": "stream",
     "text": [
      "73\n"
     ]
    }
   ],
   "source": [
    "from functools import reduce\n",
    "\n",
    "lst = [56, 20, 73, 41]\n",
    "\n",
    "# Similar to max(lst)\n",
    "print(reduce(lambda a, b: a if a > b else b, lst))"
   ]
  },
  {
   "cell_type": "markdown",
   "metadata": {},
   "source": [
    "- Both `map` and `filter` perform the same function similar to what can be achieved by list comprehensions\n",
    "  - No great deal of difference in the performance characteristics\n",
    "  - Slight performance advantage when using the built-in functions `map` and `filter` without the lambda operator\n",
    "  - Most style guides recommend the use of list comprehensions over built-in functions"
   ]
  },
  {
   "cell_type": "code",
   "execution_count": 32,
   "metadata": {},
   "outputs": [
    {
     "name": "stdout",
     "output_type": "stream",
     "text": [
      "Words sorted by length: ['a', 'is', 'this', 'sentence']\n"
     ]
    }
   ],
   "source": [
    "# Example of using HOF: Using sorted() built-in function\n",
    "words = \"this is a sentence\".split()\n",
    "print(\"Words sorted by length:\", sorted(words, key=len))"
   ]
  },
  {
   "cell_type": "markdown",
   "metadata": {},
   "source": [
    "**NOTE: `sorted(list)` does not modify the original list**"
   ]
  },
  {
   "cell_type": "code",
   "execution_count": 33,
   "metadata": {},
   "outputs": [
    {
     "name": "stdout",
     "output_type": "stream",
     "text": [
      "['this', 'is', 'a', 'sentence']\n"
     ]
    }
   ],
   "source": [
    "print(words)"
   ]
  },
  {
   "cell_type": "code",
   "execution_count": 34,
   "metadata": {},
   "outputs": [
    {
     "name": "stdout",
     "output_type": "stream",
     "text": [
      "words sorted alphabetically: ['a', 'is', 'sentence', 'this']\n"
     ]
    }
   ],
   "source": [
    "# Example of using HOF: Using list.sort()\n",
    "words = \"this is a sentence\".split()\n",
    "words.sort(key=str.lower)\n",
    "print(\"words sorted alphabetically:\", words)"
   ]
  },
  {
   "cell_type": "markdown",
   "metadata": {},
   "source": [
    "**NOTE: `list.sort()` modifies the original list**"
   ]
  },
  {
   "cell_type": "markdown",
   "metadata": {},
   "source": [
    "- `lst.sort()`\n",
    "  - Sorts the existing instance of a list without copying it\n",
    "  - Sorting by reference\n",
    "  - Changes the target object and returns `None`: *It is a Python convention that methods that change the existing object returns `None`*\n",
    "- `sorted(lst)`:\n",
    "  - Returns a new sorted list\n",
    "  - Sorting by value\n",
    "  - Acts more like a *Pure Function* version of `lst.sort()`\n",
    "- We could also sort complex structures using lambda"
   ]
  },
  {
   "cell_type": "code",
   "execution_count": 35,
   "metadata": {},
   "outputs": [
    {
     "name": "stdout",
     "output_type": "stream",
     "text": [
      "lst: [['flour', 1.9, 5], ['rice', 2.5, 8], ['corn', 4.7, 6]]\n"
     ]
    }
   ],
   "source": [
    "lst = [\n",
    "  [\"rice\", 2.5, 8],\n",
    "  [\"flour\", 1.9, 5],\n",
    "  [\"corn\", 4.7, 6]\n",
    "]\n",
    "lst.sort(key=lambda el: el[1])\n",
    "print(\"lst:\", lst)"
   ]
  },
  {
   "cell_type": "markdown",
   "metadata": {},
   "source": [
    "#### Recursive Functions"
   ]
  },
  {
   "cell_type": "markdown",
   "metadata": {},
   "source": [
    "- Recursion: When a function takes one or more calls to itself during execution\n",
    "- Loops execute statements repeatedly through a Boolean condition or through a series of elements\n",
    "- Recursion repeatedly calls a function through a Base case\n",
    "- Although both involve repetition, iteration loops through a sequence of operations, whereas recursion repeatedly calls a function\n",
    "- To stop a recursive function from turning into an infinite recursion, we need at least one argument that tests for a terminating case (base case) to end the recursion\n",
    "- Technically, **recursion is a special case of iteration known as tail iteration**, and it is usually always possible to convert an iterative function to a recursive function and vice versa"
   ]
  },
  {
   "cell_type": "code",
   "execution_count": 36,
   "metadata": {},
   "outputs": [
    {
     "name": "stdout",
     "output_type": "stream",
     "text": [
      "1 2 3 4 5 6 7 8 9 10 11 12 13 14 15 16 17 18 19 20 \n",
      "\n",
      "1 2 3 4 5 6 7 8 9 10 11 12 13 14 15 16 17 18 19 20 "
     ]
    }
   ],
   "source": [
    "def iterate(low, high):\n",
    "    while low <= high:\n",
    "        print(low, end=\" \")\n",
    "        low += 1\n",
    "\n",
    "def recurse(low, high):\n",
    "    if (low <= high):\n",
    "        print(low, end=\" \")\n",
    "        recurse(low+1, high)\n",
    "\n",
    "iterate(1,20)\n",
    "print(\"\\n\")\n",
    "recurse(1,20)"
   ]
  },
  {
   "cell_type": "markdown",
   "metadata": {},
   "source": [
    "- In general, iteration is more efficient\n",
    "- However, recursion is usually easier to write\n",
    "- **Recursive functions are also useful for manipulating recursive data structures such as linked lists and trees**"
   ]
  },
  {
   "cell_type": "markdown",
   "metadata": {},
   "source": [
    "## Generators and Coroutines"
   ]
  },
  {
   "cell_type": "markdown",
   "metadata": {},
   "source": [
    "- **Generator - A function that does not just return one result but rather an entire sequence of results, one at at time, by using the `yield` statement**\n",
    "- Generators Functions are an easy way to create Iterators Objects\n",
    "  - Iterators are especially useful as a replacement for unworkably long lists\n",
    "  - A generator yields items one at a time rather than builds lists at once\n",
    "- *A generator is just a function*\n",
    "- **Generators never *return* a value other than `None`**"
   ]
  },
  {
   "cell_type": "code",
   "execution_count": 37,
   "metadata": {},
   "outputs": [
    {
     "data": {
      "text/plain": [
       "25000000000000"
      ]
     },
     "execution_count": 37,
     "metadata": {},
     "output_type": "execute_result"
    }
   ],
   "source": [
    "# Generator function: creates an iterator of odd numbers between n and m\n",
    "def odd_generator(n, m):\n",
    "    while n < m:\n",
    "        yield n\n",
    "        n += 2\n",
    "\n",
    "sum(odd_generator(1, 10000000)) # 10 Million"
   ]
  },
  {
   "cell_type": "markdown",
   "metadata": {},
   "source": [
    "- Advantage of generator vs list\n",
    "  - The values are generated on demand rather than saved as a list in memory\n",
    "  - This is achieved by the generator object repeatedly calling the `__next__()` special method\n",
    "  - A calculation can begin before all the elements have been generated \n",
    "  - Elements are generated only when they are needed\n",
    "- Typically, generators are used in `for-loops`\n",
    "  - `range()` is a good example of a generator"
   ]
  },
  {
   "cell_type": "code",
   "execution_count": 38,
   "metadata": {},
   "outputs": [
    {
     "name": "stdout",
     "output_type": "stream",
     "text": [
      "Possible states combinations per byte length:\n",
      "---------------------------------------------\n",
      "0 Bytes (0 bits): [0 - 0]\n",
      "1 Bytes (8 bits): [0 - 255]\n",
      "2 Bytes (16 bits): [0 - 65535]\n",
      "3 Bytes (24 bits): [0 - 16777215]\n",
      "4 Bytes (32 bits): [0 - 4294967295]\n",
      "5 Bytes (40 bits): [0 - 1099511627775]\n",
      "6 Bytes (48 bits): [0 - 281474976710655]\n",
      "7 Bytes (56 bits): [0 - 72057594037927935]\n",
      "8 Bytes (64 bits): [0 - 18446744073709551615]\n",
      "9 Bytes (72 bits): [0 - 4722366482869645213695]\n",
      "10 Bytes (80 bits): [0 - 1208925819614629174706175]\n",
      "11 Bytes (88 bits): [0 - 309485009821345068724781055]\n",
      "12 Bytes (96 bits): [0 - 79228162514264337593543950335]\n",
      "13 Bytes (104 bits): [0 - 20282409603651670423947251286015]\n",
      "14 Bytes (112 bits): [0 - 5192296858534827628530496329220095]\n",
      "15 Bytes (120 bits): [0 - 1329227995784915872903807060280344575]\n",
      "16 Bytes (128 bits): [0 - 340282366920938463463374607431768211455]\n",
      "17 Bytes (136 bits): [0 - 87112285931760246646623899502532662132735]\n",
      "18 Bytes (144 bits): [0 - 22300745198530623141535718272648361505980415]\n",
      "19 Bytes (152 bits): [0 - 5708990770823839524233143877797980545530986495]\n",
      "20 Bytes (160 bits): [0 - 1461501637330902918203684832716283019655932542975]\n"
     ]
    }
   ],
   "source": [
    "# Possible states combinations per byte length\n",
    "header = \"Possible states combinations per byte length:\"\n",
    "print(header)\n",
    "print(\"-\" * len(header))\n",
    "for n in range(21):\n",
    "    print(f\"{n} Bytes ({8*n} bits): [0 - {2**(8*n)-1}]\")"
   ]
  },
  {
   "cell_type": "markdown",
   "metadata": {},
   "source": [
    "**NOTE: Python has no size limit on Integers**"
   ]
  },
  {
   "cell_type": "code",
   "execution_count": 39,
   "metadata": {},
   "outputs": [
    {
     "name": "stdout",
     "output_type": "stream",
     "text": [
      "2135987035920910082395021706169552114602704522353729766672379801985812356115207983983650221850625\n"
     ]
    }
   ],
   "source": [
    "print(1461501637330902918203684832716283019655932542975 * 1461501637330902918203684832716283019655932542975)"
   ]
  },
  {
   "cell_type": "markdown",
   "metadata": {},
   "source": [
    "### Generator Expression"
   ]
  },
  {
   "cell_type": "markdown",
   "metadata": {},
   "source": [
    "- Similar to list comprehension but for generators\n",
    "- Simply replace the brackets with parenthesis\n",
    "- Does not create a list but a generator object\n",
    "- This object does not create the data, but rather creates that data on demand\n",
    "- The generator objects do not support sequence methods such as `append()` and `insert()`"
   ]
  },
  {
   "cell_type": "code",
   "execution_count": 40,
   "metadata": {},
   "outputs": [
    {
     "name": "stdout",
     "output_type": "stream",
     "text": [
      "0 256 512 768 1024 1280 1536 1792 2048 2304 "
     ]
    }
   ],
   "source": [
    "gen = (2**8*x for x in range(10))\n",
    "\n",
    "for n in gen:\n",
    "    print(n, end=\" \")"
   ]
  },
  {
   "cell_type": "markdown",
   "metadata": {},
   "source": [
    "- Generator object can be changed into a list using `list()`\n",
    "  - This can only be done once though\n",
    "  - The generator then will not return any further items"
   ]
  },
  {
   "cell_type": "code",
   "execution_count": 41,
   "metadata": {},
   "outputs": [
    {
     "name": "stdout",
     "output_type": "stream",
     "text": [
      "lst: [0, 1, 2, 3, 4, 5, 6, 7, 8, 9]\n"
     ]
    }
   ],
   "source": [
    "gen = (x for x in range(10))\n",
    "lst = list(gen)\n",
    "print(\"lst:\", lst)"
   ]
  },
  {
   "cell_type": "markdown",
   "metadata": {},
   "source": [
    "## Classes and Objects"
   ]
  },
  {
   "cell_type": "markdown",
   "metadata": {},
   "source": [
    "- A class defines a set of attributes that are shared across instances of that class\n",
    "  - Functions\n",
    "  - Variables\n",
    "  - Properties\n",
    "- By organizing our programs around objects and data rather than actions and logic, we have a robust and flexible way to build complex applications\n",
    "- This makes our code:\n",
    "  - Less error-prone\n",
    "  - Easier to extend and maintain\n",
    "  - Able to model real-world objects\n",
    "- **Instance Methods**: The functions defined inside a class"
   ]
  },
  {
   "cell_type": "code",
   "execution_count": 42,
   "metadata": {},
   "outputs": [],
   "source": [
    "class Employee(object):\n",
    "    \n",
    "    # Class Variables: Shared value across all instances\n",
    "    num_employees = 0\n",
    "\n",
    "    # Implement __init__\n",
    "    def __init__(self, name, rate):\n",
    "        self.owed = 0\n",
    "        self.name = name\n",
    "        self.rate = rate\n",
    "        Employee.num_employees += 1\n",
    "        \n",
    "    # Implement __del__\n",
    "    def __del__(self):\n",
    "        Employee.num_employees -= 1\n",
    "        \n",
    "    # Method for calculating hours worked\n",
    "    def hours(self, num_hours):\n",
    "        self.owed += num_hours * self.rate\n",
    "        return \"{0:.2f} hours worked\".format(num_hours)\n",
    "    \n",
    "    # Method for calculating payment\n",
    "    def pay(self):\n",
    "        self.owed = 0\n",
    "        return \"payed {0}\".format(self.name)"
   ]
  },
  {
   "cell_type": "markdown",
   "metadata": {},
   "source": [
    "### Creating New Instances of a Class"
   ]
  },
  {
   "cell_type": "code",
   "execution_count": 43,
   "metadata": {},
   "outputs": [
    {
     "name": "stdout",
     "output_type": "stream",
     "text": [
      "2\n",
      "20.00 hours worked\n"
     ]
    }
   ],
   "source": [
    "emp1 = Employee('John', 18.50)\n",
    "emp2 = Employee('Jill', 19.45)\n",
    "\n",
    "print(Employee.num_employees) # => 2\n",
    "print(emp2.hours(20)) # => \"20 hours worked\""
   ]
  },
  {
   "cell_type": "code",
   "execution_count": 44,
   "metadata": {},
   "outputs": [
    {
     "name": "stdout",
     "output_type": "stream",
     "text": [
      "payed John\n"
     ]
    }
   ],
   "source": [
    "print(emp1.pay()) #=> \"payed John\""
   ]
  },
  {
   "cell_type": "markdown",
   "metadata": {},
   "source": [
    "### Special Methods"
   ]
  },
  {
   "cell_type": "markdown",
   "metadata": {},
   "source": [
    "- Built-in methods that begins and end with double-underscores\n",
    "- Generally called by the Python interpreter rather than the programmer\n",
    "- Use the `dir(obj)` function to get a list of attributes of a particular object\n",
    "  - The Special Methods starts and end with `__`"
   ]
  },
  {
   "cell_type": "code",
   "execution_count": 45,
   "metadata": {},
   "outputs": [
    {
     "name": "stdout",
     "output_type": "stream",
     "text": [
      "__class__\n",
      "__del__\n",
      "__delattr__\n",
      "__dict__\n",
      "__dir__\n",
      "__doc__\n",
      "__eq__\n",
      "__format__\n",
      "__ge__\n",
      "__getattribute__\n",
      "__gt__\n",
      "__hash__\n",
      "__init__\n",
      "__init_subclass__\n",
      "__le__\n",
      "__lt__\n",
      "__module__\n",
      "__ne__\n",
      "__new__\n",
      "__reduce__\n",
      "__reduce_ex__\n",
      "__repr__\n",
      "__setattr__\n",
      "__sizeof__\n",
      "__str__\n",
      "__subclasshook__\n",
      "__weakref__\n"
     ]
    }
   ],
   "source": [
    "for d in dir(emp1):\n",
    "    if \"__\" in d:\n",
    "        print(d)"
   ]
  },
  {
   "cell_type": "markdown",
   "metadata": {},
   "source": [
    "- `__init__`: The only special method we actually call in our programs, as common practice, to invoke the initializer of the superclass in our own class definitions\n",
    "- We use the special methods to define what happen when the interpreter call some specific methods\n",
    "  - `__repr__`: Called when a string representation of the object is needed (Example, called by `print()`"
   ]
  },
  {
   "cell_type": "code",
   "execution_count": 46,
   "metadata": {},
   "outputs": [],
   "source": [
    "class MyClass:\n",
    "    \n",
    "    def __init__(self, greet):\n",
    "        self.greet = greet\n",
    "\n",
    "    def __repr__(self):\n",
    "        return 'A custom object \"{0}\"'.format(self.greet)"
   ]
  },
  {
   "cell_type": "code",
   "execution_count": 47,
   "metadata": {},
   "outputs": [
    {
     "name": "stdout",
     "output_type": "stream",
     "text": [
      "A custom object \"Hello\"\n"
     ]
    }
   ],
   "source": [
    "m = MyClass('Hello')\n",
    "print(m)"
   ]
  },
  {
   "cell_type": "markdown",
   "metadata": {},
   "source": [
    "## Inheritance"
   ]
  },
  {
   "cell_type": "markdown",
   "metadata": {},
   "source": [
    "- Inheritance allows to derive a child class from an existing parent class\n",
    "- Inheritance in Python is done by passing the inherited class as an argument in the class definition\n",
    "  - It is often used to modify the behavior of existing methods\n",
    "  - The derived class is similar to the base class except for what is changed\n",
    "- For a subclass to define new class variables, it needs to define an `__init__` method"
   ]
  },
  {
   "cell_type": "code",
   "execution_count": 48,
   "metadata": {},
   "outputs": [],
   "source": [
    "class SpecialEmployee(Employee): # Inheriting from Employee\n",
    "    \n",
    "    def __init__(self, name, rate, bonus):\n",
    "        # Calls the base classes\n",
    "        Employee.__init__(self, name, rate)\n",
    "        # Add additional properties or overrrides\n",
    "        self.bonus = bonus\n",
    "\n",
    "    def hours(self, num_hours):\n",
    "        self.owed += num_hours * self.rate * 2\n",
    "        return \"{0:.2f} hours worked\".format(num_hours)"
   ]
  },
  {
   "cell_type": "markdown",
   "metadata": {},
   "source": [
    "- `issubclass(subclass, class)` to check whether a class is a subclass of another class\n",
    "- `isinstance(instance, class)` to check if an object belongs to a class or not"
   ]
  },
  {
   "cell_type": "code",
   "execution_count": 49,
   "metadata": {},
   "outputs": [
    {
     "name": "stdout",
     "output_type": "stream",
     "text": [
      "True\n",
      "True\n"
     ]
    }
   ],
   "source": [
    "print(issubclass(SpecialEmployee, Employee))\n",
    "print(isinstance(emp1, Employee))"
   ]
  },
  {
   "cell_type": "code",
   "execution_count": 50,
   "metadata": {},
   "outputs": [
    {
     "name": "stdout",
     "output_type": "stream",
     "text": [
      "True\n"
     ]
    }
   ],
   "source": [
    "senior_developer = SpecialEmployee(\"John Smith\", 100, 10000)\n",
    "print(isinstance(senior_developer, SpecialEmployee))"
   ]
  },
  {
   "cell_type": "markdown",
   "metadata": {},
   "source": [
    "### Static Method vs Class Method vs Instance Method"
   ]
  },
  {
   "cell_type": "markdown",
   "metadata": {},
   "source": [
    "- **A *static method* is mainly bound to the class, and not bound with the instance of the class**\n",
    "  - When called, it does not take `self` as the first argument\n",
    "  - Defined within the class and does not require an instance of a class to execute\n",
    "  - Does not perform operations on the instances\n",
    "  - Defined using the `@staticmethod` decorator\n",
    "  - Most common usage is as a convenience to group utility functions together\n",
    "  - Cannot access the attributes of an instance\n",
    "- **A *class method* operates on the class itself and does not work with the instances**\n",
    "  - Distinguished from instance methods in the class\n",
    "  - Works in the same way that class variables are associated with the classes rather than instances of that class\n",
    "  - Defined using the `@classmethod` decorator\n",
    "  - The class itself is passed as the first argument, and this is named `cls` by convention"
   ]
  },
  {
   "cell_type": "code",
   "execution_count": 51,
   "metadata": {},
   "outputs": [
    {
     "name": "stdout",
     "output_type": "stream",
     "text": [
      "The value of 3 to the power 3 is: 27\n",
      "The sum is: 25\n",
      "64\n"
     ]
    }
   ],
   "source": [
    "class ExponentialA(object):\n",
    "    base = 3\n",
    "    \n",
    "    @classmethod\n",
    "    def exp(cls, x):\n",
    "        return(cls.base**x)\n",
    "\n",
    "    @staticmethod\n",
    "    def addition(x, y):\n",
    "        return (x + y)\n",
    "\n",
    "class ExponentialB(ExponentialA):\n",
    "    base = 4\n",
    "\n",
    "exp_a = ExponentialA()\n",
    "exp_b = exp_a.exp(3) # Using class method\n",
    "\n",
    "print(\"The value of 3 to the power 3 is:\", exp_b)\n",
    "\n",
    "# Using Static Method\n",
    "print('The sum is:', ExponentialA.addition(15, 10))\n",
    "print(ExponentialB.exp(3))"
   ]
  },
  {
   "cell_type": "markdown",
   "metadata": {},
   "source": [
    "- The difference between a static method and a class method is that:\n",
    "  - A **static method doesn't know anything about the class**: It only deals with the parameters\n",
    "  - A **class method works only with the class**: Its parameter is always the class itself\n",
    "- Class methods are a way to break away from inheritance and modify the class"
   ]
  },
  {
   "cell_type": "markdown",
   "metadata": {},
   "source": [
    "## Data Encapsulation and Properties"
   ]
  },
  {
   "cell_type": "markdown",
   "metadata": {},
   "source": [
    "- All attributes and methods are accessible without restriction by default\n",
    "  - Everything defined in a base class is accessible from a derived class\n",
    "- This can lead to namespace conflicts between objects defined in derived classes with the base class\n",
    "  - To prevent this, the methods we define private attributes with have a double underscore, such as `__privateMethod()`\n",
    "  - These method names are automatically changed to `__Classname_privateMethod()` to prevent name conflicts with methods defined in base classes\n",
    "- *Note: This is only to avoid name conflict but does not hide the variable from being seen*\n",
    "  - It is recommended to use private attributes when using a class property to define mutable attributes"
   ]
  },
  {
   "cell_type": "code",
   "execution_count": 52,
   "metadata": {},
   "outputs": [],
   "source": [
    "class ExponentialB(ExponentialA):\n",
    "    base = 4\n",
    "\n",
    "    def exp(self):\n",
    "        return (x**cls.base)"
   ]
  }
 ],
 "metadata": {
  "hide_input": false,
  "kernelspec": {
   "display_name": "Python 3 (ipykernel)",
   "language": "python",
   "name": "python3"
  },
  "language_info": {
   "codemirror_mode": {
    "name": "ipython",
    "version": 3
   },
   "file_extension": ".py",
   "mimetype": "text/x-python",
   "name": "python",
   "nbconvert_exporter": "python",
   "pygments_lexer": "ipython3",
   "version": "3.9.7"
  },
  "toc": {
   "base_numbering": 1,
   "nav_menu": {},
   "number_sections": true,
   "sideBar": true,
   "skip_h1_title": true,
   "title_cell": "Table of Contents",
   "title_sidebar": "Contents",
   "toc_cell": true,
   "toc_position": {},
   "toc_section_display": true,
   "toc_window_display": true
  },
  "varInspector": {
   "cols": {
    "lenName": 16,
    "lenType": 16,
    "lenVar": 40
   },
   "kernels_config": {
    "python": {
     "delete_cmd_postfix": "",
     "delete_cmd_prefix": "del ",
     "library": "var_list.py",
     "varRefreshCmd": "print(var_dic_list())"
    },
    "r": {
     "delete_cmd_postfix": ") ",
     "delete_cmd_prefix": "rm(",
     "library": "var_list.r",
     "varRefreshCmd": "cat(var_dic_list()) "
    }
   },
   "types_to_exclude": [
    "module",
    "function",
    "builtin_function_or_method",
    "instance",
    "_Feature"
   ],
   "window_display": false
  }
 },
 "nbformat": 4,
 "nbformat_minor": 4
}
