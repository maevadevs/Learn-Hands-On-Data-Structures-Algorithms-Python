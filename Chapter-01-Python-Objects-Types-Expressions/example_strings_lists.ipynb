{
 "cells": [
  {
   "attachments": {},
   "cell_type": "markdown",
   "metadata": {},
   "source": [
    "# Example - Strings and Lists\n"
   ]
  },
  {
   "attachments": {},
   "cell_type": "markdown",
   "metadata": {},
   "source": [
    "---\n"
   ]
  },
  {
   "attachments": {},
   "cell_type": "markdown",
   "metadata": {},
   "source": [
    "**Table of contents**<a id='toc0_'></a>\n",
    "\n",
    "-   [Slicing](#toc1_)\n",
    "-   [Loop Traversing](#toc2_)\n",
    "-   [Lists and Strings](#toc3_)\n",
    "-   [Lit Comprehension](#toc4_)\n",
    "\n",
    "<!-- vscode-jupyter-toc-config\n",
    "\tnumbering=false\n",
    "\tanchor=true\n",
    "\tflat=false\n",
    "\tminLevel=2\n",
    "\tmaxLevel=6\n",
    "\t/vscode-jupyter-toc-config -->\n",
    "<!-- THIS CELL WILL BE REPLACED ON TOC UPDATE. DO NOT WRITE YOUR TEXT IN THIS CELL -->\n"
   ]
  },
  {
   "attachments": {},
   "cell_type": "markdown",
   "metadata": {},
   "source": [
    "---\n"
   ]
  },
  {
   "attachments": {},
   "cell_type": "markdown",
   "metadata": {},
   "source": [
    "## <a id='toc1_'></a>Slicing [&#8593;](#toc0_)\n"
   ]
  },
  {
   "cell_type": "code",
   "execution_count": 1,
   "metadata": {},
   "outputs": [
    {
     "name": "stdout",
     "output_type": "stream",
     "text": [
      "2nd character is e\n",
      "Characters from 0th to 8th index are hello wo\n"
     ]
    }
   ],
   "source": [
    "greet: str = \"hello world\"\n",
    "\n",
    "print(f\"2nd character is {greet[1]}\")\n",
    "print(f\"Characters from 0th to 8th index are {greet[0:8]}\")\n"
   ]
  },
  {
   "attachments": {},
   "cell_type": "markdown",
   "metadata": {},
   "source": [
    "## <a id='toc2_'></a>Loop Traversing [&#8593;](#toc0_)\n"
   ]
  },
  {
   "cell_type": "code",
   "execution_count": 2,
   "metadata": {},
   "outputs": [
    {
     "name": "stdout",
     "output_type": "stream",
     "text": [
      "Example to understand traversing a string through loop\n",
      "(0, 'h') (1, 'e') (2, 'l') (3, 'l') (4, 'o') "
     ]
    }
   ],
   "source": [
    "print(\"Example to understand traversing a string through loop\")\n",
    "\n",
    "for tup in enumerate(greet[0:5]):\n",
    "    print(tup, end=\" \")\n"
   ]
  },
  {
   "attachments": {},
   "cell_type": "markdown",
   "metadata": {},
   "source": [
    "## <a id='toc3_'></a>Lists and Strings [&#8593;](#toc0_)\n"
   ]
  },
  {
   "cell_type": "code",
   "execution_count": 3,
   "metadata": {},
   "outputs": [
    {
     "name": "stdout",
     "output_type": "stream",
     "text": [
      "List 1 items are [1, 4, 3]\n"
     ]
    }
   ],
   "source": [
    "x: int = 1\n",
    "y: int = 2\n",
    "z: int = 3\n",
    "\n",
    "list1: list[int] = [x, y, z]\n",
    "list2: list[int] = list1\n",
    "list2[1] = 4\n",
    "\n",
    "print(f\"List 1 items are {list1}\")\n"
   ]
  },
  {
   "cell_type": "code",
   "execution_count": 4,
   "metadata": {},
   "outputs": [
    {
     "name": "stdout",
     "output_type": "stream",
     "text": [
      "Product: rice price: 2.40 Quality: 8\n",
      "Product: flour price: 1.90 Quality: 5\n",
      "Product: corn price: 4.70 Quality: 6\n"
     ]
    }
   ],
   "source": [
    "from typing import Any\n",
    "\n",
    "items: list[list[Any]] = [[\"rice\", 2.4, 8], [\"flour\", 1.9, 5], [\"corn\", 4.7, 6]]\n",
    "\n",
    "for item in items:\n",
    "    print(f\"Product: {item[0]:s} price: {item[1]:.2f} Quality: {item[2]:d}\")\n"
   ]
  },
  {
   "attachments": {},
   "cell_type": "markdown",
   "metadata": {},
   "source": [
    "## <a id='toc4_'></a>Lit Comprehension [&#8593;](#toc0_)\n"
   ]
  },
  {
   "cell_type": "code",
   "execution_count": 5,
   "metadata": {},
   "outputs": [
    {
     "name": "stdout",
     "output_type": "stream",
     "text": [
      "[0, 8, 16, 24, 32, 40, 48, 56, 64, 72, 80, 88, 96, 104, 112, 120]\n",
      "[0, 8, 16, 24, 32, 40, 48, 56, 64, 72, 80, 88, 96, 104, 112, 120]\n"
     ]
    }
   ],
   "source": [
    "# List Comprehensions\n",
    "def f1(x: int) -> int:\n",
    "    return x * 2\n",
    "\n",
    "\n",
    "def f2(x: int) -> int:\n",
    "    return x * 4\n",
    "\n",
    "\n",
    "lst: list[int] = []\n",
    "for i in range(16):\n",
    "    lst.append(f1(f2(i)))\n",
    "\n",
    "print(lst)\n",
    "print([f1(x) for x in range(64) if x in [f2(j) for j in range(16)]])\n"
   ]
  }
 ],
 "metadata": {
  "hide_input": false,
  "kernelspec": {
   "display_name": "Python 3 (ipykernel)",
   "language": "python",
   "name": "python3"
  },
  "language_info": {
   "codemirror_mode": {
    "name": "ipython",
    "version": 3
   },
   "file_extension": ".py",
   "mimetype": "text/x-python",
   "name": "python",
   "nbconvert_exporter": "python",
   "pygments_lexer": "ipython3",
   "version": "3.11.3"
  },
  "toc": {
   "base_numbering": 1,
   "nav_menu": {},
   "number_sections": false,
   "sideBar": false,
   "skip_h1_title": false,
   "title_cell": "Table of Contents",
   "title_sidebar": "Contents",
   "toc_cell": false,
   "toc_position": {},
   "toc_section_display": false,
   "toc_window_display": false
  },
  "varInspector": {
   "cols": {
    "lenName": 16,
    "lenType": 16,
    "lenVar": 40
   },
   "kernels_config": {
    "python": {
     "delete_cmd_postfix": "",
     "delete_cmd_prefix": "del ",
     "library": "var_list.py",
     "varRefreshCmd": "print(var_dic_list())"
    },
    "r": {
     "delete_cmd_postfix": ") ",
     "delete_cmd_prefix": "rm(",
     "library": "var_list.r",
     "varRefreshCmd": "cat(var_dic_list()) "
    }
   },
   "types_to_exclude": [
    "module",
    "function",
    "builtin_function_or_method",
    "instance",
    "_Feature"
   ],
   "window_display": false
  }
 },
 "nbformat": 4,
 "nbformat_minor": 4
}
