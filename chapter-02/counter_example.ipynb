{
 "cells": [
  {
   "cell_type": "markdown",
   "metadata": {},
   "source": [
    "# Counter Example"
   ]
  },
  {
   "cell_type": "code",
   "execution_count": 14,
   "metadata": {},
   "outputs": [],
   "source": [
    "from collections import Counter"
   ]
  },
  {
   "cell_type": "code",
   "execution_count": 15,
   "metadata": {},
   "outputs": [],
   "source": [
    "c1 = Counter('anysequence')\n",
    "c2 = Counter({'a':1, 'c': 1, 'e':3})\n",
    "c3 = Counter(a=1, c=1, e=3)"
   ]
  },
  {
   "cell_type": "code",
   "execution_count": 16,
   "metadata": {},
   "outputs": [
    {
     "name": "stdout",
     "output_type": "stream",
     "text": [
      "print counter 1 is Counter({'e': 3, 'n': 2, 'a': 1, 'y': 1, 's': 1, 'q': 1, 'u': 1, 'c': 1})\n",
      "print counter 2 is Counter({'e': 3, 'a': 1, 'c': 1})\n",
      "print counter 3 is Counter({'e': 3, 'a': 1, 'c': 1})\n"
     ]
    }
   ],
   "source": [
    "print(\"print counter 1 is\", c1)\n",
    "print(\"print counter 2 is\", c2)\n",
    "print(\"print counter 3 is\", c3)"
   ]
  },
  {
   "cell_type": "code",
   "execution_count": 17,
   "metadata": {},
   "outputs": [
    {
     "name": "stdout",
     "output_type": "stream",
     "text": [
      "print an empty counter---- Counter()\n"
     ]
    }
   ],
   "source": [
    "ct = Counter() # creates an empty counter object\n",
    "print(\"print an empty counter----\", ct)"
   ]
  },
  {
   "cell_type": "code",
   "execution_count": 18,
   "metadata": {},
   "outputs": [
    {
     "name": "stdout",
     "output_type": "stream",
     "text": [
      "print updated counter --- Counter({'a': 2, 'b': 1, 'c': 1})\n"
     ]
    }
   ],
   "source": [
    "ct.update('abca') # populates the object\n",
    "print(\"print updated counter ---\", ct)"
   ]
  },
  {
   "cell_type": "code",
   "execution_count": 19,
   "metadata": {},
   "outputs": [
    {
     "name": "stdout",
     "output_type": "stream",
     "text": [
      "print updated counter Counter({'a': 5, 'b': 1, 'c': 1})\n"
     ]
    }
   ],
   "source": [
    "ct.update({'a':3}) # update the count of 'a'\n",
    "print(\"print updated counter\", ct)"
   ]
  },
  {
   "cell_type": "code",
   "execution_count": 20,
   "metadata": {},
   "outputs": [
    {
     "name": "stdout",
     "output_type": "stream",
     "text": [
      "a: 5\n",
      "b: 1\n",
      "c: 1\n"
     ]
    }
   ],
   "source": [
    "# access all the items in the counter\n",
    "for item in ct:\n",
    "    print('%s: %d' % (item, ct[item]))"
   ]
  },
  {
   "cell_type": "code",
   "execution_count": 21,
   "metadata": {},
   "outputs": [
    {
     "name": "stdout",
     "output_type": "stream",
     "text": [
      "Print element which is not present 0\n"
     ]
    }
   ],
   "source": [
    "print(\"Print element which is not present\", ct['x'])"
   ]
  },
  {
   "cell_type": "code",
   "execution_count": 22,
   "metadata": {},
   "outputs": [
    {
     "name": "stdout",
     "output_type": "stream",
     "text": [
      "updated counter Counter({'a': 2, 'e': 2, 'c': 1, 'b': -1})\n"
     ]
    }
   ],
   "source": [
    "ct.update({'a':-3, 'b':-2, 'e':2})\n",
    "print (\"updated counter\", ct)"
   ]
  },
  {
   "cell_type": "code",
   "execution_count": 23,
   "metadata": {},
   "outputs": [
    {
     "name": "stdout",
     "output_type": "stream",
     "text": [
      "print sorted elements ['a', 'a', 'c', 'e', 'e']\n"
     ]
    }
   ],
   "source": [
    "print(\"print sorted elements\", sorted(ct.elements()))"
   ]
  },
  {
   "cell_type": "code",
   "execution_count": 24,
   "metadata": {},
   "outputs": [
    {
     "name": "stdout",
     "output_type": "stream",
     "text": [
      "print most common elements [('a', 2), ('e', 2), ('c', 1), ('b', -1)]\n"
     ]
    }
   ],
   "source": [
    "print(\"print most common elements\", ct.most_common())"
   ]
  },
  {
   "cell_type": "code",
   "execution_count": 25,
   "metadata": {},
   "outputs": [
    {
     "name": "stdout",
     "output_type": "stream",
     "text": [
      "print updated counter Counter({'a': 2, 'c': 1, 'e': 0, 'b': -1})\n"
     ]
    }
   ],
   "source": [
    "ct.subtract({'e':2})\n",
    "print(\"print updated counter\", ct)"
   ]
  }
 ],
 "metadata": {
  "kernelspec": {
   "display_name": "Python 3",
   "language": "python",
   "name": "python3"
  },
  "language_info": {
   "codemirror_mode": {
    "name": "ipython",
    "version": 3
   },
   "file_extension": ".py",
   "mimetype": "text/x-python",
   "name": "python",
   "nbconvert_exporter": "python",
   "pygments_lexer": "ipython3",
   "version": "3.8.2"
  },
  "toc": {
   "base_numbering": 1,
   "nav_menu": {},
   "number_sections": false,
   "sideBar": false,
   "skip_h1_title": false,
   "title_cell": "Table of Contents",
   "title_sidebar": "Contents",
   "toc_cell": false,
   "toc_position": {},
   "toc_section_display": false,
   "toc_window_display": false
  }
 },
 "nbformat": 4,
 "nbformat_minor": 4
}
