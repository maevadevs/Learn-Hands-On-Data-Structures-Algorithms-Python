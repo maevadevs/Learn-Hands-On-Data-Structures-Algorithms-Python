{
 "cells": [
  {
   "cell_type": "markdown",
   "metadata": {
    "toc": true
   },
   "source": [
    "<h1>Table of Contents<span class=\"tocSkip\"></span></h1>\n",
    "<div class=\"toc\"><ul class=\"toc-item\"><li><span><a href=\"#Chapter-Goals\" data-toc-modified-id=\"Chapter-Goals-1\"><span class=\"toc-item-num\">1&nbsp;&nbsp;</span>Chapter Goals</a></span></li><li><span><a href=\"#Built-In-Data-Types\" data-toc-modified-id=\"Built-In-Data-Types-2\"><span class=\"toc-item-num\">2&nbsp;&nbsp;</span>Built-In Data Types</a></span><ul class=\"toc-item\"><li><span><a href=\"#List-of-Built-In-Data-Types\" data-toc-modified-id=\"List-of-Built-In-Data-Types-2.1\"><span class=\"toc-item-num\">2.1&nbsp;&nbsp;</span>List of Built-In Data Types</a></span></li></ul></li><li><span><a href=\"#Boolean\" data-toc-modified-id=\"Boolean-3\"><span class=\"toc-item-num\">3&nbsp;&nbsp;</span>Boolean</a></span></li><li><span><a href=\"#Representation-Error\" data-toc-modified-id=\"Representation-Error-4\"><span class=\"toc-item-num\">4&nbsp;&nbsp;</span>Representation Error</a></span></li><li><span><a href=\"#Membership,-Identity,-Logical-Operations\" data-toc-modified-id=\"Membership,-Identity,-Logical-Operations-5\"><span class=\"toc-item-num\">5&nbsp;&nbsp;</span>Membership, Identity, Logical Operations</a></span></li><li><span><a href=\"#Sequences\" data-toc-modified-id=\"Sequences-6\"><span class=\"toc-item-num\">6&nbsp;&nbsp;</span>Sequences</a></span><ul class=\"toc-item\"><li><span><a href=\"#Methods-of-Sequences\" data-toc-modified-id=\"Methods-of-Sequences-6.1\"><span class=\"toc-item-num\">6.1&nbsp;&nbsp;</span>Methods of Sequences</a></span></li><li><span><a href=\"#Operations-of-Sequences\" data-toc-modified-id=\"Operations-of-Sequences-6.2\"><span class=\"toc-item-num\">6.2&nbsp;&nbsp;</span>Operations of Sequences</a></span></li></ul></li><li><span><a href=\"#Tuples\" data-toc-modified-id=\"Tuples-7\"><span class=\"toc-item-num\">7&nbsp;&nbsp;</span>Tuples</a></span></li><li><span><a href=\"#Dictionaries\" data-toc-modified-id=\"Dictionaries-8\"><span class=\"toc-item-num\">8&nbsp;&nbsp;</span>Dictionaries</a></span><ul class=\"toc-item\"><li><span><a href=\"#Dictionary-Methods\" data-toc-modified-id=\"Dictionary-Methods-8.1\"><span class=\"toc-item-num\">8.1&nbsp;&nbsp;</span>Dictionary Methods</a></span></li><li><span><a href=\"#in-With-Dictionaries\" data-toc-modified-id=\"in-With-Dictionaries-8.2\"><span class=\"toc-item-num\">8.2&nbsp;&nbsp;</span><code>in</code> With Dictionaries</a></span></li><li><span><a href=\"#Sorting-Dictionaries\" data-toc-modified-id=\"Sorting-Dictionaries-8.3\"><span class=\"toc-item-num\">8.3&nbsp;&nbsp;</span>Sorting Dictionaries</a></span></li><li><span><a href=\"#Dictionaries-for-Text-Analysis\" data-toc-modified-id=\"Dictionaries-for-Text-Analysis-8.4\"><span class=\"toc-item-num\">8.4&nbsp;&nbsp;</span>Dictionaries for Text Analysis</a></span></li></ul></li><li><span><a href=\"#Sets\" data-toc-modified-id=\"Sets-9\"><span class=\"toc-item-num\">9&nbsp;&nbsp;</span>Sets</a></span><ul class=\"toc-item\"><li><span><a href=\"#Set-Methods-and-Operations\" data-toc-modified-id=\"Set-Methods-and-Operations-9.1\"><span class=\"toc-item-num\">9.1&nbsp;&nbsp;</span>Set Methods and Operations</a></span></li><li><span><a href=\"#Additional-Methods-for-Mutable-Sets\" data-toc-modified-id=\"Additional-Methods-for-Mutable-Sets-9.2\"><span class=\"toc-item-num\">9.2&nbsp;&nbsp;</span>Additional Methods for Mutable Sets</a></span></li></ul></li><li><span><a href=\"#frozenset:-Immutable-Set\" data-toc-modified-id=\"frozenset:-Immutable-Set-10\"><span class=\"toc-item-num\">10&nbsp;&nbsp;</span><code>frozenset</code>: Immutable Set</a></span></li><li><span><a href=\"#Modules-for-Data-Structure-and-Algorithm\" data-toc-modified-id=\"Modules-for-Data-Structure-and-Algorithm-11\"><span class=\"toc-item-num\">11&nbsp;&nbsp;</span>Modules for Data Structure and Algorithm</a></span></li><li><span><a href=\"#collections-Module\" data-toc-modified-id=\"collections-Module-12\"><span class=\"toc-item-num\">12&nbsp;&nbsp;</span><code>collections</code> Module</a></span><ul class=\"toc-item\"><li><span><a href=\"#List-of-Collection-Types\" data-toc-modified-id=\"List-of-Collection-Types-12.1\"><span class=\"toc-item-num\">12.1&nbsp;&nbsp;</span>List of Collection Types</a></span></li><li><span><a href=\"#deque\" data-toc-modified-id=\"deque-12.2\"><span class=\"toc-item-num\">12.2&nbsp;&nbsp;</span><code>deque</code></a></span></li><li><span><a href=\"#ChainMap\" data-toc-modified-id=\"ChainMap-12.3\"><span class=\"toc-item-num\">12.3&nbsp;&nbsp;</span><code>ChainMap</code></a></span></li><li><span><a href=\"#Counter\" data-toc-modified-id=\"Counter-12.4\"><span class=\"toc-item-num\">12.4&nbsp;&nbsp;</span><code>Counter</code></a></span></li><li><span><a href=\"#OrderedDict\" data-toc-modified-id=\"OrderedDict-12.5\"><span class=\"toc-item-num\">12.5&nbsp;&nbsp;</span><code>OrderedDict</code></a></span></li><li><span><a href=\"#defaultdict\" data-toc-modified-id=\"defaultdict-12.6\"><span class=\"toc-item-num\">12.6&nbsp;&nbsp;</span><code>defaultdict</code></a></span></li><li><span><a href=\"#namedTuple\" data-toc-modified-id=\"namedTuple-12.7\"><span class=\"toc-item-num\">12.7&nbsp;&nbsp;</span><code>namedTuple</code></a></span></li></ul></li><li><span><a href=\"#array-Module\" data-toc-modified-id=\"array-Module-13\"><span class=\"toc-item-num\">13&nbsp;&nbsp;</span><code>array</code> Module</a></span><ul class=\"toc-item\"><li><span><a href=\"#Array-Attributes-and-Methods\" data-toc-modified-id=\"Array-Attributes-and-Methods-13.1\"><span class=\"toc-item-num\">13.1&nbsp;&nbsp;</span>Array Attributes and Methods</a></span></li></ul></li></ul></div>"
   ]
  },
  {
   "cell_type": "markdown",
   "metadata": {},
   "source": [
    "# Python Data Types and Data Structures\n"
   ]
  },
  {
   "cell_type": "markdown",
   "metadata": {},
   "source": [
    "---"
   ]
  },
  {
   "cell_type": "markdown",
   "metadata": {},
   "source": [
    "## Chapter Goals"
   ]
  },
  {
   "cell_type": "markdown",
   "metadata": {},
   "source": [
    "- Understand various important built-in data types in Python\n",
    "- Explore various collections of high-performance alternatives to built-in data types"
   ]
  },
  {
   "cell_type": "markdown",
   "metadata": {},
   "source": [
    "---"
   ]
  },
  {
   "cell_type": "markdown",
   "metadata": {},
   "source": [
    "## Built-In Data Types"
   ]
  },
  {
   "cell_type": "markdown",
   "metadata": {},
   "source": [
    "- 3 categories:\n",
    "  - Numeric\n",
    "  - Sequence\n",
    "  - Mapping\n",
    "- Representing `null`: `None`\n",
    "- Every value in Python has a data type"
   ]
  },
  {
   "cell_type": "markdown",
   "metadata": {},
   "source": [
    "### List of Built-In Data Types"
   ]
  },
  {
   "cell_type": "markdown",
   "metadata": {},
   "source": [
    "- `None`: Represent `null` values\n",
    "  - Immutable\n",
    "  - To represent the absence of value\n",
    "- Numeric:\n",
    "  - `int`: Integer\n",
    "    - Whole number of unlimited range\n",
    "  - `float`: Floating-point\n",
    "    - Division operator always returns a float\n",
    "    - To return an integer, use the floor division\n",
    "  - `complex`: Complex number\n",
    "    - Generally used for scientific computations\n",
    "    - Represented by 2 float numbers\n",
    "    - `j` is used to signify the imaginary part of the complex number\n",
    "    - Parts are accessible with `cpx.real` and `cpx.imag`\n",
    "  - `bool`: Boolean `True` or `False`\n",
    "    - Values are mapped to `1` and `0` respectively\n",
    "- Sequence:\n",
    "  - `str`: Sequence of string literal\n",
    "  - `list`: List of objects\n",
    "  - `tuple`: A group of items\n",
    "  - `range`: A range of integers\n",
    "- Mapping:\n",
    "  - `dict`: Key/Value pair mapping\n",
    "  - `set`: Mutable, unordered collection of unique objects\n",
    "  - `frozenset`: Immutable set"
   ]
  },
  {
   "cell_type": "code",
   "execution_count": 12,
   "metadata": {},
   "outputs": [
    {
     "name": "stdout",
     "output_type": "stream",
     "text": [
      "(3+5j) is of type <class 'complex'>\n",
      "c.real: 3.0\n",
      "c.imag: 5.0\n",
      "c * 2: (6+10j)\n",
      "c + 3: (6+5j)\n",
      "c - 1: (2+5j)\n"
     ]
    }
   ],
   "source": [
    "# Complex Numbers\n",
    "c = 3+5j\n",
    "print(c, \"is of type\", type(c)) \n",
    "print(\"c.real:\", c.real)\n",
    "print(\"c.imag:\", c.imag)\n",
    "print(\"c * 2:\", c * 2) # multiplication\n",
    "print(\"c + 3:\", c + 3) # addition\n",
    "print(\"c - 1:\", c - 1) # subtraction"
   ]
  },
  {
   "cell_type": "markdown",
   "metadata": {},
   "source": [
    "---"
   ]
  },
  {
   "cell_type": "markdown",
   "metadata": {},
   "source": [
    "## Boolean"
   ]
  },
  {
   "cell_type": "markdown",
   "metadata": {},
   "source": [
    "- Only evaluate an operator if needed\n",
    "- Operators by order of priority:\n",
    "  - `not`\n",
    "  - `and`\n",
    "  - `or`"
   ]
  },
  {
   "cell_type": "markdown",
   "metadata": {},
   "source": [
    "---"
   ]
  },
  {
   "cell_type": "markdown",
   "metadata": {},
   "source": [
    "## Representation Error"
   ]
  },
  {
   "cell_type": "markdown",
   "metadata": {},
   "source": [
    "- The Double-Precision of floating-points can lead to unexpected results\n",
    "- Most decimal fractions are not exactly representable as a binary fraction"
   ]
  },
  {
   "cell_type": "code",
   "execution_count": 13,
   "metadata": {},
   "outputs": [
    {
     "name": "stdout",
     "output_type": "stream",
     "text": [
      "0.09999999999999998\n",
      "False\n"
     ]
    }
   ],
   "source": [
    "print(1 - 0.9)\n",
    "print(1 - 0.9 == .1)"
   ]
  },
  {
   "cell_type": "markdown",
   "metadata": {},
   "source": [
    "- For algorithms or applications where this may be an issue, Python provides a `decimal` module\n",
    "- `decimal` defines two objects:\n",
    "  - A Decimal type: representing decimal numbers\n",
    "  - A Context type: representing various computational parameters such as precision, rounding, and error handling\n",
    "- The `decimal` object can be treated pretty much as you would treat `int` or `float`"
   ]
  },
  {
   "cell_type": "code",
   "execution_count": 14,
   "metadata": {},
   "outputs": [
    {
     "name": "stdout",
     "output_type": "stream",
     "text": [
      "8.603600000000001010036498883\n",
      "8.604\n"
     ]
    }
   ],
   "source": [
    "from decimal import Decimal, getcontext\n",
    "\n",
    "x = Decimal(3.14)\n",
    "y = Decimal(2.74)\n",
    "print(x * y)\n",
    "\n",
    "getcontext().prec = 4\n",
    "print(x * y)"
   ]
  },
  {
   "cell_type": "markdown",
   "metadata": {},
   "source": [
    "- Python also has a `fractions` module that implements a rational number type"
   ]
  },
  {
   "cell_type": "code",
   "execution_count": 15,
   "metadata": {},
   "outputs": [
    {
     "name": "stdout",
     "output_type": "stream",
     "text": [
      "3/4\n",
      "1/2\n",
      "1/4\n",
      "6283/2000\n"
     ]
    }
   ],
   "source": [
    "from fractions import Fraction\n",
    "\n",
    "print(Fraction(3,4))\n",
    "print(Fraction(0.5))\n",
    "print(Fraction(\"0.25\"))\n",
    "print(Fraction(\"3.1415\"))"
   ]
  },
  {
   "cell_type": "markdown",
   "metadata": {},
   "source": [
    "- For advanced Math, we can also use `NumPy`\n",
    "  - Types for mathematical objects\n",
    "  - Arrays\n",
    "  - Vectors\n",
    "  - Matrices\n",
    "  - Linear algebra\n",
    "  - Calculation of Fourier transforms\n",
    "  - Eigenvectors\n",
    "  - Logical operations..."
   ]
  },
  {
   "cell_type": "markdown",
   "metadata": {},
   "source": [
    "---"
   ]
  },
  {
   "cell_type": "markdown",
   "metadata": {},
   "source": [
    "## Membership, Identity, Logical Operations"
   ]
  },
  {
   "cell_type": "markdown",
   "metadata": {},
   "source": [
    "- Membership operators: `in` and `not in`\n",
    "- Identity operators: `is` and `is not`\n",
    "- `x in y` is `True` if an x variable is found in y"
   ]
  },
  {
   "cell_type": "code",
   "execution_count": 16,
   "metadata": {},
   "outputs": [
    {
     "name": "stdout",
     "output_type": "stream",
     "text": [
      "x == y: True\n",
      "x is y False\n",
      "x is y after assignement: True\n"
     ]
    }
   ],
   "source": [
    "x = [1, 2, 3]\n",
    "y = [1, 2, 3]\n",
    "print(\"x == y:\", x == y) # test equivalence\n",
    "print(\"x is y\", x is y) # test object identity\n",
    "x = y # assignment\n",
    "print(\"x is y after assignement:\", x is y)"
   ]
  },
  {
   "cell_type": "markdown",
   "metadata": {},
   "source": [
    "---"
   ]
  },
  {
   "cell_type": "markdown",
   "metadata": {},
   "source": [
    "## Sequences"
   ]
  },
  {
   "cell_type": "markdown",
   "metadata": {},
   "source": [
    "- Ordered set of objects indexed by non-negative integers\n",
    "- Immutable: Strings, Tuple, Range\n",
    "- Mutable: List\n",
    "- For all sequences, the indexing and slicing operators apply as described"
   ]
  },
  {
   "cell_type": "markdown",
   "metadata": {},
   "source": [
    "### Methods of Sequences"
   ]
  },
  {
   "cell_type": "markdown",
   "metadata": {},
   "source": [
    "All sequences support the following methods\n",
    "\n",
    "- `len(seq)`: Returns the number of elements in seq\n",
    "- `min(seq, [default=obj, key=func])`: Returns the minimum value in seq (alphabetically for strings)\n",
    "- `max(seq, [default=obj, key=func])`: Returns the maximum value in seq (alphabetically for strings)\n",
    "- `sum(seq, [start=0])`: Returns the sum of the elements (returns TypeError if seq is not numeric)\n",
    "- `all(seq)`: Returns `True` if all elements in seq are `True` (that is, not `0`, `False`, or `Null`)\n",
    "- `any(seq)`: Checks whether any item in seq is `True`"
   ]
  },
  {
   "cell_type": "markdown",
   "metadata": {},
   "source": [
    "### Operations of Sequences"
   ]
  },
  {
   "cell_type": "markdown",
   "metadata": {},
   "source": [
    "All sequences support the following operations\n",
    "\n",
    "- `s + r`: Concatenates two sequences of the same type\n",
    "- `s * n`: Makes `n` copies of `s`, where `n` is an integer\n",
    "- `v1, v2..., vn = s`: Unpacks n variables from `s` to `v1`, `v2`, and so on\n",
    "- `s[i]`: Indexing returns the `i` element of `s`\n",
    "- `s[i:j:stride]`: Slicing returns elements between `i` and `j` with optional `stride`\n",
    "- `x in s`: Returns `True` if the `x` element is in `s`\n",
    "- `x not in s`: Returns `True` if the `x` element is not in `s`."
   ]
  },
  {
   "cell_type": "code",
   "execution_count": 17,
   "metadata": {},
   "outputs": [
    {
     "name": "stdout",
     "output_type": "stream",
     "text": [
      "[1, 2, 3, 4, 1]\n"
     ]
    }
   ],
   "source": [
    "list() # an empty list\n",
    "list1 = [1, 2, 3, 4]\n",
    "list1.append(1) # append value 1 at the end of the list\n",
    "print(list1)"
   ]
  },
  {
   "cell_type": "code",
   "execution_count": 18,
   "metadata": {},
   "outputs": [
    {
     "name": "stdout",
     "output_type": "stream",
     "text": [
      "[1, 2, 3, 4, 1, 1, 2, 3, 4, 1]\n"
     ]
    }
   ],
   "source": [
    "list2 = list1 * 2\n",
    "print(list2)"
   ]
  },
  {
   "cell_type": "code",
   "execution_count": 19,
   "metadata": {},
   "outputs": [
    {
     "name": "stdout",
     "output_type": "stream",
     "text": [
      "1\n",
      "4\n"
     ]
    }
   ],
   "source": [
    "print(min(list1))\n",
    "print(max(list1))"
   ]
  },
  {
   "cell_type": "code",
   "execution_count": 20,
   "metadata": {},
   "outputs": [
    {
     "name": "stdout",
     "output_type": "stream",
     "text": [
      "[2, 1, 2, 3, 4, 1]\n",
      "[1, 4, 3, 2, 1, 2]\n"
     ]
    }
   ],
   "source": [
    "list1.insert(0, 2) # insert an value 2 at index 0\n",
    "print(list1)\n",
    "list1.reverse()\n",
    "print(list1)"
   ]
  },
  {
   "cell_type": "code",
   "execution_count": 21,
   "metadata": {},
   "outputs": [
    {
     "name": "stdout",
     "output_type": "stream",
     "text": [
      "[1, 4, 3, 2, 1, 2, 11, 12]\n"
     ]
    }
   ],
   "source": [
    "list2 = [11, 12]\n",
    "list1.extend(list2)\n",
    "print(list1)"
   ]
  },
  {
   "cell_type": "code",
   "execution_count": 22,
   "metadata": {},
   "outputs": [
    {
     "name": "stdout",
     "output_type": "stream",
     "text": [
      "36\n",
      "8\n"
     ]
    }
   ],
   "source": [
    "print(sum(list1))\n",
    "print(len(list1))"
   ]
  },
  {
   "cell_type": "code",
   "execution_count": 23,
   "metadata": {},
   "outputs": [
    {
     "name": "stdout",
     "output_type": "stream",
     "text": [
      "[1, 1, 2, 2, 3, 4, 11, 12]\n"
     ]
    }
   ],
   "source": [
    "list1.sort()\n",
    "print(list1)"
   ]
  },
  {
   "cell_type": "code",
   "execution_count": 24,
   "metadata": {},
   "outputs": [
    {
     "name": "stdout",
     "output_type": "stream",
     "text": [
      "[1, 1, 2, 2, 3, 4, 11]\n"
     ]
    }
   ],
   "source": [
    "list1.remove(12) # remove value 12 from the list\n",
    "print(list1)"
   ]
  },
  {
   "cell_type": "markdown",
   "metadata": {},
   "source": [
    "## Tuples"
   ]
  },
  {
   "cell_type": "markdown",
   "metadata": {},
   "source": [
    "- Immutable sequences of arbitrary objects\n",
    "- Useful when we want to set up multiple variables in one line\n",
    "- Allow a function to return multiple values of different objects\n",
    "- Ordered sequence of items similar to the `list` data type, but immutable\n",
    "- Tuples are hashable: They can be used as keys to dictionaries\n",
    "- Can be created from other sequences using `tuple()`\n",
    "- It is important to remember to use a trailing comma when creating a tuple with one element—without the trailing comma, this will be interpreted as a string"
   ]
  },
  {
   "cell_type": "code",
   "execution_count": 25,
   "metadata": {},
   "outputs": [
    {
     "name": "stdout",
     "output_type": "stream",
     "text": [
      "<class 'tuple'>\n"
     ]
    }
   ],
   "source": [
    "t = tuple() # create an empty tuple\n",
    "print(type(t))"
   ]
  },
  {
   "cell_type": "code",
   "execution_count": 26,
   "metadata": {},
   "outputs": [
    {
     "name": "stdout",
     "output_type": "stream",
     "text": [
      "('a',)\n",
      "type is <class 'tuple'>\n"
     ]
    }
   ],
   "source": [
    "t = ('a',) # create a tuple with 1 element\n",
    "print(t)\n",
    "print('type is', type(t))"
   ]
  },
  {
   "cell_type": "code",
   "execution_count": 27,
   "metadata": {},
   "outputs": [
    {
     "name": "stdout",
     "output_type": "stream",
     "text": [
      "('s', 'e', 'q', 'u', 'e', 'n', 'c', 'e')\n"
     ]
    }
   ],
   "source": [
    "print(tuple('sequence'))"
   ]
  },
  {
   "cell_type": "code",
   "execution_count": 28,
   "metadata": {},
   "outputs": [
    {
     "name": "stdout",
     "output_type": "stream",
     "text": [
      "a\n",
      "b\n",
      "c\n"
     ]
    }
   ],
   "source": [
    "tpl = ('a','b','c')\n",
    "x, y, z = tpl # Tuple unpacking: multiple assignment\n",
    "print(x)\n",
    "print(y)\n",
    "print(z)"
   ]
  },
  {
   "cell_type": "code",
   "execution_count": 29,
   "metadata": {},
   "outputs": [
    {
     "name": "stdout",
     "output_type": "stream",
     "text": [
      "True\n",
      "False\n"
     ]
    }
   ],
   "source": [
    "print('a' in tpl)  # Membership can be tested\n",
    "print('z' in tpl)"
   ]
  },
  {
   "cell_type": "code",
   "execution_count": 30,
   "metadata": {},
   "outputs": [
    {
     "name": "stdout",
     "output_type": "stream",
     "text": [
      "tuple value at index 1 is 2\n",
      "tuple[1:3] is (2, 3)\n"
     ]
    }
   ],
   "source": [
    "tupl = 1, 2, 3, 4, 5 # braces are optional\n",
    "print(\"tuple value at index 1 is\", tupl[1])\n",
    "print(\"tuple[1:3] is\", tupl[1:3])"
   ]
  },
  {
   "cell_type": "code",
   "execution_count": 31,
   "metadata": {},
   "outputs": [
    {
     "name": "stdout",
     "output_type": "stream",
     "text": [
      "(1, 2, 3, 4, 5, 11, 12, 13)\n"
     ]
    }
   ],
   "source": [
    "tupl2 = (11, 12, 13)\n",
    "tupl3 = tupl + tupl2 # tuple concatenation\n",
    "print(tupl3)"
   ]
  },
  {
   "cell_type": "code",
   "execution_count": 32,
   "metadata": {},
   "outputs": [
    {
     "name": "stdout",
     "output_type": "stream",
     "text": [
      "(1, 2, 3, 4, 5, 1, 2, 3, 4, 5)\n"
     ]
    }
   ],
   "source": [
    "print(tupl * 2) # repetition for tuples"
   ]
  },
  {
   "cell_type": "code",
   "execution_count": 33,
   "metadata": {},
   "outputs": [
    {
     "name": "stdout",
     "output_type": "stream",
     "text": [
      "True\n"
     ]
    }
   ],
   "source": [
    "print(5 in tupl) # membership test"
   ]
  },
  {
   "cell_type": "code",
   "execution_count": 34,
   "metadata": {},
   "outputs": [
    {
     "name": "stdout",
     "output_type": "stream",
     "text": [
      "5\n"
     ]
    }
   ],
   "source": [
    "print(tupl[-1]) # negative indexing"
   ]
  },
  {
   "cell_type": "code",
   "execution_count": 35,
   "metadata": {},
   "outputs": [
    {
     "name": "stdout",
     "output_type": "stream",
     "text": [
      "5\n"
     ]
    }
   ],
   "source": [
    "print(len(tupl)) # length function for tuple"
   ]
  },
  {
   "cell_type": "code",
   "execution_count": 36,
   "metadata": {},
   "outputs": [
    {
     "name": "stdout",
     "output_type": "stream",
     "text": [
      "5\n",
      "1\n"
     ]
    }
   ],
   "source": [
    "print(max(tupl))\n",
    "print(min(tupl))"
   ]
  },
  {
   "cell_type": "markdown",
   "metadata": {},
   "source": [
    "- Tuples are immutable: Trying to modify an element of a tuple will give you `TypeError`"
   ]
  },
  {
   "cell_type": "code",
   "execution_count": 37,
   "metadata": {},
   "outputs": [],
   "source": [
    "# tupl[1] = 5 # Error: modification in tuple is not allowed"
   ]
  },
  {
   "cell_type": "markdown",
   "metadata": {},
   "source": [
    "- We can compare tuples in the same way that we compare other sequences, using the `==`, `>` and `<` operators"
   ]
  },
  {
   "cell_type": "code",
   "execution_count": 38,
   "metadata": {},
   "outputs": [
    {
     "name": "stdout",
     "output_type": "stream",
     "text": [
      "False\n",
      "False\n"
     ]
    }
   ],
   "source": [
    "print (tupl == tupl2)\n",
    "print (tupl > tupl2)"
   ]
  },
  {
   "cell_type": "markdown",
   "metadata": {},
   "source": [
    "- We can use multiple tuple assignment to swap values"
   ]
  },
  {
   "cell_type": "code",
   "execution_count": 39,
   "metadata": {},
   "outputs": [
    {
     "name": "stdout",
     "output_type": "stream",
     "text": [
      "two one\n"
     ]
    }
   ],
   "source": [
    "l = ['one','two']\n",
    "x, y = l # => ('one', 'two')\n",
    "x, y = y, x\n",
    "print(x, y)"
   ]
  },
  {
   "cell_type": "markdown",
   "metadata": {},
   "source": [
    "---"
   ]
  },
  {
   "cell_type": "markdown",
   "metadata": {},
   "source": [
    "## Dictionaries"
   ]
  },
  {
   "cell_type": "markdown",
   "metadata": {},
   "source": [
    "- One of most popular and useful data type\n",
    "- Store data in a mapping of key-value pair\n",
    "- Collection of objects indexed by numbers, strings, or immutable objects\n",
    "- The only built-in mapping type\n",
    "- We can use `dict()` to create a dictionary from other types"
   ]
  },
  {
   "cell_type": "code",
   "execution_count": 40,
   "metadata": {},
   "outputs": [
    {
     "name": "stdout",
     "output_type": "stream",
     "text": [
      "{'Monday': 1, 'Tuesday': 2, 'Wednesday': 3}\n",
      "{'Monday': 1, 'Tuesday': 2, 'Wednesday': 3}\n"
     ]
    }
   ],
   "source": [
    "a = {\n",
    "  'Monday': 1,\n",
    "  'Tuesday': 2,\n",
    "  'Wednesday': 3\n",
    "}\n",
    "\n",
    "b = dict({\n",
    "  'Monday': 1 ,\n",
    "  'Tuesday': 2,\n",
    "  'Wednesday': 3\n",
    "})\n",
    "\n",
    "print(a)\n",
    "print(b)"
   ]
  },
  {
   "cell_type": "code",
   "execution_count": 41,
   "metadata": {},
   "outputs": [
    {
     "name": "stdout",
     "output_type": "stream",
     "text": [
      "{'Monday': 1, 'Tuesday': 2, 'Wednesday': 3}\n"
     ]
    }
   ],
   "source": [
    "# Using dict() with zip()\n",
    "c = dict(zip(['Monday', 'Tuesday','Wednesday'], [1, 2, 3]))\n",
    "print(c)"
   ]
  },
  {
   "cell_type": "code",
   "execution_count": 42,
   "metadata": {},
   "outputs": [
    {
     "name": "stdout",
     "output_type": "stream",
     "text": [
      "{'Monday': 1, 'Tuesday': 2, 'Wednesday': 3}\n"
     ]
    }
   ],
   "source": [
    "# Using dict() with tuples\n",
    "d = dict([('Monday', 1), ('Tuesday', 2), ('Wednesday', 3)])\n",
    "print(d)"
   ]
  },
  {
   "cell_type": "code",
   "execution_count": 43,
   "metadata": {},
   "outputs": [
    {
     "name": "stdout",
     "output_type": "stream",
     "text": [
      "{'Monday': 1, 'Tuesday': 2, 'Wednesday': 3, 'Thursday': 4, 'Friday': 5, 'Saturday': 6}\n"
     ]
    }
   ],
   "source": [
    "d['Thursday'] = 4 # add an item\n",
    "\n",
    "d.update({\n",
    "  'Friday': 5,\n",
    "  'Saturday': 6\n",
    "}) # add multiple items\n",
    "\n",
    "print(d)"
   ]
  },
  {
   "cell_type": "markdown",
   "metadata": {},
   "source": [
    "- We can add values or test membership. **Membership test is on keys only**"
   ]
  },
  {
   "cell_type": "code",
   "execution_count": 44,
   "metadata": {},
   "outputs": [
    {
     "name": "stdout",
     "output_type": "stream",
     "text": [
      "True\n",
      "False\n"
     ]
    }
   ],
   "source": [
    "print('Wednesday' in d) # membership test (only in keys)\n",
    "print(5 in d) # membership do not check in values"
   ]
  },
  {
   "cell_type": "markdown",
   "metadata": {},
   "source": [
    "- **Note: The `in` operator is more efficient in dictionaries than in lists.**\n",
    "  - The `in` operator is linear with lists: Longer lists take longer time\n",
    "  - With dictionary, `in` uses a hash function. Very efficient\n",
    "- Keys in dictionaries are in no particular order"
   ]
  },
  {
   "cell_type": "code",
   "execution_count": 45,
   "metadata": {},
   "outputs": [
    {
     "name": "stdout",
     "output_type": "stream",
     "text": [
      "{'p': 0, 'a': 1, 'c': 2, 'k': 3, 't': 4}\n"
     ]
    }
   ],
   "source": [
    "a = dict(zip('packt', range(len('packt'))))\n",
    "print(a)"
   ]
  },
  {
   "cell_type": "code",
   "execution_count": 46,
   "metadata": {},
   "outputs": [
    {
     "name": "stdout",
     "output_type": "stream",
     "text": [
      "5\n"
     ]
    }
   ],
   "source": [
    "print(len(a))"
   ]
  },
  {
   "cell_type": "code",
   "execution_count": 47,
   "metadata": {},
   "outputs": [
    {
     "name": "stdout",
     "output_type": "stream",
     "text": [
      "2\n"
     ]
    }
   ],
   "source": [
    "print(a['c'])"
   ]
  },
  {
   "cell_type": "code",
   "execution_count": 48,
   "metadata": {},
   "outputs": [
    {
     "data": {
      "text/plain": [
       "1"
      ]
     },
     "execution_count": 48,
     "metadata": {},
     "output_type": "execute_result"
    }
   ],
   "source": [
    "a.pop('a')"
   ]
  },
  {
   "cell_type": "code",
   "execution_count": 49,
   "metadata": {},
   "outputs": [
    {
     "name": "stdout",
     "output_type": "stream",
     "text": [
      "{'p': 0, 'c': 2, 'k': 3, 't': 4}\n"
     ]
    }
   ],
   "source": [
    "print(a)"
   ]
  },
  {
   "cell_type": "code",
   "execution_count": 50,
   "metadata": {},
   "outputs": [
    {
     "name": "stdout",
     "output_type": "stream",
     "text": [
      "{'p': 0, 'c': 2, 'k': 3, 't': 4}\n"
     ]
    }
   ],
   "source": [
    "b = a.copy() # make a copy of the dictionary\n",
    "print(b)"
   ]
  },
  {
   "cell_type": "code",
   "execution_count": 51,
   "metadata": {},
   "outputs": [
    {
     "data": {
      "text/plain": [
       "dict_keys(['p', 'c', 'k', 't'])"
      ]
     },
     "execution_count": 51,
     "metadata": {},
     "output_type": "execute_result"
    }
   ],
   "source": [
    "a.keys()"
   ]
  },
  {
   "cell_type": "code",
   "execution_count": 52,
   "metadata": {},
   "outputs": [
    {
     "data": {
      "text/plain": [
       "dict_values([0, 2, 3, 4])"
      ]
     },
     "execution_count": 52,
     "metadata": {},
     "output_type": "execute_result"
    }
   ],
   "source": [
    "a.values()"
   ]
  },
  {
   "cell_type": "code",
   "execution_count": 53,
   "metadata": {},
   "outputs": [
    {
     "data": {
      "text/plain": [
       "dict_items([('p', 0), ('c', 2), ('k', 3), ('t', 4)])"
      ]
     },
     "execution_count": 53,
     "metadata": {},
     "output_type": "execute_result"
    }
   ],
   "source": [
    "a.items()"
   ]
  },
  {
   "cell_type": "code",
   "execution_count": 54,
   "metadata": {},
   "outputs": [
    {
     "name": "stdout",
     "output_type": "stream",
     "text": [
      "{'p': 0, 'c': 2, 'k': 3, 't': 4, 'a': 1}\n"
     ]
    }
   ],
   "source": [
    "a.update({'a':1}) # add an item in the dictionary\n",
    "print(a)"
   ]
  },
  {
   "cell_type": "code",
   "execution_count": 55,
   "metadata": {},
   "outputs": [
    {
     "name": "stdout",
     "output_type": "stream",
     "text": [
      "{'p': 0, 'c': 2, 'k': 3, 't': 4, 'a': 22}\n"
     ]
    }
   ],
   "source": [
    "a.update(a = 22) # update the value of key 'a'\n",
    "print(a)"
   ]
  },
  {
   "cell_type": "markdown",
   "metadata": {},
   "source": [
    "### Dictionary Methods"
   ]
  },
  {
   "cell_type": "markdown",
   "metadata": {},
   "source": [
    "- `len(d)`: Returns total number of items in the dictionary `d`\n",
    "- `d.clear()`: Removes all of the items from the dictionary `d`\n",
    "- `d.copy()`: Returns a shallow copy of the dictionary `d`\n",
    "- `d.fromkeys(s[, value])`: Returns a new dictionary with keys from the `s` sequence and values set to `value`\n",
    "- `d.get(k[, v])`: Returns `d[k]` if it is found; otherwise, it returns `v` (`None` if `v` is not given)\n",
    "- `d.items()`: Returns all of the key:value pairs of the dictionary `d`\n",
    "- `d.keys()`: Returns all of the keys defined in the dictionary `d`\n",
    "- `d.pop(k[, default])`: Returns `d[k]` and removes it from `d`\n",
    "- `d.popitem()`: Removes a random key:value pair from the dictionary `d` and returns it as a tuple\n",
    "- `d.setdefault(k[, v])`: Returns `d[k]`. If it is not found, it returns `v` and sets `d[k]` to `v`\n",
    "- `d.update(b)`: Adds all of the objects from the `b` dictionary to the `d` dictionary\n",
    "- `d.values()`: Returns all of the values in the dictionary `d`"
   ]
  },
  {
   "cell_type": "markdown",
   "metadata": {},
   "source": [
    "### `in` With Dictionaries"
   ]
  },
  {
   "cell_type": "markdown",
   "metadata": {},
   "source": [
    "- Slightly different than with lists\n",
    "- Time Complexity: When we use the `in` operator on a list, the relationship between the time it takes to find an element and the size of the list is considered linear\n",
    "- When the `in` operator is applied to dictionaries, it uses a hashing algorithm, and this has the effect of an increase in each lookup time that is almost independent of the size of the dictionary\n",
    "- This makes dictionaries extremely useful as a way to work with large amounts of indexed data"
   ]
  },
  {
   "cell_type": "markdown",
   "metadata": {},
   "source": [
    "### Sorting Dictionaries"
   ]
  },
  {
   "cell_type": "markdown",
   "metadata": {},
   "source": [
    "- We can do a simple sort on either the keys or the values using `sorted(seq [, key, reverse])`\n",
    "  - `key`: A way of passing a function to the sort algorithm to determine the sort order\n",
    "  - `reverse`: Boolean, reverses the order of the sorted list"
   ]
  },
  {
   "cell_type": "code",
   "execution_count": 56,
   "metadata": {},
   "outputs": [
    {
     "name": "stdout",
     "output_type": "stream",
     "text": [
      "['five', 'four', 'one', 'six', 'three', 'two']\n",
      "[1, 2, 3, 4, 5, 6]\n"
     ]
    }
   ],
   "source": [
    "d = {'one': 1, 'two': 2, 'three': 3, 'four': 4, 'five': 5, 'six': 6}\n",
    "print(sorted(list(d))) # Keys\n",
    "print(sorted(list(d.values())))"
   ]
  },
  {
   "cell_type": "markdown",
   "metadata": {},
   "source": [
    "### Dictionaries for Text Analysis"
   ]
  },
  {
   "cell_type": "markdown",
   "metadata": {},
   "source": [
    "- A dictionary where each word in the text is used as a key and the number of occurrences as its value\n"
   ]
  },
  {
   "cell_type": "code",
   "execution_count": 57,
   "metadata": {},
   "outputs": [],
   "source": [
    "def wordcount(fname):\n",
    "    '''Return a dictionary with an element for each unique word in the text file.'''\n",
    "\n",
    "    try:\n",
    "        fhand = open(fname)\n",
    "    except:\n",
    "        print('File can not be opened')\n",
    "        exit()\n",
    "  \n",
    "    count = dict()\n",
    "    \n",
    "    for line in fhand:\n",
    "        words = line.split()\n",
    "        for word in words:\n",
    "            if word not in count:\n",
    "                count[word] = 1  \n",
    "            else:\n",
    "                count[word] += 1\n",
    "    \n",
    "    return(count)"
   ]
  },
  {
   "cell_type": "markdown",
   "metadata": {},
   "source": [
    "---"
   ]
  },
  {
   "cell_type": "markdown",
   "metadata": {},
   "source": [
    "## Sets"
   ]
  },
  {
   "cell_type": "markdown",
   "metadata": {},
   "source": [
    "- Unordered collections of unique items\n",
    "- Sets are mutable but the items themselves must be immutable\n",
    "- Sets cannot contain duplicate items\n",
    "- Typically used to perform mathematical operations such as intersection, union, difference, and complement\n",
    "- No index or slicing operations\n",
    "- 2 types of sets:\n",
    "  - `set`: Mutable\n",
    "  - `frozenset`: Immutable\n",
    "- To create an empty set, we use `set()` or `frozenset()`"
   ]
  },
  {
   "cell_type": "markdown",
   "metadata": {},
   "source": [
    "### Set Methods and Operations\n"
   ]
  },
  {
   "cell_type": "markdown",
   "metadata": {},
   "source": [
    "- `t` be any Python object that supports iteration\n",
    "- All methods are available to both `set` and `frozenset` objects\n",
    "- The operator versions of these methods require their arguments to be sets, whereas the methods themselves can accept any iterable type"
   ]
  },
  {
   "cell_type": "markdown",
   "metadata": {},
   "source": [
    "- `len(a)`: Provides the total number of elements in the `a` set\n",
    "- `a.copy()`: Provides another copy of the `a` set\n",
    "- `a.difference(t)`: Provides a set of elements that are in the `a` set but not in `t`\n",
    "- `a.intersection(t)`: Provides a set of elements that are in both sets, `a` and `t`\n",
    "- `a.isdisjoint(t)`: Returns `True` if no element is common in both the sets, `a` and `t`\n",
    "- `a.issubset(t)`: Returns `True` if all of the elements of the `a` set are also in the `t` set\n",
    "- `a.issuperset(t)`: Returns `True` if all of the elements of the `t` set are also in the `a` set\n",
    "- `a.symmetric_difference(t)`: Returns a set of elements that are in either the `a` or `t` sets, but not in both\n",
    "- `a.union()`: Returns a set of elements that are in either the `a` or `t` sets"
   ]
  },
  {
   "cell_type": "markdown",
   "metadata": {},
   "source": [
    "\n",
    "### Additional Methods for Mutable Sets"
   ]
  },
  {
   "cell_type": "markdown",
   "metadata": {},
   "source": [
    "- `s.add(item)`: Adds an item to `s`. Nothing happens if the item is already added\n",
    "- `s.clear()`: Removes all elements from the set `s`\n",
    "- `s.difference_update(t)`: Removes those elements from the `s` set that are also in the other set `t`\n",
    "- `s.discard(item)`: Removes the `item` from the set `s`\n",
    "- `s.intersection_update(t)`: Remove the items from the set `s` which are not in the intersection of the sets `s` and `t`\n",
    "- `s.pop()`: Returns an arbitrary item from the set `s` and it removes it from the `s` set\n",
    "- `s.delete(item)`: Deletes the `item` from the `s` set\n",
    "- `s.symetric_difference_update(t)`: Deletes all of the elements from the `s` set that are not in the symmetric difference of the sets `s` and `t`\n",
    "- `s.update(t)`: Appends all of the items in an iterable object `t` to the `s` set"
   ]
  },
  {
   "cell_type": "code",
   "execution_count": 58,
   "metadata": {},
   "outputs": [
    {
     "name": "stdout",
     "output_type": "stream",
     "text": [
      "{1, 2, 3, 4}\n"
     ]
    }
   ],
   "source": [
    "s1 = set()\n",
    "\n",
    "s1.add(1)\n",
    "s1.add(2)\n",
    "s1.add(3)\n",
    "s1.add(4)\n",
    "\n",
    "print(s1)"
   ]
  },
  {
   "cell_type": "code",
   "execution_count": 59,
   "metadata": {},
   "outputs": [
    {
     "name": "stdout",
     "output_type": "stream",
     "text": [
      "{1, 2, 3}\n"
     ]
    }
   ],
   "source": [
    "s1.remove(4)\n",
    "print(s1)"
   ]
  },
  {
   "cell_type": "code",
   "execution_count": 60,
   "metadata": {},
   "outputs": [
    {
     "name": "stdout",
     "output_type": "stream",
     "text": [
      "{1, 2}\n"
     ]
    }
   ],
   "source": [
    "s1.discard(3)\n",
    "print(s1)"
   ]
  },
  {
   "cell_type": "code",
   "execution_count": 61,
   "metadata": {},
   "outputs": [
    {
     "name": "stdout",
     "output_type": "stream",
     "text": [
      "set()\n"
     ]
    }
   ],
   "source": [
    "s1.clear()\n",
    "print(s1)"
   ]
  },
  {
   "cell_type": "code",
   "execution_count": 62,
   "metadata": {},
   "outputs": [],
   "source": [
    "s1 = {'ab', 3, 4, (5, 6)}\n",
    "s2 = {'ab', 7, (7, 6)}"
   ]
  },
  {
   "cell_type": "code",
   "execution_count": 63,
   "metadata": {},
   "outputs": [
    {
     "name": "stdout",
     "output_type": "stream",
     "text": [
      "{3, (5, 6), 4}\n"
     ]
    }
   ],
   "source": [
    "print(s1 - s2) # Same as: s1.difference(s2)"
   ]
  },
  {
   "cell_type": "code",
   "execution_count": 64,
   "metadata": {},
   "outputs": [
    {
     "name": "stdout",
     "output_type": "stream",
     "text": [
      "{'ab'}\n"
     ]
    }
   ],
   "source": [
    "print(s1.intersection(s2))"
   ]
  },
  {
   "cell_type": "code",
   "execution_count": 65,
   "metadata": {},
   "outputs": [
    {
     "name": "stdout",
     "output_type": "stream",
     "text": [
      "{(7, 6), 3, (5, 6), 4, 7, 'ab'}\n"
     ]
    }
   ],
   "source": [
    "print(s1.union(s2))"
   ]
  },
  {
   "cell_type": "markdown",
   "metadata": {},
   "source": [
    "- `set` does not care that its members are not all of the same type, as long as they are all immutable\n",
    "- If using mutable object: Unhashable type error\n",
    "- Hashable types all have a hash value that does not change throughout the lifetime of the instance\n",
    "- All built-in immutable types are hashable. All built-in mutable types are not hashable\n",
    "- We can also test membership on sets\n",
    "- We can also loop through elements of a set"
   ]
  },
  {
   "cell_type": "markdown",
   "metadata": {},
   "source": [
    "---"
   ]
  },
  {
   "cell_type": "markdown",
   "metadata": {},
   "source": [
    "## `frozenset`: Immutable Set"
   ]
  },
  {
   "cell_type": "markdown",
   "metadata": {},
   "source": [
    "- Works the same as set\n",
    "- No methods or operations that change values such as the `add()` or `clear()`\n",
    "- `frozenset` are hashable so they can be added as member of a set"
   ]
  },
  {
   "cell_type": "code",
   "execution_count": 66,
   "metadata": {},
   "outputs": [],
   "source": [
    "s1 = { 1, True, 3 }\n",
    "s2 = { 2, 'Hello', 'World' }"
   ]
  },
  {
   "cell_type": "code",
   "execution_count": 67,
   "metadata": {},
   "outputs": [],
   "source": [
    "# s1.add(s2) # Error: s2 is not hashable"
   ]
  },
  {
   "cell_type": "code",
   "execution_count": 68,
   "metadata": {},
   "outputs": [
    {
     "name": "stdout",
     "output_type": "stream",
     "text": [
      "{1, frozenset({2, 'Hello', 'World'}), 3}\n"
     ]
    }
   ],
   "source": [
    "s1.add(frozenset(s2))\n",
    "print(s1)"
   ]
  },
  {
   "cell_type": "markdown",
   "metadata": {},
   "source": [
    "- Because `frozenset` is immutable, we can also use it as key for dictionary entries"
   ]
  },
  {
   "cell_type": "code",
   "execution_count": 69,
   "metadata": {},
   "outputs": [
    {
     "name": "stdout",
     "output_type": "stream",
     "text": [
      "{frozenset({1, frozenset({2, 'Hello', 'World'}), 3}): 'fs1', frozenset({2, 'Hello', 'World'}): 'fs2'}\n"
     ]
    }
   ],
   "source": [
    "fs1 = frozenset(s1)\n",
    "fs2 = frozenset(s2)\n",
    "\n",
    "my_dict = {\n",
    "  fs1: 'fs1',\n",
    "  fs2: 'fs2'\n",
    "}\n",
    "\n",
    "print(my_dict)"
   ]
  },
  {
   "cell_type": "markdown",
   "metadata": {},
   "source": [
    "---"
   ]
  },
  {
   "cell_type": "markdown",
   "metadata": {},
   "source": [
    "## Modules for Data Structure and Algorithm"
   ]
  },
  {
   "cell_type": "markdown",
   "metadata": {},
   "source": [
    "- Several Python modules that we can use to extend the built-in types and functions\n",
    "- These Python modules may offer efficiency and programming advantages that allow us to simplify our code\n",
    "- Abstract Data Types (ADT): Can be considered mathematical specifications for the set of operations that can be performed on data\n",
    "  - Defined by behavior, not implementation"
   ]
  },
  {
   "cell_type": "markdown",
   "metadata": {},
   "source": [
    "---"
   ]
  },
  {
   "cell_type": "markdown",
   "metadata": {},
   "source": [
    "## `collections` Module"
   ]
  },
  {
   "cell_type": "markdown",
   "metadata": {},
   "source": [
    "- More specialized, high-performance alternatives for the built-in data types\n",
    "- Utility function to create named tuples"
   ]
  },
  {
   "cell_type": "markdown",
   "metadata": {},
   "source": [
    "### List of Collection Types"
   ]
  },
  {
   "cell_type": "markdown",
   "metadata": {},
   "source": [
    "- `deque`: Lists with fast appends and pops either end\n",
    "- `ChainMap`: Dictionary-like class to create a single view of multiple mappings\n",
    "- `Counter`: Dictionary subclass for counting hashable objects\n",
    "- `OrderedDict`: Dictionary subclass that remembers the entry order\n",
    "- `defaultDict`: Dictionary subclass that calls a function to supply missing values\n",
    "- `namedtuple`: Creates tuple subclasses with named fields\n",
    "- `UserDict, UserList, UserString`: These three data types are simply wrappers for their underlying base classes. Their use has largely been supplanted by the ability to subclass their respective base classes directly. Can be used to access the underlying object as an attribute.\n"
   ]
  },
  {
   "cell_type": "markdown",
   "metadata": {},
   "source": [
    "### `deque`"
   ]
  },
  {
   "cell_type": "markdown",
   "metadata": {},
   "source": [
    "- Short of *Double-Ended QUEue*\n",
    "- List-like objects that support thread-safe, memory-efficient appends\n",
    "- Mutable, support some of the operations of lists\n",
    "- Can be assigned by index, but cannot be sliced\n",
    "- Advantages over list:\n",
    "  - Inserting items at the beginning of a deque is much faster than at the end\n",
    "  - However, inserting items at the end of a deque is slightly slower than the equivalent operation on a list\n",
    "  - Thread-safe\n",
    "  - Can be serialized using `pickle` module\n",
    "  - Items in deques are usually populated and consumed sequentially from either end"
   ]
  },
  {
   "cell_type": "code",
   "execution_count": 70,
   "metadata": {},
   "outputs": [
    {
     "name": "stdout",
     "output_type": "stream",
     "text": [
      "deque(['a', 'b', 'c'])\n",
      "deque(['a', 'b', 'c', 'd'])\n",
      "deque([-1, 'a', 'b', 'c', 'd'])\n",
      "deque([-1, 'a', 'b', 'c', 'd', 1, 2, 3])\n",
      "deque(['z', 'y', 'x', -1, 'a', 'b', 'c', 'd', 1, 2, 3])\n"
     ]
    }
   ],
   "source": [
    "from collections import deque\n",
    "\n",
    "dq = deque('abc')\n",
    "print(dq)\n",
    "\n",
    "dq.append('d')\n",
    "print(dq)\n",
    "\n",
    "dq.appendleft(-1)\n",
    "print(dq)\n",
    "\n",
    "dq.extend([1, 2, 3])\n",
    "print(dq)\n",
    "\n",
    "dq.extendleft('xyz')\n",
    "print(dq)"
   ]
  },
  {
   "cell_type": "markdown",
   "metadata": {},
   "source": [
    "- To consume elements from deque, use `pop()` and `popleft()`"
   ]
  },
  {
   "cell_type": "code",
   "execution_count": 71,
   "metadata": {},
   "outputs": [
    {
     "name": "stdout",
     "output_type": "stream",
     "text": [
      "3\n",
      "deque(['z', 'y', 'x', -1, 'a', 'b', 'c', 'd', 1, 2])\n",
      "z\n",
      "deque(['y', 'x', -1, 'a', 'b', 'c', 'd', 1, 2])\n"
     ]
    }
   ],
   "source": [
    "el = dq.pop()\n",
    "print(el)\n",
    "print(dq)\n",
    "\n",
    "el = dq.popleft()\n",
    "print(el)\n",
    "print(dq)"
   ]
  },
  {
   "cell_type": "markdown",
   "metadata": {},
   "source": [
    "- We can also \"rotate\" the elements toward the left or the right\n",
    "- Use positive integer for steps to rotate to the right\n",
    "- Use negative integer for steprs to rotate to the left"
   ]
  },
  {
   "cell_type": "code",
   "execution_count": 74,
   "metadata": {},
   "outputs": [
    {
     "name": "stdout",
     "output_type": "stream",
     "text": [
      "deque([1, 2, 'y', 'x', -1, 'a', 'b', 'c', 'd'])\n",
      "deque(['c', 'd', 1, 2, 'y', 'x', -1, 'a', 'b'])\n",
      "deque([1, 2, 'y', 'x', -1, 'a', 'b', 'c', 'd'])\n"
     ]
    }
   ],
   "source": [
    "print(dq)\n",
    "dq.rotate(2)\n",
    "print(dq)\n",
    "dq.rotate(-2)\n",
    "print(dq)"
   ]
  },
  {
   "cell_type": "markdown",
   "metadata": {},
   "source": [
    "- We can use `rotate()` and `pop()` in combo to remove a specific element\n",
    "- We can also remove a slice of a deque as a list using `itertools.islice()`\n",
    "- `itertools.islice()` will return by value and will not affect the original deque\n",
    "- `itertools.islice()` works in the same way that slice works on a list\n",
    "- Except rather than taking a list for an argument, it takes an iterable and returns selected values, by start and stop indices, as a list"
   ]
  },
  {
   "cell_type": "code",
   "execution_count": 82,
   "metadata": {},
   "outputs": [
    {
     "name": "stdout",
     "output_type": "stream",
     "text": [
      "['y', 'x']\n",
      "deque([1, 2, 'y', 'x', -1, 'a', 'b', 'c', 'd'])\n"
     ]
    }
   ],
   "source": [
    "from itertools import islice\n",
    "\n",
    "slice = list(islice(dq, 2, 4))\n",
    "\n",
    "print(slice)\n",
    "print(dq)"
   ]
  },
  {
   "cell_type": "markdown",
   "metadata": {},
   "source": [
    "- We could reach the same conclusion by casting the deque into a list"
   ]
  },
  {
   "cell_type": "code",
   "execution_count": 87,
   "metadata": {},
   "outputs": [
    {
     "name": "stdout",
     "output_type": "stream",
     "text": [
      "['y', 'x']\n",
      "deque([1, 2, 'y', 'x', -1, 'a', 'b', 'c', 'd'])\n"
     ]
    }
   ],
   "source": [
    "ls = list(dq) # By value. dq is still intact\n",
    "slice = ls[2:4]\n",
    "\n",
    "print(slice)\n",
    "print(dq)"
   ]
  },
  {
   "cell_type": "markdown",
   "metadata": {},
   "source": [
    "- `deque()` support a `maxlen` optional parameter that restricts the size of the deque\n",
    "- Ideally suited to a data structure known as a *circular buffer*\n",
    "  - Fixed-size structure that is effectively connected end to end and they are typically used for buffering data streams\n",
    "  - Once `maxlen` is reached, the oldest element is kicked out on the next append"
   ]
  },
  {
   "cell_type": "code",
   "execution_count": 90,
   "metadata": {},
   "outputs": [
    {
     "name": "stdout",
     "output_type": "stream",
     "text": [
      "deque([0], maxlen=3)\n",
      "deque([0, 1], maxlen=3)\n",
      "deque([0, 1, 2], maxlen=3)\n",
      "deque([1, 2, 3], maxlen=3)\n",
      "deque([2, 3, 4], maxlen=3)\n",
      "deque([3, 4, 5], maxlen=3)\n"
     ]
    }
   ],
   "source": [
    "dq2 = deque([], maxlen = 3) \n",
    "\n",
    "# Populating from the right, consuming from the left\n",
    "for i in range(6):\n",
    "    dq2.append(i) \n",
    "    print(dq2)"
   ]
  },
  {
   "cell_type": "code",
   "execution_count": 94,
   "metadata": {},
   "outputs": [
    {
     "name": "stdout",
     "output_type": "stream",
     "text": [
      "deque([0], maxlen=3)\n",
      "deque([1, 0], maxlen=3)\n",
      "deque([2, 1, 0], maxlen=3)\n",
      "deque([3, 2, 1], maxlen=3)\n",
      "deque([4, 3, 2], maxlen=3)\n",
      "deque([5, 4, 3], maxlen=3)\n"
     ]
    }
   ],
   "source": [
    "dq3 = deque([], maxlen = 3) \n",
    "\n",
    "# Populating from the left, consuming from the right\n",
    "for i in range(6):\n",
    "    dq3.appendleft(i) \n",
    "    print(dq3)"
   ]
  },
  {
   "cell_type": "markdown",
   "metadata": {},
   "source": [
    "### `ChainMap`"
   ]
  },
  {
   "cell_type": "markdown",
   "metadata": {},
   "source": [
    "- Added to Python since version 3.2\n",
    "- Provides a way to link a number of dictionaries, or other mappings, so that they can be treated as one object\n",
    "- `maps` attribute\n",
    "- `new_child()` method\n",
    "- `parents` property\n",
    "- The underlying mappings for ChainMap objects are stored in a list and are accessible using the `maps[i]` attribute to retrieve the ith dictionary\n",
    "- ChainMap objects are ordered lists of dictionaries\n",
    "- Useful in applications where we are using a number of dictionaries containing related data\n",
    "- The consuming application expects data in terms of a priority, where the same key in two dictionaries is given priority if it occurs at the beginning of the underlying list\n",
    "- Typically used to simulate nested contexts such as when we have multiple overriding configuration settings"
   ]
  },
  {
   "cell_type": "code",
   "execution_count": 6,
   "metadata": {},
   "outputs": [
    {
     "name": "stdout",
     "output_type": "stream",
     "text": [
      "ChainMap({'a': 1, 'b': 2, 'c': 3}, {'d': 4, 'e': 5})\n",
      "[{'a': 1, 'b': 2, 'c': 3}, {'d': 4, 'e': 5}]\n",
      "<bound method Mapping.values of ChainMap({'a': 1, 'b': 2, 'c': 3}, {'d': 4, 'e': 5})>\n",
      "2\n",
      "5\n"
     ]
    }
   ],
   "source": [
    "from collections import ChainMap\n",
    "\n",
    "dict1 = {'a':1, 'b':2, 'c':3}\n",
    "dict2 = {'d':4, 'e':5}\n",
    "cnmp = ChainMap(dict1, dict2) # linking two dictionaries\n",
    "\n",
    "print(cnmp)\n",
    "print(cnmp.maps)\n",
    "print(cnmp.values)\n",
    "print(cnmp['b']) # accessing values\n",
    "print(cnmp['e']) # accessing values\n"
   ]
  },
  {
   "cell_type": "markdown",
   "metadata": {},
   "source": [
    "- Advantages of chainmap over dictiornary\n",
    "  - We can retain previously-set values\n",
    "  - Adding a child context overrides values for the same key, but it does not remove it from the data structure\n",
    "  - Useful for keeping change records\n",
    "  - We can retrieve and change any value in any of the dictionaries by providing the `map()` method with an appropriate index\n",
    "  - The index is a dictionary in within the ChainMap instance\n",
    "  - we can retrieve the parent setting, that is, the default settings, by using the `parents()` method"
   ]
  },
  {
   "cell_type": "code",
   "execution_count": 19,
   "metadata": {},
   "outputs": [
    {
     "name": "stdout",
     "output_type": "stream",
     "text": [
      "[{'theme': 'Default', 'language': 'eng', 'showIndex': True, 'showFooter': True}]\n",
      "ValuesView(ChainMap({'theme': 'Default', 'language': 'eng', 'showIndex': True, 'showFooter': True}))\n",
      "ChainMap({'theme': 'bluesky'}, {'theme': 'Default', 'language': 'eng', 'showIndex': True, 'showFooter': True})\n",
      "bluesky\n",
      "bluesky\n",
      "Default\n",
      "ChainMap({}, {'theme': 'Default', 'language': 'eng', 'showIndex': True, 'showFooter': True})\n",
      "ChainMap({'theme': 'Default', 'language': 'eng', 'showIndex': True, 'showFooter': True})\n"
     ]
    }
   ],
   "source": [
    "defaults = {\n",
    "    'theme': 'Default',\n",
    "    'language': 'eng',\n",
    "    'showIndex': True,\n",
    "    'showFooter': True\n",
    "}\n",
    "\n",
    "cm = ChainMap(defaults) # creates a chainMap with defaults configuration\n",
    "print(cm.maps)\n",
    "print(cm.values())\n",
    "\n",
    "cm2 = cm.new_child({'theme':'bluesky'}) # create a new chainMap with a child that overrides the parent.\n",
    "print(cm2)\n",
    "print(cm2['theme']) # returns the overridden theme'bluesky'\n",
    "print(cm2.pop('theme')) # removes the child theme value\n",
    "print(cm2['theme'])\n",
    "print(cm2)\n",
    "print(cm2.parents)"
   ]
  },
  {
   "cell_type": "markdown",
   "metadata": {},
   "source": [
    "### `Counter`"
   ]
  },
  {
   "cell_type": "markdown",
   "metadata": {},
   "source": [
    "- A subclass of a dictionary\n",
    "- Each dictionary key is a hashable object\n",
    "- The associated value is an integer count of that object\n",
    "- Initialization:\n",
    "  - We can pass it any sequence object\n",
    "  - We can pass it a dictionary of `key:value` pairs\n",
    "  - We can pass it a tuple of the format `(object=value,...)`\n",
    "  - Or we can create an empty counter object and populate it by passing its `update()` method an iterable or a dictionary\n",
    "- The `update()` method adds the counts rather than replacing them with new values"
   ]
  },
  {
   "cell_type": "code",
   "execution_count": 23,
   "metadata": {},
   "outputs": [
    {
     "name": "stdout",
     "output_type": "stream",
     "text": [
      "Counter({'e': 3, 'n': 2, 'a': 1, 'y': 1, 's': 1, 'q': 1, 'u': 1, 'c': 1})\n",
      "Counter({'e': 3, 'a': 1, 'c': 1})\n",
      "Counter({'e': 3, 'a': 1, 'c': 1})\n",
      "\n",
      "Counter()\n",
      "Counter({'a': 5, 'b': 2, 'r': 2, 'c': 1, 'd': 1})\n",
      "Counter({'a': 8, 'b': 2, 'r': 2, 'c': 1, 'd': 1})\n",
      "a: 8\n",
      "b: 2\n",
      "r: 2\n",
      "c: 1\n",
      "d: 1\n"
     ]
    }
   ],
   "source": [
    "from collections import Counter\n",
    "\n",
    "c1 = Counter('anysequence')\n",
    "c2 = Counter({'a':1, 'c': 1, 'e':3})\n",
    "c3 = Counter(a=1, c= 1, e=3)\n",
    "\n",
    "print(c1)\n",
    "print(c2)\n",
    "print(c3)\n",
    "print()\n",
    "\n",
    "ct = Counter() # creates an empty counter object\n",
    "print(ct)\n",
    "\n",
    "ct.update('abracadabra') # populates the object\n",
    "print(ct)\n",
    "\n",
    "ct.update({'a':3}) # update the count of 'a'. This will add to existing count\n",
    "print(ct)\n",
    "\n",
    "for item in ct:\n",
    "    print('%s: %d' % (item, ct[item]))"
   ]
  },
  {
   "cell_type": "markdown",
   "metadata": {},
   "source": [
    "- Counter vs Dictionary: Counter objects return a zero count for missing items rather than raising a key error\n",
    "- We can create an iterator out of a Counter object by using its `elements()` method\n",
    "- Returns an iterator where counts below one are not included and the order is not guaranteed"
   ]
  },
  {
   "cell_type": "code",
   "execution_count": 25,
   "metadata": {},
   "outputs": [
    {
     "name": "stdout",
     "output_type": "stream",
     "text": [
      "Counter({'a': 5, 'r': 2, 'e': 2, 'c': 1, 'd': 1, 'b': 0})\n",
      "0\n",
      "Counter({'e': 4, 'a': 2, 'r': 2, 'c': 1, 'd': 1, 'b': -2})\n",
      "['a', 'a', 'c', 'd', 'e', 'e', 'e', 'e', 'r', 'r']\n",
      "{'a', 'c', 'r', 'd', 'e'}\n"
     ]
    }
   ],
   "source": [
    "print(ct)\n",
    "print(ct['x'])\n",
    "\n",
    "ct.update({'a':-3, 'b':-2, 'e':2})\n",
    "print(ct)\n",
    "\n",
    "print(sorted(ct.elements()))\n",
    "print(set(ct.elements()))"
   ]
  },
  {
   "cell_type": "markdown",
   "metadata": {},
   "source": [
    "- Other Counter methods:\n",
    "  - `most_common([int])`: Takes a positive integer argument that determines the number of most common elements to return. Elements are returned as a list of `(key,value)` tuples\n",
    "  - `subtract()`: Works exactly like update except, instead of adding values, it subtracts them"
   ]
  },
  {
   "cell_type": "code",
   "execution_count": 27,
   "metadata": {},
   "outputs": [
    {
     "name": "stdout",
     "output_type": "stream",
     "text": [
      "[('a', 2), ('r', 2), ('e', 2), ('c', 1), ('d', 1), ('b', -2)]\n",
      "[('a', 2), ('r', 2)]\n",
      "Counter({'a': 2, 'r': 2, 'c': 1, 'd': 1, 'e': 0, 'b': -2})\n"
     ]
    }
   ],
   "source": [
    "print(ct.most_common())\n",
    "print(ct.most_common(2))\n",
    "\n",
    "ct.subtract({'e':2})\n",
    "print(ct)\n"
   ]
  },
  {
   "cell_type": "markdown",
   "metadata": {},
   "source": [
    "### `OrderedDict`"
   ]
  },
  {
   "cell_type": "markdown",
   "metadata": {},
   "source": [
    "- Dictioaries that remember insertion order\n",
    "- When iterated over, return values in the order they were added\n",
    "- Order is also considered as an equality test between two `OrderedDict` objects with the same keys and values\n",
    "  - A different insertion order will return `False`"
   ]
  },
  {
   "cell_type": "code",
   "execution_count": 29,
   "metadata": {},
   "outputs": [
    {
     "name": "stdout",
     "output_type": "stream",
     "text": [
      "OrderedDict()\n",
      "False\n",
      "True\n"
     ]
    }
   ],
   "source": [
    "from collections import OrderedDict\n",
    "\n",
    "od1 = OrderedDict()\n",
    "print(od1)\n",
    "\n",
    "od1['one'] = 1\n",
    "od1['two'] = 2\n",
    "\n",
    "od2 = OrderedDict()\n",
    "\n",
    "od2['two'] = 2\n",
    "od2['one'] = 1\n",
    "\n",
    "print(od1 == od2)\n",
    "\n",
    "od3 = OrderedDict()\n",
    "\n",
    "od3['one'] = 1\n",
    "od3['two'] = 2\n",
    "\n",
    "print(od1 == od3)"
   ]
  },
  {
   "cell_type": "markdown",
   "metadata": {},
   "source": [
    "- When we add values to an `OrderedDict` from an existing list, the order will be kept"
   ]
  },
  {
   "cell_type": "code",
   "execution_count": 32,
   "metadata": {},
   "outputs": [
    {
     "name": "stdout",
     "output_type": "stream",
     "text": [
      "OrderedDict([('one', 1), ('two', 2), ('three', 3), ('four', 4), ('five', 5)])\n",
      "one : 1\n",
      "two : 2\n",
      "three : 3\n",
      "four : 4\n",
      "five : 5\n"
     ]
    }
   ],
   "source": [
    "kvs = [('three', 3), ('four', 4), ('five', 5)]\n",
    "\n",
    "od1.update(kvs)\n",
    "print(od1)\n",
    "\n",
    "for k, v in od1.items(): \n",
    "    print(k,\":\", v)"
   ]
  },
  {
   "cell_type": "markdown",
   "metadata": {},
   "source": [
    "- `OrderedDict` is often used in conjunction with the `sorted()` method to create a sorted dictionary"
   ]
  },
  {
   "cell_type": "code",
   "execution_count": 35,
   "metadata": {},
   "outputs": [
    {
     "name": "stdout",
     "output_type": "stream",
     "text": [
      "OrderedDict([('five', 5), ('four', 4), ('one', 1), ('three', 3), ('two', 2)])\n",
      "odict_values([5, 4, 1, 3, 2])\n"
     ]
    }
   ],
   "source": [
    "od3 = OrderedDict(sorted(od1.items(), key=lambda t: (4 * t[1]) - t[1]**2))\n",
    "print(od3)\n",
    "print(od3.values())"
   ]
  },
  {
   "cell_type": "markdown",
   "metadata": {},
   "source": [
    "### `defaultdict`"
   ]
  },
  {
   "cell_type": "markdown",
   "metadata": {},
   "source": [
    "- Subclass of `dict`: Share methods and properties\n",
    "- Convenient way to initialize dictionaries with default values\n",
    "- `dict`: Python will throw `KeyError` when attempting to access a key that is not already in the dictionary\n",
    "- `defaultdict`: Overrides one method, `missing (key)`, and creates a new instance variable, `default_factory`\n",
    "- Rather than throw an error, it will run the function supplied as the `default_factory` argument, which will generate a value\n",
    "- A simple use of `defaultdict` is to set `default_factory` to `int` and use it to quickly tally the counts of items in the dictionary"
   ]
  },
  {
   "cell_type": "code",
   "execution_count": 36,
   "metadata": {},
   "outputs": [
    {
     "name": "stdout",
     "output_type": "stream",
     "text": [
      "defaultdict(<class 'int'>, {'red': 4, 'blue': 2, 'green': 3, 'yellow': 1})\n"
     ]
    }
   ],
   "source": [
    "from collections import defaultdict\n",
    "\n",
    "dd = defaultdict(int) # The int() function that simply returns zero by default\n",
    "words = str.split('red blue green red yellow blue red green green red')\n",
    "\n",
    "for word in words:\n",
    "    dd[word] += 1 # If we do this in regular dictionary, we will get an error\n",
    "\n",
    "print(dd)"
   ]
  },
  {
   "cell_type": "code",
   "execution_count": 38,
   "metadata": {},
   "outputs": [
    {
     "name": "stdout",
     "output_type": "stream",
     "text": [
      "0\n"
     ]
    }
   ],
   "source": [
    "print(dd[123]) # Accessing a key that does not exist"
   ]
  },
  {
   "cell_type": "code",
   "execution_count": 41,
   "metadata": {},
   "outputs": [
    {
     "name": "stdout",
     "output_type": "stream",
     "text": [
      "This is the default value when key does not exist\n"
     ]
    }
   ],
   "source": [
    "dd2 = defaultdict(lambda: 'This is the default value when key does not exist')\n",
    "\n",
    "print(dd2[123]) # Accessing a key that does not exist"
   ]
  },
  {
   "cell_type": "markdown",
   "metadata": {},
   "source": [
    "### `namedTuple`"
   ]
  },
  {
   "cell_type": "markdown",
   "metadata": {},
   "source": [
    "- A tuple-like object that has fields accessible with named indexes as well as the integer indexes of normal tuples\n",
    "- Makes code self-documenting and more readable\n",
    "- Inherits methods from tuple and it is backward-compatible with tuple\n",
    "- Field names are passed to the `namedtuple()` as comma and/or whitespace-separated values\n",
    "  - Can also be sequence of strings\n",
    "  - Single strings\n",
    "  - Can be any legal Python identifier that does not begin with a digit or an underscore"
   ]
  },
  {
   "cell_type": "code",
   "execution_count": 42,
   "metadata": {},
   "outputs": [
    {
     "name": "stdout",
     "output_type": "stream",
     "text": [
      "space(x=2.0, y=4.0, z=10)\n",
      "80.0\n"
     ]
    }
   ],
   "source": [
    "from collections import namedtuple\n",
    "\n",
    "space = namedtuple('space', 'x y z')\n",
    "s1 = space(x=2.0, y=4.0, z=10) # we can also use space(2.0, 4.0, 10)\n",
    "\n",
    "print(s1)\n",
    "print(s1.x * s1.y * s1.z) # calculate the volume"
   ]
  },
  {
   "cell_type": "markdown",
   "metadata": {},
   "source": [
    "- Additional methods of `namedTuple` (Underscore to avoid potential conflicts):\n",
    "  - `_make()`: takes an iterable as an argument and turns it into a named tuple object\n",
    "  - `asdict()`: returns an `OrderedDict` with the field names mapped to tuple index keys and the values mapped to the tuple values\n",
    "  - `_replace()`: returns a new instance of the tuple, replacing the specified values\n",
    "  - `_fields`: returns the tuple of string listing the fields names\n",
    "  - `_fields_defaults`: provides dictionary mapping field names to the default values"
   ]
  },
  {
   "cell_type": "code",
   "execution_count": 53,
   "metadata": {},
   "outputs": [
    {
     "name": "stdout",
     "output_type": "stream",
     "text": [
      "[4, 5, 6]\n",
      "space(x=4, y=5, z=6)\n",
      "5\n",
      "5\n"
     ]
    }
   ],
   "source": [
    "s2 = [4, 5, 6]\n",
    "print(s2)\n",
    "\n",
    "s2 = space._make(sl)\n",
    "print(s2)\n",
    "\n",
    "print(s2.y) # Accessing with key\n",
    "print(s2[1]) # Accessing with index"
   ]
  },
  {
   "cell_type": "code",
   "execution_count": 54,
   "metadata": {},
   "outputs": [
    {
     "name": "stdout",
     "output_type": "stream",
     "text": [
      "{'x': 4, 'y': 5, 'z': 6}\n",
      "space(x=4, y=5, z=6)\n",
      "('x', 'y', 'z')\n",
      "{}\n"
     ]
    }
   ],
   "source": [
    "print(s1._asdict())\n",
    "\n",
    "s1._replace(x=7, z=9)\n",
    "print(s1)\n",
    "\n",
    "print(space._fields)\n",
    "print(space._fields_defaults)"
   ]
  },
  {
   "cell_type": "markdown",
   "metadata": {},
   "source": [
    "---"
   ]
  },
  {
   "cell_type": "markdown",
   "metadata": {},
   "source": [
    "## `array` Module"
   ]
  },
  {
   "cell_type": "markdown",
   "metadata": {},
   "source": [
    "- Similar to `list`. Also mutable.\n",
    "- But must only contain a single data type\n",
    "- Similar to C-arrays, support C-types in the lower-end\n",
    "- The type of an array is determined at creation time by the following code\n",
    "  - `b`: `int` `signedchar` minimum 1 byte\n",
    "  - `B`: `int` `unsigned` minimum 1 byte\n",
    "  - `u`: Unicode character minimum 2 bytes\n",
    "  - `h`: `int` `signedshort` minimum 2 bytes\n",
    "  - `H`: `int` `unsignedshort` minimum 2 bytes\n",
    "  - `i`: `int` `signedint` minimum 2 bytes\n",
    "  - `I`: `int` `unsignedint` minimum 2 bytes\n",
    "  - `l`: `int` `signedlong` minimum 4 bytes\n",
    "  - `L`: `int` `unsignedlong` minimum 8 bytes\n",
    "  - `q`: `int` `signedlonglong` minimum 8 bytes\n",
    "  - `Q`: `int` `unsignedlonglong` minimum 8 bytes\n",
    "  - `f`: `float` `float` minimum 4 bytes\n",
    "  - `d`: `float` `double` minimum 8 bytes"
   ]
  },
  {
   "cell_type": "markdown",
   "metadata": {},
   "source": [
    "### Array Attributes and Methods"
   ]
  },
  {
   "cell_type": "markdown",
   "metadata": {},
   "source": [
    "- `a.itemsize`: size of one array item in bytes\n",
    "- `a.append(x)`: Appends an `x` element at the end of the `a` array\n",
    "- `a.buffer_info()`: Returns `a` tuple containing the current memory location and length of the buffer used to store the array\n",
    "- `a.byteswap()`: Swaps the byte order of each item in the `a` array\n",
    "- `a.count(x)`: Returns the occurrences of `x` in the `a` array\n",
    "- `a.extend(b)`: Appends all the elements from iterable `b` at the end of the `a` array\n",
    "- `a.frombytes(s):` Appends elements from an `s` string, where the string is an array of machine values\n",
    "- `a.fromfile(f,n):` Reads `n` machine values from the file and appends them at the end of the array\n",
    "- `a.fromlist(l):` Appends all of the elements from the `l` list to the array\n",
    "- `a.fromunicode(s):` Extends an array of the `u` type with the Unicode string `s`\n",
    "- `index(x):` Returns the first (smallest) index of the `x` element\n",
    "- `a.insert(i,x):` Inserts an item of which the value is `x`, in the array at `i` index position\n",
    "- `a.pop([i]):` Returns the item at index `i` and removes it from the array\n",
    "- `a.remove(x):` Removes the first occurrence of the `x` item from the array\n",
    "- `a.reverse():` Reverses the order of items in the `a` array\n",
    "- `a.tofile(f):` Writes all the elements to the `f` file object\n",
    "- `a.tolist():` Converts the array into a list\n",
    "- `a.tounicode():` Converts an array of the `u` type into a Unicode string"
   ]
  },
  {
   "cell_type": "markdown",
   "metadata": {},
   "source": [
    "- Support all of the normal sequence operations such as indexing, slicing, concatenation, and multiplication\n",
    "- Much more efficient way of storing data that is of the same type (vs list)\n",
    "- Storing one million integers in an integer array requires around 90% of the memory of an equivalent list"
   ]
  },
  {
   "cell_type": "code",
   "execution_count": 59,
   "metadata": {},
   "outputs": [
    {
     "name": "stdout",
     "output_type": "stream",
     "text": [
      "4091900\n",
      "4000028\n",
      "1.0229678392251254\n"
     ]
    }
   ],
   "source": [
    "from array import array\n",
    "from sys import getsizeof\n",
    "\n",
    "ba = array('i', range(10**6)) # 1 million integers\n",
    "bl = list(range(10**6)) # 1 million integers\n",
    "\n",
    "size_ba = getsizeof(ba)\n",
    "size_bl = getsizeof(bl)\n",
    "\n",
    "print(size_ba)\n",
    "print(size_bl)\n",
    "print(size_ba / size_bl)"
   ]
  },
  {
   "cell_type": "markdown",
   "metadata": {},
   "source": [
    "- Because we are interested in saving space, that is, we are dealing with large datasets and limited memory size, we usually perform in-place operations on arrays, and only create copies when we need to\n",
    "- `enumerate()` is used to perform an operation on each element\n",
    "- When performing operations on arrays that create lists, such as list comprehensions, the memory efficiency gains of using an array will be negated\n",
    "- When we need to create a new data object, a solution is to use a generator expression to perform the operation\n",
    "- Arrays created with this module are unsuitable for work that requires a matrix of vector operations\n",
    "  - Important for numerical work is the `NumPy` extension instead"
   ]
  },
  {
   "cell_type": "code",
   "execution_count": null,
   "metadata": {},
   "outputs": [],
   "source": []
  }
 ],
 "metadata": {
  "kernelspec": {
   "display_name": "Python 3",
   "language": "python",
   "name": "python3"
  },
  "language_info": {
   "codemirror_mode": {
    "name": "ipython",
    "version": 3
   },
   "file_extension": ".py",
   "mimetype": "text/x-python",
   "name": "python",
   "nbconvert_exporter": "python",
   "pygments_lexer": "ipython3",
   "version": "3.8.2"
  },
  "toc": {
   "base_numbering": 1,
   "nav_menu": {},
   "number_sections": true,
   "sideBar": true,
   "skip_h1_title": true,
   "title_cell": "Table of Contents",
   "title_sidebar": "Contents",
   "toc_cell": true,
   "toc_position": {
    "height": "calc(100% - 180px)",
    "left": "10px",
    "top": "150px",
    "width": "221.333px"
   },
   "toc_section_display": true,
   "toc_window_display": true
  }
 },
 "nbformat": 4,
 "nbformat_minor": 4
}
