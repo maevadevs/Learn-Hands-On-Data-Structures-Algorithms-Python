{
 "cells": [
  {
   "cell_type": "markdown",
   "metadata": {},
   "source": [
    "# Chainmap Example"
   ]
  },
  {
   "cell_type": "code",
   "execution_count": 1,
   "metadata": {},
   "outputs": [],
   "source": [
    "from collections import ChainMap"
   ]
  },
  {
   "cell_type": "code",
   "execution_count": 2,
   "metadata": {},
   "outputs": [],
   "source": [
    "dict1 = {'a':1, 'b':2, 'c':3}\n",
    "dict2 = {'d':4, 'e':5}\n",
    "chainmap = ChainMap(dict1, dict2) # linking two dictionaries"
   ]
  },
  {
   "cell_type": "code",
   "execution_count": 3,
   "metadata": {},
   "outputs": [
    {
     "name": "stdout",
     "output_type": "stream",
     "text": [
      "print two lined dictionaries ChainMap({'a': 1, 'b': 2, 'c': 3}, {'d': 4, 'e': 5})\n",
      "print maps for chainmap [{'a': 1, 'b': 2, 'c': 3}, {'d': 4, 'e': 5}]\n",
      "print values for chainmap <bound method Mapping.values of ChainMap({'a': 1, 'b': 2, 'c': 3}, {'d': 4, 'e': 5})>\n",
      "print value for key 'b'-  2\n",
      "print value for key 'e'-  5\n"
     ]
    }
   ],
   "source": [
    "print(\"print two lined dictionaries\", chainmap)\n",
    "print(\"print maps for chainmap\", chainmap.maps)\n",
    "print(\"print values for chainmap\", chainmap.values)\n",
    "print(\"print value for key 'b'- \", chainmap['b']) # accessing values \n",
    "print(\"print value for key 'e'- \", chainmap['e'])"
   ]
  },
  {
   "cell_type": "code",
   "execution_count": 4,
   "metadata": {},
   "outputs": [],
   "source": [
    "defaults = {\n",
    "    'theme': 'Default',\n",
    "    'language': 'eng',\n",
    "    'showIndex': True, \n",
    "    'showFooter': True\n",
    "}\n",
    "cm = ChainMap(defaults) # creates a chainMap with defaults configuration"
   ]
  },
  {
   "cell_type": "code",
   "execution_count": 5,
   "metadata": {},
   "outputs": [
    {
     "name": "stdout",
     "output_type": "stream",
     "text": [
      "print maps for chainmap [{'theme': 'Default', 'language': 'eng', 'showIndex': True, 'showFooter': True}]\n",
      "print values for chainmap ValuesView(ChainMap({'theme': 'Default', 'language': 'eng', 'showIndex': True, 'showFooter': True}))\n"
     ]
    }
   ],
   "source": [
    "print(\"print maps for chainmap\", cm.maps)\n",
    "print(\"print values for chainmap\", cm.values())"
   ]
  },
  {
   "cell_type": "code",
   "execution_count": 6,
   "metadata": {},
   "outputs": [],
   "source": [
    "cm2 = cm.new_child({'theme':'bluesky'}) # create a new chainMap with a child that overrides the parent."
   ]
  },
  {
   "cell_type": "code",
   "execution_count": 7,
   "metadata": {},
   "outputs": [
    {
     "name": "stdout",
     "output_type": "stream",
     "text": [
      "print value for a value theme is bluesky\n",
      "print the entry for 'theme' key bluesky\n",
      "print updated chainmap Default\n",
      "print maps for another chainmap [{}, {'theme': 'Default', 'language': 'eng', 'showIndex': True, 'showFooter': True}]\n",
      "print parent of chainmap2-  ChainMap({'theme': 'Default', 'language': 'eng', 'showIndex': True, 'showFooter': True})\n"
     ]
    }
   ],
   "source": [
    "print(\"print value for a value theme is\", cm2['theme']) # returns the overridden theme\n",
    "print(\"print the entry for 'theme' key\", cm2.pop('theme')) # removes the child theme value\n",
    "print(\"print updated chainmap\", cm2['theme'])\n",
    "print(\"print maps for another chainmap\", cm2.maps)\n",
    "print(\"print parent of chainmap2- \", cm2.parents)"
   ]
  },
  {
   "cell_type": "code",
   "execution_count": null,
   "metadata": {},
   "outputs": [],
   "source": []
  }
 ],
 "metadata": {
  "kernelspec": {
   "display_name": "Python 3",
   "language": "python",
   "name": "python3"
  },
  "language_info": {
   "codemirror_mode": {
    "name": "ipython",
    "version": 3
   },
   "file_extension": ".py",
   "mimetype": "text/x-python",
   "name": "python",
   "nbconvert_exporter": "python",
   "pygments_lexer": "ipython3",
   "version": "3.8.2"
  },
  "toc": {
   "base_numbering": 1,
   "nav_menu": {},
   "number_sections": false,
   "sideBar": false,
   "skip_h1_title": false,
   "title_cell": "Table of Contents",
   "title_sidebar": "Contents",
   "toc_cell": false,
   "toc_position": {
    "height": "calc(100% - 180px)",
    "left": "10px",
    "top": "150px",
    "width": "256px"
   },
   "toc_section_display": false,
   "toc_window_display": false
  }
 },
 "nbformat": 4,
 "nbformat_minor": 4
}
