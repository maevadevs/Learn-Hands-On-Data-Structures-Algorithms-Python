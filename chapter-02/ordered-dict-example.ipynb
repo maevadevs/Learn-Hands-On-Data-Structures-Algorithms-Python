{
 "cells": [
  {
   "cell_type": "markdown",
   "metadata": {},
   "source": [
    "# Ordered List Example"
   ]
  },
  {
   "cell_type": "code",
   "execution_count": 7,
   "metadata": {},
   "outputs": [
    {
     "name": "stdout",
     "output_type": "stream",
     "text": [
      "Print if two list are equal or not -- False\n"
     ]
    }
   ],
   "source": [
    "from collections import OrderedDict\n",
    "\n",
    "od1 = OrderedDict()\n",
    "od1['one'] = 1\n",
    "od1['two'] = 2\n",
    "od2 = OrderedDict()\n",
    "od2['two'] = 2\n",
    "od2['one'] = 1\n",
    "print(\"Print if two list are equal or not --\", od1 == od2)"
   ]
  },
  {
   "cell_type": "code",
   "execution_count": 8,
   "metadata": {},
   "outputs": [
    {
     "name": "stdout",
     "output_type": "stream",
     "text": [
      "print updated ordered list OrderedDict([('one', 1), ('two', 2), ('three', 3), ('four', 4), ('five', 5)])\n"
     ]
    }
   ],
   "source": [
    "kvs = [('three', 3), ('four', 4), ('five', 5)]\n",
    "od1.update(kvs)\n",
    "print(\"print updated ordered list\", od1)"
   ]
  },
  {
   "cell_type": "code",
   "execution_count": 9,
   "metadata": {},
   "outputs": [
    {
     "name": "stdout",
     "output_type": "stream",
     "text": [
      "one 1\n",
      "two 2\n",
      "three 3\n",
      "four 4\n",
      "five 5\n"
     ]
    }
   ],
   "source": [
    "# print all the items of ordered list 1:\n",
    "for k, v in od1.items():\n",
    "    print(k, v)"
   ]
  },
  {
   "cell_type": "code",
   "execution_count": 10,
   "metadata": {},
   "outputs": [
    {
     "name": "stdout",
     "output_type": "stream",
     "text": [
      "print ordered list OrderedDict([('five', 5), ('four', 4), ('one', 1), ('three', 3), ('two', 2)])\n",
      "print ordered list values - odict_values([5, 4, 1, 3, 2])\n"
     ]
    }
   ],
   "source": [
    "od3 = OrderedDict(sorted(od1.items(), key=lambda t: (4 * t[1]) - t[1]**2))\n",
    "\n",
    "print(\"print ordered list\", od3)\n",
    "print(\"print ordered list values -\", od3.values())"
   ]
  }
 ],
 "metadata": {
  "kernelspec": {
   "display_name": "Python 3",
   "language": "python",
   "name": "python3"
  },
  "language_info": {
   "codemirror_mode": {
    "name": "ipython",
    "version": 3
   },
   "file_extension": ".py",
   "mimetype": "text/x-python",
   "name": "python",
   "nbconvert_exporter": "python",
   "pygments_lexer": "ipython3",
   "version": "3.8.2"
  },
  "toc": {
   "base_numbering": 1,
   "nav_menu": {},
   "number_sections": false,
   "sideBar": false,
   "skip_h1_title": false,
   "title_cell": "Table of Contents",
   "title_sidebar": "Contents",
   "toc_cell": false,
   "toc_position": {},
   "toc_section_display": false,
   "toc_window_display": false
  }
 },
 "nbformat": 4,
 "nbformat_minor": 4
}
