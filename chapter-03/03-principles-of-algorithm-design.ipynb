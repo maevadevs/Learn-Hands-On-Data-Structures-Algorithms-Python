{
 "cells": [
  {
   "cell_type": "markdown",
   "metadata": {
    "toc": true
   },
   "source": [
    "<h1>Table of Contents<span class=\"tocSkip\"></span></h1>\n",
    "<div class=\"toc\"><ul class=\"toc-item\"><li><span><a href=\"#Chapter-Goals\" data-toc-modified-id=\"Chapter-Goals-1\"><span class=\"toc-item-num\">1&nbsp;&nbsp;</span>Chapter Goals</a></span></li><li><span><a href=\"#Introduction-To-Algorithm\" data-toc-modified-id=\"Introduction-To-Algorithm-2\"><span class=\"toc-item-num\">2&nbsp;&nbsp;</span>Introduction To Algorithm</a></span><ul class=\"toc-item\"><li><span><a href=\"#Why-Study-Algorithm\" data-toc-modified-id=\"Why-Study-Algorithm-2.1\"><span class=\"toc-item-num\">2.1&nbsp;&nbsp;</span>Why Study Algorithm</a></span></li><li><span><a href=\"#Aspect-To-Solve-a-Problem\" data-toc-modified-id=\"Aspect-To-Solve-a-Problem-2.2\"><span class=\"toc-item-num\">2.2&nbsp;&nbsp;</span>Aspect To Solve a Problem</a></span></li><li><span><a href=\"#An-Efficient-Algorithm\" data-toc-modified-id=\"An-Efficient-Algorithm-2.3\"><span class=\"toc-item-num\">2.3&nbsp;&nbsp;</span>An Efficient Algorithm</a></span></li><li><span><a href=\"#Vocabularies-of-Algorithms\" data-toc-modified-id=\"Vocabularies-of-Algorithms-2.4\"><span class=\"toc-item-num\">2.4&nbsp;&nbsp;</span>Vocabularies of Algorithms</a></span></li></ul></li><li><span><a href=\"#Algorithm-Design-and-Paradigms\" data-toc-modified-id=\"Algorithm-Design-and-Paradigms-3\"><span class=\"toc-item-num\">3&nbsp;&nbsp;</span>Algorithm Design and Paradigms</a></span><ul class=\"toc-item\"><li><span><a href=\"#Divide-and-Conquer\" data-toc-modified-id=\"Divide-and-Conquer-3.1\"><span class=\"toc-item-num\">3.1&nbsp;&nbsp;</span>Divide and Conquer</a></span></li><li><span><a href=\"#Greedy-Algorithms\" data-toc-modified-id=\"Greedy-Algorithms-3.2\"><span class=\"toc-item-num\">3.2&nbsp;&nbsp;</span>Greedy Algorithms</a></span></li><li><span><a href=\"#Dynamic-Programming\" data-toc-modified-id=\"Dynamic-Programming-3.3\"><span class=\"toc-item-num\">3.3&nbsp;&nbsp;</span>Dynamic Programming</a></span></li></ul></li><li><span><a href=\"#Recursion-and-Backtracking\" data-toc-modified-id=\"Recursion-and-Backtracking-4\"><span class=\"toc-item-num\">4&nbsp;&nbsp;</span>Recursion and Backtracking</a></span><ul class=\"toc-item\"><li><span><a href=\"#Iteration-vs-Recursion\" data-toc-modified-id=\"Iteration-vs-Recursion-4.1\"><span class=\"toc-item-num\">4.1&nbsp;&nbsp;</span>Iteration vs Recursion</a></span></li><li><span><a href=\"#Backtracking\" data-toc-modified-id=\"Backtracking-4.2\"><span class=\"toc-item-num\">4.2&nbsp;&nbsp;</span>Backtracking</a></span></li><li><span><a href=\"#Long-Multiplication---Divide-and-Conquer\" data-toc-modified-id=\"Long-Multiplication---Divide-and-Conquer-4.3\"><span class=\"toc-item-num\">4.3&nbsp;&nbsp;</span>Long Multiplication - Divide and Conquer</a></span><ul class=\"toc-item\"><li><span><a href=\"#Asymptotic-Analysis-/-Time-Complexity\" data-toc-modified-id=\"Asymptotic-Analysis-/-Time-Complexity-4.3.1\"><span class=\"toc-item-num\">4.3.1&nbsp;&nbsp;</span>Asymptotic Analysis / Time Complexity</a></span></li><li><span><a href=\"#Karatsuba-Recursive-Approach-to-Long-Multiplication\" data-toc-modified-id=\"Karatsuba-Recursive-Approach-to-Long-Multiplication-4.3.2\"><span class=\"toc-item-num\">4.3.2&nbsp;&nbsp;</span><code>Karatsuba</code> Recursive Approach to Long Multiplication</a></span></li></ul></li><li><span><a href=\"#Runtime-Analysis\" data-toc-modified-id=\"Runtime-Analysis-4.4\"><span class=\"toc-item-num\">4.4&nbsp;&nbsp;</span>Runtime Analysis</a></span><ul class=\"toc-item\"><li><span><a href=\"#Example-of-Analysis:-mergesort\" data-toc-modified-id=\"Example-of-Analysis:-mergesort-4.4.1\"><span class=\"toc-item-num\">4.4.1&nbsp;&nbsp;</span>Example of Analysis: <code>mergesort</code></a></span></li><li><span><a href=\"#Asymptotic-Analysis\" data-toc-modified-id=\"Asymptotic-Analysis-4.4.2\"><span class=\"toc-item-num\">4.4.2&nbsp;&nbsp;</span>Asymptotic Analysis</a></span></li></ul></li></ul></li></ul></div>"
   ]
  },
  {
   "cell_type": "markdown",
   "metadata": {},
   "source": [
    "# Principles of Algorithm Design\n",
    "- Algorithms are the foundation of all computing\n",
    "- If algorithm was missing, modern technology is useless"
   ]
  },
  {
   "cell_type": "markdown",
   "metadata": {},
   "source": [
    "---"
   ]
  },
  {
   "cell_type": "markdown",
   "metadata": {},
   "source": [
    "## Chapter Goals"
   ]
  },
  {
   "cell_type": "markdown",
   "metadata": {},
   "source": [
    "- An introduction to algorithms\n",
    "- Recursion and backtracking\n",
    "- Big O notation"
   ]
  },
  {
   "cell_type": "code",
   "execution_count": 1,
   "metadata": {},
   "outputs": [],
   "source": [
    "# We will need matplotlib in this chapter\n",
    "import matplotlib"
   ]
  },
  {
   "cell_type": "markdown",
   "metadata": {},
   "source": [
    "---"
   ]
  },
  {
   "cell_type": "markdown",
   "metadata": {},
   "source": [
    "## Introduction To Algorithm"
   ]
  },
  {
   "cell_type": "markdown",
   "metadata": {},
   "source": [
    "- **An algorithm is a sequential set of instructions to execute a particular task**\n",
    "  - We can break a complex problem into a smaller ones to prepare simple steps to execute a big problem\n",
    "- Theoretical foundation of algorithm:\n",
    "  - *The Turing machine*:\n",
    "    - A mathematical model that\n",
    "    - Using a predefined set of rules, it translates a set of inputs into a set of outputs\n",
    "    - From mechanical, to digital, to quantum\n",
    "    - Regardless of the platform, algorithm plays an essential role\n",
    "- Algorithms in practice:\n",
    "  - Page Rank Search of Google"
   ]
  },
  {
   "cell_type": "markdown",
   "metadata": {},
   "source": [
    "### Why Study Algorithm"
   ]
  },
  {
   "cell_type": "markdown",
   "metadata": {},
   "source": [
    "- Essential for computer science and intelligent systems\n",
    "- Important in many other domains knowledge\n",
    "- Play a role in technology innovation\n",
    "- Improve problem-solving and analytical thinking"
   ]
  },
  {
   "cell_type": "markdown",
   "metadata": {},
   "source": [
    "### Aspect To Solve a Problem"
   ]
  },
  {
   "cell_type": "markdown",
   "metadata": {},
   "source": [
    "- An efficient mechanism to store, manage, and retrieve data\n",
    "- An efficient algorithm with a finite set of instructions"
   ]
  },
  {
   "cell_type": "markdown",
   "metadata": {},
   "source": [
    "### An Efficient Algorithm"
   ]
  },
  {
   "cell_type": "markdown",
   "metadata": {},
   "source": [
    "- As specific as possible\n",
    "- Have each instruction properly defined\n",
    "- No ambiguous instruction\n",
    "- Be executable in a finite amount of time and in a finite number of steps\n",
    "- Have clear input and output to solve the problem\n",
    "- Each instruction of the algorithm is important to solve the problem"
   ]
  },
  {
   "cell_type": "markdown",
   "metadata": {},
   "source": [
    "### Vocabularies of Algorithms"
   ]
  },
  {
   "cell_type": "markdown",
   "metadata": {},
   "source": [
    "- Instructions\n",
    "- Conditions\n",
    "- Iterations\n",
    "- Operations\n",
    "- Recursion\n",
    "  - A recursive function calls itself, applying the same function to progressively smaller inputs\n",
    "  - The input of any recursive step is the output of the previous recursive step"
   ]
  },
  {
   "cell_type": "markdown",
   "metadata": {},
   "source": [
    "---"
   ]
  },
  {
   "cell_type": "markdown",
   "metadata": {},
   "source": [
    "## Algorithm Design and Paradigms"
   ]
  },
  {
   "cell_type": "markdown",
   "metadata": {},
   "source": [
    "- There are 3 broad approaches to algorithm design:\n",
    "  - **Divide and Conquer**\n",
    "  - **Greedy Algorithms**\n",
    "  - **Dynamic Programming**"
   ]
  },
  {
   "cell_type": "markdown",
   "metadata": {},
   "source": [
    "### Divide and Conquer"
   ]
  },
  {
   "cell_type": "markdown",
   "metadata": {},
   "source": [
    "- Breaking a problem into smaller simple sub-problems\n",
    "- Solving these sub-problems\n",
    "- Combining the results to obtain a global optimal solution\n",
    "- Examples:\n",
    "  - Binary Search\n",
    "  - Merge Sort\n",
    "  - Quick Sort\n",
    "  - Karatsuba algorithm for fast multiplication\n",
    "  - Strassen's matrix multiplication\n",
    "  - Closest pair of points"
   ]
  },
  {
   "cell_type": "markdown",
   "metadata": {},
   "source": [
    "### Greedy Algorithms"
   ]
  },
  {
   "cell_type": "markdown",
   "metadata": {},
   "source": [
    "- For optimization and combinatorial problems\n",
    "- Objective: \n",
    "  - Obtain the best optimum solution from many possible solutions in each step\n",
    "  - Try to get the local optimum solution which may eventually lead us to obtain the overall optimum solution\n",
    "- Examples:\n",
    "  - Kruskal's minimum spanning tree\n",
    "  - Dijkstra's shortest path \n",
    "  - Knapsack problem \n",
    "  - Prim's minimal spanning tree algorithm\n",
    "  - Travelling salesman problem"
   ]
  },
  {
   "cell_type": "markdown",
   "metadata": {},
   "source": [
    "### Dynamic Programming"
   ]
  },
  {
   "cell_type": "markdown",
   "metadata": {},
   "source": [
    "- Useful when the subproblems overlap\n",
    "- Intermediate results are cached and can be used into subsequent operations\n",
    "- Similar to divide-and-conquer, it uses recursion\n",
    "- Allow us to compare results at different stages\n",
    "- Often quicker to retrieve a previously calculated result from memory rather than having to recalculate it\n",
    "- Examples:\n",
    "  - Matrix chain multiplication problem"
   ]
  },
  {
   "cell_type": "code",
   "execution_count": 2,
   "metadata": {},
   "outputs": [],
   "source": [
    "from sys import maxsize\n",
    "\n",
    "def MatrixChain(mat, i, j):   \n",
    "    if i == j:   \n",
    "        return 0\n",
    "    \n",
    "    minimum_computations = maxsize  \n",
    "    \n",
    "    for k in range(i, j):\n",
    "        # Recursion\n",
    "        count = (MatrixChain(mat, i, k) + MatrixChain(mat, k+1, j) + mat[i-1] * mat[k] * mat[j])   \n",
    "        if count < minimum_computations:  \n",
    "              minimum_computations = count    \n",
    "        return minimum_computations"
   ]
  },
  {
   "cell_type": "code",
   "execution_count": 3,
   "metadata": {},
   "outputs": [
    {
     "name": "stdout",
     "output_type": "stream",
     "text": [
      "Minimum multiplications are 97500\n"
     ]
    }
   ],
   "source": [
    "matrix_sizes = [20, 30, 45, 50]\n",
    "\n",
    "print(\"Minimum multiplications are\", MatrixChain(matrix_sizes , 1, len(matrix_sizes)-1))"
   ]
  },
  {
   "cell_type": "markdown",
   "metadata": {},
   "source": [
    "---"
   ]
  },
  {
   "cell_type": "markdown",
   "metadata": {},
   "source": [
    "## Recursion and Backtracking"
   ]
  },
  {
   "cell_type": "markdown",
   "metadata": {},
   "source": [
    "- Particularly useful for *Divide-and-Conquer*\n",
    "- Can be difficult to understand exactly what is happening\n",
    "- A recursive function could end up in an infinite loop\n",
    "- Important for recursive functions to have:\n",
    "  - *A base case*: Recursion will stop when the base case is reach (exit strategy)\n",
    "  - *Recursive cases*: Steps that eventually lead to the base case"
   ]
  },
  {
   "cell_type": "code",
   "execution_count": 4,
   "metadata": {},
   "outputs": [],
   "source": [
    "# Typical case for recursion: Factorial\n",
    "def factorial(n):\n",
    "    if n < 0: # Excluded cases: n < 0\n",
    "        raise TypeError(\"Factorial can only be applied on positive intergers.\")\n",
    "    if n == 0: # Base case: n = 0  \n",
    "        return 1 \n",
    "    else: # Recursive cases: n > 0\n",
    "        # On each recursion, a copy of the method variables is stored in memory\n",
    "        # Once the method returns it is removed from memory\n",
    "        f = n * factorial(n-1)\n",
    "    print(f) \n",
    "    return(f)"
   ]
  },
  {
   "cell_type": "code",
   "execution_count": 5,
   "metadata": {},
   "outputs": [
    {
     "name": "stdout",
     "output_type": "stream",
     "text": [
      "1\n",
      "2\n",
      "6\n",
      "24\n",
      "120\n",
      "720\n",
      "5040\n",
      "40320\n",
      "362880\n",
      "3628800\n"
     ]
    },
    {
     "data": {
      "text/plain": [
       "3628800"
      ]
     },
     "execution_count": 5,
     "metadata": {},
     "output_type": "execute_result"
    }
   ],
   "source": [
    "factorial(10)"
   ]
  },
  {
   "cell_type": "markdown",
   "metadata": {},
   "source": [
    "### Iteration vs Recursion"
   ]
  },
  {
   "cell_type": "markdown",
   "metadata": {},
   "source": [
    "- Both are well-suited to divide-and-conquer approaches\n",
    "- Iteration churns away until the problem is done with\n",
    "- Recursion breaks the problem down into smaller and smaller chunks and then combines the results\n",
    "- Iteration is often easier to follow: Control stays local to a loop\n",
    "- Recursion closely represent mathematical concepts such as factorial\n",
    "- **Recursion is generally slower than iteration**\n",
    "- **Recursive calls are stored in memory, iterations are not**\n",
    "  - Trade-off between memory usage and processor cycle\n",
    "  - Processor intensive or memory intensive"
   ]
  },
  {
   "cell_type": "markdown",
   "metadata": {},
   "source": [
    "### Backtracking"
   ]
  },
  {
   "cell_type": "markdown",
   "metadata": {},
   "source": [
    "- A particular form of recursion\n",
    "- Particularly useful for types of problems such as traversing tree structures\n",
    "- A divide and conquer method for exhaustive searching\n",
    "- Backtracking prunes branches that cannot give a result\n",
    "- We are presented with a different set of options\n",
    "  - Depending on the series of choices made, either a goal state or a dead end is reached\n",
    "  - If dead end, we backtrack to a previous node and traverse a different branch"
   ]
  },
  {
   "cell_type": "markdown",
   "metadata": {},
   "source": [
    "- A recursive approach to generate **all** possible arrangements of a given string `st` of a given length `n`\n"
   ]
  },
  {
   "cell_type": "code",
   "execution_count": 6,
   "metadata": {},
   "outputs": [],
   "source": [
    "def bit_str(n, st):\n",
    "    if n == 1:\n",
    "        return st\n",
    "\n",
    "    return [digit + bits for digit in bit_str(1, st) for bits in bit_str(n-1, st)]"
   ]
  },
  {
   "cell_type": "code",
   "execution_count": 7,
   "metadata": {},
   "outputs": [
    {
     "name": "stdout",
     "output_type": "stream",
     "text": [
      "count: 27\n",
      "['aaa', 'aab', 'aac', 'aba', 'abb', 'abc', 'aca', 'acb', 'acc', 'baa', 'bab', 'bac', 'bba', 'bbb', 'bbc', 'bca', 'bcb', 'bcc', 'caa', 'cab', 'cac', 'cba', 'cbb', 'cbc', 'cca', 'ccb', 'ccc']\n"
     ]
    }
   ],
   "source": [
    "res = bit_str(3, \"abc\")\n",
    "print(\"count:\", len(res))\n",
    "print(res)"
   ]
  },
  {
   "cell_type": "markdown",
   "metadata": {},
   "source": [
    "### Long Multiplication - Divide and Conquer"
   ]
  },
  {
   "cell_type": "markdown",
   "metadata": {},
   "source": [
    "- Comparing recursion to other methods and understanding when to use it\n",
    "- Long multiplication involved iterative multiplying and carry operations followed by a shifting and addition operation\n",
    "- This is how we were taught to multiply large numbers in foundation schools\n",
    "- Examine ways to measure how efficient this procedure\n",
    "- Attempt to answer the question: Is this the most efficient procedure we can use for multiplying two large numbers together?"
   ]
  },
  {
   "cell_type": "markdown",
   "metadata": {},
   "source": [
    "#### Asymptotic Analysis / Time Complexity"
   ]
  },
  {
   "cell_type": "markdown",
   "metadata": {},
   "source": [
    "- A way to understand the relationship between the time it takes to complete a certain computation and the size of the input to that computation\n",
    "- What happens when the input, the number of digits `n` is very large"
   ]
  },
  {
   "cell_type": "markdown",
   "metadata": {},
   "source": [
    "#### `Karatsuba` Recursive Approach to Long Multiplication"
   ]
  },
  {
   "cell_type": "markdown",
   "metadata": {},
   "source": [
    "- There are several algorithms for multiplying large numbers that require less operations\n",
    "- 1962: The Karatsuba Algorithm\n",
    "- Divide and Conquer Approach\n",
    "  - Instead of iteratively multiplying single-digit numbers\n",
    "  - Recursively carries out multiplication operations on progressively smaller inputs\n",
    "- First step in building a recursive algorithm: Decompose a large number into several smaller numbers\n",
    "  - Most natural way to do this: Simply split the number into two halves\n",
    "  - Example: `2345` becomes `23` and `45`"
   ]
  },
  {
   "cell_type": "code",
   "execution_count": 8,
   "metadata": {},
   "outputs": [],
   "source": [
    "from math import log10 \n",
    "import math\n",
    "\n",
    "def karatsuba(x, y):\n",
    "\n",
    "    # The base case for recursion \n",
    "    if x < 10 or y < 10:\n",
    "        return x * y\n",
    "\n",
    "    # sets n: the number of digits in the highest input number\n",
    "    n = max(int(log10(x) + 1), int(log10(y) + 1))\n",
    "\n",
    "    # roundsup n/2\n",
    "    n_2 = int(math.ceil( n / 2.0))\n",
    "\n",
    "    # adds 1 if n is uneven\n",
    "    n = n if n % 2 == 0 else n + 1\n",
    "\n",
    "    # splits the input numbers\n",
    "    a, b = divmod(x, 10**n_2)\n",
    "    c, d = divmod(y,10**n_2)\n",
    "\n",
    "    # applies the three recursive steps \n",
    "    ac = karatsuba(a,c)\n",
    "    bd = karatsuba(b,d)\n",
    "    ad_bc = karatsuba((a + b),(c + d)) - ac - bd\n",
    "\n",
    "    # performs the multiplication\n",
    "    return (((10**n) * ac) + bd + ((10**n_2) * (ad_bc)))"
   ]
  },
  {
   "cell_type": "code",
   "execution_count": 9,
   "metadata": {},
   "outputs": [
    {
     "data": {
      "text/plain": [
       "4264704"
      ]
     },
     "execution_count": 9,
     "metadata": {},
     "output_type": "execute_result"
    }
   ],
   "source": [
    "karatsuba(1234, 3456)"
   ]
  },
  {
   "cell_type": "markdown",
   "metadata": {},
   "source": [
    "### Runtime Analysis"
   ]
  },
  {
   "cell_type": "markdown",
   "metadata": {},
   "source": [
    "- An algorithm is measured by:\n",
    "  - Size of input data (`n`)\n",
    "  - *Time Complexity*: Time used by the algorithm (`t`)\n",
    "  - *Space Complexity*: Memory space used by the algorithm (`m`)\n",
    "- Time required is measured by the key operations to be performed by the algorithm (steps)\n",
    "  - Proportionate the input isize (`n`)\n",
    "  - To compute time complexity, input size is important\n",
    "  - Also depends on the key operations to be executed\n",
    "    - The key operation for a sorting algorithm is comparison operator\n",
    "- Space required is measured by the storage needed to store the variables, constants, and instructions during the execution of the program\n",
    "  - Can change dynamically during the execution\n"
   ]
  },
  {
   "cell_type": "markdown",
   "metadata": {},
   "source": [
    "- We cannot simply take the total runtime of the algorithm\n",
    "  - The performance of the algorithm is also dependant on the running hardware\n",
    "  - A platform-independent way to gauge an algorithm's runtime is to count the number of operations involved\n",
    "  - However, there is no definitive way to quantify an operation\n",
    "  - Dependent on the programming language, the coding style, and how we decide to count operations\n",
    "  - Take into account that there is a math relationship between `n` and `t`"
   ]
  },
  {
   "cell_type": "markdown",
   "metadata": {},
   "source": [
    "- 3 things that characterize the runtime performance:\n",
    "  - *Worst-case complexity*: Upper-bound complexity. Maximum running time.\n",
    "  - *Best-case complexity*: Lower-bound complexity. Minimum running time.\n",
    "  - *Average-case complexity*: Average running time.\n",
    "- *Worst-case*: Guarantee to not exceed this\n",
    "- Also, we only focus on the highest-order terms\n",
    "  - At high values of `n`, the operations that increase the fastest as we increase `n` will dominate"
   ]
  },
  {
   "cell_type": "markdown",
   "metadata": {},
   "source": [
    "#### Example of Analysis: `mergesort`"
   ]
  },
  {
   "cell_type": "markdown",
   "metadata": {},
   "source": [
    "- A recursive divide-and-conquer algorithm\n",
    "- Developed over 60 years ago\n",
    "- Widely used in most popular sorting libraries\n",
    "- Simple and efficient\n",
    "- 3 steps:\n",
    "  - Recursively sort the left side\n",
    "  - Recursively sort the right side\n",
    "  - Merge 2 sorted sub-arrays into one"
   ]
  },
  {
   "cell_type": "code",
   "execution_count": 10,
   "metadata": {},
   "outputs": [],
   "source": [
    "def merge_sort(arr): \n",
    "    # Base case: if the input array is one or zero just return\n",
    "    if len(arr) > 1: \n",
    "        # split input array\n",
    "        print('splitting', arr)\n",
    "        \n",
    "        mid = len(arr) // 2   \n",
    "        left = arr[:mid] \n",
    "        right = arr[mid:]\n",
    "        \n",
    "        # recursive calls to mergeSort for left and right subarrays \n",
    "        merge_sort(left)   \n",
    "        merge_sort(right)\n",
    "\n",
    "        # initalizes pointers for left(i) right(j) and output array (k)\n",
    "        # 3 initalization operations \n",
    "        i = j = k = 0 \n",
    "\n",
    "        # Traverse and merges the sorted arrays \n",
    "        while i < len(left) and j < len(right):   \n",
    "            if left[i] < right[j]: # if left < right comparison operation\n",
    "                # if left < right Assignment operation  \n",
    "                arr[k] = left[i]  \n",
    "                i += 1 \n",
    "            else: # if right <= left assignment\n",
    "                arr[k] = right[j] \n",
    "                j += 1   \n",
    "            k += 1   \n",
    "\n",
    "        # Checking if any element was left\n",
    "        while i < len(left):   \n",
    "            # Assignment operation \n",
    "            arr[k] = left[i] \n",
    "            i += 1   \n",
    "            k += 1   \n",
    "\n",
    "        while j < len(right):   \n",
    "            # Assignment operation    \n",
    "            arr[k] = right[j] \n",
    "            j += 1 \n",
    "            k += 1\n",
    "    \n",
    "    print('merging', arr) \n",
    "    return(arr)"
   ]
  },
  {
   "cell_type": "code",
   "execution_count": 11,
   "metadata": {},
   "outputs": [
    {
     "name": "stdout",
     "output_type": "stream",
     "text": [
      "splitting [56, 43, 78, 125, 9]\n",
      "splitting [56, 43]\n",
      "merging [56]\n",
      "merging [43]\n",
      "merging [43, 56]\n",
      "splitting [78, 125, 9]\n",
      "merging [78]\n",
      "splitting [125, 9]\n",
      "merging [125]\n",
      "merging [9]\n",
      "merging [9, 125]\n",
      "merging [9, 78, 125]\n",
      "merging [9, 43, 56, 78, 125]\n"
     ]
    },
    {
     "data": {
      "text/plain": [
       "[9, 43, 56, 78, 125]"
      ]
     },
     "execution_count": 11,
     "metadata": {},
     "output_type": "execute_result"
    }
   ],
   "source": [
    "merge_sort([56, 43, 78, 125, 9])"
   ]
  },
  {
   "cell_type": "markdown",
   "metadata": {},
   "source": [
    "- `n`: The length of the original array\n",
    "- Each invocation of `merge_sort()` creates 2 recursive calls\n",
    "- We can calculate the amount of work and operations at each level of the tree\n",
    "- Number of recursive level = number of times to divide `n` by 2 until reaching at most one: `log2`\n",
    "- The total number of level is `log2(n) + 1`"
   ]
  },
  {
   "cell_type": "code",
   "execution_count": 12,
   "metadata": {},
   "outputs": [
    {
     "data": {
      "image/png": "[encoded data removed]",
      "text/plain": [
       "<Figure size 432x288 with 1 Axes>"
      ]
     },
     "metadata": {
      "needs_background": "light"
     },
     "output_type": "display_data"
    }
   ],
   "source": [
    "from matplotlib import pyplot as plt\n",
    "import math\n",
    "\n",
    "x = list(range(1, 100))   \n",
    "ls = []\n",
    "ls2 = []\n",
    "a = 1   \n",
    "plt.plot(x, [y*y for y in x])  \n",
    "plt.plot(x, [(7*y)*math.log(y,2) for y in x]) \n",
    "plt.plot(x, [(5*y)*math.log(y,2) for y in x])\n",
    "plt.show()"
   ]
  },
  {
   "cell_type": "markdown",
   "metadata": {},
   "source": [
    "#### Asymptotic Analysis"
   ]
  },
  {
   "cell_type": "code",
   "execution_count": null,
   "metadata": {},
   "outputs": [],
   "source": []
  }
 ],
 "metadata": {
  "kernelspec": {
   "display_name": "Python 3",
   "language": "python",
   "name": "python3"
  },
  "language_info": {
   "codemirror_mode": {
    "name": "ipython",
    "version": 3
   },
   "file_extension": ".py",
   "mimetype": "text/x-python",
   "name": "python",
   "nbconvert_exporter": "python",
   "pygments_lexer": "ipython3",
   "version": "3.7.6"
  },
  "toc": {
   "base_numbering": 1,
   "nav_menu": {},
   "number_sections": true,
   "sideBar": true,
   "skip_h1_title": true,
   "title_cell": "Table of Contents",
   "title_sidebar": "Contents",
   "toc_cell": true,
   "toc_position": {},
   "toc_section_display": true,
   "toc_window_display": true
  }
 },
 "nbformat": 4,
 "nbformat_minor": 4
}
