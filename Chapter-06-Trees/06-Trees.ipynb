{
 "cells": [
  {
   "cell_type": "markdown",
   "metadata": {},
   "source": [
    "# Trees"
   ]
  },
  {
   "cell_type": "markdown",
   "metadata": {
    "toc": true
   },
   "source": [
    "<h1>Table of Contents<span class=\"tocSkip\"></span></h1>\n",
    "<div class=\"toc\"><ul class=\"toc-item\"><li><span><a href=\"#Chapter-Goals\" data-toc-modified-id=\"Chapter-Goals-1\"><span class=\"toc-item-num\">1&nbsp;&nbsp;</span>Chapter Goals</a></span></li><li><span><a href=\"#Terminology\" data-toc-modified-id=\"Terminology-2\"><span class=\"toc-item-num\">2&nbsp;&nbsp;</span>Terminology</a></span></li><li><span><a href=\"#Tree-Nodes\" data-toc-modified-id=\"Tree-Nodes-3\"><span class=\"toc-item-num\">3&nbsp;&nbsp;</span>Tree Nodes</a></span></li><li><span><a href=\"#Trees-and-Binary-Trees\" data-toc-modified-id=\"Trees-and-Binary-Trees-4\"><span class=\"toc-item-num\">4&nbsp;&nbsp;</span>Trees and Binary Trees</a></span><ul class=\"toc-item\"><li><span><a href=\"#Tree-Traversal\" data-toc-modified-id=\"Tree-Traversal-4.1\"><span class=\"toc-item-num\">4.1&nbsp;&nbsp;</span>Tree Traversal</a></span></li></ul></li></ul></div>"
   ]
  },
  {
   "cell_type": "markdown",
   "metadata": {},
   "source": [
    "- Hierarchical form of data structure\n",
    "- Parent-child relationships between the elements instead of *Sequential*\n",
    "- *Root Node*: The top of the tree, the ancestor of all nodes\n",
    "- There are many applications for Tree Data Structures:\n",
    "  - Parsing expressions\n",
    "  - Searches\n",
    "  - Storing data\n",
    "  - Manipulating data\n",
    "  - Sorting\n",
    "  - Priority queues\n",
    "  - Document format: HTML, XML"
   ]
  },
  {
   "cell_type": "markdown",
   "metadata": {},
   "source": [
    "## Chapter Goals"
   ]
  },
  {
   "cell_type": "markdown",
   "metadata": {},
   "source": [
    "- Terms and definitions\n",
    "- Binary Trees\n",
    "- Binary Search Trees\n",
    "- Tree Traversal\n",
    "- Ternary Search Tree"
   ]
  },
  {
   "cell_type": "markdown",
   "metadata": {},
   "source": [
    "## Terminology"
   ]
  },
  {
   "cell_type": "markdown",
   "metadata": {},
   "source": [
    "Term|Definition\n",
    ":-|:-\n",
    "**Tree**|Data structure in which data is organized in hierarchical form\n",
    "**Node**|Any data structure that actually stores data\n",
    "**Root Node**|One unique first node from which all other nodes in the tree are attached\n",
    "**Subtree**|A tree with its nodes being a descendant of some other tree\n",
    "**Degree**|The total number of direct children of the given node\n",
    "**Leaf Node**|A terminal node for a given tree, no children, with degree always 0\n",
    "**Edge**|Connection among any given 2 nodes. Count = n - 1\n",
    "**Parent**|A node in the tree which has a further sub-tree is the parent node of the sub-tree\n",
    "**Child**|A node connected to its parent, and it is the node that is a descendant of that node\n",
    "**Siblings**|All nodes with the same parent\n",
    "**Level**|Each generation away from the root is one level. The root is at level 0\n",
    "**Height of the tree**|The total number of nodes in the longest path of the tree\n",
    "**Depth of a Node**|The number of edges from the root of the tree to that node\n",
    "\n",
    "<img src=\"../files/chap_06/tree-structure.png\" width=60%>"
   ]
  },
  {
   "cell_type": "markdown",
   "metadata": {},
   "source": [
    "## Tree Nodes"
   ]
  },
  {
   "cell_type": "markdown",
   "metadata": {},
   "source": [
    "- **Linear Data Structure** \n",
    "  - Data items are stored sequentially\n",
    "  - All data items can be traversed in one pass\n",
    "  - Example: *Linked-Lists*\n",
    "- **Non-Linear Data Structure** \n",
    "  - Data items are not stored sequentially\n",
    "  - One-pass traversing might not cover all data items\n",
    "  - Example: *Trees*"
   ]
  },
  {
   "cell_type": "code",
   "execution_count": 1,
   "metadata": {},
   "outputs": [],
   "source": [
    "class TreeNode:\n",
    "    \"\"\"Implementation of a Tree Node\"\"\"\n",
    "    \n",
    "    def __init__(self, data):\n",
    "        \"\"\"Initialize a TreeNode object\"\"\"\n",
    "        self.data = data\n",
    "        self.left_child = None\n",
    "        self.right_child = None"
   ]
  },
  {
   "cell_type": "markdown",
   "metadata": {},
   "source": [
    "## Trees and Binary Trees"
   ]
  },
  {
   "cell_type": "markdown",
   "metadata": {},
   "source": [
    "- *Tree*\n",
    "  - Nodes are arranged in Parent-Child relationship\n",
    "  - There should not be any cycle among the nodes\n",
    "  - *Empty Tree* - A tree with no nodes\n",
    "- *Binary Tree*\n",
    "  - The nodes can have 0, 1, or 2 child nodes\n",
    "  - Maximum of 2 children\n",
    "- *Full Binary Tree*\n",
    "  - All the nodes of the tree have either 0 or 2 children\n",
    "  - There is no node that has 1 child\n",
    "- *Complete Binary Tree*\n",
    "  - All the positions are completely filled\n",
    "  - Except (possibly) the lower level\n",
    "  - The bottom level is filled from left to right"
   ]
  },
  {
   "cell_type": "markdown",
   "metadata": {},
   "source": [
    "To create a simple binary tree:\n",
    "- Create the nodes\n",
    "- Connect the nodes to each other according to the property of a binary tree"
   ]
  },
  {
   "cell_type": "code",
   "execution_count": 2,
   "metadata": {},
   "outputs": [],
   "source": [
    "# First, create the nodes for the tree\n",
    "n1 = TreeNode(\"root node\")\n",
    "n2 = TreeNode(\"left child node\")\n",
    "n3 = TreeNode(\"right child node\")\n",
    "n4 = TreeNode(\"left grandchild node\")\n",
    "# Creating a simple binary tree structure\n",
    "n1.left_child = n2\n",
    "n1.right_child = n3\n",
    "n2.left_child = n4"
   ]
  },
  {
   "cell_type": "markdown",
   "metadata": {},
   "source": [
    "### Tree Traversal"
   ]
  },
  {
   "cell_type": "markdown",
   "metadata": {},
   "source": [
    "- To understand tree traversal, we will traverse the left subtree"
   ]
  },
  {
   "cell_type": "code",
   "execution_count": null,
   "metadata": {},
   "outputs": [],
   "source": []
  }
 ],
 "metadata": {
  "kernelspec": {
   "display_name": "Python 3 (ipykernel)",
   "language": "python",
   "name": "python3"
  },
  "language_info": {
   "codemirror_mode": {
    "name": "ipython",
    "version": 3
   },
   "file_extension": ".py",
   "mimetype": "text/x-python",
   "name": "python",
   "nbconvert_exporter": "python",
   "pygments_lexer": "ipython3",
   "version": "3.10.4"
  },
  "toc": {
   "base_numbering": 1,
   "nav_menu": {},
   "number_sections": true,
   "sideBar": true,
   "skip_h1_title": true,
   "title_cell": "Table of Contents",
   "title_sidebar": "Contents",
   "toc_cell": true,
   "toc_position": {},
   "toc_section_display": true,
   "toc_window_display": true
  }
 },
 "nbformat": 4,
 "nbformat_minor": 4
}
