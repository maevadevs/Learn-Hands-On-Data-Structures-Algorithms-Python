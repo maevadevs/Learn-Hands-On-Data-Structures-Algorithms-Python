{
 "cells": [
  {
   "cell_type": "markdown",
   "metadata": {},
   "source": [
    "# Trees"
   ]
  },
  {
   "cell_type": "markdown",
   "metadata": {
    "toc": true
   },
   "source": [
    "<h1>Table of Contents<span class=\"tocSkip\"></span></h1>\n",
    "<div class=\"toc\"><ul class=\"toc-item\"><li><span><a href=\"#Chapter-Goals\" data-toc-modified-id=\"Chapter-Goals-1\"><span class=\"toc-item-num\">1&nbsp;&nbsp;</span>Chapter Goals</a></span></li><li><span><a href=\"#Terminology\" data-toc-modified-id=\"Terminology-2\"><span class=\"toc-item-num\">2&nbsp;&nbsp;</span>Terminology</a></span></li><li><span><a href=\"#Tree-Nodes\" data-toc-modified-id=\"Tree-Nodes-3\"><span class=\"toc-item-num\">3&nbsp;&nbsp;</span>Tree Nodes</a></span></li><li><span><a href=\"#Trees-and-Binary-Trees\" data-toc-modified-id=\"Trees-and-Binary-Trees-4\"><span class=\"toc-item-num\">4&nbsp;&nbsp;</span>Trees and Binary Trees</a></span></li><li><span><a href=\"#Tree-Traversal\" data-toc-modified-id=\"Tree-Traversal-5\"><span class=\"toc-item-num\">5&nbsp;&nbsp;</span>Tree Traversal</a></span><ul class=\"toc-item\"><li><span><a href=\"#Depth-First-Traversal\" data-toc-modified-id=\"Depth-First-Traversal-5.1\"><span class=\"toc-item-num\">5.1&nbsp;&nbsp;</span>Depth-First Traversal</a></span></li><li><span><a href=\"#DFS-In-Order-Traversal-&amp;-Infix-Notation\" data-toc-modified-id=\"DFS-In-Order-Traversal-&amp;-Infix-Notation-5.2\"><span class=\"toc-item-num\">5.2&nbsp;&nbsp;</span>DFS In-Order Traversal &amp; Infix Notation</a></span><ul class=\"toc-item\"><li><span><a href=\"#Example-of-DFS-In-Order-Traversal\" data-toc-modified-id=\"Example-of-DFS-In-Order-Traversal-5.2.1\"><span class=\"toc-item-num\">5.2.1&nbsp;&nbsp;</span>Example of DFS In-Order Traversal</a></span></li><li><span><a href=\"#Infix-Notation\" data-toc-modified-id=\"Infix-Notation-5.2.2\"><span class=\"toc-item-num\">5.2.2&nbsp;&nbsp;</span>Infix Notation</a></span></li></ul></li><li><span><a href=\"#DFS-Pre-Order-Traversal-&amp;-Prefix-Notation\" data-toc-modified-id=\"DFS-Pre-Order-Traversal-&amp;-Prefix-Notation-5.3\"><span class=\"toc-item-num\">5.3&nbsp;&nbsp;</span>DFS Pre-Order Traversal &amp; Prefix Notation</a></span><ul class=\"toc-item\"><li><span><a href=\"#Example-of-DFS-Pre-Order-Traversal\" data-toc-modified-id=\"Example-of-DFS-Pre-Order-Traversal-5.3.1\"><span class=\"toc-item-num\">5.3.1&nbsp;&nbsp;</span>Example of DFS Pre-Order Traversal</a></span></li><li><span><a href=\"#Prefix-Notation\" data-toc-modified-id=\"Prefix-Notation-5.3.2\"><span class=\"toc-item-num\">5.3.2&nbsp;&nbsp;</span>Prefix Notation</a></span></li></ul></li><li><span><a href=\"#DFS-Post-Order-Traversal-&amp;-Postfix-Notation\" data-toc-modified-id=\"DFS-Post-Order-Traversal-&amp;-Postfix-Notation-5.4\"><span class=\"toc-item-num\">5.4&nbsp;&nbsp;</span>DFS Post-Order Traversal &amp; Postfix Notation</a></span><ul class=\"toc-item\"><li><span><a href=\"#Example-of-DFS-Post-Order-Traversal\" data-toc-modified-id=\"Example-of-DFS-Post-Order-Traversal-5.4.1\"><span class=\"toc-item-num\">5.4.1&nbsp;&nbsp;</span>Example of DFS Post-Order Traversal</a></span></li><li><span><a href=\"#Postfix-Notation\" data-toc-modified-id=\"Postfix-Notation-5.4.2\"><span class=\"toc-item-num\">5.4.2&nbsp;&nbsp;</span>Postfix Notation</a></span></li></ul></li><li><span><a href=\"#Breadth-First-Traversal\" data-toc-modified-id=\"Breadth-First-Traversal-5.5\"><span class=\"toc-item-num\">5.5&nbsp;&nbsp;</span>Breadth-First Traversal</a></span></li></ul></li><li><span><a href=\"#Binary-Tree\" data-toc-modified-id=\"Binary-Tree-6\"><span class=\"toc-item-num\">6&nbsp;&nbsp;</span>Binary Tree</a></span></li></ul></div>"
   ]
  },
  {
   "cell_type": "markdown",
   "metadata": {},
   "source": [
    "- Hierarchical form of data structure\n",
    "- Parent-child relationships between the elements instead of *Sequential*\n",
    "- *Root Node*: The top of the tree, the ancestor of all nodes\n",
    "- There are many applications for Tree Data Structures:\n",
    "  - Parsing expressions\n",
    "  - Searches\n",
    "  - Storing data\n",
    "  - Manipulating data\n",
    "  - Sorting\n",
    "  - Priority queues\n",
    "  - Document format: HTML, XML"
   ]
  },
  {
   "cell_type": "markdown",
   "metadata": {},
   "source": [
    "## Chapter Goals"
   ]
  },
  {
   "cell_type": "markdown",
   "metadata": {},
   "source": [
    "- Terms and definitions\n",
    "- Binary Trees\n",
    "- Binary Search Trees\n",
    "- Tree Traversal\n",
    "- Ternary Search Tree"
   ]
  },
  {
   "cell_type": "markdown",
   "metadata": {},
   "source": [
    "## Terminology"
   ]
  },
  {
   "cell_type": "markdown",
   "metadata": {},
   "source": [
    "Term|Definition\n",
    ":-|:-\n",
    "**Tree**|Data structure in which data is organized in hierarchical form\n",
    "**Node**|Any data structure that actually stores data\n",
    "**Root Node**|One unique first node from which all other nodes in the tree are attached\n",
    "**Subtree**|A tree with its nodes being a descendant of some other tree\n",
    "**Degree**|The total number of direct children of the given node\n",
    "**Leaf Node**|A terminal node for a given tree, no children, with degree always 0\n",
    "**Edge**|Connection among any given 2 nodes. Count = n - 1\n",
    "**Parent**|A node in the tree which has a further sub-tree is the parent node of the sub-tree\n",
    "**Child**|A node connected to its parent, and it is the node that is a descendant of that node\n",
    "**Siblings**|All nodes with the same parent\n",
    "**Level**|Each generation away from the root is one level. The root is at level 0\n",
    "**Height of the tree**|The total number of nodes in the longest path of the tree\n",
    "**Depth of a Node**|The number of edges from the root of the tree to that node\n",
    "\n",
    "<img src=\"../files/chap_06/tree-structure.png\" width=60%>"
   ]
  },
  {
   "cell_type": "markdown",
   "metadata": {},
   "source": [
    "## Tree Nodes"
   ]
  },
  {
   "cell_type": "markdown",
   "metadata": {},
   "source": [
    "- **Linear Data Structure** \n",
    "  - Data items are stored sequentially\n",
    "  - All data items can be traversed in one pass\n",
    "  - Example: *Linked-Lists*\n",
    "- **Non-Linear Data Structure** \n",
    "  - Data items are not stored sequentially\n",
    "  - One-pass traversing might not cover all data items\n",
    "  - Example: *Trees*"
   ]
  },
  {
   "cell_type": "code",
   "execution_count": 1,
   "metadata": {},
   "outputs": [],
   "source": [
    "class TreeNode:\n",
    "    \"\"\"Implementation of a Tree Node\"\"\"\n",
    "    \n",
    "    def __init__(self, data=None):\n",
    "        \"\"\"Initialize a TreeNode object\"\"\"\n",
    "        self.data = data\n",
    "        self.left_child = None\n",
    "        self.right_child = None\n",
    "        \n",
    "    def __str__(self):\n",
    "        \"\"\"Return the string representation of a Node\"\"\"\n",
    "        return f\"Node({str(self.data)})\"\n",
    "    \n",
    "    def __repr__(self):\n",
    "        \"\"\"Return the string representation of a Node\"\"\"\n",
    "        return f\"Node({str(self.data)})\""
   ]
  },
  {
   "cell_type": "markdown",
   "metadata": {},
   "source": [
    "## Trees and Binary Trees"
   ]
  },
  {
   "cell_type": "markdown",
   "metadata": {},
   "source": [
    "- *Tree*\n",
    "  - Nodes are arranged in Parent-Child relationship\n",
    "  - There should not be any cycle among the nodes\n",
    "  - *Empty Tree* - A tree with no nodes\n",
    "- *Binary Tree*\n",
    "  - The nodes can have 0, 1, or 2 child nodes\n",
    "  - Maximum of 2 children\n",
    "- *Full Binary Tree*\n",
    "  - All the nodes of the tree have either 0 or 2 children\n",
    "  - There is no node that has 1 child\n",
    "- *Complete Binary Tree*\n",
    "  - All the positions are completely filled\n",
    "  - Except (possibly) the lower level\n",
    "  - The bottom level is filled from left to right\n",
    "  - All the leaf elements must lean towards the left"
   ]
  },
  {
   "cell_type": "markdown",
   "metadata": {},
   "source": [
    "<img src='../files/chap_06/simple-binary-tree.png' width=40%>"
   ]
  },
  {
   "cell_type": "markdown",
   "metadata": {},
   "source": [
    "To create a simple binary tree:\n",
    "- Create the nodes\n",
    "- Connect the nodes to each other according to the property of a binary tree"
   ]
  },
  {
   "cell_type": "code",
   "execution_count": 2,
   "metadata": {},
   "outputs": [],
   "source": [
    "# First, create the nodes for the tree\n",
    "n1 = TreeNode(\"root node\")\n",
    "n2 = TreeNode(\"left child node\")\n",
    "n3 = TreeNode(\"right child node\")\n",
    "n4 = TreeNode(\"left grandchild node\")\n",
    "# Creating a simple binary tree structure\n",
    "n1.left_child = n2\n",
    "n1.right_child = n3\n",
    "n2.left_child = n4"
   ]
  },
  {
   "cell_type": "markdown",
   "metadata": {},
   "source": [
    "We can connect the nodes following the rule of binary tree:\n",
    "\n",
    "- Top to bottom\n",
    "- Left to right\n",
    "- Each node has at most 2 children"
   ]
  },
  {
   "cell_type": "markdown",
   "metadata": {},
   "source": [
    "<img src='../files/chap_06/binary-tree-connections.png' width=40%>"
   ]
  },
  {
   "cell_type": "markdown",
   "metadata": {},
   "source": [
    "## Tree Traversal"
   ]
  },
  {
   "cell_type": "markdown",
   "metadata": {},
   "source": [
    "- To understand tree traversal, we will traverse the left subtree, starting from the root-node"
   ]
  },
  {
   "cell_type": "code",
   "execution_count": 3,
   "metadata": {},
   "outputs": [
    {
     "name": "stdout",
     "output_type": "stream",
     "text": [
      "root node\n",
      "left child node\n",
      "left grandchild node\n"
     ]
    }
   ],
   "source": [
    "current = n1 \n",
    "while current: \n",
    "    print(current.data) \n",
    "    current = current.left_child"
   ]
  },
  {
   "cell_type": "markdown",
   "metadata": {},
   "source": [
    "- Tree Traversal can be done in 2 ways:\n",
    "  - **Depth-First-Search (DFS)** \n",
    "    - Prioritize top-to-bottom movements\n",
    "    - Move to the right when hitting wall\n",
    "  - **Breadth-First-Search (BFS)**\n",
    "    - Prioritize left-to-right movements\n",
    "    - Move to next level when hitting wall\n",
    "- We will start from the Root Node\n",
    "  - Then move to the next level, from left to right\n",
    "  - Then move to the next level and so on"
   ]
  },
  {
   "cell_type": "markdown",
   "metadata": {},
   "source": [
    "### Depth-First Traversal"
   ]
  },
  {
   "cell_type": "markdown",
   "metadata": {},
   "source": [
    "- Starting from the Root\n",
    "- Go deeper into the tree as much as possible on each child: Prioritize Depth\n",
    "- When hitting the bottom, continue on the next sibling\n",
    "- We use *Recursive Approach* for this traversal\n",
    "- There are 3 forms of *Depth-First Traversal*:\n",
    "  - **DFS In-Order**\n",
    "  - **DFS Pre-Order**\n",
    "  - **DFS Post-Order**"
   ]
  },
  {
   "cell_type": "markdown",
   "metadata": {},
   "source": [
    "### DFS In-Order Traversal & Infix Notation"
   ]
  },
  {
   "cell_type": "markdown",
   "metadata": {},
   "source": [
    "We visit the nodes in the tree in the order of:\n",
    "\n",
    "- Left-Subtree\n",
    "- Root\n",
    "- Right-Subtree\n",
    "\n",
    "Steps: \n",
    "\n",
    "1. Check if the current node is null or empty\n",
    "  - If not empty, continue traversing\n",
    "  - Else, early exit\n",
    "2. Traverse the left subtree: Call the `inorder` function recursively\n",
    "3. Visit back the root Node\n",
    "4. Traverse the right subtree: Call the `inorder` function recursively"
   ]
  },
  {
   "cell_type": "markdown",
   "metadata": {},
   "source": [
    "#### Example of DFS In-Order Traversal"
   ]
  },
  {
   "cell_type": "markdown",
   "metadata": {},
   "source": [
    "<img src='../files/chap_06/example-of-tree-to-traverse.png' width=40%>"
   ]
  },
  {
   "cell_type": "markdown",
   "metadata": {},
   "source": [
    "- We start at the root node `A`\n",
    "- We recursively visit the left sub-tree:\n",
    "  - `B` is the root node of the left sub-tree\n",
    "  - We recursively visit the left sub-tree:\n",
    "    - `D` is the root node of the left sub-tree\n",
    "    - We recursively visit the left sub-tree:\n",
    "      - `G` is the final left child of this sub-tree: **RETURN `G`**\n",
    "    - We visit back the root node `D`: **RETURN `D`**\n",
    "      - We recursively visit the right sub-tree\n",
    "      - `H` is the final right child of this sub-tree: **RETURN `H`**\n",
    "  - We visit back the root node `B`: **RETURN `B`**\n",
    "    - We recursively visit the right sub-tree\n",
    "    - `E` is the right child of this sub-tree: **RETURN `E`**\n",
    "- We visit back the root node `A`: **RETURN `A`**\n",
    "- We recursively visit the right sub-tree:\n",
    "  - `C` is the root node of the left sub-tree\n",
    "   - We recursively visit the left sub-tree:\n",
    "     - `NULL` is the left child of this sub-tree: **SKIP**\n",
    "   - We visit back the root node `C`: **RETURN `C`**\n",
    "     - We recursively visit the right sub-tree\n",
    "     - `F` is the right child of this sub-tree: **RETURN `F`**\n",
    "     \n",
    "Final Order of Traversal: G-D-H-B-E-A-C-F"
   ]
  },
  {
   "cell_type": "code",
   "execution_count": 4,
   "metadata": {},
   "outputs": [],
   "source": [
    "class TreeNode:\n",
    "    \"\"\"Implementation of a Tree Node\"\"\"\n",
    "    \n",
    "    def __init__(self, data=None):\n",
    "        \"\"\"Initialize a TreeNode object\"\"\"\n",
    "        self.data = data\n",
    "        self.left_child = None\n",
    "        self.right_child = None\n",
    "        \n",
    "    def __str__(self):\n",
    "        \"\"\"Return the string representation of a Node\"\"\"\n",
    "        return f\"Node({str(self.data)})\"\n",
    "    \n",
    "    def __repr__(self):\n",
    "        \"\"\"Return the string representation of a Node\"\"\"\n",
    "        return f\"Node({str(self.data)})\"\n",
    "\n",
    "    def inorder(self, root_node):\n",
    "        \"\"\"This function allows to traverse a tree using DFS approach using in-order\"\"\"\n",
    "        # Start from the root node\n",
    "        current = root_node \n",
    "        # Base Condition for Recursion: Node is empty -> Return Nothing\n",
    "        if current is None: \n",
    "            return \n",
    "        # Recursion toward the left\n",
    "        self.inorder(current.left_child) \n",
    "        # Print the current data\n",
    "        print(current.data) \n",
    "        # Recursion toward the right\n",
    "        self.inorder(current.right_child)"
   ]
  },
  {
   "cell_type": "code",
   "execution_count": 5,
   "metadata": {},
   "outputs": [
    {
     "name": "stdout",
     "output_type": "stream",
     "text": [
      "left grandchild node\n",
      "left child node\n",
      "root node\n",
      "right child node\n"
     ]
    }
   ],
   "source": [
    "# Initializing TreeNodes\n",
    "n1 = TreeNode(\"root node\")\n",
    "n2 = TreeNode(\"left child node\")\n",
    "n3 = TreeNode(\"right child node\")\n",
    "n4 = TreeNode(\"left grandchild node\")\n",
    "# Populating a Binary Tree\n",
    "n1.left_child = n2\n",
    "n1.right_child = n3\n",
    "n2.left_child = n4\n",
    "# Testing DFS In-Order Traversing\n",
    "n1.inorder(n1)"
   ]
  },
  {
   "cell_type": "markdown",
   "metadata": {},
   "source": [
    "#### Infix Notation"
   ]
  },
  {
   "cell_type": "markdown",
   "metadata": {},
   "source": [
    "- Also known as *Reverse Polish* notation\n",
    "- Commonly used notation to express arithmetic expressions where the operators are placed in-between the operands\n",
    "- This is the common way we are used to represent arithmetic operations from school\n",
    "- When necessary, parenthesis can be used to represent more complex operations\n",
    "- **Expression Tree**\n",
    "  - A special kind of Binary Tree\n",
    "  - Can be used to represent arithmetic expressions\n",
    "  - The inorder traversal of an *Expression Tree* produce the *Infix Notation*\n",
    "- Example: Infix Notation of `5 + 3`"
   ]
  },
  {
   "cell_type": "markdown",
   "metadata": {},
   "source": [
    "<img src='../files/chap_06/expression-tree-example.png' width=40%>"
   ]
  },
  {
   "cell_type": "markdown",
   "metadata": {},
   "source": [
    "### DFS Pre-Order Traversal & Prefix Notation"
   ]
  },
  {
   "cell_type": "markdown",
   "metadata": {},
   "source": [
    "We visit the nodes in the tree in the order of:\n",
    "\n",
    "- Root\n",
    "- Left-Subtree\n",
    "- Right-Subtree\n",
    "\n",
    "Steps: \n",
    "\n",
    "1. Check if the current node is null or empty\n",
    "  - If not empty, continue traversing\n",
    "  - Else, early exit\n",
    "2. Traverse with the root Node\n",
    "3. Traverse the left subtree: Call the `preorder` function recursively\n",
    "4. Traverse the right subtree: Call the `preorder` function recursively"
   ]
  },
  {
   "cell_type": "markdown",
   "metadata": {},
   "source": [
    "#### Example of DFS Pre-Order Traversal"
   ]
  },
  {
   "cell_type": "markdown",
   "metadata": {},
   "source": [
    "<img src='../files/chap_06/example-of-tree-to-traverse.png' width=40%>"
   ]
  },
  {
   "cell_type": "markdown",
   "metadata": {},
   "source": [
    "- We start at the root node `A`: **RETURN `A`**\n",
    "- We recursively visit the left sub-tree:\n",
    "  - `B` is the root node of the left sub-tree: **RETURN `B`**\n",
    "  - We recursively visit the left sub-tree:\n",
    "    - `D` is the root node of the left sub-tree: **RETURN `D`**\n",
    "    - We recursively visit the left sub-tree:\n",
    "      - `G` is the final left child of this sub-tree: **RETURN `G`**\n",
    "    - We visit back the root node `D`\n",
    "      - We recursively visit the right sub-tree\n",
    "      - `H` is the final right child of this sub-tree: **RETURN `H`**\n",
    "  - We visit back the root node `B`\n",
    "    - We recursively visit the right sub-tree\n",
    "    - `E` is the right child of this sub-tree: **RETURN `E`**\n",
    "- We visit back the root node `A`\n",
    "- We recursively visit the right sub-tree:\n",
    "  - `C` is the root node of the left sub-tree: **RETURN `C`**\n",
    "   - We recursively visit the left sub-tree:\n",
    "     - `NULL` is the left child of this sub-tree: **SKIP**\n",
    "   - We visit back the root node `C`\n",
    "     - We recursively visit the right sub-tree\n",
    "     - `F` is the right child of this sub-tree: **RETURN `F`**\n",
    "     \n",
    "Final Order of Traversal: A-B-D-G-H-E-C-F"
   ]
  },
  {
   "cell_type": "code",
   "execution_count": 6,
   "metadata": {},
   "outputs": [],
   "source": [
    "class TreeNode:\n",
    "    \"\"\"Implementation of a Tree Node\"\"\"\n",
    "    \n",
    "    def __init__(self, data=None):\n",
    "        \"\"\"Initialize a TreeNode object\"\"\"\n",
    "        self.data = data\n",
    "        self.left_child = None\n",
    "        self.right_child = None\n",
    "        \n",
    "    def __str__(self):\n",
    "        \"\"\"Return the string representation of a Node\"\"\"\n",
    "        return f\"Node({str(self.data)})\"\n",
    "    \n",
    "    def __repr__(self):\n",
    "        \"\"\"Return the string representation of a Node\"\"\"\n",
    "        return f\"Node({str(self.data)})\"\n",
    "\n",
    "    def inorder(self, root_node):\n",
    "        \"\"\"This function allows to traverse a tree using DFS approach using in-order\"\"\"\n",
    "        # Start from the root node\n",
    "        current = root_node \n",
    "        # Base Condition for Recursion: Node is empty -> Return Nothing\n",
    "        if current is None: \n",
    "            return \n",
    "        # Recursion toward the left\n",
    "        self.inorder(current.left_child) \n",
    "        # Print the current data\n",
    "        print(current.data) \n",
    "        # Recursion toward the right\n",
    "        self.inorder(current.right_child)\n",
    "\n",
    "    def preorder(self, root_node): \n",
    "        \"\"\"This function allows to traverse a tree using DFS approach using pre-order\"\"\"\n",
    "        # Start from the root node\n",
    "        current = root_node\n",
    "        # Base Condition for Recursion: Node is empty -> Return Nothing\n",
    "        if current is None: \n",
    "            return \n",
    "        # Print the current data\n",
    "        print(current.data) \n",
    "        # Recursion toward the left\n",
    "        self.preorder(current.left_child) \n",
    "        # Recursion toward the right\n",
    "        self.preorder(current.right_child)"
   ]
  },
  {
   "cell_type": "code",
   "execution_count": 7,
   "metadata": {},
   "outputs": [
    {
     "name": "stdout",
     "output_type": "stream",
     "text": [
      "root node\n",
      "left child node\n",
      "left grandchild node\n",
      "right child node\n"
     ]
    }
   ],
   "source": [
    "# Initializing TreeNodes\n",
    "n1 = TreeNode(\"root node\")\n",
    "n2 = TreeNode(\"left child node\")\n",
    "n3 = TreeNode(\"right child node\")\n",
    "n4 = TreeNode(\"left grandchild node\")\n",
    "# Populating a Binary Tree\n",
    "n1.left_child = n2\n",
    "n1.right_child = n3\n",
    "n2.left_child = n4\n",
    "# Testing DFS Pre-Order Traversing\n",
    "n1.preorder(n1)"
   ]
  },
  {
   "cell_type": "markdown",
   "metadata": {},
   "source": [
    "#### Prefix Notation"
   ]
  },
  {
   "cell_type": "markdown",
   "metadata": {},
   "source": [
    "- Also known as *Polish* notation\n",
    "- The operator comes before the operands\n",
    "- There is no further confusion over the precedence of operators, so parentheses are never needed\n",
    "- Mostly used by LISP programmers\n",
    "- Example: Prefix Notation of `(8+3)-3` is `+ - 8 3 3`"
   ]
  },
  {
   "cell_type": "markdown",
   "metadata": {},
   "source": [
    "<img src='../files/chap_06/expression-tree-example-prefix.png' width=40%>"
   ]
  },
  {
   "cell_type": "markdown",
   "metadata": {},
   "source": [
    "### DFS Post-Order Traversal & Postfix Notation"
   ]
  },
  {
   "cell_type": "markdown",
   "metadata": {},
   "source": [
    "We visit the nodes in the tree in the order of:\n",
    "\n",
    "- Left-Subtree\n",
    "- Right-Subtree\n",
    "- Root\n",
    "\n",
    "Steps: \n",
    "\n",
    "1. Check if the current node is null or empty\n",
    "  - If not empty, continue traversing\n",
    "  - Else, early exit\n",
    "2. Traverse the left subtree: Call the `postorder` function recursively\n",
    "3. Traverse the right subtree: Call the `postorder` function recursively\n",
    "4. Traverse with the root Node"
   ]
  },
  {
   "cell_type": "markdown",
   "metadata": {},
   "source": [
    "#### Example of DFS Post-Order Traversal"
   ]
  },
  {
   "cell_type": "markdown",
   "metadata": {},
   "source": [
    "<img src='../files/chap_06/example-of-tree-to-traverse.png' width=40%>"
   ]
  },
  {
   "cell_type": "markdown",
   "metadata": {},
   "source": [
    "- We start at the root node `A`\n",
    "- We recursively visit the left sub-tree:\n",
    "  - `B` is the root node of the left sub-tree\n",
    "  - We recursively visit the left sub-tree:\n",
    "    - `D` is the root node of the left sub-tree\n",
    "    - We recursively visit the left sub-tree:\n",
    "      - `G` is the final left child of this sub-tree: **RETURN `G`**\n",
    "    - We recursively visit the right sub-tree\n",
    "      - `H` is the final right child of this sub-tree: **RETURN `H`**\n",
    "    - We visit the root node `D`: **RETURN `D`**\n",
    "  - We recursively visit the right sub-tree\n",
    "    - `E` is the right child of this sub-tree: **RETURN `E`**\n",
    "  - We visit back the root node `B`: **RETURN `B`**\n",
    "- We recursively visit the right sub-tree:\n",
    "  - `C` is the root node of the left sub-tree\n",
    "  - We recursively visit the left sub-tree:\n",
    "    - `NULL` is the left child of this sub-tree: **SKIP**\n",
    "  - We recursively visit the right sub-tree\n",
    "    - `F` is the right child of this sub-tree: **RETURN `F`**\n",
    "  - We visit back the root node `C`: **RETURN `C`**\n",
    "- We visit back the root node `A`: **RETURN `A`**\n",
    "\n",
    "Final Order of Traversal: G-H-D-E-B-F-C-A"
   ]
  },
  {
   "cell_type": "code",
   "execution_count": 8,
   "metadata": {},
   "outputs": [],
   "source": [
    "class TreeNode:\n",
    "    \"\"\"Implementation of a Tree Node\"\"\"\n",
    "    \n",
    "    def __init__(self, data=None):\n",
    "        \"\"\"Initialize a TreeNode object\"\"\"\n",
    "        self.data = data\n",
    "        self.left_child = None\n",
    "        self.right_child = None\n",
    "        \n",
    "    def __str__(self):\n",
    "        \"\"\"Return the string representation of a Node\"\"\"\n",
    "        return f\"Node({str(self.data)})\"\n",
    "    \n",
    "    def __repr__(self):\n",
    "        \"\"\"Return the string representation of a Node\"\"\"\n",
    "        return f\"Node({str(self.data)})\"\n",
    "\n",
    "    def inorder(self, root_node):\n",
    "        \"\"\"This function allows to traverse a tree using DFS approach using in-order\"\"\"\n",
    "        # Start from the root node\n",
    "        current = root_node \n",
    "        # Base Condition for Recursion: Node is empty -> Return Nothing\n",
    "        if current is None: \n",
    "            return \n",
    "        # Recursion toward the left\n",
    "        self.inorder(current.left_child) \n",
    "        # Print the current data\n",
    "        print(current.data) \n",
    "        # Recursion toward the right\n",
    "        self.inorder(current.right_child)\n",
    "\n",
    "    def preorder(self, root_node): \n",
    "        \"\"\"This function allows to traverse a tree using DFS approach using pre-order\"\"\"\n",
    "        # Start from the root node\n",
    "        current = root_node\n",
    "        # Base Condition for Recursion: Node is empty -> Return Nothing\n",
    "        if current is None: \n",
    "            return \n",
    "        # Print the current data\n",
    "        print(current.data) \n",
    "        # Recursion toward the left\n",
    "        self.preorder(current.left_child) \n",
    "        # Recursion toward the right\n",
    "        self.preorder(current.right_child)\n",
    "        \n",
    "    def postorder(self, root_node): \n",
    "        \"\"\"This function allows to traverse a tree using DFS approach using post-order\"\"\"\n",
    "        # Start from the root node\n",
    "        current = root_node \n",
    "        # Base Condition for Recursion: Node is empty -> Return Nothing\n",
    "        if current is None: \n",
    "            return \n",
    "        # Recursion toward the left\n",
    "        self.postorder(current.left_child) \n",
    "        # Recursion toward the right\n",
    "        self.postorder(current.right_child) \n",
    "        # Print the current data\n",
    "        print(current.data)"
   ]
  },
  {
   "cell_type": "code",
   "execution_count": 9,
   "metadata": {},
   "outputs": [
    {
     "name": "stdout",
     "output_type": "stream",
     "text": [
      "left grandchild node\n",
      "left child node\n",
      "right child node\n",
      "root node\n"
     ]
    }
   ],
   "source": [
    "# Initializing TreeNodes\n",
    "n1 = TreeNode(\"root node\")\n",
    "n2 = TreeNode(\"left child node\")\n",
    "n3 = TreeNode(\"right child node\")\n",
    "n4 = TreeNode(\"left grandchild node\")\n",
    "# Populating a Binary Tree\n",
    "n1.left_child = n2\n",
    "n1.right_child = n3\n",
    "n2.left_child = n4\n",
    "# Testing DFS Post-Order Traversing\n",
    "n1.postorder(n1)"
   ]
  },
  {
   "cell_type": "markdown",
   "metadata": {},
   "source": [
    "#### Postfix Notation"
   ]
  },
  {
   "cell_type": "markdown",
   "metadata": {},
   "source": [
    "- Also known as *Reverse Polish* notation\n",
    "- Places the operator after the operands\n",
    "- There is no further confusion over the precedence of operators, so parentheses are never needed\n",
    "- Example: Prefix Notation of `(8+3)-3` is `8 3 - 3 +`"
   ]
  },
  {
   "cell_type": "markdown",
   "metadata": {},
   "source": [
    "<img src='../files/chap_06/expression-tree-example-prefix.png' width=40%>"
   ]
  },
  {
   "cell_type": "markdown",
   "metadata": {},
   "source": [
    "### Breadth-First Traversal"
   ]
  },
  {
   "cell_type": "markdown",
   "metadata": {},
   "source": [
    "- Starts from the root of the tree\n",
    "- Visit every nodes on the next level of the tree (horizontal): Prioritize levels\n",
    "- Move to the next level of the tree and repeat\n",
    "- Broadens the tree by traversing all the nodes in a level before going deep into the tree"
   ]
  },
  {
   "cell_type": "markdown",
   "metadata": {},
   "source": [
    "<img src='../files/chap_06/breadth-first-traversal.png' width=50%>"
   ]
  },
  {
   "cell_type": "markdown",
   "metadata": {},
   "source": [
    "- We start at the root node level-0: **RETURN `4`**\n",
    "- We move to level 1:\n",
    "  - We visit node `2`: **RETURN `2`**\n",
    "  - We visit node `8`: **RETURN `8`**\n",
    "- We move to level 2:\n",
    "  - We visit node `1`: **RETURN `1`**\n",
    "  - We visit node `3`: **RETURN `3`**\n",
    "  - We visit node `5`: **RETURN `5`**\n",
    "  - We visit node `10`: **RETURN `10`**\n",
    "\n",
    "Final Order of Traversal: 4-2-8-1-3-5-10\n",
    "\n",
    "- This traversal is implemented using a *Queue* structure\n",
    "  - Push the root into the Queue\n",
    "  - Dequeue and visit\n",
    "  - Push the left node into the Queue\n",
    "  - Push the right node into the Queue\n",
    "  - Dequeue and visit\n",
    "  - Push the left node into the Queue\n",
    "  - Push the right node into the Queue\n",
    "  - Dequeue and visit\n",
    "  - ... Continue until the Queue is empty"
   ]
  },
  {
   "cell_type": "markdown",
   "metadata": {},
   "source": [
    "- In our example here, we will make use of the `deque` Python collection\n",
    "- However, we could also implement our own Queue class if we wanted to"
   ]
  },
  {
   "cell_type": "code",
   "execution_count": 10,
   "metadata": {},
   "outputs": [],
   "source": [
    "from collections import deque \n",
    "\n",
    "class TreeNode:\n",
    "    \"\"\"Implementation of a Tree Node\"\"\"\n",
    "    \n",
    "    def __init__(self, data=None):\n",
    "        \"\"\"Initialize a TreeNode object\"\"\"\n",
    "        self.data = data\n",
    "        self.left_child = None\n",
    "        self.right_child = None\n",
    "        \n",
    "    def __str__(self):\n",
    "        \"\"\"Return the string representation of a Node\"\"\"\n",
    "        return f\"Node({str(self.data)})\"\n",
    "    \n",
    "    def __repr__(self):\n",
    "        \"\"\"Return the string representation of a Node\"\"\"\n",
    "        return f\"Node({str(self.data)})\"\n",
    "\n",
    "    def inorder(self, root_node):\n",
    "        \"\"\"This function allows to traverse a tree using DFS approach using in-order\"\"\"\n",
    "        # Start from the root node\n",
    "        current = root_node \n",
    "        # Base Condition for Recursion: Node is empty -> Return Nothing\n",
    "        if current is None: \n",
    "            return \n",
    "        # Recursion toward the left\n",
    "        self.inorder(current.left_child) \n",
    "        # Print the current data\n",
    "        print(current.data) \n",
    "        # Recursion toward the right\n",
    "        self.inorder(current.right_child)\n",
    "\n",
    "    def preorder(self, root_node): \n",
    "        \"\"\"This function allows to traverse a tree using DFS approach using pre-order\"\"\"\n",
    "        # Start from the root node\n",
    "        current = root_node\n",
    "        # Base Condition for Recursion: Node is empty -> Return Nothing\n",
    "        if current is None: \n",
    "            return \n",
    "        # Print the current data\n",
    "        print(current.data) \n",
    "        # Recursion toward the left\n",
    "        self.preorder(current.left_child) \n",
    "        # Recursion toward the right\n",
    "        self.preorder(current.right_child)\n",
    "        \n",
    "    def postorder(self, root_node): \n",
    "        \"\"\"This function allows to traverse a tree using DFS approach using post-order\"\"\"\n",
    "        # Start from the root node\n",
    "        current = root_node \n",
    "        # Base Condition for Recursion: Node is empty -> Return Nothing\n",
    "        if current is None: \n",
    "            return \n",
    "        # Recursion toward the left\n",
    "        self.postorder(current.left_child) \n",
    "        # Recursion toward the right\n",
    "        self.postorder(current.right_child) \n",
    "        # Print the current data\n",
    "        print(current.data)\n",
    "\n",
    "    def breadth_first_traversal(self, root_node): \n",
    "        \"\"\"This function allows to traverse a tree using Breadth-First approach\"\"\"\n",
    "        final_list_of_visited_nodes = [] \n",
    "        # Initialize the queue with the root node\n",
    "        traversal_queue = deque([root_node])\n",
    "        while len(traversal_queue) > 0: \n",
    "            # Take one node from the queue and put in the final list\n",
    "            node = traversal_queue.popleft() \n",
    "            final_list_of_visited_nodes.append(node.data) \n",
    "            # Check its left child and append to the queue\n",
    "            if node.left_child: \n",
    "                traversal_queue.append(node.left_child) \n",
    "            # Check its right child and append to the queue\n",
    "            if node.right_child: \n",
    "                traversal_queue.append(node.right_child) \n",
    "        # Return the final list\n",
    "        return final_list_of_visited_nodes"
   ]
  },
  {
   "cell_type": "code",
   "execution_count": 11,
   "metadata": {},
   "outputs": [
    {
     "data": {
      "text/plain": [
       "['root node', 'left child node', 'right child node', 'left grandchild node']"
      ]
     },
     "execution_count": 11,
     "metadata": {},
     "output_type": "execute_result"
    }
   ],
   "source": [
    "# Initializing TreeNodes\n",
    "n1 = TreeNode(\"root node\")\n",
    "n2 = TreeNode(\"left child node\")\n",
    "n3 = TreeNode(\"right child node\")\n",
    "n4 = TreeNode(\"left grandchild node\")\n",
    "# Populating a Binary Tree\n",
    "n1.left_child = n2\n",
    "n1.right_child = n3\n",
    "n2.left_child = n4\n",
    "# Testing Breadth-First Traversing\n",
    "n1.breadth_first_traversal(n1)"
   ]
  },
  {
   "cell_type": "markdown",
   "metadata": {},
   "source": [
    "## Binary Tree"
   ]
  },
  {
   "cell_type": "code",
   "execution_count": null,
   "metadata": {},
   "outputs": [],
   "source": []
  }
 ],
 "metadata": {
  "hide_input": false,
  "kernelspec": {
   "display_name": "Python 3 (ipykernel)",
   "language": "python",
   "name": "python3"
  },
  "language_info": {
   "codemirror_mode": {
    "name": "ipython",
    "version": 3
   },
   "file_extension": ".py",
   "mimetype": "text/x-python",
   "name": "python",
   "nbconvert_exporter": "python",
   "pygments_lexer": "ipython3",
   "version": "3.10.4"
  },
  "toc": {
   "base_numbering": 1,
   "nav_menu": {},
   "number_sections": true,
   "sideBar": true,
   "skip_h1_title": true,
   "title_cell": "Table of Contents",
   "title_sidebar": "Contents",
   "toc_cell": true,
   "toc_position": {},
   "toc_section_display": true,
   "toc_window_display": true
  },
  "varInspector": {
   "cols": {
    "lenName": 16,
    "lenType": 16,
    "lenVar": 40
   },
   "kernels_config": {
    "python": {
     "delete_cmd_postfix": "",
     "delete_cmd_prefix": "del ",
     "library": "var_list.py",
     "varRefreshCmd": "print(var_dic_list())"
    },
    "r": {
     "delete_cmd_postfix": ") ",
     "delete_cmd_prefix": "rm(",
     "library": "var_list.r",
     "varRefreshCmd": "cat(var_dic_list()) "
    }
   },
   "types_to_exclude": [
    "module",
    "function",
    "builtin_function_or_method",
    "instance",
    "_Feature"
   ],
   "window_display": false
  }
 },
 "nbformat": 4,
 "nbformat_minor": 4
}
