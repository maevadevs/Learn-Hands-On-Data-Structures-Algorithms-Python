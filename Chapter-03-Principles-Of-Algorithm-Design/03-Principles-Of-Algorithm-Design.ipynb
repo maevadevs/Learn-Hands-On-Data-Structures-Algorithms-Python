{
 "cells": [
  {
   "cell_type": "markdown",
   "metadata": {},
   "source": [
    "# Principles of Algorithm Design"
   ]
  },
  {
   "cell_type": "markdown",
   "metadata": {
    "toc": true
   },
   "source": [
    "<h1>Table of Contents<span class=\"tocSkip\"></span></h1>\n",
    "<div class=\"toc\"><ul class=\"toc-item\"><li><span><a href=\"#Chapter-Goals\" data-toc-modified-id=\"Chapter-Goals-1\"><span class=\"toc-item-num\">1&nbsp;&nbsp;</span>Chapter Goals</a></span></li><li><span><a href=\"#Introduction-To-Algorithm\" data-toc-modified-id=\"Introduction-To-Algorithm-2\"><span class=\"toc-item-num\">2&nbsp;&nbsp;</span>Introduction To Algorithm</a></span><ul class=\"toc-item\"><li><span><a href=\"#Why-Study-Algorithm\" data-toc-modified-id=\"Why-Study-Algorithm-2.1\"><span class=\"toc-item-num\">2.1&nbsp;&nbsp;</span>Why Study Algorithm</a></span></li><li><span><a href=\"#Aspects-To-Solve-a-Problem\" data-toc-modified-id=\"Aspects-To-Solve-a-Problem-2.2\"><span class=\"toc-item-num\">2.2&nbsp;&nbsp;</span>Aspects To Solve a Problem</a></span></li><li><span><a href=\"#An-Efficient-Algorithm\" data-toc-modified-id=\"An-Efficient-Algorithm-2.3\"><span class=\"toc-item-num\">2.3&nbsp;&nbsp;</span>An Efficient Algorithm</a></span></li><li><span><a href=\"#Vocabularies-of-Algorithms\" data-toc-modified-id=\"Vocabularies-of-Algorithms-2.4\"><span class=\"toc-item-num\">2.4&nbsp;&nbsp;</span>Vocabularies of Algorithms</a></span></li></ul></li><li><span><a href=\"#Algorithm-Design-and-Paradigms\" data-toc-modified-id=\"Algorithm-Design-and-Paradigms-3\"><span class=\"toc-item-num\">3&nbsp;&nbsp;</span>Algorithm Design and Paradigms</a></span><ul class=\"toc-item\"><li><span><a href=\"#Divide-and-Conquer\" data-toc-modified-id=\"Divide-and-Conquer-3.1\"><span class=\"toc-item-num\">3.1&nbsp;&nbsp;</span>Divide and Conquer</a></span><ul class=\"toc-item\"><li><span><a href=\"#Examples-of-Divide-and-Conquer-Algorithms\" data-toc-modified-id=\"Examples-of-Divide-and-Conquer-Algorithms-3.1.1\"><span class=\"toc-item-num\">3.1.1&nbsp;&nbsp;</span>Examples of Divide and Conquer Algorithms</a></span></li></ul></li><li><span><a href=\"#Greedy-Algorithms\" data-toc-modified-id=\"Greedy-Algorithms-3.2\"><span class=\"toc-item-num\">3.2&nbsp;&nbsp;</span>Greedy Algorithms</a></span><ul class=\"toc-item\"><li><span><a href=\"#Examples-of-Greedy-Algorithms\" data-toc-modified-id=\"Examples-of-Greedy-Algorithms-3.2.1\"><span class=\"toc-item-num\">3.2.1&nbsp;&nbsp;</span>Examples of Greedy Algorithms</a></span></li></ul></li><li><span><a href=\"#Dynamic-Programming\" data-toc-modified-id=\"Dynamic-Programming-3.3\"><span class=\"toc-item-num\">3.3&nbsp;&nbsp;</span>Dynamic Programming</a></span><ul class=\"toc-item\"><li><span><a href=\"#Examples-of-Dynamic-Programming\" data-toc-modified-id=\"Examples-of-Dynamic-Programming-3.3.1\"><span class=\"toc-item-num\">3.3.1&nbsp;&nbsp;</span>Examples of Dynamic Programming</a></span></li></ul></li></ul></li><li><span><a href=\"#Recursion-and-Backtracking\" data-toc-modified-id=\"Recursion-and-Backtracking-4\"><span class=\"toc-item-num\">4&nbsp;&nbsp;</span>Recursion and Backtracking</a></span><ul class=\"toc-item\"><li><span><a href=\"#Iteration-vs-Recursion\" data-toc-modified-id=\"Iteration-vs-Recursion-4.1\"><span class=\"toc-item-num\">4.1&nbsp;&nbsp;</span>Iteration vs Recursion</a></span></li><li><span><a href=\"#Backtracking\" data-toc-modified-id=\"Backtracking-4.2\"><span class=\"toc-item-num\">4.2&nbsp;&nbsp;</span>Backtracking</a></span></li><li><span><a href=\"#Long-Multiplication---Divide-and-Conquer\" data-toc-modified-id=\"Long-Multiplication---Divide-and-Conquer-4.3\"><span class=\"toc-item-num\">4.3&nbsp;&nbsp;</span>Long Multiplication - Divide and Conquer</a></span><ul class=\"toc-item\"><li><span><a href=\"#Asymptotic-Analysis-/-Time-Complexity\" data-toc-modified-id=\"Asymptotic-Analysis-/-Time-Complexity-4.3.1\"><span class=\"toc-item-num\">4.3.1&nbsp;&nbsp;</span>Asymptotic Analysis / Time Complexity</a></span></li><li><span><a href=\"#Karatsuba-Recursive-Approach-to-Long-Multiplication\" data-toc-modified-id=\"Karatsuba-Recursive-Approach-to-Long-Multiplication-4.3.2\"><span class=\"toc-item-num\">4.3.2&nbsp;&nbsp;</span><code>Karatsuba</code> Recursive Approach to Long Multiplication</a></span></li></ul></li><li><span><a href=\"#Runtime-Analysis\" data-toc-modified-id=\"Runtime-Analysis-4.4\"><span class=\"toc-item-num\">4.4&nbsp;&nbsp;</span>Runtime Analysis</a></span><ul class=\"toc-item\"><li><span><a href=\"#Example-of-Analysis:-mergesort\" data-toc-modified-id=\"Example-of-Analysis:-mergesort-4.4.1\"><span class=\"toc-item-num\">4.4.1&nbsp;&nbsp;</span>Example of Analysis: <code>mergesort</code></a></span></li><li><span><a href=\"#Asymptotic-Analysis\" data-toc-modified-id=\"Asymptotic-Analysis-4.4.2\"><span class=\"toc-item-num\">4.4.2&nbsp;&nbsp;</span>Asymptotic Analysis</a></span></li></ul></li></ul></li><li><span><a href=\"#Big-O-Notation\" data-toc-modified-id=\"Big-O-Notation-5\"><span class=\"toc-item-num\">5&nbsp;&nbsp;</span>Big O Notation</a></span><ul class=\"toc-item\"><li><span><a href=\"#Common-Growth-Rates/Time-Complexity\" data-toc-modified-id=\"Common-Growth-Rates/Time-Complexity-5.1\"><span class=\"toc-item-num\">5.1&nbsp;&nbsp;</span>Common Growth Rates/Time Complexity</a></span></li><li><span><a href=\"#Composing-Complexity-Classes\" data-toc-modified-id=\"Composing-Complexity-Classes-5.2\"><span class=\"toc-item-num\">5.2&nbsp;&nbsp;</span>Composing Complexity Classes</a></span></li></ul></li><li><span><a href=\"#Omega-Notation-$\\Omega$\" data-toc-modified-id=\"Omega-Notation-$\\Omega$-6\"><span class=\"toc-item-num\">6&nbsp;&nbsp;</span>Omega Notation $\\Omega$</a></span></li><li><span><a href=\"#Theta-Notation-$\\Theta$\" data-toc-modified-id=\"Theta-Notation-$\\Theta$-7\"><span class=\"toc-item-num\">7&nbsp;&nbsp;</span>Theta Notation $\\Theta$</a></span></li><li><span><a href=\"#Amortized-Analysis\" data-toc-modified-id=\"Amortized-Analysis-8\"><span class=\"toc-item-num\">8&nbsp;&nbsp;</span>Amortized Analysis</a></span></li></ul></div>"
   ]
  },
  {
   "cell_type": "markdown",
   "metadata": {},
   "source": [
    "Why study Algorithm Design?\n",
    "- Algorithms are the foundation of all computing\n",
    "- Algorithms are the logic that get translated into codes for implementation\n",
    "- If algorithm was missing, modern technology is useless"
   ]
  },
  {
   "cell_type": "markdown",
   "metadata": {},
   "source": [
    "## Chapter Goals"
   ]
  },
  {
   "cell_type": "markdown",
   "metadata": {},
   "source": [
    "- An introduction to algorithms\n",
    "- Recursion and backtracking\n",
    "- Big O notation"
   ]
  },
  {
   "cell_type": "code",
   "execution_count": 1,
   "metadata": {},
   "outputs": [
    {
     "name": "stdout",
     "output_type": "stream",
     "text": [
      "3.4.3\n"
     ]
    }
   ],
   "source": [
    "# We will need matplotlib in this chapter\n",
    "import matplotlib as mpl\n",
    "print(mpl.__version__)"
   ]
  },
  {
   "cell_type": "markdown",
   "metadata": {},
   "source": [
    "## Introduction To Algorithm"
   ]
  },
  {
   "cell_type": "markdown",
   "metadata": {},
   "source": [
    "- **Algorithm - A sequential set of instructions to execute for a particular task**\n",
    "  - We can break a complex problem into smaller ones to prepare simple steps to execute a big problem\n",
    "  - For solving a specific problem\n",
    "- Theoretical foundation of algorithm:\n",
    "  - *The Turing machine*:\n",
    "    - A mathematical model\n",
    "    - Using a predefined set of rules, it translates a set of inputs into a set of outputs\n",
    "    - From mechanical, to digital, to quantum\n",
    "    - Regardless of the platform, algorithm plays an essential role\n",
    "- Algorithms in practice:\n",
    "  - Impact on technological innovations\n",
    "  - E.g. Page Rank Search Algorithm of Google"
   ]
  },
  {
   "cell_type": "markdown",
   "metadata": {},
   "source": [
    "### Why Study Algorithm"
   ]
  },
  {
   "cell_type": "markdown",
   "metadata": {},
   "source": [
    "- Essential for computer science and intelligent systems\n",
    "- Important in many other domains knowledge\n",
    "- Play a role in technological innovation\n",
    "- Improve problem-solving and analytical thinking\n",
    "  - Train us to think very specifically about certain problems"
   ]
  },
  {
   "cell_type": "markdown",
   "metadata": {},
   "source": [
    "### Aspects To Solve a Problem"
   ]
  },
  {
   "cell_type": "markdown",
   "metadata": {},
   "source": [
    "- *Data Structure* - An efficient mechanism to store, manage, and retrieve data\n",
    "- *Algorithm* - An efficient organization of logical steps with a finite set of instructions"
   ]
  },
  {
   "cell_type": "markdown",
   "metadata": {},
   "source": [
    "### An Efficient Algorithm"
   ]
  },
  {
   "cell_type": "markdown",
   "metadata": {},
   "source": [
    "- As specific instructions as possible\n",
    "- Have each instruction properly defined\n",
    "- No ambiguous instruction\n",
    "- Be executable in a finite amount of time and in a finite number of steps\n",
    "- Have clear input and output to solve the problem\n",
    "- Each instruction of the algorithm is important to solve the problem"
   ]
  },
  {
   "cell_type": "markdown",
   "metadata": {},
   "source": [
    "### Vocabularies of Algorithms"
   ]
  },
  {
   "cell_type": "markdown",
   "metadata": {},
   "source": [
    "- Instructions\n",
    "- Conditions\n",
    "- Iterations\n",
    "- Operations\n",
    "- Recursion\n",
    "  - Similar to iterations but fundamentally different\n",
    "  - A recursive function calls itself, applying the same function to progressively smaller inputs\n",
    "  - The input of any recursive step is the output of the previous recursive step"
   ]
  },
  {
   "cell_type": "markdown",
   "metadata": {},
   "source": [
    "## Algorithm Design and Paradigms"
   ]
  },
  {
   "cell_type": "markdown",
   "metadata": {},
   "source": [
    "- There are 3 broad approaches to algorithm design:\n",
    "  - **Divide and Conquer**\n",
    "  - **Greedy Algorithms**\n",
    "  - **Dynamic Programming**"
   ]
  },
  {
   "cell_type": "markdown",
   "metadata": {},
   "source": [
    "### Divide and Conquer"
   ]
  },
  {
   "cell_type": "markdown",
   "metadata": {},
   "source": [
    "- Arguably the most commonly used approach to algorithm design\n",
    "  - Breaking a larger problem into smaller and simple sub-problems\n",
    "  - Solving these sub-problems\n",
    "  - Combining the results to obtain a global optimal solution"
   ]
  },
  {
   "cell_type": "markdown",
   "metadata": {},
   "source": [
    "#### Examples of Divide and Conquer Algorithms"
   ]
  },
  {
   "cell_type": "markdown",
   "metadata": {},
   "source": [
    "- Binary Search\n",
    "- Merge Sort\n",
    "- Quick Sort\n",
    "- Karatsuba algorithm for fast multiplication\n",
    "- Strassen's matrix multiplication\n",
    "- Closest pair of points"
   ]
  },
  {
   "cell_type": "markdown",
   "metadata": {},
   "source": [
    "### Greedy Algorithms"
   ]
  },
  {
   "cell_type": "markdown",
   "metadata": {},
   "source": [
    "- Generally for optimization and combinatorial problems\n",
    "- Objective: \n",
    "  - Obtain the best optimal solution from many possible solutions in each step\n",
    "  - Try to get the local optimal solution which may eventually lead us to obtain the overall optimum solution"
   ]
  },
  {
   "cell_type": "markdown",
   "metadata": {},
   "source": [
    "#### Examples of Greedy Algorithms"
   ]
  },
  {
   "cell_type": "markdown",
   "metadata": {},
   "source": [
    "- Kruskal's minimum spanning tree\n",
    "- Dijkstra's shortest path \n",
    "- Knapsack problem \n",
    "- Prim's minimal spanning tree algorithm\n",
    "- Travelling salesman problem\n",
    "  - Always choose the closest destination first\n",
    "  - Finding the best solution to a local problem in the hope that this will lead to a global solution"
   ]
  },
  {
   "cell_type": "markdown",
   "metadata": {},
   "source": [
    "### Dynamic Programming"
   ]
  },
  {
   "cell_type": "markdown",
   "metadata": {},
   "source": [
    "- Useful when the subproblems overlap\n",
    "- Intermediate results are cached and can be used into subsequent operations\n",
    "- Similar to divide-and-conquer, it uses recursion\n",
    "- Allow us to compare results at different stages\n",
    "- Often quicker to retrieve a previously calculated result from memory rather than having to recalculate it"
   ]
  },
  {
   "cell_type": "markdown",
   "metadata": {},
   "source": [
    "#### Examples of Dynamic Programming"
   ]
  },
  {
   "cell_type": "markdown",
   "metadata": {},
   "source": [
    "- *Matrix Chain Multiplication* problem \n",
    "  - Determine the best effective way to multiply the matrices when a sequence of matrices is given\n",
    "  - Finds the order of multiplication that requires the minimum number of operations"
   ]
  },
  {
   "cell_type": "code",
   "execution_count": 2,
   "metadata": {},
   "outputs": [],
   "source": [
    "from sys import maxsize\n",
    "\n",
    "def MatrixChain(mat, i, j):\n",
    "    if i == j: \n",
    "        return 0\n",
    "    \n",
    "    minimum_computations = maxsize  \n",
    "    \n",
    "    for k in range(i, j):\n",
    "        # Recursion\n",
    "        count = (MatrixChain(mat, i, k) + MatrixChain(mat, k+1, j) + mat[i-1] * mat[k] * mat[j])   \n",
    "        if count < minimum_computations:  \n",
    "              minimum_computations = count    \n",
    "    \n",
    "    return minimum_computations"
   ]
  },
  {
   "cell_type": "code",
   "execution_count": 3,
   "metadata": {},
   "outputs": [
    {
     "name": "stdout",
     "output_type": "stream",
     "text": [
      "Minimum multiplications ops are 72000\n"
     ]
    }
   ],
   "source": [
    "matrix_sizes = [20, 30, 45, 50]\n",
    "\n",
    "print(\"Minimum multiplications ops are\", MatrixChain(matrix_sizes , 1, len(matrix_sizes)-1))"
   ]
  },
  {
   "cell_type": "markdown",
   "metadata": {},
   "source": [
    "## Recursion and Backtracking"
   ]
  },
  {
   "cell_type": "markdown",
   "metadata": {},
   "source": [
    "- Particularly useful for *Divide-and-Conquer*\n",
    "- Can be difficult to understand exactly what is happening\n",
    "- A recursive function could end up in an infinite loop\n",
    "- Important for recursive functions to have:\n",
    "  - **A Base case**: Recursion calls will stop when the base case is reached (exit strategy)\n",
    "  - **Recursive cases**: Steps that eventually lead to the base case"
   ]
  },
  {
   "cell_type": "code",
   "execution_count": 4,
   "metadata": {},
   "outputs": [],
   "source": [
    "# Typical case for recursion: Factorial\n",
    "def factorial(n):\n",
    "    # Excluded cases: n < 0\n",
    "    if n < 0:\n",
    "        raise TypeError(\"Factorial can only be applied on positive intergers.\")\n",
    "    # Base case: n = 0 \n",
    "    if n == 0: \n",
    "        return 1 \n",
    "    # Recursive cases: n > 0\n",
    "    # On each recursion, a copy of the method variables is stored in memory\n",
    "    # Once the method returns it is removed from memory\n",
    "    f = n * factorial(n-1)\n",
    "    #print(f) \n",
    "    return(f)"
   ]
  },
  {
   "cell_type": "code",
   "execution_count": 5,
   "metadata": {},
   "outputs": [
    {
     "data": {
      "text/plain": [
       "3628800"
      ]
     },
     "execution_count": 5,
     "metadata": {},
     "output_type": "execute_result"
    }
   ],
   "source": [
    "factorial(10)"
   ]
  },
  {
   "cell_type": "markdown",
   "metadata": {},
   "source": [
    "### Iteration vs Recursion"
   ]
  },
  {
   "cell_type": "markdown",
   "metadata": {},
   "source": [
    "- Both are well-suited to divide-and-conquer approaches\n",
    "  - Iteration churns away until the problem is done with\n",
    "  - Recursion breaks the problem down into smaller and smaller chunks and then combines the results\n",
    "- Iteration is often easier to follow: Control stays local to a loop\n",
    "- Recursion closely represent mathematical concepts such as factorial\n",
    "- **Recursion is generally slower than iteration because it does require a memory stack**\n",
    "- **Recursive calls are stored in memory, iterations are not**\n",
    "  - Trade-off between memory usage and processor cycle\n",
    "  - Processor intensive or memory intensive"
   ]
  },
  {
   "cell_type": "markdown",
   "metadata": {},
   "source": [
    "### Backtracking"
   ]
  },
  {
   "cell_type": "markdown",
   "metadata": {},
   "source": [
    "- A particular form of recursion\n",
    "- Particularly useful for types of problems such as traversing tree structures\n",
    "- A divide and conquer method for exhaustive searching\n",
    "- Backtracking prunes branches that cannot give a result\n",
    "- We are presented with a different set of options\n",
    "  - Depending on the series of choices made, either a goal state or a dead end is reached\n",
    "  - If dead end, we backtrack to a previous node and traverse a different branch"
   ]
  },
  {
   "cell_type": "markdown",
   "metadata": {},
   "source": [
    "- E.g. A recursive approach to generate **all** possible arrangements of a given string `st` of a given length `n`\n"
   ]
  },
  {
   "cell_type": "code",
   "execution_count": 6,
   "metadata": {},
   "outputs": [],
   "source": [
    "def bit_str(n, st):\n",
    "    if n == 1:\n",
    "        return st\n",
    "    return [digit + bits for digit in bit_str(1, st) for bits in bit_str(n-1, st)]"
   ]
  },
  {
   "cell_type": "code",
   "execution_count": 7,
   "metadata": {},
   "outputs": [
    {
     "name": "stdout",
     "output_type": "stream",
     "text": [
      "count: 27\n",
      "['aaa', 'aab', 'aac', 'aba', 'abb', 'abc', 'aca', 'acb', 'acc', 'baa', 'bab', 'bac', 'bba', 'bbb', 'bbc', 'bca', 'bcb', 'bcc', 'caa', 'cab', 'cac', 'cba', 'cbb', 'cbc', 'cca', 'ccb', 'ccc']\n"
     ]
    }
   ],
   "source": [
    "res = bit_str(3, \"abc\")\n",
    "print(\"count:\", len(res))\n",
    "print(res)"
   ]
  },
  {
   "cell_type": "markdown",
   "metadata": {},
   "source": [
    "### Long Multiplication - Divide and Conquer"
   ]
  },
  {
   "cell_type": "markdown",
   "metadata": {},
   "source": [
    "- Comparing recursion to other methods and understanding when to use it\n",
    "- Long multiplication involved iterative multiplying and carry operations followed by a shifting and addition operation\n",
    "- This is how we were taught to multiply large numbers in foundation schools\n",
    "- Examine ways to measure how efficient this procedure\n",
    "- Attempt to answer the question: Is this the most efficient procedure we can use for multiplying two large numbers together?\n",
    "- We can generalize and say that an `n` digit number requires, approximately, `n^2` multiplication operations\n",
    "  - **There is a relationship between the size of the input and the time of computation execution**\n",
    "\n",
    "<img src=\"../files/chap_03/long-multiplication.jpg\" width=50%>"
   ]
  },
  {
   "cell_type": "markdown",
   "metadata": {},
   "source": [
    "#### Asymptotic Analysis / Time Complexity"
   ]
  },
  {
   "cell_type": "markdown",
   "metadata": {},
   "source": [
    "- A way to understand the relationship between the time it takes to complete a certain computation and the size of the input to that computation\n",
    "- What happens when the input, the number of digits `n` is very large?"
   ]
  },
  {
   "cell_type": "markdown",
   "metadata": {},
   "source": [
    "#### `Karatsuba` Recursive Approach to Long Multiplication"
   ]
  },
  {
   "cell_type": "markdown",
   "metadata": {},
   "source": [
    "- There are several algorithms for multiplying large numbers that require less operations\n",
    "- 1962: The Karatsuba Algorithm\n",
    "- Divide and Conquer Approach\n",
    "  - Instead of iteratively multiplying single-digit numbers\n",
    "  - Recursively carries out multiplication operations on progressively smaller inputs\n",
    "- First step in building a recursive algorithm: Decompose a large number into several smaller numbers\n",
    "  - Most natural way to do this: Simply split the number into two halves\n",
    "  - Example: `2345` becomes `23` and `45`\n",
    "- We can get a more generalized format for the split as: \n",
    "  - **For `x` and `y` as the 1st half and the 2nd half, and `n` the number of digits, and `m` a positive number less than `n`:**"
   ]
  },
  {
   "cell_type": "markdown",
   "metadata": {},
   "source": [
    "\\begin{equation*}\n",
    "x = 10^{m}a+b \\\\\n",
    "y = 10^{m}c+d \\\\\n",
    "\\end{equation*}\n",
    "\n",
    "So now, we can re-write our multiplication problem as follow:\n",
    "\n",
    "\\begin{equation*}\n",
    "x \\times y = (10^{m}a+b)\\bullet(10^{m}c+d) \\\\\n",
    "x \\times y = 10^{2m}ac + 10^m(ad + bc) + bd \\\\\n",
    "x \\times y = 10^{2m}z_2 + 10^mz_1 + z_0\n",
    "\\end{equation*}"
   ]
  },
  {
   "cell_type": "markdown",
   "metadata": {},
   "source": [
    "- It is possible to recursively apply the multiplication operation as `ac`, `ad`, `bc`, and `bd` involve multiplication themselves\n",
    "- This algorithm so far consists of four recursive multiplication steps and it is not immediately clear if it will be faster than the classic long multiplication approach\n",
    "- We really only need to know `z2`, `z1`, and `z0` to solve the equation\n",
    "- We can make the following observation:"
   ]
  },
  {
   "cell_type": "markdown",
   "metadata": {},
   "source": [
    "\\begin{equation*}\n",
    "(a+b)(c+d)=ac+bd+ad+bc\n",
    "\\end{equation*}"
   ]
  },
  {
   "cell_type": "markdown",
   "metadata": {},
   "source": [
    "- If we subtract `ac` and `bd`, we get `ad + bc`"
   ]
  },
  {
   "cell_type": "markdown",
   "metadata": {},
   "source": [
    "\\begin{equation*}\n",
    "ac+bd+ad+bc-ac-bd=bc+ad=ad+bc=z_1\n",
    "\\end{equation*}"
   ]
  },
  {
   "cell_type": "markdown",
   "metadata": {},
   "source": [
    "- So we can actualy find `z1` without needing to find `ad` and `bc` separately\n",
    "- So the overall recipe becomes:\n",
    "  - Find `z2`: Recursively calculate `ac`\n",
    "  - Find `z0`: Recursively calculate `bd`\n",
    "  - Find `z1`: Recursively calculate `(a + b)(c + d)` and subtract `ac` and `bd`"
   ]
  },
  {
   "cell_type": "code",
   "execution_count": 8,
   "metadata": {},
   "outputs": [],
   "source": [
    "from math import log10 \n",
    "import math\n",
    "\n",
    "def karatsuba(x, y):\n",
    "\n",
    "    # The base cases for recursion: \n",
    "    # x or y is a single digit => Plain multiplication\n",
    "    if x < 10 or y < 10:\n",
    "        return x * y\n",
    "\n",
    "    # sets n: the number of digits in the highest input number\n",
    "    n = max(int(log10(x) + 1), int(log10(y) + 1))\n",
    "\n",
    "    # roundsup n/2\n",
    "    n_2 = int(math.ceil(n / 2.0))\n",
    "\n",
    "    # adds 1 if n is uneven\n",
    "    n = n if n % 2 == 0 else n + 1\n",
    "\n",
    "    # splits the input numbers\n",
    "    a, b = divmod(x, 10**n_2)\n",
    "    c, d = divmod(y,10**n_2)\n",
    "\n",
    "    # applies the three recursive steps \n",
    "    ac = karatsuba(a,c)\n",
    "    bd = karatsuba(b,d)\n",
    "    ad_bc = karatsuba((a + b),(c + d)) - ac - bd\n",
    "\n",
    "    # performs the multiplication\n",
    "    return (((10**n) * ac) + bd + ((10**n_2) * (ad_bc)))"
   ]
  },
  {
   "cell_type": "code",
   "execution_count": 9,
   "metadata": {},
   "outputs": [
    {
     "data": {
      "text/plain": [
       "426764085375706047"
      ]
     },
     "execution_count": 9,
     "metadata": {},
     "output_type": "execute_result"
    }
   ],
   "source": [
    "karatsuba(123456789, 3456789123)"
   ]
  },
  {
   "cell_type": "code",
   "execution_count": 10,
   "metadata": {},
   "outputs": [
    {
     "data": {
      "text/plain": [
       "1.4e+17"
      ]
     },
     "execution_count": 10,
     "metadata": {},
     "output_type": "execute_result"
    }
   ],
   "source": [
    "karatsuba(7e6, 2e10)"
   ]
  },
  {
   "cell_type": "markdown",
   "metadata": {},
   "source": [
    "### Runtime Analysis"
   ]
  },
  {
   "cell_type": "markdown",
   "metadata": {},
   "source": [
    "- An algorithm is measured by:\n",
    "  - Size of input data (`n`)\n",
    "  - *Time Complexity*: Time used by the algorithm (`t`)\n",
    "  - *Space Complexity*: Memory space used by the algorithm (`m`)\n",
    "- Time required is measured by the key operations to be performed by the algorithm (steps)\n",
    "  - Proportionate to the input size (`n`): As the input size increase, the time also increase\n",
    "  - To compute time complexity, input size is important\n",
    "  - Also depends on the key operations to be executed\n",
    "    - The key operation for a sorting algorithm is the comparison operator\n",
    "    - More key operations => Longer runtime\n",
    "- Space required is measured by the storage needed to store the variables, constants, and instructions during the execution of the program\n",
    "  - Can change dynamically during the execution\n",
    "  - Dynamic memory allocation\n",
    "  - Memory stacks\n"
   ]
  },
  {
   "cell_type": "markdown",
   "metadata": {},
   "source": [
    "- We cannot simply take the total runtime of the algorithm\n",
    "  - The performance of the algorithm is also dependant on the running hardware\n",
    "  - A platform-independent way to gauge an algorithm's runtime is to count the number of operations involved\n",
    "    - However, there is no definitive way to quantify an operation\n",
    "    - Dependent on the programming language, the coding style, and how we decide to count operations\n",
    "    - We can use this if we take into account that there is a math relationship between `n` and `t`"
   ]
  },
  {
   "cell_type": "markdown",
   "metadata": {},
   "source": [
    "- **3 things that characterize an algorithm's runtime performance**:\n",
    "  - *Worst-case complexity*: Upper-bound complexity. Maximum running time.\n",
    "  - *Best-case complexity*: Lower-bound complexity. Minimum running time.\n",
    "  - *Average-case complexity*: Average running time.\n",
    "- *Worst-case*: Guarantee to not exceed this\n",
    "- Also, we only focus on the highest-order terms\n",
    "  - At high values of `n`, the operations that increase the fastest as we increase `n` will dominate"
   ]
  },
  {
   "cell_type": "markdown",
   "metadata": {},
   "source": [
    "#### Example of Analysis: `mergesort`"
   ]
  },
  {
   "cell_type": "markdown",
   "metadata": {},
   "source": [
    "- A recursive divide-and-conquer algorithm\n",
    "- Developed over 60 years ago\n",
    "- Widely used in most popular sorting libraries\n",
    "- Simple and efficient\n",
    "- 3 steps:\n",
    "  1. Recursively sort the left side\n",
    "  1. Recursively sort the right side\n",
    "  1. Merge 2 sorted sub-arrays into one"
   ]
  },
  {
   "cell_type": "code",
   "execution_count": 11,
   "metadata": {},
   "outputs": [],
   "source": [
    "def merge_sort(arr): \n",
    "    # Base case: if the input array is one or zero just return\n",
    "    if len(arr) > 1: \n",
    "        # split input array\n",
    "        print('splitting', arr)\n",
    "        mid = len(arr) // 2   \n",
    "        left = arr[:mid] \n",
    "        right = arr[mid:]\n",
    "        # recursive calls to mergeSort for left and right subarrays \n",
    "        merge_sort(left)   \n",
    "        merge_sort(right)\n",
    "        # initalizes pointers for left(i) right(j) and output array (k)\n",
    "        # 3 initalization operations \n",
    "        i = j = k = 0 \n",
    "        # Traverse and merges the sorted arrays \n",
    "        while i < len(left) and j < len(right):   \n",
    "            if left[i] < right[j]: # if left < right comparison operation\n",
    "                # if left < right Assignment operation  \n",
    "                arr[k] = left[i]  \n",
    "                i += 1 \n",
    "            else: # if right <= left assignment\n",
    "                arr[k] = right[j] \n",
    "                j += 1   \n",
    "            k += 1   \n",
    "        # Checking if any element was left\n",
    "        while i < len(left):   \n",
    "            # Assignment operation \n",
    "            arr[k] = left[i] \n",
    "            i += 1   \n",
    "            k += 1   \n",
    "        while j < len(right):   \n",
    "            # Assignment operation    \n",
    "            arr[k] = right[j] \n",
    "            j += 1 \n",
    "            k += 1\n",
    "    \n",
    "    print('merging', arr) \n",
    "    return(arr)"
   ]
  },
  {
   "cell_type": "code",
   "execution_count": 12,
   "metadata": {},
   "outputs": [
    {
     "name": "stdout",
     "output_type": "stream",
     "text": [
      "splitting [56, 43, 78, 125, 9, 10, 11, -6, -56, -100, 1000]\n",
      "splitting [56, 43, 78, 125, 9]\n",
      "splitting [56, 43]\n",
      "merging [56]\n",
      "merging [43]\n",
      "merging [43, 56]\n",
      "splitting [78, 125, 9]\n",
      "merging [78]\n",
      "splitting [125, 9]\n",
      "merging [125]\n",
      "merging [9]\n",
      "merging [9, 125]\n",
      "merging [9, 78, 125]\n",
      "merging [9, 43, 56, 78, 125]\n",
      "splitting [10, 11, -6, -56, -100, 1000]\n",
      "splitting [10, 11, -6]\n",
      "merging [10]\n",
      "splitting [11, -6]\n",
      "merging [11]\n",
      "merging [-6]\n",
      "merging [-6, 11]\n",
      "merging [-6, 10, 11]\n",
      "splitting [-56, -100, 1000]\n",
      "merging [-56]\n",
      "splitting [-100, 1000]\n",
      "merging [-100]\n",
      "merging [1000]\n",
      "merging [-100, 1000]\n",
      "merging [-100, -56, 1000]\n",
      "merging [-100, -56, -6, 10, 11, 1000]\n",
      "merging [-100, -56, -6, 9, 10, 11, 43, 56, 78, 125, 1000]\n"
     ]
    },
    {
     "data": {
      "text/plain": [
       "[-100, -56, -6, 9, 10, 11, 43, 56, 78, 125, 1000]"
      ]
     },
     "execution_count": 12,
     "metadata": {},
     "output_type": "execute_result"
    }
   ],
   "source": [
    "merge_sort([56, 43, 78, 125, 9, 10, 11, -6, -56, -100, 1000])"
   ]
  },
  {
   "cell_type": "markdown",
   "metadata": {},
   "source": [
    "<img src=\"../files/chap_03/merge-sort-tree.jpg\" width=50%>\n",
    "\n",
    "- Ultimately, we want to know the total time it takes for the algorithm to complete relative to the size of $n$\n",
    "- $n$: The length of the original array at level 0 (at initial input)\n",
    "- Each invocation of `merge_sort()` creates 2 recursive calls\n",
    "- We can calculate the amount of work and operations at each level of the tree\n",
    "- **Number of recursive level = number of times to divide $n$ by 2 until reaching at most one: $log_2$**\n",
    "- The total number of level is $log_2(n) + 1$ because we are counting the initial recursive as level 0"
   ]
  },
  {
   "cell_type": "markdown",
   "metadata": {},
   "source": [
    "- Advantage of using recursion tree to analyze an algorithm:\n",
    "  - We can calculate the work done at each level of the recursion\n",
    "  - Work is simply the total number of operations, related to the size of the input\n",
    "  - Measurement and comparisons should be done in a platform-independent way\n",
    "  - Since each invocation of merge sort is making two recursive calls, the number of calls is doubled at each level\n",
    "    - Each call is working on an input that is half the parent's\n",
    "  - There are $4m + 3$ operations for each recursion of merge sort\n",
    "    - Since $m$ must be at least 1, the upper bound is $7m$\n",
    "    - We have not counted the increment operations or the housekeeping operations\n",
    "    - We are more concerned with the rate of growth  of the runtime with respect to $n$ at high values\n",
    "  - **The key fact that make this manageable is that as the number of recursion double, the size of the problem is halved. These 2 opposing forces cancels-out nicely.**\n",
    "  - `The maximum number of operations at each level = Number of subproblems * Number of operations at each subproblem`\n",
    "\n",
    "\\begin{equation*}\n",
    "2^j \\times 7(n/{2^j}) = 7n\n",
    "\\end{equation*}\n",
    "\n",
    "  - So the number of operations at each level is independent of the level\n",
    "  - The complete number of operations for a complete merge sort is:\n",
    "\n",
    "\\begin{equation*}\n",
    "7(nlog_2n + 1) = 7nlog_2n + 7\n",
    "\\end{equation*}\n",
    "\n",
    "- **Key-Points:**\n",
    "  - **There is a logarithmic component to the relationship between the size of the input and the total running time**\n",
    "  - **The distinguishing feature of log functions is that they flatten-out very quick.**\n",
    "\n",
    "<img src=\"../files/chap_03/log-growth-vs-linear-growth.jpg\" width=50%>"
   ]
  },
  {
   "cell_type": "code",
   "execution_count": 13,
   "metadata": {},
   "outputs": [
    {
     "data": {
      "image/png": "[encoded data removed]",
      "text/plain": [
       "<Figure size 432x288 with 1 Axes>"
      ]
     },
     "metadata": {
      "needs_background": "light"
     },
     "output_type": "display_data"
    }
   ],
   "source": [
    "from matplotlib import pyplot as plt\n",
    "import math\n",
    "\n",
    "x = list(range(1, 100))   \n",
    "ls = []\n",
    "ls2 = []\n",
    "a = 1\n",
    "\n",
    "plt.plot(x, [y**2 for y in x])\n",
    "plt.plot(x, [(7 * y) * math.log(y,2) for y in x]) \n",
    "plt.plot(x, [(5 * y) * math.log(y,2) for y in x])\n",
    "plt.show()"
   ]
  },
  {
   "cell_type": "markdown",
   "metadata": {},
   "source": [
    "- At inputs starting from 40, the log functions are winning\n",
    "- What we are more interested is a way to characterize growth rate\n",
    "  - Not the absolute value, but how much the value change as we increase $n$\n",
    "  - The lower curves have similar growth rate compared to the top one ($y^2$)\n",
    "  - $7ylog$ and $5ylog$ have the same **Complexity Class**"
   ]
  },
  {
   "cell_type": "markdown",
   "metadata": {},
   "source": [
    "#### Asymptotic Analysis"
   ]
  },
  {
   "cell_type": "markdown",
   "metadata": {},
   "source": [
    "- Computation of the running time of an algorithm\n",
    "- We could run two algorithms on the same inputs to see which one is better\n",
    "- But it is possible that for a specific input, one algorithm would preform better or worse than another\n",
    "- Here, we compare algorithms with respect to input size than actual runtime\n",
    "- We measure how the time taken increase with respect to more inputs"
   ]
  },
  {
   "cell_type": "code",
   "execution_count": 14,
   "metadata": {},
   "outputs": [],
   "source": [
    "# Linear search program\n",
    "# To search an element one at a time \n",
    "# Best-Case: O(1)\n",
    "# Worst-Case: Θ(n)\n",
    "def linearsearch(array, el):\n",
    "    for i in range(len(array)):\n",
    "        if array[i] == el:\n",
    "            return i\n",
    "    return None"
   ]
  },
  {
   "cell_type": "code",
   "execution_count": 15,
   "metadata": {},
   "outputs": [
    {
     "name": "stdout",
     "output_type": "stream",
     "text": [
      "Element '8' was found at index 5\n"
     ]
    }
   ],
   "source": [
    "search_arr = [4, 6, 2, 7, 4, 8, 9, -1, 54,-7]\n",
    "el = 8\n",
    "pos = linearsearch(search_arr, el)\n",
    "print(f\"Element '{el}' was found at index {pos}\")"
   ]
  },
  {
   "cell_type": "markdown",
   "metadata": {},
   "source": [
    "- $n$: The length of the array\n",
    "- $T(n)$: Total number of operations required\n",
    "- The key operation in this search is the comparison\n",
    "- **Worst-Case Analysis**: Upper-bound. Going through every single element of the list: $O(n)$\n",
    "- **Average-Case Analysis**: We consider all the possible cases where the element can be found in the list, and then, we compute the average running time complexity. $AverageCaseComplexity = \\frac{1 + 2 + 3 ... n}{n} = \\frac{n (n + 1)}{2}$\n",
    "- **Best-Case Analysis**: Lower-bound. $Θ(1)$\n",
    "- **Generally, we use the *Worst-Case Analysis* to analyze an algorithm**\n",
    "- Best-Case analysis is the least important\n",
    "- The computation of Average-Case analysis can be difficult\n",
    "  - We need to know the upper and lower bounds\n",
    "- **To use Asymptotic Analysis, we simply create 2 expressions: for best case and worst case**"
   ]
  },
  {
   "cell_type": "markdown",
   "metadata": {},
   "source": [
    "## Big O Notation"
   ]
  },
  {
   "cell_type": "markdown",
   "metadata": {},
   "source": [
    "- **'O' stands for *Order***: The rates of growth are defined as *order* of a function\n",
    "- Describes the tight upper-bound of an algorithm\n",
    "- Measures the worst-case running time complexity\n",
    "- The maximum time that can be taken by the algorithm\n",
    "\n",
    "\\begin{equation*}\n",
    "T(n) = O(F(n)) \n",
    "\\end{equation*}\n",
    "\n",
    "**iff there exist a constant $n_0$ and $c$ such that:**\n",
    "\n",
    "\\begin{equation*}\n",
    "T(n) <= c(F(n))\n",
    "\\end{equation*}\n",
    "\n",
    "**for all $n >= n_0$**"
   ]
  },
  {
   "cell_type": "markdown",
   "metadata": {},
   "source": [
    "- The objective is to find the smallest rate of growth that is less than or equal to $f(n)$\n",
    "- We only care what happens at higher values of $n$\n",
    "- The variable $n_0$ represents the threshold below which the rate of growth is not important\n",
    "- $f(n)$ could represent any functions that have same or smaller rate of growth than $f(n)$\n",
    "  - $O(n^2)$ includes $O(n)$, $O(log_n)$..."
   ]
  },
  {
   "cell_type": "markdown",
   "metadata": {},
   "source": [
    "### Common Growth Rates/Time Complexity"
   ]
  },
  {
   "cell_type": "markdown",
   "metadata": {},
   "source": [
    "Complexity Class|Name|Example Operations\n",
    ":-|:-|:-\n",
    "\\begin{equation*} O(1) \\end{equation*}|**Constant**|`append`, `get_item`, `set_item`\n",
    "\\begin{equation*} O(log(n)) \\end{equation*}|**Logarithmic**|Find element in a sorted array with divide-and-conquer\n",
    "\\begin{equation*} O(n) \\end{equation*}|**Linear**|`copy`, `insert`, `delete`, `iteration`\n",
    "\\begin{equation*} O(nlog(n)) \\end{equation*}|**Linear-Logarithmic**|Sort a list with divide-and-conquer\n",
    "\\begin{equation*} O(n^2) \\end{equation*}|**Quadratic**|Nested loops, Shortest path between 2 nodes\n",
    "\\begin{equation*} O(n^3) \\end{equation*}|**Cubic**|Matrix Multiplication\n",
    "\\begin{equation*} O(2^n) \\end{equation*}|**Exponential**|Towers of Hanoi, Backtracking"
   ]
  },
  {
   "cell_type": "markdown",
   "metadata": {},
   "source": [
    "### Composing Complexity Classes"
   ]
  },
  {
   "cell_type": "markdown",
   "metadata": {},
   "source": [
    "- We can combine the complexity classes of simple operations to find the complexity class of more complex, combined operations\n",
    "- To understand the Time Complexity of executing several operations\n",
    "- We can simply add them for Sequential Operations\n",
    "  - Add an item to a list: $O(n)$\n",
    "  - Sorting the list: $O(nlogn)$\n",
    "  - Total Complexity: $O(n + nlogn)$\n",
    "  - We are only interested in the higher order so: $O(nlogn)$\n",
    "- For repeated operations (loops), we multiply by the number of times the operation is carried out\n",
    "  - Operation: $O(f(n))$\n",
    "  - Repetition: $O(n)$\n",
    "  - Total Complexity: $O(f(n)) \\times O(n) = O(nf(n))$"
   ]
  },
  {
   "cell_type": "markdown",
   "metadata": {},
   "source": [
    "- Example: Suppose $f(n)$ has a time complexity of $O(n^2)$ and is carried out $n$ times in a loop\n",
    "\n",
    "```python\n",
    "for i in range(n):\n",
    "    f(i)\n",
    "```\n",
    "\n",
    "- The total time complexity of this op is: \n",
    "\n",
    "\\begin{equation*}\n",
    "O(n^2) \\times O(n) = O(n^2 \\times n) = O(n^3)\n",
    "\\end{equation*}\n",
    "\n",
    "- A single nested loop will run $O(n^2)$ if both loop run $n$ times\n",
    "\n",
    "```python\n",
    "for i in range(0, n): # O(n)\n",
    "    for j in range(0, n): # O(n)\n",
    "        # statements\n",
    "```"
   ]
  },
  {
   "cell_type": "markdown",
   "metadata": {},
   "source": [
    "- For consecutive statements within nested loops, we add the time complexities of each statement and multiply by the number of times the statement executed\n",
    "\n",
    "```python\n",
    "n = 500 # O(1) = c_0\n",
    "\n",
    "for i in range(0, n): \n",
    "    print(i) # O(1) * n = c1 * n\n",
    "   \n",
    "for i in range(0, n):\n",
    "    for j in range(0, n):\n",
    "        print(j) # O(1) * n * n = c2 * n**2\n",
    "```\n",
    "\n",
    "- So the total complexity is: $O(c_0 + c_1 \\cdot n \\times c2 \\cdot n^2)$ thus $O(n^2)$"
   ]
  },
  {
   "cell_type": "markdown",
   "metadata": {},
   "source": [
    "- **$O$ is the most-used notation for complexity**\n",
    "- However, we also have $\\Omega$ and $\\Theta$"
   ]
  },
  {
   "cell_type": "markdown",
   "metadata": {},
   "source": [
    "## Omega Notation $\\Omega$"
   ]
  },
  {
   "cell_type": "markdown",
   "metadata": {},
   "source": [
    "- Describes the tight lower-bound of an algorithm\n",
    "- Measures the best-case running time complexity\n",
    "- The minimum time that can be taken by the algorithm\n",
    "\n",
    "\\begin{equation*}\n",
    "T(n) = Ω(F(n)) \n",
    "\\end{equation*}\n",
    "\n",
    "**iff there exist a constant $n_0$ and $c$ such that:**\n",
    "\n",
    "\\begin{equation*}\n",
    "0 <= c(F(n)) <= T(n)\n",
    "\\end{equation*}\n",
    "\n",
    "**for all $n >= n_0$**"
   ]
  },
  {
   "cell_type": "markdown",
   "metadata": {},
   "source": [
    "- $\\Omega(1)$ is the most popular\n",
    "  - At the very least, an algorithm will required to execute the key operation at least once\n",
    "- Usually, $\\Omega(F(n)) = c$ where $c$ is a constant"
   ]
  },
  {
   "cell_type": "markdown",
   "metadata": {},
   "source": [
    " ## Theta Notation $\\Theta$"
   ]
  },
  {
   "cell_type": "markdown",
   "metadata": {},
   "source": [
    "- A combination of $O$ and $\\Omega$ when they are the same\n",
    "\n",
    "\\begin{equation*}\n",
    "T(n) = Θ(F(n)) \n",
    "\\end{equation*}\n",
    "\n",
    "**iff there exist a constant $n_0$, $c_1$, and $c_2$ such that:**\n",
    "\n",
    "\\begin{equation*}\n",
    "0 <= c_1(F(n)) <= T(n) <= c_2(F(n))\n",
    "\\end{equation*}\n",
    "\n",
    "**for all $n >= n_0$**"
   ]
  },
  {
   "cell_type": "markdown",
   "metadata": {},
   "source": [
    "- **Although $\\Omega$ and $\\Theta$ are required to completely describe a growth rate, usually $O$ is the one used the most**\n",
    "  - **$O$ is the most used in practice**"
   ]
  },
  {
   "cell_type": "markdown",
   "metadata": {},
   "source": [
    "## Amortized Analysis"
   ]
  },
  {
   "cell_type": "markdown",
   "metadata": {},
   "source": [
    "- Often, we are more interested in the average running time of sequences of operations\n",
    "  - We make no assumptions regarding the data distribution of input values\n",
    "  - But we take into account the state change of data structures\n",
    "  - E.g. If a list is sorted, subsequent find operations would be faster\n",
    "- **We analyze sequences of operations, rather than simply aggregating single operations**\n",
    "- Describes an upper bound on the runtime of the algorithm\n",
    "  - Impose an additional cost for each operation\n",
    "  - But cheaper than the initial expensive operation\n",
    "- When we have a lot of types of operations, Worst-Case analysis can be too pessimistic\n",
    "  - We should take into account that a sorted list is easier to search\n",
    "- There are 2 other common approaches to algorithm analysis:\n",
    "  - **Average-case Analysis**\n",
    "     - Find the average running time: Based on some assumption about the relative frequencies of input values\n",
    "  - **Benchmarking**\n",
    "    - Having an agreed set of typical inputs that are used to measure performance\n",
    "    - Try to find ways to improve performance by fine-tuning to a very specific application setting"
   ]
  },
  {
   "cell_type": "markdown",
   "metadata": {},
   "source": [
    "- These techniques rely on domain knowledge\n",
    "  - Need to know the typical or expected datasets\n",
    "- An example of benchmarking is measuring the runtime of a program using the `timeit` function\n",
    "  - Simply timing how long the algorithm takes to complete given various input sizes\n",
    "  - Dependent on the hardware that it is run on\n",
    "  - The absolute time values will differ between hardware (and software) platforms\n",
    "  - However, their relative growth will still be bound by the time complexity of the algorithm"
   ]
  },
  {
   "cell_type": "code",
   "execution_count": 16,
   "metadata": {},
   "outputs": [],
   "source": [
    "# Function to Benchmark: O(n^2)\n",
    "def nest(n):\n",
    "    for i in range(n):\n",
    "        for j in range(n):\n",
    "            i + j"
   ]
  },
  {
   "cell_type": "code",
   "execution_count": 17,
   "metadata": {},
   "outputs": [],
   "source": [
    "import timeit\n",
    "\n",
    "# Benchmarking the Function\n",
    "def test(n):\n",
    "    ls = []\n",
    "    for n in range(n):\n",
    "        t = timeit.timeit(\"nest(\" + str(n) +\")\", setup=\"from __main__ import nest\", number=1)\n",
    "        ls.append(t)\n",
    "    return ls"
   ]
  },
  {
   "cell_type": "code",
   "execution_count": 18,
   "metadata": {},
   "outputs": [
    {
     "data": {
      "image/png": "[encoded data removed]",
      "text/plain": [
       "<Figure size 432x288 with 1 Axes>"
      ]
     },
     "metadata": {
      "needs_background": "light"
     },
     "output_type": "display_data"
    }
   ],
   "source": [
    "import matplotlib.pyplot as plt\n",
    "\n",
    "# Plotting the result of the benchmarking\n",
    "n = 1000\n",
    "plt.plot(test(n))\n",
    "plt.plot([x * x / 10000000 for x in range(n)]); # n^2 for comparison"
   ]
  },
  {
   "cell_type": "markdown",
   "metadata": {},
   "source": [
    "- This represent **both the performance of the algorithm as well as the behavior of the underlying hardware**\n",
    "  - A faster processor will result in faster runtime\n",
    "  - Performance will be affected by other running processes, memory constraints, clock speed...\n",
    "  - A good example of benchmarking is by the *Benchmark Game* (https://benchmarksgame-team.pages.debian.net/benchmarksgame/)"
   ]
  }
 ],
 "metadata": {
  "hide_input": false,
  "kernelspec": {
   "display_name": "Python 3 (ipykernel)",
   "language": "python",
   "name": "python3"
  },
  "language_info": {
   "codemirror_mode": {
    "name": "ipython",
    "version": 3
   },
   "file_extension": ".py",
   "mimetype": "text/x-python",
   "name": "python",
   "nbconvert_exporter": "python",
   "pygments_lexer": "ipython3",
   "version": "3.10.4"
  },
  "toc": {
   "base_numbering": 1,
   "nav_menu": {},
   "number_sections": true,
   "sideBar": true,
   "skip_h1_title": true,
   "title_cell": "Table of Contents",
   "title_sidebar": "Contents",
   "toc_cell": true,
   "toc_position": {
    "height": "calc(100% - 180px)",
    "left": "10px",
    "top": "150px",
    "width": "256px"
   },
   "toc_section_display": true,
   "toc_window_display": true
  },
  "varInspector": {
   "cols": {
    "lenName": 16,
    "lenType": 16,
    "lenVar": 40
   },
   "kernels_config": {
    "python": {
     "delete_cmd_postfix": "",
     "delete_cmd_prefix": "del ",
     "library": "var_list.py",
     "varRefreshCmd": "print(var_dic_list())"
    },
    "r": {
     "delete_cmd_postfix": ") ",
     "delete_cmd_prefix": "rm(",
     "library": "var_list.r",
     "varRefreshCmd": "cat(var_dic_list()) "
    }
   },
   "types_to_exclude": [
    "module",
    "function",
    "builtin_function_or_method",
    "instance",
    "_Feature"
   ],
   "window_display": false
  }
 },
 "nbformat": 4,
 "nbformat_minor": 4
}
