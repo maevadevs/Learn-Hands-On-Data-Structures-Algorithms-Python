{
 "cells": [
  {
   "attachments": {},
   "cell_type": "markdown",
   "metadata": {},
   "source": [
    "# Principles of Algorithm Design\n"
   ]
  },
  {
   "attachments": {},
   "cell_type": "markdown",
   "metadata": {},
   "source": [
    "---\n"
   ]
  },
  {
   "attachments": {},
   "cell_type": "markdown",
   "metadata": {},
   "source": [
    "**Table of contents**<a id='toc0_'></a>\n",
    "\n",
    "-   [Chapter Goals](#toc1_)\n",
    "-   [Introduction To Algorithm](#toc2_)\n",
    "    -   [Why Study Algorithm](#toc2_1_)\n",
    "    -   [Aspects For Solving a Problem](#toc2_2_)\n",
    "    -   [An Efficient Algorithm](#toc2_3_)\n",
    "    -   [Vocabularies of Algorithms](#toc2_4_)\n",
    "-   [Algorithm Design and Paradigms](#toc3_)\n",
    "    -   [Divide and Conquer](#toc3_1_)\n",
    "        -   [Examples of Divide and Conquer Algorithms](#toc3_1_1_)\n",
    "    -   [Greedy Algorithms](#toc3_2_)\n",
    "        -   [Examples of Greedy Algorithms](#toc3_2_1_)\n",
    "    -   [Dynamic Programming (Caching)](#toc3_3_)\n",
    "        -   [Examples of Dynamic Programming](#toc3_3_1_)\n",
    "-   [Recursion and Backtracking](#toc4_)\n",
    "    -   [Iteration vs Recursion](#toc4_1_)\n",
    "    -   [Backtracking](#toc4_2_)\n",
    "    -   [Long Multiplication - Divide and Conquer](#toc4_3_)\n",
    "        -   [Asymptotic Analysis / Time Complexity](#toc4_3_1_)\n",
    "        -   [`Karatsuba` Recursive Approach to Long Multiplication](#toc4_3_2_)\n",
    "    -   [Runtime Analysis](#toc4_4_)\n",
    "        -   [Example of Analysis: `mergesort`](#toc4_4_1_)\n",
    "        -   [Asymptotic Analysis](#toc4_4_2_)\n",
    "-   [Big O Notation](#toc5_)\n",
    "    -   [7 Common Growth Rates/Time Complexity Functions](#toc5_1_)\n",
    "    -   [Composing Complexity Classes](#toc5_2_)\n",
    "-   [Omega Notation $\\Omega$](#toc6_)\n",
    "-   [Theta Notation $\\Theta$](#toc7_)\n",
    "-   [Amortized Analysis](#toc8_)\n",
    "\n",
    "<!-- vscode-jupyter-toc-config\n",
    "\tnumbering=false\n",
    "\tanchor=true\n",
    "\tflat=false\n",
    "\tminLevel=2\n",
    "\tmaxLevel=6\n",
    "\t/vscode-jupyter-toc-config -->\n",
    "<!-- THIS CELL WILL BE REPLACED ON TOC UPDATE. DO NOT WRITE YOUR TEXT IN THIS CELL -->\n"
   ]
  },
  {
   "attachments": {},
   "cell_type": "markdown",
   "metadata": {},
   "source": [
    "---\n"
   ]
  },
  {
   "attachments": {},
   "cell_type": "markdown",
   "metadata": {},
   "source": [
    "Why study Algorithm Design?\n",
    "\n",
    "-   Algorithms are the foundation of all computing\n",
    "-   Algorithms are the logic that get translated into codes for implementation\n",
    "-   If algorithm was missing, modern technology is useless\n"
   ]
  },
  {
   "attachments": {},
   "cell_type": "markdown",
   "metadata": {},
   "source": [
    "## <a id='toc1_'></a>Chapter Goals [&#8593;](#toc0_)\n"
   ]
  },
  {
   "attachments": {},
   "cell_type": "markdown",
   "metadata": {},
   "source": [
    "-   An introduction to algorithms\n",
    "-   Recursion and backtracking\n",
    "-   Big-O notation\n"
   ]
  },
  {
   "attachments": {},
   "cell_type": "markdown",
   "metadata": {},
   "source": [
    "## <a id='toc2_'></a>Introduction To Algorithm [&#8593;](#toc0_)\n"
   ]
  },
  {
   "attachments": {},
   "cell_type": "markdown",
   "metadata": {},
   "source": [
    "-   **Algorithm - A sequential set of instructions to execute a particular task**\n",
    "    -   List of instructions\n",
    "    -   We can break a complex problem into smaller ones\n",
    "    -   Prepare simple steps to execute a big problem\n",
    "    -   For solving a specific problem\n",
    "-   Theoretical foundation of algorithm:\n",
    "    -   _The Turing machine_:\n",
    "        -   A mathematical model\n",
    "        -   Using a predefined set of rules, it translates a set of inputs into a set of outputs\n",
    "        -   From mechanical, to digital, to quantum\n",
    "        -   Regardless of the platform, algorithm plays an essential role\n",
    "-   Algorithms in practice:\n",
    "    -   Impact on technological innovations\n",
    "    -   E.g. Page Rank Search Algorithm of Google\n"
   ]
  },
  {
   "attachments": {},
   "cell_type": "markdown",
   "metadata": {},
   "source": [
    "### <a id='toc2_1_'></a>Why Study Algorithm [&#8593;](#toc0_)\n"
   ]
  },
  {
   "attachments": {},
   "cell_type": "markdown",
   "metadata": {},
   "source": [
    "-   Essential for computer science and intelligent systems\n",
    "-   Important in many other domains knowledge\n",
    "-   Play a role in technological innovation\n",
    "-   Improve problem-solving and analytical thinking\n",
    "    -   Train us to think very specifically about certain problems\n"
   ]
  },
  {
   "attachments": {},
   "cell_type": "markdown",
   "metadata": {},
   "source": [
    "### <a id='toc2_2_'></a>Aspects For Solving a Problem [&#8593;](#toc0_)\n"
   ]
  },
  {
   "attachments": {},
   "cell_type": "markdown",
   "metadata": {},
   "source": [
    "-   _Data Structure_ - An efficient mechanism to store, manage, and retrieve data\n",
    "-   _Algorithm_ - An efficient organization of logical steps with a finite set of instructions\n"
   ]
  },
  {
   "attachments": {},
   "cell_type": "markdown",
   "metadata": {},
   "source": [
    "### <a id='toc2_3_'></a>An Efficient Algorithm [&#8593;](#toc0_)\n"
   ]
  },
  {
   "attachments": {},
   "cell_type": "markdown",
   "metadata": {},
   "source": [
    "-   As specific instructions as possible\n",
    "-   Have each instruction properly defined\n",
    "-   No ambiguous instruction\n",
    "-   Be executable in a finite amount of time with a finite number of steps\n",
    "-   Have clear input and output to solve the problem\n",
    "-   Each instruction of the algorithm is important to solve the problem\n"
   ]
  },
  {
   "attachments": {},
   "cell_type": "markdown",
   "metadata": {},
   "source": [
    "### <a id='toc2_4_'></a>Vocabularies of Algorithms [&#8593;](#toc0_)\n"
   ]
  },
  {
   "attachments": {},
   "cell_type": "markdown",
   "metadata": {},
   "source": [
    "-   Instructions\n",
    "-   Conditions\n",
    "-   Iterations\n",
    "-   Operations\n",
    "-   Recursion\n",
    "    -   Similar to iterations but fundamentally different\n",
    "    -   **A recursive function calls itself, applying the same function to progressively smaller inputs**\n",
    "    -   **The input of any recursive step is the output of the previous recursive step**\n"
   ]
  },
  {
   "attachments": {},
   "cell_type": "markdown",
   "metadata": {},
   "source": [
    "## <a id='toc3_'></a>Algorithm Design and Paradigms [&#8593;](#toc0_)\n"
   ]
  },
  {
   "attachments": {},
   "cell_type": "markdown",
   "metadata": {},
   "source": [
    "-   There are 3 broad approaches to algorithm design:\n",
    "    -   **Divide and Conquer**\n",
    "    -   **Greedy Algorithms**\n",
    "    -   **Dynamic Programming**\n"
   ]
  },
  {
   "attachments": {},
   "cell_type": "markdown",
   "metadata": {},
   "source": [
    "### <a id='toc3_1_'></a>Divide and Conquer [&#8593;](#toc0_)\n"
   ]
  },
  {
   "attachments": {},
   "cell_type": "markdown",
   "metadata": {},
   "source": [
    "-   Arguably the most commonly used approach to algorithm design\n",
    "-   Breaking a larger problem into smaller and simple sub-problems\n",
    "-   Solving these sub-problems\n",
    "-   Combining the results to obtain a global optimal solution\n"
   ]
  },
  {
   "attachments": {},
   "cell_type": "markdown",
   "metadata": {},
   "source": [
    "#### <a id='toc3_1_1_'></a>Examples of Divide and Conquer Algorithms [&#8593;](#toc0_)\n"
   ]
  },
  {
   "attachments": {},
   "cell_type": "markdown",
   "metadata": {},
   "source": [
    "-   Binary Search\n",
    "-   Merge Sort\n",
    "-   Quick Sort\n",
    "-   Karatsuba algorithm for fast multiplication\n",
    "-   Strassen's matrix multiplication\n",
    "-   Closest pair of points\n"
   ]
  },
  {
   "attachments": {},
   "cell_type": "markdown",
   "metadata": {},
   "source": [
    "### <a id='toc3_2_'></a>Greedy Algorithms [&#8593;](#toc0_)\n"
   ]
  },
  {
   "attachments": {},
   "cell_type": "markdown",
   "metadata": {},
   "source": [
    "-   Generally for optimization and combinatorial problems\n",
    "-   Objective:\n",
    "    -   Obtain the best optimal solution from many possible solutions in each step\n",
    "    -   Try to get the local optimal solution which may eventually lead us to obtain the overall optimum solution\n"
   ]
  },
  {
   "attachments": {},
   "cell_type": "markdown",
   "metadata": {},
   "source": [
    "#### <a id='toc3_2_1_'></a>Examples of Greedy Algorithms [&#8593;](#toc0_)\n"
   ]
  },
  {
   "attachments": {},
   "cell_type": "markdown",
   "metadata": {},
   "source": [
    "-   Kruskal's minimum spanning tree\n",
    "-   Dijkstra's shortest path\n",
    "-   Knapsack problem\n",
    "-   Prim's minimal spanning tree algorithm\n",
    "-   Travelling salesman problem\n",
    "    -   Always choose the closest destination first\n",
    "    -   Finding the best solution to a local problem in the hope that this will lead to a global solution\n"
   ]
  },
  {
   "attachments": {},
   "cell_type": "markdown",
   "metadata": {},
   "source": [
    "### <a id='toc3_3_'></a>Dynamic Programming (Caching) [&#8593;](#toc0_)\n"
   ]
  },
  {
   "attachments": {},
   "cell_type": "markdown",
   "metadata": {},
   "source": [
    "-   Useful when the subproblems overlap\n",
    "-   Intermediate results are cached and can be used into subsequent operations\n",
    "-   Similar to divide-and-conquer, it uses recursion\n",
    "-   Allow us to compare results at different stages\n",
    "-   Often quicker to retrieve a previously calculated result from memory rather than having to recalculate it\n"
   ]
  },
  {
   "attachments": {},
   "cell_type": "markdown",
   "metadata": {},
   "source": [
    "#### <a id='toc3_3_1_'></a>Examples of Dynamic Programming [&#8593;](#toc0_)\n"
   ]
  },
  {
   "attachments": {},
   "cell_type": "markdown",
   "metadata": {},
   "source": [
    "-   _Matrix Chain Multiplication_ problem\n",
    "    -   Determine the best effective way to multiply the matrices when a sequence of matrices is given\n",
    "    -   Finds the order of multiplication that requires the minimum number of operations\n"
   ]
  },
  {
   "cell_type": "code",
   "execution_count": 1,
   "metadata": {},
   "outputs": [],
   "source": [
    "from sys import maxsize\n",
    "\n",
    "\n",
    "def MatrixChain(mat: list[int], i: int, j: int) -> int:\n",
    "    if i == j:\n",
    "        return 0\n",
    "\n",
    "    minimum_computations: int = maxsize\n",
    "    count: int\n",
    "\n",
    "    for k in range(i, j):\n",
    "        # Recursion\n",
    "        count = (\n",
    "            MatrixChain(mat, i, k)\n",
    "            + MatrixChain(mat, k + 1, j)\n",
    "            + (mat[i - 1] * mat[k] * mat[j])\n",
    "        )\n",
    "\n",
    "        if count < minimum_computations:\n",
    "            minimum_computations = count\n",
    "\n",
    "    return minimum_computations\n"
   ]
  },
  {
   "cell_type": "code",
   "execution_count": 2,
   "metadata": {},
   "outputs": [
    {
     "name": "stdout",
     "output_type": "stream",
     "text": [
      "Minimum multiplications ops are 72000\n"
     ]
    }
   ],
   "source": [
    "matrix_sizes: list[int] = [20, 30, 45, 50]\n",
    "\n",
    "print(\n",
    "    \"Minimum multiplications ops are\",\n",
    "    MatrixChain(matrix_sizes, 1, len(matrix_sizes) - 1),\n",
    ")\n"
   ]
  },
  {
   "attachments": {},
   "cell_type": "markdown",
   "metadata": {},
   "source": [
    "## <a id='toc4_'></a>Recursion and Backtracking [&#8593;](#toc0_)\n"
   ]
  },
  {
   "attachments": {},
   "cell_type": "markdown",
   "metadata": {},
   "source": [
    "-   Particularly useful for _Divide-and-Conquer_\n",
    "-   Can be difficult to understand exactly what is happening\n",
    "-   A recursive function could end up in an infinite loop\n",
    "-   Important for recursive functions to have:\n",
    "    -   **A Base case**: Recursion calls will stop when the base case is reached (exit strategy)\n",
    "    -   **Recursive cases**: Steps that eventually lead to the base case\n"
   ]
  },
  {
   "cell_type": "code",
   "execution_count": 3,
   "metadata": {},
   "outputs": [],
   "source": [
    "# Typical case for recursion: Factorial\n",
    "def factorial(n: int) -> int:\n",
    "    # Excluded cases: n < 0\n",
    "    if n < 0:\n",
    "        raise TypeError(\"Factorial can only be applied on positive intergers.\")\n",
    "\n",
    "    # Base case: n = 0\n",
    "    if n == 0:\n",
    "        return 1\n",
    "\n",
    "    # Recursive cases: n > 0\n",
    "    #   On each recursion, a copy of the method variables is stored in memory\n",
    "    #   Once the method returns it is removed from memory\n",
    "    return n * factorial(n - 1)\n"
   ]
  },
  {
   "cell_type": "code",
   "execution_count": 4,
   "metadata": {},
   "outputs": [
    {
     "data": {
      "text/plain": [
       "3628800"
      ]
     },
     "execution_count": 4,
     "metadata": {},
     "output_type": "execute_result"
    }
   ],
   "source": [
    "factorial(10)\n"
   ]
  },
  {
   "attachments": {},
   "cell_type": "markdown",
   "metadata": {},
   "source": [
    "### <a id='toc4_1_'></a>Iteration vs Recursion [&#8593;](#toc0_)\n"
   ]
  },
  {
   "attachments": {},
   "cell_type": "markdown",
   "metadata": {},
   "source": [
    "-   Both are well-suited to divide-and-conquer approaches\n",
    "    -   Iteration churns away until the problem is done with\n",
    "    -   Recursion breaks the problem down into smaller and smaller chunks and then combines the results\n",
    "-   Iteration is often easier to follow: Control stays local to a loop\n",
    "-   Recursion closely represent mathematical concepts such as factorial\n",
    "-   **Recursion is generally slower than iteration because it does require a memory stack**\n",
    "    -   **Recursive calls are stored in memory, iterations are not**\n",
    "    -   Trade-off between memory usage and processor cycle\n",
    "    -   Processor intensive (iteration) vs memory intensive (Recursion)\n"
   ]
  },
  {
   "attachments": {},
   "cell_type": "markdown",
   "metadata": {},
   "source": [
    "### <a id='toc4_2_'></a>Backtracking [&#8593;](#toc0_)\n"
   ]
  },
  {
   "attachments": {},
   "cell_type": "markdown",
   "metadata": {},
   "source": [
    "-   A particular form of recursion\n",
    "-   Particularly useful for types of problems such as traversing tree structures\n",
    "    -   Either a goal state or a dead-end is reached\n",
    "    -   If dead-end, backtrack to a previous node and traverse a different branch\n",
    "-   A _Divide-And-Conquer_ method for exhaustive searching\n",
    "-   Backtracking prunes branches that cannot give a result\n",
    "-   We are presented with a different set of options\n",
    "    -   Depending on the series of choices made, either a goal state or a dead end is reached\n",
    "    -   If dead end, we backtrack to a previous node and traverse a different branch\n"
   ]
  },
  {
   "attachments": {},
   "cell_type": "markdown",
   "metadata": {},
   "source": [
    "-   E.g. A recursive approach to generate **all** possible arrangements of a given string `st` of a given length `n`\n"
   ]
  },
  {
   "cell_type": "code",
   "execution_count": 5,
   "metadata": {},
   "outputs": [],
   "source": [
    "from typing import Any\n",
    "\n",
    "\n",
    "def bit_str(n: int, st: str) -> Any:\n",
    "    if n == 1:\n",
    "        return st\n",
    "    return [digit + bits for digit in bit_str(1, st) for bits in bit_str(n - 1, st)]\n"
   ]
  },
  {
   "cell_type": "code",
   "execution_count": 6,
   "metadata": {},
   "outputs": [
    {
     "name": "stdout",
     "output_type": "stream",
     "text": [
      "Count: 27\n",
      "['aaa', 'aab', 'aac', 'aba', 'abb', 'abc', 'aca', 'acb', 'acc', 'baa', 'bab', 'bac', 'bba', 'bbb', 'bbc', 'bca', 'bcb', 'bcc', 'caa', 'cab', 'cac', 'cba', 'cbb', 'cbc', 'cca', 'ccb', 'ccc']\n"
     ]
    }
   ],
   "source": [
    "test_str: str = \"abc\"\n",
    "len_test_str: int = len(test_str)\n",
    "\n",
    "res: list[str] = bit_str(len_test_str, test_str)\n",
    "print(f\"Count: {len(res)}\")\n",
    "print(res)\n"
   ]
  },
  {
   "attachments": {},
   "cell_type": "markdown",
   "metadata": {},
   "source": [
    "### <a id='toc4_3_'></a>Long Multiplication - Divide and Conquer [&#8593;](#toc0_)\n"
   ]
  },
  {
   "attachments": {},
   "cell_type": "markdown",
   "metadata": {},
   "source": [
    "-   Comparing recursion to other methods and understanding when to use it\n",
    "-   Long multiplication involves iterative multiplying and carry operations followed by a shifting and addition operation\n",
    "-   This is how we were taught to multiply large numbers in foundation schools\n",
    "-   Examine ways to measure how efficient this procedure\n",
    "-   Attempt to answer the question: Is this the most efficient procedure we can use for multiplying two large numbers together?\n",
    "-   We can generalize and say that an `n` digit number requires, approximately, `n^2` multiplication operations\n",
    "    -   **There is a relationship between the size of the input and the time of computation execution**\n",
    "\n",
    "<img src=\"../files/chap_03/long-multiplication.jpg\" width=50%>\n"
   ]
  },
  {
   "attachments": {},
   "cell_type": "markdown",
   "metadata": {},
   "source": [
    "#### <a id='toc4_3_1_'></a>Asymptotic Analysis / Time Complexity [&#8593;](#toc0_)\n"
   ]
  },
  {
   "attachments": {},
   "cell_type": "markdown",
   "metadata": {},
   "source": [
    "-   A way to understand the relationship between the time it takes to complete a certain computation and the size of the input to that computation\n",
    "-   What happens when the input, the number of digits `n` is very large?\n"
   ]
  },
  {
   "attachments": {},
   "cell_type": "markdown",
   "metadata": {},
   "source": [
    "#### <a id='toc4_3_2_'></a>`Karatsuba` Recursive Approach to Long Multiplication [&#8593;](#toc0_)\n"
   ]
  },
  {
   "attachments": {},
   "cell_type": "markdown",
   "metadata": {},
   "source": [
    "-   There are several algorithms for multiplying large numbers that require less operations\n",
    "-   1962: The Karatsuba Algorithm\n",
    "-   Divide and Conquer Approach\n",
    "    -   Instead of iteratively multiplying single-digit numbers\n",
    "    -   Recursively carries out multiplication operations on progressively smaller inputs\n",
    "-   First step in building a recursive algorithm: Decompose a large number into several smaller numbers\n",
    "    -   Most natural way to do this: Simply split the number into two halves\n",
    "    -   Example: `2345` becomes `23` and `45`\n",
    "-   We can get a more generalized format for the split as:\n",
    "    -   **For `x` and `y` as the 1st half and the 2nd half, and `n` the number of digits, and `m` a positive number less than `n`:**\n"
   ]
  },
  {
   "attachments": {},
   "cell_type": "markdown",
   "metadata": {},
   "source": [
    "\\begin{gather*}\n",
    "x = 10^{m}a+b\\\\\n",
    "y = 10^{m}c+d\n",
    "\\end{gather*}\n",
    "\n",
    "So now, we can re-write our multiplication problem as follow:\n",
    "\n",
    "\\begin{gather*}\n",
    "x \\times y = (10^{m}a+b)\\cdot(10^{m}c+d) \\\\\n",
    "x \\times y = 10^{2m}ac + 10^m(ad + bc) + bd \\\\\n",
    "x \\times y = 10^{2m}z_2 + 10^mz_1 + z_0\n",
    "\\end{gather*}\n"
   ]
  },
  {
   "attachments": {},
   "cell_type": "markdown",
   "metadata": {},
   "source": [
    "-   It is possible to recursively apply the multiplication operation as $ac$, $ad$, $bc$, and $bd$ involve multiplication themselves\n",
    "-   This algorithm so far consists of four recursive multiplication steps and it is not immediately clear if it will be faster than the classic long multiplication approach\n",
    "-   We really only need to know $z_2$, $z_1$, and $z_0$ to solve the equation\n",
    "-   We can make the following observation:\n"
   ]
  },
  {
   "attachments": {},
   "cell_type": "markdown",
   "metadata": {},
   "source": [
    "\\begin{equation*}\n",
    "(a+b)\\cdot(c+d)=ac+bd+ad+bc\n",
    "\\end{equation*}\n"
   ]
  },
  {
   "attachments": {},
   "cell_type": "markdown",
   "metadata": {},
   "source": [
    "-   If we subtract `ac` and `bd`, we get `ad + bc`\n"
   ]
  },
  {
   "attachments": {},
   "cell_type": "markdown",
   "metadata": {},
   "source": [
    "\\begin{equation*}\n",
    "ac+bd+ad+bc-ac-bd=bc+ad=ad+bc=z_1\n",
    "\\end{equation*}\n"
   ]
  },
  {
   "attachments": {},
   "cell_type": "markdown",
   "metadata": {},
   "source": [
    "-   So we can actualy find $z_1$ without needing to find $ad$ and $bc$ separately\n",
    "-   So the overall recipe becomes:\n",
    "    -   Find $z_2$: Recursively calculate $ac$\n",
    "    -   Find $z_0$: Recursively calculate $bd$\n",
    "    -   Find $z_1$: Recursively calculate $(a + b)\\cdot(c + d)$ and subtract $ac$ and $bd$\n"
   ]
  },
  {
   "cell_type": "code",
   "execution_count": 7,
   "metadata": {},
   "outputs": [],
   "source": [
    "from math import log10, ceil\n",
    "\n",
    "\n",
    "def karatsuba(x: int, y: int) -> int:\n",
    "    # The base cases for recursion:\n",
    "    # x or y is a single digit => Plain multiplication\n",
    "    if x < 10 or y < 10:\n",
    "        return x * y\n",
    "\n",
    "    # sets n: the number of digits in the highest input number\n",
    "    n: int = max(int(log10(x) + 1), int(log10(y) + 1))\n",
    "\n",
    "    # roundsup n/2\n",
    "    n_2: int = int(ceil(n / 2.0))\n",
    "\n",
    "    # adds 1 if n is uneven\n",
    "    n = n if n % 2 == 0 else n + 1\n",
    "\n",
    "    # splits the input numbers\n",
    "    a: int\n",
    "    b: int\n",
    "    c: int\n",
    "    d: int\n",
    "    a, b = divmod(x, 10**n_2)\n",
    "    c, d = divmod(y, 10**n_2)\n",
    "\n",
    "    # applies the three recursive steps\n",
    "    ac: int\n",
    "    bd: int\n",
    "    ad_bc: int\n",
    "    ac = karatsuba(a, c)\n",
    "    bd = karatsuba(b, d)\n",
    "    ad_bc = karatsuba((a + b), (c + d)) - ac - bd\n",
    "\n",
    "    # performs the multiplication\n",
    "    return ((10**n) * ac) + bd + ((10**n_2) * (ad_bc))\n"
   ]
  },
  {
   "cell_type": "code",
   "execution_count": 8,
   "metadata": {},
   "outputs": [
    {
     "data": {
      "text/plain": [
       "426764085375706047"
      ]
     },
     "execution_count": 8,
     "metadata": {},
     "output_type": "execute_result"
    }
   ],
   "source": [
    "karatsuba(123456789, 3456789123)\n"
   ]
  },
  {
   "attachments": {},
   "cell_type": "markdown",
   "metadata": {},
   "source": [
    "### <a id='toc4_4_'></a>Runtime Analysis [&#8593;](#toc0_)\n"
   ]
  },
  {
   "attachments": {},
   "cell_type": "markdown",
   "metadata": {},
   "source": [
    "-   An algorithm's performance is measured by:\n",
    "    -   Size of input data ($n$)\n",
    "    -   _Time Complexity_: Time used by the algorithm ($t$)\n",
    "    -   _Space Complexity_: Memory space used by the algorithm ($m$)\n",
    "-   Time required is measured by the key operations to be performed by the algorithm (steps)\n",
    "    -   Proportionate to the input size ($n$)\n",
    "    -   _As the input size increase, the time also increase_\n",
    "    -   To compute time complexity, input size is important\n",
    "    -   Also depends on the key operations to be executed\n",
    "        -   The key operation for a sorting algorithm is the comparison operator\n",
    "        -   More key operations = Longer runtime\n",
    "-   Space required = storage to store the variables, constants, and instructions during the execution of the program\n",
    "    -   Can change dynamically during the execution\n",
    "    -   Dynamic memory allocation\n",
    "    -   Memory stacks\n"
   ]
  },
  {
   "attachments": {},
   "cell_type": "markdown",
   "metadata": {},
   "source": [
    "-   **We cannot simply take the total runtime of the algorithm**\n",
    "    -   The performance of the algorithm is also dependant on the running hardware\n",
    "    -   **A platform-independent way to gauge an algorithm's runtime is to count the number of operations involved**\n",
    "        -   However, there is no definitive way to quantify an operation\n",
    "        -   Dependent on the programming language, the coding style, and how we decide to count operations\n",
    "        -   We can use this if we take into account that there is a math relationship between $n$ and $t$\n"
   ]
  },
  {
   "attachments": {},
   "cell_type": "markdown",
   "metadata": {},
   "source": [
    "-   **3 things that characterize an algorithm's runtime performance**:\n",
    "    -   _Worst-case complexity_: Upper-bound complexity. Maximum running time.\n",
    "    -   _Best-case complexity_: Lower-bound complexity. Minimum running time.\n",
    "    -   _Average-case complexity_: Average running time.\n",
    "-   _Worst-case_: Guarantee to not exceed this\n",
    "    -   Most useful measurement\n",
    "-   Also, we only focus on the highest-order terms\n",
    "    -   At high values of `n`, the operations that increase the fastest as we increase `n` will dominate\n"
   ]
  },
  {
   "attachments": {},
   "cell_type": "markdown",
   "metadata": {},
   "source": [
    "#### <a id='toc4_4_1_'></a>Example of Analysis: `mergesort` [&#8593;](#toc0_)\n"
   ]
  },
  {
   "attachments": {},
   "cell_type": "markdown",
   "metadata": {},
   "source": [
    "-   A recursive divide-and-conquer algorithm\n",
    "-   Developed over 60 years ago\n",
    "-   Widely used in most popular sorting libraries\n",
    "-   Simple and efficient\n",
    "-   3 steps:\n",
    "    1. Recursively sort the left side\n",
    "    1. Recursively sort the right side\n",
    "    1. Merge 2 sorted sub-arrays into one\n"
   ]
  },
  {
   "cell_type": "code",
   "execution_count": 9,
   "metadata": {},
   "outputs": [],
   "source": [
    "from typing import Any\n",
    "\n",
    "\n",
    "def merge_sort(arr: list[Any]) -> list[Any]:\n",
    "    i: int\n",
    "    j: int\n",
    "    k: int\n",
    "    mid: int\n",
    "    left: list[Any]\n",
    "    right: list[Any]\n",
    "\n",
    "    # Base case: if the input array is one or zero just return\n",
    "    if len(arr) <= 1:\n",
    "        return arr\n",
    "\n",
    "    # split input array\n",
    "    print(\"splitting\", arr)\n",
    "    mid = len(arr) // 2\n",
    "    left = arr[:mid]\n",
    "    right = arr[mid:]\n",
    "\n",
    "    # recursive calls to merge_sort for left and right subarrays\n",
    "    merge_sort(left)\n",
    "    merge_sort(right)\n",
    "\n",
    "    # initalizes pointers for left(i) right(j) and output array (k)\n",
    "    # 3 initalization operations\n",
    "    i = j = k = 0\n",
    "    # Traverse and merges the sorted arrays\n",
    "    while i < len(left) and j < len(right):\n",
    "        if left[i] < right[j]:  # if left < right comparison operation\n",
    "            # if left < right Assignment operation\n",
    "            arr[k] = left[i]\n",
    "            i += 1\n",
    "        else:  # if right <= left assignment\n",
    "            arr[k] = right[j]\n",
    "            j += 1\n",
    "        k += 1\n",
    "\n",
    "    # Checking if any element was left\n",
    "    while i < len(left):\n",
    "        # Assignment operation\n",
    "        arr[k] = left[i]\n",
    "        i += 1\n",
    "        k += 1\n",
    "\n",
    "    while j < len(right):\n",
    "        # Assignment operation\n",
    "        arr[k] = right[j]\n",
    "        j += 1\n",
    "        k += 1\n",
    "\n",
    "    print(\"merging\", arr)\n",
    "    return arr\n"
   ]
  },
  {
   "cell_type": "code",
   "execution_count": 10,
   "metadata": {},
   "outputs": [
    {
     "name": "stdout",
     "output_type": "stream",
     "text": [
      "splitting [56, 43, 78, 125, 9, 10, 11, -6, -56, -100, 1000]\n",
      "splitting [56, 43, 78, 125, 9]\n",
      "splitting [56, 43]\n",
      "merging [43, 56]\n",
      "splitting [78, 125, 9]\n",
      "splitting [125, 9]\n",
      "merging [9, 125]\n",
      "merging [9, 78, 125]\n",
      "merging [9, 43, 56, 78, 125]\n",
      "splitting [10, 11, -6, -56, -100, 1000]\n",
      "splitting [10, 11, -6]\n",
      "splitting [11, -6]\n",
      "merging [-6, 11]\n",
      "merging [-6, 10, 11]\n",
      "splitting [-56, -100, 1000]\n",
      "splitting [-100, 1000]\n",
      "merging [-100, 1000]\n",
      "merging [-100, -56, 1000]\n",
      "merging [-100, -56, -6, 10, 11, 1000]\n",
      "merging [-100, -56, -6, 9, 10, 11, 43, 56, 78, 125, 1000]\n"
     ]
    },
    {
     "data": {
      "text/plain": [
       "[-100, -56, -6, 9, 10, 11, 43, 56, 78, 125, 1000]"
      ]
     },
     "execution_count": 10,
     "metadata": {},
     "output_type": "execute_result"
    }
   ],
   "source": [
    "merge_sort([56, 43, 78, 125, 9, 10, 11, -6, -56, -100, 1000])\n"
   ]
  },
  {
   "attachments": {},
   "cell_type": "markdown",
   "metadata": {},
   "source": [
    "<img src=\"../files/chap_03/merge-sort-tree.jpg\" width=50%>\n",
    "\n",
    "-   Ultimately, we want to know the total time it takes for the algorithm to complete relative to the size of $n$\n",
    "-   $n$: The length of the original array at level 0 (at initial input)\n",
    "-   Each invocation of `merge_sort()` creates 2 recursive calls\n",
    "-   We can calculate the amount of work and operations at each level of the tree\n",
    "-   **Number of recursive level = How many times to divide $n$ by 2 until reaching at most one: $log_2$**\n",
    "-   The total number of level is $log_2(n) + 1$ because we are counting the initial recursive as level 0\n"
   ]
  },
  {
   "attachments": {},
   "cell_type": "markdown",
   "metadata": {},
   "source": [
    "-   Advantage of using recursion tree to analyze an algorithm:\n",
    "    -   **We can calculate the work done at each level of the recursion**\n",
    "    -   **Work is simply the total number of operations, related to the size of the input**\n",
    "    -   Measurement and comparisons should be done in a platform-independent way\n",
    "    -   Since each invocation of merge sort is making two recursive calls, the number of calls is doubled at each level\n",
    "        -   Each call is working on an input that is half the parent's\n",
    "    -   There are $4m + 3$ operations for each recursion of merge sort\n",
    "        -   Since $m$ must be at least 1, the upper bound is $7m$\n",
    "        -   We have not counted the increment operations or the housekeeping operations\n",
    "        -   We are more concerned with the rate of growth of the runtime with respect to $n$ at high values\n",
    "    -   **The key fact that make this manageable is that as the number of recursion double, the size of the problem is halved. These 2 opposing forces cancels-out nicely.**\n",
    "    -   `The maximum number of operations at each level = Number of subproblems * Number of operations at each subproblem`\n",
    "\n",
    "\\begin{equation*}\n",
    "2^j \\times 7(\\frac{n}{2^j}) = 7n\n",
    "\\end{equation*}\n",
    "\n",
    "-   So the number of operations at each level is independent of the level\n",
    "-   The complete number of operations for a complete merge sort is:\n",
    "\n",
    "\\begin{equation*}\n",
    "7(nlog_2n + 1) = 7nlog_2n + 7\n",
    "\\end{equation*}\n",
    "\n",
    "-   **Key-Points:**\n",
    "    -   **There is a logarithmic component to the relationship between the size of the input and the total running time**\n",
    "    -   **The distinguishing feature of log functions is that they flatten-out very quick.**\n",
    "\n",
    "<img src=\"../files/chap_03/log-growth-vs-linear-growth.jpg\" width=50%>\n"
   ]
  },
  {
   "cell_type": "code",
   "execution_count": 11,
   "metadata": {},
   "outputs": [
    {
     "data": {
      "image/png": "[encoded data removed]",
      "text/plain": [
       "<Figure size 640x480 with 1 Axes>"
      ]
     },
     "metadata": {},
     "output_type": "display_data"
    }
   ],
   "source": [
    "from matplotlib import pyplot as plt\n",
    "import math\n",
    "\n",
    "x: list[int] = list(range(1, 100))\n",
    "\n",
    "plt.plot(x, [y**2 for y in x])\n",
    "plt.plot(x, [(7 * y) * math.log(y, 2) for y in x])\n",
    "plt.plot(x, [(5 * y) * math.log(y, 2) for y in x])\n",
    "plt.show()\n"
   ]
  },
  {
   "attachments": {},
   "cell_type": "markdown",
   "metadata": {},
   "source": [
    "-   At inputs starting from 40, the log functions are winning\n",
    "-   What we are more interested is a way to characterize growth rate\n",
    "    -   Not the absolute value, but how much the value change as we increase $n$\n",
    "    -   The lower curves have similar growth rate compared to the top one ($y^2$)\n",
    "    -   $7y\\cdot log$ and $5y\\cdot log$ have the same **Complexity Class**\n"
   ]
  },
  {
   "attachments": {},
   "cell_type": "markdown",
   "metadata": {},
   "source": [
    "#### <a id='toc4_4_2_'></a>Asymptotic Analysis [&#8593;](#toc0_)\n"
   ]
  },
  {
   "attachments": {},
   "cell_type": "markdown",
   "metadata": {},
   "source": [
    "-   Computation of the running time of an algorithm\n",
    "-   We could run two algorithms on the same inputs to see which one is better\n",
    "-   But it is possible that for a specific input, one algorithm would preform better or worse than another\n",
    "-   **Here, we compare algorithms with respect to input size than actual runtime**\n",
    "    -   We measure how the time taken increase with respect to more inputs\n"
   ]
  },
  {
   "cell_type": "code",
   "execution_count": 12,
   "metadata": {},
   "outputs": [],
   "source": [
    "from typing import Any\n",
    "\n",
    "\n",
    "# Linear search program\n",
    "#   To search an element one at a time\n",
    "#   Best-Case: O(1)\n",
    "#   Worst-Case: Θ(n)\n",
    "def linearsearch(array: list[Any], el: Any) -> int | None:\n",
    "    for i in range(len(array)):\n",
    "        if array[i] == el:\n",
    "            return i\n",
    "    return None\n"
   ]
  },
  {
   "cell_type": "code",
   "execution_count": 13,
   "metadata": {},
   "outputs": [
    {
     "name": "stdout",
     "output_type": "stream",
     "text": [
      "Element '8' was found at index 5\n"
     ]
    }
   ],
   "source": [
    "search_arr: list[int] = [4, 6, 2, 7, 4, 8, 9, -1, 54, -7]\n",
    "el: int = 8\n",
    "pos: int | None = linearsearch(search_arr, el)\n",
    "print(f\"Element '{el}' was found at index {pos}\")\n"
   ]
  },
  {
   "attachments": {},
   "cell_type": "markdown",
   "metadata": {},
   "source": [
    "-   $n$: The length of the array\n",
    "-   $T(n)$: Total number of key operations required\n",
    "    -   **The key operation in this search is the comparison**\n",
    "-   **Worst-Case Analysis**: Upper-bound. Going through every single element of the list\n",
    "\n",
    "$$\n",
    "O(n)\n",
    "$$\n",
    "\n",
    "-   **Average-Case Analysis**: We consider all the possible cases where the element can be found in the list, and then, we compute the average running time complexity.\n",
    "\n",
    "$$\n",
    "AverageCaseComplexity = \\frac{1 + 2 + 3 ... n}{n} = \\frac{n (n + 1)}{2}\n",
    "$$\n",
    "\n",
    "-   **Best-Case Analysis**: Lower-bound\n",
    "\n",
    "$$\n",
    "\\theta(1)\n",
    "$$\n",
    "\n",
    "-   **Generally, we use the _Worst-Case Analysis_ to analyze an algorithm**\n",
    "-   Best-Case analysis is the least important\n",
    "-   The computation of Average-Case analysis can be difficult\n",
    "    -   We need to know the upper and lower bounds\n",
    "-   **To use Asymptotic Analysis, we simply create 2 expressions: for best case and worst case**\n"
   ]
  },
  {
   "attachments": {},
   "cell_type": "markdown",
   "metadata": {},
   "source": [
    "## <a id='toc5_'></a>Big O Notation [&#8593;](#toc0_)\n"
   ]
  },
  {
   "attachments": {},
   "cell_type": "markdown",
   "metadata": {},
   "source": [
    "-   **'O' stands for _Order_**: The rates of growth are defined as _order_ of a function\n",
    "-   Describes the tight upper-bound of an algorithm\n",
    "-   Measures the worst-case running time complexity\n",
    "-   The maximum time that can be taken by the algorithm\n",
    "\n",
    "\\begin{equation*}\n",
    "T(n) = O(F(n))\n",
    "\\end{equation*}\n",
    "\n",
    "**iff there exist a constant $n_0$ and $c$ such that:**\n",
    "\n",
    "\\begin{equation*}\n",
    "T(n) <= c(F(n))\n",
    "\\end{equation*}\n",
    "\n",
    "**for all $n >= n_0$**\n"
   ]
  },
  {
   "attachments": {},
   "cell_type": "markdown",
   "metadata": {},
   "source": [
    "-   The objective is to find the smallest rate of growth that is less than or equal to $f(n)$\n",
    "-   We only care what happens at higher values of $n$\n",
    "-   The variable $n_0$ represents the threshold below which the rate of growth is not important\n",
    "-   $f(n)$ could represent any functions that have same or smaller rate of growth than $f(n)$\n",
    "    -   $O(n^2)$ includes $O(n)$, $O(log_n)$...\n"
   ]
  },
  {
   "attachments": {},
   "cell_type": "markdown",
   "metadata": {},
   "source": [
    "### <a id='toc5_1_'></a>7 Common Growth Rates/Time Complexity Functions [&#8593;](#toc0_)\n"
   ]
  },
  {
   "attachments": {},
   "cell_type": "markdown",
   "metadata": {},
   "source": [
    "| Complexity Class | Name                   | Example Operations                                     |\n",
    "| :--------------- | :--------------------- | :----------------------------------------------------- |\n",
    "| $O(1)$           | **Constant**           | `append`, `get_item`, `set_item`                       |\n",
    "| $O(log(n))$      | **Logarithmic**        | Find element in a sorted array with divide-and-conquer |\n",
    "| $O(n)$           | **Linear**             | `copy`, `insert`, `delete`, `iteration`                |\n",
    "| $O(nlog(n))$     | **Linear-Logarithmic** | Sort a list with divide-and-conquer                    |\n",
    "| $O(n^2)$         | **Quadratic**          | Nested loops, Shortest path between 2 nodes            |\n",
    "| $O(n^3)$         | **Cubic**              | Matrix Multiplication                                  |\n",
    "| $O(2^n)$         | **Exponential**        | Towers of Hanoi, Backtracking                          |\n"
   ]
  },
  {
   "attachments": {},
   "cell_type": "markdown",
   "metadata": {},
   "source": [
    "### <a id='toc5_2_'></a>Composing Complexity Classes [&#8593;](#toc0_)\n"
   ]
  },
  {
   "attachments": {},
   "cell_type": "markdown",
   "metadata": {},
   "source": [
    "-   **We can combine the complexity classes of simple operations to find the complexity class of more complex, combined operations**\n",
    "-   To understand the Time Complexity of executing several operations\n",
    "-   **For Sequential Operations, we can simply add them**\n",
    "    -   Add an item to a list: $O(n)$\n",
    "    -   Sorting the list: $O(nlogn)$\n",
    "    -   Total Complexity: $O(n + nlogn)$\n",
    "    -   We are only interested in the higher order so: $O(nlogn)$\n",
    "-   **For repeated operations (loops), we multiply by the number of times the operation is carried out**\n",
    "    -   Operation: $O(f(n))$\n",
    "    -   Repetition: $O(n)$\n",
    "    -   Total Complexity: $O(f(n)) \\times O(n) = O(nf(n))$\n"
   ]
  },
  {
   "attachments": {},
   "cell_type": "markdown",
   "metadata": {},
   "source": [
    "-   Example: Suppose $f(n)$ has a time complexity of $O(n^2)$ and is carried out $n$ times in a loop\n",
    "\n",
    "```python\n",
    "for i in range(n):\n",
    "    f(i)\n",
    "```\n",
    "\n",
    "-   The total time complexity of this op is:\n",
    "\n",
    "\\begin{equation*}\n",
    "O(n^2) \\times O(n) = O(n^2 \\times n) = O(n^3)\n",
    "\\end{equation*}\n",
    "\n",
    "-   A single nested loop will run $O(n^2)$ if both loop run $n$ times: $O(n) \\times O(n)$\n",
    "\n",
    "```python\n",
    "for i in range(0, n): # O(n)\n",
    "    for j in range(0, n): # O(n)\n",
    "        # statements\n",
    "```\n"
   ]
  },
  {
   "attachments": {},
   "cell_type": "markdown",
   "metadata": {},
   "source": [
    "-   **For consecutive statements within nested loops, we add the time complexities of each statement and multiply by the number of times the statement executed**\n",
    "\n",
    "```python\n",
    "n = 500 # O(1) = c_0\n",
    "\n",
    "for i in range(0, n):\n",
    "    print(i) # O(1) * n = c1 * n\n",
    "\n",
    "for i in range(0, n):\n",
    "    for j in range(0, n):\n",
    "        print(j) # O(1) * n * n = c2 * n**2\n",
    "```\n",
    "\n",
    "-   So the total complexity is: $O(c_0 + c_1 \\cdot n \\times c2 \\cdot n^2)$ thus $O(n^2)$\n"
   ]
  },
  {
   "attachments": {},
   "cell_type": "markdown",
   "metadata": {},
   "source": [
    "-   **$O$ is the most-used notation for complexity**\n",
    "-   However, we also have $\\Omega$ and $\\Theta$\n"
   ]
  },
  {
   "attachments": {},
   "cell_type": "markdown",
   "metadata": {},
   "source": [
    "## <a id='toc6_'></a>Omega Notation $\\Omega$ [&#8593;](#toc0_)\n"
   ]
  },
  {
   "attachments": {},
   "cell_type": "markdown",
   "metadata": {},
   "source": [
    "-   Describes the tight lower-bound of an algorithm\n",
    "-   Measures the best-case running time complexity\n",
    "-   The minimum time that can be taken by the algorithm\n",
    "\n",
    "\\begin{equation*}\n",
    "T(n) = Ω(F(n))\n",
    "\\end{equation*}\n",
    "\n",
    "**iff there exist a constant $n_0$ and $c$ such that:**\n",
    "\n",
    "\\begin{equation*}\n",
    "0 <= c(F(n)) <= T(n)\n",
    "\\end{equation*}\n",
    "\n",
    "**for all $n >= n_0$**\n"
   ]
  },
  {
   "attachments": {},
   "cell_type": "markdown",
   "metadata": {},
   "source": [
    "-   $\\Omega(1)$ is the most popular\n",
    "    -   At the very least, an algorithm will required to execute the key operation at least once\n",
    "-   Usually, $\\Omega(F(n)) = c$ where $c$ is a constant\n"
   ]
  },
  {
   "attachments": {},
   "cell_type": "markdown",
   "metadata": {},
   "source": [
    "## <a id='toc7_'></a>Theta Notation $\\Theta$ [&#8593;](#toc0_)\n"
   ]
  },
  {
   "attachments": {},
   "cell_type": "markdown",
   "metadata": {},
   "source": [
    "-   A combination of $O$ and $\\Omega$ when they are the same\n",
    "\n",
    "\\begin{equation*}\n",
    "T(n) = Θ(F(n))\n",
    "\\end{equation*}\n",
    "\n",
    "**iff there exist a constant $n_0$, $c_1$, and $c_2$ such that:**\n",
    "\n",
    "\\begin{equation*}\n",
    "0 <= c_1(F(n)) <= T(n) <= c_2(F(n))\n",
    "\\end{equation*}\n",
    "\n",
    "**for all $n >= n_0$**\n"
   ]
  },
  {
   "attachments": {},
   "cell_type": "markdown",
   "metadata": {},
   "source": [
    "-   **Although $\\Omega$ and $\\Theta$ are required to completely describe a growth rate, usually $O$ is the one used the most**\n",
    "    -   **$O$ is the most used in practice**\n"
   ]
  },
  {
   "attachments": {},
   "cell_type": "markdown",
   "metadata": {},
   "source": [
    "## <a id='toc8_'></a>Amortized Analysis [&#8593;](#toc0_)\n"
   ]
  },
  {
   "attachments": {},
   "cell_type": "markdown",
   "metadata": {},
   "source": [
    "-   Often, we are more interested in the average running time of sequences of operations\n",
    "    -   We make no assumptions regarding the data distribution of input values\n",
    "    -   But we take into account the state change of data structures\n",
    "    -   E.g. If a list is sorted, subsequent find operations would be faster\n",
    "-   **We analyze sequences of operations, rather than simply aggregating single operations**\n",
    "-   Describes an upper bound on the runtime of the algorithm\n",
    "    -   Impose an additional cost for each operation\n",
    "    -   But cheaper than the initial expensive operation\n",
    "-   When we have a lot of types of operations, Worst-Case analysis can be too pessimistic\n",
    "    -   E.g. _We should take into account that a sorted list is easier to search_\n"
   ]
  },
  {
   "attachments": {},
   "cell_type": "markdown",
   "metadata": {},
   "source": [
    "-   There are 2 other common approaches to algorithm analysis:\n",
    "    -   **Average-case Analysis**\n",
    "        -   Find the average running time\n",
    "        -   Based on some assumption about the relative frequencies of input values\n",
    "        -   This may involve statistics and probability theories\n",
    "    -   **Benchmarking**\n",
    "        -   Having an agreed set of typical inputs that are used to measure performance\n",
    "        -   Try to find ways to improve performance by fine-tuning to a very specific application setting\n"
   ]
  },
  {
   "attachments": {},
   "cell_type": "markdown",
   "metadata": {},
   "source": [
    "-   These techniques rely on domain knowledge\n",
    "    -   Need to know the typical or expected datasets\n",
    "-   An example of benchmarking is measuring the runtime of a program using the `timeit` function\n",
    "    -   Simply timing how long the algorithm takes to complete given various input sizes\n",
    "    -   Dependent on the hardware that it is run on\n",
    "    -   The absolute time values will differ between hardware (and software) platforms\n",
    "    -   However, their relative growth will still be bound by the time complexity of the algorithm\n"
   ]
  },
  {
   "cell_type": "code",
   "execution_count": 14,
   "metadata": {},
   "outputs": [],
   "source": [
    "# Function to Benchmark: O(n^2)\n",
    "def nest(n: int) -> None:\n",
    "    for i in range(n):\n",
    "        for j in range(n):\n",
    "            i + j\n"
   ]
  },
  {
   "cell_type": "code",
   "execution_count": 15,
   "metadata": {},
   "outputs": [],
   "source": [
    "import timeit\n",
    "\n",
    "\n",
    "# Benchmarking the Function\n",
    "def test(n: int) -> list[float]:\n",
    "    ls: list[float] = []\n",
    "    t: float\n",
    "    for n in range(n):\n",
    "        t = timeit.timeit(\n",
    "            \"nest(\" + str(n) + \")\", setup=\"from __main__ import nest\", number=1\n",
    "        )\n",
    "        ls.append(t)\n",
    "    return ls\n"
   ]
  },
  {
   "cell_type": "code",
   "execution_count": 16,
   "metadata": {},
   "outputs": [
    {
     "data": {
      "image/png": "[encoded data removed]",
      "text/plain": [
       "<Figure size 640x480 with 1 Axes>"
      ]
     },
     "metadata": {},
     "output_type": "display_data"
    }
   ],
   "source": [
    "import matplotlib.pyplot as plt\n",
    "\n",
    "# Plotting the result of the benchmarking\n",
    "n: int = 1000\n",
    "plt.plot(test(n))\n",
    "plt.plot([x * x / 10000000 for x in range(n)])\n",
    "# n^2 for comparison\n",
    "plt.show()\n"
   ]
  },
  {
   "attachments": {},
   "cell_type": "markdown",
   "metadata": {},
   "source": [
    "-   This represent **both the performance of the algorithm as well as the behavior of the underlying hardware**\n",
    "    -   A faster processor will result in faster runtime\n",
    "    -   Performance will be affected by other running processes, memory constraints, clock speed...\n",
    "    -   A good example of benchmarking is by the _Benchmark Game_ (https://benchmarksgame-team.pages.debian.net/benchmarksgame/)\n"
   ]
  }
 ],
 "metadata": {
  "hide_input": false,
  "kernelspec": {
   "display_name": "Python 3 (ipykernel)",
   "language": "python",
   "name": "python3"
  },
  "language_info": {
   "codemirror_mode": {
    "name": "ipython",
    "version": 3
   },
   "file_extension": ".py",
   "mimetype": "text/x-python",
   "name": "python",
   "nbconvert_exporter": "python",
   "pygments_lexer": "ipython3",
   "version": "3.11.3"
  },
  "toc": {
   "base_numbering": 1,
   "nav_menu": {},
   "number_sections": true,
   "sideBar": true,
   "skip_h1_title": true,
   "title_cell": "Table of Contents",
   "title_sidebar": "Contents",
   "toc_cell": true,
   "toc_position": {
    "height": "calc(100% - 180px)",
    "left": "10px",
    "top": "150px",
    "width": "256px"
   },
   "toc_section_display": true,
   "toc_window_display": true
  },
  "varInspector": {
   "cols": {
    "lenName": 16,
    "lenType": 16,
    "lenVar": 40
   },
   "kernels_config": {
    "python": {
     "delete_cmd_postfix": "",
     "delete_cmd_prefix": "del ",
     "library": "var_list.py",
     "varRefreshCmd": "print(var_dic_list())"
    },
    "r": {
     "delete_cmd_postfix": ") ",
     "delete_cmd_prefix": "rm(",
     "library": "var_list.r",
     "varRefreshCmd": "cat(var_dic_list()) "
    }
   },
   "types_to_exclude": [
    "module",
    "function",
    "builtin_function_or_method",
    "instance",
    "_Feature"
   ],
   "window_display": false
  }
 },
 "nbformat": 4,
 "nbformat_minor": 4
}
